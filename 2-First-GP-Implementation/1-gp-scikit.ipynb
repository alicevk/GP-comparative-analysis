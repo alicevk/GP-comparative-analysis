{
  "cells": [
    {
      "cell_type": "markdown",
      "metadata": {
        "id": "yWNN-nxwssEP"
      },
      "source": [
        "# GP Initial Implementation: Scikit-Learn"
      ]
    },
    {
      "cell_type": "code",
      "execution_count": 11,
      "metadata": {
        "id": "Ji-qo0b1ssER"
      },
      "outputs": [],
      "source": [
        "import pandas as pd\n",
        "import seaborn as sns\n",
        "import matplotlib.pyplot as plt\n",
        "import numpy as np\n",
        "\n",
        "# Fetch dataset from UCI Repository\n",
        "from ucimlrepo import fetch_ucirepo\n",
        "heart_disease = fetch_ucirepo(id=45)\n",
        "df = heart_disease.data.original"
      ]
    },
    {
      "cell_type": "code",
      "execution_count": 12,
      "metadata": {
        "id": "xHWiY8zqyOVa"
      },
      "outputs": [],
      "source": [
        "# Drop missing values\n",
        "df = df.dropna()\n",
        "df = df.reset_index(drop=True)\n",
        "\n",
        "# Binarize data\n",
        "df.loc[df['num'] != 0, 'num'] = 1"
      ]
    },
    {
      "cell_type": "code",
      "execution_count": 13,
      "metadata": {},
      "outputs": [],
      "source": [
        "# Define features and target vectors\n",
        "X = df.iloc[:,:-1].values\n",
        "y = df['num'].values"
      ]
    },
    {
      "cell_type": "code",
      "execution_count": 14,
      "metadata": {},
      "outputs": [],
      "source": [
        "# Import specifics\n",
        "import torch\n",
        "from sklearn.gaussian_process import GaussianProcessClassifier\n",
        "from sklearn.gaussian_process.kernels import RBF\n",
        "from sklearn.model_selection import train_test_split\n",
        "from sklearn.metrics import roc_auc_score, accuracy_score"
      ]
    },
    {
      "cell_type": "code",
      "execution_count": 15,
      "metadata": {
        "id": "mK7ET31B0Rea"
      },
      "outputs": [],
      "source": [
        "# Split train and test data\n",
        "Test_Size = 0.2\n",
        "Random_Seed = 82024\n",
        "\n",
        "index = list(range(y.size))\n",
        "train_index, test_index = train_test_split(index, test_size=Test_Size, random_state=Random_Seed)\n",
        "\n",
        "train_df = df.loc[train_index]\n",
        "test_df = df.loc[test_index]"
      ]
    },
    {
      "cell_type": "code",
      "execution_count": 16,
      "metadata": {},
      "outputs": [],
      "source": [
        "# Create PyTorch tensors for X and y\n",
        "train_X = torch.tensor(train_df.iloc[:,:-1].values)\n",
        "train_y = torch.tensor(train_df['num'].values).double()\n",
        "\n",
        "test_X = torch.tensor(test_df.iloc[:,:-1].values)\n",
        "test_y = torch.tensor(test_df['num'].values).double()"
      ]
    },
    {
      "cell_type": "code",
      "execution_count": 17,
      "metadata": {
        "id": "2aZ52jw49TBZ"
      },
      "outputs": [],
      "source": [
        "# Create model\n",
        "model = GaussianProcessClassifier(random_state=Random_Seed, kernel=RBF(length_scale=1.0))"
      ]
    },
    {
      "cell_type": "code",
      "execution_count": 18,
      "metadata": {
        "colab": {
          "base_uri": "https://localhost:8080/"
        },
        "id": "PnwksAYE2duS",
        "outputId": "3c54a3cd-e019-426e-fa25-9f110056fa14"
      },
      "outputs": [],
      "source": [
        "# Train model\n",
        "model.fit(train_X, train_y)\n",
        "\n",
        "# LOSS!\n",
        "loss_list = []"
      ]
    },
    {
      "cell_type": "code",
      "execution_count": 19,
      "metadata": {},
      "outputs": [
        {
          "data": {
            "image/png": "[encoded data removed]",
            "text/plain": [
              "<Figure size 640x480 with 1 Axes>"
            ]
          },
          "metadata": {},
          "output_type": "display_data"
        }
      ],
      "source": [
        "# Plot loss values\n",
        "plt.plot(loss_list)\n",
        "plt.xlabel(\"Iterations\")\n",
        "plt.ylabel(\"Loss\")\n",
        "plt.show()"
      ]
    },
    {
      "cell_type": "code",
      "execution_count": 20,
      "metadata": {},
      "outputs": [
        {
          "name": "stdout",
          "output_type": "stream",
          "text": [
            "Accuracy: 0.57\n",
            "AUC-ROC: 0.51\n"
          ]
        }
      ],
      "source": [
        "# Test model\n",
        "y_pred = model.predict(test_X)\n",
        "\n",
        "pred_probs = model.predict_proba(test_X)\n",
        "\n",
        "# Evaluation:\n",
        "acc = accuracy_score(test_y, y_pred)\n",
        "roc_auc = roc_auc_score(test_y, pred_probs[:, 1])\n",
        "\n",
        "print(f\"Accuracy: {acc:.2f}\")\n",
        "print(f\"AUC-ROC: {roc_auc:.2f}\")"
      ]
    }
  ],
  "metadata": {
    "colab": {
      "provenance": []
    },
    "kernelspec": {
      "display_name": "Python 3",
      "language": "python",
      "name": "python3"
    },
    "language_info": {
      "codemirror_mode": {
        "name": "ipython",
        "version": 3
      },
      "file_extension": ".py",
      "mimetype": "text/x-python",
      "name": "python",
      "nbconvert_exporter": "python",
      "pygments_lexer": "ipython3",
      "version": "3.10.12"
    },
    "orig_nbformat": 4
  },
  "nbformat": 4,
  "nbformat_minor": 0
}

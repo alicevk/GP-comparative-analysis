{
 "cells": [
  {
   "cell_type": "markdown",
   "metadata": {},
   "source": [
    "# Pre-processing pipeline template"
   ]
  },
  {
   "cell_type": "code",
   "execution_count": 1,
   "metadata": {},
   "outputs": [],
   "source": [
    "# Import needed libraries and modules\n",
    "import pandas as pd\n",
    "import seaborn as sns\n",
    "import matplotlib.pyplot as plt\n",
    "import numpy as np\n",
    "from sklearn.model_selection import train_test_split\n",
    "from sklearn.metrics import roc_auc_score, accuracy_score\n",
    "import torch\n",
    "from sklearn.preprocessing import StandardScaler, OneHotEncoder\n",
    "from sklearn.compose import ColumnTransformer\n",
    "from sklearn.decomposition import PCA\n",
    "\n",
    "# Fetch dataset from UCI Repository\n",
    "from ucimlrepo import fetch_ucirepo\n",
    "heart_disease = fetch_ucirepo(id=45)\n",
    "df = heart_disease.data.original"
   ]
  },
  {
   "cell_type": "code",
   "execution_count": 2,
   "metadata": {},
   "outputs": [],
   "source": [
    "# ---------------------------------------------------------------------------- #\n",
    "#                                PRE-PROCESSING                                #\n",
    "# ---------------------------------------------------------------------------- #\n",
    "\n",
    "# --------------------------------- SETTINGS --------------------------------- #\n",
    "Normalize = False\n",
    "PC_Features = False\n",
    "Test_Size = 0.2\n",
    "Random_Seed = 82024\n",
    "Torch = False\n",
    "\n",
    "# Drop missing values\n",
    "df = df.dropna()\n",
    "df = df.reset_index(drop=True)\n",
    "\n",
    "# Binarize target\n",
    "df.loc[df['num'] != 0, 'num'] = 1\n",
    "\n",
    "# Define features and target vectors\n",
    "X = df.iloc[:,:-1]\n",
    "y = df['num']\n",
    "\n",
    "# Normalize if requested\n",
    "if (Normalize) or (PC_Features):\n",
    "    int_features, cat_features = ['age', 'trestbps', 'chol', 'thalach', 'oldpeak'],\\\n",
    "    ['sex', 'cp', 'fbs', 'restecg', 'exang', 'slope', 'ca', 'thal']\n",
    "    \n",
    "    preprocessor = ColumnTransformer(\n",
    "    transformers=[\n",
    "        ('int', StandardScaler(), int_features),\n",
    "        ('cat', OneHotEncoder(), cat_features)\n",
    "    ])\n",
    "    X = preprocessor.fit_transform(X)\n",
    "else:\n",
    "    X = X.values\n",
    "\n",
    "# Apply PCA if requested\n",
    "if PC_Features:\n",
    "    pca = PCA(n_components=12)\n",
    "    X = pca.fit_transform(X)\n",
    "\n",
    "# Split train and test data\n",
    "index = list(range(y.size))\n",
    "train_index, test_index = train_test_split(index, test_size=Test_Size, random_state=Random_Seed)\n",
    "\n",
    "train_X = X[train_index]\n",
    "train_y = y.loc[train_index].values\n",
    "\n",
    "test_X = X[test_index]\n",
    "test_y = y.loc[test_index].values\n",
    "\n",
    "# Convert to torch tensor if requested\n",
    "if Torch:\n",
    "    train_X, train_y, test_X, test_y = torch.tensor(train_X),\\\n",
    "    torch.tensor(train_y).double(), torch.tensor(test_X), torch.tensor(test_y).double()"
   ]
  }
 ],
 "metadata": {
  "kernelspec": {
   "display_name": "Python 3",
   "language": "python",
   "name": "python3"
  },
  "language_info": {
   "codemirror_mode": {
    "name": "ipython",
    "version": 3
   },
   "file_extension": ".py",
   "mimetype": "text/x-python",
   "name": "python",
   "nbconvert_exporter": "python",
   "pygments_lexer": "ipython3",
   "version": "3.10.12"
  },
  "orig_nbformat": 4
 },
 "nbformat": 4,
 "nbformat_minor": 2
}

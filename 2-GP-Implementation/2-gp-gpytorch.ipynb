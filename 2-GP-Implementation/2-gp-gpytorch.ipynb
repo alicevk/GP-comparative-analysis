{
 "cells": [
  {
   "cell_type": "markdown",
   "metadata": {},
   "source": [
    "# GP Initial Implementation: GPyTorch"
   ]
  },
  {
   "cell_type": "code",
   "execution_count": 2,
   "metadata": {},
   "outputs": [],
   "source": [
    "# Import needed libraries and modules\n",
    "from codecarbon import EmissionsTracker\n",
    "import numpy as np\n",
    "import torch\n",
    "import gpytorch\n",
    "from torch.optim import Adam\n",
    "from sklearn.model_selection import KFold\n",
    "from sklearn.metrics import roc_auc_score, accuracy_score\n",
    "from sklearn.preprocessing import StandardScaler, OneHotEncoder\n",
    "from sklearn.compose import ColumnTransformer\n",
    "from sklearn.decomposition import PCA\n",
    "from sklearn.pipeline import Pipeline\n",
    "\n",
    "# Fetch dataset from UCI Repository\n",
    "from ucimlrepo import fetch_ucirepo\n",
    "heart_disease = fetch_ucirepo(id=45)\n",
    "df = heart_disease.data.original"
   ]
  },
  {
   "cell_type": "code",
   "execution_count": 3,
   "metadata": {},
   "outputs": [],
   "source": [
    "\n",
    "# ---------------------------------------------------------------------------- #\n",
    "#                                PRE-PROCESSING                                #\n",
    "# ---------------------------------------------------------------------------- #\n",
    "\n",
    "##### SETTINGS #####\n",
    "PC_Features = True\n",
    "Random_Seed = 82024\n",
    "K_Folds = 10\n",
    "Max_Iterations = 200\n",
    "####################\n",
    "\n",
    "# Drop missing values\n",
    "df = df.dropna()\n",
    "df = df.reset_index(drop=True)\n",
    "\n",
    "# Binarize target\n",
    "df.loc[df['num'] != 0, 'num'] = 1\n",
    "\n",
    "# Define features and target vectors\n",
    "X = df.iloc[:,:-1]\n",
    "y = df['num']\n",
    "\n",
    "# Separate integer from categorical features\n",
    "int_features, cat_features = ['age', 'trestbps', 'chol', 'thalach', 'oldpeak'],\\\n",
    "['sex', 'cp', 'fbs', 'restecg', 'exang', 'slope', 'ca', 'thal']\n",
    "\n",
    "# Define preprocessing\n",
    "preprocessor = ColumnTransformer(\n",
    "    transformers=[\n",
    "        ('int', StandardScaler(), int_features),\n",
    "        ('cat', OneHotEncoder(), cat_features)\n",
    "    ])\n",
    "\n",
    "# Define pipeline depending on whether PCA is requested or not\n",
    "if PC_Features:\n",
    "    preprocessor = Pipeline([\n",
    "        ('preprocessor', preprocessor),\n",
    "        ('pca', PCA(n_components=12))\n",
    "    ])"
   ]
  },
  {
   "cell_type": "code",
   "execution_count": 4,
   "metadata": {},
   "outputs": [
    {
     "name": "stderr",
     "output_type": "stream",
     "text": [
      "[codecarbon ERROR @ 16:31:56] Error: Another instance of codecarbon is already running. Turn off the other instance to be able to run this one. Exiting.\n"
     ]
    },
    {
     "name": "stderr",
     "output_type": "stream",
     "text": [
      "[codecarbon WARNING @ 16:31:56] Another instance of codecarbon is already running. Exiting.\n",
      "[codecarbon WARNING @ 16:32:11] Another instance of codecarbon is already running. Exiting.\n"
     ]
    },
    {
     "name": "stdout",
     "output_type": "stream",
     "text": [
      "Accuracy: 0.8421 ± 0.0388\n",
      "AUC-ROC: 0.9119 ± 0.0369\n"
     ]
    }
   ],
   "source": [
    "# ---------------------------------------------------------------------------- #\n",
    "#                                     MODEL                                    #\n",
    "# ---------------------------------------------------------------------------- #\n",
    "\n",
    "# Initiate CodeCarbon to track emissions\n",
    "tracker = EmissionsTracker('GP gpytorch model', log_level='warning')\n",
    "tracker.start()\n",
    "\n",
    "# Create model class\n",
    "class ExactGPModel(gpytorch.models.ExactGP):\n",
    "    def __init__(self, train_X, train_y, likelihood):\n",
    "        super(ExactGPModel, self).__init__(train_X, train_y, likelihood)\n",
    "        self.mean_module = gpytorch.means.ConstantMean()\n",
    "        self.covar_module = gpytorch.kernels.ScaleKernel(gpytorch.kernels.RBFKernel())\n",
    "    \n",
    "    def forward(self, x):\n",
    "        mean_x = self.mean_module(x)\n",
    "        covar_x = self.covar_module(x)\n",
    "        return gpytorch.distributions.MultivariateNormal(mean_x, covar_x)\n",
    "\n",
    "# K-Fold cross-validation\n",
    "kfold = KFold(n_splits=K_Folds, shuffle=True, random_state=Random_Seed)\n",
    "roc_aucs, accs = [], []\n",
    "\n",
    "for train_idx, test_idx in kfold.split(X):\n",
    "    # Split data into training and testing sets\n",
    "    train_X, test_X = X.iloc[train_idx], X.iloc[test_idx]\n",
    "    train_y, test_y = y.iloc[train_idx], y.iloc[test_idx]\n",
    "    \n",
    "    # Preprocess data\n",
    "    train_X = preprocessor.fit_transform(train_X)\n",
    "    test_X = preprocessor.transform(test_X)\n",
    "    \n",
    "    # Convert to PyTorch tensors\n",
    "    train_X = torch.tensor(train_X, dtype=torch.float32)\n",
    "    train_y = torch.tensor(train_y.values, dtype=torch.float32)\n",
    "    test_X = torch.tensor(test_X, dtype=torch.float32)\n",
    "    test_y = torch.tensor(test_y.values, dtype=torch.float32)\n",
    "    \n",
    "    # Initialize model and likelihood\n",
    "    likelihood = gpytorch.likelihoods.GaussianLikelihood()\n",
    "    model = ExactGPModel(train_X, train_y, likelihood)\n",
    "    \n",
    "    # Train model\n",
    "    model.train()\n",
    "    likelihood.train()\n",
    "    \n",
    "    # Use Adam optimizer\n",
    "    optimizer = Adam(model.parameters(), lr = 0.1)\n",
    "    mll = gpytorch.mlls.ExactMarginalLogLikelihood(likelihood, model)\n",
    "\n",
    "    for _ in range(Max_Iterations):\n",
    "        optimizer.zero_grad()\n",
    "        output = model(train_X)\n",
    "        loss = -mll(output, train_y)\n",
    "        loss.backward()\n",
    "        optimizer.step()\n",
    "\n",
    "    # Evaluate model\n",
    "    model.eval()\n",
    "    likelihood.eval()\n",
    "    with torch.no_grad(), gpytorch.settings.fast_pred_var():\n",
    "        test_pred = likelihood(model(test_X))\n",
    "        pred_probs = test_pred.mean.numpy()\n",
    "        roc_aucs.append(roc_auc_score(test_y.numpy(), pred_probs))\n",
    "        accs.append(accuracy_score(test_y.numpy(), (pred_probs > 0.5).astype(int)))\n",
    "\n",
    "# Calculate and display results\n",
    "acc = np.mean(accs)\n",
    "acc_std = np.std(accs)\n",
    "roc_auc = np.mean(roc_aucs)\n",
    "roc_auc_std = np.std(roc_aucs)\n",
    "\n",
    "print(f\"Accuracy: {acc:.4f} ± {acc_std:.4f}\")\n",
    "print(f\"AUC-ROC: {roc_auc:.4f} ± {roc_auc_std:.4f}\")\n",
    "\n",
    "# Stop emission tracking\n",
    "_ = tracker.stop()"
   ]
  }
 ],
 "metadata": {
  "kernelspec": {
   "display_name": "Python 3",
   "language": "python",
   "name": "python3"
  },
  "language_info": {
   "codemirror_mode": {
    "name": "ipython",
    "version": 3
   },
   "file_extension": ".py",
   "mimetype": "text/x-python",
   "name": "python",
   "nbconvert_exporter": "python",
   "pygments_lexer": "ipython3",
   "version": "3.10.12"
  },
  "orig_nbformat": 4
 },
 "nbformat": 4,
 "nbformat_minor": 2
}

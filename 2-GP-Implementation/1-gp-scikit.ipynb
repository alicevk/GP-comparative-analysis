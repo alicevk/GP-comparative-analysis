{
  "cells": [
    {
      "cell_type": "markdown",
      "metadata": {
        "id": "yWNN-nxwssEP"
      },
      "source": [
        "# GP Initial Implementation: Scikit-Learn"
      ]
    },
    {
      "cell_type": "code",
      "execution_count": 4,
      "metadata": {
        "id": "Ji-qo0b1ssER"
      },
      "outputs": [],
      "source": [
        "# Import needed libraries and modules\n",
        "from codecarbon import EmissionsTracker\n",
        "import numpy as np\n",
        "from sklearn.model_selection import cross_validate\n",
        "from sklearn.preprocessing import StandardScaler, OneHotEncoder\n",
        "from sklearn.compose import ColumnTransformer\n",
        "from sklearn.decomposition import PCA\n",
        "from sklearn.gaussian_process import GaussianProcessClassifier\n",
        "from sklearn.gaussian_process.kernels import RBF\n",
        "from sklearn.pipeline import Pipeline\n",
        "\n",
        "# Fetch dataset from UCI Repository\n",
        "from ucimlrepo import fetch_ucirepo\n",
        "heart_disease = fetch_ucirepo(id=45)\n",
        "df = heart_disease.data.original"
      ]
    },
    {
      "cell_type": "code",
      "execution_count": 5,
      "metadata": {},
      "outputs": [],
      "source": [
        "# ---------------------------------------------------------------------------- #\n",
        "#                                     SETUP                                    #\n",
        "# ---------------------------------------------------------------------------- #\n",
        "\n",
        "##### SETTINGS #####\n",
        "PC_Features = True\n",
        "Random_Seed = 82024\n",
        "K_Folds = 10\n",
        "Max_Iterations = 200\n",
        "####################\n",
        "\n",
        "# Drop missing values\n",
        "df = df.dropna()\n",
        "df = df.reset_index(drop=True)\n",
        "\n",
        "# Binarize target\n",
        "df.loc[df['num'] != 0, 'num'] = 1\n",
        "\n",
        "# Define features and target vectors\n",
        "X = df.iloc[:,:-1]\n",
        "y = df['num']\n",
        "\n",
        "# Separate integer from categorical features\n",
        "int_features, cat_features = ['age', 'trestbps', 'chol', 'thalach', 'oldpeak'],\\\n",
        "['sex', 'cp', 'fbs', 'restecg', 'exang', 'slope', 'ca', 'thal']\n",
        "\n",
        "# Define preprocessing\n",
        "preprocessor = ColumnTransformer(\n",
        "    transformers=[\n",
        "        ('int', StandardScaler(), int_features),\n",
        "        ('cat', OneHotEncoder(), cat_features)\n",
        "    ])\n",
        "\n",
        "# Define pipeline depending on whether PCA is requested or not\n",
        "if PC_Features:\n",
        "    steps = [\n",
        "        ('preprocessor', preprocessor),\n",
        "        ('pca', PCA(n_components=12)),\n",
        "        ('GP-classifier', GaussianProcessClassifier(\n",
        "            kernel=RBF(length_scale=1.0),\n",
        "            random_state=Random_Seed,\n",
        "            max_iter_predict=Max_Iterations\n",
        "        ))\n",
        "    ]\n",
        "else:\n",
        "    steps = [\n",
        "        ('preprocessor', preprocessor),\n",
        "        ('GP-classifier', GaussianProcessClassifier())\n",
        "    ]\n",
        "    \n",
        "pipeline = Pipeline(steps)"
      ]
    },
    {
      "cell_type": "code",
      "execution_count": 6,
      "metadata": {},
      "outputs": [
        {
          "name": "stderr",
          "output_type": "stream",
          "text": [
            "[codecarbon WARNING @ 16:15:29] No CPU tracking mode found. Falling back on CPU constant mode. \n",
            " Linux OS detected: Please ensure RAPL files exist at \\sys\\class\\powercap\\intel-rapl to measure CPU\n",
            "\n"
          ]
        },
        {
          "name": "stdout",
          "output_type": "stream",
          "text": [
            "Accuracy: 0.8517 ± 0.0571\n",
            "AUC-ROC: 0.9081 ± 0.0347\n"
          ]
        }
      ],
      "source": [
        "# ---------------------------------------------------------------------------- #\n",
        "#                                     MODEL                                    #\n",
        "# ---------------------------------------------------------------------------- #\n",
        "\n",
        "# Initiate CodeCarbon to track emissions\n",
        "tracker = EmissionsTracker('GP scikit model', log_level='warning')\n",
        "_ = tracker.start()\n",
        "\n",
        "# Perform cross-validation\n",
        "cv_results = cross_validate(pipeline, X, y, scoring=['accuracy', 'roc_auc'], cv=K_Folds)\n",
        "\n",
        "# Calculate and display results\n",
        "acc = np.mean(cv_results['test_accuracy'])\n",
        "acc_std = np.std(cv_results['test_accuracy'])\n",
        "roc_auc = np.mean(cv_results['test_roc_auc'])\n",
        "roc_auc_std = np.std(cv_results['test_roc_auc'])\n",
        "\n",
        "print(f\"Accuracy: {acc:.4f} ± {acc_std:.4f}\")\n",
        "print(f\"AUC-ROC: {roc_auc:.4f} ± {roc_auc_std:.4f}\")\n",
        "\n",
        "# Stop emission tracking\n",
        "_ = tracker.stop()"
      ]
    }
  ],
  "metadata": {
    "colab": {
      "provenance": []
    },
    "kernelspec": {
      "display_name": "Python 3",
      "language": "python",
      "name": "python3"
    },
    "language_info": {
      "codemirror_mode": {
        "name": "ipython",
        "version": 3
      },
      "file_extension": ".py",
      "mimetype": "text/x-python",
      "name": "python",
      "nbconvert_exporter": "python",
      "pygments_lexer": "ipython3",
      "version": "3.10.12"
    },
    "orig_nbformat": 4
  },
  "nbformat": 4,
  "nbformat_minor": 0
}

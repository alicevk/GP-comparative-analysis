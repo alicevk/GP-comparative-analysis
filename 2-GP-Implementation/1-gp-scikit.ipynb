{
  "cells": [
    {
      "cell_type": "markdown",
      "metadata": {
        "id": "yWNN-nxwssEP"
      },
      "source": [
        "# GP Initial Implementation: Scikit-Learn"
      ]
    },
    {
      "cell_type": "code",
      "execution_count": 1,
      "metadata": {
        "id": "Ji-qo0b1ssER"
      },
      "outputs": [],
      "source": [
        "# Import needed libraries and modules\n",
        "import pandas as pd\n",
        "import seaborn as sns\n",
        "import matplotlib.pyplot as plt\n",
        "import numpy as np\n",
        "from sklearn.model_selection import train_test_split, cross_validate\n",
        "from sklearn.metrics import roc_auc_score, accuracy_score\n",
        "import torch\n",
        "from sklearn.preprocessing import StandardScaler, OneHotEncoder\n",
        "from sklearn.compose import ColumnTransformer\n",
        "from sklearn.decomposition import PCA\n",
        "from sklearn.gaussian_process import GaussianProcessClassifier\n",
        "from sklearn.gaussian_process.kernels import RBF\n",
        "\n",
        "# Fetch dataset from UCI Repository\n",
        "from ucimlrepo import fetch_ucirepo\n",
        "heart_disease = fetch_ucirepo(id=45)\n",
        "df = heart_disease.data.original"
      ]
    },
    {
      "cell_type": "code",
      "execution_count": 2,
      "metadata": {},
      "outputs": [],
      "source": [
        "# ---------------------------------------------------------------------------- #\n",
        "#                                PRE-PROCESSING                                #\n",
        "# ---------------------------------------------------------------------------- #\n",
        "\n",
        "# --------------------------------- SETTINGS --------------------------------- #\n",
        "Normalize = True\n",
        "PC_Features = True\n",
        "Test_Size = 0.2\n",
        "Random_Seed = 82024\n",
        "Torch = False\n",
        "Num_iterations = 100\n",
        "Cross_Validation = True\n",
        "\n",
        "# Drop missing values\n",
        "df = df.dropna()\n",
        "df = df.reset_index(drop=True)\n",
        "\n",
        "# Binarize target\n",
        "df.loc[df['num'] != 0, 'num'] = 1\n",
        "\n",
        "# Define features and target vectors\n",
        "X = df.iloc[:,:-1]\n",
        "y = df['num']\n",
        "\n",
        "# Normalize if requested\n",
        "if (Normalize) or (PC_Features):\n",
        "    int_features, cat_features = ['age', 'trestbps', 'chol', 'thalach', 'oldpeak'],\\\n",
        "    ['sex', 'cp', 'fbs', 'restecg', 'exang', 'slope', 'ca', 'thal']\n",
        "    \n",
        "    preprocessor = ColumnTransformer(\n",
        "    transformers=[\n",
        "        ('int', StandardScaler(), int_features),\n",
        "        ('cat', OneHotEncoder(), cat_features)\n",
        "    ])\n",
        "    X = preprocessor.fit_transform(X)\n",
        "else:\n",
        "    X = X.values\n",
        "\n",
        "# Apply PCA if requested\n",
        "if PC_Features:\n",
        "    pca = PCA(n_components=12)\n",
        "    X = pca.fit_transform(X)\n",
        "    \n",
        "# Convert to torch tensor if requested\n",
        "if Torch:\n",
        "    X = torch.tensor(X)\n",
        "    y = torch.tensor(y).double()\n",
        "\n",
        "if not Cross_Validation:\n",
        "    # Split train and test data\n",
        "    index = list(range(y.size))\n",
        "    train_index, test_index = train_test_split(index, test_size=Test_Size, random_state=Random_Seed)\n",
        "\n",
        "    train_X = X[train_index]\n",
        "    train_y = y.loc[train_index].values\n",
        "\n",
        "    test_X = X[test_index]\n",
        "    test_y = y.loc[test_index].values\n",
        "\n"
      ]
    },
    {
      "cell_type": "code",
      "execution_count": 3,
      "metadata": {
        "id": "2aZ52jw49TBZ"
      },
      "outputs": [
        {
          "name": "stdout",
          "output_type": "stream",
          "text": [
            "Accuracy: 0.8551\n",
            "AUC-ROC: 0.9061\n"
          ]
        }
      ],
      "source": [
        "# ---------------------------------------------------------------------------- #\n",
        "#                                     MODEL                                    #\n",
        "# ---------------------------------------------------------------------------- #\n",
        "# Create model\n",
        "model = GaussianProcessClassifier(\n",
        "    random_state=Random_Seed,\n",
        "    kernel=RBF(length_scale=1.0)\n",
        "    )\n",
        "\n",
        "# Cross validation:\n",
        "if Cross_Validation:\n",
        "    cv_results = cross_validate(model, X, y, scoring=['accuracy', 'roc_auc'])\n",
        "    acc = cv_results['test_accuracy'].mean()\n",
        "    roc_auc = cv_results['test_roc_auc'].mean()\n",
        "\n",
        "else:\n",
        "    # Train model\n",
        "    model.fit(train_X, train_y)\n",
        "\n",
        "    # Test model\n",
        "    y_pred = model.predict(test_X)\n",
        "\n",
        "    pred_probs = model.predict_proba(test_X)\n",
        "\n",
        "    # Evaluation:\n",
        "    acc = accuracy_score(test_y, y_pred)\n",
        "    roc_auc = roc_auc_score(test_y, pred_probs[:, 1])\n",
        "\n",
        "print(f\"Accuracy: {acc:.4f}\")\n",
        "print(f\"AUC-ROC: {roc_auc:.4f}\")"
      ]
    }
  ],
  "metadata": {
    "colab": {
      "provenance": []
    },
    "kernelspec": {
      "display_name": "Python 3",
      "language": "python",
      "name": "python3"
    },
    "language_info": {
      "codemirror_mode": {
        "name": "ipython",
        "version": 3
      },
      "file_extension": ".py",
      "mimetype": "text/x-python",
      "name": "python",
      "nbconvert_exporter": "python",
      "pygments_lexer": "ipython3",
      "version": "3.10.12"
    },
    "orig_nbformat": 4
  },
  "nbformat": 4,
  "nbformat_minor": 0
}

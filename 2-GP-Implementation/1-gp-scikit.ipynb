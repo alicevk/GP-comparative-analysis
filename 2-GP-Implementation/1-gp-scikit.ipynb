{
  "cells": [
    {
      "cell_type": "markdown",
      "metadata": {
        "id": "yWNN-nxwssEP"
      },
      "source": [
        "# GP Initial Implementation: Scikit-Learn"
      ]
    },
    {
      "cell_type": "code",
      "execution_count": 1,
      "metadata": {
        "id": "Ji-qo0b1ssER"
      },
      "outputs": [],
      "source": [
        "# Import needed libraries and modules\n",
        "from codecarbon import EmissionsTracker\n",
        "import os\n",
        "import numpy as np\n",
        "import pandas as pd\n",
        "from sklearn.model_selection import cross_validate\n",
        "from sklearn.preprocessing import StandardScaler, OneHotEncoder\n",
        "from sklearn.compose import ColumnTransformer\n",
        "from sklearn.decomposition import PCA\n",
        "from sklearn.gaussian_process import GaussianProcessClassifier\n",
        "from sklearn.gaussian_process.kernels import RBF\n",
        "from sklearn.pipeline import Pipeline\n",
        "\n",
        "# Fetch dataset from UCI Repository\n",
        "from ucimlrepo import fetch_ucirepo\n",
        "heart_disease = fetch_ucirepo(id=45)\n",
        "df = heart_disease.data.original"
      ]
    },
    {
      "cell_type": "code",
      "execution_count": 2,
      "metadata": {},
      "outputs": [],
      "source": [
        "# ---------------------------------------------------------------------------- #\n",
        "#                                PRE-PROCESSING                                #\n",
        "# ---------------------------------------------------------------------------- #\n",
        "\n",
        "##### SETTINGS #####\n",
        "PC_Features = True\n",
        "Random_Seed = 82024\n",
        "K_Folds = 10\n",
        "Max_Iterations = 200\n",
        "####################\n",
        "\n",
        "# Drop missing values\n",
        "df = df.dropna()\n",
        "df = df.reset_index(drop=True)\n",
        "\n",
        "# Binarize target\n",
        "df.loc[df['num'] != 0, 'num'] = 1\n",
        "\n",
        "# Define features and target vectors\n",
        "X = df.iloc[:,:-1]\n",
        "y = df['num']\n",
        "\n",
        "# Separate integer from categorical features\n",
        "int_features, cat_features = ['age', 'trestbps', 'chol', 'thalach', 'oldpeak'],\\\n",
        "['sex', 'cp', 'fbs', 'restecg', 'exang', 'slope', 'ca', 'thal']\n",
        "\n",
        "# Define preprocessing\n",
        "preprocessor = ColumnTransformer(\n",
        "    transformers=[\n",
        "        ('int', StandardScaler(), int_features),\n",
        "        ('cat', OneHotEncoder(), cat_features)\n",
        "    ])"
      ]
    },
    {
      "cell_type": "code",
      "execution_count": 3,
      "metadata": {},
      "outputs": [
        {
          "name": "stderr",
          "output_type": "stream",
          "text": [
            "[codecarbon WARNING @ 11:41:16] No CPU tracking mode found. Falling back on CPU constant mode. \n",
            " Linux OS detected: Please ensure RAPL files exist at \\sys\\class\\powercap\\intel-rapl to measure CPU\n",
            "\n"
          ]
        },
        {
          "name": "stdout",
          "output_type": "stream",
          "text": [
            "Accuracy: 0.8517 ± 0.0571\n",
            "AUC-ROC: 0.9081 ± 0.0347\n"
          ]
        },
        {
          "name": "stderr",
          "output_type": "stream",
          "text": [
            "/home/ABTLUS/alice220049/.local/lib/python3.10/site-packages/codecarbon/output_methods/file.py:52: FutureWarning: The behavior of DataFrame concatenation with empty or all-NA entries is deprecated. In a future version, this will no longer exclude empty or all-NA columns when determining the result dtypes. To retain the old behavior, exclude the relevant entries before the concat operation.\n",
            "  df = pd.concat([df, pd.DataFrame.from_records([dict(total.values)])])\n"
          ]
        }
      ],
      "source": [
        "# ---------------------------------------------------------------------------- #\n",
        "#                                     MODEL                                    #\n",
        "# ---------------------------------------------------------------------------- #\n",
        "\n",
        "# Initiate CodeCarbon to track emissions\n",
        "tracker = EmissionsTracker('GP scikit model', log_level='warning')\n",
        "tracker.start()\n",
        "\n",
        "# Create model\n",
        "model = GaussianProcessClassifier(\n",
        "            kernel=RBF(length_scale=1.0),\n",
        "            random_state=Random_Seed,\n",
        "            max_iter_predict=Max_Iterations\n",
        "        )\n",
        "\n",
        "# Define pipeline depending on whether PCA is requested or not\n",
        "if PC_Features:\n",
        "    steps = [\n",
        "        ('preprocessor', preprocessor),\n",
        "        ('pca', PCA(n_components=12)),\n",
        "        ('GP-classifier', model)\n",
        "    ]\n",
        "else:\n",
        "    steps = [\n",
        "        ('preprocessor', preprocessor),\n",
        "        ('GP-classifier', model)\n",
        "    ]\n",
        "    \n",
        "pipeline = Pipeline(steps)\n",
        "\n",
        "# Perform cross-validation\n",
        "cv_results = cross_validate(pipeline, X, y, scoring=['accuracy', 'roc_auc'], cv=K_Folds)\n",
        "\n",
        "# Calculate and display results\n",
        "acc = np.mean(cv_results['test_accuracy'])\n",
        "acc_std = np.std(cv_results['test_accuracy'])\n",
        "roc_auc = np.mean(cv_results['test_roc_auc'])\n",
        "roc_auc_std = np.std(cv_results['test_roc_auc'])\n",
        "\n",
        "print(f\"Accuracy: {acc:.4f} ± {acc_std:.4f}\")\n",
        "print(f\"AUC-ROC: {roc_auc:.4f} ± {roc_auc_std:.4f}\")\n",
        "\n",
        "# Stop emission tracking\n",
        "_ = tracker.stop()"
      ]
    },
    {
      "cell_type": "code",
      "execution_count": 4,
      "metadata": {},
      "outputs": [],
      "source": [
        "# Save evaluation to an external file\n",
        "file = 'scores.csv'\n",
        "\n",
        "results = pd.DataFrame({\n",
        "    'scikit-model': [acc, acc_std, roc_auc, roc_auc_std]\n",
        "}, index = ['Accuracy', 'Accuracy STD', 'AUC-ROC', 'AUC-ROC STD'])\n",
        "\n",
        "# Check if file exists\n",
        "if os.path.exists(file):\n",
        "    temp = pd.read_csv(file, index_col=0)\n",
        "    results = pd.concat([temp, results], axis=1)\n",
        "\n",
        "# Export\n",
        "results.to_csv(file)"
      ]
    }
  ],
  "metadata": {
    "colab": {
      "provenance": []
    },
    "kernelspec": {
      "display_name": "Python 3",
      "language": "python",
      "name": "python3"
    },
    "language_info": {
      "codemirror_mode": {
        "name": "ipython",
        "version": 3
      },
      "file_extension": ".py",
      "mimetype": "text/x-python",
      "name": "python",
      "nbconvert_exporter": "python",
      "pygments_lexer": "ipython3",
      "version": "3.10.12"
    },
    "orig_nbformat": 4
  },
  "nbformat": 4,
  "nbformat_minor": 0
}

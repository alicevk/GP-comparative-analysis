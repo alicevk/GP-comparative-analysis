{
 "cells": [
  {
   "cell_type": "markdown",
   "metadata": {},
   "source": [
    "# GP Initial Implementation: pyro"
   ]
  },
  {
   "cell_type": "code",
   "execution_count": 4,
   "metadata": {},
   "outputs": [],
   "source": [
    "# Import needed libraries and modules\n",
    "from codecarbon import EmissionsTracker\n",
    "import numpy as np\n",
    "import torch\n",
    "import pyro\n",
    "import pyro.contrib.gp as gp\n",
    "from sklearn.model_selection import KFold\n",
    "from sklearn.metrics import roc_auc_score, accuracy_score\n",
    "from sklearn.preprocessing import StandardScaler, OneHotEncoder\n",
    "from sklearn.compose import ColumnTransformer\n",
    "from sklearn.decomposition import PCA\n",
    "from sklearn.pipeline import Pipeline\n",
    "\n",
    "# Fetch dataset from UCI Repository\n",
    "from ucimlrepo import fetch_ucirepo\n",
    "heart_disease = fetch_ucirepo(id=45)\n",
    "df = heart_disease.data.original"
   ]
  },
  {
   "cell_type": "code",
   "execution_count": 5,
   "metadata": {},
   "outputs": [],
   "source": [
    "# ---------------------------------------------------------------------------- #\n",
    "#                                PRE-PROCESSING                                #\n",
    "# ---------------------------------------------------------------------------- #\n",
    "\n",
    "# --------------------------------- SETTINGS --------------------------------- #\n",
    "\n",
    "##### SETTINGS #####\n",
    "PC_Features = True\n",
    "Random_Seed = 82024\n",
    "K_Folds = 10\n",
    "Max_Iterations = 200\n",
    "####################\n",
    "\n",
    "# Drop missing values\n",
    "df = df.dropna()\n",
    "df = df.reset_index(drop=True)\n",
    "\n",
    "# Binarize target\n",
    "df.loc[df['num'] != 0, 'num'] = 1\n",
    "\n",
    "# Define features and target vectors\n",
    "X = df.iloc[:,:-1]\n",
    "y = df['num']\n",
    "\n",
    "# Separate integer from categorical features\n",
    "int_features, cat_features = ['age', 'trestbps', 'chol', 'thalach', 'oldpeak'],\\\n",
    "['sex', 'cp', 'fbs', 'restecg', 'exang', 'slope', 'ca', 'thal']\n",
    "\n",
    "# Define preprocessing\n",
    "preprocessor = ColumnTransformer(\n",
    "    transformers=[\n",
    "        ('int', StandardScaler(), int_features),\n",
    "        ('cat', OneHotEncoder(), cat_features)\n",
    "    ])\n",
    "\n",
    "# Define pipeline depending on whether PCA is requested or not\n",
    "if PC_Features:\n",
    "    preprocessor = Pipeline([\n",
    "        ('preprocessor', preprocessor),\n",
    "        ('pca', PCA(n_components=12))\n",
    "    ])"
   ]
  },
  {
   "cell_type": "code",
   "execution_count": 6,
   "metadata": {},
   "outputs": [
    {
     "name": "stderr",
     "output_type": "stream",
     "text": [
      "[codecarbon ERROR @ 19:28:56] Error: Another instance of codecarbon is already running. Turn off the other instance to be able to run this one. Exiting.\n",
      "[codecarbon WARNING @ 19:28:56] Another instance of codecarbon is already running. Exiting.\n"
     ]
    },
    {
     "name": "stderr",
     "output_type": "stream",
     "text": [
      "[codecarbon WARNING @ 19:29:23] Another instance of codecarbon is already running. Exiting.\n"
     ]
    },
    {
     "name": "stdout",
     "output_type": "stream",
     "text": [
      "Accuracy: 0.7309 ± 0.0657\n",
      "AUC-ROC: 0.7383 ± 0.0670\n"
     ]
    }
   ],
   "source": [
    "# ---------------------------------------------------------------------------- #\n",
    "#                                     MODEL                                    #\n",
    "# ---------------------------------------------------------------------------- #\n",
    "\n",
    "# Initiate CodeCarbon to track emissions\n",
    "tracker = EmissionsTracker('GP pyro model', log_level='warning')\n",
    "tracker.start()\n",
    "\n",
    "# Set random seed for reproducibility\n",
    "pyro.set_rng_seed(Random_Seed)\n",
    "\n",
    "kfold = KFold(n_splits=K_Folds, shuffle=True, random_state=Random_Seed)\n",
    "roc_aucs, accs = [], []\n",
    "\n",
    "for train_idx, test_idx in kfold.split(X):\n",
    "    # Split data into training and testing sets\n",
    "    train_X, test_X = X.iloc[train_idx], X.iloc[test_idx]\n",
    "    train_y, test_y = y.iloc[train_idx], y.iloc[test_idx]\n",
    "    \n",
    "    # Preprocess data\n",
    "    train_X = preprocessor.fit_transform(train_X)\n",
    "    test_X = preprocessor.transform(test_X)\n",
    "    \n",
    "    # Convert to PyTorch tensors\n",
    "    train_X = torch.tensor(train_X, dtype=torch.float32)\n",
    "    train_y = torch.tensor(train_y.values, dtype=torch.float32)\n",
    "    test_X = torch.tensor(test_X, dtype=torch.float32)\n",
    "    test_y = torch.tensor(test_y.values, dtype=torch.float32)\n",
    "    \n",
    "    # Clear Pyro parameters for each fold\n",
    "    pyro.clear_param_store()\n",
    "    \n",
    "    # Define model\n",
    "    kernel = gp.kernels.RBF(input_dim=train_X.shape[-1])\n",
    "    likelihood = gp.likelihoods.Binary()\n",
    "    model = gp.models.VariationalGP(\n",
    "        train_X,\n",
    "        train_y, \n",
    "        kernel,\n",
    "        likelihood=likelihood,\n",
    "        whiten=True,\n",
    "        jitter=1e-04\n",
    "    )\n",
    "    \n",
    "    # Train model\n",
    "    gp.util.train(model, num_steps=Max_Iterations)\n",
    "    \n",
    "    # Evaluate model\n",
    "    model.eval()\n",
    "    with torch.no_grad():\n",
    "        mean, var = model(test_X)\n",
    "        test_pred = model.likelihood(mean, var)\n",
    "        pred_probs = test_pred.detach().numpy()\n",
    "        roc_aucs.append(roc_auc_score(test_y.numpy(), pred_probs))\n",
    "        accs.append(accuracy_score(test_y.numpy(), (pred_probs > 0.5).astype(int)))\n",
    "\n",
    "# Calculate and display results\n",
    "acc = np.mean(accs)\n",
    "acc_std = np.std(accs)\n",
    "roc_auc = np.mean(roc_aucs)\n",
    "roc_auc_std = np.std(roc_aucs)\n",
    "\n",
    "print(f\"Accuracy: {acc:.4f} ± {acc_std:.4f}\")\n",
    "print(f\"AUC-ROC: {roc_auc:.4f} ± {roc_auc_std:.4f}\")\n",
    "\n",
    "# Stop emission tracking\n",
    "_ = tracker.stop()"
   ]
  }
 ],
 "metadata": {
  "kernelspec": {
   "display_name": "Python 3",
   "language": "python",
   "name": "python3"
  },
  "language_info": {
   "codemirror_mode": {
    "name": "ipython",
    "version": 3
   },
   "file_extension": ".py",
   "mimetype": "text/x-python",
   "name": "python",
   "nbconvert_exporter": "python",
   "pygments_lexer": "ipython3",
   "version": "3.10.12"
  },
  "orig_nbformat": 4
 },
 "nbformat": 4,
 "nbformat_minor": 2
}

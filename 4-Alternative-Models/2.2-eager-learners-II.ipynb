{
 "cells": [
  {
   "attachments": {},
   "cell_type": "markdown",
   "metadata": {},
   "source": [
    "# Alternative Models: Eager Learners II\n",
    "\n",
    "<hr>\n",
    "\n",
    "* Support Vector Machine\n",
    "    * SVC\n",
    "    * NuSVC\n",
    "    * LinearSVC"
   ]
  },
  {
   "cell_type": "code",
   "execution_count": 1,
   "metadata": {},
   "outputs": [],
   "source": [
    "# Import needed libraries and modules\n",
    "import pandas as pd\n",
    "import seaborn as sns\n",
    "import matplotlib.pyplot as plt\n",
    "import numpy as np\n",
    "from sklearn.model_selection import train_test_split, cross_validate\n",
    "from sklearn.metrics import roc_auc_score, accuracy_score\n",
    "import torch\n",
    "from sklearn.preprocessing import StandardScaler, OneHotEncoder\n",
    "from sklearn.compose import ColumnTransformer\n",
    "from sklearn.decomposition import PCA\n",
    "from sklearn.linear_model import LogisticRegression\n",
    "from sklearn import svm\n",
    "from sklearn import tree\n",
    "import optuna\n",
    "from optuna.samplers import GPSampler\n",
    "import sklearn\n",
    "import sklearn.ensemble\n",
    "from sklearn.pipeline import Pipeline\n",
    "\n",
    "# Fetch dataset from UCI Repository\n",
    "from ucimlrepo import fetch_ucirepo\n",
    "heart_disease = fetch_ucirepo(id=45)\n",
    "df = heart_disease.data.original"
   ]
  },
  {
   "cell_type": "code",
   "execution_count": 2,
   "metadata": {},
   "outputs": [],
   "source": [
    "# ---------------------------------------------------------------------------- #\n",
    "#                                PRE-PROCESSING                                #\n",
    "# ---------------------------------------------------------------------------- #\n",
    "\n",
    "# --------------------------------- SETTINGS --------------------------------- #\n",
    "Normalize = True\n",
    "PC_Features = True\n",
    "Test_Size = 0.2\n",
    "Random_Seed = 82024\n",
    "Torch = False\n",
    "Cross_Validation = True\n",
    "\n",
    "# Drop missing values\n",
    "df = df.dropna()\n",
    "df = df.reset_index(drop=True)\n",
    "\n",
    "# Binarize target\n",
    "df.loc[df['num'] != 0, 'num'] = 1\n",
    "\n",
    "# Define features and target vectors\n",
    "X = df.iloc[:,:-1]\n",
    "y = df['num']\n",
    "\n",
    "# Normalize if requested\n",
    "if (Normalize) or (PC_Features):\n",
    "    int_features, cat_features = ['age', 'trestbps', 'chol', 'thalach', 'oldpeak'],\\\n",
    "    ['sex', 'cp', 'fbs', 'restecg', 'exang', 'slope', 'ca', 'thal']\n",
    "    \n",
    "    preprocessor = ColumnTransformer(\n",
    "    transformers=[\n",
    "        ('int', StandardScaler(), int_features),\n",
    "        ('cat', OneHotEncoder(), cat_features)\n",
    "    ])\n",
    "    X = preprocessor.fit_transform(X)\n",
    "else:\n",
    "    X = X.values\n",
    "\n",
    "# Apply PCA if requested\n",
    "if PC_Features:\n",
    "    pca = PCA(n_components=12)\n",
    "    X = pca.fit_transform(X)\n",
    "\n",
    "# Split train and test data\n",
    "index = list(range(y.size))\n",
    "train_index, test_index = train_test_split(index, test_size=Test_Size, random_state=Random_Seed)\n",
    "\n",
    "train_X = X[train_index]\n",
    "train_y = y.loc[train_index].values\n",
    "\n",
    "test_X = X[test_index]\n",
    "test_y = y.loc[test_index].values\n",
    "\n",
    "# Convert to torch tensor if requested\n",
    "if Torch:\n",
    "    train_X, train_y, test_X, test_y = torch.tensor(train_X),\\\n",
    "    torch.tensor(train_y).double(), torch.tensor(test_X), torch.tensor(test_y).double()"
   ]
  },
  {
   "attachments": {},
   "cell_type": "markdown",
   "metadata": {},
   "source": [
    "<hr>\n",
    "\n",
    "## Support Vector Machines:\n",
    "\n",
    "Suport Vector Machines(SVMs) are machine learning algorithms that work by finding a hyperplane to separate data into classes\n",
    "\n",
    "**The advantages of support vector machines are:**\n",
    "\n",
    "* Effective in high dimensional spaces.\n",
    "\n",
    "* Still effective in cases where number of dimensions is greater than the number of samples.\n",
    "\n",
    "* Uses a subset of training points in the decision function (called support vectors), so it is also memory efficient.\n",
    "\n",
    "* Versatile: different Kernel functions can be specified for the decision function as in Gaussian Process Models.\n",
    "\n",
    "**The disadvantages of support vector machines include:**\n",
    "\n",
    "* If the number of features is much greater than the number of samples, avoid over-fitting in choosing Kernel functions and regularization term is crucial.\n",
    "\n",
    "* SVMs do not directly provide probability estimates.\n",
    "\n",
    "<hr>\n",
    "\n",
    "### SVC classification SVM implementation:"
   ]
  },
  {
   "cell_type": "code",
   "execution_count": 3,
   "metadata": {},
   "outputs": [
    {
     "name": "stdout",
     "output_type": "stream",
     "text": [
      "Accuracy: 0.8281\n",
      "AUC-ROC: 0.8987\n"
     ]
    }
   ],
   "source": [
    "# ---------------------------------------------------------------------------- #\n",
    "#                                     MODEL                                    #\n",
    "# ---------------------------------------------------------------------------- #\n",
    "\n",
    "# Create model\n",
    "model = svm.SVC(random_state=Random_Seed, probability=True)\n",
    "\n",
    "if Cross_Validation:\n",
    "    cv_results = cross_validate(model, X, y, scoring=['accuracy', 'roc_auc'])\n",
    "    acc = cv_results['test_accuracy'].mean()\n",
    "    roc_auc = cv_results['test_roc_auc'].mean()\n",
    "else:\n",
    "    # Train model\n",
    "    model.fit(train_X, train_y)\n",
    "\n",
    "    # Test model\n",
    "    y_pred = model.predict(test_X)\n",
    "    pred_probs = model.predict_proba(test_X)\n",
    "\n",
    "    # Evaluation\n",
    "    acc = accuracy_score(test_y, y_pred)\n",
    "    roc_auc = roc_auc_score(test_y, pred_probs[:, 1])\n",
    "\n",
    "print(f\"Accuracy: {acc:.4f}\")\n",
    "print(f\"AUC-ROC: {roc_auc:.4f}\")"
   ]
  },
  {
   "cell_type": "code",
   "execution_count": 4,
   "metadata": {},
   "outputs": [
    {
     "name": "stderr",
     "output_type": "stream",
     "text": [
      "/tmp/ipykernel_15542/678142854.py:19: ExperimentalWarning: GPSampler is experimental (supported from v3.6.0). The interface can change in the future.\n",
      "  study = optuna.create_study(direction='maximize', sampler=GPSampler()) #Criando a otimização, o GPSamples é um processo gaussiano\n",
      "[I 2024-10-21 17:59:32,025] A new study created in memory with name: no-name-7b056338-c058-4f1d-9ecf-cca19a165813\n",
      "[I 2024-10-21 17:59:32,046] Trial 0 finished with value: 0.9110615079365079 and parameters: {'C': 0.23500206190885128, 'kernel': 'linear', 'gamma': 'scale'}. Best is trial 0 with value: 0.9110615079365079.\n",
      "[I 2024-10-21 17:59:32,065] Trial 1 finished with value: 0.895056216931217 and parameters: {'C': 4.822875673756542, 'kernel': 'sigmoid', 'gamma': 'scale'}. Best is trial 0 with value: 0.9110615079365079.\n",
      "[I 2024-10-21 17:59:32,087] Trial 2 finished with value: 0.884292328042328 and parameters: {'C': 0.0011547400716194068, 'kernel': 'poly', 'gamma': 'scale'}. Best is trial 0 with value: 0.9110615079365079.\n",
      "[I 2024-10-21 17:59:32,108] Trial 3 finished with value: 0.890162037037037 and parameters: {'C': 0.0005247205660969763, 'kernel': 'linear', 'gamma': 'scale'}. Best is trial 0 with value: 0.9110615079365079.\n",
      "[I 2024-10-21 17:59:32,133] Trial 4 finished with value: 0.8237351190476192 and parameters: {'C': 97.49313030964103, 'kernel': 'rbf', 'gamma': 'scale'}. Best is trial 0 with value: 0.9110615079365079.\n",
      "[I 2024-10-21 17:59:32,158] Trial 5 finished with value: 0.8903687169312171 and parameters: {'C': 0.0014429058369955807, 'kernel': 'rbf', 'gamma': 'scale'}. Best is trial 0 with value: 0.9110615079365079.\n",
      "[I 2024-10-21 17:59:32,180] Trial 6 finished with value: 0.8885003306878307 and parameters: {'C': 0.0031088585646254436, 'kernel': 'rbf', 'gamma': 'auto'}. Best is trial 0 with value: 0.9110615079365079.\n",
      "[I 2024-10-21 17:59:32,200] Trial 7 finished with value: 0.890162037037037 and parameters: {'C': 0.0015240346000434926, 'kernel': 'linear', 'gamma': 'scale'}. Best is trial 0 with value: 0.9110615079365079.\n",
      "[I 2024-10-21 17:59:32,244] Trial 8 finished with value: 0.9119130291005291 and parameters: {'C': 9.62052222887694, 'kernel': 'linear', 'gamma': 'auto'}. Best is trial 8 with value: 0.9119130291005291.\n",
      "[I 2024-10-21 17:59:32,265] Trial 9 finished with value: 0.9059771825396826 and parameters: {'C': 1.181539969244835, 'kernel': 'sigmoid', 'gamma': 'scale'}. Best is trial 8 with value: 0.9119130291005291.\n",
      "[I 2024-10-21 17:59:39,943] Trial 10 finished with value: 0.890839947089947 and parameters: {'C': 0.006196876664095608, 'kernel': 'sigmoid', 'gamma': 'scale'}. Best is trial 8 with value: 0.9119130291005291.\n",
      "[I 2024-10-21 17:59:40,075] Trial 11 finished with value: 0.9103339947089948 and parameters: {'C': 0.6825642262187434, 'kernel': 'linear', 'gamma': 'auto'}. Best is trial 8 with value: 0.9119130291005291.\n",
      "[I 2024-10-21 17:59:40,209] Trial 12 finished with value: 0.9128224206349207 and parameters: {'C': 3.7046249197444836, 'kernel': 'linear', 'gamma': 'scale'}. Best is trial 12 with value: 0.9128224206349207.\n",
      "[I 2024-10-21 17:59:40,343] Trial 13 finished with value: 0.8882771164021165 and parameters: {'C': 1e-05, 'kernel': 'rbf', 'gamma': 'auto'}. Best is trial 12 with value: 0.9128224206349207.\n",
      "[I 2024-10-21 17:59:40,665] Trial 14 finished with value: 0.9112103174603176 and parameters: {'C': 99.88257825206361, 'kernel': 'linear', 'gamma': 'scale'}. Best is trial 12 with value: 0.9128224206349207.\n",
      "[I 2024-10-21 17:59:40,796] Trial 15 finished with value: 0.7999917328042329 and parameters: {'C': 100.0, 'kernel': 'poly', 'gamma': 'auto'}. Best is trial 12 with value: 0.9128224206349207.\n",
      "[I 2024-10-21 17:59:40,906] Trial 16 finished with value: 0.8861524470899471 and parameters: {'C': 1e-05, 'kernel': 'poly', 'gamma': 'auto'}. Best is trial 12 with value: 0.9128224206349207.\n",
      "[I 2024-10-21 17:59:41,041] Trial 17 finished with value: 0.9103339947089946 and parameters: {'C': 0.2523313367395242, 'kernel': 'sigmoid', 'gamma': 'auto'}. Best is trial 12 with value: 0.9128224206349207.\n",
      "[I 2024-10-21 17:59:41,331] Trial 18 finished with value: 0.9114335317460318 and parameters: {'C': 100.0, 'kernel': 'linear', 'gamma': 'auto'}. Best is trial 12 with value: 0.9128224206349207.\n",
      "[I 2024-10-21 17:59:41,454] Trial 19 finished with value: 0.8910714285714285 and parameters: {'C': 1e-05, 'kernel': 'sigmoid', 'gamma': 'auto'}. Best is trial 12 with value: 0.9128224206349207.\n",
      "[I 2024-10-21 17:59:41,582] Trial 20 finished with value: 0.8894593253968253 and parameters: {'C': 1e-05, 'kernel': 'linear', 'gamma': 'auto'}. Best is trial 12 with value: 0.9128224206349207.\n",
      "[I 2024-10-21 17:59:41,803] Trial 21 finished with value: 0.9112433862433862 and parameters: {'C': 1.191172237172492, 'kernel': 'linear', 'gamma': 'scale'}. Best is trial 12 with value: 0.9128224206349207.\n",
      "[I 2024-10-21 17:59:42,004] Trial 22 finished with value: 0.9109788359788361 and parameters: {'C': 17.141210476131256, 'kernel': 'linear', 'gamma': 'scale'}. Best is trial 12 with value: 0.9128224206349207.\n",
      "[I 2024-10-21 17:59:42,287] Trial 23 finished with value: 0.9112020502645504 and parameters: {'C': 27.748704227434278, 'kernel': 'linear', 'gamma': 'auto'}. Best is trial 12 with value: 0.9128224206349207.\n",
      "[I 2024-10-21 17:59:42,509] Trial 24 finished with value: 0.9122106481481481 and parameters: {'C': 0.18976282573136297, 'kernel': 'sigmoid', 'gamma': 'scale'}. Best is trial 12 with value: 0.9128224206349207.\n",
      "[I 2024-10-21 17:59:42,675] Trial 25 finished with value: 0.9123594576719578 and parameters: {'C': 3.5855450931881085, 'kernel': 'linear', 'gamma': 'auto'}. Best is trial 12 with value: 0.9128224206349207.\n",
      "[I 2024-10-21 17:59:42,897] Trial 26 finished with value: 0.9123594576719578 and parameters: {'C': 4.335658871906902, 'kernel': 'linear', 'gamma': 'scale'}. Best is trial 12 with value: 0.9128224206349207.\n",
      "[I 2024-10-21 17:59:43,066] Trial 27 finished with value: 0.9112516534391533 and parameters: {'C': 0.07410607463552782, 'kernel': 'linear', 'gamma': 'auto'}. Best is trial 12 with value: 0.9128224206349207.\n",
      "[I 2024-10-21 17:59:43,300] Trial 28 finished with value: 0.9010333994708996 and parameters: {'C': 0.07584809641888313, 'kernel': 'sigmoid', 'gamma': 'auto'}. Best is trial 12 with value: 0.9128224206349207.\n",
      "[I 2024-10-21 17:59:43,523] Trial 29 finished with value: 0.9082919973544973 and parameters: {'C': 0.7653417121050697, 'kernel': 'sigmoid', 'gamma': 'auto'}. Best is trial 12 with value: 0.9128224206349207.\n",
      "[I 2024-10-21 17:59:43,710] Trial 30 finished with value: 0.9101107804232804 and parameters: {'C': 0.2997507337677029, 'kernel': 'sigmoid', 'gamma': 'scale'}. Best is trial 12 with value: 0.9128224206349207.\n",
      "[I 2024-10-21 17:59:43,966] Trial 31 finished with value: 0.9123594576719578 and parameters: {'C': 4.37833678105026, 'kernel': 'linear', 'gamma': 'scale'}. Best is trial 12 with value: 0.9128224206349207.\n",
      "[I 2024-10-21 17:59:44,138] Trial 32 finished with value: 0.9125909391534393 and parameters: {'C': 4.7793341000022584, 'kernel': 'linear', 'gamma': 'auto'}. Best is trial 12 with value: 0.9128224206349207.\n",
      "[I 2024-10-21 17:59:44,313] Trial 33 finished with value: 0.9105902777777779 and parameters: {'C': 0.17450432729145407, 'kernel': 'linear', 'gamma': 'auto'}. Best is trial 12 with value: 0.9128224206349207.\n",
      "[I 2024-10-21 17:59:44,525] Trial 34 finished with value: 0.9123594576719578 and parameters: {'C': 4.455718457296382, 'kernel': 'linear', 'gamma': 'auto'}. Best is trial 12 with value: 0.9128224206349207.\n",
      "[I 2024-10-21 17:59:44,776] Trial 35 finished with value: 0.9114831349206348 and parameters: {'C': 0.06986378506089638, 'kernel': 'linear', 'gamma': 'scale'}. Best is trial 12 with value: 0.9128224206349207.\n",
      "[I 2024-10-21 17:59:44,947] Trial 36 finished with value: 0.8907655423280424 and parameters: {'C': 0.07908394023888837, 'kernel': 'rbf', 'gamma': 'scale'}. Best is trial 12 with value: 0.9128224206349207.\n",
      "[I 2024-10-21 17:59:45,362] Trial 37 finished with value: 0.912590939153439 and parameters: {'C': 3.2357797208084, 'kernel': 'linear', 'gamma': 'scale'}. Best is trial 12 with value: 0.9128224206349207.\n",
      "[I 2024-10-21 17:59:45,827] Trial 38 finished with value: 0.8901455026455025 and parameters: {'C': 1e-05, 'kernel': 'sigmoid', 'gamma': 'scale'}. Best is trial 12 with value: 0.9128224206349207.\n",
      "[I 2024-10-21 17:59:46,523] Trial 39 finished with value: 0.8868055555555555 and parameters: {'C': 0.04676418763967278, 'kernel': 'poly', 'gamma': 'auto'}. Best is trial 12 with value: 0.9128224206349207.\n",
      "[I 2024-10-21 17:59:46,901] Trial 40 finished with value: 0.9123594576719578 and parameters: {'C': 2.788538769216395, 'kernel': 'linear', 'gamma': 'auto'}. Best is trial 12 with value: 0.9128224206349207.\n",
      "[I 2024-10-21 17:59:47,065] Trial 41 finished with value: 0.9064732142857143 and parameters: {'C': 0.10624098545075696, 'kernel': 'sigmoid', 'gamma': 'scale'}. Best is trial 12 with value: 0.9128224206349207.\n",
      "[I 2024-10-21 17:59:47,302] Trial 42 finished with value: 0.9125909391534393 and parameters: {'C': 4.740512975693584, 'kernel': 'linear', 'gamma': 'scale'}. Best is trial 12 with value: 0.9128224206349207.\n",
      "[I 2024-10-21 17:59:47,528] Trial 43 finished with value: 0.9121279761904763 and parameters: {'C': 3.018074294459876, 'kernel': 'linear', 'gamma': 'scale'}. Best is trial 12 with value: 0.9128224206349207.\n",
      "[I 2024-10-21 17:59:47,751] Trial 44 finished with value: 0.9125909391534393 and parameters: {'C': 5.327076810163195, 'kernel': 'linear', 'gamma': 'auto'}. Best is trial 12 with value: 0.9128224206349207.\n",
      "[I 2024-10-21 17:59:47,958] Trial 45 finished with value: 0.9119130291005291 and parameters: {'C': 5.769867947407606, 'kernel': 'linear', 'gamma': 'scale'}. Best is trial 12 with value: 0.9128224206349207.\n",
      "[I 2024-10-21 17:59:48,143] Trial 46 finished with value: 0.9123594576719578 and parameters: {'C': 3.437853803822133, 'kernel': 'linear', 'gamma': 'auto'}. Best is trial 12 with value: 0.9128224206349207.\n",
      "[I 2024-10-21 17:59:48,324] Trial 47 finished with value: 0.9123677248677249 and parameters: {'C': 5.621399570523102, 'kernel': 'linear', 'gamma': 'auto'}. Best is trial 12 with value: 0.9128224206349207.\n",
      "[I 2024-10-21 17:59:48,512] Trial 48 finished with value: 0.8901455026455025 and parameters: {'C': 0.00018773082713068352, 'kernel': 'sigmoid', 'gamma': 'auto'}. Best is trial 12 with value: 0.9128224206349207.\n",
      "[I 2024-10-21 17:59:48,707] Trial 49 finished with value: 0.9123594576719578 and parameters: {'C': 2.7904697689737845, 'kernel': 'linear', 'gamma': 'scale'}. Best is trial 12 with value: 0.9128224206349207.\n",
      "[I 2024-10-21 17:59:48,939] Trial 50 finished with value: 0.9123594576719576 and parameters: {'C': 2.955068740256255, 'kernel': 'linear', 'gamma': 'auto'}. Best is trial 12 with value: 0.9128224206349207.\n",
      "[I 2024-10-21 17:59:49,148] Trial 51 finished with value: 0.9105902777777779 and parameters: {'C': 0.02981491762836223, 'kernel': 'linear', 'gamma': 'auto'}. Best is trial 12 with value: 0.9128224206349207.\n",
      "[I 2024-10-21 17:59:49,343] Trial 52 finished with value: 0.9125909391534393 and parameters: {'C': 5.396441129538766, 'kernel': 'linear', 'gamma': 'auto'}. Best is trial 12 with value: 0.9128224206349207.\n",
      "[I 2024-10-21 17:59:49,566] Trial 53 finished with value: 0.8725446428571428 and parameters: {'C': 100.0, 'kernel': 'sigmoid', 'gamma': 'auto'}. Best is trial 12 with value: 0.9128224206349207.\n",
      "[I 2024-10-21 17:59:49,765] Trial 54 finished with value: 0.9125909391534393 and parameters: {'C': 5.1871212207274, 'kernel': 'linear', 'gamma': 'auto'}. Best is trial 12 with value: 0.9128224206349207.\n",
      "[I 2024-10-21 17:59:49,993] Trial 55 finished with value: 0.9123594576719578 and parameters: {'C': 4.14236177603735, 'kernel': 'linear', 'gamma': 'auto'}. Best is trial 12 with value: 0.9128224206349207.\n",
      "[I 2024-10-21 17:59:50,299] Trial 56 finished with value: 0.9109788359788361 and parameters: {'C': 49.89863633397843, 'kernel': 'linear', 'gamma': 'scale'}. Best is trial 12 with value: 0.9128224206349207.\n",
      "[I 2024-10-21 17:59:50,530] Trial 57 finished with value: 0.9121279761904763 and parameters: {'C': 2.878005918242186, 'kernel': 'linear', 'gamma': 'scale'}. Best is trial 12 with value: 0.9128224206349207.\n",
      "[I 2024-10-21 17:59:50,793] Trial 58 finished with value: 0.9115244708994709 and parameters: {'C': 0.036364287227202016, 'kernel': 'linear', 'gamma': 'scale'}. Best is trial 12 with value: 0.9128224206349207.\n",
      "[I 2024-10-21 17:59:51,055] Trial 59 finished with value: 0.9119130291005291 and parameters: {'C': 6.2378338428606845, 'kernel': 'linear', 'gamma': 'auto'}. Best is trial 12 with value: 0.9128224206349207.\n",
      "[I 2024-10-21 17:59:51,290] Trial 60 finished with value: 0.9121279761904763 and parameters: {'C': 2.4910144713126376, 'kernel': 'linear', 'gamma': 'auto'}. Best is trial 12 with value: 0.9128224206349207.\n",
      "[I 2024-10-21 17:59:51,516] Trial 61 finished with value: 0.9125909391534393 and parameters: {'C': 5.500776364807758, 'kernel': 'linear', 'gamma': 'scale'}. Best is trial 12 with value: 0.9128224206349207.\n",
      "[I 2024-10-21 17:59:51,758] Trial 62 finished with value: 0.8882771164021165 and parameters: {'C': 0.00013148539059016224, 'kernel': 'rbf', 'gamma': 'auto'}. Best is trial 12 with value: 0.9128224206349207.\n",
      "[I 2024-10-21 17:59:51,999] Trial 63 finished with value: 0.9125909391534393 and parameters: {'C': 5.142730219323685, 'kernel': 'linear', 'gamma': 'scale'}. Best is trial 12 with value: 0.9128224206349207.\n",
      "[I 2024-10-21 17:59:52,202] Trial 64 finished with value: 0.9123594576719578 and parameters: {'C': 4.0011170996910845, 'kernel': 'linear', 'gamma': 'scale'}. Best is trial 12 with value: 0.9128224206349207.\n",
      "[I 2024-10-21 17:59:52,538] Trial 65 finished with value: 0.9112020502645504 and parameters: {'C': 58.72148758710344, 'kernel': 'linear', 'gamma': 'auto'}. Best is trial 12 with value: 0.9128224206349207.\n",
      "[I 2024-10-21 17:59:52,815] Trial 66 finished with value: 0.9119130291005291 and parameters: {'C': 6.511746273594849, 'kernel': 'linear', 'gamma': 'scale'}. Best is trial 12 with value: 0.9128224206349207.\n",
      "[I 2024-10-21 17:59:53,083] Trial 67 finished with value: 0.9123594576719578 and parameters: {'C': 4.010642353221326, 'kernel': 'linear', 'gamma': 'auto'}. Best is trial 12 with value: 0.9128224206349207.\n",
      "[I 2024-10-21 17:59:53,308] Trial 68 finished with value: 0.9073743386243386 and parameters: {'C': 0.7451978377148172, 'kernel': 'rbf', 'gamma': 'auto'}. Best is trial 12 with value: 0.9128224206349207.\n",
      "[I 2024-10-21 17:59:53,578] Trial 69 finished with value: 0.8977347883597885 and parameters: {'C': 0.5488764988872689, 'kernel': 'poly', 'gamma': 'scale'}. Best is trial 12 with value: 0.9128224206349207.\n",
      "[I 2024-10-21 17:59:53,773] Trial 70 finished with value: 0.8984540343915344 and parameters: {'C': 1.2430875738810165, 'kernel': 'rbf', 'gamma': 'scale'}. Best is trial 12 with value: 0.9128224206349207.\n",
      "[I 2024-10-21 17:59:54,004] Trial 71 finished with value: 0.8865988756613756 and parameters: {'C': 9.738895450450684e-05, 'kernel': 'poly', 'gamma': 'scale'}. Best is trial 12 with value: 0.9128224206349207.\n",
      "[I 2024-10-21 17:59:54,219] Trial 72 finished with value: 0.9014054232804233 and parameters: {'C': 0.3353933800793213, 'kernel': 'rbf', 'gamma': 'auto'}. Best is trial 12 with value: 0.9128224206349207.\n",
      "[I 2024-10-21 17:59:54,552] Trial 73 finished with value: 0.9107638888888889 and parameters: {'C': 0.01529248301941686, 'kernel': 'linear', 'gamma': 'scale'}. Best is trial 12 with value: 0.9128224206349207.\n",
      "[I 2024-10-21 17:59:54,824] Trial 74 finished with value: 0.890162037037037 and parameters: {'C': 5.800031742048666e-05, 'kernel': 'linear', 'gamma': 'scale'}. Best is trial 12 with value: 0.9128224206349207.\n",
      "[I 2024-10-21 17:59:55,021] Trial 75 finished with value: 0.9087136243386243 and parameters: {'C': 0.010589074558432226, 'kernel': 'linear', 'gamma': 'auto'}. Best is trial 12 with value: 0.9128224206349207.\n",
      "[I 2024-10-21 17:59:55,256] Trial 76 finished with value: 0.9114666005291004 and parameters: {'C': 0.5049545095576545, 'kernel': 'linear', 'gamma': 'scale'}. Best is trial 12 with value: 0.9128224206349207.\n",
      "[I 2024-10-21 17:59:55,489] Trial 77 finished with value: 0.9000909391534393 and parameters: {'C': 2.271893132474382, 'kernel': 'rbf', 'gamma': 'auto'}. Best is trial 12 with value: 0.9128224206349207.\n",
      "[I 2024-10-21 17:59:55,749] Trial 78 finished with value: 0.890376984126984 and parameters: {'C': 0.0012331042482913745, 'kernel': 'sigmoid', 'gamma': 'auto'}. Best is trial 12 with value: 0.9128224206349207.\n",
      "[I 2024-10-21 17:59:55,958] Trial 79 finished with value: 0.901645171957672 and parameters: {'C': 1.5390455918360537, 'kernel': 'poly', 'gamma': 'auto'}. Best is trial 12 with value: 0.9128224206349207.\n",
      "[I 2024-10-21 17:59:56,164] Trial 80 finished with value: 0.9117642195767196 and parameters: {'C': 1.970227453331061, 'kernel': 'sigmoid', 'gamma': 'auto'}. Best is trial 12 with value: 0.9128224206349207.\n",
      "[I 2024-10-21 17:59:56,410] Trial 81 finished with value: 0.900934193121693 and parameters: {'C': 0.43345632840811193, 'kernel': 'poly', 'gamma': 'auto'}. Best is trial 12 with value: 0.9128224206349207.\n",
      "[I 2024-10-21 17:59:56,597] Trial 82 finished with value: 0.9124090608465609 and parameters: {'C': 0.12169437239080452, 'kernel': 'linear', 'gamma': 'scale'}. Best is trial 12 with value: 0.9128224206349207.\n",
      "[I 2024-10-21 17:59:56,821] Trial 83 finished with value: 0.9123429232804232 and parameters: {'C': 1.5641487830073093, 'kernel': 'linear', 'gamma': 'auto'}. Best is trial 12 with value: 0.9128224206349207.\n",
      "[I 2024-10-21 17:59:57,048] Trial 84 finished with value: 0.9109788359788361 and parameters: {'C': 15.491123444400616, 'kernel': 'linear', 'gamma': 'auto'}. Best is trial 12 with value: 0.9128224206349207.\n",
      "[I 2024-10-21 17:59:57,277] Trial 85 finished with value: 0.9121693121693122 and parameters: {'C': 0.11789186772140646, 'kernel': 'linear', 'gamma': 'scale'}. Best is trial 12 with value: 0.9128224206349207.\n",
      "[I 2024-10-21 17:59:57,479] Trial 86 finished with value: 0.8845238095238095 and parameters: {'C': 0.006391321175069818, 'kernel': 'poly', 'gamma': 'auto'}. Best is trial 12 with value: 0.9128224206349207.\n",
      "[I 2024-10-21 17:59:57,758] Trial 87 finished with value: 0.9117228835978836 and parameters: {'C': 0.02375354052213566, 'kernel': 'linear', 'gamma': 'scale'}. Best is trial 12 with value: 0.9128224206349207.\n",
      "[I 2024-10-21 17:59:58,035] Trial 88 finished with value: 0.8906001984126984 and parameters: {'C': 3.579425735657809e-05, 'kernel': 'rbf', 'gamma': 'scale'}. Best is trial 12 with value: 0.9128224206349207.\n",
      "[I 2024-10-21 17:59:58,218] Trial 89 finished with value: 0.9082671957671957 and parameters: {'C': 1.5209745856961248, 'kernel': 'sigmoid', 'gamma': 'auto'}. Best is trial 12 with value: 0.9128224206349207.\n",
      "[I 2024-10-21 17:59:58,436] Trial 90 finished with value: 0.9114748677248677 and parameters: {'C': 3.3130010757686876, 'kernel': 'sigmoid', 'gamma': 'auto'}. Best is trial 12 with value: 0.9128224206349207.\n",
      "[I 2024-10-21 17:59:58,676] Trial 91 finished with value: 0.9137235449735449 and parameters: {'C': 1.8133998891442105, 'kernel': 'linear', 'gamma': 'auto'}. Best is trial 91 with value: 0.9137235449735449.\n",
      "[I 2024-10-21 17:59:58,892] Trial 92 finished with value: 0.890162037037037 and parameters: {'C': 0.00015617118557827216, 'kernel': 'linear', 'gamma': 'auto'}. Best is trial 91 with value: 0.9137235449735449.\n",
      "[I 2024-10-21 17:59:59,119] Trial 93 finished with value: 0.8899140211640211 and parameters: {'C': 0.0005084855951448887, 'kernel': 'sigmoid', 'gamma': 'scale'}. Best is trial 91 with value: 0.9137235449735449.\n",
      "[I 2024-10-21 17:59:59,361] Trial 94 finished with value: 0.8909226190476189 and parameters: {'C': 7.876689321474203, 'kernel': 'sigmoid', 'gamma': 'auto'}. Best is trial 91 with value: 0.9137235449735449.\n",
      "[I 2024-10-21 17:59:59,553] Trial 95 finished with value: 0.8901372354497354 and parameters: {'C': 0.01336917661024523, 'kernel': 'rbf', 'gamma': 'scale'}. Best is trial 91 with value: 0.9137235449735449.\n",
      "[I 2024-10-21 17:59:59,814] Trial 96 finished with value: 0.8901455026455025 and parameters: {'C': 4.4711727596626835e-05, 'kernel': 'sigmoid', 'gamma': 'scale'}. Best is trial 91 with value: 0.9137235449735449.\n",
      "[I 2024-10-21 18:00:00,013] Trial 97 finished with value: 0.9044064153439153 and parameters: {'C': 0.007139916764391096, 'kernel': 'linear', 'gamma': 'scale'}. Best is trial 91 with value: 0.9137235449735449.\n",
      "[I 2024-10-21 18:00:00,232] Trial 98 finished with value: 0.8865988756613756 and parameters: {'C': 0.0003200622510724165, 'kernel': 'poly', 'gamma': 'auto'}. Best is trial 91 with value: 0.9137235449735449.\n",
      "[I 2024-10-21 18:00:00,481] Trial 99 finished with value: 0.9115823412698413 and parameters: {'C': 2.5911921182037285, 'kernel': 'sigmoid', 'gamma': 'auto'}. Best is trial 91 with value: 0.9137235449735449.\n"
     ]
    }
   ],
   "source": [
    "# ---------------------------------------------------------------------------- #\n",
    "#                                 OPTIMIZATION                                 #\n",
    "# ---------------------------------------------------------------------------- #\n",
    "\n",
    "# Objective function\n",
    "def objective(trial):\n",
    "      # Sugerindo os hiperparâmetros a serem otimizados\n",
    "      C = trial.suggest_float('C', 1e-5, 1e2, log=True)  # Faixa de valores para o parâmetro de regularização C\n",
    "      kernel = trial.suggest_categorical('kernel', ['linear', 'poly', 'rbf', 'sigmoid'])  # Seleção do kernel\n",
    "      gamma = trial.suggest_categorical('gamma', ['scale', 'auto'])  # Opções para o parâmetro gamma\n",
    "\n",
    "      # Criando o modelo SVC com os parâmetros sugeridos\n",
    "      clf = sklearn.svm.SVC(C=C, kernel=kernel, gamma=gamma)\n",
    "      # Otimizando a média da validação cruzada\n",
    "      return sklearn.model_selection.cross_val_score(clf, X, y, scoring = 'roc_auc').mean() # Estamos otimizando o score da validação cruzada\n",
    "\n",
    "\n",
    "# Executando o optuna\n",
    "study = optuna.create_study(direction='maximize', sampler=GPSampler()) #Criando a otimização, o GPSamples é um processo gaussiano\n",
    "study.optimize(objective, n_trials=100) #Rodar a otimização"
   ]
  },
  {
   "cell_type": "code",
   "execution_count": 5,
   "metadata": {},
   "outputs": [
    {
     "name": "stdout",
     "output_type": "stream",
     "text": [
      "ROC_AUC: 0.9137235449735449\n",
      "Best hyperparameters: {'C': 1.8133998891442105, 'kernel': 'linear', 'gamma': 'auto'}\n"
     ]
    }
   ],
   "source": [
    "# Mostrando o melhor modelo\n",
    "trial = study.best_trial\n",
    "print('ROC_AUC: {}'.format(trial.value))\n",
    "print(\"Best hyperparameters: {}\".format(trial.params))"
   ]
  },
  {
   "cell_type": "code",
   "execution_count": 6,
   "metadata": {},
   "outputs": [
    {
     "data": {
      "application/vnd.plotly.v1+json": {
       "config": {
        "plotlyServerURL": "https://plot.ly"
       },
       "data": [
        {
         "mode": "markers",
         "name": "Objective Value",
         "type": "scatter",
         "x": [
          0,
          1,
          2,
          3,
          4,
          5,
          6,
          7,
          8,
          9,
          10,
          11,
          12,
          13,
          14,
          15,
          16,
          17,
          18,
          19,
          20,
          21,
          22,
          23,
          24,
          25,
          26,
          27,
          28,
          29,
          30,
          31,
          32,
          33,
          34,
          35,
          36,
          37,
          38,
          39,
          40,
          41,
          42,
          43,
          44,
          45,
          46,
          47,
          48,
          49,
          50,
          51,
          52,
          53,
          54,
          55,
          56,
          57,
          58,
          59,
          60,
          61,
          62,
          63,
          64,
          65,
          66,
          67,
          68,
          69,
          70,
          71,
          72,
          73,
          74,
          75,
          76,
          77,
          78,
          79,
          80,
          81,
          82,
          83,
          84,
          85,
          86,
          87,
          88,
          89,
          90,
          91,
          92,
          93,
          94,
          95,
          96,
          97,
          98,
          99
         ],
         "y": [
          0.9110615079365079,
          0.895056216931217,
          0.884292328042328,
          0.890162037037037,
          0.8237351190476192,
          0.8903687169312171,
          0.8885003306878307,
          0.890162037037037,
          0.9119130291005291,
          0.9059771825396826,
          0.890839947089947,
          0.9103339947089948,
          0.9128224206349207,
          0.8882771164021165,
          0.9112103174603176,
          0.7999917328042329,
          0.8861524470899471,
          0.9103339947089946,
          0.9114335317460318,
          0.8910714285714285,
          0.8894593253968253,
          0.9112433862433862,
          0.9109788359788361,
          0.9112020502645504,
          0.9122106481481481,
          0.9123594576719578,
          0.9123594576719578,
          0.9112516534391533,
          0.9010333994708996,
          0.9082919973544973,
          0.9101107804232804,
          0.9123594576719578,
          0.9125909391534393,
          0.9105902777777779,
          0.9123594576719578,
          0.9114831349206348,
          0.8907655423280424,
          0.912590939153439,
          0.8901455026455025,
          0.8868055555555555,
          0.9123594576719578,
          0.9064732142857143,
          0.9125909391534393,
          0.9121279761904763,
          0.9125909391534393,
          0.9119130291005291,
          0.9123594576719578,
          0.9123677248677249,
          0.8901455026455025,
          0.9123594576719578,
          0.9123594576719576,
          0.9105902777777779,
          0.9125909391534393,
          0.8725446428571428,
          0.9125909391534393,
          0.9123594576719578,
          0.9109788359788361,
          0.9121279761904763,
          0.9115244708994709,
          0.9119130291005291,
          0.9121279761904763,
          0.9125909391534393,
          0.8882771164021165,
          0.9125909391534393,
          0.9123594576719578,
          0.9112020502645504,
          0.9119130291005291,
          0.9123594576719578,
          0.9073743386243386,
          0.8977347883597885,
          0.8984540343915344,
          0.8865988756613756,
          0.9014054232804233,
          0.9107638888888889,
          0.890162037037037,
          0.9087136243386243,
          0.9114666005291004,
          0.9000909391534393,
          0.890376984126984,
          0.901645171957672,
          0.9117642195767196,
          0.900934193121693,
          0.9124090608465609,
          0.9123429232804232,
          0.9109788359788361,
          0.9121693121693122,
          0.8845238095238095,
          0.9117228835978836,
          0.8906001984126984,
          0.9082671957671957,
          0.9114748677248677,
          0.9137235449735449,
          0.890162037037037,
          0.8899140211640211,
          0.8909226190476189,
          0.8901372354497354,
          0.8901455026455025,
          0.9044064153439153,
          0.8865988756613756,
          0.9115823412698413
         ]
        },
        {
         "mode": "lines",
         "name": "Best Value",
         "type": "scatter",
         "x": [
          0,
          1,
          2,
          3,
          4,
          5,
          6,
          7,
          8,
          9,
          10,
          11,
          12,
          13,
          14,
          15,
          16,
          17,
          18,
          19,
          20,
          21,
          22,
          23,
          24,
          25,
          26,
          27,
          28,
          29,
          30,
          31,
          32,
          33,
          34,
          35,
          36,
          37,
          38,
          39,
          40,
          41,
          42,
          43,
          44,
          45,
          46,
          47,
          48,
          49,
          50,
          51,
          52,
          53,
          54,
          55,
          56,
          57,
          58,
          59,
          60,
          61,
          62,
          63,
          64,
          65,
          66,
          67,
          68,
          69,
          70,
          71,
          72,
          73,
          74,
          75,
          76,
          77,
          78,
          79,
          80,
          81,
          82,
          83,
          84,
          85,
          86,
          87,
          88,
          89,
          90,
          91,
          92,
          93,
          94,
          95,
          96,
          97,
          98,
          99
         ],
         "y": [
          0.9110615079365079,
          0.9110615079365079,
          0.9110615079365079,
          0.9110615079365079,
          0.9110615079365079,
          0.9110615079365079,
          0.9110615079365079,
          0.9110615079365079,
          0.9119130291005291,
          0.9119130291005291,
          0.9119130291005291,
          0.9119130291005291,
          0.9128224206349207,
          0.9128224206349207,
          0.9128224206349207,
          0.9128224206349207,
          0.9128224206349207,
          0.9128224206349207,
          0.9128224206349207,
          0.9128224206349207,
          0.9128224206349207,
          0.9128224206349207,
          0.9128224206349207,
          0.9128224206349207,
          0.9128224206349207,
          0.9128224206349207,
          0.9128224206349207,
          0.9128224206349207,
          0.9128224206349207,
          0.9128224206349207,
          0.9128224206349207,
          0.9128224206349207,
          0.9128224206349207,
          0.9128224206349207,
          0.9128224206349207,
          0.9128224206349207,
          0.9128224206349207,
          0.9128224206349207,
          0.9128224206349207,
          0.9128224206349207,
          0.9128224206349207,
          0.9128224206349207,
          0.9128224206349207,
          0.9128224206349207,
          0.9128224206349207,
          0.9128224206349207,
          0.9128224206349207,
          0.9128224206349207,
          0.9128224206349207,
          0.9128224206349207,
          0.9128224206349207,
          0.9128224206349207,
          0.9128224206349207,
          0.9128224206349207,
          0.9128224206349207,
          0.9128224206349207,
          0.9128224206349207,
          0.9128224206349207,
          0.9128224206349207,
          0.9128224206349207,
          0.9128224206349207,
          0.9128224206349207,
          0.9128224206349207,
          0.9128224206349207,
          0.9128224206349207,
          0.9128224206349207,
          0.9128224206349207,
          0.9128224206349207,
          0.9128224206349207,
          0.9128224206349207,
          0.9128224206349207,
          0.9128224206349207,
          0.9128224206349207,
          0.9128224206349207,
          0.9128224206349207,
          0.9128224206349207,
          0.9128224206349207,
          0.9128224206349207,
          0.9128224206349207,
          0.9128224206349207,
          0.9128224206349207,
          0.9128224206349207,
          0.9128224206349207,
          0.9128224206349207,
          0.9128224206349207,
          0.9128224206349207,
          0.9128224206349207,
          0.9128224206349207,
          0.9128224206349207,
          0.9128224206349207,
          0.9128224206349207,
          0.9137235449735449,
          0.9137235449735449,
          0.9137235449735449,
          0.9137235449735449,
          0.9137235449735449,
          0.9137235449735449,
          0.9137235449735449,
          0.9137235449735449,
          0.9137235449735449
         ]
        },
        {
         "marker": {
          "color": "#cccccc"
         },
         "mode": "markers",
         "name": "Infeasible Trial",
         "showlegend": false,
         "type": "scatter",
         "x": [],
         "y": []
        }
       ],
       "layout": {
        "template": {
         "data": {
          "bar": [
           {
            "error_x": {
             "color": "#2a3f5f"
            },
            "error_y": {
             "color": "#2a3f5f"
            },
            "marker": {
             "line": {
              "color": "#E5ECF6",
              "width": 0.5
             },
             "pattern": {
              "fillmode": "overlay",
              "size": 10,
              "solidity": 0.2
             }
            },
            "type": "bar"
           }
          ],
          "barpolar": [
           {
            "marker": {
             "line": {
              "color": "#E5ECF6",
              "width": 0.5
             },
             "pattern": {
              "fillmode": "overlay",
              "size": 10,
              "solidity": 0.2
             }
            },
            "type": "barpolar"
           }
          ],
          "carpet": [
           {
            "aaxis": {
             "endlinecolor": "#2a3f5f",
             "gridcolor": "white",
             "linecolor": "white",
             "minorgridcolor": "white",
             "startlinecolor": "#2a3f5f"
            },
            "baxis": {
             "endlinecolor": "#2a3f5f",
             "gridcolor": "white",
             "linecolor": "white",
             "minorgridcolor": "white",
             "startlinecolor": "#2a3f5f"
            },
            "type": "carpet"
           }
          ],
          "choropleth": [
           {
            "colorbar": {
             "outlinewidth": 0,
             "ticks": ""
            },
            "type": "choropleth"
           }
          ],
          "contour": [
           {
            "colorbar": {
             "outlinewidth": 0,
             "ticks": ""
            },
            "colorscale": [
             [
              0,
              "#0d0887"
             ],
             [
              0.1111111111111111,
              "#46039f"
             ],
             [
              0.2222222222222222,
              "#7201a8"
             ],
             [
              0.3333333333333333,
              "#9c179e"
             ],
             [
              0.4444444444444444,
              "#bd3786"
             ],
             [
              0.5555555555555556,
              "#d8576b"
             ],
             [
              0.6666666666666666,
              "#ed7953"
             ],
             [
              0.7777777777777778,
              "#fb9f3a"
             ],
             [
              0.8888888888888888,
              "#fdca26"
             ],
             [
              1,
              "#f0f921"
             ]
            ],
            "type": "contour"
           }
          ],
          "contourcarpet": [
           {
            "colorbar": {
             "outlinewidth": 0,
             "ticks": ""
            },
            "type": "contourcarpet"
           }
          ],
          "heatmap": [
           {
            "colorbar": {
             "outlinewidth": 0,
             "ticks": ""
            },
            "colorscale": [
             [
              0,
              "#0d0887"
             ],
             [
              0.1111111111111111,
              "#46039f"
             ],
             [
              0.2222222222222222,
              "#7201a8"
             ],
             [
              0.3333333333333333,
              "#9c179e"
             ],
             [
              0.4444444444444444,
              "#bd3786"
             ],
             [
              0.5555555555555556,
              "#d8576b"
             ],
             [
              0.6666666666666666,
              "#ed7953"
             ],
             [
              0.7777777777777778,
              "#fb9f3a"
             ],
             [
              0.8888888888888888,
              "#fdca26"
             ],
             [
              1,
              "#f0f921"
             ]
            ],
            "type": "heatmap"
           }
          ],
          "heatmapgl": [
           {
            "colorbar": {
             "outlinewidth": 0,
             "ticks": ""
            },
            "colorscale": [
             [
              0,
              "#0d0887"
             ],
             [
              0.1111111111111111,
              "#46039f"
             ],
             [
              0.2222222222222222,
              "#7201a8"
             ],
             [
              0.3333333333333333,
              "#9c179e"
             ],
             [
              0.4444444444444444,
              "#bd3786"
             ],
             [
              0.5555555555555556,
              "#d8576b"
             ],
             [
              0.6666666666666666,
              "#ed7953"
             ],
             [
              0.7777777777777778,
              "#fb9f3a"
             ],
             [
              0.8888888888888888,
              "#fdca26"
             ],
             [
              1,
              "#f0f921"
             ]
            ],
            "type": "heatmapgl"
           }
          ],
          "histogram": [
           {
            "marker": {
             "pattern": {
              "fillmode": "overlay",
              "size": 10,
              "solidity": 0.2
             }
            },
            "type": "histogram"
           }
          ],
          "histogram2d": [
           {
            "colorbar": {
             "outlinewidth": 0,
             "ticks": ""
            },
            "colorscale": [
             [
              0,
              "#0d0887"
             ],
             [
              0.1111111111111111,
              "#46039f"
             ],
             [
              0.2222222222222222,
              "#7201a8"
             ],
             [
              0.3333333333333333,
              "#9c179e"
             ],
             [
              0.4444444444444444,
              "#bd3786"
             ],
             [
              0.5555555555555556,
              "#d8576b"
             ],
             [
              0.6666666666666666,
              "#ed7953"
             ],
             [
              0.7777777777777778,
              "#fb9f3a"
             ],
             [
              0.8888888888888888,
              "#fdca26"
             ],
             [
              1,
              "#f0f921"
             ]
            ],
            "type": "histogram2d"
           }
          ],
          "histogram2dcontour": [
           {
            "colorbar": {
             "outlinewidth": 0,
             "ticks": ""
            },
            "colorscale": [
             [
              0,
              "#0d0887"
             ],
             [
              0.1111111111111111,
              "#46039f"
             ],
             [
              0.2222222222222222,
              "#7201a8"
             ],
             [
              0.3333333333333333,
              "#9c179e"
             ],
             [
              0.4444444444444444,
              "#bd3786"
             ],
             [
              0.5555555555555556,
              "#d8576b"
             ],
             [
              0.6666666666666666,
              "#ed7953"
             ],
             [
              0.7777777777777778,
              "#fb9f3a"
             ],
             [
              0.8888888888888888,
              "#fdca26"
             ],
             [
              1,
              "#f0f921"
             ]
            ],
            "type": "histogram2dcontour"
           }
          ],
          "mesh3d": [
           {
            "colorbar": {
             "outlinewidth": 0,
             "ticks": ""
            },
            "type": "mesh3d"
           }
          ],
          "parcoords": [
           {
            "line": {
             "colorbar": {
              "outlinewidth": 0,
              "ticks": ""
             }
            },
            "type": "parcoords"
           }
          ],
          "pie": [
           {
            "automargin": true,
            "type": "pie"
           }
          ],
          "scatter": [
           {
            "fillpattern": {
             "fillmode": "overlay",
             "size": 10,
             "solidity": 0.2
            },
            "type": "scatter"
           }
          ],
          "scatter3d": [
           {
            "line": {
             "colorbar": {
              "outlinewidth": 0,
              "ticks": ""
             }
            },
            "marker": {
             "colorbar": {
              "outlinewidth": 0,
              "ticks": ""
             }
            },
            "type": "scatter3d"
           }
          ],
          "scattercarpet": [
           {
            "marker": {
             "colorbar": {
              "outlinewidth": 0,
              "ticks": ""
             }
            },
            "type": "scattercarpet"
           }
          ],
          "scattergeo": [
           {
            "marker": {
             "colorbar": {
              "outlinewidth": 0,
              "ticks": ""
             }
            },
            "type": "scattergeo"
           }
          ],
          "scattergl": [
           {
            "marker": {
             "colorbar": {
              "outlinewidth": 0,
              "ticks": ""
             }
            },
            "type": "scattergl"
           }
          ],
          "scattermapbox": [
           {
            "marker": {
             "colorbar": {
              "outlinewidth": 0,
              "ticks": ""
             }
            },
            "type": "scattermapbox"
           }
          ],
          "scatterpolar": [
           {
            "marker": {
             "colorbar": {
              "outlinewidth": 0,
              "ticks": ""
             }
            },
            "type": "scatterpolar"
           }
          ],
          "scatterpolargl": [
           {
            "marker": {
             "colorbar": {
              "outlinewidth": 0,
              "ticks": ""
             }
            },
            "type": "scatterpolargl"
           }
          ],
          "scatterternary": [
           {
            "marker": {
             "colorbar": {
              "outlinewidth": 0,
              "ticks": ""
             }
            },
            "type": "scatterternary"
           }
          ],
          "surface": [
           {
            "colorbar": {
             "outlinewidth": 0,
             "ticks": ""
            },
            "colorscale": [
             [
              0,
              "#0d0887"
             ],
             [
              0.1111111111111111,
              "#46039f"
             ],
             [
              0.2222222222222222,
              "#7201a8"
             ],
             [
              0.3333333333333333,
              "#9c179e"
             ],
             [
              0.4444444444444444,
              "#bd3786"
             ],
             [
              0.5555555555555556,
              "#d8576b"
             ],
             [
              0.6666666666666666,
              "#ed7953"
             ],
             [
              0.7777777777777778,
              "#fb9f3a"
             ],
             [
              0.8888888888888888,
              "#fdca26"
             ],
             [
              1,
              "#f0f921"
             ]
            ],
            "type": "surface"
           }
          ],
          "table": [
           {
            "cells": {
             "fill": {
              "color": "#EBF0F8"
             },
             "line": {
              "color": "white"
             }
            },
            "header": {
             "fill": {
              "color": "#C8D4E3"
             },
             "line": {
              "color": "white"
             }
            },
            "type": "table"
           }
          ]
         },
         "layout": {
          "annotationdefaults": {
           "arrowcolor": "#2a3f5f",
           "arrowhead": 0,
           "arrowwidth": 1
          },
          "autotypenumbers": "strict",
          "coloraxis": {
           "colorbar": {
            "outlinewidth": 0,
            "ticks": ""
           }
          },
          "colorscale": {
           "diverging": [
            [
             0,
             "#8e0152"
            ],
            [
             0.1,
             "#c51b7d"
            ],
            [
             0.2,
             "#de77ae"
            ],
            [
             0.3,
             "#f1b6da"
            ],
            [
             0.4,
             "#fde0ef"
            ],
            [
             0.5,
             "#f7f7f7"
            ],
            [
             0.6,
             "#e6f5d0"
            ],
            [
             0.7,
             "#b8e186"
            ],
            [
             0.8,
             "#7fbc41"
            ],
            [
             0.9,
             "#4d9221"
            ],
            [
             1,
             "#276419"
            ]
           ],
           "sequential": [
            [
             0,
             "#0d0887"
            ],
            [
             0.1111111111111111,
             "#46039f"
            ],
            [
             0.2222222222222222,
             "#7201a8"
            ],
            [
             0.3333333333333333,
             "#9c179e"
            ],
            [
             0.4444444444444444,
             "#bd3786"
            ],
            [
             0.5555555555555556,
             "#d8576b"
            ],
            [
             0.6666666666666666,
             "#ed7953"
            ],
            [
             0.7777777777777778,
             "#fb9f3a"
            ],
            [
             0.8888888888888888,
             "#fdca26"
            ],
            [
             1,
             "#f0f921"
            ]
           ],
           "sequentialminus": [
            [
             0,
             "#0d0887"
            ],
            [
             0.1111111111111111,
             "#46039f"
            ],
            [
             0.2222222222222222,
             "#7201a8"
            ],
            [
             0.3333333333333333,
             "#9c179e"
            ],
            [
             0.4444444444444444,
             "#bd3786"
            ],
            [
             0.5555555555555556,
             "#d8576b"
            ],
            [
             0.6666666666666666,
             "#ed7953"
            ],
            [
             0.7777777777777778,
             "#fb9f3a"
            ],
            [
             0.8888888888888888,
             "#fdca26"
            ],
            [
             1,
             "#f0f921"
            ]
           ]
          },
          "colorway": [
           "#636efa",
           "#EF553B",
           "#00cc96",
           "#ab63fa",
           "#FFA15A",
           "#19d3f3",
           "#FF6692",
           "#B6E880",
           "#FF97FF",
           "#FECB52"
          ],
          "font": {
           "color": "#2a3f5f"
          },
          "geo": {
           "bgcolor": "white",
           "lakecolor": "white",
           "landcolor": "#E5ECF6",
           "showlakes": true,
           "showland": true,
           "subunitcolor": "white"
          },
          "hoverlabel": {
           "align": "left"
          },
          "hovermode": "closest",
          "mapbox": {
           "style": "light"
          },
          "paper_bgcolor": "white",
          "plot_bgcolor": "#E5ECF6",
          "polar": {
           "angularaxis": {
            "gridcolor": "white",
            "linecolor": "white",
            "ticks": ""
           },
           "bgcolor": "#E5ECF6",
           "radialaxis": {
            "gridcolor": "white",
            "linecolor": "white",
            "ticks": ""
           }
          },
          "scene": {
           "xaxis": {
            "backgroundcolor": "#E5ECF6",
            "gridcolor": "white",
            "gridwidth": 2,
            "linecolor": "white",
            "showbackground": true,
            "ticks": "",
            "zerolinecolor": "white"
           },
           "yaxis": {
            "backgroundcolor": "#E5ECF6",
            "gridcolor": "white",
            "gridwidth": 2,
            "linecolor": "white",
            "showbackground": true,
            "ticks": "",
            "zerolinecolor": "white"
           },
           "zaxis": {
            "backgroundcolor": "#E5ECF6",
            "gridcolor": "white",
            "gridwidth": 2,
            "linecolor": "white",
            "showbackground": true,
            "ticks": "",
            "zerolinecolor": "white"
           }
          },
          "shapedefaults": {
           "line": {
            "color": "#2a3f5f"
           }
          },
          "ternary": {
           "aaxis": {
            "gridcolor": "white",
            "linecolor": "white",
            "ticks": ""
           },
           "baxis": {
            "gridcolor": "white",
            "linecolor": "white",
            "ticks": ""
           },
           "bgcolor": "#E5ECF6",
           "caxis": {
            "gridcolor": "white",
            "linecolor": "white",
            "ticks": ""
           }
          },
          "title": {
           "x": 0.05
          },
          "xaxis": {
           "automargin": true,
           "gridcolor": "white",
           "linecolor": "white",
           "ticks": "",
           "title": {
            "standoff": 15
           },
           "zerolinecolor": "white",
           "zerolinewidth": 2
          },
          "yaxis": {
           "automargin": true,
           "gridcolor": "white",
           "linecolor": "white",
           "ticks": "",
           "title": {
            "standoff": 15
           },
           "zerolinecolor": "white",
           "zerolinewidth": 2
          }
         }
        },
        "title": {
         "text": "Optimization History Plot"
        },
        "xaxis": {
         "title": {
          "text": "Trial"
         }
        },
        "yaxis": {
         "title": {
          "text": "Objective Value"
         }
        }
       }
      }
     },
     "metadata": {},
     "output_type": "display_data"
    }
   ],
   "source": [
    "# Visualizando otimização\n",
    "optuna.visualization.plot_optimization_history(study)"
   ]
  },
  {
   "cell_type": "code",
   "execution_count": 7,
   "metadata": {},
   "outputs": [
    {
     "data": {
      "application/vnd.plotly.v1+json": {
       "config": {
        "plotlyServerURL": "https://plot.ly"
       },
       "data": [
        {
         "marker": {
          "color": [
           0,
           1,
           2,
           3,
           4,
           5,
           6,
           7,
           8,
           9,
           10,
           11,
           12,
           13,
           14,
           15,
           16,
           17,
           18,
           19,
           20,
           21,
           22,
           23,
           24,
           25,
           26,
           27,
           28,
           29,
           30,
           31,
           32,
           33,
           34,
           35,
           36,
           37,
           38,
           39,
           40,
           41,
           42,
           43,
           44,
           45,
           46,
           47,
           48,
           49,
           50,
           51,
           52,
           53,
           54,
           55,
           56,
           57,
           58,
           59,
           60,
           61,
           62,
           63,
           64,
           65,
           66,
           67,
           68,
           69,
           70,
           71,
           72,
           73,
           74,
           75,
           76,
           77,
           78,
           79,
           80,
           81,
           82,
           83,
           84,
           85,
           86,
           87,
           88,
           89,
           90,
           91,
           92,
           93,
           94,
           95,
           96,
           97,
           98,
           99
          ],
          "colorbar": {
           "title": {
            "text": "Trial"
           },
           "x": 1,
           "xpad": 40
          },
          "colorscale": [
           [
            0,
            "rgb(247,251,255)"
           ],
           [
            0.125,
            "rgb(222,235,247)"
           ],
           [
            0.25,
            "rgb(198,219,239)"
           ],
           [
            0.375,
            "rgb(158,202,225)"
           ],
           [
            0.5,
            "rgb(107,174,214)"
           ],
           [
            0.625,
            "rgb(66,146,198)"
           ],
           [
            0.75,
            "rgb(33,113,181)"
           ],
           [
            0.875,
            "rgb(8,81,156)"
           ],
           [
            1,
            "rgb(8,48,107)"
           ]
          ],
          "line": {
           "color": "Grey",
           "width": 0.5
          },
          "showscale": true
         },
         "mode": "markers",
         "name": "Feasible Trial",
         "showlegend": false,
         "type": "scatter",
         "x": [
          0.23500206190885128,
          4.822875673756542,
          0.0011547400716194068,
          0.0005247205660969763,
          97.49313030964103,
          0.0014429058369955807,
          0.0031088585646254436,
          0.0015240346000434926,
          9.62052222887694,
          1.181539969244835,
          0.006196876664095608,
          0.6825642262187434,
          3.7046249197444836,
          0.00001,
          99.88257825206361,
          100,
          0.00001,
          0.2523313367395242,
          100,
          0.00001,
          0.00001,
          1.191172237172492,
          17.141210476131256,
          27.748704227434278,
          0.18976282573136297,
          3.5855450931881085,
          4.335658871906902,
          0.07410607463552782,
          0.07584809641888313,
          0.7653417121050697,
          0.2997507337677029,
          4.37833678105026,
          4.7793341000022584,
          0.17450432729145407,
          4.455718457296382,
          0.06986378506089638,
          0.07908394023888837,
          3.2357797208084,
          0.00001,
          0.04676418763967278,
          2.788538769216395,
          0.10624098545075696,
          4.740512975693584,
          3.018074294459876,
          5.327076810163195,
          5.769867947407606,
          3.437853803822133,
          5.621399570523102,
          0.00018773082713068352,
          2.7904697689737845,
          2.955068740256255,
          0.02981491762836223,
          5.396441129538766,
          100,
          5.1871212207274,
          4.14236177603735,
          49.89863633397843,
          2.878005918242186,
          0.036364287227202016,
          6.2378338428606845,
          2.4910144713126376,
          5.500776364807758,
          0.00013148539059016224,
          5.142730219323685,
          4.0011170996910845,
          58.72148758710344,
          6.511746273594849,
          4.010642353221326,
          0.7451978377148172,
          0.5488764988872689,
          1.2430875738810165,
          0.00009738895450450684,
          0.3353933800793213,
          0.01529248301941686,
          0.00005800031742048666,
          0.010589074558432226,
          0.5049545095576545,
          2.271893132474382,
          0.0012331042482913745,
          1.5390455918360537,
          1.970227453331061,
          0.43345632840811193,
          0.12169437239080452,
          1.5641487830073093,
          15.491123444400616,
          0.11789186772140646,
          0.006391321175069818,
          0.02375354052213566,
          0.00003579425735657809,
          1.5209745856961248,
          3.3130010757686876,
          1.8133998891442105,
          0.00015617118557827216,
          0.0005084855951448887,
          7.876689321474203,
          0.01336917661024523,
          0.000044711727596626835,
          0.007139916764391096,
          0.0003200622510724165,
          2.5911921182037285
         ],
         "xaxis": "x",
         "y": [
          0.9110615079365079,
          0.895056216931217,
          0.884292328042328,
          0.890162037037037,
          0.8237351190476192,
          0.8903687169312171,
          0.8885003306878307,
          0.890162037037037,
          0.9119130291005291,
          0.9059771825396826,
          0.890839947089947,
          0.9103339947089948,
          0.9128224206349207,
          0.8882771164021165,
          0.9112103174603176,
          0.7999917328042329,
          0.8861524470899471,
          0.9103339947089946,
          0.9114335317460318,
          0.8910714285714285,
          0.8894593253968253,
          0.9112433862433862,
          0.9109788359788361,
          0.9112020502645504,
          0.9122106481481481,
          0.9123594576719578,
          0.9123594576719578,
          0.9112516534391533,
          0.9010333994708996,
          0.9082919973544973,
          0.9101107804232804,
          0.9123594576719578,
          0.9125909391534393,
          0.9105902777777779,
          0.9123594576719578,
          0.9114831349206348,
          0.8907655423280424,
          0.912590939153439,
          0.8901455026455025,
          0.8868055555555555,
          0.9123594576719578,
          0.9064732142857143,
          0.9125909391534393,
          0.9121279761904763,
          0.9125909391534393,
          0.9119130291005291,
          0.9123594576719578,
          0.9123677248677249,
          0.8901455026455025,
          0.9123594576719578,
          0.9123594576719576,
          0.9105902777777779,
          0.9125909391534393,
          0.8725446428571428,
          0.9125909391534393,
          0.9123594576719578,
          0.9109788359788361,
          0.9121279761904763,
          0.9115244708994709,
          0.9119130291005291,
          0.9121279761904763,
          0.9125909391534393,
          0.8882771164021165,
          0.9125909391534393,
          0.9123594576719578,
          0.9112020502645504,
          0.9119130291005291,
          0.9123594576719578,
          0.9073743386243386,
          0.8977347883597885,
          0.8984540343915344,
          0.8865988756613756,
          0.9014054232804233,
          0.9107638888888889,
          0.890162037037037,
          0.9087136243386243,
          0.9114666005291004,
          0.9000909391534393,
          0.890376984126984,
          0.901645171957672,
          0.9117642195767196,
          0.900934193121693,
          0.9124090608465609,
          0.9123429232804232,
          0.9109788359788361,
          0.9121693121693122,
          0.8845238095238095,
          0.9117228835978836,
          0.8906001984126984,
          0.9082671957671957,
          0.9114748677248677,
          0.9137235449735449,
          0.890162037037037,
          0.8899140211640211,
          0.8909226190476189,
          0.8901372354497354,
          0.8901455026455025,
          0.9044064153439153,
          0.8865988756613756,
          0.9115823412698413
         ],
         "yaxis": "y"
        },
        {
         "marker": {
          "color": [
           0,
           1,
           2,
           3,
           4,
           5,
           6,
           7,
           8,
           9,
           10,
           11,
           12,
           13,
           14,
           15,
           16,
           17,
           18,
           19,
           20,
           21,
           22,
           23,
           24,
           25,
           26,
           27,
           28,
           29,
           30,
           31,
           32,
           33,
           34,
           35,
           36,
           37,
           38,
           39,
           40,
           41,
           42,
           43,
           44,
           45,
           46,
           47,
           48,
           49,
           50,
           51,
           52,
           53,
           54,
           55,
           56,
           57,
           58,
           59,
           60,
           61,
           62,
           63,
           64,
           65,
           66,
           67,
           68,
           69,
           70,
           71,
           72,
           73,
           74,
           75,
           76,
           77,
           78,
           79,
           80,
           81,
           82,
           83,
           84,
           85,
           86,
           87,
           88,
           89,
           90,
           91,
           92,
           93,
           94,
           95,
           96,
           97,
           98,
           99
          ],
          "colorbar": {
           "title": {
            "text": "Trial"
           },
           "x": 1,
           "xpad": 40
          },
          "colorscale": [
           [
            0,
            "rgb(247,251,255)"
           ],
           [
            0.125,
            "rgb(222,235,247)"
           ],
           [
            0.25,
            "rgb(198,219,239)"
           ],
           [
            0.375,
            "rgb(158,202,225)"
           ],
           [
            0.5,
            "rgb(107,174,214)"
           ],
           [
            0.625,
            "rgb(66,146,198)"
           ],
           [
            0.75,
            "rgb(33,113,181)"
           ],
           [
            0.875,
            "rgb(8,81,156)"
           ],
           [
            1,
            "rgb(8,48,107)"
           ]
          ],
          "line": {
           "color": "Grey",
           "width": 0.5
          },
          "showscale": false
         },
         "mode": "markers",
         "name": "Feasible Trial",
         "showlegend": false,
         "type": "scatter",
         "x": [
          "scale",
          "scale",
          "scale",
          "scale",
          "scale",
          "scale",
          "auto",
          "scale",
          "auto",
          "scale",
          "scale",
          "auto",
          "scale",
          "auto",
          "scale",
          "auto",
          "auto",
          "auto",
          "auto",
          "auto",
          "auto",
          "scale",
          "scale",
          "auto",
          "scale",
          "auto",
          "scale",
          "auto",
          "auto",
          "auto",
          "scale",
          "scale",
          "auto",
          "auto",
          "auto",
          "scale",
          "scale",
          "scale",
          "scale",
          "auto",
          "auto",
          "scale",
          "scale",
          "scale",
          "auto",
          "scale",
          "auto",
          "auto",
          "auto",
          "scale",
          "auto",
          "auto",
          "auto",
          "auto",
          "auto",
          "auto",
          "scale",
          "scale",
          "scale",
          "auto",
          "auto",
          "scale",
          "auto",
          "scale",
          "scale",
          "auto",
          "scale",
          "auto",
          "auto",
          "scale",
          "scale",
          "scale",
          "auto",
          "scale",
          "scale",
          "auto",
          "scale",
          "auto",
          "auto",
          "auto",
          "auto",
          "auto",
          "scale",
          "auto",
          "auto",
          "scale",
          "auto",
          "scale",
          "scale",
          "auto",
          "auto",
          "auto",
          "auto",
          "scale",
          "auto",
          "scale",
          "scale",
          "scale",
          "auto",
          "auto"
         ],
         "xaxis": "x2",
         "y": [
          0.9110615079365079,
          0.895056216931217,
          0.884292328042328,
          0.890162037037037,
          0.8237351190476192,
          0.8903687169312171,
          0.8885003306878307,
          0.890162037037037,
          0.9119130291005291,
          0.9059771825396826,
          0.890839947089947,
          0.9103339947089948,
          0.9128224206349207,
          0.8882771164021165,
          0.9112103174603176,
          0.7999917328042329,
          0.8861524470899471,
          0.9103339947089946,
          0.9114335317460318,
          0.8910714285714285,
          0.8894593253968253,
          0.9112433862433862,
          0.9109788359788361,
          0.9112020502645504,
          0.9122106481481481,
          0.9123594576719578,
          0.9123594576719578,
          0.9112516534391533,
          0.9010333994708996,
          0.9082919973544973,
          0.9101107804232804,
          0.9123594576719578,
          0.9125909391534393,
          0.9105902777777779,
          0.9123594576719578,
          0.9114831349206348,
          0.8907655423280424,
          0.912590939153439,
          0.8901455026455025,
          0.8868055555555555,
          0.9123594576719578,
          0.9064732142857143,
          0.9125909391534393,
          0.9121279761904763,
          0.9125909391534393,
          0.9119130291005291,
          0.9123594576719578,
          0.9123677248677249,
          0.8901455026455025,
          0.9123594576719578,
          0.9123594576719576,
          0.9105902777777779,
          0.9125909391534393,
          0.8725446428571428,
          0.9125909391534393,
          0.9123594576719578,
          0.9109788359788361,
          0.9121279761904763,
          0.9115244708994709,
          0.9119130291005291,
          0.9121279761904763,
          0.9125909391534393,
          0.8882771164021165,
          0.9125909391534393,
          0.9123594576719578,
          0.9112020502645504,
          0.9119130291005291,
          0.9123594576719578,
          0.9073743386243386,
          0.8977347883597885,
          0.8984540343915344,
          0.8865988756613756,
          0.9014054232804233,
          0.9107638888888889,
          0.890162037037037,
          0.9087136243386243,
          0.9114666005291004,
          0.9000909391534393,
          0.890376984126984,
          0.901645171957672,
          0.9117642195767196,
          0.900934193121693,
          0.9124090608465609,
          0.9123429232804232,
          0.9109788359788361,
          0.9121693121693122,
          0.8845238095238095,
          0.9117228835978836,
          0.8906001984126984,
          0.9082671957671957,
          0.9114748677248677,
          0.9137235449735449,
          0.890162037037037,
          0.8899140211640211,
          0.8909226190476189,
          0.8901372354497354,
          0.8901455026455025,
          0.9044064153439153,
          0.8865988756613756,
          0.9115823412698413
         ],
         "yaxis": "y2"
        },
        {
         "marker": {
          "color": [
           0,
           1,
           2,
           3,
           4,
           5,
           6,
           7,
           8,
           9,
           10,
           11,
           12,
           13,
           14,
           15,
           16,
           17,
           18,
           19,
           20,
           21,
           22,
           23,
           24,
           25,
           26,
           27,
           28,
           29,
           30,
           31,
           32,
           33,
           34,
           35,
           36,
           37,
           38,
           39,
           40,
           41,
           42,
           43,
           44,
           45,
           46,
           47,
           48,
           49,
           50,
           51,
           52,
           53,
           54,
           55,
           56,
           57,
           58,
           59,
           60,
           61,
           62,
           63,
           64,
           65,
           66,
           67,
           68,
           69,
           70,
           71,
           72,
           73,
           74,
           75,
           76,
           77,
           78,
           79,
           80,
           81,
           82,
           83,
           84,
           85,
           86,
           87,
           88,
           89,
           90,
           91,
           92,
           93,
           94,
           95,
           96,
           97,
           98,
           99
          ],
          "colorbar": {
           "title": {
            "text": "Trial"
           },
           "x": 1,
           "xpad": 40
          },
          "colorscale": [
           [
            0,
            "rgb(247,251,255)"
           ],
           [
            0.125,
            "rgb(222,235,247)"
           ],
           [
            0.25,
            "rgb(198,219,239)"
           ],
           [
            0.375,
            "rgb(158,202,225)"
           ],
           [
            0.5,
            "rgb(107,174,214)"
           ],
           [
            0.625,
            "rgb(66,146,198)"
           ],
           [
            0.75,
            "rgb(33,113,181)"
           ],
           [
            0.875,
            "rgb(8,81,156)"
           ],
           [
            1,
            "rgb(8,48,107)"
           ]
          ],
          "line": {
           "color": "Grey",
           "width": 0.5
          },
          "showscale": false
         },
         "mode": "markers",
         "name": "Feasible Trial",
         "showlegend": false,
         "type": "scatter",
         "x": [
          "linear",
          "sigmoid",
          "poly",
          "linear",
          "rbf",
          "rbf",
          "rbf",
          "linear",
          "linear",
          "sigmoid",
          "sigmoid",
          "linear",
          "linear",
          "rbf",
          "linear",
          "poly",
          "poly",
          "sigmoid",
          "linear",
          "sigmoid",
          "linear",
          "linear",
          "linear",
          "linear",
          "sigmoid",
          "linear",
          "linear",
          "linear",
          "sigmoid",
          "sigmoid",
          "sigmoid",
          "linear",
          "linear",
          "linear",
          "linear",
          "linear",
          "rbf",
          "linear",
          "sigmoid",
          "poly",
          "linear",
          "sigmoid",
          "linear",
          "linear",
          "linear",
          "linear",
          "linear",
          "linear",
          "sigmoid",
          "linear",
          "linear",
          "linear",
          "linear",
          "sigmoid",
          "linear",
          "linear",
          "linear",
          "linear",
          "linear",
          "linear",
          "linear",
          "linear",
          "rbf",
          "linear",
          "linear",
          "linear",
          "linear",
          "linear",
          "rbf",
          "poly",
          "rbf",
          "poly",
          "rbf",
          "linear",
          "linear",
          "linear",
          "linear",
          "rbf",
          "sigmoid",
          "poly",
          "sigmoid",
          "poly",
          "linear",
          "linear",
          "linear",
          "linear",
          "poly",
          "linear",
          "rbf",
          "sigmoid",
          "sigmoid",
          "linear",
          "linear",
          "sigmoid",
          "sigmoid",
          "rbf",
          "sigmoid",
          "linear",
          "poly",
          "sigmoid"
         ],
         "xaxis": "x3",
         "y": [
          0.9110615079365079,
          0.895056216931217,
          0.884292328042328,
          0.890162037037037,
          0.8237351190476192,
          0.8903687169312171,
          0.8885003306878307,
          0.890162037037037,
          0.9119130291005291,
          0.9059771825396826,
          0.890839947089947,
          0.9103339947089948,
          0.9128224206349207,
          0.8882771164021165,
          0.9112103174603176,
          0.7999917328042329,
          0.8861524470899471,
          0.9103339947089946,
          0.9114335317460318,
          0.8910714285714285,
          0.8894593253968253,
          0.9112433862433862,
          0.9109788359788361,
          0.9112020502645504,
          0.9122106481481481,
          0.9123594576719578,
          0.9123594576719578,
          0.9112516534391533,
          0.9010333994708996,
          0.9082919973544973,
          0.9101107804232804,
          0.9123594576719578,
          0.9125909391534393,
          0.9105902777777779,
          0.9123594576719578,
          0.9114831349206348,
          0.8907655423280424,
          0.912590939153439,
          0.8901455026455025,
          0.8868055555555555,
          0.9123594576719578,
          0.9064732142857143,
          0.9125909391534393,
          0.9121279761904763,
          0.9125909391534393,
          0.9119130291005291,
          0.9123594576719578,
          0.9123677248677249,
          0.8901455026455025,
          0.9123594576719578,
          0.9123594576719576,
          0.9105902777777779,
          0.9125909391534393,
          0.8725446428571428,
          0.9125909391534393,
          0.9123594576719578,
          0.9109788359788361,
          0.9121279761904763,
          0.9115244708994709,
          0.9119130291005291,
          0.9121279761904763,
          0.9125909391534393,
          0.8882771164021165,
          0.9125909391534393,
          0.9123594576719578,
          0.9112020502645504,
          0.9119130291005291,
          0.9123594576719578,
          0.9073743386243386,
          0.8977347883597885,
          0.8984540343915344,
          0.8865988756613756,
          0.9014054232804233,
          0.9107638888888889,
          0.890162037037037,
          0.9087136243386243,
          0.9114666005291004,
          0.9000909391534393,
          0.890376984126984,
          0.901645171957672,
          0.9117642195767196,
          0.900934193121693,
          0.9124090608465609,
          0.9123429232804232,
          0.9109788359788361,
          0.9121693121693122,
          0.8845238095238095,
          0.9117228835978836,
          0.8906001984126984,
          0.9082671957671957,
          0.9114748677248677,
          0.9137235449735449,
          0.890162037037037,
          0.8899140211640211,
          0.8909226190476189,
          0.8901372354497354,
          0.8901455026455025,
          0.9044064153439153,
          0.8865988756613756,
          0.9115823412698413
         ],
         "yaxis": "y3"
        }
       ],
       "layout": {
        "template": {
         "data": {
          "bar": [
           {
            "error_x": {
             "color": "#2a3f5f"
            },
            "error_y": {
             "color": "#2a3f5f"
            },
            "marker": {
             "line": {
              "color": "#E5ECF6",
              "width": 0.5
             },
             "pattern": {
              "fillmode": "overlay",
              "size": 10,
              "solidity": 0.2
             }
            },
            "type": "bar"
           }
          ],
          "barpolar": [
           {
            "marker": {
             "line": {
              "color": "#E5ECF6",
              "width": 0.5
             },
             "pattern": {
              "fillmode": "overlay",
              "size": 10,
              "solidity": 0.2
             }
            },
            "type": "barpolar"
           }
          ],
          "carpet": [
           {
            "aaxis": {
             "endlinecolor": "#2a3f5f",
             "gridcolor": "white",
             "linecolor": "white",
             "minorgridcolor": "white",
             "startlinecolor": "#2a3f5f"
            },
            "baxis": {
             "endlinecolor": "#2a3f5f",
             "gridcolor": "white",
             "linecolor": "white",
             "minorgridcolor": "white",
             "startlinecolor": "#2a3f5f"
            },
            "type": "carpet"
           }
          ],
          "choropleth": [
           {
            "colorbar": {
             "outlinewidth": 0,
             "ticks": ""
            },
            "type": "choropleth"
           }
          ],
          "contour": [
           {
            "colorbar": {
             "outlinewidth": 0,
             "ticks": ""
            },
            "colorscale": [
             [
              0,
              "#0d0887"
             ],
             [
              0.1111111111111111,
              "#46039f"
             ],
             [
              0.2222222222222222,
              "#7201a8"
             ],
             [
              0.3333333333333333,
              "#9c179e"
             ],
             [
              0.4444444444444444,
              "#bd3786"
             ],
             [
              0.5555555555555556,
              "#d8576b"
             ],
             [
              0.6666666666666666,
              "#ed7953"
             ],
             [
              0.7777777777777778,
              "#fb9f3a"
             ],
             [
              0.8888888888888888,
              "#fdca26"
             ],
             [
              1,
              "#f0f921"
             ]
            ],
            "type": "contour"
           }
          ],
          "contourcarpet": [
           {
            "colorbar": {
             "outlinewidth": 0,
             "ticks": ""
            },
            "type": "contourcarpet"
           }
          ],
          "heatmap": [
           {
            "colorbar": {
             "outlinewidth": 0,
             "ticks": ""
            },
            "colorscale": [
             [
              0,
              "#0d0887"
             ],
             [
              0.1111111111111111,
              "#46039f"
             ],
             [
              0.2222222222222222,
              "#7201a8"
             ],
             [
              0.3333333333333333,
              "#9c179e"
             ],
             [
              0.4444444444444444,
              "#bd3786"
             ],
             [
              0.5555555555555556,
              "#d8576b"
             ],
             [
              0.6666666666666666,
              "#ed7953"
             ],
             [
              0.7777777777777778,
              "#fb9f3a"
             ],
             [
              0.8888888888888888,
              "#fdca26"
             ],
             [
              1,
              "#f0f921"
             ]
            ],
            "type": "heatmap"
           }
          ],
          "heatmapgl": [
           {
            "colorbar": {
             "outlinewidth": 0,
             "ticks": ""
            },
            "colorscale": [
             [
              0,
              "#0d0887"
             ],
             [
              0.1111111111111111,
              "#46039f"
             ],
             [
              0.2222222222222222,
              "#7201a8"
             ],
             [
              0.3333333333333333,
              "#9c179e"
             ],
             [
              0.4444444444444444,
              "#bd3786"
             ],
             [
              0.5555555555555556,
              "#d8576b"
             ],
             [
              0.6666666666666666,
              "#ed7953"
             ],
             [
              0.7777777777777778,
              "#fb9f3a"
             ],
             [
              0.8888888888888888,
              "#fdca26"
             ],
             [
              1,
              "#f0f921"
             ]
            ],
            "type": "heatmapgl"
           }
          ],
          "histogram": [
           {
            "marker": {
             "pattern": {
              "fillmode": "overlay",
              "size": 10,
              "solidity": 0.2
             }
            },
            "type": "histogram"
           }
          ],
          "histogram2d": [
           {
            "colorbar": {
             "outlinewidth": 0,
             "ticks": ""
            },
            "colorscale": [
             [
              0,
              "#0d0887"
             ],
             [
              0.1111111111111111,
              "#46039f"
             ],
             [
              0.2222222222222222,
              "#7201a8"
             ],
             [
              0.3333333333333333,
              "#9c179e"
             ],
             [
              0.4444444444444444,
              "#bd3786"
             ],
             [
              0.5555555555555556,
              "#d8576b"
             ],
             [
              0.6666666666666666,
              "#ed7953"
             ],
             [
              0.7777777777777778,
              "#fb9f3a"
             ],
             [
              0.8888888888888888,
              "#fdca26"
             ],
             [
              1,
              "#f0f921"
             ]
            ],
            "type": "histogram2d"
           }
          ],
          "histogram2dcontour": [
           {
            "colorbar": {
             "outlinewidth": 0,
             "ticks": ""
            },
            "colorscale": [
             [
              0,
              "#0d0887"
             ],
             [
              0.1111111111111111,
              "#46039f"
             ],
             [
              0.2222222222222222,
              "#7201a8"
             ],
             [
              0.3333333333333333,
              "#9c179e"
             ],
             [
              0.4444444444444444,
              "#bd3786"
             ],
             [
              0.5555555555555556,
              "#d8576b"
             ],
             [
              0.6666666666666666,
              "#ed7953"
             ],
             [
              0.7777777777777778,
              "#fb9f3a"
             ],
             [
              0.8888888888888888,
              "#fdca26"
             ],
             [
              1,
              "#f0f921"
             ]
            ],
            "type": "histogram2dcontour"
           }
          ],
          "mesh3d": [
           {
            "colorbar": {
             "outlinewidth": 0,
             "ticks": ""
            },
            "type": "mesh3d"
           }
          ],
          "parcoords": [
           {
            "line": {
             "colorbar": {
              "outlinewidth": 0,
              "ticks": ""
             }
            },
            "type": "parcoords"
           }
          ],
          "pie": [
           {
            "automargin": true,
            "type": "pie"
           }
          ],
          "scatter": [
           {
            "fillpattern": {
             "fillmode": "overlay",
             "size": 10,
             "solidity": 0.2
            },
            "type": "scatter"
           }
          ],
          "scatter3d": [
           {
            "line": {
             "colorbar": {
              "outlinewidth": 0,
              "ticks": ""
             }
            },
            "marker": {
             "colorbar": {
              "outlinewidth": 0,
              "ticks": ""
             }
            },
            "type": "scatter3d"
           }
          ],
          "scattercarpet": [
           {
            "marker": {
             "colorbar": {
              "outlinewidth": 0,
              "ticks": ""
             }
            },
            "type": "scattercarpet"
           }
          ],
          "scattergeo": [
           {
            "marker": {
             "colorbar": {
              "outlinewidth": 0,
              "ticks": ""
             }
            },
            "type": "scattergeo"
           }
          ],
          "scattergl": [
           {
            "marker": {
             "colorbar": {
              "outlinewidth": 0,
              "ticks": ""
             }
            },
            "type": "scattergl"
           }
          ],
          "scattermapbox": [
           {
            "marker": {
             "colorbar": {
              "outlinewidth": 0,
              "ticks": ""
             }
            },
            "type": "scattermapbox"
           }
          ],
          "scatterpolar": [
           {
            "marker": {
             "colorbar": {
              "outlinewidth": 0,
              "ticks": ""
             }
            },
            "type": "scatterpolar"
           }
          ],
          "scatterpolargl": [
           {
            "marker": {
             "colorbar": {
              "outlinewidth": 0,
              "ticks": ""
             }
            },
            "type": "scatterpolargl"
           }
          ],
          "scatterternary": [
           {
            "marker": {
             "colorbar": {
              "outlinewidth": 0,
              "ticks": ""
             }
            },
            "type": "scatterternary"
           }
          ],
          "surface": [
           {
            "colorbar": {
             "outlinewidth": 0,
             "ticks": ""
            },
            "colorscale": [
             [
              0,
              "#0d0887"
             ],
             [
              0.1111111111111111,
              "#46039f"
             ],
             [
              0.2222222222222222,
              "#7201a8"
             ],
             [
              0.3333333333333333,
              "#9c179e"
             ],
             [
              0.4444444444444444,
              "#bd3786"
             ],
             [
              0.5555555555555556,
              "#d8576b"
             ],
             [
              0.6666666666666666,
              "#ed7953"
             ],
             [
              0.7777777777777778,
              "#fb9f3a"
             ],
             [
              0.8888888888888888,
              "#fdca26"
             ],
             [
              1,
              "#f0f921"
             ]
            ],
            "type": "surface"
           }
          ],
          "table": [
           {
            "cells": {
             "fill": {
              "color": "#EBF0F8"
             },
             "line": {
              "color": "white"
             }
            },
            "header": {
             "fill": {
              "color": "#C8D4E3"
             },
             "line": {
              "color": "white"
             }
            },
            "type": "table"
           }
          ]
         },
         "layout": {
          "annotationdefaults": {
           "arrowcolor": "#2a3f5f",
           "arrowhead": 0,
           "arrowwidth": 1
          },
          "autotypenumbers": "strict",
          "coloraxis": {
           "colorbar": {
            "outlinewidth": 0,
            "ticks": ""
           }
          },
          "colorscale": {
           "diverging": [
            [
             0,
             "#8e0152"
            ],
            [
             0.1,
             "#c51b7d"
            ],
            [
             0.2,
             "#de77ae"
            ],
            [
             0.3,
             "#f1b6da"
            ],
            [
             0.4,
             "#fde0ef"
            ],
            [
             0.5,
             "#f7f7f7"
            ],
            [
             0.6,
             "#e6f5d0"
            ],
            [
             0.7,
             "#b8e186"
            ],
            [
             0.8,
             "#7fbc41"
            ],
            [
             0.9,
             "#4d9221"
            ],
            [
             1,
             "#276419"
            ]
           ],
           "sequential": [
            [
             0,
             "#0d0887"
            ],
            [
             0.1111111111111111,
             "#46039f"
            ],
            [
             0.2222222222222222,
             "#7201a8"
            ],
            [
             0.3333333333333333,
             "#9c179e"
            ],
            [
             0.4444444444444444,
             "#bd3786"
            ],
            [
             0.5555555555555556,
             "#d8576b"
            ],
            [
             0.6666666666666666,
             "#ed7953"
            ],
            [
             0.7777777777777778,
             "#fb9f3a"
            ],
            [
             0.8888888888888888,
             "#fdca26"
            ],
            [
             1,
             "#f0f921"
            ]
           ],
           "sequentialminus": [
            [
             0,
             "#0d0887"
            ],
            [
             0.1111111111111111,
             "#46039f"
            ],
            [
             0.2222222222222222,
             "#7201a8"
            ],
            [
             0.3333333333333333,
             "#9c179e"
            ],
            [
             0.4444444444444444,
             "#bd3786"
            ],
            [
             0.5555555555555556,
             "#d8576b"
            ],
            [
             0.6666666666666666,
             "#ed7953"
            ],
            [
             0.7777777777777778,
             "#fb9f3a"
            ],
            [
             0.8888888888888888,
             "#fdca26"
            ],
            [
             1,
             "#f0f921"
            ]
           ]
          },
          "colorway": [
           "#636efa",
           "#EF553B",
           "#00cc96",
           "#ab63fa",
           "#FFA15A",
           "#19d3f3",
           "#FF6692",
           "#B6E880",
           "#FF97FF",
           "#FECB52"
          ],
          "font": {
           "color": "#2a3f5f"
          },
          "geo": {
           "bgcolor": "white",
           "lakecolor": "white",
           "landcolor": "#E5ECF6",
           "showlakes": true,
           "showland": true,
           "subunitcolor": "white"
          },
          "hoverlabel": {
           "align": "left"
          },
          "hovermode": "closest",
          "mapbox": {
           "style": "light"
          },
          "paper_bgcolor": "white",
          "plot_bgcolor": "#E5ECF6",
          "polar": {
           "angularaxis": {
            "gridcolor": "white",
            "linecolor": "white",
            "ticks": ""
           },
           "bgcolor": "#E5ECF6",
           "radialaxis": {
            "gridcolor": "white",
            "linecolor": "white",
            "ticks": ""
           }
          },
          "scene": {
           "xaxis": {
            "backgroundcolor": "#E5ECF6",
            "gridcolor": "white",
            "gridwidth": 2,
            "linecolor": "white",
            "showbackground": true,
            "ticks": "",
            "zerolinecolor": "white"
           },
           "yaxis": {
            "backgroundcolor": "#E5ECF6",
            "gridcolor": "white",
            "gridwidth": 2,
            "linecolor": "white",
            "showbackground": true,
            "ticks": "",
            "zerolinecolor": "white"
           },
           "zaxis": {
            "backgroundcolor": "#E5ECF6",
            "gridcolor": "white",
            "gridwidth": 2,
            "linecolor": "white",
            "showbackground": true,
            "ticks": "",
            "zerolinecolor": "white"
           }
          },
          "shapedefaults": {
           "line": {
            "color": "#2a3f5f"
           }
          },
          "ternary": {
           "aaxis": {
            "gridcolor": "white",
            "linecolor": "white",
            "ticks": ""
           },
           "baxis": {
            "gridcolor": "white",
            "linecolor": "white",
            "ticks": ""
           },
           "bgcolor": "#E5ECF6",
           "caxis": {
            "gridcolor": "white",
            "linecolor": "white",
            "ticks": ""
           }
          },
          "title": {
           "x": 0.05
          },
          "xaxis": {
           "automargin": true,
           "gridcolor": "white",
           "linecolor": "white",
           "ticks": "",
           "title": {
            "standoff": 15
           },
           "zerolinecolor": "white",
           "zerolinewidth": 2
          },
          "yaxis": {
           "automargin": true,
           "gridcolor": "white",
           "linecolor": "white",
           "ticks": "",
           "title": {
            "standoff": 15
           },
           "zerolinecolor": "white",
           "zerolinewidth": 2
          }
         }
        },
        "title": {
         "text": "Slice Plot"
        },
        "xaxis": {
         "anchor": "y",
         "domain": [
          0,
          0.2888888888888889
         ],
         "title": {
          "text": "C"
         },
         "type": "log"
        },
        "xaxis2": {
         "anchor": "y2",
         "categoryarray": [
          "scale",
          "auto"
         ],
         "categoryorder": "array",
         "domain": [
          0.35555555555555557,
          0.6444444444444445
         ],
         "title": {
          "text": "gamma"
         },
         "type": "category"
        },
        "xaxis3": {
         "anchor": "y3",
         "categoryarray": [
          "linear",
          "poly",
          "rbf",
          "sigmoid"
         ],
         "categoryorder": "array",
         "domain": [
          0.7111111111111111,
          1
         ],
         "title": {
          "text": "kernel"
         },
         "type": "category"
        },
        "yaxis": {
         "anchor": "x",
         "domain": [
          0,
          1
         ],
         "title": {
          "text": "Objective Value"
         }
        },
        "yaxis2": {
         "anchor": "x2",
         "domain": [
          0,
          1
         ],
         "matches": "y",
         "showticklabels": false
        },
        "yaxis3": {
         "anchor": "x3",
         "domain": [
          0,
          1
         ],
         "matches": "y",
         "showticklabels": false
        }
       }
      }
     },
     "metadata": {},
     "output_type": "display_data"
    }
   ],
   "source": [
    "optuna.visualization.plot_slice(study)"
   ]
  },
  {
   "cell_type": "code",
   "execution_count": 8,
   "metadata": {},
   "outputs": [
    {
     "name": "stdout",
     "output_type": "stream",
     "text": [
      "Accuracy: 0.8214\n",
      "AUC-ROC: 0.9137\n"
     ]
    }
   ],
   "source": [
    "# Criando um modelo com os melhores hiperparâmetros\n",
    "best_params = trial.params\n",
    "model = svm.SVC(random_state=Random_Seed, probability=True, **best_params)\n",
    "\n",
    "if Cross_Validation:\n",
    "    cv_results = cross_validate(model, X, y, scoring=['accuracy', 'roc_auc'])\n",
    "    acc = cv_results['test_accuracy'].mean()\n",
    "    roc_auc = cv_results['test_roc_auc'].mean()\n",
    "else:\n",
    "    # Train model\n",
    "    model.fit(train_X, train_y)\n",
    "\n",
    "    # Test model\n",
    "    y_pred = model.predict(test_X)\n",
    "    pred_probs = model.predict_proba(test_X)\n",
    "\n",
    "    # Evaluation\n",
    "    acc = accuracy_score(test_y, y_pred)\n",
    "    roc_auc = roc_auc_score(test_y, pred_probs[:, 1])\n",
    "\n",
    "print(f\"Accuracy: {acc:.4f}\")\n",
    "print(f\"AUC-ROC: {roc_auc:.4f}\")"
   ]
  },
  {
   "attachments": {},
   "cell_type": "markdown",
   "metadata": {},
   "source": [
    "<hr>\n",
    "\n",
    "### NuSVC classification SVM implementation:"
   ]
  },
  {
   "cell_type": "code",
   "execution_count": 9,
   "metadata": {},
   "outputs": [
    {
     "name": "stdout",
     "output_type": "stream",
     "text": [
      "Accuracy: 0.8315\n",
      "AUC-ROC: 0.9010\n"
     ]
    }
   ],
   "source": [
    "# ---------------------------------------------------------------------------- #\n",
    "#                                     MODEL                                    #\n",
    "# ---------------------------------------------------------------------------- #\n",
    "\n",
    "# Create model\n",
    "model = svm.NuSVC(random_state=Random_Seed, probability=True)\n",
    "\n",
    "if Cross_Validation:\n",
    "    cv_results = cross_validate(model, X, y, scoring=['accuracy', 'roc_auc'])\n",
    "    acc = cv_results['test_accuracy'].mean()\n",
    "    roc_auc = cv_results['test_roc_auc'].mean()\n",
    "else:\n",
    "    # Train model\n",
    "    model.fit(train_X, train_y)\n",
    "\n",
    "    # Test model\n",
    "    y_pred = model.predict(test_X)\n",
    "    pred_probs = model.predict_proba(test_X)\n",
    "\n",
    "    # Evaluation\n",
    "    acc = accuracy_score(test_y, y_pred)\n",
    "    roc_auc = roc_auc_score(test_y, pred_probs[:, 1])\n",
    "\n",
    "print(f\"Accuracy: {acc:.4f}\")\n",
    "print(f\"AUC-ROC: {roc_auc:.4f}\")"
   ]
  },
  {
   "cell_type": "code",
   "execution_count": 10,
   "metadata": {},
   "outputs": [
    {
     "name": "stderr",
     "output_type": "stream",
     "text": [
      "/tmp/ipykernel_15542/2837911953.py:27: ExperimentalWarning:\n",
      "\n",
      "GPSampler is experimental (supported from v3.6.0). The interface can change in the future.\n",
      "\n",
      "[I 2024-10-21 18:00:00,949] A new study created in memory with name: no-name-e4bd6fce-709b-4240-bf2b-f7f1637a78f3\n",
      "[I 2024-10-21 18:00:02,383] Trial 0 finished with value: 0.9110284391534392 and parameters: {'nu': 0.3504516101661246, 'kernel': 'linear', 'gamma': 'auto'}. Best is trial 0 with value: 0.9110284391534392.\n",
      "[I 2024-10-21 18:00:02,993] Trial 1 finished with value: 0.9105406746031747 and parameters: {'nu': 0.5600524597545288, 'kernel': 'linear', 'gamma': 'auto'}. Best is trial 0 with value: 0.9110284391534392.\n",
      "[I 2024-10-21 18:00:03,566] Trial 2 finished with value: 0.9137070105820106 and parameters: {'nu': 0.3466952049830671, 'kernel': 'linear', 'gamma': 'scale'}. Best is trial 2 with value: 0.9137070105820106.\n",
      "[I 2024-10-21 18:00:03,597] Trial 3 finished with value: 0.19114583333333335 and parameters: {'nu': 0.10044994106962656, 'kernel': 'sigmoid', 'gamma': 'scale'}. Best is trial 2 with value: 0.9137070105820106.\n",
      "[I 2024-10-21 18:00:03,633] Trial 4 finished with value: 0.8173115079365079 and parameters: {'nu': 0.17404801601417672, 'kernel': 'poly', 'gamma': 'auto'}. Best is trial 2 with value: 0.9137070105820106.\n",
      "[I 2024-10-21 18:00:03,663] Trial 5 finished with value: 0.9110036375661374 and parameters: {'nu': 0.5855409737270382, 'kernel': 'linear', 'gamma': 'scale'}. Best is trial 2 with value: 0.9137070105820106.\n",
      "[I 2024-10-21 18:00:03,692] Trial 6 finished with value: 0.8562417328042328 and parameters: {'nu': 0.23460740963124627, 'kernel': 'linear', 'gamma': 'scale'}. Best is trial 2 with value: 0.9137070105820106.\n",
      "[I 2024-10-21 18:00:03,731] Trial 7 finished with value: 0.9000413359788361 and parameters: {'nu': 0.5144607393331878, 'kernel': 'rbf', 'gamma': 'scale'}. Best is trial 2 with value: 0.9137070105820106.\n",
      "[I 2024-10-21 18:00:03,765] Trial 8 finished with value: 0.9106068121693122 and parameters: {'nu': 0.3965492657181819, 'kernel': 'linear', 'gamma': 'scale'}. Best is trial 2 with value: 0.9137070105820106.\n",
      "[I 2024-10-21 18:00:03,806] Trial 9 finished with value: 0.5420469576719577 and parameters: {'nu': 0.2459977948122235, 'kernel': 'sigmoid', 'gamma': 'scale'}. Best is trial 2 with value: 0.9137070105820106.\n",
      "[I 2024-10-21 18:00:03,952] Trial 10 finished with value: 0.8925595238095239 and parameters: {'nu': 0.8999999999999996, 'kernel': 'poly', 'gamma': 'auto'}. Best is trial 2 with value: 0.9137070105820106.\n",
      "[I 2024-10-21 18:00:04,104] Trial 11 finished with value: 0.8887235449735449 and parameters: {'nu': 0.9, 'kernel': 'rbf', 'gamma': 'auto'}. Best is trial 2 with value: 0.9137070105820106.\n",
      "[I 2024-10-21 18:00:04,324] Trial 12 finished with value: 0.8902033730158729 and parameters: {'nu': 0.49454314789072085, 'kernel': 'poly', 'gamma': 'scale'}. Best is trial 2 with value: 0.9137070105820106.\n",
      "[I 2024-10-21 18:00:04,494] Trial 13 finished with value: 0.8908234126984127 and parameters: {'nu': 0.9, 'kernel': 'sigmoid', 'gamma': 'auto'}. Best is trial 2 with value: 0.9137070105820106.\n",
      "[I 2024-10-21 18:00:04,713] Trial 14 finished with value: 0.8894427910052911 and parameters: {'nu': 0.8971003415275232, 'kernel': 'rbf', 'gamma': 'scale'}. Best is trial 2 with value: 0.9137070105820106.\n",
      "[I 2024-10-21 18:00:04,987] Trial 15 finished with value: 0.8775297619047618 and parameters: {'nu': 0.4364829419394196, 'kernel': 'poly', 'gamma': 'auto'}. Best is trial 2 with value: 0.9137070105820106.\n",
      "[I 2024-10-21 18:00:05,161] Trial 16 finished with value: 0.8919725529100528 and parameters: {'nu': 0.8943915404752933, 'kernel': 'sigmoid', 'gamma': 'scale'}. Best is trial 2 with value: 0.9137070105820106.\n",
      "[I 2024-10-21 18:00:05,344] Trial 17 finished with value: 0.8915178571428573 and parameters: {'nu': 0.9, 'kernel': 'linear', 'gamma': 'auto'}. Best is trial 2 with value: 0.9137070105820106.\n",
      "[I 2024-10-21 18:00:05,568] Trial 18 finished with value: 0.8925595238095239 and parameters: {'nu': 0.9, 'kernel': 'poly', 'gamma': 'scale'}. Best is trial 2 with value: 0.9137070105820106.\n",
      "[I 2024-10-21 18:00:05,753] Trial 19 finished with value: 0.8966683201058201 and parameters: {'nu': 0.3339354152814504, 'kernel': 'rbf', 'gamma': 'auto'}. Best is trial 2 with value: 0.9137070105820106.\n",
      "[I 2024-10-21 18:00:05,925] Trial 20 finished with value: 0.9037037037037038 and parameters: {'nu': 0.5157779948968468, 'kernel': 'rbf', 'gamma': 'auto'}. Best is trial 2 with value: 0.9137070105820106.\n",
      "[I 2024-10-21 18:00:06,076] Trial 21 finished with value: 0.9105737433862433 and parameters: {'nu': 0.43547876846086325, 'kernel': 'linear', 'gamma': 'auto'}. Best is trial 2 with value: 0.9137070105820106.\n",
      "[I 2024-10-21 18:00:06,232] Trial 22 finished with value: 0.9103670634920634 and parameters: {'nu': 0.44877148446911047, 'kernel': 'linear', 'gamma': 'scale'}. Best is trial 2 with value: 0.9137070105820106.\n",
      "[I 2024-10-21 18:00:06,394] Trial 23 finished with value: 0.8915178571428573 and parameters: {'nu': 0.9, 'kernel': 'linear', 'gamma': 'scale'}. Best is trial 2 with value: 0.9137070105820106.\n",
      "[I 2024-10-21 18:00:06,566] Trial 24 finished with value: 0.8420552248677249 and parameters: {'nu': 0.2991473851816908, 'kernel': 'poly', 'gamma': 'scale'}. Best is trial 2 with value: 0.9137070105820106.\n",
      "[I 2024-10-21 18:00:06,784] Trial 25 finished with value: 0.8227678571428572 and parameters: {'nu': 0.10000000000000002, 'kernel': 'rbf', 'gamma': 'auto'}. Best is trial 2 with value: 0.9137070105820106.\n",
      "[I 2024-10-21 18:00:06,977] Trial 26 finished with value: 0.8651207010582009 and parameters: {'nu': 0.21204261738690866, 'kernel': 'rbf', 'gamma': 'scale'}. Best is trial 2 with value: 0.9137070105820106.\n",
      "[I 2024-10-21 18:00:07,163] Trial 27 finished with value: 0.9110367063492063 and parameters: {'nu': 0.4352495669053325, 'kernel': 'linear', 'gamma': 'scale'}. Best is trial 2 with value: 0.9137070105820106.\n",
      "[I 2024-10-21 18:00:07,337] Trial 28 finished with value: 0.8986689814814814 and parameters: {'nu': 0.6654504005800767, 'kernel': 'poly', 'gamma': 'auto'}. Best is trial 2 with value: 0.9137070105820106.\n",
      "[I 2024-10-21 18:00:07,606] Trial 29 finished with value: 0.7974702380952381 and parameters: {'nu': 0.10000000000000002, 'kernel': 'poly', 'gamma': 'scale'}. Best is trial 2 with value: 0.9137070105820106.\n",
      "[I 2024-10-21 18:00:07,863] Trial 30 finished with value: 0.9107969576719578 and parameters: {'nu': 0.3603294135116344, 'kernel': 'linear', 'gamma': 'scale'}. Best is trial 2 with value: 0.9137070105820106.\n",
      "[I 2024-10-21 18:00:08,092] Trial 31 finished with value: 0.9050925925925926 and parameters: {'nu': 0.6591329031362827, 'kernel': 'sigmoid', 'gamma': 'auto'}. Best is trial 2 with value: 0.9137070105820106.\n",
      "[I 2024-10-21 18:00:08,297] Trial 32 finished with value: 0.9035218253968255 and parameters: {'nu': 0.6728869630790468, 'kernel': 'sigmoid', 'gamma': 'scale'}. Best is trial 2 with value: 0.9137070105820106.\n",
      "[I 2024-10-21 18:00:08,493] Trial 33 finished with value: 0.8935185185185187 and parameters: {'nu': 0.3731065432295714, 'kernel': 'rbf', 'gamma': 'scale'}. Best is trial 2 with value: 0.9137070105820106.\n",
      "[I 2024-10-21 18:00:08,731] Trial 34 finished with value: 0.9055142195767196 and parameters: {'nu': 0.6594174148782581, 'kernel': 'linear', 'gamma': 'auto'}. Best is trial 2 with value: 0.9137070105820106.\n",
      "[I 2024-10-21 18:00:08,990] Trial 35 finished with value: 0.909920634920635 and parameters: {'nu': 0.38405780306113774, 'kernel': 'linear', 'gamma': 'auto'}. Best is trial 2 with value: 0.9137070105820106.\n",
      "[I 2024-10-21 18:00:09,165] Trial 36 finished with value: 0.9007523148148147 and parameters: {'nu': 0.6649480068771634, 'kernel': 'rbf', 'gamma': 'auto'}. Best is trial 2 with value: 0.9137070105820106.\n",
      "[I 2024-10-21 18:00:09,338] Trial 37 finished with value: 0.9083002645502646 and parameters: {'nu': 0.5265029221985666, 'kernel': 'linear', 'gamma': 'scale'}. Best is trial 2 with value: 0.9137070105820106.\n",
      "[I 2024-10-21 18:00:09,572] Trial 38 finished with value: 0.9105820105820106 and parameters: {'nu': 0.3669768525483412, 'kernel': 'linear', 'gamma': 'scale'}. Best is trial 2 with value: 0.9137070105820106.\n",
      "[I 2024-10-21 18:00:09,793] Trial 39 finished with value: 0.20986276455026456 and parameters: {'nu': 0.10000000000000002, 'kernel': 'linear', 'gamma': 'auto'}. Best is trial 2 with value: 0.9137070105820106.\n",
      "[I 2024-10-21 18:00:10,003] Trial 40 finished with value: 0.9164930555555555 and parameters: {'nu': 0.31608493933761556, 'kernel': 'linear', 'gamma': 'scale'}. Best is trial 40 with value: 0.9164930555555555.\n",
      "[I 2024-10-21 18:00:10,200] Trial 41 finished with value: 0.9133019179894181 and parameters: {'nu': 0.3104253555118519, 'kernel': 'linear', 'gamma': 'scale'}. Best is trial 40 with value: 0.9164930555555555.\n",
      "[I 2024-10-21 18:00:10,563] Trial 42 finished with value: 0.8624007936507937 and parameters: {'nu': 0.17259920756315933, 'kernel': 'rbf', 'gamma': 'auto'}. Best is trial 40 with value: 0.9164930555555555.\n",
      "[I 2024-10-21 18:00:10,744] Trial 43 finished with value: 0.8973627645502645 and parameters: {'nu': 0.6862502260148238, 'kernel': 'poly', 'gamma': 'scale'}. Best is trial 40 with value: 0.9164930555555555.\n",
      "[I 2024-10-21 18:00:10,941] Trial 44 finished with value: 0.9086970899470901 and parameters: {'nu': 0.30333109136774516, 'kernel': 'linear', 'gamma': 'auto'}. Best is trial 40 with value: 0.9164930555555555.\n",
      "[I 2024-10-21 18:00:11,167] Trial 45 finished with value: 0.9103587962962962 and parameters: {'nu': 0.5319520579439325, 'kernel': 'sigmoid', 'gamma': 'auto'}. Best is trial 40 with value: 0.9164930555555555.\n",
      "[I 2024-10-21 18:00:11,420] Trial 46 finished with value: 0.9114666005291004 and parameters: {'nu': 0.5432343484833875, 'kernel': 'sigmoid', 'gamma': 'scale'}. Best is trial 40 with value: 0.9164930555555555.\n",
      "[I 2024-10-21 18:00:11,635] Trial 47 finished with value: 0.8421792328042328 and parameters: {'nu': 0.13217026285994235, 'kernel': 'rbf', 'gamma': 'scale'}. Best is trial 40 with value: 0.9164930555555555.\n",
      "[I 2024-10-21 18:00:11,951] Trial 48 finished with value: 0.9050760582010582 and parameters: {'nu': 0.695531367807992, 'kernel': 'linear', 'gamma': 'scale'}. Best is trial 40 with value: 0.9164930555555555.\n",
      "[I 2024-10-21 18:00:12,161] Trial 49 finished with value: 0.9119378306878307 and parameters: {'nu': 0.5770671914962225, 'kernel': 'sigmoid', 'gamma': 'auto'}. Best is trial 40 with value: 0.9164930555555555.\n",
      "[I 2024-10-21 18:00:12,418] Trial 50 finished with value: 0.9015128968253968 and parameters: {'nu': 0.4187546819594453, 'kernel': 'rbf', 'gamma': 'auto'}. Best is trial 40 with value: 0.9164930555555555.\n",
      "[I 2024-10-21 18:00:12,642] Trial 51 finished with value: 0.9187417328042328 and parameters: {'nu': 0.31593168620773676, 'kernel': 'linear', 'gamma': 'scale'}. Best is trial 51 with value: 0.9187417328042328.\n",
      "[I 2024-10-21 18:00:12,808] Trial 52 finished with value: 0.8966352513227515 and parameters: {'nu': 0.6798743726924402, 'kernel': 'rbf', 'gamma': 'scale'}. Best is trial 51 with value: 0.9187417328042328.\n",
      "[I 2024-10-21 18:00:13,075] Trial 53 finished with value: 0.9100198412698413 and parameters: {'nu': 0.3040223331647604, 'kernel': 'linear', 'gamma': 'scale'}. Best is trial 51 with value: 0.9187417328042328.\n",
      "[I 2024-10-21 18:00:13,281] Trial 54 finished with value: 0.912194113756614 and parameters: {'nu': 0.5797341960567475, 'kernel': 'sigmoid', 'gamma': 'scale'}. Best is trial 51 with value: 0.9187417328042328.\n",
      "[I 2024-10-21 18:00:13,558] Trial 55 finished with value: 0.9091931216931217 and parameters: {'nu': 0.4921863807151433, 'kernel': 'sigmoid', 'gamma': 'scale'}. Best is trial 51 with value: 0.9187417328042328.\n",
      "[I 2024-10-21 18:00:13,747] Trial 56 finished with value: 0.9064980158730158 and parameters: {'nu': 0.4747450275251039, 'kernel': 'sigmoid', 'gamma': 'auto'}. Best is trial 51 with value: 0.9187417328042328.\n",
      "[I 2024-10-21 18:00:13,951] Trial 57 finished with value: 0.9122189153439153 and parameters: {'nu': 0.49482829756436186, 'kernel': 'linear', 'gamma': 'auto'}. Best is trial 51 with value: 0.9187417328042328.\n",
      "[I 2024-10-21 18:00:14,152] Trial 58 finished with value: 0.8730324074074074 and parameters: {'nu': 0.2562590978057294, 'kernel': 'rbf', 'gamma': 'auto'}. Best is trial 51 with value: 0.9187417328042328.\n",
      "[I 2024-10-21 18:00:14,326] Trial 59 finished with value: 0.7970072751322752 and parameters: {'nu': 0.10000000000000002, 'kernel': 'poly', 'gamma': 'auto'}. Best is trial 51 with value: 0.9187417328042328.\n",
      "[I 2024-10-21 18:00:14,631] Trial 60 finished with value: 0.9089699074074075 and parameters: {'nu': 0.3274521641777477, 'kernel': 'linear', 'gamma': 'scale'}. Best is trial 51 with value: 0.9187417328042328.\n",
      "[I 2024-10-21 18:00:14,910] Trial 61 finished with value: 0.9103257275132275 and parameters: {'nu': 0.5388553682481071, 'kernel': 'sigmoid', 'gamma': 'auto'}. Best is trial 51 with value: 0.9187417328042328.\n",
      "[I 2024-10-21 18:00:15,137] Trial 62 finished with value: 0.8972883597883599 and parameters: {'nu': 0.5603811881477114, 'kernel': 'poly', 'gamma': 'auto'}. Best is trial 51 with value: 0.9187417328042328.\n",
      "[I 2024-10-21 18:00:15,383] Trial 63 finished with value: 0.9074322089947089 and parameters: {'nu': 0.3309946826472468, 'kernel': 'linear', 'gamma': 'auto'}. Best is trial 51 with value: 0.9187417328042328.\n",
      "[I 2024-10-21 18:00:15,623] Trial 64 finished with value: 0.9117559523809524 and parameters: {'nu': 0.49269024175001835, 'kernel': 'linear', 'gamma': 'auto'}. Best is trial 51 with value: 0.9187417328042328.\n",
      "[I 2024-10-21 18:00:15,947] Trial 65 finished with value: 0.9117063492063492 and parameters: {'nu': 0.5447380983935509, 'kernel': 'sigmoid', 'gamma': 'scale'}. Best is trial 51 with value: 0.9187417328042328.\n",
      "[I 2024-10-21 18:00:16,195] Trial 66 finished with value: 0.9080935846560847 and parameters: {'nu': 0.2974885460663326, 'kernel': 'linear', 'gamma': 'scale'}. Best is trial 51 with value: 0.9187417328042328.\n",
      "[I 2024-10-21 18:00:16,578] Trial 67 finished with value: 0.9107804232804233 and parameters: {'nu': 0.558650245895685, 'kernel': 'linear', 'gamma': 'auto'}. Best is trial 51 with value: 0.9187417328042328.\n",
      "[I 2024-10-21 18:00:16,798] Trial 68 finished with value: 0.8883184523809524 and parameters: {'nu': 0.2788385034489024, 'kernel': 'linear', 'gamma': 'auto'}. Best is trial 51 with value: 0.9187417328042328.\n",
      "[I 2024-10-21 18:00:17,078] Trial 69 finished with value: 0.9105820105820106 and parameters: {'nu': 0.4393516738912906, 'kernel': 'linear', 'gamma': 'auto'}. Best is trial 51 with value: 0.9187417328042328.\n",
      "[I 2024-10-21 18:00:17,294] Trial 70 finished with value: 0.9112929894179894 and parameters: {'nu': 0.5033574647684128, 'kernel': 'linear', 'gamma': 'scale'}. Best is trial 51 with value: 0.9187417328042328.\n",
      "[I 2024-10-21 18:00:17,539] Trial 71 finished with value: 0.9103009259259259 and parameters: {'nu': 0.5997348418571727, 'kernel': 'linear', 'gamma': 'scale'}. Best is trial 51 with value: 0.9187417328042328.\n",
      "[I 2024-10-21 18:00:17,771] Trial 72 finished with value: 0.9098792989417989 and parameters: {'nu': 0.47375365907292155, 'kernel': 'sigmoid', 'gamma': 'scale'}. Best is trial 51 with value: 0.9187417328042328.\n",
      "[I 2024-10-21 18:00:18,096] Trial 73 finished with value: 0.9089616402116402 and parameters: {'nu': 0.5272517874605709, 'kernel': 'sigmoid', 'gamma': 'scale'}. Best is trial 51 with value: 0.9187417328042328.\n",
      "[I 2024-10-21 18:00:18,382] Trial 74 finished with value: 0.8102430555555558 and parameters: {'nu': 0.1462572780213713, 'kernel': 'poly', 'gamma': 'scale'}. Best is trial 51 with value: 0.9187417328042328.\n",
      "[I 2024-10-21 18:00:18,640] Trial 75 finished with value: 0.9101107804232804 and parameters: {'nu': 0.333277101447183, 'kernel': 'linear', 'gamma': 'scale'}. Best is trial 51 with value: 0.9187417328042328.\n",
      "[I 2024-10-21 18:00:18,900] Trial 76 finished with value: 0.8976438492063492 and parameters: {'nu': 0.7488668535019769, 'kernel': 'linear', 'gamma': 'auto'}. Best is trial 51 with value: 0.9187417328042328.\n",
      "[I 2024-10-21 18:00:19,249] Trial 77 finished with value: 0.8780175264550264 and parameters: {'nu': 0.2989043858917688, 'kernel': 'rbf', 'gamma': 'scale'}. Best is trial 51 with value: 0.9187417328042328.\n",
      "[I 2024-10-21 18:00:19,568] Trial 78 finished with value: 0.8980985449735449 and parameters: {'nu': 0.7512559082017055, 'kernel': 'sigmoid', 'gamma': 'auto'}. Best is trial 51 with value: 0.9187417328042328.\n",
      "[I 2024-10-21 18:00:19,841] Trial 79 finished with value: 0.9057622354497354 and parameters: {'nu': 0.4299389369013366, 'kernel': 'sigmoid', 'gamma': 'auto'}. Best is trial 51 with value: 0.9187417328042328.\n",
      "[I 2024-10-21 18:00:20,091] Trial 80 finished with value: 0.9108052248677249 and parameters: {'nu': 0.4305661327486296, 'kernel': 'sigmoid', 'gamma': 'scale'}. Best is trial 51 with value: 0.9187417328042328.\n",
      "[I 2024-10-21 18:00:20,379] Trial 81 finished with value: 0.8948660714285716 and parameters: {'nu': 0.7705737141320262, 'kernel': 'rbf', 'gamma': 'auto'}. Best is trial 51 with value: 0.9187417328042328.\n",
      "[I 2024-10-21 18:00:20,591] Trial 82 finished with value: 0.909631283068783 and parameters: {'nu': 0.4112595657208062, 'kernel': 'sigmoid', 'gamma': 'scale'}. Best is trial 51 with value: 0.9187417328042328.\n",
      "[I 2024-10-21 18:00:20,829] Trial 83 finished with value: 0.900256283068783 and parameters: {'nu': 0.7792862209895357, 'kernel': 'poly', 'gamma': 'auto'}. Best is trial 51 with value: 0.9187417328042328.\n",
      "[I 2024-10-21 18:00:21,078] Trial 84 finished with value: 0.8248346560846562 and parameters: {'nu': 0.2160756965234805, 'kernel': 'poly', 'gamma': 'scale'}. Best is trial 51 with value: 0.9187417328042328.\n",
      "[I 2024-10-21 18:00:21,449] Trial 85 finished with value: 0.9007357804232804 and parameters: {'nu': 0.58136174552534, 'kernel': 'rbf', 'gamma': 'auto'}. Best is trial 51 with value: 0.9187417328042328.\n",
      "[I 2024-10-21 18:00:21,717] Trial 86 finished with value: 0.9110036375661377 and parameters: {'nu': 0.44673248075832034, 'kernel': 'sigmoid', 'gamma': 'scale'}. Best is trial 51 with value: 0.9187417328042328.\n",
      "[I 2024-10-21 18:00:21,949] Trial 87 finished with value: 0.9107804232804234 and parameters: {'nu': 0.595858039487509, 'kernel': 'sigmoid', 'gamma': 'auto'}. Best is trial 51 with value: 0.9187417328042328.\n",
      "[I 2024-10-21 18:00:22,162] Trial 88 finished with value: 0.9080853174603174 and parameters: {'nu': 0.3880213576875873, 'kernel': 'sigmoid', 'gamma': 'auto'}. Best is trial 51 with value: 0.9187417328042328.\n",
      "[I 2024-10-21 18:00:22,450] Trial 89 finished with value: 0.9089616402116402 and parameters: {'nu': 0.3881235312755072, 'kernel': 'sigmoid', 'gamma': 'scale'}. Best is trial 51 with value: 0.9187417328042328.\n",
      "[I 2024-10-21 18:00:22,739] Trial 90 finished with value: 0.8329695767195767 and parameters: {'nu': 0.26797164500487386, 'kernel': 'poly', 'gamma': 'auto'}. Best is trial 51 with value: 0.9187417328042328.\n",
      "[I 2024-10-21 18:00:23,056] Trial 91 finished with value: 0.9089781746031746 and parameters: {'nu': 0.5978881022571649, 'kernel': 'sigmoid', 'gamma': 'scale'}. Best is trial 51 with value: 0.9187417328042328.\n",
      "[I 2024-10-21 18:00:23,276] Trial 92 finished with value: 0.8982556216931217 and parameters: {'nu': 0.44784445452554716, 'kernel': 'rbf', 'gamma': 'scale'}. Best is trial 51 with value: 0.9187417328042328.\n",
      "[I 2024-10-21 18:00:23,598] Trial 93 finished with value: 0.9023313492063494 and parameters: {'nu': 0.5887345685705998, 'kernel': 'poly', 'gamma': 'scale'}. Best is trial 51 with value: 0.9187417328042328.\n",
      "[I 2024-10-21 18:00:23,840] Trial 94 finished with value: 0.8255869708994711 and parameters: {'nu': 0.10048787001190758, 'kernel': 'rbf', 'gamma': 'scale'}. Best is trial 51 with value: 0.9187417328042328.\n",
      "[I 2024-10-21 18:00:24,151] Trial 95 finished with value: 0.9103009259259259 and parameters: {'nu': 0.6010481332573727, 'kernel': 'linear', 'gamma': 'auto'}. Best is trial 51 with value: 0.9187417328042328.\n",
      "[I 2024-10-21 18:00:24,383] Trial 96 finished with value: 0.9105902777777779 and parameters: {'nu': 0.5162509511327124, 'kernel': 'linear', 'gamma': 'auto'}. Best is trial 51 with value: 0.9187417328042328.\n",
      "[I 2024-10-21 18:00:24,750] Trial 97 finished with value: 0.9110697751322752 and parameters: {'nu': 0.40157492329239647, 'kernel': 'linear', 'gamma': 'auto'}. Best is trial 51 with value: 0.9187417328042328.\n",
      "[I 2024-10-21 18:00:25,082] Trial 98 finished with value: 0.910085978835979 and parameters: {'nu': 0.6311537002554353, 'kernel': 'linear', 'gamma': 'scale'}. Best is trial 51 with value: 0.9187417328042328.\n",
      "[I 2024-10-21 18:00:25,340] Trial 99 finished with value: 0.9115492724867724 and parameters: {'nu': 0.4741087394888453, 'kernel': 'linear', 'gamma': 'scale'}. Best is trial 51 with value: 0.9187417328042328.\n"
     ]
    }
   ],
   "source": [
    "# ---------------------------------------------------------------------------- #\n",
    "#                                 OPTIMIZATION                                 #\n",
    "# ---------------------------------------------------------------------------- #\n",
    "\n",
    "# Objective function\n",
    "def objective(trial):\n",
    "  # Faixa de parâmetros para otimização\n",
    "  nu = trial.suggest_float('nu', 0.1, 0.9, log=True)  # nu é um parâmetro entre 0 e 1\n",
    "  kernel = trial.suggest_categorical('kernel', ['linear', 'poly', 'rbf', 'sigmoid'])  # Tipo de kernel\n",
    "  gamma = trial.suggest_categorical('gamma', ['scale', 'auto'])  # Gamma para os kernels não lineares\n",
    "\n",
    "  # Modelo NuSVC com os parâmetros sugeridos\n",
    "  clf = sklearn.svm.NuSVC(nu=nu, kernel=kernel, gamma=gamma)\n",
    "\n",
    "  try:\n",
    "    # Otimizando a média da validação cruzada\n",
    "    score = sklearn.model_selection.cross_val_score(clf, X, y, n_jobs=-1, cv=3).mean()\n",
    "  except ValueError:\n",
    "    # Return a low score if nu is infeasible\n",
    "    #score = -1\n",
    "    score = float('-inf')# for a more drastic penalty\n",
    "\n",
    "  # Otimizando a média da validação cruzada\n",
    "  return sklearn.model_selection.cross_val_score(clf, X, y, scoring = 'roc_auc').mean() #Estamos otimizando o score da validação cruzada\n",
    "\n",
    "# Executando o optuna\n",
    "study = optuna.create_study(direction='maximize', sampler=GPSampler()) #Criando a otimização, o GPSamples é um processo gaussiano\n",
    "study.optimize(objective, n_trials=100) #Rodar a otimização"
   ]
  },
  {
   "cell_type": "code",
   "execution_count": 11,
   "metadata": {},
   "outputs": [
    {
     "name": "stdout",
     "output_type": "stream",
     "text": [
      "ROC_AUC: 0.9187417328042328\n",
      "Best hyperparameters: {'nu': 0.31593168620773676, 'kernel': 'linear', 'gamma': 'scale'}\n"
     ]
    }
   ],
   "source": [
    "# Mostrando o melhor modelo\n",
    "trial = study.best_trial\n",
    "print('ROC_AUC: {}'.format(trial.value))\n",
    "print(\"Best hyperparameters: {}\".format(trial.params))"
   ]
  },
  {
   "cell_type": "code",
   "execution_count": 12,
   "metadata": {},
   "outputs": [
    {
     "data": {
      "application/vnd.plotly.v1+json": {
       "config": {
        "plotlyServerURL": "https://plot.ly"
       },
       "data": [
        {
         "mode": "markers",
         "name": "Objective Value",
         "type": "scatter",
         "x": [
          0,
          1,
          2,
          3,
          4,
          5,
          6,
          7,
          8,
          9,
          10,
          11,
          12,
          13,
          14,
          15,
          16,
          17,
          18,
          19,
          20,
          21,
          22,
          23,
          24,
          25,
          26,
          27,
          28,
          29,
          30,
          31,
          32,
          33,
          34,
          35,
          36,
          37,
          38,
          39,
          40,
          41,
          42,
          43,
          44,
          45,
          46,
          47,
          48,
          49,
          50,
          51,
          52,
          53,
          54,
          55,
          56,
          57,
          58,
          59,
          60,
          61,
          62,
          63,
          64,
          65,
          66,
          67,
          68,
          69,
          70,
          71,
          72,
          73,
          74,
          75,
          76,
          77,
          78,
          79,
          80,
          81,
          82,
          83,
          84,
          85,
          86,
          87,
          88,
          89,
          90,
          91,
          92,
          93,
          94,
          95,
          96,
          97,
          98,
          99
         ],
         "y": [
          0.9110284391534392,
          0.9105406746031747,
          0.9137070105820106,
          0.19114583333333335,
          0.8173115079365079,
          0.9110036375661374,
          0.8562417328042328,
          0.9000413359788361,
          0.9106068121693122,
          0.5420469576719577,
          0.8925595238095239,
          0.8887235449735449,
          0.8902033730158729,
          0.8908234126984127,
          0.8894427910052911,
          0.8775297619047618,
          0.8919725529100528,
          0.8915178571428573,
          0.8925595238095239,
          0.8966683201058201,
          0.9037037037037038,
          0.9105737433862433,
          0.9103670634920634,
          0.8915178571428573,
          0.8420552248677249,
          0.8227678571428572,
          0.8651207010582009,
          0.9110367063492063,
          0.8986689814814814,
          0.7974702380952381,
          0.9107969576719578,
          0.9050925925925926,
          0.9035218253968255,
          0.8935185185185187,
          0.9055142195767196,
          0.909920634920635,
          0.9007523148148147,
          0.9083002645502646,
          0.9105820105820106,
          0.20986276455026456,
          0.9164930555555555,
          0.9133019179894181,
          0.8624007936507937,
          0.8973627645502645,
          0.9086970899470901,
          0.9103587962962962,
          0.9114666005291004,
          0.8421792328042328,
          0.9050760582010582,
          0.9119378306878307,
          0.9015128968253968,
          0.9187417328042328,
          0.8966352513227515,
          0.9100198412698413,
          0.912194113756614,
          0.9091931216931217,
          0.9064980158730158,
          0.9122189153439153,
          0.8730324074074074,
          0.7970072751322752,
          0.9089699074074075,
          0.9103257275132275,
          0.8972883597883599,
          0.9074322089947089,
          0.9117559523809524,
          0.9117063492063492,
          0.9080935846560847,
          0.9107804232804233,
          0.8883184523809524,
          0.9105820105820106,
          0.9112929894179894,
          0.9103009259259259,
          0.9098792989417989,
          0.9089616402116402,
          0.8102430555555558,
          0.9101107804232804,
          0.8976438492063492,
          0.8780175264550264,
          0.8980985449735449,
          0.9057622354497354,
          0.9108052248677249,
          0.8948660714285716,
          0.909631283068783,
          0.900256283068783,
          0.8248346560846562,
          0.9007357804232804,
          0.9110036375661377,
          0.9107804232804234,
          0.9080853174603174,
          0.9089616402116402,
          0.8329695767195767,
          0.9089781746031746,
          0.8982556216931217,
          0.9023313492063494,
          0.8255869708994711,
          0.9103009259259259,
          0.9105902777777779,
          0.9110697751322752,
          0.910085978835979,
          0.9115492724867724
         ]
        },
        {
         "mode": "lines",
         "name": "Best Value",
         "type": "scatter",
         "x": [
          0,
          1,
          2,
          3,
          4,
          5,
          6,
          7,
          8,
          9,
          10,
          11,
          12,
          13,
          14,
          15,
          16,
          17,
          18,
          19,
          20,
          21,
          22,
          23,
          24,
          25,
          26,
          27,
          28,
          29,
          30,
          31,
          32,
          33,
          34,
          35,
          36,
          37,
          38,
          39,
          40,
          41,
          42,
          43,
          44,
          45,
          46,
          47,
          48,
          49,
          50,
          51,
          52,
          53,
          54,
          55,
          56,
          57,
          58,
          59,
          60,
          61,
          62,
          63,
          64,
          65,
          66,
          67,
          68,
          69,
          70,
          71,
          72,
          73,
          74,
          75,
          76,
          77,
          78,
          79,
          80,
          81,
          82,
          83,
          84,
          85,
          86,
          87,
          88,
          89,
          90,
          91,
          92,
          93,
          94,
          95,
          96,
          97,
          98,
          99
         ],
         "y": [
          0.9110284391534392,
          0.9110284391534392,
          0.9137070105820106,
          0.9137070105820106,
          0.9137070105820106,
          0.9137070105820106,
          0.9137070105820106,
          0.9137070105820106,
          0.9137070105820106,
          0.9137070105820106,
          0.9137070105820106,
          0.9137070105820106,
          0.9137070105820106,
          0.9137070105820106,
          0.9137070105820106,
          0.9137070105820106,
          0.9137070105820106,
          0.9137070105820106,
          0.9137070105820106,
          0.9137070105820106,
          0.9137070105820106,
          0.9137070105820106,
          0.9137070105820106,
          0.9137070105820106,
          0.9137070105820106,
          0.9137070105820106,
          0.9137070105820106,
          0.9137070105820106,
          0.9137070105820106,
          0.9137070105820106,
          0.9137070105820106,
          0.9137070105820106,
          0.9137070105820106,
          0.9137070105820106,
          0.9137070105820106,
          0.9137070105820106,
          0.9137070105820106,
          0.9137070105820106,
          0.9137070105820106,
          0.9137070105820106,
          0.9164930555555555,
          0.9164930555555555,
          0.9164930555555555,
          0.9164930555555555,
          0.9164930555555555,
          0.9164930555555555,
          0.9164930555555555,
          0.9164930555555555,
          0.9164930555555555,
          0.9164930555555555,
          0.9164930555555555,
          0.9187417328042328,
          0.9187417328042328,
          0.9187417328042328,
          0.9187417328042328,
          0.9187417328042328,
          0.9187417328042328,
          0.9187417328042328,
          0.9187417328042328,
          0.9187417328042328,
          0.9187417328042328,
          0.9187417328042328,
          0.9187417328042328,
          0.9187417328042328,
          0.9187417328042328,
          0.9187417328042328,
          0.9187417328042328,
          0.9187417328042328,
          0.9187417328042328,
          0.9187417328042328,
          0.9187417328042328,
          0.9187417328042328,
          0.9187417328042328,
          0.9187417328042328,
          0.9187417328042328,
          0.9187417328042328,
          0.9187417328042328,
          0.9187417328042328,
          0.9187417328042328,
          0.9187417328042328,
          0.9187417328042328,
          0.9187417328042328,
          0.9187417328042328,
          0.9187417328042328,
          0.9187417328042328,
          0.9187417328042328,
          0.9187417328042328,
          0.9187417328042328,
          0.9187417328042328,
          0.9187417328042328,
          0.9187417328042328,
          0.9187417328042328,
          0.9187417328042328,
          0.9187417328042328,
          0.9187417328042328,
          0.9187417328042328,
          0.9187417328042328,
          0.9187417328042328,
          0.9187417328042328,
          0.9187417328042328
         ]
        },
        {
         "marker": {
          "color": "#cccccc"
         },
         "mode": "markers",
         "name": "Infeasible Trial",
         "showlegend": false,
         "type": "scatter",
         "x": [],
         "y": []
        }
       ],
       "layout": {
        "template": {
         "data": {
          "bar": [
           {
            "error_x": {
             "color": "#2a3f5f"
            },
            "error_y": {
             "color": "#2a3f5f"
            },
            "marker": {
             "line": {
              "color": "#E5ECF6",
              "width": 0.5
             },
             "pattern": {
              "fillmode": "overlay",
              "size": 10,
              "solidity": 0.2
             }
            },
            "type": "bar"
           }
          ],
          "barpolar": [
           {
            "marker": {
             "line": {
              "color": "#E5ECF6",
              "width": 0.5
             },
             "pattern": {
              "fillmode": "overlay",
              "size": 10,
              "solidity": 0.2
             }
            },
            "type": "barpolar"
           }
          ],
          "carpet": [
           {
            "aaxis": {
             "endlinecolor": "#2a3f5f",
             "gridcolor": "white",
             "linecolor": "white",
             "minorgridcolor": "white",
             "startlinecolor": "#2a3f5f"
            },
            "baxis": {
             "endlinecolor": "#2a3f5f",
             "gridcolor": "white",
             "linecolor": "white",
             "minorgridcolor": "white",
             "startlinecolor": "#2a3f5f"
            },
            "type": "carpet"
           }
          ],
          "choropleth": [
           {
            "colorbar": {
             "outlinewidth": 0,
             "ticks": ""
            },
            "type": "choropleth"
           }
          ],
          "contour": [
           {
            "colorbar": {
             "outlinewidth": 0,
             "ticks": ""
            },
            "colorscale": [
             [
              0,
              "#0d0887"
             ],
             [
              0.1111111111111111,
              "#46039f"
             ],
             [
              0.2222222222222222,
              "#7201a8"
             ],
             [
              0.3333333333333333,
              "#9c179e"
             ],
             [
              0.4444444444444444,
              "#bd3786"
             ],
             [
              0.5555555555555556,
              "#d8576b"
             ],
             [
              0.6666666666666666,
              "#ed7953"
             ],
             [
              0.7777777777777778,
              "#fb9f3a"
             ],
             [
              0.8888888888888888,
              "#fdca26"
             ],
             [
              1,
              "#f0f921"
             ]
            ],
            "type": "contour"
           }
          ],
          "contourcarpet": [
           {
            "colorbar": {
             "outlinewidth": 0,
             "ticks": ""
            },
            "type": "contourcarpet"
           }
          ],
          "heatmap": [
           {
            "colorbar": {
             "outlinewidth": 0,
             "ticks": ""
            },
            "colorscale": [
             [
              0,
              "#0d0887"
             ],
             [
              0.1111111111111111,
              "#46039f"
             ],
             [
              0.2222222222222222,
              "#7201a8"
             ],
             [
              0.3333333333333333,
              "#9c179e"
             ],
             [
              0.4444444444444444,
              "#bd3786"
             ],
             [
              0.5555555555555556,
              "#d8576b"
             ],
             [
              0.6666666666666666,
              "#ed7953"
             ],
             [
              0.7777777777777778,
              "#fb9f3a"
             ],
             [
              0.8888888888888888,
              "#fdca26"
             ],
             [
              1,
              "#f0f921"
             ]
            ],
            "type": "heatmap"
           }
          ],
          "heatmapgl": [
           {
            "colorbar": {
             "outlinewidth": 0,
             "ticks": ""
            },
            "colorscale": [
             [
              0,
              "#0d0887"
             ],
             [
              0.1111111111111111,
              "#46039f"
             ],
             [
              0.2222222222222222,
              "#7201a8"
             ],
             [
              0.3333333333333333,
              "#9c179e"
             ],
             [
              0.4444444444444444,
              "#bd3786"
             ],
             [
              0.5555555555555556,
              "#d8576b"
             ],
             [
              0.6666666666666666,
              "#ed7953"
             ],
             [
              0.7777777777777778,
              "#fb9f3a"
             ],
             [
              0.8888888888888888,
              "#fdca26"
             ],
             [
              1,
              "#f0f921"
             ]
            ],
            "type": "heatmapgl"
           }
          ],
          "histogram": [
           {
            "marker": {
             "pattern": {
              "fillmode": "overlay",
              "size": 10,
              "solidity": 0.2
             }
            },
            "type": "histogram"
           }
          ],
          "histogram2d": [
           {
            "colorbar": {
             "outlinewidth": 0,
             "ticks": ""
            },
            "colorscale": [
             [
              0,
              "#0d0887"
             ],
             [
              0.1111111111111111,
              "#46039f"
             ],
             [
              0.2222222222222222,
              "#7201a8"
             ],
             [
              0.3333333333333333,
              "#9c179e"
             ],
             [
              0.4444444444444444,
              "#bd3786"
             ],
             [
              0.5555555555555556,
              "#d8576b"
             ],
             [
              0.6666666666666666,
              "#ed7953"
             ],
             [
              0.7777777777777778,
              "#fb9f3a"
             ],
             [
              0.8888888888888888,
              "#fdca26"
             ],
             [
              1,
              "#f0f921"
             ]
            ],
            "type": "histogram2d"
           }
          ],
          "histogram2dcontour": [
           {
            "colorbar": {
             "outlinewidth": 0,
             "ticks": ""
            },
            "colorscale": [
             [
              0,
              "#0d0887"
             ],
             [
              0.1111111111111111,
              "#46039f"
             ],
             [
              0.2222222222222222,
              "#7201a8"
             ],
             [
              0.3333333333333333,
              "#9c179e"
             ],
             [
              0.4444444444444444,
              "#bd3786"
             ],
             [
              0.5555555555555556,
              "#d8576b"
             ],
             [
              0.6666666666666666,
              "#ed7953"
             ],
             [
              0.7777777777777778,
              "#fb9f3a"
             ],
             [
              0.8888888888888888,
              "#fdca26"
             ],
             [
              1,
              "#f0f921"
             ]
            ],
            "type": "histogram2dcontour"
           }
          ],
          "mesh3d": [
           {
            "colorbar": {
             "outlinewidth": 0,
             "ticks": ""
            },
            "type": "mesh3d"
           }
          ],
          "parcoords": [
           {
            "line": {
             "colorbar": {
              "outlinewidth": 0,
              "ticks": ""
             }
            },
            "type": "parcoords"
           }
          ],
          "pie": [
           {
            "automargin": true,
            "type": "pie"
           }
          ],
          "scatter": [
           {
            "fillpattern": {
             "fillmode": "overlay",
             "size": 10,
             "solidity": 0.2
            },
            "type": "scatter"
           }
          ],
          "scatter3d": [
           {
            "line": {
             "colorbar": {
              "outlinewidth": 0,
              "ticks": ""
             }
            },
            "marker": {
             "colorbar": {
              "outlinewidth": 0,
              "ticks": ""
             }
            },
            "type": "scatter3d"
           }
          ],
          "scattercarpet": [
           {
            "marker": {
             "colorbar": {
              "outlinewidth": 0,
              "ticks": ""
             }
            },
            "type": "scattercarpet"
           }
          ],
          "scattergeo": [
           {
            "marker": {
             "colorbar": {
              "outlinewidth": 0,
              "ticks": ""
             }
            },
            "type": "scattergeo"
           }
          ],
          "scattergl": [
           {
            "marker": {
             "colorbar": {
              "outlinewidth": 0,
              "ticks": ""
             }
            },
            "type": "scattergl"
           }
          ],
          "scattermapbox": [
           {
            "marker": {
             "colorbar": {
              "outlinewidth": 0,
              "ticks": ""
             }
            },
            "type": "scattermapbox"
           }
          ],
          "scatterpolar": [
           {
            "marker": {
             "colorbar": {
              "outlinewidth": 0,
              "ticks": ""
             }
            },
            "type": "scatterpolar"
           }
          ],
          "scatterpolargl": [
           {
            "marker": {
             "colorbar": {
              "outlinewidth": 0,
              "ticks": ""
             }
            },
            "type": "scatterpolargl"
           }
          ],
          "scatterternary": [
           {
            "marker": {
             "colorbar": {
              "outlinewidth": 0,
              "ticks": ""
             }
            },
            "type": "scatterternary"
           }
          ],
          "surface": [
           {
            "colorbar": {
             "outlinewidth": 0,
             "ticks": ""
            },
            "colorscale": [
             [
              0,
              "#0d0887"
             ],
             [
              0.1111111111111111,
              "#46039f"
             ],
             [
              0.2222222222222222,
              "#7201a8"
             ],
             [
              0.3333333333333333,
              "#9c179e"
             ],
             [
              0.4444444444444444,
              "#bd3786"
             ],
             [
              0.5555555555555556,
              "#d8576b"
             ],
             [
              0.6666666666666666,
              "#ed7953"
             ],
             [
              0.7777777777777778,
              "#fb9f3a"
             ],
             [
              0.8888888888888888,
              "#fdca26"
             ],
             [
              1,
              "#f0f921"
             ]
            ],
            "type": "surface"
           }
          ],
          "table": [
           {
            "cells": {
             "fill": {
              "color": "#EBF0F8"
             },
             "line": {
              "color": "white"
             }
            },
            "header": {
             "fill": {
              "color": "#C8D4E3"
             },
             "line": {
              "color": "white"
             }
            },
            "type": "table"
           }
          ]
         },
         "layout": {
          "annotationdefaults": {
           "arrowcolor": "#2a3f5f",
           "arrowhead": 0,
           "arrowwidth": 1
          },
          "autotypenumbers": "strict",
          "coloraxis": {
           "colorbar": {
            "outlinewidth": 0,
            "ticks": ""
           }
          },
          "colorscale": {
           "diverging": [
            [
             0,
             "#8e0152"
            ],
            [
             0.1,
             "#c51b7d"
            ],
            [
             0.2,
             "#de77ae"
            ],
            [
             0.3,
             "#f1b6da"
            ],
            [
             0.4,
             "#fde0ef"
            ],
            [
             0.5,
             "#f7f7f7"
            ],
            [
             0.6,
             "#e6f5d0"
            ],
            [
             0.7,
             "#b8e186"
            ],
            [
             0.8,
             "#7fbc41"
            ],
            [
             0.9,
             "#4d9221"
            ],
            [
             1,
             "#276419"
            ]
           ],
           "sequential": [
            [
             0,
             "#0d0887"
            ],
            [
             0.1111111111111111,
             "#46039f"
            ],
            [
             0.2222222222222222,
             "#7201a8"
            ],
            [
             0.3333333333333333,
             "#9c179e"
            ],
            [
             0.4444444444444444,
             "#bd3786"
            ],
            [
             0.5555555555555556,
             "#d8576b"
            ],
            [
             0.6666666666666666,
             "#ed7953"
            ],
            [
             0.7777777777777778,
             "#fb9f3a"
            ],
            [
             0.8888888888888888,
             "#fdca26"
            ],
            [
             1,
             "#f0f921"
            ]
           ],
           "sequentialminus": [
            [
             0,
             "#0d0887"
            ],
            [
             0.1111111111111111,
             "#46039f"
            ],
            [
             0.2222222222222222,
             "#7201a8"
            ],
            [
             0.3333333333333333,
             "#9c179e"
            ],
            [
             0.4444444444444444,
             "#bd3786"
            ],
            [
             0.5555555555555556,
             "#d8576b"
            ],
            [
             0.6666666666666666,
             "#ed7953"
            ],
            [
             0.7777777777777778,
             "#fb9f3a"
            ],
            [
             0.8888888888888888,
             "#fdca26"
            ],
            [
             1,
             "#f0f921"
            ]
           ]
          },
          "colorway": [
           "#636efa",
           "#EF553B",
           "#00cc96",
           "#ab63fa",
           "#FFA15A",
           "#19d3f3",
           "#FF6692",
           "#B6E880",
           "#FF97FF",
           "#FECB52"
          ],
          "font": {
           "color": "#2a3f5f"
          },
          "geo": {
           "bgcolor": "white",
           "lakecolor": "white",
           "landcolor": "#E5ECF6",
           "showlakes": true,
           "showland": true,
           "subunitcolor": "white"
          },
          "hoverlabel": {
           "align": "left"
          },
          "hovermode": "closest",
          "mapbox": {
           "style": "light"
          },
          "paper_bgcolor": "white",
          "plot_bgcolor": "#E5ECF6",
          "polar": {
           "angularaxis": {
            "gridcolor": "white",
            "linecolor": "white",
            "ticks": ""
           },
           "bgcolor": "#E5ECF6",
           "radialaxis": {
            "gridcolor": "white",
            "linecolor": "white",
            "ticks": ""
           }
          },
          "scene": {
           "xaxis": {
            "backgroundcolor": "#E5ECF6",
            "gridcolor": "white",
            "gridwidth": 2,
            "linecolor": "white",
            "showbackground": true,
            "ticks": "",
            "zerolinecolor": "white"
           },
           "yaxis": {
            "backgroundcolor": "#E5ECF6",
            "gridcolor": "white",
            "gridwidth": 2,
            "linecolor": "white",
            "showbackground": true,
            "ticks": "",
            "zerolinecolor": "white"
           },
           "zaxis": {
            "backgroundcolor": "#E5ECF6",
            "gridcolor": "white",
            "gridwidth": 2,
            "linecolor": "white",
            "showbackground": true,
            "ticks": "",
            "zerolinecolor": "white"
           }
          },
          "shapedefaults": {
           "line": {
            "color": "#2a3f5f"
           }
          },
          "ternary": {
           "aaxis": {
            "gridcolor": "white",
            "linecolor": "white",
            "ticks": ""
           },
           "baxis": {
            "gridcolor": "white",
            "linecolor": "white",
            "ticks": ""
           },
           "bgcolor": "#E5ECF6",
           "caxis": {
            "gridcolor": "white",
            "linecolor": "white",
            "ticks": ""
           }
          },
          "title": {
           "x": 0.05
          },
          "xaxis": {
           "automargin": true,
           "gridcolor": "white",
           "linecolor": "white",
           "ticks": "",
           "title": {
            "standoff": 15
           },
           "zerolinecolor": "white",
           "zerolinewidth": 2
          },
          "yaxis": {
           "automargin": true,
           "gridcolor": "white",
           "linecolor": "white",
           "ticks": "",
           "title": {
            "standoff": 15
           },
           "zerolinecolor": "white",
           "zerolinewidth": 2
          }
         }
        },
        "title": {
         "text": "Optimization History Plot"
        },
        "xaxis": {
         "title": {
          "text": "Trial"
         }
        },
        "yaxis": {
         "title": {
          "text": "Objective Value"
         }
        }
       }
      }
     },
     "metadata": {},
     "output_type": "display_data"
    }
   ],
   "source": [
    "# Visualizando a otimização\n",
    "optuna.visualization.plot_optimization_history(study)"
   ]
  },
  {
   "cell_type": "code",
   "execution_count": 13,
   "metadata": {},
   "outputs": [
    {
     "data": {
      "application/vnd.plotly.v1+json": {
       "config": {
        "plotlyServerURL": "https://plot.ly"
       },
       "data": [
        {
         "marker": {
          "color": [
           0,
           1,
           2,
           3,
           4,
           5,
           6,
           7,
           8,
           9,
           10,
           11,
           12,
           13,
           14,
           15,
           16,
           17,
           18,
           19,
           20,
           21,
           22,
           23,
           24,
           25,
           26,
           27,
           28,
           29,
           30,
           31,
           32,
           33,
           34,
           35,
           36,
           37,
           38,
           39,
           40,
           41,
           42,
           43,
           44,
           45,
           46,
           47,
           48,
           49,
           50,
           51,
           52,
           53,
           54,
           55,
           56,
           57,
           58,
           59,
           60,
           61,
           62,
           63,
           64,
           65,
           66,
           67,
           68,
           69,
           70,
           71,
           72,
           73,
           74,
           75,
           76,
           77,
           78,
           79,
           80,
           81,
           82,
           83,
           84,
           85,
           86,
           87,
           88,
           89,
           90,
           91,
           92,
           93,
           94,
           95,
           96,
           97,
           98,
           99
          ],
          "colorbar": {
           "title": {
            "text": "Trial"
           },
           "x": 1,
           "xpad": 40
          },
          "colorscale": [
           [
            0,
            "rgb(247,251,255)"
           ],
           [
            0.125,
            "rgb(222,235,247)"
           ],
           [
            0.25,
            "rgb(198,219,239)"
           ],
           [
            0.375,
            "rgb(158,202,225)"
           ],
           [
            0.5,
            "rgb(107,174,214)"
           ],
           [
            0.625,
            "rgb(66,146,198)"
           ],
           [
            0.75,
            "rgb(33,113,181)"
           ],
           [
            0.875,
            "rgb(8,81,156)"
           ],
           [
            1,
            "rgb(8,48,107)"
           ]
          ],
          "line": {
           "color": "Grey",
           "width": 0.5
          },
          "showscale": true
         },
         "mode": "markers",
         "name": "Feasible Trial",
         "showlegend": false,
         "type": "scatter",
         "x": [
          "auto",
          "auto",
          "scale",
          "scale",
          "auto",
          "scale",
          "scale",
          "scale",
          "scale",
          "scale",
          "auto",
          "auto",
          "scale",
          "auto",
          "scale",
          "auto",
          "scale",
          "auto",
          "scale",
          "auto",
          "auto",
          "auto",
          "scale",
          "scale",
          "scale",
          "auto",
          "scale",
          "scale",
          "auto",
          "scale",
          "scale",
          "auto",
          "scale",
          "scale",
          "auto",
          "auto",
          "auto",
          "scale",
          "scale",
          "auto",
          "scale",
          "scale",
          "auto",
          "scale",
          "auto",
          "auto",
          "scale",
          "scale",
          "scale",
          "auto",
          "auto",
          "scale",
          "scale",
          "scale",
          "scale",
          "scale",
          "auto",
          "auto",
          "auto",
          "auto",
          "scale",
          "auto",
          "auto",
          "auto",
          "auto",
          "scale",
          "scale",
          "auto",
          "auto",
          "auto",
          "scale",
          "scale",
          "scale",
          "scale",
          "scale",
          "scale",
          "auto",
          "scale",
          "auto",
          "auto",
          "scale",
          "auto",
          "scale",
          "auto",
          "scale",
          "auto",
          "scale",
          "auto",
          "auto",
          "scale",
          "auto",
          "scale",
          "scale",
          "scale",
          "scale",
          "auto",
          "auto",
          "auto",
          "scale",
          "scale"
         ],
         "xaxis": "x",
         "y": [
          0.9110284391534392,
          0.9105406746031747,
          0.9137070105820106,
          0.19114583333333335,
          0.8173115079365079,
          0.9110036375661374,
          0.8562417328042328,
          0.9000413359788361,
          0.9106068121693122,
          0.5420469576719577,
          0.8925595238095239,
          0.8887235449735449,
          0.8902033730158729,
          0.8908234126984127,
          0.8894427910052911,
          0.8775297619047618,
          0.8919725529100528,
          0.8915178571428573,
          0.8925595238095239,
          0.8966683201058201,
          0.9037037037037038,
          0.9105737433862433,
          0.9103670634920634,
          0.8915178571428573,
          0.8420552248677249,
          0.8227678571428572,
          0.8651207010582009,
          0.9110367063492063,
          0.8986689814814814,
          0.7974702380952381,
          0.9107969576719578,
          0.9050925925925926,
          0.9035218253968255,
          0.8935185185185187,
          0.9055142195767196,
          0.909920634920635,
          0.9007523148148147,
          0.9083002645502646,
          0.9105820105820106,
          0.20986276455026456,
          0.9164930555555555,
          0.9133019179894181,
          0.8624007936507937,
          0.8973627645502645,
          0.9086970899470901,
          0.9103587962962962,
          0.9114666005291004,
          0.8421792328042328,
          0.9050760582010582,
          0.9119378306878307,
          0.9015128968253968,
          0.9187417328042328,
          0.8966352513227515,
          0.9100198412698413,
          0.912194113756614,
          0.9091931216931217,
          0.9064980158730158,
          0.9122189153439153,
          0.8730324074074074,
          0.7970072751322752,
          0.9089699074074075,
          0.9103257275132275,
          0.8972883597883599,
          0.9074322089947089,
          0.9117559523809524,
          0.9117063492063492,
          0.9080935846560847,
          0.9107804232804233,
          0.8883184523809524,
          0.9105820105820106,
          0.9112929894179894,
          0.9103009259259259,
          0.9098792989417989,
          0.9089616402116402,
          0.8102430555555558,
          0.9101107804232804,
          0.8976438492063492,
          0.8780175264550264,
          0.8980985449735449,
          0.9057622354497354,
          0.9108052248677249,
          0.8948660714285716,
          0.909631283068783,
          0.900256283068783,
          0.8248346560846562,
          0.9007357804232804,
          0.9110036375661377,
          0.9107804232804234,
          0.9080853174603174,
          0.9089616402116402,
          0.8329695767195767,
          0.9089781746031746,
          0.8982556216931217,
          0.9023313492063494,
          0.8255869708994711,
          0.9103009259259259,
          0.9105902777777779,
          0.9110697751322752,
          0.910085978835979,
          0.9115492724867724
         ],
         "yaxis": "y"
        },
        {
         "marker": {
          "color": [
           0,
           1,
           2,
           3,
           4,
           5,
           6,
           7,
           8,
           9,
           10,
           11,
           12,
           13,
           14,
           15,
           16,
           17,
           18,
           19,
           20,
           21,
           22,
           23,
           24,
           25,
           26,
           27,
           28,
           29,
           30,
           31,
           32,
           33,
           34,
           35,
           36,
           37,
           38,
           39,
           40,
           41,
           42,
           43,
           44,
           45,
           46,
           47,
           48,
           49,
           50,
           51,
           52,
           53,
           54,
           55,
           56,
           57,
           58,
           59,
           60,
           61,
           62,
           63,
           64,
           65,
           66,
           67,
           68,
           69,
           70,
           71,
           72,
           73,
           74,
           75,
           76,
           77,
           78,
           79,
           80,
           81,
           82,
           83,
           84,
           85,
           86,
           87,
           88,
           89,
           90,
           91,
           92,
           93,
           94,
           95,
           96,
           97,
           98,
           99
          ],
          "colorbar": {
           "title": {
            "text": "Trial"
           },
           "x": 1,
           "xpad": 40
          },
          "colorscale": [
           [
            0,
            "rgb(247,251,255)"
           ],
           [
            0.125,
            "rgb(222,235,247)"
           ],
           [
            0.25,
            "rgb(198,219,239)"
           ],
           [
            0.375,
            "rgb(158,202,225)"
           ],
           [
            0.5,
            "rgb(107,174,214)"
           ],
           [
            0.625,
            "rgb(66,146,198)"
           ],
           [
            0.75,
            "rgb(33,113,181)"
           ],
           [
            0.875,
            "rgb(8,81,156)"
           ],
           [
            1,
            "rgb(8,48,107)"
           ]
          ],
          "line": {
           "color": "Grey",
           "width": 0.5
          },
          "showscale": false
         },
         "mode": "markers",
         "name": "Feasible Trial",
         "showlegend": false,
         "type": "scatter",
         "x": [
          "linear",
          "linear",
          "linear",
          "sigmoid",
          "poly",
          "linear",
          "linear",
          "rbf",
          "linear",
          "sigmoid",
          "poly",
          "rbf",
          "poly",
          "sigmoid",
          "rbf",
          "poly",
          "sigmoid",
          "linear",
          "poly",
          "rbf",
          "rbf",
          "linear",
          "linear",
          "linear",
          "poly",
          "rbf",
          "rbf",
          "linear",
          "poly",
          "poly",
          "linear",
          "sigmoid",
          "sigmoid",
          "rbf",
          "linear",
          "linear",
          "rbf",
          "linear",
          "linear",
          "linear",
          "linear",
          "linear",
          "rbf",
          "poly",
          "linear",
          "sigmoid",
          "sigmoid",
          "rbf",
          "linear",
          "sigmoid",
          "rbf",
          "linear",
          "rbf",
          "linear",
          "sigmoid",
          "sigmoid",
          "sigmoid",
          "linear",
          "rbf",
          "poly",
          "linear",
          "sigmoid",
          "poly",
          "linear",
          "linear",
          "sigmoid",
          "linear",
          "linear",
          "linear",
          "linear",
          "linear",
          "linear",
          "sigmoid",
          "sigmoid",
          "poly",
          "linear",
          "linear",
          "rbf",
          "sigmoid",
          "sigmoid",
          "sigmoid",
          "rbf",
          "sigmoid",
          "poly",
          "poly",
          "rbf",
          "sigmoid",
          "sigmoid",
          "sigmoid",
          "sigmoid",
          "poly",
          "sigmoid",
          "rbf",
          "poly",
          "rbf",
          "linear",
          "linear",
          "linear",
          "linear",
          "linear"
         ],
         "xaxis": "x2",
         "y": [
          0.9110284391534392,
          0.9105406746031747,
          0.9137070105820106,
          0.19114583333333335,
          0.8173115079365079,
          0.9110036375661374,
          0.8562417328042328,
          0.9000413359788361,
          0.9106068121693122,
          0.5420469576719577,
          0.8925595238095239,
          0.8887235449735449,
          0.8902033730158729,
          0.8908234126984127,
          0.8894427910052911,
          0.8775297619047618,
          0.8919725529100528,
          0.8915178571428573,
          0.8925595238095239,
          0.8966683201058201,
          0.9037037037037038,
          0.9105737433862433,
          0.9103670634920634,
          0.8915178571428573,
          0.8420552248677249,
          0.8227678571428572,
          0.8651207010582009,
          0.9110367063492063,
          0.8986689814814814,
          0.7974702380952381,
          0.9107969576719578,
          0.9050925925925926,
          0.9035218253968255,
          0.8935185185185187,
          0.9055142195767196,
          0.909920634920635,
          0.9007523148148147,
          0.9083002645502646,
          0.9105820105820106,
          0.20986276455026456,
          0.9164930555555555,
          0.9133019179894181,
          0.8624007936507937,
          0.8973627645502645,
          0.9086970899470901,
          0.9103587962962962,
          0.9114666005291004,
          0.8421792328042328,
          0.9050760582010582,
          0.9119378306878307,
          0.9015128968253968,
          0.9187417328042328,
          0.8966352513227515,
          0.9100198412698413,
          0.912194113756614,
          0.9091931216931217,
          0.9064980158730158,
          0.9122189153439153,
          0.8730324074074074,
          0.7970072751322752,
          0.9089699074074075,
          0.9103257275132275,
          0.8972883597883599,
          0.9074322089947089,
          0.9117559523809524,
          0.9117063492063492,
          0.9080935846560847,
          0.9107804232804233,
          0.8883184523809524,
          0.9105820105820106,
          0.9112929894179894,
          0.9103009259259259,
          0.9098792989417989,
          0.9089616402116402,
          0.8102430555555558,
          0.9101107804232804,
          0.8976438492063492,
          0.8780175264550264,
          0.8980985449735449,
          0.9057622354497354,
          0.9108052248677249,
          0.8948660714285716,
          0.909631283068783,
          0.900256283068783,
          0.8248346560846562,
          0.9007357804232804,
          0.9110036375661377,
          0.9107804232804234,
          0.9080853174603174,
          0.9089616402116402,
          0.8329695767195767,
          0.9089781746031746,
          0.8982556216931217,
          0.9023313492063494,
          0.8255869708994711,
          0.9103009259259259,
          0.9105902777777779,
          0.9110697751322752,
          0.910085978835979,
          0.9115492724867724
         ],
         "yaxis": "y2"
        },
        {
         "marker": {
          "color": [
           0,
           1,
           2,
           3,
           4,
           5,
           6,
           7,
           8,
           9,
           10,
           11,
           12,
           13,
           14,
           15,
           16,
           17,
           18,
           19,
           20,
           21,
           22,
           23,
           24,
           25,
           26,
           27,
           28,
           29,
           30,
           31,
           32,
           33,
           34,
           35,
           36,
           37,
           38,
           39,
           40,
           41,
           42,
           43,
           44,
           45,
           46,
           47,
           48,
           49,
           50,
           51,
           52,
           53,
           54,
           55,
           56,
           57,
           58,
           59,
           60,
           61,
           62,
           63,
           64,
           65,
           66,
           67,
           68,
           69,
           70,
           71,
           72,
           73,
           74,
           75,
           76,
           77,
           78,
           79,
           80,
           81,
           82,
           83,
           84,
           85,
           86,
           87,
           88,
           89,
           90,
           91,
           92,
           93,
           94,
           95,
           96,
           97,
           98,
           99
          ],
          "colorbar": {
           "title": {
            "text": "Trial"
           },
           "x": 1,
           "xpad": 40
          },
          "colorscale": [
           [
            0,
            "rgb(247,251,255)"
           ],
           [
            0.125,
            "rgb(222,235,247)"
           ],
           [
            0.25,
            "rgb(198,219,239)"
           ],
           [
            0.375,
            "rgb(158,202,225)"
           ],
           [
            0.5,
            "rgb(107,174,214)"
           ],
           [
            0.625,
            "rgb(66,146,198)"
           ],
           [
            0.75,
            "rgb(33,113,181)"
           ],
           [
            0.875,
            "rgb(8,81,156)"
           ],
           [
            1,
            "rgb(8,48,107)"
           ]
          ],
          "line": {
           "color": "Grey",
           "width": 0.5
          },
          "showscale": false
         },
         "mode": "markers",
         "name": "Feasible Trial",
         "showlegend": false,
         "type": "scatter",
         "x": [
          0.3504516101661246,
          0.5600524597545288,
          0.3466952049830671,
          0.10044994106962656,
          0.17404801601417672,
          0.5855409737270382,
          0.23460740963124627,
          0.5144607393331878,
          0.3965492657181819,
          0.2459977948122235,
          0.8999999999999996,
          0.9,
          0.49454314789072085,
          0.9,
          0.8971003415275232,
          0.4364829419394196,
          0.8943915404752933,
          0.9,
          0.9,
          0.3339354152814504,
          0.5157779948968468,
          0.43547876846086325,
          0.44877148446911047,
          0.9,
          0.2991473851816908,
          0.10000000000000002,
          0.21204261738690866,
          0.4352495669053325,
          0.6654504005800767,
          0.10000000000000002,
          0.3603294135116344,
          0.6591329031362827,
          0.6728869630790468,
          0.3731065432295714,
          0.6594174148782581,
          0.38405780306113774,
          0.6649480068771634,
          0.5265029221985666,
          0.3669768525483412,
          0.10000000000000002,
          0.31608493933761556,
          0.3104253555118519,
          0.17259920756315933,
          0.6862502260148238,
          0.30333109136774516,
          0.5319520579439325,
          0.5432343484833875,
          0.13217026285994235,
          0.695531367807992,
          0.5770671914962225,
          0.4187546819594453,
          0.31593168620773676,
          0.6798743726924402,
          0.3040223331647604,
          0.5797341960567475,
          0.4921863807151433,
          0.4747450275251039,
          0.49482829756436186,
          0.2562590978057294,
          0.10000000000000002,
          0.3274521641777477,
          0.5388553682481071,
          0.5603811881477114,
          0.3309946826472468,
          0.49269024175001835,
          0.5447380983935509,
          0.2974885460663326,
          0.558650245895685,
          0.2788385034489024,
          0.4393516738912906,
          0.5033574647684128,
          0.5997348418571727,
          0.47375365907292155,
          0.5272517874605709,
          0.1462572780213713,
          0.333277101447183,
          0.7488668535019769,
          0.2989043858917688,
          0.7512559082017055,
          0.4299389369013366,
          0.4305661327486296,
          0.7705737141320262,
          0.4112595657208062,
          0.7792862209895357,
          0.2160756965234805,
          0.58136174552534,
          0.44673248075832034,
          0.595858039487509,
          0.3880213576875873,
          0.3881235312755072,
          0.26797164500487386,
          0.5978881022571649,
          0.44784445452554716,
          0.5887345685705998,
          0.10048787001190758,
          0.6010481332573727,
          0.5162509511327124,
          0.40157492329239647,
          0.6311537002554353,
          0.4741087394888453
         ],
         "xaxis": "x3",
         "y": [
          0.9110284391534392,
          0.9105406746031747,
          0.9137070105820106,
          0.19114583333333335,
          0.8173115079365079,
          0.9110036375661374,
          0.8562417328042328,
          0.9000413359788361,
          0.9106068121693122,
          0.5420469576719577,
          0.8925595238095239,
          0.8887235449735449,
          0.8902033730158729,
          0.8908234126984127,
          0.8894427910052911,
          0.8775297619047618,
          0.8919725529100528,
          0.8915178571428573,
          0.8925595238095239,
          0.8966683201058201,
          0.9037037037037038,
          0.9105737433862433,
          0.9103670634920634,
          0.8915178571428573,
          0.8420552248677249,
          0.8227678571428572,
          0.8651207010582009,
          0.9110367063492063,
          0.8986689814814814,
          0.7974702380952381,
          0.9107969576719578,
          0.9050925925925926,
          0.9035218253968255,
          0.8935185185185187,
          0.9055142195767196,
          0.909920634920635,
          0.9007523148148147,
          0.9083002645502646,
          0.9105820105820106,
          0.20986276455026456,
          0.9164930555555555,
          0.9133019179894181,
          0.8624007936507937,
          0.8973627645502645,
          0.9086970899470901,
          0.9103587962962962,
          0.9114666005291004,
          0.8421792328042328,
          0.9050760582010582,
          0.9119378306878307,
          0.9015128968253968,
          0.9187417328042328,
          0.8966352513227515,
          0.9100198412698413,
          0.912194113756614,
          0.9091931216931217,
          0.9064980158730158,
          0.9122189153439153,
          0.8730324074074074,
          0.7970072751322752,
          0.9089699074074075,
          0.9103257275132275,
          0.8972883597883599,
          0.9074322089947089,
          0.9117559523809524,
          0.9117063492063492,
          0.9080935846560847,
          0.9107804232804233,
          0.8883184523809524,
          0.9105820105820106,
          0.9112929894179894,
          0.9103009259259259,
          0.9098792989417989,
          0.9089616402116402,
          0.8102430555555558,
          0.9101107804232804,
          0.8976438492063492,
          0.8780175264550264,
          0.8980985449735449,
          0.9057622354497354,
          0.9108052248677249,
          0.8948660714285716,
          0.909631283068783,
          0.900256283068783,
          0.8248346560846562,
          0.9007357804232804,
          0.9110036375661377,
          0.9107804232804234,
          0.9080853174603174,
          0.9089616402116402,
          0.8329695767195767,
          0.9089781746031746,
          0.8982556216931217,
          0.9023313492063494,
          0.8255869708994711,
          0.9103009259259259,
          0.9105902777777779,
          0.9110697751322752,
          0.910085978835979,
          0.9115492724867724
         ],
         "yaxis": "y3"
        }
       ],
       "layout": {
        "template": {
         "data": {
          "bar": [
           {
            "error_x": {
             "color": "#2a3f5f"
            },
            "error_y": {
             "color": "#2a3f5f"
            },
            "marker": {
             "line": {
              "color": "#E5ECF6",
              "width": 0.5
             },
             "pattern": {
              "fillmode": "overlay",
              "size": 10,
              "solidity": 0.2
             }
            },
            "type": "bar"
           }
          ],
          "barpolar": [
           {
            "marker": {
             "line": {
              "color": "#E5ECF6",
              "width": 0.5
             },
             "pattern": {
              "fillmode": "overlay",
              "size": 10,
              "solidity": 0.2
             }
            },
            "type": "barpolar"
           }
          ],
          "carpet": [
           {
            "aaxis": {
             "endlinecolor": "#2a3f5f",
             "gridcolor": "white",
             "linecolor": "white",
             "minorgridcolor": "white",
             "startlinecolor": "#2a3f5f"
            },
            "baxis": {
             "endlinecolor": "#2a3f5f",
             "gridcolor": "white",
             "linecolor": "white",
             "minorgridcolor": "white",
             "startlinecolor": "#2a3f5f"
            },
            "type": "carpet"
           }
          ],
          "choropleth": [
           {
            "colorbar": {
             "outlinewidth": 0,
             "ticks": ""
            },
            "type": "choropleth"
           }
          ],
          "contour": [
           {
            "colorbar": {
             "outlinewidth": 0,
             "ticks": ""
            },
            "colorscale": [
             [
              0,
              "#0d0887"
             ],
             [
              0.1111111111111111,
              "#46039f"
             ],
             [
              0.2222222222222222,
              "#7201a8"
             ],
             [
              0.3333333333333333,
              "#9c179e"
             ],
             [
              0.4444444444444444,
              "#bd3786"
             ],
             [
              0.5555555555555556,
              "#d8576b"
             ],
             [
              0.6666666666666666,
              "#ed7953"
             ],
             [
              0.7777777777777778,
              "#fb9f3a"
             ],
             [
              0.8888888888888888,
              "#fdca26"
             ],
             [
              1,
              "#f0f921"
             ]
            ],
            "type": "contour"
           }
          ],
          "contourcarpet": [
           {
            "colorbar": {
             "outlinewidth": 0,
             "ticks": ""
            },
            "type": "contourcarpet"
           }
          ],
          "heatmap": [
           {
            "colorbar": {
             "outlinewidth": 0,
             "ticks": ""
            },
            "colorscale": [
             [
              0,
              "#0d0887"
             ],
             [
              0.1111111111111111,
              "#46039f"
             ],
             [
              0.2222222222222222,
              "#7201a8"
             ],
             [
              0.3333333333333333,
              "#9c179e"
             ],
             [
              0.4444444444444444,
              "#bd3786"
             ],
             [
              0.5555555555555556,
              "#d8576b"
             ],
             [
              0.6666666666666666,
              "#ed7953"
             ],
             [
              0.7777777777777778,
              "#fb9f3a"
             ],
             [
              0.8888888888888888,
              "#fdca26"
             ],
             [
              1,
              "#f0f921"
             ]
            ],
            "type": "heatmap"
           }
          ],
          "heatmapgl": [
           {
            "colorbar": {
             "outlinewidth": 0,
             "ticks": ""
            },
            "colorscale": [
             [
              0,
              "#0d0887"
             ],
             [
              0.1111111111111111,
              "#46039f"
             ],
             [
              0.2222222222222222,
              "#7201a8"
             ],
             [
              0.3333333333333333,
              "#9c179e"
             ],
             [
              0.4444444444444444,
              "#bd3786"
             ],
             [
              0.5555555555555556,
              "#d8576b"
             ],
             [
              0.6666666666666666,
              "#ed7953"
             ],
             [
              0.7777777777777778,
              "#fb9f3a"
             ],
             [
              0.8888888888888888,
              "#fdca26"
             ],
             [
              1,
              "#f0f921"
             ]
            ],
            "type": "heatmapgl"
           }
          ],
          "histogram": [
           {
            "marker": {
             "pattern": {
              "fillmode": "overlay",
              "size": 10,
              "solidity": 0.2
             }
            },
            "type": "histogram"
           }
          ],
          "histogram2d": [
           {
            "colorbar": {
             "outlinewidth": 0,
             "ticks": ""
            },
            "colorscale": [
             [
              0,
              "#0d0887"
             ],
             [
              0.1111111111111111,
              "#46039f"
             ],
             [
              0.2222222222222222,
              "#7201a8"
             ],
             [
              0.3333333333333333,
              "#9c179e"
             ],
             [
              0.4444444444444444,
              "#bd3786"
             ],
             [
              0.5555555555555556,
              "#d8576b"
             ],
             [
              0.6666666666666666,
              "#ed7953"
             ],
             [
              0.7777777777777778,
              "#fb9f3a"
             ],
             [
              0.8888888888888888,
              "#fdca26"
             ],
             [
              1,
              "#f0f921"
             ]
            ],
            "type": "histogram2d"
           }
          ],
          "histogram2dcontour": [
           {
            "colorbar": {
             "outlinewidth": 0,
             "ticks": ""
            },
            "colorscale": [
             [
              0,
              "#0d0887"
             ],
             [
              0.1111111111111111,
              "#46039f"
             ],
             [
              0.2222222222222222,
              "#7201a8"
             ],
             [
              0.3333333333333333,
              "#9c179e"
             ],
             [
              0.4444444444444444,
              "#bd3786"
             ],
             [
              0.5555555555555556,
              "#d8576b"
             ],
             [
              0.6666666666666666,
              "#ed7953"
             ],
             [
              0.7777777777777778,
              "#fb9f3a"
             ],
             [
              0.8888888888888888,
              "#fdca26"
             ],
             [
              1,
              "#f0f921"
             ]
            ],
            "type": "histogram2dcontour"
           }
          ],
          "mesh3d": [
           {
            "colorbar": {
             "outlinewidth": 0,
             "ticks": ""
            },
            "type": "mesh3d"
           }
          ],
          "parcoords": [
           {
            "line": {
             "colorbar": {
              "outlinewidth": 0,
              "ticks": ""
             }
            },
            "type": "parcoords"
           }
          ],
          "pie": [
           {
            "automargin": true,
            "type": "pie"
           }
          ],
          "scatter": [
           {
            "fillpattern": {
             "fillmode": "overlay",
             "size": 10,
             "solidity": 0.2
            },
            "type": "scatter"
           }
          ],
          "scatter3d": [
           {
            "line": {
             "colorbar": {
              "outlinewidth": 0,
              "ticks": ""
             }
            },
            "marker": {
             "colorbar": {
              "outlinewidth": 0,
              "ticks": ""
             }
            },
            "type": "scatter3d"
           }
          ],
          "scattercarpet": [
           {
            "marker": {
             "colorbar": {
              "outlinewidth": 0,
              "ticks": ""
             }
            },
            "type": "scattercarpet"
           }
          ],
          "scattergeo": [
           {
            "marker": {
             "colorbar": {
              "outlinewidth": 0,
              "ticks": ""
             }
            },
            "type": "scattergeo"
           }
          ],
          "scattergl": [
           {
            "marker": {
             "colorbar": {
              "outlinewidth": 0,
              "ticks": ""
             }
            },
            "type": "scattergl"
           }
          ],
          "scattermapbox": [
           {
            "marker": {
             "colorbar": {
              "outlinewidth": 0,
              "ticks": ""
             }
            },
            "type": "scattermapbox"
           }
          ],
          "scatterpolar": [
           {
            "marker": {
             "colorbar": {
              "outlinewidth": 0,
              "ticks": ""
             }
            },
            "type": "scatterpolar"
           }
          ],
          "scatterpolargl": [
           {
            "marker": {
             "colorbar": {
              "outlinewidth": 0,
              "ticks": ""
             }
            },
            "type": "scatterpolargl"
           }
          ],
          "scatterternary": [
           {
            "marker": {
             "colorbar": {
              "outlinewidth": 0,
              "ticks": ""
             }
            },
            "type": "scatterternary"
           }
          ],
          "surface": [
           {
            "colorbar": {
             "outlinewidth": 0,
             "ticks": ""
            },
            "colorscale": [
             [
              0,
              "#0d0887"
             ],
             [
              0.1111111111111111,
              "#46039f"
             ],
             [
              0.2222222222222222,
              "#7201a8"
             ],
             [
              0.3333333333333333,
              "#9c179e"
             ],
             [
              0.4444444444444444,
              "#bd3786"
             ],
             [
              0.5555555555555556,
              "#d8576b"
             ],
             [
              0.6666666666666666,
              "#ed7953"
             ],
             [
              0.7777777777777778,
              "#fb9f3a"
             ],
             [
              0.8888888888888888,
              "#fdca26"
             ],
             [
              1,
              "#f0f921"
             ]
            ],
            "type": "surface"
           }
          ],
          "table": [
           {
            "cells": {
             "fill": {
              "color": "#EBF0F8"
             },
             "line": {
              "color": "white"
             }
            },
            "header": {
             "fill": {
              "color": "#C8D4E3"
             },
             "line": {
              "color": "white"
             }
            },
            "type": "table"
           }
          ]
         },
         "layout": {
          "annotationdefaults": {
           "arrowcolor": "#2a3f5f",
           "arrowhead": 0,
           "arrowwidth": 1
          },
          "autotypenumbers": "strict",
          "coloraxis": {
           "colorbar": {
            "outlinewidth": 0,
            "ticks": ""
           }
          },
          "colorscale": {
           "diverging": [
            [
             0,
             "#8e0152"
            ],
            [
             0.1,
             "#c51b7d"
            ],
            [
             0.2,
             "#de77ae"
            ],
            [
             0.3,
             "#f1b6da"
            ],
            [
             0.4,
             "#fde0ef"
            ],
            [
             0.5,
             "#f7f7f7"
            ],
            [
             0.6,
             "#e6f5d0"
            ],
            [
             0.7,
             "#b8e186"
            ],
            [
             0.8,
             "#7fbc41"
            ],
            [
             0.9,
             "#4d9221"
            ],
            [
             1,
             "#276419"
            ]
           ],
           "sequential": [
            [
             0,
             "#0d0887"
            ],
            [
             0.1111111111111111,
             "#46039f"
            ],
            [
             0.2222222222222222,
             "#7201a8"
            ],
            [
             0.3333333333333333,
             "#9c179e"
            ],
            [
             0.4444444444444444,
             "#bd3786"
            ],
            [
             0.5555555555555556,
             "#d8576b"
            ],
            [
             0.6666666666666666,
             "#ed7953"
            ],
            [
             0.7777777777777778,
             "#fb9f3a"
            ],
            [
             0.8888888888888888,
             "#fdca26"
            ],
            [
             1,
             "#f0f921"
            ]
           ],
           "sequentialminus": [
            [
             0,
             "#0d0887"
            ],
            [
             0.1111111111111111,
             "#46039f"
            ],
            [
             0.2222222222222222,
             "#7201a8"
            ],
            [
             0.3333333333333333,
             "#9c179e"
            ],
            [
             0.4444444444444444,
             "#bd3786"
            ],
            [
             0.5555555555555556,
             "#d8576b"
            ],
            [
             0.6666666666666666,
             "#ed7953"
            ],
            [
             0.7777777777777778,
             "#fb9f3a"
            ],
            [
             0.8888888888888888,
             "#fdca26"
            ],
            [
             1,
             "#f0f921"
            ]
           ]
          },
          "colorway": [
           "#636efa",
           "#EF553B",
           "#00cc96",
           "#ab63fa",
           "#FFA15A",
           "#19d3f3",
           "#FF6692",
           "#B6E880",
           "#FF97FF",
           "#FECB52"
          ],
          "font": {
           "color": "#2a3f5f"
          },
          "geo": {
           "bgcolor": "white",
           "lakecolor": "white",
           "landcolor": "#E5ECF6",
           "showlakes": true,
           "showland": true,
           "subunitcolor": "white"
          },
          "hoverlabel": {
           "align": "left"
          },
          "hovermode": "closest",
          "mapbox": {
           "style": "light"
          },
          "paper_bgcolor": "white",
          "plot_bgcolor": "#E5ECF6",
          "polar": {
           "angularaxis": {
            "gridcolor": "white",
            "linecolor": "white",
            "ticks": ""
           },
           "bgcolor": "#E5ECF6",
           "radialaxis": {
            "gridcolor": "white",
            "linecolor": "white",
            "ticks": ""
           }
          },
          "scene": {
           "xaxis": {
            "backgroundcolor": "#E5ECF6",
            "gridcolor": "white",
            "gridwidth": 2,
            "linecolor": "white",
            "showbackground": true,
            "ticks": "",
            "zerolinecolor": "white"
           },
           "yaxis": {
            "backgroundcolor": "#E5ECF6",
            "gridcolor": "white",
            "gridwidth": 2,
            "linecolor": "white",
            "showbackground": true,
            "ticks": "",
            "zerolinecolor": "white"
           },
           "zaxis": {
            "backgroundcolor": "#E5ECF6",
            "gridcolor": "white",
            "gridwidth": 2,
            "linecolor": "white",
            "showbackground": true,
            "ticks": "",
            "zerolinecolor": "white"
           }
          },
          "shapedefaults": {
           "line": {
            "color": "#2a3f5f"
           }
          },
          "ternary": {
           "aaxis": {
            "gridcolor": "white",
            "linecolor": "white",
            "ticks": ""
           },
           "baxis": {
            "gridcolor": "white",
            "linecolor": "white",
            "ticks": ""
           },
           "bgcolor": "#E5ECF6",
           "caxis": {
            "gridcolor": "white",
            "linecolor": "white",
            "ticks": ""
           }
          },
          "title": {
           "x": 0.05
          },
          "xaxis": {
           "automargin": true,
           "gridcolor": "white",
           "linecolor": "white",
           "ticks": "",
           "title": {
            "standoff": 15
           },
           "zerolinecolor": "white",
           "zerolinewidth": 2
          },
          "yaxis": {
           "automargin": true,
           "gridcolor": "white",
           "linecolor": "white",
           "ticks": "",
           "title": {
            "standoff": 15
           },
           "zerolinecolor": "white",
           "zerolinewidth": 2
          }
         }
        },
        "title": {
         "text": "Slice Plot"
        },
        "xaxis": {
         "anchor": "y",
         "categoryarray": [
          "scale",
          "auto"
         ],
         "categoryorder": "array",
         "domain": [
          0,
          0.2888888888888889
         ],
         "title": {
          "text": "gamma"
         },
         "type": "category"
        },
        "xaxis2": {
         "anchor": "y2",
         "categoryarray": [
          "linear",
          "poly",
          "rbf",
          "sigmoid"
         ],
         "categoryorder": "array",
         "domain": [
          0.35555555555555557,
          0.6444444444444445
         ],
         "title": {
          "text": "kernel"
         },
         "type": "category"
        },
        "xaxis3": {
         "anchor": "y3",
         "domain": [
          0.7111111111111111,
          1
         ],
         "title": {
          "text": "nu"
         },
         "type": "log"
        },
        "yaxis": {
         "anchor": "x",
         "domain": [
          0,
          1
         ],
         "title": {
          "text": "Objective Value"
         }
        },
        "yaxis2": {
         "anchor": "x2",
         "domain": [
          0,
          1
         ],
         "matches": "y",
         "showticklabels": false
        },
        "yaxis3": {
         "anchor": "x3",
         "domain": [
          0,
          1
         ],
         "matches": "y",
         "showticklabels": false
        }
       }
      }
     },
     "metadata": {},
     "output_type": "display_data"
    }
   ],
   "source": [
    "optuna.visualization.plot_slice(study)"
   ]
  },
  {
   "cell_type": "code",
   "execution_count": 14,
   "metadata": {},
   "outputs": [
    {
     "name": "stdout",
     "output_type": "stream",
     "text": [
      "Accuracy: 0.8415\n",
      "AUC-ROC: 0.9187\n"
     ]
    }
   ],
   "source": [
    "# Criando um modelo com os melhores hiperparâmetros\n",
    "best_params = trial.params\n",
    "model = svm.NuSVC(random_state=Random_Seed, probability=True, **best_params)\n",
    "\n",
    "if Cross_Validation:\n",
    "    cv_results = cross_validate(model, X, y, scoring=['accuracy', 'roc_auc'])\n",
    "    acc = cv_results['test_accuracy'].mean()\n",
    "    roc_auc = cv_results['test_roc_auc'].mean()\n",
    "else:\n",
    "    # Train model\n",
    "    model.fit(train_X, train_y)\n",
    "\n",
    "    # Test model\n",
    "    y_pred = model.predict(test_X)\n",
    "    pred_probs = model.predict_proba(test_X)\n",
    "\n",
    "    # Evaluation\n",
    "    acc = accuracy_score(test_y, y_pred)\n",
    "    roc_auc = roc_auc_score(test_y, pred_probs[:, 1])\n",
    "\n",
    "print(f\"Accuracy: {acc:.4f}\")\n",
    "print(f\"AUC-ROC: {roc_auc:.4f}\")"
   ]
  },
  {
   "attachments": {},
   "cell_type": "markdown",
   "metadata": {},
   "source": [
    "<hr>\n",
    "\n",
    "### LinearSVC classification SVM implementation:"
   ]
  },
  {
   "cell_type": "code",
   "execution_count": 15,
   "metadata": {},
   "outputs": [
    {
     "name": "stdout",
     "output_type": "stream",
     "text": [
      "Accuracy: 0.8415\n",
      "AUC-ROC: 0.9191\n"
     ]
    }
   ],
   "source": [
    "# ---------------------------------------------------------------------------- #\n",
    "#                                     MODEL                                    #\n",
    "# ---------------------------------------------------------------------------- #\n",
    "\n",
    "# Create model\n",
    "model = svm.LinearSVC(random_state=Random_Seed, dual=False)\n",
    "\n",
    "if Cross_Validation:\n",
    "    cv_results = cross_validate(model, X, y, scoring=['accuracy', 'roc_auc'])\n",
    "    acc = cv_results['test_accuracy'].mean()\n",
    "    roc_auc = cv_results['test_roc_auc'].mean()\n",
    "else:\n",
    "    # Train model\n",
    "    model.fit(train_X, train_y)\n",
    "\n",
    "    # Test model\n",
    "    y_pred = model.predict(test_X)\n",
    "    # This module does not have a manual way to access probability\n",
    "    # pred_probs = model.predict_proba(test_X)\n",
    "\n",
    "    # Evaluation\n",
    "    acc = accuracy_score(test_y, y_pred)\n",
    "    # roc_auc = roc_auc_score(test_y, pred_probs[:, 1])\n",
    "\n",
    "print(f\"Accuracy: {acc:.4f}\")\n",
    "print(f\"AUC-ROC: {roc_auc:.4f}\")"
   ]
  },
  {
   "cell_type": "code",
   "execution_count": 16,
   "metadata": {},
   "outputs": [
    {
     "name": "stderr",
     "output_type": "stream",
     "text": [
      "/tmp/ipykernel_15542/2232449154.py:20: ExperimentalWarning:\n",
      "\n",
      "GPSampler is experimental (supported from v3.6.0). The interface can change in the future.\n",
      "\n",
      "[I 2024-10-21 18:00:25,633] A new study created in memory with name: no-name-72609d84-c33b-413c-a693-6f2e7f70ab97\n",
      "[I 2024-10-21 18:00:25,660] Trial 0 finished with value: 0.9151041666666666 and parameters: {'C': 0.012013871765207159, 'max_iter': 2928}. Best is trial 0 with value: 0.9151041666666666.\n",
      "[I 2024-10-21 18:00:25,684] Trial 1 finished with value: 0.9117063492063492 and parameters: {'C': 0.00032738922793800666, 'max_iter': 7479}. Best is trial 0 with value: 0.9151041666666666.\n",
      "[I 2024-10-21 18:00:25,703] Trial 2 finished with value: 0.9188161375661377 and parameters: {'C': 0.2542216530408756, 'max_iter': 7756}. Best is trial 2 with value: 0.9188161375661377.\n",
      "[I 2024-10-21 18:00:25,726] Trial 3 finished with value: 0.911698082010582 and parameters: {'C': 0.00048809234031923544, 'max_iter': 1381}. Best is trial 2 with value: 0.9188161375661377.\n",
      "[I 2024-10-21 18:00:25,747] Trial 4 finished with value: 0.9188244047619047 and parameters: {'C': 51.33027537961132, 'max_iter': 8083}. Best is trial 4 with value: 0.9188244047619047.\n",
      "[I 2024-10-21 18:00:25,766] Trial 5 finished with value: 0.9167410714285715 and parameters: {'C': 0.026207034118037924, 'max_iter': 7512}. Best is trial 4 with value: 0.9188244047619047.\n",
      "[I 2024-10-21 18:00:25,784] Trial 6 finished with value: 0.9103174603174603 and parameters: {'C': 1.0357727016045989e-05, 'max_iter': 4936}. Best is trial 4 with value: 0.9188244047619047.\n",
      "[I 2024-10-21 18:00:25,804] Trial 7 finished with value: 0.9190393518518519 and parameters: {'C': 0.231407484037717, 'max_iter': 9154}. Best is trial 7 with value: 0.9190393518518519.\n",
      "[I 2024-10-21 18:00:25,832] Trial 8 finished with value: 0.9188244047619047 and parameters: {'C': 79.87287469124372, 'max_iter': 4613}. Best is trial 7 with value: 0.9190393518518519.\n",
      "[I 2024-10-21 18:00:25,864] Trial 9 finished with value: 0.9188244047619047 and parameters: {'C': 80.02975536028538, 'max_iter': 813}. Best is trial 7 with value: 0.9190393518518519.\n",
      "[I 2024-10-21 18:00:26,327] Trial 10 finished with value: 0.918832671957672 and parameters: {'C': 1.396586266574128, 'max_iter': 10000}. Best is trial 7 with value: 0.9190393518518519.\n",
      "[I 2024-10-21 18:00:26,696] Trial 11 finished with value: 0.9185929232804233 and parameters: {'C': 0.3615190353892831, 'max_iter': 10000}. Best is trial 7 with value: 0.9190393518518519.\n",
      "[I 2024-10-21 18:00:27,042] Trial 12 finished with value: 0.9188244047619047 and parameters: {'C': 3.7722088956307673, 'max_iter': 424}. Best is trial 7 with value: 0.9190393518518519.\n",
      "[I 2024-10-21 18:00:27,416] Trial 13 finished with value: 0.9190558862433862 and parameters: {'C': 3.061495617875694, 'max_iter': 5679}. Best is trial 13 with value: 0.9190558862433862.\n",
      "[I 2024-10-21 18:00:27,743] Trial 14 finished with value: 0.9190558862433862 and parameters: {'C': 1.475208371636029, 'max_iter': 5682}. Best is trial 13 with value: 0.9190558862433862.\n",
      "[I 2024-10-21 18:00:28,182] Trial 15 finished with value: 0.9188244047619047 and parameters: {'C': 8.881392393866225, 'max_iter': 4712}. Best is trial 13 with value: 0.9190558862433862.\n",
      "[I 2024-10-21 18:00:28,470] Trial 16 finished with value: 0.918832671957672 and parameters: {'C': 1.0523897530227042, 'max_iter': 5284}. Best is trial 13 with value: 0.9190558862433862.\n",
      "[I 2024-10-21 18:00:28,818] Trial 17 finished with value: 0.9188244047619047 and parameters: {'C': 100.0, 'max_iter': 10000}. Best is trial 13 with value: 0.9190558862433862.\n",
      "[I 2024-10-21 18:00:29,212] Trial 18 finished with value: 0.9188244047619047 and parameters: {'C': 4.717520497896289, 'max_iter': 10000}. Best is trial 13 with value: 0.9190558862433862.\n",
      "[I 2024-10-21 18:00:29,544] Trial 19 finished with value: 0.918832671957672 and parameters: {'C': 1.1609992106728104, 'max_iter': 5850}. Best is trial 13 with value: 0.9190558862433862.\n",
      "[I 2024-10-21 18:00:30,005] Trial 20 finished with value: 0.9188244047619047 and parameters: {'C': 17.432817656113, 'max_iter': 100}. Best is trial 13 with value: 0.9190558862433862.\n",
      "[I 2024-10-21 18:00:30,388] Trial 21 finished with value: 0.9188244047619047 and parameters: {'C': 100.0, 'max_iter': 100}. Best is trial 13 with value: 0.9190558862433862.\n",
      "[I 2024-10-21 18:00:30,731] Trial 22 finished with value: 0.918832671957672 and parameters: {'C': 1.190985643275312, 'max_iter': 100}. Best is trial 13 with value: 0.9190558862433862.\n",
      "[I 2024-10-21 18:00:31,189] Trial 23 finished with value: 0.9186011904761905 and parameters: {'C': 0.8212367533478292, 'max_iter': 10000}. Best is trial 13 with value: 0.9190558862433862.\n",
      "[I 2024-10-21 18:00:31,636] Trial 24 finished with value: 0.9188244047619047 and parameters: {'C': 18.823429225078197, 'max_iter': 10000}. Best is trial 13 with value: 0.9190558862433862.\n",
      "[I 2024-10-21 18:00:32,018] Trial 25 finished with value: 0.9188244047619047 and parameters: {'C': 3.582116382154575, 'max_iter': 4185}. Best is trial 13 with value: 0.9190558862433862.\n",
      "[I 2024-10-21 18:00:32,469] Trial 26 finished with value: 0.9185929232804233 and parameters: {'C': 0.4893679509487744, 'max_iter': 2086}. Best is trial 13 with value: 0.9190558862433862.\n",
      "[I 2024-10-21 18:00:32,734] Trial 27 finished with value: 0.9188244047619047 and parameters: {'C': 100.0, 'max_iter': 10000}. Best is trial 13 with value: 0.9190558862433862.\n",
      "[I 2024-10-21 18:00:33,105] Trial 28 finished with value: 0.9188244047619047 and parameters: {'C': 5.12745598322807, 'max_iter': 100}. Best is trial 13 with value: 0.9190558862433862.\n",
      "[I 2024-10-21 18:00:33,486] Trial 29 finished with value: 0.9188244047619047 and parameters: {'C': 23.11504472093592, 'max_iter': 4781}. Best is trial 13 with value: 0.9190558862433862.\n",
      "[I 2024-10-21 18:00:33,934] Trial 30 finished with value: 0.9188244047619047 and parameters: {'C': 100.0, 'max_iter': 5048}. Best is trial 13 with value: 0.9190558862433862.\n",
      "[I 2024-10-21 18:00:34,536] Trial 31 finished with value: 0.9190558862433862 and parameters: {'C': 3.104801544854867, 'max_iter': 4918}. Best is trial 13 with value: 0.9190558862433862.\n",
      "[I 2024-10-21 18:00:35,241] Trial 32 finished with value: 0.9190558862433862 and parameters: {'C': 3.0144796535779412, 'max_iter': 4935}. Best is trial 13 with value: 0.9190558862433862.\n",
      "[I 2024-10-21 18:00:35,619] Trial 33 finished with value: 0.9183449074074075 and parameters: {'C': 0.13965629395321286, 'max_iter': 10000}. Best is trial 13 with value: 0.9190558862433862.\n",
      "[I 2024-10-21 18:00:36,073] Trial 34 finished with value: 0.9190558862433862 and parameters: {'C': 2.2986995207515957, 'max_iter': 4655}. Best is trial 13 with value: 0.9190558862433862.\n",
      "[I 2024-10-21 18:00:36,553] Trial 35 finished with value: 0.9190558862433862 and parameters: {'C': 2.2716634184281976, 'max_iter': 4638}. Best is trial 13 with value: 0.9190558862433862.\n",
      "[I 2024-10-21 18:00:36,998] Trial 36 finished with value: 0.9190558862433862 and parameters: {'C': 2.2596920335655106, 'max_iter': 4622}. Best is trial 13 with value: 0.9190558862433862.\n",
      "[I 2024-10-21 18:00:37,512] Trial 37 finished with value: 0.9190558862433862 and parameters: {'C': 2.25789621070057, 'max_iter': 4607}. Best is trial 13 with value: 0.9190558862433862.\n",
      "[I 2024-10-21 18:00:38,006] Trial 38 finished with value: 0.9190558862433862 and parameters: {'C': 2.2648620739281893, 'max_iter': 4595}. Best is trial 13 with value: 0.9190558862433862.\n",
      "[I 2024-10-21 18:00:38,517] Trial 39 finished with value: 0.9190558862433862 and parameters: {'C': 2.2820494564434943, 'max_iter': 4592}. Best is trial 13 with value: 0.9190558862433862.\n",
      "[I 2024-10-21 18:00:39,366] Trial 40 finished with value: 0.9190558862433862 and parameters: {'C': 2.3168381215464326, 'max_iter': 4614}. Best is trial 13 with value: 0.9190558862433862.\n",
      "[I 2024-10-21 18:00:40,315] Trial 41 finished with value: 0.9190558862433862 and parameters: {'C': 2.73738055673758, 'max_iter': 5228}. Best is trial 13 with value: 0.9190558862433862.\n",
      "[I 2024-10-21 18:00:41,144] Trial 42 finished with value: 0.9190558862433862 and parameters: {'C': 2.8481523385935885, 'max_iter': 5402}. Best is trial 13 with value: 0.9190558862433862.\n",
      "[I 2024-10-21 18:00:41,845] Trial 43 finished with value: 0.9190558862433862 and parameters: {'C': 2.8969903550977243, 'max_iter': 5510}. Best is trial 13 with value: 0.9190558862433862.\n",
      "[I 2024-10-21 18:00:42,441] Trial 44 finished with value: 0.9190558862433862 and parameters: {'C': 2.916164735610531, 'max_iter': 5595}. Best is trial 13 with value: 0.9190558862433862.\n",
      "[I 2024-10-21 18:00:43,073] Trial 45 finished with value: 0.9190558862433862 and parameters: {'C': 2.913185502384259, 'max_iter': 5666}. Best is trial 13 with value: 0.9190558862433862.\n",
      "[I 2024-10-21 18:00:43,666] Trial 46 finished with value: 0.9190558862433862 and parameters: {'C': 2.8922331173364517, 'max_iter': 5728}. Best is trial 13 with value: 0.9190558862433862.\n",
      "[I 2024-10-21 18:00:44,259] Trial 47 finished with value: 0.9190558862433862 and parameters: {'C': 2.8557526823620223, 'max_iter': 5782}. Best is trial 13 with value: 0.9190558862433862.\n",
      "[I 2024-10-21 18:00:44,834] Trial 48 finished with value: 0.9190558862433862 and parameters: {'C': 2.8058425918187577, 'max_iter': 5828}. Best is trial 13 with value: 0.9190558862433862.\n",
      "[I 2024-10-21 18:00:45,468] Trial 49 finished with value: 0.9190558862433862 and parameters: {'C': 2.7437712918780615, 'max_iter': 5864}. Best is trial 13 with value: 0.9190558862433862.\n",
      "[I 2024-10-21 18:00:46,106] Trial 50 finished with value: 0.9190558862433862 and parameters: {'C': 2.6656819430998677, 'max_iter': 5881}. Best is trial 13 with value: 0.9190558862433862.\n",
      "[I 2024-10-21 18:00:46,771] Trial 51 finished with value: 0.9190558862433862 and parameters: {'C': 2.561157613796607, 'max_iter': 5854}. Best is trial 13 with value: 0.9190558862433862.\n",
      "[I 2024-10-21 18:00:47,302] Trial 52 finished with value: 0.9190558862433862 and parameters: {'C': 2.35555555660599, 'max_iter': 7413}. Best is trial 13 with value: 0.9190558862433862.\n",
      "[I 2024-10-21 18:00:47,794] Trial 53 finished with value: 0.9190558862433862 and parameters: {'C': 2.346391512371221, 'max_iter': 6805}. Best is trial 13 with value: 0.9190558862433862.\n",
      "[I 2024-10-21 18:00:48,382] Trial 54 finished with value: 0.9190558862433862 and parameters: {'C': 2.3696733946488937, 'max_iter': 6627}. Best is trial 13 with value: 0.9190558862433862.\n",
      "[I 2024-10-21 18:00:48,864] Trial 55 finished with value: 0.9188244047619047 and parameters: {'C': 37.45727020502341, 'max_iter': 100}. Best is trial 13 with value: 0.9190558862433862.\n",
      "[I 2024-10-21 18:00:49,368] Trial 56 finished with value: 0.9190393518518519 and parameters: {'C': 0.2160234800722397, 'max_iter': 10000}. Best is trial 13 with value: 0.9190558862433862.\n",
      "[I 2024-10-21 18:00:49,786] Trial 57 finished with value: 0.9188244047619047 and parameters: {'C': 9.088425149711185, 'max_iter': 100}. Best is trial 13 with value: 0.9190558862433862.\n",
      "[I 2024-10-21 18:00:50,217] Trial 58 finished with value: 0.9165178571428572 and parameters: {'C': 0.06967106337074506, 'max_iter': 100}. Best is trial 13 with value: 0.9190558862433862.\n",
      "[I 2024-10-21 18:00:50,662] Trial 59 finished with value: 0.9188244047619047 and parameters: {'C': 9.677326922513414, 'max_iter': 10000}. Best is trial 13 with value: 0.9190558862433862.\n",
      "[I 2024-10-21 18:00:51,108] Trial 60 finished with value: 0.9190558862433862 and parameters: {'C': 2.8454979772693423, 'max_iter': 100}. Best is trial 13 with value: 0.9190558862433862.\n",
      "[I 2024-10-21 18:00:51,579] Trial 61 finished with value: 0.9188244047619047 and parameters: {'C': 0.7243034041724647, 'max_iter': 100}. Best is trial 13 with value: 0.9190558862433862.\n",
      "[I 2024-10-21 18:00:51,978] Trial 62 finished with value: 0.9190558862433862 and parameters: {'C': 1.6939318346867687, 'max_iter': 4781}. Best is trial 13 with value: 0.9190558862433862.\n",
      "[I 2024-10-21 18:00:52,634] Trial 63 finished with value: 0.9133019179894181 and parameters: {'C': 0.002805179897064078, 'max_iter': 10000}. Best is trial 13 with value: 0.9190558862433862.\n",
      "[I 2024-10-21 18:00:53,138] Trial 64 finished with value: 0.9190558862433862 and parameters: {'C': 3.023149856551378, 'max_iter': 10000}. Best is trial 13 with value: 0.9190558862433862.\n",
      "[I 2024-10-21 18:00:53,581] Trial 65 finished with value: 0.9188244047619047 and parameters: {'C': 6.72996455175623, 'max_iter': 10000}. Best is trial 13 with value: 0.9190558862433862.\n",
      "[I 2024-10-21 18:00:53,986] Trial 66 finished with value: 0.9190393518518519 and parameters: {'C': 0.23801265353407836, 'max_iter': 10000}. Best is trial 13 with value: 0.9190558862433862.\n",
      "[I 2024-10-21 18:00:54,574] Trial 67 finished with value: 0.9188244047619047 and parameters: {'C': 31.979388020364016, 'max_iter': 10000}. Best is trial 13 with value: 0.9190558862433862.\n",
      "[I 2024-10-21 18:00:55,098] Trial 68 finished with value: 0.9190558862433862 and parameters: {'C': 1.7130079497865156, 'max_iter': 7076}. Best is trial 13 with value: 0.9190558862433862.\n",
      "[I 2024-10-21 18:00:55,621] Trial 69 finished with value: 0.9188078703703704 and parameters: {'C': 0.1672915853023157, 'max_iter': 100}. Best is trial 13 with value: 0.9190558862433862.\n",
      "[I 2024-10-21 18:00:56,100] Trial 70 finished with value: 0.9105406746031747 and parameters: {'C': 6.275228459835244e-05, 'max_iter': 100}. Best is trial 13 with value: 0.9190558862433862.\n",
      "[I 2024-10-21 18:00:56,630] Trial 71 finished with value: 0.9190558862433862 and parameters: {'C': 1.5726127041786395, 'max_iter': 5491}. Best is trial 13 with value: 0.9190558862433862.\n",
      "[I 2024-10-21 18:00:57,309] Trial 72 finished with value: 0.9190558862433862 and parameters: {'C': 1.9355550479517074, 'max_iter': 6491}. Best is trial 13 with value: 0.9190558862433862.\n",
      "[I 2024-10-21 18:00:58,097] Trial 73 finished with value: 0.9190558862433862 and parameters: {'C': 2.133364546061346, 'max_iter': 100}. Best is trial 13 with value: 0.9190558862433862.\n",
      "[I 2024-10-21 18:00:58,621] Trial 74 finished with value: 0.9190558862433862 and parameters: {'C': 2.4032554817517453, 'max_iter': 100}. Best is trial 13 with value: 0.9190558862433862.\n",
      "[I 2024-10-21 18:00:59,794] Trial 75 finished with value: 0.9190558862433862 and parameters: {'C': 2.641830378252617, 'max_iter': 10000}. Best is trial 13 with value: 0.9190558862433862.\n",
      "[I 2024-10-21 18:01:00,608] Trial 76 finished with value: 0.9185929232804233 and parameters: {'C': 0.5464312852031024, 'max_iter': 10000}. Best is trial 13 with value: 0.9190558862433862.\n",
      "[I 2024-10-21 18:01:01,283] Trial 77 finished with value: 0.9188244047619047 and parameters: {'C': 13.371978253403357, 'max_iter': 5622}. Best is trial 13 with value: 0.9190558862433862.\n",
      "[I 2024-10-21 18:01:02,328] Trial 78 finished with value: 0.9188244047619047 and parameters: {'C': 54.393792372597574, 'max_iter': 100}. Best is trial 13 with value: 0.9190558862433862.\n",
      "[I 2024-10-21 18:01:03,408] Trial 79 finished with value: 0.9190558862433862 and parameters: {'C': 2.072240061752514, 'max_iter': 10000}. Best is trial 13 with value: 0.9190558862433862.\n",
      "[I 2024-10-21 18:01:04,265] Trial 80 finished with value: 0.9190558862433862 and parameters: {'C': 1.4921534568375197, 'max_iter': 4236}. Best is trial 13 with value: 0.9190558862433862.\n",
      "[I 2024-10-21 18:01:05,272] Trial 81 finished with value: 0.9190558862433862 and parameters: {'C': 2.215119740373737, 'max_iter': 1615}. Best is trial 13 with value: 0.9190558862433862.\n",
      "[I 2024-10-21 18:01:06,502] Trial 82 finished with value: 0.9190558862433862 and parameters: {'C': 2.2740078259029857, 'max_iter': 10000}. Best is trial 13 with value: 0.9190558862433862.\n",
      "[I 2024-10-21 18:01:07,060] Trial 83 finished with value: 0.9190558862433862 and parameters: {'C': 2.8684559145380715, 'max_iter': 10000}. Best is trial 13 with value: 0.9190558862433862.\n",
      "[I 2024-10-21 18:01:07,834] Trial 84 finished with value: 0.9190558862433862 and parameters: {'C': 1.7805996874492125, 'max_iter': 6208}. Best is trial 13 with value: 0.9190558862433862.\n",
      "[I 2024-10-21 18:01:08,463] Trial 85 finished with value: 0.9190558862433862 and parameters: {'C': 2.0995183449624504, 'max_iter': 8218}. Best is trial 13 with value: 0.9190558862433862.\n",
      "[I 2024-10-21 18:01:09,258] Trial 86 finished with value: 0.9190558862433862 and parameters: {'C': 1.508608654076277, 'max_iter': 5062}. Best is trial 13 with value: 0.9190558862433862.\n",
      "[I 2024-10-21 18:01:10,024] Trial 87 finished with value: 0.9190558862433862 and parameters: {'C': 1.9573930491581408, 'max_iter': 2297}. Best is trial 13 with value: 0.9190558862433862.\n",
      "[I 2024-10-21 18:01:10,854] Trial 88 finished with value: 0.9190558862433862 and parameters: {'C': 2.9648844601448996, 'max_iter': 2920}. Best is trial 13 with value: 0.9190558862433862.\n",
      "[I 2024-10-21 18:01:11,631] Trial 89 finished with value: 0.9190558862433862 and parameters: {'C': 3.023099775614388, 'max_iter': 100}. Best is trial 13 with value: 0.9190558862433862.\n",
      "[I 2024-10-21 18:01:12,497] Trial 90 finished with value: 0.9190393518518519 and parameters: {'C': 0.2270235497557784, 'max_iter': 10000}. Best is trial 13 with value: 0.9190558862433862.\n",
      "[I 2024-10-21 18:01:13,350] Trial 91 finished with value: 0.9188078703703704 and parameters: {'C': 0.1838866507883203, 'max_iter': 6325}. Best is trial 13 with value: 0.9190558862433862.\n",
      "[I 2024-10-21 18:01:14,253] Trial 92 finished with value: 0.9188244047619047 and parameters: {'C': 0.7038334009963332, 'max_iter': 4433}. Best is trial 13 with value: 0.9190558862433862.\n",
      "[I 2024-10-21 18:01:15,061] Trial 93 finished with value: 0.9188244047619047 and parameters: {'C': 67.8407315404762, 'max_iter': 10000}. Best is trial 13 with value: 0.9190558862433862.\n",
      "[I 2024-10-21 18:01:16,043] Trial 94 finished with value: 0.9190558862433862 and parameters: {'C': 2.922058787335354, 'max_iter': 8286}. Best is trial 13 with value: 0.9190558862433862.\n",
      "[I 2024-10-21 18:01:16,828] Trial 95 finished with value: 0.9190558862433862 and parameters: {'C': 1.6754765338026805, 'max_iter': 2275}. Best is trial 13 with value: 0.9190558862433862.\n",
      "[I 2024-10-21 18:01:18,274] Trial 96 finished with value: 0.9190558862433862 and parameters: {'C': 2.8290132598129927, 'max_iter': 3379}. Best is trial 13 with value: 0.9190558862433862.\n",
      "[I 2024-10-21 18:01:19,171] Trial 97 finished with value: 0.9188244047619047 and parameters: {'C': 25.29714524645069, 'max_iter': 100}. Best is trial 13 with value: 0.9190558862433862.\n",
      "[I 2024-10-21 18:01:20,018] Trial 98 finished with value: 0.9190558862433862 and parameters: {'C': 1.7537920668122282, 'max_iter': 3224}. Best is trial 13 with value: 0.9190558862433862.\n",
      "[I 2024-10-21 18:01:20,828] Trial 99 finished with value: 0.9190558862433862 and parameters: {'C': 1.8915245196925703, 'max_iter': 8456}. Best is trial 13 with value: 0.9190558862433862.\n"
     ]
    }
   ],
   "source": [
    "# ---------------------------------------------------------------------------- #\n",
    "#                                 OPTIMIZATION                                 #\n",
    "# ---------------------------------------------------------------------------- #\n",
    "\n",
    "# Objective function\n",
    "def objective(trial):\n",
    "    # Sugestão de hiperparâmetros para otimização\n",
    "    C = trial.suggest_float('C', 1e-5, 1e2, log=True)  # Valor do parâmetro de regularização C\n",
    "    max_iter = trial.suggest_int('max_iter', 100, 10000)  # Número máximo de iterações\n",
    "\n",
    "    # Criando o pipeline com padronização e o modelo LinearSVC\n",
    "    clf = Pipeline([\n",
    "        ('scaler', StandardScaler()),  # Padronizando os dados\n",
    "        ('svc', sklearn.svm.LinearSVC(C=C, max_iter=max_iter, dual=False))\n",
    "    ])\n",
    "    # Otimizando a média da validação cruzada\n",
    "    return sklearn.model_selection.cross_val_score(clf, X, y, scoring = 'roc_auc').mean() #Estamos otimizando o score da validação cruzada\n",
    "\n",
    "# Executando o optuna\n",
    "study = optuna.create_study(direction='maximize', sampler=GPSampler()) #Criando a otimização, o GPSamples é um processo gaussiano\n",
    "study.optimize(objective, n_trials=100) #Rodar a otimização"
   ]
  },
  {
   "cell_type": "code",
   "execution_count": 17,
   "metadata": {},
   "outputs": [
    {
     "name": "stdout",
     "output_type": "stream",
     "text": [
      "AUC-ROC: 0.9190558862433862\n",
      "Best hyperparameters: {'C': 3.061495617875694, 'max_iter': 5679}\n"
     ]
    }
   ],
   "source": [
    "# Mostrando o melhor modelo\n",
    "trial = study.best_trial\n",
    "print('AUC-ROC: {}'.format(trial.value))\n",
    "print(\"Best hyperparameters: {}\".format(trial.params))"
   ]
  },
  {
   "cell_type": "code",
   "execution_count": 18,
   "metadata": {},
   "outputs": [
    {
     "data": {
      "application/vnd.plotly.v1+json": {
       "config": {
        "plotlyServerURL": "https://plot.ly"
       },
       "data": [
        {
         "mode": "markers",
         "name": "Objective Value",
         "type": "scatter",
         "x": [
          0,
          1,
          2,
          3,
          4,
          5,
          6,
          7,
          8,
          9,
          10,
          11,
          12,
          13,
          14,
          15,
          16,
          17,
          18,
          19,
          20,
          21,
          22,
          23,
          24,
          25,
          26,
          27,
          28,
          29,
          30,
          31,
          32,
          33,
          34,
          35,
          36,
          37,
          38,
          39,
          40,
          41,
          42,
          43,
          44,
          45,
          46,
          47,
          48,
          49,
          50,
          51,
          52,
          53,
          54,
          55,
          56,
          57,
          58,
          59,
          60,
          61,
          62,
          63,
          64,
          65,
          66,
          67,
          68,
          69,
          70,
          71,
          72,
          73,
          74,
          75,
          76,
          77,
          78,
          79,
          80,
          81,
          82,
          83,
          84,
          85,
          86,
          87,
          88,
          89,
          90,
          91,
          92,
          93,
          94,
          95,
          96,
          97,
          98,
          99
         ],
         "y": [
          0.9151041666666666,
          0.9117063492063492,
          0.9188161375661377,
          0.911698082010582,
          0.9188244047619047,
          0.9167410714285715,
          0.9103174603174603,
          0.9190393518518519,
          0.9188244047619047,
          0.9188244047619047,
          0.918832671957672,
          0.9185929232804233,
          0.9188244047619047,
          0.9190558862433862,
          0.9190558862433862,
          0.9188244047619047,
          0.918832671957672,
          0.9188244047619047,
          0.9188244047619047,
          0.918832671957672,
          0.9188244047619047,
          0.9188244047619047,
          0.918832671957672,
          0.9186011904761905,
          0.9188244047619047,
          0.9188244047619047,
          0.9185929232804233,
          0.9188244047619047,
          0.9188244047619047,
          0.9188244047619047,
          0.9188244047619047,
          0.9190558862433862,
          0.9190558862433862,
          0.9183449074074075,
          0.9190558862433862,
          0.9190558862433862,
          0.9190558862433862,
          0.9190558862433862,
          0.9190558862433862,
          0.9190558862433862,
          0.9190558862433862,
          0.9190558862433862,
          0.9190558862433862,
          0.9190558862433862,
          0.9190558862433862,
          0.9190558862433862,
          0.9190558862433862,
          0.9190558862433862,
          0.9190558862433862,
          0.9190558862433862,
          0.9190558862433862,
          0.9190558862433862,
          0.9190558862433862,
          0.9190558862433862,
          0.9190558862433862,
          0.9188244047619047,
          0.9190393518518519,
          0.9188244047619047,
          0.9165178571428572,
          0.9188244047619047,
          0.9190558862433862,
          0.9188244047619047,
          0.9190558862433862,
          0.9133019179894181,
          0.9190558862433862,
          0.9188244047619047,
          0.9190393518518519,
          0.9188244047619047,
          0.9190558862433862,
          0.9188078703703704,
          0.9105406746031747,
          0.9190558862433862,
          0.9190558862433862,
          0.9190558862433862,
          0.9190558862433862,
          0.9190558862433862,
          0.9185929232804233,
          0.9188244047619047,
          0.9188244047619047,
          0.9190558862433862,
          0.9190558862433862,
          0.9190558862433862,
          0.9190558862433862,
          0.9190558862433862,
          0.9190558862433862,
          0.9190558862433862,
          0.9190558862433862,
          0.9190558862433862,
          0.9190558862433862,
          0.9190558862433862,
          0.9190393518518519,
          0.9188078703703704,
          0.9188244047619047,
          0.9188244047619047,
          0.9190558862433862,
          0.9190558862433862,
          0.9190558862433862,
          0.9188244047619047,
          0.9190558862433862,
          0.9190558862433862
         ]
        },
        {
         "mode": "lines",
         "name": "Best Value",
         "type": "scatter",
         "x": [
          0,
          1,
          2,
          3,
          4,
          5,
          6,
          7,
          8,
          9,
          10,
          11,
          12,
          13,
          14,
          15,
          16,
          17,
          18,
          19,
          20,
          21,
          22,
          23,
          24,
          25,
          26,
          27,
          28,
          29,
          30,
          31,
          32,
          33,
          34,
          35,
          36,
          37,
          38,
          39,
          40,
          41,
          42,
          43,
          44,
          45,
          46,
          47,
          48,
          49,
          50,
          51,
          52,
          53,
          54,
          55,
          56,
          57,
          58,
          59,
          60,
          61,
          62,
          63,
          64,
          65,
          66,
          67,
          68,
          69,
          70,
          71,
          72,
          73,
          74,
          75,
          76,
          77,
          78,
          79,
          80,
          81,
          82,
          83,
          84,
          85,
          86,
          87,
          88,
          89,
          90,
          91,
          92,
          93,
          94,
          95,
          96,
          97,
          98,
          99
         ],
         "y": [
          0.9151041666666666,
          0.9151041666666666,
          0.9188161375661377,
          0.9188161375661377,
          0.9188244047619047,
          0.9188244047619047,
          0.9188244047619047,
          0.9190393518518519,
          0.9190393518518519,
          0.9190393518518519,
          0.9190393518518519,
          0.9190393518518519,
          0.9190393518518519,
          0.9190558862433862,
          0.9190558862433862,
          0.9190558862433862,
          0.9190558862433862,
          0.9190558862433862,
          0.9190558862433862,
          0.9190558862433862,
          0.9190558862433862,
          0.9190558862433862,
          0.9190558862433862,
          0.9190558862433862,
          0.9190558862433862,
          0.9190558862433862,
          0.9190558862433862,
          0.9190558862433862,
          0.9190558862433862,
          0.9190558862433862,
          0.9190558862433862,
          0.9190558862433862,
          0.9190558862433862,
          0.9190558862433862,
          0.9190558862433862,
          0.9190558862433862,
          0.9190558862433862,
          0.9190558862433862,
          0.9190558862433862,
          0.9190558862433862,
          0.9190558862433862,
          0.9190558862433862,
          0.9190558862433862,
          0.9190558862433862,
          0.9190558862433862,
          0.9190558862433862,
          0.9190558862433862,
          0.9190558862433862,
          0.9190558862433862,
          0.9190558862433862,
          0.9190558862433862,
          0.9190558862433862,
          0.9190558862433862,
          0.9190558862433862,
          0.9190558862433862,
          0.9190558862433862,
          0.9190558862433862,
          0.9190558862433862,
          0.9190558862433862,
          0.9190558862433862,
          0.9190558862433862,
          0.9190558862433862,
          0.9190558862433862,
          0.9190558862433862,
          0.9190558862433862,
          0.9190558862433862,
          0.9190558862433862,
          0.9190558862433862,
          0.9190558862433862,
          0.9190558862433862,
          0.9190558862433862,
          0.9190558862433862,
          0.9190558862433862,
          0.9190558862433862,
          0.9190558862433862,
          0.9190558862433862,
          0.9190558862433862,
          0.9190558862433862,
          0.9190558862433862,
          0.9190558862433862,
          0.9190558862433862,
          0.9190558862433862,
          0.9190558862433862,
          0.9190558862433862,
          0.9190558862433862,
          0.9190558862433862,
          0.9190558862433862,
          0.9190558862433862,
          0.9190558862433862,
          0.9190558862433862,
          0.9190558862433862,
          0.9190558862433862,
          0.9190558862433862,
          0.9190558862433862,
          0.9190558862433862,
          0.9190558862433862,
          0.9190558862433862,
          0.9190558862433862,
          0.9190558862433862,
          0.9190558862433862
         ]
        },
        {
         "marker": {
          "color": "#cccccc"
         },
         "mode": "markers",
         "name": "Infeasible Trial",
         "showlegend": false,
         "type": "scatter",
         "x": [],
         "y": []
        }
       ],
       "layout": {
        "template": {
         "data": {
          "bar": [
           {
            "error_x": {
             "color": "#2a3f5f"
            },
            "error_y": {
             "color": "#2a3f5f"
            },
            "marker": {
             "line": {
              "color": "#E5ECF6",
              "width": 0.5
             },
             "pattern": {
              "fillmode": "overlay",
              "size": 10,
              "solidity": 0.2
             }
            },
            "type": "bar"
           }
          ],
          "barpolar": [
           {
            "marker": {
             "line": {
              "color": "#E5ECF6",
              "width": 0.5
             },
             "pattern": {
              "fillmode": "overlay",
              "size": 10,
              "solidity": 0.2
             }
            },
            "type": "barpolar"
           }
          ],
          "carpet": [
           {
            "aaxis": {
             "endlinecolor": "#2a3f5f",
             "gridcolor": "white",
             "linecolor": "white",
             "minorgridcolor": "white",
             "startlinecolor": "#2a3f5f"
            },
            "baxis": {
             "endlinecolor": "#2a3f5f",
             "gridcolor": "white",
             "linecolor": "white",
             "minorgridcolor": "white",
             "startlinecolor": "#2a3f5f"
            },
            "type": "carpet"
           }
          ],
          "choropleth": [
           {
            "colorbar": {
             "outlinewidth": 0,
             "ticks": ""
            },
            "type": "choropleth"
           }
          ],
          "contour": [
           {
            "colorbar": {
             "outlinewidth": 0,
             "ticks": ""
            },
            "colorscale": [
             [
              0,
              "#0d0887"
             ],
             [
              0.1111111111111111,
              "#46039f"
             ],
             [
              0.2222222222222222,
              "#7201a8"
             ],
             [
              0.3333333333333333,
              "#9c179e"
             ],
             [
              0.4444444444444444,
              "#bd3786"
             ],
             [
              0.5555555555555556,
              "#d8576b"
             ],
             [
              0.6666666666666666,
              "#ed7953"
             ],
             [
              0.7777777777777778,
              "#fb9f3a"
             ],
             [
              0.8888888888888888,
              "#fdca26"
             ],
             [
              1,
              "#f0f921"
             ]
            ],
            "type": "contour"
           }
          ],
          "contourcarpet": [
           {
            "colorbar": {
             "outlinewidth": 0,
             "ticks": ""
            },
            "type": "contourcarpet"
           }
          ],
          "heatmap": [
           {
            "colorbar": {
             "outlinewidth": 0,
             "ticks": ""
            },
            "colorscale": [
             [
              0,
              "#0d0887"
             ],
             [
              0.1111111111111111,
              "#46039f"
             ],
             [
              0.2222222222222222,
              "#7201a8"
             ],
             [
              0.3333333333333333,
              "#9c179e"
             ],
             [
              0.4444444444444444,
              "#bd3786"
             ],
             [
              0.5555555555555556,
              "#d8576b"
             ],
             [
              0.6666666666666666,
              "#ed7953"
             ],
             [
              0.7777777777777778,
              "#fb9f3a"
             ],
             [
              0.8888888888888888,
              "#fdca26"
             ],
             [
              1,
              "#f0f921"
             ]
            ],
            "type": "heatmap"
           }
          ],
          "heatmapgl": [
           {
            "colorbar": {
             "outlinewidth": 0,
             "ticks": ""
            },
            "colorscale": [
             [
              0,
              "#0d0887"
             ],
             [
              0.1111111111111111,
              "#46039f"
             ],
             [
              0.2222222222222222,
              "#7201a8"
             ],
             [
              0.3333333333333333,
              "#9c179e"
             ],
             [
              0.4444444444444444,
              "#bd3786"
             ],
             [
              0.5555555555555556,
              "#d8576b"
             ],
             [
              0.6666666666666666,
              "#ed7953"
             ],
             [
              0.7777777777777778,
              "#fb9f3a"
             ],
             [
              0.8888888888888888,
              "#fdca26"
             ],
             [
              1,
              "#f0f921"
             ]
            ],
            "type": "heatmapgl"
           }
          ],
          "histogram": [
           {
            "marker": {
             "pattern": {
              "fillmode": "overlay",
              "size": 10,
              "solidity": 0.2
             }
            },
            "type": "histogram"
           }
          ],
          "histogram2d": [
           {
            "colorbar": {
             "outlinewidth": 0,
             "ticks": ""
            },
            "colorscale": [
             [
              0,
              "#0d0887"
             ],
             [
              0.1111111111111111,
              "#46039f"
             ],
             [
              0.2222222222222222,
              "#7201a8"
             ],
             [
              0.3333333333333333,
              "#9c179e"
             ],
             [
              0.4444444444444444,
              "#bd3786"
             ],
             [
              0.5555555555555556,
              "#d8576b"
             ],
             [
              0.6666666666666666,
              "#ed7953"
             ],
             [
              0.7777777777777778,
              "#fb9f3a"
             ],
             [
              0.8888888888888888,
              "#fdca26"
             ],
             [
              1,
              "#f0f921"
             ]
            ],
            "type": "histogram2d"
           }
          ],
          "histogram2dcontour": [
           {
            "colorbar": {
             "outlinewidth": 0,
             "ticks": ""
            },
            "colorscale": [
             [
              0,
              "#0d0887"
             ],
             [
              0.1111111111111111,
              "#46039f"
             ],
             [
              0.2222222222222222,
              "#7201a8"
             ],
             [
              0.3333333333333333,
              "#9c179e"
             ],
             [
              0.4444444444444444,
              "#bd3786"
             ],
             [
              0.5555555555555556,
              "#d8576b"
             ],
             [
              0.6666666666666666,
              "#ed7953"
             ],
             [
              0.7777777777777778,
              "#fb9f3a"
             ],
             [
              0.8888888888888888,
              "#fdca26"
             ],
             [
              1,
              "#f0f921"
             ]
            ],
            "type": "histogram2dcontour"
           }
          ],
          "mesh3d": [
           {
            "colorbar": {
             "outlinewidth": 0,
             "ticks": ""
            },
            "type": "mesh3d"
           }
          ],
          "parcoords": [
           {
            "line": {
             "colorbar": {
              "outlinewidth": 0,
              "ticks": ""
             }
            },
            "type": "parcoords"
           }
          ],
          "pie": [
           {
            "automargin": true,
            "type": "pie"
           }
          ],
          "scatter": [
           {
            "fillpattern": {
             "fillmode": "overlay",
             "size": 10,
             "solidity": 0.2
            },
            "type": "scatter"
           }
          ],
          "scatter3d": [
           {
            "line": {
             "colorbar": {
              "outlinewidth": 0,
              "ticks": ""
             }
            },
            "marker": {
             "colorbar": {
              "outlinewidth": 0,
              "ticks": ""
             }
            },
            "type": "scatter3d"
           }
          ],
          "scattercarpet": [
           {
            "marker": {
             "colorbar": {
              "outlinewidth": 0,
              "ticks": ""
             }
            },
            "type": "scattercarpet"
           }
          ],
          "scattergeo": [
           {
            "marker": {
             "colorbar": {
              "outlinewidth": 0,
              "ticks": ""
             }
            },
            "type": "scattergeo"
           }
          ],
          "scattergl": [
           {
            "marker": {
             "colorbar": {
              "outlinewidth": 0,
              "ticks": ""
             }
            },
            "type": "scattergl"
           }
          ],
          "scattermapbox": [
           {
            "marker": {
             "colorbar": {
              "outlinewidth": 0,
              "ticks": ""
             }
            },
            "type": "scattermapbox"
           }
          ],
          "scatterpolar": [
           {
            "marker": {
             "colorbar": {
              "outlinewidth": 0,
              "ticks": ""
             }
            },
            "type": "scatterpolar"
           }
          ],
          "scatterpolargl": [
           {
            "marker": {
             "colorbar": {
              "outlinewidth": 0,
              "ticks": ""
             }
            },
            "type": "scatterpolargl"
           }
          ],
          "scatterternary": [
           {
            "marker": {
             "colorbar": {
              "outlinewidth": 0,
              "ticks": ""
             }
            },
            "type": "scatterternary"
           }
          ],
          "surface": [
           {
            "colorbar": {
             "outlinewidth": 0,
             "ticks": ""
            },
            "colorscale": [
             [
              0,
              "#0d0887"
             ],
             [
              0.1111111111111111,
              "#46039f"
             ],
             [
              0.2222222222222222,
              "#7201a8"
             ],
             [
              0.3333333333333333,
              "#9c179e"
             ],
             [
              0.4444444444444444,
              "#bd3786"
             ],
             [
              0.5555555555555556,
              "#d8576b"
             ],
             [
              0.6666666666666666,
              "#ed7953"
             ],
             [
              0.7777777777777778,
              "#fb9f3a"
             ],
             [
              0.8888888888888888,
              "#fdca26"
             ],
             [
              1,
              "#f0f921"
             ]
            ],
            "type": "surface"
           }
          ],
          "table": [
           {
            "cells": {
             "fill": {
              "color": "#EBF0F8"
             },
             "line": {
              "color": "white"
             }
            },
            "header": {
             "fill": {
              "color": "#C8D4E3"
             },
             "line": {
              "color": "white"
             }
            },
            "type": "table"
           }
          ]
         },
         "layout": {
          "annotationdefaults": {
           "arrowcolor": "#2a3f5f",
           "arrowhead": 0,
           "arrowwidth": 1
          },
          "autotypenumbers": "strict",
          "coloraxis": {
           "colorbar": {
            "outlinewidth": 0,
            "ticks": ""
           }
          },
          "colorscale": {
           "diverging": [
            [
             0,
             "#8e0152"
            ],
            [
             0.1,
             "#c51b7d"
            ],
            [
             0.2,
             "#de77ae"
            ],
            [
             0.3,
             "#f1b6da"
            ],
            [
             0.4,
             "#fde0ef"
            ],
            [
             0.5,
             "#f7f7f7"
            ],
            [
             0.6,
             "#e6f5d0"
            ],
            [
             0.7,
             "#b8e186"
            ],
            [
             0.8,
             "#7fbc41"
            ],
            [
             0.9,
             "#4d9221"
            ],
            [
             1,
             "#276419"
            ]
           ],
           "sequential": [
            [
             0,
             "#0d0887"
            ],
            [
             0.1111111111111111,
             "#46039f"
            ],
            [
             0.2222222222222222,
             "#7201a8"
            ],
            [
             0.3333333333333333,
             "#9c179e"
            ],
            [
             0.4444444444444444,
             "#bd3786"
            ],
            [
             0.5555555555555556,
             "#d8576b"
            ],
            [
             0.6666666666666666,
             "#ed7953"
            ],
            [
             0.7777777777777778,
             "#fb9f3a"
            ],
            [
             0.8888888888888888,
             "#fdca26"
            ],
            [
             1,
             "#f0f921"
            ]
           ],
           "sequentialminus": [
            [
             0,
             "#0d0887"
            ],
            [
             0.1111111111111111,
             "#46039f"
            ],
            [
             0.2222222222222222,
             "#7201a8"
            ],
            [
             0.3333333333333333,
             "#9c179e"
            ],
            [
             0.4444444444444444,
             "#bd3786"
            ],
            [
             0.5555555555555556,
             "#d8576b"
            ],
            [
             0.6666666666666666,
             "#ed7953"
            ],
            [
             0.7777777777777778,
             "#fb9f3a"
            ],
            [
             0.8888888888888888,
             "#fdca26"
            ],
            [
             1,
             "#f0f921"
            ]
           ]
          },
          "colorway": [
           "#636efa",
           "#EF553B",
           "#00cc96",
           "#ab63fa",
           "#FFA15A",
           "#19d3f3",
           "#FF6692",
           "#B6E880",
           "#FF97FF",
           "#FECB52"
          ],
          "font": {
           "color": "#2a3f5f"
          },
          "geo": {
           "bgcolor": "white",
           "lakecolor": "white",
           "landcolor": "#E5ECF6",
           "showlakes": true,
           "showland": true,
           "subunitcolor": "white"
          },
          "hoverlabel": {
           "align": "left"
          },
          "hovermode": "closest",
          "mapbox": {
           "style": "light"
          },
          "paper_bgcolor": "white",
          "plot_bgcolor": "#E5ECF6",
          "polar": {
           "angularaxis": {
            "gridcolor": "white",
            "linecolor": "white",
            "ticks": ""
           },
           "bgcolor": "#E5ECF6",
           "radialaxis": {
            "gridcolor": "white",
            "linecolor": "white",
            "ticks": ""
           }
          },
          "scene": {
           "xaxis": {
            "backgroundcolor": "#E5ECF6",
            "gridcolor": "white",
            "gridwidth": 2,
            "linecolor": "white",
            "showbackground": true,
            "ticks": "",
            "zerolinecolor": "white"
           },
           "yaxis": {
            "backgroundcolor": "#E5ECF6",
            "gridcolor": "white",
            "gridwidth": 2,
            "linecolor": "white",
            "showbackground": true,
            "ticks": "",
            "zerolinecolor": "white"
           },
           "zaxis": {
            "backgroundcolor": "#E5ECF6",
            "gridcolor": "white",
            "gridwidth": 2,
            "linecolor": "white",
            "showbackground": true,
            "ticks": "",
            "zerolinecolor": "white"
           }
          },
          "shapedefaults": {
           "line": {
            "color": "#2a3f5f"
           }
          },
          "ternary": {
           "aaxis": {
            "gridcolor": "white",
            "linecolor": "white",
            "ticks": ""
           },
           "baxis": {
            "gridcolor": "white",
            "linecolor": "white",
            "ticks": ""
           },
           "bgcolor": "#E5ECF6",
           "caxis": {
            "gridcolor": "white",
            "linecolor": "white",
            "ticks": ""
           }
          },
          "title": {
           "x": 0.05
          },
          "xaxis": {
           "automargin": true,
           "gridcolor": "white",
           "linecolor": "white",
           "ticks": "",
           "title": {
            "standoff": 15
           },
           "zerolinecolor": "white",
           "zerolinewidth": 2
          },
          "yaxis": {
           "automargin": true,
           "gridcolor": "white",
           "linecolor": "white",
           "ticks": "",
           "title": {
            "standoff": 15
           },
           "zerolinecolor": "white",
           "zerolinewidth": 2
          }
         }
        },
        "title": {
         "text": "Optimization History Plot"
        },
        "xaxis": {
         "title": {
          "text": "Trial"
         }
        },
        "yaxis": {
         "title": {
          "text": "Objective Value"
         }
        }
       }
      }
     },
     "metadata": {},
     "output_type": "display_data"
    }
   ],
   "source": [
    "# Visualizando a otimização\n",
    "optuna.visualization.plot_optimization_history(study)"
   ]
  },
  {
   "cell_type": "code",
   "execution_count": 19,
   "metadata": {},
   "outputs": [
    {
     "data": {
      "application/vnd.plotly.v1+json": {
       "config": {
        "plotlyServerURL": "https://plot.ly"
       },
       "data": [
        {
         "marker": {
          "color": [
           0,
           1,
           2,
           3,
           4,
           5,
           6,
           7,
           8,
           9,
           10,
           11,
           12,
           13,
           14,
           15,
           16,
           17,
           18,
           19,
           20,
           21,
           22,
           23,
           24,
           25,
           26,
           27,
           28,
           29,
           30,
           31,
           32,
           33,
           34,
           35,
           36,
           37,
           38,
           39,
           40,
           41,
           42,
           43,
           44,
           45,
           46,
           47,
           48,
           49,
           50,
           51,
           52,
           53,
           54,
           55,
           56,
           57,
           58,
           59,
           60,
           61,
           62,
           63,
           64,
           65,
           66,
           67,
           68,
           69,
           70,
           71,
           72,
           73,
           74,
           75,
           76,
           77,
           78,
           79,
           80,
           81,
           82,
           83,
           84,
           85,
           86,
           87,
           88,
           89,
           90,
           91,
           92,
           93,
           94,
           95,
           96,
           97,
           98,
           99
          ],
          "colorbar": {
           "title": {
            "text": "Trial"
           },
           "x": 1,
           "xpad": 40
          },
          "colorscale": [
           [
            0,
            "rgb(247,251,255)"
           ],
           [
            0.125,
            "rgb(222,235,247)"
           ],
           [
            0.25,
            "rgb(198,219,239)"
           ],
           [
            0.375,
            "rgb(158,202,225)"
           ],
           [
            0.5,
            "rgb(107,174,214)"
           ],
           [
            0.625,
            "rgb(66,146,198)"
           ],
           [
            0.75,
            "rgb(33,113,181)"
           ],
           [
            0.875,
            "rgb(8,81,156)"
           ],
           [
            1,
            "rgb(8,48,107)"
           ]
          ],
          "line": {
           "color": "Grey",
           "width": 0.5
          },
          "showscale": true
         },
         "mode": "markers",
         "name": "Feasible Trial",
         "showlegend": false,
         "type": "scatter",
         "x": [
          0.012013871765207159,
          0.00032738922793800666,
          0.2542216530408756,
          0.00048809234031923544,
          51.33027537961132,
          0.026207034118037924,
          0.000010357727016045989,
          0.231407484037717,
          79.87287469124372,
          80.02975536028538,
          1.396586266574128,
          0.3615190353892831,
          3.7722088956307673,
          3.061495617875694,
          1.475208371636029,
          8.881392393866225,
          1.0523897530227042,
          100,
          4.717520497896289,
          1.1609992106728104,
          17.432817656113,
          100,
          1.190985643275312,
          0.8212367533478292,
          18.823429225078197,
          3.582116382154575,
          0.4893679509487744,
          100,
          5.12745598322807,
          23.11504472093592,
          100,
          3.104801544854867,
          3.0144796535779412,
          0.13965629395321286,
          2.2986995207515957,
          2.2716634184281976,
          2.2596920335655106,
          2.25789621070057,
          2.2648620739281893,
          2.2820494564434943,
          2.3168381215464326,
          2.73738055673758,
          2.8481523385935885,
          2.8969903550977243,
          2.916164735610531,
          2.913185502384259,
          2.8922331173364517,
          2.8557526823620223,
          2.8058425918187577,
          2.7437712918780615,
          2.6656819430998677,
          2.561157613796607,
          2.35555555660599,
          2.346391512371221,
          2.3696733946488937,
          37.45727020502341,
          0.2160234800722397,
          9.088425149711185,
          0.06967106337074506,
          9.677326922513414,
          2.8454979772693423,
          0.7243034041724647,
          1.6939318346867687,
          0.002805179897064078,
          3.023149856551378,
          6.72996455175623,
          0.23801265353407836,
          31.979388020364016,
          1.7130079497865156,
          0.1672915853023157,
          0.00006275228459835244,
          1.5726127041786395,
          1.9355550479517074,
          2.133364546061346,
          2.4032554817517453,
          2.641830378252617,
          0.5464312852031024,
          13.371978253403357,
          54.393792372597574,
          2.072240061752514,
          1.4921534568375197,
          2.215119740373737,
          2.2740078259029857,
          2.8684559145380715,
          1.7805996874492125,
          2.0995183449624504,
          1.508608654076277,
          1.9573930491581408,
          2.9648844601448996,
          3.023099775614388,
          0.2270235497557784,
          0.1838866507883203,
          0.7038334009963332,
          67.8407315404762,
          2.922058787335354,
          1.6754765338026805,
          2.8290132598129927,
          25.29714524645069,
          1.7537920668122282,
          1.8915245196925703
         ],
         "xaxis": "x",
         "y": [
          0.9151041666666666,
          0.9117063492063492,
          0.9188161375661377,
          0.911698082010582,
          0.9188244047619047,
          0.9167410714285715,
          0.9103174603174603,
          0.9190393518518519,
          0.9188244047619047,
          0.9188244047619047,
          0.918832671957672,
          0.9185929232804233,
          0.9188244047619047,
          0.9190558862433862,
          0.9190558862433862,
          0.9188244047619047,
          0.918832671957672,
          0.9188244047619047,
          0.9188244047619047,
          0.918832671957672,
          0.9188244047619047,
          0.9188244047619047,
          0.918832671957672,
          0.9186011904761905,
          0.9188244047619047,
          0.9188244047619047,
          0.9185929232804233,
          0.9188244047619047,
          0.9188244047619047,
          0.9188244047619047,
          0.9188244047619047,
          0.9190558862433862,
          0.9190558862433862,
          0.9183449074074075,
          0.9190558862433862,
          0.9190558862433862,
          0.9190558862433862,
          0.9190558862433862,
          0.9190558862433862,
          0.9190558862433862,
          0.9190558862433862,
          0.9190558862433862,
          0.9190558862433862,
          0.9190558862433862,
          0.9190558862433862,
          0.9190558862433862,
          0.9190558862433862,
          0.9190558862433862,
          0.9190558862433862,
          0.9190558862433862,
          0.9190558862433862,
          0.9190558862433862,
          0.9190558862433862,
          0.9190558862433862,
          0.9190558862433862,
          0.9188244047619047,
          0.9190393518518519,
          0.9188244047619047,
          0.9165178571428572,
          0.9188244047619047,
          0.9190558862433862,
          0.9188244047619047,
          0.9190558862433862,
          0.9133019179894181,
          0.9190558862433862,
          0.9188244047619047,
          0.9190393518518519,
          0.9188244047619047,
          0.9190558862433862,
          0.9188078703703704,
          0.9105406746031747,
          0.9190558862433862,
          0.9190558862433862,
          0.9190558862433862,
          0.9190558862433862,
          0.9190558862433862,
          0.9185929232804233,
          0.9188244047619047,
          0.9188244047619047,
          0.9190558862433862,
          0.9190558862433862,
          0.9190558862433862,
          0.9190558862433862,
          0.9190558862433862,
          0.9190558862433862,
          0.9190558862433862,
          0.9190558862433862,
          0.9190558862433862,
          0.9190558862433862,
          0.9190558862433862,
          0.9190393518518519,
          0.9188078703703704,
          0.9188244047619047,
          0.9188244047619047,
          0.9190558862433862,
          0.9190558862433862,
          0.9190558862433862,
          0.9188244047619047,
          0.9190558862433862,
          0.9190558862433862
         ],
         "yaxis": "y"
        },
        {
         "marker": {
          "color": [
           0,
           1,
           2,
           3,
           4,
           5,
           6,
           7,
           8,
           9,
           10,
           11,
           12,
           13,
           14,
           15,
           16,
           17,
           18,
           19,
           20,
           21,
           22,
           23,
           24,
           25,
           26,
           27,
           28,
           29,
           30,
           31,
           32,
           33,
           34,
           35,
           36,
           37,
           38,
           39,
           40,
           41,
           42,
           43,
           44,
           45,
           46,
           47,
           48,
           49,
           50,
           51,
           52,
           53,
           54,
           55,
           56,
           57,
           58,
           59,
           60,
           61,
           62,
           63,
           64,
           65,
           66,
           67,
           68,
           69,
           70,
           71,
           72,
           73,
           74,
           75,
           76,
           77,
           78,
           79,
           80,
           81,
           82,
           83,
           84,
           85,
           86,
           87,
           88,
           89,
           90,
           91,
           92,
           93,
           94,
           95,
           96,
           97,
           98,
           99
          ],
          "colorbar": {
           "title": {
            "text": "Trial"
           },
           "x": 1,
           "xpad": 40
          },
          "colorscale": [
           [
            0,
            "rgb(247,251,255)"
           ],
           [
            0.125,
            "rgb(222,235,247)"
           ],
           [
            0.25,
            "rgb(198,219,239)"
           ],
           [
            0.375,
            "rgb(158,202,225)"
           ],
           [
            0.5,
            "rgb(107,174,214)"
           ],
           [
            0.625,
            "rgb(66,146,198)"
           ],
           [
            0.75,
            "rgb(33,113,181)"
           ],
           [
            0.875,
            "rgb(8,81,156)"
           ],
           [
            1,
            "rgb(8,48,107)"
           ]
          ],
          "line": {
           "color": "Grey",
           "width": 0.5
          },
          "showscale": false
         },
         "mode": "markers",
         "name": "Feasible Trial",
         "showlegend": false,
         "type": "scatter",
         "x": [
          2928,
          7479,
          7756,
          1381,
          8083,
          7512,
          4936,
          9154,
          4613,
          813,
          10000,
          10000,
          424,
          5679,
          5682,
          4712,
          5284,
          10000,
          10000,
          5850,
          100,
          100,
          100,
          10000,
          10000,
          4185,
          2086,
          10000,
          100,
          4781,
          5048,
          4918,
          4935,
          10000,
          4655,
          4638,
          4622,
          4607,
          4595,
          4592,
          4614,
          5228,
          5402,
          5510,
          5595,
          5666,
          5728,
          5782,
          5828,
          5864,
          5881,
          5854,
          7413,
          6805,
          6627,
          100,
          10000,
          100,
          100,
          10000,
          100,
          100,
          4781,
          10000,
          10000,
          10000,
          10000,
          10000,
          7076,
          100,
          100,
          5491,
          6491,
          100,
          100,
          10000,
          10000,
          5622,
          100,
          10000,
          4236,
          1615,
          10000,
          10000,
          6208,
          8218,
          5062,
          2297,
          2920,
          100,
          10000,
          6325,
          4433,
          10000,
          8286,
          2275,
          3379,
          100,
          3224,
          8456
         ],
         "xaxis": "x2",
         "y": [
          0.9151041666666666,
          0.9117063492063492,
          0.9188161375661377,
          0.911698082010582,
          0.9188244047619047,
          0.9167410714285715,
          0.9103174603174603,
          0.9190393518518519,
          0.9188244047619047,
          0.9188244047619047,
          0.918832671957672,
          0.9185929232804233,
          0.9188244047619047,
          0.9190558862433862,
          0.9190558862433862,
          0.9188244047619047,
          0.918832671957672,
          0.9188244047619047,
          0.9188244047619047,
          0.918832671957672,
          0.9188244047619047,
          0.9188244047619047,
          0.918832671957672,
          0.9186011904761905,
          0.9188244047619047,
          0.9188244047619047,
          0.9185929232804233,
          0.9188244047619047,
          0.9188244047619047,
          0.9188244047619047,
          0.9188244047619047,
          0.9190558862433862,
          0.9190558862433862,
          0.9183449074074075,
          0.9190558862433862,
          0.9190558862433862,
          0.9190558862433862,
          0.9190558862433862,
          0.9190558862433862,
          0.9190558862433862,
          0.9190558862433862,
          0.9190558862433862,
          0.9190558862433862,
          0.9190558862433862,
          0.9190558862433862,
          0.9190558862433862,
          0.9190558862433862,
          0.9190558862433862,
          0.9190558862433862,
          0.9190558862433862,
          0.9190558862433862,
          0.9190558862433862,
          0.9190558862433862,
          0.9190558862433862,
          0.9190558862433862,
          0.9188244047619047,
          0.9190393518518519,
          0.9188244047619047,
          0.9165178571428572,
          0.9188244047619047,
          0.9190558862433862,
          0.9188244047619047,
          0.9190558862433862,
          0.9133019179894181,
          0.9190558862433862,
          0.9188244047619047,
          0.9190393518518519,
          0.9188244047619047,
          0.9190558862433862,
          0.9188078703703704,
          0.9105406746031747,
          0.9190558862433862,
          0.9190558862433862,
          0.9190558862433862,
          0.9190558862433862,
          0.9190558862433862,
          0.9185929232804233,
          0.9188244047619047,
          0.9188244047619047,
          0.9190558862433862,
          0.9190558862433862,
          0.9190558862433862,
          0.9190558862433862,
          0.9190558862433862,
          0.9190558862433862,
          0.9190558862433862,
          0.9190558862433862,
          0.9190558862433862,
          0.9190558862433862,
          0.9190558862433862,
          0.9190393518518519,
          0.9188078703703704,
          0.9188244047619047,
          0.9188244047619047,
          0.9190558862433862,
          0.9190558862433862,
          0.9190558862433862,
          0.9188244047619047,
          0.9190558862433862,
          0.9190558862433862
         ],
         "yaxis": "y2"
        }
       ],
       "layout": {
        "template": {
         "data": {
          "bar": [
           {
            "error_x": {
             "color": "#2a3f5f"
            },
            "error_y": {
             "color": "#2a3f5f"
            },
            "marker": {
             "line": {
              "color": "#E5ECF6",
              "width": 0.5
             },
             "pattern": {
              "fillmode": "overlay",
              "size": 10,
              "solidity": 0.2
             }
            },
            "type": "bar"
           }
          ],
          "barpolar": [
           {
            "marker": {
             "line": {
              "color": "#E5ECF6",
              "width": 0.5
             },
             "pattern": {
              "fillmode": "overlay",
              "size": 10,
              "solidity": 0.2
             }
            },
            "type": "barpolar"
           }
          ],
          "carpet": [
           {
            "aaxis": {
             "endlinecolor": "#2a3f5f",
             "gridcolor": "white",
             "linecolor": "white",
             "minorgridcolor": "white",
             "startlinecolor": "#2a3f5f"
            },
            "baxis": {
             "endlinecolor": "#2a3f5f",
             "gridcolor": "white",
             "linecolor": "white",
             "minorgridcolor": "white",
             "startlinecolor": "#2a3f5f"
            },
            "type": "carpet"
           }
          ],
          "choropleth": [
           {
            "colorbar": {
             "outlinewidth": 0,
             "ticks": ""
            },
            "type": "choropleth"
           }
          ],
          "contour": [
           {
            "colorbar": {
             "outlinewidth": 0,
             "ticks": ""
            },
            "colorscale": [
             [
              0,
              "#0d0887"
             ],
             [
              0.1111111111111111,
              "#46039f"
             ],
             [
              0.2222222222222222,
              "#7201a8"
             ],
             [
              0.3333333333333333,
              "#9c179e"
             ],
             [
              0.4444444444444444,
              "#bd3786"
             ],
             [
              0.5555555555555556,
              "#d8576b"
             ],
             [
              0.6666666666666666,
              "#ed7953"
             ],
             [
              0.7777777777777778,
              "#fb9f3a"
             ],
             [
              0.8888888888888888,
              "#fdca26"
             ],
             [
              1,
              "#f0f921"
             ]
            ],
            "type": "contour"
           }
          ],
          "contourcarpet": [
           {
            "colorbar": {
             "outlinewidth": 0,
             "ticks": ""
            },
            "type": "contourcarpet"
           }
          ],
          "heatmap": [
           {
            "colorbar": {
             "outlinewidth": 0,
             "ticks": ""
            },
            "colorscale": [
             [
              0,
              "#0d0887"
             ],
             [
              0.1111111111111111,
              "#46039f"
             ],
             [
              0.2222222222222222,
              "#7201a8"
             ],
             [
              0.3333333333333333,
              "#9c179e"
             ],
             [
              0.4444444444444444,
              "#bd3786"
             ],
             [
              0.5555555555555556,
              "#d8576b"
             ],
             [
              0.6666666666666666,
              "#ed7953"
             ],
             [
              0.7777777777777778,
              "#fb9f3a"
             ],
             [
              0.8888888888888888,
              "#fdca26"
             ],
             [
              1,
              "#f0f921"
             ]
            ],
            "type": "heatmap"
           }
          ],
          "heatmapgl": [
           {
            "colorbar": {
             "outlinewidth": 0,
             "ticks": ""
            },
            "colorscale": [
             [
              0,
              "#0d0887"
             ],
             [
              0.1111111111111111,
              "#46039f"
             ],
             [
              0.2222222222222222,
              "#7201a8"
             ],
             [
              0.3333333333333333,
              "#9c179e"
             ],
             [
              0.4444444444444444,
              "#bd3786"
             ],
             [
              0.5555555555555556,
              "#d8576b"
             ],
             [
              0.6666666666666666,
              "#ed7953"
             ],
             [
              0.7777777777777778,
              "#fb9f3a"
             ],
             [
              0.8888888888888888,
              "#fdca26"
             ],
             [
              1,
              "#f0f921"
             ]
            ],
            "type": "heatmapgl"
           }
          ],
          "histogram": [
           {
            "marker": {
             "pattern": {
              "fillmode": "overlay",
              "size": 10,
              "solidity": 0.2
             }
            },
            "type": "histogram"
           }
          ],
          "histogram2d": [
           {
            "colorbar": {
             "outlinewidth": 0,
             "ticks": ""
            },
            "colorscale": [
             [
              0,
              "#0d0887"
             ],
             [
              0.1111111111111111,
              "#46039f"
             ],
             [
              0.2222222222222222,
              "#7201a8"
             ],
             [
              0.3333333333333333,
              "#9c179e"
             ],
             [
              0.4444444444444444,
              "#bd3786"
             ],
             [
              0.5555555555555556,
              "#d8576b"
             ],
             [
              0.6666666666666666,
              "#ed7953"
             ],
             [
              0.7777777777777778,
              "#fb9f3a"
             ],
             [
              0.8888888888888888,
              "#fdca26"
             ],
             [
              1,
              "#f0f921"
             ]
            ],
            "type": "histogram2d"
           }
          ],
          "histogram2dcontour": [
           {
            "colorbar": {
             "outlinewidth": 0,
             "ticks": ""
            },
            "colorscale": [
             [
              0,
              "#0d0887"
             ],
             [
              0.1111111111111111,
              "#46039f"
             ],
             [
              0.2222222222222222,
              "#7201a8"
             ],
             [
              0.3333333333333333,
              "#9c179e"
             ],
             [
              0.4444444444444444,
              "#bd3786"
             ],
             [
              0.5555555555555556,
              "#d8576b"
             ],
             [
              0.6666666666666666,
              "#ed7953"
             ],
             [
              0.7777777777777778,
              "#fb9f3a"
             ],
             [
              0.8888888888888888,
              "#fdca26"
             ],
             [
              1,
              "#f0f921"
             ]
            ],
            "type": "histogram2dcontour"
           }
          ],
          "mesh3d": [
           {
            "colorbar": {
             "outlinewidth": 0,
             "ticks": ""
            },
            "type": "mesh3d"
           }
          ],
          "parcoords": [
           {
            "line": {
             "colorbar": {
              "outlinewidth": 0,
              "ticks": ""
             }
            },
            "type": "parcoords"
           }
          ],
          "pie": [
           {
            "automargin": true,
            "type": "pie"
           }
          ],
          "scatter": [
           {
            "fillpattern": {
             "fillmode": "overlay",
             "size": 10,
             "solidity": 0.2
            },
            "type": "scatter"
           }
          ],
          "scatter3d": [
           {
            "line": {
             "colorbar": {
              "outlinewidth": 0,
              "ticks": ""
             }
            },
            "marker": {
             "colorbar": {
              "outlinewidth": 0,
              "ticks": ""
             }
            },
            "type": "scatter3d"
           }
          ],
          "scattercarpet": [
           {
            "marker": {
             "colorbar": {
              "outlinewidth": 0,
              "ticks": ""
             }
            },
            "type": "scattercarpet"
           }
          ],
          "scattergeo": [
           {
            "marker": {
             "colorbar": {
              "outlinewidth": 0,
              "ticks": ""
             }
            },
            "type": "scattergeo"
           }
          ],
          "scattergl": [
           {
            "marker": {
             "colorbar": {
              "outlinewidth": 0,
              "ticks": ""
             }
            },
            "type": "scattergl"
           }
          ],
          "scattermapbox": [
           {
            "marker": {
             "colorbar": {
              "outlinewidth": 0,
              "ticks": ""
             }
            },
            "type": "scattermapbox"
           }
          ],
          "scatterpolar": [
           {
            "marker": {
             "colorbar": {
              "outlinewidth": 0,
              "ticks": ""
             }
            },
            "type": "scatterpolar"
           }
          ],
          "scatterpolargl": [
           {
            "marker": {
             "colorbar": {
              "outlinewidth": 0,
              "ticks": ""
             }
            },
            "type": "scatterpolargl"
           }
          ],
          "scatterternary": [
           {
            "marker": {
             "colorbar": {
              "outlinewidth": 0,
              "ticks": ""
             }
            },
            "type": "scatterternary"
           }
          ],
          "surface": [
           {
            "colorbar": {
             "outlinewidth": 0,
             "ticks": ""
            },
            "colorscale": [
             [
              0,
              "#0d0887"
             ],
             [
              0.1111111111111111,
              "#46039f"
             ],
             [
              0.2222222222222222,
              "#7201a8"
             ],
             [
              0.3333333333333333,
              "#9c179e"
             ],
             [
              0.4444444444444444,
              "#bd3786"
             ],
             [
              0.5555555555555556,
              "#d8576b"
             ],
             [
              0.6666666666666666,
              "#ed7953"
             ],
             [
              0.7777777777777778,
              "#fb9f3a"
             ],
             [
              0.8888888888888888,
              "#fdca26"
             ],
             [
              1,
              "#f0f921"
             ]
            ],
            "type": "surface"
           }
          ],
          "table": [
           {
            "cells": {
             "fill": {
              "color": "#EBF0F8"
             },
             "line": {
              "color": "white"
             }
            },
            "header": {
             "fill": {
              "color": "#C8D4E3"
             },
             "line": {
              "color": "white"
             }
            },
            "type": "table"
           }
          ]
         },
         "layout": {
          "annotationdefaults": {
           "arrowcolor": "#2a3f5f",
           "arrowhead": 0,
           "arrowwidth": 1
          },
          "autotypenumbers": "strict",
          "coloraxis": {
           "colorbar": {
            "outlinewidth": 0,
            "ticks": ""
           }
          },
          "colorscale": {
           "diverging": [
            [
             0,
             "#8e0152"
            ],
            [
             0.1,
             "#c51b7d"
            ],
            [
             0.2,
             "#de77ae"
            ],
            [
             0.3,
             "#f1b6da"
            ],
            [
             0.4,
             "#fde0ef"
            ],
            [
             0.5,
             "#f7f7f7"
            ],
            [
             0.6,
             "#e6f5d0"
            ],
            [
             0.7,
             "#b8e186"
            ],
            [
             0.8,
             "#7fbc41"
            ],
            [
             0.9,
             "#4d9221"
            ],
            [
             1,
             "#276419"
            ]
           ],
           "sequential": [
            [
             0,
             "#0d0887"
            ],
            [
             0.1111111111111111,
             "#46039f"
            ],
            [
             0.2222222222222222,
             "#7201a8"
            ],
            [
             0.3333333333333333,
             "#9c179e"
            ],
            [
             0.4444444444444444,
             "#bd3786"
            ],
            [
             0.5555555555555556,
             "#d8576b"
            ],
            [
             0.6666666666666666,
             "#ed7953"
            ],
            [
             0.7777777777777778,
             "#fb9f3a"
            ],
            [
             0.8888888888888888,
             "#fdca26"
            ],
            [
             1,
             "#f0f921"
            ]
           ],
           "sequentialminus": [
            [
             0,
             "#0d0887"
            ],
            [
             0.1111111111111111,
             "#46039f"
            ],
            [
             0.2222222222222222,
             "#7201a8"
            ],
            [
             0.3333333333333333,
             "#9c179e"
            ],
            [
             0.4444444444444444,
             "#bd3786"
            ],
            [
             0.5555555555555556,
             "#d8576b"
            ],
            [
             0.6666666666666666,
             "#ed7953"
            ],
            [
             0.7777777777777778,
             "#fb9f3a"
            ],
            [
             0.8888888888888888,
             "#fdca26"
            ],
            [
             1,
             "#f0f921"
            ]
           ]
          },
          "colorway": [
           "#636efa",
           "#EF553B",
           "#00cc96",
           "#ab63fa",
           "#FFA15A",
           "#19d3f3",
           "#FF6692",
           "#B6E880",
           "#FF97FF",
           "#FECB52"
          ],
          "font": {
           "color": "#2a3f5f"
          },
          "geo": {
           "bgcolor": "white",
           "lakecolor": "white",
           "landcolor": "#E5ECF6",
           "showlakes": true,
           "showland": true,
           "subunitcolor": "white"
          },
          "hoverlabel": {
           "align": "left"
          },
          "hovermode": "closest",
          "mapbox": {
           "style": "light"
          },
          "paper_bgcolor": "white",
          "plot_bgcolor": "#E5ECF6",
          "polar": {
           "angularaxis": {
            "gridcolor": "white",
            "linecolor": "white",
            "ticks": ""
           },
           "bgcolor": "#E5ECF6",
           "radialaxis": {
            "gridcolor": "white",
            "linecolor": "white",
            "ticks": ""
           }
          },
          "scene": {
           "xaxis": {
            "backgroundcolor": "#E5ECF6",
            "gridcolor": "white",
            "gridwidth": 2,
            "linecolor": "white",
            "showbackground": true,
            "ticks": "",
            "zerolinecolor": "white"
           },
           "yaxis": {
            "backgroundcolor": "#E5ECF6",
            "gridcolor": "white",
            "gridwidth": 2,
            "linecolor": "white",
            "showbackground": true,
            "ticks": "",
            "zerolinecolor": "white"
           },
           "zaxis": {
            "backgroundcolor": "#E5ECF6",
            "gridcolor": "white",
            "gridwidth": 2,
            "linecolor": "white",
            "showbackground": true,
            "ticks": "",
            "zerolinecolor": "white"
           }
          },
          "shapedefaults": {
           "line": {
            "color": "#2a3f5f"
           }
          },
          "ternary": {
           "aaxis": {
            "gridcolor": "white",
            "linecolor": "white",
            "ticks": ""
           },
           "baxis": {
            "gridcolor": "white",
            "linecolor": "white",
            "ticks": ""
           },
           "bgcolor": "#E5ECF6",
           "caxis": {
            "gridcolor": "white",
            "linecolor": "white",
            "ticks": ""
           }
          },
          "title": {
           "x": 0.05
          },
          "xaxis": {
           "automargin": true,
           "gridcolor": "white",
           "linecolor": "white",
           "ticks": "",
           "title": {
            "standoff": 15
           },
           "zerolinecolor": "white",
           "zerolinewidth": 2
          },
          "yaxis": {
           "automargin": true,
           "gridcolor": "white",
           "linecolor": "white",
           "ticks": "",
           "title": {
            "standoff": 15
           },
           "zerolinecolor": "white",
           "zerolinewidth": 2
          }
         }
        },
        "title": {
         "text": "Slice Plot"
        },
        "xaxis": {
         "anchor": "y",
         "domain": [
          0,
          0.45
         ],
         "title": {
          "text": "C"
         },
         "type": "log"
        },
        "xaxis2": {
         "anchor": "y2",
         "domain": [
          0.55,
          1
         ],
         "title": {
          "text": "max_iter"
         }
        },
        "yaxis": {
         "anchor": "x",
         "domain": [
          0,
          1
         ],
         "title": {
          "text": "Objective Value"
         }
        },
        "yaxis2": {
         "anchor": "x2",
         "domain": [
          0,
          1
         ],
         "matches": "y",
         "showticklabels": false
        }
       }
      }
     },
     "metadata": {},
     "output_type": "display_data"
    }
   ],
   "source": [
    "optuna.visualization.plot_slice(study)"
   ]
  },
  {
   "cell_type": "code",
   "execution_count": 20,
   "metadata": {},
   "outputs": [
    {
     "name": "stdout",
     "output_type": "stream",
     "text": [
      "Accuracy: 0.8415\n",
      "AUC-ROC: 0.9191\n"
     ]
    }
   ],
   "source": [
    "# Criando um modelo com os melhores hiperparâmetros\n",
    "best_params = trial.params\n",
    "model = svm.LinearSVC(random_state=Random_Seed, dual=False, **best_params)\n",
    "\n",
    "if Cross_Validation:\n",
    "    cv_results = cross_validate(model, X, y, scoring=['accuracy', 'roc_auc'])\n",
    "    acc = cv_results['test_accuracy'].mean()\n",
    "    roc_auc = cv_results['test_roc_auc'].mean()\n",
    "else:\n",
    "    # Train model\n",
    "    model.fit(train_X, train_y)\n",
    "\n",
    "    # Test model\n",
    "    y_pred = model.predict(test_X)\n",
    "    # This module does not have a manual way to access probability\n",
    "    # pred_probs = model.predict_proba(test_X)\n",
    "\n",
    "    # Evaluation\n",
    "    acc = accuracy_score(test_y, y_pred)\n",
    "    # roc_auc = roc_auc_score(test_y, pred_probs[:, 1])\n",
    "\n",
    "print(f\"Accuracy: {acc:.4f}\")\n",
    "print(f\"AUC-ROC: {roc_auc:.4f}\")"
   ]
  },
  {
   "attachments": {},
   "cell_type": "markdown",
   "metadata": {},
   "source": [
    "### References:\n",
    "* https://scikit-learn.org/stable/modules/svm.html"
   ]
  }
 ],
 "metadata": {
  "kernelspec": {
   "display_name": "base",
   "language": "python",
   "name": "python3"
  },
  "language_info": {
   "codemirror_mode": {
    "name": "ipython",
    "version": 3
   },
   "file_extension": ".py",
   "mimetype": "text/x-python",
   "name": "python",
   "nbconvert_exporter": "python",
   "pygments_lexer": "ipython3",
   "version": "3.10.12"
  },
  "orig_nbformat": 4
 },
 "nbformat": 4,
 "nbformat_minor": 2
}

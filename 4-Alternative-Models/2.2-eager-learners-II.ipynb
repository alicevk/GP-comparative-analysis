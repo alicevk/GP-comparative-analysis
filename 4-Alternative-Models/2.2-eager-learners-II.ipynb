{
 "cells": [
  {
   "attachments": {},
   "cell_type": "markdown",
   "metadata": {},
   "source": [
    "# Alternative Models: Eager Learners II\n",
    "\n",
    "<hr>\n",
    "\n",
    "* Support Vector Machine\n",
    "    * SVC\n",
    "    * NuSVC\n",
    "    * LinearSVC"
   ]
  },
  {
   "cell_type": "code",
   "execution_count": 1,
   "metadata": {},
   "outputs": [],
   "source": [
    "# Import needed libraries and modules\n",
    "from codecarbon import EmissionsTracker\n",
    "import os\n",
    "import numpy as np\n",
    "import pandas as pd\n",
    "from sklearn.model_selection import cross_validate, cross_val_score\n",
    "from sklearn.preprocessing import StandardScaler, OneHotEncoder\n",
    "from sklearn.compose import ColumnTransformer\n",
    "from sklearn.decomposition import PCA\n",
    "from sklearn import svm\n",
    "import optuna\n",
    "from optuna.samplers import GPSampler\n",
    "from sklearn.pipeline import Pipeline\n",
    "\n",
    "# Fetch dataset from UCI Repository\n",
    "from ucimlrepo import fetch_ucirepo\n",
    "heart_disease = fetch_ucirepo(id=45)\n",
    "df = heart_disease.data.original"
   ]
  },
  {
   "cell_type": "code",
   "execution_count": 2,
   "metadata": {},
   "outputs": [],
   "source": [
    "# ---------------------------------------------------------------------------- #\n",
    "#                                PRE-PROCESSING                                #\n",
    "# ---------------------------------------------------------------------------- #\n",
    "\n",
    "##### SETTINGS #####\n",
    "PC_Features = True\n",
    "Random_Seed = 82024\n",
    "K_Folds = 10\n",
    "Max_Iterations = 200\n",
    "####################\n",
    "\n",
    "# Drop missing values\n",
    "df = df.dropna()\n",
    "df = df.reset_index(drop=True)\n",
    "\n",
    "# Binarize target\n",
    "df.loc[df['num'] != 0, 'num'] = 1\n",
    "\n",
    "# Define features and target vectors\n",
    "X = df.iloc[:,:-1]\n",
    "y = df['num']\n",
    "\n",
    "# Separate integer from categorical features\n",
    "int_features, cat_features = ['age', 'trestbps', 'chol', 'thalach', 'oldpeak'],\\\n",
    "['sex', 'cp', 'fbs', 'restecg', 'exang', 'slope', 'ca', 'thal']\n",
    "\n",
    "# Define preprocessing\n",
    "preprocessor = ColumnTransformer(\n",
    "    transformers=[\n",
    "        ('int', StandardScaler(), int_features),\n",
    "        ('cat', OneHotEncoder(), cat_features)\n",
    "    ])"
   ]
  },
  {
   "attachments": {},
   "cell_type": "markdown",
   "metadata": {},
   "source": [
    "<hr>\n",
    "\n",
    "## Support Vector Machines:\n",
    "\n",
    "Suport Vector Machines(SVMs) are machine learning algorithms that work by finding a hyperplane to separate data into classes\n",
    "\n",
    "**The advantages of support vector machines are:**\n",
    "\n",
    "* Effective in high dimensional spaces.\n",
    "\n",
    "* Still effective in cases where number of dimensions is greater than the number of samples.\n",
    "\n",
    "* Uses a subset of training points in the decision function (called support vectors), so it is also memory efficient.\n",
    "\n",
    "* Versatile: different Kernel functions can be specified for the decision function as in Gaussian Process Models.\n",
    "\n",
    "**The disadvantages of support vector machines include:**\n",
    "\n",
    "* If the number of features is much greater than the number of samples, avoid over-fitting in choosing Kernel functions and regularization term is crucial.\n",
    "\n",
    "* SVMs do not directly provide probability estimates.\n",
    "\n",
    "<hr>\n",
    "\n",
    "### SVC classification SVM implementation:"
   ]
  },
  {
   "cell_type": "code",
   "execution_count": 3,
   "metadata": {},
   "outputs": [
    {
     "name": "stderr",
     "output_type": "stream",
     "text": [
      "[codecarbon ERROR @ 14:16:28] Error: Another instance of codecarbon is already running. Turn off the other instance to be able to run this one. Exiting.\n"
     ]
    },
    {
     "name": "stderr",
     "output_type": "stream",
     "text": [
      "[codecarbon WARNING @ 14:16:28] Another instance of codecarbon is already running. Exiting.\n",
      "[codecarbon WARNING @ 14:16:28] Another instance of codecarbon is already running. Exiting.\n"
     ]
    },
    {
     "name": "stdout",
     "output_type": "stream",
     "text": [
      "Accuracy: 0.8314 ± 0.0624\n",
      "AUC-ROC: 0.8991 ± 0.0426\n"
     ]
    }
   ],
   "source": [
    "# ---------------------------------------------------------------------------- #\n",
    "#                                     MODEL                                    #\n",
    "# ---------------------------------------------------------------------------- #\n",
    "\n",
    "# Initiate CodeCarbon to track emissions\n",
    "tracker = EmissionsTracker('SVC SVM model', log_level='warning')\n",
    "tracker.start()\n",
    "\n",
    "# Create model\n",
    "model = svm.SVC(random_state=Random_Seed, probability=True)\n",
    "\n",
    "# Define pipeline depending on whether PCA is requested or not\n",
    "if PC_Features:\n",
    "    steps = [\n",
    "        ('preprocessor', preprocessor),\n",
    "        ('pca', PCA(n_components=12)),\n",
    "        ('SVM-SVC-classifier', model)\n",
    "    ]\n",
    "else:\n",
    "    steps = [\n",
    "        ('preprocessor', preprocessor),\n",
    "        ('SVM-SVC-classifier', model)\n",
    "    ]\n",
    "    \n",
    "pipeline = Pipeline(steps)\n",
    "\n",
    "# Perform cross-validation\n",
    "cv_results = cross_validate(pipeline, X, y, scoring=['accuracy', 'roc_auc'], cv=K_Folds)\n",
    "\n",
    "# Calculate and display results\n",
    "acc = np.mean(cv_results['test_accuracy'])\n",
    "acc_std = np.std(cv_results['test_accuracy'])\n",
    "roc_auc = np.mean(cv_results['test_roc_auc'])\n",
    "roc_auc_std = np.std(cv_results['test_roc_auc'])\n",
    "\n",
    "print(f\"Accuracy: {acc:.4f} ± {acc_std:.4f}\")\n",
    "print(f\"AUC-ROC: {roc_auc:.4f} ± {roc_auc_std:.4f}\")\n",
    "\n",
    "# Stop emission tracking\n",
    "_ = tracker.stop()"
   ]
  },
  {
   "cell_type": "code",
   "execution_count": 4,
   "metadata": {},
   "outputs": [],
   "source": [
    "# Save evaluation to an external file\n",
    "file = 'scores.csv'\n",
    "\n",
    "results = pd.DataFrame({\n",
    "    'SVM-SVC-model': [acc, acc_std, roc_auc, roc_auc_std]\n",
    "}, index = ['Accuracy', 'Accuracy STD', 'AUC-ROC', 'AUC-ROC STD'])\n",
    "\n",
    "# Check if file exists\n",
    "if os.path.exists(file):\n",
    "    temp = pd.read_csv(file, index_col=0)\n",
    "    results = pd.concat([temp, results], axis=1)\n",
    "\n",
    "# Export\n",
    "results.to_csv(file)"
   ]
  },
  {
   "cell_type": "code",
   "execution_count": 5,
   "metadata": {},
   "outputs": [
    {
     "name": "stderr",
     "output_type": "stream",
     "text": [
      "[codecarbon ERROR @ 14:16:28] Error: Another instance of codecarbon is already running. Turn off the other instance to be able to run this one. Exiting.\n",
      "[codecarbon WARNING @ 14:16:28] Another instance of codecarbon is already running. Exiting.\n",
      "/tmp/ipykernel_15723/2045152400.py:40: ExperimentalWarning: GPSampler is experimental (supported from v3.6.0). The interface can change in the future.\n",
      "  study = optuna.create_study(direction='maximize', sampler=GPSampler())\n",
      "[I 2024-10-28 14:16:29,988] A new study created in memory with name: no-name-9df31801-9e72-446c-baf5-e4201e859afb\n",
      "[I 2024-10-28 14:16:30,136] Trial 0 finished with value: 0.8830700549450551 and parameters: {'C': 0.000516781902227192, 'kernel': 'poly', 'gamma': 'auto'}. Best is trial 0 with value: 0.8830700549450551.\n",
      "[I 2024-10-28 14:16:30,278] Trial 1 finished with value: 0.8635989010989011 and parameters: {'C': 16.2762734344627, 'kernel': 'rbf', 'gamma': 'auto'}. Best is trial 0 with value: 0.8830700549450551.\n",
      "[I 2024-10-28 14:16:30,407] Trial 2 finished with value: 0.8853021978021978 and parameters: {'C': 1.56088238988655e-05, 'kernel': 'poly', 'gamma': 'scale'}. Best is trial 2 with value: 0.8853021978021978.\n",
      "[I 2024-10-28 14:16:30,556] Trial 3 finished with value: 0.8897664835164836 and parameters: {'C': 0.0001166356215761153, 'kernel': 'rbf', 'gamma': 'auto'}. Best is trial 3 with value: 0.8897664835164836.\n",
      "[I 2024-10-28 14:16:30,677] Trial 4 finished with value: 0.8917925824175823 and parameters: {'C': 2.1949046867677393, 'kernel': 'poly', 'gamma': 'auto'}. Best is trial 4 with value: 0.8917925824175823.\n",
      "[I 2024-10-28 14:16:30,818] Trial 5 finished with value: 0.8894230769230769 and parameters: {'C': 2.1878934304454525e-05, 'kernel': 'linear', 'gamma': 'scale'}. Best is trial 4 with value: 0.8917925824175823.\n",
      "[I 2024-10-28 14:16:30,935] Trial 6 finished with value: 0.8894230769230769 and parameters: {'C': 5.04369205073255e-05, 'kernel': 'linear', 'gamma': 'auto'}. Best is trial 4 with value: 0.8917925824175823.\n",
      "[I 2024-10-28 14:16:31,068] Trial 7 finished with value: 0.8830700549450551 and parameters: {'C': 0.0017419027142563542, 'kernel': 'poly', 'gamma': 'scale'}. Best is trial 4 with value: 0.8917925824175823.\n",
      "[I 2024-10-28 14:16:31,252] Trial 8 finished with value: 0.8889423076923076 and parameters: {'C': 0.0017310137048475412, 'kernel': 'sigmoid', 'gamma': 'auto'}. Best is trial 4 with value: 0.8917925824175823.\n",
      "[I 2024-10-28 14:16:31,388] Trial 9 finished with value: 0.8889423076923076 and parameters: {'C': 0.0001543281592172552, 'kernel': 'sigmoid', 'gamma': 'auto'}. Best is trial 4 with value: 0.8917925824175823.\n",
      "[I 2024-10-28 14:16:39,025] Trial 10 finished with value: 0.808653846153846 and parameters: {'C': 100.0, 'kernel': 'poly', 'gamma': 'auto'}. Best is trial 4 with value: 0.8917925824175823.\n",
      "[I 2024-10-28 14:16:39,270] Trial 11 finished with value: 0.8984890109890109 and parameters: {'C': 0.3237688719305148, 'kernel': 'rbf', 'gamma': 'auto'}. Best is trial 11 with value: 0.8984890109890109.\n",
      "[I 2024-10-28 14:16:39,525] Trial 12 finished with value: 0.913083791208791 and parameters: {'C': 0.44804021819181206, 'kernel': 'sigmoid', 'gamma': 'scale'}. Best is trial 12 with value: 0.913083791208791.\n",
      "[I 2024-10-28 14:16:39,784] Trial 13 finished with value: 0.9091002747252748 and parameters: {'C': 0.4509418183758629, 'kernel': 'linear', 'gamma': 'scale'}. Best is trial 12 with value: 0.913083791208791.\n",
      "[I 2024-10-28 14:16:40,045] Trial 14 finished with value: 0.9115384615384615 and parameters: {'C': 0.10976028383066071, 'kernel': 'sigmoid', 'gamma': 'scale'}. Best is trial 12 with value: 0.913083791208791.\n",
      "[I 2024-10-28 14:16:40,303] Trial 15 finished with value: 0.9008585164835166 and parameters: {'C': 0.262255929566722, 'kernel': 'poly', 'gamma': 'scale'}. Best is trial 12 with value: 0.913083791208791.\n",
      "[I 2024-10-28 14:16:40,538] Trial 16 finished with value: 0.9116071428571427 and parameters: {'C': 0.27352406085516645, 'kernel': 'sigmoid', 'gamma': 'scale'}. Best is trial 12 with value: 0.913083791208791.\n",
      "[I 2024-10-28 14:16:40,779] Trial 17 finished with value: 0.9139423076923077 and parameters: {'C': 1.0884639492306214, 'kernel': 'sigmoid', 'gamma': 'scale'}. Best is trial 17 with value: 0.9139423076923077.\n",
      "[I 2024-10-28 14:16:41,034] Trial 18 finished with value: 0.8986263736263738 and parameters: {'C': 1.1077727893100435, 'kernel': 'rbf', 'gamma': 'scale'}. Best is trial 17 with value: 0.9139423076923077.\n",
      "[I 2024-10-28 14:16:41,305] Trial 19 finished with value: 0.9104395604395604 and parameters: {'C': 0.6975478852858341, 'kernel': 'sigmoid', 'gamma': 'auto'}. Best is trial 17 with value: 0.9139423076923077.\n",
      "[I 2024-10-28 14:16:41,544] Trial 20 finished with value: 0.9157623626373628 and parameters: {'C': 0.04451205659239271, 'kernel': 'linear', 'gamma': 'auto'}. Best is trial 20 with value: 0.9157623626373628.\n",
      "[I 2024-10-28 14:16:41,772] Trial 21 finished with value: 0.9126717032967034 and parameters: {'C': 0.03825991566859775, 'kernel': 'linear', 'gamma': 'scale'}. Best is trial 20 with value: 0.9157623626373628.\n",
      "[I 2024-10-28 14:16:42,007] Trial 22 finished with value: 0.8940247252747253 and parameters: {'C': 0.04230702562890542, 'kernel': 'sigmoid', 'gamma': 'auto'}. Best is trial 20 with value: 0.9157623626373628.\n",
      "[I 2024-10-28 14:16:42,229] Trial 23 finished with value: 0.9079326923076924 and parameters: {'C': 0.15902709571712023, 'kernel': 'linear', 'gamma': 'auto'}. Best is trial 20 with value: 0.9157623626373628.\n",
      "[I 2024-10-28 14:16:42,469] Trial 24 finished with value: 0.9106112637362637 and parameters: {'C': 0.016353880916231495, 'kernel': 'linear', 'gamma': 'auto'}. Best is trial 20 with value: 0.9157623626373628.\n",
      "[I 2024-10-28 14:16:42,706] Trial 25 finished with value: 0.9079670329670328 and parameters: {'C': 0.08634280280617417, 'kernel': 'linear', 'gamma': 'scale'}. Best is trial 20 with value: 0.9157623626373628.\n",
      "[I 2024-10-28 14:16:42,932] Trial 26 finished with value: 0.9086195054945054 and parameters: {'C': 0.011625545432596187, 'kernel': 'linear', 'gamma': 'scale'}. Best is trial 20 with value: 0.9157623626373628.\n",
      "[I 2024-10-28 14:16:43,175] Trial 27 finished with value: 0.8876030219780219 and parameters: {'C': 0.023460578965321634, 'kernel': 'rbf', 'gamma': 'scale'}. Best is trial 20 with value: 0.9157623626373628.\n",
      "[I 2024-10-28 14:16:43,395] Trial 28 finished with value: 0.9152472527472527 and parameters: {'C': 0.7287366085085113, 'kernel': 'sigmoid', 'gamma': 'scale'}. Best is trial 20 with value: 0.9157623626373628.\n",
      "[I 2024-10-28 14:16:43,623] Trial 29 finished with value: 0.8897664835164836 and parameters: {'C': 1e-05, 'kernel': 'rbf', 'gamma': 'auto'}. Best is trial 20 with value: 0.9157623626373628.\n",
      "[I 2024-10-28 14:16:43,884] Trial 30 finished with value: 0.9160714285714284 and parameters: {'C': 0.7456752609797945, 'kernel': 'sigmoid', 'gamma': 'scale'}. Best is trial 30 with value: 0.9160714285714284.\n",
      "[I 2024-10-28 14:16:44,156] Trial 31 finished with value: 0.9139079670329672 and parameters: {'C': 1.230277250175645, 'kernel': 'sigmoid', 'gamma': 'scale'}. Best is trial 30 with value: 0.9160714285714284.\n",
      "[I 2024-10-28 14:16:44,430] Trial 32 finished with value: 0.9100274725274724 and parameters: {'C': 1.269533912352224, 'kernel': 'linear', 'gamma': 'auto'}. Best is trial 30 with value: 0.9160714285714284.\n",
      "[I 2024-10-28 14:16:44,693] Trial 33 finished with value: 0.9096153846153847 and parameters: {'C': 1.67821523578442, 'kernel': 'linear', 'gamma': 'scale'}. Best is trial 30 with value: 0.9160714285714284.\n",
      "[I 2024-10-28 14:16:44,998] Trial 34 finished with value: 0.9122252747252746 and parameters: {'C': 0.038047448269965166, 'kernel': 'linear', 'gamma': 'auto'}. Best is trial 30 with value: 0.9160714285714284.\n",
      "[I 2024-10-28 14:16:45,261] Trial 35 finished with value: 0.8894230769230769 and parameters: {'C': 0.0007267321874349218, 'kernel': 'linear', 'gamma': 'scale'}. Best is trial 30 with value: 0.9160714285714284.\n",
      "[I 2024-10-28 14:16:45,519] Trial 36 finished with value: 0.917032967032967 and parameters: {'C': 0.7407947572427896, 'kernel': 'sigmoid', 'gamma': 'scale'}. Best is trial 36 with value: 0.917032967032967.\n",
      "[I 2024-10-28 14:16:45,844] Trial 37 finished with value: 0.8889423076923076 and parameters: {'C': 1e-05, 'kernel': 'sigmoid', 'gamma': 'scale'}. Best is trial 36 with value: 0.917032967032967.\n",
      "[I 2024-10-28 14:16:46,162] Trial 38 finished with value: 0.9113324175824176 and parameters: {'C': 1.961793193078955, 'kernel': 'sigmoid', 'gamma': 'auto'}. Best is trial 36 with value: 0.917032967032967.\n",
      "[I 2024-10-28 14:16:46,417] Trial 39 finished with value: 0.9124656593406595 and parameters: {'C': 2.0653366583773365, 'kernel': 'sigmoid', 'gamma': 'scale'}. Best is trial 36 with value: 0.917032967032967.\n",
      "[I 2024-10-28 14:16:46,653] Trial 40 finished with value: 0.8844093406593407 and parameters: {'C': 0.03859782153096773, 'kernel': 'poly', 'gamma': 'auto'}. Best is trial 36 with value: 0.917032967032967.\n",
      "[I 2024-10-28 14:16:46,910] Trial 41 finished with value: 0.9165865384615385 and parameters: {'C': 0.8871965971838349, 'kernel': 'sigmoid', 'gamma': 'scale'}. Best is trial 36 with value: 0.917032967032967.\n",
      "[I 2024-10-28 14:16:47,219] Trial 42 finished with value: 0.9148008241758241 and parameters: {'C': 0.8889502743373402, 'kernel': 'sigmoid', 'gamma': 'scale'}. Best is trial 36 with value: 0.917032967032967.\n",
      "[I 2024-10-28 14:16:47,473] Trial 43 finished with value: 0.8893887362637362 and parameters: {'C': 0.017262364712737115, 'kernel': 'sigmoid', 'gamma': 'scale'}. Best is trial 36 with value: 0.917032967032967.\n",
      "[I 2024-10-28 14:16:47,740] Trial 44 finished with value: 0.8971497252747251 and parameters: {'C': 0.003946352840304646, 'kernel': 'linear', 'gamma': 'auto'}. Best is trial 36 with value: 0.917032967032967.\n",
      "[I 2024-10-28 14:16:48,089] Trial 45 finished with value: 0.9109546703296705 and parameters: {'C': 3.8519138995862576, 'kernel': 'linear', 'gamma': 'auto'}. Best is trial 36 with value: 0.917032967032967.\n",
      "[I 2024-10-28 14:16:48,374] Trial 46 finished with value: 0.9114010989010991 and parameters: {'C': 5.402668533455995, 'kernel': 'linear', 'gamma': 'scale'}. Best is trial 36 with value: 0.917032967032967.\n",
      "[I 2024-10-28 14:16:48,638] Trial 47 finished with value: 0.882245879120879 and parameters: {'C': 6.01139543399364, 'kernel': 'sigmoid', 'gamma': 'scale'}. Best is trial 36 with value: 0.917032967032967.\n",
      "[I 2024-10-28 14:16:48,905] Trial 48 finished with value: 0.8871565934065935 and parameters: {'C': 0.0011741997390523724, 'kernel': 'rbf', 'gamma': 'scale'}. Best is trial 36 with value: 0.917032967032967.\n",
      "[I 2024-10-28 14:16:49,214] Trial 49 finished with value: 0.9111607142857142 and parameters: {'C': 1.0187976602491382, 'kernel': 'sigmoid', 'gamma': 'scale'}. Best is trial 36 with value: 0.917032967032967.\n",
      "[I 2024-10-28 14:16:49,470] Trial 50 finished with value: 0.9109890109890111 and parameters: {'C': 2.8361008550669555, 'kernel': 'linear', 'gamma': 'scale'}. Best is trial 36 with value: 0.917032967032967.\n",
      "[I 2024-10-28 14:16:49,713] Trial 51 finished with value: 0.9070398351648352 and parameters: {'C': 1.0941657513971779, 'kernel': 'sigmoid', 'gamma': 'auto'}. Best is trial 36 with value: 0.917032967032967.\n",
      "[I 2024-10-28 14:16:50,024] Trial 52 finished with value: 0.9157280219780219 and parameters: {'C': 0.5040465341917286, 'kernel': 'sigmoid', 'gamma': 'scale'}. Best is trial 36 with value: 0.917032967032967.\n",
      "[I 2024-10-28 14:16:50,350] Trial 53 finished with value: 0.9156936813186812 and parameters: {'C': 0.5136982008595019, 'kernel': 'sigmoid', 'gamma': 'scale'}. Best is trial 36 with value: 0.917032967032967.\n",
      "[I 2024-10-28 14:16:50,681] Trial 54 finished with value: 0.9134958791208792 and parameters: {'C': 0.5299282939221385, 'kernel': 'sigmoid', 'gamma': 'scale'}. Best is trial 36 with value: 0.917032967032967.\n",
      "[I 2024-10-28 14:16:50,960] Trial 55 finished with value: 0.9121222527472528 and parameters: {'C': 0.02868059000745162, 'kernel': 'linear', 'gamma': 'scale'}. Best is trial 36 with value: 0.917032967032967.\n",
      "[I 2024-10-28 14:16:51,269] Trial 56 finished with value: 0.8889766483516484 and parameters: {'C': 1e-05, 'kernel': 'linear', 'gamma': 'auto'}. Best is trial 36 with value: 0.917032967032967.\n",
      "[I 2024-10-28 14:16:51,652] Trial 57 finished with value: 0.9135645604395604 and parameters: {'C': 0.03678862304817198, 'kernel': 'linear', 'gamma': 'auto'}. Best is trial 36 with value: 0.917032967032967.\n",
      "[I 2024-10-28 14:16:51,982] Trial 58 finished with value: 0.9125343406593409 and parameters: {'C': 0.2661609362538606, 'kernel': 'sigmoid', 'gamma': 'scale'}. Best is trial 36 with value: 0.917032967032967.\n",
      "[I 2024-10-28 14:16:52,284] Trial 59 finished with value: 0.9101991758241759 and parameters: {'C': 0.23944000114997074, 'kernel': 'sigmoid', 'gamma': 'auto'}. Best is trial 36 with value: 0.917032967032967.\n",
      "[I 2024-10-28 14:16:52,532] Trial 60 finished with value: 0.9111607142857141 and parameters: {'C': 0.057470097931463154, 'kernel': 'linear', 'gamma': 'auto'}. Best is trial 36 with value: 0.917032967032967.\n",
      "[I 2024-10-28 14:16:52,846] Trial 61 finished with value: 0.9127747252747254 and parameters: {'C': 7.605861280196093, 'kernel': 'linear', 'gamma': 'auto'}. Best is trial 36 with value: 0.917032967032967.\n",
      "[I 2024-10-28 14:16:53,247] Trial 62 finished with value: 0.9123282967032967 and parameters: {'C': 16.988844941769916, 'kernel': 'linear', 'gamma': 'scale'}. Best is trial 36 with value: 0.917032967032967.\n",
      "[I 2024-10-28 14:16:54,045] Trial 63 finished with value: 0.9114697802197803 and parameters: {'C': 100.0, 'kernel': 'linear', 'gamma': 'auto'}. Best is trial 36 with value: 0.917032967032967.\n",
      "[I 2024-10-28 14:16:54,459] Trial 64 finished with value: 0.9114354395604396 and parameters: {'C': 29.378885939375895, 'kernel': 'linear', 'gamma': 'auto'}. Best is trial 36 with value: 0.917032967032967.\n",
      "[I 2024-10-28 14:16:55,231] Trial 65 finished with value: 0.9114697802197803 and parameters: {'C': 100.0, 'kernel': 'linear', 'gamma': 'scale'}. Best is trial 36 with value: 0.917032967032967.\n",
      "[I 2024-10-28 14:16:55,723] Trial 66 finished with value: 0.9114354395604396 and parameters: {'C': 43.2429868129994, 'kernel': 'linear', 'gamma': 'scale'}. Best is trial 36 with value: 0.917032967032967.\n",
      "[I 2024-10-28 14:16:56,050] Trial 67 finished with value: 0.9123282967032967 and parameters: {'C': 13.694432497158216, 'kernel': 'linear', 'gamma': 'auto'}. Best is trial 36 with value: 0.917032967032967.\n",
      "[I 2024-10-28 14:16:56,337] Trial 68 finished with value: 0.9013736263736265 and parameters: {'C': 0.4892041387835136, 'kernel': 'poly', 'gamma': 'auto'}. Best is trial 36 with value: 0.917032967032967.\n",
      "[I 2024-10-28 14:16:56,638] Trial 69 finished with value: 0.9127747252747254 and parameters: {'C': 10.785215941962637, 'kernel': 'linear', 'gamma': 'scale'}. Best is trial 36 with value: 0.917032967032967.\n",
      "[I 2024-10-28 14:16:56,893] Trial 70 finished with value: 0.8942994505494506 and parameters: {'C': 0.18590810710465072, 'kernel': 'rbf', 'gamma': 'scale'}. Best is trial 36 with value: 0.917032967032967.\n",
      "[I 2024-10-28 14:16:57,434] Trial 71 finished with value: 0.910989010989011 and parameters: {'C': 52.85548360725953, 'kernel': 'linear', 'gamma': 'auto'}. Best is trial 36 with value: 0.917032967032967.\n",
      "[I 2024-10-28 14:16:57,673] Trial 72 finished with value: 0.8888049450549451 and parameters: {'C': 0.9108296355411785, 'kernel': 'poly', 'gamma': 'scale'}. Best is trial 36 with value: 0.917032967032967.\n",
      "[I 2024-10-28 14:16:57,941] Trial 73 finished with value: 0.8871565934065935 and parameters: {'C': 3.4597373300656514e-05, 'kernel': 'rbf', 'gamma': 'scale'}. Best is trial 36 with value: 0.917032967032967.\n",
      "[I 2024-10-28 14:16:58,184] Trial 74 finished with value: 0.9109546703296705 and parameters: {'C': 0.541390822180876, 'kernel': 'linear', 'gamma': 'auto'}. Best is trial 36 with value: 0.917032967032967.\n",
      "[I 2024-10-28 14:16:58,452] Trial 75 finished with value: 0.8830700549450551 and parameters: {'C': 0.0001047589630830025, 'kernel': 'poly', 'gamma': 'scale'}. Best is trial 36 with value: 0.917032967032967.\n",
      "[I 2024-10-28 14:16:58,753] Trial 76 finished with value: 0.888495879120879 and parameters: {'C': 0.0005192420872979665, 'kernel': 'sigmoid', 'gamma': 'scale'}. Best is trial 36 with value: 0.917032967032967.\n",
      "[I 2024-10-28 14:16:59,583] Trial 77 finished with value: 0.9114697802197803 and parameters: {'C': 100.0, 'kernel': 'linear', 'gamma': 'scale'}. Best is trial 36 with value: 0.917032967032967.\n",
      "[I 2024-10-28 14:16:59,818] Trial 78 finished with value: 0.8737637362637362 and parameters: {'C': 100.0, 'kernel': 'sigmoid', 'gamma': 'auto'}. Best is trial 36 with value: 0.917032967032967.\n",
      "[I 2024-10-28 14:17:00,073] Trial 79 finished with value: 0.9084478021978022 and parameters: {'C': 0.02584318191015092, 'kernel': 'linear', 'gamma': 'auto'}. Best is trial 36 with value: 0.917032967032967.\n",
      "[I 2024-10-28 14:17:00,336] Trial 80 finished with value: 0.9147321428571429 and parameters: {'C': 0.7193609610691318, 'kernel': 'sigmoid', 'gamma': 'scale'}. Best is trial 36 with value: 0.917032967032967.\n",
      "[I 2024-10-28 14:17:00,758] Trial 81 finished with value: 0.9118818681318682 and parameters: {'C': 24.562734401442167, 'kernel': 'linear', 'gamma': 'scale'}. Best is trial 36 with value: 0.917032967032967.\n",
      "[I 2024-10-28 14:17:01,015] Trial 82 finished with value: 0.9147664835164836 and parameters: {'C': 0.9941831049910895, 'kernel': 'sigmoid', 'gamma': 'scale'}. Best is trial 36 with value: 0.917032967032967.\n",
      "[I 2024-10-28 14:17:01,258] Trial 83 finished with value: 0.8906936813186814 and parameters: {'C': 0.004893011695515985, 'kernel': 'rbf', 'gamma': 'auto'}. Best is trial 36 with value: 0.917032967032967.\n",
      "[I 2024-10-28 14:17:01,641] Trial 84 finished with value: 0.9132211538461539 and parameters: {'C': 11.480047318577732, 'kernel': 'linear', 'gamma': 'auto'}. Best is trial 36 with value: 0.917032967032967.\n",
      "[I 2024-10-28 14:17:01,971] Trial 85 finished with value: 0.8325206043956044 and parameters: {'C': 100.0, 'kernel': 'rbf', 'gamma': 'scale'}. Best is trial 36 with value: 0.917032967032967.\n",
      "[I 2024-10-28 14:17:02,291] Trial 86 finished with value: 0.9116071428571427 and parameters: {'C': 0.6039771363839914, 'kernel': 'sigmoid', 'gamma': 'scale'}. Best is trial 36 with value: 0.917032967032967.\n",
      "[I 2024-10-28 14:17:03,100] Trial 87 finished with value: 0.9114697802197803 and parameters: {'C': 100.0, 'kernel': 'linear', 'gamma': 'auto'}. Best is trial 36 with value: 0.917032967032967.\n",
      "[I 2024-10-28 14:17:03,411] Trial 88 finished with value: 0.9060096153846153 and parameters: {'C': 0.18670944227277997, 'kernel': 'sigmoid', 'gamma': 'scale'}. Best is trial 36 with value: 0.917032967032967.\n",
      "[I 2024-10-28 14:17:03,715] Trial 89 finished with value: 0.9127747252747254 and parameters: {'C': 8.718908757401321, 'kernel': 'linear', 'gamma': 'scale'}. Best is trial 36 with value: 0.917032967032967.\n",
      "[I 2024-10-28 14:17:03,998] Trial 90 finished with value: 0.9118475274725275 and parameters: {'C': 5.041233779090936, 'kernel': 'linear', 'gamma': 'auto'}. Best is trial 36 with value: 0.917032967032967.\n",
      "[I 2024-10-28 14:17:04,262] Trial 91 finished with value: 0.917032967032967 and parameters: {'C': 0.9493441927207159, 'kernel': 'sigmoid', 'gamma': 'scale'}. Best is trial 36 with value: 0.917032967032967.\n",
      "[I 2024-10-28 14:17:04,583] Trial 92 finished with value: 0.9121222527472528 and parameters: {'C': 0.955448434407835, 'kernel': 'sigmoid', 'gamma': 'scale'}. Best is trial 36 with value: 0.917032967032967.\n",
      "[I 2024-10-28 14:17:04,933] Trial 93 finished with value: 0.9123282967032967 and parameters: {'C': 18.75921430456691, 'kernel': 'linear', 'gamma': 'auto'}. Best is trial 36 with value: 0.917032967032967.\n",
      "[I 2024-10-28 14:17:05,207] Trial 94 finished with value: 0.9121222527472528 and parameters: {'C': 0.028644544047798353, 'kernel': 'linear', 'gamma': 'scale'}. Best is trial 36 with value: 0.917032967032967.\n",
      "[I 2024-10-28 14:17:05,465] Trial 95 finished with value: 0.9055631868131867 and parameters: {'C': 1.6158414938427494, 'kernel': 'rbf', 'gamma': 'auto'}. Best is trial 36 with value: 0.917032967032967.\n",
      "[I 2024-10-28 14:17:05,743] Trial 96 finished with value: 0.9105425824175825 and parameters: {'C': 2.1279979717918542, 'kernel': 'linear', 'gamma': 'auto'}. Best is trial 36 with value: 0.917032967032967.\n",
      "[I 2024-10-28 14:17:06,220] Trial 97 finished with value: 0.910989010989011 and parameters: {'C': 49.724597973026334, 'kernel': 'linear', 'gamma': 'scale'}. Best is trial 36 with value: 0.917032967032967.\n",
      "[I 2024-10-28 14:17:06,532] Trial 98 finished with value: 0.8844436813186813 and parameters: {'C': 1.0123060356577581e-05, 'kernel': 'poly', 'gamma': 'auto'}. Best is trial 36 with value: 0.917032967032967.\n",
      "[I 2024-10-28 14:17:06,858] Trial 99 finished with value: 0.9148351648351648 and parameters: {'C': 1.1142175473862892, 'kernel': 'sigmoid', 'gamma': 'scale'}. Best is trial 36 with value: 0.917032967032967.\n"
     ]
    }
   ],
   "source": [
    "# ---------------------------------------------------------------------------- #\n",
    "#                                 OPTIMIZATION                                 #\n",
    "# ---------------------------------------------------------------------------- #\n",
    "\n",
    "# Initiate CodeCarbon to track emissions\n",
    "tracker = EmissionsTracker('SVC SVM optimization', log_level='warning')\n",
    "tracker.start()\n",
    "\n",
    "# Objective function\n",
    "def objective(trial):\n",
    "      # Define parameters\n",
    "      C = trial.suggest_float('C', 1e-5, 1e2, log=True)  # Faixa de valores para o parâmetro de regularização C\n",
    "      kernel = trial.suggest_categorical('kernel', ['linear', 'poly', 'rbf', 'sigmoid'])  # Seleção do kernel\n",
    "      gamma = trial.suggest_categorical('gamma', ['scale', 'auto'])  # Opções para o parâmetro gamma\n",
    "\n",
    "      # Create model\n",
    "      temp_model = svm.SVC(C=C, kernel=kernel, gamma=gamma)\n",
    "\n",
    "      # Define pipeline depending on whether PCA is requested or not\n",
    "      if PC_Features:\n",
    "            steps = [\n",
    "            ('preprocessor', preprocessor),\n",
    "            ('pca', PCA(n_components=12)),\n",
    "            ('SVM-SVC-classifier', temp_model)\n",
    "            ]\n",
    "      else:\n",
    "            steps = [\n",
    "            ('preprocessor', preprocessor),\n",
    "            ('SVM-SVC-classifier', temp_model)\n",
    "            ]\n",
    "            \n",
    "      pipeline = Pipeline(steps)\n",
    "\n",
    "      # Perform cross-validation\n",
    "      roc_auc = cross_val_score(pipeline, X, y, scoring='roc_auc', cv=K_Folds).mean()\n",
    "\n",
    "      return roc_auc\n",
    "\n",
    "# Optimizing with Optuna\n",
    "study = optuna.create_study(direction='maximize', sampler=GPSampler())\n",
    "study.optimize(objective, n_trials=100)"
   ]
  },
  {
   "cell_type": "code",
   "execution_count": 6,
   "metadata": {},
   "outputs": [
    {
     "name": "stdout",
     "output_type": "stream",
     "text": [
      "AUC-ROC: 0.917032967032967\n",
      "Best hyperparameters: {'C': 0.7407947572427896, 'kernel': 'sigmoid', 'gamma': 'scale'}\n"
     ]
    }
   ],
   "source": [
    "# Show best model\n",
    "trial = study.best_trial\n",
    "print('AUC-ROC: {}'.format(trial.value))\n",
    "print(\"Best hyperparameters: {}\".format(trial.params))"
   ]
  },
  {
   "cell_type": "code",
   "execution_count": 7,
   "metadata": {},
   "outputs": [
    {
     "data": {
      "application/vnd.plotly.v1+json": {
       "config": {
        "plotlyServerURL": "https://plot.ly"
       },
       "data": [
        {
         "mode": "markers",
         "name": "Objective Value",
         "type": "scatter",
         "x": [
          0,
          1,
          2,
          3,
          4,
          5,
          6,
          7,
          8,
          9,
          10,
          11,
          12,
          13,
          14,
          15,
          16,
          17,
          18,
          19,
          20,
          21,
          22,
          23,
          24,
          25,
          26,
          27,
          28,
          29,
          30,
          31,
          32,
          33,
          34,
          35,
          36,
          37,
          38,
          39,
          40,
          41,
          42,
          43,
          44,
          45,
          46,
          47,
          48,
          49,
          50,
          51,
          52,
          53,
          54,
          55,
          56,
          57,
          58,
          59,
          60,
          61,
          62,
          63,
          64,
          65,
          66,
          67,
          68,
          69,
          70,
          71,
          72,
          73,
          74,
          75,
          76,
          77,
          78,
          79,
          80,
          81,
          82,
          83,
          84,
          85,
          86,
          87,
          88,
          89,
          90,
          91,
          92,
          93,
          94,
          95,
          96,
          97,
          98,
          99
         ],
         "y": [
          0.8830700549450551,
          0.8635989010989011,
          0.8853021978021978,
          0.8897664835164836,
          0.8917925824175823,
          0.8894230769230769,
          0.8894230769230769,
          0.8830700549450551,
          0.8889423076923076,
          0.8889423076923076,
          0.808653846153846,
          0.8984890109890109,
          0.913083791208791,
          0.9091002747252748,
          0.9115384615384615,
          0.9008585164835166,
          0.9116071428571427,
          0.9139423076923077,
          0.8986263736263738,
          0.9104395604395604,
          0.9157623626373628,
          0.9126717032967034,
          0.8940247252747253,
          0.9079326923076924,
          0.9106112637362637,
          0.9079670329670328,
          0.9086195054945054,
          0.8876030219780219,
          0.9152472527472527,
          0.8897664835164836,
          0.9160714285714284,
          0.9139079670329672,
          0.9100274725274724,
          0.9096153846153847,
          0.9122252747252746,
          0.8894230769230769,
          0.917032967032967,
          0.8889423076923076,
          0.9113324175824176,
          0.9124656593406595,
          0.8844093406593407,
          0.9165865384615385,
          0.9148008241758241,
          0.8893887362637362,
          0.8971497252747251,
          0.9109546703296705,
          0.9114010989010991,
          0.882245879120879,
          0.8871565934065935,
          0.9111607142857142,
          0.9109890109890111,
          0.9070398351648352,
          0.9157280219780219,
          0.9156936813186812,
          0.9134958791208792,
          0.9121222527472528,
          0.8889766483516484,
          0.9135645604395604,
          0.9125343406593409,
          0.9101991758241759,
          0.9111607142857141,
          0.9127747252747254,
          0.9123282967032967,
          0.9114697802197803,
          0.9114354395604396,
          0.9114697802197803,
          0.9114354395604396,
          0.9123282967032967,
          0.9013736263736265,
          0.9127747252747254,
          0.8942994505494506,
          0.910989010989011,
          0.8888049450549451,
          0.8871565934065935,
          0.9109546703296705,
          0.8830700549450551,
          0.888495879120879,
          0.9114697802197803,
          0.8737637362637362,
          0.9084478021978022,
          0.9147321428571429,
          0.9118818681318682,
          0.9147664835164836,
          0.8906936813186814,
          0.9132211538461539,
          0.8325206043956044,
          0.9116071428571427,
          0.9114697802197803,
          0.9060096153846153,
          0.9127747252747254,
          0.9118475274725275,
          0.917032967032967,
          0.9121222527472528,
          0.9123282967032967,
          0.9121222527472528,
          0.9055631868131867,
          0.9105425824175825,
          0.910989010989011,
          0.8844436813186813,
          0.9148351648351648
         ]
        },
        {
         "mode": "lines",
         "name": "Best Value",
         "type": "scatter",
         "x": [
          0,
          1,
          2,
          3,
          4,
          5,
          6,
          7,
          8,
          9,
          10,
          11,
          12,
          13,
          14,
          15,
          16,
          17,
          18,
          19,
          20,
          21,
          22,
          23,
          24,
          25,
          26,
          27,
          28,
          29,
          30,
          31,
          32,
          33,
          34,
          35,
          36,
          37,
          38,
          39,
          40,
          41,
          42,
          43,
          44,
          45,
          46,
          47,
          48,
          49,
          50,
          51,
          52,
          53,
          54,
          55,
          56,
          57,
          58,
          59,
          60,
          61,
          62,
          63,
          64,
          65,
          66,
          67,
          68,
          69,
          70,
          71,
          72,
          73,
          74,
          75,
          76,
          77,
          78,
          79,
          80,
          81,
          82,
          83,
          84,
          85,
          86,
          87,
          88,
          89,
          90,
          91,
          92,
          93,
          94,
          95,
          96,
          97,
          98,
          99
         ],
         "y": [
          0.8830700549450551,
          0.8830700549450551,
          0.8853021978021978,
          0.8897664835164836,
          0.8917925824175823,
          0.8917925824175823,
          0.8917925824175823,
          0.8917925824175823,
          0.8917925824175823,
          0.8917925824175823,
          0.8917925824175823,
          0.8984890109890109,
          0.913083791208791,
          0.913083791208791,
          0.913083791208791,
          0.913083791208791,
          0.913083791208791,
          0.9139423076923077,
          0.9139423076923077,
          0.9139423076923077,
          0.9157623626373628,
          0.9157623626373628,
          0.9157623626373628,
          0.9157623626373628,
          0.9157623626373628,
          0.9157623626373628,
          0.9157623626373628,
          0.9157623626373628,
          0.9157623626373628,
          0.9157623626373628,
          0.9160714285714284,
          0.9160714285714284,
          0.9160714285714284,
          0.9160714285714284,
          0.9160714285714284,
          0.9160714285714284,
          0.917032967032967,
          0.917032967032967,
          0.917032967032967,
          0.917032967032967,
          0.917032967032967,
          0.917032967032967,
          0.917032967032967,
          0.917032967032967,
          0.917032967032967,
          0.917032967032967,
          0.917032967032967,
          0.917032967032967,
          0.917032967032967,
          0.917032967032967,
          0.917032967032967,
          0.917032967032967,
          0.917032967032967,
          0.917032967032967,
          0.917032967032967,
          0.917032967032967,
          0.917032967032967,
          0.917032967032967,
          0.917032967032967,
          0.917032967032967,
          0.917032967032967,
          0.917032967032967,
          0.917032967032967,
          0.917032967032967,
          0.917032967032967,
          0.917032967032967,
          0.917032967032967,
          0.917032967032967,
          0.917032967032967,
          0.917032967032967,
          0.917032967032967,
          0.917032967032967,
          0.917032967032967,
          0.917032967032967,
          0.917032967032967,
          0.917032967032967,
          0.917032967032967,
          0.917032967032967,
          0.917032967032967,
          0.917032967032967,
          0.917032967032967,
          0.917032967032967,
          0.917032967032967,
          0.917032967032967,
          0.917032967032967,
          0.917032967032967,
          0.917032967032967,
          0.917032967032967,
          0.917032967032967,
          0.917032967032967,
          0.917032967032967,
          0.917032967032967,
          0.917032967032967,
          0.917032967032967,
          0.917032967032967,
          0.917032967032967,
          0.917032967032967,
          0.917032967032967,
          0.917032967032967,
          0.917032967032967
         ]
        },
        {
         "marker": {
          "color": "#cccccc"
         },
         "mode": "markers",
         "name": "Infeasible Trial",
         "showlegend": false,
         "type": "scatter",
         "x": [],
         "y": []
        }
       ],
       "layout": {
        "template": {
         "data": {
          "bar": [
           {
            "error_x": {
             "color": "#2a3f5f"
            },
            "error_y": {
             "color": "#2a3f5f"
            },
            "marker": {
             "line": {
              "color": "#E5ECF6",
              "width": 0.5
             },
             "pattern": {
              "fillmode": "overlay",
              "size": 10,
              "solidity": 0.2
             }
            },
            "type": "bar"
           }
          ],
          "barpolar": [
           {
            "marker": {
             "line": {
              "color": "#E5ECF6",
              "width": 0.5
             },
             "pattern": {
              "fillmode": "overlay",
              "size": 10,
              "solidity": 0.2
             }
            },
            "type": "barpolar"
           }
          ],
          "carpet": [
           {
            "aaxis": {
             "endlinecolor": "#2a3f5f",
             "gridcolor": "white",
             "linecolor": "white",
             "minorgridcolor": "white",
             "startlinecolor": "#2a3f5f"
            },
            "baxis": {
             "endlinecolor": "#2a3f5f",
             "gridcolor": "white",
             "linecolor": "white",
             "minorgridcolor": "white",
             "startlinecolor": "#2a3f5f"
            },
            "type": "carpet"
           }
          ],
          "choropleth": [
           {
            "colorbar": {
             "outlinewidth": 0,
             "ticks": ""
            },
            "type": "choropleth"
           }
          ],
          "contour": [
           {
            "colorbar": {
             "outlinewidth": 0,
             "ticks": ""
            },
            "colorscale": [
             [
              0,
              "#0d0887"
             ],
             [
              0.1111111111111111,
              "#46039f"
             ],
             [
              0.2222222222222222,
              "#7201a8"
             ],
             [
              0.3333333333333333,
              "#9c179e"
             ],
             [
              0.4444444444444444,
              "#bd3786"
             ],
             [
              0.5555555555555556,
              "#d8576b"
             ],
             [
              0.6666666666666666,
              "#ed7953"
             ],
             [
              0.7777777777777778,
              "#fb9f3a"
             ],
             [
              0.8888888888888888,
              "#fdca26"
             ],
             [
              1,
              "#f0f921"
             ]
            ],
            "type": "contour"
           }
          ],
          "contourcarpet": [
           {
            "colorbar": {
             "outlinewidth": 0,
             "ticks": ""
            },
            "type": "contourcarpet"
           }
          ],
          "heatmap": [
           {
            "colorbar": {
             "outlinewidth": 0,
             "ticks": ""
            },
            "colorscale": [
             [
              0,
              "#0d0887"
             ],
             [
              0.1111111111111111,
              "#46039f"
             ],
             [
              0.2222222222222222,
              "#7201a8"
             ],
             [
              0.3333333333333333,
              "#9c179e"
             ],
             [
              0.4444444444444444,
              "#bd3786"
             ],
             [
              0.5555555555555556,
              "#d8576b"
             ],
             [
              0.6666666666666666,
              "#ed7953"
             ],
             [
              0.7777777777777778,
              "#fb9f3a"
             ],
             [
              0.8888888888888888,
              "#fdca26"
             ],
             [
              1,
              "#f0f921"
             ]
            ],
            "type": "heatmap"
           }
          ],
          "heatmapgl": [
           {
            "colorbar": {
             "outlinewidth": 0,
             "ticks": ""
            },
            "colorscale": [
             [
              0,
              "#0d0887"
             ],
             [
              0.1111111111111111,
              "#46039f"
             ],
             [
              0.2222222222222222,
              "#7201a8"
             ],
             [
              0.3333333333333333,
              "#9c179e"
             ],
             [
              0.4444444444444444,
              "#bd3786"
             ],
             [
              0.5555555555555556,
              "#d8576b"
             ],
             [
              0.6666666666666666,
              "#ed7953"
             ],
             [
              0.7777777777777778,
              "#fb9f3a"
             ],
             [
              0.8888888888888888,
              "#fdca26"
             ],
             [
              1,
              "#f0f921"
             ]
            ],
            "type": "heatmapgl"
           }
          ],
          "histogram": [
           {
            "marker": {
             "pattern": {
              "fillmode": "overlay",
              "size": 10,
              "solidity": 0.2
             }
            },
            "type": "histogram"
           }
          ],
          "histogram2d": [
           {
            "colorbar": {
             "outlinewidth": 0,
             "ticks": ""
            },
            "colorscale": [
             [
              0,
              "#0d0887"
             ],
             [
              0.1111111111111111,
              "#46039f"
             ],
             [
              0.2222222222222222,
              "#7201a8"
             ],
             [
              0.3333333333333333,
              "#9c179e"
             ],
             [
              0.4444444444444444,
              "#bd3786"
             ],
             [
              0.5555555555555556,
              "#d8576b"
             ],
             [
              0.6666666666666666,
              "#ed7953"
             ],
             [
              0.7777777777777778,
              "#fb9f3a"
             ],
             [
              0.8888888888888888,
              "#fdca26"
             ],
             [
              1,
              "#f0f921"
             ]
            ],
            "type": "histogram2d"
           }
          ],
          "histogram2dcontour": [
           {
            "colorbar": {
             "outlinewidth": 0,
             "ticks": ""
            },
            "colorscale": [
             [
              0,
              "#0d0887"
             ],
             [
              0.1111111111111111,
              "#46039f"
             ],
             [
              0.2222222222222222,
              "#7201a8"
             ],
             [
              0.3333333333333333,
              "#9c179e"
             ],
             [
              0.4444444444444444,
              "#bd3786"
             ],
             [
              0.5555555555555556,
              "#d8576b"
             ],
             [
              0.6666666666666666,
              "#ed7953"
             ],
             [
              0.7777777777777778,
              "#fb9f3a"
             ],
             [
              0.8888888888888888,
              "#fdca26"
             ],
             [
              1,
              "#f0f921"
             ]
            ],
            "type": "histogram2dcontour"
           }
          ],
          "mesh3d": [
           {
            "colorbar": {
             "outlinewidth": 0,
             "ticks": ""
            },
            "type": "mesh3d"
           }
          ],
          "parcoords": [
           {
            "line": {
             "colorbar": {
              "outlinewidth": 0,
              "ticks": ""
             }
            },
            "type": "parcoords"
           }
          ],
          "pie": [
           {
            "automargin": true,
            "type": "pie"
           }
          ],
          "scatter": [
           {
            "fillpattern": {
             "fillmode": "overlay",
             "size": 10,
             "solidity": 0.2
            },
            "type": "scatter"
           }
          ],
          "scatter3d": [
           {
            "line": {
             "colorbar": {
              "outlinewidth": 0,
              "ticks": ""
             }
            },
            "marker": {
             "colorbar": {
              "outlinewidth": 0,
              "ticks": ""
             }
            },
            "type": "scatter3d"
           }
          ],
          "scattercarpet": [
           {
            "marker": {
             "colorbar": {
              "outlinewidth": 0,
              "ticks": ""
             }
            },
            "type": "scattercarpet"
           }
          ],
          "scattergeo": [
           {
            "marker": {
             "colorbar": {
              "outlinewidth": 0,
              "ticks": ""
             }
            },
            "type": "scattergeo"
           }
          ],
          "scattergl": [
           {
            "marker": {
             "colorbar": {
              "outlinewidth": 0,
              "ticks": ""
             }
            },
            "type": "scattergl"
           }
          ],
          "scattermapbox": [
           {
            "marker": {
             "colorbar": {
              "outlinewidth": 0,
              "ticks": ""
             }
            },
            "type": "scattermapbox"
           }
          ],
          "scatterpolar": [
           {
            "marker": {
             "colorbar": {
              "outlinewidth": 0,
              "ticks": ""
             }
            },
            "type": "scatterpolar"
           }
          ],
          "scatterpolargl": [
           {
            "marker": {
             "colorbar": {
              "outlinewidth": 0,
              "ticks": ""
             }
            },
            "type": "scatterpolargl"
           }
          ],
          "scatterternary": [
           {
            "marker": {
             "colorbar": {
              "outlinewidth": 0,
              "ticks": ""
             }
            },
            "type": "scatterternary"
           }
          ],
          "surface": [
           {
            "colorbar": {
             "outlinewidth": 0,
             "ticks": ""
            },
            "colorscale": [
             [
              0,
              "#0d0887"
             ],
             [
              0.1111111111111111,
              "#46039f"
             ],
             [
              0.2222222222222222,
              "#7201a8"
             ],
             [
              0.3333333333333333,
              "#9c179e"
             ],
             [
              0.4444444444444444,
              "#bd3786"
             ],
             [
              0.5555555555555556,
              "#d8576b"
             ],
             [
              0.6666666666666666,
              "#ed7953"
             ],
             [
              0.7777777777777778,
              "#fb9f3a"
             ],
             [
              0.8888888888888888,
              "#fdca26"
             ],
             [
              1,
              "#f0f921"
             ]
            ],
            "type": "surface"
           }
          ],
          "table": [
           {
            "cells": {
             "fill": {
              "color": "#EBF0F8"
             },
             "line": {
              "color": "white"
             }
            },
            "header": {
             "fill": {
              "color": "#C8D4E3"
             },
             "line": {
              "color": "white"
             }
            },
            "type": "table"
           }
          ]
         },
         "layout": {
          "annotationdefaults": {
           "arrowcolor": "#2a3f5f",
           "arrowhead": 0,
           "arrowwidth": 1
          },
          "autotypenumbers": "strict",
          "coloraxis": {
           "colorbar": {
            "outlinewidth": 0,
            "ticks": ""
           }
          },
          "colorscale": {
           "diverging": [
            [
             0,
             "#8e0152"
            ],
            [
             0.1,
             "#c51b7d"
            ],
            [
             0.2,
             "#de77ae"
            ],
            [
             0.3,
             "#f1b6da"
            ],
            [
             0.4,
             "#fde0ef"
            ],
            [
             0.5,
             "#f7f7f7"
            ],
            [
             0.6,
             "#e6f5d0"
            ],
            [
             0.7,
             "#b8e186"
            ],
            [
             0.8,
             "#7fbc41"
            ],
            [
             0.9,
             "#4d9221"
            ],
            [
             1,
             "#276419"
            ]
           ],
           "sequential": [
            [
             0,
             "#0d0887"
            ],
            [
             0.1111111111111111,
             "#46039f"
            ],
            [
             0.2222222222222222,
             "#7201a8"
            ],
            [
             0.3333333333333333,
             "#9c179e"
            ],
            [
             0.4444444444444444,
             "#bd3786"
            ],
            [
             0.5555555555555556,
             "#d8576b"
            ],
            [
             0.6666666666666666,
             "#ed7953"
            ],
            [
             0.7777777777777778,
             "#fb9f3a"
            ],
            [
             0.8888888888888888,
             "#fdca26"
            ],
            [
             1,
             "#f0f921"
            ]
           ],
           "sequentialminus": [
            [
             0,
             "#0d0887"
            ],
            [
             0.1111111111111111,
             "#46039f"
            ],
            [
             0.2222222222222222,
             "#7201a8"
            ],
            [
             0.3333333333333333,
             "#9c179e"
            ],
            [
             0.4444444444444444,
             "#bd3786"
            ],
            [
             0.5555555555555556,
             "#d8576b"
            ],
            [
             0.6666666666666666,
             "#ed7953"
            ],
            [
             0.7777777777777778,
             "#fb9f3a"
            ],
            [
             0.8888888888888888,
             "#fdca26"
            ],
            [
             1,
             "#f0f921"
            ]
           ]
          },
          "colorway": [
           "#636efa",
           "#EF553B",
           "#00cc96",
           "#ab63fa",
           "#FFA15A",
           "#19d3f3",
           "#FF6692",
           "#B6E880",
           "#FF97FF",
           "#FECB52"
          ],
          "font": {
           "color": "#2a3f5f"
          },
          "geo": {
           "bgcolor": "white",
           "lakecolor": "white",
           "landcolor": "#E5ECF6",
           "showlakes": true,
           "showland": true,
           "subunitcolor": "white"
          },
          "hoverlabel": {
           "align": "left"
          },
          "hovermode": "closest",
          "mapbox": {
           "style": "light"
          },
          "paper_bgcolor": "white",
          "plot_bgcolor": "#E5ECF6",
          "polar": {
           "angularaxis": {
            "gridcolor": "white",
            "linecolor": "white",
            "ticks": ""
           },
           "bgcolor": "#E5ECF6",
           "radialaxis": {
            "gridcolor": "white",
            "linecolor": "white",
            "ticks": ""
           }
          },
          "scene": {
           "xaxis": {
            "backgroundcolor": "#E5ECF6",
            "gridcolor": "white",
            "gridwidth": 2,
            "linecolor": "white",
            "showbackground": true,
            "ticks": "",
            "zerolinecolor": "white"
           },
           "yaxis": {
            "backgroundcolor": "#E5ECF6",
            "gridcolor": "white",
            "gridwidth": 2,
            "linecolor": "white",
            "showbackground": true,
            "ticks": "",
            "zerolinecolor": "white"
           },
           "zaxis": {
            "backgroundcolor": "#E5ECF6",
            "gridcolor": "white",
            "gridwidth": 2,
            "linecolor": "white",
            "showbackground": true,
            "ticks": "",
            "zerolinecolor": "white"
           }
          },
          "shapedefaults": {
           "line": {
            "color": "#2a3f5f"
           }
          },
          "ternary": {
           "aaxis": {
            "gridcolor": "white",
            "linecolor": "white",
            "ticks": ""
           },
           "baxis": {
            "gridcolor": "white",
            "linecolor": "white",
            "ticks": ""
           },
           "bgcolor": "#E5ECF6",
           "caxis": {
            "gridcolor": "white",
            "linecolor": "white",
            "ticks": ""
           }
          },
          "title": {
           "x": 0.05
          },
          "xaxis": {
           "automargin": true,
           "gridcolor": "white",
           "linecolor": "white",
           "ticks": "",
           "title": {
            "standoff": 15
           },
           "zerolinecolor": "white",
           "zerolinewidth": 2
          },
          "yaxis": {
           "automargin": true,
           "gridcolor": "white",
           "linecolor": "white",
           "ticks": "",
           "title": {
            "standoff": 15
           },
           "zerolinecolor": "white",
           "zerolinewidth": 2
          }
         }
        },
        "title": {
         "text": "Optimization History Plot"
        },
        "xaxis": {
         "title": {
          "text": "Trial"
         }
        },
        "yaxis": {
         "title": {
          "text": "Objective Value"
         }
        }
       }
      }
     },
     "metadata": {},
     "output_type": "display_data"
    }
   ],
   "source": [
    "# Visualizing optimization\n",
    "optuna.visualization.plot_optimization_history(study)"
   ]
  },
  {
   "cell_type": "code",
   "execution_count": 8,
   "metadata": {},
   "outputs": [
    {
     "data": {
      "application/vnd.plotly.v1+json": {
       "config": {
        "plotlyServerURL": "https://plot.ly"
       },
       "data": [
        {
         "marker": {
          "color": [
           0,
           1,
           2,
           3,
           4,
           5,
           6,
           7,
           8,
           9,
           10,
           11,
           12,
           13,
           14,
           15,
           16,
           17,
           18,
           19,
           20,
           21,
           22,
           23,
           24,
           25,
           26,
           27,
           28,
           29,
           30,
           31,
           32,
           33,
           34,
           35,
           36,
           37,
           38,
           39,
           40,
           41,
           42,
           43,
           44,
           45,
           46,
           47,
           48,
           49,
           50,
           51,
           52,
           53,
           54,
           55,
           56,
           57,
           58,
           59,
           60,
           61,
           62,
           63,
           64,
           65,
           66,
           67,
           68,
           69,
           70,
           71,
           72,
           73,
           74,
           75,
           76,
           77,
           78,
           79,
           80,
           81,
           82,
           83,
           84,
           85,
           86,
           87,
           88,
           89,
           90,
           91,
           92,
           93,
           94,
           95,
           96,
           97,
           98,
           99
          ],
          "colorbar": {
           "title": {
            "text": "Trial"
           },
           "x": 1,
           "xpad": 40
          },
          "colorscale": [
           [
            0,
            "rgb(247,251,255)"
           ],
           [
            0.125,
            "rgb(222,235,247)"
           ],
           [
            0.25,
            "rgb(198,219,239)"
           ],
           [
            0.375,
            "rgb(158,202,225)"
           ],
           [
            0.5,
            "rgb(107,174,214)"
           ],
           [
            0.625,
            "rgb(66,146,198)"
           ],
           [
            0.75,
            "rgb(33,113,181)"
           ],
           [
            0.875,
            "rgb(8,81,156)"
           ],
           [
            1,
            "rgb(8,48,107)"
           ]
          ],
          "line": {
           "color": "Grey",
           "width": 0.5
          },
          "showscale": true
         },
         "mode": "markers",
         "name": "Feasible Trial",
         "showlegend": false,
         "type": "scatter",
         "x": [
          0.000516781902227192,
          16.2762734344627,
          0.0000156088238988655,
          0.0001166356215761153,
          2.1949046867677393,
          0.000021878934304454525,
          0.0000504369205073255,
          0.0017419027142563542,
          0.0017310137048475412,
          0.0001543281592172552,
          100,
          0.3237688719305148,
          0.44804021819181206,
          0.4509418183758629,
          0.10976028383066071,
          0.262255929566722,
          0.27352406085516645,
          1.0884639492306214,
          1.1077727893100435,
          0.6975478852858341,
          0.04451205659239271,
          0.03825991566859775,
          0.04230702562890542,
          0.15902709571712023,
          0.016353880916231495,
          0.08634280280617417,
          0.011625545432596187,
          0.023460578965321634,
          0.7287366085085113,
          0.00001,
          0.7456752609797945,
          1.230277250175645,
          1.269533912352224,
          1.67821523578442,
          0.038047448269965166,
          0.0007267321874349218,
          0.7407947572427896,
          0.00001,
          1.961793193078955,
          2.0653366583773365,
          0.03859782153096773,
          0.8871965971838349,
          0.8889502743373402,
          0.017262364712737115,
          0.003946352840304646,
          3.8519138995862576,
          5.402668533455995,
          6.01139543399364,
          0.0011741997390523724,
          1.0187976602491382,
          2.8361008550669555,
          1.0941657513971779,
          0.5040465341917286,
          0.5136982008595019,
          0.5299282939221385,
          0.02868059000745162,
          0.00001,
          0.03678862304817198,
          0.2661609362538606,
          0.23944000114997074,
          0.057470097931463154,
          7.605861280196093,
          16.988844941769916,
          100,
          29.378885939375895,
          100,
          43.2429868129994,
          13.694432497158216,
          0.4892041387835136,
          10.785215941962637,
          0.18590810710465072,
          52.85548360725953,
          0.9108296355411785,
          0.000034597373300656514,
          0.541390822180876,
          0.0001047589630830025,
          0.0005192420872979665,
          100,
          100,
          0.02584318191015092,
          0.7193609610691318,
          24.562734401442167,
          0.9941831049910895,
          0.004893011695515985,
          11.480047318577732,
          100,
          0.6039771363839914,
          100,
          0.18670944227277997,
          8.718908757401321,
          5.041233779090936,
          0.9493441927207159,
          0.955448434407835,
          18.75921430456691,
          0.028644544047798353,
          1.6158414938427494,
          2.1279979717918542,
          49.724597973026334,
          0.000010123060356577581,
          1.1142175473862892
         ],
         "xaxis": "x",
         "y": [
          0.8830700549450551,
          0.8635989010989011,
          0.8853021978021978,
          0.8897664835164836,
          0.8917925824175823,
          0.8894230769230769,
          0.8894230769230769,
          0.8830700549450551,
          0.8889423076923076,
          0.8889423076923076,
          0.808653846153846,
          0.8984890109890109,
          0.913083791208791,
          0.9091002747252748,
          0.9115384615384615,
          0.9008585164835166,
          0.9116071428571427,
          0.9139423076923077,
          0.8986263736263738,
          0.9104395604395604,
          0.9157623626373628,
          0.9126717032967034,
          0.8940247252747253,
          0.9079326923076924,
          0.9106112637362637,
          0.9079670329670328,
          0.9086195054945054,
          0.8876030219780219,
          0.9152472527472527,
          0.8897664835164836,
          0.9160714285714284,
          0.9139079670329672,
          0.9100274725274724,
          0.9096153846153847,
          0.9122252747252746,
          0.8894230769230769,
          0.917032967032967,
          0.8889423076923076,
          0.9113324175824176,
          0.9124656593406595,
          0.8844093406593407,
          0.9165865384615385,
          0.9148008241758241,
          0.8893887362637362,
          0.8971497252747251,
          0.9109546703296705,
          0.9114010989010991,
          0.882245879120879,
          0.8871565934065935,
          0.9111607142857142,
          0.9109890109890111,
          0.9070398351648352,
          0.9157280219780219,
          0.9156936813186812,
          0.9134958791208792,
          0.9121222527472528,
          0.8889766483516484,
          0.9135645604395604,
          0.9125343406593409,
          0.9101991758241759,
          0.9111607142857141,
          0.9127747252747254,
          0.9123282967032967,
          0.9114697802197803,
          0.9114354395604396,
          0.9114697802197803,
          0.9114354395604396,
          0.9123282967032967,
          0.9013736263736265,
          0.9127747252747254,
          0.8942994505494506,
          0.910989010989011,
          0.8888049450549451,
          0.8871565934065935,
          0.9109546703296705,
          0.8830700549450551,
          0.888495879120879,
          0.9114697802197803,
          0.8737637362637362,
          0.9084478021978022,
          0.9147321428571429,
          0.9118818681318682,
          0.9147664835164836,
          0.8906936813186814,
          0.9132211538461539,
          0.8325206043956044,
          0.9116071428571427,
          0.9114697802197803,
          0.9060096153846153,
          0.9127747252747254,
          0.9118475274725275,
          0.917032967032967,
          0.9121222527472528,
          0.9123282967032967,
          0.9121222527472528,
          0.9055631868131867,
          0.9105425824175825,
          0.910989010989011,
          0.8844436813186813,
          0.9148351648351648
         ],
         "yaxis": "y"
        },
        {
         "marker": {
          "color": [
           0,
           1,
           2,
           3,
           4,
           5,
           6,
           7,
           8,
           9,
           10,
           11,
           12,
           13,
           14,
           15,
           16,
           17,
           18,
           19,
           20,
           21,
           22,
           23,
           24,
           25,
           26,
           27,
           28,
           29,
           30,
           31,
           32,
           33,
           34,
           35,
           36,
           37,
           38,
           39,
           40,
           41,
           42,
           43,
           44,
           45,
           46,
           47,
           48,
           49,
           50,
           51,
           52,
           53,
           54,
           55,
           56,
           57,
           58,
           59,
           60,
           61,
           62,
           63,
           64,
           65,
           66,
           67,
           68,
           69,
           70,
           71,
           72,
           73,
           74,
           75,
           76,
           77,
           78,
           79,
           80,
           81,
           82,
           83,
           84,
           85,
           86,
           87,
           88,
           89,
           90,
           91,
           92,
           93,
           94,
           95,
           96,
           97,
           98,
           99
          ],
          "colorbar": {
           "title": {
            "text": "Trial"
           },
           "x": 1,
           "xpad": 40
          },
          "colorscale": [
           [
            0,
            "rgb(247,251,255)"
           ],
           [
            0.125,
            "rgb(222,235,247)"
           ],
           [
            0.25,
            "rgb(198,219,239)"
           ],
           [
            0.375,
            "rgb(158,202,225)"
           ],
           [
            0.5,
            "rgb(107,174,214)"
           ],
           [
            0.625,
            "rgb(66,146,198)"
           ],
           [
            0.75,
            "rgb(33,113,181)"
           ],
           [
            0.875,
            "rgb(8,81,156)"
           ],
           [
            1,
            "rgb(8,48,107)"
           ]
          ],
          "line": {
           "color": "Grey",
           "width": 0.5
          },
          "showscale": false
         },
         "mode": "markers",
         "name": "Feasible Trial",
         "showlegend": false,
         "type": "scatter",
         "x": [
          "auto",
          "auto",
          "scale",
          "auto",
          "auto",
          "scale",
          "auto",
          "scale",
          "auto",
          "auto",
          "auto",
          "auto",
          "scale",
          "scale",
          "scale",
          "scale",
          "scale",
          "scale",
          "scale",
          "auto",
          "auto",
          "scale",
          "auto",
          "auto",
          "auto",
          "scale",
          "scale",
          "scale",
          "scale",
          "auto",
          "scale",
          "scale",
          "auto",
          "scale",
          "auto",
          "scale",
          "scale",
          "scale",
          "auto",
          "scale",
          "auto",
          "scale",
          "scale",
          "scale",
          "auto",
          "auto",
          "scale",
          "scale",
          "scale",
          "scale",
          "scale",
          "auto",
          "scale",
          "scale",
          "scale",
          "scale",
          "auto",
          "auto",
          "scale",
          "auto",
          "auto",
          "auto",
          "scale",
          "auto",
          "auto",
          "scale",
          "scale",
          "auto",
          "auto",
          "scale",
          "scale",
          "auto",
          "scale",
          "scale",
          "auto",
          "scale",
          "scale",
          "scale",
          "auto",
          "auto",
          "scale",
          "scale",
          "scale",
          "auto",
          "auto",
          "scale",
          "scale",
          "auto",
          "scale",
          "scale",
          "auto",
          "scale",
          "scale",
          "auto",
          "scale",
          "auto",
          "auto",
          "scale",
          "auto",
          "scale"
         ],
         "xaxis": "x2",
         "y": [
          0.8830700549450551,
          0.8635989010989011,
          0.8853021978021978,
          0.8897664835164836,
          0.8917925824175823,
          0.8894230769230769,
          0.8894230769230769,
          0.8830700549450551,
          0.8889423076923076,
          0.8889423076923076,
          0.808653846153846,
          0.8984890109890109,
          0.913083791208791,
          0.9091002747252748,
          0.9115384615384615,
          0.9008585164835166,
          0.9116071428571427,
          0.9139423076923077,
          0.8986263736263738,
          0.9104395604395604,
          0.9157623626373628,
          0.9126717032967034,
          0.8940247252747253,
          0.9079326923076924,
          0.9106112637362637,
          0.9079670329670328,
          0.9086195054945054,
          0.8876030219780219,
          0.9152472527472527,
          0.8897664835164836,
          0.9160714285714284,
          0.9139079670329672,
          0.9100274725274724,
          0.9096153846153847,
          0.9122252747252746,
          0.8894230769230769,
          0.917032967032967,
          0.8889423076923076,
          0.9113324175824176,
          0.9124656593406595,
          0.8844093406593407,
          0.9165865384615385,
          0.9148008241758241,
          0.8893887362637362,
          0.8971497252747251,
          0.9109546703296705,
          0.9114010989010991,
          0.882245879120879,
          0.8871565934065935,
          0.9111607142857142,
          0.9109890109890111,
          0.9070398351648352,
          0.9157280219780219,
          0.9156936813186812,
          0.9134958791208792,
          0.9121222527472528,
          0.8889766483516484,
          0.9135645604395604,
          0.9125343406593409,
          0.9101991758241759,
          0.9111607142857141,
          0.9127747252747254,
          0.9123282967032967,
          0.9114697802197803,
          0.9114354395604396,
          0.9114697802197803,
          0.9114354395604396,
          0.9123282967032967,
          0.9013736263736265,
          0.9127747252747254,
          0.8942994505494506,
          0.910989010989011,
          0.8888049450549451,
          0.8871565934065935,
          0.9109546703296705,
          0.8830700549450551,
          0.888495879120879,
          0.9114697802197803,
          0.8737637362637362,
          0.9084478021978022,
          0.9147321428571429,
          0.9118818681318682,
          0.9147664835164836,
          0.8906936813186814,
          0.9132211538461539,
          0.8325206043956044,
          0.9116071428571427,
          0.9114697802197803,
          0.9060096153846153,
          0.9127747252747254,
          0.9118475274725275,
          0.917032967032967,
          0.9121222527472528,
          0.9123282967032967,
          0.9121222527472528,
          0.9055631868131867,
          0.9105425824175825,
          0.910989010989011,
          0.8844436813186813,
          0.9148351648351648
         ],
         "yaxis": "y2"
        },
        {
         "marker": {
          "color": [
           0,
           1,
           2,
           3,
           4,
           5,
           6,
           7,
           8,
           9,
           10,
           11,
           12,
           13,
           14,
           15,
           16,
           17,
           18,
           19,
           20,
           21,
           22,
           23,
           24,
           25,
           26,
           27,
           28,
           29,
           30,
           31,
           32,
           33,
           34,
           35,
           36,
           37,
           38,
           39,
           40,
           41,
           42,
           43,
           44,
           45,
           46,
           47,
           48,
           49,
           50,
           51,
           52,
           53,
           54,
           55,
           56,
           57,
           58,
           59,
           60,
           61,
           62,
           63,
           64,
           65,
           66,
           67,
           68,
           69,
           70,
           71,
           72,
           73,
           74,
           75,
           76,
           77,
           78,
           79,
           80,
           81,
           82,
           83,
           84,
           85,
           86,
           87,
           88,
           89,
           90,
           91,
           92,
           93,
           94,
           95,
           96,
           97,
           98,
           99
          ],
          "colorbar": {
           "title": {
            "text": "Trial"
           },
           "x": 1,
           "xpad": 40
          },
          "colorscale": [
           [
            0,
            "rgb(247,251,255)"
           ],
           [
            0.125,
            "rgb(222,235,247)"
           ],
           [
            0.25,
            "rgb(198,219,239)"
           ],
           [
            0.375,
            "rgb(158,202,225)"
           ],
           [
            0.5,
            "rgb(107,174,214)"
           ],
           [
            0.625,
            "rgb(66,146,198)"
           ],
           [
            0.75,
            "rgb(33,113,181)"
           ],
           [
            0.875,
            "rgb(8,81,156)"
           ],
           [
            1,
            "rgb(8,48,107)"
           ]
          ],
          "line": {
           "color": "Grey",
           "width": 0.5
          },
          "showscale": false
         },
         "mode": "markers",
         "name": "Feasible Trial",
         "showlegend": false,
         "type": "scatter",
         "x": [
          "poly",
          "rbf",
          "poly",
          "rbf",
          "poly",
          "linear",
          "linear",
          "poly",
          "sigmoid",
          "sigmoid",
          "poly",
          "rbf",
          "sigmoid",
          "linear",
          "sigmoid",
          "poly",
          "sigmoid",
          "sigmoid",
          "rbf",
          "sigmoid",
          "linear",
          "linear",
          "sigmoid",
          "linear",
          "linear",
          "linear",
          "linear",
          "rbf",
          "sigmoid",
          "rbf",
          "sigmoid",
          "sigmoid",
          "linear",
          "linear",
          "linear",
          "linear",
          "sigmoid",
          "sigmoid",
          "sigmoid",
          "sigmoid",
          "poly",
          "sigmoid",
          "sigmoid",
          "sigmoid",
          "linear",
          "linear",
          "linear",
          "sigmoid",
          "rbf",
          "sigmoid",
          "linear",
          "sigmoid",
          "sigmoid",
          "sigmoid",
          "sigmoid",
          "linear",
          "linear",
          "linear",
          "sigmoid",
          "sigmoid",
          "linear",
          "linear",
          "linear",
          "linear",
          "linear",
          "linear",
          "linear",
          "linear",
          "poly",
          "linear",
          "rbf",
          "linear",
          "poly",
          "rbf",
          "linear",
          "poly",
          "sigmoid",
          "linear",
          "sigmoid",
          "linear",
          "sigmoid",
          "linear",
          "sigmoid",
          "rbf",
          "linear",
          "rbf",
          "sigmoid",
          "linear",
          "sigmoid",
          "linear",
          "linear",
          "sigmoid",
          "sigmoid",
          "linear",
          "linear",
          "rbf",
          "linear",
          "linear",
          "poly",
          "sigmoid"
         ],
         "xaxis": "x3",
         "y": [
          0.8830700549450551,
          0.8635989010989011,
          0.8853021978021978,
          0.8897664835164836,
          0.8917925824175823,
          0.8894230769230769,
          0.8894230769230769,
          0.8830700549450551,
          0.8889423076923076,
          0.8889423076923076,
          0.808653846153846,
          0.8984890109890109,
          0.913083791208791,
          0.9091002747252748,
          0.9115384615384615,
          0.9008585164835166,
          0.9116071428571427,
          0.9139423076923077,
          0.8986263736263738,
          0.9104395604395604,
          0.9157623626373628,
          0.9126717032967034,
          0.8940247252747253,
          0.9079326923076924,
          0.9106112637362637,
          0.9079670329670328,
          0.9086195054945054,
          0.8876030219780219,
          0.9152472527472527,
          0.8897664835164836,
          0.9160714285714284,
          0.9139079670329672,
          0.9100274725274724,
          0.9096153846153847,
          0.9122252747252746,
          0.8894230769230769,
          0.917032967032967,
          0.8889423076923076,
          0.9113324175824176,
          0.9124656593406595,
          0.8844093406593407,
          0.9165865384615385,
          0.9148008241758241,
          0.8893887362637362,
          0.8971497252747251,
          0.9109546703296705,
          0.9114010989010991,
          0.882245879120879,
          0.8871565934065935,
          0.9111607142857142,
          0.9109890109890111,
          0.9070398351648352,
          0.9157280219780219,
          0.9156936813186812,
          0.9134958791208792,
          0.9121222527472528,
          0.8889766483516484,
          0.9135645604395604,
          0.9125343406593409,
          0.9101991758241759,
          0.9111607142857141,
          0.9127747252747254,
          0.9123282967032967,
          0.9114697802197803,
          0.9114354395604396,
          0.9114697802197803,
          0.9114354395604396,
          0.9123282967032967,
          0.9013736263736265,
          0.9127747252747254,
          0.8942994505494506,
          0.910989010989011,
          0.8888049450549451,
          0.8871565934065935,
          0.9109546703296705,
          0.8830700549450551,
          0.888495879120879,
          0.9114697802197803,
          0.8737637362637362,
          0.9084478021978022,
          0.9147321428571429,
          0.9118818681318682,
          0.9147664835164836,
          0.8906936813186814,
          0.9132211538461539,
          0.8325206043956044,
          0.9116071428571427,
          0.9114697802197803,
          0.9060096153846153,
          0.9127747252747254,
          0.9118475274725275,
          0.917032967032967,
          0.9121222527472528,
          0.9123282967032967,
          0.9121222527472528,
          0.9055631868131867,
          0.9105425824175825,
          0.910989010989011,
          0.8844436813186813,
          0.9148351648351648
         ],
         "yaxis": "y3"
        }
       ],
       "layout": {
        "template": {
         "data": {
          "bar": [
           {
            "error_x": {
             "color": "#2a3f5f"
            },
            "error_y": {
             "color": "#2a3f5f"
            },
            "marker": {
             "line": {
              "color": "#E5ECF6",
              "width": 0.5
             },
             "pattern": {
              "fillmode": "overlay",
              "size": 10,
              "solidity": 0.2
             }
            },
            "type": "bar"
           }
          ],
          "barpolar": [
           {
            "marker": {
             "line": {
              "color": "#E5ECF6",
              "width": 0.5
             },
             "pattern": {
              "fillmode": "overlay",
              "size": 10,
              "solidity": 0.2
             }
            },
            "type": "barpolar"
           }
          ],
          "carpet": [
           {
            "aaxis": {
             "endlinecolor": "#2a3f5f",
             "gridcolor": "white",
             "linecolor": "white",
             "minorgridcolor": "white",
             "startlinecolor": "#2a3f5f"
            },
            "baxis": {
             "endlinecolor": "#2a3f5f",
             "gridcolor": "white",
             "linecolor": "white",
             "minorgridcolor": "white",
             "startlinecolor": "#2a3f5f"
            },
            "type": "carpet"
           }
          ],
          "choropleth": [
           {
            "colorbar": {
             "outlinewidth": 0,
             "ticks": ""
            },
            "type": "choropleth"
           }
          ],
          "contour": [
           {
            "colorbar": {
             "outlinewidth": 0,
             "ticks": ""
            },
            "colorscale": [
             [
              0,
              "#0d0887"
             ],
             [
              0.1111111111111111,
              "#46039f"
             ],
             [
              0.2222222222222222,
              "#7201a8"
             ],
             [
              0.3333333333333333,
              "#9c179e"
             ],
             [
              0.4444444444444444,
              "#bd3786"
             ],
             [
              0.5555555555555556,
              "#d8576b"
             ],
             [
              0.6666666666666666,
              "#ed7953"
             ],
             [
              0.7777777777777778,
              "#fb9f3a"
             ],
             [
              0.8888888888888888,
              "#fdca26"
             ],
             [
              1,
              "#f0f921"
             ]
            ],
            "type": "contour"
           }
          ],
          "contourcarpet": [
           {
            "colorbar": {
             "outlinewidth": 0,
             "ticks": ""
            },
            "type": "contourcarpet"
           }
          ],
          "heatmap": [
           {
            "colorbar": {
             "outlinewidth": 0,
             "ticks": ""
            },
            "colorscale": [
             [
              0,
              "#0d0887"
             ],
             [
              0.1111111111111111,
              "#46039f"
             ],
             [
              0.2222222222222222,
              "#7201a8"
             ],
             [
              0.3333333333333333,
              "#9c179e"
             ],
             [
              0.4444444444444444,
              "#bd3786"
             ],
             [
              0.5555555555555556,
              "#d8576b"
             ],
             [
              0.6666666666666666,
              "#ed7953"
             ],
             [
              0.7777777777777778,
              "#fb9f3a"
             ],
             [
              0.8888888888888888,
              "#fdca26"
             ],
             [
              1,
              "#f0f921"
             ]
            ],
            "type": "heatmap"
           }
          ],
          "heatmapgl": [
           {
            "colorbar": {
             "outlinewidth": 0,
             "ticks": ""
            },
            "colorscale": [
             [
              0,
              "#0d0887"
             ],
             [
              0.1111111111111111,
              "#46039f"
             ],
             [
              0.2222222222222222,
              "#7201a8"
             ],
             [
              0.3333333333333333,
              "#9c179e"
             ],
             [
              0.4444444444444444,
              "#bd3786"
             ],
             [
              0.5555555555555556,
              "#d8576b"
             ],
             [
              0.6666666666666666,
              "#ed7953"
             ],
             [
              0.7777777777777778,
              "#fb9f3a"
             ],
             [
              0.8888888888888888,
              "#fdca26"
             ],
             [
              1,
              "#f0f921"
             ]
            ],
            "type": "heatmapgl"
           }
          ],
          "histogram": [
           {
            "marker": {
             "pattern": {
              "fillmode": "overlay",
              "size": 10,
              "solidity": 0.2
             }
            },
            "type": "histogram"
           }
          ],
          "histogram2d": [
           {
            "colorbar": {
             "outlinewidth": 0,
             "ticks": ""
            },
            "colorscale": [
             [
              0,
              "#0d0887"
             ],
             [
              0.1111111111111111,
              "#46039f"
             ],
             [
              0.2222222222222222,
              "#7201a8"
             ],
             [
              0.3333333333333333,
              "#9c179e"
             ],
             [
              0.4444444444444444,
              "#bd3786"
             ],
             [
              0.5555555555555556,
              "#d8576b"
             ],
             [
              0.6666666666666666,
              "#ed7953"
             ],
             [
              0.7777777777777778,
              "#fb9f3a"
             ],
             [
              0.8888888888888888,
              "#fdca26"
             ],
             [
              1,
              "#f0f921"
             ]
            ],
            "type": "histogram2d"
           }
          ],
          "histogram2dcontour": [
           {
            "colorbar": {
             "outlinewidth": 0,
             "ticks": ""
            },
            "colorscale": [
             [
              0,
              "#0d0887"
             ],
             [
              0.1111111111111111,
              "#46039f"
             ],
             [
              0.2222222222222222,
              "#7201a8"
             ],
             [
              0.3333333333333333,
              "#9c179e"
             ],
             [
              0.4444444444444444,
              "#bd3786"
             ],
             [
              0.5555555555555556,
              "#d8576b"
             ],
             [
              0.6666666666666666,
              "#ed7953"
             ],
             [
              0.7777777777777778,
              "#fb9f3a"
             ],
             [
              0.8888888888888888,
              "#fdca26"
             ],
             [
              1,
              "#f0f921"
             ]
            ],
            "type": "histogram2dcontour"
           }
          ],
          "mesh3d": [
           {
            "colorbar": {
             "outlinewidth": 0,
             "ticks": ""
            },
            "type": "mesh3d"
           }
          ],
          "parcoords": [
           {
            "line": {
             "colorbar": {
              "outlinewidth": 0,
              "ticks": ""
             }
            },
            "type": "parcoords"
           }
          ],
          "pie": [
           {
            "automargin": true,
            "type": "pie"
           }
          ],
          "scatter": [
           {
            "fillpattern": {
             "fillmode": "overlay",
             "size": 10,
             "solidity": 0.2
            },
            "type": "scatter"
           }
          ],
          "scatter3d": [
           {
            "line": {
             "colorbar": {
              "outlinewidth": 0,
              "ticks": ""
             }
            },
            "marker": {
             "colorbar": {
              "outlinewidth": 0,
              "ticks": ""
             }
            },
            "type": "scatter3d"
           }
          ],
          "scattercarpet": [
           {
            "marker": {
             "colorbar": {
              "outlinewidth": 0,
              "ticks": ""
             }
            },
            "type": "scattercarpet"
           }
          ],
          "scattergeo": [
           {
            "marker": {
             "colorbar": {
              "outlinewidth": 0,
              "ticks": ""
             }
            },
            "type": "scattergeo"
           }
          ],
          "scattergl": [
           {
            "marker": {
             "colorbar": {
              "outlinewidth": 0,
              "ticks": ""
             }
            },
            "type": "scattergl"
           }
          ],
          "scattermapbox": [
           {
            "marker": {
             "colorbar": {
              "outlinewidth": 0,
              "ticks": ""
             }
            },
            "type": "scattermapbox"
           }
          ],
          "scatterpolar": [
           {
            "marker": {
             "colorbar": {
              "outlinewidth": 0,
              "ticks": ""
             }
            },
            "type": "scatterpolar"
           }
          ],
          "scatterpolargl": [
           {
            "marker": {
             "colorbar": {
              "outlinewidth": 0,
              "ticks": ""
             }
            },
            "type": "scatterpolargl"
           }
          ],
          "scatterternary": [
           {
            "marker": {
             "colorbar": {
              "outlinewidth": 0,
              "ticks": ""
             }
            },
            "type": "scatterternary"
           }
          ],
          "surface": [
           {
            "colorbar": {
             "outlinewidth": 0,
             "ticks": ""
            },
            "colorscale": [
             [
              0,
              "#0d0887"
             ],
             [
              0.1111111111111111,
              "#46039f"
             ],
             [
              0.2222222222222222,
              "#7201a8"
             ],
             [
              0.3333333333333333,
              "#9c179e"
             ],
             [
              0.4444444444444444,
              "#bd3786"
             ],
             [
              0.5555555555555556,
              "#d8576b"
             ],
             [
              0.6666666666666666,
              "#ed7953"
             ],
             [
              0.7777777777777778,
              "#fb9f3a"
             ],
             [
              0.8888888888888888,
              "#fdca26"
             ],
             [
              1,
              "#f0f921"
             ]
            ],
            "type": "surface"
           }
          ],
          "table": [
           {
            "cells": {
             "fill": {
              "color": "#EBF0F8"
             },
             "line": {
              "color": "white"
             }
            },
            "header": {
             "fill": {
              "color": "#C8D4E3"
             },
             "line": {
              "color": "white"
             }
            },
            "type": "table"
           }
          ]
         },
         "layout": {
          "annotationdefaults": {
           "arrowcolor": "#2a3f5f",
           "arrowhead": 0,
           "arrowwidth": 1
          },
          "autotypenumbers": "strict",
          "coloraxis": {
           "colorbar": {
            "outlinewidth": 0,
            "ticks": ""
           }
          },
          "colorscale": {
           "diverging": [
            [
             0,
             "#8e0152"
            ],
            [
             0.1,
             "#c51b7d"
            ],
            [
             0.2,
             "#de77ae"
            ],
            [
             0.3,
             "#f1b6da"
            ],
            [
             0.4,
             "#fde0ef"
            ],
            [
             0.5,
             "#f7f7f7"
            ],
            [
             0.6,
             "#e6f5d0"
            ],
            [
             0.7,
             "#b8e186"
            ],
            [
             0.8,
             "#7fbc41"
            ],
            [
             0.9,
             "#4d9221"
            ],
            [
             1,
             "#276419"
            ]
           ],
           "sequential": [
            [
             0,
             "#0d0887"
            ],
            [
             0.1111111111111111,
             "#46039f"
            ],
            [
             0.2222222222222222,
             "#7201a8"
            ],
            [
             0.3333333333333333,
             "#9c179e"
            ],
            [
             0.4444444444444444,
             "#bd3786"
            ],
            [
             0.5555555555555556,
             "#d8576b"
            ],
            [
             0.6666666666666666,
             "#ed7953"
            ],
            [
             0.7777777777777778,
             "#fb9f3a"
            ],
            [
             0.8888888888888888,
             "#fdca26"
            ],
            [
             1,
             "#f0f921"
            ]
           ],
           "sequentialminus": [
            [
             0,
             "#0d0887"
            ],
            [
             0.1111111111111111,
             "#46039f"
            ],
            [
             0.2222222222222222,
             "#7201a8"
            ],
            [
             0.3333333333333333,
             "#9c179e"
            ],
            [
             0.4444444444444444,
             "#bd3786"
            ],
            [
             0.5555555555555556,
             "#d8576b"
            ],
            [
             0.6666666666666666,
             "#ed7953"
            ],
            [
             0.7777777777777778,
             "#fb9f3a"
            ],
            [
             0.8888888888888888,
             "#fdca26"
            ],
            [
             1,
             "#f0f921"
            ]
           ]
          },
          "colorway": [
           "#636efa",
           "#EF553B",
           "#00cc96",
           "#ab63fa",
           "#FFA15A",
           "#19d3f3",
           "#FF6692",
           "#B6E880",
           "#FF97FF",
           "#FECB52"
          ],
          "font": {
           "color": "#2a3f5f"
          },
          "geo": {
           "bgcolor": "white",
           "lakecolor": "white",
           "landcolor": "#E5ECF6",
           "showlakes": true,
           "showland": true,
           "subunitcolor": "white"
          },
          "hoverlabel": {
           "align": "left"
          },
          "hovermode": "closest",
          "mapbox": {
           "style": "light"
          },
          "paper_bgcolor": "white",
          "plot_bgcolor": "#E5ECF6",
          "polar": {
           "angularaxis": {
            "gridcolor": "white",
            "linecolor": "white",
            "ticks": ""
           },
           "bgcolor": "#E5ECF6",
           "radialaxis": {
            "gridcolor": "white",
            "linecolor": "white",
            "ticks": ""
           }
          },
          "scene": {
           "xaxis": {
            "backgroundcolor": "#E5ECF6",
            "gridcolor": "white",
            "gridwidth": 2,
            "linecolor": "white",
            "showbackground": true,
            "ticks": "",
            "zerolinecolor": "white"
           },
           "yaxis": {
            "backgroundcolor": "#E5ECF6",
            "gridcolor": "white",
            "gridwidth": 2,
            "linecolor": "white",
            "showbackground": true,
            "ticks": "",
            "zerolinecolor": "white"
           },
           "zaxis": {
            "backgroundcolor": "#E5ECF6",
            "gridcolor": "white",
            "gridwidth": 2,
            "linecolor": "white",
            "showbackground": true,
            "ticks": "",
            "zerolinecolor": "white"
           }
          },
          "shapedefaults": {
           "line": {
            "color": "#2a3f5f"
           }
          },
          "ternary": {
           "aaxis": {
            "gridcolor": "white",
            "linecolor": "white",
            "ticks": ""
           },
           "baxis": {
            "gridcolor": "white",
            "linecolor": "white",
            "ticks": ""
           },
           "bgcolor": "#E5ECF6",
           "caxis": {
            "gridcolor": "white",
            "linecolor": "white",
            "ticks": ""
           }
          },
          "title": {
           "x": 0.05
          },
          "xaxis": {
           "automargin": true,
           "gridcolor": "white",
           "linecolor": "white",
           "ticks": "",
           "title": {
            "standoff": 15
           },
           "zerolinecolor": "white",
           "zerolinewidth": 2
          },
          "yaxis": {
           "automargin": true,
           "gridcolor": "white",
           "linecolor": "white",
           "ticks": "",
           "title": {
            "standoff": 15
           },
           "zerolinecolor": "white",
           "zerolinewidth": 2
          }
         }
        },
        "title": {
         "text": "Slice Plot"
        },
        "xaxis": {
         "anchor": "y",
         "domain": [
          0,
          0.2888888888888889
         ],
         "title": {
          "text": "C"
         },
         "type": "log"
        },
        "xaxis2": {
         "anchor": "y2",
         "categoryarray": [
          "scale",
          "auto"
         ],
         "categoryorder": "array",
         "domain": [
          0.35555555555555557,
          0.6444444444444445
         ],
         "title": {
          "text": "gamma"
         },
         "type": "category"
        },
        "xaxis3": {
         "anchor": "y3",
         "categoryarray": [
          "linear",
          "poly",
          "rbf",
          "sigmoid"
         ],
         "categoryorder": "array",
         "domain": [
          0.7111111111111111,
          1
         ],
         "title": {
          "text": "kernel"
         },
         "type": "category"
        },
        "yaxis": {
         "anchor": "x",
         "domain": [
          0,
          1
         ],
         "title": {
          "text": "Objective Value"
         }
        },
        "yaxis2": {
         "anchor": "x2",
         "domain": [
          0,
          1
         ],
         "matches": "y",
         "showticklabels": false
        },
        "yaxis3": {
         "anchor": "x3",
         "domain": [
          0,
          1
         ],
         "matches": "y",
         "showticklabels": false
        }
       }
      }
     },
     "metadata": {},
     "output_type": "display_data"
    }
   ],
   "source": [
    "optuna.visualization.plot_slice(study)"
   ]
  },
  {
   "cell_type": "code",
   "execution_count": 9,
   "metadata": {},
   "outputs": [
    {
     "name": "stderr",
     "output_type": "stream",
     "text": [
      "[codecarbon WARNING @ 14:17:07] Another instance of codecarbon is already running. Exiting.\n"
     ]
    },
    {
     "name": "stdout",
     "output_type": "stream",
     "text": [
      "Accuracy: 0.8448 ± 0.0512\n",
      "AUC-ROC: 0.9170 ± 0.0348\n"
     ]
    }
   ],
   "source": [
    "# Create optimized model\n",
    "best_params = trial.params\n",
    "model = svm.SVC(random_state=Random_Seed, probability=True, **best_params)\n",
    "\n",
    "# Define pipeline depending on whether PCA is requested or not\n",
    "if PC_Features:\n",
    "    steps = [\n",
    "        ('preprocessor', preprocessor),\n",
    "        ('pca', PCA(n_components=12)),\n",
    "        ('SVM-SVC-classifier', model)\n",
    "    ]\n",
    "else:\n",
    "    steps = [\n",
    "        ('preprocessor', preprocessor),\n",
    "        ('SVM-SVC-classifier', model)\n",
    "    ]\n",
    "    \n",
    "pipeline = Pipeline(steps)\n",
    "\n",
    "# Perform cross-validation\n",
    "cv_results = cross_validate(pipeline, X, y, scoring=['accuracy', 'roc_auc'], cv=K_Folds)\n",
    "\n",
    "# Calculate and display results\n",
    "acc = np.mean(cv_results['test_accuracy'])\n",
    "acc_std = np.std(cv_results['test_accuracy'])\n",
    "roc_auc = np.mean(cv_results['test_roc_auc'])\n",
    "roc_auc_std = np.std(cv_results['test_roc_auc'])\n",
    "\n",
    "print(f\"Accuracy: {acc:.4f} ± {acc_std:.4f}\")\n",
    "print(f\"AUC-ROC: {roc_auc:.4f} ± {roc_auc_std:.4f}\")\n",
    "\n",
    "# Stop emission tracking\n",
    "_ = tracker.stop()"
   ]
  },
  {
   "cell_type": "code",
   "execution_count": 10,
   "metadata": {},
   "outputs": [],
   "source": [
    "# Save evaluation to an external file\n",
    "file = 'scores.csv'\n",
    "\n",
    "results = pd.DataFrame({\n",
    "    'SVM-SVC-optimization': [acc, acc_std, roc_auc, roc_auc_std]\n",
    "}, index = ['Accuracy', 'Accuracy STD', 'AUC-ROC', 'AUC-ROC STD'])\n",
    "\n",
    "# Check if file exists\n",
    "if os.path.exists(file):\n",
    "    temp = pd.read_csv(file, index_col=0)\n",
    "    results = pd.concat([temp, results], axis=1)\n",
    "\n",
    "# Export\n",
    "results.to_csv(file)"
   ]
  },
  {
   "attachments": {},
   "cell_type": "markdown",
   "metadata": {},
   "source": [
    "<hr>\n",
    "\n",
    "### NuSVC classification SVM implementation:"
   ]
  },
  {
   "cell_type": "code",
   "execution_count": 11,
   "metadata": {},
   "outputs": [
    {
     "name": "stderr",
     "output_type": "stream",
     "text": [
      "[codecarbon ERROR @ 14:17:07] Error: Another instance of codecarbon is already running. Turn off the other instance to be able to run this one. Exiting.\n",
      "[codecarbon WARNING @ 14:17:07] Another instance of codecarbon is already running. Exiting.\n",
      "[codecarbon WARNING @ 14:17:07] Another instance of codecarbon is already running. Exiting.\n"
     ]
    },
    {
     "name": "stdout",
     "output_type": "stream",
     "text": [
      "Accuracy: 0.8282 ± 0.0611\n",
      "AUC-ROC: 0.9009 ± 0.0440\n"
     ]
    }
   ],
   "source": [
    "# ---------------------------------------------------------------------------- #\n",
    "#                                     MODEL                                    #\n",
    "# ---------------------------------------------------------------------------- #\n",
    "\n",
    "# Initiate CodeCarbon to track emissions\n",
    "tracker = EmissionsTracker('NuSVC SVM model', log_level='warning')\n",
    "tracker.start()\n",
    "\n",
    "# Create model\n",
    "model = svm.NuSVC(random_state=Random_Seed, probability=True)\n",
    "\n",
    "# Define pipeline depending on whether PCA is requested or not\n",
    "if PC_Features:\n",
    "    steps = [\n",
    "        ('preprocessor', preprocessor),\n",
    "        ('pca', PCA(n_components=12)),\n",
    "        ('SVM-NuSVC-classifier', model)\n",
    "    ]\n",
    "else:\n",
    "    steps = [\n",
    "        ('preprocessor', preprocessor),\n",
    "        ('SVM-NuSVC-classifier', model)\n",
    "    ]\n",
    "    \n",
    "pipeline = Pipeline(steps)\n",
    "\n",
    "# Perform cross-validation\n",
    "cv_results = cross_validate(pipeline, X, y, scoring=['accuracy', 'roc_auc'], cv=K_Folds)\n",
    "\n",
    "# Calculate and display results\n",
    "acc = np.mean(cv_results['test_accuracy'])\n",
    "acc_std = np.std(cv_results['test_accuracy'])\n",
    "roc_auc = np.mean(cv_results['test_roc_auc'])\n",
    "roc_auc_std = np.std(cv_results['test_roc_auc'])\n",
    "\n",
    "print(f\"Accuracy: {acc:.4f} ± {acc_std:.4f}\")\n",
    "print(f\"AUC-ROC: {roc_auc:.4f} ± {roc_auc_std:.4f}\")\n",
    "\n",
    "# Stop emission tracking\n",
    "_ = tracker.stop()"
   ]
  },
  {
   "cell_type": "code",
   "execution_count": 12,
   "metadata": {},
   "outputs": [],
   "source": [
    "# Save evaluation to an external file\n",
    "file = 'scores.csv'\n",
    "\n",
    "results = pd.DataFrame({\n",
    "    'SVM-NuSVC-model': [acc, acc_std, roc_auc, roc_auc_std]\n",
    "}, index = ['Accuracy', 'Accuracy STD', 'AUC-ROC', 'AUC-ROC STD'])\n",
    "\n",
    "# Check if file exists\n",
    "if os.path.exists(file):\n",
    "    temp = pd.read_csv(file, index_col=0)\n",
    "    results = pd.concat([temp, results], axis=1)\n",
    "\n",
    "# Export\n",
    "results.to_csv(file)"
   ]
  },
  {
   "cell_type": "code",
   "execution_count": 13,
   "metadata": {},
   "outputs": [
    {
     "name": "stderr",
     "output_type": "stream",
     "text": [
      "[codecarbon ERROR @ 14:17:07] Error: Another instance of codecarbon is already running. Turn off the other instance to be able to run this one. Exiting.\n",
      "[codecarbon WARNING @ 14:17:07] Another instance of codecarbon is already running. Exiting.\n",
      "/tmp/ipykernel_15723/2282820642.py:40: ExperimentalWarning:\n",
      "\n",
      "GPSampler is experimental (supported from v3.6.0). The interface can change in the future.\n",
      "\n",
      "[I 2024-10-28 14:17:07,982] A new study created in memory with name: no-name-2328c26f-9e51-43f3-9a63-c39f1d7eabb2\n",
      "[I 2024-10-28 14:17:08,133] Trial 0 finished with value: 0.8947802197802197 and parameters: {'nu': 0.6731675018697041, 'kernel': 'rbf', 'gamma': 'scale'}. Best is trial 0 with value: 0.8947802197802197.\n",
      "[I 2024-10-28 14:17:08,271] Trial 1 finished with value: 0.8623626373626374 and parameters: {'nu': 0.1676535980560012, 'kernel': 'rbf', 'gamma': 'scale'}. Best is trial 0 with value: 0.8947802197802197.\n",
      "[I 2024-10-28 14:17:08,399] Trial 2 finished with value: 0.8968063186813188 and parameters: {'nu': 0.554656476377679, 'kernel': 'poly', 'gamma': 'auto'}. Best is trial 2 with value: 0.8968063186813188.\n",
      "[I 2024-10-28 14:17:08,527] Trial 3 finished with value: 0.8696085164835166 and parameters: {'nu': 0.38276479907063965, 'kernel': 'poly', 'gamma': 'scale'}. Best is trial 2 with value: 0.8968063186813188.\n",
      "[I 2024-10-28 14:17:08,656] Trial 4 finished with value: 0.864114010989011 and parameters: {'nu': 0.32644992282499724, 'kernel': 'poly', 'gamma': 'scale'}. Best is trial 2 with value: 0.8968063186813188.\n",
      "[I 2024-10-28 14:17:08,783] Trial 5 finished with value: 0.8655906593406593 and parameters: {'nu': 0.35971046612972957, 'kernel': 'poly', 'gamma': 'auto'}. Best is trial 2 with value: 0.8968063186813188.\n",
      "[I 2024-10-28 14:17:08,921] Trial 6 finished with value: 0.9103021978021978 and parameters: {'nu': 0.3638183908572278, 'kernel': 'sigmoid', 'gamma': 'scale'}. Best is trial 6 with value: 0.9103021978021978.\n",
      "[I 2024-10-28 14:17:09,039] Trial 7 finished with value: 0.6084478021978021 and parameters: {'nu': 0.12327873897121304, 'kernel': 'linear', 'gamma': 'auto'}. Best is trial 6 with value: 0.9103021978021978.\n",
      "[I 2024-10-28 14:17:09,172] Trial 8 finished with value: 0.8672733516483516 and parameters: {'nu': 0.21127370353927669, 'kernel': 'rbf', 'gamma': 'auto'}. Best is trial 6 with value: 0.9103021978021978.\n",
      "[I 2024-10-28 14:17:09,300] Trial 9 finished with value: 0.8760645604395604 and parameters: {'nu': 0.41711639536431566, 'kernel': 'poly', 'gamma': 'scale'}. Best is trial 6 with value: 0.9103021978021978.\n",
      "[I 2024-10-28 14:17:09,541] Trial 10 finished with value: 0.8907967032967032 and parameters: {'nu': 0.9, 'kernel': 'sigmoid', 'gamma': 'auto'}. Best is trial 6 with value: 0.9103021978021978.\n",
      "[I 2024-10-28 14:17:09,779] Trial 11 finished with value: 0.8893887362637363 and parameters: {'nu': 0.8999999999999996, 'kernel': 'poly', 'gamma': 'auto'}. Best is trial 6 with value: 0.9103021978021978.\n",
      "[I 2024-10-28 14:17:10,021] Trial 12 finished with value: 0.17987637362637363 and parameters: {'nu': 0.10000000000000002, 'kernel': 'sigmoid', 'gamma': 'scale'}. Best is trial 6 with value: 0.9103021978021978.\n",
      "[I 2024-10-28 14:17:10,322] Trial 13 finished with value: 0.910576923076923 and parameters: {'nu': 0.5591522153140853, 'kernel': 'sigmoid', 'gamma': 'scale'}. Best is trial 13 with value: 0.910576923076923.\n",
      "[I 2024-10-28 14:17:10,623] Trial 14 finished with value: 0.9114697802197803 and parameters: {'nu': 0.5760895440447094, 'kernel': 'linear', 'gamma': 'scale'}. Best is trial 14 with value: 0.9114697802197803.\n",
      "[I 2024-10-28 14:17:10,928] Trial 15 finished with value: 0.8934409340659342 and parameters: {'nu': 0.3241914118375861, 'kernel': 'rbf', 'gamma': 'scale'}. Best is trial 14 with value: 0.9114697802197803.\n",
      "[I 2024-10-28 14:17:11,166] Trial 16 finished with value: 0.8912087912087913 and parameters: {'nu': 0.9, 'kernel': 'linear', 'gamma': 'auto'}. Best is trial 14 with value: 0.9114697802197803.\n",
      "[I 2024-10-28 14:17:11,506] Trial 17 finished with value: 0.9095123626373626 and parameters: {'nu': 0.4621315166099611, 'kernel': 'sigmoid', 'gamma': 'auto'}. Best is trial 14 with value: 0.9114697802197803.\n",
      "[I 2024-10-28 14:17:11,807] Trial 18 finished with value: 0.9079670329670328 and parameters: {'nu': 0.4217184821252792, 'kernel': 'linear', 'gamma': 'auto'}. Best is trial 14 with value: 0.9114697802197803.\n",
      "[I 2024-10-28 14:17:12,062] Trial 19 finished with value: 0.8906936813186814 and parameters: {'nu': 0.9, 'kernel': 'rbf', 'gamma': 'auto'}. Best is trial 14 with value: 0.9114697802197803.\n",
      "[I 2024-10-28 14:17:12,432] Trial 20 finished with value: 0.9090659340659342 and parameters: {'nu': 0.362735503807599, 'kernel': 'linear', 'gamma': 'scale'}. Best is trial 14 with value: 0.9114697802197803.\n",
      "[I 2024-10-28 14:17:12,768] Trial 21 finished with value: 0.9098214285714284 and parameters: {'nu': 0.4371797471633648, 'kernel': 'sigmoid', 'gamma': 'scale'}. Best is trial 14 with value: 0.9114697802197803.\n",
      "[I 2024-10-28 14:17:13,049] Trial 22 finished with value: 0.9 and parameters: {'nu': 0.775088841160347, 'kernel': 'poly', 'gamma': 'scale'}. Best is trial 14 with value: 0.9114697802197803.\n",
      "[I 2024-10-28 14:17:13,316] Trial 23 finished with value: 0.8903502747252748 and parameters: {'nu': 0.9, 'kernel': 'sigmoid', 'gamma': 'scale'}. Best is trial 14 with value: 0.9114697802197803.\n",
      "[I 2024-10-28 14:17:13,553] Trial 24 finished with value: 0.9128090659340661 and parameters: {'nu': 0.5977271337251437, 'kernel': 'linear', 'gamma': 'auto'}. Best is trial 24 with value: 0.9128090659340661.\n",
      "[I 2024-10-28 14:17:13,824] Trial 25 finished with value: 0.9043612637362637 and parameters: {'nu': 0.5442384506761516, 'kernel': 'rbf', 'gamma': 'auto'}. Best is trial 24 with value: 0.9128090659340661.\n",
      "[I 2024-10-28 14:17:14,060] Trial 26 finished with value: 0.9112293956043958 and parameters: {'nu': 0.4588300341336712, 'kernel': 'linear', 'gamma': 'scale'}. Best is trial 24 with value: 0.9128090659340661.\n",
      "[I 2024-10-28 14:17:14,370] Trial 27 finished with value: 0.9077953296703297 and parameters: {'nu': 0.6261994669473134, 'kernel': 'sigmoid', 'gamma': 'auto'}. Best is trial 24 with value: 0.9128090659340661.\n",
      "[I 2024-10-28 14:17:14,663] Trial 28 finished with value: 0.8713598901098901 and parameters: {'nu': 0.23513211575600015, 'kernel': 'rbf', 'gamma': 'scale'}. Best is trial 24 with value: 0.9128090659340661.\n",
      "[I 2024-10-28 14:17:14,935] Trial 29 finished with value: 0.8990728021978022 and parameters: {'nu': 0.45802586489449176, 'kernel': 'rbf', 'gamma': 'scale'}. Best is trial 24 with value: 0.9128090659340661.\n",
      "[I 2024-10-28 14:17:15,211] Trial 30 finished with value: 0.9050824175824175 and parameters: {'nu': 0.3915425036038715, 'kernel': 'rbf', 'gamma': 'auto'}. Best is trial 24 with value: 0.9128090659340661.\n",
      "[I 2024-10-28 14:17:15,491] Trial 31 finished with value: 0.9080013736263736 and parameters: {'nu': 0.3729960811743076, 'kernel': 'sigmoid', 'gamma': 'auto'}. Best is trial 24 with value: 0.9128090659340661.\n",
      "[I 2024-10-28 14:17:15,854] Trial 32 finished with value: 0.9097527472527472 and parameters: {'nu': 0.5336522143791123, 'kernel': 'linear', 'gamma': 'auto'}. Best is trial 24 with value: 0.9128090659340661.\n",
      "[I 2024-10-28 14:17:16,200] Trial 33 finished with value: 0.9050824175824177 and parameters: {'nu': 0.711151684789327, 'kernel': 'linear', 'gamma': 'scale'}. Best is trial 24 with value: 0.9128090659340661.\n",
      "[I 2024-10-28 14:17:16,483] Trial 34 finished with value: 0.9077266483516485 and parameters: {'nu': 0.6584563758278916, 'kernel': 'linear', 'gamma': 'auto'}. Best is trial 24 with value: 0.9128090659340661.\n",
      "[I 2024-10-28 14:17:16,747] Trial 35 finished with value: 0.8199175824175823 and parameters: {'nu': 0.14744697458713552, 'kernel': 'poly', 'gamma': 'auto'}. Best is trial 24 with value: 0.9128090659340661.\n",
      "[I 2024-10-28 14:17:17,000] Trial 36 finished with value: 0.8362293956043956 and parameters: {'nu': 0.10000000000000002, 'kernel': 'rbf', 'gamma': 'auto'}. Best is trial 24 with value: 0.9128090659340661.\n",
      "[I 2024-10-28 14:17:17,335] Trial 37 finished with value: 0.9077953296703297 and parameters: {'nu': 0.6613045379615576, 'kernel': 'sigmoid', 'gamma': 'scale'}. Best is trial 24 with value: 0.9128090659340661.\n",
      "[I 2024-10-28 14:17:17,603] Trial 38 finished with value: 0.9039148351648351 and parameters: {'nu': 0.41379064774051294, 'kernel': 'linear', 'gamma': 'scale'}. Best is trial 24 with value: 0.9128090659340661.\n",
      "[I 2024-10-28 14:17:17,911] Trial 39 finished with value: 0.9102678571428571 and parameters: {'nu': 0.31824511890790536, 'kernel': 'linear', 'gamma': 'auto'}. Best is trial 24 with value: 0.9128090659340661.\n",
      "[I 2024-10-28 14:17:18,167] Trial 40 finished with value: 0.8883585164835166 and parameters: {'nu': 0.2954695643571592, 'kernel': 'linear', 'gamma': 'scale'}. Best is trial 24 with value: 0.9128090659340661.\n",
      "[I 2024-10-28 14:17:18,428] Trial 41 finished with value: 0.9109203296703298 and parameters: {'nu': 0.3540414155189207, 'kernel': 'linear', 'gamma': 'auto'}. Best is trial 24 with value: 0.9128090659340661.\n",
      "[I 2024-10-28 14:17:18,722] Trial 42 finished with value: 0.91301510989011 and parameters: {'nu': 0.403510447538528, 'kernel': 'sigmoid', 'gamma': 'scale'}. Best is trial 42 with value: 0.91301510989011.\n",
      "[I 2024-10-28 14:17:19,021] Trial 43 finished with value: 0.908379120879121 and parameters: {'nu': 0.40223469147502183, 'kernel': 'sigmoid', 'gamma': 'scale'}. Best is trial 42 with value: 0.91301510989011.\n",
      "[I 2024-10-28 14:17:19,291] Trial 44 finished with value: 0.9119505494505493 and parameters: {'nu': 0.5540215163178355, 'kernel': 'linear', 'gamma': 'scale'}. Best is trial 42 with value: 0.91301510989011.\n",
      "[I 2024-10-28 14:17:19,551] Trial 45 finished with value: 0.9095467032967033 and parameters: {'nu': 0.35176823372190597, 'kernel': 'linear', 'gamma': 'auto'}. Best is trial 42 with value: 0.91301510989011.\n",
      "[I 2024-10-28 14:17:19,883] Trial 46 finished with value: 0.910164835164835 and parameters: {'nu': 0.5491822216109521, 'kernel': 'linear', 'gamma': 'scale'}. Best is trial 42 with value: 0.91301510989011.\n",
      "[I 2024-10-28 14:17:20,146] Trial 47 finished with value: 0.8893887362637363 and parameters: {'nu': 0.9, 'kernel': 'rbf', 'gamma': 'scale'}. Best is trial 42 with value: 0.91301510989011.\n",
      "[I 2024-10-28 14:17:20,421] Trial 48 finished with value: 0.9008928571428572 and parameters: {'nu': 0.7004001843112379, 'kernel': 'poly', 'gamma': 'auto'}. Best is trial 42 with value: 0.91301510989011.\n",
      "[I 2024-10-28 14:17:20,676] Trial 49 finished with value: 0.9026442307692306 and parameters: {'nu': 0.6208741720923904, 'kernel': 'poly', 'gamma': 'scale'}. Best is trial 42 with value: 0.91301510989011.\n",
      "[I 2024-10-28 14:17:21,116] Trial 50 finished with value: 0.9115384615384615 and parameters: {'nu': 0.5670900096993696, 'kernel': 'linear', 'gamma': 'auto'}. Best is trial 42 with value: 0.91301510989011.\n",
      "[I 2024-10-28 14:17:21,432] Trial 51 finished with value: 0.9084478021978022 and parameters: {'nu': 0.5323672357717886, 'kernel': 'sigmoid', 'gamma': 'auto'}. Best is trial 42 with value: 0.91301510989011.\n",
      "[I 2024-10-28 14:17:21,734] Trial 52 finished with value: 0.9088598901098901 and parameters: {'nu': 0.4152013235628379, 'kernel': 'sigmoid', 'gamma': 'auto'}. Best is trial 42 with value: 0.91301510989011.\n",
      "[I 2024-10-28 14:17:22,079] Trial 53 finished with value: 0.9084821428571427 and parameters: {'nu': 0.5082040007035457, 'kernel': 'sigmoid', 'gamma': 'scale'}. Best is trial 42 with value: 0.91301510989011.\n",
      "[I 2024-10-28 14:17:22,357] Trial 54 finished with value: 0.9137362637362638 and parameters: {'nu': 0.5913161563692121, 'kernel': 'linear', 'gamma': 'scale'}. Best is trial 54 with value: 0.9137362637362638.\n",
      "[I 2024-10-28 14:17:22,709] Trial 55 finished with value: 0.8044642857142857 and parameters: {'nu': 0.10000000000000002, 'kernel': 'poly', 'gamma': 'scale'}. Best is trial 54 with value: 0.9137362637362638.\n",
      "[I 2024-10-28 14:17:23,058] Trial 56 finished with value: 0.9128090659340661 and parameters: {'nu': 0.5982299647889667, 'kernel': 'linear', 'gamma': 'scale'}. Best is trial 54 with value: 0.9137362637362638.\n",
      "[I 2024-10-28 14:17:23,404] Trial 57 finished with value: 0.9128090659340661 and parameters: {'nu': 0.5981722820514599, 'kernel': 'linear', 'gamma': 'scale'}. Best is trial 54 with value: 0.9137362637362638.\n",
      "[I 2024-10-28 14:17:23,663] Trial 58 finished with value: 0.9128090659340661 and parameters: {'nu': 0.5985894243206329, 'kernel': 'linear', 'gamma': 'scale'}. Best is trial 54 with value: 0.9137362637362638.\n",
      "[I 2024-10-28 14:17:24,006] Trial 59 finished with value: 0.9114697802197803 and parameters: {'nu': 0.5994872513194478, 'kernel': 'linear', 'gamma': 'scale'}. Best is trial 54 with value: 0.9137362637362638.\n",
      "[I 2024-10-28 14:17:24,325] Trial 60 finished with value: 0.9093406593406593 and parameters: {'nu': 0.5369645117645075, 'kernel': 'linear', 'gamma': 'scale'}. Best is trial 54 with value: 0.9137362637362638.\n",
      "[I 2024-10-28 14:17:24,584] Trial 61 finished with value: 0.8912087912087913 and parameters: {'nu': 0.9, 'kernel': 'linear', 'gamma': 'scale'}. Best is trial 54 with value: 0.9137362637362638.\n",
      "[I 2024-10-28 14:17:24,905] Trial 62 finished with value: 0.9141140109890111 and parameters: {'nu': 0.5865183254669369, 'kernel': 'linear', 'gamma': 'auto'}. Best is trial 62 with value: 0.9141140109890111.\n",
      "[I 2024-10-28 14:17:25,196] Trial 63 finished with value: 0.9141483516483516 and parameters: {'nu': 0.5875499385362177, 'kernel': 'linear', 'gamma': 'auto'}. Best is trial 63 with value: 0.9141483516483516.\n",
      "[I 2024-10-28 14:17:25,475] Trial 64 finished with value: 0.9141483516483516 and parameters: {'nu': 0.5879484969722775, 'kernel': 'linear', 'gamma': 'auto'}. Best is trial 63 with value: 0.9141483516483516.\n",
      "[I 2024-10-28 14:17:25,778] Trial 65 finished with value: 0.9141483516483516 and parameters: {'nu': 0.5883095352549415, 'kernel': 'linear', 'gamma': 'auto'}. Best is trial 63 with value: 0.9141483516483516.\n",
      "[I 2024-10-28 14:17:26,123] Trial 66 finished with value: 0.9141483516483516 and parameters: {'nu': 0.5886806823787808, 'kernel': 'linear', 'gamma': 'auto'}. Best is trial 63 with value: 0.9141483516483516.\n",
      "[I 2024-10-28 14:17:26,526] Trial 67 finished with value: 0.9141483516483516 and parameters: {'nu': 0.5891291820094509, 'kernel': 'linear', 'gamma': 'auto'}. Best is trial 63 with value: 0.9141483516483516.\n",
      "[I 2024-10-28 14:17:26,851] Trial 68 finished with value: 0.9141483516483516 and parameters: {'nu': 0.5895499942083525, 'kernel': 'linear', 'gamma': 'auto'}. Best is trial 63 with value: 0.9141483516483516.\n",
      "[I 2024-10-28 14:17:27,267] Trial 69 finished with value: 0.9141483516483516 and parameters: {'nu': 0.5900147547675855, 'kernel': 'linear', 'gamma': 'auto'}. Best is trial 63 with value: 0.9141483516483516.\n",
      "[I 2024-10-28 14:17:27,550] Trial 70 finished with value: 0.9141483516483516 and parameters: {'nu': 0.590477237208294, 'kernel': 'linear', 'gamma': 'auto'}. Best is trial 63 with value: 0.9141483516483516.\n",
      "[I 2024-10-28 14:17:27,910] Trial 71 finished with value: 0.9137019230769232 and parameters: {'nu': 0.5909568453071976, 'kernel': 'linear', 'gamma': 'auto'}. Best is trial 63 with value: 0.9141483516483516.\n",
      "[I 2024-10-28 14:17:28,357] Trial 72 finished with value: 0.9137362637362638 and parameters: {'nu': 0.591432857986407, 'kernel': 'linear', 'gamma': 'auto'}. Best is trial 63 with value: 0.9141483516483516.\n",
      "[I 2024-10-28 14:17:28,770] Trial 73 finished with value: 0.9137362637362638 and parameters: {'nu': 0.5919929829663239, 'kernel': 'linear', 'gamma': 'auto'}. Best is trial 63 with value: 0.9141483516483516.\n",
      "[I 2024-10-28 14:17:29,026] Trial 74 finished with value: 0.9137362637362638 and parameters: {'nu': 0.5926372713855134, 'kernel': 'linear', 'gamma': 'auto'}. Best is trial 63 with value: 0.9141483516483516.\n",
      "[I 2024-10-28 14:17:29,330] Trial 75 finished with value: 0.9137362637362638 and parameters: {'nu': 0.5933293082729284, 'kernel': 'linear', 'gamma': 'auto'}. Best is trial 63 with value: 0.9141483516483516.\n",
      "[I 2024-10-28 14:17:29,708] Trial 76 finished with value: 0.9137362637362638 and parameters: {'nu': 0.5941693866798126, 'kernel': 'linear', 'gamma': 'auto'}. Best is trial 63 with value: 0.9141483516483516.\n",
      "[I 2024-10-28 14:17:30,064] Trial 77 finished with value: 0.9128090659340661 and parameters: {'nu': 0.5950631592859623, 'kernel': 'linear', 'gamma': 'auto'}. Best is trial 63 with value: 0.9141483516483516.\n",
      "[I 2024-10-28 14:17:30,388] Trial 78 finished with value: 0.896565934065934 and parameters: {'nu': 0.6987473941847332, 'kernel': 'rbf', 'gamma': 'auto'}. Best is trial 63 with value: 0.9141483516483516.\n",
      "[I 2024-10-28 14:17:30,752] Trial 79 finished with value: 0.9137362637362638 and parameters: {'nu': 0.5917422398036752, 'kernel': 'linear', 'gamma': 'auto'}. Best is trial 63 with value: 0.9141483516483516.\n",
      "[I 2024-10-28 14:17:31,148] Trial 80 finished with value: 0.8992101648351648 and parameters: {'nu': 0.3153751225943441, 'kernel': 'rbf', 'gamma': 'auto'}. Best is trial 63 with value: 0.9141483516483516.\n",
      "[I 2024-10-28 14:17:31,429] Trial 81 finished with value: 0.9141140109890111 and parameters: {'nu': 0.5840304434109779, 'kernel': 'linear', 'gamma': 'auto'}. Best is trial 63 with value: 0.9141483516483516.\n",
      "[I 2024-10-28 14:17:31,810] Trial 82 finished with value: 0.9128090659340661 and parameters: {'nu': 0.5957912270033897, 'kernel': 'linear', 'gamma': 'auto'}. Best is trial 63 with value: 0.9141483516483516.\n",
      "[I 2024-10-28 14:17:32,175] Trial 83 finished with value: 0.829532967032967 and parameters: {'nu': 0.20558904665727532, 'kernel': 'poly', 'gamma': 'scale'}. Best is trial 63 with value: 0.9141483516483516.\n",
      "[I 2024-10-28 14:17:32,558] Trial 84 finished with value: 0.9123626373626375 and parameters: {'nu': 0.5794282740620644, 'kernel': 'linear', 'gamma': 'auto'}. Best is trial 63 with value: 0.9141483516483516.\n",
      "[I 2024-10-28 14:17:32,949] Trial 85 finished with value: 0.8881524725274726 and parameters: {'nu': 0.31551802988703476, 'kernel': 'sigmoid', 'gamma': 'scale'}. Best is trial 63 with value: 0.9141483516483516.\n",
      "[I 2024-10-28 14:17:33,365] Trial 86 finished with value: 0.9105082417582417 and parameters: {'nu': 0.6014766877773574, 'kernel': 'linear', 'gamma': 'auto'}. Best is trial 63 with value: 0.9141483516483516.\n",
      "[I 2024-10-28 14:17:33,782] Trial 87 finished with value: 0.9119505494505494 and parameters: {'nu': 0.5684419375362095, 'kernel': 'linear', 'gamma': 'auto'}. Best is trial 63 with value: 0.9141483516483516.\n",
      "[I 2024-10-28 14:17:34,234] Trial 88 finished with value: 0.9114697802197801 and parameters: {'nu': 0.5697125095495362, 'kernel': 'linear', 'gamma': 'auto'}. Best is trial 63 with value: 0.9141483516483516.\n",
      "[I 2024-10-28 14:17:34,552] Trial 89 finished with value: 0.9069368131868133 and parameters: {'nu': 0.4614022987743099, 'kernel': 'rbf', 'gamma': 'auto'}. Best is trial 63 with value: 0.9141483516483516.\n",
      "[I 2024-10-28 14:17:34,886] Trial 90 finished with value: 0.9073145604395604 and parameters: {'nu': 0.6191035253408456, 'kernel': 'linear', 'gamma': 'scale'}. Best is trial 63 with value: 0.9141483516483516.\n",
      "[I 2024-10-28 14:17:35,283] Trial 91 finished with value: 0.9119848901098901 and parameters: {'nu': 0.5633469664165646, 'kernel': 'linear', 'gamma': 'auto'}. Best is trial 63 with value: 0.9141483516483516.\n",
      "[I 2024-10-28 14:17:35,880] Trial 92 finished with value: 0.9086538461538461 and parameters: {'nu': 0.6089550024734386, 'kernel': 'linear', 'gamma': 'auto'}. Best is trial 63 with value: 0.9141483516483516.\n",
      "[I 2024-10-28 14:17:36,252] Trial 93 finished with value: 0.9115384615384615 and parameters: {'nu': 0.5548484547930926, 'kernel': 'linear', 'gamma': 'auto'}. Best is trial 63 with value: 0.9141483516483516.\n",
      "[I 2024-10-28 14:17:36,673] Trial 94 finished with value: 0.9019230769230768 and parameters: {'nu': 0.719005080964136, 'kernel': 'sigmoid', 'gamma': 'auto'}. Best is trial 63 with value: 0.9141483516483516.\n",
      "[I 2024-10-28 14:17:37,093] Trial 95 finished with value: 0.9120192307692309 and parameters: {'nu': 0.5921241578308579, 'kernel': 'sigmoid', 'gamma': 'scale'}. Best is trial 63 with value: 0.9141483516483516.\n",
      "[I 2024-10-28 14:17:37,412] Trial 96 finished with value: 0.9126030219780221 and parameters: {'nu': 0.38562082285236343, 'kernel': 'sigmoid', 'gamma': 'scale'}. Best is trial 63 with value: 0.9141483516483516.\n",
      "[I 2024-10-28 14:17:37,750] Trial 97 finished with value: 0.9109203296703298 and parameters: {'nu': 0.34219698815658284, 'kernel': 'linear', 'gamma': 'auto'}. Best is trial 63 with value: 0.9141483516483516.\n",
      "[I 2024-10-28 14:17:38,218] Trial 98 finished with value: 0.9102678571428571 and parameters: {'nu': 0.3852331191638783, 'kernel': 'sigmoid', 'gamma': 'scale'}. Best is trial 63 with value: 0.9141483516483516.\n",
      "[I 2024-10-28 14:17:38,566] Trial 99 finished with value: 0.9129120879120878 and parameters: {'nu': 0.5922974930438792, 'kernel': 'sigmoid', 'gamma': 'scale'}. Best is trial 63 with value: 0.9141483516483516.\n"
     ]
    }
   ],
   "source": [
    "# ---------------------------------------------------------------------------- #\n",
    "#                                 OPTIMIZATION                                 #\n",
    "# ---------------------------------------------------------------------------- #\n",
    "\n",
    "# Initiate CodeCarbon to track emissions\n",
    "tracker = EmissionsTracker('NuSVC SVM optimization', log_level='warning')\n",
    "tracker.start()\n",
    "\n",
    "# Objective function\n",
    "def objective(trial):\n",
    "  # Define parameters\n",
    "  nu = trial.suggest_float('nu', 0.1, 0.9, log=True)  # nu é um parâmetro entre 0 e 1\n",
    "  kernel = trial.suggest_categorical('kernel', ['linear', 'poly', 'rbf', 'sigmoid'])  # Tipo de kernel\n",
    "  gamma = trial.suggest_categorical('gamma', ['scale', 'auto'])  # Gamma para os kernels não lineares\n",
    "\n",
    "  # Create model\n",
    "  temp_model = svm.NuSVC(nu=nu, kernel=kernel, gamma=gamma)\n",
    "  \n",
    "  # Define pipeline depending on whether PCA is requested or not\n",
    "  if PC_Features:\n",
    "        steps = [\n",
    "        ('preprocessor', preprocessor),\n",
    "        ('pca', PCA(n_components=12)),\n",
    "        ('SVM-NuSVC-classifier', temp_model)\n",
    "        ]\n",
    "  else:\n",
    "        steps = [\n",
    "        ('preprocessor', preprocessor),\n",
    "        ('SVM-NuSVC-classifier', temp_model)\n",
    "        ]\n",
    "        \n",
    "  pipeline = Pipeline(steps)\n",
    "\n",
    "  # Perform cross-validation\n",
    "  roc_auc = cross_val_score(pipeline, X, y, scoring='roc_auc', cv=K_Folds).mean()\n",
    "  \n",
    "  return roc_auc\n",
    "\n",
    "# Optimizing with Optuna\n",
    "study = optuna.create_study(direction='maximize', sampler=GPSampler())\n",
    "study.optimize(objective, n_trials=100)"
   ]
  },
  {
   "cell_type": "code",
   "execution_count": 14,
   "metadata": {},
   "outputs": [
    {
     "name": "stdout",
     "output_type": "stream",
     "text": [
      "AUC-ROC: 0.9141483516483516\n",
      "Best hyperparameters: {'nu': 0.5875499385362177, 'kernel': 'linear', 'gamma': 'auto'}\n"
     ]
    }
   ],
   "source": [
    "# Show best model\n",
    "trial = study.best_trial\n",
    "print('AUC-ROC: {}'.format(trial.value))\n",
    "print(\"Best hyperparameters: {}\".format(trial.params))"
   ]
  },
  {
   "cell_type": "code",
   "execution_count": 15,
   "metadata": {},
   "outputs": [
    {
     "data": {
      "application/vnd.plotly.v1+json": {
       "config": {
        "plotlyServerURL": "https://plot.ly"
       },
       "data": [
        {
         "mode": "markers",
         "name": "Objective Value",
         "type": "scatter",
         "x": [
          0,
          1,
          2,
          3,
          4,
          5,
          6,
          7,
          8,
          9,
          10,
          11,
          12,
          13,
          14,
          15,
          16,
          17,
          18,
          19,
          20,
          21,
          22,
          23,
          24,
          25,
          26,
          27,
          28,
          29,
          30,
          31,
          32,
          33,
          34,
          35,
          36,
          37,
          38,
          39,
          40,
          41,
          42,
          43,
          44,
          45,
          46,
          47,
          48,
          49,
          50,
          51,
          52,
          53,
          54,
          55,
          56,
          57,
          58,
          59,
          60,
          61,
          62,
          63,
          64,
          65,
          66,
          67,
          68,
          69,
          70,
          71,
          72,
          73,
          74,
          75,
          76,
          77,
          78,
          79,
          80,
          81,
          82,
          83,
          84,
          85,
          86,
          87,
          88,
          89,
          90,
          91,
          92,
          93,
          94,
          95,
          96,
          97,
          98,
          99
         ],
         "y": [
          0.8947802197802197,
          0.8623626373626374,
          0.8968063186813188,
          0.8696085164835166,
          0.864114010989011,
          0.8655906593406593,
          0.9103021978021978,
          0.6084478021978021,
          0.8672733516483516,
          0.8760645604395604,
          0.8907967032967032,
          0.8893887362637363,
          0.17987637362637363,
          0.910576923076923,
          0.9114697802197803,
          0.8934409340659342,
          0.8912087912087913,
          0.9095123626373626,
          0.9079670329670328,
          0.8906936813186814,
          0.9090659340659342,
          0.9098214285714284,
          0.9,
          0.8903502747252748,
          0.9128090659340661,
          0.9043612637362637,
          0.9112293956043958,
          0.9077953296703297,
          0.8713598901098901,
          0.8990728021978022,
          0.9050824175824175,
          0.9080013736263736,
          0.9097527472527472,
          0.9050824175824177,
          0.9077266483516485,
          0.8199175824175823,
          0.8362293956043956,
          0.9077953296703297,
          0.9039148351648351,
          0.9102678571428571,
          0.8883585164835166,
          0.9109203296703298,
          0.91301510989011,
          0.908379120879121,
          0.9119505494505493,
          0.9095467032967033,
          0.910164835164835,
          0.8893887362637363,
          0.9008928571428572,
          0.9026442307692306,
          0.9115384615384615,
          0.9084478021978022,
          0.9088598901098901,
          0.9084821428571427,
          0.9137362637362638,
          0.8044642857142857,
          0.9128090659340661,
          0.9128090659340661,
          0.9128090659340661,
          0.9114697802197803,
          0.9093406593406593,
          0.8912087912087913,
          0.9141140109890111,
          0.9141483516483516,
          0.9141483516483516,
          0.9141483516483516,
          0.9141483516483516,
          0.9141483516483516,
          0.9141483516483516,
          0.9141483516483516,
          0.9141483516483516,
          0.9137019230769232,
          0.9137362637362638,
          0.9137362637362638,
          0.9137362637362638,
          0.9137362637362638,
          0.9137362637362638,
          0.9128090659340661,
          0.896565934065934,
          0.9137362637362638,
          0.8992101648351648,
          0.9141140109890111,
          0.9128090659340661,
          0.829532967032967,
          0.9123626373626375,
          0.8881524725274726,
          0.9105082417582417,
          0.9119505494505494,
          0.9114697802197801,
          0.9069368131868133,
          0.9073145604395604,
          0.9119848901098901,
          0.9086538461538461,
          0.9115384615384615,
          0.9019230769230768,
          0.9120192307692309,
          0.9126030219780221,
          0.9109203296703298,
          0.9102678571428571,
          0.9129120879120878
         ]
        },
        {
         "mode": "lines",
         "name": "Best Value",
         "type": "scatter",
         "x": [
          0,
          1,
          2,
          3,
          4,
          5,
          6,
          7,
          8,
          9,
          10,
          11,
          12,
          13,
          14,
          15,
          16,
          17,
          18,
          19,
          20,
          21,
          22,
          23,
          24,
          25,
          26,
          27,
          28,
          29,
          30,
          31,
          32,
          33,
          34,
          35,
          36,
          37,
          38,
          39,
          40,
          41,
          42,
          43,
          44,
          45,
          46,
          47,
          48,
          49,
          50,
          51,
          52,
          53,
          54,
          55,
          56,
          57,
          58,
          59,
          60,
          61,
          62,
          63,
          64,
          65,
          66,
          67,
          68,
          69,
          70,
          71,
          72,
          73,
          74,
          75,
          76,
          77,
          78,
          79,
          80,
          81,
          82,
          83,
          84,
          85,
          86,
          87,
          88,
          89,
          90,
          91,
          92,
          93,
          94,
          95,
          96,
          97,
          98,
          99
         ],
         "y": [
          0.8947802197802197,
          0.8947802197802197,
          0.8968063186813188,
          0.8968063186813188,
          0.8968063186813188,
          0.8968063186813188,
          0.9103021978021978,
          0.9103021978021978,
          0.9103021978021978,
          0.9103021978021978,
          0.9103021978021978,
          0.9103021978021978,
          0.9103021978021978,
          0.910576923076923,
          0.9114697802197803,
          0.9114697802197803,
          0.9114697802197803,
          0.9114697802197803,
          0.9114697802197803,
          0.9114697802197803,
          0.9114697802197803,
          0.9114697802197803,
          0.9114697802197803,
          0.9114697802197803,
          0.9128090659340661,
          0.9128090659340661,
          0.9128090659340661,
          0.9128090659340661,
          0.9128090659340661,
          0.9128090659340661,
          0.9128090659340661,
          0.9128090659340661,
          0.9128090659340661,
          0.9128090659340661,
          0.9128090659340661,
          0.9128090659340661,
          0.9128090659340661,
          0.9128090659340661,
          0.9128090659340661,
          0.9128090659340661,
          0.9128090659340661,
          0.9128090659340661,
          0.91301510989011,
          0.91301510989011,
          0.91301510989011,
          0.91301510989011,
          0.91301510989011,
          0.91301510989011,
          0.91301510989011,
          0.91301510989011,
          0.91301510989011,
          0.91301510989011,
          0.91301510989011,
          0.91301510989011,
          0.9137362637362638,
          0.9137362637362638,
          0.9137362637362638,
          0.9137362637362638,
          0.9137362637362638,
          0.9137362637362638,
          0.9137362637362638,
          0.9137362637362638,
          0.9141140109890111,
          0.9141483516483516,
          0.9141483516483516,
          0.9141483516483516,
          0.9141483516483516,
          0.9141483516483516,
          0.9141483516483516,
          0.9141483516483516,
          0.9141483516483516,
          0.9141483516483516,
          0.9141483516483516,
          0.9141483516483516,
          0.9141483516483516,
          0.9141483516483516,
          0.9141483516483516,
          0.9141483516483516,
          0.9141483516483516,
          0.9141483516483516,
          0.9141483516483516,
          0.9141483516483516,
          0.9141483516483516,
          0.9141483516483516,
          0.9141483516483516,
          0.9141483516483516,
          0.9141483516483516,
          0.9141483516483516,
          0.9141483516483516,
          0.9141483516483516,
          0.9141483516483516,
          0.9141483516483516,
          0.9141483516483516,
          0.9141483516483516,
          0.9141483516483516,
          0.9141483516483516,
          0.9141483516483516,
          0.9141483516483516,
          0.9141483516483516,
          0.9141483516483516
         ]
        },
        {
         "marker": {
          "color": "#cccccc"
         },
         "mode": "markers",
         "name": "Infeasible Trial",
         "showlegend": false,
         "type": "scatter",
         "x": [],
         "y": []
        }
       ],
       "layout": {
        "template": {
         "data": {
          "bar": [
           {
            "error_x": {
             "color": "#2a3f5f"
            },
            "error_y": {
             "color": "#2a3f5f"
            },
            "marker": {
             "line": {
              "color": "#E5ECF6",
              "width": 0.5
             },
             "pattern": {
              "fillmode": "overlay",
              "size": 10,
              "solidity": 0.2
             }
            },
            "type": "bar"
           }
          ],
          "barpolar": [
           {
            "marker": {
             "line": {
              "color": "#E5ECF6",
              "width": 0.5
             },
             "pattern": {
              "fillmode": "overlay",
              "size": 10,
              "solidity": 0.2
             }
            },
            "type": "barpolar"
           }
          ],
          "carpet": [
           {
            "aaxis": {
             "endlinecolor": "#2a3f5f",
             "gridcolor": "white",
             "linecolor": "white",
             "minorgridcolor": "white",
             "startlinecolor": "#2a3f5f"
            },
            "baxis": {
             "endlinecolor": "#2a3f5f",
             "gridcolor": "white",
             "linecolor": "white",
             "minorgridcolor": "white",
             "startlinecolor": "#2a3f5f"
            },
            "type": "carpet"
           }
          ],
          "choropleth": [
           {
            "colorbar": {
             "outlinewidth": 0,
             "ticks": ""
            },
            "type": "choropleth"
           }
          ],
          "contour": [
           {
            "colorbar": {
             "outlinewidth": 0,
             "ticks": ""
            },
            "colorscale": [
             [
              0,
              "#0d0887"
             ],
             [
              0.1111111111111111,
              "#46039f"
             ],
             [
              0.2222222222222222,
              "#7201a8"
             ],
             [
              0.3333333333333333,
              "#9c179e"
             ],
             [
              0.4444444444444444,
              "#bd3786"
             ],
             [
              0.5555555555555556,
              "#d8576b"
             ],
             [
              0.6666666666666666,
              "#ed7953"
             ],
             [
              0.7777777777777778,
              "#fb9f3a"
             ],
             [
              0.8888888888888888,
              "#fdca26"
             ],
             [
              1,
              "#f0f921"
             ]
            ],
            "type": "contour"
           }
          ],
          "contourcarpet": [
           {
            "colorbar": {
             "outlinewidth": 0,
             "ticks": ""
            },
            "type": "contourcarpet"
           }
          ],
          "heatmap": [
           {
            "colorbar": {
             "outlinewidth": 0,
             "ticks": ""
            },
            "colorscale": [
             [
              0,
              "#0d0887"
             ],
             [
              0.1111111111111111,
              "#46039f"
             ],
             [
              0.2222222222222222,
              "#7201a8"
             ],
             [
              0.3333333333333333,
              "#9c179e"
             ],
             [
              0.4444444444444444,
              "#bd3786"
             ],
             [
              0.5555555555555556,
              "#d8576b"
             ],
             [
              0.6666666666666666,
              "#ed7953"
             ],
             [
              0.7777777777777778,
              "#fb9f3a"
             ],
             [
              0.8888888888888888,
              "#fdca26"
             ],
             [
              1,
              "#f0f921"
             ]
            ],
            "type": "heatmap"
           }
          ],
          "heatmapgl": [
           {
            "colorbar": {
             "outlinewidth": 0,
             "ticks": ""
            },
            "colorscale": [
             [
              0,
              "#0d0887"
             ],
             [
              0.1111111111111111,
              "#46039f"
             ],
             [
              0.2222222222222222,
              "#7201a8"
             ],
             [
              0.3333333333333333,
              "#9c179e"
             ],
             [
              0.4444444444444444,
              "#bd3786"
             ],
             [
              0.5555555555555556,
              "#d8576b"
             ],
             [
              0.6666666666666666,
              "#ed7953"
             ],
             [
              0.7777777777777778,
              "#fb9f3a"
             ],
             [
              0.8888888888888888,
              "#fdca26"
             ],
             [
              1,
              "#f0f921"
             ]
            ],
            "type": "heatmapgl"
           }
          ],
          "histogram": [
           {
            "marker": {
             "pattern": {
              "fillmode": "overlay",
              "size": 10,
              "solidity": 0.2
             }
            },
            "type": "histogram"
           }
          ],
          "histogram2d": [
           {
            "colorbar": {
             "outlinewidth": 0,
             "ticks": ""
            },
            "colorscale": [
             [
              0,
              "#0d0887"
             ],
             [
              0.1111111111111111,
              "#46039f"
             ],
             [
              0.2222222222222222,
              "#7201a8"
             ],
             [
              0.3333333333333333,
              "#9c179e"
             ],
             [
              0.4444444444444444,
              "#bd3786"
             ],
             [
              0.5555555555555556,
              "#d8576b"
             ],
             [
              0.6666666666666666,
              "#ed7953"
             ],
             [
              0.7777777777777778,
              "#fb9f3a"
             ],
             [
              0.8888888888888888,
              "#fdca26"
             ],
             [
              1,
              "#f0f921"
             ]
            ],
            "type": "histogram2d"
           }
          ],
          "histogram2dcontour": [
           {
            "colorbar": {
             "outlinewidth": 0,
             "ticks": ""
            },
            "colorscale": [
             [
              0,
              "#0d0887"
             ],
             [
              0.1111111111111111,
              "#46039f"
             ],
             [
              0.2222222222222222,
              "#7201a8"
             ],
             [
              0.3333333333333333,
              "#9c179e"
             ],
             [
              0.4444444444444444,
              "#bd3786"
             ],
             [
              0.5555555555555556,
              "#d8576b"
             ],
             [
              0.6666666666666666,
              "#ed7953"
             ],
             [
              0.7777777777777778,
              "#fb9f3a"
             ],
             [
              0.8888888888888888,
              "#fdca26"
             ],
             [
              1,
              "#f0f921"
             ]
            ],
            "type": "histogram2dcontour"
           }
          ],
          "mesh3d": [
           {
            "colorbar": {
             "outlinewidth": 0,
             "ticks": ""
            },
            "type": "mesh3d"
           }
          ],
          "parcoords": [
           {
            "line": {
             "colorbar": {
              "outlinewidth": 0,
              "ticks": ""
             }
            },
            "type": "parcoords"
           }
          ],
          "pie": [
           {
            "automargin": true,
            "type": "pie"
           }
          ],
          "scatter": [
           {
            "fillpattern": {
             "fillmode": "overlay",
             "size": 10,
             "solidity": 0.2
            },
            "type": "scatter"
           }
          ],
          "scatter3d": [
           {
            "line": {
             "colorbar": {
              "outlinewidth": 0,
              "ticks": ""
             }
            },
            "marker": {
             "colorbar": {
              "outlinewidth": 0,
              "ticks": ""
             }
            },
            "type": "scatter3d"
           }
          ],
          "scattercarpet": [
           {
            "marker": {
             "colorbar": {
              "outlinewidth": 0,
              "ticks": ""
             }
            },
            "type": "scattercarpet"
           }
          ],
          "scattergeo": [
           {
            "marker": {
             "colorbar": {
              "outlinewidth": 0,
              "ticks": ""
             }
            },
            "type": "scattergeo"
           }
          ],
          "scattergl": [
           {
            "marker": {
             "colorbar": {
              "outlinewidth": 0,
              "ticks": ""
             }
            },
            "type": "scattergl"
           }
          ],
          "scattermapbox": [
           {
            "marker": {
             "colorbar": {
              "outlinewidth": 0,
              "ticks": ""
             }
            },
            "type": "scattermapbox"
           }
          ],
          "scatterpolar": [
           {
            "marker": {
             "colorbar": {
              "outlinewidth": 0,
              "ticks": ""
             }
            },
            "type": "scatterpolar"
           }
          ],
          "scatterpolargl": [
           {
            "marker": {
             "colorbar": {
              "outlinewidth": 0,
              "ticks": ""
             }
            },
            "type": "scatterpolargl"
           }
          ],
          "scatterternary": [
           {
            "marker": {
             "colorbar": {
              "outlinewidth": 0,
              "ticks": ""
             }
            },
            "type": "scatterternary"
           }
          ],
          "surface": [
           {
            "colorbar": {
             "outlinewidth": 0,
             "ticks": ""
            },
            "colorscale": [
             [
              0,
              "#0d0887"
             ],
             [
              0.1111111111111111,
              "#46039f"
             ],
             [
              0.2222222222222222,
              "#7201a8"
             ],
             [
              0.3333333333333333,
              "#9c179e"
             ],
             [
              0.4444444444444444,
              "#bd3786"
             ],
             [
              0.5555555555555556,
              "#d8576b"
             ],
             [
              0.6666666666666666,
              "#ed7953"
             ],
             [
              0.7777777777777778,
              "#fb9f3a"
             ],
             [
              0.8888888888888888,
              "#fdca26"
             ],
             [
              1,
              "#f0f921"
             ]
            ],
            "type": "surface"
           }
          ],
          "table": [
           {
            "cells": {
             "fill": {
              "color": "#EBF0F8"
             },
             "line": {
              "color": "white"
             }
            },
            "header": {
             "fill": {
              "color": "#C8D4E3"
             },
             "line": {
              "color": "white"
             }
            },
            "type": "table"
           }
          ]
         },
         "layout": {
          "annotationdefaults": {
           "arrowcolor": "#2a3f5f",
           "arrowhead": 0,
           "arrowwidth": 1
          },
          "autotypenumbers": "strict",
          "coloraxis": {
           "colorbar": {
            "outlinewidth": 0,
            "ticks": ""
           }
          },
          "colorscale": {
           "diverging": [
            [
             0,
             "#8e0152"
            ],
            [
             0.1,
             "#c51b7d"
            ],
            [
             0.2,
             "#de77ae"
            ],
            [
             0.3,
             "#f1b6da"
            ],
            [
             0.4,
             "#fde0ef"
            ],
            [
             0.5,
             "#f7f7f7"
            ],
            [
             0.6,
             "#e6f5d0"
            ],
            [
             0.7,
             "#b8e186"
            ],
            [
             0.8,
             "#7fbc41"
            ],
            [
             0.9,
             "#4d9221"
            ],
            [
             1,
             "#276419"
            ]
           ],
           "sequential": [
            [
             0,
             "#0d0887"
            ],
            [
             0.1111111111111111,
             "#46039f"
            ],
            [
             0.2222222222222222,
             "#7201a8"
            ],
            [
             0.3333333333333333,
             "#9c179e"
            ],
            [
             0.4444444444444444,
             "#bd3786"
            ],
            [
             0.5555555555555556,
             "#d8576b"
            ],
            [
             0.6666666666666666,
             "#ed7953"
            ],
            [
             0.7777777777777778,
             "#fb9f3a"
            ],
            [
             0.8888888888888888,
             "#fdca26"
            ],
            [
             1,
             "#f0f921"
            ]
           ],
           "sequentialminus": [
            [
             0,
             "#0d0887"
            ],
            [
             0.1111111111111111,
             "#46039f"
            ],
            [
             0.2222222222222222,
             "#7201a8"
            ],
            [
             0.3333333333333333,
             "#9c179e"
            ],
            [
             0.4444444444444444,
             "#bd3786"
            ],
            [
             0.5555555555555556,
             "#d8576b"
            ],
            [
             0.6666666666666666,
             "#ed7953"
            ],
            [
             0.7777777777777778,
             "#fb9f3a"
            ],
            [
             0.8888888888888888,
             "#fdca26"
            ],
            [
             1,
             "#f0f921"
            ]
           ]
          },
          "colorway": [
           "#636efa",
           "#EF553B",
           "#00cc96",
           "#ab63fa",
           "#FFA15A",
           "#19d3f3",
           "#FF6692",
           "#B6E880",
           "#FF97FF",
           "#FECB52"
          ],
          "font": {
           "color": "#2a3f5f"
          },
          "geo": {
           "bgcolor": "white",
           "lakecolor": "white",
           "landcolor": "#E5ECF6",
           "showlakes": true,
           "showland": true,
           "subunitcolor": "white"
          },
          "hoverlabel": {
           "align": "left"
          },
          "hovermode": "closest",
          "mapbox": {
           "style": "light"
          },
          "paper_bgcolor": "white",
          "plot_bgcolor": "#E5ECF6",
          "polar": {
           "angularaxis": {
            "gridcolor": "white",
            "linecolor": "white",
            "ticks": ""
           },
           "bgcolor": "#E5ECF6",
           "radialaxis": {
            "gridcolor": "white",
            "linecolor": "white",
            "ticks": ""
           }
          },
          "scene": {
           "xaxis": {
            "backgroundcolor": "#E5ECF6",
            "gridcolor": "white",
            "gridwidth": 2,
            "linecolor": "white",
            "showbackground": true,
            "ticks": "",
            "zerolinecolor": "white"
           },
           "yaxis": {
            "backgroundcolor": "#E5ECF6",
            "gridcolor": "white",
            "gridwidth": 2,
            "linecolor": "white",
            "showbackground": true,
            "ticks": "",
            "zerolinecolor": "white"
           },
           "zaxis": {
            "backgroundcolor": "#E5ECF6",
            "gridcolor": "white",
            "gridwidth": 2,
            "linecolor": "white",
            "showbackground": true,
            "ticks": "",
            "zerolinecolor": "white"
           }
          },
          "shapedefaults": {
           "line": {
            "color": "#2a3f5f"
           }
          },
          "ternary": {
           "aaxis": {
            "gridcolor": "white",
            "linecolor": "white",
            "ticks": ""
           },
           "baxis": {
            "gridcolor": "white",
            "linecolor": "white",
            "ticks": ""
           },
           "bgcolor": "#E5ECF6",
           "caxis": {
            "gridcolor": "white",
            "linecolor": "white",
            "ticks": ""
           }
          },
          "title": {
           "x": 0.05
          },
          "xaxis": {
           "automargin": true,
           "gridcolor": "white",
           "linecolor": "white",
           "ticks": "",
           "title": {
            "standoff": 15
           },
           "zerolinecolor": "white",
           "zerolinewidth": 2
          },
          "yaxis": {
           "automargin": true,
           "gridcolor": "white",
           "linecolor": "white",
           "ticks": "",
           "title": {
            "standoff": 15
           },
           "zerolinecolor": "white",
           "zerolinewidth": 2
          }
         }
        },
        "title": {
         "text": "Optimization History Plot"
        },
        "xaxis": {
         "title": {
          "text": "Trial"
         }
        },
        "yaxis": {
         "title": {
          "text": "Objective Value"
         }
        }
       }
      }
     },
     "metadata": {},
     "output_type": "display_data"
    }
   ],
   "source": [
    "# Visualizing optimization\n",
    "optuna.visualization.plot_optimization_history(study)"
   ]
  },
  {
   "cell_type": "code",
   "execution_count": 16,
   "metadata": {},
   "outputs": [
    {
     "data": {
      "application/vnd.plotly.v1+json": {
       "config": {
        "plotlyServerURL": "https://plot.ly"
       },
       "data": [
        {
         "marker": {
          "color": [
           0,
           1,
           2,
           3,
           4,
           5,
           6,
           7,
           8,
           9,
           10,
           11,
           12,
           13,
           14,
           15,
           16,
           17,
           18,
           19,
           20,
           21,
           22,
           23,
           24,
           25,
           26,
           27,
           28,
           29,
           30,
           31,
           32,
           33,
           34,
           35,
           36,
           37,
           38,
           39,
           40,
           41,
           42,
           43,
           44,
           45,
           46,
           47,
           48,
           49,
           50,
           51,
           52,
           53,
           54,
           55,
           56,
           57,
           58,
           59,
           60,
           61,
           62,
           63,
           64,
           65,
           66,
           67,
           68,
           69,
           70,
           71,
           72,
           73,
           74,
           75,
           76,
           77,
           78,
           79,
           80,
           81,
           82,
           83,
           84,
           85,
           86,
           87,
           88,
           89,
           90,
           91,
           92,
           93,
           94,
           95,
           96,
           97,
           98,
           99
          ],
          "colorbar": {
           "title": {
            "text": "Trial"
           },
           "x": 1,
           "xpad": 40
          },
          "colorscale": [
           [
            0,
            "rgb(247,251,255)"
           ],
           [
            0.125,
            "rgb(222,235,247)"
           ],
           [
            0.25,
            "rgb(198,219,239)"
           ],
           [
            0.375,
            "rgb(158,202,225)"
           ],
           [
            0.5,
            "rgb(107,174,214)"
           ],
           [
            0.625,
            "rgb(66,146,198)"
           ],
           [
            0.75,
            "rgb(33,113,181)"
           ],
           [
            0.875,
            "rgb(8,81,156)"
           ],
           [
            1,
            "rgb(8,48,107)"
           ]
          ],
          "line": {
           "color": "Grey",
           "width": 0.5
          },
          "showscale": true
         },
         "mode": "markers",
         "name": "Feasible Trial",
         "showlegend": false,
         "type": "scatter",
         "x": [
          "scale",
          "scale",
          "auto",
          "scale",
          "scale",
          "auto",
          "scale",
          "auto",
          "auto",
          "scale",
          "auto",
          "auto",
          "scale",
          "scale",
          "scale",
          "scale",
          "auto",
          "auto",
          "auto",
          "auto",
          "scale",
          "scale",
          "scale",
          "scale",
          "auto",
          "auto",
          "scale",
          "auto",
          "scale",
          "scale",
          "auto",
          "auto",
          "auto",
          "scale",
          "auto",
          "auto",
          "auto",
          "scale",
          "scale",
          "auto",
          "scale",
          "auto",
          "scale",
          "scale",
          "scale",
          "auto",
          "scale",
          "scale",
          "auto",
          "scale",
          "auto",
          "auto",
          "auto",
          "scale",
          "scale",
          "scale",
          "scale",
          "scale",
          "scale",
          "scale",
          "scale",
          "scale",
          "auto",
          "auto",
          "auto",
          "auto",
          "auto",
          "auto",
          "auto",
          "auto",
          "auto",
          "auto",
          "auto",
          "auto",
          "auto",
          "auto",
          "auto",
          "auto",
          "auto",
          "auto",
          "auto",
          "auto",
          "auto",
          "scale",
          "auto",
          "scale",
          "auto",
          "auto",
          "auto",
          "auto",
          "scale",
          "auto",
          "auto",
          "auto",
          "auto",
          "scale",
          "scale",
          "auto",
          "scale",
          "scale"
         ],
         "xaxis": "x",
         "y": [
          0.8947802197802197,
          0.8623626373626374,
          0.8968063186813188,
          0.8696085164835166,
          0.864114010989011,
          0.8655906593406593,
          0.9103021978021978,
          0.6084478021978021,
          0.8672733516483516,
          0.8760645604395604,
          0.8907967032967032,
          0.8893887362637363,
          0.17987637362637363,
          0.910576923076923,
          0.9114697802197803,
          0.8934409340659342,
          0.8912087912087913,
          0.9095123626373626,
          0.9079670329670328,
          0.8906936813186814,
          0.9090659340659342,
          0.9098214285714284,
          0.9,
          0.8903502747252748,
          0.9128090659340661,
          0.9043612637362637,
          0.9112293956043958,
          0.9077953296703297,
          0.8713598901098901,
          0.8990728021978022,
          0.9050824175824175,
          0.9080013736263736,
          0.9097527472527472,
          0.9050824175824177,
          0.9077266483516485,
          0.8199175824175823,
          0.8362293956043956,
          0.9077953296703297,
          0.9039148351648351,
          0.9102678571428571,
          0.8883585164835166,
          0.9109203296703298,
          0.91301510989011,
          0.908379120879121,
          0.9119505494505493,
          0.9095467032967033,
          0.910164835164835,
          0.8893887362637363,
          0.9008928571428572,
          0.9026442307692306,
          0.9115384615384615,
          0.9084478021978022,
          0.9088598901098901,
          0.9084821428571427,
          0.9137362637362638,
          0.8044642857142857,
          0.9128090659340661,
          0.9128090659340661,
          0.9128090659340661,
          0.9114697802197803,
          0.9093406593406593,
          0.8912087912087913,
          0.9141140109890111,
          0.9141483516483516,
          0.9141483516483516,
          0.9141483516483516,
          0.9141483516483516,
          0.9141483516483516,
          0.9141483516483516,
          0.9141483516483516,
          0.9141483516483516,
          0.9137019230769232,
          0.9137362637362638,
          0.9137362637362638,
          0.9137362637362638,
          0.9137362637362638,
          0.9137362637362638,
          0.9128090659340661,
          0.896565934065934,
          0.9137362637362638,
          0.8992101648351648,
          0.9141140109890111,
          0.9128090659340661,
          0.829532967032967,
          0.9123626373626375,
          0.8881524725274726,
          0.9105082417582417,
          0.9119505494505494,
          0.9114697802197801,
          0.9069368131868133,
          0.9073145604395604,
          0.9119848901098901,
          0.9086538461538461,
          0.9115384615384615,
          0.9019230769230768,
          0.9120192307692309,
          0.9126030219780221,
          0.9109203296703298,
          0.9102678571428571,
          0.9129120879120878
         ],
         "yaxis": "y"
        },
        {
         "marker": {
          "color": [
           0,
           1,
           2,
           3,
           4,
           5,
           6,
           7,
           8,
           9,
           10,
           11,
           12,
           13,
           14,
           15,
           16,
           17,
           18,
           19,
           20,
           21,
           22,
           23,
           24,
           25,
           26,
           27,
           28,
           29,
           30,
           31,
           32,
           33,
           34,
           35,
           36,
           37,
           38,
           39,
           40,
           41,
           42,
           43,
           44,
           45,
           46,
           47,
           48,
           49,
           50,
           51,
           52,
           53,
           54,
           55,
           56,
           57,
           58,
           59,
           60,
           61,
           62,
           63,
           64,
           65,
           66,
           67,
           68,
           69,
           70,
           71,
           72,
           73,
           74,
           75,
           76,
           77,
           78,
           79,
           80,
           81,
           82,
           83,
           84,
           85,
           86,
           87,
           88,
           89,
           90,
           91,
           92,
           93,
           94,
           95,
           96,
           97,
           98,
           99
          ],
          "colorbar": {
           "title": {
            "text": "Trial"
           },
           "x": 1,
           "xpad": 40
          },
          "colorscale": [
           [
            0,
            "rgb(247,251,255)"
           ],
           [
            0.125,
            "rgb(222,235,247)"
           ],
           [
            0.25,
            "rgb(198,219,239)"
           ],
           [
            0.375,
            "rgb(158,202,225)"
           ],
           [
            0.5,
            "rgb(107,174,214)"
           ],
           [
            0.625,
            "rgb(66,146,198)"
           ],
           [
            0.75,
            "rgb(33,113,181)"
           ],
           [
            0.875,
            "rgb(8,81,156)"
           ],
           [
            1,
            "rgb(8,48,107)"
           ]
          ],
          "line": {
           "color": "Grey",
           "width": 0.5
          },
          "showscale": false
         },
         "mode": "markers",
         "name": "Feasible Trial",
         "showlegend": false,
         "type": "scatter",
         "x": [
          "rbf",
          "rbf",
          "poly",
          "poly",
          "poly",
          "poly",
          "sigmoid",
          "linear",
          "rbf",
          "poly",
          "sigmoid",
          "poly",
          "sigmoid",
          "sigmoid",
          "linear",
          "rbf",
          "linear",
          "sigmoid",
          "linear",
          "rbf",
          "linear",
          "sigmoid",
          "poly",
          "sigmoid",
          "linear",
          "rbf",
          "linear",
          "sigmoid",
          "rbf",
          "rbf",
          "rbf",
          "sigmoid",
          "linear",
          "linear",
          "linear",
          "poly",
          "rbf",
          "sigmoid",
          "linear",
          "linear",
          "linear",
          "linear",
          "sigmoid",
          "sigmoid",
          "linear",
          "linear",
          "linear",
          "rbf",
          "poly",
          "poly",
          "linear",
          "sigmoid",
          "sigmoid",
          "sigmoid",
          "linear",
          "poly",
          "linear",
          "linear",
          "linear",
          "linear",
          "linear",
          "linear",
          "linear",
          "linear",
          "linear",
          "linear",
          "linear",
          "linear",
          "linear",
          "linear",
          "linear",
          "linear",
          "linear",
          "linear",
          "linear",
          "linear",
          "linear",
          "linear",
          "rbf",
          "linear",
          "rbf",
          "linear",
          "linear",
          "poly",
          "linear",
          "sigmoid",
          "linear",
          "linear",
          "linear",
          "rbf",
          "linear",
          "linear",
          "linear",
          "linear",
          "sigmoid",
          "sigmoid",
          "sigmoid",
          "linear",
          "sigmoid",
          "sigmoid"
         ],
         "xaxis": "x2",
         "y": [
          0.8947802197802197,
          0.8623626373626374,
          0.8968063186813188,
          0.8696085164835166,
          0.864114010989011,
          0.8655906593406593,
          0.9103021978021978,
          0.6084478021978021,
          0.8672733516483516,
          0.8760645604395604,
          0.8907967032967032,
          0.8893887362637363,
          0.17987637362637363,
          0.910576923076923,
          0.9114697802197803,
          0.8934409340659342,
          0.8912087912087913,
          0.9095123626373626,
          0.9079670329670328,
          0.8906936813186814,
          0.9090659340659342,
          0.9098214285714284,
          0.9,
          0.8903502747252748,
          0.9128090659340661,
          0.9043612637362637,
          0.9112293956043958,
          0.9077953296703297,
          0.8713598901098901,
          0.8990728021978022,
          0.9050824175824175,
          0.9080013736263736,
          0.9097527472527472,
          0.9050824175824177,
          0.9077266483516485,
          0.8199175824175823,
          0.8362293956043956,
          0.9077953296703297,
          0.9039148351648351,
          0.9102678571428571,
          0.8883585164835166,
          0.9109203296703298,
          0.91301510989011,
          0.908379120879121,
          0.9119505494505493,
          0.9095467032967033,
          0.910164835164835,
          0.8893887362637363,
          0.9008928571428572,
          0.9026442307692306,
          0.9115384615384615,
          0.9084478021978022,
          0.9088598901098901,
          0.9084821428571427,
          0.9137362637362638,
          0.8044642857142857,
          0.9128090659340661,
          0.9128090659340661,
          0.9128090659340661,
          0.9114697802197803,
          0.9093406593406593,
          0.8912087912087913,
          0.9141140109890111,
          0.9141483516483516,
          0.9141483516483516,
          0.9141483516483516,
          0.9141483516483516,
          0.9141483516483516,
          0.9141483516483516,
          0.9141483516483516,
          0.9141483516483516,
          0.9137019230769232,
          0.9137362637362638,
          0.9137362637362638,
          0.9137362637362638,
          0.9137362637362638,
          0.9137362637362638,
          0.9128090659340661,
          0.896565934065934,
          0.9137362637362638,
          0.8992101648351648,
          0.9141140109890111,
          0.9128090659340661,
          0.829532967032967,
          0.9123626373626375,
          0.8881524725274726,
          0.9105082417582417,
          0.9119505494505494,
          0.9114697802197801,
          0.9069368131868133,
          0.9073145604395604,
          0.9119848901098901,
          0.9086538461538461,
          0.9115384615384615,
          0.9019230769230768,
          0.9120192307692309,
          0.9126030219780221,
          0.9109203296703298,
          0.9102678571428571,
          0.9129120879120878
         ],
         "yaxis": "y2"
        },
        {
         "marker": {
          "color": [
           0,
           1,
           2,
           3,
           4,
           5,
           6,
           7,
           8,
           9,
           10,
           11,
           12,
           13,
           14,
           15,
           16,
           17,
           18,
           19,
           20,
           21,
           22,
           23,
           24,
           25,
           26,
           27,
           28,
           29,
           30,
           31,
           32,
           33,
           34,
           35,
           36,
           37,
           38,
           39,
           40,
           41,
           42,
           43,
           44,
           45,
           46,
           47,
           48,
           49,
           50,
           51,
           52,
           53,
           54,
           55,
           56,
           57,
           58,
           59,
           60,
           61,
           62,
           63,
           64,
           65,
           66,
           67,
           68,
           69,
           70,
           71,
           72,
           73,
           74,
           75,
           76,
           77,
           78,
           79,
           80,
           81,
           82,
           83,
           84,
           85,
           86,
           87,
           88,
           89,
           90,
           91,
           92,
           93,
           94,
           95,
           96,
           97,
           98,
           99
          ],
          "colorbar": {
           "title": {
            "text": "Trial"
           },
           "x": 1,
           "xpad": 40
          },
          "colorscale": [
           [
            0,
            "rgb(247,251,255)"
           ],
           [
            0.125,
            "rgb(222,235,247)"
           ],
           [
            0.25,
            "rgb(198,219,239)"
           ],
           [
            0.375,
            "rgb(158,202,225)"
           ],
           [
            0.5,
            "rgb(107,174,214)"
           ],
           [
            0.625,
            "rgb(66,146,198)"
           ],
           [
            0.75,
            "rgb(33,113,181)"
           ],
           [
            0.875,
            "rgb(8,81,156)"
           ],
           [
            1,
            "rgb(8,48,107)"
           ]
          ],
          "line": {
           "color": "Grey",
           "width": 0.5
          },
          "showscale": false
         },
         "mode": "markers",
         "name": "Feasible Trial",
         "showlegend": false,
         "type": "scatter",
         "x": [
          0.6731675018697041,
          0.1676535980560012,
          0.554656476377679,
          0.38276479907063965,
          0.32644992282499724,
          0.35971046612972957,
          0.3638183908572278,
          0.12327873897121304,
          0.21127370353927669,
          0.41711639536431566,
          0.9,
          0.8999999999999996,
          0.10000000000000002,
          0.5591522153140853,
          0.5760895440447094,
          0.3241914118375861,
          0.9,
          0.4621315166099611,
          0.4217184821252792,
          0.9,
          0.362735503807599,
          0.4371797471633648,
          0.775088841160347,
          0.9,
          0.5977271337251437,
          0.5442384506761516,
          0.4588300341336712,
          0.6261994669473134,
          0.23513211575600015,
          0.45802586489449176,
          0.3915425036038715,
          0.3729960811743076,
          0.5336522143791123,
          0.711151684789327,
          0.6584563758278916,
          0.14744697458713552,
          0.10000000000000002,
          0.6613045379615576,
          0.41379064774051294,
          0.31824511890790536,
          0.2954695643571592,
          0.3540414155189207,
          0.403510447538528,
          0.40223469147502183,
          0.5540215163178355,
          0.35176823372190597,
          0.5491822216109521,
          0.9,
          0.7004001843112379,
          0.6208741720923904,
          0.5670900096993696,
          0.5323672357717886,
          0.4152013235628379,
          0.5082040007035457,
          0.5913161563692121,
          0.10000000000000002,
          0.5982299647889667,
          0.5981722820514599,
          0.5985894243206329,
          0.5994872513194478,
          0.5369645117645075,
          0.9,
          0.5865183254669369,
          0.5875499385362177,
          0.5879484969722775,
          0.5883095352549415,
          0.5886806823787808,
          0.5891291820094509,
          0.5895499942083525,
          0.5900147547675855,
          0.590477237208294,
          0.5909568453071976,
          0.591432857986407,
          0.5919929829663239,
          0.5926372713855134,
          0.5933293082729284,
          0.5941693866798126,
          0.5950631592859623,
          0.6987473941847332,
          0.5917422398036752,
          0.3153751225943441,
          0.5840304434109779,
          0.5957912270033897,
          0.20558904665727532,
          0.5794282740620644,
          0.31551802988703476,
          0.6014766877773574,
          0.5684419375362095,
          0.5697125095495362,
          0.4614022987743099,
          0.6191035253408456,
          0.5633469664165646,
          0.6089550024734386,
          0.5548484547930926,
          0.719005080964136,
          0.5921241578308579,
          0.38562082285236343,
          0.34219698815658284,
          0.3852331191638783,
          0.5922974930438792
         ],
         "xaxis": "x3",
         "y": [
          0.8947802197802197,
          0.8623626373626374,
          0.8968063186813188,
          0.8696085164835166,
          0.864114010989011,
          0.8655906593406593,
          0.9103021978021978,
          0.6084478021978021,
          0.8672733516483516,
          0.8760645604395604,
          0.8907967032967032,
          0.8893887362637363,
          0.17987637362637363,
          0.910576923076923,
          0.9114697802197803,
          0.8934409340659342,
          0.8912087912087913,
          0.9095123626373626,
          0.9079670329670328,
          0.8906936813186814,
          0.9090659340659342,
          0.9098214285714284,
          0.9,
          0.8903502747252748,
          0.9128090659340661,
          0.9043612637362637,
          0.9112293956043958,
          0.9077953296703297,
          0.8713598901098901,
          0.8990728021978022,
          0.9050824175824175,
          0.9080013736263736,
          0.9097527472527472,
          0.9050824175824177,
          0.9077266483516485,
          0.8199175824175823,
          0.8362293956043956,
          0.9077953296703297,
          0.9039148351648351,
          0.9102678571428571,
          0.8883585164835166,
          0.9109203296703298,
          0.91301510989011,
          0.908379120879121,
          0.9119505494505493,
          0.9095467032967033,
          0.910164835164835,
          0.8893887362637363,
          0.9008928571428572,
          0.9026442307692306,
          0.9115384615384615,
          0.9084478021978022,
          0.9088598901098901,
          0.9084821428571427,
          0.9137362637362638,
          0.8044642857142857,
          0.9128090659340661,
          0.9128090659340661,
          0.9128090659340661,
          0.9114697802197803,
          0.9093406593406593,
          0.8912087912087913,
          0.9141140109890111,
          0.9141483516483516,
          0.9141483516483516,
          0.9141483516483516,
          0.9141483516483516,
          0.9141483516483516,
          0.9141483516483516,
          0.9141483516483516,
          0.9141483516483516,
          0.9137019230769232,
          0.9137362637362638,
          0.9137362637362638,
          0.9137362637362638,
          0.9137362637362638,
          0.9137362637362638,
          0.9128090659340661,
          0.896565934065934,
          0.9137362637362638,
          0.8992101648351648,
          0.9141140109890111,
          0.9128090659340661,
          0.829532967032967,
          0.9123626373626375,
          0.8881524725274726,
          0.9105082417582417,
          0.9119505494505494,
          0.9114697802197801,
          0.9069368131868133,
          0.9073145604395604,
          0.9119848901098901,
          0.9086538461538461,
          0.9115384615384615,
          0.9019230769230768,
          0.9120192307692309,
          0.9126030219780221,
          0.9109203296703298,
          0.9102678571428571,
          0.9129120879120878
         ],
         "yaxis": "y3"
        }
       ],
       "layout": {
        "template": {
         "data": {
          "bar": [
           {
            "error_x": {
             "color": "#2a3f5f"
            },
            "error_y": {
             "color": "#2a3f5f"
            },
            "marker": {
             "line": {
              "color": "#E5ECF6",
              "width": 0.5
             },
             "pattern": {
              "fillmode": "overlay",
              "size": 10,
              "solidity": 0.2
             }
            },
            "type": "bar"
           }
          ],
          "barpolar": [
           {
            "marker": {
             "line": {
              "color": "#E5ECF6",
              "width": 0.5
             },
             "pattern": {
              "fillmode": "overlay",
              "size": 10,
              "solidity": 0.2
             }
            },
            "type": "barpolar"
           }
          ],
          "carpet": [
           {
            "aaxis": {
             "endlinecolor": "#2a3f5f",
             "gridcolor": "white",
             "linecolor": "white",
             "minorgridcolor": "white",
             "startlinecolor": "#2a3f5f"
            },
            "baxis": {
             "endlinecolor": "#2a3f5f",
             "gridcolor": "white",
             "linecolor": "white",
             "minorgridcolor": "white",
             "startlinecolor": "#2a3f5f"
            },
            "type": "carpet"
           }
          ],
          "choropleth": [
           {
            "colorbar": {
             "outlinewidth": 0,
             "ticks": ""
            },
            "type": "choropleth"
           }
          ],
          "contour": [
           {
            "colorbar": {
             "outlinewidth": 0,
             "ticks": ""
            },
            "colorscale": [
             [
              0,
              "#0d0887"
             ],
             [
              0.1111111111111111,
              "#46039f"
             ],
             [
              0.2222222222222222,
              "#7201a8"
             ],
             [
              0.3333333333333333,
              "#9c179e"
             ],
             [
              0.4444444444444444,
              "#bd3786"
             ],
             [
              0.5555555555555556,
              "#d8576b"
             ],
             [
              0.6666666666666666,
              "#ed7953"
             ],
             [
              0.7777777777777778,
              "#fb9f3a"
             ],
             [
              0.8888888888888888,
              "#fdca26"
             ],
             [
              1,
              "#f0f921"
             ]
            ],
            "type": "contour"
           }
          ],
          "contourcarpet": [
           {
            "colorbar": {
             "outlinewidth": 0,
             "ticks": ""
            },
            "type": "contourcarpet"
           }
          ],
          "heatmap": [
           {
            "colorbar": {
             "outlinewidth": 0,
             "ticks": ""
            },
            "colorscale": [
             [
              0,
              "#0d0887"
             ],
             [
              0.1111111111111111,
              "#46039f"
             ],
             [
              0.2222222222222222,
              "#7201a8"
             ],
             [
              0.3333333333333333,
              "#9c179e"
             ],
             [
              0.4444444444444444,
              "#bd3786"
             ],
             [
              0.5555555555555556,
              "#d8576b"
             ],
             [
              0.6666666666666666,
              "#ed7953"
             ],
             [
              0.7777777777777778,
              "#fb9f3a"
             ],
             [
              0.8888888888888888,
              "#fdca26"
             ],
             [
              1,
              "#f0f921"
             ]
            ],
            "type": "heatmap"
           }
          ],
          "heatmapgl": [
           {
            "colorbar": {
             "outlinewidth": 0,
             "ticks": ""
            },
            "colorscale": [
             [
              0,
              "#0d0887"
             ],
             [
              0.1111111111111111,
              "#46039f"
             ],
             [
              0.2222222222222222,
              "#7201a8"
             ],
             [
              0.3333333333333333,
              "#9c179e"
             ],
             [
              0.4444444444444444,
              "#bd3786"
             ],
             [
              0.5555555555555556,
              "#d8576b"
             ],
             [
              0.6666666666666666,
              "#ed7953"
             ],
             [
              0.7777777777777778,
              "#fb9f3a"
             ],
             [
              0.8888888888888888,
              "#fdca26"
             ],
             [
              1,
              "#f0f921"
             ]
            ],
            "type": "heatmapgl"
           }
          ],
          "histogram": [
           {
            "marker": {
             "pattern": {
              "fillmode": "overlay",
              "size": 10,
              "solidity": 0.2
             }
            },
            "type": "histogram"
           }
          ],
          "histogram2d": [
           {
            "colorbar": {
             "outlinewidth": 0,
             "ticks": ""
            },
            "colorscale": [
             [
              0,
              "#0d0887"
             ],
             [
              0.1111111111111111,
              "#46039f"
             ],
             [
              0.2222222222222222,
              "#7201a8"
             ],
             [
              0.3333333333333333,
              "#9c179e"
             ],
             [
              0.4444444444444444,
              "#bd3786"
             ],
             [
              0.5555555555555556,
              "#d8576b"
             ],
             [
              0.6666666666666666,
              "#ed7953"
             ],
             [
              0.7777777777777778,
              "#fb9f3a"
             ],
             [
              0.8888888888888888,
              "#fdca26"
             ],
             [
              1,
              "#f0f921"
             ]
            ],
            "type": "histogram2d"
           }
          ],
          "histogram2dcontour": [
           {
            "colorbar": {
             "outlinewidth": 0,
             "ticks": ""
            },
            "colorscale": [
             [
              0,
              "#0d0887"
             ],
             [
              0.1111111111111111,
              "#46039f"
             ],
             [
              0.2222222222222222,
              "#7201a8"
             ],
             [
              0.3333333333333333,
              "#9c179e"
             ],
             [
              0.4444444444444444,
              "#bd3786"
             ],
             [
              0.5555555555555556,
              "#d8576b"
             ],
             [
              0.6666666666666666,
              "#ed7953"
             ],
             [
              0.7777777777777778,
              "#fb9f3a"
             ],
             [
              0.8888888888888888,
              "#fdca26"
             ],
             [
              1,
              "#f0f921"
             ]
            ],
            "type": "histogram2dcontour"
           }
          ],
          "mesh3d": [
           {
            "colorbar": {
             "outlinewidth": 0,
             "ticks": ""
            },
            "type": "mesh3d"
           }
          ],
          "parcoords": [
           {
            "line": {
             "colorbar": {
              "outlinewidth": 0,
              "ticks": ""
             }
            },
            "type": "parcoords"
           }
          ],
          "pie": [
           {
            "automargin": true,
            "type": "pie"
           }
          ],
          "scatter": [
           {
            "fillpattern": {
             "fillmode": "overlay",
             "size": 10,
             "solidity": 0.2
            },
            "type": "scatter"
           }
          ],
          "scatter3d": [
           {
            "line": {
             "colorbar": {
              "outlinewidth": 0,
              "ticks": ""
             }
            },
            "marker": {
             "colorbar": {
              "outlinewidth": 0,
              "ticks": ""
             }
            },
            "type": "scatter3d"
           }
          ],
          "scattercarpet": [
           {
            "marker": {
             "colorbar": {
              "outlinewidth": 0,
              "ticks": ""
             }
            },
            "type": "scattercarpet"
           }
          ],
          "scattergeo": [
           {
            "marker": {
             "colorbar": {
              "outlinewidth": 0,
              "ticks": ""
             }
            },
            "type": "scattergeo"
           }
          ],
          "scattergl": [
           {
            "marker": {
             "colorbar": {
              "outlinewidth": 0,
              "ticks": ""
             }
            },
            "type": "scattergl"
           }
          ],
          "scattermapbox": [
           {
            "marker": {
             "colorbar": {
              "outlinewidth": 0,
              "ticks": ""
             }
            },
            "type": "scattermapbox"
           }
          ],
          "scatterpolar": [
           {
            "marker": {
             "colorbar": {
              "outlinewidth": 0,
              "ticks": ""
             }
            },
            "type": "scatterpolar"
           }
          ],
          "scatterpolargl": [
           {
            "marker": {
             "colorbar": {
              "outlinewidth": 0,
              "ticks": ""
             }
            },
            "type": "scatterpolargl"
           }
          ],
          "scatterternary": [
           {
            "marker": {
             "colorbar": {
              "outlinewidth": 0,
              "ticks": ""
             }
            },
            "type": "scatterternary"
           }
          ],
          "surface": [
           {
            "colorbar": {
             "outlinewidth": 0,
             "ticks": ""
            },
            "colorscale": [
             [
              0,
              "#0d0887"
             ],
             [
              0.1111111111111111,
              "#46039f"
             ],
             [
              0.2222222222222222,
              "#7201a8"
             ],
             [
              0.3333333333333333,
              "#9c179e"
             ],
             [
              0.4444444444444444,
              "#bd3786"
             ],
             [
              0.5555555555555556,
              "#d8576b"
             ],
             [
              0.6666666666666666,
              "#ed7953"
             ],
             [
              0.7777777777777778,
              "#fb9f3a"
             ],
             [
              0.8888888888888888,
              "#fdca26"
             ],
             [
              1,
              "#f0f921"
             ]
            ],
            "type": "surface"
           }
          ],
          "table": [
           {
            "cells": {
             "fill": {
              "color": "#EBF0F8"
             },
             "line": {
              "color": "white"
             }
            },
            "header": {
             "fill": {
              "color": "#C8D4E3"
             },
             "line": {
              "color": "white"
             }
            },
            "type": "table"
           }
          ]
         },
         "layout": {
          "annotationdefaults": {
           "arrowcolor": "#2a3f5f",
           "arrowhead": 0,
           "arrowwidth": 1
          },
          "autotypenumbers": "strict",
          "coloraxis": {
           "colorbar": {
            "outlinewidth": 0,
            "ticks": ""
           }
          },
          "colorscale": {
           "diverging": [
            [
             0,
             "#8e0152"
            ],
            [
             0.1,
             "#c51b7d"
            ],
            [
             0.2,
             "#de77ae"
            ],
            [
             0.3,
             "#f1b6da"
            ],
            [
             0.4,
             "#fde0ef"
            ],
            [
             0.5,
             "#f7f7f7"
            ],
            [
             0.6,
             "#e6f5d0"
            ],
            [
             0.7,
             "#b8e186"
            ],
            [
             0.8,
             "#7fbc41"
            ],
            [
             0.9,
             "#4d9221"
            ],
            [
             1,
             "#276419"
            ]
           ],
           "sequential": [
            [
             0,
             "#0d0887"
            ],
            [
             0.1111111111111111,
             "#46039f"
            ],
            [
             0.2222222222222222,
             "#7201a8"
            ],
            [
             0.3333333333333333,
             "#9c179e"
            ],
            [
             0.4444444444444444,
             "#bd3786"
            ],
            [
             0.5555555555555556,
             "#d8576b"
            ],
            [
             0.6666666666666666,
             "#ed7953"
            ],
            [
             0.7777777777777778,
             "#fb9f3a"
            ],
            [
             0.8888888888888888,
             "#fdca26"
            ],
            [
             1,
             "#f0f921"
            ]
           ],
           "sequentialminus": [
            [
             0,
             "#0d0887"
            ],
            [
             0.1111111111111111,
             "#46039f"
            ],
            [
             0.2222222222222222,
             "#7201a8"
            ],
            [
             0.3333333333333333,
             "#9c179e"
            ],
            [
             0.4444444444444444,
             "#bd3786"
            ],
            [
             0.5555555555555556,
             "#d8576b"
            ],
            [
             0.6666666666666666,
             "#ed7953"
            ],
            [
             0.7777777777777778,
             "#fb9f3a"
            ],
            [
             0.8888888888888888,
             "#fdca26"
            ],
            [
             1,
             "#f0f921"
            ]
           ]
          },
          "colorway": [
           "#636efa",
           "#EF553B",
           "#00cc96",
           "#ab63fa",
           "#FFA15A",
           "#19d3f3",
           "#FF6692",
           "#B6E880",
           "#FF97FF",
           "#FECB52"
          ],
          "font": {
           "color": "#2a3f5f"
          },
          "geo": {
           "bgcolor": "white",
           "lakecolor": "white",
           "landcolor": "#E5ECF6",
           "showlakes": true,
           "showland": true,
           "subunitcolor": "white"
          },
          "hoverlabel": {
           "align": "left"
          },
          "hovermode": "closest",
          "mapbox": {
           "style": "light"
          },
          "paper_bgcolor": "white",
          "plot_bgcolor": "#E5ECF6",
          "polar": {
           "angularaxis": {
            "gridcolor": "white",
            "linecolor": "white",
            "ticks": ""
           },
           "bgcolor": "#E5ECF6",
           "radialaxis": {
            "gridcolor": "white",
            "linecolor": "white",
            "ticks": ""
           }
          },
          "scene": {
           "xaxis": {
            "backgroundcolor": "#E5ECF6",
            "gridcolor": "white",
            "gridwidth": 2,
            "linecolor": "white",
            "showbackground": true,
            "ticks": "",
            "zerolinecolor": "white"
           },
           "yaxis": {
            "backgroundcolor": "#E5ECF6",
            "gridcolor": "white",
            "gridwidth": 2,
            "linecolor": "white",
            "showbackground": true,
            "ticks": "",
            "zerolinecolor": "white"
           },
           "zaxis": {
            "backgroundcolor": "#E5ECF6",
            "gridcolor": "white",
            "gridwidth": 2,
            "linecolor": "white",
            "showbackground": true,
            "ticks": "",
            "zerolinecolor": "white"
           }
          },
          "shapedefaults": {
           "line": {
            "color": "#2a3f5f"
           }
          },
          "ternary": {
           "aaxis": {
            "gridcolor": "white",
            "linecolor": "white",
            "ticks": ""
           },
           "baxis": {
            "gridcolor": "white",
            "linecolor": "white",
            "ticks": ""
           },
           "bgcolor": "#E5ECF6",
           "caxis": {
            "gridcolor": "white",
            "linecolor": "white",
            "ticks": ""
           }
          },
          "title": {
           "x": 0.05
          },
          "xaxis": {
           "automargin": true,
           "gridcolor": "white",
           "linecolor": "white",
           "ticks": "",
           "title": {
            "standoff": 15
           },
           "zerolinecolor": "white",
           "zerolinewidth": 2
          },
          "yaxis": {
           "automargin": true,
           "gridcolor": "white",
           "linecolor": "white",
           "ticks": "",
           "title": {
            "standoff": 15
           },
           "zerolinecolor": "white",
           "zerolinewidth": 2
          }
         }
        },
        "title": {
         "text": "Slice Plot"
        },
        "xaxis": {
         "anchor": "y",
         "categoryarray": [
          "scale",
          "auto"
         ],
         "categoryorder": "array",
         "domain": [
          0,
          0.2888888888888889
         ],
         "title": {
          "text": "gamma"
         },
         "type": "category"
        },
        "xaxis2": {
         "anchor": "y2",
         "categoryarray": [
          "linear",
          "poly",
          "rbf",
          "sigmoid"
         ],
         "categoryorder": "array",
         "domain": [
          0.35555555555555557,
          0.6444444444444445
         ],
         "title": {
          "text": "kernel"
         },
         "type": "category"
        },
        "xaxis3": {
         "anchor": "y3",
         "domain": [
          0.7111111111111111,
          1
         ],
         "title": {
          "text": "nu"
         },
         "type": "log"
        },
        "yaxis": {
         "anchor": "x",
         "domain": [
          0,
          1
         ],
         "title": {
          "text": "Objective Value"
         }
        },
        "yaxis2": {
         "anchor": "x2",
         "domain": [
          0,
          1
         ],
         "matches": "y",
         "showticklabels": false
        },
        "yaxis3": {
         "anchor": "x3",
         "domain": [
          0,
          1
         ],
         "matches": "y",
         "showticklabels": false
        }
       }
      }
     },
     "metadata": {},
     "output_type": "display_data"
    }
   ],
   "source": [
    "optuna.visualization.plot_slice(study)"
   ]
  },
  {
   "cell_type": "code",
   "execution_count": 17,
   "metadata": {},
   "outputs": [
    {
     "name": "stderr",
     "output_type": "stream",
     "text": [
      "[codecarbon WARNING @ 14:17:38] Another instance of codecarbon is already running. Exiting.\n"
     ]
    },
    {
     "name": "stdout",
     "output_type": "stream",
     "text": [
      "Accuracy: 0.8414 ± 0.0592\n",
      "AUC-ROC: 0.9141 ± 0.0350\n"
     ]
    }
   ],
   "source": [
    "# Create optimized model\n",
    "best_params = trial.params\n",
    "model = svm.NuSVC(random_state=Random_Seed, probability=True, **best_params)\n",
    "\n",
    "# Define pipeline depending on whether PCA is requested or not\n",
    "if PC_Features:\n",
    "    steps = [\n",
    "        ('preprocessor', preprocessor),\n",
    "        ('pca', PCA(n_components=12)),\n",
    "        ('SVM-NuSVC-classifier', model)\n",
    "    ]\n",
    "else:\n",
    "    steps = [\n",
    "        ('preprocessor', preprocessor),\n",
    "        ('SVM-NuSVC-classifier', model)\n",
    "    ]\n",
    "    \n",
    "pipeline = Pipeline(steps)\n",
    "\n",
    "# Perform cross-validation\n",
    "cv_results = cross_validate(pipeline, X, y, scoring=['accuracy', 'roc_auc'], cv=K_Folds)\n",
    "\n",
    "# Calculate and display results\n",
    "acc = np.mean(cv_results['test_accuracy'])\n",
    "acc_std = np.std(cv_results['test_accuracy'])\n",
    "roc_auc = np.mean(cv_results['test_roc_auc'])\n",
    "roc_auc_std = np.std(cv_results['test_roc_auc'])\n",
    "\n",
    "print(f\"Accuracy: {acc:.4f} ± {acc_std:.4f}\")\n",
    "print(f\"AUC-ROC: {roc_auc:.4f} ± {roc_auc_std:.4f}\")\n",
    "\n",
    "# Stop emission tracking\n",
    "_ = tracker.stop()"
   ]
  },
  {
   "cell_type": "code",
   "execution_count": 18,
   "metadata": {},
   "outputs": [],
   "source": [
    "# Save evaluation to an external file\n",
    "file = 'scores.csv'\n",
    "\n",
    "results = pd.DataFrame({\n",
    "    'SVM-NuSVC-optimization': [acc, acc_std, roc_auc, roc_auc_std]\n",
    "}, index = ['Accuracy', 'Accuracy STD', 'AUC-ROC', 'AUC-ROC STD'])\n",
    "\n",
    "# Check if file exists\n",
    "if os.path.exists(file):\n",
    "    temp = pd.read_csv(file, index_col=0)\n",
    "    results = pd.concat([temp, results], axis=1)\n",
    "\n",
    "# Export\n",
    "results.to_csv(file)"
   ]
  },
  {
   "attachments": {},
   "cell_type": "markdown",
   "metadata": {},
   "source": [
    "<hr>\n",
    "\n",
    "### LinearSVC classification SVM implementation:"
   ]
  },
  {
   "cell_type": "code",
   "execution_count": 19,
   "metadata": {},
   "outputs": [
    {
     "name": "stderr",
     "output_type": "stream",
     "text": [
      "[codecarbon ERROR @ 14:17:38] Error: Another instance of codecarbon is already running. Turn off the other instance to be able to run this one. Exiting.\n",
      "[codecarbon WARNING @ 14:17:38] Another instance of codecarbon is already running. Exiting.\n"
     ]
    },
    {
     "name": "stderr",
     "output_type": "stream",
     "text": [
      "[codecarbon WARNING @ 14:17:39] Another instance of codecarbon is already running. Exiting.\n"
     ]
    },
    {
     "name": "stdout",
     "output_type": "stream",
     "text": [
      "Accuracy: 0.8448 ± 0.0512\n",
      "AUC-ROC: 0.9124 ± 0.0336\n"
     ]
    }
   ],
   "source": [
    "# ---------------------------------------------------------------------------- #\n",
    "#                                     MODEL                                    #\n",
    "# ---------------------------------------------------------------------------- #\n",
    "\n",
    "# Initiate CodeCarbon to track emissions\n",
    "tracker = EmissionsTracker('LinearSVC SVM model', log_level='warning')\n",
    "tracker.start()\n",
    "\n",
    "# Create model\n",
    "model = svm.LinearSVC(random_state=Random_Seed, dual=False)\n",
    "\n",
    "# Define pipeline depending on whether PCA is requested or not\n",
    "if PC_Features:\n",
    "    steps = [\n",
    "        ('preprocessor', preprocessor),\n",
    "        ('pca', PCA(n_components=12)),\n",
    "        ('SVM-LinearSVC-classifier', model)\n",
    "    ]\n",
    "else:\n",
    "    steps = [\n",
    "        ('preprocessor', preprocessor),\n",
    "        ('SVM-LinearSVC-classifier', model)\n",
    "    ]\n",
    "    \n",
    "pipeline = Pipeline(steps)\n",
    "\n",
    "# Perform cross-validation\n",
    "cv_results = cross_validate(pipeline, X, y, scoring=['accuracy', 'roc_auc'], cv=K_Folds)\n",
    "\n",
    "# Calculate and display results\n",
    "acc = np.mean(cv_results['test_accuracy'])\n",
    "acc_std = np.std(cv_results['test_accuracy'])\n",
    "roc_auc = np.mean(cv_results['test_roc_auc'])\n",
    "roc_auc_std = np.std(cv_results['test_roc_auc'])\n",
    "\n",
    "print(f\"Accuracy: {acc:.4f} ± {acc_std:.4f}\")\n",
    "print(f\"AUC-ROC: {roc_auc:.4f} ± {roc_auc_std:.4f}\")\n",
    "\n",
    "# Stop emission tracking\n",
    "_ = tracker.stop()"
   ]
  },
  {
   "cell_type": "code",
   "execution_count": 20,
   "metadata": {},
   "outputs": [],
   "source": [
    "# Save evaluation to an external file\n",
    "file = 'scores.csv'\n",
    "\n",
    "results = pd.DataFrame({\n",
    "    'SVM-LinearSVC-model': [acc, acc_std, roc_auc, roc_auc_std]\n",
    "}, index = ['Accuracy', 'Accuracy STD', 'AUC-ROC', 'AUC-ROC STD'])\n",
    "\n",
    "# Check if file exists\n",
    "if os.path.exists(file):\n",
    "    temp = pd.read_csv(file, index_col=0)\n",
    "    results = pd.concat([temp, results], axis=1)\n",
    "\n",
    "# Export\n",
    "results.to_csv(file)"
   ]
  },
  {
   "cell_type": "code",
   "execution_count": 21,
   "metadata": {},
   "outputs": [
    {
     "name": "stderr",
     "output_type": "stream",
     "text": [
      "[codecarbon ERROR @ 14:17:39] Error: Another instance of codecarbon is already running. Turn off the other instance to be able to run this one. Exiting.\n",
      "[codecarbon WARNING @ 14:17:39] Another instance of codecarbon is already running. Exiting.\n",
      "/tmp/ipykernel_15723/3847851053.py:38: ExperimentalWarning:\n",
      "\n",
      "GPSampler is experimental (supported from v3.6.0). The interface can change in the future.\n",
      "\n",
      "[I 2024-10-28 14:17:39,072] A new study created in memory with name: no-name-dd4aedac-9ead-4949-affd-acda2238e0d0\n",
      "[I 2024-10-28 14:17:39,207] Trial 0 finished with value: 0.9123969780219781 and parameters: {'C': 0.8593281829330846}. Best is trial 0 with value: 0.9123969780219781.\n",
      "[I 2024-10-28 14:17:39,314] Trial 1 finished with value: 0.9128434065934066 and parameters: {'C': 60.76571384941635}. Best is trial 1 with value: 0.9128434065934066.\n",
      "[I 2024-10-28 14:17:39,423] Trial 2 finished with value: 0.9123969780219781 and parameters: {'C': 2.021251523488277}. Best is trial 1 with value: 0.9128434065934066.\n",
      "[I 2024-10-28 14:17:39,527] Trial 3 finished with value: 0.910508241758242 and parameters: {'C': 0.0039286159935798285}. Best is trial 1 with value: 0.9128434065934066.\n",
      "[I 2024-10-28 14:17:39,630] Trial 4 finished with value: 0.9123969780219781 and parameters: {'C': 2.0138456673489697}. Best is trial 1 with value: 0.9128434065934066.\n",
      "[I 2024-10-28 14:17:39,735] Trial 5 finished with value: 0.9123969780219781 and parameters: {'C': 1.3037398398008568}. Best is trial 1 with value: 0.9128434065934066.\n",
      "[I 2024-10-28 14:17:39,838] Trial 6 finished with value: 0.9152472527472527 and parameters: {'C': 0.07760733796507535}. Best is trial 6 with value: 0.9152472527472527.\n",
      "[I 2024-10-28 14:17:39,940] Trial 7 finished with value: 0.8848214285714286 and parameters: {'C': 3.0353955246414127e-05}. Best is trial 6 with value: 0.9152472527472527.\n",
      "[I 2024-10-28 14:17:40,046] Trial 8 finished with value: 0.9152472527472527 and parameters: {'C': 0.07751644892816893}. Best is trial 6 with value: 0.9152472527472527.\n",
      "[I 2024-10-28 14:17:40,149] Trial 9 finished with value: 0.9138736263736262 and parameters: {'C': 0.016036597274235884}. Best is trial 6 with value: 0.9152472527472527.\n",
      "[I 2024-10-28 14:17:40,370] Trial 10 finished with value: 0.9147664835164836 and parameters: {'C': 0.055725417920471386}. Best is trial 6 with value: 0.9152472527472527.\n",
      "[I 2024-10-28 14:17:40,597] Trial 11 finished with value: 0.9152472527472527 and parameters: {'C': 0.11636048988671911}. Best is trial 6 with value: 0.9152472527472527.\n",
      "[I 2024-10-28 14:17:40,797] Trial 12 finished with value: 0.9152472527472527 and parameters: {'C': 0.09468902694308859}. Best is trial 6 with value: 0.9152472527472527.\n",
      "[I 2024-10-28 14:17:41,046] Trial 13 finished with value: 0.9128434065934066 and parameters: {'C': 16.04529322265372}. Best is trial 6 with value: 0.9152472527472527.\n",
      "[I 2024-10-28 14:17:41,266] Trial 14 finished with value: 0.9142857142857143 and parameters: {'C': 0.17750539880945357}. Best is trial 6 with value: 0.9152472527472527.\n",
      "[I 2024-10-28 14:17:41,505] Trial 15 finished with value: 0.9128434065934066 and parameters: {'C': 99.99999999999969}. Best is trial 6 with value: 0.9152472527472527.\n",
      "[I 2024-10-28 14:17:41,780] Trial 16 finished with value: 0.9152472527472527 and parameters: {'C': 0.10751181982697633}. Best is trial 6 with value: 0.9152472527472527.\n",
      "[I 2024-10-28 14:17:42,098] Trial 17 finished with value: 0.9152472527472527 and parameters: {'C': 0.083829709628583}. Best is trial 6 with value: 0.9152472527472527.\n",
      "[I 2024-10-28 14:17:42,371] Trial 18 finished with value: 0.9152472527472527 and parameters: {'C': 0.10875290795172536}. Best is trial 6 with value: 0.9152472527472527.\n",
      "[I 2024-10-28 14:17:42,669] Trial 19 finished with value: 0.9152472527472527 and parameters: {'C': 0.08264351489257742}. Best is trial 6 with value: 0.9152472527472527.\n",
      "[I 2024-10-28 14:17:42,974] Trial 20 finished with value: 0.8930631868131869 and parameters: {'C': 0.0006890063471822984}. Best is trial 6 with value: 0.9152472527472527.\n",
      "[I 2024-10-28 14:17:43,311] Trial 21 finished with value: 0.9146978021978022 and parameters: {'C': 0.008937487538624571}. Best is trial 6 with value: 0.9152472527472527.\n",
      "[I 2024-10-28 14:17:43,704] Trial 22 finished with value: 0.9128434065934066 and parameters: {'C': 6.482199770391133}. Best is trial 6 with value: 0.9152472527472527.\n",
      "[I 2024-10-28 14:17:44,186] Trial 23 finished with value: 0.9152472527472527 and parameters: {'C': 0.1087044613958366}. Best is trial 6 with value: 0.9152472527472527.\n",
      "[I 2024-10-28 14:17:44,720] Trial 24 finished with value: 0.9152472527472527 and parameters: {'C': 0.08244192589878961}. Best is trial 6 with value: 0.9152472527472527.\n",
      "[I 2024-10-28 14:17:45,233] Trial 25 finished with value: 0.9152472527472527 and parameters: {'C': 0.1089164780211581}. Best is trial 6 with value: 0.9152472527472527.\n",
      "[I 2024-10-28 14:17:45,626] Trial 26 finished with value: 0.9152472527472527 and parameters: {'C': 0.08226860863720482}. Best is trial 6 with value: 0.9152472527472527.\n",
      "[I 2024-10-28 14:17:46,148] Trial 27 finished with value: 0.9152472527472527 and parameters: {'C': 0.10921011998184345}. Best is trial 6 with value: 0.9152472527472527.\n",
      "[I 2024-10-28 14:17:46,709] Trial 28 finished with value: 0.9152472527472527 and parameters: {'C': 0.08196180433292426}. Best is trial 6 with value: 0.9152472527472527.\n",
      "[I 2024-10-28 14:17:47,189] Trial 29 finished with value: 0.9152472527472527 and parameters: {'C': 0.10940392972447247}. Best is trial 6 with value: 0.9152472527472527.\n",
      "[I 2024-10-28 14:17:47,788] Trial 30 finished with value: 0.9152472527472527 and parameters: {'C': 0.0818094220547704}. Best is trial 6 with value: 0.9152472527472527.\n",
      "[I 2024-10-28 14:17:48,362] Trial 31 finished with value: 0.9152472527472527 and parameters: {'C': 0.08167966496763882}. Best is trial 6 with value: 0.9152472527472527.\n",
      "[I 2024-10-28 14:17:49,058] Trial 32 finished with value: 0.9152472527472527 and parameters: {'C': 0.10974769587199318}. Best is trial 6 with value: 0.9152472527472527.\n",
      "[I 2024-10-28 14:17:49,612] Trial 33 finished with value: 0.9152472527472527 and parameters: {'C': 0.08142934879714799}. Best is trial 6 with value: 0.9152472527472527.\n",
      "[I 2024-10-28 14:17:50,190] Trial 34 finished with value: 0.9152472527472527 and parameters: {'C': 0.11001907070385061}. Best is trial 6 with value: 0.9152472527472527.\n",
      "[I 2024-10-28 14:17:50,711] Trial 35 finished with value: 0.9152472527472527 and parameters: {'C': 0.08155863952470983}. Best is trial 6 with value: 0.9152472527472527.\n",
      "[I 2024-10-28 14:17:51,226] Trial 36 finished with value: 0.9152472527472527 and parameters: {'C': 0.10999628960641368}. Best is trial 6 with value: 0.9152472527472527.\n",
      "[I 2024-10-28 14:17:51,722] Trial 37 finished with value: 0.9152472527472527 and parameters: {'C': 0.08140140467100695}. Best is trial 6 with value: 0.9152472527472527.\n",
      "[I 2024-10-28 14:17:52,335] Trial 38 finished with value: 0.9152472527472527 and parameters: {'C': 0.10981531642646097}. Best is trial 6 with value: 0.9152472527472527.\n",
      "[I 2024-10-28 14:17:52,844] Trial 39 finished with value: 0.9152472527472527 and parameters: {'C': 0.08128208543474817}. Best is trial 6 with value: 0.9152472527472527.\n",
      "[I 2024-10-28 14:17:53,463] Trial 40 finished with value: 0.9152472527472527 and parameters: {'C': 0.11047054270140819}. Best is trial 6 with value: 0.9152472527472527.\n",
      "[I 2024-10-28 14:17:54,014] Trial 41 finished with value: 0.9152472527472527 and parameters: {'C': 0.08121560551292543}. Best is trial 6 with value: 0.9152472527472527.\n",
      "[I 2024-10-28 14:17:54,398] Trial 42 finished with value: 0.9152472527472527 and parameters: {'C': 0.11049301245998436}. Best is trial 6 with value: 0.9152472527472527.\n",
      "[I 2024-10-28 14:17:54,987] Trial 43 finished with value: 0.9152472527472527 and parameters: {'C': 0.08134301648702263}. Best is trial 6 with value: 0.9152472527472527.\n",
      "[I 2024-10-28 14:17:55,462] Trial 44 finished with value: 0.9152472527472527 and parameters: {'C': 0.10958415483469733}. Best is trial 6 with value: 0.9152472527472527.\n",
      "[I 2024-10-28 14:17:56,033] Trial 45 finished with value: 0.9152472527472527 and parameters: {'C': 0.08093171811533643}. Best is trial 6 with value: 0.9152472527472527.\n",
      "[I 2024-10-28 14:17:56,526] Trial 46 finished with value: 0.9152472527472527 and parameters: {'C': 0.1110343975189267}. Best is trial 6 with value: 0.9152472527472527.\n",
      "[I 2024-10-28 14:17:57,020] Trial 47 finished with value: 0.9152472527472527 and parameters: {'C': 0.10221186017061581}. Best is trial 6 with value: 0.9152472527472527.\n",
      "[I 2024-10-28 14:17:57,548] Trial 48 finished with value: 0.9152472527472527 and parameters: {'C': 0.0892149624800565}. Best is trial 6 with value: 0.9152472527472527.\n",
      "[I 2024-10-28 14:17:58,125] Trial 49 finished with value: 0.9152472527472527 and parameters: {'C': 0.10873925457941501}. Best is trial 6 with value: 0.9152472527472527.\n",
      "[I 2024-10-28 14:17:58,659] Trial 50 finished with value: 0.9152472527472527 and parameters: {'C': 0.0840497013560684}. Best is trial 6 with value: 0.9152472527472527.\n",
      "[I 2024-10-28 14:17:59,212] Trial 51 finished with value: 0.9152472527472527 and parameters: {'C': 0.08143101171935657}. Best is trial 6 with value: 0.9152472527472527.\n",
      "[I 2024-10-28 14:17:59,631] Trial 52 finished with value: 0.9152472527472527 and parameters: {'C': 0.08207574872212282}. Best is trial 6 with value: 0.9152472527472527.\n",
      "[I 2024-10-28 14:18:00,220] Trial 53 finished with value: 0.9152472527472527 and parameters: {'C': 0.09893708920913373}. Best is trial 6 with value: 0.9152472527472527.\n",
      "[I 2024-10-28 14:18:00,792] Trial 54 finished with value: 0.9152472527472527 and parameters: {'C': 0.10823903276812555}. Best is trial 6 with value: 0.9152472527472527.\n",
      "[I 2024-10-28 14:18:01,289] Trial 55 finished with value: 0.9152472527472527 and parameters: {'C': 0.08158186495783831}. Best is trial 6 with value: 0.9152472527472527.\n",
      "[I 2024-10-28 14:18:01,760] Trial 56 finished with value: 0.9152472527472527 and parameters: {'C': 0.1095052848732198}. Best is trial 6 with value: 0.9152472527472527.\n",
      "[I 2024-10-28 14:18:02,257] Trial 57 finished with value: 0.9152472527472527 and parameters: {'C': 0.0911564253885987}. Best is trial 6 with value: 0.9152472527472527.\n",
      "[I 2024-10-28 14:18:02,844] Trial 58 finished with value: 0.9152472527472527 and parameters: {'C': 0.08114314708386328}. Best is trial 6 with value: 0.9152472527472527.\n",
      "[I 2024-10-28 14:18:03,376] Trial 59 finished with value: 0.9152472527472527 and parameters: {'C': 0.09642483223876082}. Best is trial 6 with value: 0.9152472527472527.\n",
      "[I 2024-10-28 14:18:03,987] Trial 60 finished with value: 0.9152472527472527 and parameters: {'C': 0.0810866335379647}. Best is trial 6 with value: 0.9152472527472527.\n",
      "[I 2024-10-28 14:18:04,572] Trial 61 finished with value: 0.9152472527472527 and parameters: {'C': 0.11080789210630194}. Best is trial 6 with value: 0.9152472527472527.\n",
      "[I 2024-10-28 14:18:05,162] Trial 62 finished with value: 0.9152472527472527 and parameters: {'C': 0.10846468399783654}. Best is trial 6 with value: 0.9152472527472527.\n",
      "[I 2024-10-28 14:18:05,631] Trial 63 finished with value: 0.9152472527472527 and parameters: {'C': 0.1107618442226247}. Best is trial 6 with value: 0.9152472527472527.\n",
      "[I 2024-10-28 14:18:06,209] Trial 64 finished with value: 0.9152472527472527 and parameters: {'C': 0.09073196951781443}. Best is trial 6 with value: 0.9152472527472527.\n",
      "[I 2024-10-28 14:18:06,741] Trial 65 finished with value: 0.9152472527472527 and parameters: {'C': 0.10008118465041711}. Best is trial 6 with value: 0.9152472527472527.\n",
      "[I 2024-10-28 14:18:07,277] Trial 66 finished with value: 0.9152472527472527 and parameters: {'C': 0.08090199337627908}. Best is trial 6 with value: 0.9152472527472527.\n",
      "[I 2024-10-28 14:18:07,794] Trial 67 finished with value: 0.9152472527472527 and parameters: {'C': 0.11046016374791716}. Best is trial 6 with value: 0.9152472527472527.\n",
      "[I 2024-10-28 14:18:08,428] Trial 68 finished with value: 0.9152472527472527 and parameters: {'C': 0.0806975696333137}. Best is trial 6 with value: 0.9152472527472527.\n",
      "[I 2024-10-28 14:18:08,892] Trial 69 finished with value: 0.9152472527472527 and parameters: {'C': 0.11028191869676034}. Best is trial 6 with value: 0.9152472527472527.\n",
      "[I 2024-10-28 14:18:09,396] Trial 70 finished with value: 0.9152472527472527 and parameters: {'C': 0.09510066166506616}. Best is trial 6 with value: 0.9152472527472527.\n",
      "[I 2024-10-28 14:18:09,864] Trial 71 finished with value: 0.9152472527472527 and parameters: {'C': 0.0882416428761573}. Best is trial 6 with value: 0.9152472527472527.\n",
      "[I 2024-10-28 14:18:10,326] Trial 72 finished with value: 0.9152472527472527 and parameters: {'C': 0.09459193426382251}. Best is trial 6 with value: 0.9152472527472527.\n",
      "[I 2024-10-28 14:18:10,813] Trial 73 finished with value: 0.9152472527472527 and parameters: {'C': 0.11182813154322359}. Best is trial 6 with value: 0.9152472527472527.\n",
      "[I 2024-10-28 14:18:11,209] Trial 74 finished with value: 0.9152472527472527 and parameters: {'C': 0.08169885468097915}. Best is trial 6 with value: 0.9152472527472527.\n",
      "[I 2024-10-28 14:18:11,707] Trial 75 finished with value: 0.9152472527472527 and parameters: {'C': 0.09386206464639178}. Best is trial 6 with value: 0.9152472527472527.\n",
      "[I 2024-10-28 14:18:12,173] Trial 76 finished with value: 0.9152472527472527 and parameters: {'C': 0.08159427882602793}. Best is trial 6 with value: 0.9152472527472527.\n",
      "[I 2024-10-28 14:18:12,674] Trial 77 finished with value: 0.9152472527472527 and parameters: {'C': 0.10013055667397965}. Best is trial 6 with value: 0.9152472527472527.\n",
      "[I 2024-10-28 14:18:13,176] Trial 78 finished with value: 0.9152472527472527 and parameters: {'C': 0.08195029874357004}. Best is trial 6 with value: 0.9152472527472527.\n",
      "[I 2024-10-28 14:18:13,699] Trial 79 finished with value: 0.9152472527472527 and parameters: {'C': 0.10259641350020011}. Best is trial 6 with value: 0.9152472527472527.\n",
      "[I 2024-10-28 14:18:14,153] Trial 80 finished with value: 0.9152472527472527 and parameters: {'C': 0.11065749191758573}. Best is trial 6 with value: 0.9152472527472527.\n",
      "[I 2024-10-28 14:18:14,704] Trial 81 finished with value: 0.9152472527472527 and parameters: {'C': 0.09679787159630726}. Best is trial 6 with value: 0.9152472527472527.\n",
      "[I 2024-10-28 14:18:15,253] Trial 82 finished with value: 0.9152472527472527 and parameters: {'C': 0.09365019891237887}. Best is trial 6 with value: 0.9152472527472527.\n",
      "[I 2024-10-28 14:18:15,737] Trial 83 finished with value: 0.9152472527472527 and parameters: {'C': 0.09004588801009003}. Best is trial 6 with value: 0.9152472527472527.\n",
      "[I 2024-10-28 14:18:16,187] Trial 84 finished with value: 0.9152472527472527 and parameters: {'C': 0.09391895941177876}. Best is trial 6 with value: 0.9152472527472527.\n",
      "[I 2024-10-28 14:18:16,719] Trial 85 finished with value: 0.9152472527472527 and parameters: {'C': 0.08103030376830449}. Best is trial 6 with value: 0.9152472527472527.\n",
      "[I 2024-10-28 14:18:17,241] Trial 86 finished with value: 0.9152472527472527 and parameters: {'C': 0.11073213477133376}. Best is trial 6 with value: 0.9152472527472527.\n",
      "[I 2024-10-28 14:18:17,793] Trial 87 finished with value: 0.9152472527472527 and parameters: {'C': 0.10320800498296205}. Best is trial 6 with value: 0.9152472527472527.\n",
      "[I 2024-10-28 14:18:18,363] Trial 88 finished with value: 0.9152472527472527 and parameters: {'C': 0.10983987901062493}. Best is trial 6 with value: 0.9152472527472527.\n",
      "[I 2024-10-28 14:18:18,893] Trial 89 finished with value: 0.9152472527472527 and parameters: {'C': 0.08029395519646092}. Best is trial 6 with value: 0.9152472527472527.\n",
      "[I 2024-10-28 14:18:19,348] Trial 90 finished with value: 0.9152472527472527 and parameters: {'C': 0.09485969112643454}. Best is trial 6 with value: 0.9152472527472527.\n",
      "[I 2024-10-28 14:18:19,865] Trial 91 finished with value: 0.9152472527472527 and parameters: {'C': 0.07962799047445432}. Best is trial 6 with value: 0.9152472527472527.\n",
      "[I 2024-10-28 14:18:20,342] Trial 92 finished with value: 0.9152472527472527 and parameters: {'C': 0.112092281025418}. Best is trial 6 with value: 0.9152472527472527.\n",
      "[I 2024-10-28 14:18:20,897] Trial 93 finished with value: 0.9152472527472527 and parameters: {'C': 0.11012694114273207}. Best is trial 6 with value: 0.9152472527472527.\n",
      "[I 2024-10-28 14:18:21,312] Trial 94 finished with value: 0.9152472527472527 and parameters: {'C': 0.08166293488556631}. Best is trial 6 with value: 0.9152472527472527.\n",
      "[I 2024-10-28 14:18:21,868] Trial 95 finished with value: 0.9152472527472527 and parameters: {'C': 0.08096799910508565}. Best is trial 6 with value: 0.9152472527472527.\n",
      "[I 2024-10-28 14:18:22,348] Trial 96 finished with value: 0.9152472527472527 and parameters: {'C': 0.08216085566830088}. Best is trial 6 with value: 0.9152472527472527.\n",
      "[I 2024-10-28 14:18:22,818] Trial 97 finished with value: 0.9152472527472527 and parameters: {'C': 0.10951122124552402}. Best is trial 6 with value: 0.9152472527472527.\n",
      "[I 2024-10-28 14:18:23,328] Trial 98 finished with value: 0.9152472527472527 and parameters: {'C': 0.11226145603126961}. Best is trial 6 with value: 0.9152472527472527.\n",
      "[I 2024-10-28 14:18:23,728] Trial 99 finished with value: 0.9152472527472527 and parameters: {'C': 0.0932382705791495}. Best is trial 6 with value: 0.9152472527472527.\n"
     ]
    }
   ],
   "source": [
    "# ---------------------------------------------------------------------------- #\n",
    "#                                 OPTIMIZATION                                 #\n",
    "# ---------------------------------------------------------------------------- #\n",
    "\n",
    "# Initiate CodeCarbon to track emissions\n",
    "tracker = EmissionsTracker('LinearSVC SVM optimization', log_level='warning')\n",
    "tracker.start()\n",
    "\n",
    "# Objective function\n",
    "def objective(trial):\n",
    "    # Define parameters\n",
    "    C = trial.suggest_float('C', 1e-5, 1e2, log=True)\n",
    "\n",
    "    # Create model\n",
    "    temp_model = svm.LinearSVC(C=C, dual=False)\n",
    "\n",
    "    # Define pipeline depending on whether PCA is requested or not\n",
    "    if PC_Features:\n",
    "        steps = [\n",
    "        ('preprocessor', preprocessor),\n",
    "        ('pca', PCA(n_components=12)),\n",
    "        ('SVM-LinearSVC-classifier', temp_model)\n",
    "        ]\n",
    "    else:\n",
    "        steps = [\n",
    "        ('preprocessor', preprocessor),\n",
    "        ('SVM-LinearSVC-classifier', temp_model)\n",
    "        ]\n",
    "        \n",
    "    pipeline = Pipeline(steps)\n",
    "\n",
    "    # Perform cross-validation\n",
    "    roc_auc = cross_val_score(pipeline, X, y, scoring='roc_auc', cv=K_Folds).mean()\n",
    "\n",
    "    return roc_auc\n",
    "\n",
    "# Optimizing with Optuna\n",
    "study = optuna.create_study(direction='maximize', sampler=GPSampler())\n",
    "study.optimize(objective, n_trials=100)"
   ]
  },
  {
   "cell_type": "code",
   "execution_count": 22,
   "metadata": {},
   "outputs": [
    {
     "name": "stdout",
     "output_type": "stream",
     "text": [
      "AUC-ROC: 0.9152472527472527\n",
      "Best hyperparameters: {'C': 0.07760733796507535}\n"
     ]
    }
   ],
   "source": [
    "# Show best model\n",
    "trial = study.best_trial\n",
    "print('AUC-ROC: {}'.format(trial.value))\n",
    "print(\"Best hyperparameters: {}\".format(trial.params))"
   ]
  },
  {
   "cell_type": "code",
   "execution_count": 23,
   "metadata": {},
   "outputs": [
    {
     "data": {
      "application/vnd.plotly.v1+json": {
       "config": {
        "plotlyServerURL": "https://plot.ly"
       },
       "data": [
        {
         "mode": "markers",
         "name": "Objective Value",
         "type": "scatter",
         "x": [
          0,
          1,
          2,
          3,
          4,
          5,
          6,
          7,
          8,
          9,
          10,
          11,
          12,
          13,
          14,
          15,
          16,
          17,
          18,
          19,
          20,
          21,
          22,
          23,
          24,
          25,
          26,
          27,
          28,
          29,
          30,
          31,
          32,
          33,
          34,
          35,
          36,
          37,
          38,
          39,
          40,
          41,
          42,
          43,
          44,
          45,
          46,
          47,
          48,
          49,
          50,
          51,
          52,
          53,
          54,
          55,
          56,
          57,
          58,
          59,
          60,
          61,
          62,
          63,
          64,
          65,
          66,
          67,
          68,
          69,
          70,
          71,
          72,
          73,
          74,
          75,
          76,
          77,
          78,
          79,
          80,
          81,
          82,
          83,
          84,
          85,
          86,
          87,
          88,
          89,
          90,
          91,
          92,
          93,
          94,
          95,
          96,
          97,
          98,
          99
         ],
         "y": [
          0.9123969780219781,
          0.9128434065934066,
          0.9123969780219781,
          0.910508241758242,
          0.9123969780219781,
          0.9123969780219781,
          0.9152472527472527,
          0.8848214285714286,
          0.9152472527472527,
          0.9138736263736262,
          0.9147664835164836,
          0.9152472527472527,
          0.9152472527472527,
          0.9128434065934066,
          0.9142857142857143,
          0.9128434065934066,
          0.9152472527472527,
          0.9152472527472527,
          0.9152472527472527,
          0.9152472527472527,
          0.8930631868131869,
          0.9146978021978022,
          0.9128434065934066,
          0.9152472527472527,
          0.9152472527472527,
          0.9152472527472527,
          0.9152472527472527,
          0.9152472527472527,
          0.9152472527472527,
          0.9152472527472527,
          0.9152472527472527,
          0.9152472527472527,
          0.9152472527472527,
          0.9152472527472527,
          0.9152472527472527,
          0.9152472527472527,
          0.9152472527472527,
          0.9152472527472527,
          0.9152472527472527,
          0.9152472527472527,
          0.9152472527472527,
          0.9152472527472527,
          0.9152472527472527,
          0.9152472527472527,
          0.9152472527472527,
          0.9152472527472527,
          0.9152472527472527,
          0.9152472527472527,
          0.9152472527472527,
          0.9152472527472527,
          0.9152472527472527,
          0.9152472527472527,
          0.9152472527472527,
          0.9152472527472527,
          0.9152472527472527,
          0.9152472527472527,
          0.9152472527472527,
          0.9152472527472527,
          0.9152472527472527,
          0.9152472527472527,
          0.9152472527472527,
          0.9152472527472527,
          0.9152472527472527,
          0.9152472527472527,
          0.9152472527472527,
          0.9152472527472527,
          0.9152472527472527,
          0.9152472527472527,
          0.9152472527472527,
          0.9152472527472527,
          0.9152472527472527,
          0.9152472527472527,
          0.9152472527472527,
          0.9152472527472527,
          0.9152472527472527,
          0.9152472527472527,
          0.9152472527472527,
          0.9152472527472527,
          0.9152472527472527,
          0.9152472527472527,
          0.9152472527472527,
          0.9152472527472527,
          0.9152472527472527,
          0.9152472527472527,
          0.9152472527472527,
          0.9152472527472527,
          0.9152472527472527,
          0.9152472527472527,
          0.9152472527472527,
          0.9152472527472527,
          0.9152472527472527,
          0.9152472527472527,
          0.9152472527472527,
          0.9152472527472527,
          0.9152472527472527,
          0.9152472527472527,
          0.9152472527472527,
          0.9152472527472527,
          0.9152472527472527,
          0.9152472527472527
         ]
        },
        {
         "mode": "lines",
         "name": "Best Value",
         "type": "scatter",
         "x": [
          0,
          1,
          2,
          3,
          4,
          5,
          6,
          7,
          8,
          9,
          10,
          11,
          12,
          13,
          14,
          15,
          16,
          17,
          18,
          19,
          20,
          21,
          22,
          23,
          24,
          25,
          26,
          27,
          28,
          29,
          30,
          31,
          32,
          33,
          34,
          35,
          36,
          37,
          38,
          39,
          40,
          41,
          42,
          43,
          44,
          45,
          46,
          47,
          48,
          49,
          50,
          51,
          52,
          53,
          54,
          55,
          56,
          57,
          58,
          59,
          60,
          61,
          62,
          63,
          64,
          65,
          66,
          67,
          68,
          69,
          70,
          71,
          72,
          73,
          74,
          75,
          76,
          77,
          78,
          79,
          80,
          81,
          82,
          83,
          84,
          85,
          86,
          87,
          88,
          89,
          90,
          91,
          92,
          93,
          94,
          95,
          96,
          97,
          98,
          99
         ],
         "y": [
          0.9123969780219781,
          0.9128434065934066,
          0.9128434065934066,
          0.9128434065934066,
          0.9128434065934066,
          0.9128434065934066,
          0.9152472527472527,
          0.9152472527472527,
          0.9152472527472527,
          0.9152472527472527,
          0.9152472527472527,
          0.9152472527472527,
          0.9152472527472527,
          0.9152472527472527,
          0.9152472527472527,
          0.9152472527472527,
          0.9152472527472527,
          0.9152472527472527,
          0.9152472527472527,
          0.9152472527472527,
          0.9152472527472527,
          0.9152472527472527,
          0.9152472527472527,
          0.9152472527472527,
          0.9152472527472527,
          0.9152472527472527,
          0.9152472527472527,
          0.9152472527472527,
          0.9152472527472527,
          0.9152472527472527,
          0.9152472527472527,
          0.9152472527472527,
          0.9152472527472527,
          0.9152472527472527,
          0.9152472527472527,
          0.9152472527472527,
          0.9152472527472527,
          0.9152472527472527,
          0.9152472527472527,
          0.9152472527472527,
          0.9152472527472527,
          0.9152472527472527,
          0.9152472527472527,
          0.9152472527472527,
          0.9152472527472527,
          0.9152472527472527,
          0.9152472527472527,
          0.9152472527472527,
          0.9152472527472527,
          0.9152472527472527,
          0.9152472527472527,
          0.9152472527472527,
          0.9152472527472527,
          0.9152472527472527,
          0.9152472527472527,
          0.9152472527472527,
          0.9152472527472527,
          0.9152472527472527,
          0.9152472527472527,
          0.9152472527472527,
          0.9152472527472527,
          0.9152472527472527,
          0.9152472527472527,
          0.9152472527472527,
          0.9152472527472527,
          0.9152472527472527,
          0.9152472527472527,
          0.9152472527472527,
          0.9152472527472527,
          0.9152472527472527,
          0.9152472527472527,
          0.9152472527472527,
          0.9152472527472527,
          0.9152472527472527,
          0.9152472527472527,
          0.9152472527472527,
          0.9152472527472527,
          0.9152472527472527,
          0.9152472527472527,
          0.9152472527472527,
          0.9152472527472527,
          0.9152472527472527,
          0.9152472527472527,
          0.9152472527472527,
          0.9152472527472527,
          0.9152472527472527,
          0.9152472527472527,
          0.9152472527472527,
          0.9152472527472527,
          0.9152472527472527,
          0.9152472527472527,
          0.9152472527472527,
          0.9152472527472527,
          0.9152472527472527,
          0.9152472527472527,
          0.9152472527472527,
          0.9152472527472527,
          0.9152472527472527,
          0.9152472527472527,
          0.9152472527472527
         ]
        },
        {
         "marker": {
          "color": "#cccccc"
         },
         "mode": "markers",
         "name": "Infeasible Trial",
         "showlegend": false,
         "type": "scatter",
         "x": [],
         "y": []
        }
       ],
       "layout": {
        "template": {
         "data": {
          "bar": [
           {
            "error_x": {
             "color": "#2a3f5f"
            },
            "error_y": {
             "color": "#2a3f5f"
            },
            "marker": {
             "line": {
              "color": "#E5ECF6",
              "width": 0.5
             },
             "pattern": {
              "fillmode": "overlay",
              "size": 10,
              "solidity": 0.2
             }
            },
            "type": "bar"
           }
          ],
          "barpolar": [
           {
            "marker": {
             "line": {
              "color": "#E5ECF6",
              "width": 0.5
             },
             "pattern": {
              "fillmode": "overlay",
              "size": 10,
              "solidity": 0.2
             }
            },
            "type": "barpolar"
           }
          ],
          "carpet": [
           {
            "aaxis": {
             "endlinecolor": "#2a3f5f",
             "gridcolor": "white",
             "linecolor": "white",
             "minorgridcolor": "white",
             "startlinecolor": "#2a3f5f"
            },
            "baxis": {
             "endlinecolor": "#2a3f5f",
             "gridcolor": "white",
             "linecolor": "white",
             "minorgridcolor": "white",
             "startlinecolor": "#2a3f5f"
            },
            "type": "carpet"
           }
          ],
          "choropleth": [
           {
            "colorbar": {
             "outlinewidth": 0,
             "ticks": ""
            },
            "type": "choropleth"
           }
          ],
          "contour": [
           {
            "colorbar": {
             "outlinewidth": 0,
             "ticks": ""
            },
            "colorscale": [
             [
              0,
              "#0d0887"
             ],
             [
              0.1111111111111111,
              "#46039f"
             ],
             [
              0.2222222222222222,
              "#7201a8"
             ],
             [
              0.3333333333333333,
              "#9c179e"
             ],
             [
              0.4444444444444444,
              "#bd3786"
             ],
             [
              0.5555555555555556,
              "#d8576b"
             ],
             [
              0.6666666666666666,
              "#ed7953"
             ],
             [
              0.7777777777777778,
              "#fb9f3a"
             ],
             [
              0.8888888888888888,
              "#fdca26"
             ],
             [
              1,
              "#f0f921"
             ]
            ],
            "type": "contour"
           }
          ],
          "contourcarpet": [
           {
            "colorbar": {
             "outlinewidth": 0,
             "ticks": ""
            },
            "type": "contourcarpet"
           }
          ],
          "heatmap": [
           {
            "colorbar": {
             "outlinewidth": 0,
             "ticks": ""
            },
            "colorscale": [
             [
              0,
              "#0d0887"
             ],
             [
              0.1111111111111111,
              "#46039f"
             ],
             [
              0.2222222222222222,
              "#7201a8"
             ],
             [
              0.3333333333333333,
              "#9c179e"
             ],
             [
              0.4444444444444444,
              "#bd3786"
             ],
             [
              0.5555555555555556,
              "#d8576b"
             ],
             [
              0.6666666666666666,
              "#ed7953"
             ],
             [
              0.7777777777777778,
              "#fb9f3a"
             ],
             [
              0.8888888888888888,
              "#fdca26"
             ],
             [
              1,
              "#f0f921"
             ]
            ],
            "type": "heatmap"
           }
          ],
          "heatmapgl": [
           {
            "colorbar": {
             "outlinewidth": 0,
             "ticks": ""
            },
            "colorscale": [
             [
              0,
              "#0d0887"
             ],
             [
              0.1111111111111111,
              "#46039f"
             ],
             [
              0.2222222222222222,
              "#7201a8"
             ],
             [
              0.3333333333333333,
              "#9c179e"
             ],
             [
              0.4444444444444444,
              "#bd3786"
             ],
             [
              0.5555555555555556,
              "#d8576b"
             ],
             [
              0.6666666666666666,
              "#ed7953"
             ],
             [
              0.7777777777777778,
              "#fb9f3a"
             ],
             [
              0.8888888888888888,
              "#fdca26"
             ],
             [
              1,
              "#f0f921"
             ]
            ],
            "type": "heatmapgl"
           }
          ],
          "histogram": [
           {
            "marker": {
             "pattern": {
              "fillmode": "overlay",
              "size": 10,
              "solidity": 0.2
             }
            },
            "type": "histogram"
           }
          ],
          "histogram2d": [
           {
            "colorbar": {
             "outlinewidth": 0,
             "ticks": ""
            },
            "colorscale": [
             [
              0,
              "#0d0887"
             ],
             [
              0.1111111111111111,
              "#46039f"
             ],
             [
              0.2222222222222222,
              "#7201a8"
             ],
             [
              0.3333333333333333,
              "#9c179e"
             ],
             [
              0.4444444444444444,
              "#bd3786"
             ],
             [
              0.5555555555555556,
              "#d8576b"
             ],
             [
              0.6666666666666666,
              "#ed7953"
             ],
             [
              0.7777777777777778,
              "#fb9f3a"
             ],
             [
              0.8888888888888888,
              "#fdca26"
             ],
             [
              1,
              "#f0f921"
             ]
            ],
            "type": "histogram2d"
           }
          ],
          "histogram2dcontour": [
           {
            "colorbar": {
             "outlinewidth": 0,
             "ticks": ""
            },
            "colorscale": [
             [
              0,
              "#0d0887"
             ],
             [
              0.1111111111111111,
              "#46039f"
             ],
             [
              0.2222222222222222,
              "#7201a8"
             ],
             [
              0.3333333333333333,
              "#9c179e"
             ],
             [
              0.4444444444444444,
              "#bd3786"
             ],
             [
              0.5555555555555556,
              "#d8576b"
             ],
             [
              0.6666666666666666,
              "#ed7953"
             ],
             [
              0.7777777777777778,
              "#fb9f3a"
             ],
             [
              0.8888888888888888,
              "#fdca26"
             ],
             [
              1,
              "#f0f921"
             ]
            ],
            "type": "histogram2dcontour"
           }
          ],
          "mesh3d": [
           {
            "colorbar": {
             "outlinewidth": 0,
             "ticks": ""
            },
            "type": "mesh3d"
           }
          ],
          "parcoords": [
           {
            "line": {
             "colorbar": {
              "outlinewidth": 0,
              "ticks": ""
             }
            },
            "type": "parcoords"
           }
          ],
          "pie": [
           {
            "automargin": true,
            "type": "pie"
           }
          ],
          "scatter": [
           {
            "fillpattern": {
             "fillmode": "overlay",
             "size": 10,
             "solidity": 0.2
            },
            "type": "scatter"
           }
          ],
          "scatter3d": [
           {
            "line": {
             "colorbar": {
              "outlinewidth": 0,
              "ticks": ""
             }
            },
            "marker": {
             "colorbar": {
              "outlinewidth": 0,
              "ticks": ""
             }
            },
            "type": "scatter3d"
           }
          ],
          "scattercarpet": [
           {
            "marker": {
             "colorbar": {
              "outlinewidth": 0,
              "ticks": ""
             }
            },
            "type": "scattercarpet"
           }
          ],
          "scattergeo": [
           {
            "marker": {
             "colorbar": {
              "outlinewidth": 0,
              "ticks": ""
             }
            },
            "type": "scattergeo"
           }
          ],
          "scattergl": [
           {
            "marker": {
             "colorbar": {
              "outlinewidth": 0,
              "ticks": ""
             }
            },
            "type": "scattergl"
           }
          ],
          "scattermapbox": [
           {
            "marker": {
             "colorbar": {
              "outlinewidth": 0,
              "ticks": ""
             }
            },
            "type": "scattermapbox"
           }
          ],
          "scatterpolar": [
           {
            "marker": {
             "colorbar": {
              "outlinewidth": 0,
              "ticks": ""
             }
            },
            "type": "scatterpolar"
           }
          ],
          "scatterpolargl": [
           {
            "marker": {
             "colorbar": {
              "outlinewidth": 0,
              "ticks": ""
             }
            },
            "type": "scatterpolargl"
           }
          ],
          "scatterternary": [
           {
            "marker": {
             "colorbar": {
              "outlinewidth": 0,
              "ticks": ""
             }
            },
            "type": "scatterternary"
           }
          ],
          "surface": [
           {
            "colorbar": {
             "outlinewidth": 0,
             "ticks": ""
            },
            "colorscale": [
             [
              0,
              "#0d0887"
             ],
             [
              0.1111111111111111,
              "#46039f"
             ],
             [
              0.2222222222222222,
              "#7201a8"
             ],
             [
              0.3333333333333333,
              "#9c179e"
             ],
             [
              0.4444444444444444,
              "#bd3786"
             ],
             [
              0.5555555555555556,
              "#d8576b"
             ],
             [
              0.6666666666666666,
              "#ed7953"
             ],
             [
              0.7777777777777778,
              "#fb9f3a"
             ],
             [
              0.8888888888888888,
              "#fdca26"
             ],
             [
              1,
              "#f0f921"
             ]
            ],
            "type": "surface"
           }
          ],
          "table": [
           {
            "cells": {
             "fill": {
              "color": "#EBF0F8"
             },
             "line": {
              "color": "white"
             }
            },
            "header": {
             "fill": {
              "color": "#C8D4E3"
             },
             "line": {
              "color": "white"
             }
            },
            "type": "table"
           }
          ]
         },
         "layout": {
          "annotationdefaults": {
           "arrowcolor": "#2a3f5f",
           "arrowhead": 0,
           "arrowwidth": 1
          },
          "autotypenumbers": "strict",
          "coloraxis": {
           "colorbar": {
            "outlinewidth": 0,
            "ticks": ""
           }
          },
          "colorscale": {
           "diverging": [
            [
             0,
             "#8e0152"
            ],
            [
             0.1,
             "#c51b7d"
            ],
            [
             0.2,
             "#de77ae"
            ],
            [
             0.3,
             "#f1b6da"
            ],
            [
             0.4,
             "#fde0ef"
            ],
            [
             0.5,
             "#f7f7f7"
            ],
            [
             0.6,
             "#e6f5d0"
            ],
            [
             0.7,
             "#b8e186"
            ],
            [
             0.8,
             "#7fbc41"
            ],
            [
             0.9,
             "#4d9221"
            ],
            [
             1,
             "#276419"
            ]
           ],
           "sequential": [
            [
             0,
             "#0d0887"
            ],
            [
             0.1111111111111111,
             "#46039f"
            ],
            [
             0.2222222222222222,
             "#7201a8"
            ],
            [
             0.3333333333333333,
             "#9c179e"
            ],
            [
             0.4444444444444444,
             "#bd3786"
            ],
            [
             0.5555555555555556,
             "#d8576b"
            ],
            [
             0.6666666666666666,
             "#ed7953"
            ],
            [
             0.7777777777777778,
             "#fb9f3a"
            ],
            [
             0.8888888888888888,
             "#fdca26"
            ],
            [
             1,
             "#f0f921"
            ]
           ],
           "sequentialminus": [
            [
             0,
             "#0d0887"
            ],
            [
             0.1111111111111111,
             "#46039f"
            ],
            [
             0.2222222222222222,
             "#7201a8"
            ],
            [
             0.3333333333333333,
             "#9c179e"
            ],
            [
             0.4444444444444444,
             "#bd3786"
            ],
            [
             0.5555555555555556,
             "#d8576b"
            ],
            [
             0.6666666666666666,
             "#ed7953"
            ],
            [
             0.7777777777777778,
             "#fb9f3a"
            ],
            [
             0.8888888888888888,
             "#fdca26"
            ],
            [
             1,
             "#f0f921"
            ]
           ]
          },
          "colorway": [
           "#636efa",
           "#EF553B",
           "#00cc96",
           "#ab63fa",
           "#FFA15A",
           "#19d3f3",
           "#FF6692",
           "#B6E880",
           "#FF97FF",
           "#FECB52"
          ],
          "font": {
           "color": "#2a3f5f"
          },
          "geo": {
           "bgcolor": "white",
           "lakecolor": "white",
           "landcolor": "#E5ECF6",
           "showlakes": true,
           "showland": true,
           "subunitcolor": "white"
          },
          "hoverlabel": {
           "align": "left"
          },
          "hovermode": "closest",
          "mapbox": {
           "style": "light"
          },
          "paper_bgcolor": "white",
          "plot_bgcolor": "#E5ECF6",
          "polar": {
           "angularaxis": {
            "gridcolor": "white",
            "linecolor": "white",
            "ticks": ""
           },
           "bgcolor": "#E5ECF6",
           "radialaxis": {
            "gridcolor": "white",
            "linecolor": "white",
            "ticks": ""
           }
          },
          "scene": {
           "xaxis": {
            "backgroundcolor": "#E5ECF6",
            "gridcolor": "white",
            "gridwidth": 2,
            "linecolor": "white",
            "showbackground": true,
            "ticks": "",
            "zerolinecolor": "white"
           },
           "yaxis": {
            "backgroundcolor": "#E5ECF6",
            "gridcolor": "white",
            "gridwidth": 2,
            "linecolor": "white",
            "showbackground": true,
            "ticks": "",
            "zerolinecolor": "white"
           },
           "zaxis": {
            "backgroundcolor": "#E5ECF6",
            "gridcolor": "white",
            "gridwidth": 2,
            "linecolor": "white",
            "showbackground": true,
            "ticks": "",
            "zerolinecolor": "white"
           }
          },
          "shapedefaults": {
           "line": {
            "color": "#2a3f5f"
           }
          },
          "ternary": {
           "aaxis": {
            "gridcolor": "white",
            "linecolor": "white",
            "ticks": ""
           },
           "baxis": {
            "gridcolor": "white",
            "linecolor": "white",
            "ticks": ""
           },
           "bgcolor": "#E5ECF6",
           "caxis": {
            "gridcolor": "white",
            "linecolor": "white",
            "ticks": ""
           }
          },
          "title": {
           "x": 0.05
          },
          "xaxis": {
           "automargin": true,
           "gridcolor": "white",
           "linecolor": "white",
           "ticks": "",
           "title": {
            "standoff": 15
           },
           "zerolinecolor": "white",
           "zerolinewidth": 2
          },
          "yaxis": {
           "automargin": true,
           "gridcolor": "white",
           "linecolor": "white",
           "ticks": "",
           "title": {
            "standoff": 15
           },
           "zerolinecolor": "white",
           "zerolinewidth": 2
          }
         }
        },
        "title": {
         "text": "Optimization History Plot"
        },
        "xaxis": {
         "title": {
          "text": "Trial"
         }
        },
        "yaxis": {
         "title": {
          "text": "Objective Value"
         }
        }
       }
      }
     },
     "metadata": {},
     "output_type": "display_data"
    }
   ],
   "source": [
    "# Visualizing optimization\n",
    "optuna.visualization.plot_optimization_history(study)"
   ]
  },
  {
   "cell_type": "code",
   "execution_count": 24,
   "metadata": {},
   "outputs": [
    {
     "data": {
      "application/vnd.plotly.v1+json": {
       "config": {
        "plotlyServerURL": "https://plot.ly"
       },
       "data": [
        {
         "marker": {
          "color": [
           0,
           1,
           2,
           3,
           4,
           5,
           6,
           7,
           8,
           9,
           10,
           11,
           12,
           13,
           14,
           15,
           16,
           17,
           18,
           19,
           20,
           21,
           22,
           23,
           24,
           25,
           26,
           27,
           28,
           29,
           30,
           31,
           32,
           33,
           34,
           35,
           36,
           37,
           38,
           39,
           40,
           41,
           42,
           43,
           44,
           45,
           46,
           47,
           48,
           49,
           50,
           51,
           52,
           53,
           54,
           55,
           56,
           57,
           58,
           59,
           60,
           61,
           62,
           63,
           64,
           65,
           66,
           67,
           68,
           69,
           70,
           71,
           72,
           73,
           74,
           75,
           76,
           77,
           78,
           79,
           80,
           81,
           82,
           83,
           84,
           85,
           86,
           87,
           88,
           89,
           90,
           91,
           92,
           93,
           94,
           95,
           96,
           97,
           98,
           99
          ],
          "colorbar": {
           "title": {
            "text": "Trial"
           },
           "x": 1,
           "xpad": 40
          },
          "colorscale": [
           [
            0,
            "rgb(247,251,255)"
           ],
           [
            0.125,
            "rgb(222,235,247)"
           ],
           [
            0.25,
            "rgb(198,219,239)"
           ],
           [
            0.375,
            "rgb(158,202,225)"
           ],
           [
            0.5,
            "rgb(107,174,214)"
           ],
           [
            0.625,
            "rgb(66,146,198)"
           ],
           [
            0.75,
            "rgb(33,113,181)"
           ],
           [
            0.875,
            "rgb(8,81,156)"
           ],
           [
            1,
            "rgb(8,48,107)"
           ]
          ],
          "line": {
           "color": "Grey",
           "width": 0.5
          }
         },
         "mode": "markers",
         "name": "Feasible Trial",
         "showlegend": false,
         "type": "scatter",
         "x": [
          0.8593281829330846,
          60.76571384941635,
          2.021251523488277,
          0.0039286159935798285,
          2.0138456673489697,
          1.3037398398008568,
          0.07760733796507535,
          0.000030353955246414127,
          0.07751644892816893,
          0.016036597274235884,
          0.055725417920471386,
          0.11636048988671911,
          0.09468902694308859,
          16.04529322265372,
          0.17750539880945357,
          99.99999999999969,
          0.10751181982697633,
          0.083829709628583,
          0.10875290795172536,
          0.08264351489257742,
          0.0006890063471822984,
          0.008937487538624571,
          6.482199770391133,
          0.1087044613958366,
          0.08244192589878961,
          0.1089164780211581,
          0.08226860863720482,
          0.10921011998184345,
          0.08196180433292426,
          0.10940392972447247,
          0.0818094220547704,
          0.08167966496763882,
          0.10974769587199318,
          0.08142934879714799,
          0.11001907070385061,
          0.08155863952470983,
          0.10999628960641368,
          0.08140140467100695,
          0.10981531642646097,
          0.08128208543474817,
          0.11047054270140819,
          0.08121560551292543,
          0.11049301245998436,
          0.08134301648702263,
          0.10958415483469733,
          0.08093171811533643,
          0.1110343975189267,
          0.10221186017061581,
          0.0892149624800565,
          0.10873925457941501,
          0.0840497013560684,
          0.08143101171935657,
          0.08207574872212282,
          0.09893708920913373,
          0.10823903276812555,
          0.08158186495783831,
          0.1095052848732198,
          0.0911564253885987,
          0.08114314708386328,
          0.09642483223876082,
          0.0810866335379647,
          0.11080789210630194,
          0.10846468399783654,
          0.1107618442226247,
          0.09073196951781443,
          0.10008118465041711,
          0.08090199337627908,
          0.11046016374791716,
          0.0806975696333137,
          0.11028191869676034,
          0.09510066166506616,
          0.0882416428761573,
          0.09459193426382251,
          0.11182813154322359,
          0.08169885468097915,
          0.09386206464639178,
          0.08159427882602793,
          0.10013055667397965,
          0.08195029874357004,
          0.10259641350020011,
          0.11065749191758573,
          0.09679787159630726,
          0.09365019891237887,
          0.09004588801009003,
          0.09391895941177876,
          0.08103030376830449,
          0.11073213477133376,
          0.10320800498296205,
          0.10983987901062493,
          0.08029395519646092,
          0.09485969112643454,
          0.07962799047445432,
          0.112092281025418,
          0.11012694114273207,
          0.08166293488556631,
          0.08096799910508565,
          0.08216085566830088,
          0.10951122124552402,
          0.11226145603126961,
          0.0932382705791495
         ],
         "y": [
          0.9123969780219781,
          0.9128434065934066,
          0.9123969780219781,
          0.910508241758242,
          0.9123969780219781,
          0.9123969780219781,
          0.9152472527472527,
          0.8848214285714286,
          0.9152472527472527,
          0.9138736263736262,
          0.9147664835164836,
          0.9152472527472527,
          0.9152472527472527,
          0.9128434065934066,
          0.9142857142857143,
          0.9128434065934066,
          0.9152472527472527,
          0.9152472527472527,
          0.9152472527472527,
          0.9152472527472527,
          0.8930631868131869,
          0.9146978021978022,
          0.9128434065934066,
          0.9152472527472527,
          0.9152472527472527,
          0.9152472527472527,
          0.9152472527472527,
          0.9152472527472527,
          0.9152472527472527,
          0.9152472527472527,
          0.9152472527472527,
          0.9152472527472527,
          0.9152472527472527,
          0.9152472527472527,
          0.9152472527472527,
          0.9152472527472527,
          0.9152472527472527,
          0.9152472527472527,
          0.9152472527472527,
          0.9152472527472527,
          0.9152472527472527,
          0.9152472527472527,
          0.9152472527472527,
          0.9152472527472527,
          0.9152472527472527,
          0.9152472527472527,
          0.9152472527472527,
          0.9152472527472527,
          0.9152472527472527,
          0.9152472527472527,
          0.9152472527472527,
          0.9152472527472527,
          0.9152472527472527,
          0.9152472527472527,
          0.9152472527472527,
          0.9152472527472527,
          0.9152472527472527,
          0.9152472527472527,
          0.9152472527472527,
          0.9152472527472527,
          0.9152472527472527,
          0.9152472527472527,
          0.9152472527472527,
          0.9152472527472527,
          0.9152472527472527,
          0.9152472527472527,
          0.9152472527472527,
          0.9152472527472527,
          0.9152472527472527,
          0.9152472527472527,
          0.9152472527472527,
          0.9152472527472527,
          0.9152472527472527,
          0.9152472527472527,
          0.9152472527472527,
          0.9152472527472527,
          0.9152472527472527,
          0.9152472527472527,
          0.9152472527472527,
          0.9152472527472527,
          0.9152472527472527,
          0.9152472527472527,
          0.9152472527472527,
          0.9152472527472527,
          0.9152472527472527,
          0.9152472527472527,
          0.9152472527472527,
          0.9152472527472527,
          0.9152472527472527,
          0.9152472527472527,
          0.9152472527472527,
          0.9152472527472527,
          0.9152472527472527,
          0.9152472527472527,
          0.9152472527472527,
          0.9152472527472527,
          0.9152472527472527,
          0.9152472527472527,
          0.9152472527472527,
          0.9152472527472527
         ]
        }
       ],
       "layout": {
        "template": {
         "data": {
          "bar": [
           {
            "error_x": {
             "color": "#2a3f5f"
            },
            "error_y": {
             "color": "#2a3f5f"
            },
            "marker": {
             "line": {
              "color": "#E5ECF6",
              "width": 0.5
             },
             "pattern": {
              "fillmode": "overlay",
              "size": 10,
              "solidity": 0.2
             }
            },
            "type": "bar"
           }
          ],
          "barpolar": [
           {
            "marker": {
             "line": {
              "color": "#E5ECF6",
              "width": 0.5
             },
             "pattern": {
              "fillmode": "overlay",
              "size": 10,
              "solidity": 0.2
             }
            },
            "type": "barpolar"
           }
          ],
          "carpet": [
           {
            "aaxis": {
             "endlinecolor": "#2a3f5f",
             "gridcolor": "white",
             "linecolor": "white",
             "minorgridcolor": "white",
             "startlinecolor": "#2a3f5f"
            },
            "baxis": {
             "endlinecolor": "#2a3f5f",
             "gridcolor": "white",
             "linecolor": "white",
             "minorgridcolor": "white",
             "startlinecolor": "#2a3f5f"
            },
            "type": "carpet"
           }
          ],
          "choropleth": [
           {
            "colorbar": {
             "outlinewidth": 0,
             "ticks": ""
            },
            "type": "choropleth"
           }
          ],
          "contour": [
           {
            "colorbar": {
             "outlinewidth": 0,
             "ticks": ""
            },
            "colorscale": [
             [
              0,
              "#0d0887"
             ],
             [
              0.1111111111111111,
              "#46039f"
             ],
             [
              0.2222222222222222,
              "#7201a8"
             ],
             [
              0.3333333333333333,
              "#9c179e"
             ],
             [
              0.4444444444444444,
              "#bd3786"
             ],
             [
              0.5555555555555556,
              "#d8576b"
             ],
             [
              0.6666666666666666,
              "#ed7953"
             ],
             [
              0.7777777777777778,
              "#fb9f3a"
             ],
             [
              0.8888888888888888,
              "#fdca26"
             ],
             [
              1,
              "#f0f921"
             ]
            ],
            "type": "contour"
           }
          ],
          "contourcarpet": [
           {
            "colorbar": {
             "outlinewidth": 0,
             "ticks": ""
            },
            "type": "contourcarpet"
           }
          ],
          "heatmap": [
           {
            "colorbar": {
             "outlinewidth": 0,
             "ticks": ""
            },
            "colorscale": [
             [
              0,
              "#0d0887"
             ],
             [
              0.1111111111111111,
              "#46039f"
             ],
             [
              0.2222222222222222,
              "#7201a8"
             ],
             [
              0.3333333333333333,
              "#9c179e"
             ],
             [
              0.4444444444444444,
              "#bd3786"
             ],
             [
              0.5555555555555556,
              "#d8576b"
             ],
             [
              0.6666666666666666,
              "#ed7953"
             ],
             [
              0.7777777777777778,
              "#fb9f3a"
             ],
             [
              0.8888888888888888,
              "#fdca26"
             ],
             [
              1,
              "#f0f921"
             ]
            ],
            "type": "heatmap"
           }
          ],
          "heatmapgl": [
           {
            "colorbar": {
             "outlinewidth": 0,
             "ticks": ""
            },
            "colorscale": [
             [
              0,
              "#0d0887"
             ],
             [
              0.1111111111111111,
              "#46039f"
             ],
             [
              0.2222222222222222,
              "#7201a8"
             ],
             [
              0.3333333333333333,
              "#9c179e"
             ],
             [
              0.4444444444444444,
              "#bd3786"
             ],
             [
              0.5555555555555556,
              "#d8576b"
             ],
             [
              0.6666666666666666,
              "#ed7953"
             ],
             [
              0.7777777777777778,
              "#fb9f3a"
             ],
             [
              0.8888888888888888,
              "#fdca26"
             ],
             [
              1,
              "#f0f921"
             ]
            ],
            "type": "heatmapgl"
           }
          ],
          "histogram": [
           {
            "marker": {
             "pattern": {
              "fillmode": "overlay",
              "size": 10,
              "solidity": 0.2
             }
            },
            "type": "histogram"
           }
          ],
          "histogram2d": [
           {
            "colorbar": {
             "outlinewidth": 0,
             "ticks": ""
            },
            "colorscale": [
             [
              0,
              "#0d0887"
             ],
             [
              0.1111111111111111,
              "#46039f"
             ],
             [
              0.2222222222222222,
              "#7201a8"
             ],
             [
              0.3333333333333333,
              "#9c179e"
             ],
             [
              0.4444444444444444,
              "#bd3786"
             ],
             [
              0.5555555555555556,
              "#d8576b"
             ],
             [
              0.6666666666666666,
              "#ed7953"
             ],
             [
              0.7777777777777778,
              "#fb9f3a"
             ],
             [
              0.8888888888888888,
              "#fdca26"
             ],
             [
              1,
              "#f0f921"
             ]
            ],
            "type": "histogram2d"
           }
          ],
          "histogram2dcontour": [
           {
            "colorbar": {
             "outlinewidth": 0,
             "ticks": ""
            },
            "colorscale": [
             [
              0,
              "#0d0887"
             ],
             [
              0.1111111111111111,
              "#46039f"
             ],
             [
              0.2222222222222222,
              "#7201a8"
             ],
             [
              0.3333333333333333,
              "#9c179e"
             ],
             [
              0.4444444444444444,
              "#bd3786"
             ],
             [
              0.5555555555555556,
              "#d8576b"
             ],
             [
              0.6666666666666666,
              "#ed7953"
             ],
             [
              0.7777777777777778,
              "#fb9f3a"
             ],
             [
              0.8888888888888888,
              "#fdca26"
             ],
             [
              1,
              "#f0f921"
             ]
            ],
            "type": "histogram2dcontour"
           }
          ],
          "mesh3d": [
           {
            "colorbar": {
             "outlinewidth": 0,
             "ticks": ""
            },
            "type": "mesh3d"
           }
          ],
          "parcoords": [
           {
            "line": {
             "colorbar": {
              "outlinewidth": 0,
              "ticks": ""
             }
            },
            "type": "parcoords"
           }
          ],
          "pie": [
           {
            "automargin": true,
            "type": "pie"
           }
          ],
          "scatter": [
           {
            "fillpattern": {
             "fillmode": "overlay",
             "size": 10,
             "solidity": 0.2
            },
            "type": "scatter"
           }
          ],
          "scatter3d": [
           {
            "line": {
             "colorbar": {
              "outlinewidth": 0,
              "ticks": ""
             }
            },
            "marker": {
             "colorbar": {
              "outlinewidth": 0,
              "ticks": ""
             }
            },
            "type": "scatter3d"
           }
          ],
          "scattercarpet": [
           {
            "marker": {
             "colorbar": {
              "outlinewidth": 0,
              "ticks": ""
             }
            },
            "type": "scattercarpet"
           }
          ],
          "scattergeo": [
           {
            "marker": {
             "colorbar": {
              "outlinewidth": 0,
              "ticks": ""
             }
            },
            "type": "scattergeo"
           }
          ],
          "scattergl": [
           {
            "marker": {
             "colorbar": {
              "outlinewidth": 0,
              "ticks": ""
             }
            },
            "type": "scattergl"
           }
          ],
          "scattermapbox": [
           {
            "marker": {
             "colorbar": {
              "outlinewidth": 0,
              "ticks": ""
             }
            },
            "type": "scattermapbox"
           }
          ],
          "scatterpolar": [
           {
            "marker": {
             "colorbar": {
              "outlinewidth": 0,
              "ticks": ""
             }
            },
            "type": "scatterpolar"
           }
          ],
          "scatterpolargl": [
           {
            "marker": {
             "colorbar": {
              "outlinewidth": 0,
              "ticks": ""
             }
            },
            "type": "scatterpolargl"
           }
          ],
          "scatterternary": [
           {
            "marker": {
             "colorbar": {
              "outlinewidth": 0,
              "ticks": ""
             }
            },
            "type": "scatterternary"
           }
          ],
          "surface": [
           {
            "colorbar": {
             "outlinewidth": 0,
             "ticks": ""
            },
            "colorscale": [
             [
              0,
              "#0d0887"
             ],
             [
              0.1111111111111111,
              "#46039f"
             ],
             [
              0.2222222222222222,
              "#7201a8"
             ],
             [
              0.3333333333333333,
              "#9c179e"
             ],
             [
              0.4444444444444444,
              "#bd3786"
             ],
             [
              0.5555555555555556,
              "#d8576b"
             ],
             [
              0.6666666666666666,
              "#ed7953"
             ],
             [
              0.7777777777777778,
              "#fb9f3a"
             ],
             [
              0.8888888888888888,
              "#fdca26"
             ],
             [
              1,
              "#f0f921"
             ]
            ],
            "type": "surface"
           }
          ],
          "table": [
           {
            "cells": {
             "fill": {
              "color": "#EBF0F8"
             },
             "line": {
              "color": "white"
             }
            },
            "header": {
             "fill": {
              "color": "#C8D4E3"
             },
             "line": {
              "color": "white"
             }
            },
            "type": "table"
           }
          ]
         },
         "layout": {
          "annotationdefaults": {
           "arrowcolor": "#2a3f5f",
           "arrowhead": 0,
           "arrowwidth": 1
          },
          "autotypenumbers": "strict",
          "coloraxis": {
           "colorbar": {
            "outlinewidth": 0,
            "ticks": ""
           }
          },
          "colorscale": {
           "diverging": [
            [
             0,
             "#8e0152"
            ],
            [
             0.1,
             "#c51b7d"
            ],
            [
             0.2,
             "#de77ae"
            ],
            [
             0.3,
             "#f1b6da"
            ],
            [
             0.4,
             "#fde0ef"
            ],
            [
             0.5,
             "#f7f7f7"
            ],
            [
             0.6,
             "#e6f5d0"
            ],
            [
             0.7,
             "#b8e186"
            ],
            [
             0.8,
             "#7fbc41"
            ],
            [
             0.9,
             "#4d9221"
            ],
            [
             1,
             "#276419"
            ]
           ],
           "sequential": [
            [
             0,
             "#0d0887"
            ],
            [
             0.1111111111111111,
             "#46039f"
            ],
            [
             0.2222222222222222,
             "#7201a8"
            ],
            [
             0.3333333333333333,
             "#9c179e"
            ],
            [
             0.4444444444444444,
             "#bd3786"
            ],
            [
             0.5555555555555556,
             "#d8576b"
            ],
            [
             0.6666666666666666,
             "#ed7953"
            ],
            [
             0.7777777777777778,
             "#fb9f3a"
            ],
            [
             0.8888888888888888,
             "#fdca26"
            ],
            [
             1,
             "#f0f921"
            ]
           ],
           "sequentialminus": [
            [
             0,
             "#0d0887"
            ],
            [
             0.1111111111111111,
             "#46039f"
            ],
            [
             0.2222222222222222,
             "#7201a8"
            ],
            [
             0.3333333333333333,
             "#9c179e"
            ],
            [
             0.4444444444444444,
             "#bd3786"
            ],
            [
             0.5555555555555556,
             "#d8576b"
            ],
            [
             0.6666666666666666,
             "#ed7953"
            ],
            [
             0.7777777777777778,
             "#fb9f3a"
            ],
            [
             0.8888888888888888,
             "#fdca26"
            ],
            [
             1,
             "#f0f921"
            ]
           ]
          },
          "colorway": [
           "#636efa",
           "#EF553B",
           "#00cc96",
           "#ab63fa",
           "#FFA15A",
           "#19d3f3",
           "#FF6692",
           "#B6E880",
           "#FF97FF",
           "#FECB52"
          ],
          "font": {
           "color": "#2a3f5f"
          },
          "geo": {
           "bgcolor": "white",
           "lakecolor": "white",
           "landcolor": "#E5ECF6",
           "showlakes": true,
           "showland": true,
           "subunitcolor": "white"
          },
          "hoverlabel": {
           "align": "left"
          },
          "hovermode": "closest",
          "mapbox": {
           "style": "light"
          },
          "paper_bgcolor": "white",
          "plot_bgcolor": "#E5ECF6",
          "polar": {
           "angularaxis": {
            "gridcolor": "white",
            "linecolor": "white",
            "ticks": ""
           },
           "bgcolor": "#E5ECF6",
           "radialaxis": {
            "gridcolor": "white",
            "linecolor": "white",
            "ticks": ""
           }
          },
          "scene": {
           "xaxis": {
            "backgroundcolor": "#E5ECF6",
            "gridcolor": "white",
            "gridwidth": 2,
            "linecolor": "white",
            "showbackground": true,
            "ticks": "",
            "zerolinecolor": "white"
           },
           "yaxis": {
            "backgroundcolor": "#E5ECF6",
            "gridcolor": "white",
            "gridwidth": 2,
            "linecolor": "white",
            "showbackground": true,
            "ticks": "",
            "zerolinecolor": "white"
           },
           "zaxis": {
            "backgroundcolor": "#E5ECF6",
            "gridcolor": "white",
            "gridwidth": 2,
            "linecolor": "white",
            "showbackground": true,
            "ticks": "",
            "zerolinecolor": "white"
           }
          },
          "shapedefaults": {
           "line": {
            "color": "#2a3f5f"
           }
          },
          "ternary": {
           "aaxis": {
            "gridcolor": "white",
            "linecolor": "white",
            "ticks": ""
           },
           "baxis": {
            "gridcolor": "white",
            "linecolor": "white",
            "ticks": ""
           },
           "bgcolor": "#E5ECF6",
           "caxis": {
            "gridcolor": "white",
            "linecolor": "white",
            "ticks": ""
           }
          },
          "title": {
           "x": 0.05
          },
          "xaxis": {
           "automargin": true,
           "gridcolor": "white",
           "linecolor": "white",
           "ticks": "",
           "title": {
            "standoff": 15
           },
           "zerolinecolor": "white",
           "zerolinewidth": 2
          },
          "yaxis": {
           "automargin": true,
           "gridcolor": "white",
           "linecolor": "white",
           "ticks": "",
           "title": {
            "standoff": 15
           },
           "zerolinecolor": "white",
           "zerolinewidth": 2
          }
         }
        },
        "title": {
         "text": "Slice Plot"
        },
        "xaxis": {
         "title": {
          "text": "C"
         },
         "type": "log"
        },
        "yaxis": {
         "title": {
          "text": "Objective Value"
         }
        }
       }
      }
     },
     "metadata": {},
     "output_type": "display_data"
    }
   ],
   "source": [
    "optuna.visualization.plot_slice(study)"
   ]
  },
  {
   "cell_type": "code",
   "execution_count": 25,
   "metadata": {},
   "outputs": [
    {
     "name": "stderr",
     "output_type": "stream",
     "text": [
      "[codecarbon WARNING @ 14:18:23] Another instance of codecarbon is already running. Exiting.\n"
     ]
    },
    {
     "name": "stdout",
     "output_type": "stream",
     "text": [
      "Accuracy: 0.8515 ± 0.0576\n",
      "AUC-ROC: 0.9152 ± 0.0345\n"
     ]
    }
   ],
   "source": [
    "# Create optimized model\n",
    "best_params = trial.params\n",
    "model = svm.LinearSVC(random_state=Random_Seed, dual=False, **best_params)\n",
    "\n",
    "# Define pipeline depending on whether PCA is requested or not\n",
    "if PC_Features:\n",
    "    steps = [\n",
    "        ('preprocessor', preprocessor),\n",
    "        ('pca', PCA(n_components=12)),\n",
    "        ('SVM-LinearSVC-classifier', model)\n",
    "    ]\n",
    "else:\n",
    "    steps = [\n",
    "        ('preprocessor', preprocessor),\n",
    "        ('SVM-LinearSVC-classifier', model)\n",
    "    ]\n",
    "    \n",
    "pipeline = Pipeline(steps)\n",
    "\n",
    "# Perform cross-validation\n",
    "cv_results = cross_validate(pipeline, X, y, scoring=['accuracy', 'roc_auc'], cv=K_Folds)\n",
    "\n",
    "# Calculate and display results\n",
    "acc = np.mean(cv_results['test_accuracy'])\n",
    "acc_std = np.std(cv_results['test_accuracy'])\n",
    "roc_auc = np.mean(cv_results['test_roc_auc'])\n",
    "roc_auc_std = np.std(cv_results['test_roc_auc'])\n",
    "\n",
    "print(f\"Accuracy: {acc:.4f} ± {acc_std:.4f}\")\n",
    "print(f\"AUC-ROC: {roc_auc:.4f} ± {roc_auc_std:.4f}\")\n",
    "\n",
    "# Stop emission tracking\n",
    "_ = tracker.stop()"
   ]
  },
  {
   "cell_type": "code",
   "execution_count": 26,
   "metadata": {},
   "outputs": [],
   "source": [
    "# Save evaluation to an external file\n",
    "file = 'scores.csv'\n",
    "\n",
    "results = pd.DataFrame({\n",
    "    'SVM-LinearSVC-optimization': [acc, acc_std, roc_auc, roc_auc_std]\n",
    "}, index = ['Accuracy', 'Accuracy STD', 'AUC-ROC', 'AUC-ROC STD'])\n",
    "\n",
    "# Check if file exists\n",
    "if os.path.exists(file):\n",
    "    temp = pd.read_csv(file, index_col=0)\n",
    "    results = pd.concat([temp, results], axis=1)\n",
    "\n",
    "# Export\n",
    "results.to_csv(file)"
   ]
  },
  {
   "attachments": {},
   "cell_type": "markdown",
   "metadata": {},
   "source": [
    "### References:\n",
    "* https://scikit-learn.org/stable/modules/svm.html"
   ]
  }
 ],
 "metadata": {
  "kernelspec": {
   "display_name": "base",
   "language": "python",
   "name": "python3"
  },
  "language_info": {
   "codemirror_mode": {
    "name": "ipython",
    "version": 3
   },
   "file_extension": ".py",
   "mimetype": "text/x-python",
   "name": "python",
   "nbconvert_exporter": "python",
   "pygments_lexer": "ipython3",
   "version": "3.10.12"
  },
  "orig_nbformat": 4
 },
 "nbformat": 4,
 "nbformat_minor": 2
}

{
 "cells": [
  {
   "attachments": {},
   "cell_type": "markdown",
   "metadata": {},
   "source": [
    "# Alternative Models: Eager Learners II\n",
    "\n",
    "<hr>\n",
    "\n",
    "* Support Vector Machine\n",
    "    * SVC\n",
    "    * NuSVC\n",
    "    * LinearSVC"
   ]
  },
  {
   "cell_type": "code",
   "execution_count": 1,
   "metadata": {},
   "outputs": [],
   "source": [
    "# Import needed libraries and modules\n",
    "from codecarbon import EmissionsTracker\n",
    "import pandas as pd\n",
    "import seaborn as sns\n",
    "import matplotlib.pyplot as plt\n",
    "import numpy as np\n",
    "from sklearn.model_selection import train_test_split, cross_validate\n",
    "from sklearn.metrics import roc_auc_score, accuracy_score\n",
    "import torch\n",
    "from sklearn.preprocessing import StandardScaler, OneHotEncoder\n",
    "from sklearn.compose import ColumnTransformer\n",
    "from sklearn.decomposition import PCA\n",
    "from sklearn.linear_model import LogisticRegression\n",
    "from sklearn import svm\n",
    "from sklearn import tree\n",
    "import optuna\n",
    "from optuna.samplers import GPSampler\n",
    "import sklearn\n",
    "import sklearn.ensemble\n",
    "from sklearn.pipeline import Pipeline\n",
    "\n",
    "# Fetch dataset from UCI Repository\n",
    "from ucimlrepo import fetch_ucirepo\n",
    "heart_disease = fetch_ucirepo(id=45)\n",
    "df = heart_disease.data.original"
   ]
  },
  {
   "cell_type": "code",
   "execution_count": 2,
   "metadata": {},
   "outputs": [],
   "source": [
    "# ---------------------------------------------------------------------------- #\n",
    "#                                PRE-PROCESSING                                #\n",
    "# ---------------------------------------------------------------------------- #\n",
    "\n",
    "# --------------------------------- SETTINGS --------------------------------- #\n",
    "Normalize = True\n",
    "PC_Features = True\n",
    "Test_Size = 0.2\n",
    "Random_Seed = 82024\n",
    "Torch = False\n",
    "Cross_Validation = True\n",
    "\n",
    "# Drop missing values\n",
    "df = df.dropna()\n",
    "df = df.reset_index(drop=True)\n",
    "\n",
    "# Binarize target\n",
    "df.loc[df['num'] != 0, 'num'] = 1\n",
    "\n",
    "# Define features and target vectors\n",
    "X = df.iloc[:,:-1]\n",
    "y = df['num']\n",
    "\n",
    "# Normalize if requested\n",
    "if (Normalize) or (PC_Features):\n",
    "    int_features, cat_features = ['age', 'trestbps', 'chol', 'thalach', 'oldpeak'],\\\n",
    "    ['sex', 'cp', 'fbs', 'restecg', 'exang', 'slope', 'ca', 'thal']\n",
    "    \n",
    "    preprocessor = ColumnTransformer(\n",
    "    transformers=[\n",
    "        ('int', StandardScaler(), int_features),\n",
    "        ('cat', OneHotEncoder(), cat_features)\n",
    "    ])\n",
    "    X = preprocessor.fit_transform(X)\n",
    "else:\n",
    "    X = X.values\n",
    "\n",
    "# Apply PCA if requested\n",
    "if PC_Features:\n",
    "    pca = PCA(n_components=12)\n",
    "    X = pca.fit_transform(X)\n",
    "\n",
    "# Split train and test data\n",
    "index = list(range(y.size))\n",
    "train_index, test_index = train_test_split(index, test_size=Test_Size, random_state=Random_Seed)\n",
    "\n",
    "train_X = X[train_index]\n",
    "train_y = y.loc[train_index].values\n",
    "\n",
    "test_X = X[test_index]\n",
    "test_y = y.loc[test_index].values\n",
    "\n",
    "# Convert to torch tensor if requested\n",
    "if Torch:\n",
    "    train_X, train_y, test_X, test_y = torch.tensor(train_X),\\\n",
    "    torch.tensor(train_y).double(), torch.tensor(test_X), torch.tensor(test_y).double()"
   ]
  },
  {
   "attachments": {},
   "cell_type": "markdown",
   "metadata": {},
   "source": [
    "<hr>\n",
    "\n",
    "## Support Vector Machines:\n",
    "\n",
    "Suport Vector Machines(SVMs) are machine learning algorithms that work by finding a hyperplane to separate data into classes\n",
    "\n",
    "**The advantages of support vector machines are:**\n",
    "\n",
    "* Effective in high dimensional spaces.\n",
    "\n",
    "* Still effective in cases where number of dimensions is greater than the number of samples.\n",
    "\n",
    "* Uses a subset of training points in the decision function (called support vectors), so it is also memory efficient.\n",
    "\n",
    "* Versatile: different Kernel functions can be specified for the decision function as in Gaussian Process Models.\n",
    "\n",
    "**The disadvantages of support vector machines include:**\n",
    "\n",
    "* If the number of features is much greater than the number of samples, avoid over-fitting in choosing Kernel functions and regularization term is crucial.\n",
    "\n",
    "* SVMs do not directly provide probability estimates.\n",
    "\n",
    "<hr>\n",
    "\n",
    "### SVC classification SVM implementation:"
   ]
  },
  {
   "cell_type": "code",
   "execution_count": 3,
   "metadata": {},
   "outputs": [
    {
     "name": "stderr",
     "output_type": "stream",
     "text": [
      "[codecarbon WARNING @ 18:21:16] No CPU tracking mode found. Falling back on CPU constant mode. \n",
      " Linux OS detected: Please ensure RAPL files exist at \\sys\\class\\powercap\\intel-rapl to measure CPU\n",
      "\n"
     ]
    },
    {
     "name": "stdout",
     "output_type": "stream",
     "text": [
      "Accuracy: 0.8281\n",
      "AUC-ROC: 0.8987\n"
     ]
    },
    {
     "data": {
      "text/plain": [
       "2.5571511545394597e-08"
      ]
     },
     "execution_count": 3,
     "metadata": {},
     "output_type": "execute_result"
    }
   ],
   "source": [
    "# ---------------------------------------------------------------------------- #\n",
    "#                                     MODEL                                    #\n",
    "# ---------------------------------------------------------------------------- #\n",
    "# Initiate CodeCarbon to track emissions\n",
    "tracker = EmissionsTracker('SVC SVM model', log_level='warning')\n",
    "tracker.start()\n",
    "\n",
    "# Create model\n",
    "model = svm.SVC(random_state=Random_Seed, probability=True)\n",
    "\n",
    "if Cross_Validation:\n",
    "    cv_results = cross_validate(model, X, y, scoring=['accuracy', 'roc_auc'])\n",
    "    acc = cv_results['test_accuracy'].mean()\n",
    "    roc_auc = cv_results['test_roc_auc'].mean()\n",
    "else:\n",
    "    # Train model\n",
    "    model.fit(train_X, train_y)\n",
    "\n",
    "    # Test model\n",
    "    y_pred = model.predict(test_X)\n",
    "    pred_probs = model.predict_proba(test_X)\n",
    "\n",
    "    # Evaluation\n",
    "    acc = accuracy_score(test_y, y_pred)\n",
    "    roc_auc = roc_auc_score(test_y, pred_probs[:, 1])\n",
    "\n",
    "print(f\"Accuracy: {acc:.4f}\")\n",
    "print(f\"AUC-ROC: {roc_auc:.4f}\")\n",
    "\n",
    "tracker.stop()"
   ]
  },
  {
   "cell_type": "code",
   "execution_count": 4,
   "metadata": {},
   "outputs": [
    {
     "name": "stderr",
     "output_type": "stream",
     "text": [
      "[codecarbon WARNING @ 18:21:21] No CPU tracking mode found. Falling back on CPU constant mode. \n",
      " Linux OS detected: Please ensure RAPL files exist at \\sys\\class\\powercap\\intel-rapl to measure CPU\n",
      "\n",
      "/tmp/ipykernel_17731/3752731355.py:22: ExperimentalWarning: GPSampler is experimental (supported from v3.6.0). The interface can change in the future.\n",
      "  study = optuna.create_study(direction='maximize', sampler=GPSampler()) #Criando a otimização, o GPSamples é um processo gaussiano\n",
      "[I 2024-10-21 18:21:26,361] A new study created in memory with name: no-name-e5869755-bc62-475a-9437-bffc1aeb3e5c\n",
      "[I 2024-10-21 18:21:26,387] Trial 0 finished with value: 0.8948330026455027 and parameters: {'C': 4.067782996797929, 'kernel': 'rbf', 'gamma': 'auto'}. Best is trial 0 with value: 0.8948330026455027.\n",
      "[I 2024-10-21 18:21:26,406] Trial 1 finished with value: 0.9101190476190476 and parameters: {'C': 0.012216365841480722, 'kernel': 'linear', 'gamma': 'auto'}. Best is trial 1 with value: 0.9101190476190476.\n",
      "[I 2024-10-21 18:21:26,426] Trial 2 finished with value: 0.890162037037037 and parameters: {'C': 0.0007262136729730704, 'kernel': 'linear', 'gamma': 'auto'}. Best is trial 1 with value: 0.9101190476190476.\n",
      "[I 2024-10-21 18:21:26,447] Trial 3 finished with value: 0.873735119047619 and parameters: {'C': 5.496960649803235, 'kernel': 'rbf', 'gamma': 'scale'}. Best is trial 1 with value: 0.9101190476190476.\n",
      "[I 2024-10-21 18:21:26,465] Trial 4 finished with value: 0.890162037037037 and parameters: {'C': 0.0007576432202442951, 'kernel': 'linear', 'gamma': 'auto'}. Best is trial 1 with value: 0.9101190476190476.\n",
      "[I 2024-10-21 18:21:26,483] Trial 5 finished with value: 0.8845238095238095 and parameters: {'C': 0.01083735326472488, 'kernel': 'poly', 'gamma': 'auto'}. Best is trial 1 with value: 0.9101190476190476.\n",
      "[I 2024-10-21 18:21:26,501] Trial 6 finished with value: 0.8865988756613756 and parameters: {'C': 6.41632304644547e-05, 'kernel': 'poly', 'gamma': 'scale'}. Best is trial 1 with value: 0.9101190476190476.\n",
      "[I 2024-10-21 18:21:26,522] Trial 7 finished with value: 0.9101190476190476 and parameters: {'C': 0.3836000379078151, 'kernel': 'sigmoid', 'gamma': 'scale'}. Best is trial 1 with value: 0.9101190476190476.\n",
      "[I 2024-10-21 18:21:26,538] Trial 8 finished with value: 0.9122106481481481 and parameters: {'C': 0.0443759867651295, 'kernel': 'linear', 'gamma': 'auto'}. Best is trial 8 with value: 0.9122106481481481.\n",
      "[I 2024-10-21 18:21:26,557] Trial 9 finished with value: 0.824156746031746 and parameters: {'C': 34.474668986554036, 'kernel': 'poly', 'gamma': 'auto'}. Best is trial 8 with value: 0.9122106481481481.\n",
      "[I 2024-10-21 18:21:34,038] Trial 10 finished with value: 0.89130291005291 and parameters: {'C': 0.012903012738692755, 'kernel': 'sigmoid', 'gamma': 'auto'}. Best is trial 8 with value: 0.9122106481481481.\n",
      "[I 2024-10-21 18:21:34,181] Trial 11 finished with value: 0.9114831349206349 and parameters: {'C': 0.06279994746957064, 'kernel': 'linear', 'gamma': 'scale'}. Best is trial 8 with value: 0.9122106481481481.\n",
      "[I 2024-10-21 18:21:34,350] Trial 12 finished with value: 0.8796213624338625 and parameters: {'C': 36.956814415418826, 'kernel': 'sigmoid', 'gamma': 'scale'}. Best is trial 8 with value: 0.9122106481481481.\n",
      "[I 2024-10-21 18:21:34,524] Trial 13 finished with value: 0.8882688492063492 and parameters: {'C': 0.015225705256191898, 'kernel': 'rbf', 'gamma': 'auto'}. Best is trial 8 with value: 0.9122106481481481.\n",
      "[I 2024-10-21 18:21:34,687] Trial 14 finished with value: 0.89422123015873 and parameters: {'C': 0.02907279248146079, 'kernel': 'sigmoid', 'gamma': 'scale'}. Best is trial 8 with value: 0.9122106481481481.\n",
      "[I 2024-10-21 18:21:34,830] Trial 15 finished with value: 0.9076058201058201 and parameters: {'C': 0.6152636942286243, 'kernel': 'sigmoid', 'gamma': 'auto'}. Best is trial 8 with value: 0.9122106481481481.\n",
      "[I 2024-10-21 18:21:34,956] Trial 16 finished with value: 0.8906001984126984 and parameters: {'C': 1e-05, 'kernel': 'rbf', 'gamma': 'scale'}. Best is trial 8 with value: 0.9122106481481481.\n",
      "[I 2024-10-21 18:21:35,090] Trial 17 finished with value: 0.9107638888888889 and parameters: {'C': 0.016295237349206165, 'kernel': 'linear', 'gamma': 'scale'}. Best is trial 8 with value: 0.9122106481481481.\n",
      "[I 2024-10-21 18:21:35,300] Trial 18 finished with value: 0.8910714285714285 and parameters: {'C': 1e-05, 'kernel': 'sigmoid', 'gamma': 'auto'}. Best is trial 8 with value: 0.9122106481481481.\n",
      "[I 2024-10-21 18:21:35,444] Trial 19 finished with value: 0.9100859788359787 and parameters: {'C': 0.7789403516064823, 'kernel': 'linear', 'gamma': 'auto'}. Best is trial 8 with value: 0.9122106481481481.\n",
      "[I 2024-10-21 18:21:35,569] Trial 20 finished with value: 0.9132688492063492 and parameters: {'C': 1.6354239037944613, 'kernel': 'linear', 'gamma': 'scale'}. Best is trial 20 with value: 0.9132688492063492.\n",
      "[I 2024-10-21 18:21:35,925] Trial 21 finished with value: 0.9109871031746033 and parameters: {'C': 78.73998164362861, 'kernel': 'linear', 'gamma': 'scale'}. Best is trial 20 with value: 0.9132688492063492.\n",
      "[I 2024-10-21 18:21:36,165] Trial 22 finished with value: 0.9119130291005291 and parameters: {'C': 9.72340282198281, 'kernel': 'linear', 'gamma': 'scale'}. Best is trial 20 with value: 0.9132688492063492.\n",
      "[I 2024-10-21 18:21:36,541] Trial 23 finished with value: 0.9114335317460318 and parameters: {'C': 100.0, 'kernel': 'linear', 'gamma': 'auto'}. Best is trial 20 with value: 0.9132688492063492.\n",
      "[I 2024-10-21 18:21:36,731] Trial 24 finished with value: 0.9119130291005291 and parameters: {'C': 14.033892932464441, 'kernel': 'linear', 'gamma': 'auto'}. Best is trial 20 with value: 0.9132688492063492.\n",
      "[I 2024-10-21 18:21:36,878] Trial 25 finished with value: 0.9114748677248677 and parameters: {'C': 0.5898933801825188, 'kernel': 'linear', 'gamma': 'scale'}. Best is trial 20 with value: 0.9132688492063492.\n",
      "[I 2024-10-21 18:21:37,026] Trial 26 finished with value: 0.9123594576719578 and parameters: {'C': 2.7252863518659076, 'kernel': 'linear', 'gamma': 'scale'}. Best is trial 20 with value: 0.9132688492063492.\n",
      "[I 2024-10-21 18:21:37,167] Trial 27 finished with value: 0.816170634920635 and parameters: {'C': 96.16304191196237, 'kernel': 'rbf', 'gamma': 'auto'}. Best is trial 20 with value: 0.9132688492063492.\n",
      "[I 2024-10-21 18:21:37,304] Trial 28 finished with value: 0.9025297619047619 and parameters: {'C': 0.4627788065800064, 'kernel': 'rbf', 'gamma': 'auto'}. Best is trial 20 with value: 0.9132688492063492.\n",
      "[I 2024-10-21 18:21:37,457] Trial 29 finished with value: 0.8894593253968253 and parameters: {'C': 1e-05, 'kernel': 'linear', 'gamma': 'scale'}. Best is trial 20 with value: 0.9132688492063492.\n",
      "[I 2024-10-21 18:21:37,645] Trial 30 finished with value: 0.9027199074074075 and parameters: {'C': 1.4170897547369548, 'kernel': 'sigmoid', 'gamma': 'scale'}. Best is trial 20 with value: 0.9132688492063492.\n",
      "[I 2024-10-21 18:21:37,937] Trial 31 finished with value: 0.9107556216931219 and parameters: {'C': 38.776186036678794, 'kernel': 'linear', 'gamma': 'auto'}. Best is trial 20 with value: 0.9132688492063492.\n",
      "[I 2024-10-21 18:21:38,155] Trial 32 finished with value: 0.8882771164021165 and parameters: {'C': 0.00023136268030999075, 'kernel': 'rbf', 'gamma': 'auto'}. Best is trial 20 with value: 0.9132688492063492.\n",
      "[I 2024-10-21 18:21:38,301] Trial 33 finished with value: 0.8861524470899471 and parameters: {'C': 1e-05, 'kernel': 'poly', 'gamma': 'auto'}. Best is trial 20 with value: 0.9132688492063492.\n",
      "[I 2024-10-21 18:21:38,544] Trial 34 finished with value: 0.9128224206349207 and parameters: {'C': 3.6605692894747275, 'kernel': 'linear', 'gamma': 'auto'}. Best is trial 20 with value: 0.9132688492063492.\n",
      "[I 2024-10-21 18:21:38,795] Trial 35 finished with value: 0.8899140211640211 and parameters: {'C': 0.00020100964254150867, 'kernel': 'sigmoid', 'gamma': 'scale'}. Best is trial 20 with value: 0.9132688492063492.\n",
      "[I 2024-10-21 18:21:39,022] Trial 36 finished with value: 0.907804232804233 and parameters: {'C': 0.1713136316028261, 'kernel': 'sigmoid', 'gamma': 'auto'}. Best is trial 20 with value: 0.9132688492063492.\n",
      "[I 2024-10-21 18:21:39,274] Trial 37 finished with value: 0.9116898148148147 and parameters: {'C': 1.3983632051943373, 'kernel': 'linear', 'gamma': 'scale'}. Best is trial 20 with value: 0.9132688492063492.\n",
      "[I 2024-10-21 18:21:39,467] Trial 38 finished with value: 0.9123677248677249 and parameters: {'C': 5.588617008980396, 'kernel': 'linear', 'gamma': 'auto'}. Best is trial 20 with value: 0.9132688492063492.\n",
      "[I 2024-10-21 18:21:39,763] Trial 39 finished with value: 0.9124007936507936 and parameters: {'C': 0.11919122646500288, 'kernel': 'linear', 'gamma': 'auto'}. Best is trial 20 with value: 0.9132688492063492.\n",
      "[I 2024-10-21 18:21:40,027] Trial 40 finished with value: 0.9123594576719578 and parameters: {'C': 4.036428188369686, 'kernel': 'linear', 'gamma': 'scale'}. Best is trial 20 with value: 0.9132688492063492.\n",
      "[I 2024-10-21 18:21:40,419] Trial 41 finished with value: 0.9108300264550264 and parameters: {'C': 0.17918628358042699, 'kernel': 'linear', 'gamma': 'scale'}. Best is trial 20 with value: 0.9132688492063492.\n",
      "[I 2024-10-21 18:21:40,646] Trial 42 finished with value: 0.8838210978835978 and parameters: {'C': 0.0005312341014542265, 'kernel': 'poly', 'gamma': 'auto'}. Best is trial 20 with value: 0.9132688492063492.\n",
      "[I 2024-10-21 18:21:40,857] Trial 43 finished with value: 0.9112433862433862 and parameters: {'C': 0.06821471667101059, 'kernel': 'linear', 'gamma': 'auto'}. Best is trial 20 with value: 0.9132688492063492.\n",
      "[I 2024-10-21 18:21:41,081] Trial 44 finished with value: 0.9121279761904763 and parameters: {'C': 3.0893140396029417, 'kernel': 'linear', 'gamma': 'auto'}. Best is trial 20 with value: 0.9132688492063492.\n",
      "[I 2024-10-21 18:21:41,353] Trial 45 finished with value: 0.9107556216931219 and parameters: {'C': 25.47664691933026, 'kernel': 'linear', 'gamma': 'scale'}. Best is trial 20 with value: 0.9132688492063492.\n",
      "[I 2024-10-21 18:21:41,551] Trial 46 finished with value: 0.9119130291005291 and parameters: {'C': 6.719533457344583, 'kernel': 'linear', 'gamma': 'auto'}. Best is trial 20 with value: 0.9132688492063492.\n",
      "[I 2024-10-21 18:21:41,748] Trial 47 finished with value: 0.8994626322751322 and parameters: {'C': 0.18332540817020532, 'kernel': 'poly', 'gamma': 'scale'}. Best is trial 20 with value: 0.9132688492063492.\n",
      "[I 2024-10-21 18:21:41,990] Trial 48 finished with value: 0.8972800925925926 and parameters: {'C': 0.26634327571493166, 'kernel': 'poly', 'gamma': 'auto'}. Best is trial 20 with value: 0.9132688492063492.\n",
      "[I 2024-10-21 18:21:42,175] Trial 49 finished with value: 0.9103835978835978 and parameters: {'C': 0.21544985969127806, 'kernel': 'linear', 'gamma': 'auto'}. Best is trial 20 with value: 0.9132688492063492.\n",
      "[I 2024-10-21 18:21:42,407] Trial 50 finished with value: 0.9098792989417989 and parameters: {'C': 0.028545966304554093, 'kernel': 'linear', 'gamma': 'auto'}. Best is trial 20 with value: 0.9132688492063492.\n",
      "[I 2024-10-21 18:21:42,759] Trial 51 finished with value: 0.896957671957672 and parameters: {'C': 0.0049716888718597885, 'kernel': 'linear', 'gamma': 'scale'}. Best is trial 20 with value: 0.9132688492063492.\n",
      "[I 2024-10-21 18:21:42,960] Trial 52 finished with value: 0.9121858465608466 and parameters: {'C': 0.03414300799792528, 'kernel': 'linear', 'gamma': 'scale'}. Best is trial 20 with value: 0.9132688492063492.\n",
      "[I 2024-10-21 18:21:43,195] Trial 53 finished with value: 0.9121279761904763 and parameters: {'C': 2.8913133157281754, 'kernel': 'linear', 'gamma': 'scale'}. Best is trial 20 with value: 0.9132688492063492.\n",
      "[I 2024-10-21 18:21:43,347] Trial 54 finished with value: 0.8894593253968253 and parameters: {'C': 1e-05, 'kernel': 'linear', 'gamma': 'auto'}. Best is trial 20 with value: 0.9132688492063492.\n",
      "[I 2024-10-21 18:21:43,578] Trial 55 finished with value: 0.9118964947089948 and parameters: {'C': 2.2668651695811453, 'kernel': 'linear', 'gamma': 'auto'}. Best is trial 20 with value: 0.9132688492063492.\n",
      "[I 2024-10-21 18:21:43,752] Trial 56 finished with value: 0.8903687169312171 and parameters: {'C': 0.0015387722363678273, 'kernel': 'rbf', 'gamma': 'scale'}. Best is trial 20 with value: 0.9132688492063492.\n",
      "[I 2024-10-21 18:21:44,042] Trial 57 finished with value: 0.9125909391534393 and parameters: {'C': 5.5484862329614915, 'kernel': 'linear', 'gamma': 'scale'}. Best is trial 20 with value: 0.9132688492063492.\n",
      "[I 2024-10-21 18:21:44,373] Trial 58 finished with value: 0.9114335317460318 and parameters: {'C': 100.0, 'kernel': 'linear', 'gamma': 'scale'}. Best is trial 20 with value: 0.9132688492063492.\n",
      "[I 2024-10-21 18:21:44,583] Trial 59 finished with value: 0.8901455026455025 and parameters: {'C': 1e-05, 'kernel': 'sigmoid', 'gamma': 'scale'}. Best is trial 20 with value: 0.9132688492063492.\n",
      "[I 2024-10-21 18:21:44,762] Trial 60 finished with value: 0.8930472883597883 and parameters: {'C': 0.10208654882980303, 'kernel': 'rbf', 'gamma': 'scale'}. Best is trial 20 with value: 0.9132688492063492.\n",
      "[I 2024-10-21 18:21:44,960] Trial 61 finished with value: 0.9117311507936507 and parameters: {'C': 0.032963560053263084, 'kernel': 'linear', 'gamma': 'scale'}. Best is trial 20 with value: 0.9132688492063492.\n",
      "[I 2024-10-21 18:21:45,141] Trial 62 finished with value: 0.9121279761904761 and parameters: {'C': 2.0220228458734977, 'kernel': 'linear', 'gamma': 'scale'}. Best is trial 20 with value: 0.9132688492063492.\n",
      "[I 2024-10-21 18:21:45,368] Trial 63 finished with value: 0.9121445105820106 and parameters: {'C': 5.7282888617347005, 'kernel': 'linear', 'gamma': 'scale'}. Best is trial 20 with value: 0.9132688492063492.\n",
      "[I 2024-10-21 18:21:45,629] Trial 64 finished with value: 0.9108465608465608 and parameters: {'C': 0.1860461094354086, 'kernel': 'sigmoid', 'gamma': 'scale'}. Best is trial 20 with value: 0.9132688492063492.\n",
      "[I 2024-10-21 18:21:45,812] Trial 65 finished with value: 0.897891865079365 and parameters: {'C': 4.983412647398829, 'kernel': 'sigmoid', 'gamma': 'auto'}. Best is trial 20 with value: 0.9132688492063492.\n",
      "[I 2024-10-21 18:21:46,070] Trial 66 finished with value: 0.890376984126984 and parameters: {'C': 0.0008485018994804432, 'kernel': 'sigmoid', 'gamma': 'auto'}. Best is trial 20 with value: 0.9132688492063492.\n",
      "[I 2024-10-21 18:21:46,357] Trial 67 finished with value: 0.9125909391534393 and parameters: {'C': 4.730381755651268, 'kernel': 'linear', 'gamma': 'auto'}. Best is trial 20 with value: 0.9132688492063492.\n",
      "[I 2024-10-21 18:21:46,590] Trial 68 finished with value: 0.9119130291005291 and parameters: {'C': 8.719541025110741, 'kernel': 'linear', 'gamma': 'auto'}. Best is trial 20 with value: 0.9132688492063492.\n",
      "[I 2024-10-21 18:21:46,836] Trial 69 finished with value: 0.8882771164021165 and parameters: {'C': 1e-05, 'kernel': 'rbf', 'gamma': 'auto'}. Best is trial 20 with value: 0.9132688492063492.\n",
      "[I 2024-10-21 18:21:47,061] Trial 70 finished with value: 0.894088955026455 and parameters: {'C': 0.9135312588543458, 'kernel': 'poly', 'gamma': 'scale'}. Best is trial 20 with value: 0.9132688492063492.\n",
      "[I 2024-10-21 18:21:47,315] Trial 71 finished with value: 0.9107969576719576 and parameters: {'C': 1.1111871818013332, 'kernel': 'linear', 'gamma': 'scale'}. Best is trial 20 with value: 0.9132688492063492.\n",
      "[I 2024-10-21 18:21:47,489] Trial 72 finished with value: 0.9123594576719578 and parameters: {'C': 3.5993751720015146, 'kernel': 'linear', 'gamma': 'scale'}. Best is trial 20 with value: 0.9132688492063492.\n",
      "[I 2024-10-21 18:21:47,690] Trial 73 finished with value: 0.9123594576719578 and parameters: {'C': 3.9641550493445736, 'kernel': 'linear', 'gamma': 'auto'}. Best is trial 20 with value: 0.9132688492063492.\n",
      "[I 2024-10-21 18:21:47,927] Trial 74 finished with value: 0.890162037037037 and parameters: {'C': 7.68693315512247e-05, 'kernel': 'linear', 'gamma': 'scale'}. Best is trial 20 with value: 0.9132688492063492.\n",
      "[I 2024-10-21 18:21:48,185] Trial 75 finished with value: 0.8910714285714285 and parameters: {'C': 6.812386386024055e-05, 'kernel': 'sigmoid', 'gamma': 'auto'}. Best is trial 20 with value: 0.9132688492063492.\n",
      "[I 2024-10-21 18:21:48,457] Trial 76 finished with value: 0.9119130291005291 and parameters: {'C': 9.605437511556143, 'kernel': 'linear', 'gamma': 'scale'}. Best is trial 20 with value: 0.9132688492063492.\n",
      "[I 2024-10-21 18:21:48,672] Trial 77 finished with value: 0.9116650132275133 and parameters: {'C': 2.1479773412106598, 'kernel': 'linear', 'gamma': 'auto'}. Best is trial 20 with value: 0.9132688492063492.\n",
      "[I 2024-10-21 18:21:48,905] Trial 78 finished with value: 0.8906001984126984 and parameters: {'C': 7.025720448025578e-05, 'kernel': 'rbf', 'gamma': 'scale'}. Best is trial 20 with value: 0.9132688492063492.\n",
      "[I 2024-10-21 18:21:49,127] Trial 79 finished with value: 0.9105737433862433 and parameters: {'C': 0.08714239915671193, 'kernel': 'linear', 'gamma': 'scale'}. Best is trial 20 with value: 0.9132688492063492.\n",
      "[I 2024-10-21 18:21:49,658] Trial 80 finished with value: 0.9114335317460318 and parameters: {'C': 100.0, 'kernel': 'linear', 'gamma': 'auto'}. Best is trial 20 with value: 0.9132688492063492.\n",
      "[I 2024-10-21 18:21:49,892] Trial 81 finished with value: 0.9123594576719578 and parameters: {'C': 4.334407133341791, 'kernel': 'linear', 'gamma': 'scale'}. Best is trial 20 with value: 0.9132688492063492.\n",
      "[I 2024-10-21 18:21:50,092] Trial 82 finished with value: 0.884292328042328 and parameters: {'C': 0.002242866798286368, 'kernel': 'poly', 'gamma': 'scale'}. Best is trial 20 with value: 0.9132688492063492.\n",
      "[I 2024-10-21 18:21:50,359] Trial 83 finished with value: 0.9107556216931219 and parameters: {'C': 17.812413457982544, 'kernel': 'linear', 'gamma': 'auto'}. Best is trial 20 with value: 0.9132688492063492.\n",
      "[I 2024-10-21 18:21:50,546] Trial 84 finished with value: 0.9123594576719578 and parameters: {'C': 4.531008888866899, 'kernel': 'linear', 'gamma': 'auto'}. Best is trial 20 with value: 0.9132688492063492.\n",
      "[I 2024-10-21 18:21:50,758] Trial 85 finished with value: 0.910557208994709 and parameters: {'C': 0.09563096797484434, 'kernel': 'linear', 'gamma': 'auto'}. Best is trial 20 with value: 0.9132688492063492.\n",
      "[I 2024-10-21 18:21:50,983] Trial 86 finished with value: 0.9121279761904763 and parameters: {'C': 2.6288045558388475, 'kernel': 'linear', 'gamma': 'scale'}. Best is trial 20 with value: 0.9132688492063492.\n",
      "[I 2024-10-21 18:21:51,178] Trial 87 finished with value: 0.911020171957672 and parameters: {'C': 0.35297552914707236, 'kernel': 'linear', 'gamma': 'scale'}. Best is trial 20 with value: 0.9132688492063492.\n",
      "[I 2024-10-21 18:21:51,415] Trial 88 finished with value: 0.9098792989417989 and parameters: {'C': 0.028680108797271425, 'kernel': 'linear', 'gamma': 'scale'}. Best is trial 20 with value: 0.9132688492063492.\n",
      "[I 2024-10-21 18:21:51,609] Trial 89 finished with value: 0.9123677248677249 and parameters: {'C': 5.614588927492251, 'kernel': 'linear', 'gamma': 'scale'}. Best is trial 20 with value: 0.9132688492063492.\n",
      "[I 2024-10-21 18:21:51,824] Trial 90 finished with value: 0.9125992063492063 and parameters: {'C': 5.6724680627140005, 'kernel': 'linear', 'gamma': 'auto'}. Best is trial 20 with value: 0.9132688492063492.\n",
      "[I 2024-10-21 18:21:52,066] Trial 91 finished with value: 0.9123594576719578 and parameters: {'C': 4.074480267019237, 'kernel': 'linear', 'gamma': 'auto'}. Best is trial 20 with value: 0.9132688492063492.\n",
      "[I 2024-10-21 18:21:52,377] Trial 92 finished with value: 0.9119130291005291 and parameters: {'C': 7.0380255147783775, 'kernel': 'linear', 'gamma': 'auto'}. Best is trial 20 with value: 0.9132688492063492.\n",
      "[I 2024-10-21 18:21:52,687] Trial 93 finished with value: 0.9107556216931219 and parameters: {'C': 49.57824358224957, 'kernel': 'linear', 'gamma': 'scale'}. Best is trial 20 with value: 0.9132688492063492.\n",
      "[I 2024-10-21 18:21:52,882] Trial 94 finished with value: 0.912590939153439 and parameters: {'C': 3.327941905224068, 'kernel': 'linear', 'gamma': 'scale'}. Best is trial 20 with value: 0.9132688492063492.\n",
      "[I 2024-10-21 18:21:53,089] Trial 95 finished with value: 0.9119130291005291 and parameters: {'C': 6.159359115281294, 'kernel': 'linear', 'gamma': 'scale'}. Best is trial 20 with value: 0.9132688492063492.\n",
      "[I 2024-10-21 18:21:53,274] Trial 96 finished with value: 0.9118964947089948 and parameters: {'C': 2.3790034164692706, 'kernel': 'linear', 'gamma': 'scale'}. Best is trial 20 with value: 0.9132688492063492.\n",
      "[I 2024-10-21 18:21:53,664] Trial 97 finished with value: 0.9114335317460318 and parameters: {'C': 100.0, 'kernel': 'linear', 'gamma': 'scale'}. Best is trial 20 with value: 0.9132688492063492.\n",
      "[I 2024-10-21 18:21:53,889] Trial 98 finished with value: 0.9042162698412699 and parameters: {'C': 1.2696117236480513, 'kernel': 'rbf', 'gamma': 'auto'}. Best is trial 20 with value: 0.9132688492063492.\n",
      "[I 2024-10-21 18:21:54,181] Trial 99 finished with value: 0.8886987433862433 and parameters: {'C': 97.83251388536793, 'kernel': 'sigmoid', 'gamma': 'auto'}. Best is trial 20 with value: 0.9132688492063492.\n"
     ]
    }
   ],
   "source": [
    "# ---------------------------------------------------------------------------- #\n",
    "#                                 OPTIMIZATION                                 #\n",
    "# ---------------------------------------------------------------------------- #\n",
    "# Initiate CodeCarbon to track emissions\n",
    "tracker = EmissionsTracker('SVC SVM optimization', log_level='warning')\n",
    "tracker.start()\n",
    "\n",
    "# Objective function\n",
    "def objective(trial):\n",
    "      # Sugerindo os hiperparâmetros a serem otimizados\n",
    "      C = trial.suggest_float('C', 1e-5, 1e2, log=True)  # Faixa de valores para o parâmetro de regularização C\n",
    "      kernel = trial.suggest_categorical('kernel', ['linear', 'poly', 'rbf', 'sigmoid'])  # Seleção do kernel\n",
    "      gamma = trial.suggest_categorical('gamma', ['scale', 'auto'])  # Opções para o parâmetro gamma\n",
    "\n",
    "      # Criando o modelo SVC com os parâmetros sugeridos\n",
    "      clf = sklearn.svm.SVC(C=C, kernel=kernel, gamma=gamma)\n",
    "      # Otimizando a média da validação cruzada\n",
    "      return sklearn.model_selection.cross_val_score(clf, X, y, scoring = 'roc_auc').mean() # Estamos otimizando o score da validação cruzada\n",
    "\n",
    "\n",
    "# Executando o optuna\n",
    "study = optuna.create_study(direction='maximize', sampler=GPSampler()) #Criando a otimização, o GPSamples é um processo gaussiano\n",
    "study.optimize(objective, n_trials=100) #Rodar a otimização"
   ]
  },
  {
   "cell_type": "code",
   "execution_count": 5,
   "metadata": {},
   "outputs": [
    {
     "name": "stdout",
     "output_type": "stream",
     "text": [
      "ROC_AUC: 0.9132688492063492\n",
      "Best hyperparameters: {'C': 1.6354239037944613, 'kernel': 'linear', 'gamma': 'scale'}\n"
     ]
    }
   ],
   "source": [
    "# Mostrando o melhor modelo\n",
    "trial = study.best_trial\n",
    "print('ROC_AUC: {}'.format(trial.value))\n",
    "print(\"Best hyperparameters: {}\".format(trial.params))"
   ]
  },
  {
   "cell_type": "code",
   "execution_count": 6,
   "metadata": {},
   "outputs": [
    {
     "data": {
      "application/vnd.plotly.v1+json": {
       "config": {
        "plotlyServerURL": "https://plot.ly"
       },
       "data": [
        {
         "mode": "markers",
         "name": "Objective Value",
         "type": "scatter",
         "x": [
          0,
          1,
          2,
          3,
          4,
          5,
          6,
          7,
          8,
          9,
          10,
          11,
          12,
          13,
          14,
          15,
          16,
          17,
          18,
          19,
          20,
          21,
          22,
          23,
          24,
          25,
          26,
          27,
          28,
          29,
          30,
          31,
          32,
          33,
          34,
          35,
          36,
          37,
          38,
          39,
          40,
          41,
          42,
          43,
          44,
          45,
          46,
          47,
          48,
          49,
          50,
          51,
          52,
          53,
          54,
          55,
          56,
          57,
          58,
          59,
          60,
          61,
          62,
          63,
          64,
          65,
          66,
          67,
          68,
          69,
          70,
          71,
          72,
          73,
          74,
          75,
          76,
          77,
          78,
          79,
          80,
          81,
          82,
          83,
          84,
          85,
          86,
          87,
          88,
          89,
          90,
          91,
          92,
          93,
          94,
          95,
          96,
          97,
          98,
          99
         ],
         "y": [
          0.8948330026455027,
          0.9101190476190476,
          0.890162037037037,
          0.873735119047619,
          0.890162037037037,
          0.8845238095238095,
          0.8865988756613756,
          0.9101190476190476,
          0.9122106481481481,
          0.824156746031746,
          0.89130291005291,
          0.9114831349206349,
          0.8796213624338625,
          0.8882688492063492,
          0.89422123015873,
          0.9076058201058201,
          0.8906001984126984,
          0.9107638888888889,
          0.8910714285714285,
          0.9100859788359787,
          0.9132688492063492,
          0.9109871031746033,
          0.9119130291005291,
          0.9114335317460318,
          0.9119130291005291,
          0.9114748677248677,
          0.9123594576719578,
          0.816170634920635,
          0.9025297619047619,
          0.8894593253968253,
          0.9027199074074075,
          0.9107556216931219,
          0.8882771164021165,
          0.8861524470899471,
          0.9128224206349207,
          0.8899140211640211,
          0.907804232804233,
          0.9116898148148147,
          0.9123677248677249,
          0.9124007936507936,
          0.9123594576719578,
          0.9108300264550264,
          0.8838210978835978,
          0.9112433862433862,
          0.9121279761904763,
          0.9107556216931219,
          0.9119130291005291,
          0.8994626322751322,
          0.8972800925925926,
          0.9103835978835978,
          0.9098792989417989,
          0.896957671957672,
          0.9121858465608466,
          0.9121279761904763,
          0.8894593253968253,
          0.9118964947089948,
          0.8903687169312171,
          0.9125909391534393,
          0.9114335317460318,
          0.8901455026455025,
          0.8930472883597883,
          0.9117311507936507,
          0.9121279761904761,
          0.9121445105820106,
          0.9108465608465608,
          0.897891865079365,
          0.890376984126984,
          0.9125909391534393,
          0.9119130291005291,
          0.8882771164021165,
          0.894088955026455,
          0.9107969576719576,
          0.9123594576719578,
          0.9123594576719578,
          0.890162037037037,
          0.8910714285714285,
          0.9119130291005291,
          0.9116650132275133,
          0.8906001984126984,
          0.9105737433862433,
          0.9114335317460318,
          0.9123594576719578,
          0.884292328042328,
          0.9107556216931219,
          0.9123594576719578,
          0.910557208994709,
          0.9121279761904763,
          0.911020171957672,
          0.9098792989417989,
          0.9123677248677249,
          0.9125992063492063,
          0.9123594576719578,
          0.9119130291005291,
          0.9107556216931219,
          0.912590939153439,
          0.9119130291005291,
          0.9118964947089948,
          0.9114335317460318,
          0.9042162698412699,
          0.8886987433862433
         ]
        },
        {
         "mode": "lines",
         "name": "Best Value",
         "type": "scatter",
         "x": [
          0,
          1,
          2,
          3,
          4,
          5,
          6,
          7,
          8,
          9,
          10,
          11,
          12,
          13,
          14,
          15,
          16,
          17,
          18,
          19,
          20,
          21,
          22,
          23,
          24,
          25,
          26,
          27,
          28,
          29,
          30,
          31,
          32,
          33,
          34,
          35,
          36,
          37,
          38,
          39,
          40,
          41,
          42,
          43,
          44,
          45,
          46,
          47,
          48,
          49,
          50,
          51,
          52,
          53,
          54,
          55,
          56,
          57,
          58,
          59,
          60,
          61,
          62,
          63,
          64,
          65,
          66,
          67,
          68,
          69,
          70,
          71,
          72,
          73,
          74,
          75,
          76,
          77,
          78,
          79,
          80,
          81,
          82,
          83,
          84,
          85,
          86,
          87,
          88,
          89,
          90,
          91,
          92,
          93,
          94,
          95,
          96,
          97,
          98,
          99
         ],
         "y": [
          0.8948330026455027,
          0.9101190476190476,
          0.9101190476190476,
          0.9101190476190476,
          0.9101190476190476,
          0.9101190476190476,
          0.9101190476190476,
          0.9101190476190476,
          0.9122106481481481,
          0.9122106481481481,
          0.9122106481481481,
          0.9122106481481481,
          0.9122106481481481,
          0.9122106481481481,
          0.9122106481481481,
          0.9122106481481481,
          0.9122106481481481,
          0.9122106481481481,
          0.9122106481481481,
          0.9122106481481481,
          0.9132688492063492,
          0.9132688492063492,
          0.9132688492063492,
          0.9132688492063492,
          0.9132688492063492,
          0.9132688492063492,
          0.9132688492063492,
          0.9132688492063492,
          0.9132688492063492,
          0.9132688492063492,
          0.9132688492063492,
          0.9132688492063492,
          0.9132688492063492,
          0.9132688492063492,
          0.9132688492063492,
          0.9132688492063492,
          0.9132688492063492,
          0.9132688492063492,
          0.9132688492063492,
          0.9132688492063492,
          0.9132688492063492,
          0.9132688492063492,
          0.9132688492063492,
          0.9132688492063492,
          0.9132688492063492,
          0.9132688492063492,
          0.9132688492063492,
          0.9132688492063492,
          0.9132688492063492,
          0.9132688492063492,
          0.9132688492063492,
          0.9132688492063492,
          0.9132688492063492,
          0.9132688492063492,
          0.9132688492063492,
          0.9132688492063492,
          0.9132688492063492,
          0.9132688492063492,
          0.9132688492063492,
          0.9132688492063492,
          0.9132688492063492,
          0.9132688492063492,
          0.9132688492063492,
          0.9132688492063492,
          0.9132688492063492,
          0.9132688492063492,
          0.9132688492063492,
          0.9132688492063492,
          0.9132688492063492,
          0.9132688492063492,
          0.9132688492063492,
          0.9132688492063492,
          0.9132688492063492,
          0.9132688492063492,
          0.9132688492063492,
          0.9132688492063492,
          0.9132688492063492,
          0.9132688492063492,
          0.9132688492063492,
          0.9132688492063492,
          0.9132688492063492,
          0.9132688492063492,
          0.9132688492063492,
          0.9132688492063492,
          0.9132688492063492,
          0.9132688492063492,
          0.9132688492063492,
          0.9132688492063492,
          0.9132688492063492,
          0.9132688492063492,
          0.9132688492063492,
          0.9132688492063492,
          0.9132688492063492,
          0.9132688492063492,
          0.9132688492063492,
          0.9132688492063492,
          0.9132688492063492,
          0.9132688492063492,
          0.9132688492063492,
          0.9132688492063492
         ]
        },
        {
         "marker": {
          "color": "#cccccc"
         },
         "mode": "markers",
         "name": "Infeasible Trial",
         "showlegend": false,
         "type": "scatter",
         "x": [],
         "y": []
        }
       ],
       "layout": {
        "template": {
         "data": {
          "bar": [
           {
            "error_x": {
             "color": "#2a3f5f"
            },
            "error_y": {
             "color": "#2a3f5f"
            },
            "marker": {
             "line": {
              "color": "#E5ECF6",
              "width": 0.5
             },
             "pattern": {
              "fillmode": "overlay",
              "size": 10,
              "solidity": 0.2
             }
            },
            "type": "bar"
           }
          ],
          "barpolar": [
           {
            "marker": {
             "line": {
              "color": "#E5ECF6",
              "width": 0.5
             },
             "pattern": {
              "fillmode": "overlay",
              "size": 10,
              "solidity": 0.2
             }
            },
            "type": "barpolar"
           }
          ],
          "carpet": [
           {
            "aaxis": {
             "endlinecolor": "#2a3f5f",
             "gridcolor": "white",
             "linecolor": "white",
             "minorgridcolor": "white",
             "startlinecolor": "#2a3f5f"
            },
            "baxis": {
             "endlinecolor": "#2a3f5f",
             "gridcolor": "white",
             "linecolor": "white",
             "minorgridcolor": "white",
             "startlinecolor": "#2a3f5f"
            },
            "type": "carpet"
           }
          ],
          "choropleth": [
           {
            "colorbar": {
             "outlinewidth": 0,
             "ticks": ""
            },
            "type": "choropleth"
           }
          ],
          "contour": [
           {
            "colorbar": {
             "outlinewidth": 0,
             "ticks": ""
            },
            "colorscale": [
             [
              0,
              "#0d0887"
             ],
             [
              0.1111111111111111,
              "#46039f"
             ],
             [
              0.2222222222222222,
              "#7201a8"
             ],
             [
              0.3333333333333333,
              "#9c179e"
             ],
             [
              0.4444444444444444,
              "#bd3786"
             ],
             [
              0.5555555555555556,
              "#d8576b"
             ],
             [
              0.6666666666666666,
              "#ed7953"
             ],
             [
              0.7777777777777778,
              "#fb9f3a"
             ],
             [
              0.8888888888888888,
              "#fdca26"
             ],
             [
              1,
              "#f0f921"
             ]
            ],
            "type": "contour"
           }
          ],
          "contourcarpet": [
           {
            "colorbar": {
             "outlinewidth": 0,
             "ticks": ""
            },
            "type": "contourcarpet"
           }
          ],
          "heatmap": [
           {
            "colorbar": {
             "outlinewidth": 0,
             "ticks": ""
            },
            "colorscale": [
             [
              0,
              "#0d0887"
             ],
             [
              0.1111111111111111,
              "#46039f"
             ],
             [
              0.2222222222222222,
              "#7201a8"
             ],
             [
              0.3333333333333333,
              "#9c179e"
             ],
             [
              0.4444444444444444,
              "#bd3786"
             ],
             [
              0.5555555555555556,
              "#d8576b"
             ],
             [
              0.6666666666666666,
              "#ed7953"
             ],
             [
              0.7777777777777778,
              "#fb9f3a"
             ],
             [
              0.8888888888888888,
              "#fdca26"
             ],
             [
              1,
              "#f0f921"
             ]
            ],
            "type": "heatmap"
           }
          ],
          "heatmapgl": [
           {
            "colorbar": {
             "outlinewidth": 0,
             "ticks": ""
            },
            "colorscale": [
             [
              0,
              "#0d0887"
             ],
             [
              0.1111111111111111,
              "#46039f"
             ],
             [
              0.2222222222222222,
              "#7201a8"
             ],
             [
              0.3333333333333333,
              "#9c179e"
             ],
             [
              0.4444444444444444,
              "#bd3786"
             ],
             [
              0.5555555555555556,
              "#d8576b"
             ],
             [
              0.6666666666666666,
              "#ed7953"
             ],
             [
              0.7777777777777778,
              "#fb9f3a"
             ],
             [
              0.8888888888888888,
              "#fdca26"
             ],
             [
              1,
              "#f0f921"
             ]
            ],
            "type": "heatmapgl"
           }
          ],
          "histogram": [
           {
            "marker": {
             "pattern": {
              "fillmode": "overlay",
              "size": 10,
              "solidity": 0.2
             }
            },
            "type": "histogram"
           }
          ],
          "histogram2d": [
           {
            "colorbar": {
             "outlinewidth": 0,
             "ticks": ""
            },
            "colorscale": [
             [
              0,
              "#0d0887"
             ],
             [
              0.1111111111111111,
              "#46039f"
             ],
             [
              0.2222222222222222,
              "#7201a8"
             ],
             [
              0.3333333333333333,
              "#9c179e"
             ],
             [
              0.4444444444444444,
              "#bd3786"
             ],
             [
              0.5555555555555556,
              "#d8576b"
             ],
             [
              0.6666666666666666,
              "#ed7953"
             ],
             [
              0.7777777777777778,
              "#fb9f3a"
             ],
             [
              0.8888888888888888,
              "#fdca26"
             ],
             [
              1,
              "#f0f921"
             ]
            ],
            "type": "histogram2d"
           }
          ],
          "histogram2dcontour": [
           {
            "colorbar": {
             "outlinewidth": 0,
             "ticks": ""
            },
            "colorscale": [
             [
              0,
              "#0d0887"
             ],
             [
              0.1111111111111111,
              "#46039f"
             ],
             [
              0.2222222222222222,
              "#7201a8"
             ],
             [
              0.3333333333333333,
              "#9c179e"
             ],
             [
              0.4444444444444444,
              "#bd3786"
             ],
             [
              0.5555555555555556,
              "#d8576b"
             ],
             [
              0.6666666666666666,
              "#ed7953"
             ],
             [
              0.7777777777777778,
              "#fb9f3a"
             ],
             [
              0.8888888888888888,
              "#fdca26"
             ],
             [
              1,
              "#f0f921"
             ]
            ],
            "type": "histogram2dcontour"
           }
          ],
          "mesh3d": [
           {
            "colorbar": {
             "outlinewidth": 0,
             "ticks": ""
            },
            "type": "mesh3d"
           }
          ],
          "parcoords": [
           {
            "line": {
             "colorbar": {
              "outlinewidth": 0,
              "ticks": ""
             }
            },
            "type": "parcoords"
           }
          ],
          "pie": [
           {
            "automargin": true,
            "type": "pie"
           }
          ],
          "scatter": [
           {
            "fillpattern": {
             "fillmode": "overlay",
             "size": 10,
             "solidity": 0.2
            },
            "type": "scatter"
           }
          ],
          "scatter3d": [
           {
            "line": {
             "colorbar": {
              "outlinewidth": 0,
              "ticks": ""
             }
            },
            "marker": {
             "colorbar": {
              "outlinewidth": 0,
              "ticks": ""
             }
            },
            "type": "scatter3d"
           }
          ],
          "scattercarpet": [
           {
            "marker": {
             "colorbar": {
              "outlinewidth": 0,
              "ticks": ""
             }
            },
            "type": "scattercarpet"
           }
          ],
          "scattergeo": [
           {
            "marker": {
             "colorbar": {
              "outlinewidth": 0,
              "ticks": ""
             }
            },
            "type": "scattergeo"
           }
          ],
          "scattergl": [
           {
            "marker": {
             "colorbar": {
              "outlinewidth": 0,
              "ticks": ""
             }
            },
            "type": "scattergl"
           }
          ],
          "scattermapbox": [
           {
            "marker": {
             "colorbar": {
              "outlinewidth": 0,
              "ticks": ""
             }
            },
            "type": "scattermapbox"
           }
          ],
          "scatterpolar": [
           {
            "marker": {
             "colorbar": {
              "outlinewidth": 0,
              "ticks": ""
             }
            },
            "type": "scatterpolar"
           }
          ],
          "scatterpolargl": [
           {
            "marker": {
             "colorbar": {
              "outlinewidth": 0,
              "ticks": ""
             }
            },
            "type": "scatterpolargl"
           }
          ],
          "scatterternary": [
           {
            "marker": {
             "colorbar": {
              "outlinewidth": 0,
              "ticks": ""
             }
            },
            "type": "scatterternary"
           }
          ],
          "surface": [
           {
            "colorbar": {
             "outlinewidth": 0,
             "ticks": ""
            },
            "colorscale": [
             [
              0,
              "#0d0887"
             ],
             [
              0.1111111111111111,
              "#46039f"
             ],
             [
              0.2222222222222222,
              "#7201a8"
             ],
             [
              0.3333333333333333,
              "#9c179e"
             ],
             [
              0.4444444444444444,
              "#bd3786"
             ],
             [
              0.5555555555555556,
              "#d8576b"
             ],
             [
              0.6666666666666666,
              "#ed7953"
             ],
             [
              0.7777777777777778,
              "#fb9f3a"
             ],
             [
              0.8888888888888888,
              "#fdca26"
             ],
             [
              1,
              "#f0f921"
             ]
            ],
            "type": "surface"
           }
          ],
          "table": [
           {
            "cells": {
             "fill": {
              "color": "#EBF0F8"
             },
             "line": {
              "color": "white"
             }
            },
            "header": {
             "fill": {
              "color": "#C8D4E3"
             },
             "line": {
              "color": "white"
             }
            },
            "type": "table"
           }
          ]
         },
         "layout": {
          "annotationdefaults": {
           "arrowcolor": "#2a3f5f",
           "arrowhead": 0,
           "arrowwidth": 1
          },
          "autotypenumbers": "strict",
          "coloraxis": {
           "colorbar": {
            "outlinewidth": 0,
            "ticks": ""
           }
          },
          "colorscale": {
           "diverging": [
            [
             0,
             "#8e0152"
            ],
            [
             0.1,
             "#c51b7d"
            ],
            [
             0.2,
             "#de77ae"
            ],
            [
             0.3,
             "#f1b6da"
            ],
            [
             0.4,
             "#fde0ef"
            ],
            [
             0.5,
             "#f7f7f7"
            ],
            [
             0.6,
             "#e6f5d0"
            ],
            [
             0.7,
             "#b8e186"
            ],
            [
             0.8,
             "#7fbc41"
            ],
            [
             0.9,
             "#4d9221"
            ],
            [
             1,
             "#276419"
            ]
           ],
           "sequential": [
            [
             0,
             "#0d0887"
            ],
            [
             0.1111111111111111,
             "#46039f"
            ],
            [
             0.2222222222222222,
             "#7201a8"
            ],
            [
             0.3333333333333333,
             "#9c179e"
            ],
            [
             0.4444444444444444,
             "#bd3786"
            ],
            [
             0.5555555555555556,
             "#d8576b"
            ],
            [
             0.6666666666666666,
             "#ed7953"
            ],
            [
             0.7777777777777778,
             "#fb9f3a"
            ],
            [
             0.8888888888888888,
             "#fdca26"
            ],
            [
             1,
             "#f0f921"
            ]
           ],
           "sequentialminus": [
            [
             0,
             "#0d0887"
            ],
            [
             0.1111111111111111,
             "#46039f"
            ],
            [
             0.2222222222222222,
             "#7201a8"
            ],
            [
             0.3333333333333333,
             "#9c179e"
            ],
            [
             0.4444444444444444,
             "#bd3786"
            ],
            [
             0.5555555555555556,
             "#d8576b"
            ],
            [
             0.6666666666666666,
             "#ed7953"
            ],
            [
             0.7777777777777778,
             "#fb9f3a"
            ],
            [
             0.8888888888888888,
             "#fdca26"
            ],
            [
             1,
             "#f0f921"
            ]
           ]
          },
          "colorway": [
           "#636efa",
           "#EF553B",
           "#00cc96",
           "#ab63fa",
           "#FFA15A",
           "#19d3f3",
           "#FF6692",
           "#B6E880",
           "#FF97FF",
           "#FECB52"
          ],
          "font": {
           "color": "#2a3f5f"
          },
          "geo": {
           "bgcolor": "white",
           "lakecolor": "white",
           "landcolor": "#E5ECF6",
           "showlakes": true,
           "showland": true,
           "subunitcolor": "white"
          },
          "hoverlabel": {
           "align": "left"
          },
          "hovermode": "closest",
          "mapbox": {
           "style": "light"
          },
          "paper_bgcolor": "white",
          "plot_bgcolor": "#E5ECF6",
          "polar": {
           "angularaxis": {
            "gridcolor": "white",
            "linecolor": "white",
            "ticks": ""
           },
           "bgcolor": "#E5ECF6",
           "radialaxis": {
            "gridcolor": "white",
            "linecolor": "white",
            "ticks": ""
           }
          },
          "scene": {
           "xaxis": {
            "backgroundcolor": "#E5ECF6",
            "gridcolor": "white",
            "gridwidth": 2,
            "linecolor": "white",
            "showbackground": true,
            "ticks": "",
            "zerolinecolor": "white"
           },
           "yaxis": {
            "backgroundcolor": "#E5ECF6",
            "gridcolor": "white",
            "gridwidth": 2,
            "linecolor": "white",
            "showbackground": true,
            "ticks": "",
            "zerolinecolor": "white"
           },
           "zaxis": {
            "backgroundcolor": "#E5ECF6",
            "gridcolor": "white",
            "gridwidth": 2,
            "linecolor": "white",
            "showbackground": true,
            "ticks": "",
            "zerolinecolor": "white"
           }
          },
          "shapedefaults": {
           "line": {
            "color": "#2a3f5f"
           }
          },
          "ternary": {
           "aaxis": {
            "gridcolor": "white",
            "linecolor": "white",
            "ticks": ""
           },
           "baxis": {
            "gridcolor": "white",
            "linecolor": "white",
            "ticks": ""
           },
           "bgcolor": "#E5ECF6",
           "caxis": {
            "gridcolor": "white",
            "linecolor": "white",
            "ticks": ""
           }
          },
          "title": {
           "x": 0.05
          },
          "xaxis": {
           "automargin": true,
           "gridcolor": "white",
           "linecolor": "white",
           "ticks": "",
           "title": {
            "standoff": 15
           },
           "zerolinecolor": "white",
           "zerolinewidth": 2
          },
          "yaxis": {
           "automargin": true,
           "gridcolor": "white",
           "linecolor": "white",
           "ticks": "",
           "title": {
            "standoff": 15
           },
           "zerolinecolor": "white",
           "zerolinewidth": 2
          }
         }
        },
        "title": {
         "text": "Optimization History Plot"
        },
        "xaxis": {
         "title": {
          "text": "Trial"
         }
        },
        "yaxis": {
         "title": {
          "text": "Objective Value"
         }
        }
       }
      }
     },
     "metadata": {},
     "output_type": "display_data"
    }
   ],
   "source": [
    "# Visualizando otimização\n",
    "optuna.visualization.plot_optimization_history(study)"
   ]
  },
  {
   "cell_type": "code",
   "execution_count": 7,
   "metadata": {},
   "outputs": [
    {
     "data": {
      "application/vnd.plotly.v1+json": {
       "config": {
        "plotlyServerURL": "https://plot.ly"
       },
       "data": [
        {
         "marker": {
          "color": [
           0,
           1,
           2,
           3,
           4,
           5,
           6,
           7,
           8,
           9,
           10,
           11,
           12,
           13,
           14,
           15,
           16,
           17,
           18,
           19,
           20,
           21,
           22,
           23,
           24,
           25,
           26,
           27,
           28,
           29,
           30,
           31,
           32,
           33,
           34,
           35,
           36,
           37,
           38,
           39,
           40,
           41,
           42,
           43,
           44,
           45,
           46,
           47,
           48,
           49,
           50,
           51,
           52,
           53,
           54,
           55,
           56,
           57,
           58,
           59,
           60,
           61,
           62,
           63,
           64,
           65,
           66,
           67,
           68,
           69,
           70,
           71,
           72,
           73,
           74,
           75,
           76,
           77,
           78,
           79,
           80,
           81,
           82,
           83,
           84,
           85,
           86,
           87,
           88,
           89,
           90,
           91,
           92,
           93,
           94,
           95,
           96,
           97,
           98,
           99
          ],
          "colorbar": {
           "title": {
            "text": "Trial"
           },
           "x": 1,
           "xpad": 40
          },
          "colorscale": [
           [
            0,
            "rgb(247,251,255)"
           ],
           [
            0.125,
            "rgb(222,235,247)"
           ],
           [
            0.25,
            "rgb(198,219,239)"
           ],
           [
            0.375,
            "rgb(158,202,225)"
           ],
           [
            0.5,
            "rgb(107,174,214)"
           ],
           [
            0.625,
            "rgb(66,146,198)"
           ],
           [
            0.75,
            "rgb(33,113,181)"
           ],
           [
            0.875,
            "rgb(8,81,156)"
           ],
           [
            1,
            "rgb(8,48,107)"
           ]
          ],
          "line": {
           "color": "Grey",
           "width": 0.5
          },
          "showscale": true
         },
         "mode": "markers",
         "name": "Feasible Trial",
         "showlegend": false,
         "type": "scatter",
         "x": [
          4.067782996797929,
          0.012216365841480722,
          0.0007262136729730704,
          5.496960649803235,
          0.0007576432202442951,
          0.01083735326472488,
          0.0000641632304644547,
          0.3836000379078151,
          0.0443759867651295,
          34.474668986554036,
          0.012903012738692755,
          0.06279994746957064,
          36.956814415418826,
          0.015225705256191898,
          0.02907279248146079,
          0.6152636942286243,
          0.00001,
          0.016295237349206165,
          0.00001,
          0.7789403516064823,
          1.6354239037944613,
          78.73998164362861,
          9.72340282198281,
          100,
          14.033892932464441,
          0.5898933801825188,
          2.7252863518659076,
          96.16304191196237,
          0.4627788065800064,
          0.00001,
          1.4170897547369548,
          38.776186036678794,
          0.00023136268030999075,
          0.00001,
          3.6605692894747275,
          0.00020100964254150867,
          0.1713136316028261,
          1.3983632051943373,
          5.588617008980396,
          0.11919122646500288,
          4.036428188369686,
          0.17918628358042699,
          0.0005312341014542265,
          0.06821471667101059,
          3.0893140396029417,
          25.47664691933026,
          6.719533457344583,
          0.18332540817020532,
          0.26634327571493166,
          0.21544985969127806,
          0.028545966304554093,
          0.0049716888718597885,
          0.03414300799792528,
          2.8913133157281754,
          0.00001,
          2.2668651695811453,
          0.0015387722363678273,
          5.5484862329614915,
          100,
          0.00001,
          0.10208654882980303,
          0.032963560053263084,
          2.0220228458734977,
          5.7282888617347005,
          0.1860461094354086,
          4.983412647398829,
          0.0008485018994804432,
          4.730381755651268,
          8.719541025110741,
          0.00001,
          0.9135312588543458,
          1.1111871818013332,
          3.5993751720015146,
          3.9641550493445736,
          0.0000768693315512247,
          0.00006812386386024055,
          9.605437511556143,
          2.1479773412106598,
          0.00007025720448025578,
          0.08714239915671193,
          100,
          4.334407133341791,
          0.002242866798286368,
          17.812413457982544,
          4.531008888866899,
          0.09563096797484434,
          2.6288045558388475,
          0.35297552914707236,
          0.028680108797271425,
          5.614588927492251,
          5.6724680627140005,
          4.074480267019237,
          7.0380255147783775,
          49.57824358224957,
          3.327941905224068,
          6.159359115281294,
          2.3790034164692706,
          100,
          1.2696117236480513,
          97.83251388536793
         ],
         "xaxis": "x",
         "y": [
          0.8948330026455027,
          0.9101190476190476,
          0.890162037037037,
          0.873735119047619,
          0.890162037037037,
          0.8845238095238095,
          0.8865988756613756,
          0.9101190476190476,
          0.9122106481481481,
          0.824156746031746,
          0.89130291005291,
          0.9114831349206349,
          0.8796213624338625,
          0.8882688492063492,
          0.89422123015873,
          0.9076058201058201,
          0.8906001984126984,
          0.9107638888888889,
          0.8910714285714285,
          0.9100859788359787,
          0.9132688492063492,
          0.9109871031746033,
          0.9119130291005291,
          0.9114335317460318,
          0.9119130291005291,
          0.9114748677248677,
          0.9123594576719578,
          0.816170634920635,
          0.9025297619047619,
          0.8894593253968253,
          0.9027199074074075,
          0.9107556216931219,
          0.8882771164021165,
          0.8861524470899471,
          0.9128224206349207,
          0.8899140211640211,
          0.907804232804233,
          0.9116898148148147,
          0.9123677248677249,
          0.9124007936507936,
          0.9123594576719578,
          0.9108300264550264,
          0.8838210978835978,
          0.9112433862433862,
          0.9121279761904763,
          0.9107556216931219,
          0.9119130291005291,
          0.8994626322751322,
          0.8972800925925926,
          0.9103835978835978,
          0.9098792989417989,
          0.896957671957672,
          0.9121858465608466,
          0.9121279761904763,
          0.8894593253968253,
          0.9118964947089948,
          0.8903687169312171,
          0.9125909391534393,
          0.9114335317460318,
          0.8901455026455025,
          0.8930472883597883,
          0.9117311507936507,
          0.9121279761904761,
          0.9121445105820106,
          0.9108465608465608,
          0.897891865079365,
          0.890376984126984,
          0.9125909391534393,
          0.9119130291005291,
          0.8882771164021165,
          0.894088955026455,
          0.9107969576719576,
          0.9123594576719578,
          0.9123594576719578,
          0.890162037037037,
          0.8910714285714285,
          0.9119130291005291,
          0.9116650132275133,
          0.8906001984126984,
          0.9105737433862433,
          0.9114335317460318,
          0.9123594576719578,
          0.884292328042328,
          0.9107556216931219,
          0.9123594576719578,
          0.910557208994709,
          0.9121279761904763,
          0.911020171957672,
          0.9098792989417989,
          0.9123677248677249,
          0.9125992063492063,
          0.9123594576719578,
          0.9119130291005291,
          0.9107556216931219,
          0.912590939153439,
          0.9119130291005291,
          0.9118964947089948,
          0.9114335317460318,
          0.9042162698412699,
          0.8886987433862433
         ],
         "yaxis": "y"
        },
        {
         "marker": {
          "color": [
           0,
           1,
           2,
           3,
           4,
           5,
           6,
           7,
           8,
           9,
           10,
           11,
           12,
           13,
           14,
           15,
           16,
           17,
           18,
           19,
           20,
           21,
           22,
           23,
           24,
           25,
           26,
           27,
           28,
           29,
           30,
           31,
           32,
           33,
           34,
           35,
           36,
           37,
           38,
           39,
           40,
           41,
           42,
           43,
           44,
           45,
           46,
           47,
           48,
           49,
           50,
           51,
           52,
           53,
           54,
           55,
           56,
           57,
           58,
           59,
           60,
           61,
           62,
           63,
           64,
           65,
           66,
           67,
           68,
           69,
           70,
           71,
           72,
           73,
           74,
           75,
           76,
           77,
           78,
           79,
           80,
           81,
           82,
           83,
           84,
           85,
           86,
           87,
           88,
           89,
           90,
           91,
           92,
           93,
           94,
           95,
           96,
           97,
           98,
           99
          ],
          "colorbar": {
           "title": {
            "text": "Trial"
           },
           "x": 1,
           "xpad": 40
          },
          "colorscale": [
           [
            0,
            "rgb(247,251,255)"
           ],
           [
            0.125,
            "rgb(222,235,247)"
           ],
           [
            0.25,
            "rgb(198,219,239)"
           ],
           [
            0.375,
            "rgb(158,202,225)"
           ],
           [
            0.5,
            "rgb(107,174,214)"
           ],
           [
            0.625,
            "rgb(66,146,198)"
           ],
           [
            0.75,
            "rgb(33,113,181)"
           ],
           [
            0.875,
            "rgb(8,81,156)"
           ],
           [
            1,
            "rgb(8,48,107)"
           ]
          ],
          "line": {
           "color": "Grey",
           "width": 0.5
          },
          "showscale": false
         },
         "mode": "markers",
         "name": "Feasible Trial",
         "showlegend": false,
         "type": "scatter",
         "x": [
          "auto",
          "auto",
          "auto",
          "scale",
          "auto",
          "auto",
          "scale",
          "scale",
          "auto",
          "auto",
          "auto",
          "scale",
          "scale",
          "auto",
          "scale",
          "auto",
          "scale",
          "scale",
          "auto",
          "auto",
          "scale",
          "scale",
          "scale",
          "auto",
          "auto",
          "scale",
          "scale",
          "auto",
          "auto",
          "scale",
          "scale",
          "auto",
          "auto",
          "auto",
          "auto",
          "scale",
          "auto",
          "scale",
          "auto",
          "auto",
          "scale",
          "scale",
          "auto",
          "auto",
          "auto",
          "scale",
          "auto",
          "scale",
          "auto",
          "auto",
          "auto",
          "scale",
          "scale",
          "scale",
          "auto",
          "auto",
          "scale",
          "scale",
          "scale",
          "scale",
          "scale",
          "scale",
          "scale",
          "scale",
          "scale",
          "auto",
          "auto",
          "auto",
          "auto",
          "auto",
          "scale",
          "scale",
          "scale",
          "auto",
          "scale",
          "auto",
          "scale",
          "auto",
          "scale",
          "scale",
          "auto",
          "scale",
          "scale",
          "auto",
          "auto",
          "auto",
          "scale",
          "scale",
          "scale",
          "scale",
          "auto",
          "auto",
          "auto",
          "scale",
          "scale",
          "scale",
          "scale",
          "scale",
          "auto",
          "auto"
         ],
         "xaxis": "x2",
         "y": [
          0.8948330026455027,
          0.9101190476190476,
          0.890162037037037,
          0.873735119047619,
          0.890162037037037,
          0.8845238095238095,
          0.8865988756613756,
          0.9101190476190476,
          0.9122106481481481,
          0.824156746031746,
          0.89130291005291,
          0.9114831349206349,
          0.8796213624338625,
          0.8882688492063492,
          0.89422123015873,
          0.9076058201058201,
          0.8906001984126984,
          0.9107638888888889,
          0.8910714285714285,
          0.9100859788359787,
          0.9132688492063492,
          0.9109871031746033,
          0.9119130291005291,
          0.9114335317460318,
          0.9119130291005291,
          0.9114748677248677,
          0.9123594576719578,
          0.816170634920635,
          0.9025297619047619,
          0.8894593253968253,
          0.9027199074074075,
          0.9107556216931219,
          0.8882771164021165,
          0.8861524470899471,
          0.9128224206349207,
          0.8899140211640211,
          0.907804232804233,
          0.9116898148148147,
          0.9123677248677249,
          0.9124007936507936,
          0.9123594576719578,
          0.9108300264550264,
          0.8838210978835978,
          0.9112433862433862,
          0.9121279761904763,
          0.9107556216931219,
          0.9119130291005291,
          0.8994626322751322,
          0.8972800925925926,
          0.9103835978835978,
          0.9098792989417989,
          0.896957671957672,
          0.9121858465608466,
          0.9121279761904763,
          0.8894593253968253,
          0.9118964947089948,
          0.8903687169312171,
          0.9125909391534393,
          0.9114335317460318,
          0.8901455026455025,
          0.8930472883597883,
          0.9117311507936507,
          0.9121279761904761,
          0.9121445105820106,
          0.9108465608465608,
          0.897891865079365,
          0.890376984126984,
          0.9125909391534393,
          0.9119130291005291,
          0.8882771164021165,
          0.894088955026455,
          0.9107969576719576,
          0.9123594576719578,
          0.9123594576719578,
          0.890162037037037,
          0.8910714285714285,
          0.9119130291005291,
          0.9116650132275133,
          0.8906001984126984,
          0.9105737433862433,
          0.9114335317460318,
          0.9123594576719578,
          0.884292328042328,
          0.9107556216931219,
          0.9123594576719578,
          0.910557208994709,
          0.9121279761904763,
          0.911020171957672,
          0.9098792989417989,
          0.9123677248677249,
          0.9125992063492063,
          0.9123594576719578,
          0.9119130291005291,
          0.9107556216931219,
          0.912590939153439,
          0.9119130291005291,
          0.9118964947089948,
          0.9114335317460318,
          0.9042162698412699,
          0.8886987433862433
         ],
         "yaxis": "y2"
        },
        {
         "marker": {
          "color": [
           0,
           1,
           2,
           3,
           4,
           5,
           6,
           7,
           8,
           9,
           10,
           11,
           12,
           13,
           14,
           15,
           16,
           17,
           18,
           19,
           20,
           21,
           22,
           23,
           24,
           25,
           26,
           27,
           28,
           29,
           30,
           31,
           32,
           33,
           34,
           35,
           36,
           37,
           38,
           39,
           40,
           41,
           42,
           43,
           44,
           45,
           46,
           47,
           48,
           49,
           50,
           51,
           52,
           53,
           54,
           55,
           56,
           57,
           58,
           59,
           60,
           61,
           62,
           63,
           64,
           65,
           66,
           67,
           68,
           69,
           70,
           71,
           72,
           73,
           74,
           75,
           76,
           77,
           78,
           79,
           80,
           81,
           82,
           83,
           84,
           85,
           86,
           87,
           88,
           89,
           90,
           91,
           92,
           93,
           94,
           95,
           96,
           97,
           98,
           99
          ],
          "colorbar": {
           "title": {
            "text": "Trial"
           },
           "x": 1,
           "xpad": 40
          },
          "colorscale": [
           [
            0,
            "rgb(247,251,255)"
           ],
           [
            0.125,
            "rgb(222,235,247)"
           ],
           [
            0.25,
            "rgb(198,219,239)"
           ],
           [
            0.375,
            "rgb(158,202,225)"
           ],
           [
            0.5,
            "rgb(107,174,214)"
           ],
           [
            0.625,
            "rgb(66,146,198)"
           ],
           [
            0.75,
            "rgb(33,113,181)"
           ],
           [
            0.875,
            "rgb(8,81,156)"
           ],
           [
            1,
            "rgb(8,48,107)"
           ]
          ],
          "line": {
           "color": "Grey",
           "width": 0.5
          },
          "showscale": false
         },
         "mode": "markers",
         "name": "Feasible Trial",
         "showlegend": false,
         "type": "scatter",
         "x": [
          "rbf",
          "linear",
          "linear",
          "rbf",
          "linear",
          "poly",
          "poly",
          "sigmoid",
          "linear",
          "poly",
          "sigmoid",
          "linear",
          "sigmoid",
          "rbf",
          "sigmoid",
          "sigmoid",
          "rbf",
          "linear",
          "sigmoid",
          "linear",
          "linear",
          "linear",
          "linear",
          "linear",
          "linear",
          "linear",
          "linear",
          "rbf",
          "rbf",
          "linear",
          "sigmoid",
          "linear",
          "rbf",
          "poly",
          "linear",
          "sigmoid",
          "sigmoid",
          "linear",
          "linear",
          "linear",
          "linear",
          "linear",
          "poly",
          "linear",
          "linear",
          "linear",
          "linear",
          "poly",
          "poly",
          "linear",
          "linear",
          "linear",
          "linear",
          "linear",
          "linear",
          "linear",
          "rbf",
          "linear",
          "linear",
          "sigmoid",
          "rbf",
          "linear",
          "linear",
          "linear",
          "sigmoid",
          "sigmoid",
          "sigmoid",
          "linear",
          "linear",
          "rbf",
          "poly",
          "linear",
          "linear",
          "linear",
          "linear",
          "sigmoid",
          "linear",
          "linear",
          "rbf",
          "linear",
          "linear",
          "linear",
          "poly",
          "linear",
          "linear",
          "linear",
          "linear",
          "linear",
          "linear",
          "linear",
          "linear",
          "linear",
          "linear",
          "linear",
          "linear",
          "linear",
          "linear",
          "linear",
          "rbf",
          "sigmoid"
         ],
         "xaxis": "x3",
         "y": [
          0.8948330026455027,
          0.9101190476190476,
          0.890162037037037,
          0.873735119047619,
          0.890162037037037,
          0.8845238095238095,
          0.8865988756613756,
          0.9101190476190476,
          0.9122106481481481,
          0.824156746031746,
          0.89130291005291,
          0.9114831349206349,
          0.8796213624338625,
          0.8882688492063492,
          0.89422123015873,
          0.9076058201058201,
          0.8906001984126984,
          0.9107638888888889,
          0.8910714285714285,
          0.9100859788359787,
          0.9132688492063492,
          0.9109871031746033,
          0.9119130291005291,
          0.9114335317460318,
          0.9119130291005291,
          0.9114748677248677,
          0.9123594576719578,
          0.816170634920635,
          0.9025297619047619,
          0.8894593253968253,
          0.9027199074074075,
          0.9107556216931219,
          0.8882771164021165,
          0.8861524470899471,
          0.9128224206349207,
          0.8899140211640211,
          0.907804232804233,
          0.9116898148148147,
          0.9123677248677249,
          0.9124007936507936,
          0.9123594576719578,
          0.9108300264550264,
          0.8838210978835978,
          0.9112433862433862,
          0.9121279761904763,
          0.9107556216931219,
          0.9119130291005291,
          0.8994626322751322,
          0.8972800925925926,
          0.9103835978835978,
          0.9098792989417989,
          0.896957671957672,
          0.9121858465608466,
          0.9121279761904763,
          0.8894593253968253,
          0.9118964947089948,
          0.8903687169312171,
          0.9125909391534393,
          0.9114335317460318,
          0.8901455026455025,
          0.8930472883597883,
          0.9117311507936507,
          0.9121279761904761,
          0.9121445105820106,
          0.9108465608465608,
          0.897891865079365,
          0.890376984126984,
          0.9125909391534393,
          0.9119130291005291,
          0.8882771164021165,
          0.894088955026455,
          0.9107969576719576,
          0.9123594576719578,
          0.9123594576719578,
          0.890162037037037,
          0.8910714285714285,
          0.9119130291005291,
          0.9116650132275133,
          0.8906001984126984,
          0.9105737433862433,
          0.9114335317460318,
          0.9123594576719578,
          0.884292328042328,
          0.9107556216931219,
          0.9123594576719578,
          0.910557208994709,
          0.9121279761904763,
          0.911020171957672,
          0.9098792989417989,
          0.9123677248677249,
          0.9125992063492063,
          0.9123594576719578,
          0.9119130291005291,
          0.9107556216931219,
          0.912590939153439,
          0.9119130291005291,
          0.9118964947089948,
          0.9114335317460318,
          0.9042162698412699,
          0.8886987433862433
         ],
         "yaxis": "y3"
        }
       ],
       "layout": {
        "template": {
         "data": {
          "bar": [
           {
            "error_x": {
             "color": "#2a3f5f"
            },
            "error_y": {
             "color": "#2a3f5f"
            },
            "marker": {
             "line": {
              "color": "#E5ECF6",
              "width": 0.5
             },
             "pattern": {
              "fillmode": "overlay",
              "size": 10,
              "solidity": 0.2
             }
            },
            "type": "bar"
           }
          ],
          "barpolar": [
           {
            "marker": {
             "line": {
              "color": "#E5ECF6",
              "width": 0.5
             },
             "pattern": {
              "fillmode": "overlay",
              "size": 10,
              "solidity": 0.2
             }
            },
            "type": "barpolar"
           }
          ],
          "carpet": [
           {
            "aaxis": {
             "endlinecolor": "#2a3f5f",
             "gridcolor": "white",
             "linecolor": "white",
             "minorgridcolor": "white",
             "startlinecolor": "#2a3f5f"
            },
            "baxis": {
             "endlinecolor": "#2a3f5f",
             "gridcolor": "white",
             "linecolor": "white",
             "minorgridcolor": "white",
             "startlinecolor": "#2a3f5f"
            },
            "type": "carpet"
           }
          ],
          "choropleth": [
           {
            "colorbar": {
             "outlinewidth": 0,
             "ticks": ""
            },
            "type": "choropleth"
           }
          ],
          "contour": [
           {
            "colorbar": {
             "outlinewidth": 0,
             "ticks": ""
            },
            "colorscale": [
             [
              0,
              "#0d0887"
             ],
             [
              0.1111111111111111,
              "#46039f"
             ],
             [
              0.2222222222222222,
              "#7201a8"
             ],
             [
              0.3333333333333333,
              "#9c179e"
             ],
             [
              0.4444444444444444,
              "#bd3786"
             ],
             [
              0.5555555555555556,
              "#d8576b"
             ],
             [
              0.6666666666666666,
              "#ed7953"
             ],
             [
              0.7777777777777778,
              "#fb9f3a"
             ],
             [
              0.8888888888888888,
              "#fdca26"
             ],
             [
              1,
              "#f0f921"
             ]
            ],
            "type": "contour"
           }
          ],
          "contourcarpet": [
           {
            "colorbar": {
             "outlinewidth": 0,
             "ticks": ""
            },
            "type": "contourcarpet"
           }
          ],
          "heatmap": [
           {
            "colorbar": {
             "outlinewidth": 0,
             "ticks": ""
            },
            "colorscale": [
             [
              0,
              "#0d0887"
             ],
             [
              0.1111111111111111,
              "#46039f"
             ],
             [
              0.2222222222222222,
              "#7201a8"
             ],
             [
              0.3333333333333333,
              "#9c179e"
             ],
             [
              0.4444444444444444,
              "#bd3786"
             ],
             [
              0.5555555555555556,
              "#d8576b"
             ],
             [
              0.6666666666666666,
              "#ed7953"
             ],
             [
              0.7777777777777778,
              "#fb9f3a"
             ],
             [
              0.8888888888888888,
              "#fdca26"
             ],
             [
              1,
              "#f0f921"
             ]
            ],
            "type": "heatmap"
           }
          ],
          "heatmapgl": [
           {
            "colorbar": {
             "outlinewidth": 0,
             "ticks": ""
            },
            "colorscale": [
             [
              0,
              "#0d0887"
             ],
             [
              0.1111111111111111,
              "#46039f"
             ],
             [
              0.2222222222222222,
              "#7201a8"
             ],
             [
              0.3333333333333333,
              "#9c179e"
             ],
             [
              0.4444444444444444,
              "#bd3786"
             ],
             [
              0.5555555555555556,
              "#d8576b"
             ],
             [
              0.6666666666666666,
              "#ed7953"
             ],
             [
              0.7777777777777778,
              "#fb9f3a"
             ],
             [
              0.8888888888888888,
              "#fdca26"
             ],
             [
              1,
              "#f0f921"
             ]
            ],
            "type": "heatmapgl"
           }
          ],
          "histogram": [
           {
            "marker": {
             "pattern": {
              "fillmode": "overlay",
              "size": 10,
              "solidity": 0.2
             }
            },
            "type": "histogram"
           }
          ],
          "histogram2d": [
           {
            "colorbar": {
             "outlinewidth": 0,
             "ticks": ""
            },
            "colorscale": [
             [
              0,
              "#0d0887"
             ],
             [
              0.1111111111111111,
              "#46039f"
             ],
             [
              0.2222222222222222,
              "#7201a8"
             ],
             [
              0.3333333333333333,
              "#9c179e"
             ],
             [
              0.4444444444444444,
              "#bd3786"
             ],
             [
              0.5555555555555556,
              "#d8576b"
             ],
             [
              0.6666666666666666,
              "#ed7953"
             ],
             [
              0.7777777777777778,
              "#fb9f3a"
             ],
             [
              0.8888888888888888,
              "#fdca26"
             ],
             [
              1,
              "#f0f921"
             ]
            ],
            "type": "histogram2d"
           }
          ],
          "histogram2dcontour": [
           {
            "colorbar": {
             "outlinewidth": 0,
             "ticks": ""
            },
            "colorscale": [
             [
              0,
              "#0d0887"
             ],
             [
              0.1111111111111111,
              "#46039f"
             ],
             [
              0.2222222222222222,
              "#7201a8"
             ],
             [
              0.3333333333333333,
              "#9c179e"
             ],
             [
              0.4444444444444444,
              "#bd3786"
             ],
             [
              0.5555555555555556,
              "#d8576b"
             ],
             [
              0.6666666666666666,
              "#ed7953"
             ],
             [
              0.7777777777777778,
              "#fb9f3a"
             ],
             [
              0.8888888888888888,
              "#fdca26"
             ],
             [
              1,
              "#f0f921"
             ]
            ],
            "type": "histogram2dcontour"
           }
          ],
          "mesh3d": [
           {
            "colorbar": {
             "outlinewidth": 0,
             "ticks": ""
            },
            "type": "mesh3d"
           }
          ],
          "parcoords": [
           {
            "line": {
             "colorbar": {
              "outlinewidth": 0,
              "ticks": ""
             }
            },
            "type": "parcoords"
           }
          ],
          "pie": [
           {
            "automargin": true,
            "type": "pie"
           }
          ],
          "scatter": [
           {
            "fillpattern": {
             "fillmode": "overlay",
             "size": 10,
             "solidity": 0.2
            },
            "type": "scatter"
           }
          ],
          "scatter3d": [
           {
            "line": {
             "colorbar": {
              "outlinewidth": 0,
              "ticks": ""
             }
            },
            "marker": {
             "colorbar": {
              "outlinewidth": 0,
              "ticks": ""
             }
            },
            "type": "scatter3d"
           }
          ],
          "scattercarpet": [
           {
            "marker": {
             "colorbar": {
              "outlinewidth": 0,
              "ticks": ""
             }
            },
            "type": "scattercarpet"
           }
          ],
          "scattergeo": [
           {
            "marker": {
             "colorbar": {
              "outlinewidth": 0,
              "ticks": ""
             }
            },
            "type": "scattergeo"
           }
          ],
          "scattergl": [
           {
            "marker": {
             "colorbar": {
              "outlinewidth": 0,
              "ticks": ""
             }
            },
            "type": "scattergl"
           }
          ],
          "scattermapbox": [
           {
            "marker": {
             "colorbar": {
              "outlinewidth": 0,
              "ticks": ""
             }
            },
            "type": "scattermapbox"
           }
          ],
          "scatterpolar": [
           {
            "marker": {
             "colorbar": {
              "outlinewidth": 0,
              "ticks": ""
             }
            },
            "type": "scatterpolar"
           }
          ],
          "scatterpolargl": [
           {
            "marker": {
             "colorbar": {
              "outlinewidth": 0,
              "ticks": ""
             }
            },
            "type": "scatterpolargl"
           }
          ],
          "scatterternary": [
           {
            "marker": {
             "colorbar": {
              "outlinewidth": 0,
              "ticks": ""
             }
            },
            "type": "scatterternary"
           }
          ],
          "surface": [
           {
            "colorbar": {
             "outlinewidth": 0,
             "ticks": ""
            },
            "colorscale": [
             [
              0,
              "#0d0887"
             ],
             [
              0.1111111111111111,
              "#46039f"
             ],
             [
              0.2222222222222222,
              "#7201a8"
             ],
             [
              0.3333333333333333,
              "#9c179e"
             ],
             [
              0.4444444444444444,
              "#bd3786"
             ],
             [
              0.5555555555555556,
              "#d8576b"
             ],
             [
              0.6666666666666666,
              "#ed7953"
             ],
             [
              0.7777777777777778,
              "#fb9f3a"
             ],
             [
              0.8888888888888888,
              "#fdca26"
             ],
             [
              1,
              "#f0f921"
             ]
            ],
            "type": "surface"
           }
          ],
          "table": [
           {
            "cells": {
             "fill": {
              "color": "#EBF0F8"
             },
             "line": {
              "color": "white"
             }
            },
            "header": {
             "fill": {
              "color": "#C8D4E3"
             },
             "line": {
              "color": "white"
             }
            },
            "type": "table"
           }
          ]
         },
         "layout": {
          "annotationdefaults": {
           "arrowcolor": "#2a3f5f",
           "arrowhead": 0,
           "arrowwidth": 1
          },
          "autotypenumbers": "strict",
          "coloraxis": {
           "colorbar": {
            "outlinewidth": 0,
            "ticks": ""
           }
          },
          "colorscale": {
           "diverging": [
            [
             0,
             "#8e0152"
            ],
            [
             0.1,
             "#c51b7d"
            ],
            [
             0.2,
             "#de77ae"
            ],
            [
             0.3,
             "#f1b6da"
            ],
            [
             0.4,
             "#fde0ef"
            ],
            [
             0.5,
             "#f7f7f7"
            ],
            [
             0.6,
             "#e6f5d0"
            ],
            [
             0.7,
             "#b8e186"
            ],
            [
             0.8,
             "#7fbc41"
            ],
            [
             0.9,
             "#4d9221"
            ],
            [
             1,
             "#276419"
            ]
           ],
           "sequential": [
            [
             0,
             "#0d0887"
            ],
            [
             0.1111111111111111,
             "#46039f"
            ],
            [
             0.2222222222222222,
             "#7201a8"
            ],
            [
             0.3333333333333333,
             "#9c179e"
            ],
            [
             0.4444444444444444,
             "#bd3786"
            ],
            [
             0.5555555555555556,
             "#d8576b"
            ],
            [
             0.6666666666666666,
             "#ed7953"
            ],
            [
             0.7777777777777778,
             "#fb9f3a"
            ],
            [
             0.8888888888888888,
             "#fdca26"
            ],
            [
             1,
             "#f0f921"
            ]
           ],
           "sequentialminus": [
            [
             0,
             "#0d0887"
            ],
            [
             0.1111111111111111,
             "#46039f"
            ],
            [
             0.2222222222222222,
             "#7201a8"
            ],
            [
             0.3333333333333333,
             "#9c179e"
            ],
            [
             0.4444444444444444,
             "#bd3786"
            ],
            [
             0.5555555555555556,
             "#d8576b"
            ],
            [
             0.6666666666666666,
             "#ed7953"
            ],
            [
             0.7777777777777778,
             "#fb9f3a"
            ],
            [
             0.8888888888888888,
             "#fdca26"
            ],
            [
             1,
             "#f0f921"
            ]
           ]
          },
          "colorway": [
           "#636efa",
           "#EF553B",
           "#00cc96",
           "#ab63fa",
           "#FFA15A",
           "#19d3f3",
           "#FF6692",
           "#B6E880",
           "#FF97FF",
           "#FECB52"
          ],
          "font": {
           "color": "#2a3f5f"
          },
          "geo": {
           "bgcolor": "white",
           "lakecolor": "white",
           "landcolor": "#E5ECF6",
           "showlakes": true,
           "showland": true,
           "subunitcolor": "white"
          },
          "hoverlabel": {
           "align": "left"
          },
          "hovermode": "closest",
          "mapbox": {
           "style": "light"
          },
          "paper_bgcolor": "white",
          "plot_bgcolor": "#E5ECF6",
          "polar": {
           "angularaxis": {
            "gridcolor": "white",
            "linecolor": "white",
            "ticks": ""
           },
           "bgcolor": "#E5ECF6",
           "radialaxis": {
            "gridcolor": "white",
            "linecolor": "white",
            "ticks": ""
           }
          },
          "scene": {
           "xaxis": {
            "backgroundcolor": "#E5ECF6",
            "gridcolor": "white",
            "gridwidth": 2,
            "linecolor": "white",
            "showbackground": true,
            "ticks": "",
            "zerolinecolor": "white"
           },
           "yaxis": {
            "backgroundcolor": "#E5ECF6",
            "gridcolor": "white",
            "gridwidth": 2,
            "linecolor": "white",
            "showbackground": true,
            "ticks": "",
            "zerolinecolor": "white"
           },
           "zaxis": {
            "backgroundcolor": "#E5ECF6",
            "gridcolor": "white",
            "gridwidth": 2,
            "linecolor": "white",
            "showbackground": true,
            "ticks": "",
            "zerolinecolor": "white"
           }
          },
          "shapedefaults": {
           "line": {
            "color": "#2a3f5f"
           }
          },
          "ternary": {
           "aaxis": {
            "gridcolor": "white",
            "linecolor": "white",
            "ticks": ""
           },
           "baxis": {
            "gridcolor": "white",
            "linecolor": "white",
            "ticks": ""
           },
           "bgcolor": "#E5ECF6",
           "caxis": {
            "gridcolor": "white",
            "linecolor": "white",
            "ticks": ""
           }
          },
          "title": {
           "x": 0.05
          },
          "xaxis": {
           "automargin": true,
           "gridcolor": "white",
           "linecolor": "white",
           "ticks": "",
           "title": {
            "standoff": 15
           },
           "zerolinecolor": "white",
           "zerolinewidth": 2
          },
          "yaxis": {
           "automargin": true,
           "gridcolor": "white",
           "linecolor": "white",
           "ticks": "",
           "title": {
            "standoff": 15
           },
           "zerolinecolor": "white",
           "zerolinewidth": 2
          }
         }
        },
        "title": {
         "text": "Slice Plot"
        },
        "xaxis": {
         "anchor": "y",
         "domain": [
          0,
          0.2888888888888889
         ],
         "title": {
          "text": "C"
         },
         "type": "log"
        },
        "xaxis2": {
         "anchor": "y2",
         "categoryarray": [
          "scale",
          "auto"
         ],
         "categoryorder": "array",
         "domain": [
          0.35555555555555557,
          0.6444444444444445
         ],
         "title": {
          "text": "gamma"
         },
         "type": "category"
        },
        "xaxis3": {
         "anchor": "y3",
         "categoryarray": [
          "linear",
          "poly",
          "rbf",
          "sigmoid"
         ],
         "categoryorder": "array",
         "domain": [
          0.7111111111111111,
          1
         ],
         "title": {
          "text": "kernel"
         },
         "type": "category"
        },
        "yaxis": {
         "anchor": "x",
         "domain": [
          0,
          1
         ],
         "title": {
          "text": "Objective Value"
         }
        },
        "yaxis2": {
         "anchor": "x2",
         "domain": [
          0,
          1
         ],
         "matches": "y",
         "showticklabels": false
        },
        "yaxis3": {
         "anchor": "x3",
         "domain": [
          0,
          1
         ],
         "matches": "y",
         "showticklabels": false
        }
       }
      }
     },
     "metadata": {},
     "output_type": "display_data"
    }
   ],
   "source": [
    "optuna.visualization.plot_slice(study)"
   ]
  },
  {
   "cell_type": "code",
   "execution_count": 8,
   "metadata": {},
   "outputs": [
    {
     "name": "stdout",
     "output_type": "stream",
     "text": [
      "Accuracy: 0.8214\n",
      "AUC-ROC: 0.9133\n"
     ]
    },
    {
     "data": {
      "text/plain": [
       "1.5158747004046806e-05"
      ]
     },
     "execution_count": 8,
     "metadata": {},
     "output_type": "execute_result"
    }
   ],
   "source": [
    "# Criando um modelo com os melhores hiperparâmetros\n",
    "best_params = trial.params\n",
    "model = svm.SVC(random_state=Random_Seed, probability=True, **best_params)\n",
    "\n",
    "if Cross_Validation:\n",
    "    cv_results = cross_validate(model, X, y, scoring=['accuracy', 'roc_auc'])\n",
    "    acc = cv_results['test_accuracy'].mean()\n",
    "    roc_auc = cv_results['test_roc_auc'].mean()\n",
    "else:\n",
    "    # Train model\n",
    "    model.fit(train_X, train_y)\n",
    "\n",
    "    # Test model\n",
    "    y_pred = model.predict(test_X)\n",
    "    pred_probs = model.predict_proba(test_X)\n",
    "\n",
    "    # Evaluation\n",
    "    acc = accuracy_score(test_y, y_pred)\n",
    "    roc_auc = roc_auc_score(test_y, pred_probs[:, 1])\n",
    "\n",
    "print(f\"Accuracy: {acc:.4f}\")\n",
    "print(f\"AUC-ROC: {roc_auc:.4f}\")\n",
    "\n",
    "tracker.stop()"
   ]
  },
  {
   "attachments": {},
   "cell_type": "markdown",
   "metadata": {},
   "source": [
    "<hr>\n",
    "\n",
    "### NuSVC classification SVM implementation:"
   ]
  },
  {
   "cell_type": "code",
   "execution_count": 9,
   "metadata": {},
   "outputs": [
    {
     "name": "stderr",
     "output_type": "stream",
     "text": [
      "[codecarbon WARNING @ 18:21:55] No CPU tracking mode found. Falling back on CPU constant mode. \n",
      " Linux OS detected: Please ensure RAPL files exist at \\sys\\class\\powercap\\intel-rapl to measure CPU\n",
      "\n"
     ]
    },
    {
     "name": "stdout",
     "output_type": "stream",
     "text": [
      "Accuracy: 0.8315\n",
      "AUC-ROC: 0.9010\n"
     ]
    },
    {
     "data": {
      "text/plain": [
       "2.886282444886608e-08"
      ]
     },
     "execution_count": 9,
     "metadata": {},
     "output_type": "execute_result"
    }
   ],
   "source": [
    "# ---------------------------------------------------------------------------- #\n",
    "#                                     MODEL                                    #\n",
    "# ---------------------------------------------------------------------------- #\n",
    "# Initiate CodeCarbon to track emissions\n",
    "tracker = EmissionsTracker('NuSVC SVM model', log_level='warning')\n",
    "tracker.start()\n",
    "\n",
    "# Create model\n",
    "model = svm.NuSVC(random_state=Random_Seed, probability=True)\n",
    "\n",
    "if Cross_Validation:\n",
    "    cv_results = cross_validate(model, X, y, scoring=['accuracy', 'roc_auc'])\n",
    "    acc = cv_results['test_accuracy'].mean()\n",
    "    roc_auc = cv_results['test_roc_auc'].mean()\n",
    "else:\n",
    "    # Train model\n",
    "    model.fit(train_X, train_y)\n",
    "\n",
    "    # Test model\n",
    "    y_pred = model.predict(test_X)\n",
    "    pred_probs = model.predict_proba(test_X)\n",
    "\n",
    "    # Evaluation\n",
    "    acc = accuracy_score(test_y, y_pred)\n",
    "    roc_auc = roc_auc_score(test_y, pred_probs[:, 1])\n",
    "\n",
    "print(f\"Accuracy: {acc:.4f}\")\n",
    "print(f\"AUC-ROC: {roc_auc:.4f}\")\n",
    "\n",
    "tracker.stop()"
   ]
  },
  {
   "cell_type": "code",
   "execution_count": 10,
   "metadata": {},
   "outputs": [
    {
     "name": "stderr",
     "output_type": "stream",
     "text": [
      "[codecarbon WARNING @ 18:22:00] No CPU tracking mode found. Falling back on CPU constant mode. \n",
      " Linux OS detected: Please ensure RAPL files exist at \\sys\\class\\powercap\\intel-rapl to measure CPU\n",
      "\n",
      "/tmp/ipykernel_17731/3644223680.py:30: ExperimentalWarning:\n",
      "\n",
      "GPSampler is experimental (supported from v3.6.0). The interface can change in the future.\n",
      "\n",
      "[I 2024-10-21 18:22:04,913] A new study created in memory with name: no-name-2c9da417-5f95-4fa3-9504-7d0e8e468939\n",
      "[I 2024-10-21 18:22:05,882] Trial 0 finished with value: 0.8625330687830688 and parameters: {'nu': 0.35984442828479973, 'kernel': 'poly', 'gamma': 'auto'}. Best is trial 0 with value: 0.8625330687830688.\n",
      "[I 2024-10-21 18:22:06,467] Trial 1 finished with value: 0.8260251322751323 and parameters: {'nu': 0.11085520066740882, 'kernel': 'rbf', 'gamma': 'scale'}. Best is trial 0 with value: 0.8625330687830688.\n",
      "[I 2024-10-21 18:22:06,892] Trial 2 finished with value: 0.8937830687830688 and parameters: {'nu': 0.2006834062365111, 'kernel': 'linear', 'gamma': 'auto'}. Best is trial 2 with value: 0.8937830687830688.\n",
      "[I 2024-10-21 18:22:06,924] Trial 3 finished with value: 0.8918154761904763 and parameters: {'nu': 0.5061778102256294, 'kernel': 'poly', 'gamma': 'scale'}. Best is trial 2 with value: 0.8937830687830688.\n",
      "[I 2024-10-21 18:22:06,960] Trial 4 finished with value: 0.8332589285714285 and parameters: {'nu': 0.11335056992675796, 'kernel': 'rbf', 'gamma': 'auto'}. Best is trial 2 with value: 0.8937830687830688.\n",
      "[I 2024-10-21 18:22:06,993] Trial 5 finished with value: 0.8945353835978835 and parameters: {'nu': 0.5384637940343585, 'kernel': 'poly', 'gamma': 'scale'}. Best is trial 5 with value: 0.8945353835978835.\n",
      "[I 2024-10-21 18:22:07,031] Trial 6 finished with value: 0.911698082010582 and parameters: {'nu': 0.5512056449595492, 'kernel': 'sigmoid', 'gamma': 'auto'}. Best is trial 6 with value: 0.911698082010582.\n",
      "[I 2024-10-21 18:22:07,062] Trial 7 finished with value: 0.8033812830687831 and parameters: {'nu': 0.11707379795003366, 'kernel': 'poly', 'gamma': 'scale'}. Best is trial 6 with value: 0.911698082010582.\n",
      "[I 2024-10-21 18:22:07,090] Trial 8 finished with value: 0.8851603835978835 and parameters: {'nu': 0.22099080013590086, 'kernel': 'linear', 'gamma': 'auto'}. Best is trial 6 with value: 0.911698082010582.\n",
      "[I 2024-10-21 18:22:07,120] Trial 9 finished with value: 0.8308945105820106 and parameters: {'nu': 0.25303496265182024, 'kernel': 'poly', 'gamma': 'auto'}. Best is trial 6 with value: 0.911698082010582.\n",
      "[I 2024-10-21 18:22:07,251] Trial 10 finished with value: 0.20986276455026456 and parameters: {'nu': 0.10000000000000002, 'kernel': 'linear', 'gamma': 'auto'}. Best is trial 6 with value: 0.911698082010582.\n",
      "[I 2024-10-21 18:22:07,428] Trial 11 finished with value: 0.873263888888889 and parameters: {'nu': 0.25674375818267314, 'kernel': 'rbf', 'gamma': 'auto'}. Best is trial 6 with value: 0.911698082010582.\n",
      "[I 2024-10-21 18:22:07,562] Trial 12 finished with value: 0.8821593915343915 and parameters: {'nu': 0.2889253000275382, 'kernel': 'sigmoid', 'gamma': 'scale'}. Best is trial 6 with value: 0.911698082010582.\n",
      "[I 2024-10-21 18:22:07,814] Trial 13 finished with value: 0.8961805555555555 and parameters: {'nu': 0.7033898129763334, 'kernel': 'rbf', 'gamma': 'scale'}. Best is trial 6 with value: 0.911698082010582.\n",
      "[I 2024-10-21 18:22:07,966] Trial 14 finished with value: 0.8915095899470898 and parameters: {'nu': 0.9, 'kernel': 'sigmoid', 'gamma': 'scale'}. Best is trial 6 with value: 0.911698082010582.\n",
      "[I 2024-10-21 18:22:08,105] Trial 15 finished with value: 0.8917410714285715 and parameters: {'nu': 0.8872458081644016, 'kernel': 'linear', 'gamma': 'auto'}. Best is trial 6 with value: 0.911698082010582.\n",
      "[I 2024-10-21 18:22:08,319] Trial 16 finished with value: 0.8925595238095239 and parameters: {'nu': 0.9, 'kernel': 'poly', 'gamma': 'auto'}. Best is trial 6 with value: 0.911698082010582.\n",
      "[I 2024-10-21 18:22:08,546] Trial 17 finished with value: 0.9112516534391535 and parameters: {'nu': 0.5509818302037942, 'kernel': 'linear', 'gamma': 'scale'}. Best is trial 6 with value: 0.911698082010582.\n",
      "[I 2024-10-21 18:22:08,713] Trial 18 finished with value: 0.9042080026455027 and parameters: {'nu': 0.4744933967458273, 'kernel': 'rbf', 'gamma': 'auto'}. Best is trial 6 with value: 0.911698082010582.\n",
      "[I 2024-10-21 18:22:08,904] Trial 19 finished with value: 0.8566798941798941 and parameters: {'nu': 0.17684769755671653, 'kernel': 'rbf', 'gamma': 'scale'}. Best is trial 6 with value: 0.911698082010582.\n",
      "[I 2024-10-21 18:22:09,145] Trial 20 finished with value: 0.8887235449735449 and parameters: {'nu': 0.9, 'kernel': 'rbf', 'gamma': 'auto'}. Best is trial 6 with value: 0.911698082010582.\n",
      "[I 2024-10-21 18:22:09,359] Trial 21 finished with value: 0.91005291005291 and parameters: {'nu': 0.4549957462266709, 'kernel': 'sigmoid', 'gamma': 'scale'}. Best is trial 6 with value: 0.911698082010582.\n",
      "[I 2024-10-21 18:22:09,507] Trial 22 finished with value: 0.12782738095238094 and parameters: {'nu': 0.18437625471259295, 'kernel': 'sigmoid', 'gamma': 'auto'}. Best is trial 6 with value: 0.911698082010582.\n",
      "[I 2024-10-21 18:22:09,674] Trial 23 finished with value: 0.8928158068783068 and parameters: {'nu': 0.35858665392848793, 'kernel': 'rbf', 'gamma': 'scale'}. Best is trial 6 with value: 0.911698082010582.\n",
      "[I 2024-10-21 18:22:09,888] Trial 24 finished with value: 0.9000082671957672 and parameters: {'nu': 0.3528166424866219, 'kernel': 'sigmoid', 'gamma': 'scale'}. Best is trial 6 with value: 0.911698082010582.\n",
      "[I 2024-10-21 18:22:10,130] Trial 25 finished with value: 0.8908234126984127 and parameters: {'nu': 0.9, 'kernel': 'sigmoid', 'gamma': 'auto'}. Best is trial 6 with value: 0.911698082010582.\n",
      "[I 2024-10-21 18:22:10,301] Trial 26 finished with value: 0.8878141534391535 and parameters: {'nu': 0.27169992959061356, 'kernel': 'linear', 'gamma': 'scale'}. Best is trial 6 with value: 0.911698082010582.\n",
      "[I 2024-10-21 18:22:10,477] Trial 27 finished with value: 0.8915178571428573 and parameters: {'nu': 0.9, 'kernel': 'linear', 'gamma': 'scale'}. Best is trial 6 with value: 0.911698082010582.\n",
      "[I 2024-10-21 18:22:10,683] Trial 28 finished with value: 0.9064566798941799 and parameters: {'nu': 0.6428892508807883, 'kernel': 'sigmoid', 'gamma': 'scale'}. Best is trial 6 with value: 0.911698082010582.\n",
      "[I 2024-10-21 18:22:10,875] Trial 29 finished with value: 0.9117146164021163 and parameters: {'nu': 0.4121227341787899, 'kernel': 'linear', 'gamma': 'auto'}. Best is trial 29 with value: 0.9117146164021163.\n",
      "[I 2024-10-21 18:22:11,085] Trial 30 finished with value: 0.9119378306878307 and parameters: {'nu': 0.4129380168199707, 'kernel': 'linear', 'gamma': 'scale'}. Best is trial 30 with value: 0.9119378306878307.\n",
      "[I 2024-10-21 18:22:11,323] Trial 31 finished with value: 0.9052910052910053 and parameters: {'nu': 0.6631187023544912, 'kernel': 'linear', 'gamma': 'auto'}. Best is trial 30 with value: 0.9119378306878307.\n",
      "[I 2024-10-21 18:22:11,521] Trial 32 finished with value: 0.8975529100529099 and parameters: {'nu': 0.677289214148314, 'kernel': 'poly', 'gamma': 'auto'}. Best is trial 30 with value: 0.9119378306878307.\n",
      "[I 2024-10-21 18:22:11,706] Trial 33 finished with value: 0.9112929894179894 and parameters: {'nu': 0.5027282093176791, 'kernel': 'linear', 'gamma': 'auto'}. Best is trial 30 with value: 0.9119378306878307.\n",
      "[I 2024-10-21 18:22:11,891] Trial 34 finished with value: 0.900256283068783 and parameters: {'nu': 0.7794219177895588, 'kernel': 'poly', 'gamma': 'scale'}. Best is trial 30 with value: 0.9119378306878307.\n",
      "[I 2024-10-21 18:22:12,107] Trial 35 finished with value: 0.9002645502645503 and parameters: {'nu': 0.5226761089972684, 'kernel': 'rbf', 'gamma': 'scale'}. Best is trial 30 with value: 0.9119378306878307.\n",
      "[I 2024-10-21 18:22:12,335] Trial 36 finished with value: 0.9022982804232804 and parameters: {'nu': 0.6210992404033797, 'kernel': 'rbf', 'gamma': 'auto'}. Best is trial 30 with value: 0.9119378306878307.\n",
      "[I 2024-10-21 18:22:12,578] Trial 37 finished with value: 0.9101190476190476 and parameters: {'nu': 0.5339730702956516, 'kernel': 'sigmoid', 'gamma': 'scale'}. Best is trial 30 with value: 0.9119378306878307.\n",
      "[I 2024-10-21 18:22:12,767] Trial 38 finished with value: 0.7480737433862433 and parameters: {'nu': 0.20514650203684565, 'kernel': 'linear', 'gamma': 'scale'}. Best is trial 30 with value: 0.9119378306878307.\n",
      "[I 2024-10-21 18:22:12,985] Trial 39 finished with value: 0.8313492063492063 and parameters: {'nu': 0.2533479205878984, 'kernel': 'poly', 'gamma': 'scale'}. Best is trial 30 with value: 0.9119378306878307.\n",
      "[I 2024-10-21 18:22:13,216] Trial 40 finished with value: 0.9046544312169311 and parameters: {'nu': 0.665541562155994, 'kernel': 'sigmoid', 'gamma': 'auto'}. Best is trial 30 with value: 0.9119378306878307.\n",
      "[I 2024-10-21 18:22:13,428] Trial 41 finished with value: 0.9144427910052911 and parameters: {'nu': 0.2859561614885411, 'kernel': 'linear', 'gamma': 'auto'}. Best is trial 41 with value: 0.9144427910052911.\n",
      "[I 2024-10-21 18:22:13,630] Trial 42 finished with value: 0.8894427910052911 and parameters: {'nu': 0.9, 'kernel': 'rbf', 'gamma': 'scale'}. Best is trial 41 with value: 0.9144427910052911.\n",
      "[I 2024-10-21 18:22:13,856] Trial 43 finished with value: 0.910557208994709 and parameters: {'nu': 0.35578696070545685, 'kernel': 'linear', 'gamma': 'scale'}. Best is trial 41 with value: 0.9144427910052911.\n",
      "[I 2024-10-21 18:22:14,088] Trial 44 finished with value: 0.7970072751322752 and parameters: {'nu': 0.10000000000000002, 'kernel': 'poly', 'gamma': 'auto'}. Best is trial 41 with value: 0.9144427910052911.\n",
      "[I 2024-10-21 18:22:14,288] Trial 45 finished with value: 0.9119378306878307 and parameters: {'nu': 0.27987206253096214, 'kernel': 'linear', 'gamma': 'auto'}. Best is trial 41 with value: 0.9144427910052911.\n",
      "[I 2024-10-21 18:22:14,475] Trial 46 finished with value: 0.8914021164021163 and parameters: {'nu': 0.894079709631873, 'kernel': 'poly', 'gamma': 'scale'}. Best is trial 41 with value: 0.9144427910052911.\n",
      "[I 2024-10-21 18:22:14,669] Trial 47 finished with value: 0.9055059523809523 and parameters: {'nu': 0.6664992237301315, 'kernel': 'linear', 'gamma': 'scale'}. Best is trial 41 with value: 0.9144427910052911.\n",
      "[I 2024-10-21 18:22:14,863] Trial 48 finished with value: 0.9132605820105819 and parameters: {'nu': 0.3445571460852223, 'kernel': 'linear', 'gamma': 'auto'}. Best is trial 41 with value: 0.9144427910052911.\n",
      "[I 2024-10-21 18:22:15,072] Trial 49 finished with value: 0.9105654761904762 and parameters: {'nu': 0.3517114444953271, 'kernel': 'linear', 'gamma': 'scale'}. Best is trial 41 with value: 0.9144427910052911.\n",
      "[I 2024-10-21 18:22:15,446] Trial 50 finished with value: 0.9118799603174604 and parameters: {'nu': 0.33606939352881154, 'kernel': 'linear', 'gamma': 'auto'}. Best is trial 41 with value: 0.9144427910052911.\n",
      "[I 2024-10-21 18:22:15,639] Trial 51 finished with value: 0.898272156084656 and parameters: {'nu': 0.36898606266603834, 'kernel': 'rbf', 'gamma': 'auto'}. Best is trial 41 with value: 0.9144427910052911.\n",
      "[I 2024-10-21 18:22:15,858] Trial 52 finished with value: 0.9113095238095239 and parameters: {'nu': 0.47680092363727566, 'kernel': 'linear', 'gamma': 'scale'}. Best is trial 41 with value: 0.9144427910052911.\n",
      "[I 2024-10-21 18:22:16,109] Trial 53 finished with value: 0.9103257275132275 and parameters: {'nu': 0.5931862578420039, 'kernel': 'sigmoid', 'gamma': 'auto'}. Best is trial 41 with value: 0.9144427910052911.\n",
      "[I 2024-10-21 18:22:16,380] Trial 54 finished with value: 0.9149305555555556 and parameters: {'nu': 0.318859944642561, 'kernel': 'linear', 'gamma': 'auto'}. Best is trial 54 with value: 0.9149305555555556.\n",
      "[I 2024-10-21 18:22:16,642] Trial 55 finished with value: 0.8721395502645504 and parameters: {'nu': 0.2600258048448804, 'kernel': 'rbf', 'gamma': 'scale'}. Best is trial 54 with value: 0.9149305555555556.\n",
      "[I 2024-10-21 18:22:16,833] Trial 56 finished with value: 0.8603422619047618 and parameters: {'nu': 0.16819803447459894, 'kernel': 'rbf', 'gamma': 'auto'}. Best is trial 54 with value: 0.9149305555555556.\n",
      "[I 2024-10-21 18:22:17,006] Trial 57 finished with value: 0.8936507936507937 and parameters: {'nu': 0.5154868413589938, 'kernel': 'poly', 'gamma': 'auto'}. Best is trial 54 with value: 0.9149305555555556.\n",
      "[I 2024-10-21 18:22:17,190] Trial 58 finished with value: 0.8127480158730158 and parameters: {'nu': 0.15407347144244404, 'kernel': 'poly', 'gamma': 'auto'}. Best is trial 54 with value: 0.9149305555555556.\n",
      "[I 2024-10-21 18:22:17,368] Trial 59 finished with value: 0.9080770502645503 and parameters: {'nu': 0.3017486577546035, 'kernel': 'linear', 'gamma': 'auto'}. Best is trial 54 with value: 0.9149305555555556.\n",
      "[I 2024-10-21 18:22:17,617] Trial 60 finished with value: 0.9101438492063492 and parameters: {'nu': 0.3926136571725945, 'kernel': 'linear', 'gamma': 'auto'}. Best is trial 54 with value: 0.9149305555555556.\n",
      "[I 2024-10-21 18:22:17,802] Trial 61 finished with value: 0.9115162037037037 and parameters: {'nu': 0.5393022814503573, 'kernel': 'linear', 'gamma': 'auto'}. Best is trial 54 with value: 0.9149305555555556.\n",
      "[I 2024-10-21 18:22:17,966] Trial 62 finished with value: 0.18606977513227513 and parameters: {'nu': 0.10000000000000002, 'kernel': 'sigmoid', 'gamma': 'scale'}. Best is trial 54 with value: 0.9149305555555556.\n",
      "[I 2024-10-21 18:22:18,174] Trial 63 finished with value: 0.9117476851851851 and parameters: {'nu': 0.4997041369395726, 'kernel': 'linear', 'gamma': 'scale'}. Best is trial 54 with value: 0.9149305555555556.\n",
      "[I 2024-10-21 18:22:18,422] Trial 64 finished with value: 0.9112929894179894 and parameters: {'nu': 0.46424259973295434, 'kernel': 'linear', 'gamma': 'auto'}. Best is trial 54 with value: 0.9149305555555556.\n",
      "[I 2024-10-21 18:22:18,696] Trial 65 finished with value: 0.9107969576719576 and parameters: {'nu': 0.5076858853258033, 'kernel': 'sigmoid', 'gamma': 'auto'}. Best is trial 54 with value: 0.9149305555555556.\n",
      "[I 2024-10-21 18:22:18,965] Trial 66 finished with value: 0.9143435846560847 and parameters: {'nu': 0.31772571715877257, 'kernel': 'linear', 'gamma': 'auto'}. Best is trial 54 with value: 0.9149305555555556.\n",
      "[I 2024-10-21 18:22:19,231] Trial 67 finished with value: 0.8654927248677249 and parameters: {'nu': 0.37249166970150593, 'kernel': 'poly', 'gamma': 'scale'}. Best is trial 54 with value: 0.9149305555555556.\n",
      "[I 2024-10-21 18:22:19,461] Trial 68 finished with value: 0.9085400132275133 and parameters: {'nu': 0.32341064631458294, 'kernel': 'linear', 'gamma': 'scale'}. Best is trial 54 with value: 0.9149305555555556.\n",
      "[I 2024-10-21 18:22:19,660] Trial 69 finished with value: 0.9126157407407408 and parameters: {'nu': 0.31327882823057035, 'kernel': 'linear', 'gamma': 'auto'}. Best is trial 54 with value: 0.9149305555555556.\n",
      "[I 2024-10-21 18:22:19,866] Trial 70 finished with value: 0.8952959656084655 and parameters: {'nu': 0.7431172777594149, 'kernel': 'rbf', 'gamma': 'auto'}. Best is trial 54 with value: 0.9149305555555556.\n",
      "[I 2024-10-21 18:22:20,085] Trial 71 finished with value: 0.8987103174603174 and parameters: {'nu': 0.4381681336962703, 'kernel': 'rbf', 'gamma': 'scale'}. Best is trial 54 with value: 0.9149305555555556.\n",
      "[I 2024-10-21 18:22:20,292] Trial 72 finished with value: 0.9096808862433863 and parameters: {'nu': 0.5462917347569861, 'kernel': 'sigmoid', 'gamma': 'auto'}. Best is trial 54 with value: 0.9149305555555556.\n",
      "[I 2024-10-21 18:22:20,529] Trial 73 finished with value: 0.9112681878306879 and parameters: {'nu': 0.43474622632493987, 'kernel': 'linear', 'gamma': 'scale'}. Best is trial 54 with value: 0.9149305555555556.\n",
      "[I 2024-10-21 18:22:20,827] Trial 74 finished with value: 0.8971560846560847 and parameters: {'nu': 0.7503935530201806, 'kernel': 'sigmoid', 'gamma': 'scale'}. Best is trial 54 with value: 0.9149305555555556.\n",
      "[I 2024-10-21 18:22:21,049] Trial 75 finished with value: 0.9119047619047619 and parameters: {'nu': 0.5735942557530743, 'kernel': 'linear', 'gamma': 'auto'}. Best is trial 54 with value: 0.9149305555555556.\n",
      "[I 2024-10-21 18:22:21,312] Trial 76 finished with value: 0.8988839285714285 and parameters: {'nu': 0.6575709076562429, 'kernel': 'poly', 'gamma': 'scale'}. Best is trial 54 with value: 0.9149305555555556.\n",
      "[I 2024-10-21 18:22:21,621] Trial 77 finished with value: 0.9069113756613756 and parameters: {'nu': 0.4504606293122922, 'kernel': 'sigmoid', 'gamma': 'auto'}. Best is trial 54 with value: 0.9149305555555556.\n",
      "[I 2024-10-21 18:22:21,874] Trial 78 finished with value: 0.8163938492063492 and parameters: {'nu': 0.16868495314240686, 'kernel': 'poly', 'gamma': 'scale'}. Best is trial 54 with value: 0.9149305555555556.\n",
      "[I 2024-10-21 18:22:22,116] Trial 79 finished with value: 0.9105241402116402 and parameters: {'nu': 0.5794503228442317, 'kernel': 'linear', 'gamma': 'scale'}. Best is trial 54 with value: 0.9149305555555556.\n",
      "[I 2024-10-21 18:22:22,385] Trial 80 finished with value: 0.9085234788359788 and parameters: {'nu': 0.4959209393277903, 'kernel': 'sigmoid', 'gamma': 'scale'}. Best is trial 54 with value: 0.9149305555555556.\n",
      "[I 2024-10-21 18:22:22,671] Trial 81 finished with value: 0.910557208994709 and parameters: {'nu': 0.35493788067897686, 'kernel': 'linear', 'gamma': 'auto'}. Best is trial 54 with value: 0.9149305555555556.\n",
      "[I 2024-10-21 18:22:22,911] Trial 82 finished with value: 0.9083664021164022 and parameters: {'nu': 0.3058615383365253, 'kernel': 'linear', 'gamma': 'auto'}. Best is trial 54 with value: 0.9149305555555556.\n",
      "[I 2024-10-21 18:22:23,294] Trial 83 finished with value: 0.9094080687830688 and parameters: {'nu': 0.4956371178503283, 'kernel': 'sigmoid', 'gamma': 'auto'}. Best is trial 54 with value: 0.9149305555555556.\n",
      "[I 2024-10-21 18:22:23,549] Trial 84 finished with value: 0.9103670634920634 and parameters: {'nu': 0.3909665648238239, 'kernel': 'linear', 'gamma': 'scale'}. Best is trial 54 with value: 0.9149305555555556.\n",
      "[I 2024-10-21 18:22:23,776] Trial 85 finished with value: 0.9114831349206349 and parameters: {'nu': 0.4179045531258135, 'kernel': 'sigmoid', 'gamma': 'scale'}. Best is trial 54 with value: 0.9149305555555556.\n",
      "[I 2024-10-21 18:22:24,046] Trial 86 finished with value: 0.9094411375661376 and parameters: {'nu': 0.446966322851467, 'kernel': 'linear', 'gamma': 'auto'}. Best is trial 54 with value: 0.9149305555555556.\n",
      "[I 2024-10-21 18:22:24,275] Trial 87 finished with value: 0.9116650132275133 and parameters: {'nu': 0.576037211991792, 'kernel': 'linear', 'gamma': 'auto'}. Best is trial 54 with value: 0.9149305555555556.\n",
      "[I 2024-10-21 18:22:24,505] Trial 88 finished with value: 0.9124007936507936 and parameters: {'nu': 0.5760862272879789, 'kernel': 'sigmoid', 'gamma': 'scale'}. Best is trial 54 with value: 0.9149305555555556.\n",
      "[I 2024-10-21 18:22:24,803] Trial 89 finished with value: 0.9027529761904762 and parameters: {'nu': 0.5393088935247141, 'kernel': 'rbf', 'gamma': 'auto'}. Best is trial 54 with value: 0.9149305555555556.\n",
      "[I 2024-10-21 18:22:25,183] Trial 90 finished with value: 0.896957671957672 and parameters: {'nu': 0.767754030377095, 'kernel': 'linear', 'gamma': 'scale'}. Best is trial 54 with value: 0.9149305555555556.\n",
      "[I 2024-10-21 18:22:25,513] Trial 91 finished with value: 0.9096808862433863 and parameters: {'nu': 0.5203019530253854, 'kernel': 'linear', 'gamma': 'scale'}. Best is trial 54 with value: 0.9149305555555556.\n",
      "[I 2024-10-21 18:22:25,737] Trial 92 finished with value: 0.9083002645502646 and parameters: {'nu': 0.5255438717879785, 'kernel': 'linear', 'gamma': 'auto'}. Best is trial 54 with value: 0.9149305555555556.\n",
      "[I 2024-10-21 18:22:26,079] Trial 93 finished with value: 0.910598544973545 and parameters: {'nu': 0.45135895251937974, 'kernel': 'linear', 'gamma': 'scale'}. Best is trial 54 with value: 0.9149305555555556.\n",
      "[I 2024-10-21 18:22:26,299] Trial 94 finished with value: 0.9126322751322752 and parameters: {'nu': 0.5757223987931355, 'kernel': 'sigmoid', 'gamma': 'scale'}. Best is trial 54 with value: 0.9149305555555556.\n",
      "[I 2024-10-21 18:22:26,590] Trial 95 finished with value: 0.9002645502645501 and parameters: {'nu': 0.7852467836846223, 'kernel': 'poly', 'gamma': 'auto'}. Best is trial 54 with value: 0.9149305555555556.\n",
      "[I 2024-10-21 18:22:26,851] Trial 96 finished with value: 0.8958085317460318 and parameters: {'nu': 0.7690052006900004, 'kernel': 'sigmoid', 'gamma': 'auto'}. Best is trial 54 with value: 0.9149305555555556.\n",
      "[I 2024-10-21 18:22:27,255] Trial 97 finished with value: 0.9122189153439153 and parameters: {'nu': 0.41519458486280714, 'kernel': 'sigmoid', 'gamma': 'scale'}. Best is trial 54 with value: 0.9149305555555556.\n",
      "[I 2024-10-21 18:22:27,544] Trial 98 finished with value: 0.8976438492063492 and parameters: {'nu': 0.7614776149942172, 'kernel': 'linear', 'gamma': 'auto'}. Best is trial 54 with value: 0.9149305555555556.\n",
      "[I 2024-10-21 18:22:27,849] Trial 99 finished with value: 0.9113012566137566 and parameters: {'nu': 0.5768888257359814, 'kernel': 'sigmoid', 'gamma': 'scale'}. Best is trial 54 with value: 0.9149305555555556.\n"
     ]
    }
   ],
   "source": [
    "# ---------------------------------------------------------------------------- #\n",
    "#                                 OPTIMIZATION                                 #\n",
    "# ---------------------------------------------------------------------------- #\n",
    "# Initiate CodeCarbon to track emissions\n",
    "tracker = EmissionsTracker('NuSVC SVM optimization', log_level='warning')\n",
    "tracker.start()\n",
    "\n",
    "# Objective function\n",
    "def objective(trial):\n",
    "  # Faixa de parâmetros para otimização\n",
    "  nu = trial.suggest_float('nu', 0.1, 0.9, log=True)  # nu é um parâmetro entre 0 e 1\n",
    "  kernel = trial.suggest_categorical('kernel', ['linear', 'poly', 'rbf', 'sigmoid'])  # Tipo de kernel\n",
    "  gamma = trial.suggest_categorical('gamma', ['scale', 'auto'])  # Gamma para os kernels não lineares\n",
    "\n",
    "  # Modelo NuSVC com os parâmetros sugeridos\n",
    "  clf = sklearn.svm.NuSVC(nu=nu, kernel=kernel, gamma=gamma)\n",
    "\n",
    "  try:\n",
    "    # Otimizando a média da validação cruzada\n",
    "    score = sklearn.model_selection.cross_val_score(clf, X, y, n_jobs=-1, cv=3).mean()\n",
    "  except ValueError:\n",
    "    # Return a low score if nu is infeasible\n",
    "    #score = -1\n",
    "    score = float('-inf')# for a more drastic penalty\n",
    "\n",
    "  # Otimizando a média da validação cruzada\n",
    "  return sklearn.model_selection.cross_val_score(clf, X, y, scoring = 'roc_auc').mean() #Estamos otimizando o score da validação cruzada\n",
    "\n",
    "# Executando o optuna\n",
    "study = optuna.create_study(direction='maximize', sampler=GPSampler()) #Criando a otimização, o GPSamples é um processo gaussiano\n",
    "study.optimize(objective, n_trials=100) #Rodar a otimização"
   ]
  },
  {
   "cell_type": "code",
   "execution_count": 11,
   "metadata": {},
   "outputs": [
    {
     "name": "stdout",
     "output_type": "stream",
     "text": [
      "ROC_AUC: 0.9149305555555556\n",
      "Best hyperparameters: {'nu': 0.318859944642561, 'kernel': 'linear', 'gamma': 'auto'}\n"
     ]
    }
   ],
   "source": [
    "# Mostrando o melhor modelo\n",
    "trial = study.best_trial\n",
    "print('ROC_AUC: {}'.format(trial.value))\n",
    "print(\"Best hyperparameters: {}\".format(trial.params))"
   ]
  },
  {
   "cell_type": "code",
   "execution_count": 12,
   "metadata": {},
   "outputs": [
    {
     "data": {
      "application/vnd.plotly.v1+json": {
       "config": {
        "plotlyServerURL": "https://plot.ly"
       },
       "data": [
        {
         "mode": "markers",
         "name": "Objective Value",
         "type": "scatter",
         "x": [
          0,
          1,
          2,
          3,
          4,
          5,
          6,
          7,
          8,
          9,
          10,
          11,
          12,
          13,
          14,
          15,
          16,
          17,
          18,
          19,
          20,
          21,
          22,
          23,
          24,
          25,
          26,
          27,
          28,
          29,
          30,
          31,
          32,
          33,
          34,
          35,
          36,
          37,
          38,
          39,
          40,
          41,
          42,
          43,
          44,
          45,
          46,
          47,
          48,
          49,
          50,
          51,
          52,
          53,
          54,
          55,
          56,
          57,
          58,
          59,
          60,
          61,
          62,
          63,
          64,
          65,
          66,
          67,
          68,
          69,
          70,
          71,
          72,
          73,
          74,
          75,
          76,
          77,
          78,
          79,
          80,
          81,
          82,
          83,
          84,
          85,
          86,
          87,
          88,
          89,
          90,
          91,
          92,
          93,
          94,
          95,
          96,
          97,
          98,
          99
         ],
         "y": [
          0.8625330687830688,
          0.8260251322751323,
          0.8937830687830688,
          0.8918154761904763,
          0.8332589285714285,
          0.8945353835978835,
          0.911698082010582,
          0.8033812830687831,
          0.8851603835978835,
          0.8308945105820106,
          0.20986276455026456,
          0.873263888888889,
          0.8821593915343915,
          0.8961805555555555,
          0.8915095899470898,
          0.8917410714285715,
          0.8925595238095239,
          0.9112516534391535,
          0.9042080026455027,
          0.8566798941798941,
          0.8887235449735449,
          0.91005291005291,
          0.12782738095238094,
          0.8928158068783068,
          0.9000082671957672,
          0.8908234126984127,
          0.8878141534391535,
          0.8915178571428573,
          0.9064566798941799,
          0.9117146164021163,
          0.9119378306878307,
          0.9052910052910053,
          0.8975529100529099,
          0.9112929894179894,
          0.900256283068783,
          0.9002645502645503,
          0.9022982804232804,
          0.9101190476190476,
          0.7480737433862433,
          0.8313492063492063,
          0.9046544312169311,
          0.9144427910052911,
          0.8894427910052911,
          0.910557208994709,
          0.7970072751322752,
          0.9119378306878307,
          0.8914021164021163,
          0.9055059523809523,
          0.9132605820105819,
          0.9105654761904762,
          0.9118799603174604,
          0.898272156084656,
          0.9113095238095239,
          0.9103257275132275,
          0.9149305555555556,
          0.8721395502645504,
          0.8603422619047618,
          0.8936507936507937,
          0.8127480158730158,
          0.9080770502645503,
          0.9101438492063492,
          0.9115162037037037,
          0.18606977513227513,
          0.9117476851851851,
          0.9112929894179894,
          0.9107969576719576,
          0.9143435846560847,
          0.8654927248677249,
          0.9085400132275133,
          0.9126157407407408,
          0.8952959656084655,
          0.8987103174603174,
          0.9096808862433863,
          0.9112681878306879,
          0.8971560846560847,
          0.9119047619047619,
          0.8988839285714285,
          0.9069113756613756,
          0.8163938492063492,
          0.9105241402116402,
          0.9085234788359788,
          0.910557208994709,
          0.9083664021164022,
          0.9094080687830688,
          0.9103670634920634,
          0.9114831349206349,
          0.9094411375661376,
          0.9116650132275133,
          0.9124007936507936,
          0.9027529761904762,
          0.896957671957672,
          0.9096808862433863,
          0.9083002645502646,
          0.910598544973545,
          0.9126322751322752,
          0.9002645502645501,
          0.8958085317460318,
          0.9122189153439153,
          0.8976438492063492,
          0.9113012566137566
         ]
        },
        {
         "mode": "lines",
         "name": "Best Value",
         "type": "scatter",
         "x": [
          0,
          1,
          2,
          3,
          4,
          5,
          6,
          7,
          8,
          9,
          10,
          11,
          12,
          13,
          14,
          15,
          16,
          17,
          18,
          19,
          20,
          21,
          22,
          23,
          24,
          25,
          26,
          27,
          28,
          29,
          30,
          31,
          32,
          33,
          34,
          35,
          36,
          37,
          38,
          39,
          40,
          41,
          42,
          43,
          44,
          45,
          46,
          47,
          48,
          49,
          50,
          51,
          52,
          53,
          54,
          55,
          56,
          57,
          58,
          59,
          60,
          61,
          62,
          63,
          64,
          65,
          66,
          67,
          68,
          69,
          70,
          71,
          72,
          73,
          74,
          75,
          76,
          77,
          78,
          79,
          80,
          81,
          82,
          83,
          84,
          85,
          86,
          87,
          88,
          89,
          90,
          91,
          92,
          93,
          94,
          95,
          96,
          97,
          98,
          99
         ],
         "y": [
          0.8625330687830688,
          0.8625330687830688,
          0.8937830687830688,
          0.8937830687830688,
          0.8937830687830688,
          0.8945353835978835,
          0.911698082010582,
          0.911698082010582,
          0.911698082010582,
          0.911698082010582,
          0.911698082010582,
          0.911698082010582,
          0.911698082010582,
          0.911698082010582,
          0.911698082010582,
          0.911698082010582,
          0.911698082010582,
          0.911698082010582,
          0.911698082010582,
          0.911698082010582,
          0.911698082010582,
          0.911698082010582,
          0.911698082010582,
          0.911698082010582,
          0.911698082010582,
          0.911698082010582,
          0.911698082010582,
          0.911698082010582,
          0.911698082010582,
          0.9117146164021163,
          0.9119378306878307,
          0.9119378306878307,
          0.9119378306878307,
          0.9119378306878307,
          0.9119378306878307,
          0.9119378306878307,
          0.9119378306878307,
          0.9119378306878307,
          0.9119378306878307,
          0.9119378306878307,
          0.9119378306878307,
          0.9144427910052911,
          0.9144427910052911,
          0.9144427910052911,
          0.9144427910052911,
          0.9144427910052911,
          0.9144427910052911,
          0.9144427910052911,
          0.9144427910052911,
          0.9144427910052911,
          0.9144427910052911,
          0.9144427910052911,
          0.9144427910052911,
          0.9144427910052911,
          0.9149305555555556,
          0.9149305555555556,
          0.9149305555555556,
          0.9149305555555556,
          0.9149305555555556,
          0.9149305555555556,
          0.9149305555555556,
          0.9149305555555556,
          0.9149305555555556,
          0.9149305555555556,
          0.9149305555555556,
          0.9149305555555556,
          0.9149305555555556,
          0.9149305555555556,
          0.9149305555555556,
          0.9149305555555556,
          0.9149305555555556,
          0.9149305555555556,
          0.9149305555555556,
          0.9149305555555556,
          0.9149305555555556,
          0.9149305555555556,
          0.9149305555555556,
          0.9149305555555556,
          0.9149305555555556,
          0.9149305555555556,
          0.9149305555555556,
          0.9149305555555556,
          0.9149305555555556,
          0.9149305555555556,
          0.9149305555555556,
          0.9149305555555556,
          0.9149305555555556,
          0.9149305555555556,
          0.9149305555555556,
          0.9149305555555556,
          0.9149305555555556,
          0.9149305555555556,
          0.9149305555555556,
          0.9149305555555556,
          0.9149305555555556,
          0.9149305555555556,
          0.9149305555555556,
          0.9149305555555556,
          0.9149305555555556,
          0.9149305555555556
         ]
        },
        {
         "marker": {
          "color": "#cccccc"
         },
         "mode": "markers",
         "name": "Infeasible Trial",
         "showlegend": false,
         "type": "scatter",
         "x": [],
         "y": []
        }
       ],
       "layout": {
        "template": {
         "data": {
          "bar": [
           {
            "error_x": {
             "color": "#2a3f5f"
            },
            "error_y": {
             "color": "#2a3f5f"
            },
            "marker": {
             "line": {
              "color": "#E5ECF6",
              "width": 0.5
             },
             "pattern": {
              "fillmode": "overlay",
              "size": 10,
              "solidity": 0.2
             }
            },
            "type": "bar"
           }
          ],
          "barpolar": [
           {
            "marker": {
             "line": {
              "color": "#E5ECF6",
              "width": 0.5
             },
             "pattern": {
              "fillmode": "overlay",
              "size": 10,
              "solidity": 0.2
             }
            },
            "type": "barpolar"
           }
          ],
          "carpet": [
           {
            "aaxis": {
             "endlinecolor": "#2a3f5f",
             "gridcolor": "white",
             "linecolor": "white",
             "minorgridcolor": "white",
             "startlinecolor": "#2a3f5f"
            },
            "baxis": {
             "endlinecolor": "#2a3f5f",
             "gridcolor": "white",
             "linecolor": "white",
             "minorgridcolor": "white",
             "startlinecolor": "#2a3f5f"
            },
            "type": "carpet"
           }
          ],
          "choropleth": [
           {
            "colorbar": {
             "outlinewidth": 0,
             "ticks": ""
            },
            "type": "choropleth"
           }
          ],
          "contour": [
           {
            "colorbar": {
             "outlinewidth": 0,
             "ticks": ""
            },
            "colorscale": [
             [
              0,
              "#0d0887"
             ],
             [
              0.1111111111111111,
              "#46039f"
             ],
             [
              0.2222222222222222,
              "#7201a8"
             ],
             [
              0.3333333333333333,
              "#9c179e"
             ],
             [
              0.4444444444444444,
              "#bd3786"
             ],
             [
              0.5555555555555556,
              "#d8576b"
             ],
             [
              0.6666666666666666,
              "#ed7953"
             ],
             [
              0.7777777777777778,
              "#fb9f3a"
             ],
             [
              0.8888888888888888,
              "#fdca26"
             ],
             [
              1,
              "#f0f921"
             ]
            ],
            "type": "contour"
           }
          ],
          "contourcarpet": [
           {
            "colorbar": {
             "outlinewidth": 0,
             "ticks": ""
            },
            "type": "contourcarpet"
           }
          ],
          "heatmap": [
           {
            "colorbar": {
             "outlinewidth": 0,
             "ticks": ""
            },
            "colorscale": [
             [
              0,
              "#0d0887"
             ],
             [
              0.1111111111111111,
              "#46039f"
             ],
             [
              0.2222222222222222,
              "#7201a8"
             ],
             [
              0.3333333333333333,
              "#9c179e"
             ],
             [
              0.4444444444444444,
              "#bd3786"
             ],
             [
              0.5555555555555556,
              "#d8576b"
             ],
             [
              0.6666666666666666,
              "#ed7953"
             ],
             [
              0.7777777777777778,
              "#fb9f3a"
             ],
             [
              0.8888888888888888,
              "#fdca26"
             ],
             [
              1,
              "#f0f921"
             ]
            ],
            "type": "heatmap"
           }
          ],
          "heatmapgl": [
           {
            "colorbar": {
             "outlinewidth": 0,
             "ticks": ""
            },
            "colorscale": [
             [
              0,
              "#0d0887"
             ],
             [
              0.1111111111111111,
              "#46039f"
             ],
             [
              0.2222222222222222,
              "#7201a8"
             ],
             [
              0.3333333333333333,
              "#9c179e"
             ],
             [
              0.4444444444444444,
              "#bd3786"
             ],
             [
              0.5555555555555556,
              "#d8576b"
             ],
             [
              0.6666666666666666,
              "#ed7953"
             ],
             [
              0.7777777777777778,
              "#fb9f3a"
             ],
             [
              0.8888888888888888,
              "#fdca26"
             ],
             [
              1,
              "#f0f921"
             ]
            ],
            "type": "heatmapgl"
           }
          ],
          "histogram": [
           {
            "marker": {
             "pattern": {
              "fillmode": "overlay",
              "size": 10,
              "solidity": 0.2
             }
            },
            "type": "histogram"
           }
          ],
          "histogram2d": [
           {
            "colorbar": {
             "outlinewidth": 0,
             "ticks": ""
            },
            "colorscale": [
             [
              0,
              "#0d0887"
             ],
             [
              0.1111111111111111,
              "#46039f"
             ],
             [
              0.2222222222222222,
              "#7201a8"
             ],
             [
              0.3333333333333333,
              "#9c179e"
             ],
             [
              0.4444444444444444,
              "#bd3786"
             ],
             [
              0.5555555555555556,
              "#d8576b"
             ],
             [
              0.6666666666666666,
              "#ed7953"
             ],
             [
              0.7777777777777778,
              "#fb9f3a"
             ],
             [
              0.8888888888888888,
              "#fdca26"
             ],
             [
              1,
              "#f0f921"
             ]
            ],
            "type": "histogram2d"
           }
          ],
          "histogram2dcontour": [
           {
            "colorbar": {
             "outlinewidth": 0,
             "ticks": ""
            },
            "colorscale": [
             [
              0,
              "#0d0887"
             ],
             [
              0.1111111111111111,
              "#46039f"
             ],
             [
              0.2222222222222222,
              "#7201a8"
             ],
             [
              0.3333333333333333,
              "#9c179e"
             ],
             [
              0.4444444444444444,
              "#bd3786"
             ],
             [
              0.5555555555555556,
              "#d8576b"
             ],
             [
              0.6666666666666666,
              "#ed7953"
             ],
             [
              0.7777777777777778,
              "#fb9f3a"
             ],
             [
              0.8888888888888888,
              "#fdca26"
             ],
             [
              1,
              "#f0f921"
             ]
            ],
            "type": "histogram2dcontour"
           }
          ],
          "mesh3d": [
           {
            "colorbar": {
             "outlinewidth": 0,
             "ticks": ""
            },
            "type": "mesh3d"
           }
          ],
          "parcoords": [
           {
            "line": {
             "colorbar": {
              "outlinewidth": 0,
              "ticks": ""
             }
            },
            "type": "parcoords"
           }
          ],
          "pie": [
           {
            "automargin": true,
            "type": "pie"
           }
          ],
          "scatter": [
           {
            "fillpattern": {
             "fillmode": "overlay",
             "size": 10,
             "solidity": 0.2
            },
            "type": "scatter"
           }
          ],
          "scatter3d": [
           {
            "line": {
             "colorbar": {
              "outlinewidth": 0,
              "ticks": ""
             }
            },
            "marker": {
             "colorbar": {
              "outlinewidth": 0,
              "ticks": ""
             }
            },
            "type": "scatter3d"
           }
          ],
          "scattercarpet": [
           {
            "marker": {
             "colorbar": {
              "outlinewidth": 0,
              "ticks": ""
             }
            },
            "type": "scattercarpet"
           }
          ],
          "scattergeo": [
           {
            "marker": {
             "colorbar": {
              "outlinewidth": 0,
              "ticks": ""
             }
            },
            "type": "scattergeo"
           }
          ],
          "scattergl": [
           {
            "marker": {
             "colorbar": {
              "outlinewidth": 0,
              "ticks": ""
             }
            },
            "type": "scattergl"
           }
          ],
          "scattermapbox": [
           {
            "marker": {
             "colorbar": {
              "outlinewidth": 0,
              "ticks": ""
             }
            },
            "type": "scattermapbox"
           }
          ],
          "scatterpolar": [
           {
            "marker": {
             "colorbar": {
              "outlinewidth": 0,
              "ticks": ""
             }
            },
            "type": "scatterpolar"
           }
          ],
          "scatterpolargl": [
           {
            "marker": {
             "colorbar": {
              "outlinewidth": 0,
              "ticks": ""
             }
            },
            "type": "scatterpolargl"
           }
          ],
          "scatterternary": [
           {
            "marker": {
             "colorbar": {
              "outlinewidth": 0,
              "ticks": ""
             }
            },
            "type": "scatterternary"
           }
          ],
          "surface": [
           {
            "colorbar": {
             "outlinewidth": 0,
             "ticks": ""
            },
            "colorscale": [
             [
              0,
              "#0d0887"
             ],
             [
              0.1111111111111111,
              "#46039f"
             ],
             [
              0.2222222222222222,
              "#7201a8"
             ],
             [
              0.3333333333333333,
              "#9c179e"
             ],
             [
              0.4444444444444444,
              "#bd3786"
             ],
             [
              0.5555555555555556,
              "#d8576b"
             ],
             [
              0.6666666666666666,
              "#ed7953"
             ],
             [
              0.7777777777777778,
              "#fb9f3a"
             ],
             [
              0.8888888888888888,
              "#fdca26"
             ],
             [
              1,
              "#f0f921"
             ]
            ],
            "type": "surface"
           }
          ],
          "table": [
           {
            "cells": {
             "fill": {
              "color": "#EBF0F8"
             },
             "line": {
              "color": "white"
             }
            },
            "header": {
             "fill": {
              "color": "#C8D4E3"
             },
             "line": {
              "color": "white"
             }
            },
            "type": "table"
           }
          ]
         },
         "layout": {
          "annotationdefaults": {
           "arrowcolor": "#2a3f5f",
           "arrowhead": 0,
           "arrowwidth": 1
          },
          "autotypenumbers": "strict",
          "coloraxis": {
           "colorbar": {
            "outlinewidth": 0,
            "ticks": ""
           }
          },
          "colorscale": {
           "diverging": [
            [
             0,
             "#8e0152"
            ],
            [
             0.1,
             "#c51b7d"
            ],
            [
             0.2,
             "#de77ae"
            ],
            [
             0.3,
             "#f1b6da"
            ],
            [
             0.4,
             "#fde0ef"
            ],
            [
             0.5,
             "#f7f7f7"
            ],
            [
             0.6,
             "#e6f5d0"
            ],
            [
             0.7,
             "#b8e186"
            ],
            [
             0.8,
             "#7fbc41"
            ],
            [
             0.9,
             "#4d9221"
            ],
            [
             1,
             "#276419"
            ]
           ],
           "sequential": [
            [
             0,
             "#0d0887"
            ],
            [
             0.1111111111111111,
             "#46039f"
            ],
            [
             0.2222222222222222,
             "#7201a8"
            ],
            [
             0.3333333333333333,
             "#9c179e"
            ],
            [
             0.4444444444444444,
             "#bd3786"
            ],
            [
             0.5555555555555556,
             "#d8576b"
            ],
            [
             0.6666666666666666,
             "#ed7953"
            ],
            [
             0.7777777777777778,
             "#fb9f3a"
            ],
            [
             0.8888888888888888,
             "#fdca26"
            ],
            [
             1,
             "#f0f921"
            ]
           ],
           "sequentialminus": [
            [
             0,
             "#0d0887"
            ],
            [
             0.1111111111111111,
             "#46039f"
            ],
            [
             0.2222222222222222,
             "#7201a8"
            ],
            [
             0.3333333333333333,
             "#9c179e"
            ],
            [
             0.4444444444444444,
             "#bd3786"
            ],
            [
             0.5555555555555556,
             "#d8576b"
            ],
            [
             0.6666666666666666,
             "#ed7953"
            ],
            [
             0.7777777777777778,
             "#fb9f3a"
            ],
            [
             0.8888888888888888,
             "#fdca26"
            ],
            [
             1,
             "#f0f921"
            ]
           ]
          },
          "colorway": [
           "#636efa",
           "#EF553B",
           "#00cc96",
           "#ab63fa",
           "#FFA15A",
           "#19d3f3",
           "#FF6692",
           "#B6E880",
           "#FF97FF",
           "#FECB52"
          ],
          "font": {
           "color": "#2a3f5f"
          },
          "geo": {
           "bgcolor": "white",
           "lakecolor": "white",
           "landcolor": "#E5ECF6",
           "showlakes": true,
           "showland": true,
           "subunitcolor": "white"
          },
          "hoverlabel": {
           "align": "left"
          },
          "hovermode": "closest",
          "mapbox": {
           "style": "light"
          },
          "paper_bgcolor": "white",
          "plot_bgcolor": "#E5ECF6",
          "polar": {
           "angularaxis": {
            "gridcolor": "white",
            "linecolor": "white",
            "ticks": ""
           },
           "bgcolor": "#E5ECF6",
           "radialaxis": {
            "gridcolor": "white",
            "linecolor": "white",
            "ticks": ""
           }
          },
          "scene": {
           "xaxis": {
            "backgroundcolor": "#E5ECF6",
            "gridcolor": "white",
            "gridwidth": 2,
            "linecolor": "white",
            "showbackground": true,
            "ticks": "",
            "zerolinecolor": "white"
           },
           "yaxis": {
            "backgroundcolor": "#E5ECF6",
            "gridcolor": "white",
            "gridwidth": 2,
            "linecolor": "white",
            "showbackground": true,
            "ticks": "",
            "zerolinecolor": "white"
           },
           "zaxis": {
            "backgroundcolor": "#E5ECF6",
            "gridcolor": "white",
            "gridwidth": 2,
            "linecolor": "white",
            "showbackground": true,
            "ticks": "",
            "zerolinecolor": "white"
           }
          },
          "shapedefaults": {
           "line": {
            "color": "#2a3f5f"
           }
          },
          "ternary": {
           "aaxis": {
            "gridcolor": "white",
            "linecolor": "white",
            "ticks": ""
           },
           "baxis": {
            "gridcolor": "white",
            "linecolor": "white",
            "ticks": ""
           },
           "bgcolor": "#E5ECF6",
           "caxis": {
            "gridcolor": "white",
            "linecolor": "white",
            "ticks": ""
           }
          },
          "title": {
           "x": 0.05
          },
          "xaxis": {
           "automargin": true,
           "gridcolor": "white",
           "linecolor": "white",
           "ticks": "",
           "title": {
            "standoff": 15
           },
           "zerolinecolor": "white",
           "zerolinewidth": 2
          },
          "yaxis": {
           "automargin": true,
           "gridcolor": "white",
           "linecolor": "white",
           "ticks": "",
           "title": {
            "standoff": 15
           },
           "zerolinecolor": "white",
           "zerolinewidth": 2
          }
         }
        },
        "title": {
         "text": "Optimization History Plot"
        },
        "xaxis": {
         "title": {
          "text": "Trial"
         }
        },
        "yaxis": {
         "title": {
          "text": "Objective Value"
         }
        }
       }
      }
     },
     "metadata": {},
     "output_type": "display_data"
    }
   ],
   "source": [
    "# Visualizando a otimização\n",
    "optuna.visualization.plot_optimization_history(study)"
   ]
  },
  {
   "cell_type": "code",
   "execution_count": 13,
   "metadata": {},
   "outputs": [
    {
     "data": {
      "application/vnd.plotly.v1+json": {
       "config": {
        "plotlyServerURL": "https://plot.ly"
       },
       "data": [
        {
         "marker": {
          "color": [
           0,
           1,
           2,
           3,
           4,
           5,
           6,
           7,
           8,
           9,
           10,
           11,
           12,
           13,
           14,
           15,
           16,
           17,
           18,
           19,
           20,
           21,
           22,
           23,
           24,
           25,
           26,
           27,
           28,
           29,
           30,
           31,
           32,
           33,
           34,
           35,
           36,
           37,
           38,
           39,
           40,
           41,
           42,
           43,
           44,
           45,
           46,
           47,
           48,
           49,
           50,
           51,
           52,
           53,
           54,
           55,
           56,
           57,
           58,
           59,
           60,
           61,
           62,
           63,
           64,
           65,
           66,
           67,
           68,
           69,
           70,
           71,
           72,
           73,
           74,
           75,
           76,
           77,
           78,
           79,
           80,
           81,
           82,
           83,
           84,
           85,
           86,
           87,
           88,
           89,
           90,
           91,
           92,
           93,
           94,
           95,
           96,
           97,
           98,
           99
          ],
          "colorbar": {
           "title": {
            "text": "Trial"
           },
           "x": 1,
           "xpad": 40
          },
          "colorscale": [
           [
            0,
            "rgb(247,251,255)"
           ],
           [
            0.125,
            "rgb(222,235,247)"
           ],
           [
            0.25,
            "rgb(198,219,239)"
           ],
           [
            0.375,
            "rgb(158,202,225)"
           ],
           [
            0.5,
            "rgb(107,174,214)"
           ],
           [
            0.625,
            "rgb(66,146,198)"
           ],
           [
            0.75,
            "rgb(33,113,181)"
           ],
           [
            0.875,
            "rgb(8,81,156)"
           ],
           [
            1,
            "rgb(8,48,107)"
           ]
          ],
          "line": {
           "color": "Grey",
           "width": 0.5
          },
          "showscale": true
         },
         "mode": "markers",
         "name": "Feasible Trial",
         "showlegend": false,
         "type": "scatter",
         "x": [
          "auto",
          "scale",
          "auto",
          "scale",
          "auto",
          "scale",
          "auto",
          "scale",
          "auto",
          "auto",
          "auto",
          "auto",
          "scale",
          "scale",
          "scale",
          "auto",
          "auto",
          "scale",
          "auto",
          "scale",
          "auto",
          "scale",
          "auto",
          "scale",
          "scale",
          "auto",
          "scale",
          "scale",
          "scale",
          "auto",
          "scale",
          "auto",
          "auto",
          "auto",
          "scale",
          "scale",
          "auto",
          "scale",
          "scale",
          "scale",
          "auto",
          "auto",
          "scale",
          "scale",
          "auto",
          "auto",
          "scale",
          "scale",
          "auto",
          "scale",
          "auto",
          "auto",
          "scale",
          "auto",
          "auto",
          "scale",
          "auto",
          "auto",
          "auto",
          "auto",
          "auto",
          "auto",
          "scale",
          "scale",
          "auto",
          "auto",
          "auto",
          "scale",
          "scale",
          "auto",
          "auto",
          "scale",
          "auto",
          "scale",
          "scale",
          "auto",
          "scale",
          "auto",
          "scale",
          "scale",
          "scale",
          "auto",
          "auto",
          "auto",
          "scale",
          "scale",
          "auto",
          "auto",
          "scale",
          "auto",
          "scale",
          "scale",
          "auto",
          "scale",
          "scale",
          "auto",
          "auto",
          "scale",
          "auto",
          "scale"
         ],
         "xaxis": "x",
         "y": [
          0.8625330687830688,
          0.8260251322751323,
          0.8937830687830688,
          0.8918154761904763,
          0.8332589285714285,
          0.8945353835978835,
          0.911698082010582,
          0.8033812830687831,
          0.8851603835978835,
          0.8308945105820106,
          0.20986276455026456,
          0.873263888888889,
          0.8821593915343915,
          0.8961805555555555,
          0.8915095899470898,
          0.8917410714285715,
          0.8925595238095239,
          0.9112516534391535,
          0.9042080026455027,
          0.8566798941798941,
          0.8887235449735449,
          0.91005291005291,
          0.12782738095238094,
          0.8928158068783068,
          0.9000082671957672,
          0.8908234126984127,
          0.8878141534391535,
          0.8915178571428573,
          0.9064566798941799,
          0.9117146164021163,
          0.9119378306878307,
          0.9052910052910053,
          0.8975529100529099,
          0.9112929894179894,
          0.900256283068783,
          0.9002645502645503,
          0.9022982804232804,
          0.9101190476190476,
          0.7480737433862433,
          0.8313492063492063,
          0.9046544312169311,
          0.9144427910052911,
          0.8894427910052911,
          0.910557208994709,
          0.7970072751322752,
          0.9119378306878307,
          0.8914021164021163,
          0.9055059523809523,
          0.9132605820105819,
          0.9105654761904762,
          0.9118799603174604,
          0.898272156084656,
          0.9113095238095239,
          0.9103257275132275,
          0.9149305555555556,
          0.8721395502645504,
          0.8603422619047618,
          0.8936507936507937,
          0.8127480158730158,
          0.9080770502645503,
          0.9101438492063492,
          0.9115162037037037,
          0.18606977513227513,
          0.9117476851851851,
          0.9112929894179894,
          0.9107969576719576,
          0.9143435846560847,
          0.8654927248677249,
          0.9085400132275133,
          0.9126157407407408,
          0.8952959656084655,
          0.8987103174603174,
          0.9096808862433863,
          0.9112681878306879,
          0.8971560846560847,
          0.9119047619047619,
          0.8988839285714285,
          0.9069113756613756,
          0.8163938492063492,
          0.9105241402116402,
          0.9085234788359788,
          0.910557208994709,
          0.9083664021164022,
          0.9094080687830688,
          0.9103670634920634,
          0.9114831349206349,
          0.9094411375661376,
          0.9116650132275133,
          0.9124007936507936,
          0.9027529761904762,
          0.896957671957672,
          0.9096808862433863,
          0.9083002645502646,
          0.910598544973545,
          0.9126322751322752,
          0.9002645502645501,
          0.8958085317460318,
          0.9122189153439153,
          0.8976438492063492,
          0.9113012566137566
         ],
         "yaxis": "y"
        },
        {
         "marker": {
          "color": [
           0,
           1,
           2,
           3,
           4,
           5,
           6,
           7,
           8,
           9,
           10,
           11,
           12,
           13,
           14,
           15,
           16,
           17,
           18,
           19,
           20,
           21,
           22,
           23,
           24,
           25,
           26,
           27,
           28,
           29,
           30,
           31,
           32,
           33,
           34,
           35,
           36,
           37,
           38,
           39,
           40,
           41,
           42,
           43,
           44,
           45,
           46,
           47,
           48,
           49,
           50,
           51,
           52,
           53,
           54,
           55,
           56,
           57,
           58,
           59,
           60,
           61,
           62,
           63,
           64,
           65,
           66,
           67,
           68,
           69,
           70,
           71,
           72,
           73,
           74,
           75,
           76,
           77,
           78,
           79,
           80,
           81,
           82,
           83,
           84,
           85,
           86,
           87,
           88,
           89,
           90,
           91,
           92,
           93,
           94,
           95,
           96,
           97,
           98,
           99
          ],
          "colorbar": {
           "title": {
            "text": "Trial"
           },
           "x": 1,
           "xpad": 40
          },
          "colorscale": [
           [
            0,
            "rgb(247,251,255)"
           ],
           [
            0.125,
            "rgb(222,235,247)"
           ],
           [
            0.25,
            "rgb(198,219,239)"
           ],
           [
            0.375,
            "rgb(158,202,225)"
           ],
           [
            0.5,
            "rgb(107,174,214)"
           ],
           [
            0.625,
            "rgb(66,146,198)"
           ],
           [
            0.75,
            "rgb(33,113,181)"
           ],
           [
            0.875,
            "rgb(8,81,156)"
           ],
           [
            1,
            "rgb(8,48,107)"
           ]
          ],
          "line": {
           "color": "Grey",
           "width": 0.5
          },
          "showscale": false
         },
         "mode": "markers",
         "name": "Feasible Trial",
         "showlegend": false,
         "type": "scatter",
         "x": [
          "poly",
          "rbf",
          "linear",
          "poly",
          "rbf",
          "poly",
          "sigmoid",
          "poly",
          "linear",
          "poly",
          "linear",
          "rbf",
          "sigmoid",
          "rbf",
          "sigmoid",
          "linear",
          "poly",
          "linear",
          "rbf",
          "rbf",
          "rbf",
          "sigmoid",
          "sigmoid",
          "rbf",
          "sigmoid",
          "sigmoid",
          "linear",
          "linear",
          "sigmoid",
          "linear",
          "linear",
          "linear",
          "poly",
          "linear",
          "poly",
          "rbf",
          "rbf",
          "sigmoid",
          "linear",
          "poly",
          "sigmoid",
          "linear",
          "rbf",
          "linear",
          "poly",
          "linear",
          "poly",
          "linear",
          "linear",
          "linear",
          "linear",
          "rbf",
          "linear",
          "sigmoid",
          "linear",
          "rbf",
          "rbf",
          "poly",
          "poly",
          "linear",
          "linear",
          "linear",
          "sigmoid",
          "linear",
          "linear",
          "sigmoid",
          "linear",
          "poly",
          "linear",
          "linear",
          "rbf",
          "rbf",
          "sigmoid",
          "linear",
          "sigmoid",
          "linear",
          "poly",
          "sigmoid",
          "poly",
          "linear",
          "sigmoid",
          "linear",
          "linear",
          "sigmoid",
          "linear",
          "sigmoid",
          "linear",
          "linear",
          "sigmoid",
          "rbf",
          "linear",
          "linear",
          "linear",
          "linear",
          "sigmoid",
          "poly",
          "sigmoid",
          "sigmoid",
          "linear",
          "sigmoid"
         ],
         "xaxis": "x2",
         "y": [
          0.8625330687830688,
          0.8260251322751323,
          0.8937830687830688,
          0.8918154761904763,
          0.8332589285714285,
          0.8945353835978835,
          0.911698082010582,
          0.8033812830687831,
          0.8851603835978835,
          0.8308945105820106,
          0.20986276455026456,
          0.873263888888889,
          0.8821593915343915,
          0.8961805555555555,
          0.8915095899470898,
          0.8917410714285715,
          0.8925595238095239,
          0.9112516534391535,
          0.9042080026455027,
          0.8566798941798941,
          0.8887235449735449,
          0.91005291005291,
          0.12782738095238094,
          0.8928158068783068,
          0.9000082671957672,
          0.8908234126984127,
          0.8878141534391535,
          0.8915178571428573,
          0.9064566798941799,
          0.9117146164021163,
          0.9119378306878307,
          0.9052910052910053,
          0.8975529100529099,
          0.9112929894179894,
          0.900256283068783,
          0.9002645502645503,
          0.9022982804232804,
          0.9101190476190476,
          0.7480737433862433,
          0.8313492063492063,
          0.9046544312169311,
          0.9144427910052911,
          0.8894427910052911,
          0.910557208994709,
          0.7970072751322752,
          0.9119378306878307,
          0.8914021164021163,
          0.9055059523809523,
          0.9132605820105819,
          0.9105654761904762,
          0.9118799603174604,
          0.898272156084656,
          0.9113095238095239,
          0.9103257275132275,
          0.9149305555555556,
          0.8721395502645504,
          0.8603422619047618,
          0.8936507936507937,
          0.8127480158730158,
          0.9080770502645503,
          0.9101438492063492,
          0.9115162037037037,
          0.18606977513227513,
          0.9117476851851851,
          0.9112929894179894,
          0.9107969576719576,
          0.9143435846560847,
          0.8654927248677249,
          0.9085400132275133,
          0.9126157407407408,
          0.8952959656084655,
          0.8987103174603174,
          0.9096808862433863,
          0.9112681878306879,
          0.8971560846560847,
          0.9119047619047619,
          0.8988839285714285,
          0.9069113756613756,
          0.8163938492063492,
          0.9105241402116402,
          0.9085234788359788,
          0.910557208994709,
          0.9083664021164022,
          0.9094080687830688,
          0.9103670634920634,
          0.9114831349206349,
          0.9094411375661376,
          0.9116650132275133,
          0.9124007936507936,
          0.9027529761904762,
          0.896957671957672,
          0.9096808862433863,
          0.9083002645502646,
          0.910598544973545,
          0.9126322751322752,
          0.9002645502645501,
          0.8958085317460318,
          0.9122189153439153,
          0.8976438492063492,
          0.9113012566137566
         ],
         "yaxis": "y2"
        },
        {
         "marker": {
          "color": [
           0,
           1,
           2,
           3,
           4,
           5,
           6,
           7,
           8,
           9,
           10,
           11,
           12,
           13,
           14,
           15,
           16,
           17,
           18,
           19,
           20,
           21,
           22,
           23,
           24,
           25,
           26,
           27,
           28,
           29,
           30,
           31,
           32,
           33,
           34,
           35,
           36,
           37,
           38,
           39,
           40,
           41,
           42,
           43,
           44,
           45,
           46,
           47,
           48,
           49,
           50,
           51,
           52,
           53,
           54,
           55,
           56,
           57,
           58,
           59,
           60,
           61,
           62,
           63,
           64,
           65,
           66,
           67,
           68,
           69,
           70,
           71,
           72,
           73,
           74,
           75,
           76,
           77,
           78,
           79,
           80,
           81,
           82,
           83,
           84,
           85,
           86,
           87,
           88,
           89,
           90,
           91,
           92,
           93,
           94,
           95,
           96,
           97,
           98,
           99
          ],
          "colorbar": {
           "title": {
            "text": "Trial"
           },
           "x": 1,
           "xpad": 40
          },
          "colorscale": [
           [
            0,
            "rgb(247,251,255)"
           ],
           [
            0.125,
            "rgb(222,235,247)"
           ],
           [
            0.25,
            "rgb(198,219,239)"
           ],
           [
            0.375,
            "rgb(158,202,225)"
           ],
           [
            0.5,
            "rgb(107,174,214)"
           ],
           [
            0.625,
            "rgb(66,146,198)"
           ],
           [
            0.75,
            "rgb(33,113,181)"
           ],
           [
            0.875,
            "rgb(8,81,156)"
           ],
           [
            1,
            "rgb(8,48,107)"
           ]
          ],
          "line": {
           "color": "Grey",
           "width": 0.5
          },
          "showscale": false
         },
         "mode": "markers",
         "name": "Feasible Trial",
         "showlegend": false,
         "type": "scatter",
         "x": [
          0.35984442828479973,
          0.11085520066740882,
          0.2006834062365111,
          0.5061778102256294,
          0.11335056992675796,
          0.5384637940343585,
          0.5512056449595492,
          0.11707379795003366,
          0.22099080013590086,
          0.25303496265182024,
          0.10000000000000002,
          0.25674375818267314,
          0.2889253000275382,
          0.7033898129763334,
          0.9,
          0.8872458081644016,
          0.9,
          0.5509818302037942,
          0.4744933967458273,
          0.17684769755671653,
          0.9,
          0.4549957462266709,
          0.18437625471259295,
          0.35858665392848793,
          0.3528166424866219,
          0.9,
          0.27169992959061356,
          0.9,
          0.6428892508807883,
          0.4121227341787899,
          0.4129380168199707,
          0.6631187023544912,
          0.677289214148314,
          0.5027282093176791,
          0.7794219177895588,
          0.5226761089972684,
          0.6210992404033797,
          0.5339730702956516,
          0.20514650203684565,
          0.2533479205878984,
          0.665541562155994,
          0.2859561614885411,
          0.9,
          0.35578696070545685,
          0.10000000000000002,
          0.27987206253096214,
          0.894079709631873,
          0.6664992237301315,
          0.3445571460852223,
          0.3517114444953271,
          0.33606939352881154,
          0.36898606266603834,
          0.47680092363727566,
          0.5931862578420039,
          0.318859944642561,
          0.2600258048448804,
          0.16819803447459894,
          0.5154868413589938,
          0.15407347144244404,
          0.3017486577546035,
          0.3926136571725945,
          0.5393022814503573,
          0.10000000000000002,
          0.4997041369395726,
          0.46424259973295434,
          0.5076858853258033,
          0.31772571715877257,
          0.37249166970150593,
          0.32341064631458294,
          0.31327882823057035,
          0.7431172777594149,
          0.4381681336962703,
          0.5462917347569861,
          0.43474622632493987,
          0.7503935530201806,
          0.5735942557530743,
          0.6575709076562429,
          0.4504606293122922,
          0.16868495314240686,
          0.5794503228442317,
          0.4959209393277903,
          0.35493788067897686,
          0.3058615383365253,
          0.4956371178503283,
          0.3909665648238239,
          0.4179045531258135,
          0.446966322851467,
          0.576037211991792,
          0.5760862272879789,
          0.5393088935247141,
          0.767754030377095,
          0.5203019530253854,
          0.5255438717879785,
          0.45135895251937974,
          0.5757223987931355,
          0.7852467836846223,
          0.7690052006900004,
          0.41519458486280714,
          0.7614776149942172,
          0.5768888257359814
         ],
         "xaxis": "x3",
         "y": [
          0.8625330687830688,
          0.8260251322751323,
          0.8937830687830688,
          0.8918154761904763,
          0.8332589285714285,
          0.8945353835978835,
          0.911698082010582,
          0.8033812830687831,
          0.8851603835978835,
          0.8308945105820106,
          0.20986276455026456,
          0.873263888888889,
          0.8821593915343915,
          0.8961805555555555,
          0.8915095899470898,
          0.8917410714285715,
          0.8925595238095239,
          0.9112516534391535,
          0.9042080026455027,
          0.8566798941798941,
          0.8887235449735449,
          0.91005291005291,
          0.12782738095238094,
          0.8928158068783068,
          0.9000082671957672,
          0.8908234126984127,
          0.8878141534391535,
          0.8915178571428573,
          0.9064566798941799,
          0.9117146164021163,
          0.9119378306878307,
          0.9052910052910053,
          0.8975529100529099,
          0.9112929894179894,
          0.900256283068783,
          0.9002645502645503,
          0.9022982804232804,
          0.9101190476190476,
          0.7480737433862433,
          0.8313492063492063,
          0.9046544312169311,
          0.9144427910052911,
          0.8894427910052911,
          0.910557208994709,
          0.7970072751322752,
          0.9119378306878307,
          0.8914021164021163,
          0.9055059523809523,
          0.9132605820105819,
          0.9105654761904762,
          0.9118799603174604,
          0.898272156084656,
          0.9113095238095239,
          0.9103257275132275,
          0.9149305555555556,
          0.8721395502645504,
          0.8603422619047618,
          0.8936507936507937,
          0.8127480158730158,
          0.9080770502645503,
          0.9101438492063492,
          0.9115162037037037,
          0.18606977513227513,
          0.9117476851851851,
          0.9112929894179894,
          0.9107969576719576,
          0.9143435846560847,
          0.8654927248677249,
          0.9085400132275133,
          0.9126157407407408,
          0.8952959656084655,
          0.8987103174603174,
          0.9096808862433863,
          0.9112681878306879,
          0.8971560846560847,
          0.9119047619047619,
          0.8988839285714285,
          0.9069113756613756,
          0.8163938492063492,
          0.9105241402116402,
          0.9085234788359788,
          0.910557208994709,
          0.9083664021164022,
          0.9094080687830688,
          0.9103670634920634,
          0.9114831349206349,
          0.9094411375661376,
          0.9116650132275133,
          0.9124007936507936,
          0.9027529761904762,
          0.896957671957672,
          0.9096808862433863,
          0.9083002645502646,
          0.910598544973545,
          0.9126322751322752,
          0.9002645502645501,
          0.8958085317460318,
          0.9122189153439153,
          0.8976438492063492,
          0.9113012566137566
         ],
         "yaxis": "y3"
        }
       ],
       "layout": {
        "template": {
         "data": {
          "bar": [
           {
            "error_x": {
             "color": "#2a3f5f"
            },
            "error_y": {
             "color": "#2a3f5f"
            },
            "marker": {
             "line": {
              "color": "#E5ECF6",
              "width": 0.5
             },
             "pattern": {
              "fillmode": "overlay",
              "size": 10,
              "solidity": 0.2
             }
            },
            "type": "bar"
           }
          ],
          "barpolar": [
           {
            "marker": {
             "line": {
              "color": "#E5ECF6",
              "width": 0.5
             },
             "pattern": {
              "fillmode": "overlay",
              "size": 10,
              "solidity": 0.2
             }
            },
            "type": "barpolar"
           }
          ],
          "carpet": [
           {
            "aaxis": {
             "endlinecolor": "#2a3f5f",
             "gridcolor": "white",
             "linecolor": "white",
             "minorgridcolor": "white",
             "startlinecolor": "#2a3f5f"
            },
            "baxis": {
             "endlinecolor": "#2a3f5f",
             "gridcolor": "white",
             "linecolor": "white",
             "minorgridcolor": "white",
             "startlinecolor": "#2a3f5f"
            },
            "type": "carpet"
           }
          ],
          "choropleth": [
           {
            "colorbar": {
             "outlinewidth": 0,
             "ticks": ""
            },
            "type": "choropleth"
           }
          ],
          "contour": [
           {
            "colorbar": {
             "outlinewidth": 0,
             "ticks": ""
            },
            "colorscale": [
             [
              0,
              "#0d0887"
             ],
             [
              0.1111111111111111,
              "#46039f"
             ],
             [
              0.2222222222222222,
              "#7201a8"
             ],
             [
              0.3333333333333333,
              "#9c179e"
             ],
             [
              0.4444444444444444,
              "#bd3786"
             ],
             [
              0.5555555555555556,
              "#d8576b"
             ],
             [
              0.6666666666666666,
              "#ed7953"
             ],
             [
              0.7777777777777778,
              "#fb9f3a"
             ],
             [
              0.8888888888888888,
              "#fdca26"
             ],
             [
              1,
              "#f0f921"
             ]
            ],
            "type": "contour"
           }
          ],
          "contourcarpet": [
           {
            "colorbar": {
             "outlinewidth": 0,
             "ticks": ""
            },
            "type": "contourcarpet"
           }
          ],
          "heatmap": [
           {
            "colorbar": {
             "outlinewidth": 0,
             "ticks": ""
            },
            "colorscale": [
             [
              0,
              "#0d0887"
             ],
             [
              0.1111111111111111,
              "#46039f"
             ],
             [
              0.2222222222222222,
              "#7201a8"
             ],
             [
              0.3333333333333333,
              "#9c179e"
             ],
             [
              0.4444444444444444,
              "#bd3786"
             ],
             [
              0.5555555555555556,
              "#d8576b"
             ],
             [
              0.6666666666666666,
              "#ed7953"
             ],
             [
              0.7777777777777778,
              "#fb9f3a"
             ],
             [
              0.8888888888888888,
              "#fdca26"
             ],
             [
              1,
              "#f0f921"
             ]
            ],
            "type": "heatmap"
           }
          ],
          "heatmapgl": [
           {
            "colorbar": {
             "outlinewidth": 0,
             "ticks": ""
            },
            "colorscale": [
             [
              0,
              "#0d0887"
             ],
             [
              0.1111111111111111,
              "#46039f"
             ],
             [
              0.2222222222222222,
              "#7201a8"
             ],
             [
              0.3333333333333333,
              "#9c179e"
             ],
             [
              0.4444444444444444,
              "#bd3786"
             ],
             [
              0.5555555555555556,
              "#d8576b"
             ],
             [
              0.6666666666666666,
              "#ed7953"
             ],
             [
              0.7777777777777778,
              "#fb9f3a"
             ],
             [
              0.8888888888888888,
              "#fdca26"
             ],
             [
              1,
              "#f0f921"
             ]
            ],
            "type": "heatmapgl"
           }
          ],
          "histogram": [
           {
            "marker": {
             "pattern": {
              "fillmode": "overlay",
              "size": 10,
              "solidity": 0.2
             }
            },
            "type": "histogram"
           }
          ],
          "histogram2d": [
           {
            "colorbar": {
             "outlinewidth": 0,
             "ticks": ""
            },
            "colorscale": [
             [
              0,
              "#0d0887"
             ],
             [
              0.1111111111111111,
              "#46039f"
             ],
             [
              0.2222222222222222,
              "#7201a8"
             ],
             [
              0.3333333333333333,
              "#9c179e"
             ],
             [
              0.4444444444444444,
              "#bd3786"
             ],
             [
              0.5555555555555556,
              "#d8576b"
             ],
             [
              0.6666666666666666,
              "#ed7953"
             ],
             [
              0.7777777777777778,
              "#fb9f3a"
             ],
             [
              0.8888888888888888,
              "#fdca26"
             ],
             [
              1,
              "#f0f921"
             ]
            ],
            "type": "histogram2d"
           }
          ],
          "histogram2dcontour": [
           {
            "colorbar": {
             "outlinewidth": 0,
             "ticks": ""
            },
            "colorscale": [
             [
              0,
              "#0d0887"
             ],
             [
              0.1111111111111111,
              "#46039f"
             ],
             [
              0.2222222222222222,
              "#7201a8"
             ],
             [
              0.3333333333333333,
              "#9c179e"
             ],
             [
              0.4444444444444444,
              "#bd3786"
             ],
             [
              0.5555555555555556,
              "#d8576b"
             ],
             [
              0.6666666666666666,
              "#ed7953"
             ],
             [
              0.7777777777777778,
              "#fb9f3a"
             ],
             [
              0.8888888888888888,
              "#fdca26"
             ],
             [
              1,
              "#f0f921"
             ]
            ],
            "type": "histogram2dcontour"
           }
          ],
          "mesh3d": [
           {
            "colorbar": {
             "outlinewidth": 0,
             "ticks": ""
            },
            "type": "mesh3d"
           }
          ],
          "parcoords": [
           {
            "line": {
             "colorbar": {
              "outlinewidth": 0,
              "ticks": ""
             }
            },
            "type": "parcoords"
           }
          ],
          "pie": [
           {
            "automargin": true,
            "type": "pie"
           }
          ],
          "scatter": [
           {
            "fillpattern": {
             "fillmode": "overlay",
             "size": 10,
             "solidity": 0.2
            },
            "type": "scatter"
           }
          ],
          "scatter3d": [
           {
            "line": {
             "colorbar": {
              "outlinewidth": 0,
              "ticks": ""
             }
            },
            "marker": {
             "colorbar": {
              "outlinewidth": 0,
              "ticks": ""
             }
            },
            "type": "scatter3d"
           }
          ],
          "scattercarpet": [
           {
            "marker": {
             "colorbar": {
              "outlinewidth": 0,
              "ticks": ""
             }
            },
            "type": "scattercarpet"
           }
          ],
          "scattergeo": [
           {
            "marker": {
             "colorbar": {
              "outlinewidth": 0,
              "ticks": ""
             }
            },
            "type": "scattergeo"
           }
          ],
          "scattergl": [
           {
            "marker": {
             "colorbar": {
              "outlinewidth": 0,
              "ticks": ""
             }
            },
            "type": "scattergl"
           }
          ],
          "scattermapbox": [
           {
            "marker": {
             "colorbar": {
              "outlinewidth": 0,
              "ticks": ""
             }
            },
            "type": "scattermapbox"
           }
          ],
          "scatterpolar": [
           {
            "marker": {
             "colorbar": {
              "outlinewidth": 0,
              "ticks": ""
             }
            },
            "type": "scatterpolar"
           }
          ],
          "scatterpolargl": [
           {
            "marker": {
             "colorbar": {
              "outlinewidth": 0,
              "ticks": ""
             }
            },
            "type": "scatterpolargl"
           }
          ],
          "scatterternary": [
           {
            "marker": {
             "colorbar": {
              "outlinewidth": 0,
              "ticks": ""
             }
            },
            "type": "scatterternary"
           }
          ],
          "surface": [
           {
            "colorbar": {
             "outlinewidth": 0,
             "ticks": ""
            },
            "colorscale": [
             [
              0,
              "#0d0887"
             ],
             [
              0.1111111111111111,
              "#46039f"
             ],
             [
              0.2222222222222222,
              "#7201a8"
             ],
             [
              0.3333333333333333,
              "#9c179e"
             ],
             [
              0.4444444444444444,
              "#bd3786"
             ],
             [
              0.5555555555555556,
              "#d8576b"
             ],
             [
              0.6666666666666666,
              "#ed7953"
             ],
             [
              0.7777777777777778,
              "#fb9f3a"
             ],
             [
              0.8888888888888888,
              "#fdca26"
             ],
             [
              1,
              "#f0f921"
             ]
            ],
            "type": "surface"
           }
          ],
          "table": [
           {
            "cells": {
             "fill": {
              "color": "#EBF0F8"
             },
             "line": {
              "color": "white"
             }
            },
            "header": {
             "fill": {
              "color": "#C8D4E3"
             },
             "line": {
              "color": "white"
             }
            },
            "type": "table"
           }
          ]
         },
         "layout": {
          "annotationdefaults": {
           "arrowcolor": "#2a3f5f",
           "arrowhead": 0,
           "arrowwidth": 1
          },
          "autotypenumbers": "strict",
          "coloraxis": {
           "colorbar": {
            "outlinewidth": 0,
            "ticks": ""
           }
          },
          "colorscale": {
           "diverging": [
            [
             0,
             "#8e0152"
            ],
            [
             0.1,
             "#c51b7d"
            ],
            [
             0.2,
             "#de77ae"
            ],
            [
             0.3,
             "#f1b6da"
            ],
            [
             0.4,
             "#fde0ef"
            ],
            [
             0.5,
             "#f7f7f7"
            ],
            [
             0.6,
             "#e6f5d0"
            ],
            [
             0.7,
             "#b8e186"
            ],
            [
             0.8,
             "#7fbc41"
            ],
            [
             0.9,
             "#4d9221"
            ],
            [
             1,
             "#276419"
            ]
           ],
           "sequential": [
            [
             0,
             "#0d0887"
            ],
            [
             0.1111111111111111,
             "#46039f"
            ],
            [
             0.2222222222222222,
             "#7201a8"
            ],
            [
             0.3333333333333333,
             "#9c179e"
            ],
            [
             0.4444444444444444,
             "#bd3786"
            ],
            [
             0.5555555555555556,
             "#d8576b"
            ],
            [
             0.6666666666666666,
             "#ed7953"
            ],
            [
             0.7777777777777778,
             "#fb9f3a"
            ],
            [
             0.8888888888888888,
             "#fdca26"
            ],
            [
             1,
             "#f0f921"
            ]
           ],
           "sequentialminus": [
            [
             0,
             "#0d0887"
            ],
            [
             0.1111111111111111,
             "#46039f"
            ],
            [
             0.2222222222222222,
             "#7201a8"
            ],
            [
             0.3333333333333333,
             "#9c179e"
            ],
            [
             0.4444444444444444,
             "#bd3786"
            ],
            [
             0.5555555555555556,
             "#d8576b"
            ],
            [
             0.6666666666666666,
             "#ed7953"
            ],
            [
             0.7777777777777778,
             "#fb9f3a"
            ],
            [
             0.8888888888888888,
             "#fdca26"
            ],
            [
             1,
             "#f0f921"
            ]
           ]
          },
          "colorway": [
           "#636efa",
           "#EF553B",
           "#00cc96",
           "#ab63fa",
           "#FFA15A",
           "#19d3f3",
           "#FF6692",
           "#B6E880",
           "#FF97FF",
           "#FECB52"
          ],
          "font": {
           "color": "#2a3f5f"
          },
          "geo": {
           "bgcolor": "white",
           "lakecolor": "white",
           "landcolor": "#E5ECF6",
           "showlakes": true,
           "showland": true,
           "subunitcolor": "white"
          },
          "hoverlabel": {
           "align": "left"
          },
          "hovermode": "closest",
          "mapbox": {
           "style": "light"
          },
          "paper_bgcolor": "white",
          "plot_bgcolor": "#E5ECF6",
          "polar": {
           "angularaxis": {
            "gridcolor": "white",
            "linecolor": "white",
            "ticks": ""
           },
           "bgcolor": "#E5ECF6",
           "radialaxis": {
            "gridcolor": "white",
            "linecolor": "white",
            "ticks": ""
           }
          },
          "scene": {
           "xaxis": {
            "backgroundcolor": "#E5ECF6",
            "gridcolor": "white",
            "gridwidth": 2,
            "linecolor": "white",
            "showbackground": true,
            "ticks": "",
            "zerolinecolor": "white"
           },
           "yaxis": {
            "backgroundcolor": "#E5ECF6",
            "gridcolor": "white",
            "gridwidth": 2,
            "linecolor": "white",
            "showbackground": true,
            "ticks": "",
            "zerolinecolor": "white"
           },
           "zaxis": {
            "backgroundcolor": "#E5ECF6",
            "gridcolor": "white",
            "gridwidth": 2,
            "linecolor": "white",
            "showbackground": true,
            "ticks": "",
            "zerolinecolor": "white"
           }
          },
          "shapedefaults": {
           "line": {
            "color": "#2a3f5f"
           }
          },
          "ternary": {
           "aaxis": {
            "gridcolor": "white",
            "linecolor": "white",
            "ticks": ""
           },
           "baxis": {
            "gridcolor": "white",
            "linecolor": "white",
            "ticks": ""
           },
           "bgcolor": "#E5ECF6",
           "caxis": {
            "gridcolor": "white",
            "linecolor": "white",
            "ticks": ""
           }
          },
          "title": {
           "x": 0.05
          },
          "xaxis": {
           "automargin": true,
           "gridcolor": "white",
           "linecolor": "white",
           "ticks": "",
           "title": {
            "standoff": 15
           },
           "zerolinecolor": "white",
           "zerolinewidth": 2
          },
          "yaxis": {
           "automargin": true,
           "gridcolor": "white",
           "linecolor": "white",
           "ticks": "",
           "title": {
            "standoff": 15
           },
           "zerolinecolor": "white",
           "zerolinewidth": 2
          }
         }
        },
        "title": {
         "text": "Slice Plot"
        },
        "xaxis": {
         "anchor": "y",
         "categoryarray": [
          "scale",
          "auto"
         ],
         "categoryorder": "array",
         "domain": [
          0,
          0.2888888888888889
         ],
         "title": {
          "text": "gamma"
         },
         "type": "category"
        },
        "xaxis2": {
         "anchor": "y2",
         "categoryarray": [
          "linear",
          "poly",
          "rbf",
          "sigmoid"
         ],
         "categoryorder": "array",
         "domain": [
          0.35555555555555557,
          0.6444444444444445
         ],
         "title": {
          "text": "kernel"
         },
         "type": "category"
        },
        "xaxis3": {
         "anchor": "y3",
         "domain": [
          0.7111111111111111,
          1
         ],
         "title": {
          "text": "nu"
         },
         "type": "log"
        },
        "yaxis": {
         "anchor": "x",
         "domain": [
          0,
          1
         ],
         "title": {
          "text": "Objective Value"
         }
        },
        "yaxis2": {
         "anchor": "x2",
         "domain": [
          0,
          1
         ],
         "matches": "y",
         "showticklabels": false
        },
        "yaxis3": {
         "anchor": "x3",
         "domain": [
          0,
          1
         ],
         "matches": "y",
         "showticklabels": false
        }
       }
      }
     },
     "metadata": {},
     "output_type": "display_data"
    }
   ],
   "source": [
    "optuna.visualization.plot_slice(study)"
   ]
  },
  {
   "cell_type": "code",
   "execution_count": 14,
   "metadata": {},
   "outputs": [
    {
     "name": "stdout",
     "output_type": "stream",
     "text": [
      "Accuracy: 0.8349\n",
      "AUC-ROC: 0.9149\n"
     ]
    },
    {
     "data": {
      "text/plain": [
       "1.2470144186364008e-05"
      ]
     },
     "execution_count": 14,
     "metadata": {},
     "output_type": "execute_result"
    }
   ],
   "source": [
    "# Criando um modelo com os melhores hiperparâmetros\n",
    "best_params = trial.params\n",
    "model = svm.NuSVC(random_state=Random_Seed, probability=True, **best_params)\n",
    "\n",
    "if Cross_Validation:\n",
    "    cv_results = cross_validate(model, X, y, scoring=['accuracy', 'roc_auc'])\n",
    "    acc = cv_results['test_accuracy'].mean()\n",
    "    roc_auc = cv_results['test_roc_auc'].mean()\n",
    "else:\n",
    "    # Train model\n",
    "    model.fit(train_X, train_y)\n",
    "\n",
    "    # Test model\n",
    "    y_pred = model.predict(test_X)\n",
    "    pred_probs = model.predict_proba(test_X)\n",
    "\n",
    "    # Evaluation\n",
    "    acc = accuracy_score(test_y, y_pred)\n",
    "    roc_auc = roc_auc_score(test_y, pred_probs[:, 1])\n",
    "\n",
    "print(f\"Accuracy: {acc:.4f}\")\n",
    "print(f\"AUC-ROC: {roc_auc:.4f}\")\n",
    "\n",
    "tracker.stop()"
   ]
  },
  {
   "attachments": {},
   "cell_type": "markdown",
   "metadata": {},
   "source": [
    "<hr>\n",
    "\n",
    "### LinearSVC classification SVM implementation:"
   ]
  },
  {
   "cell_type": "code",
   "execution_count": 15,
   "metadata": {},
   "outputs": [
    {
     "name": "stderr",
     "output_type": "stream",
     "text": [
      "[codecarbon WARNING @ 18:22:28] No CPU tracking mode found. Falling back on CPU constant mode. \n",
      " Linux OS detected: Please ensure RAPL files exist at \\sys\\class\\powercap\\intel-rapl to measure CPU\n",
      "\n"
     ]
    },
    {
     "name": "stdout",
     "output_type": "stream",
     "text": [
      "Accuracy: 0.8415\n",
      "AUC-ROC: 0.9191\n"
     ]
    },
    {
     "data": {
      "text/plain": [
       "1.245174240076708e-08"
      ]
     },
     "execution_count": 15,
     "metadata": {},
     "output_type": "execute_result"
    }
   ],
   "source": [
    "# ---------------------------------------------------------------------------- #\n",
    "#                                     MODEL                                    #\n",
    "# ---------------------------------------------------------------------------- #\n",
    "# Initiate CodeCarbon to track emissions\n",
    "tracker = EmissionsTracker('LinearSVC SVM model', log_level='warning')\n",
    "tracker.start()\n",
    "\n",
    "# Create model\n",
    "model = svm.LinearSVC(random_state=Random_Seed, dual=False)\n",
    "\n",
    "if Cross_Validation:\n",
    "    cv_results = cross_validate(model, X, y, scoring=['accuracy', 'roc_auc'])\n",
    "    acc = cv_results['test_accuracy'].mean()\n",
    "    roc_auc = cv_results['test_roc_auc'].mean()\n",
    "else:\n",
    "    # Train model\n",
    "    model.fit(train_X, train_y)\n",
    "\n",
    "    # Test model\n",
    "    y_pred = model.predict(test_X)\n",
    "    # This module does not have a manual way to access probability\n",
    "    # pred_probs = model.predict_proba(test_X)\n",
    "\n",
    "    # Evaluation\n",
    "    acc = accuracy_score(test_y, y_pred)\n",
    "    # roc_auc = roc_auc_score(test_y, pred_probs[:, 1])\n",
    "\n",
    "print(f\"Accuracy: {acc:.4f}\")\n",
    "print(f\"AUC-ROC: {roc_auc:.4f}\")\n",
    "\n",
    "tracker.stop()"
   ]
  },
  {
   "cell_type": "code",
   "execution_count": 16,
   "metadata": {},
   "outputs": [
    {
     "name": "stderr",
     "output_type": "stream",
     "text": [
      "[codecarbon WARNING @ 18:22:33] No CPU tracking mode found. Falling back on CPU constant mode. \n",
      " Linux OS detected: Please ensure RAPL files exist at \\sys\\class\\powercap\\intel-rapl to measure CPU\n",
      "\n",
      "/tmp/ipykernel_17731/174115968.py:23: ExperimentalWarning:\n",
      "\n",
      "GPSampler is experimental (supported from v3.6.0). The interface can change in the future.\n",
      "\n",
      "[I 2024-10-21 18:22:38,655] A new study created in memory with name: no-name-723d6e5d-e6a9-4153-8134-2279fa257320\n",
      "[I 2024-10-21 18:22:38,680] Trial 0 finished with value: 0.9190558862433862 and parameters: {'C': 2.190249224731862, 'max_iter': 2261}. Best is trial 0 with value: 0.9190558862433862.\n",
      "[I 2024-10-21 18:22:38,695] Trial 1 finished with value: 0.9105406746031747 and parameters: {'C': 5.348098646664268e-05, 'max_iter': 8408}. Best is trial 0 with value: 0.9190558862433862.\n",
      "[I 2024-10-21 18:22:38,711] Trial 2 finished with value: 0.9130621693121693 and parameters: {'C': 0.0015464246419894343, 'max_iter': 4994}. Best is trial 0 with value: 0.9190558862433862.\n",
      "[I 2024-10-21 18:22:38,727] Trial 3 finished with value: 0.9165178571428572 and parameters: {'C': 0.06606606114677777, 'max_iter': 9829}. Best is trial 0 with value: 0.9190558862433862.\n",
      "[I 2024-10-21 18:22:38,744] Trial 4 finished with value: 0.9188244047619047 and parameters: {'C': 98.5149489209632, 'max_iter': 5136}. Best is trial 0 with value: 0.9190558862433862.\n",
      "[I 2024-10-21 18:22:38,761] Trial 5 finished with value: 0.9164847883597883 and parameters: {'C': 0.018871459403607183, 'max_iter': 9918}. Best is trial 0 with value: 0.9190558862433862.\n",
      "[I 2024-10-21 18:22:38,778] Trial 6 finished with value: 0.9132771164021163 and parameters: {'C': 0.0009332960187050148, 'max_iter': 9634}. Best is trial 0 with value: 0.9190558862433862.\n",
      "[I 2024-10-21 18:22:38,794] Trial 7 finished with value: 0.9165178571428572 and parameters: {'C': 0.0700703743883885, 'max_iter': 724}. Best is trial 0 with value: 0.9190558862433862.\n",
      "[I 2024-10-21 18:22:38,811] Trial 8 finished with value: 0.9130456349206348 and parameters: {'C': 0.0008813040762728328, 'max_iter': 8471}. Best is trial 0 with value: 0.9190558862433862.\n",
      "[I 2024-10-21 18:22:38,830] Trial 9 finished with value: 0.9190558862433862 and parameters: {'C': 1.7522417212282833, 'max_iter': 5655}. Best is trial 0 with value: 0.9190558862433862.\n",
      "[I 2024-10-21 18:22:39,180] Trial 10 finished with value: 0.9188244047619047 and parameters: {'C': 18.38907435618406, 'max_iter': 100}. Best is trial 0 with value: 0.9190558862433862.\n",
      "[I 2024-10-21 18:22:39,540] Trial 11 finished with value: 0.9188244047619047 and parameters: {'C': 14.393184740286861, 'max_iter': 10000}. Best is trial 0 with value: 0.9190558862433862.\n",
      "[I 2024-10-21 18:22:39,799] Trial 12 finished with value: 0.9188244047619047 and parameters: {'C': 9.164492979770525, 'max_iter': 4670}. Best is trial 0 with value: 0.9190558862433862.\n",
      "[I 2024-10-21 18:22:40,047] Trial 13 finished with value: 0.9188244047619047 and parameters: {'C': 8.825836020339858, 'max_iter': 4486}. Best is trial 0 with value: 0.9190558862433862.\n",
      "[I 2024-10-21 18:22:40,314] Trial 14 finished with value: 0.9188244047619047 and parameters: {'C': 100.0, 'max_iter': 100}. Best is trial 0 with value: 0.9190558862433862.\n",
      "[I 2024-10-21 18:22:40,626] Trial 15 finished with value: 0.9188244047619047 and parameters: {'C': 100.0, 'max_iter': 10000}. Best is trial 0 with value: 0.9190558862433862.\n",
      "[I 2024-10-21 18:22:41,028] Trial 16 finished with value: 0.9190558862433862 and parameters: {'C': 2.715447527354805, 'max_iter': 10000}. Best is trial 0 with value: 0.9190558862433862.\n",
      "[I 2024-10-21 18:22:41,491] Trial 17 finished with value: 0.9190558862433862 and parameters: {'C': 2.3686292002892997, 'max_iter': 6161}. Best is trial 0 with value: 0.9190558862433862.\n",
      "[I 2024-10-21 18:22:41,842] Trial 18 finished with value: 0.9190558862433862 and parameters: {'C': 1.5716942080515865, 'max_iter': 100}. Best is trial 0 with value: 0.9190558862433862.\n",
      "[I 2024-10-21 18:22:42,383] Trial 19 finished with value: 0.9190558862433862 and parameters: {'C': 2.0811210809364646, 'max_iter': 10000}. Best is trial 0 with value: 0.9190558862433862.\n",
      "[I 2024-10-21 18:22:43,270] Trial 20 finished with value: 0.9190558862433862 and parameters: {'C': 1.8564549657331912, 'max_iter': 2296}. Best is trial 0 with value: 0.9190558862433862.\n",
      "[I 2024-10-21 18:22:44,212] Trial 21 finished with value: 0.9190558862433862 and parameters: {'C': 1.9618053282234498, 'max_iter': 100}. Best is trial 0 with value: 0.9190558862433862.\n",
      "[I 2024-10-21 18:22:45,691] Trial 22 finished with value: 0.9190558862433862 and parameters: {'C': 2.0806046905180775, 'max_iter': 6696}. Best is trial 0 with value: 0.9190558862433862.\n",
      "[I 2024-10-21 18:22:46,141] Trial 23 finished with value: 0.9190558862433862 and parameters: {'C': 2.382231167009283, 'max_iter': 10000}. Best is trial 0 with value: 0.9190558862433862.\n",
      "[I 2024-10-21 18:22:46,648] Trial 24 finished with value: 0.9190558862433862 and parameters: {'C': 2.0012348830648103, 'max_iter': 4456}. Best is trial 0 with value: 0.9190558862433862.\n",
      "[I 2024-10-21 18:22:47,146] Trial 25 finished with value: 0.9188244047619047 and parameters: {'C': 45.699885226118646, 'max_iter': 10000}. Best is trial 0 with value: 0.9190558862433862.\n",
      "[I 2024-10-21 18:22:47,707] Trial 26 finished with value: 0.9190558862433862 and parameters: {'C': 1.7638847416154233, 'max_iter': 100}. Best is trial 0 with value: 0.9190558862433862.\n",
      "[I 2024-10-21 18:22:48,227] Trial 27 finished with value: 0.918832671957672 and parameters: {'C': 1.3223603662655052, 'max_iter': 10000}. Best is trial 0 with value: 0.9190558862433862.\n",
      "[I 2024-10-21 18:22:48,904] Trial 28 finished with value: 0.9190558862433862 and parameters: {'C': 3.0842813710771573, 'max_iter': 100}. Best is trial 0 with value: 0.9190558862433862.\n",
      "[I 2024-10-21 18:22:49,605] Trial 29 finished with value: 0.9190558862433862 and parameters: {'C': 2.636972386096101, 'max_iter': 100}. Best is trial 0 with value: 0.9190558862433862.\n",
      "[I 2024-10-21 18:22:51,284] Trial 30 finished with value: 0.9190558862433862 and parameters: {'C': 2.2742602018852125, 'max_iter': 8714}. Best is trial 0 with value: 0.9190558862433862.\n",
      "[I 2024-10-21 18:22:52,566] Trial 31 finished with value: 0.9190558862433862 and parameters: {'C': 1.9818647224053583, 'max_iter': 5268}. Best is trial 0 with value: 0.9190558862433862.\n",
      "[I 2024-10-21 18:22:53,325] Trial 32 finished with value: 0.9190558862433862 and parameters: {'C': 3.0283907406248893, 'max_iter': 3269}. Best is trial 0 with value: 0.9190558862433862.\n",
      "[I 2024-10-21 18:22:53,925] Trial 33 finished with value: 0.9188244047619047 and parameters: {'C': 3.888747108846296, 'max_iter': 10000}. Best is trial 0 with value: 0.9190558862433862.\n",
      "[I 2024-10-21 18:22:54,530] Trial 34 finished with value: 0.9190558862433862 and parameters: {'C': 2.7211553491552594, 'max_iter': 4423}. Best is trial 0 with value: 0.9190558862433862.\n",
      "[I 2024-10-21 18:22:55,184] Trial 35 finished with value: 0.9188244047619047 and parameters: {'C': 51.094291957720905, 'max_iter': 100}. Best is trial 0 with value: 0.9190558862433862.\n",
      "[I 2024-10-21 18:22:55,927] Trial 36 finished with value: 0.9190558862433862 and parameters: {'C': 2.5957939010705395, 'max_iter': 8459}. Best is trial 0 with value: 0.9190558862433862.\n",
      "[I 2024-10-21 18:22:56,670] Trial 37 finished with value: 0.9190558862433862 and parameters: {'C': 2.841128596000898, 'max_iter': 1912}. Best is trial 0 with value: 0.9190558862433862.\n",
      "[I 2024-10-21 18:22:57,202] Trial 38 finished with value: 0.9185929232804233 and parameters: {'C': 0.5148018415370789, 'max_iter': 100}. Best is trial 0 with value: 0.9190558862433862.\n",
      "[I 2024-10-21 18:22:58,466] Trial 39 finished with value: 0.918832671957672 and parameters: {'C': 1.13957725713066, 'max_iter': 100}. Best is trial 0 with value: 0.9190558862433862.\n",
      "[I 2024-10-21 18:22:59,028] Trial 40 finished with value: 0.9185929232804233 and parameters: {'C': 0.2602687862333301, 'max_iter': 100}. Best is trial 0 with value: 0.9190558862433862.\n",
      "[I 2024-10-21 18:22:59,772] Trial 41 finished with value: 0.9190558862433862 and parameters: {'C': 1.668164064249858, 'max_iter': 100}. Best is trial 0 with value: 0.9190558862433862.\n",
      "[I 2024-10-21 18:23:00,786] Trial 42 finished with value: 0.9183614417989417 and parameters: {'C': 0.32148563293891086, 'max_iter': 10000}. Best is trial 0 with value: 0.9190558862433862.\n",
      "[I 2024-10-21 18:23:01,384] Trial 43 finished with value: 0.9190558862433862 and parameters: {'C': 1.696103550531118, 'max_iter': 2304}. Best is trial 0 with value: 0.9190558862433862.\n",
      "[I 2024-10-21 18:23:01,973] Trial 44 finished with value: 0.9190558862433862 and parameters: {'C': 1.864880915844896, 'max_iter': 5735}. Best is trial 0 with value: 0.9190558862433862.\n",
      "[I 2024-10-21 18:23:02,730] Trial 45 finished with value: 0.9190558862433862 and parameters: {'C': 2.266182327567004, 'max_iter': 100}. Best is trial 0 with value: 0.9190558862433862.\n",
      "[I 2024-10-21 18:23:03,438] Trial 46 finished with value: 0.9188244047619047 and parameters: {'C': 26.627616761472346, 'max_iter': 10000}. Best is trial 0 with value: 0.9190558862433862.\n",
      "[I 2024-10-21 18:23:03,917] Trial 47 finished with value: 0.9190558862433862 and parameters: {'C': 2.5393463937201157, 'max_iter': 9996}. Best is trial 0 with value: 0.9190558862433862.\n",
      "[I 2024-10-21 18:23:04,975] Trial 48 finished with value: 0.9190558862433862 and parameters: {'C': 2.923876895586436, 'max_iter': 101}. Best is trial 0 with value: 0.9190558862433862.\n",
      "[I 2024-10-21 18:23:05,897] Trial 49 finished with value: 0.9190558862433862 and parameters: {'C': 2.7316577040275045, 'max_iter': 6698}. Best is trial 0 with value: 0.9190558862433862.\n",
      "[I 2024-10-21 18:23:06,691] Trial 50 finished with value: 0.9190558862433862 and parameters: {'C': 1.8133058665010982, 'max_iter': 4362}. Best is trial 0 with value: 0.9190558862433862.\n",
      "[I 2024-10-21 18:23:07,365] Trial 51 finished with value: 0.9190558862433862 and parameters: {'C': 1.663755550181638, 'max_iter': 100}. Best is trial 0 with value: 0.9190558862433862.\n",
      "[I 2024-10-21 18:23:08,397] Trial 52 finished with value: 0.9190558862433862 and parameters: {'C': 2.8911966744776714, 'max_iter': 2476}. Best is trial 0 with value: 0.9190558862433862.\n",
      "[I 2024-10-21 18:23:09,386] Trial 53 finished with value: 0.9190558862433862 and parameters: {'C': 1.968491224214216, 'max_iter': 7741}. Best is trial 0 with value: 0.9190558862433862.\n",
      "[I 2024-10-21 18:23:10,376] Trial 54 finished with value: 0.9190558862433862 and parameters: {'C': 2.595075589133276, 'max_iter': 9084}. Best is trial 0 with value: 0.9190558862433862.\n",
      "[I 2024-10-21 18:23:11,242] Trial 55 finished with value: 0.9190558862433862 and parameters: {'C': 2.8521397040914813, 'max_iter': 3728}. Best is trial 0 with value: 0.9190558862433862.\n",
      "[I 2024-10-21 18:23:11,817] Trial 56 finished with value: 0.9190558862433862 and parameters: {'C': 1.6605057697688483, 'max_iter': 101}. Best is trial 0 with value: 0.9190558862433862.\n",
      "[I 2024-10-21 18:23:12,294] Trial 57 finished with value: 0.9103174603174603 and parameters: {'C': 1e-05, 'max_iter': 100}. Best is trial 0 with value: 0.9190558862433862.\n",
      "[I 2024-10-21 18:23:13,176] Trial 58 finished with value: 0.9190558862433862 and parameters: {'C': 2.5307292752785666, 'max_iter': 9961}. Best is trial 0 with value: 0.9190558862433862.\n",
      "[I 2024-10-21 18:23:14,271] Trial 59 finished with value: 0.9190558862433862 and parameters: {'C': 1.8385221494295283, 'max_iter': 4721}. Best is trial 0 with value: 0.9190558862433862.\n",
      "[I 2024-10-21 18:23:15,079] Trial 60 finished with value: 0.9190558862433862 and parameters: {'C': 2.406333731304189, 'max_iter': 2116}. Best is trial 0 with value: 0.9190558862433862.\n",
      "[I 2024-10-21 18:23:15,967] Trial 61 finished with value: 0.9190558862433862 and parameters: {'C': 1.6991375246206006, 'max_iter': 107}. Best is trial 0 with value: 0.9190558862433862.\n",
      "[I 2024-10-21 18:23:16,875] Trial 62 finished with value: 0.9190558862433862 and parameters: {'C': 2.173287487868139, 'max_iter': 102}. Best is trial 0 with value: 0.9190558862433862.\n",
      "[I 2024-10-21 18:23:17,485] Trial 63 finished with value: 0.9190558862433862 and parameters: {'C': 2.9227856283376163, 'max_iter': 1592}. Best is trial 0 with value: 0.9190558862433862.\n",
      "[I 2024-10-21 18:23:18,375] Trial 64 finished with value: 0.9190558862433862 and parameters: {'C': 2.629549776602093, 'max_iter': 8011}. Best is trial 0 with value: 0.9190558862433862.\n",
      "[I 2024-10-21 18:23:19,360] Trial 65 finished with value: 0.9188244047619047 and parameters: {'C': 3.534195169806528, 'max_iter': 100}. Best is trial 0 with value: 0.9190558862433862.\n",
      "[I 2024-10-21 18:23:19,890] Trial 66 finished with value: 0.9188244047619047 and parameters: {'C': 8.155884644097256, 'max_iter': 10000}. Best is trial 0 with value: 0.9190558862433862.\n",
      "[I 2024-10-21 18:23:20,429] Trial 67 finished with value: 0.9188244047619047 and parameters: {'C': 68.75626163187125, 'max_iter': 10000}. Best is trial 0 with value: 0.9190558862433862.\n",
      "[I 2024-10-21 18:23:20,905] Trial 68 finished with value: 0.9188078703703704 and parameters: {'C': 0.1647130441673007, 'max_iter': 10000}. Best is trial 0 with value: 0.9190558862433862.\n",
      "[I 2024-10-21 18:23:21,323] Trial 69 finished with value: 0.9188244047619047 and parameters: {'C': 32.6808984459777, 'max_iter': 100}. Best is trial 0 with value: 0.9190558862433862.\n",
      "[I 2024-10-21 18:23:21,913] Trial 70 finished with value: 0.9146329365079365 and parameters: {'C': 0.007560056282488656, 'max_iter': 10000}. Best is trial 0 with value: 0.9190558862433862.\n",
      "[I 2024-10-21 18:23:22,425] Trial 71 finished with value: 0.9190558862433862 and parameters: {'C': 3.017824255191563, 'max_iter': 10000}. Best is trial 0 with value: 0.9190558862433862.\n",
      "[I 2024-10-21 18:23:22,938] Trial 72 finished with value: 0.9188078703703704 and parameters: {'C': 0.165867861065963, 'max_iter': 100}. Best is trial 0 with value: 0.9190558862433862.\n",
      "[I 2024-10-21 18:23:23,619] Trial 73 finished with value: 0.9190558862433862 and parameters: {'C': 2.9758526857664203, 'max_iter': 100}. Best is trial 0 with value: 0.9190558862433862.\n",
      "[I 2024-10-21 18:23:24,410] Trial 74 finished with value: 0.9190558862433862 and parameters: {'C': 1.8394136803265495, 'max_iter': 10000}. Best is trial 0 with value: 0.9190558862433862.\n",
      "[I 2024-10-21 18:23:25,160] Trial 75 finished with value: 0.9190558862433862 and parameters: {'C': 2.9013395178267984, 'max_iter': 9998}. Best is trial 0 with value: 0.9190558862433862.\n",
      "[I 2024-10-21 18:23:25,998] Trial 76 finished with value: 0.9190558862433862 and parameters: {'C': 2.9818483793418653, 'max_iter': 612}. Best is trial 0 with value: 0.9190558862433862.\n",
      "[I 2024-10-21 18:23:26,669] Trial 77 finished with value: 0.9190558862433862 and parameters: {'C': 2.983581770755298, 'max_iter': 640}. Best is trial 0 with value: 0.9190558862433862.\n",
      "[I 2024-10-21 18:23:27,391] Trial 78 finished with value: 0.9190558862433862 and parameters: {'C': 2.94255566020488, 'max_iter': 5997}. Best is trial 0 with value: 0.9190558862433862.\n",
      "[I 2024-10-21 18:23:28,122] Trial 79 finished with value: 0.9190558862433862 and parameters: {'C': 2.9833242870250456, 'max_iter': 827}. Best is trial 0 with value: 0.9190558862433862.\n",
      "[I 2024-10-21 18:23:28,909] Trial 80 finished with value: 0.9190558862433862 and parameters: {'C': 2.4735563858797662, 'max_iter': 111}. Best is trial 0 with value: 0.9190558862433862.\n",
      "[I 2024-10-21 18:23:29,721] Trial 81 finished with value: 0.9190558862433862 and parameters: {'C': 2.539867121527515, 'max_iter': 4306}. Best is trial 0 with value: 0.9190558862433862.\n",
      "[I 2024-10-21 18:23:30,620] Trial 82 finished with value: 0.9190558862433862 and parameters: {'C': 1.9355285581457164, 'max_iter': 10000}. Best is trial 0 with value: 0.9190558862433862.\n",
      "[I 2024-10-21 18:23:31,683] Trial 83 finished with value: 0.9190558862433862 and parameters: {'C': 2.983714394808596, 'max_iter': 123}. Best is trial 0 with value: 0.9190558862433862.\n",
      "[I 2024-10-21 18:23:32,583] Trial 84 finished with value: 0.9190558862433862 and parameters: {'C': 2.982515594683768, 'max_iter': 1915}. Best is trial 0 with value: 0.9190558862433862.\n",
      "[I 2024-10-21 18:23:33,428] Trial 85 finished with value: 0.9190558862433862 and parameters: {'C': 2.065909118250574, 'max_iter': 110}. Best is trial 0 with value: 0.9190558862433862.\n",
      "[I 2024-10-21 18:23:34,209] Trial 86 finished with value: 0.9190558862433862 and parameters: {'C': 1.8500289792818516, 'max_iter': 8044}. Best is trial 0 with value: 0.9190558862433862.\n",
      "[I 2024-10-21 18:23:34,960] Trial 87 finished with value: 0.9190558862433862 and parameters: {'C': 2.974938313023462, 'max_iter': 122}. Best is trial 0 with value: 0.9190558862433862.\n",
      "[I 2024-10-21 18:23:35,715] Trial 88 finished with value: 0.9190558862433862 and parameters: {'C': 2.1974389646917207, 'max_iter': 5718}. Best is trial 0 with value: 0.9190558862433862.\n",
      "[I 2024-10-21 18:23:36,542] Trial 89 finished with value: 0.9190558862433862 and parameters: {'C': 2.188914604803446, 'max_iter': 9976}. Best is trial 0 with value: 0.9190558862433862.\n",
      "[I 2024-10-21 18:23:37,477] Trial 90 finished with value: 0.9190558862433862 and parameters: {'C': 2.9845286246995584, 'max_iter': 1877}. Best is trial 0 with value: 0.9190558862433862.\n",
      "[I 2024-10-21 18:23:38,158] Trial 91 finished with value: 0.9190558862433862 and parameters: {'C': 1.6150801078759345, 'max_iter': 101}. Best is trial 0 with value: 0.9190558862433862.\n",
      "[I 2024-10-21 18:23:39,020] Trial 92 finished with value: 0.9190558862433862 and parameters: {'C': 2.079388528611059, 'max_iter': 2812}. Best is trial 0 with value: 0.9190558862433862.\n",
      "[I 2024-10-21 18:23:39,797] Trial 93 finished with value: 0.9188244047619047 and parameters: {'C': 13.140653098776585, 'max_iter': 100}. Best is trial 0 with value: 0.9190558862433862.\n",
      "[I 2024-10-21 18:23:40,603] Trial 94 finished with value: 0.9190558862433862 and parameters: {'C': 2.4907311114303385, 'max_iter': 6965}. Best is trial 0 with value: 0.9190558862433862.\n",
      "[I 2024-10-21 18:23:41,354] Trial 95 finished with value: 0.9190558862433862 and parameters: {'C': 2.934338199393317, 'max_iter': 9981}. Best is trial 0 with value: 0.9190558862433862.\n",
      "[I 2024-10-21 18:23:42,134] Trial 96 finished with value: 0.9190558862433862 and parameters: {'C': 2.9831188571192895, 'max_iter': 773}. Best is trial 0 with value: 0.9190558862433862.\n",
      "[I 2024-10-21 18:23:43,021] Trial 97 finished with value: 0.9190558862433862 and parameters: {'C': 2.5775052799648455, 'max_iter': 3327}. Best is trial 0 with value: 0.9190558862433862.\n",
      "[I 2024-10-21 18:23:43,683] Trial 98 finished with value: 0.9190558862433862 and parameters: {'C': 1.762682244314928, 'max_iter': 3518}. Best is trial 0 with value: 0.9190558862433862.\n",
      "[I 2024-10-21 18:23:44,407] Trial 99 finished with value: 0.9190558862433862 and parameters: {'C': 2.29357187241384, 'max_iter': 3463}. Best is trial 0 with value: 0.9190558862433862.\n"
     ]
    }
   ],
   "source": [
    "# ---------------------------------------------------------------------------- #\n",
    "#                                 OPTIMIZATION                                 #\n",
    "# ---------------------------------------------------------------------------- #\n",
    "# Initiate CodeCarbon to track emissions\n",
    "tracker = EmissionsTracker('LinearSVC SVM optimization', log_level='warning')\n",
    "tracker.start()\n",
    "\n",
    "# Objective function\n",
    "def objective(trial):\n",
    "    # Sugestão de hiperparâmetros para otimização\n",
    "    C = trial.suggest_float('C', 1e-5, 1e2, log=True)  # Valor do parâmetro de regularização C\n",
    "    max_iter = trial.suggest_int('max_iter', 100, 10000)  # Número máximo de iterações\n",
    "\n",
    "    # Criando o pipeline com padronização e o modelo LinearSVC\n",
    "    clf = Pipeline([\n",
    "        ('scaler', StandardScaler()),  # Padronizando os dados\n",
    "        ('svc', sklearn.svm.LinearSVC(C=C, max_iter=max_iter, dual=False))\n",
    "    ])\n",
    "    # Otimizando a média da validação cruzada\n",
    "    return sklearn.model_selection.cross_val_score(clf, X, y, scoring = 'roc_auc').mean() #Estamos otimizando o score da validação cruzada\n",
    "\n",
    "# Executando o optuna\n",
    "study = optuna.create_study(direction='maximize', sampler=GPSampler()) #Criando a otimização, o GPSamples é um processo gaussiano\n",
    "study.optimize(objective, n_trials=100) #Rodar a otimização"
   ]
  },
  {
   "cell_type": "code",
   "execution_count": 17,
   "metadata": {},
   "outputs": [
    {
     "name": "stdout",
     "output_type": "stream",
     "text": [
      "AUC-ROC: 0.9190558862433862\n",
      "Best hyperparameters: {'C': 2.190249224731862, 'max_iter': 2261}\n"
     ]
    }
   ],
   "source": [
    "# Mostrando o melhor modelo\n",
    "trial = study.best_trial\n",
    "print('AUC-ROC: {}'.format(trial.value))\n",
    "print(\"Best hyperparameters: {}\".format(trial.params))"
   ]
  },
  {
   "cell_type": "code",
   "execution_count": 18,
   "metadata": {},
   "outputs": [
    {
     "data": {
      "application/vnd.plotly.v1+json": {
       "config": {
        "plotlyServerURL": "https://plot.ly"
       },
       "data": [
        {
         "mode": "markers",
         "name": "Objective Value",
         "type": "scatter",
         "x": [
          0,
          1,
          2,
          3,
          4,
          5,
          6,
          7,
          8,
          9,
          10,
          11,
          12,
          13,
          14,
          15,
          16,
          17,
          18,
          19,
          20,
          21,
          22,
          23,
          24,
          25,
          26,
          27,
          28,
          29,
          30,
          31,
          32,
          33,
          34,
          35,
          36,
          37,
          38,
          39,
          40,
          41,
          42,
          43,
          44,
          45,
          46,
          47,
          48,
          49,
          50,
          51,
          52,
          53,
          54,
          55,
          56,
          57,
          58,
          59,
          60,
          61,
          62,
          63,
          64,
          65,
          66,
          67,
          68,
          69,
          70,
          71,
          72,
          73,
          74,
          75,
          76,
          77,
          78,
          79,
          80,
          81,
          82,
          83,
          84,
          85,
          86,
          87,
          88,
          89,
          90,
          91,
          92,
          93,
          94,
          95,
          96,
          97,
          98,
          99
         ],
         "y": [
          0.9190558862433862,
          0.9105406746031747,
          0.9130621693121693,
          0.9165178571428572,
          0.9188244047619047,
          0.9164847883597883,
          0.9132771164021163,
          0.9165178571428572,
          0.9130456349206348,
          0.9190558862433862,
          0.9188244047619047,
          0.9188244047619047,
          0.9188244047619047,
          0.9188244047619047,
          0.9188244047619047,
          0.9188244047619047,
          0.9190558862433862,
          0.9190558862433862,
          0.9190558862433862,
          0.9190558862433862,
          0.9190558862433862,
          0.9190558862433862,
          0.9190558862433862,
          0.9190558862433862,
          0.9190558862433862,
          0.9188244047619047,
          0.9190558862433862,
          0.918832671957672,
          0.9190558862433862,
          0.9190558862433862,
          0.9190558862433862,
          0.9190558862433862,
          0.9190558862433862,
          0.9188244047619047,
          0.9190558862433862,
          0.9188244047619047,
          0.9190558862433862,
          0.9190558862433862,
          0.9185929232804233,
          0.918832671957672,
          0.9185929232804233,
          0.9190558862433862,
          0.9183614417989417,
          0.9190558862433862,
          0.9190558862433862,
          0.9190558862433862,
          0.9188244047619047,
          0.9190558862433862,
          0.9190558862433862,
          0.9190558862433862,
          0.9190558862433862,
          0.9190558862433862,
          0.9190558862433862,
          0.9190558862433862,
          0.9190558862433862,
          0.9190558862433862,
          0.9190558862433862,
          0.9103174603174603,
          0.9190558862433862,
          0.9190558862433862,
          0.9190558862433862,
          0.9190558862433862,
          0.9190558862433862,
          0.9190558862433862,
          0.9190558862433862,
          0.9188244047619047,
          0.9188244047619047,
          0.9188244047619047,
          0.9188078703703704,
          0.9188244047619047,
          0.9146329365079365,
          0.9190558862433862,
          0.9188078703703704,
          0.9190558862433862,
          0.9190558862433862,
          0.9190558862433862,
          0.9190558862433862,
          0.9190558862433862,
          0.9190558862433862,
          0.9190558862433862,
          0.9190558862433862,
          0.9190558862433862,
          0.9190558862433862,
          0.9190558862433862,
          0.9190558862433862,
          0.9190558862433862,
          0.9190558862433862,
          0.9190558862433862,
          0.9190558862433862,
          0.9190558862433862,
          0.9190558862433862,
          0.9190558862433862,
          0.9190558862433862,
          0.9188244047619047,
          0.9190558862433862,
          0.9190558862433862,
          0.9190558862433862,
          0.9190558862433862,
          0.9190558862433862,
          0.9190558862433862
         ]
        },
        {
         "mode": "lines",
         "name": "Best Value",
         "type": "scatter",
         "x": [
          0,
          1,
          2,
          3,
          4,
          5,
          6,
          7,
          8,
          9,
          10,
          11,
          12,
          13,
          14,
          15,
          16,
          17,
          18,
          19,
          20,
          21,
          22,
          23,
          24,
          25,
          26,
          27,
          28,
          29,
          30,
          31,
          32,
          33,
          34,
          35,
          36,
          37,
          38,
          39,
          40,
          41,
          42,
          43,
          44,
          45,
          46,
          47,
          48,
          49,
          50,
          51,
          52,
          53,
          54,
          55,
          56,
          57,
          58,
          59,
          60,
          61,
          62,
          63,
          64,
          65,
          66,
          67,
          68,
          69,
          70,
          71,
          72,
          73,
          74,
          75,
          76,
          77,
          78,
          79,
          80,
          81,
          82,
          83,
          84,
          85,
          86,
          87,
          88,
          89,
          90,
          91,
          92,
          93,
          94,
          95,
          96,
          97,
          98,
          99
         ],
         "y": [
          0.9190558862433862,
          0.9190558862433862,
          0.9190558862433862,
          0.9190558862433862,
          0.9190558862433862,
          0.9190558862433862,
          0.9190558862433862,
          0.9190558862433862,
          0.9190558862433862,
          0.9190558862433862,
          0.9190558862433862,
          0.9190558862433862,
          0.9190558862433862,
          0.9190558862433862,
          0.9190558862433862,
          0.9190558862433862,
          0.9190558862433862,
          0.9190558862433862,
          0.9190558862433862,
          0.9190558862433862,
          0.9190558862433862,
          0.9190558862433862,
          0.9190558862433862,
          0.9190558862433862,
          0.9190558862433862,
          0.9190558862433862,
          0.9190558862433862,
          0.9190558862433862,
          0.9190558862433862,
          0.9190558862433862,
          0.9190558862433862,
          0.9190558862433862,
          0.9190558862433862,
          0.9190558862433862,
          0.9190558862433862,
          0.9190558862433862,
          0.9190558862433862,
          0.9190558862433862,
          0.9190558862433862,
          0.9190558862433862,
          0.9190558862433862,
          0.9190558862433862,
          0.9190558862433862,
          0.9190558862433862,
          0.9190558862433862,
          0.9190558862433862,
          0.9190558862433862,
          0.9190558862433862,
          0.9190558862433862,
          0.9190558862433862,
          0.9190558862433862,
          0.9190558862433862,
          0.9190558862433862,
          0.9190558862433862,
          0.9190558862433862,
          0.9190558862433862,
          0.9190558862433862,
          0.9190558862433862,
          0.9190558862433862,
          0.9190558862433862,
          0.9190558862433862,
          0.9190558862433862,
          0.9190558862433862,
          0.9190558862433862,
          0.9190558862433862,
          0.9190558862433862,
          0.9190558862433862,
          0.9190558862433862,
          0.9190558862433862,
          0.9190558862433862,
          0.9190558862433862,
          0.9190558862433862,
          0.9190558862433862,
          0.9190558862433862,
          0.9190558862433862,
          0.9190558862433862,
          0.9190558862433862,
          0.9190558862433862,
          0.9190558862433862,
          0.9190558862433862,
          0.9190558862433862,
          0.9190558862433862,
          0.9190558862433862,
          0.9190558862433862,
          0.9190558862433862,
          0.9190558862433862,
          0.9190558862433862,
          0.9190558862433862,
          0.9190558862433862,
          0.9190558862433862,
          0.9190558862433862,
          0.9190558862433862,
          0.9190558862433862,
          0.9190558862433862,
          0.9190558862433862,
          0.9190558862433862,
          0.9190558862433862,
          0.9190558862433862,
          0.9190558862433862,
          0.9190558862433862
         ]
        },
        {
         "marker": {
          "color": "#cccccc"
         },
         "mode": "markers",
         "name": "Infeasible Trial",
         "showlegend": false,
         "type": "scatter",
         "x": [],
         "y": []
        }
       ],
       "layout": {
        "template": {
         "data": {
          "bar": [
           {
            "error_x": {
             "color": "#2a3f5f"
            },
            "error_y": {
             "color": "#2a3f5f"
            },
            "marker": {
             "line": {
              "color": "#E5ECF6",
              "width": 0.5
             },
             "pattern": {
              "fillmode": "overlay",
              "size": 10,
              "solidity": 0.2
             }
            },
            "type": "bar"
           }
          ],
          "barpolar": [
           {
            "marker": {
             "line": {
              "color": "#E5ECF6",
              "width": 0.5
             },
             "pattern": {
              "fillmode": "overlay",
              "size": 10,
              "solidity": 0.2
             }
            },
            "type": "barpolar"
           }
          ],
          "carpet": [
           {
            "aaxis": {
             "endlinecolor": "#2a3f5f",
             "gridcolor": "white",
             "linecolor": "white",
             "minorgridcolor": "white",
             "startlinecolor": "#2a3f5f"
            },
            "baxis": {
             "endlinecolor": "#2a3f5f",
             "gridcolor": "white",
             "linecolor": "white",
             "minorgridcolor": "white",
             "startlinecolor": "#2a3f5f"
            },
            "type": "carpet"
           }
          ],
          "choropleth": [
           {
            "colorbar": {
             "outlinewidth": 0,
             "ticks": ""
            },
            "type": "choropleth"
           }
          ],
          "contour": [
           {
            "colorbar": {
             "outlinewidth": 0,
             "ticks": ""
            },
            "colorscale": [
             [
              0,
              "#0d0887"
             ],
             [
              0.1111111111111111,
              "#46039f"
             ],
             [
              0.2222222222222222,
              "#7201a8"
             ],
             [
              0.3333333333333333,
              "#9c179e"
             ],
             [
              0.4444444444444444,
              "#bd3786"
             ],
             [
              0.5555555555555556,
              "#d8576b"
             ],
             [
              0.6666666666666666,
              "#ed7953"
             ],
             [
              0.7777777777777778,
              "#fb9f3a"
             ],
             [
              0.8888888888888888,
              "#fdca26"
             ],
             [
              1,
              "#f0f921"
             ]
            ],
            "type": "contour"
           }
          ],
          "contourcarpet": [
           {
            "colorbar": {
             "outlinewidth": 0,
             "ticks": ""
            },
            "type": "contourcarpet"
           }
          ],
          "heatmap": [
           {
            "colorbar": {
             "outlinewidth": 0,
             "ticks": ""
            },
            "colorscale": [
             [
              0,
              "#0d0887"
             ],
             [
              0.1111111111111111,
              "#46039f"
             ],
             [
              0.2222222222222222,
              "#7201a8"
             ],
             [
              0.3333333333333333,
              "#9c179e"
             ],
             [
              0.4444444444444444,
              "#bd3786"
             ],
             [
              0.5555555555555556,
              "#d8576b"
             ],
             [
              0.6666666666666666,
              "#ed7953"
             ],
             [
              0.7777777777777778,
              "#fb9f3a"
             ],
             [
              0.8888888888888888,
              "#fdca26"
             ],
             [
              1,
              "#f0f921"
             ]
            ],
            "type": "heatmap"
           }
          ],
          "heatmapgl": [
           {
            "colorbar": {
             "outlinewidth": 0,
             "ticks": ""
            },
            "colorscale": [
             [
              0,
              "#0d0887"
             ],
             [
              0.1111111111111111,
              "#46039f"
             ],
             [
              0.2222222222222222,
              "#7201a8"
             ],
             [
              0.3333333333333333,
              "#9c179e"
             ],
             [
              0.4444444444444444,
              "#bd3786"
             ],
             [
              0.5555555555555556,
              "#d8576b"
             ],
             [
              0.6666666666666666,
              "#ed7953"
             ],
             [
              0.7777777777777778,
              "#fb9f3a"
             ],
             [
              0.8888888888888888,
              "#fdca26"
             ],
             [
              1,
              "#f0f921"
             ]
            ],
            "type": "heatmapgl"
           }
          ],
          "histogram": [
           {
            "marker": {
             "pattern": {
              "fillmode": "overlay",
              "size": 10,
              "solidity": 0.2
             }
            },
            "type": "histogram"
           }
          ],
          "histogram2d": [
           {
            "colorbar": {
             "outlinewidth": 0,
             "ticks": ""
            },
            "colorscale": [
             [
              0,
              "#0d0887"
             ],
             [
              0.1111111111111111,
              "#46039f"
             ],
             [
              0.2222222222222222,
              "#7201a8"
             ],
             [
              0.3333333333333333,
              "#9c179e"
             ],
             [
              0.4444444444444444,
              "#bd3786"
             ],
             [
              0.5555555555555556,
              "#d8576b"
             ],
             [
              0.6666666666666666,
              "#ed7953"
             ],
             [
              0.7777777777777778,
              "#fb9f3a"
             ],
             [
              0.8888888888888888,
              "#fdca26"
             ],
             [
              1,
              "#f0f921"
             ]
            ],
            "type": "histogram2d"
           }
          ],
          "histogram2dcontour": [
           {
            "colorbar": {
             "outlinewidth": 0,
             "ticks": ""
            },
            "colorscale": [
             [
              0,
              "#0d0887"
             ],
             [
              0.1111111111111111,
              "#46039f"
             ],
             [
              0.2222222222222222,
              "#7201a8"
             ],
             [
              0.3333333333333333,
              "#9c179e"
             ],
             [
              0.4444444444444444,
              "#bd3786"
             ],
             [
              0.5555555555555556,
              "#d8576b"
             ],
             [
              0.6666666666666666,
              "#ed7953"
             ],
             [
              0.7777777777777778,
              "#fb9f3a"
             ],
             [
              0.8888888888888888,
              "#fdca26"
             ],
             [
              1,
              "#f0f921"
             ]
            ],
            "type": "histogram2dcontour"
           }
          ],
          "mesh3d": [
           {
            "colorbar": {
             "outlinewidth": 0,
             "ticks": ""
            },
            "type": "mesh3d"
           }
          ],
          "parcoords": [
           {
            "line": {
             "colorbar": {
              "outlinewidth": 0,
              "ticks": ""
             }
            },
            "type": "parcoords"
           }
          ],
          "pie": [
           {
            "automargin": true,
            "type": "pie"
           }
          ],
          "scatter": [
           {
            "fillpattern": {
             "fillmode": "overlay",
             "size": 10,
             "solidity": 0.2
            },
            "type": "scatter"
           }
          ],
          "scatter3d": [
           {
            "line": {
             "colorbar": {
              "outlinewidth": 0,
              "ticks": ""
             }
            },
            "marker": {
             "colorbar": {
              "outlinewidth": 0,
              "ticks": ""
             }
            },
            "type": "scatter3d"
           }
          ],
          "scattercarpet": [
           {
            "marker": {
             "colorbar": {
              "outlinewidth": 0,
              "ticks": ""
             }
            },
            "type": "scattercarpet"
           }
          ],
          "scattergeo": [
           {
            "marker": {
             "colorbar": {
              "outlinewidth": 0,
              "ticks": ""
             }
            },
            "type": "scattergeo"
           }
          ],
          "scattergl": [
           {
            "marker": {
             "colorbar": {
              "outlinewidth": 0,
              "ticks": ""
             }
            },
            "type": "scattergl"
           }
          ],
          "scattermapbox": [
           {
            "marker": {
             "colorbar": {
              "outlinewidth": 0,
              "ticks": ""
             }
            },
            "type": "scattermapbox"
           }
          ],
          "scatterpolar": [
           {
            "marker": {
             "colorbar": {
              "outlinewidth": 0,
              "ticks": ""
             }
            },
            "type": "scatterpolar"
           }
          ],
          "scatterpolargl": [
           {
            "marker": {
             "colorbar": {
              "outlinewidth": 0,
              "ticks": ""
             }
            },
            "type": "scatterpolargl"
           }
          ],
          "scatterternary": [
           {
            "marker": {
             "colorbar": {
              "outlinewidth": 0,
              "ticks": ""
             }
            },
            "type": "scatterternary"
           }
          ],
          "surface": [
           {
            "colorbar": {
             "outlinewidth": 0,
             "ticks": ""
            },
            "colorscale": [
             [
              0,
              "#0d0887"
             ],
             [
              0.1111111111111111,
              "#46039f"
             ],
             [
              0.2222222222222222,
              "#7201a8"
             ],
             [
              0.3333333333333333,
              "#9c179e"
             ],
             [
              0.4444444444444444,
              "#bd3786"
             ],
             [
              0.5555555555555556,
              "#d8576b"
             ],
             [
              0.6666666666666666,
              "#ed7953"
             ],
             [
              0.7777777777777778,
              "#fb9f3a"
             ],
             [
              0.8888888888888888,
              "#fdca26"
             ],
             [
              1,
              "#f0f921"
             ]
            ],
            "type": "surface"
           }
          ],
          "table": [
           {
            "cells": {
             "fill": {
              "color": "#EBF0F8"
             },
             "line": {
              "color": "white"
             }
            },
            "header": {
             "fill": {
              "color": "#C8D4E3"
             },
             "line": {
              "color": "white"
             }
            },
            "type": "table"
           }
          ]
         },
         "layout": {
          "annotationdefaults": {
           "arrowcolor": "#2a3f5f",
           "arrowhead": 0,
           "arrowwidth": 1
          },
          "autotypenumbers": "strict",
          "coloraxis": {
           "colorbar": {
            "outlinewidth": 0,
            "ticks": ""
           }
          },
          "colorscale": {
           "diverging": [
            [
             0,
             "#8e0152"
            ],
            [
             0.1,
             "#c51b7d"
            ],
            [
             0.2,
             "#de77ae"
            ],
            [
             0.3,
             "#f1b6da"
            ],
            [
             0.4,
             "#fde0ef"
            ],
            [
             0.5,
             "#f7f7f7"
            ],
            [
             0.6,
             "#e6f5d0"
            ],
            [
             0.7,
             "#b8e186"
            ],
            [
             0.8,
             "#7fbc41"
            ],
            [
             0.9,
             "#4d9221"
            ],
            [
             1,
             "#276419"
            ]
           ],
           "sequential": [
            [
             0,
             "#0d0887"
            ],
            [
             0.1111111111111111,
             "#46039f"
            ],
            [
             0.2222222222222222,
             "#7201a8"
            ],
            [
             0.3333333333333333,
             "#9c179e"
            ],
            [
             0.4444444444444444,
             "#bd3786"
            ],
            [
             0.5555555555555556,
             "#d8576b"
            ],
            [
             0.6666666666666666,
             "#ed7953"
            ],
            [
             0.7777777777777778,
             "#fb9f3a"
            ],
            [
             0.8888888888888888,
             "#fdca26"
            ],
            [
             1,
             "#f0f921"
            ]
           ],
           "sequentialminus": [
            [
             0,
             "#0d0887"
            ],
            [
             0.1111111111111111,
             "#46039f"
            ],
            [
             0.2222222222222222,
             "#7201a8"
            ],
            [
             0.3333333333333333,
             "#9c179e"
            ],
            [
             0.4444444444444444,
             "#bd3786"
            ],
            [
             0.5555555555555556,
             "#d8576b"
            ],
            [
             0.6666666666666666,
             "#ed7953"
            ],
            [
             0.7777777777777778,
             "#fb9f3a"
            ],
            [
             0.8888888888888888,
             "#fdca26"
            ],
            [
             1,
             "#f0f921"
            ]
           ]
          },
          "colorway": [
           "#636efa",
           "#EF553B",
           "#00cc96",
           "#ab63fa",
           "#FFA15A",
           "#19d3f3",
           "#FF6692",
           "#B6E880",
           "#FF97FF",
           "#FECB52"
          ],
          "font": {
           "color": "#2a3f5f"
          },
          "geo": {
           "bgcolor": "white",
           "lakecolor": "white",
           "landcolor": "#E5ECF6",
           "showlakes": true,
           "showland": true,
           "subunitcolor": "white"
          },
          "hoverlabel": {
           "align": "left"
          },
          "hovermode": "closest",
          "mapbox": {
           "style": "light"
          },
          "paper_bgcolor": "white",
          "plot_bgcolor": "#E5ECF6",
          "polar": {
           "angularaxis": {
            "gridcolor": "white",
            "linecolor": "white",
            "ticks": ""
           },
           "bgcolor": "#E5ECF6",
           "radialaxis": {
            "gridcolor": "white",
            "linecolor": "white",
            "ticks": ""
           }
          },
          "scene": {
           "xaxis": {
            "backgroundcolor": "#E5ECF6",
            "gridcolor": "white",
            "gridwidth": 2,
            "linecolor": "white",
            "showbackground": true,
            "ticks": "",
            "zerolinecolor": "white"
           },
           "yaxis": {
            "backgroundcolor": "#E5ECF6",
            "gridcolor": "white",
            "gridwidth": 2,
            "linecolor": "white",
            "showbackground": true,
            "ticks": "",
            "zerolinecolor": "white"
           },
           "zaxis": {
            "backgroundcolor": "#E5ECF6",
            "gridcolor": "white",
            "gridwidth": 2,
            "linecolor": "white",
            "showbackground": true,
            "ticks": "",
            "zerolinecolor": "white"
           }
          },
          "shapedefaults": {
           "line": {
            "color": "#2a3f5f"
           }
          },
          "ternary": {
           "aaxis": {
            "gridcolor": "white",
            "linecolor": "white",
            "ticks": ""
           },
           "baxis": {
            "gridcolor": "white",
            "linecolor": "white",
            "ticks": ""
           },
           "bgcolor": "#E5ECF6",
           "caxis": {
            "gridcolor": "white",
            "linecolor": "white",
            "ticks": ""
           }
          },
          "title": {
           "x": 0.05
          },
          "xaxis": {
           "automargin": true,
           "gridcolor": "white",
           "linecolor": "white",
           "ticks": "",
           "title": {
            "standoff": 15
           },
           "zerolinecolor": "white",
           "zerolinewidth": 2
          },
          "yaxis": {
           "automargin": true,
           "gridcolor": "white",
           "linecolor": "white",
           "ticks": "",
           "title": {
            "standoff": 15
           },
           "zerolinecolor": "white",
           "zerolinewidth": 2
          }
         }
        },
        "title": {
         "text": "Optimization History Plot"
        },
        "xaxis": {
         "title": {
          "text": "Trial"
         }
        },
        "yaxis": {
         "title": {
          "text": "Objective Value"
         }
        }
       }
      }
     },
     "metadata": {},
     "output_type": "display_data"
    }
   ],
   "source": [
    "# Visualizando a otimização\n",
    "optuna.visualization.plot_optimization_history(study)"
   ]
  },
  {
   "cell_type": "code",
   "execution_count": 19,
   "metadata": {},
   "outputs": [
    {
     "data": {
      "application/vnd.plotly.v1+json": {
       "config": {
        "plotlyServerURL": "https://plot.ly"
       },
       "data": [
        {
         "marker": {
          "color": [
           0,
           1,
           2,
           3,
           4,
           5,
           6,
           7,
           8,
           9,
           10,
           11,
           12,
           13,
           14,
           15,
           16,
           17,
           18,
           19,
           20,
           21,
           22,
           23,
           24,
           25,
           26,
           27,
           28,
           29,
           30,
           31,
           32,
           33,
           34,
           35,
           36,
           37,
           38,
           39,
           40,
           41,
           42,
           43,
           44,
           45,
           46,
           47,
           48,
           49,
           50,
           51,
           52,
           53,
           54,
           55,
           56,
           57,
           58,
           59,
           60,
           61,
           62,
           63,
           64,
           65,
           66,
           67,
           68,
           69,
           70,
           71,
           72,
           73,
           74,
           75,
           76,
           77,
           78,
           79,
           80,
           81,
           82,
           83,
           84,
           85,
           86,
           87,
           88,
           89,
           90,
           91,
           92,
           93,
           94,
           95,
           96,
           97,
           98,
           99
          ],
          "colorbar": {
           "title": {
            "text": "Trial"
           },
           "x": 1,
           "xpad": 40
          },
          "colorscale": [
           [
            0,
            "rgb(247,251,255)"
           ],
           [
            0.125,
            "rgb(222,235,247)"
           ],
           [
            0.25,
            "rgb(198,219,239)"
           ],
           [
            0.375,
            "rgb(158,202,225)"
           ],
           [
            0.5,
            "rgb(107,174,214)"
           ],
           [
            0.625,
            "rgb(66,146,198)"
           ],
           [
            0.75,
            "rgb(33,113,181)"
           ],
           [
            0.875,
            "rgb(8,81,156)"
           ],
           [
            1,
            "rgb(8,48,107)"
           ]
          ],
          "line": {
           "color": "Grey",
           "width": 0.5
          },
          "showscale": true
         },
         "mode": "markers",
         "name": "Feasible Trial",
         "showlegend": false,
         "type": "scatter",
         "x": [
          2.190249224731862,
          0.00005348098646664268,
          0.0015464246419894343,
          0.06606606114677777,
          98.5149489209632,
          0.018871459403607183,
          0.0009332960187050148,
          0.0700703743883885,
          0.0008813040762728328,
          1.7522417212282833,
          18.38907435618406,
          14.393184740286861,
          9.164492979770525,
          8.825836020339858,
          100,
          100,
          2.715447527354805,
          2.3686292002892997,
          1.5716942080515865,
          2.0811210809364646,
          1.8564549657331912,
          1.9618053282234498,
          2.0806046905180775,
          2.382231167009283,
          2.0012348830648103,
          45.699885226118646,
          1.7638847416154233,
          1.3223603662655052,
          3.0842813710771573,
          2.636972386096101,
          2.2742602018852125,
          1.9818647224053583,
          3.0283907406248893,
          3.888747108846296,
          2.7211553491552594,
          51.094291957720905,
          2.5957939010705395,
          2.841128596000898,
          0.5148018415370789,
          1.13957725713066,
          0.2602687862333301,
          1.668164064249858,
          0.32148563293891086,
          1.696103550531118,
          1.864880915844896,
          2.266182327567004,
          26.627616761472346,
          2.5393463937201157,
          2.923876895586436,
          2.7316577040275045,
          1.8133058665010982,
          1.663755550181638,
          2.8911966744776714,
          1.968491224214216,
          2.595075589133276,
          2.8521397040914813,
          1.6605057697688483,
          0.00001,
          2.5307292752785666,
          1.8385221494295283,
          2.406333731304189,
          1.6991375246206006,
          2.173287487868139,
          2.9227856283376163,
          2.629549776602093,
          3.534195169806528,
          8.155884644097256,
          68.75626163187125,
          0.1647130441673007,
          32.6808984459777,
          0.007560056282488656,
          3.017824255191563,
          0.165867861065963,
          2.9758526857664203,
          1.8394136803265495,
          2.9013395178267984,
          2.9818483793418653,
          2.983581770755298,
          2.94255566020488,
          2.9833242870250456,
          2.4735563858797662,
          2.539867121527515,
          1.9355285581457164,
          2.983714394808596,
          2.982515594683768,
          2.065909118250574,
          1.8500289792818516,
          2.974938313023462,
          2.1974389646917207,
          2.188914604803446,
          2.9845286246995584,
          1.6150801078759345,
          2.079388528611059,
          13.140653098776585,
          2.4907311114303385,
          2.934338199393317,
          2.9831188571192895,
          2.5775052799648455,
          1.762682244314928,
          2.29357187241384
         ],
         "xaxis": "x",
         "y": [
          0.9190558862433862,
          0.9105406746031747,
          0.9130621693121693,
          0.9165178571428572,
          0.9188244047619047,
          0.9164847883597883,
          0.9132771164021163,
          0.9165178571428572,
          0.9130456349206348,
          0.9190558862433862,
          0.9188244047619047,
          0.9188244047619047,
          0.9188244047619047,
          0.9188244047619047,
          0.9188244047619047,
          0.9188244047619047,
          0.9190558862433862,
          0.9190558862433862,
          0.9190558862433862,
          0.9190558862433862,
          0.9190558862433862,
          0.9190558862433862,
          0.9190558862433862,
          0.9190558862433862,
          0.9190558862433862,
          0.9188244047619047,
          0.9190558862433862,
          0.918832671957672,
          0.9190558862433862,
          0.9190558862433862,
          0.9190558862433862,
          0.9190558862433862,
          0.9190558862433862,
          0.9188244047619047,
          0.9190558862433862,
          0.9188244047619047,
          0.9190558862433862,
          0.9190558862433862,
          0.9185929232804233,
          0.918832671957672,
          0.9185929232804233,
          0.9190558862433862,
          0.9183614417989417,
          0.9190558862433862,
          0.9190558862433862,
          0.9190558862433862,
          0.9188244047619047,
          0.9190558862433862,
          0.9190558862433862,
          0.9190558862433862,
          0.9190558862433862,
          0.9190558862433862,
          0.9190558862433862,
          0.9190558862433862,
          0.9190558862433862,
          0.9190558862433862,
          0.9190558862433862,
          0.9103174603174603,
          0.9190558862433862,
          0.9190558862433862,
          0.9190558862433862,
          0.9190558862433862,
          0.9190558862433862,
          0.9190558862433862,
          0.9190558862433862,
          0.9188244047619047,
          0.9188244047619047,
          0.9188244047619047,
          0.9188078703703704,
          0.9188244047619047,
          0.9146329365079365,
          0.9190558862433862,
          0.9188078703703704,
          0.9190558862433862,
          0.9190558862433862,
          0.9190558862433862,
          0.9190558862433862,
          0.9190558862433862,
          0.9190558862433862,
          0.9190558862433862,
          0.9190558862433862,
          0.9190558862433862,
          0.9190558862433862,
          0.9190558862433862,
          0.9190558862433862,
          0.9190558862433862,
          0.9190558862433862,
          0.9190558862433862,
          0.9190558862433862,
          0.9190558862433862,
          0.9190558862433862,
          0.9190558862433862,
          0.9190558862433862,
          0.9188244047619047,
          0.9190558862433862,
          0.9190558862433862,
          0.9190558862433862,
          0.9190558862433862,
          0.9190558862433862,
          0.9190558862433862
         ],
         "yaxis": "y"
        },
        {
         "marker": {
          "color": [
           0,
           1,
           2,
           3,
           4,
           5,
           6,
           7,
           8,
           9,
           10,
           11,
           12,
           13,
           14,
           15,
           16,
           17,
           18,
           19,
           20,
           21,
           22,
           23,
           24,
           25,
           26,
           27,
           28,
           29,
           30,
           31,
           32,
           33,
           34,
           35,
           36,
           37,
           38,
           39,
           40,
           41,
           42,
           43,
           44,
           45,
           46,
           47,
           48,
           49,
           50,
           51,
           52,
           53,
           54,
           55,
           56,
           57,
           58,
           59,
           60,
           61,
           62,
           63,
           64,
           65,
           66,
           67,
           68,
           69,
           70,
           71,
           72,
           73,
           74,
           75,
           76,
           77,
           78,
           79,
           80,
           81,
           82,
           83,
           84,
           85,
           86,
           87,
           88,
           89,
           90,
           91,
           92,
           93,
           94,
           95,
           96,
           97,
           98,
           99
          ],
          "colorbar": {
           "title": {
            "text": "Trial"
           },
           "x": 1,
           "xpad": 40
          },
          "colorscale": [
           [
            0,
            "rgb(247,251,255)"
           ],
           [
            0.125,
            "rgb(222,235,247)"
           ],
           [
            0.25,
            "rgb(198,219,239)"
           ],
           [
            0.375,
            "rgb(158,202,225)"
           ],
           [
            0.5,
            "rgb(107,174,214)"
           ],
           [
            0.625,
            "rgb(66,146,198)"
           ],
           [
            0.75,
            "rgb(33,113,181)"
           ],
           [
            0.875,
            "rgb(8,81,156)"
           ],
           [
            1,
            "rgb(8,48,107)"
           ]
          ],
          "line": {
           "color": "Grey",
           "width": 0.5
          },
          "showscale": false
         },
         "mode": "markers",
         "name": "Feasible Trial",
         "showlegend": false,
         "type": "scatter",
         "x": [
          2261,
          8408,
          4994,
          9829,
          5136,
          9918,
          9634,
          724,
          8471,
          5655,
          100,
          10000,
          4670,
          4486,
          100,
          10000,
          10000,
          6161,
          100,
          10000,
          2296,
          100,
          6696,
          10000,
          4456,
          10000,
          100,
          10000,
          100,
          100,
          8714,
          5268,
          3269,
          10000,
          4423,
          100,
          8459,
          1912,
          100,
          100,
          100,
          100,
          10000,
          2304,
          5735,
          100,
          10000,
          9996,
          101,
          6698,
          4362,
          100,
          2476,
          7741,
          9084,
          3728,
          101,
          100,
          9961,
          4721,
          2116,
          107,
          102,
          1592,
          8011,
          100,
          10000,
          10000,
          10000,
          100,
          10000,
          10000,
          100,
          100,
          10000,
          9998,
          612,
          640,
          5997,
          827,
          111,
          4306,
          10000,
          123,
          1915,
          110,
          8044,
          122,
          5718,
          9976,
          1877,
          101,
          2812,
          100,
          6965,
          9981,
          773,
          3327,
          3518,
          3463
         ],
         "xaxis": "x2",
         "y": [
          0.9190558862433862,
          0.9105406746031747,
          0.9130621693121693,
          0.9165178571428572,
          0.9188244047619047,
          0.9164847883597883,
          0.9132771164021163,
          0.9165178571428572,
          0.9130456349206348,
          0.9190558862433862,
          0.9188244047619047,
          0.9188244047619047,
          0.9188244047619047,
          0.9188244047619047,
          0.9188244047619047,
          0.9188244047619047,
          0.9190558862433862,
          0.9190558862433862,
          0.9190558862433862,
          0.9190558862433862,
          0.9190558862433862,
          0.9190558862433862,
          0.9190558862433862,
          0.9190558862433862,
          0.9190558862433862,
          0.9188244047619047,
          0.9190558862433862,
          0.918832671957672,
          0.9190558862433862,
          0.9190558862433862,
          0.9190558862433862,
          0.9190558862433862,
          0.9190558862433862,
          0.9188244047619047,
          0.9190558862433862,
          0.9188244047619047,
          0.9190558862433862,
          0.9190558862433862,
          0.9185929232804233,
          0.918832671957672,
          0.9185929232804233,
          0.9190558862433862,
          0.9183614417989417,
          0.9190558862433862,
          0.9190558862433862,
          0.9190558862433862,
          0.9188244047619047,
          0.9190558862433862,
          0.9190558862433862,
          0.9190558862433862,
          0.9190558862433862,
          0.9190558862433862,
          0.9190558862433862,
          0.9190558862433862,
          0.9190558862433862,
          0.9190558862433862,
          0.9190558862433862,
          0.9103174603174603,
          0.9190558862433862,
          0.9190558862433862,
          0.9190558862433862,
          0.9190558862433862,
          0.9190558862433862,
          0.9190558862433862,
          0.9190558862433862,
          0.9188244047619047,
          0.9188244047619047,
          0.9188244047619047,
          0.9188078703703704,
          0.9188244047619047,
          0.9146329365079365,
          0.9190558862433862,
          0.9188078703703704,
          0.9190558862433862,
          0.9190558862433862,
          0.9190558862433862,
          0.9190558862433862,
          0.9190558862433862,
          0.9190558862433862,
          0.9190558862433862,
          0.9190558862433862,
          0.9190558862433862,
          0.9190558862433862,
          0.9190558862433862,
          0.9190558862433862,
          0.9190558862433862,
          0.9190558862433862,
          0.9190558862433862,
          0.9190558862433862,
          0.9190558862433862,
          0.9190558862433862,
          0.9190558862433862,
          0.9190558862433862,
          0.9188244047619047,
          0.9190558862433862,
          0.9190558862433862,
          0.9190558862433862,
          0.9190558862433862,
          0.9190558862433862,
          0.9190558862433862
         ],
         "yaxis": "y2"
        }
       ],
       "layout": {
        "template": {
         "data": {
          "bar": [
           {
            "error_x": {
             "color": "#2a3f5f"
            },
            "error_y": {
             "color": "#2a3f5f"
            },
            "marker": {
             "line": {
              "color": "#E5ECF6",
              "width": 0.5
             },
             "pattern": {
              "fillmode": "overlay",
              "size": 10,
              "solidity": 0.2
             }
            },
            "type": "bar"
           }
          ],
          "barpolar": [
           {
            "marker": {
             "line": {
              "color": "#E5ECF6",
              "width": 0.5
             },
             "pattern": {
              "fillmode": "overlay",
              "size": 10,
              "solidity": 0.2
             }
            },
            "type": "barpolar"
           }
          ],
          "carpet": [
           {
            "aaxis": {
             "endlinecolor": "#2a3f5f",
             "gridcolor": "white",
             "linecolor": "white",
             "minorgridcolor": "white",
             "startlinecolor": "#2a3f5f"
            },
            "baxis": {
             "endlinecolor": "#2a3f5f",
             "gridcolor": "white",
             "linecolor": "white",
             "minorgridcolor": "white",
             "startlinecolor": "#2a3f5f"
            },
            "type": "carpet"
           }
          ],
          "choropleth": [
           {
            "colorbar": {
             "outlinewidth": 0,
             "ticks": ""
            },
            "type": "choropleth"
           }
          ],
          "contour": [
           {
            "colorbar": {
             "outlinewidth": 0,
             "ticks": ""
            },
            "colorscale": [
             [
              0,
              "#0d0887"
             ],
             [
              0.1111111111111111,
              "#46039f"
             ],
             [
              0.2222222222222222,
              "#7201a8"
             ],
             [
              0.3333333333333333,
              "#9c179e"
             ],
             [
              0.4444444444444444,
              "#bd3786"
             ],
             [
              0.5555555555555556,
              "#d8576b"
             ],
             [
              0.6666666666666666,
              "#ed7953"
             ],
             [
              0.7777777777777778,
              "#fb9f3a"
             ],
             [
              0.8888888888888888,
              "#fdca26"
             ],
             [
              1,
              "#f0f921"
             ]
            ],
            "type": "contour"
           }
          ],
          "contourcarpet": [
           {
            "colorbar": {
             "outlinewidth": 0,
             "ticks": ""
            },
            "type": "contourcarpet"
           }
          ],
          "heatmap": [
           {
            "colorbar": {
             "outlinewidth": 0,
             "ticks": ""
            },
            "colorscale": [
             [
              0,
              "#0d0887"
             ],
             [
              0.1111111111111111,
              "#46039f"
             ],
             [
              0.2222222222222222,
              "#7201a8"
             ],
             [
              0.3333333333333333,
              "#9c179e"
             ],
             [
              0.4444444444444444,
              "#bd3786"
             ],
             [
              0.5555555555555556,
              "#d8576b"
             ],
             [
              0.6666666666666666,
              "#ed7953"
             ],
             [
              0.7777777777777778,
              "#fb9f3a"
             ],
             [
              0.8888888888888888,
              "#fdca26"
             ],
             [
              1,
              "#f0f921"
             ]
            ],
            "type": "heatmap"
           }
          ],
          "heatmapgl": [
           {
            "colorbar": {
             "outlinewidth": 0,
             "ticks": ""
            },
            "colorscale": [
             [
              0,
              "#0d0887"
             ],
             [
              0.1111111111111111,
              "#46039f"
             ],
             [
              0.2222222222222222,
              "#7201a8"
             ],
             [
              0.3333333333333333,
              "#9c179e"
             ],
             [
              0.4444444444444444,
              "#bd3786"
             ],
             [
              0.5555555555555556,
              "#d8576b"
             ],
             [
              0.6666666666666666,
              "#ed7953"
             ],
             [
              0.7777777777777778,
              "#fb9f3a"
             ],
             [
              0.8888888888888888,
              "#fdca26"
             ],
             [
              1,
              "#f0f921"
             ]
            ],
            "type": "heatmapgl"
           }
          ],
          "histogram": [
           {
            "marker": {
             "pattern": {
              "fillmode": "overlay",
              "size": 10,
              "solidity": 0.2
             }
            },
            "type": "histogram"
           }
          ],
          "histogram2d": [
           {
            "colorbar": {
             "outlinewidth": 0,
             "ticks": ""
            },
            "colorscale": [
             [
              0,
              "#0d0887"
             ],
             [
              0.1111111111111111,
              "#46039f"
             ],
             [
              0.2222222222222222,
              "#7201a8"
             ],
             [
              0.3333333333333333,
              "#9c179e"
             ],
             [
              0.4444444444444444,
              "#bd3786"
             ],
             [
              0.5555555555555556,
              "#d8576b"
             ],
             [
              0.6666666666666666,
              "#ed7953"
             ],
             [
              0.7777777777777778,
              "#fb9f3a"
             ],
             [
              0.8888888888888888,
              "#fdca26"
             ],
             [
              1,
              "#f0f921"
             ]
            ],
            "type": "histogram2d"
           }
          ],
          "histogram2dcontour": [
           {
            "colorbar": {
             "outlinewidth": 0,
             "ticks": ""
            },
            "colorscale": [
             [
              0,
              "#0d0887"
             ],
             [
              0.1111111111111111,
              "#46039f"
             ],
             [
              0.2222222222222222,
              "#7201a8"
             ],
             [
              0.3333333333333333,
              "#9c179e"
             ],
             [
              0.4444444444444444,
              "#bd3786"
             ],
             [
              0.5555555555555556,
              "#d8576b"
             ],
             [
              0.6666666666666666,
              "#ed7953"
             ],
             [
              0.7777777777777778,
              "#fb9f3a"
             ],
             [
              0.8888888888888888,
              "#fdca26"
             ],
             [
              1,
              "#f0f921"
             ]
            ],
            "type": "histogram2dcontour"
           }
          ],
          "mesh3d": [
           {
            "colorbar": {
             "outlinewidth": 0,
             "ticks": ""
            },
            "type": "mesh3d"
           }
          ],
          "parcoords": [
           {
            "line": {
             "colorbar": {
              "outlinewidth": 0,
              "ticks": ""
             }
            },
            "type": "parcoords"
           }
          ],
          "pie": [
           {
            "automargin": true,
            "type": "pie"
           }
          ],
          "scatter": [
           {
            "fillpattern": {
             "fillmode": "overlay",
             "size": 10,
             "solidity": 0.2
            },
            "type": "scatter"
           }
          ],
          "scatter3d": [
           {
            "line": {
             "colorbar": {
              "outlinewidth": 0,
              "ticks": ""
             }
            },
            "marker": {
             "colorbar": {
              "outlinewidth": 0,
              "ticks": ""
             }
            },
            "type": "scatter3d"
           }
          ],
          "scattercarpet": [
           {
            "marker": {
             "colorbar": {
              "outlinewidth": 0,
              "ticks": ""
             }
            },
            "type": "scattercarpet"
           }
          ],
          "scattergeo": [
           {
            "marker": {
             "colorbar": {
              "outlinewidth": 0,
              "ticks": ""
             }
            },
            "type": "scattergeo"
           }
          ],
          "scattergl": [
           {
            "marker": {
             "colorbar": {
              "outlinewidth": 0,
              "ticks": ""
             }
            },
            "type": "scattergl"
           }
          ],
          "scattermapbox": [
           {
            "marker": {
             "colorbar": {
              "outlinewidth": 0,
              "ticks": ""
             }
            },
            "type": "scattermapbox"
           }
          ],
          "scatterpolar": [
           {
            "marker": {
             "colorbar": {
              "outlinewidth": 0,
              "ticks": ""
             }
            },
            "type": "scatterpolar"
           }
          ],
          "scatterpolargl": [
           {
            "marker": {
             "colorbar": {
              "outlinewidth": 0,
              "ticks": ""
             }
            },
            "type": "scatterpolargl"
           }
          ],
          "scatterternary": [
           {
            "marker": {
             "colorbar": {
              "outlinewidth": 0,
              "ticks": ""
             }
            },
            "type": "scatterternary"
           }
          ],
          "surface": [
           {
            "colorbar": {
             "outlinewidth": 0,
             "ticks": ""
            },
            "colorscale": [
             [
              0,
              "#0d0887"
             ],
             [
              0.1111111111111111,
              "#46039f"
             ],
             [
              0.2222222222222222,
              "#7201a8"
             ],
             [
              0.3333333333333333,
              "#9c179e"
             ],
             [
              0.4444444444444444,
              "#bd3786"
             ],
             [
              0.5555555555555556,
              "#d8576b"
             ],
             [
              0.6666666666666666,
              "#ed7953"
             ],
             [
              0.7777777777777778,
              "#fb9f3a"
             ],
             [
              0.8888888888888888,
              "#fdca26"
             ],
             [
              1,
              "#f0f921"
             ]
            ],
            "type": "surface"
           }
          ],
          "table": [
           {
            "cells": {
             "fill": {
              "color": "#EBF0F8"
             },
             "line": {
              "color": "white"
             }
            },
            "header": {
             "fill": {
              "color": "#C8D4E3"
             },
             "line": {
              "color": "white"
             }
            },
            "type": "table"
           }
          ]
         },
         "layout": {
          "annotationdefaults": {
           "arrowcolor": "#2a3f5f",
           "arrowhead": 0,
           "arrowwidth": 1
          },
          "autotypenumbers": "strict",
          "coloraxis": {
           "colorbar": {
            "outlinewidth": 0,
            "ticks": ""
           }
          },
          "colorscale": {
           "diverging": [
            [
             0,
             "#8e0152"
            ],
            [
             0.1,
             "#c51b7d"
            ],
            [
             0.2,
             "#de77ae"
            ],
            [
             0.3,
             "#f1b6da"
            ],
            [
             0.4,
             "#fde0ef"
            ],
            [
             0.5,
             "#f7f7f7"
            ],
            [
             0.6,
             "#e6f5d0"
            ],
            [
             0.7,
             "#b8e186"
            ],
            [
             0.8,
             "#7fbc41"
            ],
            [
             0.9,
             "#4d9221"
            ],
            [
             1,
             "#276419"
            ]
           ],
           "sequential": [
            [
             0,
             "#0d0887"
            ],
            [
             0.1111111111111111,
             "#46039f"
            ],
            [
             0.2222222222222222,
             "#7201a8"
            ],
            [
             0.3333333333333333,
             "#9c179e"
            ],
            [
             0.4444444444444444,
             "#bd3786"
            ],
            [
             0.5555555555555556,
             "#d8576b"
            ],
            [
             0.6666666666666666,
             "#ed7953"
            ],
            [
             0.7777777777777778,
             "#fb9f3a"
            ],
            [
             0.8888888888888888,
             "#fdca26"
            ],
            [
             1,
             "#f0f921"
            ]
           ],
           "sequentialminus": [
            [
             0,
             "#0d0887"
            ],
            [
             0.1111111111111111,
             "#46039f"
            ],
            [
             0.2222222222222222,
             "#7201a8"
            ],
            [
             0.3333333333333333,
             "#9c179e"
            ],
            [
             0.4444444444444444,
             "#bd3786"
            ],
            [
             0.5555555555555556,
             "#d8576b"
            ],
            [
             0.6666666666666666,
             "#ed7953"
            ],
            [
             0.7777777777777778,
             "#fb9f3a"
            ],
            [
             0.8888888888888888,
             "#fdca26"
            ],
            [
             1,
             "#f0f921"
            ]
           ]
          },
          "colorway": [
           "#636efa",
           "#EF553B",
           "#00cc96",
           "#ab63fa",
           "#FFA15A",
           "#19d3f3",
           "#FF6692",
           "#B6E880",
           "#FF97FF",
           "#FECB52"
          ],
          "font": {
           "color": "#2a3f5f"
          },
          "geo": {
           "bgcolor": "white",
           "lakecolor": "white",
           "landcolor": "#E5ECF6",
           "showlakes": true,
           "showland": true,
           "subunitcolor": "white"
          },
          "hoverlabel": {
           "align": "left"
          },
          "hovermode": "closest",
          "mapbox": {
           "style": "light"
          },
          "paper_bgcolor": "white",
          "plot_bgcolor": "#E5ECF6",
          "polar": {
           "angularaxis": {
            "gridcolor": "white",
            "linecolor": "white",
            "ticks": ""
           },
           "bgcolor": "#E5ECF6",
           "radialaxis": {
            "gridcolor": "white",
            "linecolor": "white",
            "ticks": ""
           }
          },
          "scene": {
           "xaxis": {
            "backgroundcolor": "#E5ECF6",
            "gridcolor": "white",
            "gridwidth": 2,
            "linecolor": "white",
            "showbackground": true,
            "ticks": "",
            "zerolinecolor": "white"
           },
           "yaxis": {
            "backgroundcolor": "#E5ECF6",
            "gridcolor": "white",
            "gridwidth": 2,
            "linecolor": "white",
            "showbackground": true,
            "ticks": "",
            "zerolinecolor": "white"
           },
           "zaxis": {
            "backgroundcolor": "#E5ECF6",
            "gridcolor": "white",
            "gridwidth": 2,
            "linecolor": "white",
            "showbackground": true,
            "ticks": "",
            "zerolinecolor": "white"
           }
          },
          "shapedefaults": {
           "line": {
            "color": "#2a3f5f"
           }
          },
          "ternary": {
           "aaxis": {
            "gridcolor": "white",
            "linecolor": "white",
            "ticks": ""
           },
           "baxis": {
            "gridcolor": "white",
            "linecolor": "white",
            "ticks": ""
           },
           "bgcolor": "#E5ECF6",
           "caxis": {
            "gridcolor": "white",
            "linecolor": "white",
            "ticks": ""
           }
          },
          "title": {
           "x": 0.05
          },
          "xaxis": {
           "automargin": true,
           "gridcolor": "white",
           "linecolor": "white",
           "ticks": "",
           "title": {
            "standoff": 15
           },
           "zerolinecolor": "white",
           "zerolinewidth": 2
          },
          "yaxis": {
           "automargin": true,
           "gridcolor": "white",
           "linecolor": "white",
           "ticks": "",
           "title": {
            "standoff": 15
           },
           "zerolinecolor": "white",
           "zerolinewidth": 2
          }
         }
        },
        "title": {
         "text": "Slice Plot"
        },
        "xaxis": {
         "anchor": "y",
         "domain": [
          0,
          0.45
         ],
         "title": {
          "text": "C"
         },
         "type": "log"
        },
        "xaxis2": {
         "anchor": "y2",
         "domain": [
          0.55,
          1
         ],
         "title": {
          "text": "max_iter"
         }
        },
        "yaxis": {
         "anchor": "x",
         "domain": [
          0,
          1
         ],
         "title": {
          "text": "Objective Value"
         }
        },
        "yaxis2": {
         "anchor": "x2",
         "domain": [
          0,
          1
         ],
         "matches": "y",
         "showticklabels": false
        }
       }
      }
     },
     "metadata": {},
     "output_type": "display_data"
    }
   ],
   "source": [
    "optuna.visualization.plot_slice(study)"
   ]
  },
  {
   "cell_type": "code",
   "execution_count": 20,
   "metadata": {},
   "outputs": [
    {
     "name": "stdout",
     "output_type": "stream",
     "text": [
      "Accuracy: 0.8415\n",
      "AUC-ROC: 0.9191\n"
     ]
    },
    {
     "data": {
      "text/plain": [
       "3.552518669856557e-05"
      ]
     },
     "execution_count": 20,
     "metadata": {},
     "output_type": "execute_result"
    }
   ],
   "source": [
    "# Criando um modelo com os melhores hiperparâmetros\n",
    "best_params = trial.params\n",
    "model = svm.LinearSVC(random_state=Random_Seed, dual=False, **best_params)\n",
    "\n",
    "if Cross_Validation:\n",
    "    cv_results = cross_validate(model, X, y, scoring=['accuracy', 'roc_auc'])\n",
    "    acc = cv_results['test_accuracy'].mean()\n",
    "    roc_auc = cv_results['test_roc_auc'].mean()\n",
    "else:\n",
    "    # Train model\n",
    "    model.fit(train_X, train_y)\n",
    "\n",
    "    # Test model\n",
    "    y_pred = model.predict(test_X)\n",
    "    # This module does not have a manual way to access probability\n",
    "    # pred_probs = model.predict_proba(test_X)\n",
    "\n",
    "    # Evaluation\n",
    "    acc = accuracy_score(test_y, y_pred)\n",
    "    # roc_auc = roc_auc_score(test_y, pred_probs[:, 1])\n",
    "\n",
    "print(f\"Accuracy: {acc:.4f}\")\n",
    "print(f\"AUC-ROC: {roc_auc:.4f}\")\n",
    "\n",
    "tracker.stop()"
   ]
  },
  {
   "attachments": {},
   "cell_type": "markdown",
   "metadata": {},
   "source": [
    "### References:\n",
    "* https://scikit-learn.org/stable/modules/svm.html"
   ]
  }
 ],
 "metadata": {
  "kernelspec": {
   "display_name": "base",
   "language": "python",
   "name": "python3"
  },
  "language_info": {
   "codemirror_mode": {
    "name": "ipython",
    "version": 3
   },
   "file_extension": ".py",
   "mimetype": "text/x-python",
   "name": "python",
   "nbconvert_exporter": "python",
   "pygments_lexer": "ipython3",
   "version": "3.10.12"
  },
  "orig_nbformat": 4
 },
 "nbformat": 4,
 "nbformat_minor": 2
}

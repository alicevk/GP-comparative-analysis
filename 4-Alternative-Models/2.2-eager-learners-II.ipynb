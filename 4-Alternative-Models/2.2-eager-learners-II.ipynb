{
 "cells": [
  {
   "attachments": {},
   "cell_type": "markdown",
   "metadata": {},
   "source": [
    "# Alternative Models: Eager Learners II\n",
    "\n",
    "<hr>\n",
    "\n",
    "* Support Vector Machine\n",
    "    * SVC\n",
    "    * NuSVC\n",
    "    * LinearSVC"
   ]
  },
  {
   "cell_type": "code",
   "execution_count": 1,
   "metadata": {},
   "outputs": [],
   "source": [
    "# Import needed libraries and modules\n",
    "from codecarbon import EmissionsTracker\n",
    "import os\n",
    "import numpy as np\n",
    "import pandas as pd\n",
    "from sklearn.model_selection import cross_validate, cross_val_score\n",
    "from sklearn.preprocessing import StandardScaler, OneHotEncoder\n",
    "from sklearn.compose import ColumnTransformer\n",
    "from sklearn.decomposition import PCA\n",
    "from sklearn import svm\n",
    "import optuna\n",
    "from optuna.samplers import GPSampler\n",
    "from sklearn.pipeline import Pipeline\n",
    "import json\n",
    "\n",
    "# Fetch dataset from UCI Repository\n",
    "from ucimlrepo import fetch_ucirepo\n",
    "heart_disease = fetch_ucirepo(id=45)\n",
    "df = heart_disease.data.original"
   ]
  },
  {
   "cell_type": "code",
   "execution_count": 2,
   "metadata": {},
   "outputs": [],
   "source": [
    "# ---------------------------------------------------------------------------- #\n",
    "#                                PRE-PROCESSING                                #\n",
    "# ---------------------------------------------------------------------------- #\n",
    "\n",
    "##### SETTINGS #####\n",
    "PC_Features = True\n",
    "Random_Seed = 82024\n",
    "K_Folds = 10\n",
    "Max_Iterations = 200\n",
    "####################\n",
    "\n",
    "# Drop missing values\n",
    "df = df.dropna()\n",
    "df = df.reset_index(drop=True)\n",
    "\n",
    "# Binarize target\n",
    "df.loc[df['num'] != 0, 'num'] = 1\n",
    "\n",
    "# Define features and target vectors\n",
    "X = df.iloc[:,:-1]\n",
    "y = df['num']\n",
    "\n",
    "# Separate integer from categorical features\n",
    "int_features, cat_features = ['age', 'trestbps', 'chol', 'thalach', 'oldpeak'],\\\n",
    "['sex', 'cp', 'fbs', 'restecg', 'exang', 'slope', 'ca', 'thal']\n",
    "\n",
    "# Define preprocessing\n",
    "preprocessor = ColumnTransformer(\n",
    "    transformers=[\n",
    "        ('int', StandardScaler(), int_features),\n",
    "        ('cat', OneHotEncoder(), cat_features)\n",
    "    ])"
   ]
  },
  {
   "attachments": {},
   "cell_type": "markdown",
   "metadata": {},
   "source": [
    "<hr>\n",
    "\n",
    "## Support Vector Machines:\n",
    "\n",
    "Suport Vector Machines(SVMs) are machine learning algorithms that work by finding a hyperplane to separate data into classes\n",
    "\n",
    "**The advantages of support vector machines are:**\n",
    "\n",
    "* Effective in high dimensional spaces.\n",
    "\n",
    "* Still effective in cases where number of dimensions is greater than the number of samples.\n",
    "\n",
    "* Uses a subset of training points in the decision function (called support vectors), so it is also memory efficient.\n",
    "\n",
    "* Versatile: different Kernel functions can be specified for the decision function as in Gaussian Process Models.\n",
    "\n",
    "**The disadvantages of support vector machines include:**\n",
    "\n",
    "* If the number of features is much greater than the number of samples, avoid over-fitting in choosing Kernel functions and regularization term is crucial.\n",
    "\n",
    "* SVMs do not directly provide probability estimates.\n",
    "\n",
    "<hr>\n",
    "\n",
    "### SVC classification SVM implementation:"
   ]
  },
  {
   "cell_type": "code",
   "execution_count": 3,
   "metadata": {},
   "outputs": [
    {
     "name": "stderr",
     "output_type": "stream",
     "text": [
      "[codecarbon ERROR @ 10:14:43] Error: Another instance of codecarbon is already running. Turn off the other instance to be able to run this one. Exiting.\n",
      "[codecarbon WARNING @ 10:14:43] Another instance of codecarbon is already running. Exiting.\n"
     ]
    },
    {
     "name": "stderr",
     "output_type": "stream",
     "text": [
      "[codecarbon WARNING @ 10:14:43] Another instance of codecarbon is already running. Exiting.\n"
     ]
    },
    {
     "name": "stdout",
     "output_type": "stream",
     "text": [
      "Accuracy: 0.8314 ± 0.0624\n",
      "AUC-ROC: 0.8991 ± 0.0426\n"
     ]
    }
   ],
   "source": [
    "# ---------------------------------------------------------------------------- #\n",
    "#                                     MODEL                                    #\n",
    "# ---------------------------------------------------------------------------- #\n",
    "\n",
    "# Initiate CodeCarbon to track emissions\n",
    "tracker = EmissionsTracker('SVC SVM model', log_level='warning')\n",
    "tracker.start()\n",
    "\n",
    "# Create model\n",
    "model = svm.SVC(random_state=Random_Seed, probability=True)\n",
    "\n",
    "# Define pipeline depending on whether PCA is requested or not\n",
    "if PC_Features:\n",
    "    steps = [\n",
    "        ('preprocessor', preprocessor),\n",
    "        ('pca', PCA(n_components=12)),\n",
    "        ('SVM-SVC-classifier', model)\n",
    "    ]\n",
    "else:\n",
    "    steps = [\n",
    "        ('preprocessor', preprocessor),\n",
    "        ('SVM-SVC-classifier', model)\n",
    "    ]\n",
    "    \n",
    "pipeline = Pipeline(steps)\n",
    "\n",
    "# Perform cross-validation\n",
    "cv_results = cross_validate(pipeline, X, y, scoring=['accuracy', 'roc_auc'], cv=K_Folds)\n",
    "\n",
    "# Calculate and display results\n",
    "acc = np.mean(cv_results['test_accuracy'])\n",
    "acc_std = np.std(cv_results['test_accuracy'])\n",
    "roc_auc = np.mean(cv_results['test_roc_auc'])\n",
    "roc_auc_std = np.std(cv_results['test_roc_auc'])\n",
    "\n",
    "print(f\"Accuracy: {acc:.4f} ± {acc_std:.4f}\")\n",
    "print(f\"AUC-ROC: {roc_auc:.4f} ± {roc_auc_std:.4f}\")\n",
    "\n",
    "# Stop emission tracking\n",
    "_ = tracker.stop()"
   ]
  },
  {
   "cell_type": "code",
   "execution_count": 4,
   "metadata": {},
   "outputs": [],
   "source": [
    "# Save evaluation to an external file\n",
    "file = 'scores.csv'\n",
    "\n",
    "results = pd.DataFrame({\n",
    "    'SVM-SVC-model': [acc, acc_std, roc_auc, roc_auc_std]\n",
    "}, index = ['Accuracy', 'Accuracy STD', 'AUC-ROC', 'AUC-ROC STD'])\n",
    "\n",
    "# Check if file exists\n",
    "if os.path.exists(file):\n",
    "    temp = pd.read_csv(file, index_col=0)\n",
    "    results = pd.concat([temp, results], axis=1)\n",
    "\n",
    "# Export\n",
    "results.to_csv(file)"
   ]
  },
  {
   "cell_type": "code",
   "execution_count": 5,
   "metadata": {},
   "outputs": [
    {
     "name": "stderr",
     "output_type": "stream",
     "text": [
      "[codecarbon ERROR @ 10:14:43] Error: Another instance of codecarbon is already running. Turn off the other instance to be able to run this one. Exiting.\n",
      "[codecarbon WARNING @ 10:14:43] Another instance of codecarbon is already running. Exiting.\n",
      "/tmp/ipykernel_118092/2045152400.py:40: ExperimentalWarning: GPSampler is experimental (supported from v3.6.0). The interface can change in the future.\n",
      "  study = optuna.create_study(direction='maximize', sampler=GPSampler())\n",
      "[I 2024-10-31 10:14:44,919] A new study created in memory with name: no-name-cf706076-d956-4d44-a7a7-f7a38610a4bf\n",
      "[I 2024-10-31 10:14:45,068] Trial 0 finished with value: 0.8325206043956044 and parameters: {'C': 85.73814790564408, 'kernel': 'rbf', 'gamma': 'scale'}. Best is trial 0 with value: 0.8325206043956044.\n",
      "[I 2024-10-31 10:14:45,190] Trial 1 finished with value: 0.8902129120879121 and parameters: {'C': 0.002875451111332801, 'kernel': 'rbf', 'gamma': 'auto'}. Best is trial 1 with value: 0.8902129120879121.\n",
      "[I 2024-10-31 10:14:45,307] Trial 2 finished with value: 0.8830700549450551 and parameters: {'C': 0.0024703870756712745, 'kernel': 'poly', 'gamma': 'scale'}. Best is trial 1 with value: 0.8902129120879121.\n",
      "[I 2024-10-31 10:14:45,435] Trial 3 finished with value: 0.8889423076923076 and parameters: {'C': 2.2136143953890586e-05, 'kernel': 'sigmoid', 'gamma': 'auto'}. Best is trial 1 with value: 0.8902129120879121.\n",
      "[I 2024-10-31 10:14:45,555] Trial 4 finished with value: 0.9031593406593406 and parameters: {'C': 0.8990846913758818, 'kernel': 'poly', 'gamma': 'auto'}. Best is trial 4 with value: 0.9031593406593406.\n",
      "[I 2024-10-31 10:14:45,674] Trial 5 finished with value: 0.9086538461538461 and parameters: {'C': 0.011003876895012329, 'kernel': 'linear', 'gamma': 'auto'}. Best is trial 5 with value: 0.9086538461538461.\n",
      "[I 2024-10-31 10:14:45,791] Trial 6 finished with value: 0.8830700549450551 and parameters: {'C': 0.008122331032278189, 'kernel': 'poly', 'gamma': 'auto'}. Best is trial 5 with value: 0.9086538461538461.\n",
      "[I 2024-10-31 10:14:45,907] Trial 7 finished with value: 0.8830700549450551 and parameters: {'C': 0.0009390175779151296, 'kernel': 'poly', 'gamma': 'scale'}. Best is trial 5 with value: 0.9086538461538461.\n",
      "[I 2024-10-31 10:14:46,045] Trial 8 finished with value: 0.888495879120879 and parameters: {'C': 0.00015932098672656202, 'kernel': 'sigmoid', 'gamma': 'scale'}. Best is trial 5 with value: 0.9086538461538461.\n",
      "[I 2024-10-31 10:14:46,164] Trial 9 finished with value: 0.8975618131868132 and parameters: {'C': 0.19334125309319813, 'kernel': 'poly', 'gamma': 'auto'}. Best is trial 5 with value: 0.9086538461538461.\n",
      "[I 2024-10-31 10:14:53,983] Trial 10 finished with value: 0.9119162087912087 and parameters: {'C': 27.041747586622467, 'kernel': 'linear', 'gamma': 'auto'}. Best is trial 10 with value: 0.9119162087912087.\n",
      "[I 2024-10-31 10:14:54,209] Trial 11 finished with value: 0.8737637362637362 and parameters: {'C': 100.0, 'kernel': 'sigmoid', 'gamma': 'auto'}. Best is trial 10 with value: 0.9119162087912087.\n",
      "[I 2024-10-31 10:14:54,438] Trial 12 finished with value: 0.808653846153846 and parameters: {'C': 100.0, 'kernel': 'poly', 'gamma': 'auto'}. Best is trial 10 with value: 0.9119162087912087.\n",
      "[I 2024-10-31 10:14:54,697] Trial 13 finished with value: 0.9109203296703298 and parameters: {'C': 1.1173809439348448, 'kernel': 'linear', 'gamma': 'auto'}. Best is trial 10 with value: 0.9119162087912087.\n",
      "[I 2024-10-31 10:14:54,944] Trial 14 finished with value: 0.9123282967032967 and parameters: {'C': 4.921133787408878, 'kernel': 'linear', 'gamma': 'scale'}. Best is trial 14 with value: 0.9123282967032967.\n",
      "[I 2024-10-31 10:14:55,184] Trial 15 finished with value: 0.8894230769230769 and parameters: {'C': 0.00010737497479414341, 'kernel': 'linear', 'gamma': 'auto'}. Best is trial 14 with value: 0.9123282967032967.\n",
      "[I 2024-10-31 10:14:55,406] Trial 16 finished with value: 0.9066620879120879 and parameters: {'C': 0.09618623053312798, 'kernel': 'linear', 'gamma': 'scale'}. Best is trial 14 with value: 0.9123282967032967.\n",
      "[I 2024-10-31 10:14:55,650] Trial 17 finished with value: 0.9096153846153847 and parameters: {'C': 0.1564321137680948, 'kernel': 'sigmoid', 'gamma': 'auto'}. Best is trial 14 with value: 0.9123282967032967.\n",
      "[I 2024-10-31 10:14:55,916] Trial 18 finished with value: 0.9122939560439562 and parameters: {'C': 7.082516397167033, 'kernel': 'linear', 'gamma': 'auto'}. Best is trial 14 with value: 0.9123282967032967.\n",
      "[I 2024-10-31 10:14:56,236] Trial 19 finished with value: 0.9153159340659341 and parameters: {'C': 0.6995968157086357, 'kernel': 'sigmoid', 'gamma': 'scale'}. Best is trial 19 with value: 0.9153159340659341.\n",
      "[I 2024-10-31 10:14:56,482] Trial 20 finished with value: 0.9098901098901099 and parameters: {'C': 1.231753494377997, 'kernel': 'sigmoid', 'gamma': 'auto'}. Best is trial 19 with value: 0.9153159340659341.\n",
      "[I 2024-10-31 10:14:56,740] Trial 21 finished with value: 0.8871565934065935 and parameters: {'C': 1e-05, 'kernel': 'rbf', 'gamma': 'scale'}. Best is trial 19 with value: 0.9153159340659341.\n",
      "[I 2024-10-31 10:14:56,984] Trial 22 finished with value: 0.9111950549450551 and parameters: {'C': 0.24239455188707917, 'kernel': 'sigmoid', 'gamma': 'scale'}. Best is trial 19 with value: 0.9153159340659341.\n",
      "[I 2024-10-31 10:14:57,210] Trial 23 finished with value: 0.8984203296703297 and parameters: {'C': 0.17621123961956986, 'kernel': 'rbf', 'gamma': 'auto'}. Best is trial 19 with value: 0.9153159340659341.\n",
      "[I 2024-10-31 10:14:57,454] Trial 24 finished with value: 0.8844436813186813 and parameters: {'C': 1e-05, 'kernel': 'poly', 'gamma': 'auto'}. Best is trial 19 with value: 0.9153159340659341.\n",
      "[I 2024-10-31 10:14:57,734] Trial 25 finished with value: 0.9057348901098902 and parameters: {'C': 1.8333863663062782, 'kernel': 'sigmoid', 'gamma': 'scale'}. Best is trial 19 with value: 0.9153159340659341.\n",
      "[I 2024-10-31 10:14:57,976] Trial 26 finished with value: 0.8934752747252748 and parameters: {'C': 0.002983842404182415, 'kernel': 'linear', 'gamma': 'scale'}. Best is trial 19 with value: 0.9153159340659341.\n",
      "[I 2024-10-31 10:14:58,214] Trial 27 finished with value: 0.9066620879120879 and parameters: {'C': 0.0955781056929565, 'kernel': 'linear', 'gamma': 'auto'}. Best is trial 19 with value: 0.9153159340659341.\n",
      "[I 2024-10-31 10:14:58,598] Trial 28 finished with value: 0.9123626373626375 and parameters: {'C': 23.547648689485033, 'kernel': 'linear', 'gamma': 'scale'}. Best is trial 19 with value: 0.9153159340659341.\n",
      "[I 2024-10-31 10:14:58,972] Trial 29 finished with value: 0.9084821428571429 and parameters: {'C': 0.4656264639629229, 'kernel': 'sigmoid', 'gamma': 'auto'}. Best is trial 19 with value: 0.9153159340659341.\n",
      "[I 2024-10-31 10:14:59,235] Trial 30 finished with value: 0.8889423076923076 and parameters: {'C': 0.008277826685453245, 'kernel': 'sigmoid', 'gamma': 'auto'}. Best is trial 19 with value: 0.9153159340659341.\n",
      "[I 2024-10-31 10:14:59,518] Trial 31 finished with value: 0.9118131868131867 and parameters: {'C': 1.1589157390393325, 'kernel': 'linear', 'gamma': 'scale'}. Best is trial 19 with value: 0.9153159340659341.\n",
      "[I 2024-10-31 10:15:00,405] Trial 32 finished with value: 0.9114697802197803 and parameters: {'C': 100.0, 'kernel': 'linear', 'gamma': 'scale'}. Best is trial 19 with value: 0.9153159340659341.\n",
      "[I 2024-10-31 10:15:00,643] Trial 33 finished with value: 0.8889766483516484 and parameters: {'C': 1e-05, 'kernel': 'linear', 'gamma': 'scale'}. Best is trial 19 with value: 0.9153159340659341.\n",
      "[I 2024-10-31 10:15:01,562] Trial 34 finished with value: 0.9114697802197803 and parameters: {'C': 100.0, 'kernel': 'linear', 'gamma': 'auto'}. Best is trial 19 with value: 0.9153159340659341.\n",
      "[I 2024-10-31 10:15:01,854] Trial 35 finished with value: 0.8876030219780219 and parameters: {'C': 0.03664598070594918, 'kernel': 'rbf', 'gamma': 'scale'}. Best is trial 19 with value: 0.9153159340659341.\n",
      "[I 2024-10-31 10:15:02,118] Trial 36 finished with value: 0.8963255494505494 and parameters: {'C': 0.5752297453265921, 'kernel': 'poly', 'gamma': 'scale'}. Best is trial 19 with value: 0.9153159340659341.\n",
      "[I 2024-10-31 10:15:02,417] Trial 37 finished with value: 0.9121565934065933 and parameters: {'C': 0.4627859113141663, 'kernel': 'sigmoid', 'gamma': 'scale'}. Best is trial 19 with value: 0.9153159340659341.\n",
      "[I 2024-10-31 10:15:02,668] Trial 38 finished with value: 0.9109546703296705 and parameters: {'C': 3.458494365734588, 'kernel': 'linear', 'gamma': 'auto'}. Best is trial 19 with value: 0.9153159340659341.\n",
      "[I 2024-10-31 10:15:02,977] Trial 39 finished with value: 0.9127747252747254 and parameters: {'C': 11.19833296626291, 'kernel': 'linear', 'gamma': 'scale'}. Best is trial 19 with value: 0.9153159340659341.\n",
      "[I 2024-10-31 10:15:03,206] Trial 40 finished with value: 0.8897664835164836 and parameters: {'C': 0.00012345349516917513, 'kernel': 'rbf', 'gamma': 'auto'}. Best is trial 19 with value: 0.9153159340659341.\n",
      "[I 2024-10-31 10:15:03,635] Trial 41 finished with value: 0.9114354395604396 and parameters: {'C': 40.09436971813232, 'kernel': 'linear', 'gamma': 'scale'}. Best is trial 19 with value: 0.9153159340659341.\n",
      "[I 2024-10-31 10:15:03,942] Trial 42 finished with value: 0.9105425824175825 and parameters: {'C': 2.8145880817554154, 'kernel': 'linear', 'gamma': 'scale'}. Best is trial 19 with value: 0.9153159340659341.\n",
      "[I 2024-10-31 10:15:04,215] Trial 43 finished with value: 0.9100274725274726 and parameters: {'C': 0.4904635255118033, 'kernel': 'linear', 'gamma': 'scale'}. Best is trial 19 with value: 0.9153159340659341.\n",
      "[I 2024-10-31 10:15:04,536] Trial 44 finished with value: 0.8889423076923076 and parameters: {'C': 1e-05, 'kernel': 'sigmoid', 'gamma': 'scale'}. Best is trial 19 with value: 0.9153159340659341.\n",
      "[I 2024-10-31 10:15:04,871] Trial 45 finished with value: 0.9072802197802199 and parameters: {'C': 0.08553780258301508, 'kernel': 'sigmoid', 'gamma': 'scale'}. Best is trial 19 with value: 0.9153159340659341.\n",
      "[I 2024-10-31 10:15:05,294] Trial 46 finished with value: 0.9123282967032967 and parameters: {'C': 16.404044603698203, 'kernel': 'linear', 'gamma': 'auto'}. Best is trial 19 with value: 0.9153159340659341.\n",
      "[I 2024-10-31 10:15:05,658] Trial 47 finished with value: 0.8986263736263735 and parameters: {'C': 0.9332414384871675, 'kernel': 'rbf', 'gamma': 'scale'}. Best is trial 19 with value: 0.9153159340659341.\n",
      "[I 2024-10-31 10:15:05,974] Trial 48 finished with value: 0.9139766483516484 and parameters: {'C': 0.5407211031621264, 'kernel': 'sigmoid', 'gamma': 'scale'}. Best is trial 19 with value: 0.9153159340659341.\n",
      "[I 2024-10-31 10:15:06,295] Trial 49 finished with value: 0.9092376373626372 and parameters: {'C': 0.02275561182954561, 'kernel': 'linear', 'gamma': 'scale'}. Best is trial 19 with value: 0.9153159340659341.\n",
      "[I 2024-10-31 10:15:06,634] Trial 50 finished with value: 0.9116758241758243 and parameters: {'C': 0.027927659283584566, 'kernel': 'linear', 'gamma': 'auto'}. Best is trial 19 with value: 0.9153159340659341.\n",
      "[I 2024-10-31 10:15:06,981] Trial 51 finished with value: 0.9032623626373626 and parameters: {'C': 1.7317018198587633, 'kernel': 'rbf', 'gamma': 'auto'}. Best is trial 19 with value: 0.9153159340659341.\n",
      "[I 2024-10-31 10:15:07,246] Trial 52 finished with value: 0.9102678571428571 and parameters: {'C': 0.6765434658789655, 'kernel': 'sigmoid', 'gamma': 'scale'}. Best is trial 19 with value: 0.9153159340659341.\n",
      "[I 2024-10-31 10:15:07,760] Trial 53 finished with value: 0.910989010989011 and parameters: {'C': 48.95153083581048, 'kernel': 'linear', 'gamma': 'auto'}. Best is trial 19 with value: 0.9153159340659341.\n",
      "[I 2024-10-31 10:15:08,113] Trial 54 finished with value: 0.9127747252747254 and parameters: {'C': 11.265069016500194, 'kernel': 'linear', 'gamma': 'scale'}. Best is trial 19 with value: 0.9153159340659341.\n",
      "[I 2024-10-31 10:15:08,406] Trial 55 finished with value: 0.9127747252747254 and parameters: {'C': 10.65757276752898, 'kernel': 'linear', 'gamma': 'auto'}. Best is trial 19 with value: 0.9153159340659341.\n",
      "[I 2024-10-31 10:15:08,651] Trial 56 finished with value: 0.8871565934065935 and parameters: {'C': 0.0005466682261866822, 'kernel': 'rbf', 'gamma': 'scale'}. Best is trial 19 with value: 0.9153159340659341.\n",
      "[I 2024-10-31 10:15:08,874] Trial 57 finished with value: 0.9100274725274726 and parameters: {'C': 0.5066702698622866, 'kernel': 'linear', 'gamma': 'auto'}. Best is trial 19 with value: 0.9153159340659341.\n",
      "[I 2024-10-31 10:15:09,758] Trial 58 finished with value: 0.9114697802197803 and parameters: {'C': 99.99999999999969, 'kernel': 'linear', 'gamma': 'scale'}. Best is trial 19 with value: 0.9153159340659341.\n",
      "[I 2024-10-31 10:15:10,086] Trial 59 finished with value: 0.9037087912087912 and parameters: {'C': 6.1636028398505545, 'kernel': 'sigmoid', 'gamma': 'auto'}. Best is trial 19 with value: 0.9153159340659341.\n",
      "[I 2024-10-31 10:15:10,387] Trial 60 finished with value: 0.9103365384615385 and parameters: {'C': 0.3113534610274388, 'kernel': 'sigmoid', 'gamma': 'scale'}. Best is trial 19 with value: 0.9153159340659341.\n",
      "[I 2024-10-31 10:15:10,761] Trial 61 finished with value: 0.9123282967032967 and parameters: {'C': 13.843185282742324, 'kernel': 'linear', 'gamma': 'scale'}. Best is trial 19 with value: 0.9153159340659341.\n",
      "[I 2024-10-31 10:15:11,070] Trial 62 finished with value: 0.8853021978021978 and parameters: {'C': 5.723575327715648e-05, 'kernel': 'poly', 'gamma': 'scale'}. Best is trial 19 with value: 0.9153159340659341.\n",
      "[I 2024-10-31 10:15:12,086] Trial 63 finished with value: 0.9114697802197803 and parameters: {'C': 100.0, 'kernel': 'linear', 'gamma': 'auto'}. Best is trial 19 with value: 0.9153159340659341.\n",
      "[I 2024-10-31 10:15:12,448] Trial 64 finished with value: 0.9122939560439562 and parameters: {'C': 7.120988237909001, 'kernel': 'linear', 'gamma': 'scale'}. Best is trial 19 with value: 0.9153159340659341.\n",
      "[I 2024-10-31 10:15:12,781] Trial 65 finished with value: 0.8889766483516484 and parameters: {'C': 1e-05, 'kernel': 'linear', 'gamma': 'auto'}. Best is trial 19 with value: 0.9153159340659341.\n",
      "[I 2024-10-31 10:15:13,127] Trial 66 finished with value: 0.9127747252747254 and parameters: {'C': 10.814994183895754, 'kernel': 'linear', 'gamma': 'auto'}. Best is trial 19 with value: 0.9153159340659341.\n",
      "[I 2024-10-31 10:15:13,494] Trial 67 finished with value: 0.9103021978021978 and parameters: {'C': 0.02710749540031913, 'kernel': 'linear', 'gamma': 'auto'}. Best is trial 19 with value: 0.9153159340659341.\n",
      "[I 2024-10-31 10:15:13,792] Trial 68 finished with value: 0.910096153846154 and parameters: {'C': 2.001730042389235, 'kernel': 'linear', 'gamma': 'auto'}. Best is trial 19 with value: 0.9153159340659341.\n",
      "[I 2024-10-31 10:15:14,222] Trial 69 finished with value: 0.8999656593406595 and parameters: {'C': 0.05893679027698996, 'kernel': 'sigmoid', 'gamma': 'auto'}. Best is trial 19 with value: 0.9153159340659341.\n",
      "[I 2024-10-31 10:15:14,775] Trial 70 finished with value: 0.9114354395604396 and parameters: {'C': 44.89468765904624, 'kernel': 'linear', 'gamma': 'scale'}. Best is trial 19 with value: 0.9153159340659341.\n",
      "[I 2024-10-31 10:15:15,167] Trial 71 finished with value: 0.8889423076923076 and parameters: {'C': 0.0007289216553329146, 'kernel': 'sigmoid', 'gamma': 'auto'}. Best is trial 19 with value: 0.9153159340659341.\n",
      "[I 2024-10-31 10:15:15,820] Trial 72 finished with value: 0.9123626373626375 and parameters: {'C': 18.593513093311213, 'kernel': 'linear', 'gamma': 'auto'}. Best is trial 19 with value: 0.9153159340659341.\n",
      "[I 2024-10-31 10:15:16,140] Trial 73 finished with value: 0.9104739010989011 and parameters: {'C': 1.287390961651028, 'kernel': 'linear', 'gamma': 'scale'}. Best is trial 19 with value: 0.9153159340659341.\n",
      "[I 2024-10-31 10:15:16,468] Trial 74 finished with value: 0.9122939560439562 and parameters: {'C': 7.026334340034542, 'kernel': 'linear', 'gamma': 'auto'}. Best is trial 19 with value: 0.9153159340659341.\n",
      "[I 2024-10-31 10:15:16,863] Trial 75 finished with value: 0.9068337912087913 and parameters: {'C': 0.6475155360230849, 'kernel': 'rbf', 'gamma': 'auto'}. Best is trial 19 with value: 0.9153159340659341.\n",
      "[I 2024-10-31 10:15:17,159] Trial 76 finished with value: 0.8708447802197803 and parameters: {'C': 13.137304606601775, 'kernel': 'sigmoid', 'gamma': 'scale'}. Best is trial 19 with value: 0.9153159340659341.\n",
      "[I 2024-10-31 10:15:17,512] Trial 77 finished with value: 0.8897664835164836 and parameters: {'C': 1e-05, 'kernel': 'rbf', 'gamma': 'auto'}. Best is trial 19 with value: 0.9153159340659341.\n",
      "[I 2024-10-31 10:15:17,853] Trial 78 finished with value: 0.8893887362637362 and parameters: {'C': 0.002887258169332905, 'kernel': 'sigmoid', 'gamma': 'scale'}. Best is trial 19 with value: 0.9153159340659341.\n",
      "[I 2024-10-31 10:15:18,122] Trial 79 finished with value: 0.8853021978021978 and parameters: {'C': 0.00016474273427726093, 'kernel': 'poly', 'gamma': 'auto'}. Best is trial 19 with value: 0.9153159340659341.\n",
      "[I 2024-10-31 10:15:18,456] Trial 80 finished with value: 0.8894230769230769 and parameters: {'C': 0.001282961774331813, 'kernel': 'linear', 'gamma': 'auto'}. Best is trial 19 with value: 0.9153159340659341.\n",
      "[I 2024-10-31 10:15:18,728] Trial 81 finished with value: 0.8951923076923076 and parameters: {'C': 0.047534687690667154, 'kernel': 'poly', 'gamma': 'scale'}. Best is trial 19 with value: 0.9153159340659341.\n",
      "[I 2024-10-31 10:15:18,997] Trial 82 finished with value: 0.9167925824175824 and parameters: {'C': 2.140216894772957, 'kernel': 'sigmoid', 'gamma': 'auto'}. Best is trial 82 with value: 0.9167925824175824.\n",
      "[I 2024-10-31 10:15:19,300] Trial 83 finished with value: 0.9162087912087913 and parameters: {'C': 2.1101463810229135, 'kernel': 'sigmoid', 'gamma': 'auto'}. Best is trial 82 with value: 0.9167925824175824.\n",
      "[I 2024-10-31 10:15:19,593] Trial 84 finished with value: 0.9135302197802198 and parameters: {'C': 2.206407713213075, 'kernel': 'sigmoid', 'gamma': 'auto'}. Best is trial 82 with value: 0.9167925824175824.\n",
      "[I 2024-10-31 10:15:19,985] Trial 85 finished with value: 0.9162431318681319 and parameters: {'C': 2.0985290439282758, 'kernel': 'sigmoid', 'gamma': 'auto'}. Best is trial 82 with value: 0.9167925824175824.\n",
      "[I 2024-10-31 10:15:20,357] Trial 86 finished with value: 0.9135645604395604 and parameters: {'C': 2.1803231760723443, 'kernel': 'sigmoid', 'gamma': 'auto'}. Best is trial 82 with value: 0.9167925824175824.\n",
      "[I 2024-10-31 10:15:20,839] Trial 87 finished with value: 0.9111607142857144 and parameters: {'C': 1.6488396006048138, 'kernel': 'sigmoid', 'gamma': 'auto'}. Best is trial 82 with value: 0.9167925824175824.\n",
      "[I 2024-10-31 10:15:21,231] Trial 88 finished with value: 0.887912087912088 and parameters: {'C': 3.1777439935250267, 'kernel': 'poly', 'gamma': 'auto'}. Best is trial 82 with value: 0.9167925824175824.\n",
      "[I 2024-10-31 10:15:21,629] Trial 89 finished with value: 0.9135989010989011 and parameters: {'C': 2.615456081255673, 'kernel': 'sigmoid', 'gamma': 'auto'}. Best is trial 82 with value: 0.9167925824175824.\n",
      "[I 2024-10-31 10:15:21,952] Trial 90 finished with value: 0.8894230769230769 and parameters: {'C': 0.00021573919602652894, 'kernel': 'linear', 'gamma': 'scale'}. Best is trial 82 with value: 0.9167925824175824.\n",
      "[I 2024-10-31 10:15:22,276] Trial 91 finished with value: 0.9144917582417582 and parameters: {'C': 2.6227190526074, 'kernel': 'sigmoid', 'gamma': 'auto'}. Best is trial 82 with value: 0.9167925824175824.\n",
      "[I 2024-10-31 10:15:22,597] Trial 92 finished with value: 0.8906936813186814 and parameters: {'C': 0.018944871630290665, 'kernel': 'rbf', 'gamma': 'auto'}. Best is trial 82 with value: 0.9167925824175824.\n",
      "[I 2024-10-31 10:15:23,062] Trial 93 finished with value: 0.8930631868131869 and parameters: {'C': 0.023887220297885967, 'kernel': 'sigmoid', 'gamma': 'scale'}. Best is trial 82 with value: 0.9167925824175824.\n",
      "[I 2024-10-31 10:15:23,449] Trial 94 finished with value: 0.8871565934065935 and parameters: {'C': 5.194199133969306e-05, 'kernel': 'rbf', 'gamma': 'scale'}. Best is trial 82 with value: 0.9167925824175824.\n",
      "[I 2024-10-31 10:15:23,812] Trial 95 finished with value: 0.9096497252747252 and parameters: {'C': 0.2833583253204307, 'kernel': 'linear', 'gamma': 'scale'}. Best is trial 82 with value: 0.9167925824175824.\n",
      "[I 2024-10-31 10:15:24,177] Trial 96 finished with value: 0.9096497252747252 and parameters: {'C': 0.27929930632176264, 'kernel': 'linear', 'gamma': 'auto'}. Best is trial 82 with value: 0.9167925824175824.\n",
      "[I 2024-10-31 10:15:24,543] Trial 97 finished with value: 0.9127403846153846 and parameters: {'C': 2.6730830664835317, 'kernel': 'sigmoid', 'gamma': 'auto'}. Best is trial 82 with value: 0.9167925824175824.\n",
      "[I 2024-10-31 10:15:24,880] Trial 98 finished with value: 0.9143543956043956 and parameters: {'C': 1.3895688035554445, 'kernel': 'sigmoid', 'gamma': 'auto'}. Best is trial 82 with value: 0.9167925824175824.\n",
      "[I 2024-10-31 10:15:25,174] Trial 99 finished with value: 0.9120879120879121 and parameters: {'C': 1.3694502117325549, 'kernel': 'sigmoid', 'gamma': 'auto'}. Best is trial 82 with value: 0.9167925824175824.\n"
     ]
    }
   ],
   "source": [
    "# ---------------------------------------------------------------------------- #\n",
    "#                                 OPTIMIZATION                                 #\n",
    "# ---------------------------------------------------------------------------- #\n",
    "\n",
    "# Initiate CodeCarbon to track emissions\n",
    "tracker = EmissionsTracker('SVC SVM optimization', log_level='warning')\n",
    "tracker.start()\n",
    "\n",
    "# Objective function\n",
    "def objective(trial):\n",
    "      # Define parameters\n",
    "      C = trial.suggest_float('C', 1e-5, 1e2, log=True)  # Faixa de valores para o parâmetro de regularização C\n",
    "      kernel = trial.suggest_categorical('kernel', ['linear', 'poly', 'rbf', 'sigmoid'])  # Seleção do kernel\n",
    "      gamma = trial.suggest_categorical('gamma', ['scale', 'auto'])  # Opções para o parâmetro gamma\n",
    "\n",
    "      # Create model\n",
    "      temp_model = svm.SVC(C=C, kernel=kernel, gamma=gamma)\n",
    "\n",
    "      # Define pipeline depending on whether PCA is requested or not\n",
    "      if PC_Features:\n",
    "            steps = [\n",
    "            ('preprocessor', preprocessor),\n",
    "            ('pca', PCA(n_components=12)),\n",
    "            ('SVM-SVC-classifier', temp_model)\n",
    "            ]\n",
    "      else:\n",
    "            steps = [\n",
    "            ('preprocessor', preprocessor),\n",
    "            ('SVM-SVC-classifier', temp_model)\n",
    "            ]\n",
    "            \n",
    "      pipeline = Pipeline(steps)\n",
    "\n",
    "      # Perform cross-validation\n",
    "      roc_auc = cross_val_score(pipeline, X, y, scoring='roc_auc', cv=K_Folds).mean()\n",
    "\n",
    "      return roc_auc\n",
    "\n",
    "# Optimizing with Optuna\n",
    "study = optuna.create_study(direction='maximize', sampler=GPSampler())\n",
    "study.optimize(objective, n_trials=100)"
   ]
  },
  {
   "cell_type": "code",
   "execution_count": 6,
   "metadata": {},
   "outputs": [
    {
     "name": "stdout",
     "output_type": "stream",
     "text": [
      "AUC-ROC: 0.9167925824175824\n",
      "Best hyperparameters: {'C': 2.140216894772957, 'kernel': 'sigmoid', 'gamma': 'auto'}\n"
     ]
    }
   ],
   "source": [
    "# Show best model\n",
    "trial = study.best_trial\n",
    "print('AUC-ROC: {}'.format(trial.value))\n",
    "print(\"Best hyperparameters: {}\".format(trial.params))\n",
    "\n",
    "# Save best trial parameters to a JSON file\n",
    "with open('params/SVM-SVC-params.json', 'w') as f:\n",
    "    json.dump(trial.params, f)"
   ]
  },
  {
   "cell_type": "code",
   "execution_count": 7,
   "metadata": {},
   "outputs": [
    {
     "data": {
      "application/vnd.plotly.v1+json": {
       "config": {
        "plotlyServerURL": "https://plot.ly"
       },
       "data": [
        {
         "mode": "markers",
         "name": "Objective Value",
         "type": "scatter",
         "x": [
          0,
          1,
          2,
          3,
          4,
          5,
          6,
          7,
          8,
          9,
          10,
          11,
          12,
          13,
          14,
          15,
          16,
          17,
          18,
          19,
          20,
          21,
          22,
          23,
          24,
          25,
          26,
          27,
          28,
          29,
          30,
          31,
          32,
          33,
          34,
          35,
          36,
          37,
          38,
          39,
          40,
          41,
          42,
          43,
          44,
          45,
          46,
          47,
          48,
          49,
          50,
          51,
          52,
          53,
          54,
          55,
          56,
          57,
          58,
          59,
          60,
          61,
          62,
          63,
          64,
          65,
          66,
          67,
          68,
          69,
          70,
          71,
          72,
          73,
          74,
          75,
          76,
          77,
          78,
          79,
          80,
          81,
          82,
          83,
          84,
          85,
          86,
          87,
          88,
          89,
          90,
          91,
          92,
          93,
          94,
          95,
          96,
          97,
          98,
          99
         ],
         "y": [
          0.8325206043956044,
          0.8902129120879121,
          0.8830700549450551,
          0.8889423076923076,
          0.9031593406593406,
          0.9086538461538461,
          0.8830700549450551,
          0.8830700549450551,
          0.888495879120879,
          0.8975618131868132,
          0.9119162087912087,
          0.8737637362637362,
          0.808653846153846,
          0.9109203296703298,
          0.9123282967032967,
          0.8894230769230769,
          0.9066620879120879,
          0.9096153846153847,
          0.9122939560439562,
          0.9153159340659341,
          0.9098901098901099,
          0.8871565934065935,
          0.9111950549450551,
          0.8984203296703297,
          0.8844436813186813,
          0.9057348901098902,
          0.8934752747252748,
          0.9066620879120879,
          0.9123626373626375,
          0.9084821428571429,
          0.8889423076923076,
          0.9118131868131867,
          0.9114697802197803,
          0.8889766483516484,
          0.9114697802197803,
          0.8876030219780219,
          0.8963255494505494,
          0.9121565934065933,
          0.9109546703296705,
          0.9127747252747254,
          0.8897664835164836,
          0.9114354395604396,
          0.9105425824175825,
          0.9100274725274726,
          0.8889423076923076,
          0.9072802197802199,
          0.9123282967032967,
          0.8986263736263735,
          0.9139766483516484,
          0.9092376373626372,
          0.9116758241758243,
          0.9032623626373626,
          0.9102678571428571,
          0.910989010989011,
          0.9127747252747254,
          0.9127747252747254,
          0.8871565934065935,
          0.9100274725274726,
          0.9114697802197803,
          0.9037087912087912,
          0.9103365384615385,
          0.9123282967032967,
          0.8853021978021978,
          0.9114697802197803,
          0.9122939560439562,
          0.8889766483516484,
          0.9127747252747254,
          0.9103021978021978,
          0.910096153846154,
          0.8999656593406595,
          0.9114354395604396,
          0.8889423076923076,
          0.9123626373626375,
          0.9104739010989011,
          0.9122939560439562,
          0.9068337912087913,
          0.8708447802197803,
          0.8897664835164836,
          0.8893887362637362,
          0.8853021978021978,
          0.8894230769230769,
          0.8951923076923076,
          0.9167925824175824,
          0.9162087912087913,
          0.9135302197802198,
          0.9162431318681319,
          0.9135645604395604,
          0.9111607142857144,
          0.887912087912088,
          0.9135989010989011,
          0.8894230769230769,
          0.9144917582417582,
          0.8906936813186814,
          0.8930631868131869,
          0.8871565934065935,
          0.9096497252747252,
          0.9096497252747252,
          0.9127403846153846,
          0.9143543956043956,
          0.9120879120879121
         ]
        },
        {
         "mode": "lines",
         "name": "Best Value",
         "type": "scatter",
         "x": [
          0,
          1,
          2,
          3,
          4,
          5,
          6,
          7,
          8,
          9,
          10,
          11,
          12,
          13,
          14,
          15,
          16,
          17,
          18,
          19,
          20,
          21,
          22,
          23,
          24,
          25,
          26,
          27,
          28,
          29,
          30,
          31,
          32,
          33,
          34,
          35,
          36,
          37,
          38,
          39,
          40,
          41,
          42,
          43,
          44,
          45,
          46,
          47,
          48,
          49,
          50,
          51,
          52,
          53,
          54,
          55,
          56,
          57,
          58,
          59,
          60,
          61,
          62,
          63,
          64,
          65,
          66,
          67,
          68,
          69,
          70,
          71,
          72,
          73,
          74,
          75,
          76,
          77,
          78,
          79,
          80,
          81,
          82,
          83,
          84,
          85,
          86,
          87,
          88,
          89,
          90,
          91,
          92,
          93,
          94,
          95,
          96,
          97,
          98,
          99
         ],
         "y": [
          0.8325206043956044,
          0.8902129120879121,
          0.8902129120879121,
          0.8902129120879121,
          0.9031593406593406,
          0.9086538461538461,
          0.9086538461538461,
          0.9086538461538461,
          0.9086538461538461,
          0.9086538461538461,
          0.9119162087912087,
          0.9119162087912087,
          0.9119162087912087,
          0.9119162087912087,
          0.9123282967032967,
          0.9123282967032967,
          0.9123282967032967,
          0.9123282967032967,
          0.9123282967032967,
          0.9153159340659341,
          0.9153159340659341,
          0.9153159340659341,
          0.9153159340659341,
          0.9153159340659341,
          0.9153159340659341,
          0.9153159340659341,
          0.9153159340659341,
          0.9153159340659341,
          0.9153159340659341,
          0.9153159340659341,
          0.9153159340659341,
          0.9153159340659341,
          0.9153159340659341,
          0.9153159340659341,
          0.9153159340659341,
          0.9153159340659341,
          0.9153159340659341,
          0.9153159340659341,
          0.9153159340659341,
          0.9153159340659341,
          0.9153159340659341,
          0.9153159340659341,
          0.9153159340659341,
          0.9153159340659341,
          0.9153159340659341,
          0.9153159340659341,
          0.9153159340659341,
          0.9153159340659341,
          0.9153159340659341,
          0.9153159340659341,
          0.9153159340659341,
          0.9153159340659341,
          0.9153159340659341,
          0.9153159340659341,
          0.9153159340659341,
          0.9153159340659341,
          0.9153159340659341,
          0.9153159340659341,
          0.9153159340659341,
          0.9153159340659341,
          0.9153159340659341,
          0.9153159340659341,
          0.9153159340659341,
          0.9153159340659341,
          0.9153159340659341,
          0.9153159340659341,
          0.9153159340659341,
          0.9153159340659341,
          0.9153159340659341,
          0.9153159340659341,
          0.9153159340659341,
          0.9153159340659341,
          0.9153159340659341,
          0.9153159340659341,
          0.9153159340659341,
          0.9153159340659341,
          0.9153159340659341,
          0.9153159340659341,
          0.9153159340659341,
          0.9153159340659341,
          0.9153159340659341,
          0.9153159340659341,
          0.9167925824175824,
          0.9167925824175824,
          0.9167925824175824,
          0.9167925824175824,
          0.9167925824175824,
          0.9167925824175824,
          0.9167925824175824,
          0.9167925824175824,
          0.9167925824175824,
          0.9167925824175824,
          0.9167925824175824,
          0.9167925824175824,
          0.9167925824175824,
          0.9167925824175824,
          0.9167925824175824,
          0.9167925824175824,
          0.9167925824175824,
          0.9167925824175824
         ]
        },
        {
         "marker": {
          "color": "#cccccc"
         },
         "mode": "markers",
         "name": "Infeasible Trial",
         "showlegend": false,
         "type": "scatter",
         "x": [],
         "y": []
        }
       ],
       "layout": {
        "template": {
         "data": {
          "bar": [
           {
            "error_x": {
             "color": "#2a3f5f"
            },
            "error_y": {
             "color": "#2a3f5f"
            },
            "marker": {
             "line": {
              "color": "#E5ECF6",
              "width": 0.5
             },
             "pattern": {
              "fillmode": "overlay",
              "size": 10,
              "solidity": 0.2
             }
            },
            "type": "bar"
           }
          ],
          "barpolar": [
           {
            "marker": {
             "line": {
              "color": "#E5ECF6",
              "width": 0.5
             },
             "pattern": {
              "fillmode": "overlay",
              "size": 10,
              "solidity": 0.2
             }
            },
            "type": "barpolar"
           }
          ],
          "carpet": [
           {
            "aaxis": {
             "endlinecolor": "#2a3f5f",
             "gridcolor": "white",
             "linecolor": "white",
             "minorgridcolor": "white",
             "startlinecolor": "#2a3f5f"
            },
            "baxis": {
             "endlinecolor": "#2a3f5f",
             "gridcolor": "white",
             "linecolor": "white",
             "minorgridcolor": "white",
             "startlinecolor": "#2a3f5f"
            },
            "type": "carpet"
           }
          ],
          "choropleth": [
           {
            "colorbar": {
             "outlinewidth": 0,
             "ticks": ""
            },
            "type": "choropleth"
           }
          ],
          "contour": [
           {
            "colorbar": {
             "outlinewidth": 0,
             "ticks": ""
            },
            "colorscale": [
             [
              0,
              "#0d0887"
             ],
             [
              0.1111111111111111,
              "#46039f"
             ],
             [
              0.2222222222222222,
              "#7201a8"
             ],
             [
              0.3333333333333333,
              "#9c179e"
             ],
             [
              0.4444444444444444,
              "#bd3786"
             ],
             [
              0.5555555555555556,
              "#d8576b"
             ],
             [
              0.6666666666666666,
              "#ed7953"
             ],
             [
              0.7777777777777778,
              "#fb9f3a"
             ],
             [
              0.8888888888888888,
              "#fdca26"
             ],
             [
              1,
              "#f0f921"
             ]
            ],
            "type": "contour"
           }
          ],
          "contourcarpet": [
           {
            "colorbar": {
             "outlinewidth": 0,
             "ticks": ""
            },
            "type": "contourcarpet"
           }
          ],
          "heatmap": [
           {
            "colorbar": {
             "outlinewidth": 0,
             "ticks": ""
            },
            "colorscale": [
             [
              0,
              "#0d0887"
             ],
             [
              0.1111111111111111,
              "#46039f"
             ],
             [
              0.2222222222222222,
              "#7201a8"
             ],
             [
              0.3333333333333333,
              "#9c179e"
             ],
             [
              0.4444444444444444,
              "#bd3786"
             ],
             [
              0.5555555555555556,
              "#d8576b"
             ],
             [
              0.6666666666666666,
              "#ed7953"
             ],
             [
              0.7777777777777778,
              "#fb9f3a"
             ],
             [
              0.8888888888888888,
              "#fdca26"
             ],
             [
              1,
              "#f0f921"
             ]
            ],
            "type": "heatmap"
           }
          ],
          "heatmapgl": [
           {
            "colorbar": {
             "outlinewidth": 0,
             "ticks": ""
            },
            "colorscale": [
             [
              0,
              "#0d0887"
             ],
             [
              0.1111111111111111,
              "#46039f"
             ],
             [
              0.2222222222222222,
              "#7201a8"
             ],
             [
              0.3333333333333333,
              "#9c179e"
             ],
             [
              0.4444444444444444,
              "#bd3786"
             ],
             [
              0.5555555555555556,
              "#d8576b"
             ],
             [
              0.6666666666666666,
              "#ed7953"
             ],
             [
              0.7777777777777778,
              "#fb9f3a"
             ],
             [
              0.8888888888888888,
              "#fdca26"
             ],
             [
              1,
              "#f0f921"
             ]
            ],
            "type": "heatmapgl"
           }
          ],
          "histogram": [
           {
            "marker": {
             "pattern": {
              "fillmode": "overlay",
              "size": 10,
              "solidity": 0.2
             }
            },
            "type": "histogram"
           }
          ],
          "histogram2d": [
           {
            "colorbar": {
             "outlinewidth": 0,
             "ticks": ""
            },
            "colorscale": [
             [
              0,
              "#0d0887"
             ],
             [
              0.1111111111111111,
              "#46039f"
             ],
             [
              0.2222222222222222,
              "#7201a8"
             ],
             [
              0.3333333333333333,
              "#9c179e"
             ],
             [
              0.4444444444444444,
              "#bd3786"
             ],
             [
              0.5555555555555556,
              "#d8576b"
             ],
             [
              0.6666666666666666,
              "#ed7953"
             ],
             [
              0.7777777777777778,
              "#fb9f3a"
             ],
             [
              0.8888888888888888,
              "#fdca26"
             ],
             [
              1,
              "#f0f921"
             ]
            ],
            "type": "histogram2d"
           }
          ],
          "histogram2dcontour": [
           {
            "colorbar": {
             "outlinewidth": 0,
             "ticks": ""
            },
            "colorscale": [
             [
              0,
              "#0d0887"
             ],
             [
              0.1111111111111111,
              "#46039f"
             ],
             [
              0.2222222222222222,
              "#7201a8"
             ],
             [
              0.3333333333333333,
              "#9c179e"
             ],
             [
              0.4444444444444444,
              "#bd3786"
             ],
             [
              0.5555555555555556,
              "#d8576b"
             ],
             [
              0.6666666666666666,
              "#ed7953"
             ],
             [
              0.7777777777777778,
              "#fb9f3a"
             ],
             [
              0.8888888888888888,
              "#fdca26"
             ],
             [
              1,
              "#f0f921"
             ]
            ],
            "type": "histogram2dcontour"
           }
          ],
          "mesh3d": [
           {
            "colorbar": {
             "outlinewidth": 0,
             "ticks": ""
            },
            "type": "mesh3d"
           }
          ],
          "parcoords": [
           {
            "line": {
             "colorbar": {
              "outlinewidth": 0,
              "ticks": ""
             }
            },
            "type": "parcoords"
           }
          ],
          "pie": [
           {
            "automargin": true,
            "type": "pie"
           }
          ],
          "scatter": [
           {
            "fillpattern": {
             "fillmode": "overlay",
             "size": 10,
             "solidity": 0.2
            },
            "type": "scatter"
           }
          ],
          "scatter3d": [
           {
            "line": {
             "colorbar": {
              "outlinewidth": 0,
              "ticks": ""
             }
            },
            "marker": {
             "colorbar": {
              "outlinewidth": 0,
              "ticks": ""
             }
            },
            "type": "scatter3d"
           }
          ],
          "scattercarpet": [
           {
            "marker": {
             "colorbar": {
              "outlinewidth": 0,
              "ticks": ""
             }
            },
            "type": "scattercarpet"
           }
          ],
          "scattergeo": [
           {
            "marker": {
             "colorbar": {
              "outlinewidth": 0,
              "ticks": ""
             }
            },
            "type": "scattergeo"
           }
          ],
          "scattergl": [
           {
            "marker": {
             "colorbar": {
              "outlinewidth": 0,
              "ticks": ""
             }
            },
            "type": "scattergl"
           }
          ],
          "scattermapbox": [
           {
            "marker": {
             "colorbar": {
              "outlinewidth": 0,
              "ticks": ""
             }
            },
            "type": "scattermapbox"
           }
          ],
          "scatterpolar": [
           {
            "marker": {
             "colorbar": {
              "outlinewidth": 0,
              "ticks": ""
             }
            },
            "type": "scatterpolar"
           }
          ],
          "scatterpolargl": [
           {
            "marker": {
             "colorbar": {
              "outlinewidth": 0,
              "ticks": ""
             }
            },
            "type": "scatterpolargl"
           }
          ],
          "scatterternary": [
           {
            "marker": {
             "colorbar": {
              "outlinewidth": 0,
              "ticks": ""
             }
            },
            "type": "scatterternary"
           }
          ],
          "surface": [
           {
            "colorbar": {
             "outlinewidth": 0,
             "ticks": ""
            },
            "colorscale": [
             [
              0,
              "#0d0887"
             ],
             [
              0.1111111111111111,
              "#46039f"
             ],
             [
              0.2222222222222222,
              "#7201a8"
             ],
             [
              0.3333333333333333,
              "#9c179e"
             ],
             [
              0.4444444444444444,
              "#bd3786"
             ],
             [
              0.5555555555555556,
              "#d8576b"
             ],
             [
              0.6666666666666666,
              "#ed7953"
             ],
             [
              0.7777777777777778,
              "#fb9f3a"
             ],
             [
              0.8888888888888888,
              "#fdca26"
             ],
             [
              1,
              "#f0f921"
             ]
            ],
            "type": "surface"
           }
          ],
          "table": [
           {
            "cells": {
             "fill": {
              "color": "#EBF0F8"
             },
             "line": {
              "color": "white"
             }
            },
            "header": {
             "fill": {
              "color": "#C8D4E3"
             },
             "line": {
              "color": "white"
             }
            },
            "type": "table"
           }
          ]
         },
         "layout": {
          "annotationdefaults": {
           "arrowcolor": "#2a3f5f",
           "arrowhead": 0,
           "arrowwidth": 1
          },
          "autotypenumbers": "strict",
          "coloraxis": {
           "colorbar": {
            "outlinewidth": 0,
            "ticks": ""
           }
          },
          "colorscale": {
           "diverging": [
            [
             0,
             "#8e0152"
            ],
            [
             0.1,
             "#c51b7d"
            ],
            [
             0.2,
             "#de77ae"
            ],
            [
             0.3,
             "#f1b6da"
            ],
            [
             0.4,
             "#fde0ef"
            ],
            [
             0.5,
             "#f7f7f7"
            ],
            [
             0.6,
             "#e6f5d0"
            ],
            [
             0.7,
             "#b8e186"
            ],
            [
             0.8,
             "#7fbc41"
            ],
            [
             0.9,
             "#4d9221"
            ],
            [
             1,
             "#276419"
            ]
           ],
           "sequential": [
            [
             0,
             "#0d0887"
            ],
            [
             0.1111111111111111,
             "#46039f"
            ],
            [
             0.2222222222222222,
             "#7201a8"
            ],
            [
             0.3333333333333333,
             "#9c179e"
            ],
            [
             0.4444444444444444,
             "#bd3786"
            ],
            [
             0.5555555555555556,
             "#d8576b"
            ],
            [
             0.6666666666666666,
             "#ed7953"
            ],
            [
             0.7777777777777778,
             "#fb9f3a"
            ],
            [
             0.8888888888888888,
             "#fdca26"
            ],
            [
             1,
             "#f0f921"
            ]
           ],
           "sequentialminus": [
            [
             0,
             "#0d0887"
            ],
            [
             0.1111111111111111,
             "#46039f"
            ],
            [
             0.2222222222222222,
             "#7201a8"
            ],
            [
             0.3333333333333333,
             "#9c179e"
            ],
            [
             0.4444444444444444,
             "#bd3786"
            ],
            [
             0.5555555555555556,
             "#d8576b"
            ],
            [
             0.6666666666666666,
             "#ed7953"
            ],
            [
             0.7777777777777778,
             "#fb9f3a"
            ],
            [
             0.8888888888888888,
             "#fdca26"
            ],
            [
             1,
             "#f0f921"
            ]
           ]
          },
          "colorway": [
           "#636efa",
           "#EF553B",
           "#00cc96",
           "#ab63fa",
           "#FFA15A",
           "#19d3f3",
           "#FF6692",
           "#B6E880",
           "#FF97FF",
           "#FECB52"
          ],
          "font": {
           "color": "#2a3f5f"
          },
          "geo": {
           "bgcolor": "white",
           "lakecolor": "white",
           "landcolor": "#E5ECF6",
           "showlakes": true,
           "showland": true,
           "subunitcolor": "white"
          },
          "hoverlabel": {
           "align": "left"
          },
          "hovermode": "closest",
          "mapbox": {
           "style": "light"
          },
          "paper_bgcolor": "white",
          "plot_bgcolor": "#E5ECF6",
          "polar": {
           "angularaxis": {
            "gridcolor": "white",
            "linecolor": "white",
            "ticks": ""
           },
           "bgcolor": "#E5ECF6",
           "radialaxis": {
            "gridcolor": "white",
            "linecolor": "white",
            "ticks": ""
           }
          },
          "scene": {
           "xaxis": {
            "backgroundcolor": "#E5ECF6",
            "gridcolor": "white",
            "gridwidth": 2,
            "linecolor": "white",
            "showbackground": true,
            "ticks": "",
            "zerolinecolor": "white"
           },
           "yaxis": {
            "backgroundcolor": "#E5ECF6",
            "gridcolor": "white",
            "gridwidth": 2,
            "linecolor": "white",
            "showbackground": true,
            "ticks": "",
            "zerolinecolor": "white"
           },
           "zaxis": {
            "backgroundcolor": "#E5ECF6",
            "gridcolor": "white",
            "gridwidth": 2,
            "linecolor": "white",
            "showbackground": true,
            "ticks": "",
            "zerolinecolor": "white"
           }
          },
          "shapedefaults": {
           "line": {
            "color": "#2a3f5f"
           }
          },
          "ternary": {
           "aaxis": {
            "gridcolor": "white",
            "linecolor": "white",
            "ticks": ""
           },
           "baxis": {
            "gridcolor": "white",
            "linecolor": "white",
            "ticks": ""
           },
           "bgcolor": "#E5ECF6",
           "caxis": {
            "gridcolor": "white",
            "linecolor": "white",
            "ticks": ""
           }
          },
          "title": {
           "x": 0.05
          },
          "xaxis": {
           "automargin": true,
           "gridcolor": "white",
           "linecolor": "white",
           "ticks": "",
           "title": {
            "standoff": 15
           },
           "zerolinecolor": "white",
           "zerolinewidth": 2
          },
          "yaxis": {
           "automargin": true,
           "gridcolor": "white",
           "linecolor": "white",
           "ticks": "",
           "title": {
            "standoff": 15
           },
           "zerolinecolor": "white",
           "zerolinewidth": 2
          }
         }
        },
        "title": {
         "text": "Optimization History Plot"
        },
        "xaxis": {
         "title": {
          "text": "Trial"
         }
        },
        "yaxis": {
         "title": {
          "text": "Objective Value"
         }
        }
       }
      }
     },
     "metadata": {},
     "output_type": "display_data"
    }
   ],
   "source": [
    "# Visualizing optimization\n",
    "optuna.visualization.plot_optimization_history(study)"
   ]
  },
  {
   "cell_type": "code",
   "execution_count": 8,
   "metadata": {},
   "outputs": [
    {
     "data": {
      "application/vnd.plotly.v1+json": {
       "config": {
        "plotlyServerURL": "https://plot.ly"
       },
       "data": [
        {
         "marker": {
          "color": [
           0,
           1,
           2,
           3,
           4,
           5,
           6,
           7,
           8,
           9,
           10,
           11,
           12,
           13,
           14,
           15,
           16,
           17,
           18,
           19,
           20,
           21,
           22,
           23,
           24,
           25,
           26,
           27,
           28,
           29,
           30,
           31,
           32,
           33,
           34,
           35,
           36,
           37,
           38,
           39,
           40,
           41,
           42,
           43,
           44,
           45,
           46,
           47,
           48,
           49,
           50,
           51,
           52,
           53,
           54,
           55,
           56,
           57,
           58,
           59,
           60,
           61,
           62,
           63,
           64,
           65,
           66,
           67,
           68,
           69,
           70,
           71,
           72,
           73,
           74,
           75,
           76,
           77,
           78,
           79,
           80,
           81,
           82,
           83,
           84,
           85,
           86,
           87,
           88,
           89,
           90,
           91,
           92,
           93,
           94,
           95,
           96,
           97,
           98,
           99
          ],
          "colorbar": {
           "title": {
            "text": "Trial"
           },
           "x": 1,
           "xpad": 40
          },
          "colorscale": [
           [
            0,
            "rgb(247,251,255)"
           ],
           [
            0.125,
            "rgb(222,235,247)"
           ],
           [
            0.25,
            "rgb(198,219,239)"
           ],
           [
            0.375,
            "rgb(158,202,225)"
           ],
           [
            0.5,
            "rgb(107,174,214)"
           ],
           [
            0.625,
            "rgb(66,146,198)"
           ],
           [
            0.75,
            "rgb(33,113,181)"
           ],
           [
            0.875,
            "rgb(8,81,156)"
           ],
           [
            1,
            "rgb(8,48,107)"
           ]
          ],
          "line": {
           "color": "Grey",
           "width": 0.5
          },
          "showscale": true
         },
         "mode": "markers",
         "name": "Feasible Trial",
         "showlegend": false,
         "type": "scatter",
         "x": [
          85.73814790564408,
          0.002875451111332801,
          0.0024703870756712745,
          0.000022136143953890586,
          0.8990846913758818,
          0.011003876895012329,
          0.008122331032278189,
          0.0009390175779151296,
          0.00015932098672656202,
          0.19334125309319813,
          27.041747586622467,
          100,
          100,
          1.1173809439348448,
          4.921133787408878,
          0.00010737497479414341,
          0.09618623053312798,
          0.1564321137680948,
          7.082516397167033,
          0.6995968157086357,
          1.231753494377997,
          0.00001,
          0.24239455188707917,
          0.17621123961956986,
          0.00001,
          1.8333863663062782,
          0.002983842404182415,
          0.0955781056929565,
          23.547648689485033,
          0.4656264639629229,
          0.008277826685453245,
          1.1589157390393325,
          100,
          0.00001,
          100,
          0.03664598070594918,
          0.5752297453265921,
          0.4627859113141663,
          3.458494365734588,
          11.19833296626291,
          0.00012345349516917513,
          40.09436971813232,
          2.8145880817554154,
          0.4904635255118033,
          0.00001,
          0.08553780258301508,
          16.404044603698203,
          0.9332414384871675,
          0.5407211031621264,
          0.02275561182954561,
          0.027927659283584566,
          1.7317018198587633,
          0.6765434658789655,
          48.95153083581048,
          11.265069016500194,
          10.65757276752898,
          0.0005466682261866822,
          0.5066702698622866,
          99.99999999999969,
          6.1636028398505545,
          0.3113534610274388,
          13.843185282742324,
          0.00005723575327715648,
          100,
          7.120988237909001,
          0.00001,
          10.814994183895754,
          0.02710749540031913,
          2.001730042389235,
          0.05893679027698996,
          44.89468765904624,
          0.0007289216553329146,
          18.593513093311213,
          1.287390961651028,
          7.026334340034542,
          0.6475155360230849,
          13.137304606601775,
          0.00001,
          0.002887258169332905,
          0.00016474273427726093,
          0.001282961774331813,
          0.047534687690667154,
          2.140216894772957,
          2.1101463810229135,
          2.206407713213075,
          2.0985290439282758,
          2.1803231760723443,
          1.6488396006048138,
          3.1777439935250267,
          2.615456081255673,
          0.00021573919602652894,
          2.6227190526074,
          0.018944871630290665,
          0.023887220297885967,
          0.00005194199133969306,
          0.2833583253204307,
          0.27929930632176264,
          2.6730830664835317,
          1.3895688035554445,
          1.3694502117325549
         ],
         "xaxis": "x",
         "y": [
          0.8325206043956044,
          0.8902129120879121,
          0.8830700549450551,
          0.8889423076923076,
          0.9031593406593406,
          0.9086538461538461,
          0.8830700549450551,
          0.8830700549450551,
          0.888495879120879,
          0.8975618131868132,
          0.9119162087912087,
          0.8737637362637362,
          0.808653846153846,
          0.9109203296703298,
          0.9123282967032967,
          0.8894230769230769,
          0.9066620879120879,
          0.9096153846153847,
          0.9122939560439562,
          0.9153159340659341,
          0.9098901098901099,
          0.8871565934065935,
          0.9111950549450551,
          0.8984203296703297,
          0.8844436813186813,
          0.9057348901098902,
          0.8934752747252748,
          0.9066620879120879,
          0.9123626373626375,
          0.9084821428571429,
          0.8889423076923076,
          0.9118131868131867,
          0.9114697802197803,
          0.8889766483516484,
          0.9114697802197803,
          0.8876030219780219,
          0.8963255494505494,
          0.9121565934065933,
          0.9109546703296705,
          0.9127747252747254,
          0.8897664835164836,
          0.9114354395604396,
          0.9105425824175825,
          0.9100274725274726,
          0.8889423076923076,
          0.9072802197802199,
          0.9123282967032967,
          0.8986263736263735,
          0.9139766483516484,
          0.9092376373626372,
          0.9116758241758243,
          0.9032623626373626,
          0.9102678571428571,
          0.910989010989011,
          0.9127747252747254,
          0.9127747252747254,
          0.8871565934065935,
          0.9100274725274726,
          0.9114697802197803,
          0.9037087912087912,
          0.9103365384615385,
          0.9123282967032967,
          0.8853021978021978,
          0.9114697802197803,
          0.9122939560439562,
          0.8889766483516484,
          0.9127747252747254,
          0.9103021978021978,
          0.910096153846154,
          0.8999656593406595,
          0.9114354395604396,
          0.8889423076923076,
          0.9123626373626375,
          0.9104739010989011,
          0.9122939560439562,
          0.9068337912087913,
          0.8708447802197803,
          0.8897664835164836,
          0.8893887362637362,
          0.8853021978021978,
          0.8894230769230769,
          0.8951923076923076,
          0.9167925824175824,
          0.9162087912087913,
          0.9135302197802198,
          0.9162431318681319,
          0.9135645604395604,
          0.9111607142857144,
          0.887912087912088,
          0.9135989010989011,
          0.8894230769230769,
          0.9144917582417582,
          0.8906936813186814,
          0.8930631868131869,
          0.8871565934065935,
          0.9096497252747252,
          0.9096497252747252,
          0.9127403846153846,
          0.9143543956043956,
          0.9120879120879121
         ],
         "yaxis": "y"
        },
        {
         "marker": {
          "color": [
           0,
           1,
           2,
           3,
           4,
           5,
           6,
           7,
           8,
           9,
           10,
           11,
           12,
           13,
           14,
           15,
           16,
           17,
           18,
           19,
           20,
           21,
           22,
           23,
           24,
           25,
           26,
           27,
           28,
           29,
           30,
           31,
           32,
           33,
           34,
           35,
           36,
           37,
           38,
           39,
           40,
           41,
           42,
           43,
           44,
           45,
           46,
           47,
           48,
           49,
           50,
           51,
           52,
           53,
           54,
           55,
           56,
           57,
           58,
           59,
           60,
           61,
           62,
           63,
           64,
           65,
           66,
           67,
           68,
           69,
           70,
           71,
           72,
           73,
           74,
           75,
           76,
           77,
           78,
           79,
           80,
           81,
           82,
           83,
           84,
           85,
           86,
           87,
           88,
           89,
           90,
           91,
           92,
           93,
           94,
           95,
           96,
           97,
           98,
           99
          ],
          "colorbar": {
           "title": {
            "text": "Trial"
           },
           "x": 1,
           "xpad": 40
          },
          "colorscale": [
           [
            0,
            "rgb(247,251,255)"
           ],
           [
            0.125,
            "rgb(222,235,247)"
           ],
           [
            0.25,
            "rgb(198,219,239)"
           ],
           [
            0.375,
            "rgb(158,202,225)"
           ],
           [
            0.5,
            "rgb(107,174,214)"
           ],
           [
            0.625,
            "rgb(66,146,198)"
           ],
           [
            0.75,
            "rgb(33,113,181)"
           ],
           [
            0.875,
            "rgb(8,81,156)"
           ],
           [
            1,
            "rgb(8,48,107)"
           ]
          ],
          "line": {
           "color": "Grey",
           "width": 0.5
          },
          "showscale": false
         },
         "mode": "markers",
         "name": "Feasible Trial",
         "showlegend": false,
         "type": "scatter",
         "x": [
          "scale",
          "auto",
          "scale",
          "auto",
          "auto",
          "auto",
          "auto",
          "scale",
          "scale",
          "auto",
          "auto",
          "auto",
          "auto",
          "auto",
          "scale",
          "auto",
          "scale",
          "auto",
          "auto",
          "scale",
          "auto",
          "scale",
          "scale",
          "auto",
          "auto",
          "scale",
          "scale",
          "auto",
          "scale",
          "auto",
          "auto",
          "scale",
          "scale",
          "scale",
          "auto",
          "scale",
          "scale",
          "scale",
          "auto",
          "scale",
          "auto",
          "scale",
          "scale",
          "scale",
          "scale",
          "scale",
          "auto",
          "scale",
          "scale",
          "scale",
          "auto",
          "auto",
          "scale",
          "auto",
          "scale",
          "auto",
          "scale",
          "auto",
          "scale",
          "auto",
          "scale",
          "scale",
          "scale",
          "auto",
          "scale",
          "auto",
          "auto",
          "auto",
          "auto",
          "auto",
          "scale",
          "auto",
          "auto",
          "scale",
          "auto",
          "auto",
          "scale",
          "auto",
          "scale",
          "auto",
          "auto",
          "scale",
          "auto",
          "auto",
          "auto",
          "auto",
          "auto",
          "auto",
          "auto",
          "auto",
          "scale",
          "auto",
          "auto",
          "scale",
          "scale",
          "scale",
          "auto",
          "auto",
          "auto",
          "auto"
         ],
         "xaxis": "x2",
         "y": [
          0.8325206043956044,
          0.8902129120879121,
          0.8830700549450551,
          0.8889423076923076,
          0.9031593406593406,
          0.9086538461538461,
          0.8830700549450551,
          0.8830700549450551,
          0.888495879120879,
          0.8975618131868132,
          0.9119162087912087,
          0.8737637362637362,
          0.808653846153846,
          0.9109203296703298,
          0.9123282967032967,
          0.8894230769230769,
          0.9066620879120879,
          0.9096153846153847,
          0.9122939560439562,
          0.9153159340659341,
          0.9098901098901099,
          0.8871565934065935,
          0.9111950549450551,
          0.8984203296703297,
          0.8844436813186813,
          0.9057348901098902,
          0.8934752747252748,
          0.9066620879120879,
          0.9123626373626375,
          0.9084821428571429,
          0.8889423076923076,
          0.9118131868131867,
          0.9114697802197803,
          0.8889766483516484,
          0.9114697802197803,
          0.8876030219780219,
          0.8963255494505494,
          0.9121565934065933,
          0.9109546703296705,
          0.9127747252747254,
          0.8897664835164836,
          0.9114354395604396,
          0.9105425824175825,
          0.9100274725274726,
          0.8889423076923076,
          0.9072802197802199,
          0.9123282967032967,
          0.8986263736263735,
          0.9139766483516484,
          0.9092376373626372,
          0.9116758241758243,
          0.9032623626373626,
          0.9102678571428571,
          0.910989010989011,
          0.9127747252747254,
          0.9127747252747254,
          0.8871565934065935,
          0.9100274725274726,
          0.9114697802197803,
          0.9037087912087912,
          0.9103365384615385,
          0.9123282967032967,
          0.8853021978021978,
          0.9114697802197803,
          0.9122939560439562,
          0.8889766483516484,
          0.9127747252747254,
          0.9103021978021978,
          0.910096153846154,
          0.8999656593406595,
          0.9114354395604396,
          0.8889423076923076,
          0.9123626373626375,
          0.9104739010989011,
          0.9122939560439562,
          0.9068337912087913,
          0.8708447802197803,
          0.8897664835164836,
          0.8893887362637362,
          0.8853021978021978,
          0.8894230769230769,
          0.8951923076923076,
          0.9167925824175824,
          0.9162087912087913,
          0.9135302197802198,
          0.9162431318681319,
          0.9135645604395604,
          0.9111607142857144,
          0.887912087912088,
          0.9135989010989011,
          0.8894230769230769,
          0.9144917582417582,
          0.8906936813186814,
          0.8930631868131869,
          0.8871565934065935,
          0.9096497252747252,
          0.9096497252747252,
          0.9127403846153846,
          0.9143543956043956,
          0.9120879120879121
         ],
         "yaxis": "y2"
        },
        {
         "marker": {
          "color": [
           0,
           1,
           2,
           3,
           4,
           5,
           6,
           7,
           8,
           9,
           10,
           11,
           12,
           13,
           14,
           15,
           16,
           17,
           18,
           19,
           20,
           21,
           22,
           23,
           24,
           25,
           26,
           27,
           28,
           29,
           30,
           31,
           32,
           33,
           34,
           35,
           36,
           37,
           38,
           39,
           40,
           41,
           42,
           43,
           44,
           45,
           46,
           47,
           48,
           49,
           50,
           51,
           52,
           53,
           54,
           55,
           56,
           57,
           58,
           59,
           60,
           61,
           62,
           63,
           64,
           65,
           66,
           67,
           68,
           69,
           70,
           71,
           72,
           73,
           74,
           75,
           76,
           77,
           78,
           79,
           80,
           81,
           82,
           83,
           84,
           85,
           86,
           87,
           88,
           89,
           90,
           91,
           92,
           93,
           94,
           95,
           96,
           97,
           98,
           99
          ],
          "colorbar": {
           "title": {
            "text": "Trial"
           },
           "x": 1,
           "xpad": 40
          },
          "colorscale": [
           [
            0,
            "rgb(247,251,255)"
           ],
           [
            0.125,
            "rgb(222,235,247)"
           ],
           [
            0.25,
            "rgb(198,219,239)"
           ],
           [
            0.375,
            "rgb(158,202,225)"
           ],
           [
            0.5,
            "rgb(107,174,214)"
           ],
           [
            0.625,
            "rgb(66,146,198)"
           ],
           [
            0.75,
            "rgb(33,113,181)"
           ],
           [
            0.875,
            "rgb(8,81,156)"
           ],
           [
            1,
            "rgb(8,48,107)"
           ]
          ],
          "line": {
           "color": "Grey",
           "width": 0.5
          },
          "showscale": false
         },
         "mode": "markers",
         "name": "Feasible Trial",
         "showlegend": false,
         "type": "scatter",
         "x": [
          "rbf",
          "rbf",
          "poly",
          "sigmoid",
          "poly",
          "linear",
          "poly",
          "poly",
          "sigmoid",
          "poly",
          "linear",
          "sigmoid",
          "poly",
          "linear",
          "linear",
          "linear",
          "linear",
          "sigmoid",
          "linear",
          "sigmoid",
          "sigmoid",
          "rbf",
          "sigmoid",
          "rbf",
          "poly",
          "sigmoid",
          "linear",
          "linear",
          "linear",
          "sigmoid",
          "sigmoid",
          "linear",
          "linear",
          "linear",
          "linear",
          "rbf",
          "poly",
          "sigmoid",
          "linear",
          "linear",
          "rbf",
          "linear",
          "linear",
          "linear",
          "sigmoid",
          "sigmoid",
          "linear",
          "rbf",
          "sigmoid",
          "linear",
          "linear",
          "rbf",
          "sigmoid",
          "linear",
          "linear",
          "linear",
          "rbf",
          "linear",
          "linear",
          "sigmoid",
          "sigmoid",
          "linear",
          "poly",
          "linear",
          "linear",
          "linear",
          "linear",
          "linear",
          "linear",
          "sigmoid",
          "linear",
          "sigmoid",
          "linear",
          "linear",
          "linear",
          "rbf",
          "sigmoid",
          "rbf",
          "sigmoid",
          "poly",
          "linear",
          "poly",
          "sigmoid",
          "sigmoid",
          "sigmoid",
          "sigmoid",
          "sigmoid",
          "sigmoid",
          "poly",
          "sigmoid",
          "linear",
          "sigmoid",
          "rbf",
          "sigmoid",
          "rbf",
          "linear",
          "linear",
          "sigmoid",
          "sigmoid",
          "sigmoid"
         ],
         "xaxis": "x3",
         "y": [
          0.8325206043956044,
          0.8902129120879121,
          0.8830700549450551,
          0.8889423076923076,
          0.9031593406593406,
          0.9086538461538461,
          0.8830700549450551,
          0.8830700549450551,
          0.888495879120879,
          0.8975618131868132,
          0.9119162087912087,
          0.8737637362637362,
          0.808653846153846,
          0.9109203296703298,
          0.9123282967032967,
          0.8894230769230769,
          0.9066620879120879,
          0.9096153846153847,
          0.9122939560439562,
          0.9153159340659341,
          0.9098901098901099,
          0.8871565934065935,
          0.9111950549450551,
          0.8984203296703297,
          0.8844436813186813,
          0.9057348901098902,
          0.8934752747252748,
          0.9066620879120879,
          0.9123626373626375,
          0.9084821428571429,
          0.8889423076923076,
          0.9118131868131867,
          0.9114697802197803,
          0.8889766483516484,
          0.9114697802197803,
          0.8876030219780219,
          0.8963255494505494,
          0.9121565934065933,
          0.9109546703296705,
          0.9127747252747254,
          0.8897664835164836,
          0.9114354395604396,
          0.9105425824175825,
          0.9100274725274726,
          0.8889423076923076,
          0.9072802197802199,
          0.9123282967032967,
          0.8986263736263735,
          0.9139766483516484,
          0.9092376373626372,
          0.9116758241758243,
          0.9032623626373626,
          0.9102678571428571,
          0.910989010989011,
          0.9127747252747254,
          0.9127747252747254,
          0.8871565934065935,
          0.9100274725274726,
          0.9114697802197803,
          0.9037087912087912,
          0.9103365384615385,
          0.9123282967032967,
          0.8853021978021978,
          0.9114697802197803,
          0.9122939560439562,
          0.8889766483516484,
          0.9127747252747254,
          0.9103021978021978,
          0.910096153846154,
          0.8999656593406595,
          0.9114354395604396,
          0.8889423076923076,
          0.9123626373626375,
          0.9104739010989011,
          0.9122939560439562,
          0.9068337912087913,
          0.8708447802197803,
          0.8897664835164836,
          0.8893887362637362,
          0.8853021978021978,
          0.8894230769230769,
          0.8951923076923076,
          0.9167925824175824,
          0.9162087912087913,
          0.9135302197802198,
          0.9162431318681319,
          0.9135645604395604,
          0.9111607142857144,
          0.887912087912088,
          0.9135989010989011,
          0.8894230769230769,
          0.9144917582417582,
          0.8906936813186814,
          0.8930631868131869,
          0.8871565934065935,
          0.9096497252747252,
          0.9096497252747252,
          0.9127403846153846,
          0.9143543956043956,
          0.9120879120879121
         ],
         "yaxis": "y3"
        }
       ],
       "layout": {
        "template": {
         "data": {
          "bar": [
           {
            "error_x": {
             "color": "#2a3f5f"
            },
            "error_y": {
             "color": "#2a3f5f"
            },
            "marker": {
             "line": {
              "color": "#E5ECF6",
              "width": 0.5
             },
             "pattern": {
              "fillmode": "overlay",
              "size": 10,
              "solidity": 0.2
             }
            },
            "type": "bar"
           }
          ],
          "barpolar": [
           {
            "marker": {
             "line": {
              "color": "#E5ECF6",
              "width": 0.5
             },
             "pattern": {
              "fillmode": "overlay",
              "size": 10,
              "solidity": 0.2
             }
            },
            "type": "barpolar"
           }
          ],
          "carpet": [
           {
            "aaxis": {
             "endlinecolor": "#2a3f5f",
             "gridcolor": "white",
             "linecolor": "white",
             "minorgridcolor": "white",
             "startlinecolor": "#2a3f5f"
            },
            "baxis": {
             "endlinecolor": "#2a3f5f",
             "gridcolor": "white",
             "linecolor": "white",
             "minorgridcolor": "white",
             "startlinecolor": "#2a3f5f"
            },
            "type": "carpet"
           }
          ],
          "choropleth": [
           {
            "colorbar": {
             "outlinewidth": 0,
             "ticks": ""
            },
            "type": "choropleth"
           }
          ],
          "contour": [
           {
            "colorbar": {
             "outlinewidth": 0,
             "ticks": ""
            },
            "colorscale": [
             [
              0,
              "#0d0887"
             ],
             [
              0.1111111111111111,
              "#46039f"
             ],
             [
              0.2222222222222222,
              "#7201a8"
             ],
             [
              0.3333333333333333,
              "#9c179e"
             ],
             [
              0.4444444444444444,
              "#bd3786"
             ],
             [
              0.5555555555555556,
              "#d8576b"
             ],
             [
              0.6666666666666666,
              "#ed7953"
             ],
             [
              0.7777777777777778,
              "#fb9f3a"
             ],
             [
              0.8888888888888888,
              "#fdca26"
             ],
             [
              1,
              "#f0f921"
             ]
            ],
            "type": "contour"
           }
          ],
          "contourcarpet": [
           {
            "colorbar": {
             "outlinewidth": 0,
             "ticks": ""
            },
            "type": "contourcarpet"
           }
          ],
          "heatmap": [
           {
            "colorbar": {
             "outlinewidth": 0,
             "ticks": ""
            },
            "colorscale": [
             [
              0,
              "#0d0887"
             ],
             [
              0.1111111111111111,
              "#46039f"
             ],
             [
              0.2222222222222222,
              "#7201a8"
             ],
             [
              0.3333333333333333,
              "#9c179e"
             ],
             [
              0.4444444444444444,
              "#bd3786"
             ],
             [
              0.5555555555555556,
              "#d8576b"
             ],
             [
              0.6666666666666666,
              "#ed7953"
             ],
             [
              0.7777777777777778,
              "#fb9f3a"
             ],
             [
              0.8888888888888888,
              "#fdca26"
             ],
             [
              1,
              "#f0f921"
             ]
            ],
            "type": "heatmap"
           }
          ],
          "heatmapgl": [
           {
            "colorbar": {
             "outlinewidth": 0,
             "ticks": ""
            },
            "colorscale": [
             [
              0,
              "#0d0887"
             ],
             [
              0.1111111111111111,
              "#46039f"
             ],
             [
              0.2222222222222222,
              "#7201a8"
             ],
             [
              0.3333333333333333,
              "#9c179e"
             ],
             [
              0.4444444444444444,
              "#bd3786"
             ],
             [
              0.5555555555555556,
              "#d8576b"
             ],
             [
              0.6666666666666666,
              "#ed7953"
             ],
             [
              0.7777777777777778,
              "#fb9f3a"
             ],
             [
              0.8888888888888888,
              "#fdca26"
             ],
             [
              1,
              "#f0f921"
             ]
            ],
            "type": "heatmapgl"
           }
          ],
          "histogram": [
           {
            "marker": {
             "pattern": {
              "fillmode": "overlay",
              "size": 10,
              "solidity": 0.2
             }
            },
            "type": "histogram"
           }
          ],
          "histogram2d": [
           {
            "colorbar": {
             "outlinewidth": 0,
             "ticks": ""
            },
            "colorscale": [
             [
              0,
              "#0d0887"
             ],
             [
              0.1111111111111111,
              "#46039f"
             ],
             [
              0.2222222222222222,
              "#7201a8"
             ],
             [
              0.3333333333333333,
              "#9c179e"
             ],
             [
              0.4444444444444444,
              "#bd3786"
             ],
             [
              0.5555555555555556,
              "#d8576b"
             ],
             [
              0.6666666666666666,
              "#ed7953"
             ],
             [
              0.7777777777777778,
              "#fb9f3a"
             ],
             [
              0.8888888888888888,
              "#fdca26"
             ],
             [
              1,
              "#f0f921"
             ]
            ],
            "type": "histogram2d"
           }
          ],
          "histogram2dcontour": [
           {
            "colorbar": {
             "outlinewidth": 0,
             "ticks": ""
            },
            "colorscale": [
             [
              0,
              "#0d0887"
             ],
             [
              0.1111111111111111,
              "#46039f"
             ],
             [
              0.2222222222222222,
              "#7201a8"
             ],
             [
              0.3333333333333333,
              "#9c179e"
             ],
             [
              0.4444444444444444,
              "#bd3786"
             ],
             [
              0.5555555555555556,
              "#d8576b"
             ],
             [
              0.6666666666666666,
              "#ed7953"
             ],
             [
              0.7777777777777778,
              "#fb9f3a"
             ],
             [
              0.8888888888888888,
              "#fdca26"
             ],
             [
              1,
              "#f0f921"
             ]
            ],
            "type": "histogram2dcontour"
           }
          ],
          "mesh3d": [
           {
            "colorbar": {
             "outlinewidth": 0,
             "ticks": ""
            },
            "type": "mesh3d"
           }
          ],
          "parcoords": [
           {
            "line": {
             "colorbar": {
              "outlinewidth": 0,
              "ticks": ""
             }
            },
            "type": "parcoords"
           }
          ],
          "pie": [
           {
            "automargin": true,
            "type": "pie"
           }
          ],
          "scatter": [
           {
            "fillpattern": {
             "fillmode": "overlay",
             "size": 10,
             "solidity": 0.2
            },
            "type": "scatter"
           }
          ],
          "scatter3d": [
           {
            "line": {
             "colorbar": {
              "outlinewidth": 0,
              "ticks": ""
             }
            },
            "marker": {
             "colorbar": {
              "outlinewidth": 0,
              "ticks": ""
             }
            },
            "type": "scatter3d"
           }
          ],
          "scattercarpet": [
           {
            "marker": {
             "colorbar": {
              "outlinewidth": 0,
              "ticks": ""
             }
            },
            "type": "scattercarpet"
           }
          ],
          "scattergeo": [
           {
            "marker": {
             "colorbar": {
              "outlinewidth": 0,
              "ticks": ""
             }
            },
            "type": "scattergeo"
           }
          ],
          "scattergl": [
           {
            "marker": {
             "colorbar": {
              "outlinewidth": 0,
              "ticks": ""
             }
            },
            "type": "scattergl"
           }
          ],
          "scattermapbox": [
           {
            "marker": {
             "colorbar": {
              "outlinewidth": 0,
              "ticks": ""
             }
            },
            "type": "scattermapbox"
           }
          ],
          "scatterpolar": [
           {
            "marker": {
             "colorbar": {
              "outlinewidth": 0,
              "ticks": ""
             }
            },
            "type": "scatterpolar"
           }
          ],
          "scatterpolargl": [
           {
            "marker": {
             "colorbar": {
              "outlinewidth": 0,
              "ticks": ""
             }
            },
            "type": "scatterpolargl"
           }
          ],
          "scatterternary": [
           {
            "marker": {
             "colorbar": {
              "outlinewidth": 0,
              "ticks": ""
             }
            },
            "type": "scatterternary"
           }
          ],
          "surface": [
           {
            "colorbar": {
             "outlinewidth": 0,
             "ticks": ""
            },
            "colorscale": [
             [
              0,
              "#0d0887"
             ],
             [
              0.1111111111111111,
              "#46039f"
             ],
             [
              0.2222222222222222,
              "#7201a8"
             ],
             [
              0.3333333333333333,
              "#9c179e"
             ],
             [
              0.4444444444444444,
              "#bd3786"
             ],
             [
              0.5555555555555556,
              "#d8576b"
             ],
             [
              0.6666666666666666,
              "#ed7953"
             ],
             [
              0.7777777777777778,
              "#fb9f3a"
             ],
             [
              0.8888888888888888,
              "#fdca26"
             ],
             [
              1,
              "#f0f921"
             ]
            ],
            "type": "surface"
           }
          ],
          "table": [
           {
            "cells": {
             "fill": {
              "color": "#EBF0F8"
             },
             "line": {
              "color": "white"
             }
            },
            "header": {
             "fill": {
              "color": "#C8D4E3"
             },
             "line": {
              "color": "white"
             }
            },
            "type": "table"
           }
          ]
         },
         "layout": {
          "annotationdefaults": {
           "arrowcolor": "#2a3f5f",
           "arrowhead": 0,
           "arrowwidth": 1
          },
          "autotypenumbers": "strict",
          "coloraxis": {
           "colorbar": {
            "outlinewidth": 0,
            "ticks": ""
           }
          },
          "colorscale": {
           "diverging": [
            [
             0,
             "#8e0152"
            ],
            [
             0.1,
             "#c51b7d"
            ],
            [
             0.2,
             "#de77ae"
            ],
            [
             0.3,
             "#f1b6da"
            ],
            [
             0.4,
             "#fde0ef"
            ],
            [
             0.5,
             "#f7f7f7"
            ],
            [
             0.6,
             "#e6f5d0"
            ],
            [
             0.7,
             "#b8e186"
            ],
            [
             0.8,
             "#7fbc41"
            ],
            [
             0.9,
             "#4d9221"
            ],
            [
             1,
             "#276419"
            ]
           ],
           "sequential": [
            [
             0,
             "#0d0887"
            ],
            [
             0.1111111111111111,
             "#46039f"
            ],
            [
             0.2222222222222222,
             "#7201a8"
            ],
            [
             0.3333333333333333,
             "#9c179e"
            ],
            [
             0.4444444444444444,
             "#bd3786"
            ],
            [
             0.5555555555555556,
             "#d8576b"
            ],
            [
             0.6666666666666666,
             "#ed7953"
            ],
            [
             0.7777777777777778,
             "#fb9f3a"
            ],
            [
             0.8888888888888888,
             "#fdca26"
            ],
            [
             1,
             "#f0f921"
            ]
           ],
           "sequentialminus": [
            [
             0,
             "#0d0887"
            ],
            [
             0.1111111111111111,
             "#46039f"
            ],
            [
             0.2222222222222222,
             "#7201a8"
            ],
            [
             0.3333333333333333,
             "#9c179e"
            ],
            [
             0.4444444444444444,
             "#bd3786"
            ],
            [
             0.5555555555555556,
             "#d8576b"
            ],
            [
             0.6666666666666666,
             "#ed7953"
            ],
            [
             0.7777777777777778,
             "#fb9f3a"
            ],
            [
             0.8888888888888888,
             "#fdca26"
            ],
            [
             1,
             "#f0f921"
            ]
           ]
          },
          "colorway": [
           "#636efa",
           "#EF553B",
           "#00cc96",
           "#ab63fa",
           "#FFA15A",
           "#19d3f3",
           "#FF6692",
           "#B6E880",
           "#FF97FF",
           "#FECB52"
          ],
          "font": {
           "color": "#2a3f5f"
          },
          "geo": {
           "bgcolor": "white",
           "lakecolor": "white",
           "landcolor": "#E5ECF6",
           "showlakes": true,
           "showland": true,
           "subunitcolor": "white"
          },
          "hoverlabel": {
           "align": "left"
          },
          "hovermode": "closest",
          "mapbox": {
           "style": "light"
          },
          "paper_bgcolor": "white",
          "plot_bgcolor": "#E5ECF6",
          "polar": {
           "angularaxis": {
            "gridcolor": "white",
            "linecolor": "white",
            "ticks": ""
           },
           "bgcolor": "#E5ECF6",
           "radialaxis": {
            "gridcolor": "white",
            "linecolor": "white",
            "ticks": ""
           }
          },
          "scene": {
           "xaxis": {
            "backgroundcolor": "#E5ECF6",
            "gridcolor": "white",
            "gridwidth": 2,
            "linecolor": "white",
            "showbackground": true,
            "ticks": "",
            "zerolinecolor": "white"
           },
           "yaxis": {
            "backgroundcolor": "#E5ECF6",
            "gridcolor": "white",
            "gridwidth": 2,
            "linecolor": "white",
            "showbackground": true,
            "ticks": "",
            "zerolinecolor": "white"
           },
           "zaxis": {
            "backgroundcolor": "#E5ECF6",
            "gridcolor": "white",
            "gridwidth": 2,
            "linecolor": "white",
            "showbackground": true,
            "ticks": "",
            "zerolinecolor": "white"
           }
          },
          "shapedefaults": {
           "line": {
            "color": "#2a3f5f"
           }
          },
          "ternary": {
           "aaxis": {
            "gridcolor": "white",
            "linecolor": "white",
            "ticks": ""
           },
           "baxis": {
            "gridcolor": "white",
            "linecolor": "white",
            "ticks": ""
           },
           "bgcolor": "#E5ECF6",
           "caxis": {
            "gridcolor": "white",
            "linecolor": "white",
            "ticks": ""
           }
          },
          "title": {
           "x": 0.05
          },
          "xaxis": {
           "automargin": true,
           "gridcolor": "white",
           "linecolor": "white",
           "ticks": "",
           "title": {
            "standoff": 15
           },
           "zerolinecolor": "white",
           "zerolinewidth": 2
          },
          "yaxis": {
           "automargin": true,
           "gridcolor": "white",
           "linecolor": "white",
           "ticks": "",
           "title": {
            "standoff": 15
           },
           "zerolinecolor": "white",
           "zerolinewidth": 2
          }
         }
        },
        "title": {
         "text": "Slice Plot"
        },
        "xaxis": {
         "anchor": "y",
         "domain": [
          0,
          0.2888888888888889
         ],
         "title": {
          "text": "C"
         },
         "type": "log"
        },
        "xaxis2": {
         "anchor": "y2",
         "categoryarray": [
          "scale",
          "auto"
         ],
         "categoryorder": "array",
         "domain": [
          0.35555555555555557,
          0.6444444444444445
         ],
         "title": {
          "text": "gamma"
         },
         "type": "category"
        },
        "xaxis3": {
         "anchor": "y3",
         "categoryarray": [
          "linear",
          "poly",
          "rbf",
          "sigmoid"
         ],
         "categoryorder": "array",
         "domain": [
          0.7111111111111111,
          1
         ],
         "title": {
          "text": "kernel"
         },
         "type": "category"
        },
        "yaxis": {
         "anchor": "x",
         "domain": [
          0,
          1
         ],
         "title": {
          "text": "Objective Value"
         }
        },
        "yaxis2": {
         "anchor": "x2",
         "domain": [
          0,
          1
         ],
         "matches": "y",
         "showticklabels": false
        },
        "yaxis3": {
         "anchor": "x3",
         "domain": [
          0,
          1
         ],
         "matches": "y",
         "showticklabels": false
        }
       }
      }
     },
     "metadata": {},
     "output_type": "display_data"
    }
   ],
   "source": [
    "optuna.visualization.plot_slice(study)"
   ]
  },
  {
   "cell_type": "code",
   "execution_count": 9,
   "metadata": {},
   "outputs": [
    {
     "name": "stderr",
     "output_type": "stream",
     "text": [
      "[codecarbon WARNING @ 10:15:26] Another instance of codecarbon is already running. Exiting.\n"
     ]
    },
    {
     "name": "stdout",
     "output_type": "stream",
     "text": [
      "Accuracy: 0.8416 ± 0.0547\n",
      "AUC-ROC: 0.9168 ± 0.0356\n"
     ]
    }
   ],
   "source": [
    "# Create optimized model\n",
    "best_params = trial.params\n",
    "model = svm.SVC(random_state=Random_Seed, probability=True, **best_params)\n",
    "\n",
    "# Define pipeline depending on whether PCA is requested or not\n",
    "if PC_Features:\n",
    "    steps = [\n",
    "        ('preprocessor', preprocessor),\n",
    "        ('pca', PCA(n_components=12)),\n",
    "        ('SVM-SVC-classifier', model)\n",
    "    ]\n",
    "else:\n",
    "    steps = [\n",
    "        ('preprocessor', preprocessor),\n",
    "        ('SVM-SVC-classifier', model)\n",
    "    ]\n",
    "    \n",
    "pipeline = Pipeline(steps)\n",
    "\n",
    "# Perform cross-validation\n",
    "cv_results = cross_validate(pipeline, X, y, scoring=['accuracy', 'roc_auc'], cv=K_Folds)\n",
    "\n",
    "# Calculate and display results\n",
    "acc = np.mean(cv_results['test_accuracy'])\n",
    "acc_std = np.std(cv_results['test_accuracy'])\n",
    "roc_auc = np.mean(cv_results['test_roc_auc'])\n",
    "roc_auc_std = np.std(cv_results['test_roc_auc'])\n",
    "\n",
    "print(f\"Accuracy: {acc:.4f} ± {acc_std:.4f}\")\n",
    "print(f\"AUC-ROC: {roc_auc:.4f} ± {roc_auc_std:.4f}\")\n",
    "\n",
    "# Stop emission tracking\n",
    "_ = tracker.stop()"
   ]
  },
  {
   "cell_type": "code",
   "execution_count": 10,
   "metadata": {},
   "outputs": [],
   "source": [
    "# Save evaluation to an external file\n",
    "file = 'scores.csv'\n",
    "\n",
    "results = pd.DataFrame({\n",
    "    'SVM-SVC-optimization': [acc, acc_std, roc_auc, roc_auc_std]\n",
    "}, index = ['Accuracy', 'Accuracy STD', 'AUC-ROC', 'AUC-ROC STD'])\n",
    "\n",
    "# Check if file exists\n",
    "if os.path.exists(file):\n",
    "    temp = pd.read_csv(file, index_col=0)\n",
    "    results = pd.concat([temp, results], axis=1)\n",
    "\n",
    "# Export\n",
    "results.to_csv(file)"
   ]
  },
  {
   "attachments": {},
   "cell_type": "markdown",
   "metadata": {},
   "source": [
    "<hr>\n",
    "\n",
    "### NuSVC classification SVM implementation:"
   ]
  },
  {
   "cell_type": "code",
   "execution_count": 11,
   "metadata": {},
   "outputs": [
    {
     "name": "stderr",
     "output_type": "stream",
     "text": [
      "[codecarbon ERROR @ 10:15:26] Error: Another instance of codecarbon is already running. Turn off the other instance to be able to run this one. Exiting.\n",
      "[codecarbon WARNING @ 10:15:26] Another instance of codecarbon is already running. Exiting.\n",
      "[codecarbon WARNING @ 10:15:26] Another instance of codecarbon is already running. Exiting.\n"
     ]
    },
    {
     "name": "stdout",
     "output_type": "stream",
     "text": [
      "Accuracy: 0.8282 ± 0.0611\n",
      "AUC-ROC: 0.9009 ± 0.0440\n"
     ]
    }
   ],
   "source": [
    "# ---------------------------------------------------------------------------- #\n",
    "#                                     MODEL                                    #\n",
    "# ---------------------------------------------------------------------------- #\n",
    "\n",
    "# Initiate CodeCarbon to track emissions\n",
    "tracker = EmissionsTracker('NuSVC SVM model', log_level='warning')\n",
    "tracker.start()\n",
    "\n",
    "# Create model\n",
    "model = svm.NuSVC(random_state=Random_Seed, probability=True)\n",
    "\n",
    "# Define pipeline depending on whether PCA is requested or not\n",
    "if PC_Features:\n",
    "    steps = [\n",
    "        ('preprocessor', preprocessor),\n",
    "        ('pca', PCA(n_components=12)),\n",
    "        ('SVM-NuSVC-classifier', model)\n",
    "    ]\n",
    "else:\n",
    "    steps = [\n",
    "        ('preprocessor', preprocessor),\n",
    "        ('SVM-NuSVC-classifier', model)\n",
    "    ]\n",
    "    \n",
    "pipeline = Pipeline(steps)\n",
    "\n",
    "# Perform cross-validation\n",
    "cv_results = cross_validate(pipeline, X, y, scoring=['accuracy', 'roc_auc'], cv=K_Folds)\n",
    "\n",
    "# Calculate and display results\n",
    "acc = np.mean(cv_results['test_accuracy'])\n",
    "acc_std = np.std(cv_results['test_accuracy'])\n",
    "roc_auc = np.mean(cv_results['test_roc_auc'])\n",
    "roc_auc_std = np.std(cv_results['test_roc_auc'])\n",
    "\n",
    "print(f\"Accuracy: {acc:.4f} ± {acc_std:.4f}\")\n",
    "print(f\"AUC-ROC: {roc_auc:.4f} ± {roc_auc_std:.4f}\")\n",
    "\n",
    "# Stop emission tracking\n",
    "_ = tracker.stop()"
   ]
  },
  {
   "cell_type": "code",
   "execution_count": 12,
   "metadata": {},
   "outputs": [],
   "source": [
    "# Save evaluation to an external file\n",
    "file = 'scores.csv'\n",
    "\n",
    "results = pd.DataFrame({\n",
    "    'SVM-NuSVC-model': [acc, acc_std, roc_auc, roc_auc_std]\n",
    "}, index = ['Accuracy', 'Accuracy STD', 'AUC-ROC', 'AUC-ROC STD'])\n",
    "\n",
    "# Check if file exists\n",
    "if os.path.exists(file):\n",
    "    temp = pd.read_csv(file, index_col=0)\n",
    "    results = pd.concat([temp, results], axis=1)\n",
    "\n",
    "# Export\n",
    "results.to_csv(file)"
   ]
  },
  {
   "cell_type": "code",
   "execution_count": 13,
   "metadata": {},
   "outputs": [
    {
     "name": "stderr",
     "output_type": "stream",
     "text": [
      "[codecarbon ERROR @ 10:15:26] Error: Another instance of codecarbon is already running. Turn off the other instance to be able to run this one. Exiting.\n",
      "[codecarbon WARNING @ 10:15:26] Another instance of codecarbon is already running. Exiting.\n",
      "/tmp/ipykernel_118092/2282820642.py:40: ExperimentalWarning:\n",
      "\n",
      "GPSampler is experimental (supported from v3.6.0). The interface can change in the future.\n",
      "\n",
      "[I 2024-10-31 10:15:26,393] A new study created in memory with name: no-name-59d3bc31-ccb2-4659-ae1e-ad43320546ed\n",
      "[I 2024-10-31 10:15:26,543] Trial 0 finished with value: 0.1510989010989011 and parameters: {'nu': 0.18265542863524883, 'kernel': 'sigmoid', 'gamma': 'auto'}. Best is trial 0 with value: 0.1510989010989011.\n",
      "[I 2024-10-31 10:15:26,676] Trial 1 finished with value: 0.9004807692307694 and parameters: {'nu': 0.7398538242087201, 'kernel': 'poly', 'gamma': 'scale'}. Best is trial 1 with value: 0.9004807692307694.\n",
      "[I 2024-10-31 10:15:26,826] Trial 2 finished with value: 0.1237293956043956 and parameters: {'nu': 0.21031925082988956, 'kernel': 'sigmoid', 'gamma': 'scale'}. Best is trial 1 with value: 0.9004807692307694.\n",
      "[I 2024-10-31 10:15:26,956] Trial 3 finished with value: 0.841723901098901 and parameters: {'nu': 0.25404960495898954, 'kernel': 'poly', 'gamma': 'auto'}. Best is trial 1 with value: 0.9004807692307694.\n",
      "[I 2024-10-31 10:15:27,090] Trial 4 finished with value: 0.9009271978021978 and parameters: {'nu': 0.40493845251081073, 'kernel': 'rbf', 'gamma': 'scale'}. Best is trial 4 with value: 0.9009271978021978.\n",
      "[I 2024-10-31 10:15:27,223] Trial 5 finished with value: 0.8892857142857142 and parameters: {'nu': 0.869301965842053, 'kernel': 'rbf', 'gamma': 'auto'}. Best is trial 4 with value: 0.9009271978021978.\n",
      "[I 2024-10-31 10:15:27,339] Trial 6 finished with value: 0.8324175824175825 and parameters: {'nu': 0.15831733027494688, 'kernel': 'linear', 'gamma': 'scale'}. Best is trial 4 with value: 0.9009271978021978.\n",
      "[I 2024-10-31 10:15:27,467] Trial 7 finished with value: 0.18248626373626373 and parameters: {'nu': 0.12610116273139677, 'kernel': 'sigmoid', 'gamma': 'auto'}. Best is trial 4 with value: 0.9009271978021978.\n",
      "[I 2024-10-31 10:15:27,606] Trial 8 finished with value: 0.1801510989010989 and parameters: {'nu': 0.10361577420887737, 'kernel': 'sigmoid', 'gamma': 'auto'}. Best is trial 4 with value: 0.9009271978021978.\n",
      "[I 2024-10-31 10:15:27,742] Trial 9 finished with value: 0.8300137362637361 and parameters: {'nu': 0.1988361536562294, 'kernel': 'poly', 'gamma': 'auto'}. Best is trial 4 with value: 0.9009271978021978.\n",
      "[I 2024-10-31 10:15:28,056] Trial 10 finished with value: 0.8362293956043956 and parameters: {'nu': 0.10000000000000002, 'kernel': 'rbf', 'gamma': 'auto'}. Best is trial 4 with value: 0.9009271978021978.\n",
      "[I 2024-10-31 10:15:28,275] Trial 11 finished with value: 0.8893887362637363 and parameters: {'nu': 0.9, 'kernel': 'rbf', 'gamma': 'scale'}. Best is trial 4 with value: 0.9009271978021978.\n",
      "[I 2024-10-31 10:15:28,492] Trial 12 finished with value: 0.8912087912087913 and parameters: {'nu': 0.9, 'kernel': 'linear', 'gamma': 'auto'}. Best is trial 4 with value: 0.9009271978021978.\n",
      "[I 2024-10-31 10:15:28,699] Trial 13 finished with value: 0.8912087912087913 and parameters: {'nu': 0.9, 'kernel': 'linear', 'gamma': 'scale'}. Best is trial 4 with value: 0.9009271978021978.\n",
      "[I 2024-10-31 10:15:28,916] Trial 14 finished with value: 0.8893887362637363 and parameters: {'nu': 0.9, 'kernel': 'poly', 'gamma': 'auto'}. Best is trial 4 with value: 0.9009271978021978.\n",
      "[I 2024-10-31 10:15:29,177] Trial 15 finished with value: 0.8942994505494506 and parameters: {'nu': 0.8950086695613855, 'kernel': 'poly', 'gamma': 'scale'}. Best is trial 4 with value: 0.9009271978021978.\n",
      "[I 2024-10-31 10:15:29,422] Trial 16 finished with value: 0.8339285714285714 and parameters: {'nu': 0.10000000000000002, 'kernel': 'rbf', 'gamma': 'scale'}. Best is trial 4 with value: 0.9009271978021978.\n",
      "[I 2024-10-31 10:15:29,777] Trial 17 finished with value: 0.905048076923077 and parameters: {'nu': 0.4439347003914433, 'kernel': 'rbf', 'gamma': 'auto'}. Best is trial 17 with value: 0.905048076923077.\n",
      "[I 2024-10-31 10:15:30,056] Trial 18 finished with value: 0.9054945054945055 and parameters: {'nu': 0.43120581188488205, 'kernel': 'rbf', 'gamma': 'auto'}. Best is trial 18 with value: 0.9054945054945055.\n",
      "[I 2024-10-31 10:15:30,377] Trial 19 finished with value: 0.9054945054945055 and parameters: {'nu': 0.42957899264279176, 'kernel': 'rbf', 'gamma': 'auto'}. Best is trial 18 with value: 0.9054945054945055.\n",
      "[I 2024-10-31 10:15:30,675] Trial 20 finished with value: 0.9054945054945055 and parameters: {'nu': 0.42937280091286945, 'kernel': 'rbf', 'gamma': 'auto'}. Best is trial 18 with value: 0.9054945054945055.\n",
      "[I 2024-10-31 10:15:30,981] Trial 21 finished with value: 0.9054945054945055 and parameters: {'nu': 0.4287961115970348, 'kernel': 'rbf', 'gamma': 'auto'}. Best is trial 18 with value: 0.9054945054945055.\n",
      "[I 2024-10-31 10:15:31,271] Trial 22 finished with value: 0.9054945054945055 and parameters: {'nu': 0.42789650824796616, 'kernel': 'rbf', 'gamma': 'auto'}. Best is trial 18 with value: 0.9054945054945055.\n",
      "[I 2024-10-31 10:15:31,509] Trial 23 finished with value: 0.9054945054945055 and parameters: {'nu': 0.42649066271704483, 'kernel': 'rbf', 'gamma': 'auto'}. Best is trial 18 with value: 0.9054945054945055.\n",
      "[I 2024-10-31 10:15:31,770] Trial 24 finished with value: 0.8660027472527473 and parameters: {'nu': 0.3567610192312854, 'kernel': 'poly', 'gamma': 'scale'}. Best is trial 18 with value: 0.9054945054945055.\n",
      "[I 2024-10-31 10:15:32,058] Trial 25 finished with value: 0.9054945054945055 and parameters: {'nu': 0.4324476123643688, 'kernel': 'rbf', 'gamma': 'auto'}. Best is trial 18 with value: 0.9054945054945055.\n",
      "[I 2024-10-31 10:15:32,400] Trial 26 finished with value: 0.9054945054945055 and parameters: {'nu': 0.4302672205403671, 'kernel': 'rbf', 'gamma': 'auto'}. Best is trial 18 with value: 0.9054945054945055.\n",
      "[I 2024-10-31 10:15:32,669] Trial 27 finished with value: 0.9050480769230769 and parameters: {'nu': 0.41511138807411796, 'kernel': 'rbf', 'gamma': 'auto'}. Best is trial 18 with value: 0.9054945054945055.\n",
      "[I 2024-10-31 10:15:32,966] Trial 28 finished with value: 0.9045673076923076 and parameters: {'nu': 0.3827620658210717, 'kernel': 'rbf', 'gamma': 'auto'}. Best is trial 18 with value: 0.9054945054945055.\n",
      "[I 2024-10-31 10:15:33,315] Trial 29 finished with value: 0.9048763736263737 and parameters: {'nu': 0.4093400245693449, 'kernel': 'linear', 'gamma': 'auto'}. Best is trial 18 with value: 0.9054945054945055.\n",
      "[I 2024-10-31 10:15:33,593] Trial 30 finished with value: 0.9149381868131868 and parameters: {'nu': 0.48260326320382935, 'kernel': 'linear', 'gamma': 'scale'}. Best is trial 30 with value: 0.9149381868131868.\n",
      "[I 2024-10-31 10:15:33,900] Trial 31 finished with value: 0.9092719780219781 and parameters: {'nu': 0.383855457576544, 'kernel': 'linear', 'gamma': 'scale'}. Best is trial 30 with value: 0.9149381868131868.\n",
      "[I 2024-10-31 10:15:34,202] Trial 32 finished with value: 0.9114697802197801 and parameters: {'nu': 0.5690906450726888, 'kernel': 'linear', 'gamma': 'auto'}. Best is trial 30 with value: 0.9149381868131868.\n",
      "[I 2024-10-31 10:15:34,553] Trial 33 finished with value: 0.9097527472527472 and parameters: {'nu': 0.5395508610222451, 'kernel': 'linear', 'gamma': 'scale'}. Best is trial 30 with value: 0.9149381868131868.\n",
      "[I 2024-10-31 10:15:34,919] Trial 34 finished with value: 0.8044642857142857 and parameters: {'nu': 0.10000000000000002, 'kernel': 'poly', 'gamma': 'scale'}. Best is trial 30 with value: 0.9149381868131868.\n",
      "[I 2024-10-31 10:15:35,212] Trial 35 finished with value: 0.9116758241758243 and parameters: {'nu': 0.4546932690699523, 'kernel': 'linear', 'gamma': 'scale'}. Best is trial 30 with value: 0.9149381868131868.\n",
      "[I 2024-10-31 10:15:35,595] Trial 36 finished with value: 0.8654532967032967 and parameters: {'nu': 0.19908946122633173, 'kernel': 'rbf', 'gamma': 'auto'}. Best is trial 30 with value: 0.9149381868131868.\n",
      "[I 2024-10-31 10:15:35,949] Trial 37 finished with value: 0.8992101648351648 and parameters: {'nu': 0.27376196591212587, 'kernel': 'linear', 'gamma': 'scale'}. Best is trial 30 with value: 0.9149381868131868.\n",
      "[I 2024-10-31 10:15:36,265] Trial 38 finished with value: 0.8914148351648352 and parameters: {'nu': 0.5261145431982315, 'kernel': 'poly', 'gamma': 'auto'}. Best is trial 30 with value: 0.9149381868131868.\n",
      "[I 2024-10-31 10:15:36,621] Trial 39 finished with value: 0.3705700549450549 and parameters: {'nu': 0.10000000000000002, 'kernel': 'linear', 'gamma': 'auto'}. Best is trial 30 with value: 0.9149381868131868.\n",
      "[I 2024-10-31 10:15:37,087] Trial 40 finished with value: 0.8907967032967032 and parameters: {'nu': 0.9, 'kernel': 'sigmoid', 'gamma': 'auto'}. Best is trial 30 with value: 0.9149381868131868.\n",
      "[I 2024-10-31 10:15:37,506] Trial 41 finished with value: 0.8903502747252748 and parameters: {'nu': 0.8940213205717363, 'kernel': 'sigmoid', 'gamma': 'scale'}. Best is trial 30 with value: 0.9149381868131868.\n",
      "[I 2024-10-31 10:15:37,859] Trial 42 finished with value: 0.8823489010989011 and parameters: {'nu': 0.2748797018738073, 'kernel': 'rbf', 'gamma': 'scale'}. Best is trial 30 with value: 0.9149381868131868.\n",
      "[I 2024-10-31 10:15:38,268] Trial 43 finished with value: 0.9139423076923079 and parameters: {'nu': 0.5019515323684995, 'kernel': 'linear', 'gamma': 'auto'}. Best is trial 30 with value: 0.9149381868131868.\n",
      "[I 2024-10-31 10:15:38,606] Trial 44 finished with value: 0.8961538461538462 and parameters: {'nu': 0.6491197061043863, 'kernel': 'rbf', 'gamma': 'scale'}. Best is trial 30 with value: 0.9149381868131868.\n",
      "[I 2024-10-31 10:15:39,039] Trial 45 finished with value: 0.8369162087912088 and parameters: {'nu': 0.21017147334352954, 'kernel': 'linear', 'gamma': 'scale'}. Best is trial 30 with value: 0.9149381868131868.\n",
      "[I 2024-10-31 10:15:39,422] Trial 46 finished with value: 0.9046359890109891 and parameters: {'nu': 0.3221146918278953, 'kernel': 'linear', 'gamma': 'scale'}. Best is trial 30 with value: 0.9149381868131868.\n",
      "[I 2024-10-31 10:15:39,739] Trial 47 finished with value: 0.8963598901098901 and parameters: {'nu': 0.550622426622525, 'kernel': 'poly', 'gamma': 'scale'}. Best is trial 30 with value: 0.9149381868131868.\n",
      "[I 2024-10-31 10:15:40,079] Trial 48 finished with value: 0.9069024725274726 and parameters: {'nu': 0.6818066498343964, 'kernel': 'sigmoid', 'gamma': 'auto'}. Best is trial 30 with value: 0.9149381868131868.\n",
      "[I 2024-10-31 10:15:40,551] Trial 49 finished with value: 0.9018543956043956 and parameters: {'nu': 0.7249884669100026, 'kernel': 'sigmoid', 'gamma': 'scale'}. Best is trial 30 with value: 0.9149381868131868.\n",
      "[I 2024-10-31 10:15:40,931] Trial 50 finished with value: 0.8564217032967033 and parameters: {'nu': 0.14533520019773483, 'kernel': 'rbf', 'gamma': 'scale'}. Best is trial 30 with value: 0.9149381868131868.\n",
      "[I 2024-10-31 10:15:41,332] Trial 51 finished with value: 0.8990728021978022 and parameters: {'nu': 0.7588098299994399, 'kernel': 'sigmoid', 'gamma': 'auto'}. Best is trial 30 with value: 0.9149381868131868.\n",
      "[I 2024-10-31 10:15:41,672] Trial 52 finished with value: 0.9085164835164836 and parameters: {'nu': 0.2917054022723609, 'kernel': 'linear', 'gamma': 'auto'}. Best is trial 30 with value: 0.9149381868131868.\n",
      "[I 2024-10-31 10:15:42,072] Trial 53 finished with value: 0.9031936813186814 and parameters: {'nu': 0.7213068002504802, 'kernel': 'linear', 'gamma': 'auto'}. Best is trial 30 with value: 0.9149381868131868.\n",
      "[I 2024-10-31 10:15:42,589] Trial 54 finished with value: 0.9124313186813187 and parameters: {'nu': 0.584455162497258, 'kernel': 'sigmoid', 'gamma': 'scale'}. Best is trial 30 with value: 0.9149381868131868.\n",
      "[I 2024-10-31 10:15:43,027] Trial 55 finished with value: 0.9104739010989011 and parameters: {'nu': 0.5722240231108944, 'kernel': 'sigmoid', 'gamma': 'auto'}. Best is trial 30 with value: 0.9149381868131868.\n",
      "[I 2024-10-31 10:15:43,531] Trial 56 finished with value: 0.8950549450549449 and parameters: {'nu': 0.29840474841926734, 'kernel': 'rbf', 'gamma': 'auto'}. Best is trial 30 with value: 0.9149381868131868.\n",
      "[I 2024-10-31 10:15:44,026] Trial 57 finished with value: 0.9004807692307694 and parameters: {'nu': 0.6526114982099789, 'kernel': 'poly', 'gamma': 'auto'}. Best is trial 30 with value: 0.9149381868131868.\n",
      "[I 2024-10-31 10:15:44,507] Trial 58 finished with value: 0.9096497252747252 and parameters: {'nu': 0.6201867337114952, 'kernel': 'sigmoid', 'gamma': 'scale'}. Best is trial 30 with value: 0.9149381868131868.\n",
      "[I 2024-10-31 10:15:45,210] Trial 59 finished with value: 0.8979739010989011 and parameters: {'nu': 0.6501677705360476, 'kernel': 'rbf', 'gamma': 'auto'}. Best is trial 30 with value: 0.9149381868131868.\n",
      "[I 2024-10-31 10:15:45,609] Trial 60 finished with value: 0.8158997252747252 and parameters: {'nu': 0.14204350902979743, 'kernel': 'poly', 'gamma': 'scale'}. Best is trial 30 with value: 0.9149381868131868.\n",
      "[I 2024-10-31 10:15:46,264] Trial 61 finished with value: 0.9130494505494505 and parameters: {'nu': 0.49431697791505996, 'kernel': 'linear', 'gamma': 'scale'}. Best is trial 30 with value: 0.9149381868131868.\n",
      "[I 2024-10-31 10:15:46,675] Trial 62 finished with value: 0.908276098901099 and parameters: {'nu': 0.6457376496175289, 'kernel': 'linear', 'gamma': 'scale'}. Best is trial 30 with value: 0.9149381868131868.\n",
      "[I 2024-10-31 10:15:47,243] Trial 63 finished with value: 0.9076236263736265 and parameters: {'nu': 0.5162542380870642, 'kernel': 'sigmoid', 'gamma': 'scale'}. Best is trial 30 with value: 0.9149381868131868.\n",
      "[I 2024-10-31 10:15:47,758] Trial 64 finished with value: 0.9095467032967033 and parameters: {'nu': 0.34665490431418916, 'kernel': 'linear', 'gamma': 'auto'}. Best is trial 30 with value: 0.9149381868131868.\n",
      "[I 2024-10-31 10:15:48,333] Trial 65 finished with value: 0.8930288461538461 and parameters: {'nu': 0.7660743479472114, 'kernel': 'rbf', 'gamma': 'scale'}. Best is trial 30 with value: 0.9149381868131868.\n",
      "[I 2024-10-31 10:15:48,792] Trial 66 finished with value: 0.9125686813186812 and parameters: {'nu': 0.4776770511990244, 'kernel': 'linear', 'gamma': 'auto'}. Best is trial 30 with value: 0.9149381868131868.\n",
      "[I 2024-10-31 10:15:49,295] Trial 67 finished with value: 0.9008585164835166 and parameters: {'nu': 0.5204092869308996, 'kernel': 'rbf', 'gamma': 'scale'}. Best is trial 30 with value: 0.9149381868131868.\n",
      "[I 2024-10-31 10:15:49,706] Trial 68 finished with value: 0.8976304945054945 and parameters: {'nu': 0.7613812883753273, 'kernel': 'linear', 'gamma': 'scale'}. Best is trial 30 with value: 0.9149381868131868.\n",
      "[I 2024-10-31 10:15:50,218] Trial 69 finished with value: 0.8746909340659341 and parameters: {'nu': 0.41195821340188055, 'kernel': 'poly', 'gamma': 'auto'}. Best is trial 30 with value: 0.9149381868131868.\n",
      "[I 2024-10-31 10:15:50,631] Trial 70 finished with value: 0.8942994505494506 and parameters: {'nu': 0.334258180704823, 'kernel': 'rbf', 'gamma': 'scale'}. Best is trial 30 with value: 0.9149381868131868.\n",
      "[I 2024-10-31 10:15:51,046] Trial 71 finished with value: 0.9022664835164835 and parameters: {'nu': 0.6397416580345184, 'kernel': 'poly', 'gamma': 'scale'}. Best is trial 30 with value: 0.9149381868131868.\n",
      "[I 2024-10-31 10:15:51,440] Trial 72 finished with value: 0.9060782967032968 and parameters: {'nu': 0.5515109999168107, 'kernel': 'sigmoid', 'gamma': 'scale'}. Best is trial 30 with value: 0.9149381868131868.\n",
      "[I 2024-10-31 10:15:51,939] Trial 73 finished with value: 0.9085164835164836 and parameters: {'nu': 0.4562929592788187, 'kernel': 'sigmoid', 'gamma': 'auto'}. Best is trial 30 with value: 0.9149381868131868.\n",
      "[I 2024-10-31 10:15:52,420] Trial 74 finished with value: 0.913118131868132 and parameters: {'nu': 0.46111136872142766, 'kernel': 'sigmoid', 'gamma': 'scale'}. Best is trial 30 with value: 0.9149381868131868.\n",
      "[I 2024-10-31 10:15:53,038] Trial 75 finished with value: 0.910782967032967 and parameters: {'nu': 0.4772058247929962, 'kernel': 'sigmoid', 'gamma': 'scale'}. Best is trial 30 with value: 0.9149381868131868.\n",
      "[I 2024-10-31 10:15:53,456] Trial 76 finished with value: 0.9125343406593407 and parameters: {'nu': 0.4280922843306865, 'kernel': 'sigmoid', 'gamma': 'scale'}. Best is trial 30 with value: 0.9149381868131868.\n",
      "[I 2024-10-31 10:15:54,111] Trial 77 finished with value: 0.9087225274725274 and parameters: {'nu': 0.6087821009892639, 'kernel': 'sigmoid', 'gamma': 'auto'}. Best is trial 30 with value: 0.9149381868131868.\n",
      "[I 2024-10-31 10:15:54,803] Trial 78 finished with value: 0.9030219780219779 and parameters: {'nu': 0.5550781837379625, 'kernel': 'rbf', 'gamma': 'auto'}. Best is trial 30 with value: 0.9149381868131868.\n",
      "[I 2024-10-31 10:15:55,218] Trial 79 finished with value: 0.8791895604395604 and parameters: {'nu': 0.46077958952229, 'kernel': 'poly', 'gamma': 'scale'}. Best is trial 30 with value: 0.9149381868131868.\n",
      "[I 2024-10-31 10:15:55,667] Trial 80 finished with value: 0.8472527472527472 and parameters: {'nu': 0.12438207009986411, 'kernel': 'rbf', 'gamma': 'auto'}. Best is trial 30 with value: 0.9149381868131868.\n",
      "[I 2024-10-31 10:15:56,227] Trial 81 finished with value: 0.9125686813186812 and parameters: {'nu': 0.4764776923415552, 'kernel': 'linear', 'gamma': 'scale'}. Best is trial 30 with value: 0.9149381868131868.\n",
      "[I 2024-10-31 10:15:57,031] Trial 82 finished with value: 0.9134271978021978 and parameters: {'nu': 0.4448628556035837, 'kernel': 'sigmoid', 'gamma': 'scale'}. Best is trial 30 with value: 0.9149381868131868.\n",
      "[I 2024-10-31 10:15:57,434] Trial 83 finished with value: 0.9098557692307694 and parameters: {'nu': 0.517870379166565, 'kernel': 'linear', 'gamma': 'auto'}. Best is trial 30 with value: 0.9149381868131868.\n",
      "[I 2024-10-31 10:15:57,854] Trial 84 finished with value: 0.9077953296703297 and parameters: {'nu': 0.6261969335343303, 'kernel': 'linear', 'gamma': 'auto'}. Best is trial 30 with value: 0.9149381868131868.\n",
      "[I 2024-10-31 10:15:58,497] Trial 85 finished with value: 0.9143887362637363 and parameters: {'nu': 0.4453288098768598, 'kernel': 'sigmoid', 'gamma': 'scale'}. Best is trial 30 with value: 0.9149381868131868.\n",
      "[I 2024-10-31 10:15:59,085] Trial 86 finished with value: 0.809581043956044 and parameters: {'nu': 0.12092844583731513, 'kernel': 'poly', 'gamma': 'auto'}. Best is trial 30 with value: 0.9149381868131868.\n",
      "[I 2024-10-31 10:15:59,590] Trial 87 finished with value: 0.9139423076923077 and parameters: {'nu': 0.4452125560772237, 'kernel': 'sigmoid', 'gamma': 'scale'}. Best is trial 30 with value: 0.9149381868131868.\n",
      "[I 2024-10-31 10:16:00,144] Trial 88 finished with value: 0.9089285714285715 and parameters: {'nu': 0.31603760220293003, 'kernel': 'linear', 'gamma': 'auto'}. Best is trial 30 with value: 0.9149381868131868.\n",
      "[I 2024-10-31 10:16:00,725] Trial 89 finished with value: 0.9084134615384615 and parameters: {'nu': 0.4186607884975059, 'kernel': 'sigmoid', 'gamma': 'auto'}. Best is trial 30 with value: 0.9149381868131868.\n",
      "[I 2024-10-31 10:16:01,088] Trial 90 finished with value: 0.9111607142857144 and parameters: {'nu': 0.4430055649884181, 'kernel': 'sigmoid', 'gamma': 'scale'}. Best is trial 30 with value: 0.9149381868131868.\n",
      "[I 2024-10-31 10:16:01,407] Trial 91 finished with value: 0.8806318681318682 and parameters: {'nu': 0.26168535380196234, 'kernel': 'linear', 'gamma': 'auto'}. Best is trial 30 with value: 0.9149381868131868.\n",
      "[I 2024-10-31 10:16:01,761] Trial 92 finished with value: 0.9141483516483516 and parameters: {'nu': 0.5904946066177335, 'kernel': 'linear', 'gamma': 'scale'}. Best is trial 30 with value: 0.9149381868131868.\n",
      "[I 2024-10-31 10:16:02,153] Trial 93 finished with value: 0.9136675824175825 and parameters: {'nu': 0.5906439652916846, 'kernel': 'linear', 'gamma': 'scale'}. Best is trial 30 with value: 0.9149381868131868.\n",
      "[I 2024-10-31 10:16:02,551] Trial 94 finished with value: 0.9137362637362638 and parameters: {'nu': 0.591397999626175, 'kernel': 'linear', 'gamma': 'scale'}. Best is trial 30 with value: 0.9149381868131868.\n",
      "[I 2024-10-31 10:16:02,975] Trial 95 finished with value: 0.9125686813186812 and parameters: {'nu': 0.47669805887591465, 'kernel': 'linear', 'gamma': 'auto'}. Best is trial 30 with value: 0.9149381868131868.\n",
      "[I 2024-10-31 10:16:03,286] Trial 96 finished with value: 0.8774038461538461 and parameters: {'nu': 0.24591442312485468, 'kernel': 'rbf', 'gamma': 'auto'}. Best is trial 30 with value: 0.9149381868131868.\n",
      "[I 2024-10-31 10:16:03,688] Trial 97 finished with value: 0.9128090659340661 and parameters: {'nu': 0.5951904140633568, 'kernel': 'linear', 'gamma': 'scale'}. Best is trial 30 with value: 0.9149381868131868.\n",
      "[I 2024-10-31 10:16:04,081] Trial 98 finished with value: 0.9153846153846155 and parameters: {'nu': 0.48359699088201413, 'kernel': 'linear', 'gamma': 'scale'}. Best is trial 98 with value: 0.9153846153846155.\n",
      "[I 2024-10-31 10:16:04,552] Trial 99 finished with value: 0.8376373626373625 and parameters: {'nu': 0.22865278640571493, 'kernel': 'poly', 'gamma': 'scale'}. Best is trial 98 with value: 0.9153846153846155.\n"
     ]
    }
   ],
   "source": [
    "# ---------------------------------------------------------------------------- #\n",
    "#                                 OPTIMIZATION                                 #\n",
    "# ---------------------------------------------------------------------------- #\n",
    "\n",
    "# Initiate CodeCarbon to track emissions\n",
    "tracker = EmissionsTracker('NuSVC SVM optimization', log_level='warning')\n",
    "tracker.start()\n",
    "\n",
    "# Objective function\n",
    "def objective(trial):\n",
    "  # Define parameters\n",
    "  nu = trial.suggest_float('nu', 0.1, 0.9, log=True)  # nu é um parâmetro entre 0 e 1\n",
    "  kernel = trial.suggest_categorical('kernel', ['linear', 'poly', 'rbf', 'sigmoid'])  # Tipo de kernel\n",
    "  gamma = trial.suggest_categorical('gamma', ['scale', 'auto'])  # Gamma para os kernels não lineares\n",
    "\n",
    "  # Create model\n",
    "  temp_model = svm.NuSVC(nu=nu, kernel=kernel, gamma=gamma)\n",
    "  \n",
    "  # Define pipeline depending on whether PCA is requested or not\n",
    "  if PC_Features:\n",
    "        steps = [\n",
    "        ('preprocessor', preprocessor),\n",
    "        ('pca', PCA(n_components=12)),\n",
    "        ('SVM-NuSVC-classifier', temp_model)\n",
    "        ]\n",
    "  else:\n",
    "        steps = [\n",
    "        ('preprocessor', preprocessor),\n",
    "        ('SVM-NuSVC-classifier', temp_model)\n",
    "        ]\n",
    "        \n",
    "  pipeline = Pipeline(steps)\n",
    "\n",
    "  # Perform cross-validation\n",
    "  roc_auc = cross_val_score(pipeline, X, y, scoring='roc_auc', cv=K_Folds).mean()\n",
    "  \n",
    "  return roc_auc\n",
    "\n",
    "# Optimizing with Optuna\n",
    "study = optuna.create_study(direction='maximize', sampler=GPSampler())\n",
    "study.optimize(objective, n_trials=100)"
   ]
  },
  {
   "cell_type": "code",
   "execution_count": 14,
   "metadata": {},
   "outputs": [
    {
     "name": "stdout",
     "output_type": "stream",
     "text": [
      "AUC-ROC: 0.9153846153846155\n",
      "Best hyperparameters: {'nu': 0.48359699088201413, 'kernel': 'linear', 'gamma': 'scale'}\n"
     ]
    }
   ],
   "source": [
    "# Show best model\n",
    "trial = study.best_trial\n",
    "print('AUC-ROC: {}'.format(trial.value))\n",
    "print(\"Best hyperparameters: {}\".format(trial.params))\n",
    "\n",
    "# Save best trial parameters to a JSON file\n",
    "with open('params/SVM-NuSVC-params.json', 'w') as f:\n",
    "    json.dump(trial.params, f)"
   ]
  },
  {
   "cell_type": "code",
   "execution_count": 15,
   "metadata": {},
   "outputs": [
    {
     "data": {
      "application/vnd.plotly.v1+json": {
       "config": {
        "plotlyServerURL": "https://plot.ly"
       },
       "data": [
        {
         "mode": "markers",
         "name": "Objective Value",
         "type": "scatter",
         "x": [
          0,
          1,
          2,
          3,
          4,
          5,
          6,
          7,
          8,
          9,
          10,
          11,
          12,
          13,
          14,
          15,
          16,
          17,
          18,
          19,
          20,
          21,
          22,
          23,
          24,
          25,
          26,
          27,
          28,
          29,
          30,
          31,
          32,
          33,
          34,
          35,
          36,
          37,
          38,
          39,
          40,
          41,
          42,
          43,
          44,
          45,
          46,
          47,
          48,
          49,
          50,
          51,
          52,
          53,
          54,
          55,
          56,
          57,
          58,
          59,
          60,
          61,
          62,
          63,
          64,
          65,
          66,
          67,
          68,
          69,
          70,
          71,
          72,
          73,
          74,
          75,
          76,
          77,
          78,
          79,
          80,
          81,
          82,
          83,
          84,
          85,
          86,
          87,
          88,
          89,
          90,
          91,
          92,
          93,
          94,
          95,
          96,
          97,
          98,
          99
         ],
         "y": [
          0.1510989010989011,
          0.9004807692307694,
          0.1237293956043956,
          0.841723901098901,
          0.9009271978021978,
          0.8892857142857142,
          0.8324175824175825,
          0.18248626373626373,
          0.1801510989010989,
          0.8300137362637361,
          0.8362293956043956,
          0.8893887362637363,
          0.8912087912087913,
          0.8912087912087913,
          0.8893887362637363,
          0.8942994505494506,
          0.8339285714285714,
          0.905048076923077,
          0.9054945054945055,
          0.9054945054945055,
          0.9054945054945055,
          0.9054945054945055,
          0.9054945054945055,
          0.9054945054945055,
          0.8660027472527473,
          0.9054945054945055,
          0.9054945054945055,
          0.9050480769230769,
          0.9045673076923076,
          0.9048763736263737,
          0.9149381868131868,
          0.9092719780219781,
          0.9114697802197801,
          0.9097527472527472,
          0.8044642857142857,
          0.9116758241758243,
          0.8654532967032967,
          0.8992101648351648,
          0.8914148351648352,
          0.3705700549450549,
          0.8907967032967032,
          0.8903502747252748,
          0.8823489010989011,
          0.9139423076923079,
          0.8961538461538462,
          0.8369162087912088,
          0.9046359890109891,
          0.8963598901098901,
          0.9069024725274726,
          0.9018543956043956,
          0.8564217032967033,
          0.8990728021978022,
          0.9085164835164836,
          0.9031936813186814,
          0.9124313186813187,
          0.9104739010989011,
          0.8950549450549449,
          0.9004807692307694,
          0.9096497252747252,
          0.8979739010989011,
          0.8158997252747252,
          0.9130494505494505,
          0.908276098901099,
          0.9076236263736265,
          0.9095467032967033,
          0.8930288461538461,
          0.9125686813186812,
          0.9008585164835166,
          0.8976304945054945,
          0.8746909340659341,
          0.8942994505494506,
          0.9022664835164835,
          0.9060782967032968,
          0.9085164835164836,
          0.913118131868132,
          0.910782967032967,
          0.9125343406593407,
          0.9087225274725274,
          0.9030219780219779,
          0.8791895604395604,
          0.8472527472527472,
          0.9125686813186812,
          0.9134271978021978,
          0.9098557692307694,
          0.9077953296703297,
          0.9143887362637363,
          0.809581043956044,
          0.9139423076923077,
          0.9089285714285715,
          0.9084134615384615,
          0.9111607142857144,
          0.8806318681318682,
          0.9141483516483516,
          0.9136675824175825,
          0.9137362637362638,
          0.9125686813186812,
          0.8774038461538461,
          0.9128090659340661,
          0.9153846153846155,
          0.8376373626373625
         ]
        },
        {
         "mode": "lines",
         "name": "Best Value",
         "type": "scatter",
         "x": [
          0,
          1,
          2,
          3,
          4,
          5,
          6,
          7,
          8,
          9,
          10,
          11,
          12,
          13,
          14,
          15,
          16,
          17,
          18,
          19,
          20,
          21,
          22,
          23,
          24,
          25,
          26,
          27,
          28,
          29,
          30,
          31,
          32,
          33,
          34,
          35,
          36,
          37,
          38,
          39,
          40,
          41,
          42,
          43,
          44,
          45,
          46,
          47,
          48,
          49,
          50,
          51,
          52,
          53,
          54,
          55,
          56,
          57,
          58,
          59,
          60,
          61,
          62,
          63,
          64,
          65,
          66,
          67,
          68,
          69,
          70,
          71,
          72,
          73,
          74,
          75,
          76,
          77,
          78,
          79,
          80,
          81,
          82,
          83,
          84,
          85,
          86,
          87,
          88,
          89,
          90,
          91,
          92,
          93,
          94,
          95,
          96,
          97,
          98,
          99
         ],
         "y": [
          0.1510989010989011,
          0.9004807692307694,
          0.9004807692307694,
          0.9004807692307694,
          0.9009271978021978,
          0.9009271978021978,
          0.9009271978021978,
          0.9009271978021978,
          0.9009271978021978,
          0.9009271978021978,
          0.9009271978021978,
          0.9009271978021978,
          0.9009271978021978,
          0.9009271978021978,
          0.9009271978021978,
          0.9009271978021978,
          0.9009271978021978,
          0.905048076923077,
          0.9054945054945055,
          0.9054945054945055,
          0.9054945054945055,
          0.9054945054945055,
          0.9054945054945055,
          0.9054945054945055,
          0.9054945054945055,
          0.9054945054945055,
          0.9054945054945055,
          0.9054945054945055,
          0.9054945054945055,
          0.9054945054945055,
          0.9149381868131868,
          0.9149381868131868,
          0.9149381868131868,
          0.9149381868131868,
          0.9149381868131868,
          0.9149381868131868,
          0.9149381868131868,
          0.9149381868131868,
          0.9149381868131868,
          0.9149381868131868,
          0.9149381868131868,
          0.9149381868131868,
          0.9149381868131868,
          0.9149381868131868,
          0.9149381868131868,
          0.9149381868131868,
          0.9149381868131868,
          0.9149381868131868,
          0.9149381868131868,
          0.9149381868131868,
          0.9149381868131868,
          0.9149381868131868,
          0.9149381868131868,
          0.9149381868131868,
          0.9149381868131868,
          0.9149381868131868,
          0.9149381868131868,
          0.9149381868131868,
          0.9149381868131868,
          0.9149381868131868,
          0.9149381868131868,
          0.9149381868131868,
          0.9149381868131868,
          0.9149381868131868,
          0.9149381868131868,
          0.9149381868131868,
          0.9149381868131868,
          0.9149381868131868,
          0.9149381868131868,
          0.9149381868131868,
          0.9149381868131868,
          0.9149381868131868,
          0.9149381868131868,
          0.9149381868131868,
          0.9149381868131868,
          0.9149381868131868,
          0.9149381868131868,
          0.9149381868131868,
          0.9149381868131868,
          0.9149381868131868,
          0.9149381868131868,
          0.9149381868131868,
          0.9149381868131868,
          0.9149381868131868,
          0.9149381868131868,
          0.9149381868131868,
          0.9149381868131868,
          0.9149381868131868,
          0.9149381868131868,
          0.9149381868131868,
          0.9149381868131868,
          0.9149381868131868,
          0.9149381868131868,
          0.9149381868131868,
          0.9149381868131868,
          0.9149381868131868,
          0.9149381868131868,
          0.9149381868131868,
          0.9153846153846155,
          0.9153846153846155
         ]
        },
        {
         "marker": {
          "color": "#cccccc"
         },
         "mode": "markers",
         "name": "Infeasible Trial",
         "showlegend": false,
         "type": "scatter",
         "x": [],
         "y": []
        }
       ],
       "layout": {
        "template": {
         "data": {
          "bar": [
           {
            "error_x": {
             "color": "#2a3f5f"
            },
            "error_y": {
             "color": "#2a3f5f"
            },
            "marker": {
             "line": {
              "color": "#E5ECF6",
              "width": 0.5
             },
             "pattern": {
              "fillmode": "overlay",
              "size": 10,
              "solidity": 0.2
             }
            },
            "type": "bar"
           }
          ],
          "barpolar": [
           {
            "marker": {
             "line": {
              "color": "#E5ECF6",
              "width": 0.5
             },
             "pattern": {
              "fillmode": "overlay",
              "size": 10,
              "solidity": 0.2
             }
            },
            "type": "barpolar"
           }
          ],
          "carpet": [
           {
            "aaxis": {
             "endlinecolor": "#2a3f5f",
             "gridcolor": "white",
             "linecolor": "white",
             "minorgridcolor": "white",
             "startlinecolor": "#2a3f5f"
            },
            "baxis": {
             "endlinecolor": "#2a3f5f",
             "gridcolor": "white",
             "linecolor": "white",
             "minorgridcolor": "white",
             "startlinecolor": "#2a3f5f"
            },
            "type": "carpet"
           }
          ],
          "choropleth": [
           {
            "colorbar": {
             "outlinewidth": 0,
             "ticks": ""
            },
            "type": "choropleth"
           }
          ],
          "contour": [
           {
            "colorbar": {
             "outlinewidth": 0,
             "ticks": ""
            },
            "colorscale": [
             [
              0,
              "#0d0887"
             ],
             [
              0.1111111111111111,
              "#46039f"
             ],
             [
              0.2222222222222222,
              "#7201a8"
             ],
             [
              0.3333333333333333,
              "#9c179e"
             ],
             [
              0.4444444444444444,
              "#bd3786"
             ],
             [
              0.5555555555555556,
              "#d8576b"
             ],
             [
              0.6666666666666666,
              "#ed7953"
             ],
             [
              0.7777777777777778,
              "#fb9f3a"
             ],
             [
              0.8888888888888888,
              "#fdca26"
             ],
             [
              1,
              "#f0f921"
             ]
            ],
            "type": "contour"
           }
          ],
          "contourcarpet": [
           {
            "colorbar": {
             "outlinewidth": 0,
             "ticks": ""
            },
            "type": "contourcarpet"
           }
          ],
          "heatmap": [
           {
            "colorbar": {
             "outlinewidth": 0,
             "ticks": ""
            },
            "colorscale": [
             [
              0,
              "#0d0887"
             ],
             [
              0.1111111111111111,
              "#46039f"
             ],
             [
              0.2222222222222222,
              "#7201a8"
             ],
             [
              0.3333333333333333,
              "#9c179e"
             ],
             [
              0.4444444444444444,
              "#bd3786"
             ],
             [
              0.5555555555555556,
              "#d8576b"
             ],
             [
              0.6666666666666666,
              "#ed7953"
             ],
             [
              0.7777777777777778,
              "#fb9f3a"
             ],
             [
              0.8888888888888888,
              "#fdca26"
             ],
             [
              1,
              "#f0f921"
             ]
            ],
            "type": "heatmap"
           }
          ],
          "heatmapgl": [
           {
            "colorbar": {
             "outlinewidth": 0,
             "ticks": ""
            },
            "colorscale": [
             [
              0,
              "#0d0887"
             ],
             [
              0.1111111111111111,
              "#46039f"
             ],
             [
              0.2222222222222222,
              "#7201a8"
             ],
             [
              0.3333333333333333,
              "#9c179e"
             ],
             [
              0.4444444444444444,
              "#bd3786"
             ],
             [
              0.5555555555555556,
              "#d8576b"
             ],
             [
              0.6666666666666666,
              "#ed7953"
             ],
             [
              0.7777777777777778,
              "#fb9f3a"
             ],
             [
              0.8888888888888888,
              "#fdca26"
             ],
             [
              1,
              "#f0f921"
             ]
            ],
            "type": "heatmapgl"
           }
          ],
          "histogram": [
           {
            "marker": {
             "pattern": {
              "fillmode": "overlay",
              "size": 10,
              "solidity": 0.2
             }
            },
            "type": "histogram"
           }
          ],
          "histogram2d": [
           {
            "colorbar": {
             "outlinewidth": 0,
             "ticks": ""
            },
            "colorscale": [
             [
              0,
              "#0d0887"
             ],
             [
              0.1111111111111111,
              "#46039f"
             ],
             [
              0.2222222222222222,
              "#7201a8"
             ],
             [
              0.3333333333333333,
              "#9c179e"
             ],
             [
              0.4444444444444444,
              "#bd3786"
             ],
             [
              0.5555555555555556,
              "#d8576b"
             ],
             [
              0.6666666666666666,
              "#ed7953"
             ],
             [
              0.7777777777777778,
              "#fb9f3a"
             ],
             [
              0.8888888888888888,
              "#fdca26"
             ],
             [
              1,
              "#f0f921"
             ]
            ],
            "type": "histogram2d"
           }
          ],
          "histogram2dcontour": [
           {
            "colorbar": {
             "outlinewidth": 0,
             "ticks": ""
            },
            "colorscale": [
             [
              0,
              "#0d0887"
             ],
             [
              0.1111111111111111,
              "#46039f"
             ],
             [
              0.2222222222222222,
              "#7201a8"
             ],
             [
              0.3333333333333333,
              "#9c179e"
             ],
             [
              0.4444444444444444,
              "#bd3786"
             ],
             [
              0.5555555555555556,
              "#d8576b"
             ],
             [
              0.6666666666666666,
              "#ed7953"
             ],
             [
              0.7777777777777778,
              "#fb9f3a"
             ],
             [
              0.8888888888888888,
              "#fdca26"
             ],
             [
              1,
              "#f0f921"
             ]
            ],
            "type": "histogram2dcontour"
           }
          ],
          "mesh3d": [
           {
            "colorbar": {
             "outlinewidth": 0,
             "ticks": ""
            },
            "type": "mesh3d"
           }
          ],
          "parcoords": [
           {
            "line": {
             "colorbar": {
              "outlinewidth": 0,
              "ticks": ""
             }
            },
            "type": "parcoords"
           }
          ],
          "pie": [
           {
            "automargin": true,
            "type": "pie"
           }
          ],
          "scatter": [
           {
            "fillpattern": {
             "fillmode": "overlay",
             "size": 10,
             "solidity": 0.2
            },
            "type": "scatter"
           }
          ],
          "scatter3d": [
           {
            "line": {
             "colorbar": {
              "outlinewidth": 0,
              "ticks": ""
             }
            },
            "marker": {
             "colorbar": {
              "outlinewidth": 0,
              "ticks": ""
             }
            },
            "type": "scatter3d"
           }
          ],
          "scattercarpet": [
           {
            "marker": {
             "colorbar": {
              "outlinewidth": 0,
              "ticks": ""
             }
            },
            "type": "scattercarpet"
           }
          ],
          "scattergeo": [
           {
            "marker": {
             "colorbar": {
              "outlinewidth": 0,
              "ticks": ""
             }
            },
            "type": "scattergeo"
           }
          ],
          "scattergl": [
           {
            "marker": {
             "colorbar": {
              "outlinewidth": 0,
              "ticks": ""
             }
            },
            "type": "scattergl"
           }
          ],
          "scattermapbox": [
           {
            "marker": {
             "colorbar": {
              "outlinewidth": 0,
              "ticks": ""
             }
            },
            "type": "scattermapbox"
           }
          ],
          "scatterpolar": [
           {
            "marker": {
             "colorbar": {
              "outlinewidth": 0,
              "ticks": ""
             }
            },
            "type": "scatterpolar"
           }
          ],
          "scatterpolargl": [
           {
            "marker": {
             "colorbar": {
              "outlinewidth": 0,
              "ticks": ""
             }
            },
            "type": "scatterpolargl"
           }
          ],
          "scatterternary": [
           {
            "marker": {
             "colorbar": {
              "outlinewidth": 0,
              "ticks": ""
             }
            },
            "type": "scatterternary"
           }
          ],
          "surface": [
           {
            "colorbar": {
             "outlinewidth": 0,
             "ticks": ""
            },
            "colorscale": [
             [
              0,
              "#0d0887"
             ],
             [
              0.1111111111111111,
              "#46039f"
             ],
             [
              0.2222222222222222,
              "#7201a8"
             ],
             [
              0.3333333333333333,
              "#9c179e"
             ],
             [
              0.4444444444444444,
              "#bd3786"
             ],
             [
              0.5555555555555556,
              "#d8576b"
             ],
             [
              0.6666666666666666,
              "#ed7953"
             ],
             [
              0.7777777777777778,
              "#fb9f3a"
             ],
             [
              0.8888888888888888,
              "#fdca26"
             ],
             [
              1,
              "#f0f921"
             ]
            ],
            "type": "surface"
           }
          ],
          "table": [
           {
            "cells": {
             "fill": {
              "color": "#EBF0F8"
             },
             "line": {
              "color": "white"
             }
            },
            "header": {
             "fill": {
              "color": "#C8D4E3"
             },
             "line": {
              "color": "white"
             }
            },
            "type": "table"
           }
          ]
         },
         "layout": {
          "annotationdefaults": {
           "arrowcolor": "#2a3f5f",
           "arrowhead": 0,
           "arrowwidth": 1
          },
          "autotypenumbers": "strict",
          "coloraxis": {
           "colorbar": {
            "outlinewidth": 0,
            "ticks": ""
           }
          },
          "colorscale": {
           "diverging": [
            [
             0,
             "#8e0152"
            ],
            [
             0.1,
             "#c51b7d"
            ],
            [
             0.2,
             "#de77ae"
            ],
            [
             0.3,
             "#f1b6da"
            ],
            [
             0.4,
             "#fde0ef"
            ],
            [
             0.5,
             "#f7f7f7"
            ],
            [
             0.6,
             "#e6f5d0"
            ],
            [
             0.7,
             "#b8e186"
            ],
            [
             0.8,
             "#7fbc41"
            ],
            [
             0.9,
             "#4d9221"
            ],
            [
             1,
             "#276419"
            ]
           ],
           "sequential": [
            [
             0,
             "#0d0887"
            ],
            [
             0.1111111111111111,
             "#46039f"
            ],
            [
             0.2222222222222222,
             "#7201a8"
            ],
            [
             0.3333333333333333,
             "#9c179e"
            ],
            [
             0.4444444444444444,
             "#bd3786"
            ],
            [
             0.5555555555555556,
             "#d8576b"
            ],
            [
             0.6666666666666666,
             "#ed7953"
            ],
            [
             0.7777777777777778,
             "#fb9f3a"
            ],
            [
             0.8888888888888888,
             "#fdca26"
            ],
            [
             1,
             "#f0f921"
            ]
           ],
           "sequentialminus": [
            [
             0,
             "#0d0887"
            ],
            [
             0.1111111111111111,
             "#46039f"
            ],
            [
             0.2222222222222222,
             "#7201a8"
            ],
            [
             0.3333333333333333,
             "#9c179e"
            ],
            [
             0.4444444444444444,
             "#bd3786"
            ],
            [
             0.5555555555555556,
             "#d8576b"
            ],
            [
             0.6666666666666666,
             "#ed7953"
            ],
            [
             0.7777777777777778,
             "#fb9f3a"
            ],
            [
             0.8888888888888888,
             "#fdca26"
            ],
            [
             1,
             "#f0f921"
            ]
           ]
          },
          "colorway": [
           "#636efa",
           "#EF553B",
           "#00cc96",
           "#ab63fa",
           "#FFA15A",
           "#19d3f3",
           "#FF6692",
           "#B6E880",
           "#FF97FF",
           "#FECB52"
          ],
          "font": {
           "color": "#2a3f5f"
          },
          "geo": {
           "bgcolor": "white",
           "lakecolor": "white",
           "landcolor": "#E5ECF6",
           "showlakes": true,
           "showland": true,
           "subunitcolor": "white"
          },
          "hoverlabel": {
           "align": "left"
          },
          "hovermode": "closest",
          "mapbox": {
           "style": "light"
          },
          "paper_bgcolor": "white",
          "plot_bgcolor": "#E5ECF6",
          "polar": {
           "angularaxis": {
            "gridcolor": "white",
            "linecolor": "white",
            "ticks": ""
           },
           "bgcolor": "#E5ECF6",
           "radialaxis": {
            "gridcolor": "white",
            "linecolor": "white",
            "ticks": ""
           }
          },
          "scene": {
           "xaxis": {
            "backgroundcolor": "#E5ECF6",
            "gridcolor": "white",
            "gridwidth": 2,
            "linecolor": "white",
            "showbackground": true,
            "ticks": "",
            "zerolinecolor": "white"
           },
           "yaxis": {
            "backgroundcolor": "#E5ECF6",
            "gridcolor": "white",
            "gridwidth": 2,
            "linecolor": "white",
            "showbackground": true,
            "ticks": "",
            "zerolinecolor": "white"
           },
           "zaxis": {
            "backgroundcolor": "#E5ECF6",
            "gridcolor": "white",
            "gridwidth": 2,
            "linecolor": "white",
            "showbackground": true,
            "ticks": "",
            "zerolinecolor": "white"
           }
          },
          "shapedefaults": {
           "line": {
            "color": "#2a3f5f"
           }
          },
          "ternary": {
           "aaxis": {
            "gridcolor": "white",
            "linecolor": "white",
            "ticks": ""
           },
           "baxis": {
            "gridcolor": "white",
            "linecolor": "white",
            "ticks": ""
           },
           "bgcolor": "#E5ECF6",
           "caxis": {
            "gridcolor": "white",
            "linecolor": "white",
            "ticks": ""
           }
          },
          "title": {
           "x": 0.05
          },
          "xaxis": {
           "automargin": true,
           "gridcolor": "white",
           "linecolor": "white",
           "ticks": "",
           "title": {
            "standoff": 15
           },
           "zerolinecolor": "white",
           "zerolinewidth": 2
          },
          "yaxis": {
           "automargin": true,
           "gridcolor": "white",
           "linecolor": "white",
           "ticks": "",
           "title": {
            "standoff": 15
           },
           "zerolinecolor": "white",
           "zerolinewidth": 2
          }
         }
        },
        "title": {
         "text": "Optimization History Plot"
        },
        "xaxis": {
         "title": {
          "text": "Trial"
         }
        },
        "yaxis": {
         "title": {
          "text": "Objective Value"
         }
        }
       }
      }
     },
     "metadata": {},
     "output_type": "display_data"
    }
   ],
   "source": [
    "# Visualizing optimization\n",
    "optuna.visualization.plot_optimization_history(study)"
   ]
  },
  {
   "cell_type": "code",
   "execution_count": 16,
   "metadata": {},
   "outputs": [
    {
     "data": {
      "application/vnd.plotly.v1+json": {
       "config": {
        "plotlyServerURL": "https://plot.ly"
       },
       "data": [
        {
         "marker": {
          "color": [
           0,
           1,
           2,
           3,
           4,
           5,
           6,
           7,
           8,
           9,
           10,
           11,
           12,
           13,
           14,
           15,
           16,
           17,
           18,
           19,
           20,
           21,
           22,
           23,
           24,
           25,
           26,
           27,
           28,
           29,
           30,
           31,
           32,
           33,
           34,
           35,
           36,
           37,
           38,
           39,
           40,
           41,
           42,
           43,
           44,
           45,
           46,
           47,
           48,
           49,
           50,
           51,
           52,
           53,
           54,
           55,
           56,
           57,
           58,
           59,
           60,
           61,
           62,
           63,
           64,
           65,
           66,
           67,
           68,
           69,
           70,
           71,
           72,
           73,
           74,
           75,
           76,
           77,
           78,
           79,
           80,
           81,
           82,
           83,
           84,
           85,
           86,
           87,
           88,
           89,
           90,
           91,
           92,
           93,
           94,
           95,
           96,
           97,
           98,
           99
          ],
          "colorbar": {
           "title": {
            "text": "Trial"
           },
           "x": 1,
           "xpad": 40
          },
          "colorscale": [
           [
            0,
            "rgb(247,251,255)"
           ],
           [
            0.125,
            "rgb(222,235,247)"
           ],
           [
            0.25,
            "rgb(198,219,239)"
           ],
           [
            0.375,
            "rgb(158,202,225)"
           ],
           [
            0.5,
            "rgb(107,174,214)"
           ],
           [
            0.625,
            "rgb(66,146,198)"
           ],
           [
            0.75,
            "rgb(33,113,181)"
           ],
           [
            0.875,
            "rgb(8,81,156)"
           ],
           [
            1,
            "rgb(8,48,107)"
           ]
          ],
          "line": {
           "color": "Grey",
           "width": 0.5
          },
          "showscale": true
         },
         "mode": "markers",
         "name": "Feasible Trial",
         "showlegend": false,
         "type": "scatter",
         "x": [
          "auto",
          "scale",
          "scale",
          "auto",
          "scale",
          "auto",
          "scale",
          "auto",
          "auto",
          "auto",
          "auto",
          "scale",
          "auto",
          "scale",
          "auto",
          "scale",
          "scale",
          "auto",
          "auto",
          "auto",
          "auto",
          "auto",
          "auto",
          "auto",
          "scale",
          "auto",
          "auto",
          "auto",
          "auto",
          "auto",
          "scale",
          "scale",
          "auto",
          "scale",
          "scale",
          "scale",
          "auto",
          "scale",
          "auto",
          "auto",
          "auto",
          "scale",
          "scale",
          "auto",
          "scale",
          "scale",
          "scale",
          "scale",
          "auto",
          "scale",
          "scale",
          "auto",
          "auto",
          "auto",
          "scale",
          "auto",
          "auto",
          "auto",
          "scale",
          "auto",
          "scale",
          "scale",
          "scale",
          "scale",
          "auto",
          "scale",
          "auto",
          "scale",
          "scale",
          "auto",
          "scale",
          "scale",
          "scale",
          "auto",
          "scale",
          "scale",
          "scale",
          "auto",
          "auto",
          "scale",
          "auto",
          "scale",
          "scale",
          "auto",
          "auto",
          "scale",
          "auto",
          "scale",
          "auto",
          "auto",
          "scale",
          "auto",
          "scale",
          "scale",
          "scale",
          "auto",
          "auto",
          "scale",
          "scale",
          "scale"
         ],
         "xaxis": "x",
         "y": [
          0.1510989010989011,
          0.9004807692307694,
          0.1237293956043956,
          0.841723901098901,
          0.9009271978021978,
          0.8892857142857142,
          0.8324175824175825,
          0.18248626373626373,
          0.1801510989010989,
          0.8300137362637361,
          0.8362293956043956,
          0.8893887362637363,
          0.8912087912087913,
          0.8912087912087913,
          0.8893887362637363,
          0.8942994505494506,
          0.8339285714285714,
          0.905048076923077,
          0.9054945054945055,
          0.9054945054945055,
          0.9054945054945055,
          0.9054945054945055,
          0.9054945054945055,
          0.9054945054945055,
          0.8660027472527473,
          0.9054945054945055,
          0.9054945054945055,
          0.9050480769230769,
          0.9045673076923076,
          0.9048763736263737,
          0.9149381868131868,
          0.9092719780219781,
          0.9114697802197801,
          0.9097527472527472,
          0.8044642857142857,
          0.9116758241758243,
          0.8654532967032967,
          0.8992101648351648,
          0.8914148351648352,
          0.3705700549450549,
          0.8907967032967032,
          0.8903502747252748,
          0.8823489010989011,
          0.9139423076923079,
          0.8961538461538462,
          0.8369162087912088,
          0.9046359890109891,
          0.8963598901098901,
          0.9069024725274726,
          0.9018543956043956,
          0.8564217032967033,
          0.8990728021978022,
          0.9085164835164836,
          0.9031936813186814,
          0.9124313186813187,
          0.9104739010989011,
          0.8950549450549449,
          0.9004807692307694,
          0.9096497252747252,
          0.8979739010989011,
          0.8158997252747252,
          0.9130494505494505,
          0.908276098901099,
          0.9076236263736265,
          0.9095467032967033,
          0.8930288461538461,
          0.9125686813186812,
          0.9008585164835166,
          0.8976304945054945,
          0.8746909340659341,
          0.8942994505494506,
          0.9022664835164835,
          0.9060782967032968,
          0.9085164835164836,
          0.913118131868132,
          0.910782967032967,
          0.9125343406593407,
          0.9087225274725274,
          0.9030219780219779,
          0.8791895604395604,
          0.8472527472527472,
          0.9125686813186812,
          0.9134271978021978,
          0.9098557692307694,
          0.9077953296703297,
          0.9143887362637363,
          0.809581043956044,
          0.9139423076923077,
          0.9089285714285715,
          0.9084134615384615,
          0.9111607142857144,
          0.8806318681318682,
          0.9141483516483516,
          0.9136675824175825,
          0.9137362637362638,
          0.9125686813186812,
          0.8774038461538461,
          0.9128090659340661,
          0.9153846153846155,
          0.8376373626373625
         ],
         "yaxis": "y"
        },
        {
         "marker": {
          "color": [
           0,
           1,
           2,
           3,
           4,
           5,
           6,
           7,
           8,
           9,
           10,
           11,
           12,
           13,
           14,
           15,
           16,
           17,
           18,
           19,
           20,
           21,
           22,
           23,
           24,
           25,
           26,
           27,
           28,
           29,
           30,
           31,
           32,
           33,
           34,
           35,
           36,
           37,
           38,
           39,
           40,
           41,
           42,
           43,
           44,
           45,
           46,
           47,
           48,
           49,
           50,
           51,
           52,
           53,
           54,
           55,
           56,
           57,
           58,
           59,
           60,
           61,
           62,
           63,
           64,
           65,
           66,
           67,
           68,
           69,
           70,
           71,
           72,
           73,
           74,
           75,
           76,
           77,
           78,
           79,
           80,
           81,
           82,
           83,
           84,
           85,
           86,
           87,
           88,
           89,
           90,
           91,
           92,
           93,
           94,
           95,
           96,
           97,
           98,
           99
          ],
          "colorbar": {
           "title": {
            "text": "Trial"
           },
           "x": 1,
           "xpad": 40
          },
          "colorscale": [
           [
            0,
            "rgb(247,251,255)"
           ],
           [
            0.125,
            "rgb(222,235,247)"
           ],
           [
            0.25,
            "rgb(198,219,239)"
           ],
           [
            0.375,
            "rgb(158,202,225)"
           ],
           [
            0.5,
            "rgb(107,174,214)"
           ],
           [
            0.625,
            "rgb(66,146,198)"
           ],
           [
            0.75,
            "rgb(33,113,181)"
           ],
           [
            0.875,
            "rgb(8,81,156)"
           ],
           [
            1,
            "rgb(8,48,107)"
           ]
          ],
          "line": {
           "color": "Grey",
           "width": 0.5
          },
          "showscale": false
         },
         "mode": "markers",
         "name": "Feasible Trial",
         "showlegend": false,
         "type": "scatter",
         "x": [
          "sigmoid",
          "poly",
          "sigmoid",
          "poly",
          "rbf",
          "rbf",
          "linear",
          "sigmoid",
          "sigmoid",
          "poly",
          "rbf",
          "rbf",
          "linear",
          "linear",
          "poly",
          "poly",
          "rbf",
          "rbf",
          "rbf",
          "rbf",
          "rbf",
          "rbf",
          "rbf",
          "rbf",
          "poly",
          "rbf",
          "rbf",
          "rbf",
          "rbf",
          "linear",
          "linear",
          "linear",
          "linear",
          "linear",
          "poly",
          "linear",
          "rbf",
          "linear",
          "poly",
          "linear",
          "sigmoid",
          "sigmoid",
          "rbf",
          "linear",
          "rbf",
          "linear",
          "linear",
          "poly",
          "sigmoid",
          "sigmoid",
          "rbf",
          "sigmoid",
          "linear",
          "linear",
          "sigmoid",
          "sigmoid",
          "rbf",
          "poly",
          "sigmoid",
          "rbf",
          "poly",
          "linear",
          "linear",
          "sigmoid",
          "linear",
          "rbf",
          "linear",
          "rbf",
          "linear",
          "poly",
          "rbf",
          "poly",
          "sigmoid",
          "sigmoid",
          "sigmoid",
          "sigmoid",
          "sigmoid",
          "sigmoid",
          "rbf",
          "poly",
          "rbf",
          "linear",
          "sigmoid",
          "linear",
          "linear",
          "sigmoid",
          "poly",
          "sigmoid",
          "linear",
          "sigmoid",
          "sigmoid",
          "linear",
          "linear",
          "linear",
          "linear",
          "linear",
          "rbf",
          "linear",
          "linear",
          "poly"
         ],
         "xaxis": "x2",
         "y": [
          0.1510989010989011,
          0.9004807692307694,
          0.1237293956043956,
          0.841723901098901,
          0.9009271978021978,
          0.8892857142857142,
          0.8324175824175825,
          0.18248626373626373,
          0.1801510989010989,
          0.8300137362637361,
          0.8362293956043956,
          0.8893887362637363,
          0.8912087912087913,
          0.8912087912087913,
          0.8893887362637363,
          0.8942994505494506,
          0.8339285714285714,
          0.905048076923077,
          0.9054945054945055,
          0.9054945054945055,
          0.9054945054945055,
          0.9054945054945055,
          0.9054945054945055,
          0.9054945054945055,
          0.8660027472527473,
          0.9054945054945055,
          0.9054945054945055,
          0.9050480769230769,
          0.9045673076923076,
          0.9048763736263737,
          0.9149381868131868,
          0.9092719780219781,
          0.9114697802197801,
          0.9097527472527472,
          0.8044642857142857,
          0.9116758241758243,
          0.8654532967032967,
          0.8992101648351648,
          0.8914148351648352,
          0.3705700549450549,
          0.8907967032967032,
          0.8903502747252748,
          0.8823489010989011,
          0.9139423076923079,
          0.8961538461538462,
          0.8369162087912088,
          0.9046359890109891,
          0.8963598901098901,
          0.9069024725274726,
          0.9018543956043956,
          0.8564217032967033,
          0.8990728021978022,
          0.9085164835164836,
          0.9031936813186814,
          0.9124313186813187,
          0.9104739010989011,
          0.8950549450549449,
          0.9004807692307694,
          0.9096497252747252,
          0.8979739010989011,
          0.8158997252747252,
          0.9130494505494505,
          0.908276098901099,
          0.9076236263736265,
          0.9095467032967033,
          0.8930288461538461,
          0.9125686813186812,
          0.9008585164835166,
          0.8976304945054945,
          0.8746909340659341,
          0.8942994505494506,
          0.9022664835164835,
          0.9060782967032968,
          0.9085164835164836,
          0.913118131868132,
          0.910782967032967,
          0.9125343406593407,
          0.9087225274725274,
          0.9030219780219779,
          0.8791895604395604,
          0.8472527472527472,
          0.9125686813186812,
          0.9134271978021978,
          0.9098557692307694,
          0.9077953296703297,
          0.9143887362637363,
          0.809581043956044,
          0.9139423076923077,
          0.9089285714285715,
          0.9084134615384615,
          0.9111607142857144,
          0.8806318681318682,
          0.9141483516483516,
          0.9136675824175825,
          0.9137362637362638,
          0.9125686813186812,
          0.8774038461538461,
          0.9128090659340661,
          0.9153846153846155,
          0.8376373626373625
         ],
         "yaxis": "y2"
        },
        {
         "marker": {
          "color": [
           0,
           1,
           2,
           3,
           4,
           5,
           6,
           7,
           8,
           9,
           10,
           11,
           12,
           13,
           14,
           15,
           16,
           17,
           18,
           19,
           20,
           21,
           22,
           23,
           24,
           25,
           26,
           27,
           28,
           29,
           30,
           31,
           32,
           33,
           34,
           35,
           36,
           37,
           38,
           39,
           40,
           41,
           42,
           43,
           44,
           45,
           46,
           47,
           48,
           49,
           50,
           51,
           52,
           53,
           54,
           55,
           56,
           57,
           58,
           59,
           60,
           61,
           62,
           63,
           64,
           65,
           66,
           67,
           68,
           69,
           70,
           71,
           72,
           73,
           74,
           75,
           76,
           77,
           78,
           79,
           80,
           81,
           82,
           83,
           84,
           85,
           86,
           87,
           88,
           89,
           90,
           91,
           92,
           93,
           94,
           95,
           96,
           97,
           98,
           99
          ],
          "colorbar": {
           "title": {
            "text": "Trial"
           },
           "x": 1,
           "xpad": 40
          },
          "colorscale": [
           [
            0,
            "rgb(247,251,255)"
           ],
           [
            0.125,
            "rgb(222,235,247)"
           ],
           [
            0.25,
            "rgb(198,219,239)"
           ],
           [
            0.375,
            "rgb(158,202,225)"
           ],
           [
            0.5,
            "rgb(107,174,214)"
           ],
           [
            0.625,
            "rgb(66,146,198)"
           ],
           [
            0.75,
            "rgb(33,113,181)"
           ],
           [
            0.875,
            "rgb(8,81,156)"
           ],
           [
            1,
            "rgb(8,48,107)"
           ]
          ],
          "line": {
           "color": "Grey",
           "width": 0.5
          },
          "showscale": false
         },
         "mode": "markers",
         "name": "Feasible Trial",
         "showlegend": false,
         "type": "scatter",
         "x": [
          0.18265542863524883,
          0.7398538242087201,
          0.21031925082988956,
          0.25404960495898954,
          0.40493845251081073,
          0.869301965842053,
          0.15831733027494688,
          0.12610116273139677,
          0.10361577420887737,
          0.1988361536562294,
          0.10000000000000002,
          0.9,
          0.9,
          0.9,
          0.9,
          0.8950086695613855,
          0.10000000000000002,
          0.4439347003914433,
          0.43120581188488205,
          0.42957899264279176,
          0.42937280091286945,
          0.4287961115970348,
          0.42789650824796616,
          0.42649066271704483,
          0.3567610192312854,
          0.4324476123643688,
          0.4302672205403671,
          0.41511138807411796,
          0.3827620658210717,
          0.4093400245693449,
          0.48260326320382935,
          0.383855457576544,
          0.5690906450726888,
          0.5395508610222451,
          0.10000000000000002,
          0.4546932690699523,
          0.19908946122633173,
          0.27376196591212587,
          0.5261145431982315,
          0.10000000000000002,
          0.9,
          0.8940213205717363,
          0.2748797018738073,
          0.5019515323684995,
          0.6491197061043863,
          0.21017147334352954,
          0.3221146918278953,
          0.550622426622525,
          0.6818066498343964,
          0.7249884669100026,
          0.14533520019773483,
          0.7588098299994399,
          0.2917054022723609,
          0.7213068002504802,
          0.584455162497258,
          0.5722240231108944,
          0.29840474841926734,
          0.6526114982099789,
          0.6201867337114952,
          0.6501677705360476,
          0.14204350902979743,
          0.49431697791505996,
          0.6457376496175289,
          0.5162542380870642,
          0.34665490431418916,
          0.7660743479472114,
          0.4776770511990244,
          0.5204092869308996,
          0.7613812883753273,
          0.41195821340188055,
          0.334258180704823,
          0.6397416580345184,
          0.5515109999168107,
          0.4562929592788187,
          0.46111136872142766,
          0.4772058247929962,
          0.4280922843306865,
          0.6087821009892639,
          0.5550781837379625,
          0.46077958952229,
          0.12438207009986411,
          0.4764776923415552,
          0.4448628556035837,
          0.517870379166565,
          0.6261969335343303,
          0.4453288098768598,
          0.12092844583731513,
          0.4452125560772237,
          0.31603760220293003,
          0.4186607884975059,
          0.4430055649884181,
          0.26168535380196234,
          0.5904946066177335,
          0.5906439652916846,
          0.591397999626175,
          0.47669805887591465,
          0.24591442312485468,
          0.5951904140633568,
          0.48359699088201413,
          0.22865278640571493
         ],
         "xaxis": "x3",
         "y": [
          0.1510989010989011,
          0.9004807692307694,
          0.1237293956043956,
          0.841723901098901,
          0.9009271978021978,
          0.8892857142857142,
          0.8324175824175825,
          0.18248626373626373,
          0.1801510989010989,
          0.8300137362637361,
          0.8362293956043956,
          0.8893887362637363,
          0.8912087912087913,
          0.8912087912087913,
          0.8893887362637363,
          0.8942994505494506,
          0.8339285714285714,
          0.905048076923077,
          0.9054945054945055,
          0.9054945054945055,
          0.9054945054945055,
          0.9054945054945055,
          0.9054945054945055,
          0.9054945054945055,
          0.8660027472527473,
          0.9054945054945055,
          0.9054945054945055,
          0.9050480769230769,
          0.9045673076923076,
          0.9048763736263737,
          0.9149381868131868,
          0.9092719780219781,
          0.9114697802197801,
          0.9097527472527472,
          0.8044642857142857,
          0.9116758241758243,
          0.8654532967032967,
          0.8992101648351648,
          0.8914148351648352,
          0.3705700549450549,
          0.8907967032967032,
          0.8903502747252748,
          0.8823489010989011,
          0.9139423076923079,
          0.8961538461538462,
          0.8369162087912088,
          0.9046359890109891,
          0.8963598901098901,
          0.9069024725274726,
          0.9018543956043956,
          0.8564217032967033,
          0.8990728021978022,
          0.9085164835164836,
          0.9031936813186814,
          0.9124313186813187,
          0.9104739010989011,
          0.8950549450549449,
          0.9004807692307694,
          0.9096497252747252,
          0.8979739010989011,
          0.8158997252747252,
          0.9130494505494505,
          0.908276098901099,
          0.9076236263736265,
          0.9095467032967033,
          0.8930288461538461,
          0.9125686813186812,
          0.9008585164835166,
          0.8976304945054945,
          0.8746909340659341,
          0.8942994505494506,
          0.9022664835164835,
          0.9060782967032968,
          0.9085164835164836,
          0.913118131868132,
          0.910782967032967,
          0.9125343406593407,
          0.9087225274725274,
          0.9030219780219779,
          0.8791895604395604,
          0.8472527472527472,
          0.9125686813186812,
          0.9134271978021978,
          0.9098557692307694,
          0.9077953296703297,
          0.9143887362637363,
          0.809581043956044,
          0.9139423076923077,
          0.9089285714285715,
          0.9084134615384615,
          0.9111607142857144,
          0.8806318681318682,
          0.9141483516483516,
          0.9136675824175825,
          0.9137362637362638,
          0.9125686813186812,
          0.8774038461538461,
          0.9128090659340661,
          0.9153846153846155,
          0.8376373626373625
         ],
         "yaxis": "y3"
        }
       ],
       "layout": {
        "template": {
         "data": {
          "bar": [
           {
            "error_x": {
             "color": "#2a3f5f"
            },
            "error_y": {
             "color": "#2a3f5f"
            },
            "marker": {
             "line": {
              "color": "#E5ECF6",
              "width": 0.5
             },
             "pattern": {
              "fillmode": "overlay",
              "size": 10,
              "solidity": 0.2
             }
            },
            "type": "bar"
           }
          ],
          "barpolar": [
           {
            "marker": {
             "line": {
              "color": "#E5ECF6",
              "width": 0.5
             },
             "pattern": {
              "fillmode": "overlay",
              "size": 10,
              "solidity": 0.2
             }
            },
            "type": "barpolar"
           }
          ],
          "carpet": [
           {
            "aaxis": {
             "endlinecolor": "#2a3f5f",
             "gridcolor": "white",
             "linecolor": "white",
             "minorgridcolor": "white",
             "startlinecolor": "#2a3f5f"
            },
            "baxis": {
             "endlinecolor": "#2a3f5f",
             "gridcolor": "white",
             "linecolor": "white",
             "minorgridcolor": "white",
             "startlinecolor": "#2a3f5f"
            },
            "type": "carpet"
           }
          ],
          "choropleth": [
           {
            "colorbar": {
             "outlinewidth": 0,
             "ticks": ""
            },
            "type": "choropleth"
           }
          ],
          "contour": [
           {
            "colorbar": {
             "outlinewidth": 0,
             "ticks": ""
            },
            "colorscale": [
             [
              0,
              "#0d0887"
             ],
             [
              0.1111111111111111,
              "#46039f"
             ],
             [
              0.2222222222222222,
              "#7201a8"
             ],
             [
              0.3333333333333333,
              "#9c179e"
             ],
             [
              0.4444444444444444,
              "#bd3786"
             ],
             [
              0.5555555555555556,
              "#d8576b"
             ],
             [
              0.6666666666666666,
              "#ed7953"
             ],
             [
              0.7777777777777778,
              "#fb9f3a"
             ],
             [
              0.8888888888888888,
              "#fdca26"
             ],
             [
              1,
              "#f0f921"
             ]
            ],
            "type": "contour"
           }
          ],
          "contourcarpet": [
           {
            "colorbar": {
             "outlinewidth": 0,
             "ticks": ""
            },
            "type": "contourcarpet"
           }
          ],
          "heatmap": [
           {
            "colorbar": {
             "outlinewidth": 0,
             "ticks": ""
            },
            "colorscale": [
             [
              0,
              "#0d0887"
             ],
             [
              0.1111111111111111,
              "#46039f"
             ],
             [
              0.2222222222222222,
              "#7201a8"
             ],
             [
              0.3333333333333333,
              "#9c179e"
             ],
             [
              0.4444444444444444,
              "#bd3786"
             ],
             [
              0.5555555555555556,
              "#d8576b"
             ],
             [
              0.6666666666666666,
              "#ed7953"
             ],
             [
              0.7777777777777778,
              "#fb9f3a"
             ],
             [
              0.8888888888888888,
              "#fdca26"
             ],
             [
              1,
              "#f0f921"
             ]
            ],
            "type": "heatmap"
           }
          ],
          "heatmapgl": [
           {
            "colorbar": {
             "outlinewidth": 0,
             "ticks": ""
            },
            "colorscale": [
             [
              0,
              "#0d0887"
             ],
             [
              0.1111111111111111,
              "#46039f"
             ],
             [
              0.2222222222222222,
              "#7201a8"
             ],
             [
              0.3333333333333333,
              "#9c179e"
             ],
             [
              0.4444444444444444,
              "#bd3786"
             ],
             [
              0.5555555555555556,
              "#d8576b"
             ],
             [
              0.6666666666666666,
              "#ed7953"
             ],
             [
              0.7777777777777778,
              "#fb9f3a"
             ],
             [
              0.8888888888888888,
              "#fdca26"
             ],
             [
              1,
              "#f0f921"
             ]
            ],
            "type": "heatmapgl"
           }
          ],
          "histogram": [
           {
            "marker": {
             "pattern": {
              "fillmode": "overlay",
              "size": 10,
              "solidity": 0.2
             }
            },
            "type": "histogram"
           }
          ],
          "histogram2d": [
           {
            "colorbar": {
             "outlinewidth": 0,
             "ticks": ""
            },
            "colorscale": [
             [
              0,
              "#0d0887"
             ],
             [
              0.1111111111111111,
              "#46039f"
             ],
             [
              0.2222222222222222,
              "#7201a8"
             ],
             [
              0.3333333333333333,
              "#9c179e"
             ],
             [
              0.4444444444444444,
              "#bd3786"
             ],
             [
              0.5555555555555556,
              "#d8576b"
             ],
             [
              0.6666666666666666,
              "#ed7953"
             ],
             [
              0.7777777777777778,
              "#fb9f3a"
             ],
             [
              0.8888888888888888,
              "#fdca26"
             ],
             [
              1,
              "#f0f921"
             ]
            ],
            "type": "histogram2d"
           }
          ],
          "histogram2dcontour": [
           {
            "colorbar": {
             "outlinewidth": 0,
             "ticks": ""
            },
            "colorscale": [
             [
              0,
              "#0d0887"
             ],
             [
              0.1111111111111111,
              "#46039f"
             ],
             [
              0.2222222222222222,
              "#7201a8"
             ],
             [
              0.3333333333333333,
              "#9c179e"
             ],
             [
              0.4444444444444444,
              "#bd3786"
             ],
             [
              0.5555555555555556,
              "#d8576b"
             ],
             [
              0.6666666666666666,
              "#ed7953"
             ],
             [
              0.7777777777777778,
              "#fb9f3a"
             ],
             [
              0.8888888888888888,
              "#fdca26"
             ],
             [
              1,
              "#f0f921"
             ]
            ],
            "type": "histogram2dcontour"
           }
          ],
          "mesh3d": [
           {
            "colorbar": {
             "outlinewidth": 0,
             "ticks": ""
            },
            "type": "mesh3d"
           }
          ],
          "parcoords": [
           {
            "line": {
             "colorbar": {
              "outlinewidth": 0,
              "ticks": ""
             }
            },
            "type": "parcoords"
           }
          ],
          "pie": [
           {
            "automargin": true,
            "type": "pie"
           }
          ],
          "scatter": [
           {
            "fillpattern": {
             "fillmode": "overlay",
             "size": 10,
             "solidity": 0.2
            },
            "type": "scatter"
           }
          ],
          "scatter3d": [
           {
            "line": {
             "colorbar": {
              "outlinewidth": 0,
              "ticks": ""
             }
            },
            "marker": {
             "colorbar": {
              "outlinewidth": 0,
              "ticks": ""
             }
            },
            "type": "scatter3d"
           }
          ],
          "scattercarpet": [
           {
            "marker": {
             "colorbar": {
              "outlinewidth": 0,
              "ticks": ""
             }
            },
            "type": "scattercarpet"
           }
          ],
          "scattergeo": [
           {
            "marker": {
             "colorbar": {
              "outlinewidth": 0,
              "ticks": ""
             }
            },
            "type": "scattergeo"
           }
          ],
          "scattergl": [
           {
            "marker": {
             "colorbar": {
              "outlinewidth": 0,
              "ticks": ""
             }
            },
            "type": "scattergl"
           }
          ],
          "scattermapbox": [
           {
            "marker": {
             "colorbar": {
              "outlinewidth": 0,
              "ticks": ""
             }
            },
            "type": "scattermapbox"
           }
          ],
          "scatterpolar": [
           {
            "marker": {
             "colorbar": {
              "outlinewidth": 0,
              "ticks": ""
             }
            },
            "type": "scatterpolar"
           }
          ],
          "scatterpolargl": [
           {
            "marker": {
             "colorbar": {
              "outlinewidth": 0,
              "ticks": ""
             }
            },
            "type": "scatterpolargl"
           }
          ],
          "scatterternary": [
           {
            "marker": {
             "colorbar": {
              "outlinewidth": 0,
              "ticks": ""
             }
            },
            "type": "scatterternary"
           }
          ],
          "surface": [
           {
            "colorbar": {
             "outlinewidth": 0,
             "ticks": ""
            },
            "colorscale": [
             [
              0,
              "#0d0887"
             ],
             [
              0.1111111111111111,
              "#46039f"
             ],
             [
              0.2222222222222222,
              "#7201a8"
             ],
             [
              0.3333333333333333,
              "#9c179e"
             ],
             [
              0.4444444444444444,
              "#bd3786"
             ],
             [
              0.5555555555555556,
              "#d8576b"
             ],
             [
              0.6666666666666666,
              "#ed7953"
             ],
             [
              0.7777777777777778,
              "#fb9f3a"
             ],
             [
              0.8888888888888888,
              "#fdca26"
             ],
             [
              1,
              "#f0f921"
             ]
            ],
            "type": "surface"
           }
          ],
          "table": [
           {
            "cells": {
             "fill": {
              "color": "#EBF0F8"
             },
             "line": {
              "color": "white"
             }
            },
            "header": {
             "fill": {
              "color": "#C8D4E3"
             },
             "line": {
              "color": "white"
             }
            },
            "type": "table"
           }
          ]
         },
         "layout": {
          "annotationdefaults": {
           "arrowcolor": "#2a3f5f",
           "arrowhead": 0,
           "arrowwidth": 1
          },
          "autotypenumbers": "strict",
          "coloraxis": {
           "colorbar": {
            "outlinewidth": 0,
            "ticks": ""
           }
          },
          "colorscale": {
           "diverging": [
            [
             0,
             "#8e0152"
            ],
            [
             0.1,
             "#c51b7d"
            ],
            [
             0.2,
             "#de77ae"
            ],
            [
             0.3,
             "#f1b6da"
            ],
            [
             0.4,
             "#fde0ef"
            ],
            [
             0.5,
             "#f7f7f7"
            ],
            [
             0.6,
             "#e6f5d0"
            ],
            [
             0.7,
             "#b8e186"
            ],
            [
             0.8,
             "#7fbc41"
            ],
            [
             0.9,
             "#4d9221"
            ],
            [
             1,
             "#276419"
            ]
           ],
           "sequential": [
            [
             0,
             "#0d0887"
            ],
            [
             0.1111111111111111,
             "#46039f"
            ],
            [
             0.2222222222222222,
             "#7201a8"
            ],
            [
             0.3333333333333333,
             "#9c179e"
            ],
            [
             0.4444444444444444,
             "#bd3786"
            ],
            [
             0.5555555555555556,
             "#d8576b"
            ],
            [
             0.6666666666666666,
             "#ed7953"
            ],
            [
             0.7777777777777778,
             "#fb9f3a"
            ],
            [
             0.8888888888888888,
             "#fdca26"
            ],
            [
             1,
             "#f0f921"
            ]
           ],
           "sequentialminus": [
            [
             0,
             "#0d0887"
            ],
            [
             0.1111111111111111,
             "#46039f"
            ],
            [
             0.2222222222222222,
             "#7201a8"
            ],
            [
             0.3333333333333333,
             "#9c179e"
            ],
            [
             0.4444444444444444,
             "#bd3786"
            ],
            [
             0.5555555555555556,
             "#d8576b"
            ],
            [
             0.6666666666666666,
             "#ed7953"
            ],
            [
             0.7777777777777778,
             "#fb9f3a"
            ],
            [
             0.8888888888888888,
             "#fdca26"
            ],
            [
             1,
             "#f0f921"
            ]
           ]
          },
          "colorway": [
           "#636efa",
           "#EF553B",
           "#00cc96",
           "#ab63fa",
           "#FFA15A",
           "#19d3f3",
           "#FF6692",
           "#B6E880",
           "#FF97FF",
           "#FECB52"
          ],
          "font": {
           "color": "#2a3f5f"
          },
          "geo": {
           "bgcolor": "white",
           "lakecolor": "white",
           "landcolor": "#E5ECF6",
           "showlakes": true,
           "showland": true,
           "subunitcolor": "white"
          },
          "hoverlabel": {
           "align": "left"
          },
          "hovermode": "closest",
          "mapbox": {
           "style": "light"
          },
          "paper_bgcolor": "white",
          "plot_bgcolor": "#E5ECF6",
          "polar": {
           "angularaxis": {
            "gridcolor": "white",
            "linecolor": "white",
            "ticks": ""
           },
           "bgcolor": "#E5ECF6",
           "radialaxis": {
            "gridcolor": "white",
            "linecolor": "white",
            "ticks": ""
           }
          },
          "scene": {
           "xaxis": {
            "backgroundcolor": "#E5ECF6",
            "gridcolor": "white",
            "gridwidth": 2,
            "linecolor": "white",
            "showbackground": true,
            "ticks": "",
            "zerolinecolor": "white"
           },
           "yaxis": {
            "backgroundcolor": "#E5ECF6",
            "gridcolor": "white",
            "gridwidth": 2,
            "linecolor": "white",
            "showbackground": true,
            "ticks": "",
            "zerolinecolor": "white"
           },
           "zaxis": {
            "backgroundcolor": "#E5ECF6",
            "gridcolor": "white",
            "gridwidth": 2,
            "linecolor": "white",
            "showbackground": true,
            "ticks": "",
            "zerolinecolor": "white"
           }
          },
          "shapedefaults": {
           "line": {
            "color": "#2a3f5f"
           }
          },
          "ternary": {
           "aaxis": {
            "gridcolor": "white",
            "linecolor": "white",
            "ticks": ""
           },
           "baxis": {
            "gridcolor": "white",
            "linecolor": "white",
            "ticks": ""
           },
           "bgcolor": "#E5ECF6",
           "caxis": {
            "gridcolor": "white",
            "linecolor": "white",
            "ticks": ""
           }
          },
          "title": {
           "x": 0.05
          },
          "xaxis": {
           "automargin": true,
           "gridcolor": "white",
           "linecolor": "white",
           "ticks": "",
           "title": {
            "standoff": 15
           },
           "zerolinecolor": "white",
           "zerolinewidth": 2
          },
          "yaxis": {
           "automargin": true,
           "gridcolor": "white",
           "linecolor": "white",
           "ticks": "",
           "title": {
            "standoff": 15
           },
           "zerolinecolor": "white",
           "zerolinewidth": 2
          }
         }
        },
        "title": {
         "text": "Slice Plot"
        },
        "xaxis": {
         "anchor": "y",
         "categoryarray": [
          "scale",
          "auto"
         ],
         "categoryorder": "array",
         "domain": [
          0,
          0.2888888888888889
         ],
         "title": {
          "text": "gamma"
         },
         "type": "category"
        },
        "xaxis2": {
         "anchor": "y2",
         "categoryarray": [
          "linear",
          "poly",
          "rbf",
          "sigmoid"
         ],
         "categoryorder": "array",
         "domain": [
          0.35555555555555557,
          0.6444444444444445
         ],
         "title": {
          "text": "kernel"
         },
         "type": "category"
        },
        "xaxis3": {
         "anchor": "y3",
         "domain": [
          0.7111111111111111,
          1
         ],
         "title": {
          "text": "nu"
         },
         "type": "log"
        },
        "yaxis": {
         "anchor": "x",
         "domain": [
          0,
          1
         ],
         "title": {
          "text": "Objective Value"
         }
        },
        "yaxis2": {
         "anchor": "x2",
         "domain": [
          0,
          1
         ],
         "matches": "y",
         "showticklabels": false
        },
        "yaxis3": {
         "anchor": "x3",
         "domain": [
          0,
          1
         ],
         "matches": "y",
         "showticklabels": false
        }
       }
      }
     },
     "metadata": {},
     "output_type": "display_data"
    }
   ],
   "source": [
    "optuna.visualization.plot_slice(study)"
   ]
  },
  {
   "cell_type": "code",
   "execution_count": 17,
   "metadata": {},
   "outputs": [
    {
     "name": "stderr",
     "output_type": "stream",
     "text": [
      "[codecarbon WARNING @ 10:16:04] Another instance of codecarbon is already running. Exiting.\n"
     ]
    },
    {
     "name": "stdout",
     "output_type": "stream",
     "text": [
      "Accuracy: 0.8416 ± 0.0567\n",
      "AUC-ROC: 0.9154 ± 0.0345\n"
     ]
    }
   ],
   "source": [
    "# Create optimized model\n",
    "best_params = trial.params\n",
    "model = svm.NuSVC(random_state=Random_Seed, probability=True, **best_params)\n",
    "\n",
    "# Define pipeline depending on whether PCA is requested or not\n",
    "if PC_Features:\n",
    "    steps = [\n",
    "        ('preprocessor', preprocessor),\n",
    "        ('pca', PCA(n_components=12)),\n",
    "        ('SVM-NuSVC-classifier', model)\n",
    "    ]\n",
    "else:\n",
    "    steps = [\n",
    "        ('preprocessor', preprocessor),\n",
    "        ('SVM-NuSVC-classifier', model)\n",
    "    ]\n",
    "    \n",
    "pipeline = Pipeline(steps)\n",
    "\n",
    "# Perform cross-validation\n",
    "cv_results = cross_validate(pipeline, X, y, scoring=['accuracy', 'roc_auc'], cv=K_Folds)\n",
    "\n",
    "# Calculate and display results\n",
    "acc = np.mean(cv_results['test_accuracy'])\n",
    "acc_std = np.std(cv_results['test_accuracy'])\n",
    "roc_auc = np.mean(cv_results['test_roc_auc'])\n",
    "roc_auc_std = np.std(cv_results['test_roc_auc'])\n",
    "\n",
    "print(f\"Accuracy: {acc:.4f} ± {acc_std:.4f}\")\n",
    "print(f\"AUC-ROC: {roc_auc:.4f} ± {roc_auc_std:.4f}\")\n",
    "\n",
    "# Stop emission tracking\n",
    "_ = tracker.stop()"
   ]
  },
  {
   "cell_type": "code",
   "execution_count": 18,
   "metadata": {},
   "outputs": [],
   "source": [
    "# Save evaluation to an external file\n",
    "file = 'scores.csv'\n",
    "\n",
    "results = pd.DataFrame({\n",
    "    'SVM-NuSVC-optimization': [acc, acc_std, roc_auc, roc_auc_std]\n",
    "}, index = ['Accuracy', 'Accuracy STD', 'AUC-ROC', 'AUC-ROC STD'])\n",
    "\n",
    "# Check if file exists\n",
    "if os.path.exists(file):\n",
    "    temp = pd.read_csv(file, index_col=0)\n",
    "    results = pd.concat([temp, results], axis=1)\n",
    "\n",
    "# Export\n",
    "results.to_csv(file)"
   ]
  },
  {
   "attachments": {},
   "cell_type": "markdown",
   "metadata": {},
   "source": [
    "<hr>\n",
    "\n",
    "### LinearSVC classification SVM implementation:"
   ]
  },
  {
   "cell_type": "code",
   "execution_count": 19,
   "metadata": {},
   "outputs": [
    {
     "name": "stderr",
     "output_type": "stream",
     "text": [
      "[codecarbon ERROR @ 10:16:04] Error: Another instance of codecarbon is already running. Turn off the other instance to be able to run this one. Exiting.\n",
      "[codecarbon WARNING @ 10:16:04] Another instance of codecarbon is already running. Exiting.\n",
      "[codecarbon WARNING @ 10:16:05] Another instance of codecarbon is already running. Exiting.\n"
     ]
    },
    {
     "name": "stdout",
     "output_type": "stream",
     "text": [
      "Accuracy: 0.8448 ± 0.0512\n",
      "AUC-ROC: 0.9124 ± 0.0336\n"
     ]
    }
   ],
   "source": [
    "# ---------------------------------------------------------------------------- #\n",
    "#                                     MODEL                                    #\n",
    "# ---------------------------------------------------------------------------- #\n",
    "\n",
    "# Initiate CodeCarbon to track emissions\n",
    "tracker = EmissionsTracker('LinearSVC SVM model', log_level='warning')\n",
    "tracker.start()\n",
    "\n",
    "# Create model\n",
    "model = svm.LinearSVC(random_state=Random_Seed, dual=False)\n",
    "\n",
    "# Define pipeline depending on whether PCA is requested or not\n",
    "if PC_Features:\n",
    "    steps = [\n",
    "        ('preprocessor', preprocessor),\n",
    "        ('pca', PCA(n_components=12)),\n",
    "        ('SVM-LinearSVC-classifier', model)\n",
    "    ]\n",
    "else:\n",
    "    steps = [\n",
    "        ('preprocessor', preprocessor),\n",
    "        ('SVM-LinearSVC-classifier', model)\n",
    "    ]\n",
    "    \n",
    "pipeline = Pipeline(steps)\n",
    "\n",
    "# Perform cross-validation\n",
    "cv_results = cross_validate(pipeline, X, y, scoring=['accuracy', 'roc_auc'], cv=K_Folds)\n",
    "\n",
    "# Calculate and display results\n",
    "acc = np.mean(cv_results['test_accuracy'])\n",
    "acc_std = np.std(cv_results['test_accuracy'])\n",
    "roc_auc = np.mean(cv_results['test_roc_auc'])\n",
    "roc_auc_std = np.std(cv_results['test_roc_auc'])\n",
    "\n",
    "print(f\"Accuracy: {acc:.4f} ± {acc_std:.4f}\")\n",
    "print(f\"AUC-ROC: {roc_auc:.4f} ± {roc_auc_std:.4f}\")\n",
    "\n",
    "# Stop emission tracking\n",
    "_ = tracker.stop()"
   ]
  },
  {
   "cell_type": "code",
   "execution_count": 20,
   "metadata": {},
   "outputs": [],
   "source": [
    "# Save evaluation to an external file\n",
    "file = 'scores.csv'\n",
    "\n",
    "results = pd.DataFrame({\n",
    "    'SVM-LinearSVC-model': [acc, acc_std, roc_auc, roc_auc_std]\n",
    "}, index = ['Accuracy', 'Accuracy STD', 'AUC-ROC', 'AUC-ROC STD'])\n",
    "\n",
    "# Check if file exists\n",
    "if os.path.exists(file):\n",
    "    temp = pd.read_csv(file, index_col=0)\n",
    "    results = pd.concat([temp, results], axis=1)\n",
    "\n",
    "# Export\n",
    "results.to_csv(file)"
   ]
  },
  {
   "cell_type": "code",
   "execution_count": 21,
   "metadata": {},
   "outputs": [
    {
     "name": "stderr",
     "output_type": "stream",
     "text": [
      "[codecarbon ERROR @ 10:16:05] Error: Another instance of codecarbon is already running. Turn off the other instance to be able to run this one. Exiting.\n",
      "[codecarbon WARNING @ 10:16:05] Another instance of codecarbon is already running. Exiting.\n",
      "/tmp/ipykernel_118092/3847851053.py:38: ExperimentalWarning:\n",
      "\n",
      "GPSampler is experimental (supported from v3.6.0). The interface can change in the future.\n",
      "\n",
      "[I 2024-10-31 10:16:05,124] A new study created in memory with name: no-name-c5cb75bf-53f7-46fd-8a79-7d88840b1a69\n"
     ]
    },
    {
     "name": "stderr",
     "output_type": "stream",
     "text": [
      "[I 2024-10-31 10:16:05,276] Trial 0 finished with value: 0.9128434065934066 and parameters: {'C': 7.676750739447821}. Best is trial 0 with value: 0.9128434065934066.\n",
      "[I 2024-10-31 10:16:05,392] Trial 1 finished with value: 0.9123969780219781 and parameters: {'C': 1.1426618248805984}. Best is trial 0 with value: 0.9128434065934066.\n",
      "[I 2024-10-31 10:16:05,509] Trial 2 finished with value: 0.9072458791208792 and parameters: {'C': 0.0024009916192333563}. Best is trial 0 with value: 0.9128434065934066.\n",
      "[I 2024-10-31 10:16:05,631] Trial 3 finished with value: 0.9134271978021978 and parameters: {'C': 0.026995103800403597}. Best is trial 3 with value: 0.9134271978021978.\n",
      "[I 2024-10-31 10:16:05,750] Trial 4 finished with value: 0.9152472527472527 and parameters: {'C': 0.07445655649076541}. Best is trial 4 with value: 0.9152472527472527.\n",
      "[I 2024-10-31 10:16:05,887] Trial 5 finished with value: 0.9129464285714285 and parameters: {'C': 0.02608462541663076}. Best is trial 4 with value: 0.9152472527472527.\n",
      "[I 2024-10-31 10:16:06,019] Trial 6 finished with value: 0.9128434065934066 and parameters: {'C': 0.27983781638104593}. Best is trial 4 with value: 0.9152472527472527.\n",
      "[I 2024-10-31 10:16:06,147] Trial 7 finished with value: 0.9128434065934066 and parameters: {'C': 7.867818120499665}. Best is trial 4 with value: 0.9152472527472527.\n",
      "[I 2024-10-31 10:16:06,296] Trial 8 finished with value: 0.9142513736263738 and parameters: {'C': 0.011168643142136147}. Best is trial 4 with value: 0.9152472527472527.\n",
      "[I 2024-10-31 10:16:06,429] Trial 9 finished with value: 0.9134271978021978 and parameters: {'C': 0.030179590931150496}. Best is trial 4 with value: 0.9152472527472527.\n",
      "[I 2024-10-31 10:16:06,665] Trial 10 finished with value: 0.9128434065934066 and parameters: {'C': 100.0}. Best is trial 4 with value: 0.9152472527472527.\n",
      "[I 2024-10-31 10:16:06,893] Trial 11 finished with value: 0.884375 and parameters: {'C': 1e-05}. Best is trial 4 with value: 0.9152472527472527.\n",
      "[I 2024-10-31 10:16:07,159] Trial 12 finished with value: 0.9152472527472527 and parameters: {'C': 0.08550260019325534}. Best is trial 4 with value: 0.9152472527472527.\n",
      "[I 2024-10-31 10:16:07,433] Trial 13 finished with value: 0.9152472527472527 and parameters: {'C': 0.08553041590127178}. Best is trial 4 with value: 0.9152472527472527.\n",
      "[I 2024-10-31 10:16:07,681] Trial 14 finished with value: 0.9152472527472527 and parameters: {'C': 0.08494017743412989}. Best is trial 4 with value: 0.9152472527472527.\n",
      "[I 2024-10-31 10:16:07,982] Trial 15 finished with value: 0.9152472527472527 and parameters: {'C': 0.08432568613655694}. Best is trial 4 with value: 0.9152472527472527.\n",
      "[I 2024-10-31 10:16:08,252] Trial 16 finished with value: 0.9152472527472527 and parameters: {'C': 0.08396235661412683}. Best is trial 4 with value: 0.9152472527472527.\n",
      "[I 2024-10-31 10:16:08,555] Trial 17 finished with value: 0.9152472527472527 and parameters: {'C': 0.08412513590645138}. Best is trial 4 with value: 0.9152472527472527.\n",
      "[I 2024-10-31 10:16:08,819] Trial 18 finished with value: 0.9152472527472527 and parameters: {'C': 0.0858000470962224}. Best is trial 4 with value: 0.9152472527472527.\n",
      "[I 2024-10-31 10:16:09,107] Trial 19 finished with value: 0.9128434065934066 and parameters: {'C': 31.059527770318994}. Best is trial 4 with value: 0.9152472527472527.\n",
      "[I 2024-10-31 10:16:09,383] Trial 20 finished with value: 0.9152472527472527 and parameters: {'C': 0.07669911993344763}. Best is trial 4 with value: 0.9152472527472527.\n",
      "[I 2024-10-31 10:16:09,764] Trial 21 finished with value: 0.9152472527472527 and parameters: {'C': 0.07790874082559326}. Best is trial 4 with value: 0.9152472527472527.\n",
      "[I 2024-10-31 10:16:10,095] Trial 22 finished with value: 0.9152472527472527 and parameters: {'C': 0.078645470863342}. Best is trial 4 with value: 0.9152472527472527.\n",
      "[I 2024-10-31 10:16:10,355] Trial 23 finished with value: 0.9152472527472527 and parameters: {'C': 0.07913304309095816}. Best is trial 4 with value: 0.9152472527472527.\n",
      "[I 2024-10-31 10:16:10,619] Trial 24 finished with value: 0.9152472527472527 and parameters: {'C': 0.0794392573319052}. Best is trial 4 with value: 0.9152472527472527.\n",
      "[I 2024-10-31 10:16:10,865] Trial 25 finished with value: 0.9152472527472527 and parameters: {'C': 0.07963621122386745}. Best is trial 4 with value: 0.9152472527472527.\n",
      "[I 2024-10-31 10:16:11,101] Trial 26 finished with value: 0.9152472527472527 and parameters: {'C': 0.07978344344964146}. Best is trial 4 with value: 0.9152472527472527.\n",
      "[I 2024-10-31 10:16:11,340] Trial 27 finished with value: 0.9152472527472527 and parameters: {'C': 0.07988986919273919}. Best is trial 4 with value: 0.9152472527472527.\n",
      "[I 2024-10-31 10:16:11,588] Trial 28 finished with value: 0.9152472527472527 and parameters: {'C': 0.07997885658948212}. Best is trial 4 with value: 0.9152472527472527.\n",
      "[I 2024-10-31 10:16:11,883] Trial 29 finished with value: 0.9152472527472527 and parameters: {'C': 0.08008135216512018}. Best is trial 4 with value: 0.9152472527472527.\n",
      "[I 2024-10-31 10:16:12,234] Trial 30 finished with value: 0.9152472527472527 and parameters: {'C': 0.08015075693578126}. Best is trial 4 with value: 0.9152472527472527.\n",
      "[I 2024-10-31 10:16:12,572] Trial 31 finished with value: 0.9152472527472527 and parameters: {'C': 0.08023273190697948}. Best is trial 4 with value: 0.9152472527472527.\n",
      "[I 2024-10-31 10:16:12,839] Trial 32 finished with value: 0.9152472527472527 and parameters: {'C': 0.08418388264600853}. Best is trial 4 with value: 0.9152472527472527.\n",
      "[I 2024-10-31 10:16:13,187] Trial 33 finished with value: 0.9152472527472527 and parameters: {'C': 0.07908294885648444}. Best is trial 4 with value: 0.9152472527472527.\n",
      "[I 2024-10-31 10:16:13,508] Trial 34 finished with value: 0.9152472527472527 and parameters: {'C': 0.07967146291689083}. Best is trial 4 with value: 0.9152472527472527.\n",
      "[I 2024-10-31 10:16:13,839] Trial 35 finished with value: 0.9152472527472527 and parameters: {'C': 0.08018435450799075}. Best is trial 4 with value: 0.9152472527472527.\n",
      "[I 2024-10-31 10:16:14,192] Trial 36 finished with value: 0.9152472527472527 and parameters: {'C': 0.08058697255074367}. Best is trial 4 with value: 0.9152472527472527.\n",
      "[I 2024-10-31 10:16:14,530] Trial 37 finished with value: 0.9152472527472527 and parameters: {'C': 0.08051222693660429}. Best is trial 4 with value: 0.9152472527472527.\n",
      "[I 2024-10-31 10:16:14,957] Trial 38 finished with value: 0.9152472527472527 and parameters: {'C': 0.08085338180545187}. Best is trial 4 with value: 0.9152472527472527.\n",
      "[I 2024-10-31 10:16:15,352] Trial 39 finished with value: 0.9152472527472527 and parameters: {'C': 0.08013782533497094}. Best is trial 4 with value: 0.9152472527472527.\n",
      "[I 2024-10-31 10:16:15,687] Trial 40 finished with value: 0.9152472527472527 and parameters: {'C': 0.08358018404563466}. Best is trial 4 with value: 0.9152472527472527.\n",
      "[I 2024-10-31 10:16:16,046] Trial 41 finished with value: 0.9152472527472527 and parameters: {'C': 0.07953183456408942}. Best is trial 4 with value: 0.9152472527472527.\n",
      "[I 2024-10-31 10:16:16,466] Trial 42 finished with value: 0.9152472527472527 and parameters: {'C': 0.08029417206853852}. Best is trial 4 with value: 0.9152472527472527.\n",
      "[I 2024-10-31 10:16:16,843] Trial 43 finished with value: 0.9152472527472527 and parameters: {'C': 0.08106848881371094}. Best is trial 4 with value: 0.9152472527472527.\n",
      "[I 2024-10-31 10:16:17,291] Trial 44 finished with value: 0.9152472527472527 and parameters: {'C': 0.08048004480297621}. Best is trial 4 with value: 0.9152472527472527.\n",
      "[I 2024-10-31 10:16:17,709] Trial 45 finished with value: 0.9152472527472527 and parameters: {'C': 0.08275801648963037}. Best is trial 4 with value: 0.9152472527472527.\n",
      "[I 2024-10-31 10:16:18,017] Trial 46 finished with value: 0.9152472527472527 and parameters: {'C': 0.07959140228832944}. Best is trial 4 with value: 0.9152472527472527.\n",
      "[I 2024-10-31 10:16:18,324] Trial 47 finished with value: 0.9152472527472527 and parameters: {'C': 0.08057071922061272}. Best is trial 4 with value: 0.9152472527472527.\n",
      "[I 2024-10-31 10:16:18,566] Trial 48 finished with value: 0.9152472527472527 and parameters: {'C': 0.08183383035562383}. Best is trial 4 with value: 0.9152472527472527.\n",
      "[I 2024-10-31 10:16:18,983] Trial 49 finished with value: 0.9152472527472527 and parameters: {'C': 0.07988300374871347}. Best is trial 4 with value: 0.9152472527472527.\n",
      "[I 2024-10-31 10:16:19,436] Trial 50 finished with value: 0.9152472527472527 and parameters: {'C': 0.08229417250824882}. Best is trial 4 with value: 0.9152472527472527.\n",
      "[I 2024-10-31 10:16:19,810] Trial 51 finished with value: 0.9152472527472527 and parameters: {'C': 0.07986346966942799}. Best is trial 4 with value: 0.9152472527472527.\n",
      "[I 2024-10-31 10:16:20,126] Trial 52 finished with value: 0.9152472527472527 and parameters: {'C': 0.081190700069788}. Best is trial 4 with value: 0.9152472527472527.\n",
      "[I 2024-10-31 10:16:20,483] Trial 53 finished with value: 0.9152472527472527 and parameters: {'C': 0.08060879656076508}. Best is trial 4 with value: 0.9152472527472527.\n",
      "[I 2024-10-31 10:16:20,846] Trial 54 finished with value: 0.9152472527472527 and parameters: {'C': 0.08243513980189042}. Best is trial 4 with value: 0.9152472527472527.\n",
      "[I 2024-10-31 10:16:21,148] Trial 55 finished with value: 0.9152472527472527 and parameters: {'C': 0.07983559612354328}. Best is trial 4 with value: 0.9152472527472527.\n",
      "[I 2024-10-31 10:16:21,499] Trial 56 finished with value: 0.9152472527472527 and parameters: {'C': 0.08104207231733224}. Best is trial 4 with value: 0.9152472527472527.\n",
      "[I 2024-10-31 10:16:21,921] Trial 57 finished with value: 0.9152472527472527 and parameters: {'C': 0.08127361087271887}. Best is trial 4 with value: 0.9152472527472527.\n",
      "[I 2024-10-31 10:16:22,302] Trial 58 finished with value: 0.9146634615384615 and parameters: {'C': 0.00703078634205428}. Best is trial 4 with value: 0.9152472527472527.\n",
      "[I 2024-10-31 10:16:22,697] Trial 59 finished with value: 0.9152472527472527 and parameters: {'C': 0.08216201513466703}. Best is trial 4 with value: 0.9152472527472527.\n",
      "[I 2024-10-31 10:16:23,177] Trial 60 finished with value: 0.9152472527472527 and parameters: {'C': 0.08042472490443732}. Best is trial 4 with value: 0.9152472527472527.\n",
      "[I 2024-10-31 10:16:23,664] Trial 61 finished with value: 0.9152472527472527 and parameters: {'C': 0.0811266238618925}. Best is trial 4 with value: 0.9152472527472527.\n",
      "[I 2024-10-31 10:16:24,038] Trial 62 finished with value: 0.9152472527472527 and parameters: {'C': 0.08099208057279737}. Best is trial 4 with value: 0.9152472527472527.\n",
      "[I 2024-10-31 10:16:24,424] Trial 63 finished with value: 0.9152472527472527 and parameters: {'C': 0.08173013911388965}. Best is trial 4 with value: 0.9152472527472527.\n",
      "[I 2024-10-31 10:16:24,758] Trial 64 finished with value: 0.9152472527472527 and parameters: {'C': 0.08018764468483877}. Best is trial 4 with value: 0.9152472527472527.\n",
      "[I 2024-10-31 10:16:25,166] Trial 65 finished with value: 0.9152472527472527 and parameters: {'C': 0.08203551544145762}. Best is trial 4 with value: 0.9152472527472527.\n",
      "[I 2024-10-31 10:16:25,542] Trial 66 finished with value: 0.9152472527472527 and parameters: {'C': 0.08026894269050423}. Best is trial 4 with value: 0.9152472527472527.\n",
      "[I 2024-10-31 10:16:25,903] Trial 67 finished with value: 0.9152472527472527 and parameters: {'C': 0.08188632316656426}. Best is trial 4 with value: 0.9152472527472527.\n",
      "[I 2024-10-31 10:16:26,359] Trial 68 finished with value: 0.9152472527472527 and parameters: {'C': 0.08035321259127759}. Best is trial 4 with value: 0.9152472527472527.\n",
      "[I 2024-10-31 10:16:26,781] Trial 69 finished with value: 0.9152472527472527 and parameters: {'C': 0.08156003070413238}. Best is trial 4 with value: 0.9152472527472527.\n",
      "[I 2024-10-31 10:16:27,218] Trial 70 finished with value: 0.9152472527472527 and parameters: {'C': 0.08072303878171222}. Best is trial 4 with value: 0.9152472527472527.\n",
      "[I 2024-10-31 10:16:27,547] Trial 71 finished with value: 0.9152472527472527 and parameters: {'C': 0.081519515567764}. Best is trial 4 with value: 0.9152472527472527.\n",
      "[I 2024-10-31 10:16:28,000] Trial 72 finished with value: 0.9152472527472527 and parameters: {'C': 0.08034580864286921}. Best is trial 4 with value: 0.9152472527472527.\n",
      "[I 2024-10-31 10:16:28,497] Trial 73 finished with value: 0.9152472527472527 and parameters: {'C': 0.08246251630374998}. Best is trial 4 with value: 0.9152472527472527.\n",
      "[I 2024-10-31 10:16:28,853] Trial 74 finished with value: 0.9152472527472527 and parameters: {'C': 0.08024185368512629}. Best is trial 4 with value: 0.9152472527472527.\n",
      "[I 2024-10-31 10:16:29,360] Trial 75 finished with value: 0.9152472527472527 and parameters: {'C': 0.08123291619793394}. Best is trial 4 with value: 0.9152472527472527.\n",
      "[I 2024-10-31 10:16:29,923] Trial 76 finished with value: 0.9152472527472527 and parameters: {'C': 0.0809119176619088}. Best is trial 4 with value: 0.9152472527472527.\n",
      "[I 2024-10-31 10:16:30,366] Trial 77 finished with value: 0.9152472527472527 and parameters: {'C': 0.08197805549668982}. Best is trial 4 with value: 0.9152472527472527.\n",
      "[I 2024-10-31 10:16:30,843] Trial 78 finished with value: 0.9152472527472527 and parameters: {'C': 0.08034781335787466}. Best is trial 4 with value: 0.9152472527472527.\n",
      "[I 2024-10-31 10:16:31,171] Trial 79 finished with value: 0.9152472527472527 and parameters: {'C': 0.08173545769136469}. Best is trial 4 with value: 0.9152472527472527.\n",
      "[I 2024-10-31 10:16:31,684] Trial 80 finished with value: 0.9152472527472527 and parameters: {'C': 0.08041567203533644}. Best is trial 4 with value: 0.9152472527472527.\n",
      "[I 2024-10-31 10:16:32,130] Trial 81 finished with value: 0.9152472527472527 and parameters: {'C': 0.08193634831356536}. Best is trial 4 with value: 0.9152472527472527.\n",
      "[I 2024-10-31 10:16:32,522] Trial 82 finished with value: 0.9152472527472527 and parameters: {'C': 0.08035519240644418}. Best is trial 4 with value: 0.9152472527472527.\n",
      "[I 2024-10-31 10:16:32,908] Trial 83 finished with value: 0.9152472527472527 and parameters: {'C': 0.08152169106824649}. Best is trial 4 with value: 0.9152472527472527.\n",
      "[I 2024-10-31 10:16:33,404] Trial 84 finished with value: 0.9152472527472527 and parameters: {'C': 0.0807138030237059}. Best is trial 4 with value: 0.9152472527472527.\n",
      "[I 2024-10-31 10:16:33,930] Trial 85 finished with value: 0.9152472527472527 and parameters: {'C': 0.08220769397699043}. Best is trial 4 with value: 0.9152472527472527.\n",
      "[I 2024-10-31 10:16:34,255] Trial 86 finished with value: 0.9152472527472527 and parameters: {'C': 0.08027541838998328}. Best is trial 4 with value: 0.9152472527472527.\n",
      "[I 2024-10-31 10:16:34,637] Trial 87 finished with value: 0.9152472527472527 and parameters: {'C': 0.08135104756496793}. Best is trial 4 with value: 0.9152472527472527.\n",
      "[I 2024-10-31 10:16:34,934] Trial 88 finished with value: 0.9152472527472527 and parameters: {'C': 0.08083874795744633}. Best is trial 4 with value: 0.9152472527472527.\n",
      "[I 2024-10-31 10:16:35,215] Trial 89 finished with value: 0.9152472527472527 and parameters: {'C': 0.08117729714621871}. Best is trial 4 with value: 0.9152472527472527.\n",
      "[I 2024-10-31 10:16:35,506] Trial 90 finished with value: 0.9152472527472527 and parameters: {'C': 0.08210751272295229}. Best is trial 4 with value: 0.9152472527472527.\n",
      "[I 2024-10-31 10:16:35,809] Trial 91 finished with value: 0.9152472527472527 and parameters: {'C': 0.08035865602727806}. Best is trial 4 with value: 0.9152472527472527.\n",
      "[I 2024-10-31 10:16:36,223] Trial 92 finished with value: 0.9152472527472527 and parameters: {'C': 0.08123859510644622}. Best is trial 4 with value: 0.9152472527472527.\n",
      "[I 2024-10-31 10:16:36,536] Trial 93 finished with value: 0.9152472527472527 and parameters: {'C': 0.0809959724241992}. Best is trial 4 with value: 0.9152472527472527.\n",
      "[I 2024-10-31 10:16:36,847] Trial 94 finished with value: 0.9152472527472527 and parameters: {'C': 0.0820151379485598}. Best is trial 4 with value: 0.9152472527472527.\n",
      "[I 2024-10-31 10:16:37,106] Trial 95 finished with value: 0.9152472527472527 and parameters: {'C': 0.08060405610024117}. Best is trial 4 with value: 0.9152472527472527.\n",
      "[I 2024-10-31 10:16:37,441] Trial 96 finished with value: 0.9152472527472527 and parameters: {'C': 0.08081821471827}. Best is trial 4 with value: 0.9152472527472527.\n",
      "[I 2024-10-31 10:16:37,711] Trial 97 finished with value: 0.9152472527472527 and parameters: {'C': 0.10215207225158636}. Best is trial 4 with value: 0.9152472527472527.\n",
      "[I 2024-10-31 10:16:38,146] Trial 98 finished with value: 0.9152472527472527 and parameters: {'C': 0.0927456250782751}. Best is trial 4 with value: 0.9152472527472527.\n",
      "[I 2024-10-31 10:16:38,558] Trial 99 finished with value: 0.9152472527472527 and parameters: {'C': 0.091937801404394}. Best is trial 4 with value: 0.9152472527472527.\n"
     ]
    }
   ],
   "source": [
    "# ---------------------------------------------------------------------------- #\n",
    "#                                 OPTIMIZATION                                 #\n",
    "# ---------------------------------------------------------------------------- #\n",
    "\n",
    "# Initiate CodeCarbon to track emissions\n",
    "tracker = EmissionsTracker('LinearSVC SVM optimization', log_level='warning')\n",
    "tracker.start()\n",
    "\n",
    "# Objective function\n",
    "def objective(trial):\n",
    "    # Define parameters\n",
    "    C = trial.suggest_float('C', 1e-5, 1e2, log=True)\n",
    "\n",
    "    # Create model\n",
    "    temp_model = svm.LinearSVC(C=C, dual=False)\n",
    "\n",
    "    # Define pipeline depending on whether PCA is requested or not\n",
    "    if PC_Features:\n",
    "        steps = [\n",
    "        ('preprocessor', preprocessor),\n",
    "        ('pca', PCA(n_components=12)),\n",
    "        ('SVM-LinearSVC-classifier', temp_model)\n",
    "        ]\n",
    "    else:\n",
    "        steps = [\n",
    "        ('preprocessor', preprocessor),\n",
    "        ('SVM-LinearSVC-classifier', temp_model)\n",
    "        ]\n",
    "        \n",
    "    pipeline = Pipeline(steps)\n",
    "\n",
    "    # Perform cross-validation\n",
    "    roc_auc = cross_val_score(pipeline, X, y, scoring='roc_auc', cv=K_Folds).mean()\n",
    "\n",
    "    return roc_auc\n",
    "\n",
    "# Optimizing with Optuna\n",
    "study = optuna.create_study(direction='maximize', sampler=GPSampler())\n",
    "study.optimize(objective, n_trials=100)"
   ]
  },
  {
   "cell_type": "code",
   "execution_count": 22,
   "metadata": {},
   "outputs": [
    {
     "name": "stdout",
     "output_type": "stream",
     "text": [
      "AUC-ROC: 0.9152472527472527\n",
      "Best hyperparameters: {'C': 0.07445655649076541}\n"
     ]
    }
   ],
   "source": [
    "# Show best model\n",
    "trial = study.best_trial\n",
    "print('AUC-ROC: {}'.format(trial.value))\n",
    "print(\"Best hyperparameters: {}\".format(trial.params))\n",
    "\n",
    "# Save best trial parameters to a JSON file\n",
    "with open('params/SVM-LinearSVC-params.json', 'w') as f:\n",
    "    json.dump(trial.params, f)"
   ]
  },
  {
   "cell_type": "code",
   "execution_count": 23,
   "metadata": {},
   "outputs": [
    {
     "data": {
      "application/vnd.plotly.v1+json": {
       "config": {
        "plotlyServerURL": "https://plot.ly"
       },
       "data": [
        {
         "mode": "markers",
         "name": "Objective Value",
         "type": "scatter",
         "x": [
          0,
          1,
          2,
          3,
          4,
          5,
          6,
          7,
          8,
          9,
          10,
          11,
          12,
          13,
          14,
          15,
          16,
          17,
          18,
          19,
          20,
          21,
          22,
          23,
          24,
          25,
          26,
          27,
          28,
          29,
          30,
          31,
          32,
          33,
          34,
          35,
          36,
          37,
          38,
          39,
          40,
          41,
          42,
          43,
          44,
          45,
          46,
          47,
          48,
          49,
          50,
          51,
          52,
          53,
          54,
          55,
          56,
          57,
          58,
          59,
          60,
          61,
          62,
          63,
          64,
          65,
          66,
          67,
          68,
          69,
          70,
          71,
          72,
          73,
          74,
          75,
          76,
          77,
          78,
          79,
          80,
          81,
          82,
          83,
          84,
          85,
          86,
          87,
          88,
          89,
          90,
          91,
          92,
          93,
          94,
          95,
          96,
          97,
          98,
          99
         ],
         "y": [
          0.9128434065934066,
          0.9123969780219781,
          0.9072458791208792,
          0.9134271978021978,
          0.9152472527472527,
          0.9129464285714285,
          0.9128434065934066,
          0.9128434065934066,
          0.9142513736263738,
          0.9134271978021978,
          0.9128434065934066,
          0.884375,
          0.9152472527472527,
          0.9152472527472527,
          0.9152472527472527,
          0.9152472527472527,
          0.9152472527472527,
          0.9152472527472527,
          0.9152472527472527,
          0.9128434065934066,
          0.9152472527472527,
          0.9152472527472527,
          0.9152472527472527,
          0.9152472527472527,
          0.9152472527472527,
          0.9152472527472527,
          0.9152472527472527,
          0.9152472527472527,
          0.9152472527472527,
          0.9152472527472527,
          0.9152472527472527,
          0.9152472527472527,
          0.9152472527472527,
          0.9152472527472527,
          0.9152472527472527,
          0.9152472527472527,
          0.9152472527472527,
          0.9152472527472527,
          0.9152472527472527,
          0.9152472527472527,
          0.9152472527472527,
          0.9152472527472527,
          0.9152472527472527,
          0.9152472527472527,
          0.9152472527472527,
          0.9152472527472527,
          0.9152472527472527,
          0.9152472527472527,
          0.9152472527472527,
          0.9152472527472527,
          0.9152472527472527,
          0.9152472527472527,
          0.9152472527472527,
          0.9152472527472527,
          0.9152472527472527,
          0.9152472527472527,
          0.9152472527472527,
          0.9152472527472527,
          0.9146634615384615,
          0.9152472527472527,
          0.9152472527472527,
          0.9152472527472527,
          0.9152472527472527,
          0.9152472527472527,
          0.9152472527472527,
          0.9152472527472527,
          0.9152472527472527,
          0.9152472527472527,
          0.9152472527472527,
          0.9152472527472527,
          0.9152472527472527,
          0.9152472527472527,
          0.9152472527472527,
          0.9152472527472527,
          0.9152472527472527,
          0.9152472527472527,
          0.9152472527472527,
          0.9152472527472527,
          0.9152472527472527,
          0.9152472527472527,
          0.9152472527472527,
          0.9152472527472527,
          0.9152472527472527,
          0.9152472527472527,
          0.9152472527472527,
          0.9152472527472527,
          0.9152472527472527,
          0.9152472527472527,
          0.9152472527472527,
          0.9152472527472527,
          0.9152472527472527,
          0.9152472527472527,
          0.9152472527472527,
          0.9152472527472527,
          0.9152472527472527,
          0.9152472527472527,
          0.9152472527472527,
          0.9152472527472527,
          0.9152472527472527,
          0.9152472527472527
         ]
        },
        {
         "mode": "lines",
         "name": "Best Value",
         "type": "scatter",
         "x": [
          0,
          1,
          2,
          3,
          4,
          5,
          6,
          7,
          8,
          9,
          10,
          11,
          12,
          13,
          14,
          15,
          16,
          17,
          18,
          19,
          20,
          21,
          22,
          23,
          24,
          25,
          26,
          27,
          28,
          29,
          30,
          31,
          32,
          33,
          34,
          35,
          36,
          37,
          38,
          39,
          40,
          41,
          42,
          43,
          44,
          45,
          46,
          47,
          48,
          49,
          50,
          51,
          52,
          53,
          54,
          55,
          56,
          57,
          58,
          59,
          60,
          61,
          62,
          63,
          64,
          65,
          66,
          67,
          68,
          69,
          70,
          71,
          72,
          73,
          74,
          75,
          76,
          77,
          78,
          79,
          80,
          81,
          82,
          83,
          84,
          85,
          86,
          87,
          88,
          89,
          90,
          91,
          92,
          93,
          94,
          95,
          96,
          97,
          98,
          99
         ],
         "y": [
          0.9128434065934066,
          0.9128434065934066,
          0.9128434065934066,
          0.9134271978021978,
          0.9152472527472527,
          0.9152472527472527,
          0.9152472527472527,
          0.9152472527472527,
          0.9152472527472527,
          0.9152472527472527,
          0.9152472527472527,
          0.9152472527472527,
          0.9152472527472527,
          0.9152472527472527,
          0.9152472527472527,
          0.9152472527472527,
          0.9152472527472527,
          0.9152472527472527,
          0.9152472527472527,
          0.9152472527472527,
          0.9152472527472527,
          0.9152472527472527,
          0.9152472527472527,
          0.9152472527472527,
          0.9152472527472527,
          0.9152472527472527,
          0.9152472527472527,
          0.9152472527472527,
          0.9152472527472527,
          0.9152472527472527,
          0.9152472527472527,
          0.9152472527472527,
          0.9152472527472527,
          0.9152472527472527,
          0.9152472527472527,
          0.9152472527472527,
          0.9152472527472527,
          0.9152472527472527,
          0.9152472527472527,
          0.9152472527472527,
          0.9152472527472527,
          0.9152472527472527,
          0.9152472527472527,
          0.9152472527472527,
          0.9152472527472527,
          0.9152472527472527,
          0.9152472527472527,
          0.9152472527472527,
          0.9152472527472527,
          0.9152472527472527,
          0.9152472527472527,
          0.9152472527472527,
          0.9152472527472527,
          0.9152472527472527,
          0.9152472527472527,
          0.9152472527472527,
          0.9152472527472527,
          0.9152472527472527,
          0.9152472527472527,
          0.9152472527472527,
          0.9152472527472527,
          0.9152472527472527,
          0.9152472527472527,
          0.9152472527472527,
          0.9152472527472527,
          0.9152472527472527,
          0.9152472527472527,
          0.9152472527472527,
          0.9152472527472527,
          0.9152472527472527,
          0.9152472527472527,
          0.9152472527472527,
          0.9152472527472527,
          0.9152472527472527,
          0.9152472527472527,
          0.9152472527472527,
          0.9152472527472527,
          0.9152472527472527,
          0.9152472527472527,
          0.9152472527472527,
          0.9152472527472527,
          0.9152472527472527,
          0.9152472527472527,
          0.9152472527472527,
          0.9152472527472527,
          0.9152472527472527,
          0.9152472527472527,
          0.9152472527472527,
          0.9152472527472527,
          0.9152472527472527,
          0.9152472527472527,
          0.9152472527472527,
          0.9152472527472527,
          0.9152472527472527,
          0.9152472527472527,
          0.9152472527472527,
          0.9152472527472527,
          0.9152472527472527,
          0.9152472527472527,
          0.9152472527472527
         ]
        },
        {
         "marker": {
          "color": "#cccccc"
         },
         "mode": "markers",
         "name": "Infeasible Trial",
         "showlegend": false,
         "type": "scatter",
         "x": [],
         "y": []
        }
       ],
       "layout": {
        "template": {
         "data": {
          "bar": [
           {
            "error_x": {
             "color": "#2a3f5f"
            },
            "error_y": {
             "color": "#2a3f5f"
            },
            "marker": {
             "line": {
              "color": "#E5ECF6",
              "width": 0.5
             },
             "pattern": {
              "fillmode": "overlay",
              "size": 10,
              "solidity": 0.2
             }
            },
            "type": "bar"
           }
          ],
          "barpolar": [
           {
            "marker": {
             "line": {
              "color": "#E5ECF6",
              "width": 0.5
             },
             "pattern": {
              "fillmode": "overlay",
              "size": 10,
              "solidity": 0.2
             }
            },
            "type": "barpolar"
           }
          ],
          "carpet": [
           {
            "aaxis": {
             "endlinecolor": "#2a3f5f",
             "gridcolor": "white",
             "linecolor": "white",
             "minorgridcolor": "white",
             "startlinecolor": "#2a3f5f"
            },
            "baxis": {
             "endlinecolor": "#2a3f5f",
             "gridcolor": "white",
             "linecolor": "white",
             "minorgridcolor": "white",
             "startlinecolor": "#2a3f5f"
            },
            "type": "carpet"
           }
          ],
          "choropleth": [
           {
            "colorbar": {
             "outlinewidth": 0,
             "ticks": ""
            },
            "type": "choropleth"
           }
          ],
          "contour": [
           {
            "colorbar": {
             "outlinewidth": 0,
             "ticks": ""
            },
            "colorscale": [
             [
              0,
              "#0d0887"
             ],
             [
              0.1111111111111111,
              "#46039f"
             ],
             [
              0.2222222222222222,
              "#7201a8"
             ],
             [
              0.3333333333333333,
              "#9c179e"
             ],
             [
              0.4444444444444444,
              "#bd3786"
             ],
             [
              0.5555555555555556,
              "#d8576b"
             ],
             [
              0.6666666666666666,
              "#ed7953"
             ],
             [
              0.7777777777777778,
              "#fb9f3a"
             ],
             [
              0.8888888888888888,
              "#fdca26"
             ],
             [
              1,
              "#f0f921"
             ]
            ],
            "type": "contour"
           }
          ],
          "contourcarpet": [
           {
            "colorbar": {
             "outlinewidth": 0,
             "ticks": ""
            },
            "type": "contourcarpet"
           }
          ],
          "heatmap": [
           {
            "colorbar": {
             "outlinewidth": 0,
             "ticks": ""
            },
            "colorscale": [
             [
              0,
              "#0d0887"
             ],
             [
              0.1111111111111111,
              "#46039f"
             ],
             [
              0.2222222222222222,
              "#7201a8"
             ],
             [
              0.3333333333333333,
              "#9c179e"
             ],
             [
              0.4444444444444444,
              "#bd3786"
             ],
             [
              0.5555555555555556,
              "#d8576b"
             ],
             [
              0.6666666666666666,
              "#ed7953"
             ],
             [
              0.7777777777777778,
              "#fb9f3a"
             ],
             [
              0.8888888888888888,
              "#fdca26"
             ],
             [
              1,
              "#f0f921"
             ]
            ],
            "type": "heatmap"
           }
          ],
          "heatmapgl": [
           {
            "colorbar": {
             "outlinewidth": 0,
             "ticks": ""
            },
            "colorscale": [
             [
              0,
              "#0d0887"
             ],
             [
              0.1111111111111111,
              "#46039f"
             ],
             [
              0.2222222222222222,
              "#7201a8"
             ],
             [
              0.3333333333333333,
              "#9c179e"
             ],
             [
              0.4444444444444444,
              "#bd3786"
             ],
             [
              0.5555555555555556,
              "#d8576b"
             ],
             [
              0.6666666666666666,
              "#ed7953"
             ],
             [
              0.7777777777777778,
              "#fb9f3a"
             ],
             [
              0.8888888888888888,
              "#fdca26"
             ],
             [
              1,
              "#f0f921"
             ]
            ],
            "type": "heatmapgl"
           }
          ],
          "histogram": [
           {
            "marker": {
             "pattern": {
              "fillmode": "overlay",
              "size": 10,
              "solidity": 0.2
             }
            },
            "type": "histogram"
           }
          ],
          "histogram2d": [
           {
            "colorbar": {
             "outlinewidth": 0,
             "ticks": ""
            },
            "colorscale": [
             [
              0,
              "#0d0887"
             ],
             [
              0.1111111111111111,
              "#46039f"
             ],
             [
              0.2222222222222222,
              "#7201a8"
             ],
             [
              0.3333333333333333,
              "#9c179e"
             ],
             [
              0.4444444444444444,
              "#bd3786"
             ],
             [
              0.5555555555555556,
              "#d8576b"
             ],
             [
              0.6666666666666666,
              "#ed7953"
             ],
             [
              0.7777777777777778,
              "#fb9f3a"
             ],
             [
              0.8888888888888888,
              "#fdca26"
             ],
             [
              1,
              "#f0f921"
             ]
            ],
            "type": "histogram2d"
           }
          ],
          "histogram2dcontour": [
           {
            "colorbar": {
             "outlinewidth": 0,
             "ticks": ""
            },
            "colorscale": [
             [
              0,
              "#0d0887"
             ],
             [
              0.1111111111111111,
              "#46039f"
             ],
             [
              0.2222222222222222,
              "#7201a8"
             ],
             [
              0.3333333333333333,
              "#9c179e"
             ],
             [
              0.4444444444444444,
              "#bd3786"
             ],
             [
              0.5555555555555556,
              "#d8576b"
             ],
             [
              0.6666666666666666,
              "#ed7953"
             ],
             [
              0.7777777777777778,
              "#fb9f3a"
             ],
             [
              0.8888888888888888,
              "#fdca26"
             ],
             [
              1,
              "#f0f921"
             ]
            ],
            "type": "histogram2dcontour"
           }
          ],
          "mesh3d": [
           {
            "colorbar": {
             "outlinewidth": 0,
             "ticks": ""
            },
            "type": "mesh3d"
           }
          ],
          "parcoords": [
           {
            "line": {
             "colorbar": {
              "outlinewidth": 0,
              "ticks": ""
             }
            },
            "type": "parcoords"
           }
          ],
          "pie": [
           {
            "automargin": true,
            "type": "pie"
           }
          ],
          "scatter": [
           {
            "fillpattern": {
             "fillmode": "overlay",
             "size": 10,
             "solidity": 0.2
            },
            "type": "scatter"
           }
          ],
          "scatter3d": [
           {
            "line": {
             "colorbar": {
              "outlinewidth": 0,
              "ticks": ""
             }
            },
            "marker": {
             "colorbar": {
              "outlinewidth": 0,
              "ticks": ""
             }
            },
            "type": "scatter3d"
           }
          ],
          "scattercarpet": [
           {
            "marker": {
             "colorbar": {
              "outlinewidth": 0,
              "ticks": ""
             }
            },
            "type": "scattercarpet"
           }
          ],
          "scattergeo": [
           {
            "marker": {
             "colorbar": {
              "outlinewidth": 0,
              "ticks": ""
             }
            },
            "type": "scattergeo"
           }
          ],
          "scattergl": [
           {
            "marker": {
             "colorbar": {
              "outlinewidth": 0,
              "ticks": ""
             }
            },
            "type": "scattergl"
           }
          ],
          "scattermapbox": [
           {
            "marker": {
             "colorbar": {
              "outlinewidth": 0,
              "ticks": ""
             }
            },
            "type": "scattermapbox"
           }
          ],
          "scatterpolar": [
           {
            "marker": {
             "colorbar": {
              "outlinewidth": 0,
              "ticks": ""
             }
            },
            "type": "scatterpolar"
           }
          ],
          "scatterpolargl": [
           {
            "marker": {
             "colorbar": {
              "outlinewidth": 0,
              "ticks": ""
             }
            },
            "type": "scatterpolargl"
           }
          ],
          "scatterternary": [
           {
            "marker": {
             "colorbar": {
              "outlinewidth": 0,
              "ticks": ""
             }
            },
            "type": "scatterternary"
           }
          ],
          "surface": [
           {
            "colorbar": {
             "outlinewidth": 0,
             "ticks": ""
            },
            "colorscale": [
             [
              0,
              "#0d0887"
             ],
             [
              0.1111111111111111,
              "#46039f"
             ],
             [
              0.2222222222222222,
              "#7201a8"
             ],
             [
              0.3333333333333333,
              "#9c179e"
             ],
             [
              0.4444444444444444,
              "#bd3786"
             ],
             [
              0.5555555555555556,
              "#d8576b"
             ],
             [
              0.6666666666666666,
              "#ed7953"
             ],
             [
              0.7777777777777778,
              "#fb9f3a"
             ],
             [
              0.8888888888888888,
              "#fdca26"
             ],
             [
              1,
              "#f0f921"
             ]
            ],
            "type": "surface"
           }
          ],
          "table": [
           {
            "cells": {
             "fill": {
              "color": "#EBF0F8"
             },
             "line": {
              "color": "white"
             }
            },
            "header": {
             "fill": {
              "color": "#C8D4E3"
             },
             "line": {
              "color": "white"
             }
            },
            "type": "table"
           }
          ]
         },
         "layout": {
          "annotationdefaults": {
           "arrowcolor": "#2a3f5f",
           "arrowhead": 0,
           "arrowwidth": 1
          },
          "autotypenumbers": "strict",
          "coloraxis": {
           "colorbar": {
            "outlinewidth": 0,
            "ticks": ""
           }
          },
          "colorscale": {
           "diverging": [
            [
             0,
             "#8e0152"
            ],
            [
             0.1,
             "#c51b7d"
            ],
            [
             0.2,
             "#de77ae"
            ],
            [
             0.3,
             "#f1b6da"
            ],
            [
             0.4,
             "#fde0ef"
            ],
            [
             0.5,
             "#f7f7f7"
            ],
            [
             0.6,
             "#e6f5d0"
            ],
            [
             0.7,
             "#b8e186"
            ],
            [
             0.8,
             "#7fbc41"
            ],
            [
             0.9,
             "#4d9221"
            ],
            [
             1,
             "#276419"
            ]
           ],
           "sequential": [
            [
             0,
             "#0d0887"
            ],
            [
             0.1111111111111111,
             "#46039f"
            ],
            [
             0.2222222222222222,
             "#7201a8"
            ],
            [
             0.3333333333333333,
             "#9c179e"
            ],
            [
             0.4444444444444444,
             "#bd3786"
            ],
            [
             0.5555555555555556,
             "#d8576b"
            ],
            [
             0.6666666666666666,
             "#ed7953"
            ],
            [
             0.7777777777777778,
             "#fb9f3a"
            ],
            [
             0.8888888888888888,
             "#fdca26"
            ],
            [
             1,
             "#f0f921"
            ]
           ],
           "sequentialminus": [
            [
             0,
             "#0d0887"
            ],
            [
             0.1111111111111111,
             "#46039f"
            ],
            [
             0.2222222222222222,
             "#7201a8"
            ],
            [
             0.3333333333333333,
             "#9c179e"
            ],
            [
             0.4444444444444444,
             "#bd3786"
            ],
            [
             0.5555555555555556,
             "#d8576b"
            ],
            [
             0.6666666666666666,
             "#ed7953"
            ],
            [
             0.7777777777777778,
             "#fb9f3a"
            ],
            [
             0.8888888888888888,
             "#fdca26"
            ],
            [
             1,
             "#f0f921"
            ]
           ]
          },
          "colorway": [
           "#636efa",
           "#EF553B",
           "#00cc96",
           "#ab63fa",
           "#FFA15A",
           "#19d3f3",
           "#FF6692",
           "#B6E880",
           "#FF97FF",
           "#FECB52"
          ],
          "font": {
           "color": "#2a3f5f"
          },
          "geo": {
           "bgcolor": "white",
           "lakecolor": "white",
           "landcolor": "#E5ECF6",
           "showlakes": true,
           "showland": true,
           "subunitcolor": "white"
          },
          "hoverlabel": {
           "align": "left"
          },
          "hovermode": "closest",
          "mapbox": {
           "style": "light"
          },
          "paper_bgcolor": "white",
          "plot_bgcolor": "#E5ECF6",
          "polar": {
           "angularaxis": {
            "gridcolor": "white",
            "linecolor": "white",
            "ticks": ""
           },
           "bgcolor": "#E5ECF6",
           "radialaxis": {
            "gridcolor": "white",
            "linecolor": "white",
            "ticks": ""
           }
          },
          "scene": {
           "xaxis": {
            "backgroundcolor": "#E5ECF6",
            "gridcolor": "white",
            "gridwidth": 2,
            "linecolor": "white",
            "showbackground": true,
            "ticks": "",
            "zerolinecolor": "white"
           },
           "yaxis": {
            "backgroundcolor": "#E5ECF6",
            "gridcolor": "white",
            "gridwidth": 2,
            "linecolor": "white",
            "showbackground": true,
            "ticks": "",
            "zerolinecolor": "white"
           },
           "zaxis": {
            "backgroundcolor": "#E5ECF6",
            "gridcolor": "white",
            "gridwidth": 2,
            "linecolor": "white",
            "showbackground": true,
            "ticks": "",
            "zerolinecolor": "white"
           }
          },
          "shapedefaults": {
           "line": {
            "color": "#2a3f5f"
           }
          },
          "ternary": {
           "aaxis": {
            "gridcolor": "white",
            "linecolor": "white",
            "ticks": ""
           },
           "baxis": {
            "gridcolor": "white",
            "linecolor": "white",
            "ticks": ""
           },
           "bgcolor": "#E5ECF6",
           "caxis": {
            "gridcolor": "white",
            "linecolor": "white",
            "ticks": ""
           }
          },
          "title": {
           "x": 0.05
          },
          "xaxis": {
           "automargin": true,
           "gridcolor": "white",
           "linecolor": "white",
           "ticks": "",
           "title": {
            "standoff": 15
           },
           "zerolinecolor": "white",
           "zerolinewidth": 2
          },
          "yaxis": {
           "automargin": true,
           "gridcolor": "white",
           "linecolor": "white",
           "ticks": "",
           "title": {
            "standoff": 15
           },
           "zerolinecolor": "white",
           "zerolinewidth": 2
          }
         }
        },
        "title": {
         "text": "Optimization History Plot"
        },
        "xaxis": {
         "title": {
          "text": "Trial"
         }
        },
        "yaxis": {
         "title": {
          "text": "Objective Value"
         }
        }
       }
      }
     },
     "metadata": {},
     "output_type": "display_data"
    }
   ],
   "source": [
    "# Visualizing optimization\n",
    "optuna.visualization.plot_optimization_history(study)"
   ]
  },
  {
   "cell_type": "code",
   "execution_count": 24,
   "metadata": {},
   "outputs": [
    {
     "data": {
      "application/vnd.plotly.v1+json": {
       "config": {
        "plotlyServerURL": "https://plot.ly"
       },
       "data": [
        {
         "marker": {
          "color": [
           0,
           1,
           2,
           3,
           4,
           5,
           6,
           7,
           8,
           9,
           10,
           11,
           12,
           13,
           14,
           15,
           16,
           17,
           18,
           19,
           20,
           21,
           22,
           23,
           24,
           25,
           26,
           27,
           28,
           29,
           30,
           31,
           32,
           33,
           34,
           35,
           36,
           37,
           38,
           39,
           40,
           41,
           42,
           43,
           44,
           45,
           46,
           47,
           48,
           49,
           50,
           51,
           52,
           53,
           54,
           55,
           56,
           57,
           58,
           59,
           60,
           61,
           62,
           63,
           64,
           65,
           66,
           67,
           68,
           69,
           70,
           71,
           72,
           73,
           74,
           75,
           76,
           77,
           78,
           79,
           80,
           81,
           82,
           83,
           84,
           85,
           86,
           87,
           88,
           89,
           90,
           91,
           92,
           93,
           94,
           95,
           96,
           97,
           98,
           99
          ],
          "colorbar": {
           "title": {
            "text": "Trial"
           },
           "x": 1,
           "xpad": 40
          },
          "colorscale": [
           [
            0,
            "rgb(247,251,255)"
           ],
           [
            0.125,
            "rgb(222,235,247)"
           ],
           [
            0.25,
            "rgb(198,219,239)"
           ],
           [
            0.375,
            "rgb(158,202,225)"
           ],
           [
            0.5,
            "rgb(107,174,214)"
           ],
           [
            0.625,
            "rgb(66,146,198)"
           ],
           [
            0.75,
            "rgb(33,113,181)"
           ],
           [
            0.875,
            "rgb(8,81,156)"
           ],
           [
            1,
            "rgb(8,48,107)"
           ]
          ],
          "line": {
           "color": "Grey",
           "width": 0.5
          }
         },
         "mode": "markers",
         "name": "Feasible Trial",
         "showlegend": false,
         "type": "scatter",
         "x": [
          7.676750739447821,
          1.1426618248805984,
          0.0024009916192333563,
          0.026995103800403597,
          0.07445655649076541,
          0.02608462541663076,
          0.27983781638104593,
          7.867818120499665,
          0.011168643142136147,
          0.030179590931150496,
          100,
          0.00001,
          0.08550260019325534,
          0.08553041590127178,
          0.08494017743412989,
          0.08432568613655694,
          0.08396235661412683,
          0.08412513590645138,
          0.0858000470962224,
          31.059527770318994,
          0.07669911993344763,
          0.07790874082559326,
          0.078645470863342,
          0.07913304309095816,
          0.0794392573319052,
          0.07963621122386745,
          0.07978344344964146,
          0.07988986919273919,
          0.07997885658948212,
          0.08008135216512018,
          0.08015075693578126,
          0.08023273190697948,
          0.08418388264600853,
          0.07908294885648444,
          0.07967146291689083,
          0.08018435450799075,
          0.08058697255074367,
          0.08051222693660429,
          0.08085338180545187,
          0.08013782533497094,
          0.08358018404563466,
          0.07953183456408942,
          0.08029417206853852,
          0.08106848881371094,
          0.08048004480297621,
          0.08275801648963037,
          0.07959140228832944,
          0.08057071922061272,
          0.08183383035562383,
          0.07988300374871347,
          0.08229417250824882,
          0.07986346966942799,
          0.081190700069788,
          0.08060879656076508,
          0.08243513980189042,
          0.07983559612354328,
          0.08104207231733224,
          0.08127361087271887,
          0.00703078634205428,
          0.08216201513466703,
          0.08042472490443732,
          0.0811266238618925,
          0.08099208057279737,
          0.08173013911388965,
          0.08018764468483877,
          0.08203551544145762,
          0.08026894269050423,
          0.08188632316656426,
          0.08035321259127759,
          0.08156003070413238,
          0.08072303878171222,
          0.081519515567764,
          0.08034580864286921,
          0.08246251630374998,
          0.08024185368512629,
          0.08123291619793394,
          0.0809119176619088,
          0.08197805549668982,
          0.08034781335787466,
          0.08173545769136469,
          0.08041567203533644,
          0.08193634831356536,
          0.08035519240644418,
          0.08152169106824649,
          0.0807138030237059,
          0.08220769397699043,
          0.08027541838998328,
          0.08135104756496793,
          0.08083874795744633,
          0.08117729714621871,
          0.08210751272295229,
          0.08035865602727806,
          0.08123859510644622,
          0.0809959724241992,
          0.0820151379485598,
          0.08060405610024117,
          0.08081821471827,
          0.10215207225158636,
          0.0927456250782751,
          0.091937801404394
         ],
         "y": [
          0.9128434065934066,
          0.9123969780219781,
          0.9072458791208792,
          0.9134271978021978,
          0.9152472527472527,
          0.9129464285714285,
          0.9128434065934066,
          0.9128434065934066,
          0.9142513736263738,
          0.9134271978021978,
          0.9128434065934066,
          0.884375,
          0.9152472527472527,
          0.9152472527472527,
          0.9152472527472527,
          0.9152472527472527,
          0.9152472527472527,
          0.9152472527472527,
          0.9152472527472527,
          0.9128434065934066,
          0.9152472527472527,
          0.9152472527472527,
          0.9152472527472527,
          0.9152472527472527,
          0.9152472527472527,
          0.9152472527472527,
          0.9152472527472527,
          0.9152472527472527,
          0.9152472527472527,
          0.9152472527472527,
          0.9152472527472527,
          0.9152472527472527,
          0.9152472527472527,
          0.9152472527472527,
          0.9152472527472527,
          0.9152472527472527,
          0.9152472527472527,
          0.9152472527472527,
          0.9152472527472527,
          0.9152472527472527,
          0.9152472527472527,
          0.9152472527472527,
          0.9152472527472527,
          0.9152472527472527,
          0.9152472527472527,
          0.9152472527472527,
          0.9152472527472527,
          0.9152472527472527,
          0.9152472527472527,
          0.9152472527472527,
          0.9152472527472527,
          0.9152472527472527,
          0.9152472527472527,
          0.9152472527472527,
          0.9152472527472527,
          0.9152472527472527,
          0.9152472527472527,
          0.9152472527472527,
          0.9146634615384615,
          0.9152472527472527,
          0.9152472527472527,
          0.9152472527472527,
          0.9152472527472527,
          0.9152472527472527,
          0.9152472527472527,
          0.9152472527472527,
          0.9152472527472527,
          0.9152472527472527,
          0.9152472527472527,
          0.9152472527472527,
          0.9152472527472527,
          0.9152472527472527,
          0.9152472527472527,
          0.9152472527472527,
          0.9152472527472527,
          0.9152472527472527,
          0.9152472527472527,
          0.9152472527472527,
          0.9152472527472527,
          0.9152472527472527,
          0.9152472527472527,
          0.9152472527472527,
          0.9152472527472527,
          0.9152472527472527,
          0.9152472527472527,
          0.9152472527472527,
          0.9152472527472527,
          0.9152472527472527,
          0.9152472527472527,
          0.9152472527472527,
          0.9152472527472527,
          0.9152472527472527,
          0.9152472527472527,
          0.9152472527472527,
          0.9152472527472527,
          0.9152472527472527,
          0.9152472527472527,
          0.9152472527472527,
          0.9152472527472527,
          0.9152472527472527
         ]
        }
       ],
       "layout": {
        "template": {
         "data": {
          "bar": [
           {
            "error_x": {
             "color": "#2a3f5f"
            },
            "error_y": {
             "color": "#2a3f5f"
            },
            "marker": {
             "line": {
              "color": "#E5ECF6",
              "width": 0.5
             },
             "pattern": {
              "fillmode": "overlay",
              "size": 10,
              "solidity": 0.2
             }
            },
            "type": "bar"
           }
          ],
          "barpolar": [
           {
            "marker": {
             "line": {
              "color": "#E5ECF6",
              "width": 0.5
             },
             "pattern": {
              "fillmode": "overlay",
              "size": 10,
              "solidity": 0.2
             }
            },
            "type": "barpolar"
           }
          ],
          "carpet": [
           {
            "aaxis": {
             "endlinecolor": "#2a3f5f",
             "gridcolor": "white",
             "linecolor": "white",
             "minorgridcolor": "white",
             "startlinecolor": "#2a3f5f"
            },
            "baxis": {
             "endlinecolor": "#2a3f5f",
             "gridcolor": "white",
             "linecolor": "white",
             "minorgridcolor": "white",
             "startlinecolor": "#2a3f5f"
            },
            "type": "carpet"
           }
          ],
          "choropleth": [
           {
            "colorbar": {
             "outlinewidth": 0,
             "ticks": ""
            },
            "type": "choropleth"
           }
          ],
          "contour": [
           {
            "colorbar": {
             "outlinewidth": 0,
             "ticks": ""
            },
            "colorscale": [
             [
              0,
              "#0d0887"
             ],
             [
              0.1111111111111111,
              "#46039f"
             ],
             [
              0.2222222222222222,
              "#7201a8"
             ],
             [
              0.3333333333333333,
              "#9c179e"
             ],
             [
              0.4444444444444444,
              "#bd3786"
             ],
             [
              0.5555555555555556,
              "#d8576b"
             ],
             [
              0.6666666666666666,
              "#ed7953"
             ],
             [
              0.7777777777777778,
              "#fb9f3a"
             ],
             [
              0.8888888888888888,
              "#fdca26"
             ],
             [
              1,
              "#f0f921"
             ]
            ],
            "type": "contour"
           }
          ],
          "contourcarpet": [
           {
            "colorbar": {
             "outlinewidth": 0,
             "ticks": ""
            },
            "type": "contourcarpet"
           }
          ],
          "heatmap": [
           {
            "colorbar": {
             "outlinewidth": 0,
             "ticks": ""
            },
            "colorscale": [
             [
              0,
              "#0d0887"
             ],
             [
              0.1111111111111111,
              "#46039f"
             ],
             [
              0.2222222222222222,
              "#7201a8"
             ],
             [
              0.3333333333333333,
              "#9c179e"
             ],
             [
              0.4444444444444444,
              "#bd3786"
             ],
             [
              0.5555555555555556,
              "#d8576b"
             ],
             [
              0.6666666666666666,
              "#ed7953"
             ],
             [
              0.7777777777777778,
              "#fb9f3a"
             ],
             [
              0.8888888888888888,
              "#fdca26"
             ],
             [
              1,
              "#f0f921"
             ]
            ],
            "type": "heatmap"
           }
          ],
          "heatmapgl": [
           {
            "colorbar": {
             "outlinewidth": 0,
             "ticks": ""
            },
            "colorscale": [
             [
              0,
              "#0d0887"
             ],
             [
              0.1111111111111111,
              "#46039f"
             ],
             [
              0.2222222222222222,
              "#7201a8"
             ],
             [
              0.3333333333333333,
              "#9c179e"
             ],
             [
              0.4444444444444444,
              "#bd3786"
             ],
             [
              0.5555555555555556,
              "#d8576b"
             ],
             [
              0.6666666666666666,
              "#ed7953"
             ],
             [
              0.7777777777777778,
              "#fb9f3a"
             ],
             [
              0.8888888888888888,
              "#fdca26"
             ],
             [
              1,
              "#f0f921"
             ]
            ],
            "type": "heatmapgl"
           }
          ],
          "histogram": [
           {
            "marker": {
             "pattern": {
              "fillmode": "overlay",
              "size": 10,
              "solidity": 0.2
             }
            },
            "type": "histogram"
           }
          ],
          "histogram2d": [
           {
            "colorbar": {
             "outlinewidth": 0,
             "ticks": ""
            },
            "colorscale": [
             [
              0,
              "#0d0887"
             ],
             [
              0.1111111111111111,
              "#46039f"
             ],
             [
              0.2222222222222222,
              "#7201a8"
             ],
             [
              0.3333333333333333,
              "#9c179e"
             ],
             [
              0.4444444444444444,
              "#bd3786"
             ],
             [
              0.5555555555555556,
              "#d8576b"
             ],
             [
              0.6666666666666666,
              "#ed7953"
             ],
             [
              0.7777777777777778,
              "#fb9f3a"
             ],
             [
              0.8888888888888888,
              "#fdca26"
             ],
             [
              1,
              "#f0f921"
             ]
            ],
            "type": "histogram2d"
           }
          ],
          "histogram2dcontour": [
           {
            "colorbar": {
             "outlinewidth": 0,
             "ticks": ""
            },
            "colorscale": [
             [
              0,
              "#0d0887"
             ],
             [
              0.1111111111111111,
              "#46039f"
             ],
             [
              0.2222222222222222,
              "#7201a8"
             ],
             [
              0.3333333333333333,
              "#9c179e"
             ],
             [
              0.4444444444444444,
              "#bd3786"
             ],
             [
              0.5555555555555556,
              "#d8576b"
             ],
             [
              0.6666666666666666,
              "#ed7953"
             ],
             [
              0.7777777777777778,
              "#fb9f3a"
             ],
             [
              0.8888888888888888,
              "#fdca26"
             ],
             [
              1,
              "#f0f921"
             ]
            ],
            "type": "histogram2dcontour"
           }
          ],
          "mesh3d": [
           {
            "colorbar": {
             "outlinewidth": 0,
             "ticks": ""
            },
            "type": "mesh3d"
           }
          ],
          "parcoords": [
           {
            "line": {
             "colorbar": {
              "outlinewidth": 0,
              "ticks": ""
             }
            },
            "type": "parcoords"
           }
          ],
          "pie": [
           {
            "automargin": true,
            "type": "pie"
           }
          ],
          "scatter": [
           {
            "fillpattern": {
             "fillmode": "overlay",
             "size": 10,
             "solidity": 0.2
            },
            "type": "scatter"
           }
          ],
          "scatter3d": [
           {
            "line": {
             "colorbar": {
              "outlinewidth": 0,
              "ticks": ""
             }
            },
            "marker": {
             "colorbar": {
              "outlinewidth": 0,
              "ticks": ""
             }
            },
            "type": "scatter3d"
           }
          ],
          "scattercarpet": [
           {
            "marker": {
             "colorbar": {
              "outlinewidth": 0,
              "ticks": ""
             }
            },
            "type": "scattercarpet"
           }
          ],
          "scattergeo": [
           {
            "marker": {
             "colorbar": {
              "outlinewidth": 0,
              "ticks": ""
             }
            },
            "type": "scattergeo"
           }
          ],
          "scattergl": [
           {
            "marker": {
             "colorbar": {
              "outlinewidth": 0,
              "ticks": ""
             }
            },
            "type": "scattergl"
           }
          ],
          "scattermapbox": [
           {
            "marker": {
             "colorbar": {
              "outlinewidth": 0,
              "ticks": ""
             }
            },
            "type": "scattermapbox"
           }
          ],
          "scatterpolar": [
           {
            "marker": {
             "colorbar": {
              "outlinewidth": 0,
              "ticks": ""
             }
            },
            "type": "scatterpolar"
           }
          ],
          "scatterpolargl": [
           {
            "marker": {
             "colorbar": {
              "outlinewidth": 0,
              "ticks": ""
             }
            },
            "type": "scatterpolargl"
           }
          ],
          "scatterternary": [
           {
            "marker": {
             "colorbar": {
              "outlinewidth": 0,
              "ticks": ""
             }
            },
            "type": "scatterternary"
           }
          ],
          "surface": [
           {
            "colorbar": {
             "outlinewidth": 0,
             "ticks": ""
            },
            "colorscale": [
             [
              0,
              "#0d0887"
             ],
             [
              0.1111111111111111,
              "#46039f"
             ],
             [
              0.2222222222222222,
              "#7201a8"
             ],
             [
              0.3333333333333333,
              "#9c179e"
             ],
             [
              0.4444444444444444,
              "#bd3786"
             ],
             [
              0.5555555555555556,
              "#d8576b"
             ],
             [
              0.6666666666666666,
              "#ed7953"
             ],
             [
              0.7777777777777778,
              "#fb9f3a"
             ],
             [
              0.8888888888888888,
              "#fdca26"
             ],
             [
              1,
              "#f0f921"
             ]
            ],
            "type": "surface"
           }
          ],
          "table": [
           {
            "cells": {
             "fill": {
              "color": "#EBF0F8"
             },
             "line": {
              "color": "white"
             }
            },
            "header": {
             "fill": {
              "color": "#C8D4E3"
             },
             "line": {
              "color": "white"
             }
            },
            "type": "table"
           }
          ]
         },
         "layout": {
          "annotationdefaults": {
           "arrowcolor": "#2a3f5f",
           "arrowhead": 0,
           "arrowwidth": 1
          },
          "autotypenumbers": "strict",
          "coloraxis": {
           "colorbar": {
            "outlinewidth": 0,
            "ticks": ""
           }
          },
          "colorscale": {
           "diverging": [
            [
             0,
             "#8e0152"
            ],
            [
             0.1,
             "#c51b7d"
            ],
            [
             0.2,
             "#de77ae"
            ],
            [
             0.3,
             "#f1b6da"
            ],
            [
             0.4,
             "#fde0ef"
            ],
            [
             0.5,
             "#f7f7f7"
            ],
            [
             0.6,
             "#e6f5d0"
            ],
            [
             0.7,
             "#b8e186"
            ],
            [
             0.8,
             "#7fbc41"
            ],
            [
             0.9,
             "#4d9221"
            ],
            [
             1,
             "#276419"
            ]
           ],
           "sequential": [
            [
             0,
             "#0d0887"
            ],
            [
             0.1111111111111111,
             "#46039f"
            ],
            [
             0.2222222222222222,
             "#7201a8"
            ],
            [
             0.3333333333333333,
             "#9c179e"
            ],
            [
             0.4444444444444444,
             "#bd3786"
            ],
            [
             0.5555555555555556,
             "#d8576b"
            ],
            [
             0.6666666666666666,
             "#ed7953"
            ],
            [
             0.7777777777777778,
             "#fb9f3a"
            ],
            [
             0.8888888888888888,
             "#fdca26"
            ],
            [
             1,
             "#f0f921"
            ]
           ],
           "sequentialminus": [
            [
             0,
             "#0d0887"
            ],
            [
             0.1111111111111111,
             "#46039f"
            ],
            [
             0.2222222222222222,
             "#7201a8"
            ],
            [
             0.3333333333333333,
             "#9c179e"
            ],
            [
             0.4444444444444444,
             "#bd3786"
            ],
            [
             0.5555555555555556,
             "#d8576b"
            ],
            [
             0.6666666666666666,
             "#ed7953"
            ],
            [
             0.7777777777777778,
             "#fb9f3a"
            ],
            [
             0.8888888888888888,
             "#fdca26"
            ],
            [
             1,
             "#f0f921"
            ]
           ]
          },
          "colorway": [
           "#636efa",
           "#EF553B",
           "#00cc96",
           "#ab63fa",
           "#FFA15A",
           "#19d3f3",
           "#FF6692",
           "#B6E880",
           "#FF97FF",
           "#FECB52"
          ],
          "font": {
           "color": "#2a3f5f"
          },
          "geo": {
           "bgcolor": "white",
           "lakecolor": "white",
           "landcolor": "#E5ECF6",
           "showlakes": true,
           "showland": true,
           "subunitcolor": "white"
          },
          "hoverlabel": {
           "align": "left"
          },
          "hovermode": "closest",
          "mapbox": {
           "style": "light"
          },
          "paper_bgcolor": "white",
          "plot_bgcolor": "#E5ECF6",
          "polar": {
           "angularaxis": {
            "gridcolor": "white",
            "linecolor": "white",
            "ticks": ""
           },
           "bgcolor": "#E5ECF6",
           "radialaxis": {
            "gridcolor": "white",
            "linecolor": "white",
            "ticks": ""
           }
          },
          "scene": {
           "xaxis": {
            "backgroundcolor": "#E5ECF6",
            "gridcolor": "white",
            "gridwidth": 2,
            "linecolor": "white",
            "showbackground": true,
            "ticks": "",
            "zerolinecolor": "white"
           },
           "yaxis": {
            "backgroundcolor": "#E5ECF6",
            "gridcolor": "white",
            "gridwidth": 2,
            "linecolor": "white",
            "showbackground": true,
            "ticks": "",
            "zerolinecolor": "white"
           },
           "zaxis": {
            "backgroundcolor": "#E5ECF6",
            "gridcolor": "white",
            "gridwidth": 2,
            "linecolor": "white",
            "showbackground": true,
            "ticks": "",
            "zerolinecolor": "white"
           }
          },
          "shapedefaults": {
           "line": {
            "color": "#2a3f5f"
           }
          },
          "ternary": {
           "aaxis": {
            "gridcolor": "white",
            "linecolor": "white",
            "ticks": ""
           },
           "baxis": {
            "gridcolor": "white",
            "linecolor": "white",
            "ticks": ""
           },
           "bgcolor": "#E5ECF6",
           "caxis": {
            "gridcolor": "white",
            "linecolor": "white",
            "ticks": ""
           }
          },
          "title": {
           "x": 0.05
          },
          "xaxis": {
           "automargin": true,
           "gridcolor": "white",
           "linecolor": "white",
           "ticks": "",
           "title": {
            "standoff": 15
           },
           "zerolinecolor": "white",
           "zerolinewidth": 2
          },
          "yaxis": {
           "automargin": true,
           "gridcolor": "white",
           "linecolor": "white",
           "ticks": "",
           "title": {
            "standoff": 15
           },
           "zerolinecolor": "white",
           "zerolinewidth": 2
          }
         }
        },
        "title": {
         "text": "Slice Plot"
        },
        "xaxis": {
         "title": {
          "text": "C"
         },
         "type": "log"
        },
        "yaxis": {
         "title": {
          "text": "Objective Value"
         }
        }
       }
      }
     },
     "metadata": {},
     "output_type": "display_data"
    }
   ],
   "source": [
    "optuna.visualization.plot_slice(study)"
   ]
  },
  {
   "cell_type": "code",
   "execution_count": 25,
   "metadata": {},
   "outputs": [
    {
     "name": "stderr",
     "output_type": "stream",
     "text": [
      "[codecarbon WARNING @ 10:16:38] Another instance of codecarbon is already running. Exiting.\n"
     ]
    },
    {
     "name": "stdout",
     "output_type": "stream",
     "text": [
      "Accuracy: 0.8515 ± 0.0576\n",
      "AUC-ROC: 0.9152 ± 0.0345\n"
     ]
    }
   ],
   "source": [
    "# Create optimized model\n",
    "best_params = trial.params\n",
    "model = svm.LinearSVC(random_state=Random_Seed, dual=False, **best_params)\n",
    "\n",
    "# Define pipeline depending on whether PCA is requested or not\n",
    "if PC_Features:\n",
    "    steps = [\n",
    "        ('preprocessor', preprocessor),\n",
    "        ('pca', PCA(n_components=12)),\n",
    "        ('SVM-LinearSVC-classifier', model)\n",
    "    ]\n",
    "else:\n",
    "    steps = [\n",
    "        ('preprocessor', preprocessor),\n",
    "        ('SVM-LinearSVC-classifier', model)\n",
    "    ]\n",
    "    \n",
    "pipeline = Pipeline(steps)\n",
    "\n",
    "# Perform cross-validation\n",
    "cv_results = cross_validate(pipeline, X, y, scoring=['accuracy', 'roc_auc'], cv=K_Folds)\n",
    "\n",
    "# Calculate and display results\n",
    "acc = np.mean(cv_results['test_accuracy'])\n",
    "acc_std = np.std(cv_results['test_accuracy'])\n",
    "roc_auc = np.mean(cv_results['test_roc_auc'])\n",
    "roc_auc_std = np.std(cv_results['test_roc_auc'])\n",
    "\n",
    "print(f\"Accuracy: {acc:.4f} ± {acc_std:.4f}\")\n",
    "print(f\"AUC-ROC: {roc_auc:.4f} ± {roc_auc_std:.4f}\")\n",
    "\n",
    "# Stop emission tracking\n",
    "_ = tracker.stop()"
   ]
  },
  {
   "cell_type": "code",
   "execution_count": 26,
   "metadata": {},
   "outputs": [],
   "source": [
    "# Save evaluation to an external file\n",
    "file = 'scores.csv'\n",
    "\n",
    "results = pd.DataFrame({\n",
    "    'SVM-LinearSVC-optimization': [acc, acc_std, roc_auc, roc_auc_std]\n",
    "}, index = ['Accuracy', 'Accuracy STD', 'AUC-ROC', 'AUC-ROC STD'])\n",
    "\n",
    "# Check if file exists\n",
    "if os.path.exists(file):\n",
    "    temp = pd.read_csv(file, index_col=0)\n",
    "    results = pd.concat([temp, results], axis=1)\n",
    "\n",
    "# Export\n",
    "results.to_csv(file)"
   ]
  },
  {
   "attachments": {},
   "cell_type": "markdown",
   "metadata": {},
   "source": [
    "### References:\n",
    "* https://scikit-learn.org/stable/modules/svm.html"
   ]
  }
 ],
 "metadata": {
  "kernelspec": {
   "display_name": "base",
   "language": "python",
   "name": "python3"
  },
  "language_info": {
   "codemirror_mode": {
    "name": "ipython",
    "version": 3
   },
   "file_extension": ".py",
   "mimetype": "text/x-python",
   "name": "python",
   "nbconvert_exporter": "python",
   "pygments_lexer": "ipython3",
   "version": "3.10.12"
  },
  "orig_nbformat": 4
 },
 "nbformat": 4,
 "nbformat_minor": 2
}

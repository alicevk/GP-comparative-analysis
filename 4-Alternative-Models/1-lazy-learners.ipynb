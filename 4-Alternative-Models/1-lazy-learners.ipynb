{
 "cells": [
  {
   "cell_type": "markdown",
   "metadata": {},
   "source": [
    "# Alternative Models: Lazy Learners\n",
    "\n",
    "<hr>\n",
    "\n",
    "* k-Nearest Neighbors (kNN)\n",
    "* Radius Neighbors Classifier (RNC)"
   ]
  },
  {
   "cell_type": "code",
   "execution_count": 1,
   "metadata": {},
   "outputs": [],
   "source": [
    "# Import needed libraries and modules\n",
    "from codecarbon import EmissionsTracker\n",
    "import os\n",
    "import numpy as np\n",
    "import pandas as pd\n",
    "import matplotlib.pyplot as plt\n",
    "from sklearn.model_selection import cross_validate, cross_val_score\n",
    "from sklearn.preprocessing import StandardScaler, OneHotEncoder\n",
    "from sklearn.compose import ColumnTransformer\n",
    "from sklearn.decomposition import PCA\n",
    "from sklearn.neighbors import KNeighborsClassifier\n",
    "from sklearn.neighbors import RadiusNeighborsClassifier\n",
    "from sklearn.pipeline import Pipeline\n",
    "import json\n",
    "\n",
    "\n",
    "# Fetch dataset from UCI Repository\n",
    "from ucimlrepo import fetch_ucirepo\n",
    "heart_disease = fetch_ucirepo(id=45)\n",
    "df = heart_disease.data.original"
   ]
  },
  {
   "cell_type": "code",
   "execution_count": 2,
   "metadata": {},
   "outputs": [],
   "source": [
    "# ---------------------------------------------------------------------------- #\n",
    "#                                PRE-PROCESSING                                #\n",
    "# ---------------------------------------------------------------------------- #\n",
    "\n",
    "##### SETTINGS #####\n",
    "PC_Features = True\n",
    "Random_Seed = 82024\n",
    "K_Folds = 10\n",
    "Max_Iterations = 200\n",
    "####################\n",
    "\n",
    "# Drop missing values\n",
    "df = df.dropna()\n",
    "df = df.reset_index(drop=True)\n",
    "\n",
    "# Binarize target\n",
    "df.loc[df['num'] != 0, 'num'] = 1\n",
    "\n",
    "# Define features and target vectors\n",
    "X = df.iloc[:,:-1]\n",
    "y = df['num']\n",
    "\n",
    "# Separate integer from categorical features\n",
    "int_features, cat_features = ['age', 'trestbps', 'chol', 'thalach', 'oldpeak'],\\\n",
    "['sex', 'cp', 'fbs', 'restecg', 'exang', 'slope', 'ca', 'thal']\n",
    "\n",
    "# Define preprocessing\n",
    "preprocessor = ColumnTransformer(\n",
    "    transformers=[\n",
    "        ('int', StandardScaler(), int_features),\n",
    "        ('cat', OneHotEncoder(), cat_features)\n",
    "    ])"
   ]
  },
  {
   "cell_type": "markdown",
   "metadata": {},
   "source": [
    "<hr>\n",
    "\n",
    "## k-Nearest Neighbors (k-NN)\n",
    "\n",
    "k-NN is an instance-based learning algorithm that classifies data points based on the majority class of their k-nearest neighbors. It is a simple yet effective method that leverages the similarity between data points.\n",
    "\n",
    "k-NN is interesting for this dataset because it directly uses the data distribution to classify new samples, making it highly adaptable without requiring complex training. However, k-NN can be sensitive to noisy data and irrelevant features, and performance can degrade with imbalanced classes or high-dimensional data. For the latter reason, it is expected to perform better after applying dimensionality reduction to the dataset."
   ]
  },
  {
   "cell_type": "code",
   "execution_count": 3,
   "metadata": {},
   "outputs": [
    {
     "name": "stderr",
     "output_type": "stream",
     "text": [
      "[codecarbon ERROR @ 10:25:05] Error: Another instance of codecarbon is already running. Turn off the other instance to be able to run this one. Exiting.\n",
      "[codecarbon WARNING @ 10:25:05] Another instance of codecarbon is already running. Exiting.\n"
     ]
    },
    {
     "name": "stderr",
     "output_type": "stream",
     "text": [
      "[codecarbon WARNING @ 10:25:05] Another instance of codecarbon is already running. Exiting.\n"
     ]
    },
    {
     "name": "stdout",
     "output_type": "stream",
     "text": [
      "Accuracy: 0.8048 ± 0.0719\n",
      "AUC-ROC: 0.8550 ± 0.0626\n"
     ]
    }
   ],
   "source": [
    "# ---------------------------------------------------------------------------- #\n",
    "#                                     MODEL                                    #\n",
    "# ---------------------------------------------------------------------------- #\n",
    "\n",
    "# Initiate CodeCarbon to track emissions\n",
    "tracker = EmissionsTracker('k-NN model', log_level='warning')\n",
    "tracker.start()\n",
    "\n",
    "# Create model\n",
    "model = KNeighborsClassifier(n_neighbors=3)\n",
    "\n",
    "# Define pipeline depending on whether PCA is requested or not\n",
    "if PC_Features:\n",
    "    steps = [\n",
    "        ('preprocessor', preprocessor),\n",
    "        ('pca', PCA(n_components=12)),\n",
    "        ('k-NN-classifier', model)\n",
    "    ]\n",
    "else:\n",
    "    steps = [\n",
    "        ('preprocessor', preprocessor),\n",
    "        ('k-NN-classifier', model)\n",
    "    ]\n",
    "    \n",
    "pipeline = Pipeline(steps)\n",
    "\n",
    "# Perform cross-validation\n",
    "cv_results = cross_validate(pipeline, X, y, scoring=['accuracy', 'roc_auc'], cv=K_Folds)\n",
    "\n",
    "# Calculate and display results\n",
    "acc = np.mean(cv_results['test_accuracy'])\n",
    "acc_std = np.std(cv_results['test_accuracy'])\n",
    "roc_auc = np.mean(cv_results['test_roc_auc'])\n",
    "roc_auc_std = np.std(cv_results['test_roc_auc'])\n",
    "\n",
    "print(f\"Accuracy: {acc:.4f} ± {acc_std:.4f}\")\n",
    "print(f\"AUC-ROC: {roc_auc:.4f} ± {roc_auc_std:.4f}\")\n",
    "\n",
    "# Stop emission tracking\n",
    "_ = tracker.stop()"
   ]
  },
  {
   "cell_type": "code",
   "execution_count": 4,
   "metadata": {},
   "outputs": [],
   "source": [
    "# Save evaluation to an external file\n",
    "file = 'scores.csv'\n",
    "\n",
    "results = pd.DataFrame({\n",
    "    'k-NN-model': [acc, acc_std, roc_auc, roc_auc_std]\n",
    "}, index = ['Accuracy', 'Accuracy STD', 'AUC-ROC', 'AUC-ROC STD'])\n",
    "\n",
    "# Check if file exists\n",
    "if os.path.exists(file):\n",
    "    temp = pd.read_csv(file, index_col=0)\n",
    "    results = pd.concat([temp, results], axis=1)\n",
    "\n",
    "# Export\n",
    "results.to_csv(file)"
   ]
  },
  {
   "cell_type": "code",
   "execution_count": 5,
   "metadata": {},
   "outputs": [
    {
     "name": "stderr",
     "output_type": "stream",
     "text": [
      "[codecarbon ERROR @ 10:25:06] Error: Another instance of codecarbon is already running. Turn off the other instance to be able to run this one. Exiting.\n",
      "[codecarbon WARNING @ 10:25:06] Another instance of codecarbon is already running. Exiting.\n"
     ]
    },
    {
     "data": {
      "image/png": "[encoded data removed]",
      "text/plain": [
       "<Figure size 640x480 with 1 Axes>"
      ]
     },
     "metadata": {},
     "output_type": "display_data"
    },
    {
     "name": "stdout",
     "output_type": "stream",
     "text": [
      "Best k value: 14\n"
     ]
    }
   ],
   "source": [
    "# ---------------------------------------------------------------------------- #\n",
    "#                                 OPTIMIZATION                                 #\n",
    "# ---------------------------------------------------------------------------- #\n",
    "\n",
    "# Initiate CodeCarbon to track emissions# Initiate CodeCarbon to track emissions\n",
    "tracker = EmissionsTracker('k-NN optimization', log_level='warning')\n",
    "tracker.start()\n",
    "\n",
    "# Optimize k values (cross validation)\n",
    "k_vals = [i for i in range(1,31)]\n",
    "roc_aucs = []\n",
    "\n",
    "for k in k_vals:\n",
    "    # Create model\n",
    "    temp_model = KNeighborsClassifier(n_neighbors=k)\n",
    "    \n",
    "    # Define pipeline depending on whether PCA is requested or not\n",
    "    if PC_Features:\n",
    "        steps = [\n",
    "            ('preprocessor', preprocessor),\n",
    "            ('pca', PCA(n_components=12)),\n",
    "            ('k-NN-classifier', temp_model)\n",
    "        ]\n",
    "    else:\n",
    "        steps = [\n",
    "            ('preprocessor', preprocessor),\n",
    "            ('k-NN-classifier', temp_model)\n",
    "        ]\n",
    "        \n",
    "    pipeline = Pipeline(steps)\n",
    "    roc_auc = cross_val_score(pipeline, X, y, scoring='roc_auc', cv=K_Folds)\n",
    "    roc_aucs.append(np.mean(roc_auc))\n",
    "\n",
    "plt.xlabel('k Values')\n",
    "plt.plot(k_vals, roc_aucs, 'o-', label='ROC AUC')\n",
    "plt.legend()\n",
    "plt.show()\n",
    "\n",
    "# Find best k value\n",
    "best_k = k_vals[np.argmax(roc_aucs)]\n",
    "\n",
    "print(f'Best k value: {best_k}')\n",
    "\n",
    "# Save best trial parameters to a JSON file\n",
    "params = {'n_neighbors': best_k}\n",
    "\n",
    "with open('params/k-NN-params.json', 'w') as f:\n",
    "    json.dump(params, f)"
   ]
  },
  {
   "cell_type": "code",
   "execution_count": 6,
   "metadata": {},
   "outputs": [
    {
     "name": "stderr",
     "output_type": "stream",
     "text": [
      "[codecarbon WARNING @ 10:25:09] Another instance of codecarbon is already running. Exiting.\n"
     ]
    },
    {
     "name": "stdout",
     "output_type": "stream",
     "text": [
      "Accuracy: 0.8280 ± 0.0715\n",
      "AUC-ROC: 0.9003 ± 0.0547\n"
     ]
    }
   ],
   "source": [
    "# Create optimized model\n",
    "model = KNeighborsClassifier(**params)\n",
    "\n",
    "# Define pipeline depending on whether PCA is requested or not\n",
    "if PC_Features:\n",
    "    steps = [\n",
    "        ('preprocessor', preprocessor),\n",
    "        ('pca', PCA(n_components=12)),\n",
    "        ('k-NN-classifier', model)\n",
    "    ]\n",
    "else:\n",
    "    steps = [\n",
    "        ('preprocessor', preprocessor),\n",
    "        ('k-NN-classifier', model)\n",
    "    ]\n",
    "    \n",
    "pipeline = Pipeline(steps)\n",
    "\n",
    "# Perform cross-validation\n",
    "cv_results = cross_validate(pipeline, X, y, scoring=['accuracy', 'roc_auc'], cv=K_Folds)\n",
    "\n",
    "# Calculate and display results\n",
    "acc = np.mean(cv_results['test_accuracy'])\n",
    "acc_std = np.std(cv_results['test_accuracy'])\n",
    "roc_auc = np.mean(cv_results['test_roc_auc'])\n",
    "roc_auc_std = np.std(cv_results['test_roc_auc'])\n",
    "\n",
    "print(f\"Accuracy: {acc:.4f} ± {acc_std:.4f}\")\n",
    "print(f\"AUC-ROC: {roc_auc:.4f} ± {roc_auc_std:.4f}\")\n",
    "\n",
    "# Stop emission tracking\n",
    "_ = tracker.stop()"
   ]
  },
  {
   "cell_type": "code",
   "execution_count": 7,
   "metadata": {},
   "outputs": [],
   "source": [
    "# Save evaluation to an external file\n",
    "file = 'scores.csv'\n",
    "\n",
    "results = pd.DataFrame({\n",
    "    'k-NN-optimization': [acc, acc_std, roc_auc, roc_auc_std]\n",
    "}, index = ['Accuracy', 'Accuracy STD', 'AUC-ROC', 'AUC-ROC STD'])\n",
    "\n",
    "# Check if file exists\n",
    "if os.path.exists(file):\n",
    "    temp = pd.read_csv(file, index_col=0)\n",
    "    results = pd.concat([temp, results], axis=1)\n",
    "\n",
    "# Export\n",
    "results.to_csv(file)"
   ]
  },
  {
   "cell_type": "markdown",
   "metadata": {},
   "source": [
    "<hr>\n",
    "\n",
    "## Radius Neighbors Classifier (RNC)\n",
    "\n",
    "RNC is similar to k-NN but classifies data points based on neighbors within a specified radius rather than a fixed number of neighbors. This method adapts well to varying data densities by focusing on the local context.\n",
    "\n",
    "RNC is useful when the density of the dataset varies, allowing it to handle areas with sparse data more effectively than k-NN. However, choosing the appropriate radius can be challenging, and the method might struggle if no neighbors fall within the radius for certain test samples, leading to potential outlier classification issues."
   ]
  },
  {
   "cell_type": "code",
   "execution_count": 8,
   "metadata": {},
   "outputs": [
    {
     "name": "stderr",
     "output_type": "stream",
     "text": [
      "[codecarbon ERROR @ 10:25:09] Error: Another instance of codecarbon is already running. Turn off the other instance to be able to run this one. Exiting.\n",
      "[codecarbon WARNING @ 10:25:09] Another instance of codecarbon is already running. Exiting.\n"
     ]
    },
    {
     "name": "stderr",
     "output_type": "stream",
     "text": [
      "[codecarbon WARNING @ 10:25:09] Another instance of codecarbon is already running. Exiting.\n"
     ]
    },
    {
     "name": "stdout",
     "output_type": "stream",
     "text": [
      "Accuracy: 0.5522 ± 0.0138\n",
      "AUC-ROC: 0.5143 ± 0.0175\n"
     ]
    }
   ],
   "source": [
    "# ---------------------------------------------------------------------------- #\n",
    "#                                     MODEL                                    #\n",
    "# ---------------------------------------------------------------------------- #\n",
    "\n",
    "# Initiate CodeCarbon to track emissions\n",
    "tracker = EmissionsTracker('RNC model', log_level='warning')\n",
    "tracker.start()\n",
    "\n",
    "# Create model\n",
    "model = RadiusNeighborsClassifier(radius=1, outlier_label=0)\n",
    "\n",
    "# Define pipeline depending on whether PCA is requested or not\n",
    "if PC_Features:\n",
    "    steps = [\n",
    "        ('preprocessor', preprocessor),\n",
    "        ('pca', PCA(n_components=12)),\n",
    "        ('RNC-classifier', model)\n",
    "    ]\n",
    "else:\n",
    "    steps = [\n",
    "        ('preprocessor', preprocessor),\n",
    "        ('RNC-classifier', model)\n",
    "    ]\n",
    "    \n",
    "pipeline = Pipeline(steps)\n",
    "\n",
    "# Perform cross-validation\n",
    "cv_results = cross_validate(pipeline, X, y, scoring=['accuracy', 'roc_auc'], cv=K_Folds)\n",
    "\n",
    "# Calculate and display results\n",
    "acc = np.mean(cv_results['test_accuracy'])\n",
    "acc_std = np.std(cv_results['test_accuracy'])\n",
    "roc_auc = np.mean(cv_results['test_roc_auc'])\n",
    "roc_auc_std = np.std(cv_results['test_roc_auc'])\n",
    "\n",
    "print(f\"Accuracy: {acc:.4f} ± {acc_std:.4f}\")\n",
    "print(f\"AUC-ROC: {roc_auc:.4f} ± {roc_auc_std:.4f}\")\n",
    "\n",
    "# Stop emission tracking\n",
    "_ = tracker.stop()"
   ]
  },
  {
   "cell_type": "code",
   "execution_count": 9,
   "metadata": {},
   "outputs": [],
   "source": [
    "# Save evaluation to an external file\n",
    "file = 'scores.csv'\n",
    "\n",
    "results = pd.DataFrame({\n",
    "    'RNC-model': [acc, acc_std, roc_auc, roc_auc_std]\n",
    "}, index = ['Accuracy', 'Accuracy STD', 'AUC-ROC', 'AUC-ROC STD'])\n",
    "\n",
    "# Check if file exists\n",
    "if os.path.exists(file):\n",
    "    temp = pd.read_csv(file, index_col=0)\n",
    "    results = pd.concat([temp, results], axis=1)\n",
    "\n",
    "# Export\n",
    "results.to_csv(file)"
   ]
  },
  {
   "cell_type": "code",
   "execution_count": 10,
   "metadata": {},
   "outputs": [
    {
     "name": "stderr",
     "output_type": "stream",
     "text": [
      "[codecarbon ERROR @ 10:25:09] Error: Another instance of codecarbon is already running. Turn off the other instance to be able to run this one. Exiting.\n",
      "[codecarbon WARNING @ 10:25:09] Another instance of codecarbon is already running. Exiting.\n"
     ]
    },
    {
     "data": {
      "image/png": "[encoded data removed]",
      "text/plain": [
       "<Figure size 640x480 with 1 Axes>"
      ]
     },
     "metadata": {},
     "output_type": "display_data"
    },
    {
     "name": "stdout",
     "output_type": "stream",
     "text": [
      "Best radius: 3.5\n"
     ]
    }
   ],
   "source": [
    "# ---------------------------------------------------------------------------- #\n",
    "#                                 OPTIMIZATION                                 #\n",
    "# ---------------------------------------------------------------------------- #\n",
    "\n",
    "# Initiate CodeCarbon to track emissions\n",
    "tracker = EmissionsTracker('RNC optimization', log_level='warning')\n",
    "tracker.start()\n",
    "\n",
    "# Optimize radii (cross validation)\n",
    "radii = np.arange(0,30,.5)\n",
    "roc_aucs = []\n",
    "\n",
    "for rad in radii:\n",
    "    # Create model\n",
    "    temp_model = RadiusNeighborsClassifier(radius=rad, outlier_label=0)\n",
    "    \n",
    "    # Define pipeline depending on whether PCA is requested or not\n",
    "    if PC_Features:\n",
    "        steps = [\n",
    "            ('preprocessor', preprocessor),\n",
    "            ('pca', PCA(n_components=12)),\n",
    "            ('RNC-classifier', temp_model)\n",
    "        ]\n",
    "    else:\n",
    "        steps = [\n",
    "            ('preprocessor', preprocessor),\n",
    "            ('RNC-classifier', temp_model)\n",
    "        ]\n",
    "        \n",
    "    pipeline = Pipeline(steps)\n",
    "    roc_auc = cross_val_score(pipeline, X, y, scoring='roc_auc', cv=K_Folds)\n",
    "    roc_aucs.append(np.mean(roc_auc))\n",
    "\n",
    "plt.xlabel('Radii')\n",
    "plt.plot(radii, roc_aucs, 'o-', label='ROC AUC')\n",
    "plt.legend()\n",
    "plt.show()\n",
    "\n",
    "# Find best radius\n",
    "best_radius = radii[np.argmax(roc_aucs)]\n",
    "\n",
    "print(f'Best radius: {best_radius}')\n",
    "\n",
    "# Save best trial parameters to a JSON file\n",
    "params = {'radius': best_radius, 'outlier_label': 0}\n",
    "\n",
    "with open('params/RNC-params.json', 'w') as f:\n",
    "    json.dump(params, f)"
   ]
  },
  {
   "cell_type": "code",
   "execution_count": 11,
   "metadata": {},
   "outputs": [
    {
     "name": "stderr",
     "output_type": "stream",
     "text": [
      "[codecarbon WARNING @ 10:25:17] Another instance of codecarbon is already running. Exiting.\n"
     ]
    },
    {
     "name": "stdout",
     "output_type": "stream",
     "text": [
      "Accuracy: 0.8078 ± 0.0528\n",
      "AUC-ROC: 0.8981 ± 0.0440\n"
     ]
    }
   ],
   "source": [
    "# Create optimized model\n",
    "model = RadiusNeighborsClassifier(**params)\n",
    "\n",
    "# Define pipeline depending on whether PCA is requested or not\n",
    "if PC_Features:\n",
    "    steps = [\n",
    "        ('preprocessor', preprocessor),\n",
    "        ('pca', PCA(n_components=12)),\n",
    "        ('RNC-classifier', model)\n",
    "    ]\n",
    "else:\n",
    "    steps = [\n",
    "        ('preprocessor', preprocessor),\n",
    "        ('RNC-classifier', model)\n",
    "    ]\n",
    "    \n",
    "pipeline = Pipeline(steps)\n",
    "\n",
    "# Perform cross-validation\n",
    "cv_results = cross_validate(pipeline, X, y, scoring=['accuracy', 'roc_auc'], cv=K_Folds)\n",
    "\n",
    "# Calculate and display results\n",
    "acc = np.mean(cv_results['test_accuracy'])\n",
    "acc_std = np.std(cv_results['test_accuracy'])\n",
    "roc_auc = np.mean(cv_results['test_roc_auc'])\n",
    "roc_auc_std = np.std(cv_results['test_roc_auc'])\n",
    "\n",
    "print(f\"Accuracy: {acc:.4f} ± {acc_std:.4f}\")\n",
    "print(f\"AUC-ROC: {roc_auc:.4f} ± {roc_auc_std:.4f}\")\n",
    "\n",
    "# Stop emission tracking\n",
    "_ = tracker.stop()"
   ]
  },
  {
   "cell_type": "code",
   "execution_count": 12,
   "metadata": {},
   "outputs": [],
   "source": [
    "# Save evaluation to an external file\n",
    "file = 'scores.csv'\n",
    "\n",
    "results = pd.DataFrame({\n",
    "    'RNC-optimization': [acc, acc_std, roc_auc, roc_auc_std]\n",
    "}, index = ['Accuracy', 'Accuracy STD', 'AUC-ROC', 'AUC-ROC STD'])\n",
    "\n",
    "# Check if file exists\n",
    "if os.path.exists(file):\n",
    "    temp = pd.read_csv(file, index_col=0)\n",
    "    results = pd.concat([temp, results], axis=1)\n",
    "\n",
    "# Export\n",
    "results.to_csv(file)"
   ]
  },
  {
   "cell_type": "markdown",
   "metadata": {},
   "source": [
    "### References:\n",
    "\n",
    "* https://scikit-learn.org/stable/modules/generated/sklearn.neighbors.KNeighborsClassifier.html\n",
    "* https://scikit-learn.org/stable/modules/generated/sklearn.neighbors.RadiusNeighborsClassifier.html#sklearn.neighbors.RadiusNeighborsClassifier\n",
    "* https://scikit-learn.org/stable/modules/generated/sklearn.model_selection.cross_val_score.html"
   ]
  }
 ],
 "metadata": {
  "kernelspec": {
   "display_name": "Python 3",
   "language": "python",
   "name": "python3"
  },
  "language_info": {
   "codemirror_mode": {
    "name": "ipython",
    "version": 3
   },
   "file_extension": ".py",
   "mimetype": "text/x-python",
   "name": "python",
   "nbconvert_exporter": "python",
   "pygments_lexer": "ipython3",
   "version": "3.10.12"
  },
  "orig_nbformat": 4
 },
 "nbformat": 4,
 "nbformat_minor": 2
}

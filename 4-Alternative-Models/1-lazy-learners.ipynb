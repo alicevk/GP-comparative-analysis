{
 "cells": [
  {
   "cell_type": "markdown",
   "metadata": {},
   "source": [
    "# Alternative Models: Lazy Learners\n",
    "\n",
    "<hr>\n",
    "\n",
    "* k-Nearest Neighbors (kNN)\n",
    "* Radius Neighbors Classifier (RNC)"
   ]
  },
  {
   "cell_type": "code",
   "execution_count": 1,
   "metadata": {},
   "outputs": [],
   "source": [
    "# Import needed libraries and modules\n",
    "import pandas as pd\n",
    "import seaborn as sns\n",
    "import matplotlib.pyplot as plt\n",
    "import numpy as np\n",
    "from sklearn.model_selection import train_test_split\n",
    "from sklearn.metrics import roc_auc_score, accuracy_score\n",
    "import torch\n",
    "from sklearn.preprocessing import StandardScaler, OneHotEncoder\n",
    "from sklearn.compose import ColumnTransformer\n",
    "from sklearn.decomposition import PCA\n",
    "from sklearn.neighbors import KNeighborsClassifier\n",
    "from sklearn.model_selection import cross_val_score\n",
    "from sklearn.neighbors import RadiusNeighborsClassifier\n",
    "\n",
    "\n",
    "# Fetch dataset from UCI Repository\n",
    "from ucimlrepo import fetch_ucirepo\n",
    "heart_disease = fetch_ucirepo(id=45)\n",
    "df = heart_disease.data.original"
   ]
  },
  {
   "cell_type": "code",
   "execution_count": 2,
   "metadata": {},
   "outputs": [],
   "source": [
    "# ---------------------------------------------------------------------------- #\n",
    "#                                PRE-PROCESSING                                #\n",
    "# ---------------------------------------------------------------------------- #\n",
    "\n",
    "# --------------------------------- SETTINGS --------------------------------- #\n",
    "Normalize = False\n",
    "PC_Features = True\n",
    "Test_Size = 0.2\n",
    "Random_Seed = 82024\n",
    "Torch = False\n",
    "\n",
    "# Drop missing values\n",
    "df = df.dropna()\n",
    "df = df.reset_index(drop=True)\n",
    "\n",
    "# Binarize target\n",
    "df.loc[df['num'] != 0, 'num'] = 1\n",
    "\n",
    "# Define features and target vectors\n",
    "X = df.iloc[:,:-1]\n",
    "y = df['num']\n",
    "\n",
    "# Normalize if requested\n",
    "if (Normalize) or (PC_Features):\n",
    "    int_features, cat_features = ['age', 'trestbps', 'chol', 'thalach', 'oldpeak'],\\\n",
    "    ['sex', 'cp', 'fbs', 'restecg', 'exang', 'slope', 'ca', 'thal']\n",
    "    \n",
    "    preprocessor = ColumnTransformer(\n",
    "    transformers=[\n",
    "        ('int', StandardScaler(), int_features),\n",
    "        ('cat', OneHotEncoder(), cat_features)\n",
    "    ])\n",
    "    X = preprocessor.fit_transform(X)\n",
    "else:\n",
    "    X = X.values\n",
    "\n",
    "# Apply PCA if requested\n",
    "if PC_Features:\n",
    "    pca = PCA(n_components=12)\n",
    "    X = pca.fit_transform(X)\n",
    "\n",
    "# Split train and test data\n",
    "index = list(range(y.size))\n",
    "train_index, test_index = train_test_split(index, test_size=Test_Size, random_state=Random_Seed)\n",
    "\n",
    "train_X = X[train_index]\n",
    "train_y = y.loc[train_index].values\n",
    "\n",
    "test_X = X[test_index]\n",
    "test_y = y.loc[test_index].values\n",
    "\n",
    "# Convert to torch tensor if requested\n",
    "if Torch:\n",
    "    train_X, train_y, test_X, test_y = torch.tensor(train_X),\n",
    "    torch.tensor(train_y), torch.tensor(test_X), torch.tensor(test_y)"
   ]
  },
  {
   "cell_type": "markdown",
   "metadata": {},
   "source": [
    "<hr>\n",
    "\n",
    "## k-Nearest Neighbors (k-NN)\n",
    "\n",
    "k-NN is an instance-based learning algorithm that classifies data points based on the majority class of their k-nearest neighbors. It is a simple yet effective method that leverages the similarity between data points.\n",
    "\n",
    "k-NN is interesting for this dataset because it directly uses the data distribution to classify new samples, making it highly adaptable without requiring complex training. However, k-NN can be sensitive to noisy data and irrelevant features, and performance can degrade with imbalanced classes or high-dimensional data. For the latter reason, it is expected to perform better after applying dimensionality reduction to the dataset."
   ]
  },
  {
   "cell_type": "code",
   "execution_count": 3,
   "metadata": {},
   "outputs": [
    {
     "name": "stdout",
     "output_type": "stream",
     "text": [
      "Accuracy: 0.80\n",
      "AUC-ROC: 0.85\n"
     ]
    }
   ],
   "source": [
    "# ---------------------------------------------------------------------------- #\n",
    "#                                     MODEL                                    #\n",
    "# ---------------------------------------------------------------------------- #\n",
    "\n",
    "# Create model\n",
    "model = KNeighborsClassifier(n_neighbors=3)\n",
    "\n",
    "# Train model\n",
    "model.fit(train_X, train_y)\n",
    "\n",
    "# Test model\n",
    "y_pred = model.predict(test_X)\n",
    "pred_probs = model.predict_proba(test_X)\n",
    "\n",
    "# Evaluation\n",
    "acc = accuracy_score(test_y, y_pred)\n",
    "roc_auc = roc_auc_score(test_y, pred_probs[:, 1])\n",
    "\n",
    "print(f\"Accuracy: {acc:.2f}\")\n",
    "print(f\"AUC-ROC: {roc_auc:.2f}\")"
   ]
  },
  {
   "cell_type": "code",
   "execution_count": 4,
   "metadata": {},
   "outputs": [
    {
     "data": {
      "image/png": "[encoded data removed]",
      "text/plain": [
       "<Figure size 640x480 with 1 Axes>"
      ]
     },
     "metadata": {},
     "output_type": "display_data"
    },
    {
     "name": "stdout",
     "output_type": "stream",
     "text": [
      "Best k value: 28\n"
     ]
    }
   ],
   "source": [
    "# ---------------------------------------------------------------------------- #\n",
    "#                                 OPTIMIZATION                                 #\n",
    "# ---------------------------------------------------------------------------- #\n",
    "\n",
    "# Optimize k values (cross validation)\n",
    "k_vals = [i for i in range(1,31)]\n",
    "accs = []\n",
    "\n",
    "scaler = StandardScaler()\n",
    "X = scaler.fit_transform(X)\n",
    "\n",
    "for k in k_vals:\n",
    "    temp_model = KNeighborsClassifier(n_neighbors=k)\n",
    "    acc = cross_val_score(temp_model, X, y, scoring='roc_auc')\n",
    "    accs.append(np.mean(acc))\n",
    "\n",
    "plt.xlabel('k Values')\n",
    "plt.plot(k_vals, accs, 'o-', label='Accuracy')\n",
    "plt.legend()\n",
    "plt.show()\n",
    "\n",
    "# Find best k value\n",
    "best_k = k_vals[np.argmax(accs)]\n",
    "\n",
    "print(f'Best k value: {best_k}')"
   ]
  },
  {
   "cell_type": "code",
   "execution_count": 5,
   "metadata": {},
   "outputs": [
    {
     "name": "stdout",
     "output_type": "stream",
     "text": [
      "Accuracy: 0.75\n",
      "AUC-ROC: 0.89\n"
     ]
    }
   ],
   "source": [
    "# Create optimized model\n",
    "model = KNeighborsClassifier(n_neighbors=best_k)\n",
    "\n",
    "# Train optimized model\n",
    "model.fit(train_X, train_y)\n",
    "\n",
    "# Test optimized model\n",
    "y_pred = model.predict(test_X)\n",
    "pred_probs = model.predict_proba(test_X)\n",
    "\n",
    "# Evaluation\n",
    "acc = accuracy_score(test_y, y_pred)\n",
    "roc_auc = roc_auc_score(test_y, pred_probs[:, 1])\n",
    "\n",
    "print(f\"Accuracy: {acc:.2f}\")\n",
    "print(f\"AUC-ROC: {roc_auc:.2f}\")"
   ]
  },
  {
   "cell_type": "markdown",
   "metadata": {},
   "source": [
    "<hr>\n",
    "\n",
    "## Radius Neighbors Classifier (RNC)\n",
    "\n",
    "RNC is similar to k-NN but classifies data points based on neighbors within a specified radius rather than a fixed number of neighbors. This method adapts well to varying data densities by focusing on the local context.\n",
    "\n",
    "RNC is useful when the density of the dataset varies, allowing it to handle areas with sparse data more effectively than k-NN. However, choosing the appropriate radius can be challenging, and the method might struggle if no neighbors fall within the radius for certain test samples, leading to potential outlier classification issues."
   ]
  },
  {
   "cell_type": "code",
   "execution_count": 6,
   "metadata": {},
   "outputs": [
    {
     "name": "stdout",
     "output_type": "stream",
     "text": [
      "Accuracy: 0.55\n",
      "AUC-ROC: 0.50\n"
     ]
    }
   ],
   "source": [
    "# ---------------------------------------------------------------------------- #\n",
    "#                                     MODEL                                    #\n",
    "# ---------------------------------------------------------------------------- #\n",
    "\n",
    "# Create model\n",
    "model = RadiusNeighborsClassifier(radius=1, outlier_label=0)\n",
    "\n",
    "# Train model\n",
    "model.fit(train_X, train_y)\n",
    "\n",
    "# Test model\n",
    "y_pred = model.predict(test_X)\n",
    "pred_probs = model.predict_proba(test_X)\n",
    "\n",
    "# Evaluation\n",
    "acc = accuracy_score(test_y, y_pred)\n",
    "roc_auc = roc_auc_score(test_y, pred_probs[:, 1])\n",
    "\n",
    "print(f\"Accuracy: {acc:.2f}\")\n",
    "print(f\"AUC-ROC: {roc_auc:.2f}\")"
   ]
  },
  {
   "cell_type": "code",
   "execution_count": 7,
   "metadata": {},
   "outputs": [
    {
     "data": {
      "image/png": "[encoded data removed]",
      "text/plain": [
       "<Figure size 640x480 with 1 Axes>"
      ]
     },
     "metadata": {},
     "output_type": "display_data"
    },
    {
     "name": "stdout",
     "output_type": "stream",
     "text": [
      "Best radius: 4.0\n"
     ]
    }
   ],
   "source": [
    "# ---------------------------------------------------------------------------- #\n",
    "#                                 OPTIMIZATION                                 #\n",
    "# ---------------------------------------------------------------------------- #\n",
    "\n",
    "# Optimize radii (cross validation)\n",
    "radii = np.arange(0,30,.5)\n",
    "accs = []\n",
    "\n",
    "scaler = StandardScaler()\n",
    "X = scaler.fit_transform(X)\n",
    "\n",
    "for rad in radii:\n",
    "    temp_model = RadiusNeighborsClassifier(radius=rad, outlier_label=0)\n",
    "    acc = cross_val_score(temp_model, X, y, scoring='roc_auc')\n",
    "    accs.append(np.mean(acc))\n",
    "\n",
    "plt.xlabel('Radii')\n",
    "plt.plot(radii, accs, 'o-', label='Accuracy')\n",
    "plt.legend()\n",
    "plt.show()\n",
    "\n",
    "# Find best k value\n",
    "best_radius = radii[np.argmax(accs)]\n",
    "\n",
    "print(f'Best radius: {best_radius}')"
   ]
  },
  {
   "cell_type": "code",
   "execution_count": 8,
   "metadata": {},
   "outputs": [
    {
     "name": "stdout",
     "output_type": "stream",
     "text": [
      "Accuracy: 0.75\n",
      "AUC-ROC: 0.82\n"
     ]
    }
   ],
   "source": [
    "# Create optimized model\n",
    "model = RadiusNeighborsClassifier(radius=best_radius, outlier_label=0)\n",
    "\n",
    "# Train optimized model\n",
    "model.fit(train_X, train_y)\n",
    "\n",
    "# Test optimized model\n",
    "y_pred = model.predict(test_X)\n",
    "pred_probs = model.predict_proba(test_X)\n",
    "\n",
    "# Evaluation\n",
    "acc = accuracy_score(test_y, y_pred)\n",
    "roc_auc = roc_auc_score(test_y, pred_probs[:, 1])\n",
    "\n",
    "print(f\"Accuracy: {acc:.2f}\")\n",
    "print(f\"AUC-ROC: {roc_auc:.2f}\")"
   ]
  },
  {
   "cell_type": "markdown",
   "metadata": {},
   "source": [
    "### References:\n",
    "\n",
    "* https://scikit-learn.org/stable/modules/generated/sklearn.neighbors.KNeighborsClassifier.html\n",
    "* https://scikit-learn.org/stable/modules/generated/sklearn.neighbors.RadiusNeighborsClassifier.html#sklearn.neighbors.RadiusNeighborsClassifier\n",
    "* https://scikit-learn.org/stable/modules/generated/sklearn.model_selection.cross_val_score.html"
   ]
  }
 ],
 "metadata": {
  "kernelspec": {
   "display_name": "Python 3",
   "language": "python",
   "name": "python3"
  },
  "language_info": {
   "codemirror_mode": {
    "name": "ipython",
    "version": 3
   },
   "file_extension": ".py",
   "mimetype": "text/x-python",
   "name": "python",
   "nbconvert_exporter": "python",
   "pygments_lexer": "ipython3",
   "version": "3.10.12"
  },
  "orig_nbformat": 4
 },
 "nbformat": 4,
 "nbformat_minor": 2
}

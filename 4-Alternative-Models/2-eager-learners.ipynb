{
 "cells": [
  {
   "attachments": {},
   "cell_type": "markdown",
   "metadata": {},
   "source": [
    "# Alternative Models: Eager Learners\n",
    "\n",
    "<hr>\n",
    "\n",
    "* Logistic Regression\n",
    "* Support Vector Machine\n",
    "* Decision Trees"
   ]
  },
  {
   "cell_type": "code",
   "execution_count": 1,
   "metadata": {},
   "outputs": [],
   "source": [
    "# Import needed libraries and modules\n",
    "import pandas as pd\n",
    "import seaborn as sns\n",
    "import matplotlib.pyplot as plt\n",
    "import numpy as np\n",
    "from sklearn.model_selection import train_test_split\n",
    "from sklearn.metrics import roc_auc_score, accuracy_score\n",
    "import torch\n",
    "from sklearn.preprocessing import StandardScaler, OneHotEncoder\n",
    "from sklearn.compose import ColumnTransformer\n",
    "from sklearn.decomposition import PCA\n",
    "from sklearn.linear_model import LogisticRegression\n",
    "from sklearn import svm\n",
    "from sklearn import tree\n",
    "\n",
    "# Fetch dataset from UCI Repository\n",
    "from ucimlrepo import fetch_ucirepo\n",
    "heart_disease = fetch_ucirepo(id=45)\n",
    "df = heart_disease.data.original"
   ]
  },
  {
   "cell_type": "code",
   "execution_count": 2,
   "metadata": {},
   "outputs": [],
   "source": [
    "# ---------------------------------------------------------------------------- #\n",
    "#                                PRE-PROCESSING                                #\n",
    "# ---------------------------------------------------------------------------- #\n",
    "\n",
    "# --------------------------------- SETTINGS --------------------------------- #\n",
    "Normalize = False\n",
    "PC_Features = True\n",
    "Test_Size = 0.2\n",
    "Random_Seed = 82024\n",
    "Torch = False\n",
    "\n",
    "# Drop missing values\n",
    "df = df.dropna()\n",
    "df = df.reset_index(drop=True)\n",
    "\n",
    "# Binarize target\n",
    "df.loc[df['num'] != 0, 'num'] = 1\n",
    "\n",
    "# Define features and target vectors\n",
    "X = df.iloc[:,:-1]\n",
    "y = df['num']\n",
    "\n",
    "# Normalize if requested\n",
    "if (Normalize) or (PC_Features):\n",
    "    int_features, cat_features = ['age', 'trestbps', 'chol', 'thalach', 'oldpeak'],\\\n",
    "    ['sex', 'cp', 'fbs', 'restecg', 'exang', 'slope', 'ca', 'thal']\n",
    "    \n",
    "    preprocessor = ColumnTransformer(\n",
    "    transformers=[\n",
    "        ('int', StandardScaler(), int_features),\n",
    "        ('cat', OneHotEncoder(), cat_features)\n",
    "    ])\n",
    "    X = preprocessor.fit_transform(X)\n",
    "else:\n",
    "    X = X.values\n",
    "\n",
    "# Apply PCA if requested\n",
    "if PC_Features:\n",
    "    pca = PCA(n_components=12)\n",
    "    X = pca.fit_transform(X)\n",
    "\n",
    "# Split train and test data\n",
    "index = list(range(y.size))\n",
    "train_index, test_index = train_test_split(index, test_size=Test_Size, random_state=Random_Seed)\n",
    "\n",
    "train_X = X[train_index]\n",
    "train_y = y.loc[train_index].values\n",
    "\n",
    "test_X = X[test_index]\n",
    "test_y = y.loc[test_index].values\n",
    "\n",
    "# Convert to torch tensor if requested\n",
    "if Torch:\n",
    "    train_X, train_y, test_X, test_y = torch.tensor(train_X),\\\n",
    "    torch.tensor(train_y).double(), torch.tensor(test_X), torch.tensor(test_y).double()"
   ]
  },
  {
   "attachments": {},
   "cell_type": "markdown",
   "metadata": {},
   "source": [
    "<hr>\n",
    "\n",
    "## Logistic Regression:"
   ]
  },
  {
   "cell_type": "code",
   "execution_count": 3,
   "metadata": {},
   "outputs": [
    {
     "name": "stdout",
     "output_type": "stream",
     "text": [
      "Accuracy: 0.80\n",
      "AUC-ROC: 0.89\n"
     ]
    }
   ],
   "source": [
    "# ---------------------------------------------------------------------------- #\n",
    "#                                     MODEL                                    #\n",
    "# ---------------------------------------------------------------------------- #\n",
    "\n",
    "# Create model\n",
    "model = LogisticRegression(random_state=Random_Seed)\n",
    "\n",
    "# Train model\n",
    "model.fit(train_X, train_y)\n",
    "\n",
    "# Test model\n",
    "y_pred = model.predict(test_X)\n",
    "\n",
    "pred_probs = model.predict_proba(test_X)\n",
    "\n",
    "# Evaluation:\n",
    "acc = accuracy_score(test_y, y_pred)\n",
    "roc_auc = roc_auc_score(test_y, pred_probs[:, 1])\n",
    "\n",
    "print(f\"Accuracy: {acc:.2f}\")\n",
    "print(f\"AUC-ROC: {roc_auc:.2f}\")"
   ]
  },
  {
   "attachments": {},
   "cell_type": "markdown",
   "metadata": {},
   "source": [
    "<hr>\n",
    "\n",
    "## Support Vector Machines:\n",
    "\n",
    "Suport Vector Machines(SVMs) are machine learning algorithms that work by finding a hyperplane to separate data into classes\n",
    "\n",
    "**The advantages of support vector machines are:**\n",
    "\n",
    "* Effective in high dimensional spaces.\n",
    "\n",
    "* Still effective in cases where number of dimensions is greater than the number of samples.\n",
    "\n",
    "* Uses a subset of training points in the decision function (called support vectors), so it is also memory efficient.\n",
    "\n",
    "* Versatile: different Kernel functions can be specified for the decision function as in Gaussian Process Models.\n",
    "\n",
    "**The disadvantages of support vector machines include:**\n",
    "\n",
    "* If the number of features is much greater than the number of samples, avoid over-fitting in choosing Kernel functions and regularization term is crucial.\n",
    "\n",
    "* SVMs do not directly provide probability estimates.\n",
    "\n",
    "### SVC classification SVM implementation:"
   ]
  },
  {
   "cell_type": "code",
   "execution_count": 4,
   "metadata": {},
   "outputs": [
    {
     "name": "stdout",
     "output_type": "stream",
     "text": [
      "Accuracy: 0.77\n",
      "AUC-ROC: 0.87\n"
     ]
    }
   ],
   "source": [
    "# ---------------------------------------------------------------------------- #\n",
    "#                                     MODEL                                    #\n",
    "# ---------------------------------------------------------------------------- #\n",
    "\n",
    "# Create model\n",
    "model = svm.SVC(random_state=Random_Seed, probability=True)\n",
    "\n",
    "# Train model\n",
    "model.fit(train_X, train_y)\n",
    "\n",
    "# Test model\n",
    "y_pred = model.predict(test_X)\n",
    "\n",
    "pred_probs = model.predict_proba(test_X)\n",
    "\n",
    "# Evaluation:\n",
    "acc = accuracy_score(test_y, y_pred)\n",
    "roc_auc = roc_auc_score(test_y, pred_probs[:, 1])\n",
    "\n",
    "print(f\"Accuracy: {acc:.2f}\")\n",
    "print(f\"AUC-ROC: {roc_auc:.2f}\")"
   ]
  },
  {
   "attachments": {},
   "cell_type": "markdown",
   "metadata": {},
   "source": [
    "### NuSVC classification SVM implementation:"
   ]
  },
  {
   "cell_type": "code",
   "execution_count": 5,
   "metadata": {},
   "outputs": [
    {
     "name": "stdout",
     "output_type": "stream",
     "text": [
      "Accuracy: 0.75\n",
      "AUC-ROC: 0.87\n"
     ]
    }
   ],
   "source": [
    "# ---------------------------------------------------------------------------- #\n",
    "#                                     MODEL                                    #\n",
    "# ---------------------------------------------------------------------------- #\n",
    "\n",
    "# Create model\n",
    "model = svm.NuSVC(random_state=Random_Seed, probability=True)\n",
    "\n",
    "# Train model\n",
    "model.fit(train_X, train_y)\n",
    "\n",
    "# Test model\n",
    "y_pred = model.predict(test_X)\n",
    "\n",
    "pred_probs = model.predict_proba(test_X)\n",
    "\n",
    "# Evaluation:\n",
    "acc = accuracy_score(test_y, y_pred)\n",
    "roc_auc = roc_auc_score(test_y, pred_probs[:, 1])\n",
    "\n",
    "print(f\"Accuracy: {acc:.2f}\")\n",
    "print(f\"AUC-ROC: {roc_auc:.2f}\")"
   ]
  },
  {
   "attachments": {},
   "cell_type": "markdown",
   "metadata": {},
   "source": [
    "### LinearSVC classification SVM implementation:"
   ]
  },
  {
   "cell_type": "code",
   "execution_count": 6,
   "metadata": {},
   "outputs": [
    {
     "name": "stdout",
     "output_type": "stream",
     "text": [
      "Accuracy: 0.77\n"
     ]
    }
   ],
   "source": [
    "# ---------------------------------------------------------------------------- #\n",
    "#                                     MODEL                                    #\n",
    "# ---------------------------------------------------------------------------- #\n",
    "\n",
    "# Create model\n",
    "model = svm.LinearSVC(random_state=Random_Seed, dual=False)\n",
    "\n",
    "# Train model\n",
    "model.fit(train_X, train_y)\n",
    "\n",
    "# Test model\n",
    "y_pred = model.predict(test_X)\n",
    "\n",
    "# This module does not have a way to access probability\n",
    "# pred_probs = model.predict_proba(test_X)\n",
    "\n",
    "# Evaluation:\n",
    "acc = accuracy_score(test_y, y_pred)\n",
    "# roc_auc = roc_auc_score(test_y, pred_probs[:, 1])\n",
    "\n",
    "print(f\"Accuracy: {acc:.2f}\")\n",
    "# print(f\"AUC-ROC: {roc_auc:.2f}\")"
   ]
  },
  {
   "attachments": {},
   "cell_type": "markdown",
   "metadata": {},
   "source": [
    "<hr>\n",
    "\n",
    "## Decision Tree:"
   ]
  },
  {
   "cell_type": "code",
   "execution_count": 7,
   "metadata": {},
   "outputs": [
    {
     "name": "stdout",
     "output_type": "stream",
     "text": [
      "Accuracy: 0.72\n",
      "AUC-ROC: 0.71\n"
     ]
    },
    {
     "data": {
      "image/png": "[encoded data removed]",
      "text/plain": [
       "<Figure size 640x480 with 1 Axes>"
      ]
     },
     "metadata": {},
     "output_type": "display_data"
    }
   ],
   "source": [
    "# ---------------------------------------------------------------------------- #\n",
    "#                                     MODEL                                    #\n",
    "# ---------------------------------------------------------------------------- #\n",
    "\n",
    "# Create model\n",
    "model = tree.DecisionTreeClassifier(random_state=Random_Seed)\n",
    "\n",
    "# Train model\n",
    "model.fit(train_X, train_y)\n",
    "\n",
    "# Test model\n",
    "y_pred = model.predict(test_X)\n",
    "\n",
    "pred_probs = model.predict_proba(test_X)\n",
    "\n",
    "# Evaluation:\n",
    "acc = accuracy_score(test_y, y_pred)\n",
    "roc_auc = roc_auc_score(test_y, pred_probs[:, 1])\n",
    "\n",
    "print(f\"Accuracy: {acc:.2f}\")\n",
    "print(f\"AUC-ROC: {roc_auc:.2f}\")\n",
    "\n",
    "plot = tree.plot_tree(model)"
   ]
  },
  {
   "attachments": {},
   "cell_type": "markdown",
   "metadata": {},
   "source": [
    "### References:\n",
    "* https://scikit-learn.org/stable/modules/svm.html\n",
    "* https://scikit-learn.org/stable/modules/tree.html\n",
    "* https://scikit-learn.org/stable/modules/generated/sklearn.linear_model.LogisticRegression.html"
   ]
  }
 ],
 "metadata": {
  "kernelspec": {
   "display_name": "base",
   "language": "python",
   "name": "python3"
  },
  "language_info": {
   "codemirror_mode": {
    "name": "ipython",
    "version": 3
   },
   "file_extension": ".py",
   "mimetype": "text/x-python",
   "name": "python",
   "nbconvert_exporter": "python",
   "pygments_lexer": "ipython3",
   "version": "3.10.12"
  },
  "orig_nbformat": 4
 },
 "nbformat": 4,
 "nbformat_minor": 2
}

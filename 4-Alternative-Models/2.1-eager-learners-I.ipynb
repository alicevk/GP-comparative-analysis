{
 "cells": [
  {
   "attachments": {},
   "cell_type": "markdown",
   "metadata": {},
   "source": [
    "# Alternative Models: Eager Learners I\n",
    "\n",
    "<hr>\n",
    "\n",
    "* Logistic Regression\n",
    "* Decision Trees"
   ]
  },
  {
   "cell_type": "code",
   "execution_count": 1,
   "metadata": {},
   "outputs": [],
   "source": [
    "# Import needed libraries and modules\n",
    "import pandas as pd\n",
    "import seaborn as sns\n",
    "import matplotlib.pyplot as plt\n",
    "import numpy as np\n",
    "from sklearn.model_selection import train_test_split, cross_validate\n",
    "from sklearn.metrics import roc_auc_score, accuracy_score\n",
    "import torch\n",
    "from sklearn.preprocessing import StandardScaler, OneHotEncoder\n",
    "from sklearn.compose import ColumnTransformer\n",
    "from sklearn.decomposition import PCA\n",
    "from sklearn.linear_model import LogisticRegression\n",
    "from sklearn import svm\n",
    "from sklearn import tree\n",
    "import optuna\n",
    "from optuna.samplers import GPSampler\n",
    "import sklearn\n",
    "import sklearn.ensemble\n",
    "\n",
    "# Fetch dataset from UCI Repository\n",
    "from ucimlrepo import fetch_ucirepo\n",
    "heart_disease = fetch_ucirepo(id=45)\n",
    "df = heart_disease.data.original"
   ]
  },
  {
   "cell_type": "code",
   "execution_count": 2,
   "metadata": {},
   "outputs": [],
   "source": [
    "# ---------------------------------------------------------------------------- #\n",
    "#                                PRE-PROCESSING                                #\n",
    "# ---------------------------------------------------------------------------- #\n",
    "\n",
    "# --------------------------------- SETTINGS --------------------------------- #\n",
    "Normalize = True\n",
    "PC_Features = True\n",
    "Test_Size = 0.2\n",
    "Random_Seed = 82024\n",
    "Torch = False\n",
    "Cross_Validation = True\n",
    "\n",
    "# Drop missing values\n",
    "df = df.dropna()\n",
    "df = df.reset_index(drop=True)\n",
    "\n",
    "# Binarize target\n",
    "df.loc[df['num'] != 0, 'num'] = 1\n",
    "\n",
    "# Define features and target vectors\n",
    "X = df.iloc[:,:-1]\n",
    "y = df['num']\n",
    "\n",
    "# Normalize if requested\n",
    "if (Normalize) or (PC_Features):\n",
    "    int_features, cat_features = ['age', 'trestbps', 'chol', 'thalach', 'oldpeak'],\\\n",
    "    ['sex', 'cp', 'fbs', 'restecg', 'exang', 'slope', 'ca', 'thal']\n",
    "    \n",
    "    preprocessor = ColumnTransformer(\n",
    "    transformers=[\n",
    "        ('int', StandardScaler(), int_features),\n",
    "        ('cat', OneHotEncoder(), cat_features)\n",
    "    ])\n",
    "    X = preprocessor.fit_transform(X)\n",
    "else:\n",
    "    X = X.values\n",
    "\n",
    "# Apply PCA if requested\n",
    "if PC_Features:\n",
    "    pca = PCA(n_components=12)\n",
    "    X = pca.fit_transform(X)\n",
    "\n",
    "# Split train and test data\n",
    "index = list(range(y.size))\n",
    "train_index, test_index = train_test_split(index, test_size=Test_Size, random_state=Random_Seed)\n",
    "\n",
    "train_X = X[train_index]\n",
    "train_y = y.loc[train_index].values\n",
    "\n",
    "test_X = X[test_index]\n",
    "test_y = y.loc[test_index].values\n",
    "\n",
    "# Convert to torch tensor if requested\n",
    "if Torch:\n",
    "    train_X, train_y, test_X, test_y = torch.tensor(train_X),\\\n",
    "    torch.tensor(train_y).double(), torch.tensor(test_X), torch.tensor(test_y).double()"
   ]
  },
  {
   "attachments": {},
   "cell_type": "markdown",
   "metadata": {},
   "source": [
    "<hr>\n",
    "\n",
    "## Logistic Regression:"
   ]
  },
  {
   "cell_type": "code",
   "execution_count": 3,
   "metadata": {},
   "outputs": [
    {
     "name": "stdout",
     "output_type": "stream",
     "text": [
      "Accuracy: 0.8416\n",
      "AUC-ROC: 0.9193\n"
     ]
    }
   ],
   "source": [
    "# ---------------------------------------------------------------------------- #\n",
    "#                                     MODEL                                    #\n",
    "# ---------------------------------------------------------------------------- #\n",
    "\n",
    "# Create model\n",
    "model = LogisticRegression(random_state=Random_Seed)\n",
    "\n",
    "if Cross_Validation:\n",
    "    cv_results = cross_validate(model, X, y, scoring=['accuracy', 'roc_auc'])\n",
    "    acc = cv_results['test_accuracy'].mean()\n",
    "    roc_auc = cv_results['test_roc_auc'].mean()\n",
    "else:\n",
    "    # Train model\n",
    "    model.fit(train_X, train_y)\n",
    "\n",
    "    # Test model\n",
    "    y_pred = model.predict(test_X)\n",
    "    pred_probs = model.predict_proba(test_X)\n",
    "\n",
    "    # Evaluation\n",
    "    acc = accuracy_score(test_y, y_pred)\n",
    "    roc_auc = roc_auc_score(test_y, pred_probs[:, 1])\n",
    "\n",
    "print(f\"Accuracy: {acc:.4f}\")\n",
    "print(f\"AUC-ROC: {roc_auc:.4f}\")"
   ]
  },
  {
   "cell_type": "code",
   "execution_count": 4,
   "metadata": {},
   "outputs": [
    {
     "name": "stderr",
     "output_type": "stream",
     "text": [
      "/tmp/ipykernel_15378/555016442.py:22: ExperimentalWarning: GPSampler is experimental (supported from v3.6.0). The interface can change in the future.\n",
      "  study = optuna.create_study(direction='maximize', sampler=GPSampler()) #Criando a otimização, o GPSamples é um processo gaussiano\n",
      "[I 2024-10-21 17:56:29,431] A new study created in memory with name: no-name-e7e93e69-2f9e-4569-a80a-d762b3c40c1b\n",
      "[I 2024-10-21 17:56:29,466] Trial 0 finished with value: 0.8863343253968253 and parameters: {'C': 1.2157733076441402e-05, 'solver': 'saga', 'penalty': 'l2'}. Best is trial 0 with value: 0.8863343253968253.\n",
      "[I 2024-10-21 17:56:29,487] Trial 1 finished with value: 0.5 and parameters: {'C': 0.00016392737019054683, 'solver': 'liblinear', 'penalty': 'l1'}. Best is trial 0 with value: 0.8863343253968253.\n",
      "[I 2024-10-21 17:56:29,511] Trial 2 finished with value: 0.9206514550264551 and parameters: {'C': 0.9769954216962461, 'solver': 'liblinear', 'penalty': 'l1'}. Best is trial 2 with value: 0.9206514550264551.\n",
      "[I 2024-10-21 17:56:29,533] Trial 3 finished with value: 0.8483217592592591 and parameters: {'C': 0.021499320944813882, 'solver': 'liblinear', 'penalty': 'l1'}. Best is trial 2 with value: 0.9206514550264551.\n",
      "[I 2024-10-21 17:56:29,559] Trial 4 finished with value: 0.9179150132275133 and parameters: {'C': 5.601742818460782, 'solver': 'saga', 'penalty': 'l2'}. Best is trial 2 with value: 0.9206514550264551.\n",
      "[I 2024-10-21 17:56:29,587] Trial 5 finished with value: 0.8863343253968253 and parameters: {'C': 0.00012055943686864961, 'solver': 'lbfgs', 'penalty': 'l2'}. Best is trial 2 with value: 0.9206514550264551.\n",
      "[I 2024-10-21 17:56:29,613] Trial 6 finished with value: 0.8863343253968253 and parameters: {'C': 2.750824228359412e-05, 'solver': 'saga', 'penalty': 'l2'}. Best is trial 2 with value: 0.9206514550264551.\n",
      "[I 2024-10-21 17:56:29,627] Trial 7 finished with value: 0.5 and parameters: {'C': 1.2955493546979643e-05, 'solver': 'liblinear', 'penalty': 'l1'}. Best is trial 2 with value: 0.9206514550264551.\n",
      "[I 2024-10-21 17:56:29,650] Trial 8 finished with value: 0.9105737433862433 and parameters: {'C': 0.0438592965226277, 'solver': 'lbfgs', 'penalty': 'l1'}. Best is trial 2 with value: 0.9206514550264551.\n",
      "[I 2024-10-21 17:56:29,664] Trial 9 finished with value: 0.8940310846560846 and parameters: {'C': 0.005712452281878194, 'solver': 'liblinear', 'penalty': 'l2'}. Best is trial 2 with value: 0.9206514550264551.\n",
      "[I 2024-10-21 17:56:37,274] Trial 10 finished with value: 0.9185929232804233 and parameters: {'C': 0.5127556274313043, 'solver': 'lbfgs', 'penalty': 'l1'}. Best is trial 2 with value: 0.9206514550264551.\n",
      "[I 2024-10-21 17:56:37,427] Trial 11 finished with value: 0.9186094576719578 and parameters: {'C': 0.29687686440360767, 'solver': 'lbfgs', 'penalty': 'l2'}. Best is trial 2 with value: 0.9206514550264551.\n",
      "[I 2024-10-21 17:56:37,576] Trial 12 finished with value: 0.9185929232804233 and parameters: {'C': 100.0, 'solver': 'lbfgs', 'penalty': 'l2'}. Best is trial 2 with value: 0.9206514550264551.\n",
      "[I 2024-10-21 17:56:37,726] Trial 13 finished with value: 0.9185929232804233 and parameters: {'C': 100.0, 'solver': 'liblinear', 'penalty': 'l1'}. Best is trial 2 with value: 0.9206514550264551.\n",
      "[I 2024-10-21 17:56:37,869] Trial 14 finished with value: 0.9181299603174603 and parameters: {'C': 8.091082129365013, 'solver': 'liblinear', 'penalty': 'l2'}. Best is trial 2 with value: 0.9206514550264551.\n",
      "[I 2024-10-21 17:56:38,030] Trial 15 finished with value: 0.9181630291005292 and parameters: {'C': 0.26906597777724894, 'solver': 'saga', 'penalty': 'l1'}. Best is trial 2 with value: 0.9206514550264551.\n",
      "[I 2024-10-21 17:56:38,191] Trial 16 finished with value: 0.9185929232804233 and parameters: {'C': 17.11868542535256, 'solver': 'saga', 'penalty': 'l1'}. Best is trial 2 with value: 0.9206514550264551.\n",
      "[I 2024-10-21 17:56:38,352] Trial 17 finished with value: 0.917906746031746 and parameters: {'C': 6.029250899754327, 'solver': 'lbfgs', 'penalty': 'l2'}. Best is trial 2 with value: 0.9206514550264551.\n",
      "[I 2024-10-21 17:56:38,510] Trial 18 finished with value: 0.9185929232804233 and parameters: {'C': 100.0, 'solver': 'saga', 'penalty': 'l2'}. Best is trial 2 with value: 0.9206514550264551.\n",
      "[I 2024-10-21 17:56:38,651] Trial 19 finished with value: 0.9183614417989417 and parameters: {'C': 11.742668297704741, 'solver': 'liblinear', 'penalty': 'l1'}. Best is trial 2 with value: 0.9206514550264551.\n",
      "[I 2024-10-21 17:56:38,873] Trial 20 finished with value: 0.9167741402116402 and parameters: {'C': 0.14770895931854697, 'solver': 'lbfgs', 'penalty': 'l1'}. Best is trial 2 with value: 0.9206514550264551.\n",
      "[I 2024-10-21 17:56:39,009] Trial 21 finished with value: 0.9185929232804233 and parameters: {'C': 100.0, 'solver': 'lbfgs', 'penalty': 'l1'}. Best is trial 2 with value: 0.9206514550264551.\n",
      "[I 2024-10-21 17:56:39,162] Trial 22 finished with value: 0.9133597883597883 and parameters: {'C': 0.10467901202423192, 'solver': 'saga', 'penalty': 'l2'}. Best is trial 2 with value: 0.9206514550264551.\n",
      "[I 2024-10-21 17:56:39,306] Trial 23 finished with value: 0.9192708333333334 and parameters: {'C': 0.6483319211316574, 'solver': 'liblinear', 'penalty': 'l2'}. Best is trial 2 with value: 0.9206514550264551.\n",
      "[I 2024-10-21 17:56:39,502] Trial 24 finished with value: 0.9179232804232804 and parameters: {'C': 2.0433936906906442, 'solver': 'saga', 'penalty': 'l1'}. Best is trial 2 with value: 0.9206514550264551.\n",
      "[I 2024-10-21 17:56:39,658] Trial 25 finished with value: 0.9185929232804233 and parameters: {'C': 98.82103725136685, 'solver': 'liblinear', 'penalty': 'l2'}. Best is trial 2 with value: 0.9206514550264551.\n",
      "[I 2024-10-21 17:56:39,806] Trial 26 finished with value: 0.9185929232804233 and parameters: {'C': 99.99999999999969, 'solver': 'saga', 'penalty': 'l1'}. Best is trial 2 with value: 0.9206514550264551.\n",
      "[I 2024-10-21 17:56:39,960] Trial 27 finished with value: 0.9195105820105821 and parameters: {'C': 0.8707006835847969, 'solver': 'saga', 'penalty': 'l2'}. Best is trial 2 with value: 0.9206514550264551.\n",
      "[I 2024-10-21 17:56:40,192] Trial 28 finished with value: 0.9176835317460318 and parameters: {'C': 5.898477652516003, 'solver': 'lbfgs', 'penalty': 'l1'}. Best is trial 2 with value: 0.9206514550264551.\n",
      "[I 2024-10-21 17:56:40,340] Trial 29 finished with value: 0.918625992063492 and parameters: {'C': 1.2575275588391837, 'solver': 'lbfgs', 'penalty': 'l2'}. Best is trial 2 with value: 0.9206514550264551.\n",
      "[I 2024-10-21 17:56:40,490] Trial 30 finished with value: 0.9185929232804233 and parameters: {'C': 30.329097965553025, 'solver': 'saga', 'penalty': 'l2'}. Best is trial 2 with value: 0.9206514550264551.\n",
      "[I 2024-10-21 17:56:40,646] Trial 31 finished with value: 0.9188244047619047 and parameters: {'C': 2.3486785730061235, 'solver': 'liblinear', 'penalty': 'l1'}. Best is trial 2 with value: 0.9206514550264551.\n",
      "[I 2024-10-21 17:56:40,877] Trial 32 finished with value: 0.9185929232804233 and parameters: {'C': 32.4310457362179, 'solver': 'lbfgs', 'penalty': 'l1'}. Best is trial 2 with value: 0.9206514550264551.\n",
      "[I 2024-10-21 17:56:41,091] Trial 33 finished with value: 0.9078538359788361 and parameters: {'C': 0.029837958271731652, 'solver': 'lbfgs', 'penalty': 'l2'}. Best is trial 2 with value: 0.9206514550264551.\n",
      "[I 2024-10-21 17:56:41,316] Trial 34 finished with value: 0.9165509259259259 and parameters: {'C': 0.14551190216459822, 'solver': 'liblinear', 'penalty': 'l2'}. Best is trial 2 with value: 0.9206514550264551.\n",
      "[I 2024-10-21 17:56:41,492] Trial 35 finished with value: 0.9185929232804233 and parameters: {'C': 31.31075069117441, 'solver': 'lbfgs', 'penalty': 'l2'}. Best is trial 2 with value: 0.9206514550264551.\n",
      "[I 2024-10-21 17:56:41,736] Trial 36 finished with value: 0.9190393518518519 and parameters: {'C': 0.6842262404347774, 'solver': 'saga', 'penalty': 'l1'}. Best is trial 2 with value: 0.9206514550264551.\n",
      "[I 2024-10-21 17:56:41,954] Trial 37 finished with value: 0.9185929232804233 and parameters: {'C': 33.87431178227648, 'solver': 'liblinear', 'penalty': 'l2'}. Best is trial 2 with value: 0.9206514550264551.\n",
      "[I 2024-10-21 17:56:42,172] Trial 38 finished with value: 0.9185929232804233 and parameters: {'C': 39.39787066220927, 'solver': 'liblinear', 'penalty': 'l1'}. Best is trial 2 with value: 0.9206514550264551.\n",
      "[I 2024-10-21 17:56:42,329] Trial 39 finished with value: 0.9179232804232804 and parameters: {'C': 2.0094222003176485, 'solver': 'liblinear', 'penalty': 'l2'}. Best is trial 2 with value: 0.9206514550264551.\n",
      "[I 2024-10-21 17:56:42,476] Trial 40 finished with value: 0.886565806878307 and parameters: {'C': 1e-05, 'solver': 'liblinear', 'penalty': 'l2'}. Best is trial 2 with value: 0.9206514550264551.\n",
      "[I 2024-10-21 17:56:42,661] Trial 41 finished with value: 0.9186177248677249 and parameters: {'C': 1.3666247482933283, 'solver': 'lbfgs', 'penalty': 'l1'}. Best is trial 2 with value: 0.9206514550264551.\n",
      "[I 2024-10-21 17:56:42,840] Trial 42 finished with value: 0.9192791005291007 and parameters: {'C': 0.4065048518467131, 'solver': 'saga', 'penalty': 'l2'}. Best is trial 2 with value: 0.9206514550264551.\n",
      "[I 2024-10-21 17:56:43,081] Trial 43 finished with value: 0.921329365079365 and parameters: {'C': 0.7076117915855044, 'solver': 'liblinear', 'penalty': 'l1'}. Best is trial 43 with value: 0.921329365079365.\n",
      "[I 2024-10-21 17:56:43,340] Trial 44 finished with value: 0.9219742063492063 and parameters: {'C': 0.555455838227347, 'solver': 'liblinear', 'penalty': 'l1'}. Best is trial 44 with value: 0.9219742063492063.\n",
      "[I 2024-10-21 17:56:43,694] Trial 45 finished with value: 0.9231564153439153 and parameters: {'C': 0.4315018464660983, 'solver': 'liblinear', 'penalty': 'l1'}. Best is trial 45 with value: 0.9231564153439153.\n",
      "[I 2024-10-21 17:56:43,959] Trial 46 finished with value: 0.9208664021164022 and parameters: {'C': 0.3240776569598562, 'solver': 'liblinear', 'penalty': 'l1'}. Best is trial 45 with value: 0.9231564153439153.\n",
      "[I 2024-10-21 17:56:44,169] Trial 47 finished with value: 0.8899718915343915 and parameters: {'C': 0.0013338729919569157, 'solver': 'saga', 'penalty': 'l2'}. Best is trial 45 with value: 0.9231564153439153.\n",
      "[I 2024-10-21 17:56:44,369] Trial 48 finished with value: 0.8863343253968253 and parameters: {'C': 1e-05, 'solver': 'lbfgs', 'penalty': 'l2'}. Best is trial 45 with value: 0.9231564153439153.\n",
      "[I 2024-10-21 17:56:44,540] Trial 49 finished with value: 0.9185929232804233 and parameters: {'C': 45.09981307701601, 'solver': 'saga', 'penalty': 'l1'}. Best is trial 45 with value: 0.9231564153439153.\n",
      "[I 2024-10-21 17:56:44,765] Trial 50 finished with value: 0.9235945767195766 and parameters: {'C': 0.4868602832282118, 'solver': 'liblinear', 'penalty': 'l1'}. Best is trial 50 with value: 0.9235945767195766.\n",
      "[I 2024-10-21 17:56:44,917] Trial 51 finished with value: 0.9135830026455025 and parameters: {'C': 0.08520302644278559, 'solver': 'saga', 'penalty': 'l1'}. Best is trial 50 with value: 0.9235945767195766.\n",
      "[I 2024-10-21 17:56:45,191] Trial 52 finished with value: 0.8870205026455025 and parameters: {'C': 0.0003393298980146803, 'solver': 'liblinear', 'penalty': 'l2'}. Best is trial 50 with value: 0.9235945767195766.\n",
      "[I 2024-10-21 17:56:45,453] Trial 53 finished with value: 0.9176835317460318 and parameters: {'C': 6.183172890109732, 'solver': 'saga', 'penalty': 'l1'}. Best is trial 50 with value: 0.9235945767195766.\n",
      "[I 2024-10-21 17:56:45,734] Trial 54 finished with value: 0.8920056216931217 and parameters: {'C': 0.0025017893935380406, 'solver': 'lbfgs', 'penalty': 'l2'}. Best is trial 50 with value: 0.9235945767195766.\n",
      "[I 2024-10-21 17:56:45,899] Trial 55 finished with value: 0.9231316137566136 and parameters: {'C': 0.4950004064847948, 'solver': 'liblinear', 'penalty': 'l1'}. Best is trial 50 with value: 0.9235945767195766.\n",
      "[I 2024-10-21 17:56:46,131] Trial 56 finished with value: 0.9233630952380952 and parameters: {'C': 0.49236952076909124, 'solver': 'liblinear', 'penalty': 'l1'}. Best is trial 50 with value: 0.9235945767195766.\n",
      "[I 2024-10-21 17:56:46,372] Trial 57 finished with value: 0.9235945767195766 and parameters: {'C': 0.4908790581958631, 'solver': 'liblinear', 'penalty': 'l1'}. Best is trial 50 with value: 0.9235945767195766.\n",
      "[I 2024-10-21 17:56:46,777] Trial 58 finished with value: 0.9235945767195766 and parameters: {'C': 0.4905429093383015, 'solver': 'liblinear', 'penalty': 'l1'}. Best is trial 50 with value: 0.9235945767195766.\n",
      "[I 2024-10-21 17:56:47,077] Trial 59 finished with value: 0.9235945767195766 and parameters: {'C': 0.48954158571320555, 'solver': 'liblinear', 'penalty': 'l1'}. Best is trial 50 with value: 0.9235945767195766.\n",
      "[I 2024-10-21 17:56:47,361] Trial 60 finished with value: 0.9235945767195766 and parameters: {'C': 0.4880579719269985, 'solver': 'liblinear', 'penalty': 'l1'}. Best is trial 50 with value: 0.9235945767195766.\n",
      "[I 2024-10-21 17:56:47,614] Trial 61 finished with value: 0.9235945767195766 and parameters: {'C': 0.48649406880025553, 'solver': 'liblinear', 'penalty': 'l1'}. Best is trial 50 with value: 0.9235945767195766.\n",
      "[I 2024-10-21 17:56:47,860] Trial 62 finished with value: 0.9233630952380952 and parameters: {'C': 0.4848607811125979, 'solver': 'liblinear', 'penalty': 'l1'}. Best is trial 50 with value: 0.9235945767195766.\n",
      "[I 2024-10-21 17:56:48,153] Trial 63 finished with value: 0.9233630952380952 and parameters: {'C': 0.48249669587562877, 'solver': 'liblinear', 'penalty': 'l1'}. Best is trial 50 with value: 0.9235945767195766.\n",
      "[I 2024-10-21 17:56:48,381] Trial 64 finished with value: 0.9233630952380952 and parameters: {'C': 0.48006665093678247, 'solver': 'liblinear', 'penalty': 'l1'}. Best is trial 50 with value: 0.9235945767195766.\n",
      "[I 2024-10-21 17:56:48,656] Trial 65 finished with value: 0.9233630952380952 and parameters: {'C': 0.47744628260419403, 'solver': 'liblinear', 'penalty': 'l1'}. Best is trial 50 with value: 0.9235945767195766.\n",
      "[I 2024-10-21 17:56:48,954] Trial 66 finished with value: 0.9233630952380952 and parameters: {'C': 0.4746163784680855, 'solver': 'liblinear', 'penalty': 'l1'}. Best is trial 50 with value: 0.9235945767195766.\n",
      "[I 2024-10-21 17:56:49,133] Trial 67 finished with value: 0.9140542328042327 and parameters: {'C': 0.11645770143994277, 'solver': 'lbfgs', 'penalty': 'l2'}. Best is trial 50 with value: 0.9235945767195766.\n",
      "[I 2024-10-21 17:56:49,368] Trial 68 finished with value: 0.9233630952380952 and parameters: {'C': 0.4719590948772824, 'solver': 'liblinear', 'penalty': 'l1'}. Best is trial 50 with value: 0.9235945767195766.\n",
      "[I 2024-10-21 17:56:49,553] Trial 69 finished with value: 0.9229166666666668 and parameters: {'C': 0.4687898650335647, 'solver': 'liblinear', 'penalty': 'l1'}. Best is trial 50 with value: 0.9235945767195766.\n",
      "[I 2024-10-21 17:56:49,864] Trial 70 finished with value: 0.9029017857142858 and parameters: {'C': 0.015852990511535534, 'solver': 'saga', 'penalty': 'l2'}. Best is trial 50 with value: 0.9235945767195766.\n",
      "[I 2024-10-21 17:56:50,107] Trial 71 finished with value: 0.9179232804232804 and parameters: {'C': 2.1514243732302827, 'solver': 'saga', 'penalty': 'l2'}. Best is trial 50 with value: 0.9235945767195766.\n",
      "[I 2024-10-21 17:56:50,423] Trial 72 finished with value: 0.9233630952380952 and parameters: {'C': 0.4741387234151164, 'solver': 'liblinear', 'penalty': 'l1'}. Best is trial 50 with value: 0.9235945767195766.\n",
      "[I 2024-10-21 17:56:50,734] Trial 73 finished with value: 0.9183614417989417 and parameters: {'C': 14.264449592213648, 'solver': 'lbfgs', 'penalty': 'l2'}. Best is trial 50 with value: 0.9235945767195766.\n",
      "[I 2024-10-21 17:56:50,985] Trial 74 finished with value: 0.9233630952380952 and parameters: {'C': 0.4724050925880241, 'solver': 'liblinear', 'penalty': 'l1'}. Best is trial 50 with value: 0.9235945767195766.\n",
      "[I 2024-10-21 17:56:51,310] Trial 75 finished with value: 0.9101355820105821 and parameters: {'C': 0.043919533063294804, 'solver': 'liblinear', 'penalty': 'l2'}. Best is trial 50 with value: 0.9235945767195766.\n",
      "[I 2024-10-21 17:56:51,668] Trial 76 finished with value: 0.9229166666666668 and parameters: {'C': 0.46891616258236873, 'solver': 'liblinear', 'penalty': 'l1'}. Best is trial 50 with value: 0.9235945767195766.\n",
      "[I 2024-10-21 17:56:52,125] Trial 77 finished with value: 0.9229001322751322 and parameters: {'C': 0.5064691447308503, 'solver': 'liblinear', 'penalty': 'l1'}. Best is trial 50 with value: 0.9235945767195766.\n",
      "[I 2024-10-21 17:56:52,387] Trial 78 finished with value: 0.9185846560846562 and parameters: {'C': 0.6042066631406681, 'solver': 'lbfgs', 'penalty': 'l2'}. Best is trial 50 with value: 0.9235945767195766.\n",
      "[I 2024-10-21 17:56:52,752] Trial 79 finished with value: 0.9183614417989417 and parameters: {'C': 13.737594776277314, 'solver': 'saga', 'penalty': 'l2'}. Best is trial 50 with value: 0.9235945767195766.\n",
      "[I 2024-10-21 17:56:53,156] Trial 80 finished with value: 0.9229249338624339 and parameters: {'C': 0.4473322093729599, 'solver': 'liblinear', 'penalty': 'l1'}. Best is trial 50 with value: 0.9235945767195766.\n",
      "[I 2024-10-21 17:56:53,617] Trial 81 finished with value: 0.9231233465608465 and parameters: {'C': 0.5221238093711096, 'solver': 'liblinear', 'penalty': 'l1'}. Best is trial 50 with value: 0.9235945767195766.\n",
      "[I 2024-10-21 17:56:53,930] Trial 82 finished with value: 0.9183614417989417 and parameters: {'C': 14.464918741535696, 'solver': 'lbfgs', 'penalty': 'l1'}. Best is trial 50 with value: 0.9235945767195766.\n",
      "[I 2024-10-21 17:56:54,472] Trial 83 finished with value: 0.9229249338624339 and parameters: {'C': 0.4441145567992605, 'solver': 'liblinear', 'penalty': 'l1'}. Best is trial 50 with value: 0.9235945767195766.\n",
      "[I 2024-10-21 17:56:54,836] Trial 84 finished with value: 0.9186094576719578 and parameters: {'C': 0.33229774781675475, 'solver': 'liblinear', 'penalty': 'l2'}. Best is trial 50 with value: 0.9235945767195766.\n",
      "[I 2024-10-21 17:56:55,179] Trial 85 finished with value: 0.9226686507936506 and parameters: {'C': 0.528272429841423, 'solver': 'liblinear', 'penalty': 'l1'}. Best is trial 50 with value: 0.9235945767195766.\n",
      "[I 2024-10-21 17:56:55,564] Trial 86 finished with value: 0.9231564153439153 and parameters: {'C': 0.4339346814766035, 'solver': 'liblinear', 'penalty': 'l1'}. Best is trial 50 with value: 0.9235945767195766.\n",
      "[I 2024-10-21 17:56:55,930] Trial 87 finished with value: 0.9231564153439153 and parameters: {'C': 0.434932124707985, 'solver': 'liblinear', 'penalty': 'l1'}. Best is trial 50 with value: 0.9235945767195766.\n",
      "[I 2024-10-21 17:56:56,353] Trial 88 finished with value: 0.9186011904761905 and parameters: {'C': 5.212986668682633, 'solver': 'liblinear', 'penalty': 'l1'}. Best is trial 50 with value: 0.9235945767195766.\n",
      "[I 2024-10-21 17:56:56,756] Trial 89 finished with value: 0.9226686507936506 and parameters: {'C': 0.5261028845833882, 'solver': 'liblinear', 'penalty': 'l1'}. Best is trial 50 with value: 0.9235945767195766.\n",
      "[I 2024-10-21 17:56:57,139] Trial 90 finished with value: 0.9233796296296297 and parameters: {'C': 0.42923977224756577, 'solver': 'liblinear', 'penalty': 'l1'}. Best is trial 50 with value: 0.9235945767195766.\n",
      "[I 2024-10-21 17:56:57,496] Trial 91 finished with value: 0.9231564153439153 and parameters: {'C': 0.4296739965608872, 'solver': 'liblinear', 'penalty': 'l1'}. Best is trial 50 with value: 0.9235945767195766.\n",
      "[I 2024-10-21 17:56:57,837] Trial 92 finished with value: 0.9185929232804233 and parameters: {'C': 59.53040165858762, 'solver': 'saga', 'penalty': 'l2'}. Best is trial 50 with value: 0.9235945767195766.\n",
      "[I 2024-10-21 17:56:58,316] Trial 93 finished with value: 0.9231564153439153 and parameters: {'C': 0.42968721226414136, 'solver': 'liblinear', 'penalty': 'l1'}. Best is trial 50 with value: 0.9235945767195766.\n",
      "[I 2024-10-21 17:56:58,742] Trial 94 finished with value: 0.9185929232804233 and parameters: {'C': 16.86604829392325, 'solver': 'liblinear', 'penalty': 'l2'}. Best is trial 50 with value: 0.9235945767195766.\n",
      "[I 2024-10-21 17:56:59,184] Trial 95 finished with value: 0.9231564153439153 and parameters: {'C': 0.4311154153513849, 'solver': 'liblinear', 'penalty': 'l1'}. Best is trial 50 with value: 0.9235945767195766.\n",
      "[I 2024-10-21 17:56:59,473] Trial 96 finished with value: 0.9231564153439153 and parameters: {'C': 0.43198479978300147, 'solver': 'liblinear', 'penalty': 'l1'}. Best is trial 50 with value: 0.9235945767195766.\n",
      "[I 2024-10-21 17:56:59,856] Trial 97 finished with value: 0.9176917989417989 and parameters: {'C': 2.697583539932288, 'solver': 'lbfgs', 'penalty': 'l2'}. Best is trial 50 with value: 0.9235945767195766.\n",
      "[I 2024-10-21 17:57:00,406] Trial 98 finished with value: 0.9229001322751322 and parameters: {'C': 0.5149601741822104, 'solver': 'liblinear', 'penalty': 'l1'}. Best is trial 50 with value: 0.9235945767195766.\n",
      "[I 2024-10-21 17:57:00,873] Trial 99 finished with value: 0.9231564153439153 and parameters: {'C': 0.42959123013781897, 'solver': 'liblinear', 'penalty': 'l1'}. Best is trial 50 with value: 0.9235945767195766.\n"
     ]
    }
   ],
   "source": [
    "# ---------------------------------------------------------------------------- #\n",
    "#                                 OPTIMIZATION                                 #\n",
    "# ---------------------------------------------------------------------------- #\n",
    "\n",
    "# Objective function\n",
    "def objective(trial):\n",
    "    # Faixa de parâmetros para otimizar\n",
    "    C = trial.suggest_float('C', 1e-5, 1e2, log=True)  # Parâmetro de regularização\n",
    "    solver = trial.suggest_categorical('solver', ['liblinear', 'lbfgs', 'saga'])  # Solver\n",
    "\n",
    "    penalty = trial.suggest_categorical('penalty', ['l1', 'l2'])\n",
    "    penalty = 'l2' if solver != 'liblinear' else penalty\n",
    "\n",
    "    # Definindo o modelo de regressão logística\n",
    "    clf = sklearn.linear_model.LogisticRegression(C=C, solver=solver, penalty=penalty, max_iter=1000)\n",
    "\n",
    "    # Otimizando a média da validação cruzada\n",
    "    return sklearn.model_selection.cross_val_score(clf, X, y, scoring = 'roc_auc').mean() #Estamos otimizando o score da validação cruzada\n",
    "\n",
    "\n",
    "# Executando o optuna\n",
    "study = optuna.create_study(direction='maximize', sampler=GPSampler()) #Criando a otimização, o GPSamples é um processo gaussiano\n",
    "study.optimize(objective, n_trials=100) #Rodar a otimização"
   ]
  },
  {
   "cell_type": "code",
   "execution_count": 5,
   "metadata": {},
   "outputs": [
    {
     "name": "stdout",
     "output_type": "stream",
     "text": [
      "AUC-ROC: 0.9235945767195766\n",
      "Best hyperparameters: {'C': 0.4868602832282118, 'solver': 'liblinear', 'penalty': 'l1'}\n"
     ]
    }
   ],
   "source": [
    "# Mostrando o melhor modelo\n",
    "trial = study.best_trial\n",
    "print('AUC-ROC: {}'.format(trial.value))\n",
    "print(\"Best hyperparameters: {}\".format(trial.params))"
   ]
  },
  {
   "cell_type": "code",
   "execution_count": 6,
   "metadata": {},
   "outputs": [
    {
     "data": {
      "application/vnd.plotly.v1+json": {
       "config": {
        "plotlyServerURL": "https://plot.ly"
       },
       "data": [
        {
         "mode": "markers",
         "name": "Objective Value",
         "type": "scatter",
         "x": [
          0,
          1,
          2,
          3,
          4,
          5,
          6,
          7,
          8,
          9,
          10,
          11,
          12,
          13,
          14,
          15,
          16,
          17,
          18,
          19,
          20,
          21,
          22,
          23,
          24,
          25,
          26,
          27,
          28,
          29,
          30,
          31,
          32,
          33,
          34,
          35,
          36,
          37,
          38,
          39,
          40,
          41,
          42,
          43,
          44,
          45,
          46,
          47,
          48,
          49,
          50,
          51,
          52,
          53,
          54,
          55,
          56,
          57,
          58,
          59,
          60,
          61,
          62,
          63,
          64,
          65,
          66,
          67,
          68,
          69,
          70,
          71,
          72,
          73,
          74,
          75,
          76,
          77,
          78,
          79,
          80,
          81,
          82,
          83,
          84,
          85,
          86,
          87,
          88,
          89,
          90,
          91,
          92,
          93,
          94,
          95,
          96,
          97,
          98,
          99
         ],
         "y": [
          0.8863343253968253,
          0.5,
          0.9206514550264551,
          0.8483217592592591,
          0.9179150132275133,
          0.8863343253968253,
          0.8863343253968253,
          0.5,
          0.9105737433862433,
          0.8940310846560846,
          0.9185929232804233,
          0.9186094576719578,
          0.9185929232804233,
          0.9185929232804233,
          0.9181299603174603,
          0.9181630291005292,
          0.9185929232804233,
          0.917906746031746,
          0.9185929232804233,
          0.9183614417989417,
          0.9167741402116402,
          0.9185929232804233,
          0.9133597883597883,
          0.9192708333333334,
          0.9179232804232804,
          0.9185929232804233,
          0.9185929232804233,
          0.9195105820105821,
          0.9176835317460318,
          0.918625992063492,
          0.9185929232804233,
          0.9188244047619047,
          0.9185929232804233,
          0.9078538359788361,
          0.9165509259259259,
          0.9185929232804233,
          0.9190393518518519,
          0.9185929232804233,
          0.9185929232804233,
          0.9179232804232804,
          0.886565806878307,
          0.9186177248677249,
          0.9192791005291007,
          0.921329365079365,
          0.9219742063492063,
          0.9231564153439153,
          0.9208664021164022,
          0.8899718915343915,
          0.8863343253968253,
          0.9185929232804233,
          0.9235945767195766,
          0.9135830026455025,
          0.8870205026455025,
          0.9176835317460318,
          0.8920056216931217,
          0.9231316137566136,
          0.9233630952380952,
          0.9235945767195766,
          0.9235945767195766,
          0.9235945767195766,
          0.9235945767195766,
          0.9235945767195766,
          0.9233630952380952,
          0.9233630952380952,
          0.9233630952380952,
          0.9233630952380952,
          0.9233630952380952,
          0.9140542328042327,
          0.9233630952380952,
          0.9229166666666668,
          0.9029017857142858,
          0.9179232804232804,
          0.9233630952380952,
          0.9183614417989417,
          0.9233630952380952,
          0.9101355820105821,
          0.9229166666666668,
          0.9229001322751322,
          0.9185846560846562,
          0.9183614417989417,
          0.9229249338624339,
          0.9231233465608465,
          0.9183614417989417,
          0.9229249338624339,
          0.9186094576719578,
          0.9226686507936506,
          0.9231564153439153,
          0.9231564153439153,
          0.9186011904761905,
          0.9226686507936506,
          0.9233796296296297,
          0.9231564153439153,
          0.9185929232804233,
          0.9231564153439153,
          0.9185929232804233,
          0.9231564153439153,
          0.9231564153439153,
          0.9176917989417989,
          0.9229001322751322,
          0.9231564153439153
         ]
        },
        {
         "mode": "lines",
         "name": "Best Value",
         "type": "scatter",
         "x": [
          0,
          1,
          2,
          3,
          4,
          5,
          6,
          7,
          8,
          9,
          10,
          11,
          12,
          13,
          14,
          15,
          16,
          17,
          18,
          19,
          20,
          21,
          22,
          23,
          24,
          25,
          26,
          27,
          28,
          29,
          30,
          31,
          32,
          33,
          34,
          35,
          36,
          37,
          38,
          39,
          40,
          41,
          42,
          43,
          44,
          45,
          46,
          47,
          48,
          49,
          50,
          51,
          52,
          53,
          54,
          55,
          56,
          57,
          58,
          59,
          60,
          61,
          62,
          63,
          64,
          65,
          66,
          67,
          68,
          69,
          70,
          71,
          72,
          73,
          74,
          75,
          76,
          77,
          78,
          79,
          80,
          81,
          82,
          83,
          84,
          85,
          86,
          87,
          88,
          89,
          90,
          91,
          92,
          93,
          94,
          95,
          96,
          97,
          98,
          99
         ],
         "y": [
          0.8863343253968253,
          0.8863343253968253,
          0.9206514550264551,
          0.9206514550264551,
          0.9206514550264551,
          0.9206514550264551,
          0.9206514550264551,
          0.9206514550264551,
          0.9206514550264551,
          0.9206514550264551,
          0.9206514550264551,
          0.9206514550264551,
          0.9206514550264551,
          0.9206514550264551,
          0.9206514550264551,
          0.9206514550264551,
          0.9206514550264551,
          0.9206514550264551,
          0.9206514550264551,
          0.9206514550264551,
          0.9206514550264551,
          0.9206514550264551,
          0.9206514550264551,
          0.9206514550264551,
          0.9206514550264551,
          0.9206514550264551,
          0.9206514550264551,
          0.9206514550264551,
          0.9206514550264551,
          0.9206514550264551,
          0.9206514550264551,
          0.9206514550264551,
          0.9206514550264551,
          0.9206514550264551,
          0.9206514550264551,
          0.9206514550264551,
          0.9206514550264551,
          0.9206514550264551,
          0.9206514550264551,
          0.9206514550264551,
          0.9206514550264551,
          0.9206514550264551,
          0.9206514550264551,
          0.921329365079365,
          0.9219742063492063,
          0.9231564153439153,
          0.9231564153439153,
          0.9231564153439153,
          0.9231564153439153,
          0.9231564153439153,
          0.9235945767195766,
          0.9235945767195766,
          0.9235945767195766,
          0.9235945767195766,
          0.9235945767195766,
          0.9235945767195766,
          0.9235945767195766,
          0.9235945767195766,
          0.9235945767195766,
          0.9235945767195766,
          0.9235945767195766,
          0.9235945767195766,
          0.9235945767195766,
          0.9235945767195766,
          0.9235945767195766,
          0.9235945767195766,
          0.9235945767195766,
          0.9235945767195766,
          0.9235945767195766,
          0.9235945767195766,
          0.9235945767195766,
          0.9235945767195766,
          0.9235945767195766,
          0.9235945767195766,
          0.9235945767195766,
          0.9235945767195766,
          0.9235945767195766,
          0.9235945767195766,
          0.9235945767195766,
          0.9235945767195766,
          0.9235945767195766,
          0.9235945767195766,
          0.9235945767195766,
          0.9235945767195766,
          0.9235945767195766,
          0.9235945767195766,
          0.9235945767195766,
          0.9235945767195766,
          0.9235945767195766,
          0.9235945767195766,
          0.9235945767195766,
          0.9235945767195766,
          0.9235945767195766,
          0.9235945767195766,
          0.9235945767195766,
          0.9235945767195766,
          0.9235945767195766,
          0.9235945767195766,
          0.9235945767195766,
          0.9235945767195766
         ]
        },
        {
         "marker": {
          "color": "#cccccc"
         },
         "mode": "markers",
         "name": "Infeasible Trial",
         "showlegend": false,
         "type": "scatter",
         "x": [],
         "y": []
        }
       ],
       "layout": {
        "template": {
         "data": {
          "bar": [
           {
            "error_x": {
             "color": "#2a3f5f"
            },
            "error_y": {
             "color": "#2a3f5f"
            },
            "marker": {
             "line": {
              "color": "#E5ECF6",
              "width": 0.5
             },
             "pattern": {
              "fillmode": "overlay",
              "size": 10,
              "solidity": 0.2
             }
            },
            "type": "bar"
           }
          ],
          "barpolar": [
           {
            "marker": {
             "line": {
              "color": "#E5ECF6",
              "width": 0.5
             },
             "pattern": {
              "fillmode": "overlay",
              "size": 10,
              "solidity": 0.2
             }
            },
            "type": "barpolar"
           }
          ],
          "carpet": [
           {
            "aaxis": {
             "endlinecolor": "#2a3f5f",
             "gridcolor": "white",
             "linecolor": "white",
             "minorgridcolor": "white",
             "startlinecolor": "#2a3f5f"
            },
            "baxis": {
             "endlinecolor": "#2a3f5f",
             "gridcolor": "white",
             "linecolor": "white",
             "minorgridcolor": "white",
             "startlinecolor": "#2a3f5f"
            },
            "type": "carpet"
           }
          ],
          "choropleth": [
           {
            "colorbar": {
             "outlinewidth": 0,
             "ticks": ""
            },
            "type": "choropleth"
           }
          ],
          "contour": [
           {
            "colorbar": {
             "outlinewidth": 0,
             "ticks": ""
            },
            "colorscale": [
             [
              0,
              "#0d0887"
             ],
             [
              0.1111111111111111,
              "#46039f"
             ],
             [
              0.2222222222222222,
              "#7201a8"
             ],
             [
              0.3333333333333333,
              "#9c179e"
             ],
             [
              0.4444444444444444,
              "#bd3786"
             ],
             [
              0.5555555555555556,
              "#d8576b"
             ],
             [
              0.6666666666666666,
              "#ed7953"
             ],
             [
              0.7777777777777778,
              "#fb9f3a"
             ],
             [
              0.8888888888888888,
              "#fdca26"
             ],
             [
              1,
              "#f0f921"
             ]
            ],
            "type": "contour"
           }
          ],
          "contourcarpet": [
           {
            "colorbar": {
             "outlinewidth": 0,
             "ticks": ""
            },
            "type": "contourcarpet"
           }
          ],
          "heatmap": [
           {
            "colorbar": {
             "outlinewidth": 0,
             "ticks": ""
            },
            "colorscale": [
             [
              0,
              "#0d0887"
             ],
             [
              0.1111111111111111,
              "#46039f"
             ],
             [
              0.2222222222222222,
              "#7201a8"
             ],
             [
              0.3333333333333333,
              "#9c179e"
             ],
             [
              0.4444444444444444,
              "#bd3786"
             ],
             [
              0.5555555555555556,
              "#d8576b"
             ],
             [
              0.6666666666666666,
              "#ed7953"
             ],
             [
              0.7777777777777778,
              "#fb9f3a"
             ],
             [
              0.8888888888888888,
              "#fdca26"
             ],
             [
              1,
              "#f0f921"
             ]
            ],
            "type": "heatmap"
           }
          ],
          "heatmapgl": [
           {
            "colorbar": {
             "outlinewidth": 0,
             "ticks": ""
            },
            "colorscale": [
             [
              0,
              "#0d0887"
             ],
             [
              0.1111111111111111,
              "#46039f"
             ],
             [
              0.2222222222222222,
              "#7201a8"
             ],
             [
              0.3333333333333333,
              "#9c179e"
             ],
             [
              0.4444444444444444,
              "#bd3786"
             ],
             [
              0.5555555555555556,
              "#d8576b"
             ],
             [
              0.6666666666666666,
              "#ed7953"
             ],
             [
              0.7777777777777778,
              "#fb9f3a"
             ],
             [
              0.8888888888888888,
              "#fdca26"
             ],
             [
              1,
              "#f0f921"
             ]
            ],
            "type": "heatmapgl"
           }
          ],
          "histogram": [
           {
            "marker": {
             "pattern": {
              "fillmode": "overlay",
              "size": 10,
              "solidity": 0.2
             }
            },
            "type": "histogram"
           }
          ],
          "histogram2d": [
           {
            "colorbar": {
             "outlinewidth": 0,
             "ticks": ""
            },
            "colorscale": [
             [
              0,
              "#0d0887"
             ],
             [
              0.1111111111111111,
              "#46039f"
             ],
             [
              0.2222222222222222,
              "#7201a8"
             ],
             [
              0.3333333333333333,
              "#9c179e"
             ],
             [
              0.4444444444444444,
              "#bd3786"
             ],
             [
              0.5555555555555556,
              "#d8576b"
             ],
             [
              0.6666666666666666,
              "#ed7953"
             ],
             [
              0.7777777777777778,
              "#fb9f3a"
             ],
             [
              0.8888888888888888,
              "#fdca26"
             ],
             [
              1,
              "#f0f921"
             ]
            ],
            "type": "histogram2d"
           }
          ],
          "histogram2dcontour": [
           {
            "colorbar": {
             "outlinewidth": 0,
             "ticks": ""
            },
            "colorscale": [
             [
              0,
              "#0d0887"
             ],
             [
              0.1111111111111111,
              "#46039f"
             ],
             [
              0.2222222222222222,
              "#7201a8"
             ],
             [
              0.3333333333333333,
              "#9c179e"
             ],
             [
              0.4444444444444444,
              "#bd3786"
             ],
             [
              0.5555555555555556,
              "#d8576b"
             ],
             [
              0.6666666666666666,
              "#ed7953"
             ],
             [
              0.7777777777777778,
              "#fb9f3a"
             ],
             [
              0.8888888888888888,
              "#fdca26"
             ],
             [
              1,
              "#f0f921"
             ]
            ],
            "type": "histogram2dcontour"
           }
          ],
          "mesh3d": [
           {
            "colorbar": {
             "outlinewidth": 0,
             "ticks": ""
            },
            "type": "mesh3d"
           }
          ],
          "parcoords": [
           {
            "line": {
             "colorbar": {
              "outlinewidth": 0,
              "ticks": ""
             }
            },
            "type": "parcoords"
           }
          ],
          "pie": [
           {
            "automargin": true,
            "type": "pie"
           }
          ],
          "scatter": [
           {
            "fillpattern": {
             "fillmode": "overlay",
             "size": 10,
             "solidity": 0.2
            },
            "type": "scatter"
           }
          ],
          "scatter3d": [
           {
            "line": {
             "colorbar": {
              "outlinewidth": 0,
              "ticks": ""
             }
            },
            "marker": {
             "colorbar": {
              "outlinewidth": 0,
              "ticks": ""
             }
            },
            "type": "scatter3d"
           }
          ],
          "scattercarpet": [
           {
            "marker": {
             "colorbar": {
              "outlinewidth": 0,
              "ticks": ""
             }
            },
            "type": "scattercarpet"
           }
          ],
          "scattergeo": [
           {
            "marker": {
             "colorbar": {
              "outlinewidth": 0,
              "ticks": ""
             }
            },
            "type": "scattergeo"
           }
          ],
          "scattergl": [
           {
            "marker": {
             "colorbar": {
              "outlinewidth": 0,
              "ticks": ""
             }
            },
            "type": "scattergl"
           }
          ],
          "scattermapbox": [
           {
            "marker": {
             "colorbar": {
              "outlinewidth": 0,
              "ticks": ""
             }
            },
            "type": "scattermapbox"
           }
          ],
          "scatterpolar": [
           {
            "marker": {
             "colorbar": {
              "outlinewidth": 0,
              "ticks": ""
             }
            },
            "type": "scatterpolar"
           }
          ],
          "scatterpolargl": [
           {
            "marker": {
             "colorbar": {
              "outlinewidth": 0,
              "ticks": ""
             }
            },
            "type": "scatterpolargl"
           }
          ],
          "scatterternary": [
           {
            "marker": {
             "colorbar": {
              "outlinewidth": 0,
              "ticks": ""
             }
            },
            "type": "scatterternary"
           }
          ],
          "surface": [
           {
            "colorbar": {
             "outlinewidth": 0,
             "ticks": ""
            },
            "colorscale": [
             [
              0,
              "#0d0887"
             ],
             [
              0.1111111111111111,
              "#46039f"
             ],
             [
              0.2222222222222222,
              "#7201a8"
             ],
             [
              0.3333333333333333,
              "#9c179e"
             ],
             [
              0.4444444444444444,
              "#bd3786"
             ],
             [
              0.5555555555555556,
              "#d8576b"
             ],
             [
              0.6666666666666666,
              "#ed7953"
             ],
             [
              0.7777777777777778,
              "#fb9f3a"
             ],
             [
              0.8888888888888888,
              "#fdca26"
             ],
             [
              1,
              "#f0f921"
             ]
            ],
            "type": "surface"
           }
          ],
          "table": [
           {
            "cells": {
             "fill": {
              "color": "#EBF0F8"
             },
             "line": {
              "color": "white"
             }
            },
            "header": {
             "fill": {
              "color": "#C8D4E3"
             },
             "line": {
              "color": "white"
             }
            },
            "type": "table"
           }
          ]
         },
         "layout": {
          "annotationdefaults": {
           "arrowcolor": "#2a3f5f",
           "arrowhead": 0,
           "arrowwidth": 1
          },
          "autotypenumbers": "strict",
          "coloraxis": {
           "colorbar": {
            "outlinewidth": 0,
            "ticks": ""
           }
          },
          "colorscale": {
           "diverging": [
            [
             0,
             "#8e0152"
            ],
            [
             0.1,
             "#c51b7d"
            ],
            [
             0.2,
             "#de77ae"
            ],
            [
             0.3,
             "#f1b6da"
            ],
            [
             0.4,
             "#fde0ef"
            ],
            [
             0.5,
             "#f7f7f7"
            ],
            [
             0.6,
             "#e6f5d0"
            ],
            [
             0.7,
             "#b8e186"
            ],
            [
             0.8,
             "#7fbc41"
            ],
            [
             0.9,
             "#4d9221"
            ],
            [
             1,
             "#276419"
            ]
           ],
           "sequential": [
            [
             0,
             "#0d0887"
            ],
            [
             0.1111111111111111,
             "#46039f"
            ],
            [
             0.2222222222222222,
             "#7201a8"
            ],
            [
             0.3333333333333333,
             "#9c179e"
            ],
            [
             0.4444444444444444,
             "#bd3786"
            ],
            [
             0.5555555555555556,
             "#d8576b"
            ],
            [
             0.6666666666666666,
             "#ed7953"
            ],
            [
             0.7777777777777778,
             "#fb9f3a"
            ],
            [
             0.8888888888888888,
             "#fdca26"
            ],
            [
             1,
             "#f0f921"
            ]
           ],
           "sequentialminus": [
            [
             0,
             "#0d0887"
            ],
            [
             0.1111111111111111,
             "#46039f"
            ],
            [
             0.2222222222222222,
             "#7201a8"
            ],
            [
             0.3333333333333333,
             "#9c179e"
            ],
            [
             0.4444444444444444,
             "#bd3786"
            ],
            [
             0.5555555555555556,
             "#d8576b"
            ],
            [
             0.6666666666666666,
             "#ed7953"
            ],
            [
             0.7777777777777778,
             "#fb9f3a"
            ],
            [
             0.8888888888888888,
             "#fdca26"
            ],
            [
             1,
             "#f0f921"
            ]
           ]
          },
          "colorway": [
           "#636efa",
           "#EF553B",
           "#00cc96",
           "#ab63fa",
           "#FFA15A",
           "#19d3f3",
           "#FF6692",
           "#B6E880",
           "#FF97FF",
           "#FECB52"
          ],
          "font": {
           "color": "#2a3f5f"
          },
          "geo": {
           "bgcolor": "white",
           "lakecolor": "white",
           "landcolor": "#E5ECF6",
           "showlakes": true,
           "showland": true,
           "subunitcolor": "white"
          },
          "hoverlabel": {
           "align": "left"
          },
          "hovermode": "closest",
          "mapbox": {
           "style": "light"
          },
          "paper_bgcolor": "white",
          "plot_bgcolor": "#E5ECF6",
          "polar": {
           "angularaxis": {
            "gridcolor": "white",
            "linecolor": "white",
            "ticks": ""
           },
           "bgcolor": "#E5ECF6",
           "radialaxis": {
            "gridcolor": "white",
            "linecolor": "white",
            "ticks": ""
           }
          },
          "scene": {
           "xaxis": {
            "backgroundcolor": "#E5ECF6",
            "gridcolor": "white",
            "gridwidth": 2,
            "linecolor": "white",
            "showbackground": true,
            "ticks": "",
            "zerolinecolor": "white"
           },
           "yaxis": {
            "backgroundcolor": "#E5ECF6",
            "gridcolor": "white",
            "gridwidth": 2,
            "linecolor": "white",
            "showbackground": true,
            "ticks": "",
            "zerolinecolor": "white"
           },
           "zaxis": {
            "backgroundcolor": "#E5ECF6",
            "gridcolor": "white",
            "gridwidth": 2,
            "linecolor": "white",
            "showbackground": true,
            "ticks": "",
            "zerolinecolor": "white"
           }
          },
          "shapedefaults": {
           "line": {
            "color": "#2a3f5f"
           }
          },
          "ternary": {
           "aaxis": {
            "gridcolor": "white",
            "linecolor": "white",
            "ticks": ""
           },
           "baxis": {
            "gridcolor": "white",
            "linecolor": "white",
            "ticks": ""
           },
           "bgcolor": "#E5ECF6",
           "caxis": {
            "gridcolor": "white",
            "linecolor": "white",
            "ticks": ""
           }
          },
          "title": {
           "x": 0.05
          },
          "xaxis": {
           "automargin": true,
           "gridcolor": "white",
           "linecolor": "white",
           "ticks": "",
           "title": {
            "standoff": 15
           },
           "zerolinecolor": "white",
           "zerolinewidth": 2
          },
          "yaxis": {
           "automargin": true,
           "gridcolor": "white",
           "linecolor": "white",
           "ticks": "",
           "title": {
            "standoff": 15
           },
           "zerolinecolor": "white",
           "zerolinewidth": 2
          }
         }
        },
        "title": {
         "text": "Optimization History Plot"
        },
        "xaxis": {
         "title": {
          "text": "Trial"
         }
        },
        "yaxis": {
         "title": {
          "text": "Objective Value"
         }
        }
       }
      }
     },
     "metadata": {},
     "output_type": "display_data"
    }
   ],
   "source": [
    "# Visualizando a otimização\n",
    "optuna.visualization.plot_optimization_history(study)"
   ]
  },
  {
   "cell_type": "code",
   "execution_count": 7,
   "metadata": {},
   "outputs": [
    {
     "data": {
      "application/vnd.plotly.v1+json": {
       "config": {
        "plotlyServerURL": "https://plot.ly"
       },
       "data": [
        {
         "marker": {
          "color": [
           0,
           1,
           2,
           3,
           4,
           5,
           6,
           7,
           8,
           9,
           10,
           11,
           12,
           13,
           14,
           15,
           16,
           17,
           18,
           19,
           20,
           21,
           22,
           23,
           24,
           25,
           26,
           27,
           28,
           29,
           30,
           31,
           32,
           33,
           34,
           35,
           36,
           37,
           38,
           39,
           40,
           41,
           42,
           43,
           44,
           45,
           46,
           47,
           48,
           49,
           50,
           51,
           52,
           53,
           54,
           55,
           56,
           57,
           58,
           59,
           60,
           61,
           62,
           63,
           64,
           65,
           66,
           67,
           68,
           69,
           70,
           71,
           72,
           73,
           74,
           75,
           76,
           77,
           78,
           79,
           80,
           81,
           82,
           83,
           84,
           85,
           86,
           87,
           88,
           89,
           90,
           91,
           92,
           93,
           94,
           95,
           96,
           97,
           98,
           99
          ],
          "colorbar": {
           "title": {
            "text": "Trial"
           },
           "x": 1,
           "xpad": 40
          },
          "colorscale": [
           [
            0,
            "rgb(247,251,255)"
           ],
           [
            0.125,
            "rgb(222,235,247)"
           ],
           [
            0.25,
            "rgb(198,219,239)"
           ],
           [
            0.375,
            "rgb(158,202,225)"
           ],
           [
            0.5,
            "rgb(107,174,214)"
           ],
           [
            0.625,
            "rgb(66,146,198)"
           ],
           [
            0.75,
            "rgb(33,113,181)"
           ],
           [
            0.875,
            "rgb(8,81,156)"
           ],
           [
            1,
            "rgb(8,48,107)"
           ]
          ],
          "line": {
           "color": "Grey",
           "width": 0.5
          },
          "showscale": true
         },
         "mode": "markers",
         "name": "Feasible Trial",
         "showlegend": false,
         "type": "scatter",
         "x": [
          0.000012157733076441402,
          0.00016392737019054683,
          0.9769954216962461,
          0.021499320944813882,
          5.601742818460782,
          0.00012055943686864961,
          0.00002750824228359412,
          0.000012955493546979643,
          0.0438592965226277,
          0.005712452281878194,
          0.5127556274313043,
          0.29687686440360767,
          100,
          100,
          8.091082129365013,
          0.26906597777724894,
          17.11868542535256,
          6.029250899754327,
          100,
          11.742668297704741,
          0.14770895931854697,
          100,
          0.10467901202423192,
          0.6483319211316574,
          2.0433936906906442,
          98.82103725136685,
          99.99999999999969,
          0.8707006835847969,
          5.898477652516003,
          1.2575275588391837,
          30.329097965553025,
          2.3486785730061235,
          32.4310457362179,
          0.029837958271731652,
          0.14551190216459822,
          31.31075069117441,
          0.6842262404347774,
          33.87431178227648,
          39.39787066220927,
          2.0094222003176485,
          0.00001,
          1.3666247482933283,
          0.4065048518467131,
          0.7076117915855044,
          0.555455838227347,
          0.4315018464660983,
          0.3240776569598562,
          0.0013338729919569157,
          0.00001,
          45.09981307701601,
          0.4868602832282118,
          0.08520302644278559,
          0.0003393298980146803,
          6.183172890109732,
          0.0025017893935380406,
          0.4950004064847948,
          0.49236952076909124,
          0.4908790581958631,
          0.4905429093383015,
          0.48954158571320555,
          0.4880579719269985,
          0.48649406880025553,
          0.4848607811125979,
          0.48249669587562877,
          0.48006665093678247,
          0.47744628260419403,
          0.4746163784680855,
          0.11645770143994277,
          0.4719590948772824,
          0.4687898650335647,
          0.015852990511535534,
          2.1514243732302827,
          0.4741387234151164,
          14.264449592213648,
          0.4724050925880241,
          0.043919533063294804,
          0.46891616258236873,
          0.5064691447308503,
          0.6042066631406681,
          13.737594776277314,
          0.4473322093729599,
          0.5221238093711096,
          14.464918741535696,
          0.4441145567992605,
          0.33229774781675475,
          0.528272429841423,
          0.4339346814766035,
          0.434932124707985,
          5.212986668682633,
          0.5261028845833882,
          0.42923977224756577,
          0.4296739965608872,
          59.53040165858762,
          0.42968721226414136,
          16.86604829392325,
          0.4311154153513849,
          0.43198479978300147,
          2.697583539932288,
          0.5149601741822104,
          0.42959123013781897
         ],
         "xaxis": "x",
         "y": [
          0.8863343253968253,
          0.5,
          0.9206514550264551,
          0.8483217592592591,
          0.9179150132275133,
          0.8863343253968253,
          0.8863343253968253,
          0.5,
          0.9105737433862433,
          0.8940310846560846,
          0.9185929232804233,
          0.9186094576719578,
          0.9185929232804233,
          0.9185929232804233,
          0.9181299603174603,
          0.9181630291005292,
          0.9185929232804233,
          0.917906746031746,
          0.9185929232804233,
          0.9183614417989417,
          0.9167741402116402,
          0.9185929232804233,
          0.9133597883597883,
          0.9192708333333334,
          0.9179232804232804,
          0.9185929232804233,
          0.9185929232804233,
          0.9195105820105821,
          0.9176835317460318,
          0.918625992063492,
          0.9185929232804233,
          0.9188244047619047,
          0.9185929232804233,
          0.9078538359788361,
          0.9165509259259259,
          0.9185929232804233,
          0.9190393518518519,
          0.9185929232804233,
          0.9185929232804233,
          0.9179232804232804,
          0.886565806878307,
          0.9186177248677249,
          0.9192791005291007,
          0.921329365079365,
          0.9219742063492063,
          0.9231564153439153,
          0.9208664021164022,
          0.8899718915343915,
          0.8863343253968253,
          0.9185929232804233,
          0.9235945767195766,
          0.9135830026455025,
          0.8870205026455025,
          0.9176835317460318,
          0.8920056216931217,
          0.9231316137566136,
          0.9233630952380952,
          0.9235945767195766,
          0.9235945767195766,
          0.9235945767195766,
          0.9235945767195766,
          0.9235945767195766,
          0.9233630952380952,
          0.9233630952380952,
          0.9233630952380952,
          0.9233630952380952,
          0.9233630952380952,
          0.9140542328042327,
          0.9233630952380952,
          0.9229166666666668,
          0.9029017857142858,
          0.9179232804232804,
          0.9233630952380952,
          0.9183614417989417,
          0.9233630952380952,
          0.9101355820105821,
          0.9229166666666668,
          0.9229001322751322,
          0.9185846560846562,
          0.9183614417989417,
          0.9229249338624339,
          0.9231233465608465,
          0.9183614417989417,
          0.9229249338624339,
          0.9186094576719578,
          0.9226686507936506,
          0.9231564153439153,
          0.9231564153439153,
          0.9186011904761905,
          0.9226686507936506,
          0.9233796296296297,
          0.9231564153439153,
          0.9185929232804233,
          0.9231564153439153,
          0.9185929232804233,
          0.9231564153439153,
          0.9231564153439153,
          0.9176917989417989,
          0.9229001322751322,
          0.9231564153439153
         ],
         "yaxis": "y"
        },
        {
         "marker": {
          "color": [
           0,
           1,
           2,
           3,
           4,
           5,
           6,
           7,
           8,
           9,
           10,
           11,
           12,
           13,
           14,
           15,
           16,
           17,
           18,
           19,
           20,
           21,
           22,
           23,
           24,
           25,
           26,
           27,
           28,
           29,
           30,
           31,
           32,
           33,
           34,
           35,
           36,
           37,
           38,
           39,
           40,
           41,
           42,
           43,
           44,
           45,
           46,
           47,
           48,
           49,
           50,
           51,
           52,
           53,
           54,
           55,
           56,
           57,
           58,
           59,
           60,
           61,
           62,
           63,
           64,
           65,
           66,
           67,
           68,
           69,
           70,
           71,
           72,
           73,
           74,
           75,
           76,
           77,
           78,
           79,
           80,
           81,
           82,
           83,
           84,
           85,
           86,
           87,
           88,
           89,
           90,
           91,
           92,
           93,
           94,
           95,
           96,
           97,
           98,
           99
          ],
          "colorbar": {
           "title": {
            "text": "Trial"
           },
           "x": 1,
           "xpad": 40
          },
          "colorscale": [
           [
            0,
            "rgb(247,251,255)"
           ],
           [
            0.125,
            "rgb(222,235,247)"
           ],
           [
            0.25,
            "rgb(198,219,239)"
           ],
           [
            0.375,
            "rgb(158,202,225)"
           ],
           [
            0.5,
            "rgb(107,174,214)"
           ],
           [
            0.625,
            "rgb(66,146,198)"
           ],
           [
            0.75,
            "rgb(33,113,181)"
           ],
           [
            0.875,
            "rgb(8,81,156)"
           ],
           [
            1,
            "rgb(8,48,107)"
           ]
          ],
          "line": {
           "color": "Grey",
           "width": 0.5
          },
          "showscale": false
         },
         "mode": "markers",
         "name": "Feasible Trial",
         "showlegend": false,
         "type": "scatter",
         "x": [
          "l2",
          "l1",
          "l1",
          "l1",
          "l2",
          "l2",
          "l2",
          "l1",
          "l1",
          "l2",
          "l1",
          "l2",
          "l2",
          "l1",
          "l2",
          "l1",
          "l1",
          "l2",
          "l2",
          "l1",
          "l1",
          "l1",
          "l2",
          "l2",
          "l1",
          "l2",
          "l1",
          "l2",
          "l1",
          "l2",
          "l2",
          "l1",
          "l1",
          "l2",
          "l2",
          "l2",
          "l1",
          "l2",
          "l1",
          "l2",
          "l2",
          "l1",
          "l2",
          "l1",
          "l1",
          "l1",
          "l1",
          "l2",
          "l2",
          "l1",
          "l1",
          "l1",
          "l2",
          "l1",
          "l2",
          "l1",
          "l1",
          "l1",
          "l1",
          "l1",
          "l1",
          "l1",
          "l1",
          "l1",
          "l1",
          "l1",
          "l1",
          "l2",
          "l1",
          "l1",
          "l2",
          "l2",
          "l1",
          "l2",
          "l1",
          "l2",
          "l1",
          "l1",
          "l2",
          "l2",
          "l1",
          "l1",
          "l1",
          "l1",
          "l2",
          "l1",
          "l1",
          "l1",
          "l1",
          "l1",
          "l1",
          "l1",
          "l2",
          "l1",
          "l2",
          "l1",
          "l1",
          "l2",
          "l1",
          "l1"
         ],
         "xaxis": "x2",
         "y": [
          0.8863343253968253,
          0.5,
          0.9206514550264551,
          0.8483217592592591,
          0.9179150132275133,
          0.8863343253968253,
          0.8863343253968253,
          0.5,
          0.9105737433862433,
          0.8940310846560846,
          0.9185929232804233,
          0.9186094576719578,
          0.9185929232804233,
          0.9185929232804233,
          0.9181299603174603,
          0.9181630291005292,
          0.9185929232804233,
          0.917906746031746,
          0.9185929232804233,
          0.9183614417989417,
          0.9167741402116402,
          0.9185929232804233,
          0.9133597883597883,
          0.9192708333333334,
          0.9179232804232804,
          0.9185929232804233,
          0.9185929232804233,
          0.9195105820105821,
          0.9176835317460318,
          0.918625992063492,
          0.9185929232804233,
          0.9188244047619047,
          0.9185929232804233,
          0.9078538359788361,
          0.9165509259259259,
          0.9185929232804233,
          0.9190393518518519,
          0.9185929232804233,
          0.9185929232804233,
          0.9179232804232804,
          0.886565806878307,
          0.9186177248677249,
          0.9192791005291007,
          0.921329365079365,
          0.9219742063492063,
          0.9231564153439153,
          0.9208664021164022,
          0.8899718915343915,
          0.8863343253968253,
          0.9185929232804233,
          0.9235945767195766,
          0.9135830026455025,
          0.8870205026455025,
          0.9176835317460318,
          0.8920056216931217,
          0.9231316137566136,
          0.9233630952380952,
          0.9235945767195766,
          0.9235945767195766,
          0.9235945767195766,
          0.9235945767195766,
          0.9235945767195766,
          0.9233630952380952,
          0.9233630952380952,
          0.9233630952380952,
          0.9233630952380952,
          0.9233630952380952,
          0.9140542328042327,
          0.9233630952380952,
          0.9229166666666668,
          0.9029017857142858,
          0.9179232804232804,
          0.9233630952380952,
          0.9183614417989417,
          0.9233630952380952,
          0.9101355820105821,
          0.9229166666666668,
          0.9229001322751322,
          0.9185846560846562,
          0.9183614417989417,
          0.9229249338624339,
          0.9231233465608465,
          0.9183614417989417,
          0.9229249338624339,
          0.9186094576719578,
          0.9226686507936506,
          0.9231564153439153,
          0.9231564153439153,
          0.9186011904761905,
          0.9226686507936506,
          0.9233796296296297,
          0.9231564153439153,
          0.9185929232804233,
          0.9231564153439153,
          0.9185929232804233,
          0.9231564153439153,
          0.9231564153439153,
          0.9176917989417989,
          0.9229001322751322,
          0.9231564153439153
         ],
         "yaxis": "y2"
        },
        {
         "marker": {
          "color": [
           0,
           1,
           2,
           3,
           4,
           5,
           6,
           7,
           8,
           9,
           10,
           11,
           12,
           13,
           14,
           15,
           16,
           17,
           18,
           19,
           20,
           21,
           22,
           23,
           24,
           25,
           26,
           27,
           28,
           29,
           30,
           31,
           32,
           33,
           34,
           35,
           36,
           37,
           38,
           39,
           40,
           41,
           42,
           43,
           44,
           45,
           46,
           47,
           48,
           49,
           50,
           51,
           52,
           53,
           54,
           55,
           56,
           57,
           58,
           59,
           60,
           61,
           62,
           63,
           64,
           65,
           66,
           67,
           68,
           69,
           70,
           71,
           72,
           73,
           74,
           75,
           76,
           77,
           78,
           79,
           80,
           81,
           82,
           83,
           84,
           85,
           86,
           87,
           88,
           89,
           90,
           91,
           92,
           93,
           94,
           95,
           96,
           97,
           98,
           99
          ],
          "colorbar": {
           "title": {
            "text": "Trial"
           },
           "x": 1,
           "xpad": 40
          },
          "colorscale": [
           [
            0,
            "rgb(247,251,255)"
           ],
           [
            0.125,
            "rgb(222,235,247)"
           ],
           [
            0.25,
            "rgb(198,219,239)"
           ],
           [
            0.375,
            "rgb(158,202,225)"
           ],
           [
            0.5,
            "rgb(107,174,214)"
           ],
           [
            0.625,
            "rgb(66,146,198)"
           ],
           [
            0.75,
            "rgb(33,113,181)"
           ],
           [
            0.875,
            "rgb(8,81,156)"
           ],
           [
            1,
            "rgb(8,48,107)"
           ]
          ],
          "line": {
           "color": "Grey",
           "width": 0.5
          },
          "showscale": false
         },
         "mode": "markers",
         "name": "Feasible Trial",
         "showlegend": false,
         "type": "scatter",
         "x": [
          "saga",
          "liblinear",
          "liblinear",
          "liblinear",
          "saga",
          "lbfgs",
          "saga",
          "liblinear",
          "lbfgs",
          "liblinear",
          "lbfgs",
          "lbfgs",
          "lbfgs",
          "liblinear",
          "liblinear",
          "saga",
          "saga",
          "lbfgs",
          "saga",
          "liblinear",
          "lbfgs",
          "lbfgs",
          "saga",
          "liblinear",
          "saga",
          "liblinear",
          "saga",
          "saga",
          "lbfgs",
          "lbfgs",
          "saga",
          "liblinear",
          "lbfgs",
          "lbfgs",
          "liblinear",
          "lbfgs",
          "saga",
          "liblinear",
          "liblinear",
          "liblinear",
          "liblinear",
          "lbfgs",
          "saga",
          "liblinear",
          "liblinear",
          "liblinear",
          "liblinear",
          "saga",
          "lbfgs",
          "saga",
          "liblinear",
          "saga",
          "liblinear",
          "saga",
          "lbfgs",
          "liblinear",
          "liblinear",
          "liblinear",
          "liblinear",
          "liblinear",
          "liblinear",
          "liblinear",
          "liblinear",
          "liblinear",
          "liblinear",
          "liblinear",
          "liblinear",
          "lbfgs",
          "liblinear",
          "liblinear",
          "saga",
          "saga",
          "liblinear",
          "lbfgs",
          "liblinear",
          "liblinear",
          "liblinear",
          "liblinear",
          "lbfgs",
          "saga",
          "liblinear",
          "liblinear",
          "lbfgs",
          "liblinear",
          "liblinear",
          "liblinear",
          "liblinear",
          "liblinear",
          "liblinear",
          "liblinear",
          "liblinear",
          "liblinear",
          "saga",
          "liblinear",
          "liblinear",
          "liblinear",
          "liblinear",
          "lbfgs",
          "liblinear",
          "liblinear"
         ],
         "xaxis": "x3",
         "y": [
          0.8863343253968253,
          0.5,
          0.9206514550264551,
          0.8483217592592591,
          0.9179150132275133,
          0.8863343253968253,
          0.8863343253968253,
          0.5,
          0.9105737433862433,
          0.8940310846560846,
          0.9185929232804233,
          0.9186094576719578,
          0.9185929232804233,
          0.9185929232804233,
          0.9181299603174603,
          0.9181630291005292,
          0.9185929232804233,
          0.917906746031746,
          0.9185929232804233,
          0.9183614417989417,
          0.9167741402116402,
          0.9185929232804233,
          0.9133597883597883,
          0.9192708333333334,
          0.9179232804232804,
          0.9185929232804233,
          0.9185929232804233,
          0.9195105820105821,
          0.9176835317460318,
          0.918625992063492,
          0.9185929232804233,
          0.9188244047619047,
          0.9185929232804233,
          0.9078538359788361,
          0.9165509259259259,
          0.9185929232804233,
          0.9190393518518519,
          0.9185929232804233,
          0.9185929232804233,
          0.9179232804232804,
          0.886565806878307,
          0.9186177248677249,
          0.9192791005291007,
          0.921329365079365,
          0.9219742063492063,
          0.9231564153439153,
          0.9208664021164022,
          0.8899718915343915,
          0.8863343253968253,
          0.9185929232804233,
          0.9235945767195766,
          0.9135830026455025,
          0.8870205026455025,
          0.9176835317460318,
          0.8920056216931217,
          0.9231316137566136,
          0.9233630952380952,
          0.9235945767195766,
          0.9235945767195766,
          0.9235945767195766,
          0.9235945767195766,
          0.9235945767195766,
          0.9233630952380952,
          0.9233630952380952,
          0.9233630952380952,
          0.9233630952380952,
          0.9233630952380952,
          0.9140542328042327,
          0.9233630952380952,
          0.9229166666666668,
          0.9029017857142858,
          0.9179232804232804,
          0.9233630952380952,
          0.9183614417989417,
          0.9233630952380952,
          0.9101355820105821,
          0.9229166666666668,
          0.9229001322751322,
          0.9185846560846562,
          0.9183614417989417,
          0.9229249338624339,
          0.9231233465608465,
          0.9183614417989417,
          0.9229249338624339,
          0.9186094576719578,
          0.9226686507936506,
          0.9231564153439153,
          0.9231564153439153,
          0.9186011904761905,
          0.9226686507936506,
          0.9233796296296297,
          0.9231564153439153,
          0.9185929232804233,
          0.9231564153439153,
          0.9185929232804233,
          0.9231564153439153,
          0.9231564153439153,
          0.9176917989417989,
          0.9229001322751322,
          0.9231564153439153
         ],
         "yaxis": "y3"
        }
       ],
       "layout": {
        "template": {
         "data": {
          "bar": [
           {
            "error_x": {
             "color": "#2a3f5f"
            },
            "error_y": {
             "color": "#2a3f5f"
            },
            "marker": {
             "line": {
              "color": "#E5ECF6",
              "width": 0.5
             },
             "pattern": {
              "fillmode": "overlay",
              "size": 10,
              "solidity": 0.2
             }
            },
            "type": "bar"
           }
          ],
          "barpolar": [
           {
            "marker": {
             "line": {
              "color": "#E5ECF6",
              "width": 0.5
             },
             "pattern": {
              "fillmode": "overlay",
              "size": 10,
              "solidity": 0.2
             }
            },
            "type": "barpolar"
           }
          ],
          "carpet": [
           {
            "aaxis": {
             "endlinecolor": "#2a3f5f",
             "gridcolor": "white",
             "linecolor": "white",
             "minorgridcolor": "white",
             "startlinecolor": "#2a3f5f"
            },
            "baxis": {
             "endlinecolor": "#2a3f5f",
             "gridcolor": "white",
             "linecolor": "white",
             "minorgridcolor": "white",
             "startlinecolor": "#2a3f5f"
            },
            "type": "carpet"
           }
          ],
          "choropleth": [
           {
            "colorbar": {
             "outlinewidth": 0,
             "ticks": ""
            },
            "type": "choropleth"
           }
          ],
          "contour": [
           {
            "colorbar": {
             "outlinewidth": 0,
             "ticks": ""
            },
            "colorscale": [
             [
              0,
              "#0d0887"
             ],
             [
              0.1111111111111111,
              "#46039f"
             ],
             [
              0.2222222222222222,
              "#7201a8"
             ],
             [
              0.3333333333333333,
              "#9c179e"
             ],
             [
              0.4444444444444444,
              "#bd3786"
             ],
             [
              0.5555555555555556,
              "#d8576b"
             ],
             [
              0.6666666666666666,
              "#ed7953"
             ],
             [
              0.7777777777777778,
              "#fb9f3a"
             ],
             [
              0.8888888888888888,
              "#fdca26"
             ],
             [
              1,
              "#f0f921"
             ]
            ],
            "type": "contour"
           }
          ],
          "contourcarpet": [
           {
            "colorbar": {
             "outlinewidth": 0,
             "ticks": ""
            },
            "type": "contourcarpet"
           }
          ],
          "heatmap": [
           {
            "colorbar": {
             "outlinewidth": 0,
             "ticks": ""
            },
            "colorscale": [
             [
              0,
              "#0d0887"
             ],
             [
              0.1111111111111111,
              "#46039f"
             ],
             [
              0.2222222222222222,
              "#7201a8"
             ],
             [
              0.3333333333333333,
              "#9c179e"
             ],
             [
              0.4444444444444444,
              "#bd3786"
             ],
             [
              0.5555555555555556,
              "#d8576b"
             ],
             [
              0.6666666666666666,
              "#ed7953"
             ],
             [
              0.7777777777777778,
              "#fb9f3a"
             ],
             [
              0.8888888888888888,
              "#fdca26"
             ],
             [
              1,
              "#f0f921"
             ]
            ],
            "type": "heatmap"
           }
          ],
          "heatmapgl": [
           {
            "colorbar": {
             "outlinewidth": 0,
             "ticks": ""
            },
            "colorscale": [
             [
              0,
              "#0d0887"
             ],
             [
              0.1111111111111111,
              "#46039f"
             ],
             [
              0.2222222222222222,
              "#7201a8"
             ],
             [
              0.3333333333333333,
              "#9c179e"
             ],
             [
              0.4444444444444444,
              "#bd3786"
             ],
             [
              0.5555555555555556,
              "#d8576b"
             ],
             [
              0.6666666666666666,
              "#ed7953"
             ],
             [
              0.7777777777777778,
              "#fb9f3a"
             ],
             [
              0.8888888888888888,
              "#fdca26"
             ],
             [
              1,
              "#f0f921"
             ]
            ],
            "type": "heatmapgl"
           }
          ],
          "histogram": [
           {
            "marker": {
             "pattern": {
              "fillmode": "overlay",
              "size": 10,
              "solidity": 0.2
             }
            },
            "type": "histogram"
           }
          ],
          "histogram2d": [
           {
            "colorbar": {
             "outlinewidth": 0,
             "ticks": ""
            },
            "colorscale": [
             [
              0,
              "#0d0887"
             ],
             [
              0.1111111111111111,
              "#46039f"
             ],
             [
              0.2222222222222222,
              "#7201a8"
             ],
             [
              0.3333333333333333,
              "#9c179e"
             ],
             [
              0.4444444444444444,
              "#bd3786"
             ],
             [
              0.5555555555555556,
              "#d8576b"
             ],
             [
              0.6666666666666666,
              "#ed7953"
             ],
             [
              0.7777777777777778,
              "#fb9f3a"
             ],
             [
              0.8888888888888888,
              "#fdca26"
             ],
             [
              1,
              "#f0f921"
             ]
            ],
            "type": "histogram2d"
           }
          ],
          "histogram2dcontour": [
           {
            "colorbar": {
             "outlinewidth": 0,
             "ticks": ""
            },
            "colorscale": [
             [
              0,
              "#0d0887"
             ],
             [
              0.1111111111111111,
              "#46039f"
             ],
             [
              0.2222222222222222,
              "#7201a8"
             ],
             [
              0.3333333333333333,
              "#9c179e"
             ],
             [
              0.4444444444444444,
              "#bd3786"
             ],
             [
              0.5555555555555556,
              "#d8576b"
             ],
             [
              0.6666666666666666,
              "#ed7953"
             ],
             [
              0.7777777777777778,
              "#fb9f3a"
             ],
             [
              0.8888888888888888,
              "#fdca26"
             ],
             [
              1,
              "#f0f921"
             ]
            ],
            "type": "histogram2dcontour"
           }
          ],
          "mesh3d": [
           {
            "colorbar": {
             "outlinewidth": 0,
             "ticks": ""
            },
            "type": "mesh3d"
           }
          ],
          "parcoords": [
           {
            "line": {
             "colorbar": {
              "outlinewidth": 0,
              "ticks": ""
             }
            },
            "type": "parcoords"
           }
          ],
          "pie": [
           {
            "automargin": true,
            "type": "pie"
           }
          ],
          "scatter": [
           {
            "fillpattern": {
             "fillmode": "overlay",
             "size": 10,
             "solidity": 0.2
            },
            "type": "scatter"
           }
          ],
          "scatter3d": [
           {
            "line": {
             "colorbar": {
              "outlinewidth": 0,
              "ticks": ""
             }
            },
            "marker": {
             "colorbar": {
              "outlinewidth": 0,
              "ticks": ""
             }
            },
            "type": "scatter3d"
           }
          ],
          "scattercarpet": [
           {
            "marker": {
             "colorbar": {
              "outlinewidth": 0,
              "ticks": ""
             }
            },
            "type": "scattercarpet"
           }
          ],
          "scattergeo": [
           {
            "marker": {
             "colorbar": {
              "outlinewidth": 0,
              "ticks": ""
             }
            },
            "type": "scattergeo"
           }
          ],
          "scattergl": [
           {
            "marker": {
             "colorbar": {
              "outlinewidth": 0,
              "ticks": ""
             }
            },
            "type": "scattergl"
           }
          ],
          "scattermapbox": [
           {
            "marker": {
             "colorbar": {
              "outlinewidth": 0,
              "ticks": ""
             }
            },
            "type": "scattermapbox"
           }
          ],
          "scatterpolar": [
           {
            "marker": {
             "colorbar": {
              "outlinewidth": 0,
              "ticks": ""
             }
            },
            "type": "scatterpolar"
           }
          ],
          "scatterpolargl": [
           {
            "marker": {
             "colorbar": {
              "outlinewidth": 0,
              "ticks": ""
             }
            },
            "type": "scatterpolargl"
           }
          ],
          "scatterternary": [
           {
            "marker": {
             "colorbar": {
              "outlinewidth": 0,
              "ticks": ""
             }
            },
            "type": "scatterternary"
           }
          ],
          "surface": [
           {
            "colorbar": {
             "outlinewidth": 0,
             "ticks": ""
            },
            "colorscale": [
             [
              0,
              "#0d0887"
             ],
             [
              0.1111111111111111,
              "#46039f"
             ],
             [
              0.2222222222222222,
              "#7201a8"
             ],
             [
              0.3333333333333333,
              "#9c179e"
             ],
             [
              0.4444444444444444,
              "#bd3786"
             ],
             [
              0.5555555555555556,
              "#d8576b"
             ],
             [
              0.6666666666666666,
              "#ed7953"
             ],
             [
              0.7777777777777778,
              "#fb9f3a"
             ],
             [
              0.8888888888888888,
              "#fdca26"
             ],
             [
              1,
              "#f0f921"
             ]
            ],
            "type": "surface"
           }
          ],
          "table": [
           {
            "cells": {
             "fill": {
              "color": "#EBF0F8"
             },
             "line": {
              "color": "white"
             }
            },
            "header": {
             "fill": {
              "color": "#C8D4E3"
             },
             "line": {
              "color": "white"
             }
            },
            "type": "table"
           }
          ]
         },
         "layout": {
          "annotationdefaults": {
           "arrowcolor": "#2a3f5f",
           "arrowhead": 0,
           "arrowwidth": 1
          },
          "autotypenumbers": "strict",
          "coloraxis": {
           "colorbar": {
            "outlinewidth": 0,
            "ticks": ""
           }
          },
          "colorscale": {
           "diverging": [
            [
             0,
             "#8e0152"
            ],
            [
             0.1,
             "#c51b7d"
            ],
            [
             0.2,
             "#de77ae"
            ],
            [
             0.3,
             "#f1b6da"
            ],
            [
             0.4,
             "#fde0ef"
            ],
            [
             0.5,
             "#f7f7f7"
            ],
            [
             0.6,
             "#e6f5d0"
            ],
            [
             0.7,
             "#b8e186"
            ],
            [
             0.8,
             "#7fbc41"
            ],
            [
             0.9,
             "#4d9221"
            ],
            [
             1,
             "#276419"
            ]
           ],
           "sequential": [
            [
             0,
             "#0d0887"
            ],
            [
             0.1111111111111111,
             "#46039f"
            ],
            [
             0.2222222222222222,
             "#7201a8"
            ],
            [
             0.3333333333333333,
             "#9c179e"
            ],
            [
             0.4444444444444444,
             "#bd3786"
            ],
            [
             0.5555555555555556,
             "#d8576b"
            ],
            [
             0.6666666666666666,
             "#ed7953"
            ],
            [
             0.7777777777777778,
             "#fb9f3a"
            ],
            [
             0.8888888888888888,
             "#fdca26"
            ],
            [
             1,
             "#f0f921"
            ]
           ],
           "sequentialminus": [
            [
             0,
             "#0d0887"
            ],
            [
             0.1111111111111111,
             "#46039f"
            ],
            [
             0.2222222222222222,
             "#7201a8"
            ],
            [
             0.3333333333333333,
             "#9c179e"
            ],
            [
             0.4444444444444444,
             "#bd3786"
            ],
            [
             0.5555555555555556,
             "#d8576b"
            ],
            [
             0.6666666666666666,
             "#ed7953"
            ],
            [
             0.7777777777777778,
             "#fb9f3a"
            ],
            [
             0.8888888888888888,
             "#fdca26"
            ],
            [
             1,
             "#f0f921"
            ]
           ]
          },
          "colorway": [
           "#636efa",
           "#EF553B",
           "#00cc96",
           "#ab63fa",
           "#FFA15A",
           "#19d3f3",
           "#FF6692",
           "#B6E880",
           "#FF97FF",
           "#FECB52"
          ],
          "font": {
           "color": "#2a3f5f"
          },
          "geo": {
           "bgcolor": "white",
           "lakecolor": "white",
           "landcolor": "#E5ECF6",
           "showlakes": true,
           "showland": true,
           "subunitcolor": "white"
          },
          "hoverlabel": {
           "align": "left"
          },
          "hovermode": "closest",
          "mapbox": {
           "style": "light"
          },
          "paper_bgcolor": "white",
          "plot_bgcolor": "#E5ECF6",
          "polar": {
           "angularaxis": {
            "gridcolor": "white",
            "linecolor": "white",
            "ticks": ""
           },
           "bgcolor": "#E5ECF6",
           "radialaxis": {
            "gridcolor": "white",
            "linecolor": "white",
            "ticks": ""
           }
          },
          "scene": {
           "xaxis": {
            "backgroundcolor": "#E5ECF6",
            "gridcolor": "white",
            "gridwidth": 2,
            "linecolor": "white",
            "showbackground": true,
            "ticks": "",
            "zerolinecolor": "white"
           },
           "yaxis": {
            "backgroundcolor": "#E5ECF6",
            "gridcolor": "white",
            "gridwidth": 2,
            "linecolor": "white",
            "showbackground": true,
            "ticks": "",
            "zerolinecolor": "white"
           },
           "zaxis": {
            "backgroundcolor": "#E5ECF6",
            "gridcolor": "white",
            "gridwidth": 2,
            "linecolor": "white",
            "showbackground": true,
            "ticks": "",
            "zerolinecolor": "white"
           }
          },
          "shapedefaults": {
           "line": {
            "color": "#2a3f5f"
           }
          },
          "ternary": {
           "aaxis": {
            "gridcolor": "white",
            "linecolor": "white",
            "ticks": ""
           },
           "baxis": {
            "gridcolor": "white",
            "linecolor": "white",
            "ticks": ""
           },
           "bgcolor": "#E5ECF6",
           "caxis": {
            "gridcolor": "white",
            "linecolor": "white",
            "ticks": ""
           }
          },
          "title": {
           "x": 0.05
          },
          "xaxis": {
           "automargin": true,
           "gridcolor": "white",
           "linecolor": "white",
           "ticks": "",
           "title": {
            "standoff": 15
           },
           "zerolinecolor": "white",
           "zerolinewidth": 2
          },
          "yaxis": {
           "automargin": true,
           "gridcolor": "white",
           "linecolor": "white",
           "ticks": "",
           "title": {
            "standoff": 15
           },
           "zerolinecolor": "white",
           "zerolinewidth": 2
          }
         }
        },
        "title": {
         "text": "Slice Plot"
        },
        "xaxis": {
         "anchor": "y",
         "domain": [
          0,
          0.2888888888888889
         ],
         "title": {
          "text": "C"
         },
         "type": "log"
        },
        "xaxis2": {
         "anchor": "y2",
         "categoryarray": [
          "l1",
          "l2"
         ],
         "categoryorder": "array",
         "domain": [
          0.35555555555555557,
          0.6444444444444445
         ],
         "title": {
          "text": "penalty"
         },
         "type": "category"
        },
        "xaxis3": {
         "anchor": "y3",
         "categoryarray": [
          "liblinear",
          "lbfgs",
          "saga"
         ],
         "categoryorder": "array",
         "domain": [
          0.7111111111111111,
          1
         ],
         "title": {
          "text": "solver"
         },
         "type": "category"
        },
        "yaxis": {
         "anchor": "x",
         "domain": [
          0,
          1
         ],
         "title": {
          "text": "Objective Value"
         }
        },
        "yaxis2": {
         "anchor": "x2",
         "domain": [
          0,
          1
         ],
         "matches": "y",
         "showticklabels": false
        },
        "yaxis3": {
         "anchor": "x3",
         "domain": [
          0,
          1
         ],
         "matches": "y",
         "showticklabels": false
        }
       }
      }
     },
     "metadata": {},
     "output_type": "display_data"
    }
   ],
   "source": [
    "optuna.visualization.plot_slice(study)"
   ]
  },
  {
   "cell_type": "code",
   "execution_count": 8,
   "metadata": {},
   "outputs": [
    {
     "name": "stdout",
     "output_type": "stream",
     "text": [
      "Accuracy: 0.8416\n",
      "AUC-ROC: 0.9236\n"
     ]
    }
   ],
   "source": [
    "# Criando um modelo com os melhores hiperparâmetros\n",
    "best_params = trial.params\n",
    "model = LogisticRegression(random_state=Random_Seed, **best_params)\n",
    "\n",
    "if Cross_Validation:\n",
    "    cv_results = cross_validate(model, X, y, scoring=['accuracy', 'roc_auc'])\n",
    "    acc = cv_results['test_accuracy'].mean()\n",
    "    roc_auc = cv_results['test_roc_auc'].mean()\n",
    "else:\n",
    "    # Train model\n",
    "    model.fit(train_X, train_y)\n",
    "\n",
    "    # Test model\n",
    "    y_pred = model.predict(test_X)\n",
    "    pred_probs = model.predict_proba(test_X)\n",
    "\n",
    "    # Evaluation\n",
    "    acc = accuracy_score(test_y, y_pred)\n",
    "    roc_auc = roc_auc_score(test_y, pred_probs[:, 1])\n",
    "\n",
    "print(f\"Accuracy: {acc:.4f}\")\n",
    "print(f\"AUC-ROC: {roc_auc:.4f}\")"
   ]
  },
  {
   "attachments": {},
   "cell_type": "markdown",
   "metadata": {},
   "source": [
    "<hr>\n",
    "\n",
    "## Decision Tree:"
   ]
  },
  {
   "cell_type": "code",
   "execution_count": 9,
   "metadata": {},
   "outputs": [
    {
     "name": "stdout",
     "output_type": "stream",
     "text": [
      "Accuracy: 0.7477\n",
      "AUC-ROC: 0.7434\n"
     ]
    },
    {
     "data": {
      "image/png": "[encoded data removed]",
      "text/plain": [
       "<Figure size 640x480 with 1 Axes>"
      ]
     },
     "metadata": {},
     "output_type": "display_data"
    }
   ],
   "source": [
    "# ---------------------------------------------------------------------------- #\n",
    "#                                     MODEL                                    #\n",
    "# ---------------------------------------------------------------------------- #\n",
    "\n",
    "# Create model\n",
    "model = tree.DecisionTreeClassifier(random_state=Random_Seed)\n",
    "\n",
    "if Cross_Validation:\n",
    "    cv_results = cross_validate(model, X, y, scoring=['accuracy', 'roc_auc'])\n",
    "    acc = cv_results['test_accuracy'].mean()\n",
    "    roc_auc = cv_results['test_roc_auc'].mean()\n",
    "else:\n",
    "    # Train model\n",
    "    model.fit(train_X, train_y)\n",
    "\n",
    "    # Test model\n",
    "    y_pred = model.predict(test_X)\n",
    "    pred_probs = model.predict_proba(test_X)\n",
    "\n",
    "    # Evaluation\n",
    "    acc = accuracy_score(test_y, y_pred)\n",
    "    roc_auc = roc_auc_score(test_y, pred_probs[:, 1])\n",
    "\n",
    "print(f\"Accuracy: {acc:.4f}\")\n",
    "print(f\"AUC-ROC: {roc_auc:.4f}\")\n",
    "\n",
    "model.fit(X, y)\n",
    "plot = tree.plot_tree(model)"
   ]
  },
  {
   "cell_type": "code",
   "execution_count": 10,
   "metadata": {},
   "outputs": [
    {
     "name": "stderr",
     "output_type": "stream",
     "text": [
      "/tmp/ipykernel_15378/3000755595.py:24: ExperimentalWarning:\n",
      "\n",
      "GPSampler is experimental (supported from v3.6.0). The interface can change in the future.\n",
      "\n",
      "[I 2024-10-21 17:57:02,980] A new study created in memory with name: no-name-f2c1065d-a1db-41a9-b592-6282f9045b66\n",
      "[I 2024-10-21 17:57:03,009] Trial 0 finished with value: 0.8259300595238095 and parameters: {'max_depth': 7, 'min_samples_split': 11, 'min_samples_leaf': 10, 'criterion': 'entropy'}. Best is trial 0 with value: 0.8259300595238095.\n",
      "[I 2024-10-21 17:57:03,024] Trial 1 finished with value: 0.8193163029100529 and parameters: {'max_depth': 9, 'min_samples_split': 8, 'min_samples_leaf': 18, 'criterion': 'gini'}. Best is trial 0 with value: 0.8259300595238095.\n",
      "[I 2024-10-21 17:57:03,039] Trial 2 finished with value: 0.8148892195767197 and parameters: {'max_depth': 31, 'min_samples_split': 11, 'min_samples_leaf': 19, 'criterion': 'gini'}. Best is trial 0 with value: 0.8259300595238095.\n",
      "[I 2024-10-21 17:57:03,053] Trial 3 finished with value: 0.8319444444444445 and parameters: {'max_depth': 13, 'min_samples_split': 6, 'min_samples_leaf': 14, 'criterion': 'gini'}. Best is trial 3 with value: 0.8319444444444445.\n",
      "[I 2024-10-21 17:57:03,072] Trial 4 finished with value: 0.8241650132275133 and parameters: {'max_depth': 10, 'min_samples_split': 17, 'min_samples_leaf': 8, 'criterion': 'gini'}. Best is trial 3 with value: 0.8319444444444445.\n",
      "[I 2024-10-21 17:57:03,089] Trial 5 finished with value: 0.8118262235449736 and parameters: {'max_depth': 8, 'min_samples_split': 16, 'min_samples_leaf': 18, 'criterion': 'entropy'}. Best is trial 3 with value: 0.8319444444444445.\n",
      "[I 2024-10-21 17:57:03,105] Trial 6 finished with value: 0.8330935846560846 and parameters: {'max_depth': 15, 'min_samples_split': 11, 'min_samples_leaf': 10, 'criterion': 'gini'}. Best is trial 6 with value: 0.8330935846560846.\n",
      "[I 2024-10-21 17:57:03,123] Trial 7 finished with value: 0.8339575066137567 and parameters: {'max_depth': 30, 'min_samples_split': 18, 'min_samples_leaf': 8, 'criterion': 'gini'}. Best is trial 7 with value: 0.8339575066137567.\n",
      "[I 2024-10-21 17:57:03,138] Trial 8 finished with value: 0.8146453373015874 and parameters: {'max_depth': 21, 'min_samples_split': 18, 'min_samples_leaf': 20, 'criterion': 'gini'}. Best is trial 7 with value: 0.8339575066137567.\n",
      "[I 2024-10-21 17:57:03,156] Trial 9 finished with value: 0.808428406084656 and parameters: {'max_depth': 9, 'min_samples_split': 20, 'min_samples_leaf': 15, 'criterion': 'entropy'}. Best is trial 7 with value: 0.8339575066137567.\n",
      "[I 2024-10-21 17:57:03,556] Trial 10 finished with value: 0.8317336309523811 and parameters: {'max_depth': 23, 'min_samples_split': 4, 'min_samples_leaf': 9, 'criterion': 'gini'}. Best is trial 7 with value: 0.8339575066137567.\n",
      "[I 2024-10-21 17:57:03,816] Trial 11 finished with value: 0.818051421957672 and parameters: {'max_depth': 32, 'min_samples_split': 13, 'min_samples_leaf': 7, 'criterion': 'gini'}. Best is trial 7 with value: 0.8339575066137567.\n",
      "[I 2024-10-21 17:57:04,096] Trial 12 finished with value: 0.83036541005291 and parameters: {'max_depth': 14, 'min_samples_split': 6, 'min_samples_leaf': 8, 'criterion': 'gini'}. Best is trial 7 with value: 0.8339575066137567.\n",
      "[I 2024-10-21 17:57:04,349] Trial 13 finished with value: 0.8219122023809524 and parameters: {'max_depth': 29, 'min_samples_split': 20, 'min_samples_leaf': 7, 'criterion': 'gini'}. Best is trial 7 with value: 0.8339575066137567.\n",
      "[I 2024-10-21 17:57:04,625] Trial 14 finished with value: 0.8295593584656084 and parameters: {'max_depth': 14, 'min_samples_split': 2, 'min_samples_leaf': 13, 'criterion': 'gini'}. Best is trial 7 with value: 0.8339575066137567.\n",
      "[I 2024-10-21 17:57:04,853] Trial 15 finished with value: 0.8311879960317461 and parameters: {'max_depth': 32, 'min_samples_split': 17, 'min_samples_leaf': 10, 'criterion': 'gini'}. Best is trial 7 with value: 0.8339575066137567.\n",
      "[I 2024-10-21 17:57:05,134] Trial 16 finished with value: 0.8192212301587303 and parameters: {'max_depth': 8, 'min_samples_split': 11, 'min_samples_leaf': 6, 'criterion': 'gini'}. Best is trial 7 with value: 0.8339575066137567.\n",
      "[I 2024-10-21 17:57:05,404] Trial 17 finished with value: 0.8356977513227515 and parameters: {'max_depth': 14, 'min_samples_split': 8, 'min_samples_leaf': 11, 'criterion': 'gini'}. Best is trial 17 with value: 0.8356977513227515.\n",
      "[I 2024-10-21 17:57:05,618] Trial 18 finished with value: 0.7282076719576719 and parameters: {'max_depth': 1, 'min_samples_split': 2, 'min_samples_leaf': 11, 'criterion': 'gini'}. Best is trial 17 with value: 0.8356977513227515.\n",
      "[I 2024-10-21 17:57:05,848] Trial 19 finished with value: 0.8140087632275133 and parameters: {'max_depth': 18, 'min_samples_split': 3, 'min_samples_leaf': 20, 'criterion': 'entropy'}. Best is trial 17 with value: 0.8356977513227515.\n",
      "[I 2024-10-21 17:57:06,082] Trial 20 finished with value: 0.8166873346560847 and parameters: {'max_depth': 18, 'min_samples_split': 5, 'min_samples_leaf': 20, 'criterion': 'gini'}. Best is trial 17 with value: 0.8356977513227515.\n",
      "[I 2024-10-21 17:57:06,382] Trial 21 finished with value: 0.7714368386243385 and parameters: {'max_depth': 12, 'min_samples_split': 10, 'min_samples_leaf': 1, 'criterion': 'entropy'}. Best is trial 17 with value: 0.8356977513227515.\n",
      "[I 2024-10-21 17:57:06,658] Trial 22 finished with value: 0.8015542328042328 and parameters: {'max_depth': 2, 'min_samples_split': 11, 'min_samples_leaf': 6, 'criterion': 'entropy'}. Best is trial 17 with value: 0.8356977513227515.\n",
      "[I 2024-10-21 17:57:06,909] Trial 23 finished with value: 0.8133928571428571 and parameters: {'max_depth': 25, 'min_samples_split': 2, 'min_samples_leaf': 20, 'criterion': 'entropy'}. Best is trial 17 with value: 0.8356977513227515.\n",
      "[I 2024-10-21 17:57:07,213] Trial 24 finished with value: 0.7822007275132276 and parameters: {'max_depth': 32, 'min_samples_split': 20, 'min_samples_leaf': 1, 'criterion': 'entropy'}. Best is trial 17 with value: 0.8356977513227515.\n",
      "[I 2024-10-21 17:57:07,477] Trial 25 finished with value: 0.7308862433862433 and parameters: {'max_depth': 26, 'min_samples_split': 2, 'min_samples_leaf': 1, 'criterion': 'gini'}. Best is trial 17 with value: 0.8356977513227515.\n",
      "[I 2024-10-21 17:57:07,845] Trial 26 finished with value: 0.8272569444444444 and parameters: {'max_depth': 14, 'min_samples_split': 9, 'min_samples_leaf': 10, 'criterion': 'entropy'}. Best is trial 17 with value: 0.8356977513227515.\n",
      "[I 2024-10-21 17:57:08,216] Trial 27 finished with value: 0.8300595238095237 and parameters: {'max_depth': 26, 'min_samples_split': 20, 'min_samples_leaf': 11, 'criterion': 'gini'}. Best is trial 17 with value: 0.8356977513227515.\n",
      "[I 2024-10-21 17:57:08,512] Trial 28 finished with value: 0.8278356481481481 and parameters: {'max_depth': 31, 'min_samples_split': 20, 'min_samples_leaf': 10, 'criterion': 'entropy'}. Best is trial 17 with value: 0.8356977513227515.\n",
      "[I 2024-10-21 17:57:08,880] Trial 29 finished with value: 0.8315352182539681 and parameters: {'max_depth': 28, 'min_samples_split': 2, 'min_samples_leaf': 10, 'criterion': 'gini'}. Best is trial 17 with value: 0.8356977513227515.\n",
      "[I 2024-10-21 17:57:09,190] Trial 30 finished with value: 0.830716765873016 and parameters: {'max_depth': 16, 'min_samples_split': 20, 'min_samples_leaf': 14, 'criterion': 'gini'}. Best is trial 17 with value: 0.8356977513227515.\n",
      "[I 2024-10-21 17:57:09,489] Trial 31 finished with value: 0.8264963624338624 and parameters: {'max_depth': 10, 'min_samples_split': 20, 'min_samples_leaf': 8, 'criterion': 'entropy'}. Best is trial 17 with value: 0.8356977513227515.\n",
      "[I 2024-10-21 17:57:09,721] Trial 32 finished with value: 0.8308077050264551 and parameters: {'max_depth': 28, 'min_samples_split': 20, 'min_samples_leaf': 9, 'criterion': 'gini'}. Best is trial 17 with value: 0.8356977513227515.\n",
      "[I 2024-10-21 17:57:10,041] Trial 33 finished with value: 0.820271164021164 and parameters: {'max_depth': 22, 'min_samples_split': 2, 'min_samples_leaf': 12, 'criterion': 'gini'}. Best is trial 17 with value: 0.8356977513227515.\n",
      "[I 2024-10-21 17:57:10,272] Trial 34 finished with value: 0.812016369047619 and parameters: {'max_depth': 32, 'min_samples_split': 20, 'min_samples_leaf': 15, 'criterion': 'entropy'}. Best is trial 17 with value: 0.8356977513227515.\n",
      "[I 2024-10-21 17:57:10,520] Trial 35 finished with value: 0.8319113756613756 and parameters: {'max_depth': 10, 'min_samples_split': 2, 'min_samples_leaf': 9, 'criterion': 'entropy'}. Best is trial 17 with value: 0.8356977513227515.\n",
      "[I 2024-10-21 17:57:10,817] Trial 36 finished with value: 0.8212880291005289 and parameters: {'max_depth': 14, 'min_samples_split': 20, 'min_samples_leaf': 12, 'criterion': 'gini'}. Best is trial 17 with value: 0.8356977513227515.\n",
      "[I 2024-10-21 17:57:11,138] Trial 37 finished with value: 0.8300553902116402 and parameters: {'max_depth': 28, 'min_samples_split': 11, 'min_samples_leaf': 10, 'criterion': 'gini'}. Best is trial 17 with value: 0.8356977513227515.\n",
      "[I 2024-10-21 17:57:11,417] Trial 38 finished with value: 0.8211598875661374 and parameters: {'max_depth': 14, 'min_samples_split': 20, 'min_samples_leaf': 18, 'criterion': 'gini'}. Best is trial 17 with value: 0.8356977513227515.\n",
      "[I 2024-10-21 17:57:11,663] Trial 39 finished with value: 0.8240988756613756 and parameters: {'max_depth': 14, 'min_samples_split': 2, 'min_samples_leaf': 10, 'criterion': 'gini'}. Best is trial 17 with value: 0.8356977513227515.\n",
      "[I 2024-10-21 17:57:11,933] Trial 40 finished with value: 0.8305762235449734 and parameters: {'max_depth': 32, 'min_samples_split': 2, 'min_samples_leaf': 10, 'criterion': 'entropy'}. Best is trial 17 with value: 0.8356977513227515.\n",
      "[I 2024-10-21 17:57:12,220] Trial 41 finished with value: 0.826727843915344 and parameters: {'max_depth': 10, 'min_samples_split': 9, 'min_samples_leaf': 8, 'criterion': 'entropy'}. Best is trial 17 with value: 0.8356977513227515.\n",
      "[I 2024-10-21 17:57:12,477] Trial 42 finished with value: 0.8321965939153438 and parameters: {'max_depth': 18, 'min_samples_split': 20, 'min_samples_leaf': 9, 'criterion': 'gini'}. Best is trial 17 with value: 0.8356977513227515.\n",
      "[I 2024-10-21 17:57:12,795] Trial 43 finished with value: 0.8293402777777776 and parameters: {'max_depth': 25, 'min_samples_split': 2, 'min_samples_leaf': 9, 'criterion': 'entropy'}. Best is trial 17 with value: 0.8356977513227515.\n",
      "[I 2024-10-21 17:57:13,065] Trial 44 finished with value: 0.8296461640211641 and parameters: {'max_depth': 16, 'min_samples_split': 2, 'min_samples_leaf': 16, 'criterion': 'gini'}. Best is trial 17 with value: 0.8356977513227515.\n",
      "[I 2024-10-21 17:57:13,358] Trial 45 finished with value: 0.8256572420634921 and parameters: {'max_depth': 32, 'min_samples_split': 2, 'min_samples_leaf': 8, 'criterion': 'entropy'}. Best is trial 17 with value: 0.8356977513227515.\n",
      "[I 2024-10-21 17:57:13,619] Trial 46 finished with value: 0.8263392857142857 and parameters: {'max_depth': 17, 'min_samples_split': 2, 'min_samples_leaf': 14, 'criterion': 'entropy'}. Best is trial 17 with value: 0.8356977513227515.\n",
      "[I 2024-10-21 17:57:13,880] Trial 47 finished with value: 0.7188326719576719 and parameters: {'max_depth': 1, 'min_samples_split': 2, 'min_samples_leaf': 20, 'criterion': 'entropy'}. Best is trial 17 with value: 0.8356977513227515.\n",
      "[I 2024-10-21 17:57:14,154] Trial 48 finished with value: 0.8317460317460318 and parameters: {'max_depth': 22, 'min_samples_split': 20, 'min_samples_leaf': 10, 'criterion': 'entropy'}. Best is trial 17 with value: 0.8356977513227515.\n",
      "[I 2024-10-21 17:57:14,441] Trial 49 finished with value: 0.81640625 and parameters: {'max_depth': 12, 'min_samples_split': 2, 'min_samples_leaf': 17, 'criterion': 'entropy'}. Best is trial 17 with value: 0.8356977513227515.\n",
      "[I 2024-10-21 17:57:14,662] Trial 50 finished with value: 0.7188326719576719 and parameters: {'max_depth': 1, 'min_samples_split': 20, 'min_samples_leaf': 1, 'criterion': 'entropy'}. Best is trial 17 with value: 0.8356977513227515.\n",
      "[I 2024-10-21 17:57:15,053] Trial 51 finished with value: 0.8308035714285713 and parameters: {'max_depth': 22, 'min_samples_split': 18, 'min_samples_leaf': 9, 'criterion': 'gini'}. Best is trial 17 with value: 0.8356977513227515.\n",
      "[I 2024-10-21 17:57:15,332] Trial 52 finished with value: 0.8293278769841269 and parameters: {'max_depth': 32, 'min_samples_split': 2, 'min_samples_leaf': 13, 'criterion': 'gini'}. Best is trial 17 with value: 0.8356977513227515.\n",
      "[I 2024-10-21 17:57:15,661] Trial 53 finished with value: 0.8337508267195768 and parameters: {'max_depth': 19, 'min_samples_split': 15, 'min_samples_leaf': 11, 'criterion': 'gini'}. Best is trial 17 with value: 0.8356977513227515.\n",
      "[I 2024-10-21 17:57:16,066] Trial 54 finished with value: 0.8355324074074074 and parameters: {'max_depth': 16, 'min_samples_split': 10, 'min_samples_leaf': 14, 'criterion': 'gini'}. Best is trial 17 with value: 0.8356977513227515.\n",
      "[I 2024-10-21 17:57:16,337] Trial 55 finished with value: 0.824855324074074 and parameters: {'max_depth': 32, 'min_samples_split': 2, 'min_samples_leaf': 10, 'criterion': 'gini'}. Best is trial 17 with value: 0.8356977513227515.\n",
      "[I 2024-10-21 17:57:16,576] Trial 56 finished with value: 0.806394675925926 and parameters: {'max_depth': 32, 'min_samples_split': 2, 'min_samples_leaf': 20, 'criterion': 'entropy'}. Best is trial 17 with value: 0.8356977513227515.\n",
      "[I 2024-10-21 17:57:16,863] Trial 57 finished with value: 0.8343171296296296 and parameters: {'max_depth': 27, 'min_samples_split': 13, 'min_samples_leaf': 9, 'criterion': 'entropy'}. Best is trial 17 with value: 0.8356977513227515.\n",
      "[I 2024-10-21 17:57:17,214] Trial 58 finished with value: 0.8243055555555555 and parameters: {'max_depth': 28, 'min_samples_split': 2, 'min_samples_leaf': 11, 'criterion': 'entropy'}. Best is trial 17 with value: 0.8356977513227515.\n",
      "[I 2024-10-21 17:57:17,489] Trial 59 finished with value: 0.8270171957671957 and parameters: {'max_depth': 21, 'min_samples_split': 13, 'min_samples_leaf': 8, 'criterion': 'entropy'}. Best is trial 17 with value: 0.8356977513227515.\n",
      "[I 2024-10-21 17:57:17,745] Trial 60 finished with value: 0.8267650462962962 and parameters: {'max_depth': 17, 'min_samples_split': 11, 'min_samples_leaf': 13, 'criterion': 'gini'}. Best is trial 17 with value: 0.8356977513227515.\n",
      "[I 2024-10-21 17:57:18,033] Trial 61 finished with value: 0.8311590608465608 and parameters: {'max_depth': 26, 'min_samples_split': 20, 'min_samples_leaf': 9, 'criterion': 'entropy'}. Best is trial 17 with value: 0.8356977513227515.\n",
      "[I 2024-10-21 17:57:18,340] Trial 62 finished with value: 0.8289393187830688 and parameters: {'max_depth': 19, 'min_samples_split': 9, 'min_samples_leaf': 9, 'criterion': 'gini'}. Best is trial 17 with value: 0.8356977513227515.\n",
      "[I 2024-10-21 17:57:18,675] Trial 63 finished with value: 0.8256283068783068 and parameters: {'max_depth': 32, 'min_samples_split': 20, 'min_samples_leaf': 8, 'criterion': 'entropy'}. Best is trial 17 with value: 0.8356977513227515.\n",
      "[I 2024-10-21 17:57:19,108] Trial 64 finished with value: 0.825934193121693 and parameters: {'max_depth': 8, 'min_samples_split': 2, 'min_samples_leaf': 7, 'criterion': 'entropy'}. Best is trial 17 with value: 0.8356977513227515.\n",
      "[I 2024-10-21 17:57:19,379] Trial 65 finished with value: 0.8290674603174603 and parameters: {'max_depth': 22, 'min_samples_split': 20, 'min_samples_leaf': 15, 'criterion': 'gini'}. Best is trial 17 with value: 0.8356977513227515.\n",
      "[I 2024-10-21 17:57:19,666] Trial 66 finished with value: 0.8106274801587302 and parameters: {'max_depth': 19, 'min_samples_split': 20, 'min_samples_leaf': 15, 'criterion': 'entropy'}. Best is trial 17 with value: 0.8356977513227515.\n",
      "[I 2024-10-21 17:57:19,972] Trial 67 finished with value: 0.8300801917989418 and parameters: {'max_depth': 21, 'min_samples_split': 20, 'min_samples_leaf': 11, 'criterion': 'gini'}. Best is trial 17 with value: 0.8356977513227515.\n",
      "[I 2024-10-21 17:57:20,246] Trial 68 finished with value: 0.8306010251322752 and parameters: {'max_depth': 32, 'min_samples_split': 20, 'min_samples_leaf': 13, 'criterion': 'gini'}. Best is trial 17 with value: 0.8356977513227515.\n",
      "[I 2024-10-21 17:57:20,559] Trial 69 finished with value: 0.8287987764550264 and parameters: {'max_depth': 27, 'min_samples_split': 2, 'min_samples_leaf': 16, 'criterion': 'gini'}. Best is trial 17 with value: 0.8356977513227515.\n",
      "[I 2024-10-21 17:57:20,832] Trial 70 finished with value: 0.8252438822751322 and parameters: {'max_depth': 28, 'min_samples_split': 20, 'min_samples_leaf': 15, 'criterion': 'gini'}. Best is trial 17 with value: 0.8356977513227515.\n",
      "[I 2024-10-21 17:57:21,079] Trial 71 finished with value: 0.8256448412698413 and parameters: {'max_depth': 14, 'min_samples_split': 9, 'min_samples_leaf': 15, 'criterion': 'gini'}. Best is trial 17 with value: 0.8356977513227515.\n",
      "[I 2024-10-21 17:57:21,314] Trial 72 finished with value: 0.8303902116402115 and parameters: {'max_depth': 22, 'min_samples_split': 2, 'min_samples_leaf': 17, 'criterion': 'gini'}. Best is trial 17 with value: 0.8356977513227515.\n",
      "[I 2024-10-21 17:57:21,614] Trial 73 finished with value: 0.8305018187830688 and parameters: {'max_depth': 25, 'min_samples_split': 20, 'min_samples_leaf': 9, 'criterion': 'gini'}. Best is trial 17 with value: 0.8356977513227515.\n",
      "[I 2024-10-21 17:57:21,856] Trial 74 finished with value: 0.8148974867724867 and parameters: {'max_depth': 11, 'min_samples_split': 20, 'min_samples_leaf': 20, 'criterion': 'gini'}. Best is trial 17 with value: 0.8356977513227515.\n",
      "[I 2024-10-21 17:57:22,084] Trial 75 finished with value: 0.8220238095238095 and parameters: {'max_depth': 30, 'min_samples_split': 20, 'min_samples_leaf': 10, 'criterion': 'gini'}. Best is trial 17 with value: 0.8356977513227515.\n",
      "[I 2024-10-21 17:57:22,400] Trial 76 finished with value: 0.8284887566137566 and parameters: {'max_depth': 32, 'min_samples_split': 2, 'min_samples_leaf': 16, 'criterion': 'gini'}. Best is trial 17 with value: 0.8356977513227515.\n",
      "[I 2024-10-21 17:57:22,650] Trial 77 finished with value: 0.8279431216931217 and parameters: {'max_depth': 26, 'min_samples_split': 20, 'min_samples_leaf': 8, 'criterion': 'entropy'}. Best is trial 17 with value: 0.8356977513227515.\n",
      "[I 2024-10-21 17:57:22,942] Trial 78 finished with value: 0.8334904100529099 and parameters: {'max_depth': 12, 'min_samples_split': 2, 'min_samples_leaf': 12, 'criterion': 'entropy'}. Best is trial 17 with value: 0.8356977513227515.\n",
      "[I 2024-10-21 17:57:23,213] Trial 79 finished with value: 0.821875 and parameters: {'max_depth': 11, 'min_samples_split': 2, 'min_samples_leaf': 11, 'criterion': 'entropy'}. Best is trial 17 with value: 0.8356977513227515.\n",
      "[I 2024-10-21 17:57:23,452] Trial 80 finished with value: 0.8318080357142856 and parameters: {'max_depth': 16, 'min_samples_split': 20, 'min_samples_leaf': 8, 'criterion': 'gini'}. Best is trial 17 with value: 0.8356977513227515.\n",
      "[I 2024-10-21 17:57:23,742] Trial 81 finished with value: 0.8308449074074075 and parameters: {'max_depth': 18, 'min_samples_split': 2, 'min_samples_leaf': 10, 'criterion': 'entropy'}. Best is trial 17 with value: 0.8356977513227515.\n",
      "[I 2024-10-21 17:57:24,044] Trial 82 finished with value: 0.8232556216931217 and parameters: {'max_depth': 18, 'min_samples_split': 20, 'min_samples_leaf': 9, 'criterion': 'entropy'}. Best is trial 17 with value: 0.8356977513227515.\n",
      "[I 2024-10-21 17:57:24,300] Trial 83 finished with value: 0.8282531415343914 and parameters: {'max_depth': 18, 'min_samples_split': 2, 'min_samples_leaf': 15, 'criterion': 'gini'}. Best is trial 17 with value: 0.8356977513227515.\n",
      "[I 2024-10-21 17:57:24,564] Trial 84 finished with value: 0.8299727182539682 and parameters: {'max_depth': 24, 'min_samples_split': 11, 'min_samples_leaf': 10, 'criterion': 'entropy'}. Best is trial 17 with value: 0.8356977513227515.\n",
      "[I 2024-10-21 17:57:24,836] Trial 85 finished with value: 0.8213128306878307 and parameters: {'max_depth': 14, 'min_samples_split': 2, 'min_samples_leaf': 7, 'criterion': 'entropy'}. Best is trial 17 with value: 0.8356977513227515.\n",
      "[I 2024-10-21 17:57:25,078] Trial 86 finished with value: 0.8301876653439153 and parameters: {'max_depth': 18, 'min_samples_split': 20, 'min_samples_leaf': 10, 'criterion': 'gini'}. Best is trial 17 with value: 0.8356977513227515.\n",
      "[I 2024-10-21 17:57:25,384] Trial 87 finished with value: 0.832473544973545 and parameters: {'max_depth': 14, 'min_samples_split': 20, 'min_samples_leaf': 6, 'criterion': 'gini'}. Best is trial 17 with value: 0.8356977513227515.\n",
      "[I 2024-10-21 17:57:25,656] Trial 88 finished with value: 0.8280092592592594 and parameters: {'max_depth': 14, 'min_samples_split': 20, 'min_samples_leaf': 7, 'criterion': 'gini'}. Best is trial 17 with value: 0.8356977513227515.\n",
      "[I 2024-10-21 17:57:25,926] Trial 89 finished with value: 0.8289434523809524 and parameters: {'max_depth': 19, 'min_samples_split': 20, 'min_samples_leaf': 7, 'criterion': 'gini'}. Best is trial 17 with value: 0.8356977513227515.\n",
      "[I 2024-10-21 17:57:26,224] Trial 90 finished with value: 0.830324074074074 and parameters: {'max_depth': 28, 'min_samples_split': 9, 'min_samples_leaf': 9, 'criterion': 'entropy'}. Best is trial 17 with value: 0.8356977513227515.\n",
      "[I 2024-10-21 17:57:26,538] Trial 91 finished with value: 0.8314814814814813 and parameters: {'max_depth': 15, 'min_samples_split': 2, 'min_samples_leaf': 12, 'criterion': 'entropy'}. Best is trial 17 with value: 0.8356977513227515.\n",
      "[I 2024-10-21 17:57:26,877] Trial 92 finished with value: 0.8275669642857142 and parameters: {'max_depth': 25, 'min_samples_split': 12, 'min_samples_leaf': 9, 'criterion': 'gini'}. Best is trial 17 with value: 0.8356977513227515.\n",
      "[I 2024-10-21 17:57:27,149] Trial 93 finished with value: 0.8217427248677248 and parameters: {'max_depth': 25, 'min_samples_split': 2, 'min_samples_leaf': 18, 'criterion': 'gini'}. Best is trial 17 with value: 0.8356977513227515.\n",
      "[I 2024-10-21 17:57:27,426] Trial 94 finished with value: 0.8153025793650792 and parameters: {'max_depth': 16, 'min_samples_split': 2, 'min_samples_leaf': 12, 'criterion': 'gini'}. Best is trial 17 with value: 0.8356977513227515.\n",
      "[I 2024-10-21 17:57:27,726] Trial 95 finished with value: 0.8220486111111113 and parameters: {'max_depth': 15, 'min_samples_split': 13, 'min_samples_leaf': 8, 'criterion': 'gini'}. Best is trial 17 with value: 0.8356977513227515.\n",
      "[I 2024-10-21 17:57:28,019] Trial 96 finished with value: 0.8328538359788361 and parameters: {'max_depth': 32, 'min_samples_split': 10, 'min_samples_leaf': 14, 'criterion': 'gini'}. Best is trial 17 with value: 0.8356977513227515.\n",
      "[I 2024-10-21 17:57:28,312] Trial 97 finished with value: 0.8300223214285714 and parameters: {'max_depth': 29, 'min_samples_split': 9, 'min_samples_leaf': 13, 'criterion': 'gini'}. Best is trial 17 with value: 0.8356977513227515.\n",
      "[I 2024-10-21 17:57:28,596] Trial 98 finished with value: 0.8273313492063492 and parameters: {'max_depth': 19, 'min_samples_split': 11, 'min_samples_leaf': 16, 'criterion': 'gini'}. Best is trial 17 with value: 0.8356977513227515.\n",
      "[I 2024-10-21 17:57:28,876] Trial 99 finished with value: 0.8327918320105819 and parameters: {'max_depth': 32, 'min_samples_split': 2, 'min_samples_leaf': 13, 'criterion': 'entropy'}. Best is trial 17 with value: 0.8356977513227515.\n"
     ]
    }
   ],
   "source": [
    "# ---------------------------------------------------------------------------- #\n",
    "#                                 OPTIMIZATION                                 #\n",
    "# ---------------------------------------------------------------------------- #\n",
    "\n",
    "# Objective function\n",
    "def objective(trial):\n",
    "    # Sugerindo valores para hiperparâmetros da árvore de decisão\n",
    "    max_depth = int(trial.suggest_int('max_depth', 1, 32))  # Faixa para max_depth\n",
    "    min_samples_split = trial.suggest_int('min_samples_split', 2, 20)  # Faixa para min_samples_split\n",
    "    min_samples_leaf = trial.suggest_int('min_samples_leaf', 1, 20)  # Faixa para min_samples_leaf\n",
    "    criterion = trial.suggest_categorical('criterion', ['gini', 'entropy'])  # Critério de divisão\n",
    "\n",
    "    # Inicializando o modelo com os hiperparâmetros sugeridos\n",
    "    clf = sklearn.tree.DecisionTreeClassifier(\n",
    "        max_depth=max_depth,\n",
    "        min_samples_split=min_samples_split,\n",
    "        min_samples_leaf=min_samples_leaf,\n",
    "        criterion=criterion\n",
    "    )\n",
    "    # Otimizando a média da validação cruzada\n",
    "    return sklearn.model_selection.cross_val_score(clf, X, y, scoring = 'roc_auc').mean() #Estamos otimizando o score da validação cruzada\n",
    "\n",
    "# Executando o optuna\n",
    "study = optuna.create_study(direction='maximize', sampler=GPSampler()) #Criando a otimização, o GPSamples é um processo gaussiano\n",
    "study.optimize(objective, n_trials=100) #Rodar a otimização"
   ]
  },
  {
   "cell_type": "code",
   "execution_count": 11,
   "metadata": {},
   "outputs": [
    {
     "name": "stdout",
     "output_type": "stream",
     "text": [
      "AUC-ROC: 0.8356977513227515\n",
      "Best hyperparameters: {'max_depth': 14, 'min_samples_split': 8, 'min_samples_leaf': 11, 'criterion': 'gini'}\n"
     ]
    }
   ],
   "source": [
    "# Mostrando o melhor modelo\n",
    "trial = study.best_trial\n",
    "print('AUC-ROC: {}'.format(trial.value))\n",
    "print(\"Best hyperparameters: {}\".format(trial.params))"
   ]
  },
  {
   "cell_type": "code",
   "execution_count": 12,
   "metadata": {},
   "outputs": [
    {
     "data": {
      "application/vnd.plotly.v1+json": {
       "config": {
        "plotlyServerURL": "https://plot.ly"
       },
       "data": [
        {
         "mode": "markers",
         "name": "Objective Value",
         "type": "scatter",
         "x": [
          0,
          1,
          2,
          3,
          4,
          5,
          6,
          7,
          8,
          9,
          10,
          11,
          12,
          13,
          14,
          15,
          16,
          17,
          18,
          19,
          20,
          21,
          22,
          23,
          24,
          25,
          26,
          27,
          28,
          29,
          30,
          31,
          32,
          33,
          34,
          35,
          36,
          37,
          38,
          39,
          40,
          41,
          42,
          43,
          44,
          45,
          46,
          47,
          48,
          49,
          50,
          51,
          52,
          53,
          54,
          55,
          56,
          57,
          58,
          59,
          60,
          61,
          62,
          63,
          64,
          65,
          66,
          67,
          68,
          69,
          70,
          71,
          72,
          73,
          74,
          75,
          76,
          77,
          78,
          79,
          80,
          81,
          82,
          83,
          84,
          85,
          86,
          87,
          88,
          89,
          90,
          91,
          92,
          93,
          94,
          95,
          96,
          97,
          98,
          99
         ],
         "y": [
          0.8259300595238095,
          0.8193163029100529,
          0.8148892195767197,
          0.8319444444444445,
          0.8241650132275133,
          0.8118262235449736,
          0.8330935846560846,
          0.8339575066137567,
          0.8146453373015874,
          0.808428406084656,
          0.8317336309523811,
          0.818051421957672,
          0.83036541005291,
          0.8219122023809524,
          0.8295593584656084,
          0.8311879960317461,
          0.8192212301587303,
          0.8356977513227515,
          0.7282076719576719,
          0.8140087632275133,
          0.8166873346560847,
          0.7714368386243385,
          0.8015542328042328,
          0.8133928571428571,
          0.7822007275132276,
          0.7308862433862433,
          0.8272569444444444,
          0.8300595238095237,
          0.8278356481481481,
          0.8315352182539681,
          0.830716765873016,
          0.8264963624338624,
          0.8308077050264551,
          0.820271164021164,
          0.812016369047619,
          0.8319113756613756,
          0.8212880291005289,
          0.8300553902116402,
          0.8211598875661374,
          0.8240988756613756,
          0.8305762235449734,
          0.826727843915344,
          0.8321965939153438,
          0.8293402777777776,
          0.8296461640211641,
          0.8256572420634921,
          0.8263392857142857,
          0.7188326719576719,
          0.8317460317460318,
          0.81640625,
          0.7188326719576719,
          0.8308035714285713,
          0.8293278769841269,
          0.8337508267195768,
          0.8355324074074074,
          0.824855324074074,
          0.806394675925926,
          0.8343171296296296,
          0.8243055555555555,
          0.8270171957671957,
          0.8267650462962962,
          0.8311590608465608,
          0.8289393187830688,
          0.8256283068783068,
          0.825934193121693,
          0.8290674603174603,
          0.8106274801587302,
          0.8300801917989418,
          0.8306010251322752,
          0.8287987764550264,
          0.8252438822751322,
          0.8256448412698413,
          0.8303902116402115,
          0.8305018187830688,
          0.8148974867724867,
          0.8220238095238095,
          0.8284887566137566,
          0.8279431216931217,
          0.8334904100529099,
          0.821875,
          0.8318080357142856,
          0.8308449074074075,
          0.8232556216931217,
          0.8282531415343914,
          0.8299727182539682,
          0.8213128306878307,
          0.8301876653439153,
          0.832473544973545,
          0.8280092592592594,
          0.8289434523809524,
          0.830324074074074,
          0.8314814814814813,
          0.8275669642857142,
          0.8217427248677248,
          0.8153025793650792,
          0.8220486111111113,
          0.8328538359788361,
          0.8300223214285714,
          0.8273313492063492,
          0.8327918320105819
         ]
        },
        {
         "mode": "lines",
         "name": "Best Value",
         "type": "scatter",
         "x": [
          0,
          1,
          2,
          3,
          4,
          5,
          6,
          7,
          8,
          9,
          10,
          11,
          12,
          13,
          14,
          15,
          16,
          17,
          18,
          19,
          20,
          21,
          22,
          23,
          24,
          25,
          26,
          27,
          28,
          29,
          30,
          31,
          32,
          33,
          34,
          35,
          36,
          37,
          38,
          39,
          40,
          41,
          42,
          43,
          44,
          45,
          46,
          47,
          48,
          49,
          50,
          51,
          52,
          53,
          54,
          55,
          56,
          57,
          58,
          59,
          60,
          61,
          62,
          63,
          64,
          65,
          66,
          67,
          68,
          69,
          70,
          71,
          72,
          73,
          74,
          75,
          76,
          77,
          78,
          79,
          80,
          81,
          82,
          83,
          84,
          85,
          86,
          87,
          88,
          89,
          90,
          91,
          92,
          93,
          94,
          95,
          96,
          97,
          98,
          99
         ],
         "y": [
          0.8259300595238095,
          0.8259300595238095,
          0.8259300595238095,
          0.8319444444444445,
          0.8319444444444445,
          0.8319444444444445,
          0.8330935846560846,
          0.8339575066137567,
          0.8339575066137567,
          0.8339575066137567,
          0.8339575066137567,
          0.8339575066137567,
          0.8339575066137567,
          0.8339575066137567,
          0.8339575066137567,
          0.8339575066137567,
          0.8339575066137567,
          0.8356977513227515,
          0.8356977513227515,
          0.8356977513227515,
          0.8356977513227515,
          0.8356977513227515,
          0.8356977513227515,
          0.8356977513227515,
          0.8356977513227515,
          0.8356977513227515,
          0.8356977513227515,
          0.8356977513227515,
          0.8356977513227515,
          0.8356977513227515,
          0.8356977513227515,
          0.8356977513227515,
          0.8356977513227515,
          0.8356977513227515,
          0.8356977513227515,
          0.8356977513227515,
          0.8356977513227515,
          0.8356977513227515,
          0.8356977513227515,
          0.8356977513227515,
          0.8356977513227515,
          0.8356977513227515,
          0.8356977513227515,
          0.8356977513227515,
          0.8356977513227515,
          0.8356977513227515,
          0.8356977513227515,
          0.8356977513227515,
          0.8356977513227515,
          0.8356977513227515,
          0.8356977513227515,
          0.8356977513227515,
          0.8356977513227515,
          0.8356977513227515,
          0.8356977513227515,
          0.8356977513227515,
          0.8356977513227515,
          0.8356977513227515,
          0.8356977513227515,
          0.8356977513227515,
          0.8356977513227515,
          0.8356977513227515,
          0.8356977513227515,
          0.8356977513227515,
          0.8356977513227515,
          0.8356977513227515,
          0.8356977513227515,
          0.8356977513227515,
          0.8356977513227515,
          0.8356977513227515,
          0.8356977513227515,
          0.8356977513227515,
          0.8356977513227515,
          0.8356977513227515,
          0.8356977513227515,
          0.8356977513227515,
          0.8356977513227515,
          0.8356977513227515,
          0.8356977513227515,
          0.8356977513227515,
          0.8356977513227515,
          0.8356977513227515,
          0.8356977513227515,
          0.8356977513227515,
          0.8356977513227515,
          0.8356977513227515,
          0.8356977513227515,
          0.8356977513227515,
          0.8356977513227515,
          0.8356977513227515,
          0.8356977513227515,
          0.8356977513227515,
          0.8356977513227515,
          0.8356977513227515,
          0.8356977513227515,
          0.8356977513227515,
          0.8356977513227515,
          0.8356977513227515,
          0.8356977513227515,
          0.8356977513227515
         ]
        },
        {
         "marker": {
          "color": "#cccccc"
         },
         "mode": "markers",
         "name": "Infeasible Trial",
         "showlegend": false,
         "type": "scatter",
         "x": [],
         "y": []
        }
       ],
       "layout": {
        "template": {
         "data": {
          "bar": [
           {
            "error_x": {
             "color": "#2a3f5f"
            },
            "error_y": {
             "color": "#2a3f5f"
            },
            "marker": {
             "line": {
              "color": "#E5ECF6",
              "width": 0.5
             },
             "pattern": {
              "fillmode": "overlay",
              "size": 10,
              "solidity": 0.2
             }
            },
            "type": "bar"
           }
          ],
          "barpolar": [
           {
            "marker": {
             "line": {
              "color": "#E5ECF6",
              "width": 0.5
             },
             "pattern": {
              "fillmode": "overlay",
              "size": 10,
              "solidity": 0.2
             }
            },
            "type": "barpolar"
           }
          ],
          "carpet": [
           {
            "aaxis": {
             "endlinecolor": "#2a3f5f",
             "gridcolor": "white",
             "linecolor": "white",
             "minorgridcolor": "white",
             "startlinecolor": "#2a3f5f"
            },
            "baxis": {
             "endlinecolor": "#2a3f5f",
             "gridcolor": "white",
             "linecolor": "white",
             "minorgridcolor": "white",
             "startlinecolor": "#2a3f5f"
            },
            "type": "carpet"
           }
          ],
          "choropleth": [
           {
            "colorbar": {
             "outlinewidth": 0,
             "ticks": ""
            },
            "type": "choropleth"
           }
          ],
          "contour": [
           {
            "colorbar": {
             "outlinewidth": 0,
             "ticks": ""
            },
            "colorscale": [
             [
              0,
              "#0d0887"
             ],
             [
              0.1111111111111111,
              "#46039f"
             ],
             [
              0.2222222222222222,
              "#7201a8"
             ],
             [
              0.3333333333333333,
              "#9c179e"
             ],
             [
              0.4444444444444444,
              "#bd3786"
             ],
             [
              0.5555555555555556,
              "#d8576b"
             ],
             [
              0.6666666666666666,
              "#ed7953"
             ],
             [
              0.7777777777777778,
              "#fb9f3a"
             ],
             [
              0.8888888888888888,
              "#fdca26"
             ],
             [
              1,
              "#f0f921"
             ]
            ],
            "type": "contour"
           }
          ],
          "contourcarpet": [
           {
            "colorbar": {
             "outlinewidth": 0,
             "ticks": ""
            },
            "type": "contourcarpet"
           }
          ],
          "heatmap": [
           {
            "colorbar": {
             "outlinewidth": 0,
             "ticks": ""
            },
            "colorscale": [
             [
              0,
              "#0d0887"
             ],
             [
              0.1111111111111111,
              "#46039f"
             ],
             [
              0.2222222222222222,
              "#7201a8"
             ],
             [
              0.3333333333333333,
              "#9c179e"
             ],
             [
              0.4444444444444444,
              "#bd3786"
             ],
             [
              0.5555555555555556,
              "#d8576b"
             ],
             [
              0.6666666666666666,
              "#ed7953"
             ],
             [
              0.7777777777777778,
              "#fb9f3a"
             ],
             [
              0.8888888888888888,
              "#fdca26"
             ],
             [
              1,
              "#f0f921"
             ]
            ],
            "type": "heatmap"
           }
          ],
          "heatmapgl": [
           {
            "colorbar": {
             "outlinewidth": 0,
             "ticks": ""
            },
            "colorscale": [
             [
              0,
              "#0d0887"
             ],
             [
              0.1111111111111111,
              "#46039f"
             ],
             [
              0.2222222222222222,
              "#7201a8"
             ],
             [
              0.3333333333333333,
              "#9c179e"
             ],
             [
              0.4444444444444444,
              "#bd3786"
             ],
             [
              0.5555555555555556,
              "#d8576b"
             ],
             [
              0.6666666666666666,
              "#ed7953"
             ],
             [
              0.7777777777777778,
              "#fb9f3a"
             ],
             [
              0.8888888888888888,
              "#fdca26"
             ],
             [
              1,
              "#f0f921"
             ]
            ],
            "type": "heatmapgl"
           }
          ],
          "histogram": [
           {
            "marker": {
             "pattern": {
              "fillmode": "overlay",
              "size": 10,
              "solidity": 0.2
             }
            },
            "type": "histogram"
           }
          ],
          "histogram2d": [
           {
            "colorbar": {
             "outlinewidth": 0,
             "ticks": ""
            },
            "colorscale": [
             [
              0,
              "#0d0887"
             ],
             [
              0.1111111111111111,
              "#46039f"
             ],
             [
              0.2222222222222222,
              "#7201a8"
             ],
             [
              0.3333333333333333,
              "#9c179e"
             ],
             [
              0.4444444444444444,
              "#bd3786"
             ],
             [
              0.5555555555555556,
              "#d8576b"
             ],
             [
              0.6666666666666666,
              "#ed7953"
             ],
             [
              0.7777777777777778,
              "#fb9f3a"
             ],
             [
              0.8888888888888888,
              "#fdca26"
             ],
             [
              1,
              "#f0f921"
             ]
            ],
            "type": "histogram2d"
           }
          ],
          "histogram2dcontour": [
           {
            "colorbar": {
             "outlinewidth": 0,
             "ticks": ""
            },
            "colorscale": [
             [
              0,
              "#0d0887"
             ],
             [
              0.1111111111111111,
              "#46039f"
             ],
             [
              0.2222222222222222,
              "#7201a8"
             ],
             [
              0.3333333333333333,
              "#9c179e"
             ],
             [
              0.4444444444444444,
              "#bd3786"
             ],
             [
              0.5555555555555556,
              "#d8576b"
             ],
             [
              0.6666666666666666,
              "#ed7953"
             ],
             [
              0.7777777777777778,
              "#fb9f3a"
             ],
             [
              0.8888888888888888,
              "#fdca26"
             ],
             [
              1,
              "#f0f921"
             ]
            ],
            "type": "histogram2dcontour"
           }
          ],
          "mesh3d": [
           {
            "colorbar": {
             "outlinewidth": 0,
             "ticks": ""
            },
            "type": "mesh3d"
           }
          ],
          "parcoords": [
           {
            "line": {
             "colorbar": {
              "outlinewidth": 0,
              "ticks": ""
             }
            },
            "type": "parcoords"
           }
          ],
          "pie": [
           {
            "automargin": true,
            "type": "pie"
           }
          ],
          "scatter": [
           {
            "fillpattern": {
             "fillmode": "overlay",
             "size": 10,
             "solidity": 0.2
            },
            "type": "scatter"
           }
          ],
          "scatter3d": [
           {
            "line": {
             "colorbar": {
              "outlinewidth": 0,
              "ticks": ""
             }
            },
            "marker": {
             "colorbar": {
              "outlinewidth": 0,
              "ticks": ""
             }
            },
            "type": "scatter3d"
           }
          ],
          "scattercarpet": [
           {
            "marker": {
             "colorbar": {
              "outlinewidth": 0,
              "ticks": ""
             }
            },
            "type": "scattercarpet"
           }
          ],
          "scattergeo": [
           {
            "marker": {
             "colorbar": {
              "outlinewidth": 0,
              "ticks": ""
             }
            },
            "type": "scattergeo"
           }
          ],
          "scattergl": [
           {
            "marker": {
             "colorbar": {
              "outlinewidth": 0,
              "ticks": ""
             }
            },
            "type": "scattergl"
           }
          ],
          "scattermapbox": [
           {
            "marker": {
             "colorbar": {
              "outlinewidth": 0,
              "ticks": ""
             }
            },
            "type": "scattermapbox"
           }
          ],
          "scatterpolar": [
           {
            "marker": {
             "colorbar": {
              "outlinewidth": 0,
              "ticks": ""
             }
            },
            "type": "scatterpolar"
           }
          ],
          "scatterpolargl": [
           {
            "marker": {
             "colorbar": {
              "outlinewidth": 0,
              "ticks": ""
             }
            },
            "type": "scatterpolargl"
           }
          ],
          "scatterternary": [
           {
            "marker": {
             "colorbar": {
              "outlinewidth": 0,
              "ticks": ""
             }
            },
            "type": "scatterternary"
           }
          ],
          "surface": [
           {
            "colorbar": {
             "outlinewidth": 0,
             "ticks": ""
            },
            "colorscale": [
             [
              0,
              "#0d0887"
             ],
             [
              0.1111111111111111,
              "#46039f"
             ],
             [
              0.2222222222222222,
              "#7201a8"
             ],
             [
              0.3333333333333333,
              "#9c179e"
             ],
             [
              0.4444444444444444,
              "#bd3786"
             ],
             [
              0.5555555555555556,
              "#d8576b"
             ],
             [
              0.6666666666666666,
              "#ed7953"
             ],
             [
              0.7777777777777778,
              "#fb9f3a"
             ],
             [
              0.8888888888888888,
              "#fdca26"
             ],
             [
              1,
              "#f0f921"
             ]
            ],
            "type": "surface"
           }
          ],
          "table": [
           {
            "cells": {
             "fill": {
              "color": "#EBF0F8"
             },
             "line": {
              "color": "white"
             }
            },
            "header": {
             "fill": {
              "color": "#C8D4E3"
             },
             "line": {
              "color": "white"
             }
            },
            "type": "table"
           }
          ]
         },
         "layout": {
          "annotationdefaults": {
           "arrowcolor": "#2a3f5f",
           "arrowhead": 0,
           "arrowwidth": 1
          },
          "autotypenumbers": "strict",
          "coloraxis": {
           "colorbar": {
            "outlinewidth": 0,
            "ticks": ""
           }
          },
          "colorscale": {
           "diverging": [
            [
             0,
             "#8e0152"
            ],
            [
             0.1,
             "#c51b7d"
            ],
            [
             0.2,
             "#de77ae"
            ],
            [
             0.3,
             "#f1b6da"
            ],
            [
             0.4,
             "#fde0ef"
            ],
            [
             0.5,
             "#f7f7f7"
            ],
            [
             0.6,
             "#e6f5d0"
            ],
            [
             0.7,
             "#b8e186"
            ],
            [
             0.8,
             "#7fbc41"
            ],
            [
             0.9,
             "#4d9221"
            ],
            [
             1,
             "#276419"
            ]
           ],
           "sequential": [
            [
             0,
             "#0d0887"
            ],
            [
             0.1111111111111111,
             "#46039f"
            ],
            [
             0.2222222222222222,
             "#7201a8"
            ],
            [
             0.3333333333333333,
             "#9c179e"
            ],
            [
             0.4444444444444444,
             "#bd3786"
            ],
            [
             0.5555555555555556,
             "#d8576b"
            ],
            [
             0.6666666666666666,
             "#ed7953"
            ],
            [
             0.7777777777777778,
             "#fb9f3a"
            ],
            [
             0.8888888888888888,
             "#fdca26"
            ],
            [
             1,
             "#f0f921"
            ]
           ],
           "sequentialminus": [
            [
             0,
             "#0d0887"
            ],
            [
             0.1111111111111111,
             "#46039f"
            ],
            [
             0.2222222222222222,
             "#7201a8"
            ],
            [
             0.3333333333333333,
             "#9c179e"
            ],
            [
             0.4444444444444444,
             "#bd3786"
            ],
            [
             0.5555555555555556,
             "#d8576b"
            ],
            [
             0.6666666666666666,
             "#ed7953"
            ],
            [
             0.7777777777777778,
             "#fb9f3a"
            ],
            [
             0.8888888888888888,
             "#fdca26"
            ],
            [
             1,
             "#f0f921"
            ]
           ]
          },
          "colorway": [
           "#636efa",
           "#EF553B",
           "#00cc96",
           "#ab63fa",
           "#FFA15A",
           "#19d3f3",
           "#FF6692",
           "#B6E880",
           "#FF97FF",
           "#FECB52"
          ],
          "font": {
           "color": "#2a3f5f"
          },
          "geo": {
           "bgcolor": "white",
           "lakecolor": "white",
           "landcolor": "#E5ECF6",
           "showlakes": true,
           "showland": true,
           "subunitcolor": "white"
          },
          "hoverlabel": {
           "align": "left"
          },
          "hovermode": "closest",
          "mapbox": {
           "style": "light"
          },
          "paper_bgcolor": "white",
          "plot_bgcolor": "#E5ECF6",
          "polar": {
           "angularaxis": {
            "gridcolor": "white",
            "linecolor": "white",
            "ticks": ""
           },
           "bgcolor": "#E5ECF6",
           "radialaxis": {
            "gridcolor": "white",
            "linecolor": "white",
            "ticks": ""
           }
          },
          "scene": {
           "xaxis": {
            "backgroundcolor": "#E5ECF6",
            "gridcolor": "white",
            "gridwidth": 2,
            "linecolor": "white",
            "showbackground": true,
            "ticks": "",
            "zerolinecolor": "white"
           },
           "yaxis": {
            "backgroundcolor": "#E5ECF6",
            "gridcolor": "white",
            "gridwidth": 2,
            "linecolor": "white",
            "showbackground": true,
            "ticks": "",
            "zerolinecolor": "white"
           },
           "zaxis": {
            "backgroundcolor": "#E5ECF6",
            "gridcolor": "white",
            "gridwidth": 2,
            "linecolor": "white",
            "showbackground": true,
            "ticks": "",
            "zerolinecolor": "white"
           }
          },
          "shapedefaults": {
           "line": {
            "color": "#2a3f5f"
           }
          },
          "ternary": {
           "aaxis": {
            "gridcolor": "white",
            "linecolor": "white",
            "ticks": ""
           },
           "baxis": {
            "gridcolor": "white",
            "linecolor": "white",
            "ticks": ""
           },
           "bgcolor": "#E5ECF6",
           "caxis": {
            "gridcolor": "white",
            "linecolor": "white",
            "ticks": ""
           }
          },
          "title": {
           "x": 0.05
          },
          "xaxis": {
           "automargin": true,
           "gridcolor": "white",
           "linecolor": "white",
           "ticks": "",
           "title": {
            "standoff": 15
           },
           "zerolinecolor": "white",
           "zerolinewidth": 2
          },
          "yaxis": {
           "automargin": true,
           "gridcolor": "white",
           "linecolor": "white",
           "ticks": "",
           "title": {
            "standoff": 15
           },
           "zerolinecolor": "white",
           "zerolinewidth": 2
          }
         }
        },
        "title": {
         "text": "Optimization History Plot"
        },
        "xaxis": {
         "title": {
          "text": "Trial"
         }
        },
        "yaxis": {
         "title": {
          "text": "Objective Value"
         }
        }
       }
      }
     },
     "metadata": {},
     "output_type": "display_data"
    }
   ],
   "source": [
    "# Visualizando a otimização\n",
    "optuna.visualization.plot_optimization_history(study)"
   ]
  },
  {
   "cell_type": "code",
   "execution_count": 13,
   "metadata": {},
   "outputs": [
    {
     "data": {
      "application/vnd.plotly.v1+json": {
       "config": {
        "plotlyServerURL": "https://plot.ly"
       },
       "data": [
        {
         "marker": {
          "color": [
           0,
           1,
           2,
           3,
           4,
           5,
           6,
           7,
           8,
           9,
           10,
           11,
           12,
           13,
           14,
           15,
           16,
           17,
           18,
           19,
           20,
           21,
           22,
           23,
           24,
           25,
           26,
           27,
           28,
           29,
           30,
           31,
           32,
           33,
           34,
           35,
           36,
           37,
           38,
           39,
           40,
           41,
           42,
           43,
           44,
           45,
           46,
           47,
           48,
           49,
           50,
           51,
           52,
           53,
           54,
           55,
           56,
           57,
           58,
           59,
           60,
           61,
           62,
           63,
           64,
           65,
           66,
           67,
           68,
           69,
           70,
           71,
           72,
           73,
           74,
           75,
           76,
           77,
           78,
           79,
           80,
           81,
           82,
           83,
           84,
           85,
           86,
           87,
           88,
           89,
           90,
           91,
           92,
           93,
           94,
           95,
           96,
           97,
           98,
           99
          ],
          "colorbar": {
           "title": {
            "text": "Trial"
           },
           "x": 1,
           "xpad": 40
          },
          "colorscale": [
           [
            0,
            "rgb(247,251,255)"
           ],
           [
            0.125,
            "rgb(222,235,247)"
           ],
           [
            0.25,
            "rgb(198,219,239)"
           ],
           [
            0.375,
            "rgb(158,202,225)"
           ],
           [
            0.5,
            "rgb(107,174,214)"
           ],
           [
            0.625,
            "rgb(66,146,198)"
           ],
           [
            0.75,
            "rgb(33,113,181)"
           ],
           [
            0.875,
            "rgb(8,81,156)"
           ],
           [
            1,
            "rgb(8,48,107)"
           ]
          ],
          "line": {
           "color": "Grey",
           "width": 0.5
          },
          "showscale": true
         },
         "mode": "markers",
         "name": "Feasible Trial",
         "showlegend": false,
         "type": "scatter",
         "x": [
          "entropy",
          "gini",
          "gini",
          "gini",
          "gini",
          "entropy",
          "gini",
          "gini",
          "gini",
          "entropy",
          "gini",
          "gini",
          "gini",
          "gini",
          "gini",
          "gini",
          "gini",
          "gini",
          "gini",
          "entropy",
          "gini",
          "entropy",
          "entropy",
          "entropy",
          "entropy",
          "gini",
          "entropy",
          "gini",
          "entropy",
          "gini",
          "gini",
          "entropy",
          "gini",
          "gini",
          "entropy",
          "entropy",
          "gini",
          "gini",
          "gini",
          "gini",
          "entropy",
          "entropy",
          "gini",
          "entropy",
          "gini",
          "entropy",
          "entropy",
          "entropy",
          "entropy",
          "entropy",
          "entropy",
          "gini",
          "gini",
          "gini",
          "gini",
          "gini",
          "entropy",
          "entropy",
          "entropy",
          "entropy",
          "gini",
          "entropy",
          "gini",
          "entropy",
          "entropy",
          "gini",
          "entropy",
          "gini",
          "gini",
          "gini",
          "gini",
          "gini",
          "gini",
          "gini",
          "gini",
          "gini",
          "gini",
          "entropy",
          "entropy",
          "entropy",
          "gini",
          "entropy",
          "entropy",
          "gini",
          "entropy",
          "entropy",
          "gini",
          "gini",
          "gini",
          "gini",
          "entropy",
          "entropy",
          "gini",
          "gini",
          "gini",
          "gini",
          "gini",
          "gini",
          "gini",
          "entropy"
         ],
         "xaxis": "x",
         "y": [
          0.8259300595238095,
          0.8193163029100529,
          0.8148892195767197,
          0.8319444444444445,
          0.8241650132275133,
          0.8118262235449736,
          0.8330935846560846,
          0.8339575066137567,
          0.8146453373015874,
          0.808428406084656,
          0.8317336309523811,
          0.818051421957672,
          0.83036541005291,
          0.8219122023809524,
          0.8295593584656084,
          0.8311879960317461,
          0.8192212301587303,
          0.8356977513227515,
          0.7282076719576719,
          0.8140087632275133,
          0.8166873346560847,
          0.7714368386243385,
          0.8015542328042328,
          0.8133928571428571,
          0.7822007275132276,
          0.7308862433862433,
          0.8272569444444444,
          0.8300595238095237,
          0.8278356481481481,
          0.8315352182539681,
          0.830716765873016,
          0.8264963624338624,
          0.8308077050264551,
          0.820271164021164,
          0.812016369047619,
          0.8319113756613756,
          0.8212880291005289,
          0.8300553902116402,
          0.8211598875661374,
          0.8240988756613756,
          0.8305762235449734,
          0.826727843915344,
          0.8321965939153438,
          0.8293402777777776,
          0.8296461640211641,
          0.8256572420634921,
          0.8263392857142857,
          0.7188326719576719,
          0.8317460317460318,
          0.81640625,
          0.7188326719576719,
          0.8308035714285713,
          0.8293278769841269,
          0.8337508267195768,
          0.8355324074074074,
          0.824855324074074,
          0.806394675925926,
          0.8343171296296296,
          0.8243055555555555,
          0.8270171957671957,
          0.8267650462962962,
          0.8311590608465608,
          0.8289393187830688,
          0.8256283068783068,
          0.825934193121693,
          0.8290674603174603,
          0.8106274801587302,
          0.8300801917989418,
          0.8306010251322752,
          0.8287987764550264,
          0.8252438822751322,
          0.8256448412698413,
          0.8303902116402115,
          0.8305018187830688,
          0.8148974867724867,
          0.8220238095238095,
          0.8284887566137566,
          0.8279431216931217,
          0.8334904100529099,
          0.821875,
          0.8318080357142856,
          0.8308449074074075,
          0.8232556216931217,
          0.8282531415343914,
          0.8299727182539682,
          0.8213128306878307,
          0.8301876653439153,
          0.832473544973545,
          0.8280092592592594,
          0.8289434523809524,
          0.830324074074074,
          0.8314814814814813,
          0.8275669642857142,
          0.8217427248677248,
          0.8153025793650792,
          0.8220486111111113,
          0.8328538359788361,
          0.8300223214285714,
          0.8273313492063492,
          0.8327918320105819
         ],
         "yaxis": "y"
        },
        {
         "marker": {
          "color": [
           0,
           1,
           2,
           3,
           4,
           5,
           6,
           7,
           8,
           9,
           10,
           11,
           12,
           13,
           14,
           15,
           16,
           17,
           18,
           19,
           20,
           21,
           22,
           23,
           24,
           25,
           26,
           27,
           28,
           29,
           30,
           31,
           32,
           33,
           34,
           35,
           36,
           37,
           38,
           39,
           40,
           41,
           42,
           43,
           44,
           45,
           46,
           47,
           48,
           49,
           50,
           51,
           52,
           53,
           54,
           55,
           56,
           57,
           58,
           59,
           60,
           61,
           62,
           63,
           64,
           65,
           66,
           67,
           68,
           69,
           70,
           71,
           72,
           73,
           74,
           75,
           76,
           77,
           78,
           79,
           80,
           81,
           82,
           83,
           84,
           85,
           86,
           87,
           88,
           89,
           90,
           91,
           92,
           93,
           94,
           95,
           96,
           97,
           98,
           99
          ],
          "colorbar": {
           "title": {
            "text": "Trial"
           },
           "x": 1,
           "xpad": 40
          },
          "colorscale": [
           [
            0,
            "rgb(247,251,255)"
           ],
           [
            0.125,
            "rgb(222,235,247)"
           ],
           [
            0.25,
            "rgb(198,219,239)"
           ],
           [
            0.375,
            "rgb(158,202,225)"
           ],
           [
            0.5,
            "rgb(107,174,214)"
           ],
           [
            0.625,
            "rgb(66,146,198)"
           ],
           [
            0.75,
            "rgb(33,113,181)"
           ],
           [
            0.875,
            "rgb(8,81,156)"
           ],
           [
            1,
            "rgb(8,48,107)"
           ]
          ],
          "line": {
           "color": "Grey",
           "width": 0.5
          },
          "showscale": false
         },
         "mode": "markers",
         "name": "Feasible Trial",
         "showlegend": false,
         "type": "scatter",
         "x": [
          7,
          9,
          31,
          13,
          10,
          8,
          15,
          30,
          21,
          9,
          23,
          32,
          14,
          29,
          14,
          32,
          8,
          14,
          1,
          18,
          18,
          12,
          2,
          25,
          32,
          26,
          14,
          26,
          31,
          28,
          16,
          10,
          28,
          22,
          32,
          10,
          14,
          28,
          14,
          14,
          32,
          10,
          18,
          25,
          16,
          32,
          17,
          1,
          22,
          12,
          1,
          22,
          32,
          19,
          16,
          32,
          32,
          27,
          28,
          21,
          17,
          26,
          19,
          32,
          8,
          22,
          19,
          21,
          32,
          27,
          28,
          14,
          22,
          25,
          11,
          30,
          32,
          26,
          12,
          11,
          16,
          18,
          18,
          18,
          24,
          14,
          18,
          14,
          14,
          19,
          28,
          15,
          25,
          25,
          16,
          15,
          32,
          29,
          19,
          32
         ],
         "xaxis": "x2",
         "y": [
          0.8259300595238095,
          0.8193163029100529,
          0.8148892195767197,
          0.8319444444444445,
          0.8241650132275133,
          0.8118262235449736,
          0.8330935846560846,
          0.8339575066137567,
          0.8146453373015874,
          0.808428406084656,
          0.8317336309523811,
          0.818051421957672,
          0.83036541005291,
          0.8219122023809524,
          0.8295593584656084,
          0.8311879960317461,
          0.8192212301587303,
          0.8356977513227515,
          0.7282076719576719,
          0.8140087632275133,
          0.8166873346560847,
          0.7714368386243385,
          0.8015542328042328,
          0.8133928571428571,
          0.7822007275132276,
          0.7308862433862433,
          0.8272569444444444,
          0.8300595238095237,
          0.8278356481481481,
          0.8315352182539681,
          0.830716765873016,
          0.8264963624338624,
          0.8308077050264551,
          0.820271164021164,
          0.812016369047619,
          0.8319113756613756,
          0.8212880291005289,
          0.8300553902116402,
          0.8211598875661374,
          0.8240988756613756,
          0.8305762235449734,
          0.826727843915344,
          0.8321965939153438,
          0.8293402777777776,
          0.8296461640211641,
          0.8256572420634921,
          0.8263392857142857,
          0.7188326719576719,
          0.8317460317460318,
          0.81640625,
          0.7188326719576719,
          0.8308035714285713,
          0.8293278769841269,
          0.8337508267195768,
          0.8355324074074074,
          0.824855324074074,
          0.806394675925926,
          0.8343171296296296,
          0.8243055555555555,
          0.8270171957671957,
          0.8267650462962962,
          0.8311590608465608,
          0.8289393187830688,
          0.8256283068783068,
          0.825934193121693,
          0.8290674603174603,
          0.8106274801587302,
          0.8300801917989418,
          0.8306010251322752,
          0.8287987764550264,
          0.8252438822751322,
          0.8256448412698413,
          0.8303902116402115,
          0.8305018187830688,
          0.8148974867724867,
          0.8220238095238095,
          0.8284887566137566,
          0.8279431216931217,
          0.8334904100529099,
          0.821875,
          0.8318080357142856,
          0.8308449074074075,
          0.8232556216931217,
          0.8282531415343914,
          0.8299727182539682,
          0.8213128306878307,
          0.8301876653439153,
          0.832473544973545,
          0.8280092592592594,
          0.8289434523809524,
          0.830324074074074,
          0.8314814814814813,
          0.8275669642857142,
          0.8217427248677248,
          0.8153025793650792,
          0.8220486111111113,
          0.8328538359788361,
          0.8300223214285714,
          0.8273313492063492,
          0.8327918320105819
         ],
         "yaxis": "y2"
        },
        {
         "marker": {
          "color": [
           0,
           1,
           2,
           3,
           4,
           5,
           6,
           7,
           8,
           9,
           10,
           11,
           12,
           13,
           14,
           15,
           16,
           17,
           18,
           19,
           20,
           21,
           22,
           23,
           24,
           25,
           26,
           27,
           28,
           29,
           30,
           31,
           32,
           33,
           34,
           35,
           36,
           37,
           38,
           39,
           40,
           41,
           42,
           43,
           44,
           45,
           46,
           47,
           48,
           49,
           50,
           51,
           52,
           53,
           54,
           55,
           56,
           57,
           58,
           59,
           60,
           61,
           62,
           63,
           64,
           65,
           66,
           67,
           68,
           69,
           70,
           71,
           72,
           73,
           74,
           75,
           76,
           77,
           78,
           79,
           80,
           81,
           82,
           83,
           84,
           85,
           86,
           87,
           88,
           89,
           90,
           91,
           92,
           93,
           94,
           95,
           96,
           97,
           98,
           99
          ],
          "colorbar": {
           "title": {
            "text": "Trial"
           },
           "x": 1,
           "xpad": 40
          },
          "colorscale": [
           [
            0,
            "rgb(247,251,255)"
           ],
           [
            0.125,
            "rgb(222,235,247)"
           ],
           [
            0.25,
            "rgb(198,219,239)"
           ],
           [
            0.375,
            "rgb(158,202,225)"
           ],
           [
            0.5,
            "rgb(107,174,214)"
           ],
           [
            0.625,
            "rgb(66,146,198)"
           ],
           [
            0.75,
            "rgb(33,113,181)"
           ],
           [
            0.875,
            "rgb(8,81,156)"
           ],
           [
            1,
            "rgb(8,48,107)"
           ]
          ],
          "line": {
           "color": "Grey",
           "width": 0.5
          },
          "showscale": false
         },
         "mode": "markers",
         "name": "Feasible Trial",
         "showlegend": false,
         "type": "scatter",
         "x": [
          10,
          18,
          19,
          14,
          8,
          18,
          10,
          8,
          20,
          15,
          9,
          7,
          8,
          7,
          13,
          10,
          6,
          11,
          11,
          20,
          20,
          1,
          6,
          20,
          1,
          1,
          10,
          11,
          10,
          10,
          14,
          8,
          9,
          12,
          15,
          9,
          12,
          10,
          18,
          10,
          10,
          8,
          9,
          9,
          16,
          8,
          14,
          20,
          10,
          17,
          1,
          9,
          13,
          11,
          14,
          10,
          20,
          9,
          11,
          8,
          13,
          9,
          9,
          8,
          7,
          15,
          15,
          11,
          13,
          16,
          15,
          15,
          17,
          9,
          20,
          10,
          16,
          8,
          12,
          11,
          8,
          10,
          9,
          15,
          10,
          7,
          10,
          6,
          7,
          7,
          9,
          12,
          9,
          18,
          12,
          8,
          14,
          13,
          16,
          13
         ],
         "xaxis": "x3",
         "y": [
          0.8259300595238095,
          0.8193163029100529,
          0.8148892195767197,
          0.8319444444444445,
          0.8241650132275133,
          0.8118262235449736,
          0.8330935846560846,
          0.8339575066137567,
          0.8146453373015874,
          0.808428406084656,
          0.8317336309523811,
          0.818051421957672,
          0.83036541005291,
          0.8219122023809524,
          0.8295593584656084,
          0.8311879960317461,
          0.8192212301587303,
          0.8356977513227515,
          0.7282076719576719,
          0.8140087632275133,
          0.8166873346560847,
          0.7714368386243385,
          0.8015542328042328,
          0.8133928571428571,
          0.7822007275132276,
          0.7308862433862433,
          0.8272569444444444,
          0.8300595238095237,
          0.8278356481481481,
          0.8315352182539681,
          0.830716765873016,
          0.8264963624338624,
          0.8308077050264551,
          0.820271164021164,
          0.812016369047619,
          0.8319113756613756,
          0.8212880291005289,
          0.8300553902116402,
          0.8211598875661374,
          0.8240988756613756,
          0.8305762235449734,
          0.826727843915344,
          0.8321965939153438,
          0.8293402777777776,
          0.8296461640211641,
          0.8256572420634921,
          0.8263392857142857,
          0.7188326719576719,
          0.8317460317460318,
          0.81640625,
          0.7188326719576719,
          0.8308035714285713,
          0.8293278769841269,
          0.8337508267195768,
          0.8355324074074074,
          0.824855324074074,
          0.806394675925926,
          0.8343171296296296,
          0.8243055555555555,
          0.8270171957671957,
          0.8267650462962962,
          0.8311590608465608,
          0.8289393187830688,
          0.8256283068783068,
          0.825934193121693,
          0.8290674603174603,
          0.8106274801587302,
          0.8300801917989418,
          0.8306010251322752,
          0.8287987764550264,
          0.8252438822751322,
          0.8256448412698413,
          0.8303902116402115,
          0.8305018187830688,
          0.8148974867724867,
          0.8220238095238095,
          0.8284887566137566,
          0.8279431216931217,
          0.8334904100529099,
          0.821875,
          0.8318080357142856,
          0.8308449074074075,
          0.8232556216931217,
          0.8282531415343914,
          0.8299727182539682,
          0.8213128306878307,
          0.8301876653439153,
          0.832473544973545,
          0.8280092592592594,
          0.8289434523809524,
          0.830324074074074,
          0.8314814814814813,
          0.8275669642857142,
          0.8217427248677248,
          0.8153025793650792,
          0.8220486111111113,
          0.8328538359788361,
          0.8300223214285714,
          0.8273313492063492,
          0.8327918320105819
         ],
         "yaxis": "y3"
        },
        {
         "marker": {
          "color": [
           0,
           1,
           2,
           3,
           4,
           5,
           6,
           7,
           8,
           9,
           10,
           11,
           12,
           13,
           14,
           15,
           16,
           17,
           18,
           19,
           20,
           21,
           22,
           23,
           24,
           25,
           26,
           27,
           28,
           29,
           30,
           31,
           32,
           33,
           34,
           35,
           36,
           37,
           38,
           39,
           40,
           41,
           42,
           43,
           44,
           45,
           46,
           47,
           48,
           49,
           50,
           51,
           52,
           53,
           54,
           55,
           56,
           57,
           58,
           59,
           60,
           61,
           62,
           63,
           64,
           65,
           66,
           67,
           68,
           69,
           70,
           71,
           72,
           73,
           74,
           75,
           76,
           77,
           78,
           79,
           80,
           81,
           82,
           83,
           84,
           85,
           86,
           87,
           88,
           89,
           90,
           91,
           92,
           93,
           94,
           95,
           96,
           97,
           98,
           99
          ],
          "colorbar": {
           "title": {
            "text": "Trial"
           },
           "x": 1,
           "xpad": 40
          },
          "colorscale": [
           [
            0,
            "rgb(247,251,255)"
           ],
           [
            0.125,
            "rgb(222,235,247)"
           ],
           [
            0.25,
            "rgb(198,219,239)"
           ],
           [
            0.375,
            "rgb(158,202,225)"
           ],
           [
            0.5,
            "rgb(107,174,214)"
           ],
           [
            0.625,
            "rgb(66,146,198)"
           ],
           [
            0.75,
            "rgb(33,113,181)"
           ],
           [
            0.875,
            "rgb(8,81,156)"
           ],
           [
            1,
            "rgb(8,48,107)"
           ]
          ],
          "line": {
           "color": "Grey",
           "width": 0.5
          },
          "showscale": false
         },
         "mode": "markers",
         "name": "Feasible Trial",
         "showlegend": false,
         "type": "scatter",
         "x": [
          11,
          8,
          11,
          6,
          17,
          16,
          11,
          18,
          18,
          20,
          4,
          13,
          6,
          20,
          2,
          17,
          11,
          8,
          2,
          3,
          5,
          10,
          11,
          2,
          20,
          2,
          9,
          20,
          20,
          2,
          20,
          20,
          20,
          2,
          20,
          2,
          20,
          11,
          20,
          2,
          2,
          9,
          20,
          2,
          2,
          2,
          2,
          2,
          20,
          2,
          20,
          18,
          2,
          15,
          10,
          2,
          2,
          13,
          2,
          13,
          11,
          20,
          9,
          20,
          2,
          20,
          20,
          20,
          20,
          2,
          20,
          9,
          2,
          20,
          20,
          20,
          2,
          20,
          2,
          2,
          20,
          2,
          20,
          2,
          11,
          2,
          20,
          20,
          20,
          20,
          9,
          2,
          12,
          2,
          2,
          13,
          10,
          9,
          11,
          2
         ],
         "xaxis": "x4",
         "y": [
          0.8259300595238095,
          0.8193163029100529,
          0.8148892195767197,
          0.8319444444444445,
          0.8241650132275133,
          0.8118262235449736,
          0.8330935846560846,
          0.8339575066137567,
          0.8146453373015874,
          0.808428406084656,
          0.8317336309523811,
          0.818051421957672,
          0.83036541005291,
          0.8219122023809524,
          0.8295593584656084,
          0.8311879960317461,
          0.8192212301587303,
          0.8356977513227515,
          0.7282076719576719,
          0.8140087632275133,
          0.8166873346560847,
          0.7714368386243385,
          0.8015542328042328,
          0.8133928571428571,
          0.7822007275132276,
          0.7308862433862433,
          0.8272569444444444,
          0.8300595238095237,
          0.8278356481481481,
          0.8315352182539681,
          0.830716765873016,
          0.8264963624338624,
          0.8308077050264551,
          0.820271164021164,
          0.812016369047619,
          0.8319113756613756,
          0.8212880291005289,
          0.8300553902116402,
          0.8211598875661374,
          0.8240988756613756,
          0.8305762235449734,
          0.826727843915344,
          0.8321965939153438,
          0.8293402777777776,
          0.8296461640211641,
          0.8256572420634921,
          0.8263392857142857,
          0.7188326719576719,
          0.8317460317460318,
          0.81640625,
          0.7188326719576719,
          0.8308035714285713,
          0.8293278769841269,
          0.8337508267195768,
          0.8355324074074074,
          0.824855324074074,
          0.806394675925926,
          0.8343171296296296,
          0.8243055555555555,
          0.8270171957671957,
          0.8267650462962962,
          0.8311590608465608,
          0.8289393187830688,
          0.8256283068783068,
          0.825934193121693,
          0.8290674603174603,
          0.8106274801587302,
          0.8300801917989418,
          0.8306010251322752,
          0.8287987764550264,
          0.8252438822751322,
          0.8256448412698413,
          0.8303902116402115,
          0.8305018187830688,
          0.8148974867724867,
          0.8220238095238095,
          0.8284887566137566,
          0.8279431216931217,
          0.8334904100529099,
          0.821875,
          0.8318080357142856,
          0.8308449074074075,
          0.8232556216931217,
          0.8282531415343914,
          0.8299727182539682,
          0.8213128306878307,
          0.8301876653439153,
          0.832473544973545,
          0.8280092592592594,
          0.8289434523809524,
          0.830324074074074,
          0.8314814814814813,
          0.8275669642857142,
          0.8217427248677248,
          0.8153025793650792,
          0.8220486111111113,
          0.8328538359788361,
          0.8300223214285714,
          0.8273313492063492,
          0.8327918320105819
         ],
         "yaxis": "y4"
        }
       ],
       "layout": {
        "template": {
         "data": {
          "bar": [
           {
            "error_x": {
             "color": "#2a3f5f"
            },
            "error_y": {
             "color": "#2a3f5f"
            },
            "marker": {
             "line": {
              "color": "#E5ECF6",
              "width": 0.5
             },
             "pattern": {
              "fillmode": "overlay",
              "size": 10,
              "solidity": 0.2
             }
            },
            "type": "bar"
           }
          ],
          "barpolar": [
           {
            "marker": {
             "line": {
              "color": "#E5ECF6",
              "width": 0.5
             },
             "pattern": {
              "fillmode": "overlay",
              "size": 10,
              "solidity": 0.2
             }
            },
            "type": "barpolar"
           }
          ],
          "carpet": [
           {
            "aaxis": {
             "endlinecolor": "#2a3f5f",
             "gridcolor": "white",
             "linecolor": "white",
             "minorgridcolor": "white",
             "startlinecolor": "#2a3f5f"
            },
            "baxis": {
             "endlinecolor": "#2a3f5f",
             "gridcolor": "white",
             "linecolor": "white",
             "minorgridcolor": "white",
             "startlinecolor": "#2a3f5f"
            },
            "type": "carpet"
           }
          ],
          "choropleth": [
           {
            "colorbar": {
             "outlinewidth": 0,
             "ticks": ""
            },
            "type": "choropleth"
           }
          ],
          "contour": [
           {
            "colorbar": {
             "outlinewidth": 0,
             "ticks": ""
            },
            "colorscale": [
             [
              0,
              "#0d0887"
             ],
             [
              0.1111111111111111,
              "#46039f"
             ],
             [
              0.2222222222222222,
              "#7201a8"
             ],
             [
              0.3333333333333333,
              "#9c179e"
             ],
             [
              0.4444444444444444,
              "#bd3786"
             ],
             [
              0.5555555555555556,
              "#d8576b"
             ],
             [
              0.6666666666666666,
              "#ed7953"
             ],
             [
              0.7777777777777778,
              "#fb9f3a"
             ],
             [
              0.8888888888888888,
              "#fdca26"
             ],
             [
              1,
              "#f0f921"
             ]
            ],
            "type": "contour"
           }
          ],
          "contourcarpet": [
           {
            "colorbar": {
             "outlinewidth": 0,
             "ticks": ""
            },
            "type": "contourcarpet"
           }
          ],
          "heatmap": [
           {
            "colorbar": {
             "outlinewidth": 0,
             "ticks": ""
            },
            "colorscale": [
             [
              0,
              "#0d0887"
             ],
             [
              0.1111111111111111,
              "#46039f"
             ],
             [
              0.2222222222222222,
              "#7201a8"
             ],
             [
              0.3333333333333333,
              "#9c179e"
             ],
             [
              0.4444444444444444,
              "#bd3786"
             ],
             [
              0.5555555555555556,
              "#d8576b"
             ],
             [
              0.6666666666666666,
              "#ed7953"
             ],
             [
              0.7777777777777778,
              "#fb9f3a"
             ],
             [
              0.8888888888888888,
              "#fdca26"
             ],
             [
              1,
              "#f0f921"
             ]
            ],
            "type": "heatmap"
           }
          ],
          "heatmapgl": [
           {
            "colorbar": {
             "outlinewidth": 0,
             "ticks": ""
            },
            "colorscale": [
             [
              0,
              "#0d0887"
             ],
             [
              0.1111111111111111,
              "#46039f"
             ],
             [
              0.2222222222222222,
              "#7201a8"
             ],
             [
              0.3333333333333333,
              "#9c179e"
             ],
             [
              0.4444444444444444,
              "#bd3786"
             ],
             [
              0.5555555555555556,
              "#d8576b"
             ],
             [
              0.6666666666666666,
              "#ed7953"
             ],
             [
              0.7777777777777778,
              "#fb9f3a"
             ],
             [
              0.8888888888888888,
              "#fdca26"
             ],
             [
              1,
              "#f0f921"
             ]
            ],
            "type": "heatmapgl"
           }
          ],
          "histogram": [
           {
            "marker": {
             "pattern": {
              "fillmode": "overlay",
              "size": 10,
              "solidity": 0.2
             }
            },
            "type": "histogram"
           }
          ],
          "histogram2d": [
           {
            "colorbar": {
             "outlinewidth": 0,
             "ticks": ""
            },
            "colorscale": [
             [
              0,
              "#0d0887"
             ],
             [
              0.1111111111111111,
              "#46039f"
             ],
             [
              0.2222222222222222,
              "#7201a8"
             ],
             [
              0.3333333333333333,
              "#9c179e"
             ],
             [
              0.4444444444444444,
              "#bd3786"
             ],
             [
              0.5555555555555556,
              "#d8576b"
             ],
             [
              0.6666666666666666,
              "#ed7953"
             ],
             [
              0.7777777777777778,
              "#fb9f3a"
             ],
             [
              0.8888888888888888,
              "#fdca26"
             ],
             [
              1,
              "#f0f921"
             ]
            ],
            "type": "histogram2d"
           }
          ],
          "histogram2dcontour": [
           {
            "colorbar": {
             "outlinewidth": 0,
             "ticks": ""
            },
            "colorscale": [
             [
              0,
              "#0d0887"
             ],
             [
              0.1111111111111111,
              "#46039f"
             ],
             [
              0.2222222222222222,
              "#7201a8"
             ],
             [
              0.3333333333333333,
              "#9c179e"
             ],
             [
              0.4444444444444444,
              "#bd3786"
             ],
             [
              0.5555555555555556,
              "#d8576b"
             ],
             [
              0.6666666666666666,
              "#ed7953"
             ],
             [
              0.7777777777777778,
              "#fb9f3a"
             ],
             [
              0.8888888888888888,
              "#fdca26"
             ],
             [
              1,
              "#f0f921"
             ]
            ],
            "type": "histogram2dcontour"
           }
          ],
          "mesh3d": [
           {
            "colorbar": {
             "outlinewidth": 0,
             "ticks": ""
            },
            "type": "mesh3d"
           }
          ],
          "parcoords": [
           {
            "line": {
             "colorbar": {
              "outlinewidth": 0,
              "ticks": ""
             }
            },
            "type": "parcoords"
           }
          ],
          "pie": [
           {
            "automargin": true,
            "type": "pie"
           }
          ],
          "scatter": [
           {
            "fillpattern": {
             "fillmode": "overlay",
             "size": 10,
             "solidity": 0.2
            },
            "type": "scatter"
           }
          ],
          "scatter3d": [
           {
            "line": {
             "colorbar": {
              "outlinewidth": 0,
              "ticks": ""
             }
            },
            "marker": {
             "colorbar": {
              "outlinewidth": 0,
              "ticks": ""
             }
            },
            "type": "scatter3d"
           }
          ],
          "scattercarpet": [
           {
            "marker": {
             "colorbar": {
              "outlinewidth": 0,
              "ticks": ""
             }
            },
            "type": "scattercarpet"
           }
          ],
          "scattergeo": [
           {
            "marker": {
             "colorbar": {
              "outlinewidth": 0,
              "ticks": ""
             }
            },
            "type": "scattergeo"
           }
          ],
          "scattergl": [
           {
            "marker": {
             "colorbar": {
              "outlinewidth": 0,
              "ticks": ""
             }
            },
            "type": "scattergl"
           }
          ],
          "scattermapbox": [
           {
            "marker": {
             "colorbar": {
              "outlinewidth": 0,
              "ticks": ""
             }
            },
            "type": "scattermapbox"
           }
          ],
          "scatterpolar": [
           {
            "marker": {
             "colorbar": {
              "outlinewidth": 0,
              "ticks": ""
             }
            },
            "type": "scatterpolar"
           }
          ],
          "scatterpolargl": [
           {
            "marker": {
             "colorbar": {
              "outlinewidth": 0,
              "ticks": ""
             }
            },
            "type": "scatterpolargl"
           }
          ],
          "scatterternary": [
           {
            "marker": {
             "colorbar": {
              "outlinewidth": 0,
              "ticks": ""
             }
            },
            "type": "scatterternary"
           }
          ],
          "surface": [
           {
            "colorbar": {
             "outlinewidth": 0,
             "ticks": ""
            },
            "colorscale": [
             [
              0,
              "#0d0887"
             ],
             [
              0.1111111111111111,
              "#46039f"
             ],
             [
              0.2222222222222222,
              "#7201a8"
             ],
             [
              0.3333333333333333,
              "#9c179e"
             ],
             [
              0.4444444444444444,
              "#bd3786"
             ],
             [
              0.5555555555555556,
              "#d8576b"
             ],
             [
              0.6666666666666666,
              "#ed7953"
             ],
             [
              0.7777777777777778,
              "#fb9f3a"
             ],
             [
              0.8888888888888888,
              "#fdca26"
             ],
             [
              1,
              "#f0f921"
             ]
            ],
            "type": "surface"
           }
          ],
          "table": [
           {
            "cells": {
             "fill": {
              "color": "#EBF0F8"
             },
             "line": {
              "color": "white"
             }
            },
            "header": {
             "fill": {
              "color": "#C8D4E3"
             },
             "line": {
              "color": "white"
             }
            },
            "type": "table"
           }
          ]
         },
         "layout": {
          "annotationdefaults": {
           "arrowcolor": "#2a3f5f",
           "arrowhead": 0,
           "arrowwidth": 1
          },
          "autotypenumbers": "strict",
          "coloraxis": {
           "colorbar": {
            "outlinewidth": 0,
            "ticks": ""
           }
          },
          "colorscale": {
           "diverging": [
            [
             0,
             "#8e0152"
            ],
            [
             0.1,
             "#c51b7d"
            ],
            [
             0.2,
             "#de77ae"
            ],
            [
             0.3,
             "#f1b6da"
            ],
            [
             0.4,
             "#fde0ef"
            ],
            [
             0.5,
             "#f7f7f7"
            ],
            [
             0.6,
             "#e6f5d0"
            ],
            [
             0.7,
             "#b8e186"
            ],
            [
             0.8,
             "#7fbc41"
            ],
            [
             0.9,
             "#4d9221"
            ],
            [
             1,
             "#276419"
            ]
           ],
           "sequential": [
            [
             0,
             "#0d0887"
            ],
            [
             0.1111111111111111,
             "#46039f"
            ],
            [
             0.2222222222222222,
             "#7201a8"
            ],
            [
             0.3333333333333333,
             "#9c179e"
            ],
            [
             0.4444444444444444,
             "#bd3786"
            ],
            [
             0.5555555555555556,
             "#d8576b"
            ],
            [
             0.6666666666666666,
             "#ed7953"
            ],
            [
             0.7777777777777778,
             "#fb9f3a"
            ],
            [
             0.8888888888888888,
             "#fdca26"
            ],
            [
             1,
             "#f0f921"
            ]
           ],
           "sequentialminus": [
            [
             0,
             "#0d0887"
            ],
            [
             0.1111111111111111,
             "#46039f"
            ],
            [
             0.2222222222222222,
             "#7201a8"
            ],
            [
             0.3333333333333333,
             "#9c179e"
            ],
            [
             0.4444444444444444,
             "#bd3786"
            ],
            [
             0.5555555555555556,
             "#d8576b"
            ],
            [
             0.6666666666666666,
             "#ed7953"
            ],
            [
             0.7777777777777778,
             "#fb9f3a"
            ],
            [
             0.8888888888888888,
             "#fdca26"
            ],
            [
             1,
             "#f0f921"
            ]
           ]
          },
          "colorway": [
           "#636efa",
           "#EF553B",
           "#00cc96",
           "#ab63fa",
           "#FFA15A",
           "#19d3f3",
           "#FF6692",
           "#B6E880",
           "#FF97FF",
           "#FECB52"
          ],
          "font": {
           "color": "#2a3f5f"
          },
          "geo": {
           "bgcolor": "white",
           "lakecolor": "white",
           "landcolor": "#E5ECF6",
           "showlakes": true,
           "showland": true,
           "subunitcolor": "white"
          },
          "hoverlabel": {
           "align": "left"
          },
          "hovermode": "closest",
          "mapbox": {
           "style": "light"
          },
          "paper_bgcolor": "white",
          "plot_bgcolor": "#E5ECF6",
          "polar": {
           "angularaxis": {
            "gridcolor": "white",
            "linecolor": "white",
            "ticks": ""
           },
           "bgcolor": "#E5ECF6",
           "radialaxis": {
            "gridcolor": "white",
            "linecolor": "white",
            "ticks": ""
           }
          },
          "scene": {
           "xaxis": {
            "backgroundcolor": "#E5ECF6",
            "gridcolor": "white",
            "gridwidth": 2,
            "linecolor": "white",
            "showbackground": true,
            "ticks": "",
            "zerolinecolor": "white"
           },
           "yaxis": {
            "backgroundcolor": "#E5ECF6",
            "gridcolor": "white",
            "gridwidth": 2,
            "linecolor": "white",
            "showbackground": true,
            "ticks": "",
            "zerolinecolor": "white"
           },
           "zaxis": {
            "backgroundcolor": "#E5ECF6",
            "gridcolor": "white",
            "gridwidth": 2,
            "linecolor": "white",
            "showbackground": true,
            "ticks": "",
            "zerolinecolor": "white"
           }
          },
          "shapedefaults": {
           "line": {
            "color": "#2a3f5f"
           }
          },
          "ternary": {
           "aaxis": {
            "gridcolor": "white",
            "linecolor": "white",
            "ticks": ""
           },
           "baxis": {
            "gridcolor": "white",
            "linecolor": "white",
            "ticks": ""
           },
           "bgcolor": "#E5ECF6",
           "caxis": {
            "gridcolor": "white",
            "linecolor": "white",
            "ticks": ""
           }
          },
          "title": {
           "x": 0.05
          },
          "xaxis": {
           "automargin": true,
           "gridcolor": "white",
           "linecolor": "white",
           "ticks": "",
           "title": {
            "standoff": 15
           },
           "zerolinecolor": "white",
           "zerolinewidth": 2
          },
          "yaxis": {
           "automargin": true,
           "gridcolor": "white",
           "linecolor": "white",
           "ticks": "",
           "title": {
            "standoff": 15
           },
           "zerolinecolor": "white",
           "zerolinewidth": 2
          }
         }
        },
        "title": {
         "text": "Slice Plot"
        },
        "width": 1200,
        "xaxis": {
         "anchor": "y",
         "categoryarray": [
          "gini",
          "entropy"
         ],
         "categoryorder": "array",
         "domain": [
          0,
          0.2125
         ],
         "title": {
          "text": "criterion"
         },
         "type": "category"
        },
        "xaxis2": {
         "anchor": "y2",
         "domain": [
          0.2625,
          0.475
         ],
         "title": {
          "text": "max_depth"
         }
        },
        "xaxis3": {
         "anchor": "y3",
         "domain": [
          0.525,
          0.7375
         ],
         "title": {
          "text": "min_samples_leaf"
         }
        },
        "xaxis4": {
         "anchor": "y4",
         "domain": [
          0.7875,
          1
         ],
         "title": {
          "text": "min_samples_split"
         }
        },
        "yaxis": {
         "anchor": "x",
         "domain": [
          0,
          1
         ],
         "title": {
          "text": "Objective Value"
         }
        },
        "yaxis2": {
         "anchor": "x2",
         "domain": [
          0,
          1
         ],
         "matches": "y",
         "showticklabels": false
        },
        "yaxis3": {
         "anchor": "x3",
         "domain": [
          0,
          1
         ],
         "matches": "y",
         "showticklabels": false
        },
        "yaxis4": {
         "anchor": "x4",
         "domain": [
          0,
          1
         ],
         "matches": "y",
         "showticklabels": false
        }
       }
      }
     },
     "metadata": {},
     "output_type": "display_data"
    }
   ],
   "source": [
    "optuna.visualization.plot_slice(study)"
   ]
  },
  {
   "cell_type": "code",
   "execution_count": 14,
   "metadata": {},
   "outputs": [
    {
     "name": "stdout",
     "output_type": "stream",
     "text": [
      "Accuracy: 0.7270\n",
      "AUC-ROC: 0.8351\n"
     ]
    },
    {
     "data": {
      "image/png": "[encoded data removed]",
      "text/plain": [
       "<Figure size 640x480 with 1 Axes>"
      ]
     },
     "metadata": {},
     "output_type": "display_data"
    }
   ],
   "source": [
    "# Criando um modelo com os melhores hiperparâmetros\n",
    "best_params = trial.params\n",
    "model = tree.DecisionTreeClassifier(random_state=Random_Seed, **best_params)\n",
    "\n",
    "if Cross_Validation:\n",
    "    cv_results = cross_validate(model, X, y, scoring=['accuracy', 'roc_auc'])\n",
    "    acc = cv_results['test_accuracy'].mean()\n",
    "    roc_auc = cv_results['test_roc_auc'].mean()\n",
    "else:\n",
    "    # Train model\n",
    "    model.fit(train_X, train_y)\n",
    "\n",
    "    # Test model\n",
    "    y_pred = model.predict(test_X)\n",
    "    pred_probs = model.predict_proba(test_X)\n",
    "\n",
    "    # Evaluation\n",
    "    acc = accuracy_score(test_y, y_pred)\n",
    "    roc_auc = roc_auc_score(test_y, pred_probs[:, 1])\n",
    "\n",
    "print(f\"Accuracy: {acc:.4f}\")\n",
    "print(f\"AUC-ROC: {roc_auc:.4f}\")\n",
    "\n",
    "model.fit(X, y)\n",
    "plot = tree.plot_tree(model)"
   ]
  },
  {
   "attachments": {},
   "cell_type": "markdown",
   "metadata": {},
   "source": [
    "### References:\n",
    "* https://scikit-learn.org/stable/modules/generated/sklearn.linear_model.LogisticRegression.html\n",
    "* https://scikit-learn.org/stable/modules/tree.html"
   ]
  }
 ],
 "metadata": {
  "kernelspec": {
   "display_name": "base",
   "language": "python",
   "name": "python3"
  },
  "language_info": {
   "codemirror_mode": {
    "name": "ipython",
    "version": 3
   },
   "file_extension": ".py",
   "mimetype": "text/x-python",
   "name": "python",
   "nbconvert_exporter": "python",
   "pygments_lexer": "ipython3",
   "version": "3.10.12"
  },
  "orig_nbformat": 4
 },
 "nbformat": 4,
 "nbformat_minor": 2
}

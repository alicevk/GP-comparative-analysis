{
 "cells": [
  {
   "attachments": {},
   "cell_type": "markdown",
   "metadata": {},
   "source": [
    "# Alternative Models: Eager Learners I\n",
    "\n",
    "<hr>\n",
    "\n",
    "* Logistic Regression\n",
    "* Decision Trees"
   ]
  },
  {
   "cell_type": "code",
   "execution_count": 1,
   "metadata": {},
   "outputs": [],
   "source": [
    "# Import needed libraries and modules\n",
    "from codecarbon import EmissionsTracker\n",
    "import os\n",
    "import numpy as np\n",
    "import pandas as pd\n",
    "from sklearn.model_selection import cross_validate, cross_val_score\n",
    "from sklearn.preprocessing import StandardScaler, OneHotEncoder\n",
    "from sklearn.compose import ColumnTransformer\n",
    "from sklearn.decomposition import PCA\n",
    "from sklearn.linear_model import LogisticRegression\n",
    "from sklearn import tree\n",
    "import optuna\n",
    "from optuna.samplers import GPSampler\n",
    "from sklearn.pipeline import Pipeline\n",
    "import json\n",
    "\n",
    "# Fetch dataset from UCI Repository\n",
    "from ucimlrepo import fetch_ucirepo\n",
    "heart_disease = fetch_ucirepo(id=45)\n",
    "df = heart_disease.data.original"
   ]
  },
  {
   "cell_type": "code",
   "execution_count": 2,
   "metadata": {},
   "outputs": [],
   "source": [
    "# ---------------------------------------------------------------------------- #\n",
    "#                                PRE-PROCESSING                                #\n",
    "# ---------------------------------------------------------------------------- #\n",
    "\n",
    "##### SETTINGS #####\n",
    "PC_Features = True\n",
    "Random_Seed = 82024\n",
    "K_Folds = 10\n",
    "Max_Iterations = 200\n",
    "####################\n",
    "\n",
    "# Drop missing values\n",
    "df = df.dropna()\n",
    "df = df.reset_index(drop=True)\n",
    "\n",
    "# Binarize target\n",
    "df.loc[df['num'] != 0, 'num'] = 1\n",
    "\n",
    "# Define features and target vectors\n",
    "X = df.iloc[:,:-1]\n",
    "y = df['num']\n",
    "\n",
    "# Separate integer from categorical features\n",
    "int_features, cat_features = ['age', 'trestbps', 'chol', 'thalach', 'oldpeak'],\\\n",
    "['sex', 'cp', 'fbs', 'restecg', 'exang', 'slope', 'ca', 'thal']\n",
    "\n",
    "# Define preprocessing\n",
    "preprocessor = ColumnTransformer(\n",
    "    transformers=[\n",
    "        ('int', StandardScaler(), int_features),\n",
    "        ('cat', OneHotEncoder(), cat_features)\n",
    "    ])"
   ]
  },
  {
   "attachments": {},
   "cell_type": "markdown",
   "metadata": {},
   "source": [
    "<hr>\n",
    "\n",
    "## Logistic Regression:"
   ]
  },
  {
   "cell_type": "code",
   "execution_count": 3,
   "metadata": {},
   "outputs": [
    {
     "name": "stderr",
     "output_type": "stream",
     "text": [
      "[codecarbon ERROR @ 10:26:57] Error: Another instance of codecarbon is already running. Turn off the other instance to be able to run this one. Exiting.\n"
     ]
    },
    {
     "name": "stderr",
     "output_type": "stream",
     "text": [
      "[codecarbon WARNING @ 10:26:57] Another instance of codecarbon is already running. Exiting.\n",
      "[codecarbon WARNING @ 10:26:57] Another instance of codecarbon is already running. Exiting.\n"
     ]
    },
    {
     "name": "stdout",
     "output_type": "stream",
     "text": [
      "Accuracy: 0.8448 ± 0.0512\n",
      "AUC-ROC: 0.9143 ± 0.0337\n"
     ]
    }
   ],
   "source": [
    "# ---------------------------------------------------------------------------- #\n",
    "#                                     MODEL                                    #\n",
    "# ---------------------------------------------------------------------------- #\n",
    "\n",
    "# Initiate CodeCarbon to track emissions\n",
    "tracker = EmissionsTracker('LR model', log_level='warning')\n",
    "tracker.start()\n",
    "\n",
    "# Create model\n",
    "model = LogisticRegression(random_state=Random_Seed)\n",
    "\n",
    "# Define pipeline depending on whether PCA is requested or not\n",
    "if PC_Features:\n",
    "    steps = [\n",
    "        ('preprocessor', preprocessor),\n",
    "        ('pca', PCA(n_components=12)),\n",
    "        ('LR-classifier', model)\n",
    "    ]\n",
    "else:\n",
    "    steps = [\n",
    "        ('preprocessor', preprocessor),\n",
    "        ('LR-classifier', model)\n",
    "    ]\n",
    "    \n",
    "pipeline = Pipeline(steps)\n",
    "\n",
    "# Perform cross-validation\n",
    "cv_results = cross_validate(pipeline, X, y, scoring=['accuracy', 'roc_auc'], cv=K_Folds)\n",
    "\n",
    "# Calculate and display results\n",
    "acc = np.mean(cv_results['test_accuracy'])\n",
    "acc_std = np.std(cv_results['test_accuracy'])\n",
    "roc_auc = np.mean(cv_results['test_roc_auc'])\n",
    "roc_auc_std = np.std(cv_results['test_roc_auc'])\n",
    "\n",
    "print(f\"Accuracy: {acc:.4f} ± {acc_std:.4f}\")\n",
    "print(f\"AUC-ROC: {roc_auc:.4f} ± {roc_auc_std:.4f}\")\n",
    "\n",
    "# Stop emission tracking\n",
    "_ = tracker.stop()"
   ]
  },
  {
   "cell_type": "code",
   "execution_count": 4,
   "metadata": {},
   "outputs": [],
   "source": [
    "# Save evaluation to an external file\n",
    "file = 'scores.csv'\n",
    "\n",
    "results = pd.DataFrame({\n",
    "    'LR-model': [acc, acc_std, roc_auc, roc_auc_std]\n",
    "}, index = ['Accuracy', 'Accuracy STD', 'AUC-ROC', 'AUC-ROC STD'])\n",
    "\n",
    "# Check if file exists\n",
    "if os.path.exists(file):\n",
    "    temp = pd.read_csv(file, index_col=0)\n",
    "    results = pd.concat([temp, results], axis=1)\n",
    "\n",
    "# Export\n",
    "results.to_csv(file)"
   ]
  },
  {
   "cell_type": "code",
   "execution_count": 5,
   "metadata": {},
   "outputs": [
    {
     "name": "stderr",
     "output_type": "stream",
     "text": [
      "[codecarbon ERROR @ 10:26:57] Error: Another instance of codecarbon is already running. Turn off the other instance to be able to run this one. Exiting.\n",
      "[codecarbon WARNING @ 10:26:57] Another instance of codecarbon is already running. Exiting.\n",
      "/tmp/ipykernel_118705/2460874507.py:43: ExperimentalWarning: GPSampler is experimental (supported from v3.6.0). The interface can change in the future.\n",
      "  study = optuna.create_study(direction='maximize', sampler=GPSampler())\n",
      "[I 2024-10-31 10:26:59,026] A new study created in memory with name: no-name-541c023a-a261-4788-8b23-5efc32efdbbd\n",
      "[I 2024-10-31 10:26:59,185] Trial 0 finished with value: 0.8866414835164835 and parameters: {'C': 0.0009186799213595288, 'solver': 'saga', 'penalty': 'l2'}. Best is trial 0 with value: 0.8866414835164835.\n",
      "[I 2024-10-31 10:26:59,323] Trial 1 finished with value: 0.9160027472527472 and parameters: {'C': 10.436991137523872, 'solver': 'liblinear', 'penalty': 'l2'}. Best is trial 1 with value: 0.9160027472527472.\n",
      "[I 2024-10-31 10:26:59,457] Trial 2 finished with value: 0.9164835164835164 and parameters: {'C': 3.7217885138672004, 'solver': 'lbfgs', 'penalty': 'l2'}. Best is trial 2 with value: 0.9164835164835164.\n",
      "[I 2024-10-31 10:26:59,636] Trial 3 finished with value: 0.8848214285714286 and parameters: {'C': 0.0005424285791829593, 'solver': 'lbfgs', 'penalty': 'l1'}. Best is trial 2 with value: 0.9164835164835164.\n",
      "[I 2024-10-31 10:26:59,782] Trial 4 finished with value: 0.9160027472527472 and parameters: {'C': 24.70672673683183, 'solver': 'liblinear', 'penalty': 'l2'}. Best is trial 2 with value: 0.9164835164835164.\n",
      "[I 2024-10-31 10:26:59,935] Trial 5 finished with value: 0.9156593406593405 and parameters: {'C': 0.5888599271312492, 'solver': 'saga', 'penalty': 'l2'}. Best is trial 2 with value: 0.9164835164835164.\n",
      "[I 2024-10-31 10:27:00,091] Trial 6 finished with value: 0.8875 and parameters: {'C': 0.0013203279138734988, 'solver': 'liblinear', 'penalty': 'l2'}. Best is trial 2 with value: 0.9164835164835164.\n",
      "[I 2024-10-31 10:27:00,265] Trial 7 finished with value: 0.912912087912088 and parameters: {'C': 0.0749310900055159, 'solver': 'liblinear', 'penalty': 'l2'}. Best is trial 2 with value: 0.9164835164835164.\n",
      "[I 2024-10-31 10:27:00,404] Trial 8 finished with value: 0.8989697802197802 and parameters: {'C': 0.00847072443200141, 'solver': 'saga', 'penalty': 'l2'}. Best is trial 2 with value: 0.9164835164835164.\n",
      "[I 2024-10-31 10:27:00,542] Trial 9 finished with value: 0.8884271978021978 and parameters: {'C': 0.0014555053592790722, 'solver': 'saga', 'penalty': 'l1'}. Best is trial 2 with value: 0.9164835164835164.\n",
      "[I 2024-10-31 10:27:08,220] Trial 10 finished with value: 0.9169986263736263 and parameters: {'C': 2.1584468533222427, 'solver': 'liblinear', 'penalty': 'l1'}. Best is trial 10 with value: 0.9169986263736263.\n",
      "[I 2024-10-31 10:27:08,461] Trial 11 finished with value: 0.9160027472527472 and parameters: {'C': 100.0, 'solver': 'lbfgs', 'penalty': 'l1'}. Best is trial 10 with value: 0.9169986263736263.\n",
      "[I 2024-10-31 10:27:08,723] Trial 12 finished with value: 0.9160027472527472 and parameters: {'C': 15.4513360745425, 'solver': 'saga', 'penalty': 'l1'}. Best is trial 10 with value: 0.9169986263736263.\n",
      "[I 2024-10-31 10:27:08,983] Trial 13 finished with value: 0.9142857142857143 and parameters: {'C': 0.8771514520560738, 'solver': 'lbfgs', 'penalty': 'l1'}. Best is trial 10 with value: 0.9169986263736263.\n",
      "[I 2024-10-31 10:27:09,195] Trial 14 finished with value: 0.9142857142857143 and parameters: {'C': 0.880071403515939, 'solver': 'liblinear', 'penalty': 'l2'}. Best is trial 10 with value: 0.9169986263736263.\n",
      "[I 2024-10-31 10:27:09,479] Trial 15 finished with value: 0.9160027472527472 and parameters: {'C': 10.916293982034626, 'solver': 'liblinear', 'penalty': 'l1'}. Best is trial 10 with value: 0.9169986263736263.\n",
      "[I 2024-10-31 10:27:09,712] Trial 16 finished with value: 0.9160027472527472 and parameters: {'C': 36.36615341185075, 'solver': 'lbfgs', 'penalty': 'l2'}. Best is trial 10 with value: 0.9169986263736263.\n",
      "[I 2024-10-31 10:27:09,944] Trial 17 finished with value: 0.9160027472527472 and parameters: {'C': 100.0, 'solver': 'saga', 'penalty': 'l2'}. Best is trial 10 with value: 0.9169986263736263.\n",
      "[I 2024-10-31 10:27:10,259] Trial 18 finished with value: 0.9160370879120879 and parameters: {'C': 2.959843229605639, 'solver': 'saga', 'penalty': 'l1'}. Best is trial 10 with value: 0.9169986263736263.\n",
      "[I 2024-10-31 10:27:10,560] Trial 19 finished with value: 0.9160027472527472 and parameters: {'C': 7.393504222348808, 'solver': 'saga', 'penalty': 'l2'}. Best is trial 10 with value: 0.9169986263736263.\n",
      "[I 2024-10-31 10:27:10,856] Trial 20 finished with value: 0.9160027472527472 and parameters: {'C': 100.0, 'solver': 'liblinear', 'penalty': 'l1'}. Best is trial 10 with value: 0.9169986263736263.\n",
      "[I 2024-10-31 10:27:11,119] Trial 21 finished with value: 0.9160027472527472 and parameters: {'C': 7.065060931075268, 'solver': 'lbfgs', 'penalty': 'l1'}. Best is trial 10 with value: 0.9169986263736263.\n",
      "[I 2024-10-31 10:27:11,409] Trial 22 finished with value: 0.9160027472527472 and parameters: {'C': 99.94147366262186, 'solver': 'saga', 'penalty': 'l1'}. Best is trial 10 with value: 0.9169986263736263.\n",
      "[I 2024-10-31 10:27:11,623] Trial 23 finished with value: 0.9160027472527472 and parameters: {'C': 100.0, 'solver': 'liblinear', 'penalty': 'l2'}. Best is trial 10 with value: 0.9169986263736263.\n",
      "[I 2024-10-31 10:27:11,865] Trial 24 finished with value: 0.9165178571428572 and parameters: {'C': 3.6325122617366854, 'solver': 'liblinear', 'penalty': 'l1'}. Best is trial 10 with value: 0.9169986263736263.\n",
      "[I 2024-10-31 10:27:12,129] Trial 25 finished with value: 0.9120192307692309 and parameters: {'C': 0.24960610815728906, 'solver': 'saga', 'penalty': 'l1'}. Best is trial 10 with value: 0.9169986263736263.\n",
      "[I 2024-10-31 10:27:12,506] Trial 26 finished with value: 0.9160027472527472 and parameters: {'C': 9.51762694578797, 'solver': 'lbfgs', 'penalty': 'l2'}. Best is trial 10 with value: 0.9169986263736263.\n",
      "[I 2024-10-31 10:27:12,742] Trial 27 finished with value: 0.9160027472527472 and parameters: {'C': 100.0, 'solver': 'lbfgs', 'penalty': 'l2'}. Best is trial 10 with value: 0.9169986263736263.\n",
      "[I 2024-10-31 10:27:13,014] Trial 28 finished with value: 0.9160370879120879 and parameters: {'C': 2.5186128072969773, 'solver': 'saga', 'penalty': 'l2'}. Best is trial 10 with value: 0.9169986263736263.\n",
      "[I 2024-10-31 10:27:13,287] Trial 29 finished with value: 0.9165178571428572 and parameters: {'C': 2.8009783958418306, 'solver': 'liblinear', 'penalty': 'l1'}. Best is trial 10 with value: 0.9169986263736263.\n",
      "[I 2024-10-31 10:27:13,540] Trial 30 finished with value: 0.9124656593406593 and parameters: {'C': 0.26772104735121927, 'solver': 'lbfgs', 'penalty': 'l2'}. Best is trial 10 with value: 0.9169986263736263.\n",
      "[I 2024-10-31 10:27:13,886] Trial 31 finished with value: 0.9160027472527472 and parameters: {'C': 34.97968052158181, 'solver': 'lbfgs', 'penalty': 'l1'}. Best is trial 10 with value: 0.9169986263736263.\n",
      "[I 2024-10-31 10:27:14,160] Trial 32 finished with value: 0.9160027472527472 and parameters: {'C': 33.31459239640753, 'solver': 'saga', 'penalty': 'l2'}. Best is trial 10 with value: 0.9169986263736263.\n",
      "[I 2024-10-31 10:27:14,486] Trial 33 finished with value: 0.9165521978021978 and parameters: {'C': 1.5339641575193594, 'solver': 'liblinear', 'penalty': 'l1'}. Best is trial 10 with value: 0.9169986263736263.\n",
      "[I 2024-10-31 10:27:14,720] Trial 34 finished with value: 0.9160027472527472 and parameters: {'C': 39.279056661035455, 'solver': 'liblinear', 'penalty': 'l1'}. Best is trial 10 with value: 0.9169986263736263.\n",
      "[I 2024-10-31 10:27:14,963] Trial 35 finished with value: 0.9160370879120879 and parameters: {'C': 2.9832113918560865, 'solver': 'lbfgs', 'penalty': 'l1'}. Best is trial 10 with value: 0.9169986263736263.\n",
      "[I 2024-10-31 10:27:15,242] Trial 36 finished with value: 0.884375 and parameters: {'C': 1e-05, 'solver': 'saga', 'penalty': 'l1'}. Best is trial 10 with value: 0.9169986263736263.\n",
      "[I 2024-10-31 10:27:15,545] Trial 37 finished with value: 0.9179945054945055 and parameters: {'C': 0.9007740449044731, 'solver': 'liblinear', 'penalty': 'l1'}. Best is trial 37 with value: 0.9179945054945055.\n",
      "[I 2024-10-31 10:27:15,832] Trial 38 finished with value: 0.9198145604395604 and parameters: {'C': 0.38754239035954774, 'solver': 'liblinear', 'penalty': 'l1'}. Best is trial 38 with value: 0.9198145604395604.\n",
      "[I 2024-10-31 10:27:16,162] Trial 39 finished with value: 0.9169642857142856 and parameters: {'C': 0.2057678544192443, 'solver': 'liblinear', 'penalty': 'l1'}. Best is trial 38 with value: 0.9198145604395604.\n",
      "[I 2024-10-31 10:27:16,416] Trial 40 finished with value: 0.9202953296703296 and parameters: {'C': 0.42470037821130846, 'solver': 'liblinear', 'penalty': 'l1'}. Best is trial 40 with value: 0.9202953296703296.\n",
      "[I 2024-10-31 10:27:16,752] Trial 41 finished with value: 0.9202953296703296 and parameters: {'C': 0.40693937896893856, 'solver': 'liblinear', 'penalty': 'l1'}. Best is trial 40 with value: 0.9202953296703296.\n",
      "[I 2024-10-31 10:27:17,014] Trial 42 finished with value: 0.9202953296703296 and parameters: {'C': 0.4204991134960771, 'solver': 'liblinear', 'penalty': 'l1'}. Best is trial 40 with value: 0.9202953296703296.\n",
      "[I 2024-10-31 10:27:17,274] Trial 43 finished with value: 0.919848901098901 and parameters: {'C': 0.4415711196621707, 'solver': 'liblinear', 'penalty': 'l1'}. Best is trial 40 with value: 0.9202953296703296.\n",
      "[I 2024-10-31 10:27:17,537] Trial 44 finished with value: 0.919848901098901 and parameters: {'C': 0.4567671923367313, 'solver': 'liblinear', 'penalty': 'l1'}. Best is trial 40 with value: 0.9202953296703296.\n",
      "[I 2024-10-31 10:27:17,806] Trial 45 finished with value: 0.919848901098901 and parameters: {'C': 0.4550495299284349, 'solver': 'liblinear', 'penalty': 'l1'}. Best is trial 40 with value: 0.9202953296703296.\n",
      "[I 2024-10-31 10:27:18,068] Trial 46 finished with value: 0.9124656593406593 and parameters: {'C': 0.2613628471700327, 'solver': 'liblinear', 'penalty': 'l2'}. Best is trial 40 with value: 0.9202953296703296.\n",
      "[I 2024-10-31 10:27:18,309] Trial 47 finished with value: 0.884375 and parameters: {'C': 1e-05, 'solver': 'lbfgs', 'penalty': 'l2'}. Best is trial 40 with value: 0.9202953296703296.\n",
      "[I 2024-10-31 10:27:18,622] Trial 48 finished with value: 0.919848901098901 and parameters: {'C': 0.4498962039376101, 'solver': 'liblinear', 'penalty': 'l1'}. Best is trial 40 with value: 0.9202953296703296.\n",
      "[I 2024-10-31 10:27:18,960] Trial 49 finished with value: 0.919848901098901 and parameters: {'C': 0.44068586840046026, 'solver': 'liblinear', 'penalty': 'l1'}. Best is trial 40 with value: 0.9202953296703296.\n",
      "[I 2024-10-31 10:27:19,279] Trial 50 finished with value: 0.9106112637362637 and parameters: {'C': 0.1011256578668353, 'solver': 'saga', 'penalty': 'l2'}. Best is trial 40 with value: 0.9202953296703296.\n",
      "[I 2024-10-31 10:27:19,549] Trial 51 finished with value: 0.8481456043956044 and parameters: {'C': 0.027606045693655823, 'solver': 'liblinear', 'penalty': 'l1'}. Best is trial 40 with value: 0.9202953296703296.\n",
      "[I 2024-10-31 10:27:19,835] Trial 52 finished with value: 0.9202609890109891 and parameters: {'C': 0.3355667627743378, 'solver': 'liblinear', 'penalty': 'l1'}. Best is trial 40 with value: 0.9202953296703296.\n",
      "[I 2024-10-31 10:27:20,109] Trial 53 finished with value: 0.9202609890109891 and parameters: {'C': 0.33974312990598043, 'solver': 'liblinear', 'penalty': 'l1'}. Best is trial 40 with value: 0.9202953296703296.\n",
      "[I 2024-10-31 10:27:20,415] Trial 54 finished with value: 0.9202609890109891 and parameters: {'C': 0.3415098582589986, 'solver': 'liblinear', 'penalty': 'l1'}. Best is trial 40 with value: 0.9202953296703296.\n",
      "[I 2024-10-31 10:27:20,778] Trial 55 finished with value: 0.9202609890109891 and parameters: {'C': 0.3426125377415889, 'solver': 'liblinear', 'penalty': 'l1'}. Best is trial 40 with value: 0.9202953296703296.\n",
      "[I 2024-10-31 10:27:21,189] Trial 56 finished with value: 0.9202609890109891 and parameters: {'C': 0.34338782419951497, 'solver': 'liblinear', 'penalty': 'l1'}. Best is trial 40 with value: 0.9202953296703296.\n",
      "[I 2024-10-31 10:27:21,548] Trial 57 finished with value: 0.9202609890109891 and parameters: {'C': 0.3440065257800519, 'solver': 'liblinear', 'penalty': 'l1'}. Best is trial 40 with value: 0.9202953296703296.\n",
      "[I 2024-10-31 10:27:21,829] Trial 58 finished with value: 0.9202609890109891 and parameters: {'C': 0.3445263916109909, 'solver': 'liblinear', 'penalty': 'l1'}. Best is trial 40 with value: 0.9202953296703296.\n",
      "[I 2024-10-31 10:27:22,251] Trial 59 finished with value: 0.9202609890109891 and parameters: {'C': 0.3449954759665841, 'solver': 'liblinear', 'penalty': 'l1'}. Best is trial 40 with value: 0.9202953296703296.\n",
      "[I 2024-10-31 10:27:22,613] Trial 60 finished with value: 0.9207417582417582 and parameters: {'C': 0.3454523724514798, 'solver': 'liblinear', 'penalty': 'l1'}. Best is trial 60 with value: 0.9207417582417582.\n",
      "[I 2024-10-31 10:27:22,974] Trial 61 finished with value: 0.9151442307692307 and parameters: {'C': 1.3196117591469012, 'solver': 'lbfgs', 'penalty': 'l2'}. Best is trial 60 with value: 0.9207417582417582.\n",
      "[I 2024-10-31 10:27:23,279] Trial 62 finished with value: 0.908173076923077 and parameters: {'C': 0.03293646396482089, 'solver': 'lbfgs', 'penalty': 'l2'}. Best is trial 60 with value: 0.9207417582417582.\n",
      "[I 2024-10-31 10:27:23,587] Trial 63 finished with value: 0.8848214285714286 and parameters: {'C': 9.045916513109318e-05, 'solver': 'liblinear', 'penalty': 'l2'}. Best is trial 60 with value: 0.9207417582417582.\n",
      "[I 2024-10-31 10:27:23,941] Trial 64 finished with value: 0.912912087912088 and parameters: {'C': 0.295320176966027, 'solver': 'lbfgs', 'penalty': 'l1'}. Best is trial 60 with value: 0.9207417582417582.\n",
      "[I 2024-10-31 10:27:24,323] Trial 65 finished with value: 0.9160027472527472 and parameters: {'C': 54.77385402963556, 'solver': 'liblinear', 'penalty': 'l2'}. Best is trial 60 with value: 0.9207417582417582.\n",
      "[I 2024-10-31 10:27:24,630] Trial 66 finished with value: 0.9164835164835164 and parameters: {'C': 3.967866391226384, 'solver': 'liblinear', 'penalty': 'l2'}. Best is trial 60 with value: 0.9207417582417582.\n",
      "[I 2024-10-31 10:27:24,944] Trial 67 finished with value: 0.9160027472527472 and parameters: {'C': 52.58428527922127, 'solver': 'saga', 'penalty': 'l1'}. Best is trial 60 with value: 0.9207417582417582.\n",
      "[I 2024-10-31 10:27:25,275] Trial 68 finished with value: 0.884375 and parameters: {'C': 6.952258073419338e-05, 'solver': 'saga', 'penalty': 'l1'}. Best is trial 60 with value: 0.9207417582417582.\n",
      "[I 2024-10-31 10:27:25,584] Trial 69 finished with value: 0.9160027472527472 and parameters: {'C': 6.868608917851162, 'solver': 'saga', 'penalty': 'l1'}. Best is trial 60 with value: 0.9207417582417582.\n",
      "[I 2024-10-31 10:27:25,978] Trial 70 finished with value: 0.9142857142857143 and parameters: {'C': 0.8037236277269778, 'solver': 'saga', 'penalty': 'l1'}. Best is trial 60 with value: 0.9207417582417582.\n",
      "[I 2024-10-31 10:27:26,303] Trial 71 finished with value: 0.9063530219780219 and parameters: {'C': 0.024974956776743922, 'solver': 'liblinear', 'penalty': 'l2'}. Best is trial 60 with value: 0.9207417582417582.\n",
      "[I 2024-10-31 10:27:26,670] Trial 72 finished with value: 0.9160027472527472 and parameters: {'C': 15.726858820055895, 'solver': 'saga', 'penalty': 'l2'}. Best is trial 60 with value: 0.9207417582417582.\n",
      "[I 2024-10-31 10:27:27,016] Trial 73 finished with value: 0.9151785714285714 and parameters: {'C': 0.6004254366514287, 'solver': 'lbfgs', 'penalty': 'l2'}. Best is trial 60 with value: 0.9207417582417582.\n",
      "[I 2024-10-31 10:27:27,380] Trial 74 finished with value: 0.9192994505494505 and parameters: {'C': 0.2993284392373855, 'solver': 'liblinear', 'penalty': 'l1'}. Best is trial 60 with value: 0.9207417582417582.\n",
      "[I 2024-10-31 10:27:27,655] Trial 75 finished with value: 0.9160027472527472 and parameters: {'C': 16.170705572511583, 'solver': 'lbfgs', 'penalty': 'l1'}. Best is trial 60 with value: 0.9207417582417582.\n",
      "[I 2024-10-31 10:27:28,004] Trial 76 finished with value: 0.9160027472527472 and parameters: {'C': 27.9532964726908, 'solver': 'saga', 'penalty': 'l1'}. Best is trial 60 with value: 0.9207417582417582.\n",
      "[I 2024-10-31 10:27:28,346] Trial 77 finished with value: 0.9142513736263735 and parameters: {'C': 1.1082411552030995, 'solver': 'saga', 'penalty': 'l2'}. Best is trial 60 with value: 0.9207417582417582.\n",
      "[I 2024-10-31 10:27:28,653] Trial 78 finished with value: 0.9155906593406593 and parameters: {'C': 2.142222115369284, 'solver': 'liblinear', 'penalty': 'l2'}. Best is trial 60 with value: 0.9207417582417582.\n",
      "[I 2024-10-31 10:27:28,970] Trial 79 finished with value: 0.9194024725274726 and parameters: {'C': 0.5875218833443878, 'solver': 'liblinear', 'penalty': 'l1'}. Best is trial 60 with value: 0.9207417582417582.\n",
      "[I 2024-10-31 10:27:29,288] Trial 80 finished with value: 0.9095467032967035 and parameters: {'C': 0.044018583975709166, 'solver': 'saga', 'penalty': 'l2'}. Best is trial 60 with value: 0.9207417582417582.\n",
      "[I 2024-10-31 10:27:29,645] Trial 81 finished with value: 0.9160027472527472 and parameters: {'C': 20.8611948133734, 'solver': 'liblinear', 'penalty': 'l1'}. Best is trial 60 with value: 0.9207417582417582.\n",
      "[I 2024-10-31 10:27:29,930] Trial 82 finished with value: 0.9160027472527472 and parameters: {'C': 18.756239105059976, 'solver': 'lbfgs', 'penalty': 'l2'}. Best is trial 60 with value: 0.9207417582417582.\n",
      "[I 2024-10-31 10:27:30,357] Trial 83 finished with value: 0.9197802197802197 and parameters: {'C': 0.3067193825021408, 'solver': 'liblinear', 'penalty': 'l1'}. Best is trial 60 with value: 0.9207417582417582.\n",
      "[I 2024-10-31 10:27:30,686] Trial 84 finished with value: 0.884375 and parameters: {'C': 2.9706868119686752e-05, 'solver': 'saga', 'penalty': 'l2'}. Best is trial 60 with value: 0.9207417582417582.\n",
      "[I 2024-10-31 10:27:31,041] Trial 85 finished with value: 0.9160027472527472 and parameters: {'C': 63.90828118613138, 'solver': 'saga', 'penalty': 'l2'}. Best is trial 60 with value: 0.9207417582417582.\n",
      "[I 2024-10-31 10:27:31,362] Trial 86 finished with value: 0.9193337912087911 and parameters: {'C': 0.37506788378730543, 'solver': 'liblinear', 'penalty': 'l1'}. Best is trial 60 with value: 0.9207417582417582.\n",
      "[I 2024-10-31 10:27:31,699] Trial 87 finished with value: 0.9192994505494505 and parameters: {'C': 0.30527079180318345, 'solver': 'liblinear', 'penalty': 'l1'}. Best is trial 60 with value: 0.9207417582417582.\n",
      "[I 2024-10-31 10:27:32,089] Trial 88 finished with value: 0.919848901098901 and parameters: {'C': 0.5643280351352474, 'solver': 'liblinear', 'penalty': 'l1'}. Best is trial 60 with value: 0.9207417582417582.\n",
      "[I 2024-10-31 10:27:32,445] Trial 89 finished with value: 0.9202953296703296 and parameters: {'C': 0.39583186839806367, 'solver': 'liblinear', 'penalty': 'l1'}. Best is trial 60 with value: 0.9207417582417582.\n",
      "[I 2024-10-31 10:27:32,794] Trial 90 finished with value: 0.9160027472527472 and parameters: {'C': 65.13523945591947, 'solver': 'lbfgs', 'penalty': 'l1'}. Best is trial 60 with value: 0.9207417582417582.\n",
      "[I 2024-10-31 10:27:33,146] Trial 91 finished with value: 0.9202953296703296 and parameters: {'C': 0.3955320739151694, 'solver': 'liblinear', 'penalty': 'l1'}. Best is trial 60 with value: 0.9207417582417582.\n",
      "[I 2024-10-31 10:27:34,143] Trial 92 finished with value: 0.919848901098901 and parameters: {'C': 0.5555056599272766, 'solver': 'liblinear', 'penalty': 'l1'}. Best is trial 60 with value: 0.9207417582417582.\n",
      "[I 2024-10-31 10:27:34,579] Trial 93 finished with value: 0.9198489010989009 and parameters: {'C': 0.3989553210912224, 'solver': 'liblinear', 'penalty': 'l1'}. Best is trial 60 with value: 0.9207417582417582.\n",
      "[I 2024-10-31 10:27:35,006] Trial 94 finished with value: 0.892135989010989 and parameters: {'C': 0.0036584618393073285, 'solver': 'lbfgs', 'penalty': 'l2'}. Best is trial 60 with value: 0.9207417582417582.\n",
      "[I 2024-10-31 10:27:35,584] Trial 95 finished with value: 0.918956043956044 and parameters: {'C': 0.6077281537179772, 'solver': 'liblinear', 'penalty': 'l1'}. Best is trial 60 with value: 0.9207417582417582.\n",
      "[I 2024-10-31 10:27:35,951] Trial 96 finished with value: 0.9202953296703296 and parameters: {'C': 0.3928273808751159, 'solver': 'liblinear', 'penalty': 'l1'}. Best is trial 60 with value: 0.9207417582417582.\n",
      "[I 2024-10-31 10:27:36,326] Trial 97 finished with value: 0.9202953296703296 and parameters: {'C': 0.39255050192412905, 'solver': 'liblinear', 'penalty': 'l1'}. Best is trial 60 with value: 0.9207417582417582.\n",
      "[I 2024-10-31 10:27:36,658] Trial 98 finished with value: 0.9133585164835166 and parameters: {'C': 0.08861223184195895, 'solver': 'lbfgs', 'penalty': 'l2'}. Best is trial 60 with value: 0.9207417582417582.\n",
      "[I 2024-10-31 10:27:37,068] Trial 99 finished with value: 0.8848214285714286 and parameters: {'C': 0.0002942271288928614, 'solver': 'lbfgs', 'penalty': 'l2'}. Best is trial 60 with value: 0.9207417582417582.\n"
     ]
    }
   ],
   "source": [
    "# ---------------------------------------------------------------------------- #\n",
    "#                                 OPTIMIZATION                                 #\n",
    "# ---------------------------------------------------------------------------- #\n",
    "\n",
    "# Initiate CodeCarbon to track emissions\n",
    "tracker = EmissionsTracker('LR optimization', log_level='warning')\n",
    "tracker.start()\n",
    "\n",
    "# Objective function\n",
    "def objective(trial):\n",
    "    # Define parameters\n",
    "    C = trial.suggest_float('C', 1e-5, 1e2, log=True)  # Parâmetro de regularização\n",
    "    solver = trial.suggest_categorical('solver', ['liblinear', 'lbfgs', 'saga'])  # Solver\n",
    "\n",
    "    penalty = trial.suggest_categorical('penalty', ['l1', 'l2'])\n",
    "    penalty = 'l2' if solver != 'liblinear' else penalty\n",
    "\n",
    "    # Create model\n",
    "    temp_model = LogisticRegression(C=C, solver=solver, penalty=penalty, max_iter=1000)\n",
    "\n",
    "    # Define pipeline depending on whether PCA is requested or not\n",
    "    if PC_Features:\n",
    "        steps = [\n",
    "            ('preprocessor', preprocessor),\n",
    "            ('pca', PCA(n_components=12)),\n",
    "            ('LR-classifier', temp_model)\n",
    "        ]\n",
    "    else:\n",
    "        steps = [\n",
    "            ('preprocessor', preprocessor),\n",
    "            ('LR-classifier', temp_model)\n",
    "        ]\n",
    "        \n",
    "    pipeline = Pipeline(steps)\n",
    "    \n",
    "    # Perform cross-validation\n",
    "    roc_auc = cross_val_score(pipeline, X, y, scoring='roc_auc', cv=K_Folds).mean()\n",
    "    \n",
    "    return roc_auc\n",
    "\n",
    "\n",
    "# Optimizing with Optuna\n",
    "study = optuna.create_study(direction='maximize', sampler=GPSampler())\n",
    "study.optimize(objective, n_trials=100)"
   ]
  },
  {
   "cell_type": "code",
   "execution_count": 6,
   "metadata": {},
   "outputs": [
    {
     "name": "stdout",
     "output_type": "stream",
     "text": [
      "AUC-ROC: 0.9207417582417582\n",
      "Best hyperparameters: {'C': 0.3454523724514798, 'solver': 'liblinear', 'penalty': 'l1'}\n"
     ]
    }
   ],
   "source": [
    "# Show best model\n",
    "trial = study.best_trial\n",
    "print('AUC-ROC: {}'.format(trial.value))\n",
    "print(\"Best hyperparameters: {}\".format(trial.params))\n",
    "\n",
    "# Save best trial parameters to a JSON file\n",
    "with open('params/LR-params.json', 'w') as f:\n",
    "    json.dump(trial.params, f)"
   ]
  },
  {
   "cell_type": "code",
   "execution_count": 7,
   "metadata": {},
   "outputs": [
    {
     "data": {
      "application/vnd.plotly.v1+json": {
       "config": {
        "plotlyServerURL": "https://plot.ly"
       },
       "data": [
        {
         "mode": "markers",
         "name": "Objective Value",
         "type": "scatter",
         "x": [
          0,
          1,
          2,
          3,
          4,
          5,
          6,
          7,
          8,
          9,
          10,
          11,
          12,
          13,
          14,
          15,
          16,
          17,
          18,
          19,
          20,
          21,
          22,
          23,
          24,
          25,
          26,
          27,
          28,
          29,
          30,
          31,
          32,
          33,
          34,
          35,
          36,
          37,
          38,
          39,
          40,
          41,
          42,
          43,
          44,
          45,
          46,
          47,
          48,
          49,
          50,
          51,
          52,
          53,
          54,
          55,
          56,
          57,
          58,
          59,
          60,
          61,
          62,
          63,
          64,
          65,
          66,
          67,
          68,
          69,
          70,
          71,
          72,
          73,
          74,
          75,
          76,
          77,
          78,
          79,
          80,
          81,
          82,
          83,
          84,
          85,
          86,
          87,
          88,
          89,
          90,
          91,
          92,
          93,
          94,
          95,
          96,
          97,
          98,
          99
         ],
         "y": [
          0.8866414835164835,
          0.9160027472527472,
          0.9164835164835164,
          0.8848214285714286,
          0.9160027472527472,
          0.9156593406593405,
          0.8875,
          0.912912087912088,
          0.8989697802197802,
          0.8884271978021978,
          0.9169986263736263,
          0.9160027472527472,
          0.9160027472527472,
          0.9142857142857143,
          0.9142857142857143,
          0.9160027472527472,
          0.9160027472527472,
          0.9160027472527472,
          0.9160370879120879,
          0.9160027472527472,
          0.9160027472527472,
          0.9160027472527472,
          0.9160027472527472,
          0.9160027472527472,
          0.9165178571428572,
          0.9120192307692309,
          0.9160027472527472,
          0.9160027472527472,
          0.9160370879120879,
          0.9165178571428572,
          0.9124656593406593,
          0.9160027472527472,
          0.9160027472527472,
          0.9165521978021978,
          0.9160027472527472,
          0.9160370879120879,
          0.884375,
          0.9179945054945055,
          0.9198145604395604,
          0.9169642857142856,
          0.9202953296703296,
          0.9202953296703296,
          0.9202953296703296,
          0.919848901098901,
          0.919848901098901,
          0.919848901098901,
          0.9124656593406593,
          0.884375,
          0.919848901098901,
          0.919848901098901,
          0.9106112637362637,
          0.8481456043956044,
          0.9202609890109891,
          0.9202609890109891,
          0.9202609890109891,
          0.9202609890109891,
          0.9202609890109891,
          0.9202609890109891,
          0.9202609890109891,
          0.9202609890109891,
          0.9207417582417582,
          0.9151442307692307,
          0.908173076923077,
          0.8848214285714286,
          0.912912087912088,
          0.9160027472527472,
          0.9164835164835164,
          0.9160027472527472,
          0.884375,
          0.9160027472527472,
          0.9142857142857143,
          0.9063530219780219,
          0.9160027472527472,
          0.9151785714285714,
          0.9192994505494505,
          0.9160027472527472,
          0.9160027472527472,
          0.9142513736263735,
          0.9155906593406593,
          0.9194024725274726,
          0.9095467032967035,
          0.9160027472527472,
          0.9160027472527472,
          0.9197802197802197,
          0.884375,
          0.9160027472527472,
          0.9193337912087911,
          0.9192994505494505,
          0.919848901098901,
          0.9202953296703296,
          0.9160027472527472,
          0.9202953296703296,
          0.919848901098901,
          0.9198489010989009,
          0.892135989010989,
          0.918956043956044,
          0.9202953296703296,
          0.9202953296703296,
          0.9133585164835166,
          0.8848214285714286
         ]
        },
        {
         "mode": "lines",
         "name": "Best Value",
         "type": "scatter",
         "x": [
          0,
          1,
          2,
          3,
          4,
          5,
          6,
          7,
          8,
          9,
          10,
          11,
          12,
          13,
          14,
          15,
          16,
          17,
          18,
          19,
          20,
          21,
          22,
          23,
          24,
          25,
          26,
          27,
          28,
          29,
          30,
          31,
          32,
          33,
          34,
          35,
          36,
          37,
          38,
          39,
          40,
          41,
          42,
          43,
          44,
          45,
          46,
          47,
          48,
          49,
          50,
          51,
          52,
          53,
          54,
          55,
          56,
          57,
          58,
          59,
          60,
          61,
          62,
          63,
          64,
          65,
          66,
          67,
          68,
          69,
          70,
          71,
          72,
          73,
          74,
          75,
          76,
          77,
          78,
          79,
          80,
          81,
          82,
          83,
          84,
          85,
          86,
          87,
          88,
          89,
          90,
          91,
          92,
          93,
          94,
          95,
          96,
          97,
          98,
          99
         ],
         "y": [
          0.8866414835164835,
          0.9160027472527472,
          0.9164835164835164,
          0.9164835164835164,
          0.9164835164835164,
          0.9164835164835164,
          0.9164835164835164,
          0.9164835164835164,
          0.9164835164835164,
          0.9164835164835164,
          0.9169986263736263,
          0.9169986263736263,
          0.9169986263736263,
          0.9169986263736263,
          0.9169986263736263,
          0.9169986263736263,
          0.9169986263736263,
          0.9169986263736263,
          0.9169986263736263,
          0.9169986263736263,
          0.9169986263736263,
          0.9169986263736263,
          0.9169986263736263,
          0.9169986263736263,
          0.9169986263736263,
          0.9169986263736263,
          0.9169986263736263,
          0.9169986263736263,
          0.9169986263736263,
          0.9169986263736263,
          0.9169986263736263,
          0.9169986263736263,
          0.9169986263736263,
          0.9169986263736263,
          0.9169986263736263,
          0.9169986263736263,
          0.9169986263736263,
          0.9179945054945055,
          0.9198145604395604,
          0.9198145604395604,
          0.9202953296703296,
          0.9202953296703296,
          0.9202953296703296,
          0.9202953296703296,
          0.9202953296703296,
          0.9202953296703296,
          0.9202953296703296,
          0.9202953296703296,
          0.9202953296703296,
          0.9202953296703296,
          0.9202953296703296,
          0.9202953296703296,
          0.9202953296703296,
          0.9202953296703296,
          0.9202953296703296,
          0.9202953296703296,
          0.9202953296703296,
          0.9202953296703296,
          0.9202953296703296,
          0.9202953296703296,
          0.9207417582417582,
          0.9207417582417582,
          0.9207417582417582,
          0.9207417582417582,
          0.9207417582417582,
          0.9207417582417582,
          0.9207417582417582,
          0.9207417582417582,
          0.9207417582417582,
          0.9207417582417582,
          0.9207417582417582,
          0.9207417582417582,
          0.9207417582417582,
          0.9207417582417582,
          0.9207417582417582,
          0.9207417582417582,
          0.9207417582417582,
          0.9207417582417582,
          0.9207417582417582,
          0.9207417582417582,
          0.9207417582417582,
          0.9207417582417582,
          0.9207417582417582,
          0.9207417582417582,
          0.9207417582417582,
          0.9207417582417582,
          0.9207417582417582,
          0.9207417582417582,
          0.9207417582417582,
          0.9207417582417582,
          0.9207417582417582,
          0.9207417582417582,
          0.9207417582417582,
          0.9207417582417582,
          0.9207417582417582,
          0.9207417582417582,
          0.9207417582417582,
          0.9207417582417582,
          0.9207417582417582,
          0.9207417582417582
         ]
        },
        {
         "marker": {
          "color": "#cccccc"
         },
         "mode": "markers",
         "name": "Infeasible Trial",
         "showlegend": false,
         "type": "scatter",
         "x": [],
         "y": []
        }
       ],
       "layout": {
        "template": {
         "data": {
          "bar": [
           {
            "error_x": {
             "color": "#2a3f5f"
            },
            "error_y": {
             "color": "#2a3f5f"
            },
            "marker": {
             "line": {
              "color": "#E5ECF6",
              "width": 0.5
             },
             "pattern": {
              "fillmode": "overlay",
              "size": 10,
              "solidity": 0.2
             }
            },
            "type": "bar"
           }
          ],
          "barpolar": [
           {
            "marker": {
             "line": {
              "color": "#E5ECF6",
              "width": 0.5
             },
             "pattern": {
              "fillmode": "overlay",
              "size": 10,
              "solidity": 0.2
             }
            },
            "type": "barpolar"
           }
          ],
          "carpet": [
           {
            "aaxis": {
             "endlinecolor": "#2a3f5f",
             "gridcolor": "white",
             "linecolor": "white",
             "minorgridcolor": "white",
             "startlinecolor": "#2a3f5f"
            },
            "baxis": {
             "endlinecolor": "#2a3f5f",
             "gridcolor": "white",
             "linecolor": "white",
             "minorgridcolor": "white",
             "startlinecolor": "#2a3f5f"
            },
            "type": "carpet"
           }
          ],
          "choropleth": [
           {
            "colorbar": {
             "outlinewidth": 0,
             "ticks": ""
            },
            "type": "choropleth"
           }
          ],
          "contour": [
           {
            "colorbar": {
             "outlinewidth": 0,
             "ticks": ""
            },
            "colorscale": [
             [
              0,
              "#0d0887"
             ],
             [
              0.1111111111111111,
              "#46039f"
             ],
             [
              0.2222222222222222,
              "#7201a8"
             ],
             [
              0.3333333333333333,
              "#9c179e"
             ],
             [
              0.4444444444444444,
              "#bd3786"
             ],
             [
              0.5555555555555556,
              "#d8576b"
             ],
             [
              0.6666666666666666,
              "#ed7953"
             ],
             [
              0.7777777777777778,
              "#fb9f3a"
             ],
             [
              0.8888888888888888,
              "#fdca26"
             ],
             [
              1,
              "#f0f921"
             ]
            ],
            "type": "contour"
           }
          ],
          "contourcarpet": [
           {
            "colorbar": {
             "outlinewidth": 0,
             "ticks": ""
            },
            "type": "contourcarpet"
           }
          ],
          "heatmap": [
           {
            "colorbar": {
             "outlinewidth": 0,
             "ticks": ""
            },
            "colorscale": [
             [
              0,
              "#0d0887"
             ],
             [
              0.1111111111111111,
              "#46039f"
             ],
             [
              0.2222222222222222,
              "#7201a8"
             ],
             [
              0.3333333333333333,
              "#9c179e"
             ],
             [
              0.4444444444444444,
              "#bd3786"
             ],
             [
              0.5555555555555556,
              "#d8576b"
             ],
             [
              0.6666666666666666,
              "#ed7953"
             ],
             [
              0.7777777777777778,
              "#fb9f3a"
             ],
             [
              0.8888888888888888,
              "#fdca26"
             ],
             [
              1,
              "#f0f921"
             ]
            ],
            "type": "heatmap"
           }
          ],
          "heatmapgl": [
           {
            "colorbar": {
             "outlinewidth": 0,
             "ticks": ""
            },
            "colorscale": [
             [
              0,
              "#0d0887"
             ],
             [
              0.1111111111111111,
              "#46039f"
             ],
             [
              0.2222222222222222,
              "#7201a8"
             ],
             [
              0.3333333333333333,
              "#9c179e"
             ],
             [
              0.4444444444444444,
              "#bd3786"
             ],
             [
              0.5555555555555556,
              "#d8576b"
             ],
             [
              0.6666666666666666,
              "#ed7953"
             ],
             [
              0.7777777777777778,
              "#fb9f3a"
             ],
             [
              0.8888888888888888,
              "#fdca26"
             ],
             [
              1,
              "#f0f921"
             ]
            ],
            "type": "heatmapgl"
           }
          ],
          "histogram": [
           {
            "marker": {
             "pattern": {
              "fillmode": "overlay",
              "size": 10,
              "solidity": 0.2
             }
            },
            "type": "histogram"
           }
          ],
          "histogram2d": [
           {
            "colorbar": {
             "outlinewidth": 0,
             "ticks": ""
            },
            "colorscale": [
             [
              0,
              "#0d0887"
             ],
             [
              0.1111111111111111,
              "#46039f"
             ],
             [
              0.2222222222222222,
              "#7201a8"
             ],
             [
              0.3333333333333333,
              "#9c179e"
             ],
             [
              0.4444444444444444,
              "#bd3786"
             ],
             [
              0.5555555555555556,
              "#d8576b"
             ],
             [
              0.6666666666666666,
              "#ed7953"
             ],
             [
              0.7777777777777778,
              "#fb9f3a"
             ],
             [
              0.8888888888888888,
              "#fdca26"
             ],
             [
              1,
              "#f0f921"
             ]
            ],
            "type": "histogram2d"
           }
          ],
          "histogram2dcontour": [
           {
            "colorbar": {
             "outlinewidth": 0,
             "ticks": ""
            },
            "colorscale": [
             [
              0,
              "#0d0887"
             ],
             [
              0.1111111111111111,
              "#46039f"
             ],
             [
              0.2222222222222222,
              "#7201a8"
             ],
             [
              0.3333333333333333,
              "#9c179e"
             ],
             [
              0.4444444444444444,
              "#bd3786"
             ],
             [
              0.5555555555555556,
              "#d8576b"
             ],
             [
              0.6666666666666666,
              "#ed7953"
             ],
             [
              0.7777777777777778,
              "#fb9f3a"
             ],
             [
              0.8888888888888888,
              "#fdca26"
             ],
             [
              1,
              "#f0f921"
             ]
            ],
            "type": "histogram2dcontour"
           }
          ],
          "mesh3d": [
           {
            "colorbar": {
             "outlinewidth": 0,
             "ticks": ""
            },
            "type": "mesh3d"
           }
          ],
          "parcoords": [
           {
            "line": {
             "colorbar": {
              "outlinewidth": 0,
              "ticks": ""
             }
            },
            "type": "parcoords"
           }
          ],
          "pie": [
           {
            "automargin": true,
            "type": "pie"
           }
          ],
          "scatter": [
           {
            "fillpattern": {
             "fillmode": "overlay",
             "size": 10,
             "solidity": 0.2
            },
            "type": "scatter"
           }
          ],
          "scatter3d": [
           {
            "line": {
             "colorbar": {
              "outlinewidth": 0,
              "ticks": ""
             }
            },
            "marker": {
             "colorbar": {
              "outlinewidth": 0,
              "ticks": ""
             }
            },
            "type": "scatter3d"
           }
          ],
          "scattercarpet": [
           {
            "marker": {
             "colorbar": {
              "outlinewidth": 0,
              "ticks": ""
             }
            },
            "type": "scattercarpet"
           }
          ],
          "scattergeo": [
           {
            "marker": {
             "colorbar": {
              "outlinewidth": 0,
              "ticks": ""
             }
            },
            "type": "scattergeo"
           }
          ],
          "scattergl": [
           {
            "marker": {
             "colorbar": {
              "outlinewidth": 0,
              "ticks": ""
             }
            },
            "type": "scattergl"
           }
          ],
          "scattermapbox": [
           {
            "marker": {
             "colorbar": {
              "outlinewidth": 0,
              "ticks": ""
             }
            },
            "type": "scattermapbox"
           }
          ],
          "scatterpolar": [
           {
            "marker": {
             "colorbar": {
              "outlinewidth": 0,
              "ticks": ""
             }
            },
            "type": "scatterpolar"
           }
          ],
          "scatterpolargl": [
           {
            "marker": {
             "colorbar": {
              "outlinewidth": 0,
              "ticks": ""
             }
            },
            "type": "scatterpolargl"
           }
          ],
          "scatterternary": [
           {
            "marker": {
             "colorbar": {
              "outlinewidth": 0,
              "ticks": ""
             }
            },
            "type": "scatterternary"
           }
          ],
          "surface": [
           {
            "colorbar": {
             "outlinewidth": 0,
             "ticks": ""
            },
            "colorscale": [
             [
              0,
              "#0d0887"
             ],
             [
              0.1111111111111111,
              "#46039f"
             ],
             [
              0.2222222222222222,
              "#7201a8"
             ],
             [
              0.3333333333333333,
              "#9c179e"
             ],
             [
              0.4444444444444444,
              "#bd3786"
             ],
             [
              0.5555555555555556,
              "#d8576b"
             ],
             [
              0.6666666666666666,
              "#ed7953"
             ],
             [
              0.7777777777777778,
              "#fb9f3a"
             ],
             [
              0.8888888888888888,
              "#fdca26"
             ],
             [
              1,
              "#f0f921"
             ]
            ],
            "type": "surface"
           }
          ],
          "table": [
           {
            "cells": {
             "fill": {
              "color": "#EBF0F8"
             },
             "line": {
              "color": "white"
             }
            },
            "header": {
             "fill": {
              "color": "#C8D4E3"
             },
             "line": {
              "color": "white"
             }
            },
            "type": "table"
           }
          ]
         },
         "layout": {
          "annotationdefaults": {
           "arrowcolor": "#2a3f5f",
           "arrowhead": 0,
           "arrowwidth": 1
          },
          "autotypenumbers": "strict",
          "coloraxis": {
           "colorbar": {
            "outlinewidth": 0,
            "ticks": ""
           }
          },
          "colorscale": {
           "diverging": [
            [
             0,
             "#8e0152"
            ],
            [
             0.1,
             "#c51b7d"
            ],
            [
             0.2,
             "#de77ae"
            ],
            [
             0.3,
             "#f1b6da"
            ],
            [
             0.4,
             "#fde0ef"
            ],
            [
             0.5,
             "#f7f7f7"
            ],
            [
             0.6,
             "#e6f5d0"
            ],
            [
             0.7,
             "#b8e186"
            ],
            [
             0.8,
             "#7fbc41"
            ],
            [
             0.9,
             "#4d9221"
            ],
            [
             1,
             "#276419"
            ]
           ],
           "sequential": [
            [
             0,
             "#0d0887"
            ],
            [
             0.1111111111111111,
             "#46039f"
            ],
            [
             0.2222222222222222,
             "#7201a8"
            ],
            [
             0.3333333333333333,
             "#9c179e"
            ],
            [
             0.4444444444444444,
             "#bd3786"
            ],
            [
             0.5555555555555556,
             "#d8576b"
            ],
            [
             0.6666666666666666,
             "#ed7953"
            ],
            [
             0.7777777777777778,
             "#fb9f3a"
            ],
            [
             0.8888888888888888,
             "#fdca26"
            ],
            [
             1,
             "#f0f921"
            ]
           ],
           "sequentialminus": [
            [
             0,
             "#0d0887"
            ],
            [
             0.1111111111111111,
             "#46039f"
            ],
            [
             0.2222222222222222,
             "#7201a8"
            ],
            [
             0.3333333333333333,
             "#9c179e"
            ],
            [
             0.4444444444444444,
             "#bd3786"
            ],
            [
             0.5555555555555556,
             "#d8576b"
            ],
            [
             0.6666666666666666,
             "#ed7953"
            ],
            [
             0.7777777777777778,
             "#fb9f3a"
            ],
            [
             0.8888888888888888,
             "#fdca26"
            ],
            [
             1,
             "#f0f921"
            ]
           ]
          },
          "colorway": [
           "#636efa",
           "#EF553B",
           "#00cc96",
           "#ab63fa",
           "#FFA15A",
           "#19d3f3",
           "#FF6692",
           "#B6E880",
           "#FF97FF",
           "#FECB52"
          ],
          "font": {
           "color": "#2a3f5f"
          },
          "geo": {
           "bgcolor": "white",
           "lakecolor": "white",
           "landcolor": "#E5ECF6",
           "showlakes": true,
           "showland": true,
           "subunitcolor": "white"
          },
          "hoverlabel": {
           "align": "left"
          },
          "hovermode": "closest",
          "mapbox": {
           "style": "light"
          },
          "paper_bgcolor": "white",
          "plot_bgcolor": "#E5ECF6",
          "polar": {
           "angularaxis": {
            "gridcolor": "white",
            "linecolor": "white",
            "ticks": ""
           },
           "bgcolor": "#E5ECF6",
           "radialaxis": {
            "gridcolor": "white",
            "linecolor": "white",
            "ticks": ""
           }
          },
          "scene": {
           "xaxis": {
            "backgroundcolor": "#E5ECF6",
            "gridcolor": "white",
            "gridwidth": 2,
            "linecolor": "white",
            "showbackground": true,
            "ticks": "",
            "zerolinecolor": "white"
           },
           "yaxis": {
            "backgroundcolor": "#E5ECF6",
            "gridcolor": "white",
            "gridwidth": 2,
            "linecolor": "white",
            "showbackground": true,
            "ticks": "",
            "zerolinecolor": "white"
           },
           "zaxis": {
            "backgroundcolor": "#E5ECF6",
            "gridcolor": "white",
            "gridwidth": 2,
            "linecolor": "white",
            "showbackground": true,
            "ticks": "",
            "zerolinecolor": "white"
           }
          },
          "shapedefaults": {
           "line": {
            "color": "#2a3f5f"
           }
          },
          "ternary": {
           "aaxis": {
            "gridcolor": "white",
            "linecolor": "white",
            "ticks": ""
           },
           "baxis": {
            "gridcolor": "white",
            "linecolor": "white",
            "ticks": ""
           },
           "bgcolor": "#E5ECF6",
           "caxis": {
            "gridcolor": "white",
            "linecolor": "white",
            "ticks": ""
           }
          },
          "title": {
           "x": 0.05
          },
          "xaxis": {
           "automargin": true,
           "gridcolor": "white",
           "linecolor": "white",
           "ticks": "",
           "title": {
            "standoff": 15
           },
           "zerolinecolor": "white",
           "zerolinewidth": 2
          },
          "yaxis": {
           "automargin": true,
           "gridcolor": "white",
           "linecolor": "white",
           "ticks": "",
           "title": {
            "standoff": 15
           },
           "zerolinecolor": "white",
           "zerolinewidth": 2
          }
         }
        },
        "title": {
         "text": "Optimization History Plot"
        },
        "xaxis": {
         "title": {
          "text": "Trial"
         }
        },
        "yaxis": {
         "title": {
          "text": "Objective Value"
         }
        }
       }
      }
     },
     "metadata": {},
     "output_type": "display_data"
    }
   ],
   "source": [
    "# Visualizing optimization\n",
    "optuna.visualization.plot_optimization_history(study)"
   ]
  },
  {
   "cell_type": "code",
   "execution_count": 8,
   "metadata": {},
   "outputs": [
    {
     "data": {
      "application/vnd.plotly.v1+json": {
       "config": {
        "plotlyServerURL": "https://plot.ly"
       },
       "data": [
        {
         "marker": {
          "color": [
           0,
           1,
           2,
           3,
           4,
           5,
           6,
           7,
           8,
           9,
           10,
           11,
           12,
           13,
           14,
           15,
           16,
           17,
           18,
           19,
           20,
           21,
           22,
           23,
           24,
           25,
           26,
           27,
           28,
           29,
           30,
           31,
           32,
           33,
           34,
           35,
           36,
           37,
           38,
           39,
           40,
           41,
           42,
           43,
           44,
           45,
           46,
           47,
           48,
           49,
           50,
           51,
           52,
           53,
           54,
           55,
           56,
           57,
           58,
           59,
           60,
           61,
           62,
           63,
           64,
           65,
           66,
           67,
           68,
           69,
           70,
           71,
           72,
           73,
           74,
           75,
           76,
           77,
           78,
           79,
           80,
           81,
           82,
           83,
           84,
           85,
           86,
           87,
           88,
           89,
           90,
           91,
           92,
           93,
           94,
           95,
           96,
           97,
           98,
           99
          ],
          "colorbar": {
           "title": {
            "text": "Trial"
           },
           "x": 1,
           "xpad": 40
          },
          "colorscale": [
           [
            0,
            "rgb(247,251,255)"
           ],
           [
            0.125,
            "rgb(222,235,247)"
           ],
           [
            0.25,
            "rgb(198,219,239)"
           ],
           [
            0.375,
            "rgb(158,202,225)"
           ],
           [
            0.5,
            "rgb(107,174,214)"
           ],
           [
            0.625,
            "rgb(66,146,198)"
           ],
           [
            0.75,
            "rgb(33,113,181)"
           ],
           [
            0.875,
            "rgb(8,81,156)"
           ],
           [
            1,
            "rgb(8,48,107)"
           ]
          ],
          "line": {
           "color": "Grey",
           "width": 0.5
          },
          "showscale": true
         },
         "mode": "markers",
         "name": "Feasible Trial",
         "showlegend": false,
         "type": "scatter",
         "x": [
          0.0009186799213595288,
          10.436991137523872,
          3.7217885138672004,
          0.0005424285791829593,
          24.70672673683183,
          0.5888599271312492,
          0.0013203279138734988,
          0.0749310900055159,
          0.00847072443200141,
          0.0014555053592790722,
          2.1584468533222427,
          100,
          15.4513360745425,
          0.8771514520560738,
          0.880071403515939,
          10.916293982034626,
          36.36615341185075,
          100,
          2.959843229605639,
          7.393504222348808,
          100,
          7.065060931075268,
          99.94147366262186,
          100,
          3.6325122617366854,
          0.24960610815728906,
          9.51762694578797,
          100,
          2.5186128072969773,
          2.8009783958418306,
          0.26772104735121927,
          34.97968052158181,
          33.31459239640753,
          1.5339641575193594,
          39.279056661035455,
          2.9832113918560865,
          0.00001,
          0.9007740449044731,
          0.38754239035954774,
          0.2057678544192443,
          0.42470037821130846,
          0.40693937896893856,
          0.4204991134960771,
          0.4415711196621707,
          0.4567671923367313,
          0.4550495299284349,
          0.2613628471700327,
          0.00001,
          0.4498962039376101,
          0.44068586840046026,
          0.1011256578668353,
          0.027606045693655823,
          0.3355667627743378,
          0.33974312990598043,
          0.3415098582589986,
          0.3426125377415889,
          0.34338782419951497,
          0.3440065257800519,
          0.3445263916109909,
          0.3449954759665841,
          0.3454523724514798,
          1.3196117591469012,
          0.03293646396482089,
          0.00009045916513109318,
          0.295320176966027,
          54.77385402963556,
          3.967866391226384,
          52.58428527922127,
          0.00006952258073419338,
          6.868608917851162,
          0.8037236277269778,
          0.024974956776743922,
          15.726858820055895,
          0.6004254366514287,
          0.2993284392373855,
          16.170705572511583,
          27.9532964726908,
          1.1082411552030995,
          2.142222115369284,
          0.5875218833443878,
          0.044018583975709166,
          20.8611948133734,
          18.756239105059976,
          0.3067193825021408,
          0.000029706868119686752,
          63.90828118613138,
          0.37506788378730543,
          0.30527079180318345,
          0.5643280351352474,
          0.39583186839806367,
          65.13523945591947,
          0.3955320739151694,
          0.5555056599272766,
          0.3989553210912224,
          0.0036584618393073285,
          0.6077281537179772,
          0.3928273808751159,
          0.39255050192412905,
          0.08861223184195895,
          0.0002942271288928614
         ],
         "xaxis": "x",
         "y": [
          0.8866414835164835,
          0.9160027472527472,
          0.9164835164835164,
          0.8848214285714286,
          0.9160027472527472,
          0.9156593406593405,
          0.8875,
          0.912912087912088,
          0.8989697802197802,
          0.8884271978021978,
          0.9169986263736263,
          0.9160027472527472,
          0.9160027472527472,
          0.9142857142857143,
          0.9142857142857143,
          0.9160027472527472,
          0.9160027472527472,
          0.9160027472527472,
          0.9160370879120879,
          0.9160027472527472,
          0.9160027472527472,
          0.9160027472527472,
          0.9160027472527472,
          0.9160027472527472,
          0.9165178571428572,
          0.9120192307692309,
          0.9160027472527472,
          0.9160027472527472,
          0.9160370879120879,
          0.9165178571428572,
          0.9124656593406593,
          0.9160027472527472,
          0.9160027472527472,
          0.9165521978021978,
          0.9160027472527472,
          0.9160370879120879,
          0.884375,
          0.9179945054945055,
          0.9198145604395604,
          0.9169642857142856,
          0.9202953296703296,
          0.9202953296703296,
          0.9202953296703296,
          0.919848901098901,
          0.919848901098901,
          0.919848901098901,
          0.9124656593406593,
          0.884375,
          0.919848901098901,
          0.919848901098901,
          0.9106112637362637,
          0.8481456043956044,
          0.9202609890109891,
          0.9202609890109891,
          0.9202609890109891,
          0.9202609890109891,
          0.9202609890109891,
          0.9202609890109891,
          0.9202609890109891,
          0.9202609890109891,
          0.9207417582417582,
          0.9151442307692307,
          0.908173076923077,
          0.8848214285714286,
          0.912912087912088,
          0.9160027472527472,
          0.9164835164835164,
          0.9160027472527472,
          0.884375,
          0.9160027472527472,
          0.9142857142857143,
          0.9063530219780219,
          0.9160027472527472,
          0.9151785714285714,
          0.9192994505494505,
          0.9160027472527472,
          0.9160027472527472,
          0.9142513736263735,
          0.9155906593406593,
          0.9194024725274726,
          0.9095467032967035,
          0.9160027472527472,
          0.9160027472527472,
          0.9197802197802197,
          0.884375,
          0.9160027472527472,
          0.9193337912087911,
          0.9192994505494505,
          0.919848901098901,
          0.9202953296703296,
          0.9160027472527472,
          0.9202953296703296,
          0.919848901098901,
          0.9198489010989009,
          0.892135989010989,
          0.918956043956044,
          0.9202953296703296,
          0.9202953296703296,
          0.9133585164835166,
          0.8848214285714286
         ],
         "yaxis": "y"
        },
        {
         "marker": {
          "color": [
           0,
           1,
           2,
           3,
           4,
           5,
           6,
           7,
           8,
           9,
           10,
           11,
           12,
           13,
           14,
           15,
           16,
           17,
           18,
           19,
           20,
           21,
           22,
           23,
           24,
           25,
           26,
           27,
           28,
           29,
           30,
           31,
           32,
           33,
           34,
           35,
           36,
           37,
           38,
           39,
           40,
           41,
           42,
           43,
           44,
           45,
           46,
           47,
           48,
           49,
           50,
           51,
           52,
           53,
           54,
           55,
           56,
           57,
           58,
           59,
           60,
           61,
           62,
           63,
           64,
           65,
           66,
           67,
           68,
           69,
           70,
           71,
           72,
           73,
           74,
           75,
           76,
           77,
           78,
           79,
           80,
           81,
           82,
           83,
           84,
           85,
           86,
           87,
           88,
           89,
           90,
           91,
           92,
           93,
           94,
           95,
           96,
           97,
           98,
           99
          ],
          "colorbar": {
           "title": {
            "text": "Trial"
           },
           "x": 1,
           "xpad": 40
          },
          "colorscale": [
           [
            0,
            "rgb(247,251,255)"
           ],
           [
            0.125,
            "rgb(222,235,247)"
           ],
           [
            0.25,
            "rgb(198,219,239)"
           ],
           [
            0.375,
            "rgb(158,202,225)"
           ],
           [
            0.5,
            "rgb(107,174,214)"
           ],
           [
            0.625,
            "rgb(66,146,198)"
           ],
           [
            0.75,
            "rgb(33,113,181)"
           ],
           [
            0.875,
            "rgb(8,81,156)"
           ],
           [
            1,
            "rgb(8,48,107)"
           ]
          ],
          "line": {
           "color": "Grey",
           "width": 0.5
          },
          "showscale": false
         },
         "mode": "markers",
         "name": "Feasible Trial",
         "showlegend": false,
         "type": "scatter",
         "x": [
          "l2",
          "l2",
          "l2",
          "l1",
          "l2",
          "l2",
          "l2",
          "l2",
          "l2",
          "l1",
          "l1",
          "l1",
          "l1",
          "l1",
          "l2",
          "l1",
          "l2",
          "l2",
          "l1",
          "l2",
          "l1",
          "l1",
          "l1",
          "l2",
          "l1",
          "l1",
          "l2",
          "l2",
          "l2",
          "l1",
          "l2",
          "l1",
          "l2",
          "l1",
          "l1",
          "l1",
          "l1",
          "l1",
          "l1",
          "l1",
          "l1",
          "l1",
          "l1",
          "l1",
          "l1",
          "l1",
          "l2",
          "l2",
          "l1",
          "l1",
          "l2",
          "l1",
          "l1",
          "l1",
          "l1",
          "l1",
          "l1",
          "l1",
          "l1",
          "l1",
          "l1",
          "l2",
          "l2",
          "l2",
          "l1",
          "l2",
          "l2",
          "l1",
          "l1",
          "l1",
          "l1",
          "l2",
          "l2",
          "l2",
          "l1",
          "l1",
          "l1",
          "l2",
          "l2",
          "l1",
          "l2",
          "l1",
          "l2",
          "l1",
          "l2",
          "l2",
          "l1",
          "l1",
          "l1",
          "l1",
          "l1",
          "l1",
          "l1",
          "l1",
          "l2",
          "l1",
          "l1",
          "l1",
          "l2",
          "l2"
         ],
         "xaxis": "x2",
         "y": [
          0.8866414835164835,
          0.9160027472527472,
          0.9164835164835164,
          0.8848214285714286,
          0.9160027472527472,
          0.9156593406593405,
          0.8875,
          0.912912087912088,
          0.8989697802197802,
          0.8884271978021978,
          0.9169986263736263,
          0.9160027472527472,
          0.9160027472527472,
          0.9142857142857143,
          0.9142857142857143,
          0.9160027472527472,
          0.9160027472527472,
          0.9160027472527472,
          0.9160370879120879,
          0.9160027472527472,
          0.9160027472527472,
          0.9160027472527472,
          0.9160027472527472,
          0.9160027472527472,
          0.9165178571428572,
          0.9120192307692309,
          0.9160027472527472,
          0.9160027472527472,
          0.9160370879120879,
          0.9165178571428572,
          0.9124656593406593,
          0.9160027472527472,
          0.9160027472527472,
          0.9165521978021978,
          0.9160027472527472,
          0.9160370879120879,
          0.884375,
          0.9179945054945055,
          0.9198145604395604,
          0.9169642857142856,
          0.9202953296703296,
          0.9202953296703296,
          0.9202953296703296,
          0.919848901098901,
          0.919848901098901,
          0.919848901098901,
          0.9124656593406593,
          0.884375,
          0.919848901098901,
          0.919848901098901,
          0.9106112637362637,
          0.8481456043956044,
          0.9202609890109891,
          0.9202609890109891,
          0.9202609890109891,
          0.9202609890109891,
          0.9202609890109891,
          0.9202609890109891,
          0.9202609890109891,
          0.9202609890109891,
          0.9207417582417582,
          0.9151442307692307,
          0.908173076923077,
          0.8848214285714286,
          0.912912087912088,
          0.9160027472527472,
          0.9164835164835164,
          0.9160027472527472,
          0.884375,
          0.9160027472527472,
          0.9142857142857143,
          0.9063530219780219,
          0.9160027472527472,
          0.9151785714285714,
          0.9192994505494505,
          0.9160027472527472,
          0.9160027472527472,
          0.9142513736263735,
          0.9155906593406593,
          0.9194024725274726,
          0.9095467032967035,
          0.9160027472527472,
          0.9160027472527472,
          0.9197802197802197,
          0.884375,
          0.9160027472527472,
          0.9193337912087911,
          0.9192994505494505,
          0.919848901098901,
          0.9202953296703296,
          0.9160027472527472,
          0.9202953296703296,
          0.919848901098901,
          0.9198489010989009,
          0.892135989010989,
          0.918956043956044,
          0.9202953296703296,
          0.9202953296703296,
          0.9133585164835166,
          0.8848214285714286
         ],
         "yaxis": "y2"
        },
        {
         "marker": {
          "color": [
           0,
           1,
           2,
           3,
           4,
           5,
           6,
           7,
           8,
           9,
           10,
           11,
           12,
           13,
           14,
           15,
           16,
           17,
           18,
           19,
           20,
           21,
           22,
           23,
           24,
           25,
           26,
           27,
           28,
           29,
           30,
           31,
           32,
           33,
           34,
           35,
           36,
           37,
           38,
           39,
           40,
           41,
           42,
           43,
           44,
           45,
           46,
           47,
           48,
           49,
           50,
           51,
           52,
           53,
           54,
           55,
           56,
           57,
           58,
           59,
           60,
           61,
           62,
           63,
           64,
           65,
           66,
           67,
           68,
           69,
           70,
           71,
           72,
           73,
           74,
           75,
           76,
           77,
           78,
           79,
           80,
           81,
           82,
           83,
           84,
           85,
           86,
           87,
           88,
           89,
           90,
           91,
           92,
           93,
           94,
           95,
           96,
           97,
           98,
           99
          ],
          "colorbar": {
           "title": {
            "text": "Trial"
           },
           "x": 1,
           "xpad": 40
          },
          "colorscale": [
           [
            0,
            "rgb(247,251,255)"
           ],
           [
            0.125,
            "rgb(222,235,247)"
           ],
           [
            0.25,
            "rgb(198,219,239)"
           ],
           [
            0.375,
            "rgb(158,202,225)"
           ],
           [
            0.5,
            "rgb(107,174,214)"
           ],
           [
            0.625,
            "rgb(66,146,198)"
           ],
           [
            0.75,
            "rgb(33,113,181)"
           ],
           [
            0.875,
            "rgb(8,81,156)"
           ],
           [
            1,
            "rgb(8,48,107)"
           ]
          ],
          "line": {
           "color": "Grey",
           "width": 0.5
          },
          "showscale": false
         },
         "mode": "markers",
         "name": "Feasible Trial",
         "showlegend": false,
         "type": "scatter",
         "x": [
          "saga",
          "liblinear",
          "lbfgs",
          "lbfgs",
          "liblinear",
          "saga",
          "liblinear",
          "liblinear",
          "saga",
          "saga",
          "liblinear",
          "lbfgs",
          "saga",
          "lbfgs",
          "liblinear",
          "liblinear",
          "lbfgs",
          "saga",
          "saga",
          "saga",
          "liblinear",
          "lbfgs",
          "saga",
          "liblinear",
          "liblinear",
          "saga",
          "lbfgs",
          "lbfgs",
          "saga",
          "liblinear",
          "lbfgs",
          "lbfgs",
          "saga",
          "liblinear",
          "liblinear",
          "lbfgs",
          "saga",
          "liblinear",
          "liblinear",
          "liblinear",
          "liblinear",
          "liblinear",
          "liblinear",
          "liblinear",
          "liblinear",
          "liblinear",
          "liblinear",
          "lbfgs",
          "liblinear",
          "liblinear",
          "saga",
          "liblinear",
          "liblinear",
          "liblinear",
          "liblinear",
          "liblinear",
          "liblinear",
          "liblinear",
          "liblinear",
          "liblinear",
          "liblinear",
          "lbfgs",
          "lbfgs",
          "liblinear",
          "lbfgs",
          "liblinear",
          "liblinear",
          "saga",
          "saga",
          "saga",
          "saga",
          "liblinear",
          "saga",
          "lbfgs",
          "liblinear",
          "lbfgs",
          "saga",
          "saga",
          "liblinear",
          "liblinear",
          "saga",
          "liblinear",
          "lbfgs",
          "liblinear",
          "saga",
          "saga",
          "liblinear",
          "liblinear",
          "liblinear",
          "liblinear",
          "lbfgs",
          "liblinear",
          "liblinear",
          "liblinear",
          "lbfgs",
          "liblinear",
          "liblinear",
          "liblinear",
          "lbfgs",
          "lbfgs"
         ],
         "xaxis": "x3",
         "y": [
          0.8866414835164835,
          0.9160027472527472,
          0.9164835164835164,
          0.8848214285714286,
          0.9160027472527472,
          0.9156593406593405,
          0.8875,
          0.912912087912088,
          0.8989697802197802,
          0.8884271978021978,
          0.9169986263736263,
          0.9160027472527472,
          0.9160027472527472,
          0.9142857142857143,
          0.9142857142857143,
          0.9160027472527472,
          0.9160027472527472,
          0.9160027472527472,
          0.9160370879120879,
          0.9160027472527472,
          0.9160027472527472,
          0.9160027472527472,
          0.9160027472527472,
          0.9160027472527472,
          0.9165178571428572,
          0.9120192307692309,
          0.9160027472527472,
          0.9160027472527472,
          0.9160370879120879,
          0.9165178571428572,
          0.9124656593406593,
          0.9160027472527472,
          0.9160027472527472,
          0.9165521978021978,
          0.9160027472527472,
          0.9160370879120879,
          0.884375,
          0.9179945054945055,
          0.9198145604395604,
          0.9169642857142856,
          0.9202953296703296,
          0.9202953296703296,
          0.9202953296703296,
          0.919848901098901,
          0.919848901098901,
          0.919848901098901,
          0.9124656593406593,
          0.884375,
          0.919848901098901,
          0.919848901098901,
          0.9106112637362637,
          0.8481456043956044,
          0.9202609890109891,
          0.9202609890109891,
          0.9202609890109891,
          0.9202609890109891,
          0.9202609890109891,
          0.9202609890109891,
          0.9202609890109891,
          0.9202609890109891,
          0.9207417582417582,
          0.9151442307692307,
          0.908173076923077,
          0.8848214285714286,
          0.912912087912088,
          0.9160027472527472,
          0.9164835164835164,
          0.9160027472527472,
          0.884375,
          0.9160027472527472,
          0.9142857142857143,
          0.9063530219780219,
          0.9160027472527472,
          0.9151785714285714,
          0.9192994505494505,
          0.9160027472527472,
          0.9160027472527472,
          0.9142513736263735,
          0.9155906593406593,
          0.9194024725274726,
          0.9095467032967035,
          0.9160027472527472,
          0.9160027472527472,
          0.9197802197802197,
          0.884375,
          0.9160027472527472,
          0.9193337912087911,
          0.9192994505494505,
          0.919848901098901,
          0.9202953296703296,
          0.9160027472527472,
          0.9202953296703296,
          0.919848901098901,
          0.9198489010989009,
          0.892135989010989,
          0.918956043956044,
          0.9202953296703296,
          0.9202953296703296,
          0.9133585164835166,
          0.8848214285714286
         ],
         "yaxis": "y3"
        }
       ],
       "layout": {
        "template": {
         "data": {
          "bar": [
           {
            "error_x": {
             "color": "#2a3f5f"
            },
            "error_y": {
             "color": "#2a3f5f"
            },
            "marker": {
             "line": {
              "color": "#E5ECF6",
              "width": 0.5
             },
             "pattern": {
              "fillmode": "overlay",
              "size": 10,
              "solidity": 0.2
             }
            },
            "type": "bar"
           }
          ],
          "barpolar": [
           {
            "marker": {
             "line": {
              "color": "#E5ECF6",
              "width": 0.5
             },
             "pattern": {
              "fillmode": "overlay",
              "size": 10,
              "solidity": 0.2
             }
            },
            "type": "barpolar"
           }
          ],
          "carpet": [
           {
            "aaxis": {
             "endlinecolor": "#2a3f5f",
             "gridcolor": "white",
             "linecolor": "white",
             "minorgridcolor": "white",
             "startlinecolor": "#2a3f5f"
            },
            "baxis": {
             "endlinecolor": "#2a3f5f",
             "gridcolor": "white",
             "linecolor": "white",
             "minorgridcolor": "white",
             "startlinecolor": "#2a3f5f"
            },
            "type": "carpet"
           }
          ],
          "choropleth": [
           {
            "colorbar": {
             "outlinewidth": 0,
             "ticks": ""
            },
            "type": "choropleth"
           }
          ],
          "contour": [
           {
            "colorbar": {
             "outlinewidth": 0,
             "ticks": ""
            },
            "colorscale": [
             [
              0,
              "#0d0887"
             ],
             [
              0.1111111111111111,
              "#46039f"
             ],
             [
              0.2222222222222222,
              "#7201a8"
             ],
             [
              0.3333333333333333,
              "#9c179e"
             ],
             [
              0.4444444444444444,
              "#bd3786"
             ],
             [
              0.5555555555555556,
              "#d8576b"
             ],
             [
              0.6666666666666666,
              "#ed7953"
             ],
             [
              0.7777777777777778,
              "#fb9f3a"
             ],
             [
              0.8888888888888888,
              "#fdca26"
             ],
             [
              1,
              "#f0f921"
             ]
            ],
            "type": "contour"
           }
          ],
          "contourcarpet": [
           {
            "colorbar": {
             "outlinewidth": 0,
             "ticks": ""
            },
            "type": "contourcarpet"
           }
          ],
          "heatmap": [
           {
            "colorbar": {
             "outlinewidth": 0,
             "ticks": ""
            },
            "colorscale": [
             [
              0,
              "#0d0887"
             ],
             [
              0.1111111111111111,
              "#46039f"
             ],
             [
              0.2222222222222222,
              "#7201a8"
             ],
             [
              0.3333333333333333,
              "#9c179e"
             ],
             [
              0.4444444444444444,
              "#bd3786"
             ],
             [
              0.5555555555555556,
              "#d8576b"
             ],
             [
              0.6666666666666666,
              "#ed7953"
             ],
             [
              0.7777777777777778,
              "#fb9f3a"
             ],
             [
              0.8888888888888888,
              "#fdca26"
             ],
             [
              1,
              "#f0f921"
             ]
            ],
            "type": "heatmap"
           }
          ],
          "heatmapgl": [
           {
            "colorbar": {
             "outlinewidth": 0,
             "ticks": ""
            },
            "colorscale": [
             [
              0,
              "#0d0887"
             ],
             [
              0.1111111111111111,
              "#46039f"
             ],
             [
              0.2222222222222222,
              "#7201a8"
             ],
             [
              0.3333333333333333,
              "#9c179e"
             ],
             [
              0.4444444444444444,
              "#bd3786"
             ],
             [
              0.5555555555555556,
              "#d8576b"
             ],
             [
              0.6666666666666666,
              "#ed7953"
             ],
             [
              0.7777777777777778,
              "#fb9f3a"
             ],
             [
              0.8888888888888888,
              "#fdca26"
             ],
             [
              1,
              "#f0f921"
             ]
            ],
            "type": "heatmapgl"
           }
          ],
          "histogram": [
           {
            "marker": {
             "pattern": {
              "fillmode": "overlay",
              "size": 10,
              "solidity": 0.2
             }
            },
            "type": "histogram"
           }
          ],
          "histogram2d": [
           {
            "colorbar": {
             "outlinewidth": 0,
             "ticks": ""
            },
            "colorscale": [
             [
              0,
              "#0d0887"
             ],
             [
              0.1111111111111111,
              "#46039f"
             ],
             [
              0.2222222222222222,
              "#7201a8"
             ],
             [
              0.3333333333333333,
              "#9c179e"
             ],
             [
              0.4444444444444444,
              "#bd3786"
             ],
             [
              0.5555555555555556,
              "#d8576b"
             ],
             [
              0.6666666666666666,
              "#ed7953"
             ],
             [
              0.7777777777777778,
              "#fb9f3a"
             ],
             [
              0.8888888888888888,
              "#fdca26"
             ],
             [
              1,
              "#f0f921"
             ]
            ],
            "type": "histogram2d"
           }
          ],
          "histogram2dcontour": [
           {
            "colorbar": {
             "outlinewidth": 0,
             "ticks": ""
            },
            "colorscale": [
             [
              0,
              "#0d0887"
             ],
             [
              0.1111111111111111,
              "#46039f"
             ],
             [
              0.2222222222222222,
              "#7201a8"
             ],
             [
              0.3333333333333333,
              "#9c179e"
             ],
             [
              0.4444444444444444,
              "#bd3786"
             ],
             [
              0.5555555555555556,
              "#d8576b"
             ],
             [
              0.6666666666666666,
              "#ed7953"
             ],
             [
              0.7777777777777778,
              "#fb9f3a"
             ],
             [
              0.8888888888888888,
              "#fdca26"
             ],
             [
              1,
              "#f0f921"
             ]
            ],
            "type": "histogram2dcontour"
           }
          ],
          "mesh3d": [
           {
            "colorbar": {
             "outlinewidth": 0,
             "ticks": ""
            },
            "type": "mesh3d"
           }
          ],
          "parcoords": [
           {
            "line": {
             "colorbar": {
              "outlinewidth": 0,
              "ticks": ""
             }
            },
            "type": "parcoords"
           }
          ],
          "pie": [
           {
            "automargin": true,
            "type": "pie"
           }
          ],
          "scatter": [
           {
            "fillpattern": {
             "fillmode": "overlay",
             "size": 10,
             "solidity": 0.2
            },
            "type": "scatter"
           }
          ],
          "scatter3d": [
           {
            "line": {
             "colorbar": {
              "outlinewidth": 0,
              "ticks": ""
             }
            },
            "marker": {
             "colorbar": {
              "outlinewidth": 0,
              "ticks": ""
             }
            },
            "type": "scatter3d"
           }
          ],
          "scattercarpet": [
           {
            "marker": {
             "colorbar": {
              "outlinewidth": 0,
              "ticks": ""
             }
            },
            "type": "scattercarpet"
           }
          ],
          "scattergeo": [
           {
            "marker": {
             "colorbar": {
              "outlinewidth": 0,
              "ticks": ""
             }
            },
            "type": "scattergeo"
           }
          ],
          "scattergl": [
           {
            "marker": {
             "colorbar": {
              "outlinewidth": 0,
              "ticks": ""
             }
            },
            "type": "scattergl"
           }
          ],
          "scattermapbox": [
           {
            "marker": {
             "colorbar": {
              "outlinewidth": 0,
              "ticks": ""
             }
            },
            "type": "scattermapbox"
           }
          ],
          "scatterpolar": [
           {
            "marker": {
             "colorbar": {
              "outlinewidth": 0,
              "ticks": ""
             }
            },
            "type": "scatterpolar"
           }
          ],
          "scatterpolargl": [
           {
            "marker": {
             "colorbar": {
              "outlinewidth": 0,
              "ticks": ""
             }
            },
            "type": "scatterpolargl"
           }
          ],
          "scatterternary": [
           {
            "marker": {
             "colorbar": {
              "outlinewidth": 0,
              "ticks": ""
             }
            },
            "type": "scatterternary"
           }
          ],
          "surface": [
           {
            "colorbar": {
             "outlinewidth": 0,
             "ticks": ""
            },
            "colorscale": [
             [
              0,
              "#0d0887"
             ],
             [
              0.1111111111111111,
              "#46039f"
             ],
             [
              0.2222222222222222,
              "#7201a8"
             ],
             [
              0.3333333333333333,
              "#9c179e"
             ],
             [
              0.4444444444444444,
              "#bd3786"
             ],
             [
              0.5555555555555556,
              "#d8576b"
             ],
             [
              0.6666666666666666,
              "#ed7953"
             ],
             [
              0.7777777777777778,
              "#fb9f3a"
             ],
             [
              0.8888888888888888,
              "#fdca26"
             ],
             [
              1,
              "#f0f921"
             ]
            ],
            "type": "surface"
           }
          ],
          "table": [
           {
            "cells": {
             "fill": {
              "color": "#EBF0F8"
             },
             "line": {
              "color": "white"
             }
            },
            "header": {
             "fill": {
              "color": "#C8D4E3"
             },
             "line": {
              "color": "white"
             }
            },
            "type": "table"
           }
          ]
         },
         "layout": {
          "annotationdefaults": {
           "arrowcolor": "#2a3f5f",
           "arrowhead": 0,
           "arrowwidth": 1
          },
          "autotypenumbers": "strict",
          "coloraxis": {
           "colorbar": {
            "outlinewidth": 0,
            "ticks": ""
           }
          },
          "colorscale": {
           "diverging": [
            [
             0,
             "#8e0152"
            ],
            [
             0.1,
             "#c51b7d"
            ],
            [
             0.2,
             "#de77ae"
            ],
            [
             0.3,
             "#f1b6da"
            ],
            [
             0.4,
             "#fde0ef"
            ],
            [
             0.5,
             "#f7f7f7"
            ],
            [
             0.6,
             "#e6f5d0"
            ],
            [
             0.7,
             "#b8e186"
            ],
            [
             0.8,
             "#7fbc41"
            ],
            [
             0.9,
             "#4d9221"
            ],
            [
             1,
             "#276419"
            ]
           ],
           "sequential": [
            [
             0,
             "#0d0887"
            ],
            [
             0.1111111111111111,
             "#46039f"
            ],
            [
             0.2222222222222222,
             "#7201a8"
            ],
            [
             0.3333333333333333,
             "#9c179e"
            ],
            [
             0.4444444444444444,
             "#bd3786"
            ],
            [
             0.5555555555555556,
             "#d8576b"
            ],
            [
             0.6666666666666666,
             "#ed7953"
            ],
            [
             0.7777777777777778,
             "#fb9f3a"
            ],
            [
             0.8888888888888888,
             "#fdca26"
            ],
            [
             1,
             "#f0f921"
            ]
           ],
           "sequentialminus": [
            [
             0,
             "#0d0887"
            ],
            [
             0.1111111111111111,
             "#46039f"
            ],
            [
             0.2222222222222222,
             "#7201a8"
            ],
            [
             0.3333333333333333,
             "#9c179e"
            ],
            [
             0.4444444444444444,
             "#bd3786"
            ],
            [
             0.5555555555555556,
             "#d8576b"
            ],
            [
             0.6666666666666666,
             "#ed7953"
            ],
            [
             0.7777777777777778,
             "#fb9f3a"
            ],
            [
             0.8888888888888888,
             "#fdca26"
            ],
            [
             1,
             "#f0f921"
            ]
           ]
          },
          "colorway": [
           "#636efa",
           "#EF553B",
           "#00cc96",
           "#ab63fa",
           "#FFA15A",
           "#19d3f3",
           "#FF6692",
           "#B6E880",
           "#FF97FF",
           "#FECB52"
          ],
          "font": {
           "color": "#2a3f5f"
          },
          "geo": {
           "bgcolor": "white",
           "lakecolor": "white",
           "landcolor": "#E5ECF6",
           "showlakes": true,
           "showland": true,
           "subunitcolor": "white"
          },
          "hoverlabel": {
           "align": "left"
          },
          "hovermode": "closest",
          "mapbox": {
           "style": "light"
          },
          "paper_bgcolor": "white",
          "plot_bgcolor": "#E5ECF6",
          "polar": {
           "angularaxis": {
            "gridcolor": "white",
            "linecolor": "white",
            "ticks": ""
           },
           "bgcolor": "#E5ECF6",
           "radialaxis": {
            "gridcolor": "white",
            "linecolor": "white",
            "ticks": ""
           }
          },
          "scene": {
           "xaxis": {
            "backgroundcolor": "#E5ECF6",
            "gridcolor": "white",
            "gridwidth": 2,
            "linecolor": "white",
            "showbackground": true,
            "ticks": "",
            "zerolinecolor": "white"
           },
           "yaxis": {
            "backgroundcolor": "#E5ECF6",
            "gridcolor": "white",
            "gridwidth": 2,
            "linecolor": "white",
            "showbackground": true,
            "ticks": "",
            "zerolinecolor": "white"
           },
           "zaxis": {
            "backgroundcolor": "#E5ECF6",
            "gridcolor": "white",
            "gridwidth": 2,
            "linecolor": "white",
            "showbackground": true,
            "ticks": "",
            "zerolinecolor": "white"
           }
          },
          "shapedefaults": {
           "line": {
            "color": "#2a3f5f"
           }
          },
          "ternary": {
           "aaxis": {
            "gridcolor": "white",
            "linecolor": "white",
            "ticks": ""
           },
           "baxis": {
            "gridcolor": "white",
            "linecolor": "white",
            "ticks": ""
           },
           "bgcolor": "#E5ECF6",
           "caxis": {
            "gridcolor": "white",
            "linecolor": "white",
            "ticks": ""
           }
          },
          "title": {
           "x": 0.05
          },
          "xaxis": {
           "automargin": true,
           "gridcolor": "white",
           "linecolor": "white",
           "ticks": "",
           "title": {
            "standoff": 15
           },
           "zerolinecolor": "white",
           "zerolinewidth": 2
          },
          "yaxis": {
           "automargin": true,
           "gridcolor": "white",
           "linecolor": "white",
           "ticks": "",
           "title": {
            "standoff": 15
           },
           "zerolinecolor": "white",
           "zerolinewidth": 2
          }
         }
        },
        "title": {
         "text": "Slice Plot"
        },
        "xaxis": {
         "anchor": "y",
         "domain": [
          0,
          0.2888888888888889
         ],
         "title": {
          "text": "C"
         },
         "type": "log"
        },
        "xaxis2": {
         "anchor": "y2",
         "categoryarray": [
          "l1",
          "l2"
         ],
         "categoryorder": "array",
         "domain": [
          0.35555555555555557,
          0.6444444444444445
         ],
         "title": {
          "text": "penalty"
         },
         "type": "category"
        },
        "xaxis3": {
         "anchor": "y3",
         "categoryarray": [
          "liblinear",
          "lbfgs",
          "saga"
         ],
         "categoryorder": "array",
         "domain": [
          0.7111111111111111,
          1
         ],
         "title": {
          "text": "solver"
         },
         "type": "category"
        },
        "yaxis": {
         "anchor": "x",
         "domain": [
          0,
          1
         ],
         "title": {
          "text": "Objective Value"
         }
        },
        "yaxis2": {
         "anchor": "x2",
         "domain": [
          0,
          1
         ],
         "matches": "y",
         "showticklabels": false
        },
        "yaxis3": {
         "anchor": "x3",
         "domain": [
          0,
          1
         ],
         "matches": "y",
         "showticklabels": false
        }
       }
      }
     },
     "metadata": {},
     "output_type": "display_data"
    }
   ],
   "source": [
    "optuna.visualization.plot_slice(study)"
   ]
  },
  {
   "cell_type": "code",
   "execution_count": 9,
   "metadata": {},
   "outputs": [
    {
     "name": "stderr",
     "output_type": "stream",
     "text": [
      "[codecarbon WARNING @ 10:27:38] Another instance of codecarbon is already running. Exiting.\n"
     ]
    },
    {
     "name": "stdout",
     "output_type": "stream",
     "text": [
      "Accuracy: 0.8549 ± 0.0530\n",
      "AUC-ROC: 0.9207 ± 0.0319\n"
     ]
    }
   ],
   "source": [
    "# Create optimized model\n",
    "best_params = trial.params\n",
    "model = LogisticRegression(random_state=Random_Seed, **best_params)\n",
    "\n",
    "# Define pipeline depending on whether PCA is requested or not\n",
    "if PC_Features:\n",
    "    steps = [\n",
    "        ('preprocessor', preprocessor),\n",
    "        ('pca', PCA(n_components=12)),\n",
    "        ('LR-classifier', model)\n",
    "    ]\n",
    "else:\n",
    "    steps = [\n",
    "        ('preprocessor', preprocessor),\n",
    "        ('LR-classifier', model)\n",
    "    ]\n",
    "    \n",
    "pipeline = Pipeline(steps)\n",
    "\n",
    "# Perform cross-validation\n",
    "cv_results = cross_validate(pipeline, X, y, scoring=['accuracy', 'roc_auc'], cv=K_Folds)\n",
    "\n",
    "# Calculate and display results\n",
    "acc = np.mean(cv_results['test_accuracy'])\n",
    "acc_std = np.std(cv_results['test_accuracy'])\n",
    "roc_auc = np.mean(cv_results['test_roc_auc'])\n",
    "roc_auc_std = np.std(cv_results['test_roc_auc'])\n",
    "\n",
    "print(f\"Accuracy: {acc:.4f} ± {acc_std:.4f}\")\n",
    "print(f\"AUC-ROC: {roc_auc:.4f} ± {roc_auc_std:.4f}\")\n",
    "\n",
    "# Stop emission tracking\n",
    "_ = tracker.stop()"
   ]
  },
  {
   "cell_type": "code",
   "execution_count": 10,
   "metadata": {},
   "outputs": [],
   "source": [
    "# Save evaluation to an external file\n",
    "file = 'scores.csv'\n",
    "\n",
    "results = pd.DataFrame({\n",
    "    'LR-optimization': [acc, acc_std, roc_auc, roc_auc_std]\n",
    "}, index = ['Accuracy', 'Accuracy STD', 'AUC-ROC', 'AUC-ROC STD'])\n",
    "\n",
    "# Check if file exists\n",
    "if os.path.exists(file):\n",
    "    temp = pd.read_csv(file, index_col=0)\n",
    "    results = pd.concat([temp, results], axis=1)\n",
    "\n",
    "# Export\n",
    "results.to_csv(file)"
   ]
  },
  {
   "attachments": {},
   "cell_type": "markdown",
   "metadata": {},
   "source": [
    "<hr>\n",
    "\n",
    "## Decision Tree:"
   ]
  },
  {
   "cell_type": "code",
   "execution_count": 11,
   "metadata": {},
   "outputs": [
    {
     "name": "stderr",
     "output_type": "stream",
     "text": [
      "[codecarbon ERROR @ 10:27:38] Error: Another instance of codecarbon is already running. Turn off the other instance to be able to run this one. Exiting.\n",
      "[codecarbon WARNING @ 10:27:38] Another instance of codecarbon is already running. Exiting.\n"
     ]
    },
    {
     "name": "stderr",
     "output_type": "stream",
     "text": [
      "[codecarbon WARNING @ 10:27:38] Another instance of codecarbon is already running. Exiting.\n"
     ]
    },
    {
     "name": "stdout",
     "output_type": "stream",
     "text": [
      "Accuracy: 0.7572 ± 0.0554\n",
      "AUC-ROC: 0.7552 ± 0.0592\n"
     ]
    }
   ],
   "source": [
    "# ---------------------------------------------------------------------------- #\n",
    "#                                     MODEL                                    #\n",
    "# ---------------------------------------------------------------------------- #\n",
    "\n",
    "# Initiate CodeCarbon to track emissions\n",
    "tracker = EmissionsTracker('DT model', log_level='warning')\n",
    "tracker.start()\n",
    "\n",
    "# Create model\n",
    "model = tree.DecisionTreeClassifier(random_state=Random_Seed)\n",
    "\n",
    "# Define pipeline depending on whether PCA is requested or not\n",
    "if PC_Features:\n",
    "    steps = [\n",
    "        ('preprocessor', preprocessor),\n",
    "        ('pca', PCA(n_components=12)),\n",
    "        ('DT-classifier', model)\n",
    "    ]\n",
    "else:\n",
    "    steps = [\n",
    "        ('preprocessor', preprocessor),\n",
    "        ('DT-classifier', model)\n",
    "    ]\n",
    "    \n",
    "pipeline = Pipeline(steps)\n",
    "\n",
    "# Perform cross-validation\n",
    "cv_results = cross_validate(pipeline, X, y, scoring=['accuracy', 'roc_auc'], cv=K_Folds)\n",
    "\n",
    "# Calculate and display results\n",
    "acc = np.mean(cv_results['test_accuracy'])\n",
    "acc_std = np.std(cv_results['test_accuracy'])\n",
    "roc_auc = np.mean(cv_results['test_roc_auc'])\n",
    "roc_auc_std = np.std(cv_results['test_roc_auc'])\n",
    "\n",
    "print(f\"Accuracy: {acc:.4f} ± {acc_std:.4f}\")\n",
    "print(f\"AUC-ROC: {roc_auc:.4f} ± {roc_auc_std:.4f}\")\n",
    "\n",
    "# Stop emission tracking\n",
    "_ = tracker.stop()"
   ]
  },
  {
   "cell_type": "code",
   "execution_count": 12,
   "metadata": {},
   "outputs": [],
   "source": [
    "# Save evaluation to an external file\n",
    "file = 'scores.csv'\n",
    "\n",
    "results = pd.DataFrame({\n",
    "    'DT-model': [acc, acc_std, roc_auc, roc_auc_std]\n",
    "}, index = ['Accuracy', 'Accuracy STD', 'AUC-ROC', 'AUC-ROC STD'])\n",
    "\n",
    "# Check if file exists\n",
    "if os.path.exists(file):\n",
    "    temp = pd.read_csv(file, index_col=0)\n",
    "    results = pd.concat([temp, results], axis=1)\n",
    "\n",
    "# Export\n",
    "results.to_csv(file)"
   ]
  },
  {
   "cell_type": "code",
   "execution_count": 13,
   "metadata": {},
   "outputs": [
    {
     "name": "stderr",
     "output_type": "stream",
     "text": [
      "[codecarbon ERROR @ 10:27:38] Error: Another instance of codecarbon is already running. Turn off the other instance to be able to run this one. Exiting.\n",
      "[codecarbon WARNING @ 10:27:38] Another instance of codecarbon is already running. Exiting.\n",
      "/tmp/ipykernel_118705/2681190905.py:46: ExperimentalWarning:\n",
      "\n",
      "GPSampler is experimental (supported from v3.6.0). The interface can change in the future.\n",
      "\n",
      "[I 2024-10-31 10:27:38,277] A new study created in memory with name: no-name-cccd6cd0-4df7-4297-bf60-93e2020a0c8d\n",
      "[I 2024-10-31 10:27:38,419] Trial 0 finished with value: 0.8274896978021978 and parameters: {'max_depth': 25, 'min_samples_split': 14, 'min_samples_leaf': 18, 'criterion': 'gini'}. Best is trial 0 with value: 0.8274896978021978.\n",
      "[I 2024-10-31 10:27:38,586] Trial 1 finished with value: 0.8380837912087913 and parameters: {'max_depth': 27, 'min_samples_split': 3, 'min_samples_leaf': 16, 'criterion': 'entropy'}. Best is trial 1 with value: 0.8380837912087913.\n",
      "[I 2024-10-31 10:27:38,717] Trial 2 finished with value: 0.8162603021978022 and parameters: {'max_depth': 26, 'min_samples_split': 11, 'min_samples_leaf': 8, 'criterion': 'gini'}. Best is trial 1 with value: 0.8380837912087913.\n",
      "[I 2024-10-31 10:27:38,846] Trial 3 finished with value: 0.8482142857142858 and parameters: {'max_depth': 6, 'min_samples_split': 15, 'min_samples_leaf': 4, 'criterion': 'entropy'}. Best is trial 3 with value: 0.8482142857142858.\n",
      "[I 2024-10-31 10:27:38,979] Trial 4 finished with value: 0.824793956043956 and parameters: {'max_depth': 28, 'min_samples_split': 13, 'min_samples_leaf': 13, 'criterion': 'entropy'}. Best is trial 3 with value: 0.8482142857142858.\n",
      "[I 2024-10-31 10:27:39,114] Trial 5 finished with value: 0.8220123626373625 and parameters: {'max_depth': 28, 'min_samples_split': 9, 'min_samples_leaf': 14, 'criterion': 'entropy'}. Best is trial 3 with value: 0.8482142857142858.\n",
      "[I 2024-10-31 10:27:39,252] Trial 6 finished with value: 0.8135473901098902 and parameters: {'max_depth': 28, 'min_samples_split': 7, 'min_samples_leaf': 12, 'criterion': 'gini'}. Best is trial 3 with value: 0.8482142857142858.\n",
      "[I 2024-10-31 10:27:39,386] Trial 7 finished with value: 0.8215659340659341 and parameters: {'max_depth': 18, 'min_samples_split': 14, 'min_samples_leaf': 8, 'criterion': 'gini'}. Best is trial 3 with value: 0.8482142857142858.\n",
      "[I 2024-10-31 10:27:39,527] Trial 8 finished with value: 0.7976476648351649 and parameters: {'max_depth': 6, 'min_samples_split': 10, 'min_samples_leaf': 7, 'criterion': 'entropy'}. Best is trial 3 with value: 0.8482142857142858.\n",
      "[I 2024-10-31 10:27:39,653] Trial 9 finished with value: 0.749896978021978 and parameters: {'max_depth': 1, 'min_samples_split': 3, 'min_samples_leaf': 7, 'criterion': 'gini'}. Best is trial 3 with value: 0.8482142857142858.\n",
      "[I 2024-10-31 10:27:39,973] Trial 10 finished with value: 0.8387019230769232 and parameters: {'max_depth': 4, 'min_samples_split': 20, 'min_samples_leaf': 3, 'criterion': 'entropy'}. Best is trial 3 with value: 0.8482142857142858.\n",
      "[I 2024-10-31 10:27:40,313] Trial 11 finished with value: 0.8326407967032967 and parameters: {'max_depth': 6, 'min_samples_split': 17, 'min_samples_leaf': 18, 'criterion': 'entropy'}. Best is trial 3 with value: 0.8482142857142858.\n",
      "[I 2024-10-31 10:27:40,780] Trial 12 finished with value: 0.8327781593406594 and parameters: {'max_depth': 8, 'min_samples_split': 17, 'min_samples_leaf': 1, 'criterion': 'entropy'}. Best is trial 3 with value: 0.8482142857142858.\n",
      "[I 2024-10-31 10:27:41,168] Trial 13 finished with value: 0.8262019230769232 and parameters: {'max_depth': 32, 'min_samples_split': 2, 'min_samples_leaf': 20, 'criterion': 'entropy'}. Best is trial 3 with value: 0.8482142857142858.\n",
      "[I 2024-10-31 10:27:41,603] Trial 14 finished with value: 0.7952781593406593 and parameters: {'max_depth': 19, 'min_samples_split': 18, 'min_samples_leaf': 5, 'criterion': 'entropy'}. Best is trial 3 with value: 0.8482142857142858.\n",
      "[I 2024-10-31 10:27:41,929] Trial 15 finished with value: 0.7235576923076923 and parameters: {'max_depth': 1, 'min_samples_split': 16, 'min_samples_leaf': 1, 'criterion': 'entropy'}. Best is trial 3 with value: 0.8482142857142858.\n",
      "[I 2024-10-31 10:27:42,341] Trial 16 finished with value: 0.8381353021978022 and parameters: {'max_depth': 6, 'min_samples_split': 20, 'min_samples_leaf': 2, 'criterion': 'entropy'}. Best is trial 3 with value: 0.8482142857142858.\n",
      "[I 2024-10-31 10:27:42,712] Trial 17 finished with value: 0.827764423076923 and parameters: {'max_depth': 21, 'min_samples_split': 2, 'min_samples_leaf': 20, 'criterion': 'entropy'}. Best is trial 3 with value: 0.8482142857142858.\n",
      "[I 2024-10-31 10:27:43,040] Trial 18 finished with value: 0.8379464285714284 and parameters: {'max_depth': 32, 'min_samples_split': 20, 'min_samples_leaf': 20, 'criterion': 'gini'}. Best is trial 3 with value: 0.8482142857142858.\n",
      "[I 2024-10-31 10:27:43,443] Trial 19 finished with value: 0.8258928571428571 and parameters: {'max_depth': 32, 'min_samples_split': 20, 'min_samples_leaf': 1, 'criterion': 'entropy'}. Best is trial 3 with value: 0.8482142857142858.\n",
      "[I 2024-10-31 10:27:43,910] Trial 20 finished with value: 0.8431833791208792 and parameters: {'max_depth': 6, 'min_samples_split': 17, 'min_samples_leaf': 1, 'criterion': 'gini'}. Best is trial 3 with value: 0.8482142857142858.\n",
      "[I 2024-10-31 10:27:44,294] Trial 21 finished with value: 0.7391140109890111 and parameters: {'max_depth': 15, 'min_samples_split': 2, 'min_samples_leaf': 1, 'criterion': 'gini'}. Best is trial 3 with value: 0.8482142857142858.\n",
      "[I 2024-10-31 10:27:44,645] Trial 22 finished with value: 0.8383928571428572 and parameters: {'max_depth': 28, 'min_samples_split': 20, 'min_samples_leaf': 20, 'criterion': 'gini'}. Best is trial 3 with value: 0.8482142857142858.\n",
      "[I 2024-10-31 10:27:45,030] Trial 23 finished with value: 0.7371222527472527 and parameters: {'max_depth': 24, 'min_samples_split': 2, 'min_samples_leaf': 1, 'criterion': 'entropy'}. Best is trial 3 with value: 0.8482142857142858.\n",
      "[I 2024-10-31 10:27:45,502] Trial 24 finished with value: 0.8341861263736264 and parameters: {'max_depth': 7, 'min_samples_split': 20, 'min_samples_leaf': 6, 'criterion': 'gini'}. Best is trial 3 with value: 0.8482142857142858.\n",
      "[I 2024-10-31 10:27:45,895] Trial 25 finished with value: 0.8438015109890111 and parameters: {'max_depth': 7, 'min_samples_split': 20, 'min_samples_leaf': 3, 'criterion': 'gini'}. Best is trial 3 with value: 0.8482142857142858.\n",
      "[I 2024-10-31 10:27:46,290] Trial 26 finished with value: 0.8318509615384615 and parameters: {'max_depth': 15, 'min_samples_split': 20, 'min_samples_leaf': 20, 'criterion': 'entropy'}. Best is trial 3 with value: 0.8482142857142858.\n",
      "[I 2024-10-31 10:27:46,671] Trial 27 finished with value: 0.8321771978021978 and parameters: {'max_depth': 20, 'min_samples_split': 20, 'min_samples_leaf': 14, 'criterion': 'gini'}. Best is trial 3 with value: 0.8482142857142858.\n",
      "[I 2024-10-31 10:27:47,108] Trial 28 finished with value: 0.8111607142857142 and parameters: {'max_depth': 5, 'min_samples_split': 20, 'min_samples_leaf': 6, 'criterion': 'entropy'}. Best is trial 3 with value: 0.8482142857142858.\n",
      "[I 2024-10-31 10:27:47,429] Trial 29 finished with value: 0.8388392857142858 and parameters: {'max_depth': 10, 'min_samples_split': 2, 'min_samples_leaf': 20, 'criterion': 'gini'}. Best is trial 3 with value: 0.8482142857142858.\n",
      "[I 2024-10-31 10:27:47,785] Trial 30 finished with value: 0.829275412087912 and parameters: {'max_depth': 13, 'min_samples_split': 20, 'min_samples_leaf': 14, 'criterion': 'gini'}. Best is trial 3 with value: 0.8482142857142858.\n",
      "[I 2024-10-31 10:27:48,392] Trial 31 finished with value: 0.749896978021978 and parameters: {'max_depth': 1, 'min_samples_split': 2, 'min_samples_leaf': 20, 'criterion': 'gini'}. Best is trial 3 with value: 0.8482142857142858.\n",
      "[I 2024-10-31 10:27:48,874] Trial 32 finished with value: 0.8264251373626375 and parameters: {'max_depth': 10, 'min_samples_split': 20, 'min_samples_leaf': 20, 'criterion': 'entropy'}. Best is trial 3 with value: 0.8482142857142858.\n",
      "[I 2024-10-31 10:27:49,320] Trial 33 finished with value: 0.8226991758241757 and parameters: {'max_depth': 17, 'min_samples_split': 2, 'min_samples_leaf': 15, 'criterion': 'entropy'}. Best is trial 3 with value: 0.8482142857142858.\n",
      "[I 2024-10-31 10:27:49,723] Trial 34 finished with value: 0.8146806318681319 and parameters: {'max_depth': 32, 'min_samples_split': 20, 'min_samples_leaf': 7, 'criterion': 'entropy'}. Best is trial 3 with value: 0.8482142857142858.\n",
      "[I 2024-10-31 10:27:50,093] Trial 35 finished with value: 0.7990041208791208 and parameters: {'max_depth': 22, 'min_samples_split': 20, 'min_samples_leaf': 11, 'criterion': 'entropy'}. Best is trial 3 with value: 0.8482142857142858.\n",
      "[I 2024-10-31 10:27:50,469] Trial 36 finished with value: 0.8388049450549451 and parameters: {'max_depth': 16, 'min_samples_split': 2, 'min_samples_leaf': 20, 'criterion': 'gini'}. Best is trial 3 with value: 0.8482142857142858.\n",
      "[I 2024-10-31 10:27:50,867] Trial 37 finished with value: 0.8171531593406594 and parameters: {'max_depth': 9, 'min_samples_split': 2, 'min_samples_leaf': 16, 'criterion': 'gini'}. Best is trial 3 with value: 0.8482142857142858.\n",
      "[I 2024-10-31 10:27:51,274] Trial 38 finished with value: 0.8419299450549451 and parameters: {'max_depth': 18, 'min_samples_split': 20, 'min_samples_leaf': 20, 'criterion': 'gini'}. Best is trial 3 with value: 0.8482142857142858.\n",
      "[I 2024-10-31 10:27:51,683] Trial 39 finished with value: 0.8285027472527473 and parameters: {'max_depth': 27, 'min_samples_split': 2, 'min_samples_leaf': 20, 'criterion': 'entropy'}. Best is trial 3 with value: 0.8482142857142858.\n",
      "[I 2024-10-31 10:27:52,119] Trial 40 finished with value: 0.8421359890109891 and parameters: {'max_depth': 6, 'min_samples_split': 20, 'min_samples_leaf': 3, 'criterion': 'gini'}. Best is trial 3 with value: 0.8482142857142858.\n",
      "[I 2024-10-31 10:27:52,497] Trial 41 finished with value: 0.821462912087912 and parameters: {'max_depth': 17, 'min_samples_split': 20, 'min_samples_leaf': 17, 'criterion': 'gini'}. Best is trial 3 with value: 0.8482142857142858.\n",
      "[I 2024-10-31 10:27:52,901] Trial 42 finished with value: 0.8369677197802197 and parameters: {'max_depth': 31, 'min_samples_split': 20, 'min_samples_leaf': 17, 'criterion': 'entropy'}. Best is trial 3 with value: 0.8482142857142858.\n",
      "[I 2024-10-31 10:27:53,247] Trial 43 finished with value: 0.799261675824176 and parameters: {'max_depth': 13, 'min_samples_split': 20, 'min_samples_leaf': 9, 'criterion': 'entropy'}. Best is trial 3 with value: 0.8482142857142858.\n",
      "[I 2024-10-31 10:27:53,647] Trial 44 finished with value: 0.8441620879120879 and parameters: {'max_depth': 14, 'min_samples_split': 10, 'min_samples_leaf': 20, 'criterion': 'gini'}. Best is trial 3 with value: 0.8482142857142858.\n",
      "[I 2024-10-31 10:27:54,040] Trial 45 finished with value: 0.8426510989010989 and parameters: {'max_depth': 18, 'min_samples_split': 10, 'min_samples_leaf': 20, 'criterion': 'gini'}. Best is trial 3 with value: 0.8482142857142858.\n",
      "[I 2024-10-31 10:27:54,494] Trial 46 finished with value: 0.8399553571428571 and parameters: {'max_depth': 8, 'min_samples_split': 20, 'min_samples_leaf': 20, 'criterion': 'gini'}. Best is trial 3 with value: 0.8482142857142858.\n",
      "[I 2024-10-31 10:27:54,850] Trial 47 finished with value: 0.8262019230769232 and parameters: {'max_depth': 13, 'min_samples_split': 2, 'min_samples_leaf': 20, 'criterion': 'entropy'}. Best is trial 3 with value: 0.8482142857142858.\n",
      "[I 2024-10-31 10:27:55,232] Trial 48 finished with value: 0.8412603021978022 and parameters: {'max_depth': 11, 'min_samples_split': 20, 'min_samples_leaf': 20, 'criterion': 'gini'}. Best is trial 3 with value: 0.8482142857142858.\n",
      "[I 2024-10-31 10:27:55,625] Trial 49 finished with value: 0.8410027472527473 and parameters: {'max_depth': 19, 'min_samples_split': 2, 'min_samples_leaf': 20, 'criterion': 'gini'}. Best is trial 3 with value: 0.8482142857142858.\n",
      "[I 2024-10-31 10:27:56,044] Trial 50 finished with value: 0.843904532967033 and parameters: {'max_depth': 7, 'min_samples_split': 20, 'min_samples_leaf': 1, 'criterion': 'gini'}. Best is trial 3 with value: 0.8482142857142858.\n",
      "[I 2024-10-31 10:27:56,528] Trial 51 finished with value: 0.8279876373626374 and parameters: {'max_depth': 29, 'min_samples_split': 20, 'min_samples_leaf': 20, 'criterion': 'entropy'}. Best is trial 3 with value: 0.8482142857142858.\n",
      "[I 2024-10-31 10:27:56,919] Trial 52 finished with value: 0.8340487637362637 and parameters: {'max_depth': 7, 'min_samples_split': 20, 'min_samples_leaf': 1, 'criterion': 'entropy'}. Best is trial 3 with value: 0.8482142857142858.\n",
      "[I 2024-10-31 10:27:57,315] Trial 53 finished with value: 0.8388392857142858 and parameters: {'max_depth': 21, 'min_samples_split': 20, 'min_samples_leaf': 20, 'criterion': 'gini'}. Best is trial 3 with value: 0.8482142857142858.\n",
      "[I 2024-10-31 10:27:57,716] Trial 54 finished with value: 0.749896978021978 and parameters: {'max_depth': 32, 'min_samples_split': 2, 'min_samples_leaf': 1, 'criterion': 'gini'}. Best is trial 3 with value: 0.8482142857142858.\n",
      "[I 2024-10-31 10:27:58,115] Trial 55 finished with value: 0.8410714285714285 and parameters: {'max_depth': 10, 'min_samples_split': 12, 'min_samples_leaf': 20, 'criterion': 'gini'}. Best is trial 3 with value: 0.8482142857142858.\n",
      "[I 2024-10-31 10:27:58,530] Trial 56 finished with value: 0.8421875 and parameters: {'max_depth': 19, 'min_samples_split': 11, 'min_samples_leaf': 20, 'criterion': 'gini'}. Best is trial 3 with value: 0.8482142857142858.\n",
      "[I 2024-10-31 10:27:58,948] Trial 57 finished with value: 0.8410885989010989 and parameters: {'max_depth': 16, 'min_samples_split': 10, 'min_samples_leaf': 20, 'criterion': 'gini'}. Best is trial 3 with value: 0.8482142857142858.\n",
      "[I 2024-10-31 10:27:59,327] Trial 58 finished with value: 0.8417067307692309 and parameters: {'max_depth': 12, 'min_samples_split': 11, 'min_samples_leaf': 20, 'criterion': 'gini'}. Best is trial 3 with value: 0.8482142857142858.\n",
      "[I 2024-10-31 10:27:59,698] Trial 59 finished with value: 0.8418956043956044 and parameters: {'max_depth': 24, 'min_samples_split': 2, 'min_samples_leaf': 20, 'criterion': 'gini'}. Best is trial 3 with value: 0.8482142857142858.\n",
      "[I 2024-10-31 10:28:00,107] Trial 60 finished with value: 0.8376888736263737 and parameters: {'max_depth': 30, 'min_samples_split': 11, 'min_samples_leaf': 20, 'criterion': 'gini'}. Best is trial 3 with value: 0.8482142857142858.\n",
      "[I 2024-10-31 10:28:00,512] Trial 61 finished with value: 0.8416380494505494 and parameters: {'max_depth': 21, 'min_samples_split': 9, 'min_samples_leaf': 20, 'criterion': 'gini'}. Best is trial 3 with value: 0.8482142857142858.\n",
      "[I 2024-10-31 10:28:00,930] Trial 62 finished with value: 0.8363839285714286 and parameters: {'max_depth': 11, 'min_samples_split': 20, 'min_samples_leaf': 6, 'criterion': 'gini'}. Best is trial 3 with value: 0.8482142857142858.\n",
      "[I 2024-10-31 10:28:01,285] Trial 63 finished with value: 0.7987293956043957 and parameters: {'max_depth': 32, 'min_samples_split': 20, 'min_samples_leaf': 11, 'criterion': 'entropy'}. Best is trial 3 with value: 0.8482142857142858.\n",
      "[I 2024-10-31 10:28:01,713] Trial 64 finished with value: 0.8390453296703297 and parameters: {'max_depth': 6, 'min_samples_split': 20, 'min_samples_leaf': 4, 'criterion': 'entropy'}. Best is trial 3 with value: 0.8482142857142858.\n",
      "[I 2024-10-31 10:28:02,166] Trial 65 finished with value: 0.8095982142857142 and parameters: {'max_depth': 6, 'min_samples_split': 2, 'min_samples_leaf': 3, 'criterion': 'entropy'}. Best is trial 3 with value: 0.8482142857142858.\n",
      "[I 2024-10-31 10:28:02,610] Trial 66 finished with value: 0.8254807692307692 and parameters: {'max_depth': 32, 'min_samples_split': 2, 'min_samples_leaf': 17, 'criterion': 'gini'}. Best is trial 3 with value: 0.8482142857142858.\n",
      "[I 2024-10-31 10:28:03,084] Trial 67 finished with value: 0.8305631868131866 and parameters: {'max_depth': 8, 'min_samples_split': 20, 'min_samples_leaf': 17, 'criterion': 'gini'}. Best is trial 3 with value: 0.8482142857142858.\n",
      "[I 2024-10-31 10:28:03,541] Trial 68 finished with value: 0.8459821428571429 and parameters: {'max_depth': 7, 'min_samples_split': 13, 'min_samples_leaf': 4, 'criterion': 'gini'}. Best is trial 3 with value: 0.8482142857142858.\n",
      "[I 2024-10-31 10:28:03,927] Trial 69 finished with value: 0.8256524725274726 and parameters: {'max_depth': 22, 'min_samples_split': 2, 'min_samples_leaf': 15, 'criterion': 'gini'}. Best is trial 3 with value: 0.8482142857142858.\n",
      "[I 2024-10-31 10:28:04,327] Trial 70 finished with value: 0.7235576923076923 and parameters: {'max_depth': 1, 'min_samples_split': 20, 'min_samples_leaf': 15, 'criterion': 'entropy'}. Best is trial 3 with value: 0.8482142857142858.\n",
      "[I 2024-10-31 10:28:04,773] Trial 71 finished with value: 0.8135130494505495 and parameters: {'max_depth': 16, 'min_samples_split': 2, 'min_samples_leaf': 12, 'criterion': 'gini'}. Best is trial 3 with value: 0.8482142857142858.\n",
      "[I 2024-10-31 10:28:05,248] Trial 72 finished with value: 0.8219436813186813 and parameters: {'max_depth': 28, 'min_samples_split': 20, 'min_samples_leaf': 15, 'criterion': 'gini'}. Best is trial 3 with value: 0.8482142857142858.\n",
      "[I 2024-10-31 10:28:05,627] Trial 73 finished with value: 0.850154532967033 and parameters: {'max_depth': 7, 'min_samples_split': 15, 'min_samples_leaf': 2, 'criterion': 'gini'}. Best is trial 73 with value: 0.850154532967033.\n",
      "[I 2024-10-31 10:28:06,021] Trial 74 finished with value: 0.8321943681318681 and parameters: {'max_depth': 12, 'min_samples_split': 6, 'min_samples_leaf': 18, 'criterion': 'gini'}. Best is trial 73 with value: 0.850154532967033.\n",
      "[I 2024-10-31 10:28:06,461] Trial 75 finished with value: 0.8426339285714286 and parameters: {'max_depth': 29, 'min_samples_split': 20, 'min_samples_leaf': 4, 'criterion': 'gini'}. Best is trial 73 with value: 0.850154532967033.\n",
      "[I 2024-10-31 10:28:06,867] Trial 76 finished with value: 0.8255322802197803 and parameters: {'max_depth': 29, 'min_samples_split': 20, 'min_samples_leaf': 4, 'criterion': 'entropy'}. Best is trial 73 with value: 0.850154532967033.\n",
      "[I 2024-10-31 10:28:07,288] Trial 77 finished with value: 0.8444196428571429 and parameters: {'max_depth': 32, 'min_samples_split': 20, 'min_samples_leaf': 4, 'criterion': 'gini'}. Best is trial 73 with value: 0.850154532967033.\n",
      "[I 2024-10-31 10:28:07,656] Trial 78 finished with value: 0.8334821428571428 and parameters: {'max_depth': 29, 'min_samples_split': 20, 'min_samples_leaf': 6, 'criterion': 'gini'}. Best is trial 73 with value: 0.850154532967033.\n",
      "[I 2024-10-31 10:28:08,066] Trial 79 finished with value: 0.8316105769230768 and parameters: {'max_depth': 27, 'min_samples_split': 2, 'min_samples_leaf': 18, 'criterion': 'gini'}. Best is trial 73 with value: 0.850154532967033.\n",
      "[I 2024-10-31 10:28:08,478] Trial 80 finished with value: 0.8450377747252749 and parameters: {'max_depth': 6, 'min_samples_split': 14, 'min_samples_leaf': 3, 'criterion': 'gini'}. Best is trial 73 with value: 0.850154532967033.\n",
      "[I 2024-10-31 10:28:08,881] Trial 81 finished with value: 0.8327953296703298 and parameters: {'max_depth': 23, 'min_samples_split': 20, 'min_samples_leaf': 16, 'criterion': 'entropy'}. Best is trial 73 with value: 0.850154532967033.\n",
      "[I 2024-10-31 10:28:09,322] Trial 82 finished with value: 0.8227163461538461 and parameters: {'max_depth': 12, 'min_samples_split': 4, 'min_samples_leaf': 7, 'criterion': 'gini'}. Best is trial 73 with value: 0.850154532967033.\n",
      "[I 2024-10-31 10:28:09,698] Trial 83 finished with value: 0.8512877747252746 and parameters: {'max_depth': 7, 'min_samples_split': 15, 'min_samples_leaf': 2, 'criterion': 'gini'}. Best is trial 83 with value: 0.8512877747252746.\n",
      "[I 2024-10-31 10:28:10,137] Trial 84 finished with value: 0.8378605769230768 and parameters: {'max_depth': 23, 'min_samples_split': 2, 'min_samples_leaf': 17, 'criterion': 'entropy'}. Best is trial 83 with value: 0.8512877747252746.\n",
      "[I 2024-10-31 10:28:10,566] Trial 85 finished with value: 0.8322287087912089 and parameters: {'max_depth': 32, 'min_samples_split': 20, 'min_samples_leaf': 2, 'criterion': 'gini'}. Best is trial 83 with value: 0.8512877747252746.\n",
      "[I 2024-10-31 10:28:10,993] Trial 86 finished with value: 0.8373626373626374 and parameters: {'max_depth': 11, 'min_samples_split': 20, 'min_samples_leaf': 16, 'criterion': 'entropy'}. Best is trial 83 with value: 0.8512877747252746.\n",
      "[I 2024-10-31 10:28:11,415] Trial 87 finished with value: 0.8310954670329671 and parameters: {'max_depth': 32, 'min_samples_split': 2, 'min_samples_leaf': 7, 'criterion': 'gini'}. Best is trial 83 with value: 0.8512877747252746.\n",
      "[I 2024-10-31 10:28:11,788] Trial 88 finished with value: 0.8235405219780221 and parameters: {'max_depth': 16, 'min_samples_split': 20, 'min_samples_leaf': 14, 'criterion': 'entropy'}. Best is trial 83 with value: 0.8512877747252746.\n",
      "[I 2024-10-31 10:28:12,187] Trial 89 finished with value: 0.826614010989011 and parameters: {'max_depth': 32, 'min_samples_split': 20, 'min_samples_leaf': 18, 'criterion': 'gini'}. Best is trial 83 with value: 0.8512877747252746.\n",
      "[I 2024-10-31 10:28:12,530] Trial 90 finished with value: 0.8279532967032968 and parameters: {'max_depth': 9, 'min_samples_split': 10, 'min_samples_leaf': 18, 'criterion': 'entropy'}. Best is trial 83 with value: 0.8512877747252746.\n",
      "[I 2024-10-31 10:28:12,893] Trial 91 finished with value: 0.8101648351648351 and parameters: {'max_depth': 32, 'min_samples_split': 2, 'min_samples_leaf': 10, 'criterion': 'entropy'}. Best is trial 83 with value: 0.8512877747252746.\n",
      "[I 2024-10-31 10:28:13,270] Trial 92 finished with value: 0.845054945054945 and parameters: {'max_depth': 8, 'min_samples_split': 15, 'min_samples_leaf': 2, 'criterion': 'gini'}. Best is trial 83 with value: 0.8512877747252746.\n",
      "[I 2024-10-31 10:28:13,647] Trial 93 finished with value: 0.8436298076923077 and parameters: {'max_depth': 9, 'min_samples_split': 13, 'min_samples_leaf': 5, 'criterion': 'gini'}. Best is trial 83 with value: 0.8512877747252746.\n",
      "[I 2024-10-31 10:28:14,025] Trial 94 finished with value: 0.8371909340659339 and parameters: {'max_depth': 32, 'min_samples_split': 2, 'min_samples_leaf': 17, 'criterion': 'entropy'}. Best is trial 83 with value: 0.8512877747252746.\n",
      "[I 2024-10-31 10:28:14,418] Trial 95 finished with value: 0.8491414835164836 and parameters: {'max_depth': 24, 'min_samples_split': 20, 'min_samples_leaf': 5, 'criterion': 'gini'}. Best is trial 83 with value: 0.8512877747252746.\n",
      "[I 2024-10-31 10:28:14,833] Trial 96 finished with value: 0.8490556318681319 and parameters: {'max_depth': 25, 'min_samples_split': 20, 'min_samples_leaf': 4, 'criterion': 'gini'}. Best is trial 83 with value: 0.8512877747252746.\n",
      "[I 2024-10-31 10:28:15,478] Trial 97 finished with value: 0.8478880494505494 and parameters: {'max_depth': 26, 'min_samples_split': 20, 'min_samples_leaf': 5, 'criterion': 'gini'}. Best is trial 83 with value: 0.8512877747252746.\n",
      "[I 2024-10-31 10:28:15,935] Trial 98 finished with value: 0.8392513736263737 and parameters: {'max_depth': 25, 'min_samples_split': 13, 'min_samples_leaf': 5, 'criterion': 'gini'}. Best is trial 83 with value: 0.8512877747252746.\n",
      "[I 2024-10-31 10:28:16,317] Trial 99 finished with value: 0.8470982142857142 and parameters: {'max_depth': 23, 'min_samples_split': 20, 'min_samples_leaf': 4, 'criterion': 'gini'}. Best is trial 83 with value: 0.8512877747252746.\n"
     ]
    }
   ],
   "source": [
    "# ---------------------------------------------------------------------------- #\n",
    "#                                 OPTIMIZATION                                 #\n",
    "# ---------------------------------------------------------------------------- #\n",
    "\n",
    "# Initiate CodeCarbon to track emissions\n",
    "tracker = EmissionsTracker('DT optimization', log_level='warning')\n",
    "tracker.start()\n",
    "\n",
    "# Objective function\n",
    "def objective(trial):\n",
    "    # Define parameters\n",
    "    max_depth = int(trial.suggest_int('max_depth', 1, 32))  # Faixa para max_depth\n",
    "    min_samples_split = trial.suggest_int('min_samples_split', 2, 20)  # Faixa para min_samples_split\n",
    "    min_samples_leaf = trial.suggest_int('min_samples_leaf', 1, 20)  # Faixa para min_samples_leaf\n",
    "    criterion = trial.suggest_categorical('criterion', ['gini', 'entropy'])  # Critério de divisão\n",
    "\n",
    "    # Create model\n",
    "    temp_model = tree.DecisionTreeClassifier(\n",
    "        max_depth=max_depth,\n",
    "        min_samples_split=min_samples_split,\n",
    "        min_samples_leaf=min_samples_leaf,\n",
    "        criterion=criterion\n",
    "    )\n",
    "    \n",
    "    # Define pipeline depending on whether PCA is requested or not\n",
    "    if PC_Features:\n",
    "        steps = [\n",
    "            ('preprocessor', preprocessor),\n",
    "            ('pca', PCA(n_components=12)),\n",
    "            ('DT-classifier', temp_model)\n",
    "        ]\n",
    "    else:\n",
    "        steps = [\n",
    "            ('preprocessor', preprocessor),\n",
    "            ('DT-classifier', temp_model)\n",
    "        ]\n",
    "        \n",
    "    pipeline = Pipeline(steps)\n",
    "    \n",
    "    # Perform cross-validation\n",
    "    roc_auc = cross_val_score(pipeline, X, y, scoring='roc_auc', cv=K_Folds).mean()\n",
    "    \n",
    "    return roc_auc\n",
    "    \n",
    "# Optimizing with Optuna\n",
    "study = optuna.create_study(direction='maximize', sampler=GPSampler())\n",
    "study.optimize(objective, n_trials=100)"
   ]
  },
  {
   "cell_type": "code",
   "execution_count": 14,
   "metadata": {},
   "outputs": [
    {
     "name": "stdout",
     "output_type": "stream",
     "text": [
      "AUC-ROC: 0.8512877747252746\n",
      "Best hyperparameters: {'max_depth': 7, 'min_samples_split': 15, 'min_samples_leaf': 2, 'criterion': 'gini'}\n"
     ]
    }
   ],
   "source": [
    "# Show best model\n",
    "trial = study.best_trial\n",
    "print('AUC-ROC: {}'.format(trial.value))\n",
    "print(\"Best hyperparameters: {}\".format(trial.params))\n",
    "\n",
    "# Save best trial parameters to a JSON file\n",
    "with open('params/DT-params.json', 'w') as f:\n",
    "    json.dump(trial.params, f)"
   ]
  },
  {
   "cell_type": "code",
   "execution_count": 15,
   "metadata": {},
   "outputs": [
    {
     "data": {
      "application/vnd.plotly.v1+json": {
       "config": {
        "plotlyServerURL": "https://plot.ly"
       },
       "data": [
        {
         "mode": "markers",
         "name": "Objective Value",
         "type": "scatter",
         "x": [
          0,
          1,
          2,
          3,
          4,
          5,
          6,
          7,
          8,
          9,
          10,
          11,
          12,
          13,
          14,
          15,
          16,
          17,
          18,
          19,
          20,
          21,
          22,
          23,
          24,
          25,
          26,
          27,
          28,
          29,
          30,
          31,
          32,
          33,
          34,
          35,
          36,
          37,
          38,
          39,
          40,
          41,
          42,
          43,
          44,
          45,
          46,
          47,
          48,
          49,
          50,
          51,
          52,
          53,
          54,
          55,
          56,
          57,
          58,
          59,
          60,
          61,
          62,
          63,
          64,
          65,
          66,
          67,
          68,
          69,
          70,
          71,
          72,
          73,
          74,
          75,
          76,
          77,
          78,
          79,
          80,
          81,
          82,
          83,
          84,
          85,
          86,
          87,
          88,
          89,
          90,
          91,
          92,
          93,
          94,
          95,
          96,
          97,
          98,
          99
         ],
         "y": [
          0.8274896978021978,
          0.8380837912087913,
          0.8162603021978022,
          0.8482142857142858,
          0.824793956043956,
          0.8220123626373625,
          0.8135473901098902,
          0.8215659340659341,
          0.7976476648351649,
          0.749896978021978,
          0.8387019230769232,
          0.8326407967032967,
          0.8327781593406594,
          0.8262019230769232,
          0.7952781593406593,
          0.7235576923076923,
          0.8381353021978022,
          0.827764423076923,
          0.8379464285714284,
          0.8258928571428571,
          0.8431833791208792,
          0.7391140109890111,
          0.8383928571428572,
          0.7371222527472527,
          0.8341861263736264,
          0.8438015109890111,
          0.8318509615384615,
          0.8321771978021978,
          0.8111607142857142,
          0.8388392857142858,
          0.829275412087912,
          0.749896978021978,
          0.8264251373626375,
          0.8226991758241757,
          0.8146806318681319,
          0.7990041208791208,
          0.8388049450549451,
          0.8171531593406594,
          0.8419299450549451,
          0.8285027472527473,
          0.8421359890109891,
          0.821462912087912,
          0.8369677197802197,
          0.799261675824176,
          0.8441620879120879,
          0.8426510989010989,
          0.8399553571428571,
          0.8262019230769232,
          0.8412603021978022,
          0.8410027472527473,
          0.843904532967033,
          0.8279876373626374,
          0.8340487637362637,
          0.8388392857142858,
          0.749896978021978,
          0.8410714285714285,
          0.8421875,
          0.8410885989010989,
          0.8417067307692309,
          0.8418956043956044,
          0.8376888736263737,
          0.8416380494505494,
          0.8363839285714286,
          0.7987293956043957,
          0.8390453296703297,
          0.8095982142857142,
          0.8254807692307692,
          0.8305631868131866,
          0.8459821428571429,
          0.8256524725274726,
          0.7235576923076923,
          0.8135130494505495,
          0.8219436813186813,
          0.850154532967033,
          0.8321943681318681,
          0.8426339285714286,
          0.8255322802197803,
          0.8444196428571429,
          0.8334821428571428,
          0.8316105769230768,
          0.8450377747252749,
          0.8327953296703298,
          0.8227163461538461,
          0.8512877747252746,
          0.8378605769230768,
          0.8322287087912089,
          0.8373626373626374,
          0.8310954670329671,
          0.8235405219780221,
          0.826614010989011,
          0.8279532967032968,
          0.8101648351648351,
          0.845054945054945,
          0.8436298076923077,
          0.8371909340659339,
          0.8491414835164836,
          0.8490556318681319,
          0.8478880494505494,
          0.8392513736263737,
          0.8470982142857142
         ]
        },
        {
         "mode": "lines",
         "name": "Best Value",
         "type": "scatter",
         "x": [
          0,
          1,
          2,
          3,
          4,
          5,
          6,
          7,
          8,
          9,
          10,
          11,
          12,
          13,
          14,
          15,
          16,
          17,
          18,
          19,
          20,
          21,
          22,
          23,
          24,
          25,
          26,
          27,
          28,
          29,
          30,
          31,
          32,
          33,
          34,
          35,
          36,
          37,
          38,
          39,
          40,
          41,
          42,
          43,
          44,
          45,
          46,
          47,
          48,
          49,
          50,
          51,
          52,
          53,
          54,
          55,
          56,
          57,
          58,
          59,
          60,
          61,
          62,
          63,
          64,
          65,
          66,
          67,
          68,
          69,
          70,
          71,
          72,
          73,
          74,
          75,
          76,
          77,
          78,
          79,
          80,
          81,
          82,
          83,
          84,
          85,
          86,
          87,
          88,
          89,
          90,
          91,
          92,
          93,
          94,
          95,
          96,
          97,
          98,
          99
         ],
         "y": [
          0.8274896978021978,
          0.8380837912087913,
          0.8380837912087913,
          0.8482142857142858,
          0.8482142857142858,
          0.8482142857142858,
          0.8482142857142858,
          0.8482142857142858,
          0.8482142857142858,
          0.8482142857142858,
          0.8482142857142858,
          0.8482142857142858,
          0.8482142857142858,
          0.8482142857142858,
          0.8482142857142858,
          0.8482142857142858,
          0.8482142857142858,
          0.8482142857142858,
          0.8482142857142858,
          0.8482142857142858,
          0.8482142857142858,
          0.8482142857142858,
          0.8482142857142858,
          0.8482142857142858,
          0.8482142857142858,
          0.8482142857142858,
          0.8482142857142858,
          0.8482142857142858,
          0.8482142857142858,
          0.8482142857142858,
          0.8482142857142858,
          0.8482142857142858,
          0.8482142857142858,
          0.8482142857142858,
          0.8482142857142858,
          0.8482142857142858,
          0.8482142857142858,
          0.8482142857142858,
          0.8482142857142858,
          0.8482142857142858,
          0.8482142857142858,
          0.8482142857142858,
          0.8482142857142858,
          0.8482142857142858,
          0.8482142857142858,
          0.8482142857142858,
          0.8482142857142858,
          0.8482142857142858,
          0.8482142857142858,
          0.8482142857142858,
          0.8482142857142858,
          0.8482142857142858,
          0.8482142857142858,
          0.8482142857142858,
          0.8482142857142858,
          0.8482142857142858,
          0.8482142857142858,
          0.8482142857142858,
          0.8482142857142858,
          0.8482142857142858,
          0.8482142857142858,
          0.8482142857142858,
          0.8482142857142858,
          0.8482142857142858,
          0.8482142857142858,
          0.8482142857142858,
          0.8482142857142858,
          0.8482142857142858,
          0.8482142857142858,
          0.8482142857142858,
          0.8482142857142858,
          0.8482142857142858,
          0.8482142857142858,
          0.850154532967033,
          0.850154532967033,
          0.850154532967033,
          0.850154532967033,
          0.850154532967033,
          0.850154532967033,
          0.850154532967033,
          0.850154532967033,
          0.850154532967033,
          0.850154532967033,
          0.8512877747252746,
          0.8512877747252746,
          0.8512877747252746,
          0.8512877747252746,
          0.8512877747252746,
          0.8512877747252746,
          0.8512877747252746,
          0.8512877747252746,
          0.8512877747252746,
          0.8512877747252746,
          0.8512877747252746,
          0.8512877747252746,
          0.8512877747252746,
          0.8512877747252746,
          0.8512877747252746,
          0.8512877747252746,
          0.8512877747252746
         ]
        },
        {
         "marker": {
          "color": "#cccccc"
         },
         "mode": "markers",
         "name": "Infeasible Trial",
         "showlegend": false,
         "type": "scatter",
         "x": [],
         "y": []
        }
       ],
       "layout": {
        "template": {
         "data": {
          "bar": [
           {
            "error_x": {
             "color": "#2a3f5f"
            },
            "error_y": {
             "color": "#2a3f5f"
            },
            "marker": {
             "line": {
              "color": "#E5ECF6",
              "width": 0.5
             },
             "pattern": {
              "fillmode": "overlay",
              "size": 10,
              "solidity": 0.2
             }
            },
            "type": "bar"
           }
          ],
          "barpolar": [
           {
            "marker": {
             "line": {
              "color": "#E5ECF6",
              "width": 0.5
             },
             "pattern": {
              "fillmode": "overlay",
              "size": 10,
              "solidity": 0.2
             }
            },
            "type": "barpolar"
           }
          ],
          "carpet": [
           {
            "aaxis": {
             "endlinecolor": "#2a3f5f",
             "gridcolor": "white",
             "linecolor": "white",
             "minorgridcolor": "white",
             "startlinecolor": "#2a3f5f"
            },
            "baxis": {
             "endlinecolor": "#2a3f5f",
             "gridcolor": "white",
             "linecolor": "white",
             "minorgridcolor": "white",
             "startlinecolor": "#2a3f5f"
            },
            "type": "carpet"
           }
          ],
          "choropleth": [
           {
            "colorbar": {
             "outlinewidth": 0,
             "ticks": ""
            },
            "type": "choropleth"
           }
          ],
          "contour": [
           {
            "colorbar": {
             "outlinewidth": 0,
             "ticks": ""
            },
            "colorscale": [
             [
              0,
              "#0d0887"
             ],
             [
              0.1111111111111111,
              "#46039f"
             ],
             [
              0.2222222222222222,
              "#7201a8"
             ],
             [
              0.3333333333333333,
              "#9c179e"
             ],
             [
              0.4444444444444444,
              "#bd3786"
             ],
             [
              0.5555555555555556,
              "#d8576b"
             ],
             [
              0.6666666666666666,
              "#ed7953"
             ],
             [
              0.7777777777777778,
              "#fb9f3a"
             ],
             [
              0.8888888888888888,
              "#fdca26"
             ],
             [
              1,
              "#f0f921"
             ]
            ],
            "type": "contour"
           }
          ],
          "contourcarpet": [
           {
            "colorbar": {
             "outlinewidth": 0,
             "ticks": ""
            },
            "type": "contourcarpet"
           }
          ],
          "heatmap": [
           {
            "colorbar": {
             "outlinewidth": 0,
             "ticks": ""
            },
            "colorscale": [
             [
              0,
              "#0d0887"
             ],
             [
              0.1111111111111111,
              "#46039f"
             ],
             [
              0.2222222222222222,
              "#7201a8"
             ],
             [
              0.3333333333333333,
              "#9c179e"
             ],
             [
              0.4444444444444444,
              "#bd3786"
             ],
             [
              0.5555555555555556,
              "#d8576b"
             ],
             [
              0.6666666666666666,
              "#ed7953"
             ],
             [
              0.7777777777777778,
              "#fb9f3a"
             ],
             [
              0.8888888888888888,
              "#fdca26"
             ],
             [
              1,
              "#f0f921"
             ]
            ],
            "type": "heatmap"
           }
          ],
          "heatmapgl": [
           {
            "colorbar": {
             "outlinewidth": 0,
             "ticks": ""
            },
            "colorscale": [
             [
              0,
              "#0d0887"
             ],
             [
              0.1111111111111111,
              "#46039f"
             ],
             [
              0.2222222222222222,
              "#7201a8"
             ],
             [
              0.3333333333333333,
              "#9c179e"
             ],
             [
              0.4444444444444444,
              "#bd3786"
             ],
             [
              0.5555555555555556,
              "#d8576b"
             ],
             [
              0.6666666666666666,
              "#ed7953"
             ],
             [
              0.7777777777777778,
              "#fb9f3a"
             ],
             [
              0.8888888888888888,
              "#fdca26"
             ],
             [
              1,
              "#f0f921"
             ]
            ],
            "type": "heatmapgl"
           }
          ],
          "histogram": [
           {
            "marker": {
             "pattern": {
              "fillmode": "overlay",
              "size": 10,
              "solidity": 0.2
             }
            },
            "type": "histogram"
           }
          ],
          "histogram2d": [
           {
            "colorbar": {
             "outlinewidth": 0,
             "ticks": ""
            },
            "colorscale": [
             [
              0,
              "#0d0887"
             ],
             [
              0.1111111111111111,
              "#46039f"
             ],
             [
              0.2222222222222222,
              "#7201a8"
             ],
             [
              0.3333333333333333,
              "#9c179e"
             ],
             [
              0.4444444444444444,
              "#bd3786"
             ],
             [
              0.5555555555555556,
              "#d8576b"
             ],
             [
              0.6666666666666666,
              "#ed7953"
             ],
             [
              0.7777777777777778,
              "#fb9f3a"
             ],
             [
              0.8888888888888888,
              "#fdca26"
             ],
             [
              1,
              "#f0f921"
             ]
            ],
            "type": "histogram2d"
           }
          ],
          "histogram2dcontour": [
           {
            "colorbar": {
             "outlinewidth": 0,
             "ticks": ""
            },
            "colorscale": [
             [
              0,
              "#0d0887"
             ],
             [
              0.1111111111111111,
              "#46039f"
             ],
             [
              0.2222222222222222,
              "#7201a8"
             ],
             [
              0.3333333333333333,
              "#9c179e"
             ],
             [
              0.4444444444444444,
              "#bd3786"
             ],
             [
              0.5555555555555556,
              "#d8576b"
             ],
             [
              0.6666666666666666,
              "#ed7953"
             ],
             [
              0.7777777777777778,
              "#fb9f3a"
             ],
             [
              0.8888888888888888,
              "#fdca26"
             ],
             [
              1,
              "#f0f921"
             ]
            ],
            "type": "histogram2dcontour"
           }
          ],
          "mesh3d": [
           {
            "colorbar": {
             "outlinewidth": 0,
             "ticks": ""
            },
            "type": "mesh3d"
           }
          ],
          "parcoords": [
           {
            "line": {
             "colorbar": {
              "outlinewidth": 0,
              "ticks": ""
             }
            },
            "type": "parcoords"
           }
          ],
          "pie": [
           {
            "automargin": true,
            "type": "pie"
           }
          ],
          "scatter": [
           {
            "fillpattern": {
             "fillmode": "overlay",
             "size": 10,
             "solidity": 0.2
            },
            "type": "scatter"
           }
          ],
          "scatter3d": [
           {
            "line": {
             "colorbar": {
              "outlinewidth": 0,
              "ticks": ""
             }
            },
            "marker": {
             "colorbar": {
              "outlinewidth": 0,
              "ticks": ""
             }
            },
            "type": "scatter3d"
           }
          ],
          "scattercarpet": [
           {
            "marker": {
             "colorbar": {
              "outlinewidth": 0,
              "ticks": ""
             }
            },
            "type": "scattercarpet"
           }
          ],
          "scattergeo": [
           {
            "marker": {
             "colorbar": {
              "outlinewidth": 0,
              "ticks": ""
             }
            },
            "type": "scattergeo"
           }
          ],
          "scattergl": [
           {
            "marker": {
             "colorbar": {
              "outlinewidth": 0,
              "ticks": ""
             }
            },
            "type": "scattergl"
           }
          ],
          "scattermapbox": [
           {
            "marker": {
             "colorbar": {
              "outlinewidth": 0,
              "ticks": ""
             }
            },
            "type": "scattermapbox"
           }
          ],
          "scatterpolar": [
           {
            "marker": {
             "colorbar": {
              "outlinewidth": 0,
              "ticks": ""
             }
            },
            "type": "scatterpolar"
           }
          ],
          "scatterpolargl": [
           {
            "marker": {
             "colorbar": {
              "outlinewidth": 0,
              "ticks": ""
             }
            },
            "type": "scatterpolargl"
           }
          ],
          "scatterternary": [
           {
            "marker": {
             "colorbar": {
              "outlinewidth": 0,
              "ticks": ""
             }
            },
            "type": "scatterternary"
           }
          ],
          "surface": [
           {
            "colorbar": {
             "outlinewidth": 0,
             "ticks": ""
            },
            "colorscale": [
             [
              0,
              "#0d0887"
             ],
             [
              0.1111111111111111,
              "#46039f"
             ],
             [
              0.2222222222222222,
              "#7201a8"
             ],
             [
              0.3333333333333333,
              "#9c179e"
             ],
             [
              0.4444444444444444,
              "#bd3786"
             ],
             [
              0.5555555555555556,
              "#d8576b"
             ],
             [
              0.6666666666666666,
              "#ed7953"
             ],
             [
              0.7777777777777778,
              "#fb9f3a"
             ],
             [
              0.8888888888888888,
              "#fdca26"
             ],
             [
              1,
              "#f0f921"
             ]
            ],
            "type": "surface"
           }
          ],
          "table": [
           {
            "cells": {
             "fill": {
              "color": "#EBF0F8"
             },
             "line": {
              "color": "white"
             }
            },
            "header": {
             "fill": {
              "color": "#C8D4E3"
             },
             "line": {
              "color": "white"
             }
            },
            "type": "table"
           }
          ]
         },
         "layout": {
          "annotationdefaults": {
           "arrowcolor": "#2a3f5f",
           "arrowhead": 0,
           "arrowwidth": 1
          },
          "autotypenumbers": "strict",
          "coloraxis": {
           "colorbar": {
            "outlinewidth": 0,
            "ticks": ""
           }
          },
          "colorscale": {
           "diverging": [
            [
             0,
             "#8e0152"
            ],
            [
             0.1,
             "#c51b7d"
            ],
            [
             0.2,
             "#de77ae"
            ],
            [
             0.3,
             "#f1b6da"
            ],
            [
             0.4,
             "#fde0ef"
            ],
            [
             0.5,
             "#f7f7f7"
            ],
            [
             0.6,
             "#e6f5d0"
            ],
            [
             0.7,
             "#b8e186"
            ],
            [
             0.8,
             "#7fbc41"
            ],
            [
             0.9,
             "#4d9221"
            ],
            [
             1,
             "#276419"
            ]
           ],
           "sequential": [
            [
             0,
             "#0d0887"
            ],
            [
             0.1111111111111111,
             "#46039f"
            ],
            [
             0.2222222222222222,
             "#7201a8"
            ],
            [
             0.3333333333333333,
             "#9c179e"
            ],
            [
             0.4444444444444444,
             "#bd3786"
            ],
            [
             0.5555555555555556,
             "#d8576b"
            ],
            [
             0.6666666666666666,
             "#ed7953"
            ],
            [
             0.7777777777777778,
             "#fb9f3a"
            ],
            [
             0.8888888888888888,
             "#fdca26"
            ],
            [
             1,
             "#f0f921"
            ]
           ],
           "sequentialminus": [
            [
             0,
             "#0d0887"
            ],
            [
             0.1111111111111111,
             "#46039f"
            ],
            [
             0.2222222222222222,
             "#7201a8"
            ],
            [
             0.3333333333333333,
             "#9c179e"
            ],
            [
             0.4444444444444444,
             "#bd3786"
            ],
            [
             0.5555555555555556,
             "#d8576b"
            ],
            [
             0.6666666666666666,
             "#ed7953"
            ],
            [
             0.7777777777777778,
             "#fb9f3a"
            ],
            [
             0.8888888888888888,
             "#fdca26"
            ],
            [
             1,
             "#f0f921"
            ]
           ]
          },
          "colorway": [
           "#636efa",
           "#EF553B",
           "#00cc96",
           "#ab63fa",
           "#FFA15A",
           "#19d3f3",
           "#FF6692",
           "#B6E880",
           "#FF97FF",
           "#FECB52"
          ],
          "font": {
           "color": "#2a3f5f"
          },
          "geo": {
           "bgcolor": "white",
           "lakecolor": "white",
           "landcolor": "#E5ECF6",
           "showlakes": true,
           "showland": true,
           "subunitcolor": "white"
          },
          "hoverlabel": {
           "align": "left"
          },
          "hovermode": "closest",
          "mapbox": {
           "style": "light"
          },
          "paper_bgcolor": "white",
          "plot_bgcolor": "#E5ECF6",
          "polar": {
           "angularaxis": {
            "gridcolor": "white",
            "linecolor": "white",
            "ticks": ""
           },
           "bgcolor": "#E5ECF6",
           "radialaxis": {
            "gridcolor": "white",
            "linecolor": "white",
            "ticks": ""
           }
          },
          "scene": {
           "xaxis": {
            "backgroundcolor": "#E5ECF6",
            "gridcolor": "white",
            "gridwidth": 2,
            "linecolor": "white",
            "showbackground": true,
            "ticks": "",
            "zerolinecolor": "white"
           },
           "yaxis": {
            "backgroundcolor": "#E5ECF6",
            "gridcolor": "white",
            "gridwidth": 2,
            "linecolor": "white",
            "showbackground": true,
            "ticks": "",
            "zerolinecolor": "white"
           },
           "zaxis": {
            "backgroundcolor": "#E5ECF6",
            "gridcolor": "white",
            "gridwidth": 2,
            "linecolor": "white",
            "showbackground": true,
            "ticks": "",
            "zerolinecolor": "white"
           }
          },
          "shapedefaults": {
           "line": {
            "color": "#2a3f5f"
           }
          },
          "ternary": {
           "aaxis": {
            "gridcolor": "white",
            "linecolor": "white",
            "ticks": ""
           },
           "baxis": {
            "gridcolor": "white",
            "linecolor": "white",
            "ticks": ""
           },
           "bgcolor": "#E5ECF6",
           "caxis": {
            "gridcolor": "white",
            "linecolor": "white",
            "ticks": ""
           }
          },
          "title": {
           "x": 0.05
          },
          "xaxis": {
           "automargin": true,
           "gridcolor": "white",
           "linecolor": "white",
           "ticks": "",
           "title": {
            "standoff": 15
           },
           "zerolinecolor": "white",
           "zerolinewidth": 2
          },
          "yaxis": {
           "automargin": true,
           "gridcolor": "white",
           "linecolor": "white",
           "ticks": "",
           "title": {
            "standoff": 15
           },
           "zerolinecolor": "white",
           "zerolinewidth": 2
          }
         }
        },
        "title": {
         "text": "Optimization History Plot"
        },
        "xaxis": {
         "title": {
          "text": "Trial"
         }
        },
        "yaxis": {
         "title": {
          "text": "Objective Value"
         }
        }
       }
      }
     },
     "metadata": {},
     "output_type": "display_data"
    }
   ],
   "source": [
    "# Visualizing optimization\n",
    "optuna.visualization.plot_optimization_history(study)"
   ]
  },
  {
   "cell_type": "code",
   "execution_count": 16,
   "metadata": {},
   "outputs": [
    {
     "data": {
      "application/vnd.plotly.v1+json": {
       "config": {
        "plotlyServerURL": "https://plot.ly"
       },
       "data": [
        {
         "marker": {
          "color": [
           0,
           1,
           2,
           3,
           4,
           5,
           6,
           7,
           8,
           9,
           10,
           11,
           12,
           13,
           14,
           15,
           16,
           17,
           18,
           19,
           20,
           21,
           22,
           23,
           24,
           25,
           26,
           27,
           28,
           29,
           30,
           31,
           32,
           33,
           34,
           35,
           36,
           37,
           38,
           39,
           40,
           41,
           42,
           43,
           44,
           45,
           46,
           47,
           48,
           49,
           50,
           51,
           52,
           53,
           54,
           55,
           56,
           57,
           58,
           59,
           60,
           61,
           62,
           63,
           64,
           65,
           66,
           67,
           68,
           69,
           70,
           71,
           72,
           73,
           74,
           75,
           76,
           77,
           78,
           79,
           80,
           81,
           82,
           83,
           84,
           85,
           86,
           87,
           88,
           89,
           90,
           91,
           92,
           93,
           94,
           95,
           96,
           97,
           98,
           99
          ],
          "colorbar": {
           "title": {
            "text": "Trial"
           },
           "x": 1,
           "xpad": 40
          },
          "colorscale": [
           [
            0,
            "rgb(247,251,255)"
           ],
           [
            0.125,
            "rgb(222,235,247)"
           ],
           [
            0.25,
            "rgb(198,219,239)"
           ],
           [
            0.375,
            "rgb(158,202,225)"
           ],
           [
            0.5,
            "rgb(107,174,214)"
           ],
           [
            0.625,
            "rgb(66,146,198)"
           ],
           [
            0.75,
            "rgb(33,113,181)"
           ],
           [
            0.875,
            "rgb(8,81,156)"
           ],
           [
            1,
            "rgb(8,48,107)"
           ]
          ],
          "line": {
           "color": "Grey",
           "width": 0.5
          },
          "showscale": true
         },
         "mode": "markers",
         "name": "Feasible Trial",
         "showlegend": false,
         "type": "scatter",
         "x": [
          "gini",
          "entropy",
          "gini",
          "entropy",
          "entropy",
          "entropy",
          "gini",
          "gini",
          "entropy",
          "gini",
          "entropy",
          "entropy",
          "entropy",
          "entropy",
          "entropy",
          "entropy",
          "entropy",
          "entropy",
          "gini",
          "entropy",
          "gini",
          "gini",
          "gini",
          "entropy",
          "gini",
          "gini",
          "entropy",
          "gini",
          "entropy",
          "gini",
          "gini",
          "gini",
          "entropy",
          "entropy",
          "entropy",
          "entropy",
          "gini",
          "gini",
          "gini",
          "entropy",
          "gini",
          "gini",
          "entropy",
          "entropy",
          "gini",
          "gini",
          "gini",
          "entropy",
          "gini",
          "gini",
          "gini",
          "entropy",
          "entropy",
          "gini",
          "gini",
          "gini",
          "gini",
          "gini",
          "gini",
          "gini",
          "gini",
          "gini",
          "gini",
          "entropy",
          "entropy",
          "entropy",
          "gini",
          "gini",
          "gini",
          "gini",
          "entropy",
          "gini",
          "gini",
          "gini",
          "gini",
          "gini",
          "entropy",
          "gini",
          "gini",
          "gini",
          "gini",
          "entropy",
          "gini",
          "gini",
          "entropy",
          "gini",
          "entropy",
          "gini",
          "entropy",
          "gini",
          "entropy",
          "entropy",
          "gini",
          "gini",
          "entropy",
          "gini",
          "gini",
          "gini",
          "gini",
          "gini"
         ],
         "xaxis": "x",
         "y": [
          0.8274896978021978,
          0.8380837912087913,
          0.8162603021978022,
          0.8482142857142858,
          0.824793956043956,
          0.8220123626373625,
          0.8135473901098902,
          0.8215659340659341,
          0.7976476648351649,
          0.749896978021978,
          0.8387019230769232,
          0.8326407967032967,
          0.8327781593406594,
          0.8262019230769232,
          0.7952781593406593,
          0.7235576923076923,
          0.8381353021978022,
          0.827764423076923,
          0.8379464285714284,
          0.8258928571428571,
          0.8431833791208792,
          0.7391140109890111,
          0.8383928571428572,
          0.7371222527472527,
          0.8341861263736264,
          0.8438015109890111,
          0.8318509615384615,
          0.8321771978021978,
          0.8111607142857142,
          0.8388392857142858,
          0.829275412087912,
          0.749896978021978,
          0.8264251373626375,
          0.8226991758241757,
          0.8146806318681319,
          0.7990041208791208,
          0.8388049450549451,
          0.8171531593406594,
          0.8419299450549451,
          0.8285027472527473,
          0.8421359890109891,
          0.821462912087912,
          0.8369677197802197,
          0.799261675824176,
          0.8441620879120879,
          0.8426510989010989,
          0.8399553571428571,
          0.8262019230769232,
          0.8412603021978022,
          0.8410027472527473,
          0.843904532967033,
          0.8279876373626374,
          0.8340487637362637,
          0.8388392857142858,
          0.749896978021978,
          0.8410714285714285,
          0.8421875,
          0.8410885989010989,
          0.8417067307692309,
          0.8418956043956044,
          0.8376888736263737,
          0.8416380494505494,
          0.8363839285714286,
          0.7987293956043957,
          0.8390453296703297,
          0.8095982142857142,
          0.8254807692307692,
          0.8305631868131866,
          0.8459821428571429,
          0.8256524725274726,
          0.7235576923076923,
          0.8135130494505495,
          0.8219436813186813,
          0.850154532967033,
          0.8321943681318681,
          0.8426339285714286,
          0.8255322802197803,
          0.8444196428571429,
          0.8334821428571428,
          0.8316105769230768,
          0.8450377747252749,
          0.8327953296703298,
          0.8227163461538461,
          0.8512877747252746,
          0.8378605769230768,
          0.8322287087912089,
          0.8373626373626374,
          0.8310954670329671,
          0.8235405219780221,
          0.826614010989011,
          0.8279532967032968,
          0.8101648351648351,
          0.845054945054945,
          0.8436298076923077,
          0.8371909340659339,
          0.8491414835164836,
          0.8490556318681319,
          0.8478880494505494,
          0.8392513736263737,
          0.8470982142857142
         ],
         "yaxis": "y"
        },
        {
         "marker": {
          "color": [
           0,
           1,
           2,
           3,
           4,
           5,
           6,
           7,
           8,
           9,
           10,
           11,
           12,
           13,
           14,
           15,
           16,
           17,
           18,
           19,
           20,
           21,
           22,
           23,
           24,
           25,
           26,
           27,
           28,
           29,
           30,
           31,
           32,
           33,
           34,
           35,
           36,
           37,
           38,
           39,
           40,
           41,
           42,
           43,
           44,
           45,
           46,
           47,
           48,
           49,
           50,
           51,
           52,
           53,
           54,
           55,
           56,
           57,
           58,
           59,
           60,
           61,
           62,
           63,
           64,
           65,
           66,
           67,
           68,
           69,
           70,
           71,
           72,
           73,
           74,
           75,
           76,
           77,
           78,
           79,
           80,
           81,
           82,
           83,
           84,
           85,
           86,
           87,
           88,
           89,
           90,
           91,
           92,
           93,
           94,
           95,
           96,
           97,
           98,
           99
          ],
          "colorbar": {
           "title": {
            "text": "Trial"
           },
           "x": 1,
           "xpad": 40
          },
          "colorscale": [
           [
            0,
            "rgb(247,251,255)"
           ],
           [
            0.125,
            "rgb(222,235,247)"
           ],
           [
            0.25,
            "rgb(198,219,239)"
           ],
           [
            0.375,
            "rgb(158,202,225)"
           ],
           [
            0.5,
            "rgb(107,174,214)"
           ],
           [
            0.625,
            "rgb(66,146,198)"
           ],
           [
            0.75,
            "rgb(33,113,181)"
           ],
           [
            0.875,
            "rgb(8,81,156)"
           ],
           [
            1,
            "rgb(8,48,107)"
           ]
          ],
          "line": {
           "color": "Grey",
           "width": 0.5
          },
          "showscale": false
         },
         "mode": "markers",
         "name": "Feasible Trial",
         "showlegend": false,
         "type": "scatter",
         "x": [
          25,
          27,
          26,
          6,
          28,
          28,
          28,
          18,
          6,
          1,
          4,
          6,
          8,
          32,
          19,
          1,
          6,
          21,
          32,
          32,
          6,
          15,
          28,
          24,
          7,
          7,
          15,
          20,
          5,
          10,
          13,
          1,
          10,
          17,
          32,
          22,
          16,
          9,
          18,
          27,
          6,
          17,
          31,
          13,
          14,
          18,
          8,
          13,
          11,
          19,
          7,
          29,
          7,
          21,
          32,
          10,
          19,
          16,
          12,
          24,
          30,
          21,
          11,
          32,
          6,
          6,
          32,
          8,
          7,
          22,
          1,
          16,
          28,
          7,
          12,
          29,
          29,
          32,
          29,
          27,
          6,
          23,
          12,
          7,
          23,
          32,
          11,
          32,
          16,
          32,
          9,
          32,
          8,
          9,
          32,
          24,
          25,
          26,
          25,
          23
         ],
         "xaxis": "x2",
         "y": [
          0.8274896978021978,
          0.8380837912087913,
          0.8162603021978022,
          0.8482142857142858,
          0.824793956043956,
          0.8220123626373625,
          0.8135473901098902,
          0.8215659340659341,
          0.7976476648351649,
          0.749896978021978,
          0.8387019230769232,
          0.8326407967032967,
          0.8327781593406594,
          0.8262019230769232,
          0.7952781593406593,
          0.7235576923076923,
          0.8381353021978022,
          0.827764423076923,
          0.8379464285714284,
          0.8258928571428571,
          0.8431833791208792,
          0.7391140109890111,
          0.8383928571428572,
          0.7371222527472527,
          0.8341861263736264,
          0.8438015109890111,
          0.8318509615384615,
          0.8321771978021978,
          0.8111607142857142,
          0.8388392857142858,
          0.829275412087912,
          0.749896978021978,
          0.8264251373626375,
          0.8226991758241757,
          0.8146806318681319,
          0.7990041208791208,
          0.8388049450549451,
          0.8171531593406594,
          0.8419299450549451,
          0.8285027472527473,
          0.8421359890109891,
          0.821462912087912,
          0.8369677197802197,
          0.799261675824176,
          0.8441620879120879,
          0.8426510989010989,
          0.8399553571428571,
          0.8262019230769232,
          0.8412603021978022,
          0.8410027472527473,
          0.843904532967033,
          0.8279876373626374,
          0.8340487637362637,
          0.8388392857142858,
          0.749896978021978,
          0.8410714285714285,
          0.8421875,
          0.8410885989010989,
          0.8417067307692309,
          0.8418956043956044,
          0.8376888736263737,
          0.8416380494505494,
          0.8363839285714286,
          0.7987293956043957,
          0.8390453296703297,
          0.8095982142857142,
          0.8254807692307692,
          0.8305631868131866,
          0.8459821428571429,
          0.8256524725274726,
          0.7235576923076923,
          0.8135130494505495,
          0.8219436813186813,
          0.850154532967033,
          0.8321943681318681,
          0.8426339285714286,
          0.8255322802197803,
          0.8444196428571429,
          0.8334821428571428,
          0.8316105769230768,
          0.8450377747252749,
          0.8327953296703298,
          0.8227163461538461,
          0.8512877747252746,
          0.8378605769230768,
          0.8322287087912089,
          0.8373626373626374,
          0.8310954670329671,
          0.8235405219780221,
          0.826614010989011,
          0.8279532967032968,
          0.8101648351648351,
          0.845054945054945,
          0.8436298076923077,
          0.8371909340659339,
          0.8491414835164836,
          0.8490556318681319,
          0.8478880494505494,
          0.8392513736263737,
          0.8470982142857142
         ],
         "yaxis": "y2"
        },
        {
         "marker": {
          "color": [
           0,
           1,
           2,
           3,
           4,
           5,
           6,
           7,
           8,
           9,
           10,
           11,
           12,
           13,
           14,
           15,
           16,
           17,
           18,
           19,
           20,
           21,
           22,
           23,
           24,
           25,
           26,
           27,
           28,
           29,
           30,
           31,
           32,
           33,
           34,
           35,
           36,
           37,
           38,
           39,
           40,
           41,
           42,
           43,
           44,
           45,
           46,
           47,
           48,
           49,
           50,
           51,
           52,
           53,
           54,
           55,
           56,
           57,
           58,
           59,
           60,
           61,
           62,
           63,
           64,
           65,
           66,
           67,
           68,
           69,
           70,
           71,
           72,
           73,
           74,
           75,
           76,
           77,
           78,
           79,
           80,
           81,
           82,
           83,
           84,
           85,
           86,
           87,
           88,
           89,
           90,
           91,
           92,
           93,
           94,
           95,
           96,
           97,
           98,
           99
          ],
          "colorbar": {
           "title": {
            "text": "Trial"
           },
           "x": 1,
           "xpad": 40
          },
          "colorscale": [
           [
            0,
            "rgb(247,251,255)"
           ],
           [
            0.125,
            "rgb(222,235,247)"
           ],
           [
            0.25,
            "rgb(198,219,239)"
           ],
           [
            0.375,
            "rgb(158,202,225)"
           ],
           [
            0.5,
            "rgb(107,174,214)"
           ],
           [
            0.625,
            "rgb(66,146,198)"
           ],
           [
            0.75,
            "rgb(33,113,181)"
           ],
           [
            0.875,
            "rgb(8,81,156)"
           ],
           [
            1,
            "rgb(8,48,107)"
           ]
          ],
          "line": {
           "color": "Grey",
           "width": 0.5
          },
          "showscale": false
         },
         "mode": "markers",
         "name": "Feasible Trial",
         "showlegend": false,
         "type": "scatter",
         "x": [
          18,
          16,
          8,
          4,
          13,
          14,
          12,
          8,
          7,
          7,
          3,
          18,
          1,
          20,
          5,
          1,
          2,
          20,
          20,
          1,
          1,
          1,
          20,
          1,
          6,
          3,
          20,
          14,
          6,
          20,
          14,
          20,
          20,
          15,
          7,
          11,
          20,
          16,
          20,
          20,
          3,
          17,
          17,
          9,
          20,
          20,
          20,
          20,
          20,
          20,
          1,
          20,
          1,
          20,
          1,
          20,
          20,
          20,
          20,
          20,
          20,
          20,
          6,
          11,
          4,
          3,
          17,
          17,
          4,
          15,
          15,
          12,
          15,
          2,
          18,
          4,
          4,
          4,
          6,
          18,
          3,
          16,
          7,
          2,
          17,
          2,
          16,
          7,
          14,
          18,
          18,
          10,
          2,
          5,
          17,
          5,
          4,
          5,
          5,
          4
         ],
         "xaxis": "x3",
         "y": [
          0.8274896978021978,
          0.8380837912087913,
          0.8162603021978022,
          0.8482142857142858,
          0.824793956043956,
          0.8220123626373625,
          0.8135473901098902,
          0.8215659340659341,
          0.7976476648351649,
          0.749896978021978,
          0.8387019230769232,
          0.8326407967032967,
          0.8327781593406594,
          0.8262019230769232,
          0.7952781593406593,
          0.7235576923076923,
          0.8381353021978022,
          0.827764423076923,
          0.8379464285714284,
          0.8258928571428571,
          0.8431833791208792,
          0.7391140109890111,
          0.8383928571428572,
          0.7371222527472527,
          0.8341861263736264,
          0.8438015109890111,
          0.8318509615384615,
          0.8321771978021978,
          0.8111607142857142,
          0.8388392857142858,
          0.829275412087912,
          0.749896978021978,
          0.8264251373626375,
          0.8226991758241757,
          0.8146806318681319,
          0.7990041208791208,
          0.8388049450549451,
          0.8171531593406594,
          0.8419299450549451,
          0.8285027472527473,
          0.8421359890109891,
          0.821462912087912,
          0.8369677197802197,
          0.799261675824176,
          0.8441620879120879,
          0.8426510989010989,
          0.8399553571428571,
          0.8262019230769232,
          0.8412603021978022,
          0.8410027472527473,
          0.843904532967033,
          0.8279876373626374,
          0.8340487637362637,
          0.8388392857142858,
          0.749896978021978,
          0.8410714285714285,
          0.8421875,
          0.8410885989010989,
          0.8417067307692309,
          0.8418956043956044,
          0.8376888736263737,
          0.8416380494505494,
          0.8363839285714286,
          0.7987293956043957,
          0.8390453296703297,
          0.8095982142857142,
          0.8254807692307692,
          0.8305631868131866,
          0.8459821428571429,
          0.8256524725274726,
          0.7235576923076923,
          0.8135130494505495,
          0.8219436813186813,
          0.850154532967033,
          0.8321943681318681,
          0.8426339285714286,
          0.8255322802197803,
          0.8444196428571429,
          0.8334821428571428,
          0.8316105769230768,
          0.8450377747252749,
          0.8327953296703298,
          0.8227163461538461,
          0.8512877747252746,
          0.8378605769230768,
          0.8322287087912089,
          0.8373626373626374,
          0.8310954670329671,
          0.8235405219780221,
          0.826614010989011,
          0.8279532967032968,
          0.8101648351648351,
          0.845054945054945,
          0.8436298076923077,
          0.8371909340659339,
          0.8491414835164836,
          0.8490556318681319,
          0.8478880494505494,
          0.8392513736263737,
          0.8470982142857142
         ],
         "yaxis": "y3"
        },
        {
         "marker": {
          "color": [
           0,
           1,
           2,
           3,
           4,
           5,
           6,
           7,
           8,
           9,
           10,
           11,
           12,
           13,
           14,
           15,
           16,
           17,
           18,
           19,
           20,
           21,
           22,
           23,
           24,
           25,
           26,
           27,
           28,
           29,
           30,
           31,
           32,
           33,
           34,
           35,
           36,
           37,
           38,
           39,
           40,
           41,
           42,
           43,
           44,
           45,
           46,
           47,
           48,
           49,
           50,
           51,
           52,
           53,
           54,
           55,
           56,
           57,
           58,
           59,
           60,
           61,
           62,
           63,
           64,
           65,
           66,
           67,
           68,
           69,
           70,
           71,
           72,
           73,
           74,
           75,
           76,
           77,
           78,
           79,
           80,
           81,
           82,
           83,
           84,
           85,
           86,
           87,
           88,
           89,
           90,
           91,
           92,
           93,
           94,
           95,
           96,
           97,
           98,
           99
          ],
          "colorbar": {
           "title": {
            "text": "Trial"
           },
           "x": 1,
           "xpad": 40
          },
          "colorscale": [
           [
            0,
            "rgb(247,251,255)"
           ],
           [
            0.125,
            "rgb(222,235,247)"
           ],
           [
            0.25,
            "rgb(198,219,239)"
           ],
           [
            0.375,
            "rgb(158,202,225)"
           ],
           [
            0.5,
            "rgb(107,174,214)"
           ],
           [
            0.625,
            "rgb(66,146,198)"
           ],
           [
            0.75,
            "rgb(33,113,181)"
           ],
           [
            0.875,
            "rgb(8,81,156)"
           ],
           [
            1,
            "rgb(8,48,107)"
           ]
          ],
          "line": {
           "color": "Grey",
           "width": 0.5
          },
          "showscale": false
         },
         "mode": "markers",
         "name": "Feasible Trial",
         "showlegend": false,
         "type": "scatter",
         "x": [
          14,
          3,
          11,
          15,
          13,
          9,
          7,
          14,
          10,
          3,
          20,
          17,
          17,
          2,
          18,
          16,
          20,
          2,
          20,
          20,
          17,
          2,
          20,
          2,
          20,
          20,
          20,
          20,
          20,
          2,
          20,
          2,
          20,
          2,
          20,
          20,
          2,
          2,
          20,
          2,
          20,
          20,
          20,
          20,
          10,
          10,
          20,
          2,
          20,
          2,
          20,
          20,
          20,
          20,
          2,
          12,
          11,
          10,
          11,
          2,
          11,
          9,
          20,
          20,
          20,
          2,
          2,
          20,
          13,
          2,
          20,
          2,
          20,
          15,
          6,
          20,
          20,
          20,
          20,
          2,
          14,
          20,
          4,
          15,
          2,
          20,
          20,
          2,
          20,
          20,
          10,
          2,
          15,
          13,
          2,
          20,
          20,
          20,
          13,
          20
         ],
         "xaxis": "x4",
         "y": [
          0.8274896978021978,
          0.8380837912087913,
          0.8162603021978022,
          0.8482142857142858,
          0.824793956043956,
          0.8220123626373625,
          0.8135473901098902,
          0.8215659340659341,
          0.7976476648351649,
          0.749896978021978,
          0.8387019230769232,
          0.8326407967032967,
          0.8327781593406594,
          0.8262019230769232,
          0.7952781593406593,
          0.7235576923076923,
          0.8381353021978022,
          0.827764423076923,
          0.8379464285714284,
          0.8258928571428571,
          0.8431833791208792,
          0.7391140109890111,
          0.8383928571428572,
          0.7371222527472527,
          0.8341861263736264,
          0.8438015109890111,
          0.8318509615384615,
          0.8321771978021978,
          0.8111607142857142,
          0.8388392857142858,
          0.829275412087912,
          0.749896978021978,
          0.8264251373626375,
          0.8226991758241757,
          0.8146806318681319,
          0.7990041208791208,
          0.8388049450549451,
          0.8171531593406594,
          0.8419299450549451,
          0.8285027472527473,
          0.8421359890109891,
          0.821462912087912,
          0.8369677197802197,
          0.799261675824176,
          0.8441620879120879,
          0.8426510989010989,
          0.8399553571428571,
          0.8262019230769232,
          0.8412603021978022,
          0.8410027472527473,
          0.843904532967033,
          0.8279876373626374,
          0.8340487637362637,
          0.8388392857142858,
          0.749896978021978,
          0.8410714285714285,
          0.8421875,
          0.8410885989010989,
          0.8417067307692309,
          0.8418956043956044,
          0.8376888736263737,
          0.8416380494505494,
          0.8363839285714286,
          0.7987293956043957,
          0.8390453296703297,
          0.8095982142857142,
          0.8254807692307692,
          0.8305631868131866,
          0.8459821428571429,
          0.8256524725274726,
          0.7235576923076923,
          0.8135130494505495,
          0.8219436813186813,
          0.850154532967033,
          0.8321943681318681,
          0.8426339285714286,
          0.8255322802197803,
          0.8444196428571429,
          0.8334821428571428,
          0.8316105769230768,
          0.8450377747252749,
          0.8327953296703298,
          0.8227163461538461,
          0.8512877747252746,
          0.8378605769230768,
          0.8322287087912089,
          0.8373626373626374,
          0.8310954670329671,
          0.8235405219780221,
          0.826614010989011,
          0.8279532967032968,
          0.8101648351648351,
          0.845054945054945,
          0.8436298076923077,
          0.8371909340659339,
          0.8491414835164836,
          0.8490556318681319,
          0.8478880494505494,
          0.8392513736263737,
          0.8470982142857142
         ],
         "yaxis": "y4"
        }
       ],
       "layout": {
        "template": {
         "data": {
          "bar": [
           {
            "error_x": {
             "color": "#2a3f5f"
            },
            "error_y": {
             "color": "#2a3f5f"
            },
            "marker": {
             "line": {
              "color": "#E5ECF6",
              "width": 0.5
             },
             "pattern": {
              "fillmode": "overlay",
              "size": 10,
              "solidity": 0.2
             }
            },
            "type": "bar"
           }
          ],
          "barpolar": [
           {
            "marker": {
             "line": {
              "color": "#E5ECF6",
              "width": 0.5
             },
             "pattern": {
              "fillmode": "overlay",
              "size": 10,
              "solidity": 0.2
             }
            },
            "type": "barpolar"
           }
          ],
          "carpet": [
           {
            "aaxis": {
             "endlinecolor": "#2a3f5f",
             "gridcolor": "white",
             "linecolor": "white",
             "minorgridcolor": "white",
             "startlinecolor": "#2a3f5f"
            },
            "baxis": {
             "endlinecolor": "#2a3f5f",
             "gridcolor": "white",
             "linecolor": "white",
             "minorgridcolor": "white",
             "startlinecolor": "#2a3f5f"
            },
            "type": "carpet"
           }
          ],
          "choropleth": [
           {
            "colorbar": {
             "outlinewidth": 0,
             "ticks": ""
            },
            "type": "choropleth"
           }
          ],
          "contour": [
           {
            "colorbar": {
             "outlinewidth": 0,
             "ticks": ""
            },
            "colorscale": [
             [
              0,
              "#0d0887"
             ],
             [
              0.1111111111111111,
              "#46039f"
             ],
             [
              0.2222222222222222,
              "#7201a8"
             ],
             [
              0.3333333333333333,
              "#9c179e"
             ],
             [
              0.4444444444444444,
              "#bd3786"
             ],
             [
              0.5555555555555556,
              "#d8576b"
             ],
             [
              0.6666666666666666,
              "#ed7953"
             ],
             [
              0.7777777777777778,
              "#fb9f3a"
             ],
             [
              0.8888888888888888,
              "#fdca26"
             ],
             [
              1,
              "#f0f921"
             ]
            ],
            "type": "contour"
           }
          ],
          "contourcarpet": [
           {
            "colorbar": {
             "outlinewidth": 0,
             "ticks": ""
            },
            "type": "contourcarpet"
           }
          ],
          "heatmap": [
           {
            "colorbar": {
             "outlinewidth": 0,
             "ticks": ""
            },
            "colorscale": [
             [
              0,
              "#0d0887"
             ],
             [
              0.1111111111111111,
              "#46039f"
             ],
             [
              0.2222222222222222,
              "#7201a8"
             ],
             [
              0.3333333333333333,
              "#9c179e"
             ],
             [
              0.4444444444444444,
              "#bd3786"
             ],
             [
              0.5555555555555556,
              "#d8576b"
             ],
             [
              0.6666666666666666,
              "#ed7953"
             ],
             [
              0.7777777777777778,
              "#fb9f3a"
             ],
             [
              0.8888888888888888,
              "#fdca26"
             ],
             [
              1,
              "#f0f921"
             ]
            ],
            "type": "heatmap"
           }
          ],
          "heatmapgl": [
           {
            "colorbar": {
             "outlinewidth": 0,
             "ticks": ""
            },
            "colorscale": [
             [
              0,
              "#0d0887"
             ],
             [
              0.1111111111111111,
              "#46039f"
             ],
             [
              0.2222222222222222,
              "#7201a8"
             ],
             [
              0.3333333333333333,
              "#9c179e"
             ],
             [
              0.4444444444444444,
              "#bd3786"
             ],
             [
              0.5555555555555556,
              "#d8576b"
             ],
             [
              0.6666666666666666,
              "#ed7953"
             ],
             [
              0.7777777777777778,
              "#fb9f3a"
             ],
             [
              0.8888888888888888,
              "#fdca26"
             ],
             [
              1,
              "#f0f921"
             ]
            ],
            "type": "heatmapgl"
           }
          ],
          "histogram": [
           {
            "marker": {
             "pattern": {
              "fillmode": "overlay",
              "size": 10,
              "solidity": 0.2
             }
            },
            "type": "histogram"
           }
          ],
          "histogram2d": [
           {
            "colorbar": {
             "outlinewidth": 0,
             "ticks": ""
            },
            "colorscale": [
             [
              0,
              "#0d0887"
             ],
             [
              0.1111111111111111,
              "#46039f"
             ],
             [
              0.2222222222222222,
              "#7201a8"
             ],
             [
              0.3333333333333333,
              "#9c179e"
             ],
             [
              0.4444444444444444,
              "#bd3786"
             ],
             [
              0.5555555555555556,
              "#d8576b"
             ],
             [
              0.6666666666666666,
              "#ed7953"
             ],
             [
              0.7777777777777778,
              "#fb9f3a"
             ],
             [
              0.8888888888888888,
              "#fdca26"
             ],
             [
              1,
              "#f0f921"
             ]
            ],
            "type": "histogram2d"
           }
          ],
          "histogram2dcontour": [
           {
            "colorbar": {
             "outlinewidth": 0,
             "ticks": ""
            },
            "colorscale": [
             [
              0,
              "#0d0887"
             ],
             [
              0.1111111111111111,
              "#46039f"
             ],
             [
              0.2222222222222222,
              "#7201a8"
             ],
             [
              0.3333333333333333,
              "#9c179e"
             ],
             [
              0.4444444444444444,
              "#bd3786"
             ],
             [
              0.5555555555555556,
              "#d8576b"
             ],
             [
              0.6666666666666666,
              "#ed7953"
             ],
             [
              0.7777777777777778,
              "#fb9f3a"
             ],
             [
              0.8888888888888888,
              "#fdca26"
             ],
             [
              1,
              "#f0f921"
             ]
            ],
            "type": "histogram2dcontour"
           }
          ],
          "mesh3d": [
           {
            "colorbar": {
             "outlinewidth": 0,
             "ticks": ""
            },
            "type": "mesh3d"
           }
          ],
          "parcoords": [
           {
            "line": {
             "colorbar": {
              "outlinewidth": 0,
              "ticks": ""
             }
            },
            "type": "parcoords"
           }
          ],
          "pie": [
           {
            "automargin": true,
            "type": "pie"
           }
          ],
          "scatter": [
           {
            "fillpattern": {
             "fillmode": "overlay",
             "size": 10,
             "solidity": 0.2
            },
            "type": "scatter"
           }
          ],
          "scatter3d": [
           {
            "line": {
             "colorbar": {
              "outlinewidth": 0,
              "ticks": ""
             }
            },
            "marker": {
             "colorbar": {
              "outlinewidth": 0,
              "ticks": ""
             }
            },
            "type": "scatter3d"
           }
          ],
          "scattercarpet": [
           {
            "marker": {
             "colorbar": {
              "outlinewidth": 0,
              "ticks": ""
             }
            },
            "type": "scattercarpet"
           }
          ],
          "scattergeo": [
           {
            "marker": {
             "colorbar": {
              "outlinewidth": 0,
              "ticks": ""
             }
            },
            "type": "scattergeo"
           }
          ],
          "scattergl": [
           {
            "marker": {
             "colorbar": {
              "outlinewidth": 0,
              "ticks": ""
             }
            },
            "type": "scattergl"
           }
          ],
          "scattermapbox": [
           {
            "marker": {
             "colorbar": {
              "outlinewidth": 0,
              "ticks": ""
             }
            },
            "type": "scattermapbox"
           }
          ],
          "scatterpolar": [
           {
            "marker": {
             "colorbar": {
              "outlinewidth": 0,
              "ticks": ""
             }
            },
            "type": "scatterpolar"
           }
          ],
          "scatterpolargl": [
           {
            "marker": {
             "colorbar": {
              "outlinewidth": 0,
              "ticks": ""
             }
            },
            "type": "scatterpolargl"
           }
          ],
          "scatterternary": [
           {
            "marker": {
             "colorbar": {
              "outlinewidth": 0,
              "ticks": ""
             }
            },
            "type": "scatterternary"
           }
          ],
          "surface": [
           {
            "colorbar": {
             "outlinewidth": 0,
             "ticks": ""
            },
            "colorscale": [
             [
              0,
              "#0d0887"
             ],
             [
              0.1111111111111111,
              "#46039f"
             ],
             [
              0.2222222222222222,
              "#7201a8"
             ],
             [
              0.3333333333333333,
              "#9c179e"
             ],
             [
              0.4444444444444444,
              "#bd3786"
             ],
             [
              0.5555555555555556,
              "#d8576b"
             ],
             [
              0.6666666666666666,
              "#ed7953"
             ],
             [
              0.7777777777777778,
              "#fb9f3a"
             ],
             [
              0.8888888888888888,
              "#fdca26"
             ],
             [
              1,
              "#f0f921"
             ]
            ],
            "type": "surface"
           }
          ],
          "table": [
           {
            "cells": {
             "fill": {
              "color": "#EBF0F8"
             },
             "line": {
              "color": "white"
             }
            },
            "header": {
             "fill": {
              "color": "#C8D4E3"
             },
             "line": {
              "color": "white"
             }
            },
            "type": "table"
           }
          ]
         },
         "layout": {
          "annotationdefaults": {
           "arrowcolor": "#2a3f5f",
           "arrowhead": 0,
           "arrowwidth": 1
          },
          "autotypenumbers": "strict",
          "coloraxis": {
           "colorbar": {
            "outlinewidth": 0,
            "ticks": ""
           }
          },
          "colorscale": {
           "diverging": [
            [
             0,
             "#8e0152"
            ],
            [
             0.1,
             "#c51b7d"
            ],
            [
             0.2,
             "#de77ae"
            ],
            [
             0.3,
             "#f1b6da"
            ],
            [
             0.4,
             "#fde0ef"
            ],
            [
             0.5,
             "#f7f7f7"
            ],
            [
             0.6,
             "#e6f5d0"
            ],
            [
             0.7,
             "#b8e186"
            ],
            [
             0.8,
             "#7fbc41"
            ],
            [
             0.9,
             "#4d9221"
            ],
            [
             1,
             "#276419"
            ]
           ],
           "sequential": [
            [
             0,
             "#0d0887"
            ],
            [
             0.1111111111111111,
             "#46039f"
            ],
            [
             0.2222222222222222,
             "#7201a8"
            ],
            [
             0.3333333333333333,
             "#9c179e"
            ],
            [
             0.4444444444444444,
             "#bd3786"
            ],
            [
             0.5555555555555556,
             "#d8576b"
            ],
            [
             0.6666666666666666,
             "#ed7953"
            ],
            [
             0.7777777777777778,
             "#fb9f3a"
            ],
            [
             0.8888888888888888,
             "#fdca26"
            ],
            [
             1,
             "#f0f921"
            ]
           ],
           "sequentialminus": [
            [
             0,
             "#0d0887"
            ],
            [
             0.1111111111111111,
             "#46039f"
            ],
            [
             0.2222222222222222,
             "#7201a8"
            ],
            [
             0.3333333333333333,
             "#9c179e"
            ],
            [
             0.4444444444444444,
             "#bd3786"
            ],
            [
             0.5555555555555556,
             "#d8576b"
            ],
            [
             0.6666666666666666,
             "#ed7953"
            ],
            [
             0.7777777777777778,
             "#fb9f3a"
            ],
            [
             0.8888888888888888,
             "#fdca26"
            ],
            [
             1,
             "#f0f921"
            ]
           ]
          },
          "colorway": [
           "#636efa",
           "#EF553B",
           "#00cc96",
           "#ab63fa",
           "#FFA15A",
           "#19d3f3",
           "#FF6692",
           "#B6E880",
           "#FF97FF",
           "#FECB52"
          ],
          "font": {
           "color": "#2a3f5f"
          },
          "geo": {
           "bgcolor": "white",
           "lakecolor": "white",
           "landcolor": "#E5ECF6",
           "showlakes": true,
           "showland": true,
           "subunitcolor": "white"
          },
          "hoverlabel": {
           "align": "left"
          },
          "hovermode": "closest",
          "mapbox": {
           "style": "light"
          },
          "paper_bgcolor": "white",
          "plot_bgcolor": "#E5ECF6",
          "polar": {
           "angularaxis": {
            "gridcolor": "white",
            "linecolor": "white",
            "ticks": ""
           },
           "bgcolor": "#E5ECF6",
           "radialaxis": {
            "gridcolor": "white",
            "linecolor": "white",
            "ticks": ""
           }
          },
          "scene": {
           "xaxis": {
            "backgroundcolor": "#E5ECF6",
            "gridcolor": "white",
            "gridwidth": 2,
            "linecolor": "white",
            "showbackground": true,
            "ticks": "",
            "zerolinecolor": "white"
           },
           "yaxis": {
            "backgroundcolor": "#E5ECF6",
            "gridcolor": "white",
            "gridwidth": 2,
            "linecolor": "white",
            "showbackground": true,
            "ticks": "",
            "zerolinecolor": "white"
           },
           "zaxis": {
            "backgroundcolor": "#E5ECF6",
            "gridcolor": "white",
            "gridwidth": 2,
            "linecolor": "white",
            "showbackground": true,
            "ticks": "",
            "zerolinecolor": "white"
           }
          },
          "shapedefaults": {
           "line": {
            "color": "#2a3f5f"
           }
          },
          "ternary": {
           "aaxis": {
            "gridcolor": "white",
            "linecolor": "white",
            "ticks": ""
           },
           "baxis": {
            "gridcolor": "white",
            "linecolor": "white",
            "ticks": ""
           },
           "bgcolor": "#E5ECF6",
           "caxis": {
            "gridcolor": "white",
            "linecolor": "white",
            "ticks": ""
           }
          },
          "title": {
           "x": 0.05
          },
          "xaxis": {
           "automargin": true,
           "gridcolor": "white",
           "linecolor": "white",
           "ticks": "",
           "title": {
            "standoff": 15
           },
           "zerolinecolor": "white",
           "zerolinewidth": 2
          },
          "yaxis": {
           "automargin": true,
           "gridcolor": "white",
           "linecolor": "white",
           "ticks": "",
           "title": {
            "standoff": 15
           },
           "zerolinecolor": "white",
           "zerolinewidth": 2
          }
         }
        },
        "title": {
         "text": "Slice Plot"
        },
        "width": 1200,
        "xaxis": {
         "anchor": "y",
         "categoryarray": [
          "gini",
          "entropy"
         ],
         "categoryorder": "array",
         "domain": [
          0,
          0.2125
         ],
         "title": {
          "text": "criterion"
         },
         "type": "category"
        },
        "xaxis2": {
         "anchor": "y2",
         "domain": [
          0.2625,
          0.475
         ],
         "title": {
          "text": "max_depth"
         }
        },
        "xaxis3": {
         "anchor": "y3",
         "domain": [
          0.525,
          0.7375
         ],
         "title": {
          "text": "min_samples_leaf"
         }
        },
        "xaxis4": {
         "anchor": "y4",
         "domain": [
          0.7875,
          1
         ],
         "title": {
          "text": "min_samples_split"
         }
        },
        "yaxis": {
         "anchor": "x",
         "domain": [
          0,
          1
         ],
         "title": {
          "text": "Objective Value"
         }
        },
        "yaxis2": {
         "anchor": "x2",
         "domain": [
          0,
          1
         ],
         "matches": "y",
         "showticklabels": false
        },
        "yaxis3": {
         "anchor": "x3",
         "domain": [
          0,
          1
         ],
         "matches": "y",
         "showticklabels": false
        },
        "yaxis4": {
         "anchor": "x4",
         "domain": [
          0,
          1
         ],
         "matches": "y",
         "showticklabels": false
        }
       }
      }
     },
     "metadata": {},
     "output_type": "display_data"
    }
   ],
   "source": [
    "optuna.visualization.plot_slice(study)"
   ]
  },
  {
   "cell_type": "code",
   "execution_count": 17,
   "metadata": {},
   "outputs": [
    {
     "name": "stderr",
     "output_type": "stream",
     "text": [
      "[codecarbon WARNING @ 10:28:16] Another instance of codecarbon is already running. Exiting.\n"
     ]
    },
    {
     "name": "stdout",
     "output_type": "stream",
     "text": [
      "Accuracy: 0.7941 ± 0.0685\n",
      "AUC-ROC: 0.8526 ± 0.0577\n"
     ]
    },
    {
     "data": {
      "image/png": "[encoded data removed]",
      "text/plain": [
       "<Figure size 640x480 with 1 Axes>"
      ]
     },
     "metadata": {},
     "output_type": "display_data"
    }
   ],
   "source": [
    "# Create optimized model\n",
    "best_params = trial.params\n",
    "model = tree.DecisionTreeClassifier(random_state=Random_Seed, **best_params)\n",
    "\n",
    "# Define pipeline depending on whether PCA is requested or not\n",
    "if PC_Features:\n",
    "    steps = [\n",
    "        ('preprocessor', preprocessor),\n",
    "        ('pca', PCA(n_components=12)),\n",
    "        ('DT-classifier', model)\n",
    "    ]\n",
    "else:\n",
    "    steps = [\n",
    "        ('preprocessor', preprocessor),\n",
    "        ('DT-classifier', model)\n",
    "    ]\n",
    "    \n",
    "pipeline = Pipeline(steps)\n",
    "\n",
    "# Perform cross-validation\n",
    "cv_results = cross_validate(pipeline, X, y, scoring=['accuracy', 'roc_auc'], cv=K_Folds)\n",
    "\n",
    "# Calculate and display results\n",
    "acc = np.mean(cv_results['test_accuracy'])\n",
    "acc_std = np.std(cv_results['test_accuracy'])\n",
    "roc_auc = np.mean(cv_results['test_roc_auc'])\n",
    "roc_auc_std = np.std(cv_results['test_roc_auc'])\n",
    "\n",
    "print(f\"Accuracy: {acc:.4f} ± {acc_std:.4f}\")\n",
    "print(f\"AUC-ROC: {roc_auc:.4f} ± {roc_auc_std:.4f}\")\n",
    "\n",
    "# Plot decision tree\n",
    "preprocessor.fit_transform(X)\n",
    "PCA(n_components=12).fit_transform(X)\n",
    "model.fit(X, y)\n",
    "plot = tree.plot_tree(model)\n",
    "\n",
    "# Stop emission tracking\n",
    "_ = tracker.stop()\n"
   ]
  },
  {
   "cell_type": "code",
   "execution_count": 18,
   "metadata": {},
   "outputs": [],
   "source": [
    "# Save evaluation to an external file\n",
    "file = 'scores.csv'\n",
    "\n",
    "results = pd.DataFrame({\n",
    "    'DT-optimization': [acc, acc_std, roc_auc, roc_auc_std]\n",
    "}, index = ['Accuracy', 'Accuracy STD', 'AUC-ROC', 'AUC-ROC STD'])\n",
    "\n",
    "# Check if file exists\n",
    "if os.path.exists(file):\n",
    "    temp = pd.read_csv(file, index_col=0)\n",
    "    results = pd.concat([temp, results], axis=1)\n",
    "\n",
    "# Export\n",
    "results.to_csv(file)"
   ]
  },
  {
   "attachments": {},
   "cell_type": "markdown",
   "metadata": {},
   "source": [
    "### References:\n",
    "* https://scikit-learn.org/stable/modules/generated/sklearn.linear_model.LogisticRegression.html\n",
    "* https://scikit-learn.org/stable/modules/tree.html"
   ]
  }
 ],
 "metadata": {
  "kernelspec": {
   "display_name": "base",
   "language": "python",
   "name": "python3"
  },
  "language_info": {
   "codemirror_mode": {
    "name": "ipython",
    "version": 3
   },
   "file_extension": ".py",
   "mimetype": "text/x-python",
   "name": "python",
   "nbconvert_exporter": "python",
   "pygments_lexer": "ipython3",
   "version": "3.10.12"
  },
  "orig_nbformat": 4
 },
 "nbformat": 4,
 "nbformat_minor": 2
}

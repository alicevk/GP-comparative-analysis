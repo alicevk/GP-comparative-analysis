{
 "cells": [
  {
   "attachments": {},
   "cell_type": "markdown",
   "metadata": {},
   "source": [
    "# Alternative Models: Eager Learners I\n",
    "\n",
    "<hr>\n",
    "\n",
    "* Logistic Regression\n",
    "* Decision Trees\n",
    "* Random Forest"
   ]
  },
  {
   "cell_type": "code",
   "execution_count": 1,
   "metadata": {},
   "outputs": [],
   "source": [
    "# Import needed libraries and modules\n",
    "from codecarbon import EmissionsTracker\n",
    "import os\n",
    "import numpy as np\n",
    "import pandas as pd\n",
    "from sklearn.model_selection import cross_validate, cross_val_score\n",
    "from sklearn.preprocessing import StandardScaler, OneHotEncoder\n",
    "from sklearn.compose import ColumnTransformer\n",
    "from sklearn.decomposition import PCA\n",
    "from sklearn.linear_model import LogisticRegression\n",
    "from sklearn import tree\n",
    "from sklearn.ensemble import RandomForestClassifier\n",
    "import optuna\n",
    "from optuna.samplers import GPSampler\n",
    "from sklearn.pipeline import Pipeline\n",
    "import json\n",
    "\n",
    "# Fetch dataset from UCI Repository\n",
    "from ucimlrepo import fetch_ucirepo\n",
    "heart_disease = fetch_ucirepo(id=45)\n",
    "df = heart_disease.data.original"
   ]
  },
  {
   "cell_type": "code",
   "execution_count": 2,
   "metadata": {},
   "outputs": [],
   "source": [
    "# ---------------------------------------------------------------------------- #\n",
    "#                                PRE-PROCESSING                                #\n",
    "# ---------------------------------------------------------------------------- #\n",
    "\n",
    "##### SETTINGS #####\n",
    "PC_Features = True\n",
    "Random_Seed = 82024\n",
    "K_Folds = 10\n",
    "Max_Iterations = 200\n",
    "####################\n",
    "\n",
    "# Drop missing values\n",
    "df = df.dropna()\n",
    "df = df.reset_index(drop=True)\n",
    "\n",
    "# Binarize target\n",
    "df.loc[df['num'] != 0, 'num'] = 1\n",
    "\n",
    "# Define features and target vectors\n",
    "X = df.iloc[:,:-1]\n",
    "y = df['num']\n",
    "\n",
    "# Separate integer from categorical features\n",
    "int_features, cat_features = ['age', 'trestbps', 'chol', 'thalach', 'oldpeak'],\\\n",
    "['sex', 'cp', 'fbs', 'restecg', 'exang', 'slope', 'ca', 'thal']\n",
    "\n",
    "# Define preprocessing\n",
    "preprocessor = ColumnTransformer(\n",
    "    transformers=[\n",
    "        ('int', StandardScaler(), int_features),\n",
    "        ('cat', OneHotEncoder(), cat_features)\n",
    "    ])"
   ]
  },
  {
   "attachments": {},
   "cell_type": "markdown",
   "metadata": {},
   "source": [
    "<hr>\n",
    "\n",
    "## Logistic Regression:"
   ]
  },
  {
   "cell_type": "code",
   "execution_count": 3,
   "metadata": {},
   "outputs": [
    {
     "name": "stderr",
     "output_type": "stream",
     "text": [
      "[codecarbon WARNING @ 17:09:01] No CPU tracking mode found. Falling back on CPU constant mode. \n",
      " Linux OS detected: Please ensure RAPL files exist at \\sys\\class\\powercap\\intel-rapl to measure CPU\n",
      "\n"
     ]
    },
    {
     "name": "stdout",
     "output_type": "stream",
     "text": [
      "Accuracy: 0.8448 ± 0.0512\n",
      "AUC-ROC: 0.9143 ± 0.0337\n"
     ]
    },
    {
     "name": "stderr",
     "output_type": "stream",
     "text": [
      "/home/ABTLUS/alice220049/.local/lib/python3.10/site-packages/codecarbon/output_methods/file.py:52: FutureWarning: The behavior of DataFrame concatenation with empty or all-NA entries is deprecated. In a future version, this will no longer exclude empty or all-NA columns when determining the result dtypes. To retain the old behavior, exclude the relevant entries before the concat operation.\n",
      "  df = pd.concat([df, pd.DataFrame.from_records([dict(total.values)])])\n"
     ]
    }
   ],
   "source": [
    "# ---------------------------------------------------------------------------- #\n",
    "#                                     MODEL                                    #\n",
    "# ---------------------------------------------------------------------------- #\n",
    "\n",
    "# Initiate CodeCarbon to track emissions\n",
    "tracker = EmissionsTracker('LR model', log_level='warning')\n",
    "tracker.start()\n",
    "\n",
    "# Create model\n",
    "model = LogisticRegression(random_state=Random_Seed)\n",
    "\n",
    "# Define pipeline depending on whether PCA is requested or not\n",
    "if PC_Features:\n",
    "    steps = [\n",
    "        ('preprocessor', preprocessor),\n",
    "        ('pca', PCA(n_components=12)),\n",
    "        ('LR-classifier', model)\n",
    "    ]\n",
    "else:\n",
    "    steps = [\n",
    "        ('preprocessor', preprocessor),\n",
    "        ('LR-classifier', model)\n",
    "    ]\n",
    "    \n",
    "pipeline = Pipeline(steps)\n",
    "\n",
    "# Perform cross-validation\n",
    "cv_results = cross_validate(pipeline, X, y, scoring=['accuracy', 'roc_auc'], cv=K_Folds)\n",
    "\n",
    "# Calculate and display results\n",
    "acc = np.mean(cv_results['test_accuracy'])\n",
    "acc_std = np.std(cv_results['test_accuracy'])\n",
    "roc_auc = np.mean(cv_results['test_roc_auc'])\n",
    "roc_auc_std = np.std(cv_results['test_roc_auc'])\n",
    "\n",
    "print(f\"Accuracy: {acc:.4f} ± {acc_std:.4f}\")\n",
    "print(f\"AUC-ROC: {roc_auc:.4f} ± {roc_auc_std:.4f}\")\n",
    "\n",
    "# Stop emission tracking\n",
    "_ = tracker.stop()"
   ]
  },
  {
   "cell_type": "code",
   "execution_count": 4,
   "metadata": {},
   "outputs": [],
   "source": [
    "# Save evaluation to an external file\n",
    "file = 'scores.csv'\n",
    "\n",
    "results = pd.DataFrame({\n",
    "    'LR-model': [acc, acc_std, roc_auc, roc_auc_std]\n",
    "}, index = ['Accuracy', 'Accuracy STD', 'AUC-ROC', 'AUC-ROC STD'])\n",
    "\n",
    "# Check if file exists\n",
    "if os.path.exists(file):\n",
    "    temp = pd.read_csv(file, index_col=0)\n",
    "    results = pd.concat([temp, results], axis=1)\n",
    "\n",
    "# Export\n",
    "results.to_csv(file)"
   ]
  },
  {
   "cell_type": "code",
   "execution_count": 5,
   "metadata": {},
   "outputs": [
    {
     "name": "stderr",
     "output_type": "stream",
     "text": [
      "[codecarbon WARNING @ 17:09:07] No CPU tracking mode found. Falling back on CPU constant mode. \n",
      " Linux OS detected: Please ensure RAPL files exist at \\sys\\class\\powercap\\intel-rapl to measure CPU\n",
      "\n",
      "/tmp/ipykernel_134175/2460874507.py:43: ExperimentalWarning: GPSampler is experimental (supported from v3.6.0). The interface can change in the future.\n",
      "  study = optuna.create_study(direction='maximize', sampler=GPSampler())\n",
      "[I 2024-11-19 17:09:12,468] A new study created in memory with name: no-name-2deaee8b-c9b6-497a-bacd-89180de9677a\n",
      "[I 2024-11-19 17:09:12,609] Trial 0 finished with value: 0.884375 and parameters: {'C': 8.044260191130576e-05, 'solver': 'lbfgs', 'penalty': 'l2'}. Best is trial 0 with value: 0.884375.\n",
      "[I 2024-11-19 17:09:12,738] Trial 1 finished with value: 0.9142513736263735 and parameters: {'C': 1.128490218478172, 'solver': 'saga', 'penalty': 'l1'}. Best is trial 1 with value: 0.9142513736263735.\n",
      "[I 2024-11-19 17:09:12,864] Trial 2 finished with value: 0.9160027472527472 and parameters: {'C': 33.36495020765369, 'solver': 'saga', 'penalty': 'l2'}. Best is trial 2 with value: 0.9160027472527472.\n",
      "[I 2024-11-19 17:09:12,984] Trial 3 finished with value: 0.890728021978022 and parameters: {'C': 0.00249494929743962, 'solver': 'lbfgs', 'penalty': 'l2'}. Best is trial 2 with value: 0.9160027472527472.\n",
      "[I 2024-11-19 17:09:13,105] Trial 4 finished with value: 0.8861950549450549 and parameters: {'C': 0.0007384024676008444, 'solver': 'lbfgs', 'penalty': 'l1'}. Best is trial 2 with value: 0.9160027472527472.\n",
      "[I 2024-11-19 17:09:13,215] Trial 5 finished with value: 0.913804945054945 and parameters: {'C': 0.08432836134339233, 'solver': 'liblinear', 'penalty': 'l2'}. Best is trial 2 with value: 0.9160027472527472.\n",
      "[I 2024-11-19 17:09:13,339] Trial 6 finished with value: 0.884375 and parameters: {'C': 6.23008301512476e-05, 'solver': 'liblinear', 'penalty': 'l2'}. Best is trial 2 with value: 0.9160027472527472.\n",
      "[I 2024-11-19 17:09:13,484] Trial 7 finished with value: 0.5 and parameters: {'C': 3.601662685613693e-05, 'solver': 'liblinear', 'penalty': 'l1'}. Best is trial 2 with value: 0.9160027472527472.\n",
      "[I 2024-11-19 17:09:13,622] Trial 8 finished with value: 0.884375 and parameters: {'C': 1.0003109284581392e-05, 'solver': 'lbfgs', 'penalty': 'l1'}. Best is trial 2 with value: 0.9160027472527472.\n",
      "[I 2024-11-19 17:09:13,738] Trial 9 finished with value: 0.8985233516483515 and parameters: {'C': 0.01033277830344879, 'solver': 'liblinear', 'penalty': 'l2'}. Best is trial 2 with value: 0.9160027472527472.\n",
      "[I 2024-11-19 17:09:21,430] Trial 10 finished with value: 0.9160027472527472 and parameters: {'C': 100.0, 'solver': 'liblinear', 'penalty': 'l2'}. Best is trial 2 with value: 0.9160027472527472.\n",
      "[I 2024-11-19 17:09:21,633] Trial 11 finished with value: 0.884375 and parameters: {'C': 1e-05, 'solver': 'saga', 'penalty': 'l2'}. Best is trial 2 with value: 0.9160027472527472.\n",
      "[I 2024-11-19 17:09:21,887] Trial 12 finished with value: 0.884375 and parameters: {'C': 1e-05, 'solver': 'saga', 'penalty': 'l1'}. Best is trial 2 with value: 0.9160027472527472.\n",
      "[I 2024-11-19 17:09:22,095] Trial 13 finished with value: 0.9160027472527472 and parameters: {'C': 100.0, 'solver': 'saga', 'penalty': 'l1'}. Best is trial 2 with value: 0.9160027472527472.\n",
      "[I 2024-11-19 17:09:22,297] Trial 14 finished with value: 0.9160027472527472 and parameters: {'C': 100.0, 'solver': 'lbfgs', 'penalty': 'l2'}. Best is trial 2 with value: 0.9160027472527472.\n",
      "[I 2024-11-19 17:09:22,512] Trial 15 finished with value: 0.9160027472527472 and parameters: {'C': 100.0, 'solver': 'liblinear', 'penalty': 'l2'}. Best is trial 2 with value: 0.9160027472527472.\n",
      "[I 2024-11-19 17:09:22,743] Trial 16 finished with value: 0.9160027472527472 and parameters: {'C': 100.0, 'solver': 'saga', 'penalty': 'l2'}. Best is trial 2 with value: 0.9160027472527472.\n",
      "[I 2024-11-19 17:09:23,028] Trial 17 finished with value: 0.9160027472527472 and parameters: {'C': 100.0, 'solver': 'saga', 'penalty': 'l1'}. Best is trial 2 with value: 0.9160027472527472.\n",
      "[I 2024-11-19 17:09:23,242] Trial 18 finished with value: 0.9160027472527472 and parameters: {'C': 99.99999999999969, 'solver': 'saga', 'penalty': 'l2'}. Best is trial 2 with value: 0.9160027472527472.\n",
      "[I 2024-11-19 17:09:23,544] Trial 19 finished with value: 0.9160027472527472 and parameters: {'C': 100.0, 'solver': 'liblinear', 'penalty': 'l2'}. Best is trial 2 with value: 0.9160027472527472.\n",
      "[I 2024-11-19 17:09:23,815] Trial 20 finished with value: 0.9160027472527472 and parameters: {'C': 100.0, 'solver': 'lbfgs', 'penalty': 'l2'}. Best is trial 2 with value: 0.9160027472527472.\n",
      "[I 2024-11-19 17:09:24,036] Trial 21 finished with value: 0.9160027472527472 and parameters: {'C': 100.0, 'solver': 'lbfgs', 'penalty': 'l1'}. Best is trial 2 with value: 0.9160027472527472.\n",
      "[I 2024-11-19 17:09:24,317] Trial 22 finished with value: 0.9160027472527472 and parameters: {'C': 100.0, 'solver': 'saga', 'penalty': 'l1'}. Best is trial 2 with value: 0.9160027472527472.\n",
      "[I 2024-11-19 17:09:24,605] Trial 23 finished with value: 0.9160027472527472 and parameters: {'C': 100.0, 'solver': 'saga', 'penalty': 'l2'}. Best is trial 2 with value: 0.9160027472527472.\n",
      "[I 2024-11-19 17:09:24,893] Trial 24 finished with value: 0.9160027472527472 and parameters: {'C': 28.005493692828928, 'solver': 'liblinear', 'penalty': 'l2'}. Best is trial 2 with value: 0.9160027472527472.\n",
      "[I 2024-11-19 17:09:25,120] Trial 25 finished with value: 0.9160027472527472 and parameters: {'C': 98.32883955016239, 'solver': 'lbfgs', 'penalty': 'l1'}. Best is trial 2 with value: 0.9160027472527472.\n",
      "[I 2024-11-19 17:09:25,377] Trial 26 finished with value: 0.9160027472527472 and parameters: {'C': 21.014698414435763, 'solver': 'liblinear', 'penalty': 'l2'}. Best is trial 2 with value: 0.9160027472527472.\n",
      "[I 2024-11-19 17:09:25,641] Trial 27 finished with value: 0.9160027472527472 and parameters: {'C': 21.77404488841417, 'solver': 'liblinear', 'penalty': 'l2'}. Best is trial 2 with value: 0.9160027472527472.\n",
      "[I 2024-11-19 17:09:25,923] Trial 28 finished with value: 0.9160027472527472 and parameters: {'C': 99.99999999999969, 'solver': 'saga', 'penalty': 'l2'}. Best is trial 2 with value: 0.9160027472527472.\n",
      "[I 2024-11-19 17:09:26,193] Trial 29 finished with value: 0.9160027472527472 and parameters: {'C': 18.3417777675247, 'solver': 'liblinear', 'penalty': 'l2'}. Best is trial 2 with value: 0.9160027472527472.\n",
      "[I 2024-11-19 17:09:26,444] Trial 30 finished with value: 0.9160027472527472 and parameters: {'C': 100.0, 'solver': 'lbfgs', 'penalty': 'l2'}. Best is trial 2 with value: 0.9160027472527472.\n",
      "[I 2024-11-19 17:09:26,755] Trial 31 finished with value: 0.9160027472527472 and parameters: {'C': 16.09136376407997, 'solver': 'liblinear', 'penalty': 'l2'}. Best is trial 2 with value: 0.9160027472527472.\n",
      "[I 2024-11-19 17:09:27,052] Trial 32 finished with value: 0.9160027472527472 and parameters: {'C': 99.99999999999969, 'solver': 'lbfgs', 'penalty': 'l1'}. Best is trial 2 with value: 0.9160027472527472.\n",
      "[I 2024-11-19 17:09:27,341] Trial 33 finished with value: 0.9160027472527472 and parameters: {'C': 13.919081022975478, 'solver': 'liblinear', 'penalty': 'l2'}. Best is trial 2 with value: 0.9160027472527472.\n",
      "[I 2024-11-19 17:09:27,564] Trial 34 finished with value: 0.9160027472527472 and parameters: {'C': 13.28148743997085, 'solver': 'liblinear', 'penalty': 'l2'}. Best is trial 2 with value: 0.9160027472527472.\n",
      "[I 2024-11-19 17:09:27,944] Trial 35 finished with value: 0.9100274725274726 and parameters: {'C': 0.052943201572041576, 'solver': 'saga', 'penalty': 'l2'}. Best is trial 2 with value: 0.9160027472527472.\n",
      "[I 2024-11-19 17:09:28,277] Trial 36 finished with value: 0.9156593406593405 and parameters: {'C': 0.5890517998452411, 'solver': 'liblinear', 'penalty': 'l2'}. Best is trial 2 with value: 0.9160027472527472.\n",
      "[I 2024-11-19 17:09:28,562] Trial 37 finished with value: 0.9164835164835164 and parameters: {'C': 4.462991756131629, 'solver': 'lbfgs', 'penalty': 'l2'}. Best is trial 37 with value: 0.9164835164835164.\n",
      "[I 2024-11-19 17:09:28,848] Trial 38 finished with value: 0.8994162087912088 and parameters: {'C': 0.010779853897563856, 'solver': 'saga', 'penalty': 'l1'}. Best is trial 37 with value: 0.9164835164835164.\n",
      "[I 2024-11-19 17:09:29,117] Trial 39 finished with value: 0.9160370879120879 and parameters: {'C': 3.4330582986360425, 'solver': 'lbfgs', 'penalty': 'l1'}. Best is trial 37 with value: 0.9164835164835164.\n",
      "[I 2024-11-19 17:09:29,424] Trial 40 finished with value: 0.9160027472527472 and parameters: {'C': 14.406873825016435, 'solver': 'saga', 'penalty': 'l1'}. Best is trial 37 with value: 0.9164835164835164.\n",
      "[I 2024-11-19 17:09:29,716] Trial 41 finished with value: 0.9160027472527472 and parameters: {'C': 18.640466397260123, 'solver': 'lbfgs', 'penalty': 'l2'}. Best is trial 37 with value: 0.9164835164835164.\n",
      "[I 2024-11-19 17:09:30,072] Trial 42 finished with value: 0.9160027472527472 and parameters: {'C': 17.381702019778196, 'solver': 'lbfgs', 'penalty': 'l1'}. Best is trial 37 with value: 0.9164835164835164.\n",
      "[I 2024-11-19 17:09:30,464] Trial 43 finished with value: 0.9155906593406593 and parameters: {'C': 1.7344305487221487, 'solver': 'saga', 'penalty': 'l2'}. Best is trial 37 with value: 0.9164835164835164.\n",
      "[I 2024-11-19 17:09:30,819] Trial 44 finished with value: 0.9142513736263735 and parameters: {'C': 1.0926991369545158, 'solver': 'lbfgs', 'penalty': 'l2'}. Best is trial 37 with value: 0.9164835164835164.\n",
      "[I 2024-11-19 17:09:31,244] Trial 45 finished with value: 0.9138392857142857 and parameters: {'C': 0.4525217576962534, 'solver': 'lbfgs', 'penalty': 'l1'}. Best is trial 37 with value: 0.9164835164835164.\n",
      "[I 2024-11-19 17:09:31,731] Trial 46 finished with value: 0.9160027472527472 and parameters: {'C': 7.222815833550104, 'solver': 'saga', 'penalty': 'l2'}. Best is trial 37 with value: 0.9164835164835164.\n",
      "[I 2024-11-19 17:09:32,225] Trial 47 finished with value: 0.9160027472527472 and parameters: {'C': 6.194399751500469, 'solver': 'lbfgs', 'penalty': 'l2'}. Best is trial 37 with value: 0.9164835164835164.\n",
      "[I 2024-11-19 17:09:32,550] Trial 48 finished with value: 0.9160027472527472 and parameters: {'C': 100.0, 'solver': 'liblinear', 'penalty': 'l1'}. Best is trial 37 with value: 0.9164835164835164.\n",
      "[I 2024-11-19 17:09:32,896] Trial 49 finished with value: 0.8866414835164835 and parameters: {'C': 0.0010791884572542816, 'solver': 'saga', 'penalty': 'l2'}. Best is trial 37 with value: 0.9164835164835164.\n",
      "[I 2024-11-19 17:09:33,272] Trial 50 finished with value: 0.9160370879120879 and parameters: {'C': 3.176213113661761, 'solver': 'lbfgs', 'penalty': 'l2'}. Best is trial 37 with value: 0.9164835164835164.\n",
      "[I 2024-11-19 17:09:33,795] Trial 51 finished with value: 0.9160027472527472 and parameters: {'C': 41.31943490314752, 'solver': 'saga', 'penalty': 'l1'}. Best is trial 37 with value: 0.9164835164835164.\n",
      "[I 2024-11-19 17:09:34,335] Trial 52 finished with value: 0.9164835164835164 and parameters: {'C': 4.780927080454989, 'solver': 'saga', 'penalty': 'l1'}. Best is trial 37 with value: 0.9164835164835164.\n",
      "[I 2024-11-19 17:09:34,957] Trial 53 finished with value: 0.9160027472527472 and parameters: {'C': 5.141201072083643, 'solver': 'saga', 'penalty': 'l1'}. Best is trial 37 with value: 0.9164835164835164.\n",
      "[I 2024-11-19 17:09:35,498] Trial 54 finished with value: 0.9160027472527472 and parameters: {'C': 46.410628752053555, 'solver': 'lbfgs', 'penalty': 'l1'}. Best is trial 37 with value: 0.9164835164835164.\n",
      "[I 2024-11-19 17:09:36,009] Trial 55 finished with value: 0.9160370879120879 and parameters: {'C': 3.331159723302437, 'solver': 'liblinear', 'penalty': 'l2'}. Best is trial 37 with value: 0.9164835164835164.\n",
      "[I 2024-11-19 17:09:36,489] Trial 56 finished with value: 0.9138392857142857 and parameters: {'C': 0.4301665974548768, 'solver': 'saga', 'penalty': 'l2'}. Best is trial 37 with value: 0.9164835164835164.\n",
      "[I 2024-11-19 17:09:37,006] Trial 57 finished with value: 0.9160027472527472 and parameters: {'C': 48.85516925983574, 'solver': 'lbfgs', 'penalty': 'l2'}. Best is trial 37 with value: 0.9164835164835164.\n",
      "[I 2024-11-19 17:09:37,452] Trial 58 finished with value: 0.9160027472527472 and parameters: {'C': 7.2044479950063325, 'solver': 'lbfgs', 'penalty': 'l1'}. Best is trial 37 with value: 0.9164835164835164.\n",
      "[I 2024-11-19 17:09:37,890] Trial 59 finished with value: 0.9155906593406593 and parameters: {'C': 1.6964331957216583, 'solver': 'lbfgs', 'penalty': 'l1'}. Best is trial 37 with value: 0.9164835164835164.\n",
      "[I 2024-11-19 17:09:38,233] Trial 60 finished with value: 0.9124656593406593 and parameters: {'C': 0.25433084911210224, 'solver': 'liblinear', 'penalty': 'l2'}. Best is trial 37 with value: 0.9164835164835164.\n",
      "[I 2024-11-19 17:09:38,572] Trial 61 finished with value: 0.9142513736263735 and parameters: {'C': 1.2588624614988497, 'solver': 'liblinear', 'penalty': 'l2'}. Best is trial 37 with value: 0.9164835164835164.\n",
      "[I 2024-11-19 17:09:38,900] Trial 62 finished with value: 0.9164835164835164 and parameters: {'C': 8.589391826345647, 'solver': 'liblinear', 'penalty': 'l1'}. Best is trial 37 with value: 0.9164835164835164.\n",
      "[I 2024-11-19 17:09:39,353] Trial 63 finished with value: 0.9160027472527472 and parameters: {'C': 26.078646150923316, 'solver': 'liblinear', 'penalty': 'l1'}. Best is trial 37 with value: 0.9164835164835164.\n",
      "[I 2024-11-19 17:09:39,847] Trial 64 finished with value: 0.8848214285714286 and parameters: {'C': 0.00041355425299933405, 'solver': 'saga', 'penalty': 'l1'}. Best is trial 37 with value: 0.9164835164835164.\n",
      "[I 2024-11-19 17:09:40,154] Trial 65 finished with value: 0.9133585164835164 and parameters: {'C': 0.08141893659672748, 'solver': 'lbfgs', 'penalty': 'l2'}. Best is trial 37 with value: 0.9164835164835164.\n",
      "[I 2024-11-19 17:09:40,409] Trial 66 finished with value: 0.9160370879120879 and parameters: {'C': 2.6275655270058325, 'solver': 'saga', 'penalty': 'l1'}. Best is trial 37 with value: 0.9164835164835164.\n",
      "[I 2024-11-19 17:09:40,658] Trial 67 finished with value: 0.9076923076923077 and parameters: {'C': 0.028973761574195785, 'solver': 'lbfgs', 'penalty': 'l1'}. Best is trial 37 with value: 0.9164835164835164.\n",
      "[I 2024-11-19 17:09:40,950] Trial 68 finished with value: 0.884375 and parameters: {'C': 1e-05, 'solver': 'lbfgs', 'penalty': 'l2'}. Best is trial 37 with value: 0.9164835164835164.\n",
      "[I 2024-11-19 17:09:41,224] Trial 69 finished with value: 0.884375 and parameters: {'C': 1e-05, 'solver': 'liblinear', 'penalty': 'l2'}. Best is trial 37 with value: 0.9164835164835164.\n",
      "[I 2024-11-19 17:09:41,502] Trial 70 finished with value: 0.9165521978021978 and parameters: {'C': 1.8483853085443231, 'solver': 'liblinear', 'penalty': 'l1'}. Best is trial 70 with value: 0.9165521978021978.\n",
      "[I 2024-11-19 17:09:41,746] Trial 71 finished with value: 0.9165178571428572 and parameters: {'C': 3.3354152355191222, 'solver': 'liblinear', 'penalty': 'l1'}. Best is trial 70 with value: 0.9165521978021978.\n",
      "[I 2024-11-19 17:09:42,021] Trial 72 finished with value: 0.9106112637362639 and parameters: {'C': 0.1326366992838977, 'solver': 'saga', 'penalty': 'l1'}. Best is trial 70 with value: 0.9165521978021978.\n",
      "[I 2024-11-19 17:09:42,271] Trial 73 finished with value: 0.9124656593406593 and parameters: {'C': 0.24331874791128696, 'solver': 'lbfgs', 'penalty': 'l2'}. Best is trial 70 with value: 0.9165521978021978.\n",
      "[I 2024-11-19 17:09:42,536] Trial 74 finished with value: 0.9160027472527472 and parameters: {'C': 5.6627266372097775, 'solver': 'liblinear', 'penalty': 'l2'}. Best is trial 70 with value: 0.9165521978021978.\n",
      "[I 2024-11-19 17:09:42,837] Trial 75 finished with value: 0.9194024725274726 and parameters: {'C': 0.594997562964087, 'solver': 'liblinear', 'penalty': 'l1'}. Best is trial 75 with value: 0.9194024725274726.\n",
      "[I 2024-11-19 17:09:43,096] Trial 76 finished with value: 0.9192994505494505 and parameters: {'C': 0.30303014397773903, 'solver': 'liblinear', 'penalty': 'l1'}. Best is trial 75 with value: 0.9194024725274726.\n",
      "[I 2024-11-19 17:09:43,336] Trial 77 finished with value: 0.9202953296703296 and parameters: {'C': 0.42085229562251936, 'solver': 'liblinear', 'penalty': 'l1'}. Best is trial 77 with value: 0.9202953296703296.\n",
      "[I 2024-11-19 17:09:43,646] Trial 78 finished with value: 0.9202953296703296 and parameters: {'C': 0.41585122901729066, 'solver': 'liblinear', 'penalty': 'l1'}. Best is trial 77 with value: 0.9202953296703296.\n",
      "[I 2024-11-19 17:09:44,006] Trial 79 finished with value: 0.8985233516483518 and parameters: {'C': 0.01014449091362258, 'solver': 'saga', 'penalty': 'l2'}. Best is trial 77 with value: 0.9202953296703296.\n",
      "[I 2024-11-19 17:09:44,276] Trial 80 finished with value: 0.9202953296703296 and parameters: {'C': 0.4153123705692334, 'solver': 'liblinear', 'penalty': 'l1'}. Best is trial 77 with value: 0.9202953296703296.\n",
      "[I 2024-11-19 17:09:44,733] Trial 81 finished with value: 0.9054601648351646 and parameters: {'C': 0.020734265987413097, 'solver': 'lbfgs', 'penalty': 'l2'}. Best is trial 77 with value: 0.9202953296703296.\n",
      "[I 2024-11-19 17:09:45,127] Trial 82 finished with value: 0.9202953296703296 and parameters: {'C': 0.41542872248077783, 'solver': 'liblinear', 'penalty': 'l1'}. Best is trial 77 with value: 0.9202953296703296.\n",
      "[I 2024-11-19 17:09:45,436] Trial 83 finished with value: 0.911092032967033 and parameters: {'C': 0.1129188025552041, 'solver': 'lbfgs', 'penalty': 'l1'}. Best is trial 77 with value: 0.9202953296703296.\n",
      "[I 2024-11-19 17:09:45,753] Trial 84 finished with value: 0.9202953296703296 and parameters: {'C': 0.4155001967442109, 'solver': 'liblinear', 'penalty': 'l1'}. Best is trial 77 with value: 0.9202953296703296.\n",
      "[I 2024-11-19 17:09:46,094] Trial 85 finished with value: 0.9202953296703296 and parameters: {'C': 0.4155456159197048, 'solver': 'liblinear', 'penalty': 'l1'}. Best is trial 77 with value: 0.9202953296703296.\n",
      "[I 2024-11-19 17:09:46,439] Trial 86 finished with value: 0.9202953296703296 and parameters: {'C': 0.41557224188911457, 'solver': 'liblinear', 'penalty': 'l1'}. Best is trial 77 with value: 0.9202953296703296.\n",
      "[I 2024-11-19 17:09:46,811] Trial 87 finished with value: 0.9202953296703296 and parameters: {'C': 0.4147297177246046, 'solver': 'liblinear', 'penalty': 'l1'}. Best is trial 77 with value: 0.9202953296703296.\n",
      "[I 2024-11-19 17:09:47,183] Trial 88 finished with value: 0.9202953296703296 and parameters: {'C': 0.4156752937379942, 'solver': 'liblinear', 'penalty': 'l1'}. Best is trial 77 with value: 0.9202953296703296.\n",
      "[I 2024-11-19 17:09:47,508] Trial 89 finished with value: 0.9202953296703296 and parameters: {'C': 0.41568509694184486, 'solver': 'liblinear', 'penalty': 'l1'}. Best is trial 77 with value: 0.9202953296703296.\n",
      "[I 2024-11-19 17:09:47,842] Trial 90 finished with value: 0.9202953296703296 and parameters: {'C': 0.4147400042029938, 'solver': 'liblinear', 'penalty': 'l1'}. Best is trial 77 with value: 0.9202953296703296.\n",
      "[I 2024-11-19 17:09:48,223] Trial 91 finished with value: 0.9202953296703296 and parameters: {'C': 0.41500158913517465, 'solver': 'liblinear', 'penalty': 'l1'}. Best is trial 77 with value: 0.9202953296703296.\n",
      "[I 2024-11-19 17:09:48,507] Trial 92 finished with value: 0.884375 and parameters: {'C': 8.015055269723486e-05, 'solver': 'saga', 'penalty': 'l2'}. Best is trial 77 with value: 0.9202953296703296.\n",
      "[I 2024-11-19 17:09:48,813] Trial 93 finished with value: 0.9202953296703296 and parameters: {'C': 0.4150417593328646, 'solver': 'liblinear', 'penalty': 'l1'}. Best is trial 77 with value: 0.9202953296703296.\n",
      "[I 2024-11-19 17:09:49,195] Trial 94 finished with value: 0.9202953296703296 and parameters: {'C': 0.4158961927275267, 'solver': 'liblinear', 'penalty': 'l1'}. Best is trial 77 with value: 0.9202953296703296.\n",
      "[I 2024-11-19 17:09:49,502] Trial 95 finished with value: 0.9202953296703296 and parameters: {'C': 0.4159475504123907, 'solver': 'liblinear', 'penalty': 'l1'}. Best is trial 77 with value: 0.9202953296703296.\n",
      "[I 2024-11-19 17:09:49,783] Trial 96 finished with value: 0.9202953296703296 and parameters: {'C': 0.4158497064260339, 'solver': 'liblinear', 'penalty': 'l1'}. Best is trial 77 with value: 0.9202953296703296.\n",
      "[I 2024-11-19 17:09:50,137] Trial 97 finished with value: 0.9202953296703296 and parameters: {'C': 0.4158475781477084, 'solver': 'liblinear', 'penalty': 'l1'}. Best is trial 77 with value: 0.9202953296703296.\n",
      "[I 2024-11-19 17:09:50,467] Trial 98 finished with value: 0.9202953296703296 and parameters: {'C': 0.4151247179660111, 'solver': 'liblinear', 'penalty': 'l1'}. Best is trial 77 with value: 0.9202953296703296.\n",
      "[I 2024-11-19 17:09:50,839] Trial 99 finished with value: 0.9202953296703296 and parameters: {'C': 0.4159500592786911, 'solver': 'liblinear', 'penalty': 'l1'}. Best is trial 77 with value: 0.9202953296703296.\n"
     ]
    }
   ],
   "source": [
    "# ---------------------------------------------------------------------------- #\n",
    "#                                 OPTIMIZATION                                 #\n",
    "# ---------------------------------------------------------------------------- #\n",
    "\n",
    "# Initiate CodeCarbon to track emissions\n",
    "tracker = EmissionsTracker('LR optimization', log_level='warning')\n",
    "tracker.start()\n",
    "\n",
    "# Objective function\n",
    "def objective(trial):\n",
    "    # Define parameters\n",
    "    C = trial.suggest_float('C', 1e-5, 1e2, log=True)  # Parâmetro de regularização\n",
    "    solver = trial.suggest_categorical('solver', ['liblinear', 'lbfgs', 'saga'])  # Solver\n",
    "\n",
    "    penalty = trial.suggest_categorical('penalty', ['l1', 'l2'])\n",
    "    penalty = 'l2' if solver != 'liblinear' else penalty\n",
    "\n",
    "    # Create model\n",
    "    temp_model = LogisticRegression(C=C, solver=solver, penalty=penalty, max_iter=1000)\n",
    "\n",
    "    # Define pipeline depending on whether PCA is requested or not\n",
    "    if PC_Features:\n",
    "        steps = [\n",
    "            ('preprocessor', preprocessor),\n",
    "            ('pca', PCA(n_components=12)),\n",
    "            ('LR-classifier', temp_model)\n",
    "        ]\n",
    "    else:\n",
    "        steps = [\n",
    "            ('preprocessor', preprocessor),\n",
    "            ('LR-classifier', temp_model)\n",
    "        ]\n",
    "        \n",
    "    pipeline = Pipeline(steps)\n",
    "    \n",
    "    # Perform cross-validation\n",
    "    roc_auc = cross_val_score(pipeline, X, y, scoring='roc_auc', cv=K_Folds).mean()\n",
    "    \n",
    "    return roc_auc\n",
    "\n",
    "\n",
    "# Optimizing with Optuna\n",
    "study = optuna.create_study(direction='maximize', sampler=GPSampler())\n",
    "study.optimize(objective, n_trials=100)"
   ]
  },
  {
   "cell_type": "code",
   "execution_count": 6,
   "metadata": {},
   "outputs": [
    {
     "name": "stdout",
     "output_type": "stream",
     "text": [
      "AUC-ROC: 0.9202953296703296\n",
      "Best hyperparameters: {'C': 0.42085229562251936, 'solver': 'liblinear', 'penalty': 'l1'}\n"
     ]
    }
   ],
   "source": [
    "# Show best model\n",
    "trial = study.best_trial\n",
    "print('AUC-ROC: {}'.format(trial.value))\n",
    "print(\"Best hyperparameters: {}\".format(trial.params))\n",
    "\n",
    "# Save best trial parameters to a JSON file\n",
    "with open('params/LR-params.json', 'w') as f:\n",
    "    json.dump(trial.params, f)"
   ]
  },
  {
   "cell_type": "code",
   "execution_count": 7,
   "metadata": {},
   "outputs": [
    {
     "data": {
      "application/vnd.plotly.v1+json": {
       "config": {
        "plotlyServerURL": "https://plot.ly"
       },
       "data": [
        {
         "mode": "markers",
         "name": "Objective Value",
         "type": "scatter",
         "x": [
          0,
          1,
          2,
          3,
          4,
          5,
          6,
          7,
          8,
          9,
          10,
          11,
          12,
          13,
          14,
          15,
          16,
          17,
          18,
          19,
          20,
          21,
          22,
          23,
          24,
          25,
          26,
          27,
          28,
          29,
          30,
          31,
          32,
          33,
          34,
          35,
          36,
          37,
          38,
          39,
          40,
          41,
          42,
          43,
          44,
          45,
          46,
          47,
          48,
          49,
          50,
          51,
          52,
          53,
          54,
          55,
          56,
          57,
          58,
          59,
          60,
          61,
          62,
          63,
          64,
          65,
          66,
          67,
          68,
          69,
          70,
          71,
          72,
          73,
          74,
          75,
          76,
          77,
          78,
          79,
          80,
          81,
          82,
          83,
          84,
          85,
          86,
          87,
          88,
          89,
          90,
          91,
          92,
          93,
          94,
          95,
          96,
          97,
          98,
          99
         ],
         "y": [
          0.884375,
          0.9142513736263735,
          0.9160027472527472,
          0.890728021978022,
          0.8861950549450549,
          0.913804945054945,
          0.884375,
          0.5,
          0.884375,
          0.8985233516483515,
          0.9160027472527472,
          0.884375,
          0.884375,
          0.9160027472527472,
          0.9160027472527472,
          0.9160027472527472,
          0.9160027472527472,
          0.9160027472527472,
          0.9160027472527472,
          0.9160027472527472,
          0.9160027472527472,
          0.9160027472527472,
          0.9160027472527472,
          0.9160027472527472,
          0.9160027472527472,
          0.9160027472527472,
          0.9160027472527472,
          0.9160027472527472,
          0.9160027472527472,
          0.9160027472527472,
          0.9160027472527472,
          0.9160027472527472,
          0.9160027472527472,
          0.9160027472527472,
          0.9160027472527472,
          0.9100274725274726,
          0.9156593406593405,
          0.9164835164835164,
          0.8994162087912088,
          0.9160370879120879,
          0.9160027472527472,
          0.9160027472527472,
          0.9160027472527472,
          0.9155906593406593,
          0.9142513736263735,
          0.9138392857142857,
          0.9160027472527472,
          0.9160027472527472,
          0.9160027472527472,
          0.8866414835164835,
          0.9160370879120879,
          0.9160027472527472,
          0.9164835164835164,
          0.9160027472527472,
          0.9160027472527472,
          0.9160370879120879,
          0.9138392857142857,
          0.9160027472527472,
          0.9160027472527472,
          0.9155906593406593,
          0.9124656593406593,
          0.9142513736263735,
          0.9164835164835164,
          0.9160027472527472,
          0.8848214285714286,
          0.9133585164835164,
          0.9160370879120879,
          0.9076923076923077,
          0.884375,
          0.884375,
          0.9165521978021978,
          0.9165178571428572,
          0.9106112637362639,
          0.9124656593406593,
          0.9160027472527472,
          0.9194024725274726,
          0.9192994505494505,
          0.9202953296703296,
          0.9202953296703296,
          0.8985233516483518,
          0.9202953296703296,
          0.9054601648351646,
          0.9202953296703296,
          0.911092032967033,
          0.9202953296703296,
          0.9202953296703296,
          0.9202953296703296,
          0.9202953296703296,
          0.9202953296703296,
          0.9202953296703296,
          0.9202953296703296,
          0.9202953296703296,
          0.884375,
          0.9202953296703296,
          0.9202953296703296,
          0.9202953296703296,
          0.9202953296703296,
          0.9202953296703296,
          0.9202953296703296,
          0.9202953296703296
         ]
        },
        {
         "mode": "lines",
         "name": "Best Value",
         "type": "scatter",
         "x": [
          0,
          1,
          2,
          3,
          4,
          5,
          6,
          7,
          8,
          9,
          10,
          11,
          12,
          13,
          14,
          15,
          16,
          17,
          18,
          19,
          20,
          21,
          22,
          23,
          24,
          25,
          26,
          27,
          28,
          29,
          30,
          31,
          32,
          33,
          34,
          35,
          36,
          37,
          38,
          39,
          40,
          41,
          42,
          43,
          44,
          45,
          46,
          47,
          48,
          49,
          50,
          51,
          52,
          53,
          54,
          55,
          56,
          57,
          58,
          59,
          60,
          61,
          62,
          63,
          64,
          65,
          66,
          67,
          68,
          69,
          70,
          71,
          72,
          73,
          74,
          75,
          76,
          77,
          78,
          79,
          80,
          81,
          82,
          83,
          84,
          85,
          86,
          87,
          88,
          89,
          90,
          91,
          92,
          93,
          94,
          95,
          96,
          97,
          98,
          99
         ],
         "y": [
          0.884375,
          0.9142513736263735,
          0.9160027472527472,
          0.9160027472527472,
          0.9160027472527472,
          0.9160027472527472,
          0.9160027472527472,
          0.9160027472527472,
          0.9160027472527472,
          0.9160027472527472,
          0.9160027472527472,
          0.9160027472527472,
          0.9160027472527472,
          0.9160027472527472,
          0.9160027472527472,
          0.9160027472527472,
          0.9160027472527472,
          0.9160027472527472,
          0.9160027472527472,
          0.9160027472527472,
          0.9160027472527472,
          0.9160027472527472,
          0.9160027472527472,
          0.9160027472527472,
          0.9160027472527472,
          0.9160027472527472,
          0.9160027472527472,
          0.9160027472527472,
          0.9160027472527472,
          0.9160027472527472,
          0.9160027472527472,
          0.9160027472527472,
          0.9160027472527472,
          0.9160027472527472,
          0.9160027472527472,
          0.9160027472527472,
          0.9160027472527472,
          0.9164835164835164,
          0.9164835164835164,
          0.9164835164835164,
          0.9164835164835164,
          0.9164835164835164,
          0.9164835164835164,
          0.9164835164835164,
          0.9164835164835164,
          0.9164835164835164,
          0.9164835164835164,
          0.9164835164835164,
          0.9164835164835164,
          0.9164835164835164,
          0.9164835164835164,
          0.9164835164835164,
          0.9164835164835164,
          0.9164835164835164,
          0.9164835164835164,
          0.9164835164835164,
          0.9164835164835164,
          0.9164835164835164,
          0.9164835164835164,
          0.9164835164835164,
          0.9164835164835164,
          0.9164835164835164,
          0.9164835164835164,
          0.9164835164835164,
          0.9164835164835164,
          0.9164835164835164,
          0.9164835164835164,
          0.9164835164835164,
          0.9164835164835164,
          0.9164835164835164,
          0.9165521978021978,
          0.9165521978021978,
          0.9165521978021978,
          0.9165521978021978,
          0.9165521978021978,
          0.9194024725274726,
          0.9194024725274726,
          0.9202953296703296,
          0.9202953296703296,
          0.9202953296703296,
          0.9202953296703296,
          0.9202953296703296,
          0.9202953296703296,
          0.9202953296703296,
          0.9202953296703296,
          0.9202953296703296,
          0.9202953296703296,
          0.9202953296703296,
          0.9202953296703296,
          0.9202953296703296,
          0.9202953296703296,
          0.9202953296703296,
          0.9202953296703296,
          0.9202953296703296,
          0.9202953296703296,
          0.9202953296703296,
          0.9202953296703296,
          0.9202953296703296,
          0.9202953296703296,
          0.9202953296703296
         ]
        },
        {
         "marker": {
          "color": "#cccccc"
         },
         "mode": "markers",
         "name": "Infeasible Trial",
         "showlegend": false,
         "type": "scatter",
         "x": [],
         "y": []
        }
       ],
       "layout": {
        "template": {
         "data": {
          "bar": [
           {
            "error_x": {
             "color": "#2a3f5f"
            },
            "error_y": {
             "color": "#2a3f5f"
            },
            "marker": {
             "line": {
              "color": "#E5ECF6",
              "width": 0.5
             },
             "pattern": {
              "fillmode": "overlay",
              "size": 10,
              "solidity": 0.2
             }
            },
            "type": "bar"
           }
          ],
          "barpolar": [
           {
            "marker": {
             "line": {
              "color": "#E5ECF6",
              "width": 0.5
             },
             "pattern": {
              "fillmode": "overlay",
              "size": 10,
              "solidity": 0.2
             }
            },
            "type": "barpolar"
           }
          ],
          "carpet": [
           {
            "aaxis": {
             "endlinecolor": "#2a3f5f",
             "gridcolor": "white",
             "linecolor": "white",
             "minorgridcolor": "white",
             "startlinecolor": "#2a3f5f"
            },
            "baxis": {
             "endlinecolor": "#2a3f5f",
             "gridcolor": "white",
             "linecolor": "white",
             "minorgridcolor": "white",
             "startlinecolor": "#2a3f5f"
            },
            "type": "carpet"
           }
          ],
          "choropleth": [
           {
            "colorbar": {
             "outlinewidth": 0,
             "ticks": ""
            },
            "type": "choropleth"
           }
          ],
          "contour": [
           {
            "colorbar": {
             "outlinewidth": 0,
             "ticks": ""
            },
            "colorscale": [
             [
              0,
              "#0d0887"
             ],
             [
              0.1111111111111111,
              "#46039f"
             ],
             [
              0.2222222222222222,
              "#7201a8"
             ],
             [
              0.3333333333333333,
              "#9c179e"
             ],
             [
              0.4444444444444444,
              "#bd3786"
             ],
             [
              0.5555555555555556,
              "#d8576b"
             ],
             [
              0.6666666666666666,
              "#ed7953"
             ],
             [
              0.7777777777777778,
              "#fb9f3a"
             ],
             [
              0.8888888888888888,
              "#fdca26"
             ],
             [
              1,
              "#f0f921"
             ]
            ],
            "type": "contour"
           }
          ],
          "contourcarpet": [
           {
            "colorbar": {
             "outlinewidth": 0,
             "ticks": ""
            },
            "type": "contourcarpet"
           }
          ],
          "heatmap": [
           {
            "colorbar": {
             "outlinewidth": 0,
             "ticks": ""
            },
            "colorscale": [
             [
              0,
              "#0d0887"
             ],
             [
              0.1111111111111111,
              "#46039f"
             ],
             [
              0.2222222222222222,
              "#7201a8"
             ],
             [
              0.3333333333333333,
              "#9c179e"
             ],
             [
              0.4444444444444444,
              "#bd3786"
             ],
             [
              0.5555555555555556,
              "#d8576b"
             ],
             [
              0.6666666666666666,
              "#ed7953"
             ],
             [
              0.7777777777777778,
              "#fb9f3a"
             ],
             [
              0.8888888888888888,
              "#fdca26"
             ],
             [
              1,
              "#f0f921"
             ]
            ],
            "type": "heatmap"
           }
          ],
          "heatmapgl": [
           {
            "colorbar": {
             "outlinewidth": 0,
             "ticks": ""
            },
            "colorscale": [
             [
              0,
              "#0d0887"
             ],
             [
              0.1111111111111111,
              "#46039f"
             ],
             [
              0.2222222222222222,
              "#7201a8"
             ],
             [
              0.3333333333333333,
              "#9c179e"
             ],
             [
              0.4444444444444444,
              "#bd3786"
             ],
             [
              0.5555555555555556,
              "#d8576b"
             ],
             [
              0.6666666666666666,
              "#ed7953"
             ],
             [
              0.7777777777777778,
              "#fb9f3a"
             ],
             [
              0.8888888888888888,
              "#fdca26"
             ],
             [
              1,
              "#f0f921"
             ]
            ],
            "type": "heatmapgl"
           }
          ],
          "histogram": [
           {
            "marker": {
             "pattern": {
              "fillmode": "overlay",
              "size": 10,
              "solidity": 0.2
             }
            },
            "type": "histogram"
           }
          ],
          "histogram2d": [
           {
            "colorbar": {
             "outlinewidth": 0,
             "ticks": ""
            },
            "colorscale": [
             [
              0,
              "#0d0887"
             ],
             [
              0.1111111111111111,
              "#46039f"
             ],
             [
              0.2222222222222222,
              "#7201a8"
             ],
             [
              0.3333333333333333,
              "#9c179e"
             ],
             [
              0.4444444444444444,
              "#bd3786"
             ],
             [
              0.5555555555555556,
              "#d8576b"
             ],
             [
              0.6666666666666666,
              "#ed7953"
             ],
             [
              0.7777777777777778,
              "#fb9f3a"
             ],
             [
              0.8888888888888888,
              "#fdca26"
             ],
             [
              1,
              "#f0f921"
             ]
            ],
            "type": "histogram2d"
           }
          ],
          "histogram2dcontour": [
           {
            "colorbar": {
             "outlinewidth": 0,
             "ticks": ""
            },
            "colorscale": [
             [
              0,
              "#0d0887"
             ],
             [
              0.1111111111111111,
              "#46039f"
             ],
             [
              0.2222222222222222,
              "#7201a8"
             ],
             [
              0.3333333333333333,
              "#9c179e"
             ],
             [
              0.4444444444444444,
              "#bd3786"
             ],
             [
              0.5555555555555556,
              "#d8576b"
             ],
             [
              0.6666666666666666,
              "#ed7953"
             ],
             [
              0.7777777777777778,
              "#fb9f3a"
             ],
             [
              0.8888888888888888,
              "#fdca26"
             ],
             [
              1,
              "#f0f921"
             ]
            ],
            "type": "histogram2dcontour"
           }
          ],
          "mesh3d": [
           {
            "colorbar": {
             "outlinewidth": 0,
             "ticks": ""
            },
            "type": "mesh3d"
           }
          ],
          "parcoords": [
           {
            "line": {
             "colorbar": {
              "outlinewidth": 0,
              "ticks": ""
             }
            },
            "type": "parcoords"
           }
          ],
          "pie": [
           {
            "automargin": true,
            "type": "pie"
           }
          ],
          "scatter": [
           {
            "fillpattern": {
             "fillmode": "overlay",
             "size": 10,
             "solidity": 0.2
            },
            "type": "scatter"
           }
          ],
          "scatter3d": [
           {
            "line": {
             "colorbar": {
              "outlinewidth": 0,
              "ticks": ""
             }
            },
            "marker": {
             "colorbar": {
              "outlinewidth": 0,
              "ticks": ""
             }
            },
            "type": "scatter3d"
           }
          ],
          "scattercarpet": [
           {
            "marker": {
             "colorbar": {
              "outlinewidth": 0,
              "ticks": ""
             }
            },
            "type": "scattercarpet"
           }
          ],
          "scattergeo": [
           {
            "marker": {
             "colorbar": {
              "outlinewidth": 0,
              "ticks": ""
             }
            },
            "type": "scattergeo"
           }
          ],
          "scattergl": [
           {
            "marker": {
             "colorbar": {
              "outlinewidth": 0,
              "ticks": ""
             }
            },
            "type": "scattergl"
           }
          ],
          "scattermapbox": [
           {
            "marker": {
             "colorbar": {
              "outlinewidth": 0,
              "ticks": ""
             }
            },
            "type": "scattermapbox"
           }
          ],
          "scatterpolar": [
           {
            "marker": {
             "colorbar": {
              "outlinewidth": 0,
              "ticks": ""
             }
            },
            "type": "scatterpolar"
           }
          ],
          "scatterpolargl": [
           {
            "marker": {
             "colorbar": {
              "outlinewidth": 0,
              "ticks": ""
             }
            },
            "type": "scatterpolargl"
           }
          ],
          "scatterternary": [
           {
            "marker": {
             "colorbar": {
              "outlinewidth": 0,
              "ticks": ""
             }
            },
            "type": "scatterternary"
           }
          ],
          "surface": [
           {
            "colorbar": {
             "outlinewidth": 0,
             "ticks": ""
            },
            "colorscale": [
             [
              0,
              "#0d0887"
             ],
             [
              0.1111111111111111,
              "#46039f"
             ],
             [
              0.2222222222222222,
              "#7201a8"
             ],
             [
              0.3333333333333333,
              "#9c179e"
             ],
             [
              0.4444444444444444,
              "#bd3786"
             ],
             [
              0.5555555555555556,
              "#d8576b"
             ],
             [
              0.6666666666666666,
              "#ed7953"
             ],
             [
              0.7777777777777778,
              "#fb9f3a"
             ],
             [
              0.8888888888888888,
              "#fdca26"
             ],
             [
              1,
              "#f0f921"
             ]
            ],
            "type": "surface"
           }
          ],
          "table": [
           {
            "cells": {
             "fill": {
              "color": "#EBF0F8"
             },
             "line": {
              "color": "white"
             }
            },
            "header": {
             "fill": {
              "color": "#C8D4E3"
             },
             "line": {
              "color": "white"
             }
            },
            "type": "table"
           }
          ]
         },
         "layout": {
          "annotationdefaults": {
           "arrowcolor": "#2a3f5f",
           "arrowhead": 0,
           "arrowwidth": 1
          },
          "autotypenumbers": "strict",
          "coloraxis": {
           "colorbar": {
            "outlinewidth": 0,
            "ticks": ""
           }
          },
          "colorscale": {
           "diverging": [
            [
             0,
             "#8e0152"
            ],
            [
             0.1,
             "#c51b7d"
            ],
            [
             0.2,
             "#de77ae"
            ],
            [
             0.3,
             "#f1b6da"
            ],
            [
             0.4,
             "#fde0ef"
            ],
            [
             0.5,
             "#f7f7f7"
            ],
            [
             0.6,
             "#e6f5d0"
            ],
            [
             0.7,
             "#b8e186"
            ],
            [
             0.8,
             "#7fbc41"
            ],
            [
             0.9,
             "#4d9221"
            ],
            [
             1,
             "#276419"
            ]
           ],
           "sequential": [
            [
             0,
             "#0d0887"
            ],
            [
             0.1111111111111111,
             "#46039f"
            ],
            [
             0.2222222222222222,
             "#7201a8"
            ],
            [
             0.3333333333333333,
             "#9c179e"
            ],
            [
             0.4444444444444444,
             "#bd3786"
            ],
            [
             0.5555555555555556,
             "#d8576b"
            ],
            [
             0.6666666666666666,
             "#ed7953"
            ],
            [
             0.7777777777777778,
             "#fb9f3a"
            ],
            [
             0.8888888888888888,
             "#fdca26"
            ],
            [
             1,
             "#f0f921"
            ]
           ],
           "sequentialminus": [
            [
             0,
             "#0d0887"
            ],
            [
             0.1111111111111111,
             "#46039f"
            ],
            [
             0.2222222222222222,
             "#7201a8"
            ],
            [
             0.3333333333333333,
             "#9c179e"
            ],
            [
             0.4444444444444444,
             "#bd3786"
            ],
            [
             0.5555555555555556,
             "#d8576b"
            ],
            [
             0.6666666666666666,
             "#ed7953"
            ],
            [
             0.7777777777777778,
             "#fb9f3a"
            ],
            [
             0.8888888888888888,
             "#fdca26"
            ],
            [
             1,
             "#f0f921"
            ]
           ]
          },
          "colorway": [
           "#636efa",
           "#EF553B",
           "#00cc96",
           "#ab63fa",
           "#FFA15A",
           "#19d3f3",
           "#FF6692",
           "#B6E880",
           "#FF97FF",
           "#FECB52"
          ],
          "font": {
           "color": "#2a3f5f"
          },
          "geo": {
           "bgcolor": "white",
           "lakecolor": "white",
           "landcolor": "#E5ECF6",
           "showlakes": true,
           "showland": true,
           "subunitcolor": "white"
          },
          "hoverlabel": {
           "align": "left"
          },
          "hovermode": "closest",
          "mapbox": {
           "style": "light"
          },
          "paper_bgcolor": "white",
          "plot_bgcolor": "#E5ECF6",
          "polar": {
           "angularaxis": {
            "gridcolor": "white",
            "linecolor": "white",
            "ticks": ""
           },
           "bgcolor": "#E5ECF6",
           "radialaxis": {
            "gridcolor": "white",
            "linecolor": "white",
            "ticks": ""
           }
          },
          "scene": {
           "xaxis": {
            "backgroundcolor": "#E5ECF6",
            "gridcolor": "white",
            "gridwidth": 2,
            "linecolor": "white",
            "showbackground": true,
            "ticks": "",
            "zerolinecolor": "white"
           },
           "yaxis": {
            "backgroundcolor": "#E5ECF6",
            "gridcolor": "white",
            "gridwidth": 2,
            "linecolor": "white",
            "showbackground": true,
            "ticks": "",
            "zerolinecolor": "white"
           },
           "zaxis": {
            "backgroundcolor": "#E5ECF6",
            "gridcolor": "white",
            "gridwidth": 2,
            "linecolor": "white",
            "showbackground": true,
            "ticks": "",
            "zerolinecolor": "white"
           }
          },
          "shapedefaults": {
           "line": {
            "color": "#2a3f5f"
           }
          },
          "ternary": {
           "aaxis": {
            "gridcolor": "white",
            "linecolor": "white",
            "ticks": ""
           },
           "baxis": {
            "gridcolor": "white",
            "linecolor": "white",
            "ticks": ""
           },
           "bgcolor": "#E5ECF6",
           "caxis": {
            "gridcolor": "white",
            "linecolor": "white",
            "ticks": ""
           }
          },
          "title": {
           "x": 0.05
          },
          "xaxis": {
           "automargin": true,
           "gridcolor": "white",
           "linecolor": "white",
           "ticks": "",
           "title": {
            "standoff": 15
           },
           "zerolinecolor": "white",
           "zerolinewidth": 2
          },
          "yaxis": {
           "automargin": true,
           "gridcolor": "white",
           "linecolor": "white",
           "ticks": "",
           "title": {
            "standoff": 15
           },
           "zerolinecolor": "white",
           "zerolinewidth": 2
          }
         }
        },
        "title": {
         "text": "Optimization History Plot"
        },
        "xaxis": {
         "title": {
          "text": "Trial"
         }
        },
        "yaxis": {
         "title": {
          "text": "Objective Value"
         }
        }
       }
      }
     },
     "metadata": {},
     "output_type": "display_data"
    }
   ],
   "source": [
    "# Visualizing optimization\n",
    "optuna.visualization.plot_optimization_history(study)"
   ]
  },
  {
   "cell_type": "code",
   "execution_count": 8,
   "metadata": {},
   "outputs": [
    {
     "data": {
      "application/vnd.plotly.v1+json": {
       "config": {
        "plotlyServerURL": "https://plot.ly"
       },
       "data": [
        {
         "marker": {
          "color": [
           0,
           1,
           2,
           3,
           4,
           5,
           6,
           7,
           8,
           9,
           10,
           11,
           12,
           13,
           14,
           15,
           16,
           17,
           18,
           19,
           20,
           21,
           22,
           23,
           24,
           25,
           26,
           27,
           28,
           29,
           30,
           31,
           32,
           33,
           34,
           35,
           36,
           37,
           38,
           39,
           40,
           41,
           42,
           43,
           44,
           45,
           46,
           47,
           48,
           49,
           50,
           51,
           52,
           53,
           54,
           55,
           56,
           57,
           58,
           59,
           60,
           61,
           62,
           63,
           64,
           65,
           66,
           67,
           68,
           69,
           70,
           71,
           72,
           73,
           74,
           75,
           76,
           77,
           78,
           79,
           80,
           81,
           82,
           83,
           84,
           85,
           86,
           87,
           88,
           89,
           90,
           91,
           92,
           93,
           94,
           95,
           96,
           97,
           98,
           99
          ],
          "colorbar": {
           "title": {
            "text": "Trial"
           },
           "x": 1,
           "xpad": 40
          },
          "colorscale": [
           [
            0,
            "rgb(247,251,255)"
           ],
           [
            0.125,
            "rgb(222,235,247)"
           ],
           [
            0.25,
            "rgb(198,219,239)"
           ],
           [
            0.375,
            "rgb(158,202,225)"
           ],
           [
            0.5,
            "rgb(107,174,214)"
           ],
           [
            0.625,
            "rgb(66,146,198)"
           ],
           [
            0.75,
            "rgb(33,113,181)"
           ],
           [
            0.875,
            "rgb(8,81,156)"
           ],
           [
            1,
            "rgb(8,48,107)"
           ]
          ],
          "line": {
           "color": "Grey",
           "width": 0.5
          },
          "showscale": true
         },
         "mode": "markers",
         "name": "Feasible Trial",
         "showlegend": false,
         "type": "scatter",
         "x": [
          0.00008044260191130576,
          1.128490218478172,
          33.36495020765369,
          0.00249494929743962,
          0.0007384024676008444,
          0.08432836134339233,
          0.0000623008301512476,
          0.00003601662685613693,
          0.000010003109284581392,
          0.01033277830344879,
          100,
          0.00001,
          0.00001,
          100,
          100,
          100,
          100,
          100,
          99.99999999999969,
          100,
          100,
          100,
          100,
          100,
          28.005493692828928,
          98.32883955016239,
          21.014698414435763,
          21.77404488841417,
          99.99999999999969,
          18.3417777675247,
          100,
          16.09136376407997,
          99.99999999999969,
          13.919081022975478,
          13.28148743997085,
          0.052943201572041576,
          0.5890517998452411,
          4.462991756131629,
          0.010779853897563856,
          3.4330582986360425,
          14.406873825016435,
          18.640466397260123,
          17.381702019778196,
          1.7344305487221487,
          1.0926991369545158,
          0.4525217576962534,
          7.222815833550104,
          6.194399751500469,
          100,
          0.0010791884572542816,
          3.176213113661761,
          41.31943490314752,
          4.780927080454989,
          5.141201072083643,
          46.410628752053555,
          3.331159723302437,
          0.4301665974548768,
          48.85516925983574,
          7.2044479950063325,
          1.6964331957216583,
          0.25433084911210224,
          1.2588624614988497,
          8.589391826345647,
          26.078646150923316,
          0.00041355425299933405,
          0.08141893659672748,
          2.6275655270058325,
          0.028973761574195785,
          0.00001,
          0.00001,
          1.8483853085443231,
          3.3354152355191222,
          0.1326366992838977,
          0.24331874791128696,
          5.6627266372097775,
          0.594997562964087,
          0.30303014397773903,
          0.42085229562251936,
          0.41585122901729066,
          0.01014449091362258,
          0.4153123705692334,
          0.020734265987413097,
          0.41542872248077783,
          0.1129188025552041,
          0.4155001967442109,
          0.4155456159197048,
          0.41557224188911457,
          0.4147297177246046,
          0.4156752937379942,
          0.41568509694184486,
          0.4147400042029938,
          0.41500158913517465,
          0.00008015055269723486,
          0.4150417593328646,
          0.4158961927275267,
          0.4159475504123907,
          0.4158497064260339,
          0.4158475781477084,
          0.4151247179660111,
          0.4159500592786911
         ],
         "xaxis": "x",
         "y": [
          0.884375,
          0.9142513736263735,
          0.9160027472527472,
          0.890728021978022,
          0.8861950549450549,
          0.913804945054945,
          0.884375,
          0.5,
          0.884375,
          0.8985233516483515,
          0.9160027472527472,
          0.884375,
          0.884375,
          0.9160027472527472,
          0.9160027472527472,
          0.9160027472527472,
          0.9160027472527472,
          0.9160027472527472,
          0.9160027472527472,
          0.9160027472527472,
          0.9160027472527472,
          0.9160027472527472,
          0.9160027472527472,
          0.9160027472527472,
          0.9160027472527472,
          0.9160027472527472,
          0.9160027472527472,
          0.9160027472527472,
          0.9160027472527472,
          0.9160027472527472,
          0.9160027472527472,
          0.9160027472527472,
          0.9160027472527472,
          0.9160027472527472,
          0.9160027472527472,
          0.9100274725274726,
          0.9156593406593405,
          0.9164835164835164,
          0.8994162087912088,
          0.9160370879120879,
          0.9160027472527472,
          0.9160027472527472,
          0.9160027472527472,
          0.9155906593406593,
          0.9142513736263735,
          0.9138392857142857,
          0.9160027472527472,
          0.9160027472527472,
          0.9160027472527472,
          0.8866414835164835,
          0.9160370879120879,
          0.9160027472527472,
          0.9164835164835164,
          0.9160027472527472,
          0.9160027472527472,
          0.9160370879120879,
          0.9138392857142857,
          0.9160027472527472,
          0.9160027472527472,
          0.9155906593406593,
          0.9124656593406593,
          0.9142513736263735,
          0.9164835164835164,
          0.9160027472527472,
          0.8848214285714286,
          0.9133585164835164,
          0.9160370879120879,
          0.9076923076923077,
          0.884375,
          0.884375,
          0.9165521978021978,
          0.9165178571428572,
          0.9106112637362639,
          0.9124656593406593,
          0.9160027472527472,
          0.9194024725274726,
          0.9192994505494505,
          0.9202953296703296,
          0.9202953296703296,
          0.8985233516483518,
          0.9202953296703296,
          0.9054601648351646,
          0.9202953296703296,
          0.911092032967033,
          0.9202953296703296,
          0.9202953296703296,
          0.9202953296703296,
          0.9202953296703296,
          0.9202953296703296,
          0.9202953296703296,
          0.9202953296703296,
          0.9202953296703296,
          0.884375,
          0.9202953296703296,
          0.9202953296703296,
          0.9202953296703296,
          0.9202953296703296,
          0.9202953296703296,
          0.9202953296703296,
          0.9202953296703296
         ],
         "yaxis": "y"
        },
        {
         "marker": {
          "color": [
           0,
           1,
           2,
           3,
           4,
           5,
           6,
           7,
           8,
           9,
           10,
           11,
           12,
           13,
           14,
           15,
           16,
           17,
           18,
           19,
           20,
           21,
           22,
           23,
           24,
           25,
           26,
           27,
           28,
           29,
           30,
           31,
           32,
           33,
           34,
           35,
           36,
           37,
           38,
           39,
           40,
           41,
           42,
           43,
           44,
           45,
           46,
           47,
           48,
           49,
           50,
           51,
           52,
           53,
           54,
           55,
           56,
           57,
           58,
           59,
           60,
           61,
           62,
           63,
           64,
           65,
           66,
           67,
           68,
           69,
           70,
           71,
           72,
           73,
           74,
           75,
           76,
           77,
           78,
           79,
           80,
           81,
           82,
           83,
           84,
           85,
           86,
           87,
           88,
           89,
           90,
           91,
           92,
           93,
           94,
           95,
           96,
           97,
           98,
           99
          ],
          "colorbar": {
           "title": {
            "text": "Trial"
           },
           "x": 1,
           "xpad": 40
          },
          "colorscale": [
           [
            0,
            "rgb(247,251,255)"
           ],
           [
            0.125,
            "rgb(222,235,247)"
           ],
           [
            0.25,
            "rgb(198,219,239)"
           ],
           [
            0.375,
            "rgb(158,202,225)"
           ],
           [
            0.5,
            "rgb(107,174,214)"
           ],
           [
            0.625,
            "rgb(66,146,198)"
           ],
           [
            0.75,
            "rgb(33,113,181)"
           ],
           [
            0.875,
            "rgb(8,81,156)"
           ],
           [
            1,
            "rgb(8,48,107)"
           ]
          ],
          "line": {
           "color": "Grey",
           "width": 0.5
          },
          "showscale": false
         },
         "mode": "markers",
         "name": "Feasible Trial",
         "showlegend": false,
         "type": "scatter",
         "x": [
          "l2",
          "l1",
          "l2",
          "l2",
          "l1",
          "l2",
          "l2",
          "l1",
          "l1",
          "l2",
          "l2",
          "l2",
          "l1",
          "l1",
          "l2",
          "l2",
          "l2",
          "l1",
          "l2",
          "l2",
          "l2",
          "l1",
          "l1",
          "l2",
          "l2",
          "l1",
          "l2",
          "l2",
          "l2",
          "l2",
          "l2",
          "l2",
          "l1",
          "l2",
          "l2",
          "l2",
          "l2",
          "l2",
          "l1",
          "l1",
          "l1",
          "l2",
          "l1",
          "l2",
          "l2",
          "l1",
          "l2",
          "l2",
          "l1",
          "l2",
          "l2",
          "l1",
          "l1",
          "l1",
          "l1",
          "l2",
          "l2",
          "l2",
          "l1",
          "l1",
          "l2",
          "l2",
          "l1",
          "l1",
          "l1",
          "l2",
          "l1",
          "l1",
          "l2",
          "l2",
          "l1",
          "l1",
          "l1",
          "l2",
          "l2",
          "l1",
          "l1",
          "l1",
          "l1",
          "l2",
          "l1",
          "l2",
          "l1",
          "l1",
          "l1",
          "l1",
          "l1",
          "l1",
          "l1",
          "l1",
          "l1",
          "l1",
          "l2",
          "l1",
          "l1",
          "l1",
          "l1",
          "l1",
          "l1",
          "l1"
         ],
         "xaxis": "x2",
         "y": [
          0.884375,
          0.9142513736263735,
          0.9160027472527472,
          0.890728021978022,
          0.8861950549450549,
          0.913804945054945,
          0.884375,
          0.5,
          0.884375,
          0.8985233516483515,
          0.9160027472527472,
          0.884375,
          0.884375,
          0.9160027472527472,
          0.9160027472527472,
          0.9160027472527472,
          0.9160027472527472,
          0.9160027472527472,
          0.9160027472527472,
          0.9160027472527472,
          0.9160027472527472,
          0.9160027472527472,
          0.9160027472527472,
          0.9160027472527472,
          0.9160027472527472,
          0.9160027472527472,
          0.9160027472527472,
          0.9160027472527472,
          0.9160027472527472,
          0.9160027472527472,
          0.9160027472527472,
          0.9160027472527472,
          0.9160027472527472,
          0.9160027472527472,
          0.9160027472527472,
          0.9100274725274726,
          0.9156593406593405,
          0.9164835164835164,
          0.8994162087912088,
          0.9160370879120879,
          0.9160027472527472,
          0.9160027472527472,
          0.9160027472527472,
          0.9155906593406593,
          0.9142513736263735,
          0.9138392857142857,
          0.9160027472527472,
          0.9160027472527472,
          0.9160027472527472,
          0.8866414835164835,
          0.9160370879120879,
          0.9160027472527472,
          0.9164835164835164,
          0.9160027472527472,
          0.9160027472527472,
          0.9160370879120879,
          0.9138392857142857,
          0.9160027472527472,
          0.9160027472527472,
          0.9155906593406593,
          0.9124656593406593,
          0.9142513736263735,
          0.9164835164835164,
          0.9160027472527472,
          0.8848214285714286,
          0.9133585164835164,
          0.9160370879120879,
          0.9076923076923077,
          0.884375,
          0.884375,
          0.9165521978021978,
          0.9165178571428572,
          0.9106112637362639,
          0.9124656593406593,
          0.9160027472527472,
          0.9194024725274726,
          0.9192994505494505,
          0.9202953296703296,
          0.9202953296703296,
          0.8985233516483518,
          0.9202953296703296,
          0.9054601648351646,
          0.9202953296703296,
          0.911092032967033,
          0.9202953296703296,
          0.9202953296703296,
          0.9202953296703296,
          0.9202953296703296,
          0.9202953296703296,
          0.9202953296703296,
          0.9202953296703296,
          0.9202953296703296,
          0.884375,
          0.9202953296703296,
          0.9202953296703296,
          0.9202953296703296,
          0.9202953296703296,
          0.9202953296703296,
          0.9202953296703296,
          0.9202953296703296
         ],
         "yaxis": "y2"
        },
        {
         "marker": {
          "color": [
           0,
           1,
           2,
           3,
           4,
           5,
           6,
           7,
           8,
           9,
           10,
           11,
           12,
           13,
           14,
           15,
           16,
           17,
           18,
           19,
           20,
           21,
           22,
           23,
           24,
           25,
           26,
           27,
           28,
           29,
           30,
           31,
           32,
           33,
           34,
           35,
           36,
           37,
           38,
           39,
           40,
           41,
           42,
           43,
           44,
           45,
           46,
           47,
           48,
           49,
           50,
           51,
           52,
           53,
           54,
           55,
           56,
           57,
           58,
           59,
           60,
           61,
           62,
           63,
           64,
           65,
           66,
           67,
           68,
           69,
           70,
           71,
           72,
           73,
           74,
           75,
           76,
           77,
           78,
           79,
           80,
           81,
           82,
           83,
           84,
           85,
           86,
           87,
           88,
           89,
           90,
           91,
           92,
           93,
           94,
           95,
           96,
           97,
           98,
           99
          ],
          "colorbar": {
           "title": {
            "text": "Trial"
           },
           "x": 1,
           "xpad": 40
          },
          "colorscale": [
           [
            0,
            "rgb(247,251,255)"
           ],
           [
            0.125,
            "rgb(222,235,247)"
           ],
           [
            0.25,
            "rgb(198,219,239)"
           ],
           [
            0.375,
            "rgb(158,202,225)"
           ],
           [
            0.5,
            "rgb(107,174,214)"
           ],
           [
            0.625,
            "rgb(66,146,198)"
           ],
           [
            0.75,
            "rgb(33,113,181)"
           ],
           [
            0.875,
            "rgb(8,81,156)"
           ],
           [
            1,
            "rgb(8,48,107)"
           ]
          ],
          "line": {
           "color": "Grey",
           "width": 0.5
          },
          "showscale": false
         },
         "mode": "markers",
         "name": "Feasible Trial",
         "showlegend": false,
         "type": "scatter",
         "x": [
          "lbfgs",
          "saga",
          "saga",
          "lbfgs",
          "lbfgs",
          "liblinear",
          "liblinear",
          "liblinear",
          "lbfgs",
          "liblinear",
          "liblinear",
          "saga",
          "saga",
          "saga",
          "lbfgs",
          "liblinear",
          "saga",
          "saga",
          "saga",
          "liblinear",
          "lbfgs",
          "lbfgs",
          "saga",
          "saga",
          "liblinear",
          "lbfgs",
          "liblinear",
          "liblinear",
          "saga",
          "liblinear",
          "lbfgs",
          "liblinear",
          "lbfgs",
          "liblinear",
          "liblinear",
          "saga",
          "liblinear",
          "lbfgs",
          "saga",
          "lbfgs",
          "saga",
          "lbfgs",
          "lbfgs",
          "saga",
          "lbfgs",
          "lbfgs",
          "saga",
          "lbfgs",
          "liblinear",
          "saga",
          "lbfgs",
          "saga",
          "saga",
          "saga",
          "lbfgs",
          "liblinear",
          "saga",
          "lbfgs",
          "lbfgs",
          "lbfgs",
          "liblinear",
          "liblinear",
          "liblinear",
          "liblinear",
          "saga",
          "lbfgs",
          "saga",
          "lbfgs",
          "lbfgs",
          "liblinear",
          "liblinear",
          "liblinear",
          "saga",
          "lbfgs",
          "liblinear",
          "liblinear",
          "liblinear",
          "liblinear",
          "liblinear",
          "saga",
          "liblinear",
          "lbfgs",
          "liblinear",
          "lbfgs",
          "liblinear",
          "liblinear",
          "liblinear",
          "liblinear",
          "liblinear",
          "liblinear",
          "liblinear",
          "liblinear",
          "saga",
          "liblinear",
          "liblinear",
          "liblinear",
          "liblinear",
          "liblinear",
          "liblinear",
          "liblinear"
         ],
         "xaxis": "x3",
         "y": [
          0.884375,
          0.9142513736263735,
          0.9160027472527472,
          0.890728021978022,
          0.8861950549450549,
          0.913804945054945,
          0.884375,
          0.5,
          0.884375,
          0.8985233516483515,
          0.9160027472527472,
          0.884375,
          0.884375,
          0.9160027472527472,
          0.9160027472527472,
          0.9160027472527472,
          0.9160027472527472,
          0.9160027472527472,
          0.9160027472527472,
          0.9160027472527472,
          0.9160027472527472,
          0.9160027472527472,
          0.9160027472527472,
          0.9160027472527472,
          0.9160027472527472,
          0.9160027472527472,
          0.9160027472527472,
          0.9160027472527472,
          0.9160027472527472,
          0.9160027472527472,
          0.9160027472527472,
          0.9160027472527472,
          0.9160027472527472,
          0.9160027472527472,
          0.9160027472527472,
          0.9100274725274726,
          0.9156593406593405,
          0.9164835164835164,
          0.8994162087912088,
          0.9160370879120879,
          0.9160027472527472,
          0.9160027472527472,
          0.9160027472527472,
          0.9155906593406593,
          0.9142513736263735,
          0.9138392857142857,
          0.9160027472527472,
          0.9160027472527472,
          0.9160027472527472,
          0.8866414835164835,
          0.9160370879120879,
          0.9160027472527472,
          0.9164835164835164,
          0.9160027472527472,
          0.9160027472527472,
          0.9160370879120879,
          0.9138392857142857,
          0.9160027472527472,
          0.9160027472527472,
          0.9155906593406593,
          0.9124656593406593,
          0.9142513736263735,
          0.9164835164835164,
          0.9160027472527472,
          0.8848214285714286,
          0.9133585164835164,
          0.9160370879120879,
          0.9076923076923077,
          0.884375,
          0.884375,
          0.9165521978021978,
          0.9165178571428572,
          0.9106112637362639,
          0.9124656593406593,
          0.9160027472527472,
          0.9194024725274726,
          0.9192994505494505,
          0.9202953296703296,
          0.9202953296703296,
          0.8985233516483518,
          0.9202953296703296,
          0.9054601648351646,
          0.9202953296703296,
          0.911092032967033,
          0.9202953296703296,
          0.9202953296703296,
          0.9202953296703296,
          0.9202953296703296,
          0.9202953296703296,
          0.9202953296703296,
          0.9202953296703296,
          0.9202953296703296,
          0.884375,
          0.9202953296703296,
          0.9202953296703296,
          0.9202953296703296,
          0.9202953296703296,
          0.9202953296703296,
          0.9202953296703296,
          0.9202953296703296
         ],
         "yaxis": "y3"
        }
       ],
       "layout": {
        "template": {
         "data": {
          "bar": [
           {
            "error_x": {
             "color": "#2a3f5f"
            },
            "error_y": {
             "color": "#2a3f5f"
            },
            "marker": {
             "line": {
              "color": "#E5ECF6",
              "width": 0.5
             },
             "pattern": {
              "fillmode": "overlay",
              "size": 10,
              "solidity": 0.2
             }
            },
            "type": "bar"
           }
          ],
          "barpolar": [
           {
            "marker": {
             "line": {
              "color": "#E5ECF6",
              "width": 0.5
             },
             "pattern": {
              "fillmode": "overlay",
              "size": 10,
              "solidity": 0.2
             }
            },
            "type": "barpolar"
           }
          ],
          "carpet": [
           {
            "aaxis": {
             "endlinecolor": "#2a3f5f",
             "gridcolor": "white",
             "linecolor": "white",
             "minorgridcolor": "white",
             "startlinecolor": "#2a3f5f"
            },
            "baxis": {
             "endlinecolor": "#2a3f5f",
             "gridcolor": "white",
             "linecolor": "white",
             "minorgridcolor": "white",
             "startlinecolor": "#2a3f5f"
            },
            "type": "carpet"
           }
          ],
          "choropleth": [
           {
            "colorbar": {
             "outlinewidth": 0,
             "ticks": ""
            },
            "type": "choropleth"
           }
          ],
          "contour": [
           {
            "colorbar": {
             "outlinewidth": 0,
             "ticks": ""
            },
            "colorscale": [
             [
              0,
              "#0d0887"
             ],
             [
              0.1111111111111111,
              "#46039f"
             ],
             [
              0.2222222222222222,
              "#7201a8"
             ],
             [
              0.3333333333333333,
              "#9c179e"
             ],
             [
              0.4444444444444444,
              "#bd3786"
             ],
             [
              0.5555555555555556,
              "#d8576b"
             ],
             [
              0.6666666666666666,
              "#ed7953"
             ],
             [
              0.7777777777777778,
              "#fb9f3a"
             ],
             [
              0.8888888888888888,
              "#fdca26"
             ],
             [
              1,
              "#f0f921"
             ]
            ],
            "type": "contour"
           }
          ],
          "contourcarpet": [
           {
            "colorbar": {
             "outlinewidth": 0,
             "ticks": ""
            },
            "type": "contourcarpet"
           }
          ],
          "heatmap": [
           {
            "colorbar": {
             "outlinewidth": 0,
             "ticks": ""
            },
            "colorscale": [
             [
              0,
              "#0d0887"
             ],
             [
              0.1111111111111111,
              "#46039f"
             ],
             [
              0.2222222222222222,
              "#7201a8"
             ],
             [
              0.3333333333333333,
              "#9c179e"
             ],
             [
              0.4444444444444444,
              "#bd3786"
             ],
             [
              0.5555555555555556,
              "#d8576b"
             ],
             [
              0.6666666666666666,
              "#ed7953"
             ],
             [
              0.7777777777777778,
              "#fb9f3a"
             ],
             [
              0.8888888888888888,
              "#fdca26"
             ],
             [
              1,
              "#f0f921"
             ]
            ],
            "type": "heatmap"
           }
          ],
          "heatmapgl": [
           {
            "colorbar": {
             "outlinewidth": 0,
             "ticks": ""
            },
            "colorscale": [
             [
              0,
              "#0d0887"
             ],
             [
              0.1111111111111111,
              "#46039f"
             ],
             [
              0.2222222222222222,
              "#7201a8"
             ],
             [
              0.3333333333333333,
              "#9c179e"
             ],
             [
              0.4444444444444444,
              "#bd3786"
             ],
             [
              0.5555555555555556,
              "#d8576b"
             ],
             [
              0.6666666666666666,
              "#ed7953"
             ],
             [
              0.7777777777777778,
              "#fb9f3a"
             ],
             [
              0.8888888888888888,
              "#fdca26"
             ],
             [
              1,
              "#f0f921"
             ]
            ],
            "type": "heatmapgl"
           }
          ],
          "histogram": [
           {
            "marker": {
             "pattern": {
              "fillmode": "overlay",
              "size": 10,
              "solidity": 0.2
             }
            },
            "type": "histogram"
           }
          ],
          "histogram2d": [
           {
            "colorbar": {
             "outlinewidth": 0,
             "ticks": ""
            },
            "colorscale": [
             [
              0,
              "#0d0887"
             ],
             [
              0.1111111111111111,
              "#46039f"
             ],
             [
              0.2222222222222222,
              "#7201a8"
             ],
             [
              0.3333333333333333,
              "#9c179e"
             ],
             [
              0.4444444444444444,
              "#bd3786"
             ],
             [
              0.5555555555555556,
              "#d8576b"
             ],
             [
              0.6666666666666666,
              "#ed7953"
             ],
             [
              0.7777777777777778,
              "#fb9f3a"
             ],
             [
              0.8888888888888888,
              "#fdca26"
             ],
             [
              1,
              "#f0f921"
             ]
            ],
            "type": "histogram2d"
           }
          ],
          "histogram2dcontour": [
           {
            "colorbar": {
             "outlinewidth": 0,
             "ticks": ""
            },
            "colorscale": [
             [
              0,
              "#0d0887"
             ],
             [
              0.1111111111111111,
              "#46039f"
             ],
             [
              0.2222222222222222,
              "#7201a8"
             ],
             [
              0.3333333333333333,
              "#9c179e"
             ],
             [
              0.4444444444444444,
              "#bd3786"
             ],
             [
              0.5555555555555556,
              "#d8576b"
             ],
             [
              0.6666666666666666,
              "#ed7953"
             ],
             [
              0.7777777777777778,
              "#fb9f3a"
             ],
             [
              0.8888888888888888,
              "#fdca26"
             ],
             [
              1,
              "#f0f921"
             ]
            ],
            "type": "histogram2dcontour"
           }
          ],
          "mesh3d": [
           {
            "colorbar": {
             "outlinewidth": 0,
             "ticks": ""
            },
            "type": "mesh3d"
           }
          ],
          "parcoords": [
           {
            "line": {
             "colorbar": {
              "outlinewidth": 0,
              "ticks": ""
             }
            },
            "type": "parcoords"
           }
          ],
          "pie": [
           {
            "automargin": true,
            "type": "pie"
           }
          ],
          "scatter": [
           {
            "fillpattern": {
             "fillmode": "overlay",
             "size": 10,
             "solidity": 0.2
            },
            "type": "scatter"
           }
          ],
          "scatter3d": [
           {
            "line": {
             "colorbar": {
              "outlinewidth": 0,
              "ticks": ""
             }
            },
            "marker": {
             "colorbar": {
              "outlinewidth": 0,
              "ticks": ""
             }
            },
            "type": "scatter3d"
           }
          ],
          "scattercarpet": [
           {
            "marker": {
             "colorbar": {
              "outlinewidth": 0,
              "ticks": ""
             }
            },
            "type": "scattercarpet"
           }
          ],
          "scattergeo": [
           {
            "marker": {
             "colorbar": {
              "outlinewidth": 0,
              "ticks": ""
             }
            },
            "type": "scattergeo"
           }
          ],
          "scattergl": [
           {
            "marker": {
             "colorbar": {
              "outlinewidth": 0,
              "ticks": ""
             }
            },
            "type": "scattergl"
           }
          ],
          "scattermapbox": [
           {
            "marker": {
             "colorbar": {
              "outlinewidth": 0,
              "ticks": ""
             }
            },
            "type": "scattermapbox"
           }
          ],
          "scatterpolar": [
           {
            "marker": {
             "colorbar": {
              "outlinewidth": 0,
              "ticks": ""
             }
            },
            "type": "scatterpolar"
           }
          ],
          "scatterpolargl": [
           {
            "marker": {
             "colorbar": {
              "outlinewidth": 0,
              "ticks": ""
             }
            },
            "type": "scatterpolargl"
           }
          ],
          "scatterternary": [
           {
            "marker": {
             "colorbar": {
              "outlinewidth": 0,
              "ticks": ""
             }
            },
            "type": "scatterternary"
           }
          ],
          "surface": [
           {
            "colorbar": {
             "outlinewidth": 0,
             "ticks": ""
            },
            "colorscale": [
             [
              0,
              "#0d0887"
             ],
             [
              0.1111111111111111,
              "#46039f"
             ],
             [
              0.2222222222222222,
              "#7201a8"
             ],
             [
              0.3333333333333333,
              "#9c179e"
             ],
             [
              0.4444444444444444,
              "#bd3786"
             ],
             [
              0.5555555555555556,
              "#d8576b"
             ],
             [
              0.6666666666666666,
              "#ed7953"
             ],
             [
              0.7777777777777778,
              "#fb9f3a"
             ],
             [
              0.8888888888888888,
              "#fdca26"
             ],
             [
              1,
              "#f0f921"
             ]
            ],
            "type": "surface"
           }
          ],
          "table": [
           {
            "cells": {
             "fill": {
              "color": "#EBF0F8"
             },
             "line": {
              "color": "white"
             }
            },
            "header": {
             "fill": {
              "color": "#C8D4E3"
             },
             "line": {
              "color": "white"
             }
            },
            "type": "table"
           }
          ]
         },
         "layout": {
          "annotationdefaults": {
           "arrowcolor": "#2a3f5f",
           "arrowhead": 0,
           "arrowwidth": 1
          },
          "autotypenumbers": "strict",
          "coloraxis": {
           "colorbar": {
            "outlinewidth": 0,
            "ticks": ""
           }
          },
          "colorscale": {
           "diverging": [
            [
             0,
             "#8e0152"
            ],
            [
             0.1,
             "#c51b7d"
            ],
            [
             0.2,
             "#de77ae"
            ],
            [
             0.3,
             "#f1b6da"
            ],
            [
             0.4,
             "#fde0ef"
            ],
            [
             0.5,
             "#f7f7f7"
            ],
            [
             0.6,
             "#e6f5d0"
            ],
            [
             0.7,
             "#b8e186"
            ],
            [
             0.8,
             "#7fbc41"
            ],
            [
             0.9,
             "#4d9221"
            ],
            [
             1,
             "#276419"
            ]
           ],
           "sequential": [
            [
             0,
             "#0d0887"
            ],
            [
             0.1111111111111111,
             "#46039f"
            ],
            [
             0.2222222222222222,
             "#7201a8"
            ],
            [
             0.3333333333333333,
             "#9c179e"
            ],
            [
             0.4444444444444444,
             "#bd3786"
            ],
            [
             0.5555555555555556,
             "#d8576b"
            ],
            [
             0.6666666666666666,
             "#ed7953"
            ],
            [
             0.7777777777777778,
             "#fb9f3a"
            ],
            [
             0.8888888888888888,
             "#fdca26"
            ],
            [
             1,
             "#f0f921"
            ]
           ],
           "sequentialminus": [
            [
             0,
             "#0d0887"
            ],
            [
             0.1111111111111111,
             "#46039f"
            ],
            [
             0.2222222222222222,
             "#7201a8"
            ],
            [
             0.3333333333333333,
             "#9c179e"
            ],
            [
             0.4444444444444444,
             "#bd3786"
            ],
            [
             0.5555555555555556,
             "#d8576b"
            ],
            [
             0.6666666666666666,
             "#ed7953"
            ],
            [
             0.7777777777777778,
             "#fb9f3a"
            ],
            [
             0.8888888888888888,
             "#fdca26"
            ],
            [
             1,
             "#f0f921"
            ]
           ]
          },
          "colorway": [
           "#636efa",
           "#EF553B",
           "#00cc96",
           "#ab63fa",
           "#FFA15A",
           "#19d3f3",
           "#FF6692",
           "#B6E880",
           "#FF97FF",
           "#FECB52"
          ],
          "font": {
           "color": "#2a3f5f"
          },
          "geo": {
           "bgcolor": "white",
           "lakecolor": "white",
           "landcolor": "#E5ECF6",
           "showlakes": true,
           "showland": true,
           "subunitcolor": "white"
          },
          "hoverlabel": {
           "align": "left"
          },
          "hovermode": "closest",
          "mapbox": {
           "style": "light"
          },
          "paper_bgcolor": "white",
          "plot_bgcolor": "#E5ECF6",
          "polar": {
           "angularaxis": {
            "gridcolor": "white",
            "linecolor": "white",
            "ticks": ""
           },
           "bgcolor": "#E5ECF6",
           "radialaxis": {
            "gridcolor": "white",
            "linecolor": "white",
            "ticks": ""
           }
          },
          "scene": {
           "xaxis": {
            "backgroundcolor": "#E5ECF6",
            "gridcolor": "white",
            "gridwidth": 2,
            "linecolor": "white",
            "showbackground": true,
            "ticks": "",
            "zerolinecolor": "white"
           },
           "yaxis": {
            "backgroundcolor": "#E5ECF6",
            "gridcolor": "white",
            "gridwidth": 2,
            "linecolor": "white",
            "showbackground": true,
            "ticks": "",
            "zerolinecolor": "white"
           },
           "zaxis": {
            "backgroundcolor": "#E5ECF6",
            "gridcolor": "white",
            "gridwidth": 2,
            "linecolor": "white",
            "showbackground": true,
            "ticks": "",
            "zerolinecolor": "white"
           }
          },
          "shapedefaults": {
           "line": {
            "color": "#2a3f5f"
           }
          },
          "ternary": {
           "aaxis": {
            "gridcolor": "white",
            "linecolor": "white",
            "ticks": ""
           },
           "baxis": {
            "gridcolor": "white",
            "linecolor": "white",
            "ticks": ""
           },
           "bgcolor": "#E5ECF6",
           "caxis": {
            "gridcolor": "white",
            "linecolor": "white",
            "ticks": ""
           }
          },
          "title": {
           "x": 0.05
          },
          "xaxis": {
           "automargin": true,
           "gridcolor": "white",
           "linecolor": "white",
           "ticks": "",
           "title": {
            "standoff": 15
           },
           "zerolinecolor": "white",
           "zerolinewidth": 2
          },
          "yaxis": {
           "automargin": true,
           "gridcolor": "white",
           "linecolor": "white",
           "ticks": "",
           "title": {
            "standoff": 15
           },
           "zerolinecolor": "white",
           "zerolinewidth": 2
          }
         }
        },
        "title": {
         "text": "Slice Plot"
        },
        "xaxis": {
         "anchor": "y",
         "domain": [
          0,
          0.2888888888888889
         ],
         "title": {
          "text": "C"
         },
         "type": "log"
        },
        "xaxis2": {
         "anchor": "y2",
         "categoryarray": [
          "l1",
          "l2"
         ],
         "categoryorder": "array",
         "domain": [
          0.35555555555555557,
          0.6444444444444445
         ],
         "title": {
          "text": "penalty"
         },
         "type": "category"
        },
        "xaxis3": {
         "anchor": "y3",
         "categoryarray": [
          "liblinear",
          "lbfgs",
          "saga"
         ],
         "categoryorder": "array",
         "domain": [
          0.7111111111111111,
          1
         ],
         "title": {
          "text": "solver"
         },
         "type": "category"
        },
        "yaxis": {
         "anchor": "x",
         "domain": [
          0,
          1
         ],
         "title": {
          "text": "Objective Value"
         }
        },
        "yaxis2": {
         "anchor": "x2",
         "domain": [
          0,
          1
         ],
         "matches": "y",
         "showticklabels": false
        },
        "yaxis3": {
         "anchor": "x3",
         "domain": [
          0,
          1
         ],
         "matches": "y",
         "showticklabels": false
        }
       }
      }
     },
     "metadata": {},
     "output_type": "display_data"
    }
   ],
   "source": [
    "optuna.visualization.plot_slice(study)"
   ]
  },
  {
   "cell_type": "code",
   "execution_count": 9,
   "metadata": {},
   "outputs": [
    {
     "name": "stdout",
     "output_type": "stream",
     "text": [
      "Accuracy: 0.8549 ± 0.0530\n",
      "AUC-ROC: 0.9203 ± 0.0323\n"
     ]
    }
   ],
   "source": [
    "# Create optimized model\n",
    "best_params = trial.params\n",
    "model = LogisticRegression(random_state=Random_Seed, **best_params)\n",
    "\n",
    "# Define pipeline depending on whether PCA is requested or not\n",
    "if PC_Features:\n",
    "    steps = [\n",
    "        ('preprocessor', preprocessor),\n",
    "        ('pca', PCA(n_components=12)),\n",
    "        ('LR-classifier', model)\n",
    "    ]\n",
    "else:\n",
    "    steps = [\n",
    "        ('preprocessor', preprocessor),\n",
    "        ('LR-classifier', model)\n",
    "    ]\n",
    "    \n",
    "pipeline = Pipeline(steps)\n",
    "\n",
    "# Perform cross-validation\n",
    "cv_results = cross_validate(pipeline, X, y, scoring=['accuracy', 'roc_auc'], cv=K_Folds)\n",
    "\n",
    "# Calculate and display results\n",
    "acc = np.mean(cv_results['test_accuracy'])\n",
    "acc_std = np.std(cv_results['test_accuracy'])\n",
    "roc_auc = np.mean(cv_results['test_roc_auc'])\n",
    "roc_auc_std = np.std(cv_results['test_roc_auc'])\n",
    "\n",
    "print(f\"Accuracy: {acc:.4f} ± {acc_std:.4f}\")\n",
    "print(f\"AUC-ROC: {roc_auc:.4f} ± {roc_auc_std:.4f}\")\n",
    "\n",
    "# Stop emission tracking\n",
    "_ = tracker.stop()"
   ]
  },
  {
   "cell_type": "code",
   "execution_count": 10,
   "metadata": {},
   "outputs": [],
   "source": [
    "# Save evaluation to an external file\n",
    "file = 'scores.csv'\n",
    "\n",
    "results = pd.DataFrame({\n",
    "    'LR-optimization': [acc, acc_std, roc_auc, roc_auc_std]\n",
    "}, index = ['Accuracy', 'Accuracy STD', 'AUC-ROC', 'AUC-ROC STD'])\n",
    "\n",
    "# Check if file exists\n",
    "if os.path.exists(file):\n",
    "    temp = pd.read_csv(file, index_col=0)\n",
    "    results = pd.concat([temp, results], axis=1)\n",
    "\n",
    "# Export\n",
    "results.to_csv(file)"
   ]
  },
  {
   "attachments": {},
   "cell_type": "markdown",
   "metadata": {},
   "source": [
    "<hr>\n",
    "\n",
    "## Decision Tree:"
   ]
  },
  {
   "cell_type": "code",
   "execution_count": 11,
   "metadata": {},
   "outputs": [
    {
     "name": "stderr",
     "output_type": "stream",
     "text": [
      "[codecarbon WARNING @ 17:09:52] No CPU tracking mode found. Falling back on CPU constant mode. \n",
      " Linux OS detected: Please ensure RAPL files exist at \\sys\\class\\powercap\\intel-rapl to measure CPU\n",
      "\n"
     ]
    },
    {
     "name": "stdout",
     "output_type": "stream",
     "text": [
      "Accuracy: 0.7572 ± 0.0554\n",
      "AUC-ROC: 0.7552 ± 0.0592\n"
     ]
    }
   ],
   "source": [
    "# ---------------------------------------------------------------------------- #\n",
    "#                                     MODEL                                    #\n",
    "# ---------------------------------------------------------------------------- #\n",
    "\n",
    "# Initiate CodeCarbon to track emissions\n",
    "tracker = EmissionsTracker('DT model', log_level='warning')\n",
    "tracker.start()\n",
    "\n",
    "# Create model\n",
    "model = tree.DecisionTreeClassifier(random_state=Random_Seed)\n",
    "\n",
    "# Define pipeline depending on whether PCA is requested or not\n",
    "if PC_Features:\n",
    "    steps = [\n",
    "        ('preprocessor', preprocessor),\n",
    "        ('pca', PCA(n_components=12)),\n",
    "        ('DT-classifier', model)\n",
    "    ]\n",
    "else:\n",
    "    steps = [\n",
    "        ('preprocessor', preprocessor),\n",
    "        ('DT-classifier', model)\n",
    "    ]\n",
    "    \n",
    "pipeline = Pipeline(steps)\n",
    "\n",
    "# Perform cross-validation\n",
    "cv_results = cross_validate(pipeline, X, y, scoring=['accuracy', 'roc_auc'], cv=K_Folds)\n",
    "\n",
    "# Calculate and display results\n",
    "acc = np.mean(cv_results['test_accuracy'])\n",
    "acc_std = np.std(cv_results['test_accuracy'])\n",
    "roc_auc = np.mean(cv_results['test_roc_auc'])\n",
    "roc_auc_std = np.std(cv_results['test_roc_auc'])\n",
    "\n",
    "print(f\"Accuracy: {acc:.4f} ± {acc_std:.4f}\")\n",
    "print(f\"AUC-ROC: {roc_auc:.4f} ± {roc_auc_std:.4f}\")\n",
    "\n",
    "# Stop emission tracking\n",
    "_ = tracker.stop()"
   ]
  },
  {
   "cell_type": "code",
   "execution_count": 12,
   "metadata": {},
   "outputs": [],
   "source": [
    "# Save evaluation to an external file\n",
    "file = 'scores.csv'\n",
    "\n",
    "results = pd.DataFrame({\n",
    "    'DT-model': [acc, acc_std, roc_auc, roc_auc_std]\n",
    "}, index = ['Accuracy', 'Accuracy STD', 'AUC-ROC', 'AUC-ROC STD'])\n",
    "\n",
    "# Check if file exists\n",
    "if os.path.exists(file):\n",
    "    temp = pd.read_csv(file, index_col=0)\n",
    "    results = pd.concat([temp, results], axis=1)\n",
    "\n",
    "# Export\n",
    "results.to_csv(file)"
   ]
  },
  {
   "cell_type": "code",
   "execution_count": 13,
   "metadata": {},
   "outputs": [
    {
     "name": "stderr",
     "output_type": "stream",
     "text": [
      "[codecarbon WARNING @ 17:09:57] No CPU tracking mode found. Falling back on CPU constant mode. \n",
      " Linux OS detected: Please ensure RAPL files exist at \\sys\\class\\powercap\\intel-rapl to measure CPU\n",
      "\n",
      "/tmp/ipykernel_134175/2681190905.py:46: ExperimentalWarning:\n",
      "\n",
      "GPSampler is experimental (supported from v3.6.0). The interface can change in the future.\n",
      "\n",
      "[I 2024-11-19 17:10:02,150] A new study created in memory with name: no-name-dac4126b-78e5-4ea9-8ef6-607470faf59e\n",
      "[I 2024-11-19 17:10:02,257] Trial 0 finished with value: 0.8046188186813186 and parameters: {'max_depth': 23, 'min_samples_split': 15, 'min_samples_leaf': 12, 'criterion': 'entropy'}. Best is trial 0 with value: 0.8046188186813186.\n",
      "[I 2024-11-19 17:10:02,363] Trial 1 finished with value: 0.79323489010989 and parameters: {'max_depth': 13, 'min_samples_split': 10, 'min_samples_leaf': 2, 'criterion': 'entropy'}. Best is trial 0 with value: 0.8046188186813186.\n",
      "[I 2024-11-19 17:10:02,465] Trial 2 finished with value: 0.855099587912088 and parameters: {'max_depth': 16, 'min_samples_split': 16, 'min_samples_leaf': 5, 'criterion': 'gini'}. Best is trial 2 with value: 0.855099587912088.\n",
      "[I 2024-11-19 17:10:02,566] Trial 3 finished with value: 0.8124484890109891 and parameters: {'max_depth': 9, 'min_samples_split': 12, 'min_samples_leaf': 14, 'criterion': 'entropy'}. Best is trial 2 with value: 0.855099587912088.\n",
      "[I 2024-11-19 17:10:02,664] Trial 4 finished with value: 0.8286057692307691 and parameters: {'max_depth': 10, 'min_samples_split': 10, 'min_samples_leaf': 17, 'criterion': 'gini'}. Best is trial 2 with value: 0.855099587912088.\n",
      "[I 2024-11-19 17:10:02,766] Trial 5 finished with value: 0.8210164835164836 and parameters: {'max_depth': 8, 'min_samples_split': 5, 'min_samples_leaf': 13, 'criterion': 'entropy'}. Best is trial 2 with value: 0.855099587912088.\n",
      "[I 2024-11-19 17:10:02,868] Trial 6 finished with value: 0.8215659340659341 and parameters: {'max_depth': 5, 'min_samples_split': 15, 'min_samples_leaf': 13, 'criterion': 'entropy'}. Best is trial 2 with value: 0.855099587912088.\n",
      "[I 2024-11-19 17:10:02,969] Trial 7 finished with value: 0.8211881868131868 and parameters: {'max_depth': 25, 'min_samples_split': 18, 'min_samples_leaf': 15, 'criterion': 'gini'}. Best is trial 2 with value: 0.855099587912088.\n",
      "[I 2024-11-19 17:10:03,073] Trial 8 finished with value: 0.8192479395604396 and parameters: {'max_depth': 5, 'min_samples_split': 20, 'min_samples_leaf': 12, 'criterion': 'gini'}. Best is trial 2 with value: 0.855099587912088.\n",
      "[I 2024-11-19 17:10:03,176] Trial 9 finished with value: 0.8444024725274725 and parameters: {'max_depth': 14, 'min_samples_split': 15, 'min_samples_leaf': 5, 'criterion': 'gini'}. Best is trial 2 with value: 0.855099587912088.\n",
      "[I 2024-11-19 17:10:03,477] Trial 10 finished with value: 0.8360405219780219 and parameters: {'max_depth': 18, 'min_samples_split': 20, 'min_samples_leaf': 1, 'criterion': 'gini'}. Best is trial 2 with value: 0.855099587912088.\n",
      "[I 2024-11-19 17:10:03,808] Trial 11 finished with value: 0.8229739010989011 and parameters: {'max_depth': 22, 'min_samples_split': 11, 'min_samples_leaf': 6, 'criterion': 'gini'}. Best is trial 2 with value: 0.855099587912088.\n",
      "[I 2024-11-19 17:10:04,137] Trial 12 finished with value: 0.8277987637362637 and parameters: {'max_depth': 16, 'min_samples_split': 20, 'min_samples_leaf': 15, 'criterion': 'gini'}. Best is trial 2 with value: 0.855099587912088.\n",
      "[I 2024-11-19 17:10:04,451] Trial 13 finished with value: 0.7585336538461538 and parameters: {'max_depth': 14, 'min_samples_split': 2, 'min_samples_leaf': 2, 'criterion': 'gini'}. Best is trial 2 with value: 0.855099587912088.\n",
      "[I 2024-11-19 17:10:04,743] Trial 14 finished with value: 0.8473557692307694 and parameters: {'max_depth': 23, 'min_samples_split': 20, 'min_samples_leaf': 5, 'criterion': 'gini'}. Best is trial 2 with value: 0.855099587912088.\n",
      "[I 2024-11-19 17:10:05,059] Trial 15 finished with value: 0.749896978021978 and parameters: {'max_depth': 1, 'min_samples_split': 19, 'min_samples_leaf': 5, 'criterion': 'gini'}. Best is trial 2 with value: 0.855099587912088.\n",
      "[I 2024-11-19 17:10:05,368] Trial 16 finished with value: 0.8319368131868131 and parameters: {'max_depth': 17, 'min_samples_split': 20, 'min_samples_leaf': 6, 'criterion': 'gini'}. Best is trial 2 with value: 0.855099587912088.\n",
      "[I 2024-11-19 17:10:05,726] Trial 17 finished with value: 0.8525583791208792 and parameters: {'max_depth': 21, 'min_samples_split': 16, 'min_samples_leaf': 4, 'criterion': 'gini'}. Best is trial 2 with value: 0.855099587912088.\n",
      "[I 2024-11-19 17:10:06,016] Trial 18 finished with value: 0.8381868131868131 and parameters: {'max_depth': 32, 'min_samples_split': 20, 'min_samples_leaf': 1, 'criterion': 'gini'}. Best is trial 2 with value: 0.855099587912088.\n",
      "[I 2024-11-19 17:10:06,334] Trial 19 finished with value: 0.749896978021978 and parameters: {'max_depth': 1, 'min_samples_split': 19, 'min_samples_leaf': 20, 'criterion': 'gini'}. Best is trial 2 with value: 0.855099587912088.\n",
      "[I 2024-11-19 17:10:06,669] Trial 20 finished with value: 0.8444196428571429 and parameters: {'max_depth': 18, 'min_samples_split': 2, 'min_samples_leaf': 20, 'criterion': 'gini'}. Best is trial 2 with value: 0.855099587912088.\n",
      "[I 2024-11-19 17:10:06,965] Trial 21 finished with value: 0.8395604395604396 and parameters: {'max_depth': 4, 'min_samples_split': 2, 'min_samples_leaf': 20, 'criterion': 'gini'}. Best is trial 2 with value: 0.855099587912088.\n",
      "[I 2024-11-19 17:10:07,300] Trial 22 finished with value: 0.8435267857142857 and parameters: {'max_depth': 32, 'min_samples_split': 2, 'min_samples_leaf': 20, 'criterion': 'gini'}. Best is trial 2 with value: 0.855099587912088.\n",
      "[I 2024-11-19 17:10:07,608] Trial 23 finished with value: 0.8394917582417583 and parameters: {'max_depth': 19, 'min_samples_split': 16, 'min_samples_leaf': 6, 'criterion': 'gini'}. Best is trial 2 with value: 0.855099587912088.\n",
      "[I 2024-11-19 17:10:07,916] Trial 24 finished with value: 0.8187843406593407 and parameters: {'max_depth': 24, 'min_samples_split': 2, 'min_samples_leaf': 16, 'criterion': 'gini'}. Best is trial 2 with value: 0.855099587912088.\n",
      "[I 2024-11-19 17:10:08,237] Trial 25 finished with value: 0.8307348901098901 and parameters: {'max_depth': 32, 'min_samples_split': 11, 'min_samples_leaf': 20, 'criterion': 'entropy'}. Best is trial 2 with value: 0.855099587912088.\n",
      "[I 2024-11-19 17:10:08,629] Trial 26 finished with value: 0.826098901098901 and parameters: {'max_depth': 23, 'min_samples_split': 20, 'min_samples_leaf': 3, 'criterion': 'entropy'}. Best is trial 2 with value: 0.855099587912088.\n",
      "[I 2024-11-19 17:10:08,963] Trial 27 finished with value: 0.8459306318681319 and parameters: {'max_depth': 18, 'min_samples_split': 17, 'min_samples_leaf': 4, 'criterion': 'gini'}. Best is trial 2 with value: 0.855099587912088.\n",
      "[I 2024-11-19 17:10:09,267] Trial 28 finished with value: 0.8288804945054945 and parameters: {'max_depth': 12, 'min_samples_split': 2, 'min_samples_leaf': 20, 'criterion': 'entropy'}. Best is trial 2 with value: 0.855099587912088.\n",
      "[I 2024-11-19 17:10:09,558] Trial 29 finished with value: 0.749896978021978 and parameters: {'max_depth': 1, 'min_samples_split': 2, 'min_samples_leaf': 15, 'criterion': 'gini'}. Best is trial 2 with value: 0.855099587912088.\n",
      "[I 2024-11-19 17:10:09,842] Trial 30 finished with value: 0.8418612637362637 and parameters: {'max_depth': 21, 'min_samples_split': 10, 'min_samples_leaf': 20, 'criterion': 'gini'}. Best is trial 2 with value: 0.855099587912088.\n"
     ]
    },
    {
     "name": "stderr",
     "output_type": "stream",
     "text": [
      "[I 2024-11-19 17:10:10,222] Trial 31 finished with value: 0.8403674450549451 and parameters: {'max_depth': 32, 'min_samples_split': 20, 'min_samples_leaf': 20, 'criterion': 'gini'}. Best is trial 2 with value: 0.855099587912088.\n",
      "[I 2024-11-19 17:10:10,542] Trial 32 finished with value: 0.8482142857142858 and parameters: {'max_depth': 32, 'min_samples_split': 20, 'min_samples_leaf': 5, 'criterion': 'gini'}. Best is trial 2 with value: 0.855099587912088.\n",
      "[I 2024-11-19 17:10:10,879] Trial 33 finished with value: 0.8399553571428573 and parameters: {'max_depth': 32, 'min_samples_split': 10, 'min_samples_leaf': 20, 'criterion': 'gini'}. Best is trial 2 with value: 0.855099587912088.\n",
      "[I 2024-11-19 17:10:11,260] Trial 34 finished with value: 0.8408138736263735 and parameters: {'max_depth': 12, 'min_samples_split': 5, 'min_samples_leaf': 20, 'criterion': 'gini'}. Best is trial 2 with value: 0.855099587912088.\n",
      "[I 2024-11-19 17:10:11,642] Trial 35 finished with value: 0.834271978021978 and parameters: {'max_depth': 26, 'min_samples_split': 20, 'min_samples_leaf': 3, 'criterion': 'gini'}. Best is trial 2 with value: 0.855099587912088.\n",
      "[I 2024-11-19 17:10:11,994] Trial 36 finished with value: 0.8338427197802197 and parameters: {'max_depth': 24, 'min_samples_split': 12, 'min_samples_leaf': 18, 'criterion': 'gini'}. Best is trial 2 with value: 0.855099587912088.\n",
      "[I 2024-11-19 17:10:12,384] Trial 37 finished with value: 0.810370879120879 and parameters: {'max_depth': 32, 'min_samples_split': 20, 'min_samples_leaf': 7, 'criterion': 'entropy'}. Best is trial 2 with value: 0.855099587912088.\n",
      "[I 2024-11-19 17:10:12,734] Trial 38 finished with value: 0.8302884615384617 and parameters: {'max_depth': 32, 'min_samples_split': 2, 'min_samples_leaf': 20, 'criterion': 'entropy'}. Best is trial 2 with value: 0.855099587912088.\n",
      "[I 2024-11-19 17:10:13,073] Trial 39 finished with value: 0.8518028846153847 and parameters: {'max_depth': 20, 'min_samples_split': 16, 'min_samples_leaf': 5, 'criterion': 'gini'}. Best is trial 2 with value: 0.855099587912088.\n",
      "[I 2024-11-19 17:10:13,431] Trial 40 finished with value: 0.8009958791208792 and parameters: {'max_depth': 9, 'min_samples_split': 2, 'min_samples_leaf': 10, 'criterion': 'entropy'}. Best is trial 2 with value: 0.855099587912088.\n",
      "[I 2024-11-19 17:10:13,772] Trial 41 finished with value: 0.8542410714285713 and parameters: {'max_depth': 32, 'min_samples_split': 14, 'min_samples_leaf': 4, 'criterion': 'gini'}. Best is trial 2 with value: 0.855099587912088.\n",
      "[I 2024-11-19 17:10:14,081] Trial 42 finished with value: 0.8054429945054945 and parameters: {'max_depth': 32, 'min_samples_split': 10, 'min_samples_leaf': 1, 'criterion': 'gini'}. Best is trial 2 with value: 0.855099587912088.\n",
      "[I 2024-11-19 17:10:14,405] Trial 43 finished with value: 0.8500515109890111 and parameters: {'max_depth': 32, 'min_samples_split': 17, 'min_samples_leaf': 4, 'criterion': 'gini'}. Best is trial 2 with value: 0.855099587912088.\n",
      "[I 2024-11-19 17:10:14,767] Trial 44 finished with value: 0.8466346153846154 and parameters: {'max_depth': 32, 'min_samples_split': 14, 'min_samples_leaf': 5, 'criterion': 'gini'}. Best is trial 2 with value: 0.855099587912088.\n",
      "[I 2024-11-19 17:10:15,075] Trial 45 finished with value: 0.8099759615384616 and parameters: {'max_depth': 32, 'min_samples_split': 13, 'min_samples_leaf': 4, 'criterion': 'entropy'}. Best is trial 2 with value: 0.855099587912088.\n",
      "[I 2024-11-19 17:10:15,455] Trial 46 finished with value: 0.8239354395604396 and parameters: {'max_depth': 32, 'min_samples_split': 20, 'min_samples_leaf': 18, 'criterion': 'entropy'}. Best is trial 2 with value: 0.855099587912088.\n",
      "[I 2024-11-19 17:10:15,800] Trial 47 finished with value: 0.8270260989010989 and parameters: {'max_depth': 32, 'min_samples_split': 2, 'min_samples_leaf': 13, 'criterion': 'entropy'}. Best is trial 2 with value: 0.855099587912088.\n",
      "[I 2024-11-19 17:10:16,108] Trial 48 finished with value: 0.8555803571428571 and parameters: {'max_depth': 27, 'min_samples_split': 15, 'min_samples_leaf': 4, 'criterion': 'gini'}. Best is trial 48 with value: 0.8555803571428571.\n",
      "[I 2024-11-19 17:10:16,441] Trial 49 finished with value: 0.840625 and parameters: {'max_depth': 32, 'min_samples_split': 2, 'min_samples_leaf': 17, 'criterion': 'entropy'}. Best is trial 48 with value: 0.8555803571428571.\n",
      "[I 2024-11-19 17:10:16,784] Trial 50 finished with value: 0.8519574175824177 and parameters: {'max_depth': 26, 'min_samples_split': 15, 'min_samples_leaf': 4, 'criterion': 'gini'}. Best is trial 48 with value: 0.8555803571428571.\n",
      "[I 2024-11-19 17:10:17,118] Trial 51 finished with value: 0.8412259615384615 and parameters: {'max_depth': 21, 'min_samples_split': 6, 'min_samples_leaf': 17, 'criterion': 'entropy'}. Best is trial 48 with value: 0.8555803571428571.\n",
      "[I 2024-11-19 17:10:17,445] Trial 52 finished with value: 0.840315934065934 and parameters: {'max_depth': 32, 'min_samples_split': 8, 'min_samples_leaf': 16, 'criterion': 'entropy'}. Best is trial 48 with value: 0.8555803571428571.\n",
      "[I 2024-11-19 17:10:17,802] Trial 53 finished with value: 0.8337568681318681 and parameters: {'max_depth': 25, 'min_samples_split': 5, 'min_samples_leaf': 19, 'criterion': 'gini'}. Best is trial 48 with value: 0.8555803571428571.\n",
      "[I 2024-11-19 17:10:18,199] Trial 54 finished with value: 0.8253090659340658 and parameters: {'max_depth': 32, 'min_samples_split': 20, 'min_samples_leaf': 1, 'criterion': 'entropy'}. Best is trial 48 with value: 0.8555803571428571.\n",
      "[I 2024-11-19 17:10:18,603] Trial 55 finished with value: 0.8266826923076923 and parameters: {'max_depth': 23, 'min_samples_split': 2, 'min_samples_leaf': 15, 'criterion': 'entropy'}. Best is trial 48 with value: 0.8555803571428571.\n",
      "[I 2024-11-19 17:10:18,962] Trial 56 finished with value: 0.8254979395604396 and parameters: {'max_depth': 17, 'min_samples_split': 12, 'min_samples_leaf': 18, 'criterion': 'entropy'}. Best is trial 48 with value: 0.8555803571428571.\n",
      "[I 2024-11-19 17:10:19,297] Trial 57 finished with value: 0.8458962912087913 and parameters: {'max_depth': 26, 'min_samples_split': 17, 'min_samples_leaf': 5, 'criterion': 'gini'}. Best is trial 48 with value: 0.8555803571428571.\n",
      "[I 2024-11-19 17:10:19,608] Trial 58 finished with value: 0.810731456043956 and parameters: {'max_depth': 32, 'min_samples_split': 2, 'min_samples_leaf': 10, 'criterion': 'gini'}. Best is trial 48 with value: 0.8555803571428571.\n",
      "[I 2024-11-19 17:10:19,934] Trial 59 finished with value: 0.8518715659340659 and parameters: {'max_depth': 20, 'min_samples_split': 14, 'min_samples_leaf': 4, 'criterion': 'gini'}. Best is trial 48 with value: 0.8555803571428571.\n",
      "[I 2024-11-19 17:10:20,287] Trial 60 finished with value: 0.8463770604395604 and parameters: {'max_depth': 28, 'min_samples_split': 13, 'min_samples_leaf': 4, 'criterion': 'gini'}. Best is trial 48 with value: 0.8555803571428571.\n",
      "[I 2024-11-19 17:10:20,593] Trial 61 finished with value: 0.8165350274725276 and parameters: {'max_depth': 32, 'min_samples_split': 20, 'min_samples_leaf': 10, 'criterion': 'gini'}. Best is trial 48 with value: 0.8555803571428571.\n",
      "[I 2024-11-19 17:10:20,933] Trial 62 finished with value: 0.8427712912087912 and parameters: {'max_depth': 32, 'min_samples_split': 15, 'min_samples_leaf': 3, 'criterion': 'gini'}. Best is trial 48 with value: 0.8555803571428571.\n",
      "[I 2024-11-19 17:10:21,279] Trial 63 finished with value: 0.823385989010989 and parameters: {'max_depth': 11, 'min_samples_split': 20, 'min_samples_leaf': 1, 'criterion': 'entropy'}. Best is trial 48 with value: 0.8555803571428571.\n",
      "[I 2024-11-19 17:10:21,609] Trial 64 finished with value: 0.8319711538461538 and parameters: {'max_depth': 32, 'min_samples_split': 8, 'min_samples_leaf': 14, 'criterion': 'gini'}. Best is trial 48 with value: 0.8555803571428571.\n",
      "[I 2024-11-19 17:10:21,896] Trial 65 finished with value: 0.7235576923076923 and parameters: {'max_depth': 1, 'min_samples_split': 20, 'min_samples_leaf': 14, 'criterion': 'entropy'}. Best is trial 48 with value: 0.8555803571428571.\n",
      "[I 2024-11-19 17:10:22,220] Trial 66 finished with value: 0.8188358516483516 and parameters: {'max_depth': 9, 'min_samples_split': 14, 'min_samples_leaf': 11, 'criterion': 'gini'}. Best is trial 48 with value: 0.8555803571428571.\n",
      "[I 2024-11-19 17:10:22,525] Trial 67 finished with value: 0.7235576923076923 and parameters: {'max_depth': 1, 'min_samples_split': 7, 'min_samples_leaf': 20, 'criterion': 'entropy'}. Best is trial 48 with value: 0.8555803571428571.\n",
      "[I 2024-11-19 17:10:22,882] Trial 68 finished with value: 0.8411916208791208 and parameters: {'max_depth': 7, 'min_samples_split': 2, 'min_samples_leaf': 20, 'criterion': 'gini'}. Best is trial 48 with value: 0.8555803571428571.\n",
      "[I 2024-11-19 17:10:23,217] Trial 69 finished with value: 0.8343578296703298 and parameters: {'max_depth': 21, 'min_samples_split': 16, 'min_samples_leaf': 1, 'criterion': 'gini'}. Best is trial 48 with value: 0.8555803571428571.\n",
      "[I 2024-11-19 17:10:23,596] Trial 70 finished with value: 0.826201923076923 and parameters: {'max_depth': 21, 'min_samples_split': 2, 'min_samples_leaf': 20, 'criterion': 'entropy'}. Best is trial 48 with value: 0.8555803571428571.\n",
      "[I 2024-11-19 17:10:23,975] Trial 71 finished with value: 0.8426339285714285 and parameters: {'max_depth': 28, 'min_samples_split': 20, 'min_samples_leaf': 20, 'criterion': 'gini'}. Best is trial 48 with value: 0.8555803571428571.\n",
      "[I 2024-11-19 17:10:24,327] Trial 72 finished with value: 0.8393028846153845 and parameters: {'max_depth': 12, 'min_samples_split': 20, 'min_samples_leaf': 20, 'criterion': 'gini'}. Best is trial 48 with value: 0.8555803571428571.\n",
      "[I 2024-11-19 17:10:24,662] Trial 73 finished with value: 0.8206387362637362 and parameters: {'max_depth': 17, 'min_samples_split': 2, 'min_samples_leaf': 15, 'criterion': 'gini'}. Best is trial 48 with value: 0.8555803571428571.\n",
      "[I 2024-11-19 17:10:25,025] Trial 74 finished with value: 0.8430975274725275 and parameters: {'max_depth': 19, 'min_samples_split': 20, 'min_samples_leaf': 20, 'criterion': 'gini'}. Best is trial 48 with value: 0.8555803571428571.\n",
      "[I 2024-11-19 17:10:25,419] Trial 75 finished with value: 0.823076923076923 and parameters: {'max_depth': 23, 'min_samples_split': 20, 'min_samples_leaf': 20, 'criterion': 'entropy'}. Best is trial 48 with value: 0.8555803571428571.\n",
      "[I 2024-11-19 17:10:25,797] Trial 76 finished with value: 0.8336366758241758 and parameters: {'max_depth': 29, 'min_samples_split': 7, 'min_samples_leaf': 19, 'criterion': 'gini'}. Best is trial 48 with value: 0.8555803571428571.\n",
      "[I 2024-11-19 17:10:26,184] Trial 77 finished with value: 0.8463598901098901 and parameters: {'max_depth': 30, 'min_samples_split': 17, 'min_samples_leaf': 5, 'criterion': 'gini'}. Best is trial 48 with value: 0.8555803571428571.\n",
      "[I 2024-11-19 17:10:26,578] Trial 78 finished with value: 0.8397321428571429 and parameters: {'max_depth': 16, 'min_samples_split': 11, 'min_samples_leaf': 20, 'criterion': 'gini'}. Best is trial 48 with value: 0.8555803571428571.\n",
      "[I 2024-11-19 17:10:26,946] Trial 79 finished with value: 0.836040521978022 and parameters: {'max_depth': 14, 'min_samples_split': 20, 'min_samples_leaf': 3, 'criterion': 'gini'}. Best is trial 48 with value: 0.8555803571428571.\n",
      "[I 2024-11-19 17:10:27,376] Trial 80 finished with value: 0.8403674450549451 and parameters: {'max_depth': 8, 'min_samples_split': 20, 'min_samples_leaf': 20, 'criterion': 'gini'}. Best is trial 48 with value: 0.8555803571428571.\n",
      "[I 2024-11-19 17:10:27,784] Trial 81 finished with value: 0.8008585164835166 and parameters: {'max_depth': 16, 'min_samples_split': 17, 'min_samples_leaf': 5, 'criterion': 'entropy'}. Best is trial 48 with value: 0.8555803571428571.\n",
      "[I 2024-11-19 17:10:28,110] Trial 82 finished with value: 0.8068681318681319 and parameters: {'max_depth': 8, 'min_samples_split': 20, 'min_samples_leaf': 8, 'criterion': 'entropy'}. Best is trial 48 with value: 0.8555803571428571.\n",
      "[I 2024-11-19 17:10:28,485] Trial 83 finished with value: 0.8381696428571427 and parameters: {'max_depth': 8, 'min_samples_split': 11, 'min_samples_leaf': 20, 'criterion': 'gini'}. Best is trial 48 with value: 0.8555803571428571.\n",
      "[I 2024-11-19 17:10:28,832] Trial 84 finished with value: 0.840779532967033 and parameters: {'max_depth': 23, 'min_samples_split': 20, 'min_samples_leaf': 20, 'criterion': 'gini'}. Best is trial 48 with value: 0.8555803571428571.\n",
      "[I 2024-11-19 17:10:29,183] Trial 85 finished with value: 0.8191620879120878 and parameters: {'max_depth': 9, 'min_samples_split': 20, 'min_samples_leaf': 16, 'criterion': 'gini'}. Best is trial 48 with value: 0.8555803571428571.\n",
      "[I 2024-11-19 17:10:29,556] Trial 86 finished with value: 0.8357486263736262 and parameters: {'max_depth': 32, 'min_samples_split': 2, 'min_samples_leaf': 17, 'criterion': 'gini'}. Best is trial 48 with value: 0.8555803571428571.\n",
      "[I 2024-11-19 17:10:29,938] Trial 87 finished with value: 0.8225274725274725 and parameters: {'max_depth': 32, 'min_samples_split': 20, 'min_samples_leaf': 16, 'criterion': 'gini'}. Best is trial 48 with value: 0.8555803571428571.\n",
      "[I 2024-11-19 17:10:30,260] Trial 88 finished with value: 0.8389251373626372 and parameters: {'max_depth': 9, 'min_samples_split': 20, 'min_samples_leaf': 1, 'criterion': 'gini'}. Best is trial 48 with value: 0.8555803571428571.\n",
      "[I 2024-11-19 17:10:30,639] Trial 89 finished with value: 0.8320741758241759 and parameters: {'max_depth': 10, 'min_samples_split': 20, 'min_samples_leaf': 20, 'criterion': 'entropy'}. Best is trial 48 with value: 0.8555803571428571.\n",
      "[I 2024-11-19 17:10:30,976] Trial 90 finished with value: 0.8266998626373627 and parameters: {'max_depth': 3, 'min_samples_split': 2, 'min_samples_leaf': 1, 'criterion': 'entropy'}. Best is trial 48 with value: 0.8555803571428571.\n",
      "[I 2024-11-19 17:10:31,378] Trial 91 finished with value: 0.8225103021978022 and parameters: {'max_depth': 7, 'min_samples_split': 10, 'min_samples_leaf': 1, 'criterion': 'gini'}. Best is trial 48 with value: 0.8555803571428571.\n",
      "[I 2024-11-19 17:10:31,742] Trial 92 finished with value: 0.8397493131868131 and parameters: {'max_depth': 15, 'min_samples_split': 2, 'min_samples_leaf': 20, 'criterion': 'gini'}. Best is trial 48 with value: 0.8555803571428571.\n",
      "[I 2024-11-19 17:10:32,079] Trial 93 finished with value: 0.8428743131868132 and parameters: {'max_depth': 21, 'min_samples_split': 19, 'min_samples_leaf': 4, 'criterion': 'gini'}. Best is trial 48 with value: 0.8555803571428571.\n",
      "[I 2024-11-19 17:10:32,432] Trial 94 finished with value: 0.8446600274725276 and parameters: {'max_depth': 17, 'min_samples_split': 14, 'min_samples_leaf': 3, 'criterion': 'gini'}. Best is trial 48 with value: 0.8555803571428571.\n",
      "[I 2024-11-19 17:10:32,786] Trial 95 finished with value: 0.8325034340659341 and parameters: {'max_depth': 28, 'min_samples_split': 13, 'min_samples_leaf': 7, 'criterion': 'gini'}. Best is trial 48 with value: 0.8555803571428571.\n",
      "[I 2024-11-19 17:10:33,178] Trial 96 finished with value: 0.839217032967033 and parameters: {'max_depth': 25, 'min_samples_split': 14, 'min_samples_leaf': 3, 'criterion': 'gini'}. Best is trial 48 with value: 0.8555803571428571.\n",
      "[I 2024-11-19 17:10:33,568] Trial 97 finished with value: 0.8265453296703296 and parameters: {'max_depth': 19, 'min_samples_split': 12, 'min_samples_leaf': 17, 'criterion': 'gini'}. Best is trial 48 with value: 0.8555803571428571.\n",
      "[I 2024-11-19 17:10:33,887] Trial 98 finished with value: 0.8430460164835164 and parameters: {'max_depth': 16, 'min_samples_split': 20, 'min_samples_leaf': 20, 'criterion': 'gini'}. Best is trial 48 with value: 0.8555803571428571.\n",
      "[I 2024-11-19 17:10:34,221] Trial 99 finished with value: 0.8381696428571429 and parameters: {'max_depth': 6, 'min_samples_split': 17, 'min_samples_leaf': 1, 'criterion': 'entropy'}. Best is trial 48 with value: 0.8555803571428571.\n"
     ]
    }
   ],
   "source": [
    "# ---------------------------------------------------------------------------- #\n",
    "#                                 OPTIMIZATION                                 #\n",
    "# ---------------------------------------------------------------------------- #\n",
    "\n",
    "# Initiate CodeCarbon to track emissions\n",
    "tracker = EmissionsTracker('DT optimization', log_level='warning')\n",
    "tracker.start()\n",
    "\n",
    "# Objective function\n",
    "def objective(trial):\n",
    "    # Define parameters\n",
    "    max_depth = int(trial.suggest_int('max_depth', 1, 32))  # Faixa para max_depth\n",
    "    min_samples_split = trial.suggest_int('min_samples_split', 2, 20)  # Faixa para min_samples_split\n",
    "    min_samples_leaf = trial.suggest_int('min_samples_leaf', 1, 20)  # Faixa para min_samples_leaf\n",
    "    criterion = trial.suggest_categorical('criterion', ['gini', 'entropy'])  # Critério de divisão\n",
    "\n",
    "    # Create model\n",
    "    temp_model = tree.DecisionTreeClassifier(\n",
    "        max_depth=max_depth,\n",
    "        min_samples_split=min_samples_split,\n",
    "        min_samples_leaf=min_samples_leaf,\n",
    "        criterion=criterion\n",
    "    )\n",
    "    \n",
    "    # Define pipeline depending on whether PCA is requested or not\n",
    "    if PC_Features:\n",
    "        steps = [\n",
    "            ('preprocessor', preprocessor),\n",
    "            ('pca', PCA(n_components=12)),\n",
    "            ('DT-classifier', temp_model)\n",
    "        ]\n",
    "    else:\n",
    "        steps = [\n",
    "            ('preprocessor', preprocessor),\n",
    "            ('DT-classifier', temp_model)\n",
    "        ]\n",
    "        \n",
    "    pipeline = Pipeline(steps)\n",
    "    \n",
    "    # Perform cross-validation\n",
    "    roc_auc = cross_val_score(pipeline, X, y, scoring='roc_auc', cv=K_Folds).mean()\n",
    "    \n",
    "    return roc_auc\n",
    "    \n",
    "# Optimizing with Optuna\n",
    "study = optuna.create_study(direction='maximize', sampler=GPSampler())\n",
    "study.optimize(objective, n_trials=100)"
   ]
  },
  {
   "cell_type": "code",
   "execution_count": 14,
   "metadata": {},
   "outputs": [
    {
     "name": "stdout",
     "output_type": "stream",
     "text": [
      "AUC-ROC: 0.8555803571428571\n",
      "Best hyperparameters: {'max_depth': 27, 'min_samples_split': 15, 'min_samples_leaf': 4, 'criterion': 'gini'}\n"
     ]
    }
   ],
   "source": [
    "# Show best model\n",
    "trial = study.best_trial\n",
    "print('AUC-ROC: {}'.format(trial.value))\n",
    "print(\"Best hyperparameters: {}\".format(trial.params))\n",
    "\n",
    "# Save best trial parameters to a JSON file\n",
    "with open('params/DT-params.json', 'w') as f:\n",
    "    json.dump(trial.params, f)"
   ]
  },
  {
   "cell_type": "code",
   "execution_count": 15,
   "metadata": {},
   "outputs": [
    {
     "data": {
      "application/vnd.plotly.v1+json": {
       "config": {
        "plotlyServerURL": "https://plot.ly"
       },
       "data": [
        {
         "mode": "markers",
         "name": "Objective Value",
         "type": "scatter",
         "x": [
          0,
          1,
          2,
          3,
          4,
          5,
          6,
          7,
          8,
          9,
          10,
          11,
          12,
          13,
          14,
          15,
          16,
          17,
          18,
          19,
          20,
          21,
          22,
          23,
          24,
          25,
          26,
          27,
          28,
          29,
          30,
          31,
          32,
          33,
          34,
          35,
          36,
          37,
          38,
          39,
          40,
          41,
          42,
          43,
          44,
          45,
          46,
          47,
          48,
          49,
          50,
          51,
          52,
          53,
          54,
          55,
          56,
          57,
          58,
          59,
          60,
          61,
          62,
          63,
          64,
          65,
          66,
          67,
          68,
          69,
          70,
          71,
          72,
          73,
          74,
          75,
          76,
          77,
          78,
          79,
          80,
          81,
          82,
          83,
          84,
          85,
          86,
          87,
          88,
          89,
          90,
          91,
          92,
          93,
          94,
          95,
          96,
          97,
          98,
          99
         ],
         "y": [
          0.8046188186813186,
          0.79323489010989,
          0.855099587912088,
          0.8124484890109891,
          0.8286057692307691,
          0.8210164835164836,
          0.8215659340659341,
          0.8211881868131868,
          0.8192479395604396,
          0.8444024725274725,
          0.8360405219780219,
          0.8229739010989011,
          0.8277987637362637,
          0.7585336538461538,
          0.8473557692307694,
          0.749896978021978,
          0.8319368131868131,
          0.8525583791208792,
          0.8381868131868131,
          0.749896978021978,
          0.8444196428571429,
          0.8395604395604396,
          0.8435267857142857,
          0.8394917582417583,
          0.8187843406593407,
          0.8307348901098901,
          0.826098901098901,
          0.8459306318681319,
          0.8288804945054945,
          0.749896978021978,
          0.8418612637362637,
          0.8403674450549451,
          0.8482142857142858,
          0.8399553571428573,
          0.8408138736263735,
          0.834271978021978,
          0.8338427197802197,
          0.810370879120879,
          0.8302884615384617,
          0.8518028846153847,
          0.8009958791208792,
          0.8542410714285713,
          0.8054429945054945,
          0.8500515109890111,
          0.8466346153846154,
          0.8099759615384616,
          0.8239354395604396,
          0.8270260989010989,
          0.8555803571428571,
          0.840625,
          0.8519574175824177,
          0.8412259615384615,
          0.840315934065934,
          0.8337568681318681,
          0.8253090659340658,
          0.8266826923076923,
          0.8254979395604396,
          0.8458962912087913,
          0.810731456043956,
          0.8518715659340659,
          0.8463770604395604,
          0.8165350274725276,
          0.8427712912087912,
          0.823385989010989,
          0.8319711538461538,
          0.7235576923076923,
          0.8188358516483516,
          0.7235576923076923,
          0.8411916208791208,
          0.8343578296703298,
          0.826201923076923,
          0.8426339285714285,
          0.8393028846153845,
          0.8206387362637362,
          0.8430975274725275,
          0.823076923076923,
          0.8336366758241758,
          0.8463598901098901,
          0.8397321428571429,
          0.836040521978022,
          0.8403674450549451,
          0.8008585164835166,
          0.8068681318681319,
          0.8381696428571427,
          0.840779532967033,
          0.8191620879120878,
          0.8357486263736262,
          0.8225274725274725,
          0.8389251373626372,
          0.8320741758241759,
          0.8266998626373627,
          0.8225103021978022,
          0.8397493131868131,
          0.8428743131868132,
          0.8446600274725276,
          0.8325034340659341,
          0.839217032967033,
          0.8265453296703296,
          0.8430460164835164,
          0.8381696428571429
         ]
        },
        {
         "mode": "lines",
         "name": "Best Value",
         "type": "scatter",
         "x": [
          0,
          1,
          2,
          3,
          4,
          5,
          6,
          7,
          8,
          9,
          10,
          11,
          12,
          13,
          14,
          15,
          16,
          17,
          18,
          19,
          20,
          21,
          22,
          23,
          24,
          25,
          26,
          27,
          28,
          29,
          30,
          31,
          32,
          33,
          34,
          35,
          36,
          37,
          38,
          39,
          40,
          41,
          42,
          43,
          44,
          45,
          46,
          47,
          48,
          49,
          50,
          51,
          52,
          53,
          54,
          55,
          56,
          57,
          58,
          59,
          60,
          61,
          62,
          63,
          64,
          65,
          66,
          67,
          68,
          69,
          70,
          71,
          72,
          73,
          74,
          75,
          76,
          77,
          78,
          79,
          80,
          81,
          82,
          83,
          84,
          85,
          86,
          87,
          88,
          89,
          90,
          91,
          92,
          93,
          94,
          95,
          96,
          97,
          98,
          99
         ],
         "y": [
          0.8046188186813186,
          0.8046188186813186,
          0.855099587912088,
          0.855099587912088,
          0.855099587912088,
          0.855099587912088,
          0.855099587912088,
          0.855099587912088,
          0.855099587912088,
          0.855099587912088,
          0.855099587912088,
          0.855099587912088,
          0.855099587912088,
          0.855099587912088,
          0.855099587912088,
          0.855099587912088,
          0.855099587912088,
          0.855099587912088,
          0.855099587912088,
          0.855099587912088,
          0.855099587912088,
          0.855099587912088,
          0.855099587912088,
          0.855099587912088,
          0.855099587912088,
          0.855099587912088,
          0.855099587912088,
          0.855099587912088,
          0.855099587912088,
          0.855099587912088,
          0.855099587912088,
          0.855099587912088,
          0.855099587912088,
          0.855099587912088,
          0.855099587912088,
          0.855099587912088,
          0.855099587912088,
          0.855099587912088,
          0.855099587912088,
          0.855099587912088,
          0.855099587912088,
          0.855099587912088,
          0.855099587912088,
          0.855099587912088,
          0.855099587912088,
          0.855099587912088,
          0.855099587912088,
          0.855099587912088,
          0.8555803571428571,
          0.8555803571428571,
          0.8555803571428571,
          0.8555803571428571,
          0.8555803571428571,
          0.8555803571428571,
          0.8555803571428571,
          0.8555803571428571,
          0.8555803571428571,
          0.8555803571428571,
          0.8555803571428571,
          0.8555803571428571,
          0.8555803571428571,
          0.8555803571428571,
          0.8555803571428571,
          0.8555803571428571,
          0.8555803571428571,
          0.8555803571428571,
          0.8555803571428571,
          0.8555803571428571,
          0.8555803571428571,
          0.8555803571428571,
          0.8555803571428571,
          0.8555803571428571,
          0.8555803571428571,
          0.8555803571428571,
          0.8555803571428571,
          0.8555803571428571,
          0.8555803571428571,
          0.8555803571428571,
          0.8555803571428571,
          0.8555803571428571,
          0.8555803571428571,
          0.8555803571428571,
          0.8555803571428571,
          0.8555803571428571,
          0.8555803571428571,
          0.8555803571428571,
          0.8555803571428571,
          0.8555803571428571,
          0.8555803571428571,
          0.8555803571428571,
          0.8555803571428571,
          0.8555803571428571,
          0.8555803571428571,
          0.8555803571428571,
          0.8555803571428571,
          0.8555803571428571,
          0.8555803571428571,
          0.8555803571428571,
          0.8555803571428571,
          0.8555803571428571
         ]
        },
        {
         "marker": {
          "color": "#cccccc"
         },
         "mode": "markers",
         "name": "Infeasible Trial",
         "showlegend": false,
         "type": "scatter",
         "x": [],
         "y": []
        }
       ],
       "layout": {
        "template": {
         "data": {
          "bar": [
           {
            "error_x": {
             "color": "#2a3f5f"
            },
            "error_y": {
             "color": "#2a3f5f"
            },
            "marker": {
             "line": {
              "color": "#E5ECF6",
              "width": 0.5
             },
             "pattern": {
              "fillmode": "overlay",
              "size": 10,
              "solidity": 0.2
             }
            },
            "type": "bar"
           }
          ],
          "barpolar": [
           {
            "marker": {
             "line": {
              "color": "#E5ECF6",
              "width": 0.5
             },
             "pattern": {
              "fillmode": "overlay",
              "size": 10,
              "solidity": 0.2
             }
            },
            "type": "barpolar"
           }
          ],
          "carpet": [
           {
            "aaxis": {
             "endlinecolor": "#2a3f5f",
             "gridcolor": "white",
             "linecolor": "white",
             "minorgridcolor": "white",
             "startlinecolor": "#2a3f5f"
            },
            "baxis": {
             "endlinecolor": "#2a3f5f",
             "gridcolor": "white",
             "linecolor": "white",
             "minorgridcolor": "white",
             "startlinecolor": "#2a3f5f"
            },
            "type": "carpet"
           }
          ],
          "choropleth": [
           {
            "colorbar": {
             "outlinewidth": 0,
             "ticks": ""
            },
            "type": "choropleth"
           }
          ],
          "contour": [
           {
            "colorbar": {
             "outlinewidth": 0,
             "ticks": ""
            },
            "colorscale": [
             [
              0,
              "#0d0887"
             ],
             [
              0.1111111111111111,
              "#46039f"
             ],
             [
              0.2222222222222222,
              "#7201a8"
             ],
             [
              0.3333333333333333,
              "#9c179e"
             ],
             [
              0.4444444444444444,
              "#bd3786"
             ],
             [
              0.5555555555555556,
              "#d8576b"
             ],
             [
              0.6666666666666666,
              "#ed7953"
             ],
             [
              0.7777777777777778,
              "#fb9f3a"
             ],
             [
              0.8888888888888888,
              "#fdca26"
             ],
             [
              1,
              "#f0f921"
             ]
            ],
            "type": "contour"
           }
          ],
          "contourcarpet": [
           {
            "colorbar": {
             "outlinewidth": 0,
             "ticks": ""
            },
            "type": "contourcarpet"
           }
          ],
          "heatmap": [
           {
            "colorbar": {
             "outlinewidth": 0,
             "ticks": ""
            },
            "colorscale": [
             [
              0,
              "#0d0887"
             ],
             [
              0.1111111111111111,
              "#46039f"
             ],
             [
              0.2222222222222222,
              "#7201a8"
             ],
             [
              0.3333333333333333,
              "#9c179e"
             ],
             [
              0.4444444444444444,
              "#bd3786"
             ],
             [
              0.5555555555555556,
              "#d8576b"
             ],
             [
              0.6666666666666666,
              "#ed7953"
             ],
             [
              0.7777777777777778,
              "#fb9f3a"
             ],
             [
              0.8888888888888888,
              "#fdca26"
             ],
             [
              1,
              "#f0f921"
             ]
            ],
            "type": "heatmap"
           }
          ],
          "heatmapgl": [
           {
            "colorbar": {
             "outlinewidth": 0,
             "ticks": ""
            },
            "colorscale": [
             [
              0,
              "#0d0887"
             ],
             [
              0.1111111111111111,
              "#46039f"
             ],
             [
              0.2222222222222222,
              "#7201a8"
             ],
             [
              0.3333333333333333,
              "#9c179e"
             ],
             [
              0.4444444444444444,
              "#bd3786"
             ],
             [
              0.5555555555555556,
              "#d8576b"
             ],
             [
              0.6666666666666666,
              "#ed7953"
             ],
             [
              0.7777777777777778,
              "#fb9f3a"
             ],
             [
              0.8888888888888888,
              "#fdca26"
             ],
             [
              1,
              "#f0f921"
             ]
            ],
            "type": "heatmapgl"
           }
          ],
          "histogram": [
           {
            "marker": {
             "pattern": {
              "fillmode": "overlay",
              "size": 10,
              "solidity": 0.2
             }
            },
            "type": "histogram"
           }
          ],
          "histogram2d": [
           {
            "colorbar": {
             "outlinewidth": 0,
             "ticks": ""
            },
            "colorscale": [
             [
              0,
              "#0d0887"
             ],
             [
              0.1111111111111111,
              "#46039f"
             ],
             [
              0.2222222222222222,
              "#7201a8"
             ],
             [
              0.3333333333333333,
              "#9c179e"
             ],
             [
              0.4444444444444444,
              "#bd3786"
             ],
             [
              0.5555555555555556,
              "#d8576b"
             ],
             [
              0.6666666666666666,
              "#ed7953"
             ],
             [
              0.7777777777777778,
              "#fb9f3a"
             ],
             [
              0.8888888888888888,
              "#fdca26"
             ],
             [
              1,
              "#f0f921"
             ]
            ],
            "type": "histogram2d"
           }
          ],
          "histogram2dcontour": [
           {
            "colorbar": {
             "outlinewidth": 0,
             "ticks": ""
            },
            "colorscale": [
             [
              0,
              "#0d0887"
             ],
             [
              0.1111111111111111,
              "#46039f"
             ],
             [
              0.2222222222222222,
              "#7201a8"
             ],
             [
              0.3333333333333333,
              "#9c179e"
             ],
             [
              0.4444444444444444,
              "#bd3786"
             ],
             [
              0.5555555555555556,
              "#d8576b"
             ],
             [
              0.6666666666666666,
              "#ed7953"
             ],
             [
              0.7777777777777778,
              "#fb9f3a"
             ],
             [
              0.8888888888888888,
              "#fdca26"
             ],
             [
              1,
              "#f0f921"
             ]
            ],
            "type": "histogram2dcontour"
           }
          ],
          "mesh3d": [
           {
            "colorbar": {
             "outlinewidth": 0,
             "ticks": ""
            },
            "type": "mesh3d"
           }
          ],
          "parcoords": [
           {
            "line": {
             "colorbar": {
              "outlinewidth": 0,
              "ticks": ""
             }
            },
            "type": "parcoords"
           }
          ],
          "pie": [
           {
            "automargin": true,
            "type": "pie"
           }
          ],
          "scatter": [
           {
            "fillpattern": {
             "fillmode": "overlay",
             "size": 10,
             "solidity": 0.2
            },
            "type": "scatter"
           }
          ],
          "scatter3d": [
           {
            "line": {
             "colorbar": {
              "outlinewidth": 0,
              "ticks": ""
             }
            },
            "marker": {
             "colorbar": {
              "outlinewidth": 0,
              "ticks": ""
             }
            },
            "type": "scatter3d"
           }
          ],
          "scattercarpet": [
           {
            "marker": {
             "colorbar": {
              "outlinewidth": 0,
              "ticks": ""
             }
            },
            "type": "scattercarpet"
           }
          ],
          "scattergeo": [
           {
            "marker": {
             "colorbar": {
              "outlinewidth": 0,
              "ticks": ""
             }
            },
            "type": "scattergeo"
           }
          ],
          "scattergl": [
           {
            "marker": {
             "colorbar": {
              "outlinewidth": 0,
              "ticks": ""
             }
            },
            "type": "scattergl"
           }
          ],
          "scattermapbox": [
           {
            "marker": {
             "colorbar": {
              "outlinewidth": 0,
              "ticks": ""
             }
            },
            "type": "scattermapbox"
           }
          ],
          "scatterpolar": [
           {
            "marker": {
             "colorbar": {
              "outlinewidth": 0,
              "ticks": ""
             }
            },
            "type": "scatterpolar"
           }
          ],
          "scatterpolargl": [
           {
            "marker": {
             "colorbar": {
              "outlinewidth": 0,
              "ticks": ""
             }
            },
            "type": "scatterpolargl"
           }
          ],
          "scatterternary": [
           {
            "marker": {
             "colorbar": {
              "outlinewidth": 0,
              "ticks": ""
             }
            },
            "type": "scatterternary"
           }
          ],
          "surface": [
           {
            "colorbar": {
             "outlinewidth": 0,
             "ticks": ""
            },
            "colorscale": [
             [
              0,
              "#0d0887"
             ],
             [
              0.1111111111111111,
              "#46039f"
             ],
             [
              0.2222222222222222,
              "#7201a8"
             ],
             [
              0.3333333333333333,
              "#9c179e"
             ],
             [
              0.4444444444444444,
              "#bd3786"
             ],
             [
              0.5555555555555556,
              "#d8576b"
             ],
             [
              0.6666666666666666,
              "#ed7953"
             ],
             [
              0.7777777777777778,
              "#fb9f3a"
             ],
             [
              0.8888888888888888,
              "#fdca26"
             ],
             [
              1,
              "#f0f921"
             ]
            ],
            "type": "surface"
           }
          ],
          "table": [
           {
            "cells": {
             "fill": {
              "color": "#EBF0F8"
             },
             "line": {
              "color": "white"
             }
            },
            "header": {
             "fill": {
              "color": "#C8D4E3"
             },
             "line": {
              "color": "white"
             }
            },
            "type": "table"
           }
          ]
         },
         "layout": {
          "annotationdefaults": {
           "arrowcolor": "#2a3f5f",
           "arrowhead": 0,
           "arrowwidth": 1
          },
          "autotypenumbers": "strict",
          "coloraxis": {
           "colorbar": {
            "outlinewidth": 0,
            "ticks": ""
           }
          },
          "colorscale": {
           "diverging": [
            [
             0,
             "#8e0152"
            ],
            [
             0.1,
             "#c51b7d"
            ],
            [
             0.2,
             "#de77ae"
            ],
            [
             0.3,
             "#f1b6da"
            ],
            [
             0.4,
             "#fde0ef"
            ],
            [
             0.5,
             "#f7f7f7"
            ],
            [
             0.6,
             "#e6f5d0"
            ],
            [
             0.7,
             "#b8e186"
            ],
            [
             0.8,
             "#7fbc41"
            ],
            [
             0.9,
             "#4d9221"
            ],
            [
             1,
             "#276419"
            ]
           ],
           "sequential": [
            [
             0,
             "#0d0887"
            ],
            [
             0.1111111111111111,
             "#46039f"
            ],
            [
             0.2222222222222222,
             "#7201a8"
            ],
            [
             0.3333333333333333,
             "#9c179e"
            ],
            [
             0.4444444444444444,
             "#bd3786"
            ],
            [
             0.5555555555555556,
             "#d8576b"
            ],
            [
             0.6666666666666666,
             "#ed7953"
            ],
            [
             0.7777777777777778,
             "#fb9f3a"
            ],
            [
             0.8888888888888888,
             "#fdca26"
            ],
            [
             1,
             "#f0f921"
            ]
           ],
           "sequentialminus": [
            [
             0,
             "#0d0887"
            ],
            [
             0.1111111111111111,
             "#46039f"
            ],
            [
             0.2222222222222222,
             "#7201a8"
            ],
            [
             0.3333333333333333,
             "#9c179e"
            ],
            [
             0.4444444444444444,
             "#bd3786"
            ],
            [
             0.5555555555555556,
             "#d8576b"
            ],
            [
             0.6666666666666666,
             "#ed7953"
            ],
            [
             0.7777777777777778,
             "#fb9f3a"
            ],
            [
             0.8888888888888888,
             "#fdca26"
            ],
            [
             1,
             "#f0f921"
            ]
           ]
          },
          "colorway": [
           "#636efa",
           "#EF553B",
           "#00cc96",
           "#ab63fa",
           "#FFA15A",
           "#19d3f3",
           "#FF6692",
           "#B6E880",
           "#FF97FF",
           "#FECB52"
          ],
          "font": {
           "color": "#2a3f5f"
          },
          "geo": {
           "bgcolor": "white",
           "lakecolor": "white",
           "landcolor": "#E5ECF6",
           "showlakes": true,
           "showland": true,
           "subunitcolor": "white"
          },
          "hoverlabel": {
           "align": "left"
          },
          "hovermode": "closest",
          "mapbox": {
           "style": "light"
          },
          "paper_bgcolor": "white",
          "plot_bgcolor": "#E5ECF6",
          "polar": {
           "angularaxis": {
            "gridcolor": "white",
            "linecolor": "white",
            "ticks": ""
           },
           "bgcolor": "#E5ECF6",
           "radialaxis": {
            "gridcolor": "white",
            "linecolor": "white",
            "ticks": ""
           }
          },
          "scene": {
           "xaxis": {
            "backgroundcolor": "#E5ECF6",
            "gridcolor": "white",
            "gridwidth": 2,
            "linecolor": "white",
            "showbackground": true,
            "ticks": "",
            "zerolinecolor": "white"
           },
           "yaxis": {
            "backgroundcolor": "#E5ECF6",
            "gridcolor": "white",
            "gridwidth": 2,
            "linecolor": "white",
            "showbackground": true,
            "ticks": "",
            "zerolinecolor": "white"
           },
           "zaxis": {
            "backgroundcolor": "#E5ECF6",
            "gridcolor": "white",
            "gridwidth": 2,
            "linecolor": "white",
            "showbackground": true,
            "ticks": "",
            "zerolinecolor": "white"
           }
          },
          "shapedefaults": {
           "line": {
            "color": "#2a3f5f"
           }
          },
          "ternary": {
           "aaxis": {
            "gridcolor": "white",
            "linecolor": "white",
            "ticks": ""
           },
           "baxis": {
            "gridcolor": "white",
            "linecolor": "white",
            "ticks": ""
           },
           "bgcolor": "#E5ECF6",
           "caxis": {
            "gridcolor": "white",
            "linecolor": "white",
            "ticks": ""
           }
          },
          "title": {
           "x": 0.05
          },
          "xaxis": {
           "automargin": true,
           "gridcolor": "white",
           "linecolor": "white",
           "ticks": "",
           "title": {
            "standoff": 15
           },
           "zerolinecolor": "white",
           "zerolinewidth": 2
          },
          "yaxis": {
           "automargin": true,
           "gridcolor": "white",
           "linecolor": "white",
           "ticks": "",
           "title": {
            "standoff": 15
           },
           "zerolinecolor": "white",
           "zerolinewidth": 2
          }
         }
        },
        "title": {
         "text": "Optimization History Plot"
        },
        "xaxis": {
         "title": {
          "text": "Trial"
         }
        },
        "yaxis": {
         "title": {
          "text": "Objective Value"
         }
        }
       }
      }
     },
     "metadata": {},
     "output_type": "display_data"
    }
   ],
   "source": [
    "# Visualizing optimization\n",
    "optuna.visualization.plot_optimization_history(study)"
   ]
  },
  {
   "cell_type": "code",
   "execution_count": 16,
   "metadata": {},
   "outputs": [
    {
     "data": {
      "application/vnd.plotly.v1+json": {
       "config": {
        "plotlyServerURL": "https://plot.ly"
       },
       "data": [
        {
         "marker": {
          "color": [
           0,
           1,
           2,
           3,
           4,
           5,
           6,
           7,
           8,
           9,
           10,
           11,
           12,
           13,
           14,
           15,
           16,
           17,
           18,
           19,
           20,
           21,
           22,
           23,
           24,
           25,
           26,
           27,
           28,
           29,
           30,
           31,
           32,
           33,
           34,
           35,
           36,
           37,
           38,
           39,
           40,
           41,
           42,
           43,
           44,
           45,
           46,
           47,
           48,
           49,
           50,
           51,
           52,
           53,
           54,
           55,
           56,
           57,
           58,
           59,
           60,
           61,
           62,
           63,
           64,
           65,
           66,
           67,
           68,
           69,
           70,
           71,
           72,
           73,
           74,
           75,
           76,
           77,
           78,
           79,
           80,
           81,
           82,
           83,
           84,
           85,
           86,
           87,
           88,
           89,
           90,
           91,
           92,
           93,
           94,
           95,
           96,
           97,
           98,
           99
          ],
          "colorbar": {
           "title": {
            "text": "Trial"
           },
           "x": 1,
           "xpad": 40
          },
          "colorscale": [
           [
            0,
            "rgb(247,251,255)"
           ],
           [
            0.125,
            "rgb(222,235,247)"
           ],
           [
            0.25,
            "rgb(198,219,239)"
           ],
           [
            0.375,
            "rgb(158,202,225)"
           ],
           [
            0.5,
            "rgb(107,174,214)"
           ],
           [
            0.625,
            "rgb(66,146,198)"
           ],
           [
            0.75,
            "rgb(33,113,181)"
           ],
           [
            0.875,
            "rgb(8,81,156)"
           ],
           [
            1,
            "rgb(8,48,107)"
           ]
          ],
          "line": {
           "color": "Grey",
           "width": 0.5
          },
          "showscale": true
         },
         "mode": "markers",
         "name": "Feasible Trial",
         "showlegend": false,
         "type": "scatter",
         "x": [
          "entropy",
          "entropy",
          "gini",
          "entropy",
          "gini",
          "entropy",
          "entropy",
          "gini",
          "gini",
          "gini",
          "gini",
          "gini",
          "gini",
          "gini",
          "gini",
          "gini",
          "gini",
          "gini",
          "gini",
          "gini",
          "gini",
          "gini",
          "gini",
          "gini",
          "gini",
          "entropy",
          "entropy",
          "gini",
          "entropy",
          "gini",
          "gini",
          "gini",
          "gini",
          "gini",
          "gini",
          "gini",
          "gini",
          "entropy",
          "entropy",
          "gini",
          "entropy",
          "gini",
          "gini",
          "gini",
          "gini",
          "entropy",
          "entropy",
          "entropy",
          "gini",
          "entropy",
          "gini",
          "entropy",
          "entropy",
          "gini",
          "entropy",
          "entropy",
          "entropy",
          "gini",
          "gini",
          "gini",
          "gini",
          "gini",
          "gini",
          "entropy",
          "gini",
          "entropy",
          "gini",
          "entropy",
          "gini",
          "gini",
          "entropy",
          "gini",
          "gini",
          "gini",
          "gini",
          "entropy",
          "gini",
          "gini",
          "gini",
          "gini",
          "gini",
          "entropy",
          "entropy",
          "gini",
          "gini",
          "gini",
          "gini",
          "gini",
          "gini",
          "entropy",
          "entropy",
          "gini",
          "gini",
          "gini",
          "gini",
          "gini",
          "gini",
          "gini",
          "gini",
          "entropy"
         ],
         "xaxis": "x",
         "y": [
          0.8046188186813186,
          0.79323489010989,
          0.855099587912088,
          0.8124484890109891,
          0.8286057692307691,
          0.8210164835164836,
          0.8215659340659341,
          0.8211881868131868,
          0.8192479395604396,
          0.8444024725274725,
          0.8360405219780219,
          0.8229739010989011,
          0.8277987637362637,
          0.7585336538461538,
          0.8473557692307694,
          0.749896978021978,
          0.8319368131868131,
          0.8525583791208792,
          0.8381868131868131,
          0.749896978021978,
          0.8444196428571429,
          0.8395604395604396,
          0.8435267857142857,
          0.8394917582417583,
          0.8187843406593407,
          0.8307348901098901,
          0.826098901098901,
          0.8459306318681319,
          0.8288804945054945,
          0.749896978021978,
          0.8418612637362637,
          0.8403674450549451,
          0.8482142857142858,
          0.8399553571428573,
          0.8408138736263735,
          0.834271978021978,
          0.8338427197802197,
          0.810370879120879,
          0.8302884615384617,
          0.8518028846153847,
          0.8009958791208792,
          0.8542410714285713,
          0.8054429945054945,
          0.8500515109890111,
          0.8466346153846154,
          0.8099759615384616,
          0.8239354395604396,
          0.8270260989010989,
          0.8555803571428571,
          0.840625,
          0.8519574175824177,
          0.8412259615384615,
          0.840315934065934,
          0.8337568681318681,
          0.8253090659340658,
          0.8266826923076923,
          0.8254979395604396,
          0.8458962912087913,
          0.810731456043956,
          0.8518715659340659,
          0.8463770604395604,
          0.8165350274725276,
          0.8427712912087912,
          0.823385989010989,
          0.8319711538461538,
          0.7235576923076923,
          0.8188358516483516,
          0.7235576923076923,
          0.8411916208791208,
          0.8343578296703298,
          0.826201923076923,
          0.8426339285714285,
          0.8393028846153845,
          0.8206387362637362,
          0.8430975274725275,
          0.823076923076923,
          0.8336366758241758,
          0.8463598901098901,
          0.8397321428571429,
          0.836040521978022,
          0.8403674450549451,
          0.8008585164835166,
          0.8068681318681319,
          0.8381696428571427,
          0.840779532967033,
          0.8191620879120878,
          0.8357486263736262,
          0.8225274725274725,
          0.8389251373626372,
          0.8320741758241759,
          0.8266998626373627,
          0.8225103021978022,
          0.8397493131868131,
          0.8428743131868132,
          0.8446600274725276,
          0.8325034340659341,
          0.839217032967033,
          0.8265453296703296,
          0.8430460164835164,
          0.8381696428571429
         ],
         "yaxis": "y"
        },
        {
         "marker": {
          "color": [
           0,
           1,
           2,
           3,
           4,
           5,
           6,
           7,
           8,
           9,
           10,
           11,
           12,
           13,
           14,
           15,
           16,
           17,
           18,
           19,
           20,
           21,
           22,
           23,
           24,
           25,
           26,
           27,
           28,
           29,
           30,
           31,
           32,
           33,
           34,
           35,
           36,
           37,
           38,
           39,
           40,
           41,
           42,
           43,
           44,
           45,
           46,
           47,
           48,
           49,
           50,
           51,
           52,
           53,
           54,
           55,
           56,
           57,
           58,
           59,
           60,
           61,
           62,
           63,
           64,
           65,
           66,
           67,
           68,
           69,
           70,
           71,
           72,
           73,
           74,
           75,
           76,
           77,
           78,
           79,
           80,
           81,
           82,
           83,
           84,
           85,
           86,
           87,
           88,
           89,
           90,
           91,
           92,
           93,
           94,
           95,
           96,
           97,
           98,
           99
          ],
          "colorbar": {
           "title": {
            "text": "Trial"
           },
           "x": 1,
           "xpad": 40
          },
          "colorscale": [
           [
            0,
            "rgb(247,251,255)"
           ],
           [
            0.125,
            "rgb(222,235,247)"
           ],
           [
            0.25,
            "rgb(198,219,239)"
           ],
           [
            0.375,
            "rgb(158,202,225)"
           ],
           [
            0.5,
            "rgb(107,174,214)"
           ],
           [
            0.625,
            "rgb(66,146,198)"
           ],
           [
            0.75,
            "rgb(33,113,181)"
           ],
           [
            0.875,
            "rgb(8,81,156)"
           ],
           [
            1,
            "rgb(8,48,107)"
           ]
          ],
          "line": {
           "color": "Grey",
           "width": 0.5
          },
          "showscale": false
         },
         "mode": "markers",
         "name": "Feasible Trial",
         "showlegend": false,
         "type": "scatter",
         "x": [
          23,
          13,
          16,
          9,
          10,
          8,
          5,
          25,
          5,
          14,
          18,
          22,
          16,
          14,
          23,
          1,
          17,
          21,
          32,
          1,
          18,
          4,
          32,
          19,
          24,
          32,
          23,
          18,
          12,
          1,
          21,
          32,
          32,
          32,
          12,
          26,
          24,
          32,
          32,
          20,
          9,
          32,
          32,
          32,
          32,
          32,
          32,
          32,
          27,
          32,
          26,
          21,
          32,
          25,
          32,
          23,
          17,
          26,
          32,
          20,
          28,
          32,
          32,
          11,
          32,
          1,
          9,
          1,
          7,
          21,
          21,
          28,
          12,
          17,
          19,
          23,
          29,
          30,
          16,
          14,
          8,
          16,
          8,
          8,
          23,
          9,
          32,
          32,
          9,
          10,
          3,
          7,
          15,
          21,
          17,
          28,
          25,
          19,
          16,
          6
         ],
         "xaxis": "x2",
         "y": [
          0.8046188186813186,
          0.79323489010989,
          0.855099587912088,
          0.8124484890109891,
          0.8286057692307691,
          0.8210164835164836,
          0.8215659340659341,
          0.8211881868131868,
          0.8192479395604396,
          0.8444024725274725,
          0.8360405219780219,
          0.8229739010989011,
          0.8277987637362637,
          0.7585336538461538,
          0.8473557692307694,
          0.749896978021978,
          0.8319368131868131,
          0.8525583791208792,
          0.8381868131868131,
          0.749896978021978,
          0.8444196428571429,
          0.8395604395604396,
          0.8435267857142857,
          0.8394917582417583,
          0.8187843406593407,
          0.8307348901098901,
          0.826098901098901,
          0.8459306318681319,
          0.8288804945054945,
          0.749896978021978,
          0.8418612637362637,
          0.8403674450549451,
          0.8482142857142858,
          0.8399553571428573,
          0.8408138736263735,
          0.834271978021978,
          0.8338427197802197,
          0.810370879120879,
          0.8302884615384617,
          0.8518028846153847,
          0.8009958791208792,
          0.8542410714285713,
          0.8054429945054945,
          0.8500515109890111,
          0.8466346153846154,
          0.8099759615384616,
          0.8239354395604396,
          0.8270260989010989,
          0.8555803571428571,
          0.840625,
          0.8519574175824177,
          0.8412259615384615,
          0.840315934065934,
          0.8337568681318681,
          0.8253090659340658,
          0.8266826923076923,
          0.8254979395604396,
          0.8458962912087913,
          0.810731456043956,
          0.8518715659340659,
          0.8463770604395604,
          0.8165350274725276,
          0.8427712912087912,
          0.823385989010989,
          0.8319711538461538,
          0.7235576923076923,
          0.8188358516483516,
          0.7235576923076923,
          0.8411916208791208,
          0.8343578296703298,
          0.826201923076923,
          0.8426339285714285,
          0.8393028846153845,
          0.8206387362637362,
          0.8430975274725275,
          0.823076923076923,
          0.8336366758241758,
          0.8463598901098901,
          0.8397321428571429,
          0.836040521978022,
          0.8403674450549451,
          0.8008585164835166,
          0.8068681318681319,
          0.8381696428571427,
          0.840779532967033,
          0.8191620879120878,
          0.8357486263736262,
          0.8225274725274725,
          0.8389251373626372,
          0.8320741758241759,
          0.8266998626373627,
          0.8225103021978022,
          0.8397493131868131,
          0.8428743131868132,
          0.8446600274725276,
          0.8325034340659341,
          0.839217032967033,
          0.8265453296703296,
          0.8430460164835164,
          0.8381696428571429
         ],
         "yaxis": "y2"
        },
        {
         "marker": {
          "color": [
           0,
           1,
           2,
           3,
           4,
           5,
           6,
           7,
           8,
           9,
           10,
           11,
           12,
           13,
           14,
           15,
           16,
           17,
           18,
           19,
           20,
           21,
           22,
           23,
           24,
           25,
           26,
           27,
           28,
           29,
           30,
           31,
           32,
           33,
           34,
           35,
           36,
           37,
           38,
           39,
           40,
           41,
           42,
           43,
           44,
           45,
           46,
           47,
           48,
           49,
           50,
           51,
           52,
           53,
           54,
           55,
           56,
           57,
           58,
           59,
           60,
           61,
           62,
           63,
           64,
           65,
           66,
           67,
           68,
           69,
           70,
           71,
           72,
           73,
           74,
           75,
           76,
           77,
           78,
           79,
           80,
           81,
           82,
           83,
           84,
           85,
           86,
           87,
           88,
           89,
           90,
           91,
           92,
           93,
           94,
           95,
           96,
           97,
           98,
           99
          ],
          "colorbar": {
           "title": {
            "text": "Trial"
           },
           "x": 1,
           "xpad": 40
          },
          "colorscale": [
           [
            0,
            "rgb(247,251,255)"
           ],
           [
            0.125,
            "rgb(222,235,247)"
           ],
           [
            0.25,
            "rgb(198,219,239)"
           ],
           [
            0.375,
            "rgb(158,202,225)"
           ],
           [
            0.5,
            "rgb(107,174,214)"
           ],
           [
            0.625,
            "rgb(66,146,198)"
           ],
           [
            0.75,
            "rgb(33,113,181)"
           ],
           [
            0.875,
            "rgb(8,81,156)"
           ],
           [
            1,
            "rgb(8,48,107)"
           ]
          ],
          "line": {
           "color": "Grey",
           "width": 0.5
          },
          "showscale": false
         },
         "mode": "markers",
         "name": "Feasible Trial",
         "showlegend": false,
         "type": "scatter",
         "x": [
          12,
          2,
          5,
          14,
          17,
          13,
          13,
          15,
          12,
          5,
          1,
          6,
          15,
          2,
          5,
          5,
          6,
          4,
          1,
          20,
          20,
          20,
          20,
          6,
          16,
          20,
          3,
          4,
          20,
          15,
          20,
          20,
          5,
          20,
          20,
          3,
          18,
          7,
          20,
          5,
          10,
          4,
          1,
          4,
          5,
          4,
          18,
          13,
          4,
          17,
          4,
          17,
          16,
          19,
          1,
          15,
          18,
          5,
          10,
          4,
          4,
          10,
          3,
          1,
          14,
          14,
          11,
          20,
          20,
          1,
          20,
          20,
          20,
          15,
          20,
          20,
          19,
          5,
          20,
          3,
          20,
          5,
          8,
          20,
          20,
          16,
          17,
          16,
          1,
          20,
          1,
          1,
          20,
          4,
          3,
          7,
          3,
          17,
          20,
          1
         ],
         "xaxis": "x3",
         "y": [
          0.8046188186813186,
          0.79323489010989,
          0.855099587912088,
          0.8124484890109891,
          0.8286057692307691,
          0.8210164835164836,
          0.8215659340659341,
          0.8211881868131868,
          0.8192479395604396,
          0.8444024725274725,
          0.8360405219780219,
          0.8229739010989011,
          0.8277987637362637,
          0.7585336538461538,
          0.8473557692307694,
          0.749896978021978,
          0.8319368131868131,
          0.8525583791208792,
          0.8381868131868131,
          0.749896978021978,
          0.8444196428571429,
          0.8395604395604396,
          0.8435267857142857,
          0.8394917582417583,
          0.8187843406593407,
          0.8307348901098901,
          0.826098901098901,
          0.8459306318681319,
          0.8288804945054945,
          0.749896978021978,
          0.8418612637362637,
          0.8403674450549451,
          0.8482142857142858,
          0.8399553571428573,
          0.8408138736263735,
          0.834271978021978,
          0.8338427197802197,
          0.810370879120879,
          0.8302884615384617,
          0.8518028846153847,
          0.8009958791208792,
          0.8542410714285713,
          0.8054429945054945,
          0.8500515109890111,
          0.8466346153846154,
          0.8099759615384616,
          0.8239354395604396,
          0.8270260989010989,
          0.8555803571428571,
          0.840625,
          0.8519574175824177,
          0.8412259615384615,
          0.840315934065934,
          0.8337568681318681,
          0.8253090659340658,
          0.8266826923076923,
          0.8254979395604396,
          0.8458962912087913,
          0.810731456043956,
          0.8518715659340659,
          0.8463770604395604,
          0.8165350274725276,
          0.8427712912087912,
          0.823385989010989,
          0.8319711538461538,
          0.7235576923076923,
          0.8188358516483516,
          0.7235576923076923,
          0.8411916208791208,
          0.8343578296703298,
          0.826201923076923,
          0.8426339285714285,
          0.8393028846153845,
          0.8206387362637362,
          0.8430975274725275,
          0.823076923076923,
          0.8336366758241758,
          0.8463598901098901,
          0.8397321428571429,
          0.836040521978022,
          0.8403674450549451,
          0.8008585164835166,
          0.8068681318681319,
          0.8381696428571427,
          0.840779532967033,
          0.8191620879120878,
          0.8357486263736262,
          0.8225274725274725,
          0.8389251373626372,
          0.8320741758241759,
          0.8266998626373627,
          0.8225103021978022,
          0.8397493131868131,
          0.8428743131868132,
          0.8446600274725276,
          0.8325034340659341,
          0.839217032967033,
          0.8265453296703296,
          0.8430460164835164,
          0.8381696428571429
         ],
         "yaxis": "y3"
        },
        {
         "marker": {
          "color": [
           0,
           1,
           2,
           3,
           4,
           5,
           6,
           7,
           8,
           9,
           10,
           11,
           12,
           13,
           14,
           15,
           16,
           17,
           18,
           19,
           20,
           21,
           22,
           23,
           24,
           25,
           26,
           27,
           28,
           29,
           30,
           31,
           32,
           33,
           34,
           35,
           36,
           37,
           38,
           39,
           40,
           41,
           42,
           43,
           44,
           45,
           46,
           47,
           48,
           49,
           50,
           51,
           52,
           53,
           54,
           55,
           56,
           57,
           58,
           59,
           60,
           61,
           62,
           63,
           64,
           65,
           66,
           67,
           68,
           69,
           70,
           71,
           72,
           73,
           74,
           75,
           76,
           77,
           78,
           79,
           80,
           81,
           82,
           83,
           84,
           85,
           86,
           87,
           88,
           89,
           90,
           91,
           92,
           93,
           94,
           95,
           96,
           97,
           98,
           99
          ],
          "colorbar": {
           "title": {
            "text": "Trial"
           },
           "x": 1,
           "xpad": 40
          },
          "colorscale": [
           [
            0,
            "rgb(247,251,255)"
           ],
           [
            0.125,
            "rgb(222,235,247)"
           ],
           [
            0.25,
            "rgb(198,219,239)"
           ],
           [
            0.375,
            "rgb(158,202,225)"
           ],
           [
            0.5,
            "rgb(107,174,214)"
           ],
           [
            0.625,
            "rgb(66,146,198)"
           ],
           [
            0.75,
            "rgb(33,113,181)"
           ],
           [
            0.875,
            "rgb(8,81,156)"
           ],
           [
            1,
            "rgb(8,48,107)"
           ]
          ],
          "line": {
           "color": "Grey",
           "width": 0.5
          },
          "showscale": false
         },
         "mode": "markers",
         "name": "Feasible Trial",
         "showlegend": false,
         "type": "scatter",
         "x": [
          15,
          10,
          16,
          12,
          10,
          5,
          15,
          18,
          20,
          15,
          20,
          11,
          20,
          2,
          20,
          19,
          20,
          16,
          20,
          19,
          2,
          2,
          2,
          16,
          2,
          11,
          20,
          17,
          2,
          2,
          10,
          20,
          20,
          10,
          5,
          20,
          12,
          20,
          2,
          16,
          2,
          14,
          10,
          17,
          14,
          13,
          20,
          2,
          15,
          2,
          15,
          6,
          8,
          5,
          20,
          2,
          12,
          17,
          2,
          14,
          13,
          20,
          15,
          20,
          8,
          20,
          14,
          7,
          2,
          16,
          2,
          20,
          20,
          2,
          20,
          20,
          7,
          17,
          11,
          20,
          20,
          17,
          20,
          11,
          20,
          20,
          2,
          20,
          20,
          20,
          2,
          10,
          2,
          19,
          14,
          13,
          14,
          12,
          20,
          17
         ],
         "xaxis": "x4",
         "y": [
          0.8046188186813186,
          0.79323489010989,
          0.855099587912088,
          0.8124484890109891,
          0.8286057692307691,
          0.8210164835164836,
          0.8215659340659341,
          0.8211881868131868,
          0.8192479395604396,
          0.8444024725274725,
          0.8360405219780219,
          0.8229739010989011,
          0.8277987637362637,
          0.7585336538461538,
          0.8473557692307694,
          0.749896978021978,
          0.8319368131868131,
          0.8525583791208792,
          0.8381868131868131,
          0.749896978021978,
          0.8444196428571429,
          0.8395604395604396,
          0.8435267857142857,
          0.8394917582417583,
          0.8187843406593407,
          0.8307348901098901,
          0.826098901098901,
          0.8459306318681319,
          0.8288804945054945,
          0.749896978021978,
          0.8418612637362637,
          0.8403674450549451,
          0.8482142857142858,
          0.8399553571428573,
          0.8408138736263735,
          0.834271978021978,
          0.8338427197802197,
          0.810370879120879,
          0.8302884615384617,
          0.8518028846153847,
          0.8009958791208792,
          0.8542410714285713,
          0.8054429945054945,
          0.8500515109890111,
          0.8466346153846154,
          0.8099759615384616,
          0.8239354395604396,
          0.8270260989010989,
          0.8555803571428571,
          0.840625,
          0.8519574175824177,
          0.8412259615384615,
          0.840315934065934,
          0.8337568681318681,
          0.8253090659340658,
          0.8266826923076923,
          0.8254979395604396,
          0.8458962912087913,
          0.810731456043956,
          0.8518715659340659,
          0.8463770604395604,
          0.8165350274725276,
          0.8427712912087912,
          0.823385989010989,
          0.8319711538461538,
          0.7235576923076923,
          0.8188358516483516,
          0.7235576923076923,
          0.8411916208791208,
          0.8343578296703298,
          0.826201923076923,
          0.8426339285714285,
          0.8393028846153845,
          0.8206387362637362,
          0.8430975274725275,
          0.823076923076923,
          0.8336366758241758,
          0.8463598901098901,
          0.8397321428571429,
          0.836040521978022,
          0.8403674450549451,
          0.8008585164835166,
          0.8068681318681319,
          0.8381696428571427,
          0.840779532967033,
          0.8191620879120878,
          0.8357486263736262,
          0.8225274725274725,
          0.8389251373626372,
          0.8320741758241759,
          0.8266998626373627,
          0.8225103021978022,
          0.8397493131868131,
          0.8428743131868132,
          0.8446600274725276,
          0.8325034340659341,
          0.839217032967033,
          0.8265453296703296,
          0.8430460164835164,
          0.8381696428571429
         ],
         "yaxis": "y4"
        }
       ],
       "layout": {
        "template": {
         "data": {
          "bar": [
           {
            "error_x": {
             "color": "#2a3f5f"
            },
            "error_y": {
             "color": "#2a3f5f"
            },
            "marker": {
             "line": {
              "color": "#E5ECF6",
              "width": 0.5
             },
             "pattern": {
              "fillmode": "overlay",
              "size": 10,
              "solidity": 0.2
             }
            },
            "type": "bar"
           }
          ],
          "barpolar": [
           {
            "marker": {
             "line": {
              "color": "#E5ECF6",
              "width": 0.5
             },
             "pattern": {
              "fillmode": "overlay",
              "size": 10,
              "solidity": 0.2
             }
            },
            "type": "barpolar"
           }
          ],
          "carpet": [
           {
            "aaxis": {
             "endlinecolor": "#2a3f5f",
             "gridcolor": "white",
             "linecolor": "white",
             "minorgridcolor": "white",
             "startlinecolor": "#2a3f5f"
            },
            "baxis": {
             "endlinecolor": "#2a3f5f",
             "gridcolor": "white",
             "linecolor": "white",
             "minorgridcolor": "white",
             "startlinecolor": "#2a3f5f"
            },
            "type": "carpet"
           }
          ],
          "choropleth": [
           {
            "colorbar": {
             "outlinewidth": 0,
             "ticks": ""
            },
            "type": "choropleth"
           }
          ],
          "contour": [
           {
            "colorbar": {
             "outlinewidth": 0,
             "ticks": ""
            },
            "colorscale": [
             [
              0,
              "#0d0887"
             ],
             [
              0.1111111111111111,
              "#46039f"
             ],
             [
              0.2222222222222222,
              "#7201a8"
             ],
             [
              0.3333333333333333,
              "#9c179e"
             ],
             [
              0.4444444444444444,
              "#bd3786"
             ],
             [
              0.5555555555555556,
              "#d8576b"
             ],
             [
              0.6666666666666666,
              "#ed7953"
             ],
             [
              0.7777777777777778,
              "#fb9f3a"
             ],
             [
              0.8888888888888888,
              "#fdca26"
             ],
             [
              1,
              "#f0f921"
             ]
            ],
            "type": "contour"
           }
          ],
          "contourcarpet": [
           {
            "colorbar": {
             "outlinewidth": 0,
             "ticks": ""
            },
            "type": "contourcarpet"
           }
          ],
          "heatmap": [
           {
            "colorbar": {
             "outlinewidth": 0,
             "ticks": ""
            },
            "colorscale": [
             [
              0,
              "#0d0887"
             ],
             [
              0.1111111111111111,
              "#46039f"
             ],
             [
              0.2222222222222222,
              "#7201a8"
             ],
             [
              0.3333333333333333,
              "#9c179e"
             ],
             [
              0.4444444444444444,
              "#bd3786"
             ],
             [
              0.5555555555555556,
              "#d8576b"
             ],
             [
              0.6666666666666666,
              "#ed7953"
             ],
             [
              0.7777777777777778,
              "#fb9f3a"
             ],
             [
              0.8888888888888888,
              "#fdca26"
             ],
             [
              1,
              "#f0f921"
             ]
            ],
            "type": "heatmap"
           }
          ],
          "heatmapgl": [
           {
            "colorbar": {
             "outlinewidth": 0,
             "ticks": ""
            },
            "colorscale": [
             [
              0,
              "#0d0887"
             ],
             [
              0.1111111111111111,
              "#46039f"
             ],
             [
              0.2222222222222222,
              "#7201a8"
             ],
             [
              0.3333333333333333,
              "#9c179e"
             ],
             [
              0.4444444444444444,
              "#bd3786"
             ],
             [
              0.5555555555555556,
              "#d8576b"
             ],
             [
              0.6666666666666666,
              "#ed7953"
             ],
             [
              0.7777777777777778,
              "#fb9f3a"
             ],
             [
              0.8888888888888888,
              "#fdca26"
             ],
             [
              1,
              "#f0f921"
             ]
            ],
            "type": "heatmapgl"
           }
          ],
          "histogram": [
           {
            "marker": {
             "pattern": {
              "fillmode": "overlay",
              "size": 10,
              "solidity": 0.2
             }
            },
            "type": "histogram"
           }
          ],
          "histogram2d": [
           {
            "colorbar": {
             "outlinewidth": 0,
             "ticks": ""
            },
            "colorscale": [
             [
              0,
              "#0d0887"
             ],
             [
              0.1111111111111111,
              "#46039f"
             ],
             [
              0.2222222222222222,
              "#7201a8"
             ],
             [
              0.3333333333333333,
              "#9c179e"
             ],
             [
              0.4444444444444444,
              "#bd3786"
             ],
             [
              0.5555555555555556,
              "#d8576b"
             ],
             [
              0.6666666666666666,
              "#ed7953"
             ],
             [
              0.7777777777777778,
              "#fb9f3a"
             ],
             [
              0.8888888888888888,
              "#fdca26"
             ],
             [
              1,
              "#f0f921"
             ]
            ],
            "type": "histogram2d"
           }
          ],
          "histogram2dcontour": [
           {
            "colorbar": {
             "outlinewidth": 0,
             "ticks": ""
            },
            "colorscale": [
             [
              0,
              "#0d0887"
             ],
             [
              0.1111111111111111,
              "#46039f"
             ],
             [
              0.2222222222222222,
              "#7201a8"
             ],
             [
              0.3333333333333333,
              "#9c179e"
             ],
             [
              0.4444444444444444,
              "#bd3786"
             ],
             [
              0.5555555555555556,
              "#d8576b"
             ],
             [
              0.6666666666666666,
              "#ed7953"
             ],
             [
              0.7777777777777778,
              "#fb9f3a"
             ],
             [
              0.8888888888888888,
              "#fdca26"
             ],
             [
              1,
              "#f0f921"
             ]
            ],
            "type": "histogram2dcontour"
           }
          ],
          "mesh3d": [
           {
            "colorbar": {
             "outlinewidth": 0,
             "ticks": ""
            },
            "type": "mesh3d"
           }
          ],
          "parcoords": [
           {
            "line": {
             "colorbar": {
              "outlinewidth": 0,
              "ticks": ""
             }
            },
            "type": "parcoords"
           }
          ],
          "pie": [
           {
            "automargin": true,
            "type": "pie"
           }
          ],
          "scatter": [
           {
            "fillpattern": {
             "fillmode": "overlay",
             "size": 10,
             "solidity": 0.2
            },
            "type": "scatter"
           }
          ],
          "scatter3d": [
           {
            "line": {
             "colorbar": {
              "outlinewidth": 0,
              "ticks": ""
             }
            },
            "marker": {
             "colorbar": {
              "outlinewidth": 0,
              "ticks": ""
             }
            },
            "type": "scatter3d"
           }
          ],
          "scattercarpet": [
           {
            "marker": {
             "colorbar": {
              "outlinewidth": 0,
              "ticks": ""
             }
            },
            "type": "scattercarpet"
           }
          ],
          "scattergeo": [
           {
            "marker": {
             "colorbar": {
              "outlinewidth": 0,
              "ticks": ""
             }
            },
            "type": "scattergeo"
           }
          ],
          "scattergl": [
           {
            "marker": {
             "colorbar": {
              "outlinewidth": 0,
              "ticks": ""
             }
            },
            "type": "scattergl"
           }
          ],
          "scattermapbox": [
           {
            "marker": {
             "colorbar": {
              "outlinewidth": 0,
              "ticks": ""
             }
            },
            "type": "scattermapbox"
           }
          ],
          "scatterpolar": [
           {
            "marker": {
             "colorbar": {
              "outlinewidth": 0,
              "ticks": ""
             }
            },
            "type": "scatterpolar"
           }
          ],
          "scatterpolargl": [
           {
            "marker": {
             "colorbar": {
              "outlinewidth": 0,
              "ticks": ""
             }
            },
            "type": "scatterpolargl"
           }
          ],
          "scatterternary": [
           {
            "marker": {
             "colorbar": {
              "outlinewidth": 0,
              "ticks": ""
             }
            },
            "type": "scatterternary"
           }
          ],
          "surface": [
           {
            "colorbar": {
             "outlinewidth": 0,
             "ticks": ""
            },
            "colorscale": [
             [
              0,
              "#0d0887"
             ],
             [
              0.1111111111111111,
              "#46039f"
             ],
             [
              0.2222222222222222,
              "#7201a8"
             ],
             [
              0.3333333333333333,
              "#9c179e"
             ],
             [
              0.4444444444444444,
              "#bd3786"
             ],
             [
              0.5555555555555556,
              "#d8576b"
             ],
             [
              0.6666666666666666,
              "#ed7953"
             ],
             [
              0.7777777777777778,
              "#fb9f3a"
             ],
             [
              0.8888888888888888,
              "#fdca26"
             ],
             [
              1,
              "#f0f921"
             ]
            ],
            "type": "surface"
           }
          ],
          "table": [
           {
            "cells": {
             "fill": {
              "color": "#EBF0F8"
             },
             "line": {
              "color": "white"
             }
            },
            "header": {
             "fill": {
              "color": "#C8D4E3"
             },
             "line": {
              "color": "white"
             }
            },
            "type": "table"
           }
          ]
         },
         "layout": {
          "annotationdefaults": {
           "arrowcolor": "#2a3f5f",
           "arrowhead": 0,
           "arrowwidth": 1
          },
          "autotypenumbers": "strict",
          "coloraxis": {
           "colorbar": {
            "outlinewidth": 0,
            "ticks": ""
           }
          },
          "colorscale": {
           "diverging": [
            [
             0,
             "#8e0152"
            ],
            [
             0.1,
             "#c51b7d"
            ],
            [
             0.2,
             "#de77ae"
            ],
            [
             0.3,
             "#f1b6da"
            ],
            [
             0.4,
             "#fde0ef"
            ],
            [
             0.5,
             "#f7f7f7"
            ],
            [
             0.6,
             "#e6f5d0"
            ],
            [
             0.7,
             "#b8e186"
            ],
            [
             0.8,
             "#7fbc41"
            ],
            [
             0.9,
             "#4d9221"
            ],
            [
             1,
             "#276419"
            ]
           ],
           "sequential": [
            [
             0,
             "#0d0887"
            ],
            [
             0.1111111111111111,
             "#46039f"
            ],
            [
             0.2222222222222222,
             "#7201a8"
            ],
            [
             0.3333333333333333,
             "#9c179e"
            ],
            [
             0.4444444444444444,
             "#bd3786"
            ],
            [
             0.5555555555555556,
             "#d8576b"
            ],
            [
             0.6666666666666666,
             "#ed7953"
            ],
            [
             0.7777777777777778,
             "#fb9f3a"
            ],
            [
             0.8888888888888888,
             "#fdca26"
            ],
            [
             1,
             "#f0f921"
            ]
           ],
           "sequentialminus": [
            [
             0,
             "#0d0887"
            ],
            [
             0.1111111111111111,
             "#46039f"
            ],
            [
             0.2222222222222222,
             "#7201a8"
            ],
            [
             0.3333333333333333,
             "#9c179e"
            ],
            [
             0.4444444444444444,
             "#bd3786"
            ],
            [
             0.5555555555555556,
             "#d8576b"
            ],
            [
             0.6666666666666666,
             "#ed7953"
            ],
            [
             0.7777777777777778,
             "#fb9f3a"
            ],
            [
             0.8888888888888888,
             "#fdca26"
            ],
            [
             1,
             "#f0f921"
            ]
           ]
          },
          "colorway": [
           "#636efa",
           "#EF553B",
           "#00cc96",
           "#ab63fa",
           "#FFA15A",
           "#19d3f3",
           "#FF6692",
           "#B6E880",
           "#FF97FF",
           "#FECB52"
          ],
          "font": {
           "color": "#2a3f5f"
          },
          "geo": {
           "bgcolor": "white",
           "lakecolor": "white",
           "landcolor": "#E5ECF6",
           "showlakes": true,
           "showland": true,
           "subunitcolor": "white"
          },
          "hoverlabel": {
           "align": "left"
          },
          "hovermode": "closest",
          "mapbox": {
           "style": "light"
          },
          "paper_bgcolor": "white",
          "plot_bgcolor": "#E5ECF6",
          "polar": {
           "angularaxis": {
            "gridcolor": "white",
            "linecolor": "white",
            "ticks": ""
           },
           "bgcolor": "#E5ECF6",
           "radialaxis": {
            "gridcolor": "white",
            "linecolor": "white",
            "ticks": ""
           }
          },
          "scene": {
           "xaxis": {
            "backgroundcolor": "#E5ECF6",
            "gridcolor": "white",
            "gridwidth": 2,
            "linecolor": "white",
            "showbackground": true,
            "ticks": "",
            "zerolinecolor": "white"
           },
           "yaxis": {
            "backgroundcolor": "#E5ECF6",
            "gridcolor": "white",
            "gridwidth": 2,
            "linecolor": "white",
            "showbackground": true,
            "ticks": "",
            "zerolinecolor": "white"
           },
           "zaxis": {
            "backgroundcolor": "#E5ECF6",
            "gridcolor": "white",
            "gridwidth": 2,
            "linecolor": "white",
            "showbackground": true,
            "ticks": "",
            "zerolinecolor": "white"
           }
          },
          "shapedefaults": {
           "line": {
            "color": "#2a3f5f"
           }
          },
          "ternary": {
           "aaxis": {
            "gridcolor": "white",
            "linecolor": "white",
            "ticks": ""
           },
           "baxis": {
            "gridcolor": "white",
            "linecolor": "white",
            "ticks": ""
           },
           "bgcolor": "#E5ECF6",
           "caxis": {
            "gridcolor": "white",
            "linecolor": "white",
            "ticks": ""
           }
          },
          "title": {
           "x": 0.05
          },
          "xaxis": {
           "automargin": true,
           "gridcolor": "white",
           "linecolor": "white",
           "ticks": "",
           "title": {
            "standoff": 15
           },
           "zerolinecolor": "white",
           "zerolinewidth": 2
          },
          "yaxis": {
           "automargin": true,
           "gridcolor": "white",
           "linecolor": "white",
           "ticks": "",
           "title": {
            "standoff": 15
           },
           "zerolinecolor": "white",
           "zerolinewidth": 2
          }
         }
        },
        "title": {
         "text": "Slice Plot"
        },
        "width": 1200,
        "xaxis": {
         "anchor": "y",
         "categoryarray": [
          "gini",
          "entropy"
         ],
         "categoryorder": "array",
         "domain": [
          0,
          0.2125
         ],
         "title": {
          "text": "criterion"
         },
         "type": "category"
        },
        "xaxis2": {
         "anchor": "y2",
         "domain": [
          0.2625,
          0.475
         ],
         "title": {
          "text": "max_depth"
         }
        },
        "xaxis3": {
         "anchor": "y3",
         "domain": [
          0.525,
          0.7375
         ],
         "title": {
          "text": "min_samples_leaf"
         }
        },
        "xaxis4": {
         "anchor": "y4",
         "domain": [
          0.7875,
          1
         ],
         "title": {
          "text": "min_samples_split"
         }
        },
        "yaxis": {
         "anchor": "x",
         "domain": [
          0,
          1
         ],
         "title": {
          "text": "Objective Value"
         }
        },
        "yaxis2": {
         "anchor": "x2",
         "domain": [
          0,
          1
         ],
         "matches": "y",
         "showticklabels": false
        },
        "yaxis3": {
         "anchor": "x3",
         "domain": [
          0,
          1
         ],
         "matches": "y",
         "showticklabels": false
        },
        "yaxis4": {
         "anchor": "x4",
         "domain": [
          0,
          1
         ],
         "matches": "y",
         "showticklabels": false
        }
       }
      }
     },
     "metadata": {},
     "output_type": "display_data"
    }
   ],
   "source": [
    "optuna.visualization.plot_slice(study)"
   ]
  },
  {
   "cell_type": "code",
   "execution_count": 17,
   "metadata": {},
   "outputs": [
    {
     "name": "stdout",
     "output_type": "stream",
     "text": [
      "Accuracy: 0.7976 ± 0.0726\n",
      "AUC-ROC: 0.8511 ± 0.0545\n"
     ]
    },
    {
     "data": {
      "image/png": "[encoded data removed]",
      "text/plain": [
       "<Figure size 640x480 with 1 Axes>"
      ]
     },
     "metadata": {},
     "output_type": "display_data"
    }
   ],
   "source": [
    "# Create optimized model\n",
    "best_params = trial.params\n",
    "model = tree.DecisionTreeClassifier(random_state=Random_Seed, **best_params)\n",
    "\n",
    "# Define pipeline depending on whether PCA is requested or not\n",
    "if PC_Features:\n",
    "    steps = [\n",
    "        ('preprocessor', preprocessor),\n",
    "        ('pca', PCA(n_components=12)),\n",
    "        ('DT-classifier', model)\n",
    "    ]\n",
    "else:\n",
    "    steps = [\n",
    "        ('preprocessor', preprocessor),\n",
    "        ('DT-classifier', model)\n",
    "    ]\n",
    "    \n",
    "pipeline = Pipeline(steps)\n",
    "\n",
    "# Perform cross-validation\n",
    "cv_results = cross_validate(pipeline, X, y, scoring=['accuracy', 'roc_auc'], cv=K_Folds)\n",
    "\n",
    "# Calculate and display results\n",
    "acc = np.mean(cv_results['test_accuracy'])\n",
    "acc_std = np.std(cv_results['test_accuracy'])\n",
    "roc_auc = np.mean(cv_results['test_roc_auc'])\n",
    "roc_auc_std = np.std(cv_results['test_roc_auc'])\n",
    "\n",
    "print(f\"Accuracy: {acc:.4f} ± {acc_std:.4f}\")\n",
    "print(f\"AUC-ROC: {roc_auc:.4f} ± {roc_auc_std:.4f}\")\n",
    "\n",
    "# Plot decision tree\n",
    "preprocessor.fit_transform(X)\n",
    "PCA(n_components=12).fit_transform(X)\n",
    "model.fit(X, y)\n",
    "plot = tree.plot_tree(model)\n",
    "\n",
    "# Stop emission tracking\n",
    "_ = tracker.stop()\n"
   ]
  },
  {
   "cell_type": "code",
   "execution_count": 18,
   "metadata": {},
   "outputs": [],
   "source": [
    "# Save evaluation to an external file\n",
    "file = 'scores.csv'\n",
    "\n",
    "results = pd.DataFrame({\n",
    "    'DT-optimization': [acc, acc_std, roc_auc, roc_auc_std]\n",
    "}, index = ['Accuracy', 'Accuracy STD', 'AUC-ROC', 'AUC-ROC STD'])\n",
    "\n",
    "# Check if file exists\n",
    "if os.path.exists(file):\n",
    "    temp = pd.read_csv(file, index_col=0)\n",
    "    results = pd.concat([temp, results], axis=1)\n",
    "\n",
    "# Export\n",
    "results.to_csv(file)"
   ]
  },
  {
   "cell_type": "markdown",
   "metadata": {},
   "source": [
    "<hr>\n",
    "\n",
    "## Random Forest:"
   ]
  },
  {
   "cell_type": "code",
   "execution_count": 19,
   "metadata": {},
   "outputs": [
    {
     "name": "stderr",
     "output_type": "stream",
     "text": [
      "[codecarbon WARNING @ 17:10:36] No CPU tracking mode found. Falling back on CPU constant mode. \n",
      " Linux OS detected: Please ensure RAPL files exist at \\sys\\class\\powercap\\intel-rapl to measure CPU\n",
      "\n"
     ]
    },
    {
     "name": "stdout",
     "output_type": "stream",
     "text": [
      "Accuracy: 0.8249 ± 0.0619\n",
      "AUC-ROC: 0.8807 ± 0.0391\n"
     ]
    }
   ],
   "source": [
    "# ---------------------------------------------------------------------------- #\n",
    "#                                     MODEL                                    #\n",
    "# ---------------------------------------------------------------------------- #\n",
    "\n",
    "# Initiate CodeCarbon to track emissions\n",
    "tracker = EmissionsTracker('RF model', log_level='warning')\n",
    "tracker.start()\n",
    "\n",
    "# Create model\n",
    "model = RandomForestClassifier(random_state=Random_Seed)\n",
    "\n",
    "# Define pipeline depending on whether PCA is requested or not\n",
    "if PC_Features:\n",
    "    steps = [\n",
    "        ('preprocessor', preprocessor),\n",
    "        ('pca', PCA(n_components=12)),\n",
    "        ('RF-classifier', model)\n",
    "    ]\n",
    "else:\n",
    "    steps = [\n",
    "        ('preprocessor', preprocessor),\n",
    "        ('RF-classifier', model)\n",
    "    ]\n",
    "    \n",
    "pipeline = Pipeline(steps)\n",
    "\n",
    "# Perform cross-validation\n",
    "cv_results = cross_validate(pipeline, X, y, scoring=['accuracy', 'roc_auc'], cv=K_Folds)\n",
    "\n",
    "# Calculate and display results\n",
    "acc = np.mean(cv_results['test_accuracy'])\n",
    "acc_std = np.std(cv_results['test_accuracy'])\n",
    "roc_auc = np.mean(cv_results['test_roc_auc'])\n",
    "roc_auc_std = np.std(cv_results['test_roc_auc'])\n",
    "\n",
    "print(f\"Accuracy: {acc:.4f} ± {acc_std:.4f}\")\n",
    "print(f\"AUC-ROC: {roc_auc:.4f} ± {roc_auc_std:.4f}\")\n",
    "\n",
    "# Stop emission tracking\n",
    "_ = tracker.stop()"
   ]
  },
  {
   "cell_type": "code",
   "execution_count": 20,
   "metadata": {},
   "outputs": [],
   "source": [
    "# Save evaluation to an external file\n",
    "file = 'scores.csv'\n",
    "\n",
    "results = pd.DataFrame({\n",
    "    'RF-model': [acc, acc_std, roc_auc, roc_auc_std]\n",
    "}, index = ['Accuracy', 'Accuracy STD', 'AUC-ROC', 'AUC-ROC STD'])\n",
    "\n",
    "# Check if file exists\n",
    "if os.path.exists(file):\n",
    "    temp = pd.read_csv(file, index_col=0)\n",
    "    results = pd.concat([temp, results], axis=1)\n",
    "\n",
    "# Export\n",
    "results.to_csv(file)"
   ]
  },
  {
   "cell_type": "code",
   "execution_count": 21,
   "metadata": {},
   "outputs": [
    {
     "name": "stderr",
     "output_type": "stream",
     "text": [
      "[codecarbon WARNING @ 17:10:42] No CPU tracking mode found. Falling back on CPU constant mode. \n",
      " Linux OS detected: Please ensure RAPL files exist at \\sys\\class\\powercap\\intel-rapl to measure CPU\n",
      "\n",
      "/tmp/ipykernel_134175/1080878733.py:49: ExperimentalWarning:\n",
      "\n",
      "GPSampler is experimental (supported from v3.6.0). The interface can change in the future.\n",
      "\n",
      "[I 2024-11-19 17:10:47,412] A new study created in memory with name: no-name-11d44d24-9fb5-4bad-8dc8-15df462ad975\n",
      "[I 2024-11-19 17:10:47,568] Trial 0 finished with value: 0.8431490384615385 and parameters: {'n_estimators': 5, 'max_depth': 19, 'min_samples_split': 4, 'min_samples_leaf': 10, 'criterion': 'entropy'}. Best is trial 0 with value: 0.8431490384615385.\n",
      "[I 2024-11-19 17:10:48,521] Trial 1 finished with value: 0.8875343406593406 and parameters: {'n_estimators': 89, 'max_depth': 19, 'min_samples_split': 17, 'min_samples_leaf': 8, 'criterion': 'entropy'}. Best is trial 1 with value: 0.8875343406593406.\n",
      "[I 2024-11-19 17:10:50,412] Trial 2 finished with value: 0.8856456043956046 and parameters: {'n_estimators': 176, 'max_depth': 11, 'min_samples_split': 3, 'min_samples_leaf': 4, 'criterion': 'entropy'}. Best is trial 1 with value: 0.8875343406593406.\n",
      "[I 2024-11-19 17:10:52,203] Trial 3 finished with value: 0.8934752747252747 and parameters: {'n_estimators': 190, 'max_depth': 24, 'min_samples_split': 16, 'min_samples_leaf': 13, 'criterion': 'gini'}. Best is trial 3 with value: 0.8934752747252747.\n",
      "[I 2024-11-19 17:10:53,819] Trial 4 finished with value: 0.8873969780219781 and parameters: {'n_estimators': 179, 'max_depth': 2, 'min_samples_split': 20, 'min_samples_leaf': 12, 'criterion': 'entropy'}. Best is trial 3 with value: 0.8934752747252747.\n",
      "[I 2024-11-19 17:10:54,356] Trial 5 finished with value: 0.8722184065934065 and parameters: {'n_estimators': 47, 'max_depth': 3, 'min_samples_split': 10, 'min_samples_leaf': 2, 'criterion': 'entropy'}. Best is trial 3 with value: 0.8934752747252747.\n",
      "[I 2024-11-19 17:10:56,312] Trial 6 finished with value: 0.8907967032967032 and parameters: {'n_estimators': 206, 'max_depth': 27, 'min_samples_split': 18, 'min_samples_leaf': 16, 'criterion': 'entropy'}. Best is trial 3 with value: 0.8934752747252747.\n"
     ]
    },
    {
     "name": "stderr",
     "output_type": "stream",
     "text": [
      "[I 2024-11-19 17:10:57,283] Trial 7 finished with value: 0.8925824175824177 and parameters: {'n_estimators': 94, 'max_depth': 20, 'min_samples_split': 3, 'min_samples_leaf': 17, 'criterion': 'entropy'}. Best is trial 3 with value: 0.8934752747252747.\n",
      "[I 2024-11-19 17:10:58,304] Trial 8 finished with value: 0.8871909340659341 and parameters: {'n_estimators': 104, 'max_depth': 21, 'min_samples_split': 18, 'min_samples_leaf': 20, 'criterion': 'entropy'}. Best is trial 3 with value: 0.8934752747252747.\n",
      "[I 2024-11-19 17:10:58,786] Trial 9 finished with value: 0.862087912087912 and parameters: {'n_estimators': 47, 'max_depth': 1, 'min_samples_split': 19, 'min_samples_leaf': 15, 'criterion': 'entropy'}. Best is trial 3 with value: 0.8934752747252747.\n",
      "[I 2024-11-19 17:11:00,365] Trial 10 finished with value: 0.8913461538461538 and parameters: {'n_estimators': 124, 'max_depth': 32, 'min_samples_split': 2, 'min_samples_leaf': 10, 'criterion': 'gini'}. Best is trial 3 with value: 0.8934752747252747.\n",
      "[I 2024-11-19 17:11:03,082] Trial 11 finished with value: 0.8876373626373626 and parameters: {'n_estimators': 265, 'max_depth': 32, 'min_samples_split': 20, 'min_samples_leaf': 20, 'criterion': 'gini'}. Best is trial 3 with value: 0.8934752747252747.\n",
      "[I 2024-11-19 17:11:04,601] Trial 12 finished with value: 0.8869162087912088 and parameters: {'n_estimators': 110, 'max_depth': 8, 'min_samples_split': 2, 'min_samples_leaf': 4, 'criterion': 'entropy'}. Best is trial 3 with value: 0.8934752747252747.\n",
      "[I 2024-11-19 17:11:06,239] Trial 13 finished with value: 0.882554945054945 and parameters: {'n_estimators': 136, 'max_depth': 32, 'min_samples_split': 2, 'min_samples_leaf': 20, 'criterion': 'entropy'}. Best is trial 3 with value: 0.8934752747252747.\n",
      "[I 2024-11-19 17:11:08,386] Trial 14 finished with value: 0.8757211538461538 and parameters: {'n_estimators': 222, 'max_depth': 1, 'min_samples_split': 20, 'min_samples_leaf': 1, 'criterion': 'gini'}. Best is trial 3 with value: 0.8934752747252747.\n",
      "[I 2024-11-19 17:11:10,762] Trial 15 finished with value: 0.8906593406593407 and parameters: {'n_estimators': 210, 'max_depth': 13, 'min_samples_split': 2, 'min_samples_leaf': 20, 'criterion': 'gini'}. Best is trial 3 with value: 0.8934752747252747.\n",
      "[I 2024-11-19 17:11:12,936] Trial 16 finished with value: 0.8903502747252746 and parameters: {'n_estimators': 203, 'max_depth': 32, 'min_samples_split': 20, 'min_samples_leaf': 20, 'criterion': 'gini'}. Best is trial 3 with value: 0.8934752747252747.\n",
      "[I 2024-11-19 17:11:14,284] Trial 17 finished with value: 0.8654876373626375 and parameters: {'n_estimators': 109, 'max_depth': 1, 'min_samples_split': 2, 'min_samples_leaf': 15, 'criterion': 'gini'}. Best is trial 3 with value: 0.8934752747252747.\n",
      "[I 2024-11-19 17:11:15,913] Trial 18 finished with value: 0.9012706043956044 and parameters: {'n_estimators': 115, 'max_depth': 21, 'min_samples_split': 2, 'min_samples_leaf': 7, 'criterion': 'entropy'}. Best is trial 18 with value: 0.9012706043956044.\n",
      "[I 2024-11-19 17:11:17,682] Trial 19 finished with value: 0.8808550824175825 and parameters: {'n_estimators': 127, 'max_depth': 23, 'min_samples_split': 2, 'min_samples_leaf': 1, 'criterion': 'entropy'}. Best is trial 18 with value: 0.9012706043956044.\n",
      "[I 2024-11-19 17:11:19,444] Trial 20 finished with value: 0.893956043956044 and parameters: {'n_estimators': 132, 'max_depth': 22, 'min_samples_split': 2, 'min_samples_leaf': 10, 'criterion': 'entropy'}. Best is trial 18 with value: 0.9012706043956044.\n",
      "[I 2024-11-19 17:11:21,462] Trial 21 finished with value: 0.8900412087912087 and parameters: {'n_estimators': 140, 'max_depth': 30, 'min_samples_split': 8, 'min_samples_leaf': 7, 'criterion': 'entropy'}. Best is trial 18 with value: 0.9012706043956044.\n",
      "[I 2024-11-19 17:11:22,946] Trial 22 finished with value: 0.8922390109890109 and parameters: {'n_estimators': 102, 'max_depth': 30, 'min_samples_split': 2, 'min_samples_leaf': 10, 'criterion': 'entropy'}. Best is trial 18 with value: 0.9012706043956044.\n",
      "[I 2024-11-19 17:11:25,824] Trial 23 finished with value: 0.8844093406593405 and parameters: {'n_estimators': 287, 'max_depth': 1, 'min_samples_split': 20, 'min_samples_leaf': 17, 'criterion': 'entropy'}. Best is trial 18 with value: 0.9012706043956044.\n",
      "[I 2024-11-19 17:11:28,909] Trial 24 finished with value: 0.8885302197802197 and parameters: {'n_estimators': 275, 'max_depth': 32, 'min_samples_split': 2, 'min_samples_leaf': 10, 'criterion': 'gini'}. Best is trial 18 with value: 0.9012706043956044.\n",
      "[I 2024-11-19 17:11:30,464] Trial 25 finished with value: 0.894162087912088 and parameters: {'n_estimators': 120, 'max_depth': 20, 'min_samples_split': 2, 'min_samples_leaf': 7, 'criterion': 'gini'}. Best is trial 18 with value: 0.9012706043956044.\n",
      "[I 2024-11-19 17:11:33,954] Trial 26 finished with value: 0.8967376373626375 and parameters: {'n_estimators': 300, 'max_depth': 32, 'min_samples_split': 20, 'min_samples_leaf': 1, 'criterion': 'entropy'}. Best is trial 18 with value: 0.9012706043956044.\n",
      "[I 2024-11-19 17:11:37,438] Trial 27 finished with value: 0.8843406593406593 and parameters: {'n_estimators': 300, 'max_depth': 32, 'min_samples_split': 2, 'min_samples_leaf': 1, 'criterion': 'gini'}. Best is trial 18 with value: 0.9012706043956044.\n",
      "[I 2024-11-19 17:11:40,807] Trial 28 finished with value: 0.89375 and parameters: {'n_estimators': 300, 'max_depth': 22, 'min_samples_split': 20, 'min_samples_leaf': 7, 'criterion': 'entropy'}. Best is trial 18 with value: 0.9012706043956044.\n",
      "[I 2024-11-19 17:11:43,824] Trial 29 finished with value: 0.892135989010989 and parameters: {'n_estimators': 249, 'max_depth': 32, 'min_samples_split': 20, 'min_samples_leaf': 4, 'criterion': 'entropy'}. Best is trial 18 with value: 0.9012706043956044.\n",
      "[I 2024-11-19 17:11:47,109] Trial 30 finished with value: 0.8922733516483516 and parameters: {'n_estimators': 300, 'max_depth': 32, 'min_samples_split': 20, 'min_samples_leaf': 10, 'criterion': 'entropy'}. Best is trial 18 with value: 0.9012706043956044.\n",
      "[I 2024-11-19 17:11:50,176] Trial 31 finished with value: 0.8907280219780219 and parameters: {'n_estimators': 300, 'max_depth': 20, 'min_samples_split': 2, 'min_samples_leaf': 20, 'criterion': 'entropy'}. Best is trial 18 with value: 0.9012706043956044.\n",
      "[I 2024-11-19 17:11:52,782] Trial 32 finished with value: 0.8796016483516486 and parameters: {'n_estimators': 300, 'max_depth': 1, 'min_samples_split': 2, 'min_samples_leaf': 1, 'criterion': 'entropy'}. Best is trial 18 with value: 0.9012706043956044.\n",
      "[I 2024-11-19 17:11:55,219] Trial 33 finished with value: 0.8944711538461538 and parameters: {'n_estimators': 245, 'max_depth': 18, 'min_samples_split': 2, 'min_samples_leaf': 13, 'criterion': 'entropy'}. Best is trial 18 with value: 0.9012706043956044.\n",
      "[I 2024-11-19 17:11:57,584] Trial 34 finished with value: 0.8912087912087913 and parameters: {'n_estimators': 244, 'max_depth': 18, 'min_samples_split': 20, 'min_samples_leaf': 14, 'criterion': 'gini'}. Best is trial 18 with value: 0.9012706043956044.\n",
      "[I 2024-11-19 17:11:59,794] Trial 35 finished with value: 0.8893543956043957 and parameters: {'n_estimators': 226, 'max_depth': 13, 'min_samples_split': 20, 'min_samples_leaf': 20, 'criterion': 'entropy'}. Best is trial 18 with value: 0.9012706043956044.\n",
      "[I 2024-11-19 17:12:02,017] Trial 36 finished with value: 0.8876030219780221 and parameters: {'n_estimators': 210, 'max_depth': 32, 'min_samples_split': 2, 'min_samples_leaf': 11, 'criterion': 'gini'}. Best is trial 18 with value: 0.9012706043956044.\n",
      "[I 2024-11-19 17:12:03,624] Trial 37 finished with value: 0.8881868131868131 and parameters: {'n_estimators': 135, 'max_depth': 19, 'min_samples_split': 20, 'min_samples_leaf': 11, 'criterion': 'entropy'}. Best is trial 18 with value: 0.9012706043956044.\n",
      "[I 2024-11-19 17:12:04,650] Trial 38 finished with value: 0.8787431318681319 and parameters: {'n_estimators': 66, 'max_depth': 32, 'min_samples_split': 2, 'min_samples_leaf': 20, 'criterion': 'gini'}. Best is trial 18 with value: 0.9012706043956044.\n",
      "[I 2024-11-19 17:12:07,646] Trial 39 finished with value: 0.8958104395604396 and parameters: {'n_estimators': 275, 'max_depth': 22, 'min_samples_split': 20, 'min_samples_leaf': 1, 'criterion': 'entropy'}. Best is trial 18 with value: 0.9012706043956044.\n",
      "[I 2024-11-19 17:12:10,048] Trial 40 finished with value: 0.892548076923077 and parameters: {'n_estimators': 252, 'max_depth': 32, 'min_samples_split': 2, 'min_samples_leaf': 20, 'criterion': 'entropy'}. Best is trial 18 with value: 0.9012706043956044.\n",
      "[I 2024-11-19 17:12:12,110] Trial 41 finished with value: 0.8777472527472527 and parameters: {'n_estimators': 230, 'max_depth': 1, 'min_samples_split': 2, 'min_samples_leaf': 20, 'criterion': 'entropy'}. Best is trial 18 with value: 0.9012706043956044.\n",
      "[I 2024-11-19 17:12:15,024] Trial 42 finished with value: 0.8955357142857144 and parameters: {'n_estimators': 271, 'max_depth': 24, 'min_samples_split': 2, 'min_samples_leaf': 5, 'criterion': 'entropy'}. Best is trial 18 with value: 0.9012706043956044.\n",
      "[I 2024-11-19 17:12:17,651] Trial 43 finished with value: 0.8932005494505495 and parameters: {'n_estimators': 260, 'max_depth': 23, 'min_samples_split': 20, 'min_samples_leaf': 10, 'criterion': 'entropy'}. Best is trial 18 with value: 0.9012706043956044.\n",
      "[I 2024-11-19 17:12:18,988] Trial 44 finished with value: 0.8888392857142857 and parameters: {'n_estimators': 109, 'max_depth': 20, 'min_samples_split': 2, 'min_samples_leaf': 11, 'criterion': 'entropy'}. Best is trial 18 with value: 0.9012706043956044.\n",
      "[I 2024-11-19 17:12:20,672] Trial 45 finished with value: 0.8908653846153847 and parameters: {'n_estimators': 127, 'max_depth': 19, 'min_samples_split': 2, 'min_samples_leaf': 7, 'criterion': 'entropy'}. Best is trial 18 with value: 0.9012706043956044.\n",
      "[I 2024-11-19 17:12:22,032] Trial 46 finished with value: 0.8880151098901099 and parameters: {'n_estimators': 102, 'max_depth': 32, 'min_samples_split': 20, 'min_samples_leaf': 1, 'criterion': 'gini'}. Best is trial 18 with value: 0.9012706043956044.\n",
      "[I 2024-11-19 17:12:25,113] Trial 47 finished with value: 0.8822115384615385 and parameters: {'n_estimators': 280, 'max_depth': 32, 'min_samples_split': 2, 'min_samples_leaf': 1, 'criterion': 'entropy'}. Best is trial 18 with value: 0.9012706043956044.\n",
      "[I 2024-11-19 17:12:28,253] Trial 48 finished with value: 0.8958447802197803 and parameters: {'n_estimators': 300, 'max_depth': 20, 'min_samples_split': 20, 'min_samples_leaf': 1, 'criterion': 'gini'}. Best is trial 18 with value: 0.9012706043956044.\n",
      "[I 2024-11-19 17:12:30,852] Trial 49 finished with value: 0.8936126373626374 and parameters: {'n_estimators': 244, 'max_depth': 23, 'min_samples_split': 20, 'min_samples_leaf': 1, 'criterion': 'gini'}. Best is trial 18 with value: 0.9012706043956044.\n",
      "[I 2024-11-19 17:12:34,106] Trial 50 finished with value: 0.8940247252747252 and parameters: {'n_estimators': 300, 'max_depth': 17, 'min_samples_split': 20, 'min_samples_leaf': 1, 'criterion': 'entropy'}. Best is trial 18 with value: 0.9012706043956044.\n",
      "[I 2024-11-19 17:12:37,054] Trial 51 finished with value: 0.889114010989011 and parameters: {'n_estimators': 300, 'max_depth': 16, 'min_samples_split': 2, 'min_samples_leaf': 10, 'criterion': 'gini'}. Best is trial 18 with value: 0.9012706043956044.\n",
      "[I 2024-11-19 17:12:39,286] Trial 52 finished with value: 0.8924793956043956 and parameters: {'n_estimators': 237, 'max_depth': 23, 'min_samples_split': 2, 'min_samples_leaf': 20, 'criterion': 'gini'}. Best is trial 18 with value: 0.9012706043956044.\n",
      "[I 2024-11-19 17:12:40,975] Trial 53 finished with value: 0.8915865384615385 and parameters: {'n_estimators': 161, 'max_depth': 20, 'min_samples_split': 2, 'min_samples_leaf': 20, 'criterion': 'gini'}. Best is trial 18 with value: 0.9012706043956044.\n",
      "[I 2024-11-19 17:12:44,082] Trial 54 finished with value: 0.8920673076923077 and parameters: {'n_estimators': 300, 'max_depth': 27, 'min_samples_split': 20, 'min_samples_leaf': 1, 'criterion': 'gini'}. Best is trial 18 with value: 0.9012706043956044.\n",
      "[I 2024-11-19 17:12:46,188] Trial 55 finished with value: 0.8889079670329669 and parameters: {'n_estimators': 186, 'max_depth': 32, 'min_samples_split': 20, 'min_samples_leaf': 1, 'criterion': 'gini'}. Best is trial 18 with value: 0.9012706043956044.\n",
      "[I 2024-11-19 17:12:48,982] Trial 56 finished with value: 0.8870192307692306 and parameters: {'n_estimators': 300, 'max_depth': 17, 'min_samples_split': 20, 'min_samples_leaf': 20, 'criterion': 'gini'}. Best is trial 18 with value: 0.9012706043956044.\n",
      "[I 2024-11-19 17:12:51,594] Trial 57 finished with value: 0.8924793956043956 and parameters: {'n_estimators': 230, 'max_depth': 19, 'min_samples_split': 20, 'min_samples_leaf': 1, 'criterion': 'entropy'}. Best is trial 18 with value: 0.9012706043956044.\n",
      "[I 2024-11-19 17:12:54,473] Trial 58 finished with value: 0.8925137362637363 and parameters: {'n_estimators': 300, 'max_depth': 32, 'min_samples_split': 2, 'min_samples_leaf': 20, 'criterion': 'entropy'}. Best is trial 18 with value: 0.9012706043956044.\n",
      "[I 2024-11-19 17:12:55,990] Trial 59 finished with value: 0.8908997252747254 and parameters: {'n_estimators': 125, 'max_depth': 27, 'min_samples_split': 20, 'min_samples_leaf': 13, 'criterion': 'gini'}. Best is trial 18 with value: 0.9012706043956044.\n",
      "[I 2024-11-19 17:12:58,225] Trial 60 finished with value: 0.8898351648351648 and parameters: {'n_estimators': 203, 'max_depth': 21, 'min_samples_split': 2, 'min_samples_leaf': 20, 'criterion': 'entropy'}. Best is trial 18 with value: 0.9012706043956044.\n",
      "[I 2024-11-19 17:13:01,239] Trial 61 finished with value: 0.8805803571428571 and parameters: {'n_estimators': 248, 'max_depth': 18, 'min_samples_split': 2, 'min_samples_leaf': 1, 'criterion': 'gini'}. Best is trial 18 with value: 0.9012706043956044.\n",
      "[I 2024-11-19 17:13:02,880] Trial 62 finished with value: 0.8971840659340659 and parameters: {'n_estimators': 131, 'max_depth': 13, 'min_samples_split': 20, 'min_samples_leaf': 1, 'criterion': 'gini'}. Best is trial 18 with value: 0.9012706043956044.\n",
      "[I 2024-11-19 17:13:04,301] Trial 63 finished with value: 0.8794986263736264 and parameters: {'n_estimators': 130, 'max_depth': 1, 'min_samples_split': 20, 'min_samples_leaf': 1, 'criterion': 'entropy'}. Best is trial 18 with value: 0.9012706043956044.\n",
      "[I 2024-11-19 17:13:06,283] Trial 64 finished with value: 0.8935782967032967 and parameters: {'n_estimators': 164, 'max_depth': 17, 'min_samples_split': 20, 'min_samples_leaf': 6, 'criterion': 'gini'}. Best is trial 18 with value: 0.9012706043956044.\n",
      "[I 2024-11-19 17:13:07,805] Trial 65 finished with value: 0.8893543956043957 and parameters: {'n_estimators': 118, 'max_depth': 19, 'min_samples_split': 20, 'min_samples_leaf': 1, 'criterion': 'gini'}. Best is trial 18 with value: 0.9012706043956044.\n",
      "[I 2024-11-19 17:13:09,587] Trial 66 finished with value: 0.8915521978021979 and parameters: {'n_estimators': 172, 'max_depth': 15, 'min_samples_split': 20, 'min_samples_leaf': 20, 'criterion': 'gini'}. Best is trial 18 with value: 0.9012706043956044.\n",
      "[I 2024-11-19 17:13:11,853] Trial 67 finished with value: 0.892135989010989 and parameters: {'n_estimators': 200, 'max_depth': 17, 'min_samples_split': 20, 'min_samples_leaf': 10, 'criterion': 'entropy'}. Best is trial 18 with value: 0.9012706043956044.\n",
      "[I 2024-11-19 17:13:15,167] Trial 68 finished with value: 0.8950206043956044 and parameters: {'n_estimators': 300, 'max_depth': 24, 'min_samples_split': 20, 'min_samples_leaf': 1, 'criterion': 'entropy'}. Best is trial 18 with value: 0.9012706043956044.\n",
      "[I 2024-11-19 17:13:18,068] Trial 69 finished with value: 0.891243131868132 and parameters: {'n_estimators': 300, 'max_depth': 32, 'min_samples_split': 20, 'min_samples_leaf': 20, 'criterion': 'entropy'}. Best is trial 18 with value: 0.9012706043956044.\n",
      "[I 2024-11-19 17:13:20,662] Trial 70 finished with value: 0.8904876373626373 and parameters: {'n_estimators': 262, 'max_depth': 22, 'min_samples_split': 2, 'min_samples_leaf': 20, 'criterion': 'entropy'}. Best is trial 18 with value: 0.9012706043956044.\n",
      "[I 2024-11-19 17:13:23,716] Trial 71 finished with value: 0.8941277472527472 and parameters: {'n_estimators': 300, 'max_depth': 14, 'min_samples_split': 20, 'min_samples_leaf': 8, 'criterion': 'entropy'}. Best is trial 18 with value: 0.9012706043956044.\n",
      "[I 2024-11-19 17:13:26,953] Trial 72 finished with value: 0.8929945054945054 and parameters: {'n_estimators': 300, 'max_depth': 11, 'min_samples_split': 20, 'min_samples_leaf': 1, 'criterion': 'gini'}. Best is trial 18 with value: 0.9012706043956044.\n",
      "[I 2024-11-19 17:13:28,425] Trial 73 finished with value: 0.8890453296703298 and parameters: {'n_estimators': 122, 'max_depth': 22, 'min_samples_split': 2, 'min_samples_leaf': 14, 'criterion': 'gini'}. Best is trial 18 with value: 0.9012706043956044.\n",
      "[I 2024-11-19 17:13:31,270] Trial 74 finished with value: 0.8902129120879121 and parameters: {'n_estimators': 266, 'max_depth': 16, 'min_samples_split': 20, 'min_samples_leaf': 6, 'criterion': 'entropy'}. Best is trial 18 with value: 0.9012706043956044.\n",
      "[I 2024-11-19 17:13:33,944] Trial 75 finished with value: 0.8754807692307691 and parameters: {'n_estimators': 300, 'max_depth': 1, 'min_samples_split': 2, 'min_samples_leaf': 20, 'criterion': 'gini'}. Best is trial 18 with value: 0.9012706043956044.\n",
      "[I 2024-11-19 17:13:36,113] Trial 76 finished with value: 0.8906593406593407 and parameters: {'n_estimators': 175, 'max_depth': 19, 'min_samples_split': 20, 'min_samples_leaf': 1, 'criterion': 'gini'}. Best is trial 18 with value: 0.9012706043956044.\n",
      "[I 2024-11-19 17:13:39,220] Trial 77 finished with value: 0.8944024725274724 and parameters: {'n_estimators': 300, 'max_depth': 24, 'min_samples_split': 2, 'min_samples_leaf': 10, 'criterion': 'entropy'}. Best is trial 18 with value: 0.9012706043956044.\n",
      "[I 2024-11-19 17:13:41,283] Trial 78 finished with value: 0.8862637362637363 and parameters: {'n_estimators': 196, 'max_depth': 16, 'min_samples_split': 20, 'min_samples_leaf': 12, 'criterion': 'gini'}. Best is trial 18 with value: 0.9012706043956044.\n",
      "[I 2024-11-19 17:13:44,098] Trial 79 finished with value: 0.8889423076923079 and parameters: {'n_estimators': 300, 'max_depth': 32, 'min_samples_split': 2, 'min_samples_leaf': 20, 'criterion': 'gini'}. Best is trial 18 with value: 0.9012706043956044.\n",
      "[I 2024-11-19 17:13:46,609] Trial 80 finished with value: 0.8945741758241759 and parameters: {'n_estimators': 215, 'max_depth': 32, 'min_samples_split': 20, 'min_samples_leaf': 1, 'criterion': 'entropy'}. Best is trial 18 with value: 0.9012706043956044.\n",
      "[I 2024-11-19 17:13:49,144] Trial 81 finished with value: 0.892651098901099 and parameters: {'n_estimators': 238, 'max_depth': 32, 'min_samples_split': 20, 'min_samples_leaf': 12, 'criterion': 'entropy'}. Best is trial 18 with value: 0.9012706043956044.\n",
      "[I 2024-11-19 17:13:51,824] Trial 82 finished with value: 0.891208791208791 and parameters: {'n_estimators': 251, 'max_depth': 32, 'min_samples_split': 20, 'min_samples_leaf': 1, 'criterion': 'gini'}. Best is trial 18 with value: 0.9012706043956044.\n",
      "[I 2024-11-19 17:13:53,511] Trial 83 finished with value: 0.8904532967032968 and parameters: {'n_estimators': 156, 'max_depth': 14, 'min_samples_split': 2, 'min_samples_leaf': 20, 'criterion': 'entropy'}. Best is trial 18 with value: 0.9012706043956044.\n",
      "[I 2024-11-19 17:13:54,713] Trial 84 finished with value: 0.8853537087912088 and parameters: {'n_estimators': 85, 'max_depth': 32, 'min_samples_split': 2, 'min_samples_leaf': 1, 'criterion': 'gini'}. Best is trial 18 with value: 0.9012706043956044.\n",
      "[I 2024-11-19 17:13:57,678] Trial 85 finished with value: 0.8899038461538462 and parameters: {'n_estimators': 300, 'max_depth': 23, 'min_samples_split': 20, 'min_samples_leaf': 12, 'criterion': 'entropy'}. Best is trial 18 with value: 0.9012706043956044.\n",
      "[I 2024-11-19 17:14:01,082] Trial 86 finished with value: 0.884117445054945 and parameters: {'n_estimators': 300, 'max_depth': 18, 'min_samples_split': 2, 'min_samples_leaf': 1, 'criterion': 'entropy'}. Best is trial 18 with value: 0.9012706043956044.\n",
      "[I 2024-11-19 17:14:03,081] Trial 87 finished with value: 0.8922390109890109 and parameters: {'n_estimators': 172, 'max_depth': 32, 'min_samples_split': 20, 'min_samples_leaf': 9, 'criterion': 'entropy'}. Best is trial 18 with value: 0.9012706043956044.\n",
      "[I 2024-11-19 17:14:04,627] Trial 88 finished with value: 0.8902815934065936 and parameters: {'n_estimators': 140, 'max_depth': 32, 'min_samples_split': 20, 'min_samples_leaf': 20, 'criterion': 'gini'}. Best is trial 18 with value: 0.9012706043956044.\n",
      "[I 2024-11-19 17:14:06,011] Trial 89 finished with value: 0.8821428571428571 and parameters: {'n_estimators': 103, 'max_depth': 32, 'min_samples_split': 20, 'min_samples_leaf': 11, 'criterion': 'entropy'}. Best is trial 18 with value: 0.9012706043956044.\n",
      "[I 2024-11-19 17:14:07,886] Trial 90 finished with value: 0.8924107142857143 and parameters: {'n_estimators': 152, 'max_depth': 19, 'min_samples_split': 20, 'min_samples_leaf': 1, 'criterion': 'entropy'}. Best is trial 18 with value: 0.9012706043956044.\n",
      "[I 2024-11-19 17:14:09,662] Trial 91 finished with value: 0.8887362637362637 and parameters: {'n_estimators': 167, 'max_depth': 20, 'min_samples_split': 20, 'min_samples_leaf': 20, 'criterion': 'entropy'}. Best is trial 18 with value: 0.9012706043956044.\n",
      "[I 2024-11-19 17:14:12,645] Trial 92 finished with value: 0.8927541208791208 and parameters: {'n_estimators': 300, 'max_depth': 32, 'min_samples_split': 20, 'min_samples_leaf': 8, 'criterion': 'gini'}. Best is trial 18 with value: 0.9012706043956044.\n",
      "[I 2024-11-19 17:14:14,933] Trial 93 finished with value: 0.8880837912087912 and parameters: {'n_estimators': 220, 'max_depth': 25, 'min_samples_split': 2, 'min_samples_leaf': 10, 'criterion': 'entropy'}. Best is trial 18 with value: 0.9012706043956044.\n",
      "[I 2024-11-19 17:14:16,652] Trial 94 finished with value: 0.895260989010989 and parameters: {'n_estimators': 148, 'max_depth': 32, 'min_samples_split': 20, 'min_samples_leaf': 1, 'criterion': 'gini'}. Best is trial 18 with value: 0.9012706043956044.\n",
      "[I 2024-11-19 17:14:20,000] Trial 95 finished with value: 0.8922733516483516 and parameters: {'n_estimators': 300, 'max_depth': 32, 'min_samples_split': 20, 'min_samples_leaf': 1, 'criterion': 'entropy'}. Best is trial 18 with value: 0.9012706043956044.\n",
      "[I 2024-11-19 17:14:21,866] Trial 96 finished with value: 0.8872596153846153 and parameters: {'n_estimators': 154, 'max_depth': 32, 'min_samples_split': 2, 'min_samples_leaf': 1, 'criterion': 'gini'}. Best is trial 18 with value: 0.9012706043956044.\n",
      "[I 2024-11-19 17:14:23,441] Trial 97 finished with value: 0.8948832417582417 and parameters: {'n_estimators': 131, 'max_depth': 15, 'min_samples_split': 20, 'min_samples_leaf': 12, 'criterion': 'gini'}. Best is trial 18 with value: 0.9012706043956044.\n",
      "[I 2024-11-19 17:14:25,402] Trial 98 finished with value: 0.8905563186813186 and parameters: {'n_estimators': 160, 'max_depth': 32, 'min_samples_split': 20, 'min_samples_leaf': 1, 'criterion': 'entropy'}. Best is trial 18 with value: 0.9012706043956044.\n",
      "[I 2024-11-19 17:14:27,389] Trial 99 finished with value: 0.8949175824175825 and parameters: {'n_estimators': 151, 'max_depth': 25, 'min_samples_split': 20, 'min_samples_leaf': 8, 'criterion': 'gini'}. Best is trial 18 with value: 0.9012706043956044.\n"
     ]
    }
   ],
   "source": [
    "# ---------------------------------------------------------------------------- #\n",
    "#                                 OPTIMIZATION                                 #\n",
    "# ---------------------------------------------------------------------------- #\n",
    "\n",
    "# Initiate CodeCarbon to track emissions\n",
    "tracker = EmissionsTracker('RF optimization', log_level='warning')\n",
    "tracker.start()\n",
    "\n",
    "# Objective function\n",
    "def objective(trial):\n",
    "    # Define parameters\n",
    "    \n",
    "    n_estimators = trial.suggest_int('n_estimators', 5, 300)\n",
    "    max_depth = trial.suggest_int('max_depth', 1, 32)  # Faixa para max_depth\n",
    "    min_samples_split = trial.suggest_int('min_samples_split', 2, 20)  # Faixa para min_samples_split\n",
    "    min_samples_leaf = trial.suggest_int('min_samples_leaf', 1, 20)  # Faixa para min_samples_leaf\n",
    "    criterion = trial.suggest_categorical('criterion', ['gini', 'entropy'])  # Critério de divisão\n",
    "\n",
    "    # Create model\n",
    "    temp_model = RandomForestClassifier(\n",
    "        n_estimators=n_estimators,\n",
    "        max_depth=max_depth,\n",
    "        min_samples_split=min_samples_split,\n",
    "        min_samples_leaf=min_samples_leaf,\n",
    "        criterion=criterion\n",
    "    )\n",
    "    \n",
    "    # Define pipeline depending on whether PCA is requested or not\n",
    "    if PC_Features:\n",
    "        steps = [\n",
    "            ('preprocessor', preprocessor),\n",
    "            ('pca', PCA(n_components=12)),\n",
    "            ('RF-classifier', temp_model)\n",
    "        ]\n",
    "    else:\n",
    "        steps = [\n",
    "            ('preprocessor', preprocessor),\n",
    "            ('RF-classifier', temp_model)\n",
    "        ]\n",
    "        \n",
    "    pipeline = Pipeline(steps)\n",
    "    \n",
    "    # Perform cross-validation\n",
    "    roc_auc = cross_val_score(pipeline, X, y, scoring='roc_auc', cv=K_Folds).mean()\n",
    "    \n",
    "    return roc_auc\n",
    "    \n",
    "# Optimizing with Optuna\n",
    "study = optuna.create_study(direction='maximize', sampler=GPSampler())\n",
    "study.optimize(objective, n_trials=100)"
   ]
  },
  {
   "cell_type": "code",
   "execution_count": 22,
   "metadata": {},
   "outputs": [
    {
     "name": "stdout",
     "output_type": "stream",
     "text": [
      "AUC-ROC: 0.9012706043956044\n",
      "Best hyperparameters: {'n_estimators': 115, 'max_depth': 21, 'min_samples_split': 2, 'min_samples_leaf': 7, 'criterion': 'entropy'}\n"
     ]
    }
   ],
   "source": [
    "# Show best model\n",
    "trial = study.best_trial\n",
    "print('AUC-ROC: {}'.format(trial.value))\n",
    "print(\"Best hyperparameters: {}\".format(trial.params))\n",
    "\n",
    "# Save best trial parameters to a JSON file\n",
    "with open('params/RF-params.json', 'w') as f:\n",
    "    json.dump(trial.params, f)"
   ]
  },
  {
   "cell_type": "code",
   "execution_count": 23,
   "metadata": {},
   "outputs": [
    {
     "data": {
      "application/vnd.plotly.v1+json": {
       "config": {
        "plotlyServerURL": "https://plot.ly"
       },
       "data": [
        {
         "mode": "markers",
         "name": "Objective Value",
         "type": "scatter",
         "x": [
          0,
          1,
          2,
          3,
          4,
          5,
          6,
          7,
          8,
          9,
          10,
          11,
          12,
          13,
          14,
          15,
          16,
          17,
          18,
          19,
          20,
          21,
          22,
          23,
          24,
          25,
          26,
          27,
          28,
          29,
          30,
          31,
          32,
          33,
          34,
          35,
          36,
          37,
          38,
          39,
          40,
          41,
          42,
          43,
          44,
          45,
          46,
          47,
          48,
          49,
          50,
          51,
          52,
          53,
          54,
          55,
          56,
          57,
          58,
          59,
          60,
          61,
          62,
          63,
          64,
          65,
          66,
          67,
          68,
          69,
          70,
          71,
          72,
          73,
          74,
          75,
          76,
          77,
          78,
          79,
          80,
          81,
          82,
          83,
          84,
          85,
          86,
          87,
          88,
          89,
          90,
          91,
          92,
          93,
          94,
          95,
          96,
          97,
          98,
          99
         ],
         "y": [
          0.8431490384615385,
          0.8875343406593406,
          0.8856456043956046,
          0.8934752747252747,
          0.8873969780219781,
          0.8722184065934065,
          0.8907967032967032,
          0.8925824175824177,
          0.8871909340659341,
          0.862087912087912,
          0.8913461538461538,
          0.8876373626373626,
          0.8869162087912088,
          0.882554945054945,
          0.8757211538461538,
          0.8906593406593407,
          0.8903502747252746,
          0.8654876373626375,
          0.9012706043956044,
          0.8808550824175825,
          0.893956043956044,
          0.8900412087912087,
          0.8922390109890109,
          0.8844093406593405,
          0.8885302197802197,
          0.894162087912088,
          0.8967376373626375,
          0.8843406593406593,
          0.89375,
          0.892135989010989,
          0.8922733516483516,
          0.8907280219780219,
          0.8796016483516486,
          0.8944711538461538,
          0.8912087912087913,
          0.8893543956043957,
          0.8876030219780221,
          0.8881868131868131,
          0.8787431318681319,
          0.8958104395604396,
          0.892548076923077,
          0.8777472527472527,
          0.8955357142857144,
          0.8932005494505495,
          0.8888392857142857,
          0.8908653846153847,
          0.8880151098901099,
          0.8822115384615385,
          0.8958447802197803,
          0.8936126373626374,
          0.8940247252747252,
          0.889114010989011,
          0.8924793956043956,
          0.8915865384615385,
          0.8920673076923077,
          0.8889079670329669,
          0.8870192307692306,
          0.8924793956043956,
          0.8925137362637363,
          0.8908997252747254,
          0.8898351648351648,
          0.8805803571428571,
          0.8971840659340659,
          0.8794986263736264,
          0.8935782967032967,
          0.8893543956043957,
          0.8915521978021979,
          0.892135989010989,
          0.8950206043956044,
          0.891243131868132,
          0.8904876373626373,
          0.8941277472527472,
          0.8929945054945054,
          0.8890453296703298,
          0.8902129120879121,
          0.8754807692307691,
          0.8906593406593407,
          0.8944024725274724,
          0.8862637362637363,
          0.8889423076923079,
          0.8945741758241759,
          0.892651098901099,
          0.891208791208791,
          0.8904532967032968,
          0.8853537087912088,
          0.8899038461538462,
          0.884117445054945,
          0.8922390109890109,
          0.8902815934065936,
          0.8821428571428571,
          0.8924107142857143,
          0.8887362637362637,
          0.8927541208791208,
          0.8880837912087912,
          0.895260989010989,
          0.8922733516483516,
          0.8872596153846153,
          0.8948832417582417,
          0.8905563186813186,
          0.8949175824175825
         ]
        },
        {
         "mode": "lines",
         "name": "Best Value",
         "type": "scatter",
         "x": [
          0,
          1,
          2,
          3,
          4,
          5,
          6,
          7,
          8,
          9,
          10,
          11,
          12,
          13,
          14,
          15,
          16,
          17,
          18,
          19,
          20,
          21,
          22,
          23,
          24,
          25,
          26,
          27,
          28,
          29,
          30,
          31,
          32,
          33,
          34,
          35,
          36,
          37,
          38,
          39,
          40,
          41,
          42,
          43,
          44,
          45,
          46,
          47,
          48,
          49,
          50,
          51,
          52,
          53,
          54,
          55,
          56,
          57,
          58,
          59,
          60,
          61,
          62,
          63,
          64,
          65,
          66,
          67,
          68,
          69,
          70,
          71,
          72,
          73,
          74,
          75,
          76,
          77,
          78,
          79,
          80,
          81,
          82,
          83,
          84,
          85,
          86,
          87,
          88,
          89,
          90,
          91,
          92,
          93,
          94,
          95,
          96,
          97,
          98,
          99
         ],
         "y": [
          0.8431490384615385,
          0.8875343406593406,
          0.8875343406593406,
          0.8934752747252747,
          0.8934752747252747,
          0.8934752747252747,
          0.8934752747252747,
          0.8934752747252747,
          0.8934752747252747,
          0.8934752747252747,
          0.8934752747252747,
          0.8934752747252747,
          0.8934752747252747,
          0.8934752747252747,
          0.8934752747252747,
          0.8934752747252747,
          0.8934752747252747,
          0.8934752747252747,
          0.9012706043956044,
          0.9012706043956044,
          0.9012706043956044,
          0.9012706043956044,
          0.9012706043956044,
          0.9012706043956044,
          0.9012706043956044,
          0.9012706043956044,
          0.9012706043956044,
          0.9012706043956044,
          0.9012706043956044,
          0.9012706043956044,
          0.9012706043956044,
          0.9012706043956044,
          0.9012706043956044,
          0.9012706043956044,
          0.9012706043956044,
          0.9012706043956044,
          0.9012706043956044,
          0.9012706043956044,
          0.9012706043956044,
          0.9012706043956044,
          0.9012706043956044,
          0.9012706043956044,
          0.9012706043956044,
          0.9012706043956044,
          0.9012706043956044,
          0.9012706043956044,
          0.9012706043956044,
          0.9012706043956044,
          0.9012706043956044,
          0.9012706043956044,
          0.9012706043956044,
          0.9012706043956044,
          0.9012706043956044,
          0.9012706043956044,
          0.9012706043956044,
          0.9012706043956044,
          0.9012706043956044,
          0.9012706043956044,
          0.9012706043956044,
          0.9012706043956044,
          0.9012706043956044,
          0.9012706043956044,
          0.9012706043956044,
          0.9012706043956044,
          0.9012706043956044,
          0.9012706043956044,
          0.9012706043956044,
          0.9012706043956044,
          0.9012706043956044,
          0.9012706043956044,
          0.9012706043956044,
          0.9012706043956044,
          0.9012706043956044,
          0.9012706043956044,
          0.9012706043956044,
          0.9012706043956044,
          0.9012706043956044,
          0.9012706043956044,
          0.9012706043956044,
          0.9012706043956044,
          0.9012706043956044,
          0.9012706043956044,
          0.9012706043956044,
          0.9012706043956044,
          0.9012706043956044,
          0.9012706043956044,
          0.9012706043956044,
          0.9012706043956044,
          0.9012706043956044,
          0.9012706043956044,
          0.9012706043956044,
          0.9012706043956044,
          0.9012706043956044,
          0.9012706043956044,
          0.9012706043956044,
          0.9012706043956044,
          0.9012706043956044,
          0.9012706043956044,
          0.9012706043956044,
          0.9012706043956044
         ]
        },
        {
         "marker": {
          "color": "#cccccc"
         },
         "mode": "markers",
         "name": "Infeasible Trial",
         "showlegend": false,
         "type": "scatter",
         "x": [],
         "y": []
        }
       ],
       "layout": {
        "template": {
         "data": {
          "bar": [
           {
            "error_x": {
             "color": "#2a3f5f"
            },
            "error_y": {
             "color": "#2a3f5f"
            },
            "marker": {
             "line": {
              "color": "#E5ECF6",
              "width": 0.5
             },
             "pattern": {
              "fillmode": "overlay",
              "size": 10,
              "solidity": 0.2
             }
            },
            "type": "bar"
           }
          ],
          "barpolar": [
           {
            "marker": {
             "line": {
              "color": "#E5ECF6",
              "width": 0.5
             },
             "pattern": {
              "fillmode": "overlay",
              "size": 10,
              "solidity": 0.2
             }
            },
            "type": "barpolar"
           }
          ],
          "carpet": [
           {
            "aaxis": {
             "endlinecolor": "#2a3f5f",
             "gridcolor": "white",
             "linecolor": "white",
             "minorgridcolor": "white",
             "startlinecolor": "#2a3f5f"
            },
            "baxis": {
             "endlinecolor": "#2a3f5f",
             "gridcolor": "white",
             "linecolor": "white",
             "minorgridcolor": "white",
             "startlinecolor": "#2a3f5f"
            },
            "type": "carpet"
           }
          ],
          "choropleth": [
           {
            "colorbar": {
             "outlinewidth": 0,
             "ticks": ""
            },
            "type": "choropleth"
           }
          ],
          "contour": [
           {
            "colorbar": {
             "outlinewidth": 0,
             "ticks": ""
            },
            "colorscale": [
             [
              0,
              "#0d0887"
             ],
             [
              0.1111111111111111,
              "#46039f"
             ],
             [
              0.2222222222222222,
              "#7201a8"
             ],
             [
              0.3333333333333333,
              "#9c179e"
             ],
             [
              0.4444444444444444,
              "#bd3786"
             ],
             [
              0.5555555555555556,
              "#d8576b"
             ],
             [
              0.6666666666666666,
              "#ed7953"
             ],
             [
              0.7777777777777778,
              "#fb9f3a"
             ],
             [
              0.8888888888888888,
              "#fdca26"
             ],
             [
              1,
              "#f0f921"
             ]
            ],
            "type": "contour"
           }
          ],
          "contourcarpet": [
           {
            "colorbar": {
             "outlinewidth": 0,
             "ticks": ""
            },
            "type": "contourcarpet"
           }
          ],
          "heatmap": [
           {
            "colorbar": {
             "outlinewidth": 0,
             "ticks": ""
            },
            "colorscale": [
             [
              0,
              "#0d0887"
             ],
             [
              0.1111111111111111,
              "#46039f"
             ],
             [
              0.2222222222222222,
              "#7201a8"
             ],
             [
              0.3333333333333333,
              "#9c179e"
             ],
             [
              0.4444444444444444,
              "#bd3786"
             ],
             [
              0.5555555555555556,
              "#d8576b"
             ],
             [
              0.6666666666666666,
              "#ed7953"
             ],
             [
              0.7777777777777778,
              "#fb9f3a"
             ],
             [
              0.8888888888888888,
              "#fdca26"
             ],
             [
              1,
              "#f0f921"
             ]
            ],
            "type": "heatmap"
           }
          ],
          "heatmapgl": [
           {
            "colorbar": {
             "outlinewidth": 0,
             "ticks": ""
            },
            "colorscale": [
             [
              0,
              "#0d0887"
             ],
             [
              0.1111111111111111,
              "#46039f"
             ],
             [
              0.2222222222222222,
              "#7201a8"
             ],
             [
              0.3333333333333333,
              "#9c179e"
             ],
             [
              0.4444444444444444,
              "#bd3786"
             ],
             [
              0.5555555555555556,
              "#d8576b"
             ],
             [
              0.6666666666666666,
              "#ed7953"
             ],
             [
              0.7777777777777778,
              "#fb9f3a"
             ],
             [
              0.8888888888888888,
              "#fdca26"
             ],
             [
              1,
              "#f0f921"
             ]
            ],
            "type": "heatmapgl"
           }
          ],
          "histogram": [
           {
            "marker": {
             "pattern": {
              "fillmode": "overlay",
              "size": 10,
              "solidity": 0.2
             }
            },
            "type": "histogram"
           }
          ],
          "histogram2d": [
           {
            "colorbar": {
             "outlinewidth": 0,
             "ticks": ""
            },
            "colorscale": [
             [
              0,
              "#0d0887"
             ],
             [
              0.1111111111111111,
              "#46039f"
             ],
             [
              0.2222222222222222,
              "#7201a8"
             ],
             [
              0.3333333333333333,
              "#9c179e"
             ],
             [
              0.4444444444444444,
              "#bd3786"
             ],
             [
              0.5555555555555556,
              "#d8576b"
             ],
             [
              0.6666666666666666,
              "#ed7953"
             ],
             [
              0.7777777777777778,
              "#fb9f3a"
             ],
             [
              0.8888888888888888,
              "#fdca26"
             ],
             [
              1,
              "#f0f921"
             ]
            ],
            "type": "histogram2d"
           }
          ],
          "histogram2dcontour": [
           {
            "colorbar": {
             "outlinewidth": 0,
             "ticks": ""
            },
            "colorscale": [
             [
              0,
              "#0d0887"
             ],
             [
              0.1111111111111111,
              "#46039f"
             ],
             [
              0.2222222222222222,
              "#7201a8"
             ],
             [
              0.3333333333333333,
              "#9c179e"
             ],
             [
              0.4444444444444444,
              "#bd3786"
             ],
             [
              0.5555555555555556,
              "#d8576b"
             ],
             [
              0.6666666666666666,
              "#ed7953"
             ],
             [
              0.7777777777777778,
              "#fb9f3a"
             ],
             [
              0.8888888888888888,
              "#fdca26"
             ],
             [
              1,
              "#f0f921"
             ]
            ],
            "type": "histogram2dcontour"
           }
          ],
          "mesh3d": [
           {
            "colorbar": {
             "outlinewidth": 0,
             "ticks": ""
            },
            "type": "mesh3d"
           }
          ],
          "parcoords": [
           {
            "line": {
             "colorbar": {
              "outlinewidth": 0,
              "ticks": ""
             }
            },
            "type": "parcoords"
           }
          ],
          "pie": [
           {
            "automargin": true,
            "type": "pie"
           }
          ],
          "scatter": [
           {
            "fillpattern": {
             "fillmode": "overlay",
             "size": 10,
             "solidity": 0.2
            },
            "type": "scatter"
           }
          ],
          "scatter3d": [
           {
            "line": {
             "colorbar": {
              "outlinewidth": 0,
              "ticks": ""
             }
            },
            "marker": {
             "colorbar": {
              "outlinewidth": 0,
              "ticks": ""
             }
            },
            "type": "scatter3d"
           }
          ],
          "scattercarpet": [
           {
            "marker": {
             "colorbar": {
              "outlinewidth": 0,
              "ticks": ""
             }
            },
            "type": "scattercarpet"
           }
          ],
          "scattergeo": [
           {
            "marker": {
             "colorbar": {
              "outlinewidth": 0,
              "ticks": ""
             }
            },
            "type": "scattergeo"
           }
          ],
          "scattergl": [
           {
            "marker": {
             "colorbar": {
              "outlinewidth": 0,
              "ticks": ""
             }
            },
            "type": "scattergl"
           }
          ],
          "scattermapbox": [
           {
            "marker": {
             "colorbar": {
              "outlinewidth": 0,
              "ticks": ""
             }
            },
            "type": "scattermapbox"
           }
          ],
          "scatterpolar": [
           {
            "marker": {
             "colorbar": {
              "outlinewidth": 0,
              "ticks": ""
             }
            },
            "type": "scatterpolar"
           }
          ],
          "scatterpolargl": [
           {
            "marker": {
             "colorbar": {
              "outlinewidth": 0,
              "ticks": ""
             }
            },
            "type": "scatterpolargl"
           }
          ],
          "scatterternary": [
           {
            "marker": {
             "colorbar": {
              "outlinewidth": 0,
              "ticks": ""
             }
            },
            "type": "scatterternary"
           }
          ],
          "surface": [
           {
            "colorbar": {
             "outlinewidth": 0,
             "ticks": ""
            },
            "colorscale": [
             [
              0,
              "#0d0887"
             ],
             [
              0.1111111111111111,
              "#46039f"
             ],
             [
              0.2222222222222222,
              "#7201a8"
             ],
             [
              0.3333333333333333,
              "#9c179e"
             ],
             [
              0.4444444444444444,
              "#bd3786"
             ],
             [
              0.5555555555555556,
              "#d8576b"
             ],
             [
              0.6666666666666666,
              "#ed7953"
             ],
             [
              0.7777777777777778,
              "#fb9f3a"
             ],
             [
              0.8888888888888888,
              "#fdca26"
             ],
             [
              1,
              "#f0f921"
             ]
            ],
            "type": "surface"
           }
          ],
          "table": [
           {
            "cells": {
             "fill": {
              "color": "#EBF0F8"
             },
             "line": {
              "color": "white"
             }
            },
            "header": {
             "fill": {
              "color": "#C8D4E3"
             },
             "line": {
              "color": "white"
             }
            },
            "type": "table"
           }
          ]
         },
         "layout": {
          "annotationdefaults": {
           "arrowcolor": "#2a3f5f",
           "arrowhead": 0,
           "arrowwidth": 1
          },
          "autotypenumbers": "strict",
          "coloraxis": {
           "colorbar": {
            "outlinewidth": 0,
            "ticks": ""
           }
          },
          "colorscale": {
           "diverging": [
            [
             0,
             "#8e0152"
            ],
            [
             0.1,
             "#c51b7d"
            ],
            [
             0.2,
             "#de77ae"
            ],
            [
             0.3,
             "#f1b6da"
            ],
            [
             0.4,
             "#fde0ef"
            ],
            [
             0.5,
             "#f7f7f7"
            ],
            [
             0.6,
             "#e6f5d0"
            ],
            [
             0.7,
             "#b8e186"
            ],
            [
             0.8,
             "#7fbc41"
            ],
            [
             0.9,
             "#4d9221"
            ],
            [
             1,
             "#276419"
            ]
           ],
           "sequential": [
            [
             0,
             "#0d0887"
            ],
            [
             0.1111111111111111,
             "#46039f"
            ],
            [
             0.2222222222222222,
             "#7201a8"
            ],
            [
             0.3333333333333333,
             "#9c179e"
            ],
            [
             0.4444444444444444,
             "#bd3786"
            ],
            [
             0.5555555555555556,
             "#d8576b"
            ],
            [
             0.6666666666666666,
             "#ed7953"
            ],
            [
             0.7777777777777778,
             "#fb9f3a"
            ],
            [
             0.8888888888888888,
             "#fdca26"
            ],
            [
             1,
             "#f0f921"
            ]
           ],
           "sequentialminus": [
            [
             0,
             "#0d0887"
            ],
            [
             0.1111111111111111,
             "#46039f"
            ],
            [
             0.2222222222222222,
             "#7201a8"
            ],
            [
             0.3333333333333333,
             "#9c179e"
            ],
            [
             0.4444444444444444,
             "#bd3786"
            ],
            [
             0.5555555555555556,
             "#d8576b"
            ],
            [
             0.6666666666666666,
             "#ed7953"
            ],
            [
             0.7777777777777778,
             "#fb9f3a"
            ],
            [
             0.8888888888888888,
             "#fdca26"
            ],
            [
             1,
             "#f0f921"
            ]
           ]
          },
          "colorway": [
           "#636efa",
           "#EF553B",
           "#00cc96",
           "#ab63fa",
           "#FFA15A",
           "#19d3f3",
           "#FF6692",
           "#B6E880",
           "#FF97FF",
           "#FECB52"
          ],
          "font": {
           "color": "#2a3f5f"
          },
          "geo": {
           "bgcolor": "white",
           "lakecolor": "white",
           "landcolor": "#E5ECF6",
           "showlakes": true,
           "showland": true,
           "subunitcolor": "white"
          },
          "hoverlabel": {
           "align": "left"
          },
          "hovermode": "closest",
          "mapbox": {
           "style": "light"
          },
          "paper_bgcolor": "white",
          "plot_bgcolor": "#E5ECF6",
          "polar": {
           "angularaxis": {
            "gridcolor": "white",
            "linecolor": "white",
            "ticks": ""
           },
           "bgcolor": "#E5ECF6",
           "radialaxis": {
            "gridcolor": "white",
            "linecolor": "white",
            "ticks": ""
           }
          },
          "scene": {
           "xaxis": {
            "backgroundcolor": "#E5ECF6",
            "gridcolor": "white",
            "gridwidth": 2,
            "linecolor": "white",
            "showbackground": true,
            "ticks": "",
            "zerolinecolor": "white"
           },
           "yaxis": {
            "backgroundcolor": "#E5ECF6",
            "gridcolor": "white",
            "gridwidth": 2,
            "linecolor": "white",
            "showbackground": true,
            "ticks": "",
            "zerolinecolor": "white"
           },
           "zaxis": {
            "backgroundcolor": "#E5ECF6",
            "gridcolor": "white",
            "gridwidth": 2,
            "linecolor": "white",
            "showbackground": true,
            "ticks": "",
            "zerolinecolor": "white"
           }
          },
          "shapedefaults": {
           "line": {
            "color": "#2a3f5f"
           }
          },
          "ternary": {
           "aaxis": {
            "gridcolor": "white",
            "linecolor": "white",
            "ticks": ""
           },
           "baxis": {
            "gridcolor": "white",
            "linecolor": "white",
            "ticks": ""
           },
           "bgcolor": "#E5ECF6",
           "caxis": {
            "gridcolor": "white",
            "linecolor": "white",
            "ticks": ""
           }
          },
          "title": {
           "x": 0.05
          },
          "xaxis": {
           "automargin": true,
           "gridcolor": "white",
           "linecolor": "white",
           "ticks": "",
           "title": {
            "standoff": 15
           },
           "zerolinecolor": "white",
           "zerolinewidth": 2
          },
          "yaxis": {
           "automargin": true,
           "gridcolor": "white",
           "linecolor": "white",
           "ticks": "",
           "title": {
            "standoff": 15
           },
           "zerolinecolor": "white",
           "zerolinewidth": 2
          }
         }
        },
        "title": {
         "text": "Optimization History Plot"
        },
        "xaxis": {
         "title": {
          "text": "Trial"
         }
        },
        "yaxis": {
         "title": {
          "text": "Objective Value"
         }
        }
       }
      }
     },
     "metadata": {},
     "output_type": "display_data"
    }
   ],
   "source": [
    "# Visualizing optimization\n",
    "optuna.visualization.plot_optimization_history(study)"
   ]
  },
  {
   "cell_type": "code",
   "execution_count": 24,
   "metadata": {},
   "outputs": [
    {
     "data": {
      "application/vnd.plotly.v1+json": {
       "config": {
        "plotlyServerURL": "https://plot.ly"
       },
       "data": [
        {
         "marker": {
          "color": [
           0,
           1,
           2,
           3,
           4,
           5,
           6,
           7,
           8,
           9,
           10,
           11,
           12,
           13,
           14,
           15,
           16,
           17,
           18,
           19,
           20,
           21,
           22,
           23,
           24,
           25,
           26,
           27,
           28,
           29,
           30,
           31,
           32,
           33,
           34,
           35,
           36,
           37,
           38,
           39,
           40,
           41,
           42,
           43,
           44,
           45,
           46,
           47,
           48,
           49,
           50,
           51,
           52,
           53,
           54,
           55,
           56,
           57,
           58,
           59,
           60,
           61,
           62,
           63,
           64,
           65,
           66,
           67,
           68,
           69,
           70,
           71,
           72,
           73,
           74,
           75,
           76,
           77,
           78,
           79,
           80,
           81,
           82,
           83,
           84,
           85,
           86,
           87,
           88,
           89,
           90,
           91,
           92,
           93,
           94,
           95,
           96,
           97,
           98,
           99
          ],
          "colorbar": {
           "title": {
            "text": "Trial"
           },
           "x": 1,
           "xpad": 40
          },
          "colorscale": [
           [
            0,
            "rgb(247,251,255)"
           ],
           [
            0.125,
            "rgb(222,235,247)"
           ],
           [
            0.25,
            "rgb(198,219,239)"
           ],
           [
            0.375,
            "rgb(158,202,225)"
           ],
           [
            0.5,
            "rgb(107,174,214)"
           ],
           [
            0.625,
            "rgb(66,146,198)"
           ],
           [
            0.75,
            "rgb(33,113,181)"
           ],
           [
            0.875,
            "rgb(8,81,156)"
           ],
           [
            1,
            "rgb(8,48,107)"
           ]
          ],
          "line": {
           "color": "Grey",
           "width": 0.5
          },
          "showscale": true
         },
         "mode": "markers",
         "name": "Feasible Trial",
         "showlegend": false,
         "type": "scatter",
         "x": [
          "entropy",
          "entropy",
          "entropy",
          "gini",
          "entropy",
          "entropy",
          "entropy",
          "entropy",
          "entropy",
          "entropy",
          "gini",
          "gini",
          "entropy",
          "entropy",
          "gini",
          "gini",
          "gini",
          "gini",
          "entropy",
          "entropy",
          "entropy",
          "entropy",
          "entropy",
          "entropy",
          "gini",
          "gini",
          "entropy",
          "gini",
          "entropy",
          "entropy",
          "entropy",
          "entropy",
          "entropy",
          "entropy",
          "gini",
          "entropy",
          "gini",
          "entropy",
          "gini",
          "entropy",
          "entropy",
          "entropy",
          "entropy",
          "entropy",
          "entropy",
          "entropy",
          "gini",
          "entropy",
          "gini",
          "gini",
          "entropy",
          "gini",
          "gini",
          "gini",
          "gini",
          "gini",
          "gini",
          "entropy",
          "entropy",
          "gini",
          "entropy",
          "gini",
          "gini",
          "entropy",
          "gini",
          "gini",
          "gini",
          "entropy",
          "entropy",
          "entropy",
          "entropy",
          "entropy",
          "gini",
          "gini",
          "entropy",
          "gini",
          "gini",
          "entropy",
          "gini",
          "gini",
          "entropy",
          "entropy",
          "gini",
          "entropy",
          "gini",
          "entropy",
          "entropy",
          "entropy",
          "gini",
          "entropy",
          "entropy",
          "entropy",
          "gini",
          "entropy",
          "gini",
          "entropy",
          "gini",
          "gini",
          "entropy",
          "gini"
         ],
         "xaxis": "x",
         "y": [
          0.8431490384615385,
          0.8875343406593406,
          0.8856456043956046,
          0.8934752747252747,
          0.8873969780219781,
          0.8722184065934065,
          0.8907967032967032,
          0.8925824175824177,
          0.8871909340659341,
          0.862087912087912,
          0.8913461538461538,
          0.8876373626373626,
          0.8869162087912088,
          0.882554945054945,
          0.8757211538461538,
          0.8906593406593407,
          0.8903502747252746,
          0.8654876373626375,
          0.9012706043956044,
          0.8808550824175825,
          0.893956043956044,
          0.8900412087912087,
          0.8922390109890109,
          0.8844093406593405,
          0.8885302197802197,
          0.894162087912088,
          0.8967376373626375,
          0.8843406593406593,
          0.89375,
          0.892135989010989,
          0.8922733516483516,
          0.8907280219780219,
          0.8796016483516486,
          0.8944711538461538,
          0.8912087912087913,
          0.8893543956043957,
          0.8876030219780221,
          0.8881868131868131,
          0.8787431318681319,
          0.8958104395604396,
          0.892548076923077,
          0.8777472527472527,
          0.8955357142857144,
          0.8932005494505495,
          0.8888392857142857,
          0.8908653846153847,
          0.8880151098901099,
          0.8822115384615385,
          0.8958447802197803,
          0.8936126373626374,
          0.8940247252747252,
          0.889114010989011,
          0.8924793956043956,
          0.8915865384615385,
          0.8920673076923077,
          0.8889079670329669,
          0.8870192307692306,
          0.8924793956043956,
          0.8925137362637363,
          0.8908997252747254,
          0.8898351648351648,
          0.8805803571428571,
          0.8971840659340659,
          0.8794986263736264,
          0.8935782967032967,
          0.8893543956043957,
          0.8915521978021979,
          0.892135989010989,
          0.8950206043956044,
          0.891243131868132,
          0.8904876373626373,
          0.8941277472527472,
          0.8929945054945054,
          0.8890453296703298,
          0.8902129120879121,
          0.8754807692307691,
          0.8906593406593407,
          0.8944024725274724,
          0.8862637362637363,
          0.8889423076923079,
          0.8945741758241759,
          0.892651098901099,
          0.891208791208791,
          0.8904532967032968,
          0.8853537087912088,
          0.8899038461538462,
          0.884117445054945,
          0.8922390109890109,
          0.8902815934065936,
          0.8821428571428571,
          0.8924107142857143,
          0.8887362637362637,
          0.8927541208791208,
          0.8880837912087912,
          0.895260989010989,
          0.8922733516483516,
          0.8872596153846153,
          0.8948832417582417,
          0.8905563186813186,
          0.8949175824175825
         ],
         "yaxis": "y"
        },
        {
         "marker": {
          "color": [
           0,
           1,
           2,
           3,
           4,
           5,
           6,
           7,
           8,
           9,
           10,
           11,
           12,
           13,
           14,
           15,
           16,
           17,
           18,
           19,
           20,
           21,
           22,
           23,
           24,
           25,
           26,
           27,
           28,
           29,
           30,
           31,
           32,
           33,
           34,
           35,
           36,
           37,
           38,
           39,
           40,
           41,
           42,
           43,
           44,
           45,
           46,
           47,
           48,
           49,
           50,
           51,
           52,
           53,
           54,
           55,
           56,
           57,
           58,
           59,
           60,
           61,
           62,
           63,
           64,
           65,
           66,
           67,
           68,
           69,
           70,
           71,
           72,
           73,
           74,
           75,
           76,
           77,
           78,
           79,
           80,
           81,
           82,
           83,
           84,
           85,
           86,
           87,
           88,
           89,
           90,
           91,
           92,
           93,
           94,
           95,
           96,
           97,
           98,
           99
          ],
          "colorbar": {
           "title": {
            "text": "Trial"
           },
           "x": 1,
           "xpad": 40
          },
          "colorscale": [
           [
            0,
            "rgb(247,251,255)"
           ],
           [
            0.125,
            "rgb(222,235,247)"
           ],
           [
            0.25,
            "rgb(198,219,239)"
           ],
           [
            0.375,
            "rgb(158,202,225)"
           ],
           [
            0.5,
            "rgb(107,174,214)"
           ],
           [
            0.625,
            "rgb(66,146,198)"
           ],
           [
            0.75,
            "rgb(33,113,181)"
           ],
           [
            0.875,
            "rgb(8,81,156)"
           ],
           [
            1,
            "rgb(8,48,107)"
           ]
          ],
          "line": {
           "color": "Grey",
           "width": 0.5
          },
          "showscale": false
         },
         "mode": "markers",
         "name": "Feasible Trial",
         "showlegend": false,
         "type": "scatter",
         "x": [
          19,
          19,
          11,
          24,
          2,
          3,
          27,
          20,
          21,
          1,
          32,
          32,
          8,
          32,
          1,
          13,
          32,
          1,
          21,
          23,
          22,
          30,
          30,
          1,
          32,
          20,
          32,
          32,
          22,
          32,
          32,
          20,
          1,
          18,
          18,
          13,
          32,
          19,
          32,
          22,
          32,
          1,
          24,
          23,
          20,
          19,
          32,
          32,
          20,
          23,
          17,
          16,
          23,
          20,
          27,
          32,
          17,
          19,
          32,
          27,
          21,
          18,
          13,
          1,
          17,
          19,
          15,
          17,
          24,
          32,
          22,
          14,
          11,
          22,
          16,
          1,
          19,
          24,
          16,
          32,
          32,
          32,
          32,
          14,
          32,
          23,
          18,
          32,
          32,
          32,
          19,
          20,
          32,
          25,
          32,
          32,
          32,
          15,
          32,
          25
         ],
         "xaxis": "x2",
         "y": [
          0.8431490384615385,
          0.8875343406593406,
          0.8856456043956046,
          0.8934752747252747,
          0.8873969780219781,
          0.8722184065934065,
          0.8907967032967032,
          0.8925824175824177,
          0.8871909340659341,
          0.862087912087912,
          0.8913461538461538,
          0.8876373626373626,
          0.8869162087912088,
          0.882554945054945,
          0.8757211538461538,
          0.8906593406593407,
          0.8903502747252746,
          0.8654876373626375,
          0.9012706043956044,
          0.8808550824175825,
          0.893956043956044,
          0.8900412087912087,
          0.8922390109890109,
          0.8844093406593405,
          0.8885302197802197,
          0.894162087912088,
          0.8967376373626375,
          0.8843406593406593,
          0.89375,
          0.892135989010989,
          0.8922733516483516,
          0.8907280219780219,
          0.8796016483516486,
          0.8944711538461538,
          0.8912087912087913,
          0.8893543956043957,
          0.8876030219780221,
          0.8881868131868131,
          0.8787431318681319,
          0.8958104395604396,
          0.892548076923077,
          0.8777472527472527,
          0.8955357142857144,
          0.8932005494505495,
          0.8888392857142857,
          0.8908653846153847,
          0.8880151098901099,
          0.8822115384615385,
          0.8958447802197803,
          0.8936126373626374,
          0.8940247252747252,
          0.889114010989011,
          0.8924793956043956,
          0.8915865384615385,
          0.8920673076923077,
          0.8889079670329669,
          0.8870192307692306,
          0.8924793956043956,
          0.8925137362637363,
          0.8908997252747254,
          0.8898351648351648,
          0.8805803571428571,
          0.8971840659340659,
          0.8794986263736264,
          0.8935782967032967,
          0.8893543956043957,
          0.8915521978021979,
          0.892135989010989,
          0.8950206043956044,
          0.891243131868132,
          0.8904876373626373,
          0.8941277472527472,
          0.8929945054945054,
          0.8890453296703298,
          0.8902129120879121,
          0.8754807692307691,
          0.8906593406593407,
          0.8944024725274724,
          0.8862637362637363,
          0.8889423076923079,
          0.8945741758241759,
          0.892651098901099,
          0.891208791208791,
          0.8904532967032968,
          0.8853537087912088,
          0.8899038461538462,
          0.884117445054945,
          0.8922390109890109,
          0.8902815934065936,
          0.8821428571428571,
          0.8924107142857143,
          0.8887362637362637,
          0.8927541208791208,
          0.8880837912087912,
          0.895260989010989,
          0.8922733516483516,
          0.8872596153846153,
          0.8948832417582417,
          0.8905563186813186,
          0.8949175824175825
         ],
         "yaxis": "y2"
        },
        {
         "marker": {
          "color": [
           0,
           1,
           2,
           3,
           4,
           5,
           6,
           7,
           8,
           9,
           10,
           11,
           12,
           13,
           14,
           15,
           16,
           17,
           18,
           19,
           20,
           21,
           22,
           23,
           24,
           25,
           26,
           27,
           28,
           29,
           30,
           31,
           32,
           33,
           34,
           35,
           36,
           37,
           38,
           39,
           40,
           41,
           42,
           43,
           44,
           45,
           46,
           47,
           48,
           49,
           50,
           51,
           52,
           53,
           54,
           55,
           56,
           57,
           58,
           59,
           60,
           61,
           62,
           63,
           64,
           65,
           66,
           67,
           68,
           69,
           70,
           71,
           72,
           73,
           74,
           75,
           76,
           77,
           78,
           79,
           80,
           81,
           82,
           83,
           84,
           85,
           86,
           87,
           88,
           89,
           90,
           91,
           92,
           93,
           94,
           95,
           96,
           97,
           98,
           99
          ],
          "colorbar": {
           "title": {
            "text": "Trial"
           },
           "x": 1,
           "xpad": 40
          },
          "colorscale": [
           [
            0,
            "rgb(247,251,255)"
           ],
           [
            0.125,
            "rgb(222,235,247)"
           ],
           [
            0.25,
            "rgb(198,219,239)"
           ],
           [
            0.375,
            "rgb(158,202,225)"
           ],
           [
            0.5,
            "rgb(107,174,214)"
           ],
           [
            0.625,
            "rgb(66,146,198)"
           ],
           [
            0.75,
            "rgb(33,113,181)"
           ],
           [
            0.875,
            "rgb(8,81,156)"
           ],
           [
            1,
            "rgb(8,48,107)"
           ]
          ],
          "line": {
           "color": "Grey",
           "width": 0.5
          },
          "showscale": false
         },
         "mode": "markers",
         "name": "Feasible Trial",
         "showlegend": false,
         "type": "scatter",
         "x": [
          10,
          8,
          4,
          13,
          12,
          2,
          16,
          17,
          20,
          15,
          10,
          20,
          4,
          20,
          1,
          20,
          20,
          15,
          7,
          1,
          10,
          7,
          10,
          17,
          10,
          7,
          1,
          1,
          7,
          4,
          10,
          20,
          1,
          13,
          14,
          20,
          11,
          11,
          20,
          1,
          20,
          20,
          5,
          10,
          11,
          7,
          1,
          1,
          1,
          1,
          1,
          10,
          20,
          20,
          1,
          1,
          20,
          1,
          20,
          13,
          20,
          1,
          1,
          1,
          6,
          1,
          20,
          10,
          1,
          20,
          20,
          8,
          1,
          14,
          6,
          20,
          1,
          10,
          12,
          20,
          1,
          12,
          1,
          20,
          1,
          12,
          1,
          9,
          20,
          11,
          1,
          20,
          8,
          10,
          1,
          1,
          1,
          12,
          1,
          8
         ],
         "xaxis": "x3",
         "y": [
          0.8431490384615385,
          0.8875343406593406,
          0.8856456043956046,
          0.8934752747252747,
          0.8873969780219781,
          0.8722184065934065,
          0.8907967032967032,
          0.8925824175824177,
          0.8871909340659341,
          0.862087912087912,
          0.8913461538461538,
          0.8876373626373626,
          0.8869162087912088,
          0.882554945054945,
          0.8757211538461538,
          0.8906593406593407,
          0.8903502747252746,
          0.8654876373626375,
          0.9012706043956044,
          0.8808550824175825,
          0.893956043956044,
          0.8900412087912087,
          0.8922390109890109,
          0.8844093406593405,
          0.8885302197802197,
          0.894162087912088,
          0.8967376373626375,
          0.8843406593406593,
          0.89375,
          0.892135989010989,
          0.8922733516483516,
          0.8907280219780219,
          0.8796016483516486,
          0.8944711538461538,
          0.8912087912087913,
          0.8893543956043957,
          0.8876030219780221,
          0.8881868131868131,
          0.8787431318681319,
          0.8958104395604396,
          0.892548076923077,
          0.8777472527472527,
          0.8955357142857144,
          0.8932005494505495,
          0.8888392857142857,
          0.8908653846153847,
          0.8880151098901099,
          0.8822115384615385,
          0.8958447802197803,
          0.8936126373626374,
          0.8940247252747252,
          0.889114010989011,
          0.8924793956043956,
          0.8915865384615385,
          0.8920673076923077,
          0.8889079670329669,
          0.8870192307692306,
          0.8924793956043956,
          0.8925137362637363,
          0.8908997252747254,
          0.8898351648351648,
          0.8805803571428571,
          0.8971840659340659,
          0.8794986263736264,
          0.8935782967032967,
          0.8893543956043957,
          0.8915521978021979,
          0.892135989010989,
          0.8950206043956044,
          0.891243131868132,
          0.8904876373626373,
          0.8941277472527472,
          0.8929945054945054,
          0.8890453296703298,
          0.8902129120879121,
          0.8754807692307691,
          0.8906593406593407,
          0.8944024725274724,
          0.8862637362637363,
          0.8889423076923079,
          0.8945741758241759,
          0.892651098901099,
          0.891208791208791,
          0.8904532967032968,
          0.8853537087912088,
          0.8899038461538462,
          0.884117445054945,
          0.8922390109890109,
          0.8902815934065936,
          0.8821428571428571,
          0.8924107142857143,
          0.8887362637362637,
          0.8927541208791208,
          0.8880837912087912,
          0.895260989010989,
          0.8922733516483516,
          0.8872596153846153,
          0.8948832417582417,
          0.8905563186813186,
          0.8949175824175825
         ],
         "yaxis": "y3"
        },
        {
         "marker": {
          "color": [
           0,
           1,
           2,
           3,
           4,
           5,
           6,
           7,
           8,
           9,
           10,
           11,
           12,
           13,
           14,
           15,
           16,
           17,
           18,
           19,
           20,
           21,
           22,
           23,
           24,
           25,
           26,
           27,
           28,
           29,
           30,
           31,
           32,
           33,
           34,
           35,
           36,
           37,
           38,
           39,
           40,
           41,
           42,
           43,
           44,
           45,
           46,
           47,
           48,
           49,
           50,
           51,
           52,
           53,
           54,
           55,
           56,
           57,
           58,
           59,
           60,
           61,
           62,
           63,
           64,
           65,
           66,
           67,
           68,
           69,
           70,
           71,
           72,
           73,
           74,
           75,
           76,
           77,
           78,
           79,
           80,
           81,
           82,
           83,
           84,
           85,
           86,
           87,
           88,
           89,
           90,
           91,
           92,
           93,
           94,
           95,
           96,
           97,
           98,
           99
          ],
          "colorbar": {
           "title": {
            "text": "Trial"
           },
           "x": 1,
           "xpad": 40
          },
          "colorscale": [
           [
            0,
            "rgb(247,251,255)"
           ],
           [
            0.125,
            "rgb(222,235,247)"
           ],
           [
            0.25,
            "rgb(198,219,239)"
           ],
           [
            0.375,
            "rgb(158,202,225)"
           ],
           [
            0.5,
            "rgb(107,174,214)"
           ],
           [
            0.625,
            "rgb(66,146,198)"
           ],
           [
            0.75,
            "rgb(33,113,181)"
           ],
           [
            0.875,
            "rgb(8,81,156)"
           ],
           [
            1,
            "rgb(8,48,107)"
           ]
          ],
          "line": {
           "color": "Grey",
           "width": 0.5
          },
          "showscale": false
         },
         "mode": "markers",
         "name": "Feasible Trial",
         "showlegend": false,
         "type": "scatter",
         "x": [
          4,
          17,
          3,
          16,
          20,
          10,
          18,
          3,
          18,
          19,
          2,
          20,
          2,
          2,
          20,
          2,
          20,
          2,
          2,
          2,
          2,
          8,
          2,
          20,
          2,
          2,
          20,
          2,
          20,
          20,
          20,
          2,
          2,
          2,
          20,
          20,
          2,
          20,
          2,
          20,
          2,
          2,
          2,
          20,
          2,
          2,
          20,
          2,
          20,
          20,
          20,
          2,
          2,
          2,
          20,
          20,
          20,
          20,
          2,
          20,
          2,
          2,
          20,
          20,
          20,
          20,
          20,
          20,
          20,
          20,
          2,
          20,
          20,
          2,
          20,
          2,
          20,
          2,
          20,
          2,
          20,
          20,
          20,
          2,
          2,
          20,
          2,
          20,
          20,
          20,
          20,
          20,
          20,
          2,
          20,
          20,
          2,
          20,
          20,
          20
         ],
         "xaxis": "x4",
         "y": [
          0.8431490384615385,
          0.8875343406593406,
          0.8856456043956046,
          0.8934752747252747,
          0.8873969780219781,
          0.8722184065934065,
          0.8907967032967032,
          0.8925824175824177,
          0.8871909340659341,
          0.862087912087912,
          0.8913461538461538,
          0.8876373626373626,
          0.8869162087912088,
          0.882554945054945,
          0.8757211538461538,
          0.8906593406593407,
          0.8903502747252746,
          0.8654876373626375,
          0.9012706043956044,
          0.8808550824175825,
          0.893956043956044,
          0.8900412087912087,
          0.8922390109890109,
          0.8844093406593405,
          0.8885302197802197,
          0.894162087912088,
          0.8967376373626375,
          0.8843406593406593,
          0.89375,
          0.892135989010989,
          0.8922733516483516,
          0.8907280219780219,
          0.8796016483516486,
          0.8944711538461538,
          0.8912087912087913,
          0.8893543956043957,
          0.8876030219780221,
          0.8881868131868131,
          0.8787431318681319,
          0.8958104395604396,
          0.892548076923077,
          0.8777472527472527,
          0.8955357142857144,
          0.8932005494505495,
          0.8888392857142857,
          0.8908653846153847,
          0.8880151098901099,
          0.8822115384615385,
          0.8958447802197803,
          0.8936126373626374,
          0.8940247252747252,
          0.889114010989011,
          0.8924793956043956,
          0.8915865384615385,
          0.8920673076923077,
          0.8889079670329669,
          0.8870192307692306,
          0.8924793956043956,
          0.8925137362637363,
          0.8908997252747254,
          0.8898351648351648,
          0.8805803571428571,
          0.8971840659340659,
          0.8794986263736264,
          0.8935782967032967,
          0.8893543956043957,
          0.8915521978021979,
          0.892135989010989,
          0.8950206043956044,
          0.891243131868132,
          0.8904876373626373,
          0.8941277472527472,
          0.8929945054945054,
          0.8890453296703298,
          0.8902129120879121,
          0.8754807692307691,
          0.8906593406593407,
          0.8944024725274724,
          0.8862637362637363,
          0.8889423076923079,
          0.8945741758241759,
          0.892651098901099,
          0.891208791208791,
          0.8904532967032968,
          0.8853537087912088,
          0.8899038461538462,
          0.884117445054945,
          0.8922390109890109,
          0.8902815934065936,
          0.8821428571428571,
          0.8924107142857143,
          0.8887362637362637,
          0.8927541208791208,
          0.8880837912087912,
          0.895260989010989,
          0.8922733516483516,
          0.8872596153846153,
          0.8948832417582417,
          0.8905563186813186,
          0.8949175824175825
         ],
         "yaxis": "y4"
        },
        {
         "marker": {
          "color": [
           0,
           1,
           2,
           3,
           4,
           5,
           6,
           7,
           8,
           9,
           10,
           11,
           12,
           13,
           14,
           15,
           16,
           17,
           18,
           19,
           20,
           21,
           22,
           23,
           24,
           25,
           26,
           27,
           28,
           29,
           30,
           31,
           32,
           33,
           34,
           35,
           36,
           37,
           38,
           39,
           40,
           41,
           42,
           43,
           44,
           45,
           46,
           47,
           48,
           49,
           50,
           51,
           52,
           53,
           54,
           55,
           56,
           57,
           58,
           59,
           60,
           61,
           62,
           63,
           64,
           65,
           66,
           67,
           68,
           69,
           70,
           71,
           72,
           73,
           74,
           75,
           76,
           77,
           78,
           79,
           80,
           81,
           82,
           83,
           84,
           85,
           86,
           87,
           88,
           89,
           90,
           91,
           92,
           93,
           94,
           95,
           96,
           97,
           98,
           99
          ],
          "colorbar": {
           "title": {
            "text": "Trial"
           },
           "x": 1,
           "xpad": 40
          },
          "colorscale": [
           [
            0,
            "rgb(247,251,255)"
           ],
           [
            0.125,
            "rgb(222,235,247)"
           ],
           [
            0.25,
            "rgb(198,219,239)"
           ],
           [
            0.375,
            "rgb(158,202,225)"
           ],
           [
            0.5,
            "rgb(107,174,214)"
           ],
           [
            0.625,
            "rgb(66,146,198)"
           ],
           [
            0.75,
            "rgb(33,113,181)"
           ],
           [
            0.875,
            "rgb(8,81,156)"
           ],
           [
            1,
            "rgb(8,48,107)"
           ]
          ],
          "line": {
           "color": "Grey",
           "width": 0.5
          },
          "showscale": false
         },
         "mode": "markers",
         "name": "Feasible Trial",
         "showlegend": false,
         "type": "scatter",
         "x": [
          5,
          89,
          176,
          190,
          179,
          47,
          206,
          94,
          104,
          47,
          124,
          265,
          110,
          136,
          222,
          210,
          203,
          109,
          115,
          127,
          132,
          140,
          102,
          287,
          275,
          120,
          300,
          300,
          300,
          249,
          300,
          300,
          300,
          245,
          244,
          226,
          210,
          135,
          66,
          275,
          252,
          230,
          271,
          260,
          109,
          127,
          102,
          280,
          300,
          244,
          300,
          300,
          237,
          161,
          300,
          186,
          300,
          230,
          300,
          125,
          203,
          248,
          131,
          130,
          164,
          118,
          172,
          200,
          300,
          300,
          262,
          300,
          300,
          122,
          266,
          300,
          175,
          300,
          196,
          300,
          215,
          238,
          251,
          156,
          85,
          300,
          300,
          172,
          140,
          103,
          152,
          167,
          300,
          220,
          148,
          300,
          154,
          131,
          160,
          151
         ],
         "xaxis": "x5",
         "y": [
          0.8431490384615385,
          0.8875343406593406,
          0.8856456043956046,
          0.8934752747252747,
          0.8873969780219781,
          0.8722184065934065,
          0.8907967032967032,
          0.8925824175824177,
          0.8871909340659341,
          0.862087912087912,
          0.8913461538461538,
          0.8876373626373626,
          0.8869162087912088,
          0.882554945054945,
          0.8757211538461538,
          0.8906593406593407,
          0.8903502747252746,
          0.8654876373626375,
          0.9012706043956044,
          0.8808550824175825,
          0.893956043956044,
          0.8900412087912087,
          0.8922390109890109,
          0.8844093406593405,
          0.8885302197802197,
          0.894162087912088,
          0.8967376373626375,
          0.8843406593406593,
          0.89375,
          0.892135989010989,
          0.8922733516483516,
          0.8907280219780219,
          0.8796016483516486,
          0.8944711538461538,
          0.8912087912087913,
          0.8893543956043957,
          0.8876030219780221,
          0.8881868131868131,
          0.8787431318681319,
          0.8958104395604396,
          0.892548076923077,
          0.8777472527472527,
          0.8955357142857144,
          0.8932005494505495,
          0.8888392857142857,
          0.8908653846153847,
          0.8880151098901099,
          0.8822115384615385,
          0.8958447802197803,
          0.8936126373626374,
          0.8940247252747252,
          0.889114010989011,
          0.8924793956043956,
          0.8915865384615385,
          0.8920673076923077,
          0.8889079670329669,
          0.8870192307692306,
          0.8924793956043956,
          0.8925137362637363,
          0.8908997252747254,
          0.8898351648351648,
          0.8805803571428571,
          0.8971840659340659,
          0.8794986263736264,
          0.8935782967032967,
          0.8893543956043957,
          0.8915521978021979,
          0.892135989010989,
          0.8950206043956044,
          0.891243131868132,
          0.8904876373626373,
          0.8941277472527472,
          0.8929945054945054,
          0.8890453296703298,
          0.8902129120879121,
          0.8754807692307691,
          0.8906593406593407,
          0.8944024725274724,
          0.8862637362637363,
          0.8889423076923079,
          0.8945741758241759,
          0.892651098901099,
          0.891208791208791,
          0.8904532967032968,
          0.8853537087912088,
          0.8899038461538462,
          0.884117445054945,
          0.8922390109890109,
          0.8902815934065936,
          0.8821428571428571,
          0.8924107142857143,
          0.8887362637362637,
          0.8927541208791208,
          0.8880837912087912,
          0.895260989010989,
          0.8922733516483516,
          0.8872596153846153,
          0.8948832417582417,
          0.8905563186813186,
          0.8949175824175825
         ],
         "yaxis": "y5"
        }
       ],
       "layout": {
        "template": {
         "data": {
          "bar": [
           {
            "error_x": {
             "color": "#2a3f5f"
            },
            "error_y": {
             "color": "#2a3f5f"
            },
            "marker": {
             "line": {
              "color": "#E5ECF6",
              "width": 0.5
             },
             "pattern": {
              "fillmode": "overlay",
              "size": 10,
              "solidity": 0.2
             }
            },
            "type": "bar"
           }
          ],
          "barpolar": [
           {
            "marker": {
             "line": {
              "color": "#E5ECF6",
              "width": 0.5
             },
             "pattern": {
              "fillmode": "overlay",
              "size": 10,
              "solidity": 0.2
             }
            },
            "type": "barpolar"
           }
          ],
          "carpet": [
           {
            "aaxis": {
             "endlinecolor": "#2a3f5f",
             "gridcolor": "white",
             "linecolor": "white",
             "minorgridcolor": "white",
             "startlinecolor": "#2a3f5f"
            },
            "baxis": {
             "endlinecolor": "#2a3f5f",
             "gridcolor": "white",
             "linecolor": "white",
             "minorgridcolor": "white",
             "startlinecolor": "#2a3f5f"
            },
            "type": "carpet"
           }
          ],
          "choropleth": [
           {
            "colorbar": {
             "outlinewidth": 0,
             "ticks": ""
            },
            "type": "choropleth"
           }
          ],
          "contour": [
           {
            "colorbar": {
             "outlinewidth": 0,
             "ticks": ""
            },
            "colorscale": [
             [
              0,
              "#0d0887"
             ],
             [
              0.1111111111111111,
              "#46039f"
             ],
             [
              0.2222222222222222,
              "#7201a8"
             ],
             [
              0.3333333333333333,
              "#9c179e"
             ],
             [
              0.4444444444444444,
              "#bd3786"
             ],
             [
              0.5555555555555556,
              "#d8576b"
             ],
             [
              0.6666666666666666,
              "#ed7953"
             ],
             [
              0.7777777777777778,
              "#fb9f3a"
             ],
             [
              0.8888888888888888,
              "#fdca26"
             ],
             [
              1,
              "#f0f921"
             ]
            ],
            "type": "contour"
           }
          ],
          "contourcarpet": [
           {
            "colorbar": {
             "outlinewidth": 0,
             "ticks": ""
            },
            "type": "contourcarpet"
           }
          ],
          "heatmap": [
           {
            "colorbar": {
             "outlinewidth": 0,
             "ticks": ""
            },
            "colorscale": [
             [
              0,
              "#0d0887"
             ],
             [
              0.1111111111111111,
              "#46039f"
             ],
             [
              0.2222222222222222,
              "#7201a8"
             ],
             [
              0.3333333333333333,
              "#9c179e"
             ],
             [
              0.4444444444444444,
              "#bd3786"
             ],
             [
              0.5555555555555556,
              "#d8576b"
             ],
             [
              0.6666666666666666,
              "#ed7953"
             ],
             [
              0.7777777777777778,
              "#fb9f3a"
             ],
             [
              0.8888888888888888,
              "#fdca26"
             ],
             [
              1,
              "#f0f921"
             ]
            ],
            "type": "heatmap"
           }
          ],
          "heatmapgl": [
           {
            "colorbar": {
             "outlinewidth": 0,
             "ticks": ""
            },
            "colorscale": [
             [
              0,
              "#0d0887"
             ],
             [
              0.1111111111111111,
              "#46039f"
             ],
             [
              0.2222222222222222,
              "#7201a8"
             ],
             [
              0.3333333333333333,
              "#9c179e"
             ],
             [
              0.4444444444444444,
              "#bd3786"
             ],
             [
              0.5555555555555556,
              "#d8576b"
             ],
             [
              0.6666666666666666,
              "#ed7953"
             ],
             [
              0.7777777777777778,
              "#fb9f3a"
             ],
             [
              0.8888888888888888,
              "#fdca26"
             ],
             [
              1,
              "#f0f921"
             ]
            ],
            "type": "heatmapgl"
           }
          ],
          "histogram": [
           {
            "marker": {
             "pattern": {
              "fillmode": "overlay",
              "size": 10,
              "solidity": 0.2
             }
            },
            "type": "histogram"
           }
          ],
          "histogram2d": [
           {
            "colorbar": {
             "outlinewidth": 0,
             "ticks": ""
            },
            "colorscale": [
             [
              0,
              "#0d0887"
             ],
             [
              0.1111111111111111,
              "#46039f"
             ],
             [
              0.2222222222222222,
              "#7201a8"
             ],
             [
              0.3333333333333333,
              "#9c179e"
             ],
             [
              0.4444444444444444,
              "#bd3786"
             ],
             [
              0.5555555555555556,
              "#d8576b"
             ],
             [
              0.6666666666666666,
              "#ed7953"
             ],
             [
              0.7777777777777778,
              "#fb9f3a"
             ],
             [
              0.8888888888888888,
              "#fdca26"
             ],
             [
              1,
              "#f0f921"
             ]
            ],
            "type": "histogram2d"
           }
          ],
          "histogram2dcontour": [
           {
            "colorbar": {
             "outlinewidth": 0,
             "ticks": ""
            },
            "colorscale": [
             [
              0,
              "#0d0887"
             ],
             [
              0.1111111111111111,
              "#46039f"
             ],
             [
              0.2222222222222222,
              "#7201a8"
             ],
             [
              0.3333333333333333,
              "#9c179e"
             ],
             [
              0.4444444444444444,
              "#bd3786"
             ],
             [
              0.5555555555555556,
              "#d8576b"
             ],
             [
              0.6666666666666666,
              "#ed7953"
             ],
             [
              0.7777777777777778,
              "#fb9f3a"
             ],
             [
              0.8888888888888888,
              "#fdca26"
             ],
             [
              1,
              "#f0f921"
             ]
            ],
            "type": "histogram2dcontour"
           }
          ],
          "mesh3d": [
           {
            "colorbar": {
             "outlinewidth": 0,
             "ticks": ""
            },
            "type": "mesh3d"
           }
          ],
          "parcoords": [
           {
            "line": {
             "colorbar": {
              "outlinewidth": 0,
              "ticks": ""
             }
            },
            "type": "parcoords"
           }
          ],
          "pie": [
           {
            "automargin": true,
            "type": "pie"
           }
          ],
          "scatter": [
           {
            "fillpattern": {
             "fillmode": "overlay",
             "size": 10,
             "solidity": 0.2
            },
            "type": "scatter"
           }
          ],
          "scatter3d": [
           {
            "line": {
             "colorbar": {
              "outlinewidth": 0,
              "ticks": ""
             }
            },
            "marker": {
             "colorbar": {
              "outlinewidth": 0,
              "ticks": ""
             }
            },
            "type": "scatter3d"
           }
          ],
          "scattercarpet": [
           {
            "marker": {
             "colorbar": {
              "outlinewidth": 0,
              "ticks": ""
             }
            },
            "type": "scattercarpet"
           }
          ],
          "scattergeo": [
           {
            "marker": {
             "colorbar": {
              "outlinewidth": 0,
              "ticks": ""
             }
            },
            "type": "scattergeo"
           }
          ],
          "scattergl": [
           {
            "marker": {
             "colorbar": {
              "outlinewidth": 0,
              "ticks": ""
             }
            },
            "type": "scattergl"
           }
          ],
          "scattermapbox": [
           {
            "marker": {
             "colorbar": {
              "outlinewidth": 0,
              "ticks": ""
             }
            },
            "type": "scattermapbox"
           }
          ],
          "scatterpolar": [
           {
            "marker": {
             "colorbar": {
              "outlinewidth": 0,
              "ticks": ""
             }
            },
            "type": "scatterpolar"
           }
          ],
          "scatterpolargl": [
           {
            "marker": {
             "colorbar": {
              "outlinewidth": 0,
              "ticks": ""
             }
            },
            "type": "scatterpolargl"
           }
          ],
          "scatterternary": [
           {
            "marker": {
             "colorbar": {
              "outlinewidth": 0,
              "ticks": ""
             }
            },
            "type": "scatterternary"
           }
          ],
          "surface": [
           {
            "colorbar": {
             "outlinewidth": 0,
             "ticks": ""
            },
            "colorscale": [
             [
              0,
              "#0d0887"
             ],
             [
              0.1111111111111111,
              "#46039f"
             ],
             [
              0.2222222222222222,
              "#7201a8"
             ],
             [
              0.3333333333333333,
              "#9c179e"
             ],
             [
              0.4444444444444444,
              "#bd3786"
             ],
             [
              0.5555555555555556,
              "#d8576b"
             ],
             [
              0.6666666666666666,
              "#ed7953"
             ],
             [
              0.7777777777777778,
              "#fb9f3a"
             ],
             [
              0.8888888888888888,
              "#fdca26"
             ],
             [
              1,
              "#f0f921"
             ]
            ],
            "type": "surface"
           }
          ],
          "table": [
           {
            "cells": {
             "fill": {
              "color": "#EBF0F8"
             },
             "line": {
              "color": "white"
             }
            },
            "header": {
             "fill": {
              "color": "#C8D4E3"
             },
             "line": {
              "color": "white"
             }
            },
            "type": "table"
           }
          ]
         },
         "layout": {
          "annotationdefaults": {
           "arrowcolor": "#2a3f5f",
           "arrowhead": 0,
           "arrowwidth": 1
          },
          "autotypenumbers": "strict",
          "coloraxis": {
           "colorbar": {
            "outlinewidth": 0,
            "ticks": ""
           }
          },
          "colorscale": {
           "diverging": [
            [
             0,
             "#8e0152"
            ],
            [
             0.1,
             "#c51b7d"
            ],
            [
             0.2,
             "#de77ae"
            ],
            [
             0.3,
             "#f1b6da"
            ],
            [
             0.4,
             "#fde0ef"
            ],
            [
             0.5,
             "#f7f7f7"
            ],
            [
             0.6,
             "#e6f5d0"
            ],
            [
             0.7,
             "#b8e186"
            ],
            [
             0.8,
             "#7fbc41"
            ],
            [
             0.9,
             "#4d9221"
            ],
            [
             1,
             "#276419"
            ]
           ],
           "sequential": [
            [
             0,
             "#0d0887"
            ],
            [
             0.1111111111111111,
             "#46039f"
            ],
            [
             0.2222222222222222,
             "#7201a8"
            ],
            [
             0.3333333333333333,
             "#9c179e"
            ],
            [
             0.4444444444444444,
             "#bd3786"
            ],
            [
             0.5555555555555556,
             "#d8576b"
            ],
            [
             0.6666666666666666,
             "#ed7953"
            ],
            [
             0.7777777777777778,
             "#fb9f3a"
            ],
            [
             0.8888888888888888,
             "#fdca26"
            ],
            [
             1,
             "#f0f921"
            ]
           ],
           "sequentialminus": [
            [
             0,
             "#0d0887"
            ],
            [
             0.1111111111111111,
             "#46039f"
            ],
            [
             0.2222222222222222,
             "#7201a8"
            ],
            [
             0.3333333333333333,
             "#9c179e"
            ],
            [
             0.4444444444444444,
             "#bd3786"
            ],
            [
             0.5555555555555556,
             "#d8576b"
            ],
            [
             0.6666666666666666,
             "#ed7953"
            ],
            [
             0.7777777777777778,
             "#fb9f3a"
            ],
            [
             0.8888888888888888,
             "#fdca26"
            ],
            [
             1,
             "#f0f921"
            ]
           ]
          },
          "colorway": [
           "#636efa",
           "#EF553B",
           "#00cc96",
           "#ab63fa",
           "#FFA15A",
           "#19d3f3",
           "#FF6692",
           "#B6E880",
           "#FF97FF",
           "#FECB52"
          ],
          "font": {
           "color": "#2a3f5f"
          },
          "geo": {
           "bgcolor": "white",
           "lakecolor": "white",
           "landcolor": "#E5ECF6",
           "showlakes": true,
           "showland": true,
           "subunitcolor": "white"
          },
          "hoverlabel": {
           "align": "left"
          },
          "hovermode": "closest",
          "mapbox": {
           "style": "light"
          },
          "paper_bgcolor": "white",
          "plot_bgcolor": "#E5ECF6",
          "polar": {
           "angularaxis": {
            "gridcolor": "white",
            "linecolor": "white",
            "ticks": ""
           },
           "bgcolor": "#E5ECF6",
           "radialaxis": {
            "gridcolor": "white",
            "linecolor": "white",
            "ticks": ""
           }
          },
          "scene": {
           "xaxis": {
            "backgroundcolor": "#E5ECF6",
            "gridcolor": "white",
            "gridwidth": 2,
            "linecolor": "white",
            "showbackground": true,
            "ticks": "",
            "zerolinecolor": "white"
           },
           "yaxis": {
            "backgroundcolor": "#E5ECF6",
            "gridcolor": "white",
            "gridwidth": 2,
            "linecolor": "white",
            "showbackground": true,
            "ticks": "",
            "zerolinecolor": "white"
           },
           "zaxis": {
            "backgroundcolor": "#E5ECF6",
            "gridcolor": "white",
            "gridwidth": 2,
            "linecolor": "white",
            "showbackground": true,
            "ticks": "",
            "zerolinecolor": "white"
           }
          },
          "shapedefaults": {
           "line": {
            "color": "#2a3f5f"
           }
          },
          "ternary": {
           "aaxis": {
            "gridcolor": "white",
            "linecolor": "white",
            "ticks": ""
           },
           "baxis": {
            "gridcolor": "white",
            "linecolor": "white",
            "ticks": ""
           },
           "bgcolor": "#E5ECF6",
           "caxis": {
            "gridcolor": "white",
            "linecolor": "white",
            "ticks": ""
           }
          },
          "title": {
           "x": 0.05
          },
          "xaxis": {
           "automargin": true,
           "gridcolor": "white",
           "linecolor": "white",
           "ticks": "",
           "title": {
            "standoff": 15
           },
           "zerolinecolor": "white",
           "zerolinewidth": 2
          },
          "yaxis": {
           "automargin": true,
           "gridcolor": "white",
           "linecolor": "white",
           "ticks": "",
           "title": {
            "standoff": 15
           },
           "zerolinecolor": "white",
           "zerolinewidth": 2
          }
         }
        },
        "title": {
         "text": "Slice Plot"
        },
        "width": 1500,
        "xaxis": {
         "anchor": "y",
         "categoryarray": [
          "gini",
          "entropy"
         ],
         "categoryorder": "array",
         "domain": [
          0,
          0.16799999999999998
         ],
         "title": {
          "text": "criterion"
         },
         "type": "category"
        },
        "xaxis2": {
         "anchor": "y2",
         "domain": [
          0.208,
          0.376
         ],
         "title": {
          "text": "max_depth"
         }
        },
        "xaxis3": {
         "anchor": "y3",
         "domain": [
          0.416,
          0.584
         ],
         "title": {
          "text": "min_samples_leaf"
         }
        },
        "xaxis4": {
         "anchor": "y4",
         "domain": [
          0.624,
          0.792
         ],
         "title": {
          "text": "min_samples_split"
         }
        },
        "xaxis5": {
         "anchor": "y5",
         "domain": [
          0.832,
          1
         ],
         "title": {
          "text": "n_estimators"
         }
        },
        "yaxis": {
         "anchor": "x",
         "domain": [
          0,
          1
         ],
         "title": {
          "text": "Objective Value"
         }
        },
        "yaxis2": {
         "anchor": "x2",
         "domain": [
          0,
          1
         ],
         "matches": "y",
         "showticklabels": false
        },
        "yaxis3": {
         "anchor": "x3",
         "domain": [
          0,
          1
         ],
         "matches": "y",
         "showticklabels": false
        },
        "yaxis4": {
         "anchor": "x4",
         "domain": [
          0,
          1
         ],
         "matches": "y",
         "showticklabels": false
        },
        "yaxis5": {
         "anchor": "x5",
         "domain": [
          0,
          1
         ],
         "matches": "y",
         "showticklabels": false
        }
       }
      }
     },
     "metadata": {},
     "output_type": "display_data"
    }
   ],
   "source": [
    "optuna.visualization.plot_slice(study)"
   ]
  },
  {
   "cell_type": "code",
   "execution_count": 25,
   "metadata": {},
   "outputs": [
    {
     "name": "stdout",
     "output_type": "stream",
     "text": [
      "Accuracy: 0.8146 ± 0.0593\n",
      "AUC-ROC: 0.8927 ± 0.0324\n"
     ]
    }
   ],
   "source": [
    "# Create optimized model\n",
    "best_params = trial.params\n",
    "model = RandomForestClassifier(random_state=Random_Seed, **best_params)\n",
    "\n",
    "# Define pipeline depending on whether PCA is requested or not\n",
    "if PC_Features:\n",
    "    steps = [\n",
    "        ('preprocessor', preprocessor),\n",
    "        ('pca', PCA(n_components=12)),\n",
    "        ('RF-classifier', model)\n",
    "    ]\n",
    "else:\n",
    "    steps = [\n",
    "        ('preprocessor', preprocessor),\n",
    "        ('RF-classifier', model)\n",
    "    ]\n",
    "    \n",
    "pipeline = Pipeline(steps)\n",
    "\n",
    "# Perform cross-validation\n",
    "cv_results = cross_validate(pipeline, X, y, scoring=['accuracy', 'roc_auc'], cv=K_Folds)\n",
    "\n",
    "# Calculate and display results\n",
    "acc = np.mean(cv_results['test_accuracy'])\n",
    "acc_std = np.std(cv_results['test_accuracy'])\n",
    "roc_auc = np.mean(cv_results['test_roc_auc'])\n",
    "roc_auc_std = np.std(cv_results['test_roc_auc'])\n",
    "\n",
    "print(f\"Accuracy: {acc:.4f} ± {acc_std:.4f}\")\n",
    "print(f\"AUC-ROC: {roc_auc:.4f} ± {roc_auc_std:.4f}\")\n",
    "\n",
    "# Stop emission tracking\n",
    "_ = tracker.stop()\n"
   ]
  },
  {
   "cell_type": "code",
   "execution_count": 26,
   "metadata": {},
   "outputs": [],
   "source": [
    "# Save evaluation to an external file\n",
    "file = 'scores.csv'\n",
    "\n",
    "results = pd.DataFrame({\n",
    "    'RF-optimization': [acc, acc_std, roc_auc, roc_auc_std]\n",
    "}, index = ['Accuracy', 'Accuracy STD', 'AUC-ROC', 'AUC-ROC STD'])\n",
    "\n",
    "# Check if file exists\n",
    "if os.path.exists(file):\n",
    "    temp = pd.read_csv(file, index_col=0)\n",
    "    results = pd.concat([temp, results], axis=1)\n",
    "\n",
    "# Export\n",
    "results.to_csv(file)"
   ]
  },
  {
   "attachments": {},
   "cell_type": "markdown",
   "metadata": {},
   "source": [
    "### References:\n",
    "* https://scikit-learn.org/stable/modules/generated/sklearn.linear_model.LogisticRegression.html\n",
    "* https://scikit-learn.org/stable/modules/tree.html\n",
    "* https://scikit-learn.org/stable/modules/generated/sklearn.ensemble.RandomForestClassifier.html"
   ]
  }
 ],
 "metadata": {
  "kernelspec": {
   "display_name": "base",
   "language": "python",
   "name": "python3"
  },
  "language_info": {
   "codemirror_mode": {
    "name": "ipython",
    "version": 3
   },
   "file_extension": ".py",
   "mimetype": "text/x-python",
   "name": "python",
   "nbconvert_exporter": "python",
   "pygments_lexer": "ipython3",
   "version": "3.10.12"
  },
  "orig_nbformat": 4
 },
 "nbformat": 4,
 "nbformat_minor": 2
}

{
 "cells": [
  {
   "attachments": {},
   "cell_type": "markdown",
   "metadata": {},
   "source": [
    "# Alternative Models: Eager Learners I\n",
    "\n",
    "<hr>\n",
    "\n",
    "* Logistic Regression\n",
    "* Decision Trees"
   ]
  },
  {
   "cell_type": "code",
   "execution_count": 1,
   "metadata": {},
   "outputs": [],
   "source": [
    "# Import needed libraries and modules\n",
    "from codecarbon import EmissionsTracker\n",
    "import os\n",
    "import numpy as np\n",
    "import pandas as pd\n",
    "from sklearn.model_selection import cross_validate, cross_val_score\n",
    "from sklearn.preprocessing import StandardScaler, OneHotEncoder\n",
    "from sklearn.compose import ColumnTransformer\n",
    "from sklearn.decomposition import PCA\n",
    "from sklearn.linear_model import LogisticRegression\n",
    "from sklearn import tree\n",
    "import optuna\n",
    "from optuna.samplers import GPSampler\n",
    "from sklearn.pipeline import Pipeline\n",
    "\n",
    "# Fetch dataset from UCI Repository\n",
    "from ucimlrepo import fetch_ucirepo\n",
    "heart_disease = fetch_ucirepo(id=45)\n",
    "df = heart_disease.data.original"
   ]
  },
  {
   "cell_type": "code",
   "execution_count": 2,
   "metadata": {},
   "outputs": [],
   "source": [
    "# ---------------------------------------------------------------------------- #\n",
    "#                                PRE-PROCESSING                                #\n",
    "# ---------------------------------------------------------------------------- #\n",
    "\n",
    "##### SETTINGS #####\n",
    "PC_Features = True\n",
    "Random_Seed = 82024\n",
    "K_Folds = 10\n",
    "Max_Iterations = 200\n",
    "####################\n",
    "\n",
    "# Drop missing values\n",
    "df = df.dropna()\n",
    "df = df.reset_index(drop=True)\n",
    "\n",
    "# Binarize target\n",
    "df.loc[df['num'] != 0, 'num'] = 1\n",
    "\n",
    "# Define features and target vectors\n",
    "X = df.iloc[:,:-1]\n",
    "y = df['num']\n",
    "\n",
    "# Separate integer from categorical features\n",
    "int_features, cat_features = ['age', 'trestbps', 'chol', 'thalach', 'oldpeak'],\\\n",
    "['sex', 'cp', 'fbs', 'restecg', 'exang', 'slope', 'ca', 'thal']\n",
    "\n",
    "# Define preprocessing\n",
    "preprocessor = ColumnTransformer(\n",
    "    transformers=[\n",
    "        ('int', StandardScaler(), int_features),\n",
    "        ('cat', OneHotEncoder(), cat_features)\n",
    "    ])"
   ]
  },
  {
   "attachments": {},
   "cell_type": "markdown",
   "metadata": {},
   "source": [
    "<hr>\n",
    "\n",
    "## Logistic Regression:"
   ]
  },
  {
   "cell_type": "code",
   "execution_count": 3,
   "metadata": {},
   "outputs": [
    {
     "name": "stderr",
     "output_type": "stream",
     "text": [
      "[codecarbon WARNING @ 11:49:52] No CPU tracking mode found. Falling back on CPU constant mode. \n",
      " Linux OS detected: Please ensure RAPL files exist at \\sys\\class\\powercap\\intel-rapl to measure CPU\n",
      "\n"
     ]
    },
    {
     "name": "stdout",
     "output_type": "stream",
     "text": [
      "Accuracy: 0.8448 ± 0.0512\n",
      "AUC-ROC: 0.9143 ± 0.0337\n"
     ]
    }
   ],
   "source": [
    "# ---------------------------------------------------------------------------- #\n",
    "#                                     MODEL                                    #\n",
    "# ---------------------------------------------------------------------------- #\n",
    "\n",
    "# Initiate CodeCarbon to track emissions\n",
    "tracker = EmissionsTracker('LR model', log_level='warning')\n",
    "tracker.start()\n",
    "\n",
    "# Create model\n",
    "model = LogisticRegression(random_state=Random_Seed)\n",
    "\n",
    "# Define pipeline depending on whether PCA is requested or not\n",
    "if PC_Features:\n",
    "    steps = [\n",
    "        ('preprocessor', preprocessor),\n",
    "        ('pca', PCA(n_components=12)),\n",
    "        ('LR-classifier', model)\n",
    "    ]\n",
    "else:\n",
    "    steps = [\n",
    "        ('preprocessor', preprocessor),\n",
    "        ('LR-classifier', model)\n",
    "    ]\n",
    "    \n",
    "pipeline = Pipeline(steps)\n",
    "\n",
    "# Perform cross-validation\n",
    "cv_results = cross_validate(pipeline, X, y, scoring=['accuracy', 'roc_auc'], cv=K_Folds)\n",
    "\n",
    "# Calculate and display results\n",
    "acc = np.mean(cv_results['test_accuracy'])\n",
    "acc_std = np.std(cv_results['test_accuracy'])\n",
    "roc_auc = np.mean(cv_results['test_roc_auc'])\n",
    "roc_auc_std = np.std(cv_results['test_roc_auc'])\n",
    "\n",
    "print(f\"Accuracy: {acc:.4f} ± {acc_std:.4f}\")\n",
    "print(f\"AUC-ROC: {roc_auc:.4f} ± {roc_auc_std:.4f}\")\n",
    "\n",
    "# Stop emission tracking\n",
    "_ = tracker.stop()"
   ]
  },
  {
   "cell_type": "code",
   "execution_count": 4,
   "metadata": {},
   "outputs": [],
   "source": [
    "# Save evaluation to an external file\n",
    "file = 'scores.csv'\n",
    "\n",
    "results = pd.DataFrame({\n",
    "    'LR-model': [acc, acc_std, roc_auc, roc_auc_std]\n",
    "}, index = ['Accuracy', 'Accuracy STD', 'AUC-ROC', 'AUC-ROC STD'])\n",
    "\n",
    "# Check if file exists\n",
    "if os.path.exists(file):\n",
    "    temp = pd.read_csv(file, index_col=0)\n",
    "    results = pd.concat([temp, results], axis=1)\n",
    "\n",
    "# Export\n",
    "results.to_csv(file)"
   ]
  },
  {
   "cell_type": "code",
   "execution_count": 5,
   "metadata": {},
   "outputs": [
    {
     "name": "stderr",
     "output_type": "stream",
     "text": [
      "[codecarbon WARNING @ 11:49:58] No CPU tracking mode found. Falling back on CPU constant mode. \n",
      " Linux OS detected: Please ensure RAPL files exist at \\sys\\class\\powercap\\intel-rapl to measure CPU\n",
      "\n",
      "/tmp/ipykernel_8209/2460874507.py:43: ExperimentalWarning: GPSampler is experimental (supported from v3.6.0). The interface can change in the future.\n",
      "  study = optuna.create_study(direction='maximize', sampler=GPSampler())\n",
      "[I 2024-10-28 11:50:03,627] A new study created in memory with name: no-name-c13b7dac-87bb-4cf1-9fd5-b8b4e555f35a\n",
      "[I 2024-10-28 11:50:03,779] Trial 0 finished with value: 0.9133928571428573 and parameters: {'C': 0.30748040594872583, 'solver': 'saga', 'penalty': 'l2'}. Best is trial 0 with value: 0.9133928571428573.\n",
      "[I 2024-10-28 11:50:03,907] Trial 1 finished with value: 0.8911744505494505 and parameters: {'C': 0.003130300678508169, 'solver': 'lbfgs', 'penalty': 'l2'}. Best is trial 0 with value: 0.9133928571428573.\n",
      "[I 2024-10-28 11:50:04,034] Trial 2 finished with value: 0.9091346153846155 and parameters: {'C': 0.050677592397492, 'solver': 'saga', 'penalty': 'l2'}. Best is trial 0 with value: 0.9133928571428573.\n",
      "[I 2024-10-28 11:50:04,185] Trial 3 finished with value: 0.892135989010989 and parameters: {'C': 0.0038071411184493254, 'solver': 'lbfgs', 'penalty': 'l1'}. Best is trial 0 with value: 0.9133928571428573.\n",
      "[I 2024-10-28 11:50:04,320] Trial 4 finished with value: 0.5 and parameters: {'C': 2.8036069778104976e-05, 'solver': 'liblinear', 'penalty': 'l1'}. Best is trial 0 with value: 0.9133928571428573.\n",
      "[I 2024-10-28 11:50:04,471] Trial 5 finished with value: 0.9160027472527472 and parameters: {'C': 51.63796903089315, 'solver': 'saga', 'penalty': 'l2'}. Best is trial 5 with value: 0.9160027472527472.\n",
      "[I 2024-10-28 11:50:04,594] Trial 6 finished with value: 0.8888736263736264 and parameters: {'C': 0.0019183421928595386, 'solver': 'lbfgs', 'penalty': 'l1'}. Best is trial 5 with value: 0.9160027472527472.\n",
      "[I 2024-10-28 11:50:04,719] Trial 7 finished with value: 0.9017170329670329 and parameters: {'C': 0.013278721262210158, 'solver': 'lbfgs', 'penalty': 'l1'}. Best is trial 5 with value: 0.9160027472527472.\n",
      "[I 2024-10-28 11:50:04,865] Trial 8 finished with value: 0.913804945054945 and parameters: {'C': 1.0216214495756097, 'solver': 'saga', 'penalty': 'l1'}. Best is trial 5 with value: 0.9160027472527472.\n",
      "[I 2024-10-28 11:50:05,025] Trial 9 finished with value: 0.9160027472527472 and parameters: {'C': 16.224004479611647, 'solver': 'saga', 'penalty': 'l2'}. Best is trial 5 with value: 0.9160027472527472.\n",
      "[I 2024-10-28 11:50:12,681] Trial 10 finished with value: 0.9160027472527472 and parameters: {'C': 100.0, 'solver': 'lbfgs', 'penalty': 'l1'}. Best is trial 5 with value: 0.9160027472527472.\n",
      "[I 2024-10-28 11:50:12,894] Trial 11 finished with value: 0.9160027472527472 and parameters: {'C': 100.0, 'solver': 'lbfgs', 'penalty': 'l2'}. Best is trial 5 with value: 0.9160027472527472.\n",
      "[I 2024-10-28 11:50:13,109] Trial 12 finished with value: 0.9160027472527472 and parameters: {'C': 100.0, 'solver': 'saga', 'penalty': 'l1'}. Best is trial 5 with value: 0.9160027472527472.\n",
      "[I 2024-10-28 11:50:13,357] Trial 13 finished with value: 0.9160027472527472 and parameters: {'C': 5.582556114518717, 'solver': 'lbfgs', 'penalty': 'l1'}. Best is trial 5 with value: 0.9160027472527472.\n",
      "[I 2024-10-28 11:50:13,605] Trial 14 finished with value: 0.884375 and parameters: {'C': 1e-05, 'solver': 'saga', 'penalty': 'l1'}. Best is trial 5 with value: 0.9160027472527472.\n",
      "[I 2024-10-28 11:50:13,844] Trial 15 finished with value: 0.9160027472527472 and parameters: {'C': 11.51554902907918, 'solver': 'lbfgs', 'penalty': 'l2'}. Best is trial 5 with value: 0.9160027472527472.\n",
      "[I 2024-10-28 11:50:14,107] Trial 16 finished with value: 0.9160027472527472 and parameters: {'C': 15.185861406250106, 'solver': 'lbfgs', 'penalty': 'l1'}. Best is trial 5 with value: 0.9160027472527472.\n",
      "[I 2024-10-28 11:50:14,385] Trial 17 finished with value: 0.9160027472527472 and parameters: {'C': 15.21927814502906, 'solver': 'lbfgs', 'penalty': 'l1'}. Best is trial 5 with value: 0.9160027472527472.\n",
      "[I 2024-10-28 11:50:14,685] Trial 18 finished with value: 0.9160027472527472 and parameters: {'C': 28.482612328843643, 'solver': 'saga', 'penalty': 'l1'}. Best is trial 5 with value: 0.9160027472527472.\n",
      "[I 2024-10-28 11:50:15,053] Trial 19 finished with value: 0.9160027472527472 and parameters: {'C': 33.73076376206421, 'solver': 'lbfgs', 'penalty': 'l2'}. Best is trial 5 with value: 0.9160027472527472.\n",
      "[I 2024-10-28 11:50:15,289] Trial 20 finished with value: 0.9160027472527472 and parameters: {'C': 11.166043704559389, 'solver': 'saga', 'penalty': 'l2'}. Best is trial 5 with value: 0.9160027472527472.\n",
      "[I 2024-10-28 11:50:15,499] Trial 21 finished with value: 0.9160027472527472 and parameters: {'C': 100.0, 'solver': 'saga', 'penalty': 'l2'}. Best is trial 5 with value: 0.9160027472527472.\n",
      "[I 2024-10-28 11:50:15,837] Trial 22 finished with value: 0.9160027472527472 and parameters: {'C': 100.0, 'solver': 'saga', 'penalty': 'l1'}. Best is trial 5 with value: 0.9160027472527472.\n",
      "[I 2024-10-28 11:50:16,133] Trial 23 finished with value: 0.9160027472527472 and parameters: {'C': 32.67370403472425, 'solver': 'lbfgs', 'penalty': 'l2'}. Best is trial 5 with value: 0.9160027472527472.\n",
      "[I 2024-10-28 11:50:16,364] Trial 24 finished with value: 0.9160027472527472 and parameters: {'C': 18.4006400127925, 'solver': 'saga', 'penalty': 'l2'}. Best is trial 5 with value: 0.9160027472527472.\n",
      "[I 2024-10-28 11:50:16,590] Trial 25 finished with value: 0.9160027472527472 and parameters: {'C': 11.808477216029866, 'solver': 'lbfgs', 'penalty': 'l1'}. Best is trial 5 with value: 0.9160027472527472.\n",
      "[I 2024-10-28 11:50:16,867] Trial 26 finished with value: 0.9160027472527472 and parameters: {'C': 33.96724444181582, 'solver': 'saga', 'penalty': 'l1'}. Best is trial 5 with value: 0.9160027472527472.\n",
      "[I 2024-10-28 11:50:17,133] Trial 27 finished with value: 0.9160027472527472 and parameters: {'C': 100.0, 'solver': 'lbfgs', 'penalty': 'l2'}. Best is trial 5 with value: 0.9160027472527472.\n",
      "[I 2024-10-28 11:50:17,381] Trial 28 finished with value: 0.9164835164835164 and parameters: {'C': 3.917720555524164, 'solver': 'lbfgs', 'penalty': 'l1'}. Best is trial 28 with value: 0.9164835164835164.\n",
      "[I 2024-10-28 11:50:17,720] Trial 29 finished with value: 0.9155906593406593 and parameters: {'C': 1.917288815387041, 'solver': 'lbfgs', 'penalty': 'l1'}. Best is trial 28 with value: 0.9164835164835164.\n",
      "[I 2024-10-28 11:50:18,024] Trial 30 finished with value: 0.9160370879120879 and parameters: {'C': 3.307677685673053, 'solver': 'lbfgs', 'penalty': 'l2'}. Best is trial 28 with value: 0.9164835164835164.\n",
      "[I 2024-10-28 11:50:18,354] Trial 31 finished with value: 0.9160027472527472 and parameters: {'C': 100.0, 'solver': 'lbfgs', 'penalty': 'l1'}. Best is trial 28 with value: 0.9164835164835164.\n",
      "[I 2024-10-28 11:50:18,766] Trial 32 finished with value: 0.9160027472527472 and parameters: {'C': 7.414667586452901, 'solver': 'lbfgs', 'penalty': 'l2'}. Best is trial 28 with value: 0.9164835164835164.\n",
      "[I 2024-10-28 11:50:19,056] Trial 33 finished with value: 0.9160027472527472 and parameters: {'C': 100.0, 'solver': 'saga', 'penalty': 'l2'}. Best is trial 28 with value: 0.9164835164835164.\n",
      "[I 2024-10-28 11:50:19,417] Trial 34 finished with value: 0.9160027472527472 and parameters: {'C': 15.826937987344134, 'solver': 'saga', 'penalty': 'l1'}. Best is trial 28 with value: 0.9164835164835164.\n",
      "[I 2024-10-28 11:50:19,773] Trial 35 finished with value: 0.9164835164835164 and parameters: {'C': 4.778988895194547, 'solver': 'saga', 'penalty': 'l2'}. Best is trial 28 with value: 0.9164835164835164.\n",
      "[I 2024-10-28 11:50:20,080] Trial 36 finished with value: 0.9164835164835164 and parameters: {'C': 4.761822006715895, 'solver': 'saga', 'penalty': 'l2'}. Best is trial 28 with value: 0.9164835164835164.\n",
      "[I 2024-10-28 11:50:20,350] Trial 37 finished with value: 0.9164835164835164 and parameters: {'C': 4.494358154006275, 'solver': 'saga', 'penalty': 'l2'}. Best is trial 28 with value: 0.9164835164835164.\n",
      "[I 2024-10-28 11:50:20,691] Trial 38 finished with value: 0.9164835164835164 and parameters: {'C': 4.1655057628387535, 'solver': 'saga', 'penalty': 'l2'}. Best is trial 28 with value: 0.9164835164835164.\n",
      "[I 2024-10-28 11:50:20,919] Trial 39 finished with value: 0.884375 and parameters: {'C': 1e-05, 'solver': 'lbfgs', 'penalty': 'l2'}. Best is trial 28 with value: 0.9164835164835164.\n",
      "[I 2024-10-28 11:50:21,169] Trial 40 finished with value: 0.884375 and parameters: {'C': 1e-05, 'solver': 'saga', 'penalty': 'l2'}. Best is trial 28 with value: 0.9164835164835164.\n",
      "[I 2024-10-28 11:50:21,419] Trial 41 finished with value: 0.9160027472527472 and parameters: {'C': 100.0, 'solver': 'liblinear', 'penalty': 'l2'}. Best is trial 28 with value: 0.9164835164835164.\n",
      "[I 2024-10-28 11:50:21,668] Trial 42 finished with value: 0.9160027472527472 and parameters: {'C': 100.0, 'solver': 'liblinear', 'penalty': 'l1'}. Best is trial 28 with value: 0.9164835164835164.\n",
      "[I 2024-10-28 11:50:21,942] Trial 43 finished with value: 0.8875 and parameters: {'C': 0.0014203182283685455, 'solver': 'saga', 'penalty': 'l1'}. Best is trial 28 with value: 0.9164835164835164.\n",
      "[I 2024-10-28 11:50:22,222] Trial 44 finished with value: 0.9120192307692309 and parameters: {'C': 0.21762299043647795, 'solver': 'lbfgs', 'penalty': 'l2'}. Best is trial 28 with value: 0.9164835164835164.\n",
      "[I 2024-10-28 11:50:22,535] Trial 45 finished with value: 0.9155906593406593 and parameters: {'C': 2.387487240320346, 'solver': 'saga', 'penalty': 'l2'}. Best is trial 28 with value: 0.9164835164835164.\n",
      "[I 2024-10-28 11:50:22,810] Trial 46 finished with value: 0.9160027472527472 and parameters: {'C': 23.103265937999666, 'solver': 'liblinear', 'penalty': 'l2'}. Best is trial 28 with value: 0.9164835164835164.\n",
      "[I 2024-10-28 11:50:23,189] Trial 47 finished with value: 0.9160027472527472 and parameters: {'C': 35.41506378950788, 'solver': 'liblinear', 'penalty': 'l1'}. Best is trial 28 with value: 0.9164835164835164.\n",
      "[I 2024-10-28 11:50:23,457] Trial 48 finished with value: 0.9160027472527472 and parameters: {'C': 46.36737219919139, 'solver': 'liblinear', 'penalty': 'l2'}. Best is trial 28 with value: 0.9164835164835164.\n",
      "[I 2024-10-28 11:50:23,827] Trial 49 finished with value: 0.9111263736263735 and parameters: {'C': 0.10941357140882685, 'solver': 'saga', 'penalty': 'l1'}. Best is trial 28 with value: 0.9164835164835164.\n",
      "[I 2024-10-28 11:50:24,177] Trial 50 finished with value: 0.9164835164835164 and parameters: {'C': 8.54554852889535, 'solver': 'liblinear', 'penalty': 'l1'}. Best is trial 28 with value: 0.9164835164835164.\n",
      "[I 2024-10-28 11:50:24,489] Trial 51 finished with value: 0.9160027472527472 and parameters: {'C': 13.238970820478432, 'solver': 'liblinear', 'penalty': 'l1'}. Best is trial 28 with value: 0.9164835164835164.\n",
      "[I 2024-10-28 11:50:24,772] Trial 52 finished with value: 0.9164835164835164 and parameters: {'C': 3.790238493806799, 'solver': 'liblinear', 'penalty': 'l2'}. Best is trial 28 with value: 0.9164835164835164.\n",
      "[I 2024-10-28 11:50:25,039] Trial 53 finished with value: 0.9160027472527472 and parameters: {'C': 6.32649258838431, 'solver': 'liblinear', 'penalty': 'l2'}. Best is trial 28 with value: 0.9164835164835164.\n",
      "[I 2024-10-28 11:50:25,377] Trial 54 finished with value: 0.9169642857142858 and parameters: {'C': 2.689657383734262, 'solver': 'liblinear', 'penalty': 'l1'}. Best is trial 54 with value: 0.9169642857142858.\n",
      "[I 2024-10-28 11:50:25,693] Trial 55 finished with value: 0.9165178571428572 and parameters: {'C': 3.8468645892234825, 'solver': 'liblinear', 'penalty': 'l1'}. Best is trial 54 with value: 0.9169642857142858.\n",
      "[I 2024-10-28 11:50:26,088] Trial 56 finished with value: 0.913804945054945 and parameters: {'C': 1.0249673429758253, 'solver': 'liblinear', 'penalty': 'l2'}. Best is trial 54 with value: 0.9169642857142858.\n",
      "[I 2024-10-28 11:50:26,383] Trial 57 finished with value: 0.9165521978021978 and parameters: {'C': 1.6928908130451343, 'solver': 'liblinear', 'penalty': 'l1'}. Best is trial 54 with value: 0.9169642857142858.\n",
      "[I 2024-10-28 11:50:26,708] Trial 58 finished with value: 0.9164835164835164 and parameters: {'C': 4.54964610334186, 'solver': 'saga', 'penalty': 'l1'}. Best is trial 54 with value: 0.9169642857142858.\n",
      "[I 2024-10-28 11:50:27,105] Trial 59 finished with value: 0.9169642857142858 and parameters: {'C': 2.349304723597079, 'solver': 'liblinear', 'penalty': 'l1'}. Best is trial 54 with value: 0.9169642857142858.\n",
      "[I 2024-10-28 11:50:27,554] Trial 60 finished with value: 0.9155906593406593 and parameters: {'C': 2.263028807505673, 'solver': 'liblinear', 'penalty': 'l2'}. Best is trial 54 with value: 0.9169642857142858.\n",
      "[I 2024-10-28 11:50:27,900] Trial 61 finished with value: 0.9115384615384616 and parameters: {'C': 0.15802847095840883, 'solver': 'lbfgs', 'penalty': 'l1'}. Best is trial 54 with value: 0.9169642857142858.\n",
      "[I 2024-10-28 11:50:28,258] Trial 62 finished with value: 0.9160027472527472 and parameters: {'C': 49.67297710369454, 'solver': 'lbfgs', 'penalty': 'l1'}. Best is trial 54 with value: 0.9169642857142858.\n",
      "[I 2024-10-28 11:50:28,627] Trial 63 finished with value: 0.9169642857142858 and parameters: {'C': 2.392885189681057, 'solver': 'liblinear', 'penalty': 'l1'}. Best is trial 54 with value: 0.9169642857142858.\n",
      "[I 2024-10-28 11:50:28,950] Trial 64 finished with value: 0.9169642857142858 and parameters: {'C': 2.3971929140233685, 'solver': 'liblinear', 'penalty': 'l1'}. Best is trial 54 with value: 0.9169642857142858.\n",
      "[I 2024-10-28 11:50:29,307] Trial 65 finished with value: 0.884375 and parameters: {'C': 1.0102747923580625e-05, 'solver': 'lbfgs', 'penalty': 'l1'}. Best is trial 54 with value: 0.9169642857142858.\n",
      "[I 2024-10-28 11:50:29,788] Trial 66 finished with value: 0.9169642857142858 and parameters: {'C': 2.4011736446873404, 'solver': 'liblinear', 'penalty': 'l1'}. Best is trial 54 with value: 0.9169642857142858.\n",
      "[I 2024-10-28 11:50:30,209] Trial 67 finished with value: 0.9169642857142858 and parameters: {'C': 2.401485920064475, 'solver': 'liblinear', 'penalty': 'l1'}. Best is trial 54 with value: 0.9169642857142858.\n",
      "[I 2024-10-28 11:50:30,637] Trial 68 finished with value: 0.9169642857142858 and parameters: {'C': 2.404420150812028, 'solver': 'liblinear', 'penalty': 'l1'}. Best is trial 54 with value: 0.9169642857142858.\n",
      "[I 2024-10-28 11:50:31,088] Trial 69 finished with value: 0.9169642857142858 and parameters: {'C': 2.4030607464206555, 'solver': 'liblinear', 'penalty': 'l1'}. Best is trial 54 with value: 0.9169642857142858.\n",
      "[I 2024-10-28 11:50:31,461] Trial 70 finished with value: 0.9169642857142858 and parameters: {'C': 2.404611286102642, 'solver': 'liblinear', 'penalty': 'l1'}. Best is trial 54 with value: 0.9169642857142858.\n",
      "[I 2024-10-28 11:50:31,836] Trial 71 finished with value: 0.9169642857142858 and parameters: {'C': 2.411032059880954, 'solver': 'liblinear', 'penalty': 'l1'}. Best is trial 54 with value: 0.9169642857142858.\n",
      "[I 2024-10-28 11:50:32,154] Trial 72 finished with value: 0.9169642857142858 and parameters: {'C': 2.420573125109403, 'solver': 'liblinear', 'penalty': 'l1'}. Best is trial 54 with value: 0.9169642857142858.\n",
      "[I 2024-10-28 11:50:32,568] Trial 73 finished with value: 0.9169642857142858 and parameters: {'C': 2.405416672974344, 'solver': 'liblinear', 'penalty': 'l1'}. Best is trial 54 with value: 0.9169642857142858.\n",
      "[I 2024-10-28 11:50:33,026] Trial 74 finished with value: 0.9169642857142858 and parameters: {'C': 2.405704980221625, 'solver': 'liblinear', 'penalty': 'l1'}. Best is trial 54 with value: 0.9169642857142858.\n",
      "[I 2024-10-28 11:50:33,451] Trial 75 finished with value: 0.9169642857142858 and parameters: {'C': 2.416221668155881, 'solver': 'liblinear', 'penalty': 'l1'}. Best is trial 54 with value: 0.9169642857142858.\n",
      "[I 2024-10-28 11:50:33,792] Trial 76 finished with value: 0.9169642857142858 and parameters: {'C': 2.401312593035448, 'solver': 'liblinear', 'penalty': 'l1'}. Best is trial 54 with value: 0.9169642857142858.\n",
      "[I 2024-10-28 11:50:34,182] Trial 77 finished with value: 0.9169642857142858 and parameters: {'C': 2.4073220576973715, 'solver': 'liblinear', 'penalty': 'l1'}. Best is trial 54 with value: 0.9169642857142858.\n",
      "[I 2024-10-28 11:50:34,568] Trial 78 finished with value: 0.9169642857142858 and parameters: {'C': 2.4079489143634043, 'solver': 'liblinear', 'penalty': 'l1'}. Best is trial 54 with value: 0.9169642857142858.\n",
      "[I 2024-10-28 11:50:35,017] Trial 79 finished with value: 0.9169642857142858 and parameters: {'C': 2.4139069291412403, 'solver': 'liblinear', 'penalty': 'l1'}. Best is trial 54 with value: 0.9169642857142858.\n",
      "[I 2024-10-28 11:50:35,398] Trial 80 finished with value: 0.9169642857142858 and parameters: {'C': 2.40886331802793, 'solver': 'liblinear', 'penalty': 'l1'}. Best is trial 54 with value: 0.9169642857142858.\n",
      "[I 2024-10-28 11:50:35,864] Trial 81 finished with value: 0.9169642857142858 and parameters: {'C': 2.4086491186892514, 'solver': 'liblinear', 'penalty': 'l1'}. Best is trial 54 with value: 0.9169642857142858.\n",
      "[I 2024-10-28 11:50:36,252] Trial 82 finished with value: 0.9169642857142858 and parameters: {'C': 2.408688650562766, 'solver': 'liblinear', 'penalty': 'l1'}. Best is trial 54 with value: 0.9169642857142858.\n",
      "[I 2024-10-28 11:50:36,649] Trial 83 finished with value: 0.9169642857142858 and parameters: {'C': 2.4103109198169146, 'solver': 'liblinear', 'penalty': 'l1'}. Best is trial 54 with value: 0.9169642857142858.\n",
      "[I 2024-10-28 11:50:37,095] Trial 84 finished with value: 0.9169642857142858 and parameters: {'C': 2.411163177185178, 'solver': 'liblinear', 'penalty': 'l1'}. Best is trial 54 with value: 0.9169642857142858.\n",
      "[I 2024-10-28 11:50:37,543] Trial 85 finished with value: 0.9169642857142858 and parameters: {'C': 2.4119723458832905, 'solver': 'liblinear', 'penalty': 'l1'}. Best is trial 54 with value: 0.9169642857142858.\n",
      "[I 2024-10-28 11:50:37,984] Trial 86 finished with value: 0.9169642857142858 and parameters: {'C': 2.4225503979992933, 'solver': 'liblinear', 'penalty': 'l1'}. Best is trial 54 with value: 0.9169642857142858.\n",
      "[I 2024-10-28 11:50:38,396] Trial 87 finished with value: 0.9169642857142858 and parameters: {'C': 2.4115676110588473, 'solver': 'liblinear', 'penalty': 'l1'}. Best is trial 54 with value: 0.9169642857142858.\n",
      "[I 2024-10-28 11:50:38,834] Trial 88 finished with value: 0.9169642857142858 and parameters: {'C': 2.4166962880237515, 'solver': 'liblinear', 'penalty': 'l1'}. Best is trial 54 with value: 0.9169642857142858.\n",
      "[I 2024-10-28 11:50:39,241] Trial 89 finished with value: 0.9169642857142858 and parameters: {'C': 2.413145868984517, 'solver': 'liblinear', 'penalty': 'l1'}. Best is trial 54 with value: 0.9169642857142858.\n",
      "[I 2024-10-28 11:50:39,572] Trial 90 finished with value: 0.9169642857142858 and parameters: {'C': 2.42127202977644, 'solver': 'liblinear', 'penalty': 'l1'}. Best is trial 54 with value: 0.9169642857142858.\n",
      "[I 2024-10-28 11:50:39,901] Trial 91 finished with value: 0.9169642857142858 and parameters: {'C': 2.413251181162968, 'solver': 'liblinear', 'penalty': 'l1'}. Best is trial 54 with value: 0.9169642857142858.\n",
      "[I 2024-10-28 11:50:40,342] Trial 92 finished with value: 0.9169642857142858 and parameters: {'C': 2.414550682320076, 'solver': 'liblinear', 'penalty': 'l1'}. Best is trial 54 with value: 0.9169642857142858.\n",
      "[I 2024-10-28 11:50:40,724] Trial 93 finished with value: 0.9169642857142858 and parameters: {'C': 2.4165988125920497, 'solver': 'liblinear', 'penalty': 'l1'}. Best is trial 54 with value: 0.9169642857142858.\n",
      "[I 2024-10-28 11:50:41,121] Trial 94 finished with value: 0.9169642857142858 and parameters: {'C': 2.4251291864328746, 'solver': 'liblinear', 'penalty': 'l1'}. Best is trial 54 with value: 0.9169642857142858.\n",
      "[I 2024-10-28 11:50:41,463] Trial 95 finished with value: 0.9169642857142858 and parameters: {'C': 2.4154795382566276, 'solver': 'liblinear', 'penalty': 'l1'}. Best is trial 54 with value: 0.9169642857142858.\n",
      "[I 2024-10-28 11:50:41,935] Trial 96 finished with value: 0.9169642857142858 and parameters: {'C': 2.4501083942440816, 'solver': 'liblinear', 'penalty': 'l1'}. Best is trial 54 with value: 0.9169642857142858.\n",
      "[I 2024-10-28 11:50:42,374] Trial 97 finished with value: 0.9104739010989011 and parameters: {'C': 0.05681958704703118, 'solver': 'lbfgs', 'penalty': 'l2'}. Best is trial 54 with value: 0.9169642857142858.\n",
      "[I 2024-10-28 11:50:42,778] Trial 98 finished with value: 0.9169642857142858 and parameters: {'C': 2.4221577122499247, 'solver': 'liblinear', 'penalty': 'l1'}. Best is trial 54 with value: 0.9169642857142858.\n",
      "[I 2024-10-28 11:50:43,172] Trial 99 finished with value: 0.9169642857142858 and parameters: {'C': 2.4081077104618402, 'solver': 'liblinear', 'penalty': 'l1'}. Best is trial 54 with value: 0.9169642857142858.\n"
     ]
    }
   ],
   "source": [
    "# ---------------------------------------------------------------------------- #\n",
    "#                                 OPTIMIZATION                                 #\n",
    "# ---------------------------------------------------------------------------- #\n",
    "\n",
    "# Initiate CodeCarbon to track emissions\n",
    "tracker = EmissionsTracker('LR optimization', log_level='warning')\n",
    "tracker.start()\n",
    "\n",
    "# Objective function\n",
    "def objective(trial):\n",
    "    # Define parameters\n",
    "    C = trial.suggest_float('C', 1e-5, 1e2, log=True)  # Parâmetro de regularização\n",
    "    solver = trial.suggest_categorical('solver', ['liblinear', 'lbfgs', 'saga'])  # Solver\n",
    "\n",
    "    penalty = trial.suggest_categorical('penalty', ['l1', 'l2'])\n",
    "    penalty = 'l2' if solver != 'liblinear' else penalty\n",
    "\n",
    "    # Create model\n",
    "    temp_model = LogisticRegression(C=C, solver=solver, penalty=penalty, max_iter=1000)\n",
    "\n",
    "    # Define pipeline depending on whether PCA is requested or not\n",
    "    if PC_Features:\n",
    "        steps = [\n",
    "            ('preprocessor', preprocessor),\n",
    "            ('pca', PCA(n_components=12)),\n",
    "            ('LR-classifier', temp_model)\n",
    "        ]\n",
    "    else:\n",
    "        steps = [\n",
    "            ('preprocessor', preprocessor),\n",
    "            ('LR-classifier', temp_model)\n",
    "        ]\n",
    "        \n",
    "    pipeline = Pipeline(steps)\n",
    "    \n",
    "    # Perform cross-validation\n",
    "    roc_auc = cross_val_score(pipeline, X, y, scoring='roc_auc', cv=K_Folds).mean()\n",
    "    \n",
    "    return roc_auc\n",
    "\n",
    "\n",
    "# Optimizing with Optuna\n",
    "study = optuna.create_study(direction='maximize', sampler=GPSampler())\n",
    "study.optimize(objective, n_trials=100)"
   ]
  },
  {
   "cell_type": "code",
   "execution_count": 6,
   "metadata": {},
   "outputs": [
    {
     "name": "stdout",
     "output_type": "stream",
     "text": [
      "AUC-ROC: 0.9169642857142858\n",
      "Best hyperparameters: {'C': 2.689657383734262, 'solver': 'liblinear', 'penalty': 'l1'}\n"
     ]
    }
   ],
   "source": [
    "# Show best model\n",
    "trial = study.best_trial\n",
    "print('AUC-ROC: {}'.format(trial.value))\n",
    "print(\"Best hyperparameters: {}\".format(trial.params))"
   ]
  },
  {
   "cell_type": "code",
   "execution_count": 7,
   "metadata": {},
   "outputs": [
    {
     "data": {
      "application/vnd.plotly.v1+json": {
       "config": {
        "plotlyServerURL": "https://plot.ly"
       },
       "data": [
        {
         "mode": "markers",
         "name": "Objective Value",
         "type": "scatter",
         "x": [
          0,
          1,
          2,
          3,
          4,
          5,
          6,
          7,
          8,
          9,
          10,
          11,
          12,
          13,
          14,
          15,
          16,
          17,
          18,
          19,
          20,
          21,
          22,
          23,
          24,
          25,
          26,
          27,
          28,
          29,
          30,
          31,
          32,
          33,
          34,
          35,
          36,
          37,
          38,
          39,
          40,
          41,
          42,
          43,
          44,
          45,
          46,
          47,
          48,
          49,
          50,
          51,
          52,
          53,
          54,
          55,
          56,
          57,
          58,
          59,
          60,
          61,
          62,
          63,
          64,
          65,
          66,
          67,
          68,
          69,
          70,
          71,
          72,
          73,
          74,
          75,
          76,
          77,
          78,
          79,
          80,
          81,
          82,
          83,
          84,
          85,
          86,
          87,
          88,
          89,
          90,
          91,
          92,
          93,
          94,
          95,
          96,
          97,
          98,
          99
         ],
         "y": [
          0.9133928571428573,
          0.8911744505494505,
          0.9091346153846155,
          0.892135989010989,
          0.5,
          0.9160027472527472,
          0.8888736263736264,
          0.9017170329670329,
          0.913804945054945,
          0.9160027472527472,
          0.9160027472527472,
          0.9160027472527472,
          0.9160027472527472,
          0.9160027472527472,
          0.884375,
          0.9160027472527472,
          0.9160027472527472,
          0.9160027472527472,
          0.9160027472527472,
          0.9160027472527472,
          0.9160027472527472,
          0.9160027472527472,
          0.9160027472527472,
          0.9160027472527472,
          0.9160027472527472,
          0.9160027472527472,
          0.9160027472527472,
          0.9160027472527472,
          0.9164835164835164,
          0.9155906593406593,
          0.9160370879120879,
          0.9160027472527472,
          0.9160027472527472,
          0.9160027472527472,
          0.9160027472527472,
          0.9164835164835164,
          0.9164835164835164,
          0.9164835164835164,
          0.9164835164835164,
          0.884375,
          0.884375,
          0.9160027472527472,
          0.9160027472527472,
          0.8875,
          0.9120192307692309,
          0.9155906593406593,
          0.9160027472527472,
          0.9160027472527472,
          0.9160027472527472,
          0.9111263736263735,
          0.9164835164835164,
          0.9160027472527472,
          0.9164835164835164,
          0.9160027472527472,
          0.9169642857142858,
          0.9165178571428572,
          0.913804945054945,
          0.9165521978021978,
          0.9164835164835164,
          0.9169642857142858,
          0.9155906593406593,
          0.9115384615384616,
          0.9160027472527472,
          0.9169642857142858,
          0.9169642857142858,
          0.884375,
          0.9169642857142858,
          0.9169642857142858,
          0.9169642857142858,
          0.9169642857142858,
          0.9169642857142858,
          0.9169642857142858,
          0.9169642857142858,
          0.9169642857142858,
          0.9169642857142858,
          0.9169642857142858,
          0.9169642857142858,
          0.9169642857142858,
          0.9169642857142858,
          0.9169642857142858,
          0.9169642857142858,
          0.9169642857142858,
          0.9169642857142858,
          0.9169642857142858,
          0.9169642857142858,
          0.9169642857142858,
          0.9169642857142858,
          0.9169642857142858,
          0.9169642857142858,
          0.9169642857142858,
          0.9169642857142858,
          0.9169642857142858,
          0.9169642857142858,
          0.9169642857142858,
          0.9169642857142858,
          0.9169642857142858,
          0.9169642857142858,
          0.9104739010989011,
          0.9169642857142858,
          0.9169642857142858
         ]
        },
        {
         "mode": "lines",
         "name": "Best Value",
         "type": "scatter",
         "x": [
          0,
          1,
          2,
          3,
          4,
          5,
          6,
          7,
          8,
          9,
          10,
          11,
          12,
          13,
          14,
          15,
          16,
          17,
          18,
          19,
          20,
          21,
          22,
          23,
          24,
          25,
          26,
          27,
          28,
          29,
          30,
          31,
          32,
          33,
          34,
          35,
          36,
          37,
          38,
          39,
          40,
          41,
          42,
          43,
          44,
          45,
          46,
          47,
          48,
          49,
          50,
          51,
          52,
          53,
          54,
          55,
          56,
          57,
          58,
          59,
          60,
          61,
          62,
          63,
          64,
          65,
          66,
          67,
          68,
          69,
          70,
          71,
          72,
          73,
          74,
          75,
          76,
          77,
          78,
          79,
          80,
          81,
          82,
          83,
          84,
          85,
          86,
          87,
          88,
          89,
          90,
          91,
          92,
          93,
          94,
          95,
          96,
          97,
          98,
          99
         ],
         "y": [
          0.9133928571428573,
          0.9133928571428573,
          0.9133928571428573,
          0.9133928571428573,
          0.9133928571428573,
          0.9160027472527472,
          0.9160027472527472,
          0.9160027472527472,
          0.9160027472527472,
          0.9160027472527472,
          0.9160027472527472,
          0.9160027472527472,
          0.9160027472527472,
          0.9160027472527472,
          0.9160027472527472,
          0.9160027472527472,
          0.9160027472527472,
          0.9160027472527472,
          0.9160027472527472,
          0.9160027472527472,
          0.9160027472527472,
          0.9160027472527472,
          0.9160027472527472,
          0.9160027472527472,
          0.9160027472527472,
          0.9160027472527472,
          0.9160027472527472,
          0.9160027472527472,
          0.9164835164835164,
          0.9164835164835164,
          0.9164835164835164,
          0.9164835164835164,
          0.9164835164835164,
          0.9164835164835164,
          0.9164835164835164,
          0.9164835164835164,
          0.9164835164835164,
          0.9164835164835164,
          0.9164835164835164,
          0.9164835164835164,
          0.9164835164835164,
          0.9164835164835164,
          0.9164835164835164,
          0.9164835164835164,
          0.9164835164835164,
          0.9164835164835164,
          0.9164835164835164,
          0.9164835164835164,
          0.9164835164835164,
          0.9164835164835164,
          0.9164835164835164,
          0.9164835164835164,
          0.9164835164835164,
          0.9164835164835164,
          0.9169642857142858,
          0.9169642857142858,
          0.9169642857142858,
          0.9169642857142858,
          0.9169642857142858,
          0.9169642857142858,
          0.9169642857142858,
          0.9169642857142858,
          0.9169642857142858,
          0.9169642857142858,
          0.9169642857142858,
          0.9169642857142858,
          0.9169642857142858,
          0.9169642857142858,
          0.9169642857142858,
          0.9169642857142858,
          0.9169642857142858,
          0.9169642857142858,
          0.9169642857142858,
          0.9169642857142858,
          0.9169642857142858,
          0.9169642857142858,
          0.9169642857142858,
          0.9169642857142858,
          0.9169642857142858,
          0.9169642857142858,
          0.9169642857142858,
          0.9169642857142858,
          0.9169642857142858,
          0.9169642857142858,
          0.9169642857142858,
          0.9169642857142858,
          0.9169642857142858,
          0.9169642857142858,
          0.9169642857142858,
          0.9169642857142858,
          0.9169642857142858,
          0.9169642857142858,
          0.9169642857142858,
          0.9169642857142858,
          0.9169642857142858,
          0.9169642857142858,
          0.9169642857142858,
          0.9169642857142858,
          0.9169642857142858,
          0.9169642857142858
         ]
        },
        {
         "marker": {
          "color": "#cccccc"
         },
         "mode": "markers",
         "name": "Infeasible Trial",
         "showlegend": false,
         "type": "scatter",
         "x": [],
         "y": []
        }
       ],
       "layout": {
        "template": {
         "data": {
          "bar": [
           {
            "error_x": {
             "color": "#2a3f5f"
            },
            "error_y": {
             "color": "#2a3f5f"
            },
            "marker": {
             "line": {
              "color": "#E5ECF6",
              "width": 0.5
             },
             "pattern": {
              "fillmode": "overlay",
              "size": 10,
              "solidity": 0.2
             }
            },
            "type": "bar"
           }
          ],
          "barpolar": [
           {
            "marker": {
             "line": {
              "color": "#E5ECF6",
              "width": 0.5
             },
             "pattern": {
              "fillmode": "overlay",
              "size": 10,
              "solidity": 0.2
             }
            },
            "type": "barpolar"
           }
          ],
          "carpet": [
           {
            "aaxis": {
             "endlinecolor": "#2a3f5f",
             "gridcolor": "white",
             "linecolor": "white",
             "minorgridcolor": "white",
             "startlinecolor": "#2a3f5f"
            },
            "baxis": {
             "endlinecolor": "#2a3f5f",
             "gridcolor": "white",
             "linecolor": "white",
             "minorgridcolor": "white",
             "startlinecolor": "#2a3f5f"
            },
            "type": "carpet"
           }
          ],
          "choropleth": [
           {
            "colorbar": {
             "outlinewidth": 0,
             "ticks": ""
            },
            "type": "choropleth"
           }
          ],
          "contour": [
           {
            "colorbar": {
             "outlinewidth": 0,
             "ticks": ""
            },
            "colorscale": [
             [
              0,
              "#0d0887"
             ],
             [
              0.1111111111111111,
              "#46039f"
             ],
             [
              0.2222222222222222,
              "#7201a8"
             ],
             [
              0.3333333333333333,
              "#9c179e"
             ],
             [
              0.4444444444444444,
              "#bd3786"
             ],
             [
              0.5555555555555556,
              "#d8576b"
             ],
             [
              0.6666666666666666,
              "#ed7953"
             ],
             [
              0.7777777777777778,
              "#fb9f3a"
             ],
             [
              0.8888888888888888,
              "#fdca26"
             ],
             [
              1,
              "#f0f921"
             ]
            ],
            "type": "contour"
           }
          ],
          "contourcarpet": [
           {
            "colorbar": {
             "outlinewidth": 0,
             "ticks": ""
            },
            "type": "contourcarpet"
           }
          ],
          "heatmap": [
           {
            "colorbar": {
             "outlinewidth": 0,
             "ticks": ""
            },
            "colorscale": [
             [
              0,
              "#0d0887"
             ],
             [
              0.1111111111111111,
              "#46039f"
             ],
             [
              0.2222222222222222,
              "#7201a8"
             ],
             [
              0.3333333333333333,
              "#9c179e"
             ],
             [
              0.4444444444444444,
              "#bd3786"
             ],
             [
              0.5555555555555556,
              "#d8576b"
             ],
             [
              0.6666666666666666,
              "#ed7953"
             ],
             [
              0.7777777777777778,
              "#fb9f3a"
             ],
             [
              0.8888888888888888,
              "#fdca26"
             ],
             [
              1,
              "#f0f921"
             ]
            ],
            "type": "heatmap"
           }
          ],
          "heatmapgl": [
           {
            "colorbar": {
             "outlinewidth": 0,
             "ticks": ""
            },
            "colorscale": [
             [
              0,
              "#0d0887"
             ],
             [
              0.1111111111111111,
              "#46039f"
             ],
             [
              0.2222222222222222,
              "#7201a8"
             ],
             [
              0.3333333333333333,
              "#9c179e"
             ],
             [
              0.4444444444444444,
              "#bd3786"
             ],
             [
              0.5555555555555556,
              "#d8576b"
             ],
             [
              0.6666666666666666,
              "#ed7953"
             ],
             [
              0.7777777777777778,
              "#fb9f3a"
             ],
             [
              0.8888888888888888,
              "#fdca26"
             ],
             [
              1,
              "#f0f921"
             ]
            ],
            "type": "heatmapgl"
           }
          ],
          "histogram": [
           {
            "marker": {
             "pattern": {
              "fillmode": "overlay",
              "size": 10,
              "solidity": 0.2
             }
            },
            "type": "histogram"
           }
          ],
          "histogram2d": [
           {
            "colorbar": {
             "outlinewidth": 0,
             "ticks": ""
            },
            "colorscale": [
             [
              0,
              "#0d0887"
             ],
             [
              0.1111111111111111,
              "#46039f"
             ],
             [
              0.2222222222222222,
              "#7201a8"
             ],
             [
              0.3333333333333333,
              "#9c179e"
             ],
             [
              0.4444444444444444,
              "#bd3786"
             ],
             [
              0.5555555555555556,
              "#d8576b"
             ],
             [
              0.6666666666666666,
              "#ed7953"
             ],
             [
              0.7777777777777778,
              "#fb9f3a"
             ],
             [
              0.8888888888888888,
              "#fdca26"
             ],
             [
              1,
              "#f0f921"
             ]
            ],
            "type": "histogram2d"
           }
          ],
          "histogram2dcontour": [
           {
            "colorbar": {
             "outlinewidth": 0,
             "ticks": ""
            },
            "colorscale": [
             [
              0,
              "#0d0887"
             ],
             [
              0.1111111111111111,
              "#46039f"
             ],
             [
              0.2222222222222222,
              "#7201a8"
             ],
             [
              0.3333333333333333,
              "#9c179e"
             ],
             [
              0.4444444444444444,
              "#bd3786"
             ],
             [
              0.5555555555555556,
              "#d8576b"
             ],
             [
              0.6666666666666666,
              "#ed7953"
             ],
             [
              0.7777777777777778,
              "#fb9f3a"
             ],
             [
              0.8888888888888888,
              "#fdca26"
             ],
             [
              1,
              "#f0f921"
             ]
            ],
            "type": "histogram2dcontour"
           }
          ],
          "mesh3d": [
           {
            "colorbar": {
             "outlinewidth": 0,
             "ticks": ""
            },
            "type": "mesh3d"
           }
          ],
          "parcoords": [
           {
            "line": {
             "colorbar": {
              "outlinewidth": 0,
              "ticks": ""
             }
            },
            "type": "parcoords"
           }
          ],
          "pie": [
           {
            "automargin": true,
            "type": "pie"
           }
          ],
          "scatter": [
           {
            "fillpattern": {
             "fillmode": "overlay",
             "size": 10,
             "solidity": 0.2
            },
            "type": "scatter"
           }
          ],
          "scatter3d": [
           {
            "line": {
             "colorbar": {
              "outlinewidth": 0,
              "ticks": ""
             }
            },
            "marker": {
             "colorbar": {
              "outlinewidth": 0,
              "ticks": ""
             }
            },
            "type": "scatter3d"
           }
          ],
          "scattercarpet": [
           {
            "marker": {
             "colorbar": {
              "outlinewidth": 0,
              "ticks": ""
             }
            },
            "type": "scattercarpet"
           }
          ],
          "scattergeo": [
           {
            "marker": {
             "colorbar": {
              "outlinewidth": 0,
              "ticks": ""
             }
            },
            "type": "scattergeo"
           }
          ],
          "scattergl": [
           {
            "marker": {
             "colorbar": {
              "outlinewidth": 0,
              "ticks": ""
             }
            },
            "type": "scattergl"
           }
          ],
          "scattermapbox": [
           {
            "marker": {
             "colorbar": {
              "outlinewidth": 0,
              "ticks": ""
             }
            },
            "type": "scattermapbox"
           }
          ],
          "scatterpolar": [
           {
            "marker": {
             "colorbar": {
              "outlinewidth": 0,
              "ticks": ""
             }
            },
            "type": "scatterpolar"
           }
          ],
          "scatterpolargl": [
           {
            "marker": {
             "colorbar": {
              "outlinewidth": 0,
              "ticks": ""
             }
            },
            "type": "scatterpolargl"
           }
          ],
          "scatterternary": [
           {
            "marker": {
             "colorbar": {
              "outlinewidth": 0,
              "ticks": ""
             }
            },
            "type": "scatterternary"
           }
          ],
          "surface": [
           {
            "colorbar": {
             "outlinewidth": 0,
             "ticks": ""
            },
            "colorscale": [
             [
              0,
              "#0d0887"
             ],
             [
              0.1111111111111111,
              "#46039f"
             ],
             [
              0.2222222222222222,
              "#7201a8"
             ],
             [
              0.3333333333333333,
              "#9c179e"
             ],
             [
              0.4444444444444444,
              "#bd3786"
             ],
             [
              0.5555555555555556,
              "#d8576b"
             ],
             [
              0.6666666666666666,
              "#ed7953"
             ],
             [
              0.7777777777777778,
              "#fb9f3a"
             ],
             [
              0.8888888888888888,
              "#fdca26"
             ],
             [
              1,
              "#f0f921"
             ]
            ],
            "type": "surface"
           }
          ],
          "table": [
           {
            "cells": {
             "fill": {
              "color": "#EBF0F8"
             },
             "line": {
              "color": "white"
             }
            },
            "header": {
             "fill": {
              "color": "#C8D4E3"
             },
             "line": {
              "color": "white"
             }
            },
            "type": "table"
           }
          ]
         },
         "layout": {
          "annotationdefaults": {
           "arrowcolor": "#2a3f5f",
           "arrowhead": 0,
           "arrowwidth": 1
          },
          "autotypenumbers": "strict",
          "coloraxis": {
           "colorbar": {
            "outlinewidth": 0,
            "ticks": ""
           }
          },
          "colorscale": {
           "diverging": [
            [
             0,
             "#8e0152"
            ],
            [
             0.1,
             "#c51b7d"
            ],
            [
             0.2,
             "#de77ae"
            ],
            [
             0.3,
             "#f1b6da"
            ],
            [
             0.4,
             "#fde0ef"
            ],
            [
             0.5,
             "#f7f7f7"
            ],
            [
             0.6,
             "#e6f5d0"
            ],
            [
             0.7,
             "#b8e186"
            ],
            [
             0.8,
             "#7fbc41"
            ],
            [
             0.9,
             "#4d9221"
            ],
            [
             1,
             "#276419"
            ]
           ],
           "sequential": [
            [
             0,
             "#0d0887"
            ],
            [
             0.1111111111111111,
             "#46039f"
            ],
            [
             0.2222222222222222,
             "#7201a8"
            ],
            [
             0.3333333333333333,
             "#9c179e"
            ],
            [
             0.4444444444444444,
             "#bd3786"
            ],
            [
             0.5555555555555556,
             "#d8576b"
            ],
            [
             0.6666666666666666,
             "#ed7953"
            ],
            [
             0.7777777777777778,
             "#fb9f3a"
            ],
            [
             0.8888888888888888,
             "#fdca26"
            ],
            [
             1,
             "#f0f921"
            ]
           ],
           "sequentialminus": [
            [
             0,
             "#0d0887"
            ],
            [
             0.1111111111111111,
             "#46039f"
            ],
            [
             0.2222222222222222,
             "#7201a8"
            ],
            [
             0.3333333333333333,
             "#9c179e"
            ],
            [
             0.4444444444444444,
             "#bd3786"
            ],
            [
             0.5555555555555556,
             "#d8576b"
            ],
            [
             0.6666666666666666,
             "#ed7953"
            ],
            [
             0.7777777777777778,
             "#fb9f3a"
            ],
            [
             0.8888888888888888,
             "#fdca26"
            ],
            [
             1,
             "#f0f921"
            ]
           ]
          },
          "colorway": [
           "#636efa",
           "#EF553B",
           "#00cc96",
           "#ab63fa",
           "#FFA15A",
           "#19d3f3",
           "#FF6692",
           "#B6E880",
           "#FF97FF",
           "#FECB52"
          ],
          "font": {
           "color": "#2a3f5f"
          },
          "geo": {
           "bgcolor": "white",
           "lakecolor": "white",
           "landcolor": "#E5ECF6",
           "showlakes": true,
           "showland": true,
           "subunitcolor": "white"
          },
          "hoverlabel": {
           "align": "left"
          },
          "hovermode": "closest",
          "mapbox": {
           "style": "light"
          },
          "paper_bgcolor": "white",
          "plot_bgcolor": "#E5ECF6",
          "polar": {
           "angularaxis": {
            "gridcolor": "white",
            "linecolor": "white",
            "ticks": ""
           },
           "bgcolor": "#E5ECF6",
           "radialaxis": {
            "gridcolor": "white",
            "linecolor": "white",
            "ticks": ""
           }
          },
          "scene": {
           "xaxis": {
            "backgroundcolor": "#E5ECF6",
            "gridcolor": "white",
            "gridwidth": 2,
            "linecolor": "white",
            "showbackground": true,
            "ticks": "",
            "zerolinecolor": "white"
           },
           "yaxis": {
            "backgroundcolor": "#E5ECF6",
            "gridcolor": "white",
            "gridwidth": 2,
            "linecolor": "white",
            "showbackground": true,
            "ticks": "",
            "zerolinecolor": "white"
           },
           "zaxis": {
            "backgroundcolor": "#E5ECF6",
            "gridcolor": "white",
            "gridwidth": 2,
            "linecolor": "white",
            "showbackground": true,
            "ticks": "",
            "zerolinecolor": "white"
           }
          },
          "shapedefaults": {
           "line": {
            "color": "#2a3f5f"
           }
          },
          "ternary": {
           "aaxis": {
            "gridcolor": "white",
            "linecolor": "white",
            "ticks": ""
           },
           "baxis": {
            "gridcolor": "white",
            "linecolor": "white",
            "ticks": ""
           },
           "bgcolor": "#E5ECF6",
           "caxis": {
            "gridcolor": "white",
            "linecolor": "white",
            "ticks": ""
           }
          },
          "title": {
           "x": 0.05
          },
          "xaxis": {
           "automargin": true,
           "gridcolor": "white",
           "linecolor": "white",
           "ticks": "",
           "title": {
            "standoff": 15
           },
           "zerolinecolor": "white",
           "zerolinewidth": 2
          },
          "yaxis": {
           "automargin": true,
           "gridcolor": "white",
           "linecolor": "white",
           "ticks": "",
           "title": {
            "standoff": 15
           },
           "zerolinecolor": "white",
           "zerolinewidth": 2
          }
         }
        },
        "title": {
         "text": "Optimization History Plot"
        },
        "xaxis": {
         "title": {
          "text": "Trial"
         }
        },
        "yaxis": {
         "title": {
          "text": "Objective Value"
         }
        }
       }
      }
     },
     "metadata": {},
     "output_type": "display_data"
    }
   ],
   "source": [
    "# Visualizing optimization\n",
    "optuna.visualization.plot_optimization_history(study)"
   ]
  },
  {
   "cell_type": "code",
   "execution_count": 8,
   "metadata": {},
   "outputs": [
    {
     "data": {
      "application/vnd.plotly.v1+json": {
       "config": {
        "plotlyServerURL": "https://plot.ly"
       },
       "data": [
        {
         "marker": {
          "color": [
           0,
           1,
           2,
           3,
           4,
           5,
           6,
           7,
           8,
           9,
           10,
           11,
           12,
           13,
           14,
           15,
           16,
           17,
           18,
           19,
           20,
           21,
           22,
           23,
           24,
           25,
           26,
           27,
           28,
           29,
           30,
           31,
           32,
           33,
           34,
           35,
           36,
           37,
           38,
           39,
           40,
           41,
           42,
           43,
           44,
           45,
           46,
           47,
           48,
           49,
           50,
           51,
           52,
           53,
           54,
           55,
           56,
           57,
           58,
           59,
           60,
           61,
           62,
           63,
           64,
           65,
           66,
           67,
           68,
           69,
           70,
           71,
           72,
           73,
           74,
           75,
           76,
           77,
           78,
           79,
           80,
           81,
           82,
           83,
           84,
           85,
           86,
           87,
           88,
           89,
           90,
           91,
           92,
           93,
           94,
           95,
           96,
           97,
           98,
           99
          ],
          "colorbar": {
           "title": {
            "text": "Trial"
           },
           "x": 1,
           "xpad": 40
          },
          "colorscale": [
           [
            0,
            "rgb(247,251,255)"
           ],
           [
            0.125,
            "rgb(222,235,247)"
           ],
           [
            0.25,
            "rgb(198,219,239)"
           ],
           [
            0.375,
            "rgb(158,202,225)"
           ],
           [
            0.5,
            "rgb(107,174,214)"
           ],
           [
            0.625,
            "rgb(66,146,198)"
           ],
           [
            0.75,
            "rgb(33,113,181)"
           ],
           [
            0.875,
            "rgb(8,81,156)"
           ],
           [
            1,
            "rgb(8,48,107)"
           ]
          ],
          "line": {
           "color": "Grey",
           "width": 0.5
          },
          "showscale": true
         },
         "mode": "markers",
         "name": "Feasible Trial",
         "showlegend": false,
         "type": "scatter",
         "x": [
          0.30748040594872583,
          0.003130300678508169,
          0.050677592397492,
          0.0038071411184493254,
          0.000028036069778104976,
          51.63796903089315,
          0.0019183421928595386,
          0.013278721262210158,
          1.0216214495756097,
          16.224004479611647,
          100,
          100,
          100,
          5.582556114518717,
          0.00001,
          11.51554902907918,
          15.185861406250106,
          15.21927814502906,
          28.482612328843643,
          33.73076376206421,
          11.166043704559389,
          100,
          100,
          32.67370403472425,
          18.4006400127925,
          11.808477216029866,
          33.96724444181582,
          100,
          3.917720555524164,
          1.917288815387041,
          3.307677685673053,
          100,
          7.414667586452901,
          100,
          15.826937987344134,
          4.778988895194547,
          4.761822006715895,
          4.494358154006275,
          4.1655057628387535,
          0.00001,
          0.00001,
          100,
          100,
          0.0014203182283685455,
          0.21762299043647795,
          2.387487240320346,
          23.103265937999666,
          35.41506378950788,
          46.36737219919139,
          0.10941357140882685,
          8.54554852889535,
          13.238970820478432,
          3.790238493806799,
          6.32649258838431,
          2.689657383734262,
          3.8468645892234825,
          1.0249673429758253,
          1.6928908130451343,
          4.54964610334186,
          2.349304723597079,
          2.263028807505673,
          0.15802847095840883,
          49.67297710369454,
          2.392885189681057,
          2.3971929140233685,
          0.000010102747923580625,
          2.4011736446873404,
          2.401485920064475,
          2.404420150812028,
          2.4030607464206555,
          2.404611286102642,
          2.411032059880954,
          2.420573125109403,
          2.405416672974344,
          2.405704980221625,
          2.416221668155881,
          2.401312593035448,
          2.4073220576973715,
          2.4079489143634043,
          2.4139069291412403,
          2.40886331802793,
          2.4086491186892514,
          2.408688650562766,
          2.4103109198169146,
          2.411163177185178,
          2.4119723458832905,
          2.4225503979992933,
          2.4115676110588473,
          2.4166962880237515,
          2.413145868984517,
          2.42127202977644,
          2.413251181162968,
          2.414550682320076,
          2.4165988125920497,
          2.4251291864328746,
          2.4154795382566276,
          2.4501083942440816,
          0.05681958704703118,
          2.4221577122499247,
          2.4081077104618402
         ],
         "xaxis": "x",
         "y": [
          0.9133928571428573,
          0.8911744505494505,
          0.9091346153846155,
          0.892135989010989,
          0.5,
          0.9160027472527472,
          0.8888736263736264,
          0.9017170329670329,
          0.913804945054945,
          0.9160027472527472,
          0.9160027472527472,
          0.9160027472527472,
          0.9160027472527472,
          0.9160027472527472,
          0.884375,
          0.9160027472527472,
          0.9160027472527472,
          0.9160027472527472,
          0.9160027472527472,
          0.9160027472527472,
          0.9160027472527472,
          0.9160027472527472,
          0.9160027472527472,
          0.9160027472527472,
          0.9160027472527472,
          0.9160027472527472,
          0.9160027472527472,
          0.9160027472527472,
          0.9164835164835164,
          0.9155906593406593,
          0.9160370879120879,
          0.9160027472527472,
          0.9160027472527472,
          0.9160027472527472,
          0.9160027472527472,
          0.9164835164835164,
          0.9164835164835164,
          0.9164835164835164,
          0.9164835164835164,
          0.884375,
          0.884375,
          0.9160027472527472,
          0.9160027472527472,
          0.8875,
          0.9120192307692309,
          0.9155906593406593,
          0.9160027472527472,
          0.9160027472527472,
          0.9160027472527472,
          0.9111263736263735,
          0.9164835164835164,
          0.9160027472527472,
          0.9164835164835164,
          0.9160027472527472,
          0.9169642857142858,
          0.9165178571428572,
          0.913804945054945,
          0.9165521978021978,
          0.9164835164835164,
          0.9169642857142858,
          0.9155906593406593,
          0.9115384615384616,
          0.9160027472527472,
          0.9169642857142858,
          0.9169642857142858,
          0.884375,
          0.9169642857142858,
          0.9169642857142858,
          0.9169642857142858,
          0.9169642857142858,
          0.9169642857142858,
          0.9169642857142858,
          0.9169642857142858,
          0.9169642857142858,
          0.9169642857142858,
          0.9169642857142858,
          0.9169642857142858,
          0.9169642857142858,
          0.9169642857142858,
          0.9169642857142858,
          0.9169642857142858,
          0.9169642857142858,
          0.9169642857142858,
          0.9169642857142858,
          0.9169642857142858,
          0.9169642857142858,
          0.9169642857142858,
          0.9169642857142858,
          0.9169642857142858,
          0.9169642857142858,
          0.9169642857142858,
          0.9169642857142858,
          0.9169642857142858,
          0.9169642857142858,
          0.9169642857142858,
          0.9169642857142858,
          0.9169642857142858,
          0.9104739010989011,
          0.9169642857142858,
          0.9169642857142858
         ],
         "yaxis": "y"
        },
        {
         "marker": {
          "color": [
           0,
           1,
           2,
           3,
           4,
           5,
           6,
           7,
           8,
           9,
           10,
           11,
           12,
           13,
           14,
           15,
           16,
           17,
           18,
           19,
           20,
           21,
           22,
           23,
           24,
           25,
           26,
           27,
           28,
           29,
           30,
           31,
           32,
           33,
           34,
           35,
           36,
           37,
           38,
           39,
           40,
           41,
           42,
           43,
           44,
           45,
           46,
           47,
           48,
           49,
           50,
           51,
           52,
           53,
           54,
           55,
           56,
           57,
           58,
           59,
           60,
           61,
           62,
           63,
           64,
           65,
           66,
           67,
           68,
           69,
           70,
           71,
           72,
           73,
           74,
           75,
           76,
           77,
           78,
           79,
           80,
           81,
           82,
           83,
           84,
           85,
           86,
           87,
           88,
           89,
           90,
           91,
           92,
           93,
           94,
           95,
           96,
           97,
           98,
           99
          ],
          "colorbar": {
           "title": {
            "text": "Trial"
           },
           "x": 1,
           "xpad": 40
          },
          "colorscale": [
           [
            0,
            "rgb(247,251,255)"
           ],
           [
            0.125,
            "rgb(222,235,247)"
           ],
           [
            0.25,
            "rgb(198,219,239)"
           ],
           [
            0.375,
            "rgb(158,202,225)"
           ],
           [
            0.5,
            "rgb(107,174,214)"
           ],
           [
            0.625,
            "rgb(66,146,198)"
           ],
           [
            0.75,
            "rgb(33,113,181)"
           ],
           [
            0.875,
            "rgb(8,81,156)"
           ],
           [
            1,
            "rgb(8,48,107)"
           ]
          ],
          "line": {
           "color": "Grey",
           "width": 0.5
          },
          "showscale": false
         },
         "mode": "markers",
         "name": "Feasible Trial",
         "showlegend": false,
         "type": "scatter",
         "x": [
          "l2",
          "l2",
          "l2",
          "l1",
          "l1",
          "l2",
          "l1",
          "l1",
          "l1",
          "l2",
          "l1",
          "l2",
          "l1",
          "l1",
          "l1",
          "l2",
          "l1",
          "l1",
          "l1",
          "l2",
          "l2",
          "l2",
          "l1",
          "l2",
          "l2",
          "l1",
          "l1",
          "l2",
          "l1",
          "l1",
          "l2",
          "l1",
          "l2",
          "l2",
          "l1",
          "l2",
          "l2",
          "l2",
          "l2",
          "l2",
          "l2",
          "l2",
          "l1",
          "l1",
          "l2",
          "l2",
          "l2",
          "l1",
          "l2",
          "l1",
          "l1",
          "l1",
          "l2",
          "l2",
          "l1",
          "l1",
          "l2",
          "l1",
          "l1",
          "l1",
          "l2",
          "l1",
          "l1",
          "l1",
          "l1",
          "l1",
          "l1",
          "l1",
          "l1",
          "l1",
          "l1",
          "l1",
          "l1",
          "l1",
          "l1",
          "l1",
          "l1",
          "l1",
          "l1",
          "l1",
          "l1",
          "l1",
          "l1",
          "l1",
          "l1",
          "l1",
          "l1",
          "l1",
          "l1",
          "l1",
          "l1",
          "l1",
          "l1",
          "l1",
          "l1",
          "l1",
          "l1",
          "l2",
          "l1",
          "l1"
         ],
         "xaxis": "x2",
         "y": [
          0.9133928571428573,
          0.8911744505494505,
          0.9091346153846155,
          0.892135989010989,
          0.5,
          0.9160027472527472,
          0.8888736263736264,
          0.9017170329670329,
          0.913804945054945,
          0.9160027472527472,
          0.9160027472527472,
          0.9160027472527472,
          0.9160027472527472,
          0.9160027472527472,
          0.884375,
          0.9160027472527472,
          0.9160027472527472,
          0.9160027472527472,
          0.9160027472527472,
          0.9160027472527472,
          0.9160027472527472,
          0.9160027472527472,
          0.9160027472527472,
          0.9160027472527472,
          0.9160027472527472,
          0.9160027472527472,
          0.9160027472527472,
          0.9160027472527472,
          0.9164835164835164,
          0.9155906593406593,
          0.9160370879120879,
          0.9160027472527472,
          0.9160027472527472,
          0.9160027472527472,
          0.9160027472527472,
          0.9164835164835164,
          0.9164835164835164,
          0.9164835164835164,
          0.9164835164835164,
          0.884375,
          0.884375,
          0.9160027472527472,
          0.9160027472527472,
          0.8875,
          0.9120192307692309,
          0.9155906593406593,
          0.9160027472527472,
          0.9160027472527472,
          0.9160027472527472,
          0.9111263736263735,
          0.9164835164835164,
          0.9160027472527472,
          0.9164835164835164,
          0.9160027472527472,
          0.9169642857142858,
          0.9165178571428572,
          0.913804945054945,
          0.9165521978021978,
          0.9164835164835164,
          0.9169642857142858,
          0.9155906593406593,
          0.9115384615384616,
          0.9160027472527472,
          0.9169642857142858,
          0.9169642857142858,
          0.884375,
          0.9169642857142858,
          0.9169642857142858,
          0.9169642857142858,
          0.9169642857142858,
          0.9169642857142858,
          0.9169642857142858,
          0.9169642857142858,
          0.9169642857142858,
          0.9169642857142858,
          0.9169642857142858,
          0.9169642857142858,
          0.9169642857142858,
          0.9169642857142858,
          0.9169642857142858,
          0.9169642857142858,
          0.9169642857142858,
          0.9169642857142858,
          0.9169642857142858,
          0.9169642857142858,
          0.9169642857142858,
          0.9169642857142858,
          0.9169642857142858,
          0.9169642857142858,
          0.9169642857142858,
          0.9169642857142858,
          0.9169642857142858,
          0.9169642857142858,
          0.9169642857142858,
          0.9169642857142858,
          0.9169642857142858,
          0.9169642857142858,
          0.9104739010989011,
          0.9169642857142858,
          0.9169642857142858
         ],
         "yaxis": "y2"
        },
        {
         "marker": {
          "color": [
           0,
           1,
           2,
           3,
           4,
           5,
           6,
           7,
           8,
           9,
           10,
           11,
           12,
           13,
           14,
           15,
           16,
           17,
           18,
           19,
           20,
           21,
           22,
           23,
           24,
           25,
           26,
           27,
           28,
           29,
           30,
           31,
           32,
           33,
           34,
           35,
           36,
           37,
           38,
           39,
           40,
           41,
           42,
           43,
           44,
           45,
           46,
           47,
           48,
           49,
           50,
           51,
           52,
           53,
           54,
           55,
           56,
           57,
           58,
           59,
           60,
           61,
           62,
           63,
           64,
           65,
           66,
           67,
           68,
           69,
           70,
           71,
           72,
           73,
           74,
           75,
           76,
           77,
           78,
           79,
           80,
           81,
           82,
           83,
           84,
           85,
           86,
           87,
           88,
           89,
           90,
           91,
           92,
           93,
           94,
           95,
           96,
           97,
           98,
           99
          ],
          "colorbar": {
           "title": {
            "text": "Trial"
           },
           "x": 1,
           "xpad": 40
          },
          "colorscale": [
           [
            0,
            "rgb(247,251,255)"
           ],
           [
            0.125,
            "rgb(222,235,247)"
           ],
           [
            0.25,
            "rgb(198,219,239)"
           ],
           [
            0.375,
            "rgb(158,202,225)"
           ],
           [
            0.5,
            "rgb(107,174,214)"
           ],
           [
            0.625,
            "rgb(66,146,198)"
           ],
           [
            0.75,
            "rgb(33,113,181)"
           ],
           [
            0.875,
            "rgb(8,81,156)"
           ],
           [
            1,
            "rgb(8,48,107)"
           ]
          ],
          "line": {
           "color": "Grey",
           "width": 0.5
          },
          "showscale": false
         },
         "mode": "markers",
         "name": "Feasible Trial",
         "showlegend": false,
         "type": "scatter",
         "x": [
          "saga",
          "lbfgs",
          "saga",
          "lbfgs",
          "liblinear",
          "saga",
          "lbfgs",
          "lbfgs",
          "saga",
          "saga",
          "lbfgs",
          "lbfgs",
          "saga",
          "lbfgs",
          "saga",
          "lbfgs",
          "lbfgs",
          "lbfgs",
          "saga",
          "lbfgs",
          "saga",
          "saga",
          "saga",
          "lbfgs",
          "saga",
          "lbfgs",
          "saga",
          "lbfgs",
          "lbfgs",
          "lbfgs",
          "lbfgs",
          "lbfgs",
          "lbfgs",
          "saga",
          "saga",
          "saga",
          "saga",
          "saga",
          "saga",
          "lbfgs",
          "saga",
          "liblinear",
          "liblinear",
          "saga",
          "lbfgs",
          "saga",
          "liblinear",
          "liblinear",
          "liblinear",
          "saga",
          "liblinear",
          "liblinear",
          "liblinear",
          "liblinear",
          "liblinear",
          "liblinear",
          "liblinear",
          "liblinear",
          "saga",
          "liblinear",
          "liblinear",
          "lbfgs",
          "lbfgs",
          "liblinear",
          "liblinear",
          "lbfgs",
          "liblinear",
          "liblinear",
          "liblinear",
          "liblinear",
          "liblinear",
          "liblinear",
          "liblinear",
          "liblinear",
          "liblinear",
          "liblinear",
          "liblinear",
          "liblinear",
          "liblinear",
          "liblinear",
          "liblinear",
          "liblinear",
          "liblinear",
          "liblinear",
          "liblinear",
          "liblinear",
          "liblinear",
          "liblinear",
          "liblinear",
          "liblinear",
          "liblinear",
          "liblinear",
          "liblinear",
          "liblinear",
          "liblinear",
          "liblinear",
          "liblinear",
          "lbfgs",
          "liblinear",
          "liblinear"
         ],
         "xaxis": "x3",
         "y": [
          0.9133928571428573,
          0.8911744505494505,
          0.9091346153846155,
          0.892135989010989,
          0.5,
          0.9160027472527472,
          0.8888736263736264,
          0.9017170329670329,
          0.913804945054945,
          0.9160027472527472,
          0.9160027472527472,
          0.9160027472527472,
          0.9160027472527472,
          0.9160027472527472,
          0.884375,
          0.9160027472527472,
          0.9160027472527472,
          0.9160027472527472,
          0.9160027472527472,
          0.9160027472527472,
          0.9160027472527472,
          0.9160027472527472,
          0.9160027472527472,
          0.9160027472527472,
          0.9160027472527472,
          0.9160027472527472,
          0.9160027472527472,
          0.9160027472527472,
          0.9164835164835164,
          0.9155906593406593,
          0.9160370879120879,
          0.9160027472527472,
          0.9160027472527472,
          0.9160027472527472,
          0.9160027472527472,
          0.9164835164835164,
          0.9164835164835164,
          0.9164835164835164,
          0.9164835164835164,
          0.884375,
          0.884375,
          0.9160027472527472,
          0.9160027472527472,
          0.8875,
          0.9120192307692309,
          0.9155906593406593,
          0.9160027472527472,
          0.9160027472527472,
          0.9160027472527472,
          0.9111263736263735,
          0.9164835164835164,
          0.9160027472527472,
          0.9164835164835164,
          0.9160027472527472,
          0.9169642857142858,
          0.9165178571428572,
          0.913804945054945,
          0.9165521978021978,
          0.9164835164835164,
          0.9169642857142858,
          0.9155906593406593,
          0.9115384615384616,
          0.9160027472527472,
          0.9169642857142858,
          0.9169642857142858,
          0.884375,
          0.9169642857142858,
          0.9169642857142858,
          0.9169642857142858,
          0.9169642857142858,
          0.9169642857142858,
          0.9169642857142858,
          0.9169642857142858,
          0.9169642857142858,
          0.9169642857142858,
          0.9169642857142858,
          0.9169642857142858,
          0.9169642857142858,
          0.9169642857142858,
          0.9169642857142858,
          0.9169642857142858,
          0.9169642857142858,
          0.9169642857142858,
          0.9169642857142858,
          0.9169642857142858,
          0.9169642857142858,
          0.9169642857142858,
          0.9169642857142858,
          0.9169642857142858,
          0.9169642857142858,
          0.9169642857142858,
          0.9169642857142858,
          0.9169642857142858,
          0.9169642857142858,
          0.9169642857142858,
          0.9169642857142858,
          0.9169642857142858,
          0.9104739010989011,
          0.9169642857142858,
          0.9169642857142858
         ],
         "yaxis": "y3"
        }
       ],
       "layout": {
        "template": {
         "data": {
          "bar": [
           {
            "error_x": {
             "color": "#2a3f5f"
            },
            "error_y": {
             "color": "#2a3f5f"
            },
            "marker": {
             "line": {
              "color": "#E5ECF6",
              "width": 0.5
             },
             "pattern": {
              "fillmode": "overlay",
              "size": 10,
              "solidity": 0.2
             }
            },
            "type": "bar"
           }
          ],
          "barpolar": [
           {
            "marker": {
             "line": {
              "color": "#E5ECF6",
              "width": 0.5
             },
             "pattern": {
              "fillmode": "overlay",
              "size": 10,
              "solidity": 0.2
             }
            },
            "type": "barpolar"
           }
          ],
          "carpet": [
           {
            "aaxis": {
             "endlinecolor": "#2a3f5f",
             "gridcolor": "white",
             "linecolor": "white",
             "minorgridcolor": "white",
             "startlinecolor": "#2a3f5f"
            },
            "baxis": {
             "endlinecolor": "#2a3f5f",
             "gridcolor": "white",
             "linecolor": "white",
             "minorgridcolor": "white",
             "startlinecolor": "#2a3f5f"
            },
            "type": "carpet"
           }
          ],
          "choropleth": [
           {
            "colorbar": {
             "outlinewidth": 0,
             "ticks": ""
            },
            "type": "choropleth"
           }
          ],
          "contour": [
           {
            "colorbar": {
             "outlinewidth": 0,
             "ticks": ""
            },
            "colorscale": [
             [
              0,
              "#0d0887"
             ],
             [
              0.1111111111111111,
              "#46039f"
             ],
             [
              0.2222222222222222,
              "#7201a8"
             ],
             [
              0.3333333333333333,
              "#9c179e"
             ],
             [
              0.4444444444444444,
              "#bd3786"
             ],
             [
              0.5555555555555556,
              "#d8576b"
             ],
             [
              0.6666666666666666,
              "#ed7953"
             ],
             [
              0.7777777777777778,
              "#fb9f3a"
             ],
             [
              0.8888888888888888,
              "#fdca26"
             ],
             [
              1,
              "#f0f921"
             ]
            ],
            "type": "contour"
           }
          ],
          "contourcarpet": [
           {
            "colorbar": {
             "outlinewidth": 0,
             "ticks": ""
            },
            "type": "contourcarpet"
           }
          ],
          "heatmap": [
           {
            "colorbar": {
             "outlinewidth": 0,
             "ticks": ""
            },
            "colorscale": [
             [
              0,
              "#0d0887"
             ],
             [
              0.1111111111111111,
              "#46039f"
             ],
             [
              0.2222222222222222,
              "#7201a8"
             ],
             [
              0.3333333333333333,
              "#9c179e"
             ],
             [
              0.4444444444444444,
              "#bd3786"
             ],
             [
              0.5555555555555556,
              "#d8576b"
             ],
             [
              0.6666666666666666,
              "#ed7953"
             ],
             [
              0.7777777777777778,
              "#fb9f3a"
             ],
             [
              0.8888888888888888,
              "#fdca26"
             ],
             [
              1,
              "#f0f921"
             ]
            ],
            "type": "heatmap"
           }
          ],
          "heatmapgl": [
           {
            "colorbar": {
             "outlinewidth": 0,
             "ticks": ""
            },
            "colorscale": [
             [
              0,
              "#0d0887"
             ],
             [
              0.1111111111111111,
              "#46039f"
             ],
             [
              0.2222222222222222,
              "#7201a8"
             ],
             [
              0.3333333333333333,
              "#9c179e"
             ],
             [
              0.4444444444444444,
              "#bd3786"
             ],
             [
              0.5555555555555556,
              "#d8576b"
             ],
             [
              0.6666666666666666,
              "#ed7953"
             ],
             [
              0.7777777777777778,
              "#fb9f3a"
             ],
             [
              0.8888888888888888,
              "#fdca26"
             ],
             [
              1,
              "#f0f921"
             ]
            ],
            "type": "heatmapgl"
           }
          ],
          "histogram": [
           {
            "marker": {
             "pattern": {
              "fillmode": "overlay",
              "size": 10,
              "solidity": 0.2
             }
            },
            "type": "histogram"
           }
          ],
          "histogram2d": [
           {
            "colorbar": {
             "outlinewidth": 0,
             "ticks": ""
            },
            "colorscale": [
             [
              0,
              "#0d0887"
             ],
             [
              0.1111111111111111,
              "#46039f"
             ],
             [
              0.2222222222222222,
              "#7201a8"
             ],
             [
              0.3333333333333333,
              "#9c179e"
             ],
             [
              0.4444444444444444,
              "#bd3786"
             ],
             [
              0.5555555555555556,
              "#d8576b"
             ],
             [
              0.6666666666666666,
              "#ed7953"
             ],
             [
              0.7777777777777778,
              "#fb9f3a"
             ],
             [
              0.8888888888888888,
              "#fdca26"
             ],
             [
              1,
              "#f0f921"
             ]
            ],
            "type": "histogram2d"
           }
          ],
          "histogram2dcontour": [
           {
            "colorbar": {
             "outlinewidth": 0,
             "ticks": ""
            },
            "colorscale": [
             [
              0,
              "#0d0887"
             ],
             [
              0.1111111111111111,
              "#46039f"
             ],
             [
              0.2222222222222222,
              "#7201a8"
             ],
             [
              0.3333333333333333,
              "#9c179e"
             ],
             [
              0.4444444444444444,
              "#bd3786"
             ],
             [
              0.5555555555555556,
              "#d8576b"
             ],
             [
              0.6666666666666666,
              "#ed7953"
             ],
             [
              0.7777777777777778,
              "#fb9f3a"
             ],
             [
              0.8888888888888888,
              "#fdca26"
             ],
             [
              1,
              "#f0f921"
             ]
            ],
            "type": "histogram2dcontour"
           }
          ],
          "mesh3d": [
           {
            "colorbar": {
             "outlinewidth": 0,
             "ticks": ""
            },
            "type": "mesh3d"
           }
          ],
          "parcoords": [
           {
            "line": {
             "colorbar": {
              "outlinewidth": 0,
              "ticks": ""
             }
            },
            "type": "parcoords"
           }
          ],
          "pie": [
           {
            "automargin": true,
            "type": "pie"
           }
          ],
          "scatter": [
           {
            "fillpattern": {
             "fillmode": "overlay",
             "size": 10,
             "solidity": 0.2
            },
            "type": "scatter"
           }
          ],
          "scatter3d": [
           {
            "line": {
             "colorbar": {
              "outlinewidth": 0,
              "ticks": ""
             }
            },
            "marker": {
             "colorbar": {
              "outlinewidth": 0,
              "ticks": ""
             }
            },
            "type": "scatter3d"
           }
          ],
          "scattercarpet": [
           {
            "marker": {
             "colorbar": {
              "outlinewidth": 0,
              "ticks": ""
             }
            },
            "type": "scattercarpet"
           }
          ],
          "scattergeo": [
           {
            "marker": {
             "colorbar": {
              "outlinewidth": 0,
              "ticks": ""
             }
            },
            "type": "scattergeo"
           }
          ],
          "scattergl": [
           {
            "marker": {
             "colorbar": {
              "outlinewidth": 0,
              "ticks": ""
             }
            },
            "type": "scattergl"
           }
          ],
          "scattermapbox": [
           {
            "marker": {
             "colorbar": {
              "outlinewidth": 0,
              "ticks": ""
             }
            },
            "type": "scattermapbox"
           }
          ],
          "scatterpolar": [
           {
            "marker": {
             "colorbar": {
              "outlinewidth": 0,
              "ticks": ""
             }
            },
            "type": "scatterpolar"
           }
          ],
          "scatterpolargl": [
           {
            "marker": {
             "colorbar": {
              "outlinewidth": 0,
              "ticks": ""
             }
            },
            "type": "scatterpolargl"
           }
          ],
          "scatterternary": [
           {
            "marker": {
             "colorbar": {
              "outlinewidth": 0,
              "ticks": ""
             }
            },
            "type": "scatterternary"
           }
          ],
          "surface": [
           {
            "colorbar": {
             "outlinewidth": 0,
             "ticks": ""
            },
            "colorscale": [
             [
              0,
              "#0d0887"
             ],
             [
              0.1111111111111111,
              "#46039f"
             ],
             [
              0.2222222222222222,
              "#7201a8"
             ],
             [
              0.3333333333333333,
              "#9c179e"
             ],
             [
              0.4444444444444444,
              "#bd3786"
             ],
             [
              0.5555555555555556,
              "#d8576b"
             ],
             [
              0.6666666666666666,
              "#ed7953"
             ],
             [
              0.7777777777777778,
              "#fb9f3a"
             ],
             [
              0.8888888888888888,
              "#fdca26"
             ],
             [
              1,
              "#f0f921"
             ]
            ],
            "type": "surface"
           }
          ],
          "table": [
           {
            "cells": {
             "fill": {
              "color": "#EBF0F8"
             },
             "line": {
              "color": "white"
             }
            },
            "header": {
             "fill": {
              "color": "#C8D4E3"
             },
             "line": {
              "color": "white"
             }
            },
            "type": "table"
           }
          ]
         },
         "layout": {
          "annotationdefaults": {
           "arrowcolor": "#2a3f5f",
           "arrowhead": 0,
           "arrowwidth": 1
          },
          "autotypenumbers": "strict",
          "coloraxis": {
           "colorbar": {
            "outlinewidth": 0,
            "ticks": ""
           }
          },
          "colorscale": {
           "diverging": [
            [
             0,
             "#8e0152"
            ],
            [
             0.1,
             "#c51b7d"
            ],
            [
             0.2,
             "#de77ae"
            ],
            [
             0.3,
             "#f1b6da"
            ],
            [
             0.4,
             "#fde0ef"
            ],
            [
             0.5,
             "#f7f7f7"
            ],
            [
             0.6,
             "#e6f5d0"
            ],
            [
             0.7,
             "#b8e186"
            ],
            [
             0.8,
             "#7fbc41"
            ],
            [
             0.9,
             "#4d9221"
            ],
            [
             1,
             "#276419"
            ]
           ],
           "sequential": [
            [
             0,
             "#0d0887"
            ],
            [
             0.1111111111111111,
             "#46039f"
            ],
            [
             0.2222222222222222,
             "#7201a8"
            ],
            [
             0.3333333333333333,
             "#9c179e"
            ],
            [
             0.4444444444444444,
             "#bd3786"
            ],
            [
             0.5555555555555556,
             "#d8576b"
            ],
            [
             0.6666666666666666,
             "#ed7953"
            ],
            [
             0.7777777777777778,
             "#fb9f3a"
            ],
            [
             0.8888888888888888,
             "#fdca26"
            ],
            [
             1,
             "#f0f921"
            ]
           ],
           "sequentialminus": [
            [
             0,
             "#0d0887"
            ],
            [
             0.1111111111111111,
             "#46039f"
            ],
            [
             0.2222222222222222,
             "#7201a8"
            ],
            [
             0.3333333333333333,
             "#9c179e"
            ],
            [
             0.4444444444444444,
             "#bd3786"
            ],
            [
             0.5555555555555556,
             "#d8576b"
            ],
            [
             0.6666666666666666,
             "#ed7953"
            ],
            [
             0.7777777777777778,
             "#fb9f3a"
            ],
            [
             0.8888888888888888,
             "#fdca26"
            ],
            [
             1,
             "#f0f921"
            ]
           ]
          },
          "colorway": [
           "#636efa",
           "#EF553B",
           "#00cc96",
           "#ab63fa",
           "#FFA15A",
           "#19d3f3",
           "#FF6692",
           "#B6E880",
           "#FF97FF",
           "#FECB52"
          ],
          "font": {
           "color": "#2a3f5f"
          },
          "geo": {
           "bgcolor": "white",
           "lakecolor": "white",
           "landcolor": "#E5ECF6",
           "showlakes": true,
           "showland": true,
           "subunitcolor": "white"
          },
          "hoverlabel": {
           "align": "left"
          },
          "hovermode": "closest",
          "mapbox": {
           "style": "light"
          },
          "paper_bgcolor": "white",
          "plot_bgcolor": "#E5ECF6",
          "polar": {
           "angularaxis": {
            "gridcolor": "white",
            "linecolor": "white",
            "ticks": ""
           },
           "bgcolor": "#E5ECF6",
           "radialaxis": {
            "gridcolor": "white",
            "linecolor": "white",
            "ticks": ""
           }
          },
          "scene": {
           "xaxis": {
            "backgroundcolor": "#E5ECF6",
            "gridcolor": "white",
            "gridwidth": 2,
            "linecolor": "white",
            "showbackground": true,
            "ticks": "",
            "zerolinecolor": "white"
           },
           "yaxis": {
            "backgroundcolor": "#E5ECF6",
            "gridcolor": "white",
            "gridwidth": 2,
            "linecolor": "white",
            "showbackground": true,
            "ticks": "",
            "zerolinecolor": "white"
           },
           "zaxis": {
            "backgroundcolor": "#E5ECF6",
            "gridcolor": "white",
            "gridwidth": 2,
            "linecolor": "white",
            "showbackground": true,
            "ticks": "",
            "zerolinecolor": "white"
           }
          },
          "shapedefaults": {
           "line": {
            "color": "#2a3f5f"
           }
          },
          "ternary": {
           "aaxis": {
            "gridcolor": "white",
            "linecolor": "white",
            "ticks": ""
           },
           "baxis": {
            "gridcolor": "white",
            "linecolor": "white",
            "ticks": ""
           },
           "bgcolor": "#E5ECF6",
           "caxis": {
            "gridcolor": "white",
            "linecolor": "white",
            "ticks": ""
           }
          },
          "title": {
           "x": 0.05
          },
          "xaxis": {
           "automargin": true,
           "gridcolor": "white",
           "linecolor": "white",
           "ticks": "",
           "title": {
            "standoff": 15
           },
           "zerolinecolor": "white",
           "zerolinewidth": 2
          },
          "yaxis": {
           "automargin": true,
           "gridcolor": "white",
           "linecolor": "white",
           "ticks": "",
           "title": {
            "standoff": 15
           },
           "zerolinecolor": "white",
           "zerolinewidth": 2
          }
         }
        },
        "title": {
         "text": "Slice Plot"
        },
        "xaxis": {
         "anchor": "y",
         "domain": [
          0,
          0.2888888888888889
         ],
         "title": {
          "text": "C"
         },
         "type": "log"
        },
        "xaxis2": {
         "anchor": "y2",
         "categoryarray": [
          "l1",
          "l2"
         ],
         "categoryorder": "array",
         "domain": [
          0.35555555555555557,
          0.6444444444444445
         ],
         "title": {
          "text": "penalty"
         },
         "type": "category"
        },
        "xaxis3": {
         "anchor": "y3",
         "categoryarray": [
          "liblinear",
          "lbfgs",
          "saga"
         ],
         "categoryorder": "array",
         "domain": [
          0.7111111111111111,
          1
         ],
         "title": {
          "text": "solver"
         },
         "type": "category"
        },
        "yaxis": {
         "anchor": "x",
         "domain": [
          0,
          1
         ],
         "title": {
          "text": "Objective Value"
         }
        },
        "yaxis2": {
         "anchor": "x2",
         "domain": [
          0,
          1
         ],
         "matches": "y",
         "showticklabels": false
        },
        "yaxis3": {
         "anchor": "x3",
         "domain": [
          0,
          1
         ],
         "matches": "y",
         "showticklabels": false
        }
       }
      }
     },
     "metadata": {},
     "output_type": "display_data"
    }
   ],
   "source": [
    "optuna.visualization.plot_slice(study)"
   ]
  },
  {
   "cell_type": "code",
   "execution_count": 9,
   "metadata": {},
   "outputs": [
    {
     "name": "stdout",
     "output_type": "stream",
     "text": [
      "Accuracy: 0.8414 ± 0.0534\n",
      "AUC-ROC: 0.9170 ± 0.0314\n"
     ]
    }
   ],
   "source": [
    "# Create optimized model\n",
    "best_params = trial.params\n",
    "model = LogisticRegression(random_state=Random_Seed, **best_params)\n",
    "\n",
    "# Define pipeline depending on whether PCA is requested or not\n",
    "if PC_Features:\n",
    "    steps = [\n",
    "        ('preprocessor', preprocessor),\n",
    "        ('pca', PCA(n_components=12)),\n",
    "        ('LR-classifier', model)\n",
    "    ]\n",
    "else:\n",
    "    steps = [\n",
    "        ('preprocessor', preprocessor),\n",
    "        ('LR-classifier', model)\n",
    "    ]\n",
    "    \n",
    "pipeline = Pipeline(steps)\n",
    "\n",
    "# Perform cross-validation\n",
    "cv_results = cross_validate(pipeline, X, y, scoring=['accuracy', 'roc_auc'], cv=K_Folds)\n",
    "\n",
    "# Calculate and display results\n",
    "acc = np.mean(cv_results['test_accuracy'])\n",
    "acc_std = np.std(cv_results['test_accuracy'])\n",
    "roc_auc = np.mean(cv_results['test_roc_auc'])\n",
    "roc_auc_std = np.std(cv_results['test_roc_auc'])\n",
    "\n",
    "print(f\"Accuracy: {acc:.4f} ± {acc_std:.4f}\")\n",
    "print(f\"AUC-ROC: {roc_auc:.4f} ± {roc_auc_std:.4f}\")\n",
    "\n",
    "# Stop emission tracking\n",
    "_ = tracker.stop()"
   ]
  },
  {
   "cell_type": "code",
   "execution_count": 10,
   "metadata": {},
   "outputs": [],
   "source": [
    "# Save evaluation to an external file\n",
    "file = 'scores.csv'\n",
    "\n",
    "results = pd.DataFrame({\n",
    "    'LR-optimization': [acc, acc_std, roc_auc, roc_auc_std]\n",
    "}, index = ['Accuracy', 'Accuracy STD', 'AUC-ROC', 'AUC-ROC STD'])\n",
    "\n",
    "# Check if file exists\n",
    "if os.path.exists(file):\n",
    "    temp = pd.read_csv(file, index_col=0)\n",
    "    results = pd.concat([temp, results], axis=1)\n",
    "\n",
    "# Export\n",
    "results.to_csv(file)"
   ]
  },
  {
   "attachments": {},
   "cell_type": "markdown",
   "metadata": {},
   "source": [
    "<hr>\n",
    "\n",
    "## Decision Tree:"
   ]
  },
  {
   "cell_type": "code",
   "execution_count": 11,
   "metadata": {},
   "outputs": [
    {
     "name": "stderr",
     "output_type": "stream",
     "text": [
      "[codecarbon WARNING @ 11:50:44] No CPU tracking mode found. Falling back on CPU constant mode. \n",
      " Linux OS detected: Please ensure RAPL files exist at \\sys\\class\\powercap\\intel-rapl to measure CPU\n",
      "\n"
     ]
    },
    {
     "name": "stdout",
     "output_type": "stream",
     "text": [
      "Accuracy: 0.7572 ± 0.0554\n",
      "AUC-ROC: 0.7552 ± 0.0592\n"
     ]
    }
   ],
   "source": [
    "# ---------------------------------------------------------------------------- #\n",
    "#                                     MODEL                                    #\n",
    "# ---------------------------------------------------------------------------- #\n",
    "\n",
    "# Initiate CodeCarbon to track emissions\n",
    "tracker = EmissionsTracker('DT model', log_level='warning')\n",
    "tracker.start()\n",
    "\n",
    "# Create model\n",
    "model = tree.DecisionTreeClassifier(random_state=Random_Seed)\n",
    "\n",
    "# Define pipeline depending on whether PCA is requested or not\n",
    "if PC_Features:\n",
    "    steps = [\n",
    "        ('preprocessor', preprocessor),\n",
    "        ('pca', PCA(n_components=12)),\n",
    "        ('DT-classifier', model)\n",
    "    ]\n",
    "else:\n",
    "    steps = [\n",
    "        ('preprocessor', preprocessor),\n",
    "        ('DT-classifier', model)\n",
    "    ]\n",
    "    \n",
    "pipeline = Pipeline(steps)\n",
    "\n",
    "# Perform cross-validation\n",
    "cv_results = cross_validate(pipeline, X, y, scoring=['accuracy', 'roc_auc'], cv=K_Folds)\n",
    "\n",
    "# Calculate and display results\n",
    "acc = np.mean(cv_results['test_accuracy'])\n",
    "acc_std = np.std(cv_results['test_accuracy'])\n",
    "roc_auc = np.mean(cv_results['test_roc_auc'])\n",
    "roc_auc_std = np.std(cv_results['test_roc_auc'])\n",
    "\n",
    "print(f\"Accuracy: {acc:.4f} ± {acc_std:.4f}\")\n",
    "print(f\"AUC-ROC: {roc_auc:.4f} ± {roc_auc_std:.4f}\")\n",
    "\n",
    "# Stop emission tracking\n",
    "_ = tracker.stop()"
   ]
  },
  {
   "cell_type": "code",
   "execution_count": 12,
   "metadata": {},
   "outputs": [],
   "source": [
    "# Save evaluation to an external file\n",
    "file = 'scores.csv'\n",
    "\n",
    "results = pd.DataFrame({\n",
    "    'DT-model': [acc, acc_std, roc_auc, roc_auc_std]\n",
    "}, index = ['Accuracy', 'Accuracy STD', 'AUC-ROC', 'AUC-ROC STD'])\n",
    "\n",
    "# Check if file exists\n",
    "if os.path.exists(file):\n",
    "    temp = pd.read_csv(file, index_col=0)\n",
    "    results = pd.concat([temp, results], axis=1)\n",
    "\n",
    "# Export\n",
    "results.to_csv(file)"
   ]
  },
  {
   "cell_type": "code",
   "execution_count": 13,
   "metadata": {},
   "outputs": [
    {
     "name": "stderr",
     "output_type": "stream",
     "text": [
      "[codecarbon WARNING @ 11:50:50] No CPU tracking mode found. Falling back on CPU constant mode. \n",
      " Linux OS detected: Please ensure RAPL files exist at \\sys\\class\\powercap\\intel-rapl to measure CPU\n",
      "\n",
      "/tmp/ipykernel_8209/2681190905.py:46: ExperimentalWarning:\n",
      "\n",
      "GPSampler is experimental (supported from v3.6.0). The interface can change in the future.\n",
      "\n",
      "[I 2024-10-28 11:50:54,882] A new study created in memory with name: no-name-5eb1c68f-a7fa-4e75-85ce-01cbcbe1ae50\n",
      "[I 2024-10-28 11:50:55,015] Trial 0 finished with value: 0.8184237637362637 and parameters: {'max_depth': 9, 'min_samples_split': 18, 'min_samples_leaf': 7, 'criterion': 'entropy'}. Best is trial 0 with value: 0.8184237637362637.\n",
      "[I 2024-10-28 11:50:55,135] Trial 1 finished with value: 0.8322287087912088 and parameters: {'max_depth': 12, 'min_samples_split': 19, 'min_samples_leaf': 2, 'criterion': 'gini'}. Best is trial 1 with value: 0.8322287087912088.\n",
      "[I 2024-10-28 11:50:55,250] Trial 2 finished with value: 0.8328296703296703 and parameters: {'max_depth': 16, 'min_samples_split': 2, 'min_samples_leaf': 16, 'criterion': 'entropy'}. Best is trial 2 with value: 0.8328296703296703.\n",
      "[I 2024-10-28 11:50:55,365] Trial 3 finished with value: 0.8333104395604396 and parameters: {'max_depth': 13, 'min_samples_split': 5, 'min_samples_leaf': 19, 'criterion': 'gini'}. Best is trial 3 with value: 0.8333104395604396.\n",
      "[I 2024-10-28 11:50:55,480] Trial 4 finished with value: 0.8325721153846153 and parameters: {'max_depth': 14, 'min_samples_split': 7, 'min_samples_leaf': 19, 'criterion': 'gini'}. Best is trial 3 with value: 0.8333104395604396.\n",
      "[I 2024-10-28 11:50:55,599] Trial 5 finished with value: 0.7949004120879122 and parameters: {'max_depth': 6, 'min_samples_split': 5, 'min_samples_leaf': 9, 'criterion': 'entropy'}. Best is trial 3 with value: 0.8333104395604396.\n",
      "[I 2024-10-28 11:50:55,719] Trial 6 finished with value: 0.7950549450549451 and parameters: {'max_depth': 14, 'min_samples_split': 12, 'min_samples_leaf': 7, 'criterion': 'entropy'}. Best is trial 3 with value: 0.8333104395604396.\n",
      "[I 2024-10-28 11:50:55,832] Trial 7 finished with value: 0.8374313186813186 and parameters: {'max_depth': 4, 'min_samples_split': 17, 'min_samples_leaf': 17, 'criterion': 'gini'}. Best is trial 7 with value: 0.8374313186813186.\n",
      "[I 2024-10-28 11:50:55,948] Trial 8 finished with value: 0.8012706043956044 and parameters: {'max_depth': 32, 'min_samples_split': 7, 'min_samples_leaf': 12, 'criterion': 'entropy'}. Best is trial 7 with value: 0.8374313186813186.\n",
      "[I 2024-10-28 11:50:56,066] Trial 9 finished with value: 0.8375515109890109 and parameters: {'max_depth': 16, 'min_samples_split': 5, 'min_samples_leaf': 4, 'criterion': 'gini'}. Best is trial 9 with value: 0.8375515109890109.\n",
      "[I 2024-10-28 11:50:56,400] Trial 10 finished with value: 0.7235576923076923 and parameters: {'max_depth': 1, 'min_samples_split': 2, 'min_samples_leaf': 20, 'criterion': 'entropy'}. Best is trial 9 with value: 0.8375515109890109.\n",
      "[I 2024-10-28 11:50:56,778] Trial 11 finished with value: 0.8268372252747254 and parameters: {'max_depth': 10, 'min_samples_split': 13, 'min_samples_leaf': 11, 'criterion': 'gini'}. Best is trial 9 with value: 0.8375515109890109.\n",
      "[I 2024-10-28 11:50:57,106] Trial 12 finished with value: 0.8284340659340659 and parameters: {'max_depth': 21, 'min_samples_split': 2, 'min_samples_leaf': 20, 'criterion': 'entropy'}. Best is trial 9 with value: 0.8375515109890109.\n",
      "[I 2024-10-28 11:50:57,455] Trial 13 finished with value: 0.8355940934065934 and parameters: {'max_depth': 25, 'min_samples_split': 14, 'min_samples_leaf': 1, 'criterion': 'gini'}. Best is trial 9 with value: 0.8375515109890109.\n",
      "[I 2024-10-28 11:50:57,811] Trial 14 finished with value: 0.8176854395604396 and parameters: {'max_depth': 26, 'min_samples_split': 2, 'min_samples_leaf': 11, 'criterion': 'gini'}. Best is trial 9 with value: 0.8375515109890109.\n",
      "[I 2024-10-28 11:50:58,097] Trial 15 finished with value: 0.749896978021978 and parameters: {'max_depth': 1, 'min_samples_split': 2, 'min_samples_leaf': 1, 'criterion': 'gini'}. Best is trial 9 with value: 0.8375515109890109.\n",
      "[I 2024-10-28 11:50:58,440] Trial 16 finished with value: 0.8365556318681318 and parameters: {'max_depth': 18, 'min_samples_split': 20, 'min_samples_leaf': 3, 'criterion': 'gini'}. Best is trial 9 with value: 0.8375515109890109.\n",
      "[I 2024-10-28 11:50:58,759] Trial 17 finished with value: 0.8412946428571427 and parameters: {'max_depth': 8, 'min_samples_split': 20, 'min_samples_leaf': 20, 'criterion': 'gini'}. Best is trial 17 with value: 0.8412946428571427.\n",
      "[I 2024-10-28 11:50:59,076] Trial 18 finished with value: 0.7638392857142857 and parameters: {'max_depth': 21, 'min_samples_split': 2, 'min_samples_leaf': 1, 'criterion': 'gini'}. Best is trial 17 with value: 0.8412946428571427.\n",
      "[I 2024-10-28 11:50:59,459] Trial 19 finished with value: 0.806713598901099 and parameters: {'max_depth': 16, 'min_samples_split': 6, 'min_samples_leaf': 10, 'criterion': 'gini'}. Best is trial 17 with value: 0.8412946428571427.\n",
      "[I 2024-10-28 11:50:59,857] Trial 20 finished with value: 0.8422046703296703 and parameters: {'max_depth': 19, 'min_samples_split': 11, 'min_samples_leaf': 5, 'criterion': 'gini'}. Best is trial 20 with value: 0.8422046703296703.\n",
      "[I 2024-10-28 11:51:00,219] Trial 21 finished with value: 0.8277300824175825 and parameters: {'max_depth': 32, 'min_samples_split': 2, 'min_samples_leaf': 18, 'criterion': 'entropy'}. Best is trial 20 with value: 0.8422046703296703.\n",
      "[I 2024-10-28 11:51:00,584] Trial 22 finished with value: 0.8153674450549451 and parameters: {'max_depth': 18, 'min_samples_split': 20, 'min_samples_leaf': 16, 'criterion': 'gini'}. Best is trial 20 with value: 0.8422046703296703.\n",
      "[I 2024-10-28 11:51:00,908] Trial 23 finished with value: 0.837963598901099 and parameters: {'max_depth': 32, 'min_samples_split': 20, 'min_samples_leaf': 1, 'criterion': 'gini'}. Best is trial 20 with value: 0.8422046703296703.\n",
      "[I 2024-10-28 11:51:01,223] Trial 24 finished with value: 0.749896978021978 and parameters: {'max_depth': 1, 'min_samples_split': 20, 'min_samples_leaf': 8, 'criterion': 'gini'}. Best is trial 20 with value: 0.8422046703296703.\n",
      "[I 2024-10-28 11:51:01,561] Trial 25 finished with value: 0.821875 and parameters: {'max_depth': 5, 'min_samples_split': 7, 'min_samples_leaf': 15, 'criterion': 'gini'}. Best is trial 20 with value: 0.8422046703296703.\n",
      "[I 2024-10-28 11:51:01,868] Trial 26 finished with value: 0.8508585164835164 and parameters: {'max_depth': 15, 'min_samples_split': 12, 'min_samples_leaf': 4, 'criterion': 'gini'}. Best is trial 26 with value: 0.8508585164835164.\n",
      "[I 2024-10-28 11:51:02,275] Trial 27 finished with value: 0.8486950549450549 and parameters: {'max_depth': 27, 'min_samples_split': 20, 'min_samples_leaf': 5, 'criterion': 'gini'}. Best is trial 26 with value: 0.8508585164835164.\n",
      "[I 2024-10-28 11:51:02,613] Trial 28 finished with value: 0.8396978021978022 and parameters: {'max_depth': 32, 'min_samples_split': 2, 'min_samples_leaf': 20, 'criterion': 'gini'}. Best is trial 26 with value: 0.8508585164835164.\n",
      "[I 2024-10-28 11:51:02,988] Trial 29 finished with value: 0.8457589285714284 and parameters: {'max_depth': 32, 'min_samples_split': 20, 'min_samples_leaf': 20, 'criterion': 'gini'}. Best is trial 26 with value: 0.8508585164835164.\n",
      "[I 2024-10-28 11:51:03,344] Trial 30 finished with value: 0.8193853021978021 and parameters: {'max_depth': 32, 'min_samples_split': 20, 'min_samples_leaf': 13, 'criterion': 'gini'}. Best is trial 26 with value: 0.8508585164835164.\n",
      "[I 2024-10-28 11:51:03,688] Trial 31 finished with value: 0.8419642857142857 and parameters: {'max_depth': 27, 'min_samples_split': 12, 'min_samples_leaf': 20, 'criterion': 'gini'}. Best is trial 26 with value: 0.8508585164835164.\n",
      "[I 2024-10-28 11:51:04,114] Trial 32 finished with value: 0.8337912087912089 and parameters: {'max_depth': 26, 'min_samples_split': 20, 'min_samples_leaf': 2, 'criterion': 'gini'}. Best is trial 26 with value: 0.8508585164835164.\n",
      "[I 2024-10-28 11:51:04,485] Trial 33 finished with value: 0.8429086538461539 and parameters: {'max_depth': 32, 'min_samples_split': 14, 'min_samples_leaf': 5, 'criterion': 'gini'}. Best is trial 26 with value: 0.8508585164835164.\n",
      "[I 2024-10-28 11:51:04,879] Trial 34 finished with value: 0.8325206043956044 and parameters: {'max_depth': 32, 'min_samples_split': 20, 'min_samples_leaf': 20, 'criterion': 'entropy'}. Best is trial 26 with value: 0.8508585164835164.\n",
      "[I 2024-10-28 11:51:05,228] Trial 35 finished with value: 0.8241929945054945 and parameters: {'max_depth': 20, 'min_samples_split': 20, 'min_samples_leaf': 20, 'criterion': 'entropy'}. Best is trial 26 with value: 0.8508585164835164.\n",
      "[I 2024-10-28 11:51:05,619] Trial 36 finished with value: 0.8363495879120879 and parameters: {'max_depth': 32, 'min_samples_split': 12, 'min_samples_leaf': 20, 'criterion': 'gini'}. Best is trial 26 with value: 0.8508585164835164.\n",
      "[I 2024-10-28 11:51:05,970] Trial 37 finished with value: 0.841981456043956 and parameters: {'max_depth': 24, 'min_samples_split': 2, 'min_samples_leaf': 20, 'criterion': 'gini'}. Best is trial 26 with value: 0.8508585164835164.\n",
      "[I 2024-10-28 11:51:06,361] Trial 38 finished with value: 0.828743131868132 and parameters: {'max_depth': 32, 'min_samples_split': 20, 'min_samples_leaf': 1, 'criterion': 'entropy'}. Best is trial 26 with value: 0.8508585164835164.\n",
      "[I 2024-10-28 11:51:06,762] Trial 39 finished with value: 0.8257211538461539 and parameters: {'max_depth': 27, 'min_samples_split': 15, 'min_samples_leaf': 6, 'criterion': 'gini'}. Best is trial 26 with value: 0.8508585164835164.\n",
      "[I 2024-10-28 11:51:07,146] Trial 40 finished with value: 0.7235576923076923 and parameters: {'max_depth': 1, 'min_samples_split': 20, 'min_samples_leaf': 14, 'criterion': 'entropy'}. Best is trial 26 with value: 0.8508585164835164.\n",
      "[I 2024-10-28 11:51:07,481] Trial 41 finished with value: 0.7235576923076923 and parameters: {'max_depth': 1, 'min_samples_split': 20, 'min_samples_leaf': 3, 'criterion': 'entropy'}. Best is trial 26 with value: 0.8508585164835164.\n",
      "[I 2024-10-28 11:51:07,876] Trial 42 finished with value: 0.8534512362637363 and parameters: {'max_depth': 24, 'min_samples_split': 14, 'min_samples_leaf': 4, 'criterion': 'gini'}. Best is trial 42 with value: 0.8534512362637363.\n",
      "[I 2024-10-28 11:51:08,218] Trial 43 finished with value: 0.8253090659340658 and parameters: {'max_depth': 32, 'min_samples_split': 5, 'min_samples_leaf': 20, 'criterion': 'entropy'}. Best is trial 42 with value: 0.8534512362637363.\n",
      "[I 2024-10-28 11:51:08,559] Trial 44 finished with value: 0.8194539835164834 and parameters: {'max_depth': 32, 'min_samples_split': 2, 'min_samples_leaf': 16, 'criterion': 'gini'}. Best is trial 42 with value: 0.8534512362637363.\n",
      "[I 2024-10-28 11:51:08,869] Trial 45 finished with value: 0.7327609890109891 and parameters: {'max_depth': 32, 'min_samples_split': 2, 'min_samples_leaf': 1, 'criterion': 'entropy'}. Best is trial 42 with value: 0.8534512362637363.\n",
      "[I 2024-10-28 11:51:09,317] Trial 46 finished with value: 0.8228537087912088 and parameters: {'max_depth': 32, 'min_samples_split': 20, 'min_samples_leaf': 7, 'criterion': 'entropy'}. Best is trial 42 with value: 0.8534512362637363.\n",
      "[I 2024-10-28 11:51:09,640] Trial 47 finished with value: 0.749896978021978 and parameters: {'max_depth': 1, 'min_samples_split': 20, 'min_samples_leaf': 14, 'criterion': 'gini'}. Best is trial 42 with value: 0.8534512362637363.\n",
      "[I 2024-10-28 11:51:10,041] Trial 48 finished with value: 0.8365899725274725 and parameters: {'max_depth': 19, 'min_samples_split': 20, 'min_samples_leaf': 19, 'criterion': 'gini'}. Best is trial 42 with value: 0.8534512362637363.\n",
      "[I 2024-10-28 11:51:10,445] Trial 49 finished with value: 0.8300480769230768 and parameters: {'max_depth': 13, 'min_samples_split': 2, 'min_samples_leaf': 17, 'criterion': 'gini'}. Best is trial 42 with value: 0.8534512362637363.\n",
      "[I 2024-10-28 11:51:10,809] Trial 50 finished with value: 0.8193853021978021 and parameters: {'max_depth': 14, 'min_samples_split': 2, 'min_samples_leaf': 13, 'criterion': 'gini'}. Best is trial 42 with value: 0.8534512362637363.\n",
      "[I 2024-10-28 11:51:11,303] Trial 51 finished with value: 0.8370707417582418 and parameters: {'max_depth': 19, 'min_samples_split': 13, 'min_samples_leaf': 3, 'criterion': 'gini'}. Best is trial 42 with value: 0.8534512362637363.\n",
      "[I 2024-10-28 11:51:11,743] Trial 52 finished with value: 0.8215831043956043 and parameters: {'max_depth': 23, 'min_samples_split': 19, 'min_samples_leaf': 9, 'criterion': 'gini'}. Best is trial 42 with value: 0.8534512362637363.\n",
      "[I 2024-10-28 11:51:12,097] Trial 53 finished with value: 0.8225789835164834 and parameters: {'max_depth': 8, 'min_samples_split': 15, 'min_samples_leaf': 17, 'criterion': 'gini'}. Best is trial 42 with value: 0.8534512362637363.\n",
      "[I 2024-10-28 11:51:12,455] Trial 54 finished with value: 0.8440934065934066 and parameters: {'max_depth': 23, 'min_samples_split': 10, 'min_samples_leaf': 20, 'criterion': 'gini'}. Best is trial 42 with value: 0.8534512362637363.\n",
      "[I 2024-10-28 11:51:12,795] Trial 55 finished with value: 0.8414835164835166 and parameters: {'max_depth': 26, 'min_samples_split': 20, 'min_samples_leaf': 20, 'criterion': 'gini'}. Best is trial 42 with value: 0.8534512362637363.\n",
      "[I 2024-10-28 11:51:13,144] Trial 56 finished with value: 0.8093921703296705 and parameters: {'max_depth': 12, 'min_samples_split': 10, 'min_samples_leaf': 1, 'criterion': 'gini'}. Best is trial 42 with value: 0.8534512362637363.\n",
      "[I 2024-10-28 11:51:13,499] Trial 57 finished with value: 0.8435267857142857 and parameters: {'max_depth': 32, 'min_samples_split': 20, 'min_samples_leaf': 4, 'criterion': 'gini'}. Best is trial 42 with value: 0.8534512362637363.\n",
      "[I 2024-10-28 11:51:13,812] Trial 58 finished with value: 0.8371737637362637 and parameters: {'max_depth': 14, 'min_samples_split': 18, 'min_samples_leaf': 6, 'criterion': 'gini'}. Best is trial 42 with value: 0.8534512362637363.\n",
      "[I 2024-10-28 11:51:14,230] Trial 59 finished with value: 0.8401098901098901 and parameters: {'max_depth': 13, 'min_samples_split': 20, 'min_samples_leaf': 20, 'criterion': 'gini'}. Best is trial 42 with value: 0.8534512362637363.\n",
      "[I 2024-10-28 11:51:14,572] Trial 60 finished with value: 0.8223557692307691 and parameters: {'max_depth': 22, 'min_samples_split': 2, 'min_samples_leaf': 17, 'criterion': 'gini'}. Best is trial 42 with value: 0.8534512362637363.\n",
      "[I 2024-10-28 11:51:14,952] Trial 61 finished with value: 0.8400240384615385 and parameters: {'max_depth': 13, 'min_samples_split': 12, 'min_samples_leaf': 5, 'criterion': 'gini'}. Best is trial 42 with value: 0.8534512362637363.\n",
      "[I 2024-10-28 11:51:15,361] Trial 62 finished with value: 0.8450377747252749 and parameters: {'max_depth': 22, 'min_samples_split': 20, 'min_samples_leaf': 4, 'criterion': 'gini'}. Best is trial 42 with value: 0.8534512362637363.\n",
      "[I 2024-10-28 11:51:15,676] Trial 63 finished with value: 0.8401957417582417 and parameters: {'max_depth': 7, 'min_samples_split': 14, 'min_samples_leaf': 20, 'criterion': 'gini'}. Best is trial 42 with value: 0.8534512362637363.\n",
      "[I 2024-10-28 11:51:16,053] Trial 64 finished with value: 0.8375 and parameters: {'max_depth': 32, 'min_samples_split': 20, 'min_samples_leaf': 6, 'criterion': 'gini'}. Best is trial 42 with value: 0.8534512362637363.\n",
      "[I 2024-10-28 11:51:16,405] Trial 65 finished with value: 0.8232142857142858 and parameters: {'max_depth': 21, 'min_samples_split': 20, 'min_samples_leaf': 1, 'criterion': 'entropy'}. Best is trial 42 with value: 0.8534512362637363.\n",
      "[I 2024-10-28 11:51:16,731] Trial 66 finished with value: 0.8392513736263737 and parameters: {'max_depth': 17, 'min_samples_split': 14, 'min_samples_leaf': 20, 'criterion': 'gini'}. Best is trial 42 with value: 0.8534512362637363.\n",
      "[I 2024-10-28 11:51:17,109] Trial 67 finished with value: 0.8090487637362636 and parameters: {'max_depth': 2, 'min_samples_split': 20, 'min_samples_leaf': 20, 'criterion': 'gini'}. Best is trial 42 with value: 0.8534512362637363.\n",
      "[I 2024-10-28 11:51:17,547] Trial 68 finished with value: 0.8412603021978022 and parameters: {'max_depth': 29, 'min_samples_split': 20, 'min_samples_leaf': 20, 'criterion': 'gini'}. Best is trial 42 with value: 0.8534512362637363.\n",
      "[I 2024-10-28 11:51:17,881] Trial 69 finished with value: 0.8421875 and parameters: {'max_depth': 18, 'min_samples_split': 2, 'min_samples_leaf': 20, 'criterion': 'gini'}. Best is trial 42 with value: 0.8534512362637363.\n",
      "[I 2024-10-28 11:51:18,242] Trial 70 finished with value: 0.8400755494505494 and parameters: {'max_depth': 32, 'min_samples_split': 20, 'min_samples_leaf': 20, 'criterion': 'gini'}. Best is trial 42 with value: 0.8534512362637363.\n",
      "[I 2024-10-28 11:51:18,587] Trial 71 finished with value: 0.8413118131868131 and parameters: {'max_depth': 22, 'min_samples_split': 20, 'min_samples_leaf': 20, 'criterion': 'gini'}. Best is trial 42 with value: 0.8534512362637363.\n",
      "[I 2024-10-28 11:51:18,932] Trial 72 finished with value: 0.8527644230769231 and parameters: {'max_depth': 21, 'min_samples_split': 17, 'min_samples_leaf': 4, 'criterion': 'gini'}. Best is trial 42 with value: 0.8534512362637363.\n",
      "[I 2024-10-28 11:51:19,287] Trial 73 finished with value: 0.847287087912088 and parameters: {'max_depth': 18, 'min_samples_split': 16, 'min_samples_leaf': 5, 'criterion': 'gini'}. Best is trial 42 with value: 0.8534512362637363.\n",
      "[I 2024-10-28 11:51:19,688] Trial 74 finished with value: 0.8527815934065934 and parameters: {'max_depth': 22, 'min_samples_split': 17, 'min_samples_leaf': 4, 'criterion': 'gini'}. Best is trial 42 with value: 0.8534512362637363.\n",
      "[I 2024-10-28 11:51:20,104] Trial 75 finished with value: 0.855460164835165 and parameters: {'max_depth': 23, 'min_samples_split': 17, 'min_samples_leaf': 4, 'criterion': 'gini'}. Best is trial 75 with value: 0.855460164835165.\n",
      "[I 2024-10-28 11:51:20,490] Trial 76 finished with value: 0.8267342032967033 and parameters: {'max_depth': 10, 'min_samples_split': 2, 'min_samples_leaf': 7, 'criterion': 'gini'}. Best is trial 75 with value: 0.855460164835165.\n",
      "[I 2024-10-28 11:51:20,891] Trial 77 finished with value: 0.7985061813186812 and parameters: {'max_depth': 24, 'min_samples_split': 20, 'min_samples_leaf': 5, 'criterion': 'entropy'}. Best is trial 75 with value: 0.855460164835165.\n",
      "[I 2024-10-28 11:51:21,283] Trial 78 finished with value: 0.8282108516483516 and parameters: {'max_depth': 12, 'min_samples_split': 20, 'min_samples_leaf': 20, 'criterion': 'entropy'}. Best is trial 75 with value: 0.855460164835165.\n",
      "[I 2024-10-28 11:51:21,678] Trial 79 finished with value: 0.8293269230769231 and parameters: {'max_depth': 14, 'min_samples_split': 2, 'min_samples_leaf': 20, 'criterion': 'entropy'}. Best is trial 75 with value: 0.855460164835165.\n",
      "[I 2024-10-28 11:51:22,058] Trial 80 finished with value: 0.837603021978022 and parameters: {'max_depth': 21, 'min_samples_split': 20, 'min_samples_leaf': 1, 'criterion': 'gini'}. Best is trial 75 with value: 0.855460164835165.\n",
      "[I 2024-10-28 11:51:22,449] Trial 81 finished with value: 0.8390281593406593 and parameters: {'max_depth': 28, 'min_samples_split': 2, 'min_samples_leaf': 20, 'criterion': 'gini'}. Best is trial 75 with value: 0.855460164835165.\n",
      "[I 2024-10-28 11:51:22,814] Trial 82 finished with value: 0.8572973901098901 and parameters: {'max_depth': 23, 'min_samples_split': 16, 'min_samples_leaf': 4, 'criterion': 'gini'}. Best is trial 82 with value: 0.8572973901098901.\n",
      "[I 2024-10-28 11:51:23,205] Trial 83 finished with value: 0.8408482142857142 and parameters: {'max_depth': 9, 'min_samples_split': 2, 'min_samples_leaf': 20, 'criterion': 'gini'}. Best is trial 82 with value: 0.8572973901098901.\n",
      "[I 2024-10-28 11:51:23,542] Trial 84 finished with value: 0.8303571428571429 and parameters: {'max_depth': 13, 'min_samples_split': 20, 'min_samples_leaf': 1, 'criterion': 'entropy'}. Best is trial 82 with value: 0.8572973901098901.\n",
      "[I 2024-10-28 11:51:23,876] Trial 85 finished with value: 0.8364354395604396 and parameters: {'max_depth': 28, 'min_samples_split': 20, 'min_samples_leaf': 16, 'criterion': 'entropy'}. Best is trial 82 with value: 0.8572973901098901.\n",
      "[I 2024-10-28 11:51:24,210] Trial 86 finished with value: 0.8238667582417583 and parameters: {'max_depth': 32, 'min_samples_split': 20, 'min_samples_leaf': 15, 'criterion': 'entropy'}. Best is trial 82 with value: 0.8572973901098901.\n",
      "[I 2024-10-28 11:51:24,607] Trial 87 finished with value: 0.8311813186813186 and parameters: {'max_depth': 27, 'min_samples_split': 20, 'min_samples_leaf': 20, 'criterion': 'entropy'}. Best is trial 82 with value: 0.8572973901098901.\n",
      "[I 2024-10-28 11:51:25,016] Trial 88 finished with value: 0.8243646978021978 and parameters: {'max_depth': 27, 'min_samples_split': 20, 'min_samples_leaf': 17, 'criterion': 'gini'}. Best is trial 82 with value: 0.8572973901098901.\n",
      "[I 2024-10-28 11:51:25,411] Trial 89 finished with value: 0.8323660714285713 and parameters: {'max_depth': 14, 'min_samples_split': 20, 'min_samples_leaf': 15, 'criterion': 'entropy'}. Best is trial 82 with value: 0.8572973901098901.\n",
      "[I 2024-10-28 11:51:25,784] Trial 90 finished with value: 0.8280734890109889 and parameters: {'max_depth': 21, 'min_samples_split': 20, 'min_samples_leaf': 15, 'criterion': 'entropy'}. Best is trial 82 with value: 0.8572973901098901.\n",
      "[I 2024-10-28 11:51:26,126] Trial 91 finished with value: 0.8314903846153845 and parameters: {'max_depth': 25, 'min_samples_split': 2, 'min_samples_leaf': 16, 'criterion': 'entropy'}. Best is trial 82 with value: 0.8572973901098901.\n",
      "[I 2024-10-28 11:51:26,507] Trial 92 finished with value: 0.8175652472527473 and parameters: {'max_depth': 32, 'min_samples_split': 2, 'min_samples_leaf': 8, 'criterion': 'gini'}. Best is trial 82 with value: 0.8572973901098901.\n",
      "[I 2024-10-28 11:51:26,873] Trial 93 finished with value: 0.8452438186813188 and parameters: {'max_depth': 23, 'min_samples_split': 20, 'min_samples_leaf': 4, 'criterion': 'gini'}. Best is trial 82 with value: 0.8572973901098901.\n",
      "[I 2024-10-28 11:51:27,210] Trial 94 finished with value: 0.8435782967032968 and parameters: {'max_depth': 4, 'min_samples_split': 2, 'min_samples_leaf': 20, 'criterion': 'gini'}. Best is trial 82 with value: 0.8572973901098901.\n",
      "[I 2024-10-28 11:51:27,550] Trial 95 finished with value: 0.8277300824175825 and parameters: {'max_depth': 16, 'min_samples_split': 11, 'min_samples_leaf': 18, 'criterion': 'entropy'}. Best is trial 82 with value: 0.8572973901098901.\n",
      "[I 2024-10-28 11:51:27,923] Trial 96 finished with value: 0.749896978021978 and parameters: {'max_depth': 1, 'min_samples_split': 2, 'min_samples_leaf': 20, 'criterion': 'gini'}. Best is trial 82 with value: 0.8572973901098901.\n",
      "[I 2024-10-28 11:51:28,341] Trial 97 finished with value: 0.8400755494505494 and parameters: {'max_depth': 6, 'min_samples_split': 2, 'min_samples_leaf': 20, 'criterion': 'gini'}. Best is trial 82 with value: 0.8572973901098901.\n",
      "[I 2024-10-28 11:51:28,705] Trial 98 finished with value: 0.8392513736263737 and parameters: {'max_depth': 5, 'min_samples_split': 20, 'min_samples_leaf': 20, 'criterion': 'gini'}. Best is trial 82 with value: 0.8572973901098901.\n",
      "[I 2024-10-28 11:51:29,122] Trial 99 finished with value: 0.8291723901098902 and parameters: {'max_depth': 27, 'min_samples_split': 2, 'min_samples_leaf': 20, 'criterion': 'entropy'}. Best is trial 82 with value: 0.8572973901098901.\n"
     ]
    }
   ],
   "source": [
    "# ---------------------------------------------------------------------------- #\n",
    "#                                 OPTIMIZATION                                 #\n",
    "# ---------------------------------------------------------------------------- #\n",
    "\n",
    "# Initiate CodeCarbon to track emissions\n",
    "tracker = EmissionsTracker('DT optimization', log_level='warning')\n",
    "tracker.start()\n",
    "\n",
    "# Objective function\n",
    "def objective(trial):\n",
    "    # Define parameters\n",
    "    max_depth = int(trial.suggest_int('max_depth', 1, 32))  # Faixa para max_depth\n",
    "    min_samples_split = trial.suggest_int('min_samples_split', 2, 20)  # Faixa para min_samples_split\n",
    "    min_samples_leaf = trial.suggest_int('min_samples_leaf', 1, 20)  # Faixa para min_samples_leaf\n",
    "    criterion = trial.suggest_categorical('criterion', ['gini', 'entropy'])  # Critério de divisão\n",
    "\n",
    "    # Create model\n",
    "    temp_model = tree.DecisionTreeClassifier(\n",
    "        max_depth=max_depth,\n",
    "        min_samples_split=min_samples_split,\n",
    "        min_samples_leaf=min_samples_leaf,\n",
    "        criterion=criterion\n",
    "    )\n",
    "    \n",
    "    # Define pipeline depending on whether PCA is requested or not\n",
    "    if PC_Features:\n",
    "        steps = [\n",
    "            ('preprocessor', preprocessor),\n",
    "            ('pca', PCA(n_components=12)),\n",
    "            ('DT-classifier', temp_model)\n",
    "        ]\n",
    "    else:\n",
    "        steps = [\n",
    "            ('preprocessor', preprocessor),\n",
    "            ('DT-classifier', temp_model)\n",
    "        ]\n",
    "        \n",
    "    pipeline = Pipeline(steps)\n",
    "    \n",
    "    # Perform cross-validation\n",
    "    roc_auc = cross_val_score(pipeline, X, y, scoring='roc_auc', cv=K_Folds).mean()\n",
    "    \n",
    "    return roc_auc\n",
    "    \n",
    "# Optimizing with Optuna\n",
    "study = optuna.create_study(direction='maximize', sampler=GPSampler())\n",
    "study.optimize(objective, n_trials=100)"
   ]
  },
  {
   "cell_type": "code",
   "execution_count": 14,
   "metadata": {},
   "outputs": [
    {
     "name": "stdout",
     "output_type": "stream",
     "text": [
      "AUC-ROC: 0.8572973901098901\n",
      "Best hyperparameters: {'max_depth': 23, 'min_samples_split': 16, 'min_samples_leaf': 4, 'criterion': 'gini'}\n"
     ]
    }
   ],
   "source": [
    "# Show best model\n",
    "trial = study.best_trial\n",
    "print('AUC-ROC: {}'.format(trial.value))\n",
    "print(\"Best hyperparameters: {}\".format(trial.params))"
   ]
  },
  {
   "cell_type": "code",
   "execution_count": 15,
   "metadata": {},
   "outputs": [
    {
     "data": {
      "application/vnd.plotly.v1+json": {
       "config": {
        "plotlyServerURL": "https://plot.ly"
       },
       "data": [
        {
         "mode": "markers",
         "name": "Objective Value",
         "type": "scatter",
         "x": [
          0,
          1,
          2,
          3,
          4,
          5,
          6,
          7,
          8,
          9,
          10,
          11,
          12,
          13,
          14,
          15,
          16,
          17,
          18,
          19,
          20,
          21,
          22,
          23,
          24,
          25,
          26,
          27,
          28,
          29,
          30,
          31,
          32,
          33,
          34,
          35,
          36,
          37,
          38,
          39,
          40,
          41,
          42,
          43,
          44,
          45,
          46,
          47,
          48,
          49,
          50,
          51,
          52,
          53,
          54,
          55,
          56,
          57,
          58,
          59,
          60,
          61,
          62,
          63,
          64,
          65,
          66,
          67,
          68,
          69,
          70,
          71,
          72,
          73,
          74,
          75,
          76,
          77,
          78,
          79,
          80,
          81,
          82,
          83,
          84,
          85,
          86,
          87,
          88,
          89,
          90,
          91,
          92,
          93,
          94,
          95,
          96,
          97,
          98,
          99
         ],
         "y": [
          0.8184237637362637,
          0.8322287087912088,
          0.8328296703296703,
          0.8333104395604396,
          0.8325721153846153,
          0.7949004120879122,
          0.7950549450549451,
          0.8374313186813186,
          0.8012706043956044,
          0.8375515109890109,
          0.7235576923076923,
          0.8268372252747254,
          0.8284340659340659,
          0.8355940934065934,
          0.8176854395604396,
          0.749896978021978,
          0.8365556318681318,
          0.8412946428571427,
          0.7638392857142857,
          0.806713598901099,
          0.8422046703296703,
          0.8277300824175825,
          0.8153674450549451,
          0.837963598901099,
          0.749896978021978,
          0.821875,
          0.8508585164835164,
          0.8486950549450549,
          0.8396978021978022,
          0.8457589285714284,
          0.8193853021978021,
          0.8419642857142857,
          0.8337912087912089,
          0.8429086538461539,
          0.8325206043956044,
          0.8241929945054945,
          0.8363495879120879,
          0.841981456043956,
          0.828743131868132,
          0.8257211538461539,
          0.7235576923076923,
          0.7235576923076923,
          0.8534512362637363,
          0.8253090659340658,
          0.8194539835164834,
          0.7327609890109891,
          0.8228537087912088,
          0.749896978021978,
          0.8365899725274725,
          0.8300480769230768,
          0.8193853021978021,
          0.8370707417582418,
          0.8215831043956043,
          0.8225789835164834,
          0.8440934065934066,
          0.8414835164835166,
          0.8093921703296705,
          0.8435267857142857,
          0.8371737637362637,
          0.8401098901098901,
          0.8223557692307691,
          0.8400240384615385,
          0.8450377747252749,
          0.8401957417582417,
          0.8375,
          0.8232142857142858,
          0.8392513736263737,
          0.8090487637362636,
          0.8412603021978022,
          0.8421875,
          0.8400755494505494,
          0.8413118131868131,
          0.8527644230769231,
          0.847287087912088,
          0.8527815934065934,
          0.855460164835165,
          0.8267342032967033,
          0.7985061813186812,
          0.8282108516483516,
          0.8293269230769231,
          0.837603021978022,
          0.8390281593406593,
          0.8572973901098901,
          0.8408482142857142,
          0.8303571428571429,
          0.8364354395604396,
          0.8238667582417583,
          0.8311813186813186,
          0.8243646978021978,
          0.8323660714285713,
          0.8280734890109889,
          0.8314903846153845,
          0.8175652472527473,
          0.8452438186813188,
          0.8435782967032968,
          0.8277300824175825,
          0.749896978021978,
          0.8400755494505494,
          0.8392513736263737,
          0.8291723901098902
         ]
        },
        {
         "mode": "lines",
         "name": "Best Value",
         "type": "scatter",
         "x": [
          0,
          1,
          2,
          3,
          4,
          5,
          6,
          7,
          8,
          9,
          10,
          11,
          12,
          13,
          14,
          15,
          16,
          17,
          18,
          19,
          20,
          21,
          22,
          23,
          24,
          25,
          26,
          27,
          28,
          29,
          30,
          31,
          32,
          33,
          34,
          35,
          36,
          37,
          38,
          39,
          40,
          41,
          42,
          43,
          44,
          45,
          46,
          47,
          48,
          49,
          50,
          51,
          52,
          53,
          54,
          55,
          56,
          57,
          58,
          59,
          60,
          61,
          62,
          63,
          64,
          65,
          66,
          67,
          68,
          69,
          70,
          71,
          72,
          73,
          74,
          75,
          76,
          77,
          78,
          79,
          80,
          81,
          82,
          83,
          84,
          85,
          86,
          87,
          88,
          89,
          90,
          91,
          92,
          93,
          94,
          95,
          96,
          97,
          98,
          99
         ],
         "y": [
          0.8184237637362637,
          0.8322287087912088,
          0.8328296703296703,
          0.8333104395604396,
          0.8333104395604396,
          0.8333104395604396,
          0.8333104395604396,
          0.8374313186813186,
          0.8374313186813186,
          0.8375515109890109,
          0.8375515109890109,
          0.8375515109890109,
          0.8375515109890109,
          0.8375515109890109,
          0.8375515109890109,
          0.8375515109890109,
          0.8375515109890109,
          0.8412946428571427,
          0.8412946428571427,
          0.8412946428571427,
          0.8422046703296703,
          0.8422046703296703,
          0.8422046703296703,
          0.8422046703296703,
          0.8422046703296703,
          0.8422046703296703,
          0.8508585164835164,
          0.8508585164835164,
          0.8508585164835164,
          0.8508585164835164,
          0.8508585164835164,
          0.8508585164835164,
          0.8508585164835164,
          0.8508585164835164,
          0.8508585164835164,
          0.8508585164835164,
          0.8508585164835164,
          0.8508585164835164,
          0.8508585164835164,
          0.8508585164835164,
          0.8508585164835164,
          0.8508585164835164,
          0.8534512362637363,
          0.8534512362637363,
          0.8534512362637363,
          0.8534512362637363,
          0.8534512362637363,
          0.8534512362637363,
          0.8534512362637363,
          0.8534512362637363,
          0.8534512362637363,
          0.8534512362637363,
          0.8534512362637363,
          0.8534512362637363,
          0.8534512362637363,
          0.8534512362637363,
          0.8534512362637363,
          0.8534512362637363,
          0.8534512362637363,
          0.8534512362637363,
          0.8534512362637363,
          0.8534512362637363,
          0.8534512362637363,
          0.8534512362637363,
          0.8534512362637363,
          0.8534512362637363,
          0.8534512362637363,
          0.8534512362637363,
          0.8534512362637363,
          0.8534512362637363,
          0.8534512362637363,
          0.8534512362637363,
          0.8534512362637363,
          0.8534512362637363,
          0.8534512362637363,
          0.855460164835165,
          0.855460164835165,
          0.855460164835165,
          0.855460164835165,
          0.855460164835165,
          0.855460164835165,
          0.855460164835165,
          0.8572973901098901,
          0.8572973901098901,
          0.8572973901098901,
          0.8572973901098901,
          0.8572973901098901,
          0.8572973901098901,
          0.8572973901098901,
          0.8572973901098901,
          0.8572973901098901,
          0.8572973901098901,
          0.8572973901098901,
          0.8572973901098901,
          0.8572973901098901,
          0.8572973901098901,
          0.8572973901098901,
          0.8572973901098901,
          0.8572973901098901,
          0.8572973901098901
         ]
        },
        {
         "marker": {
          "color": "#cccccc"
         },
         "mode": "markers",
         "name": "Infeasible Trial",
         "showlegend": false,
         "type": "scatter",
         "x": [],
         "y": []
        }
       ],
       "layout": {
        "template": {
         "data": {
          "bar": [
           {
            "error_x": {
             "color": "#2a3f5f"
            },
            "error_y": {
             "color": "#2a3f5f"
            },
            "marker": {
             "line": {
              "color": "#E5ECF6",
              "width": 0.5
             },
             "pattern": {
              "fillmode": "overlay",
              "size": 10,
              "solidity": 0.2
             }
            },
            "type": "bar"
           }
          ],
          "barpolar": [
           {
            "marker": {
             "line": {
              "color": "#E5ECF6",
              "width": 0.5
             },
             "pattern": {
              "fillmode": "overlay",
              "size": 10,
              "solidity": 0.2
             }
            },
            "type": "barpolar"
           }
          ],
          "carpet": [
           {
            "aaxis": {
             "endlinecolor": "#2a3f5f",
             "gridcolor": "white",
             "linecolor": "white",
             "minorgridcolor": "white",
             "startlinecolor": "#2a3f5f"
            },
            "baxis": {
             "endlinecolor": "#2a3f5f",
             "gridcolor": "white",
             "linecolor": "white",
             "minorgridcolor": "white",
             "startlinecolor": "#2a3f5f"
            },
            "type": "carpet"
           }
          ],
          "choropleth": [
           {
            "colorbar": {
             "outlinewidth": 0,
             "ticks": ""
            },
            "type": "choropleth"
           }
          ],
          "contour": [
           {
            "colorbar": {
             "outlinewidth": 0,
             "ticks": ""
            },
            "colorscale": [
             [
              0,
              "#0d0887"
             ],
             [
              0.1111111111111111,
              "#46039f"
             ],
             [
              0.2222222222222222,
              "#7201a8"
             ],
             [
              0.3333333333333333,
              "#9c179e"
             ],
             [
              0.4444444444444444,
              "#bd3786"
             ],
             [
              0.5555555555555556,
              "#d8576b"
             ],
             [
              0.6666666666666666,
              "#ed7953"
             ],
             [
              0.7777777777777778,
              "#fb9f3a"
             ],
             [
              0.8888888888888888,
              "#fdca26"
             ],
             [
              1,
              "#f0f921"
             ]
            ],
            "type": "contour"
           }
          ],
          "contourcarpet": [
           {
            "colorbar": {
             "outlinewidth": 0,
             "ticks": ""
            },
            "type": "contourcarpet"
           }
          ],
          "heatmap": [
           {
            "colorbar": {
             "outlinewidth": 0,
             "ticks": ""
            },
            "colorscale": [
             [
              0,
              "#0d0887"
             ],
             [
              0.1111111111111111,
              "#46039f"
             ],
             [
              0.2222222222222222,
              "#7201a8"
             ],
             [
              0.3333333333333333,
              "#9c179e"
             ],
             [
              0.4444444444444444,
              "#bd3786"
             ],
             [
              0.5555555555555556,
              "#d8576b"
             ],
             [
              0.6666666666666666,
              "#ed7953"
             ],
             [
              0.7777777777777778,
              "#fb9f3a"
             ],
             [
              0.8888888888888888,
              "#fdca26"
             ],
             [
              1,
              "#f0f921"
             ]
            ],
            "type": "heatmap"
           }
          ],
          "heatmapgl": [
           {
            "colorbar": {
             "outlinewidth": 0,
             "ticks": ""
            },
            "colorscale": [
             [
              0,
              "#0d0887"
             ],
             [
              0.1111111111111111,
              "#46039f"
             ],
             [
              0.2222222222222222,
              "#7201a8"
             ],
             [
              0.3333333333333333,
              "#9c179e"
             ],
             [
              0.4444444444444444,
              "#bd3786"
             ],
             [
              0.5555555555555556,
              "#d8576b"
             ],
             [
              0.6666666666666666,
              "#ed7953"
             ],
             [
              0.7777777777777778,
              "#fb9f3a"
             ],
             [
              0.8888888888888888,
              "#fdca26"
             ],
             [
              1,
              "#f0f921"
             ]
            ],
            "type": "heatmapgl"
           }
          ],
          "histogram": [
           {
            "marker": {
             "pattern": {
              "fillmode": "overlay",
              "size": 10,
              "solidity": 0.2
             }
            },
            "type": "histogram"
           }
          ],
          "histogram2d": [
           {
            "colorbar": {
             "outlinewidth": 0,
             "ticks": ""
            },
            "colorscale": [
             [
              0,
              "#0d0887"
             ],
             [
              0.1111111111111111,
              "#46039f"
             ],
             [
              0.2222222222222222,
              "#7201a8"
             ],
             [
              0.3333333333333333,
              "#9c179e"
             ],
             [
              0.4444444444444444,
              "#bd3786"
             ],
             [
              0.5555555555555556,
              "#d8576b"
             ],
             [
              0.6666666666666666,
              "#ed7953"
             ],
             [
              0.7777777777777778,
              "#fb9f3a"
             ],
             [
              0.8888888888888888,
              "#fdca26"
             ],
             [
              1,
              "#f0f921"
             ]
            ],
            "type": "histogram2d"
           }
          ],
          "histogram2dcontour": [
           {
            "colorbar": {
             "outlinewidth": 0,
             "ticks": ""
            },
            "colorscale": [
             [
              0,
              "#0d0887"
             ],
             [
              0.1111111111111111,
              "#46039f"
             ],
             [
              0.2222222222222222,
              "#7201a8"
             ],
             [
              0.3333333333333333,
              "#9c179e"
             ],
             [
              0.4444444444444444,
              "#bd3786"
             ],
             [
              0.5555555555555556,
              "#d8576b"
             ],
             [
              0.6666666666666666,
              "#ed7953"
             ],
             [
              0.7777777777777778,
              "#fb9f3a"
             ],
             [
              0.8888888888888888,
              "#fdca26"
             ],
             [
              1,
              "#f0f921"
             ]
            ],
            "type": "histogram2dcontour"
           }
          ],
          "mesh3d": [
           {
            "colorbar": {
             "outlinewidth": 0,
             "ticks": ""
            },
            "type": "mesh3d"
           }
          ],
          "parcoords": [
           {
            "line": {
             "colorbar": {
              "outlinewidth": 0,
              "ticks": ""
             }
            },
            "type": "parcoords"
           }
          ],
          "pie": [
           {
            "automargin": true,
            "type": "pie"
           }
          ],
          "scatter": [
           {
            "fillpattern": {
             "fillmode": "overlay",
             "size": 10,
             "solidity": 0.2
            },
            "type": "scatter"
           }
          ],
          "scatter3d": [
           {
            "line": {
             "colorbar": {
              "outlinewidth": 0,
              "ticks": ""
             }
            },
            "marker": {
             "colorbar": {
              "outlinewidth": 0,
              "ticks": ""
             }
            },
            "type": "scatter3d"
           }
          ],
          "scattercarpet": [
           {
            "marker": {
             "colorbar": {
              "outlinewidth": 0,
              "ticks": ""
             }
            },
            "type": "scattercarpet"
           }
          ],
          "scattergeo": [
           {
            "marker": {
             "colorbar": {
              "outlinewidth": 0,
              "ticks": ""
             }
            },
            "type": "scattergeo"
           }
          ],
          "scattergl": [
           {
            "marker": {
             "colorbar": {
              "outlinewidth": 0,
              "ticks": ""
             }
            },
            "type": "scattergl"
           }
          ],
          "scattermapbox": [
           {
            "marker": {
             "colorbar": {
              "outlinewidth": 0,
              "ticks": ""
             }
            },
            "type": "scattermapbox"
           }
          ],
          "scatterpolar": [
           {
            "marker": {
             "colorbar": {
              "outlinewidth": 0,
              "ticks": ""
             }
            },
            "type": "scatterpolar"
           }
          ],
          "scatterpolargl": [
           {
            "marker": {
             "colorbar": {
              "outlinewidth": 0,
              "ticks": ""
             }
            },
            "type": "scatterpolargl"
           }
          ],
          "scatterternary": [
           {
            "marker": {
             "colorbar": {
              "outlinewidth": 0,
              "ticks": ""
             }
            },
            "type": "scatterternary"
           }
          ],
          "surface": [
           {
            "colorbar": {
             "outlinewidth": 0,
             "ticks": ""
            },
            "colorscale": [
             [
              0,
              "#0d0887"
             ],
             [
              0.1111111111111111,
              "#46039f"
             ],
             [
              0.2222222222222222,
              "#7201a8"
             ],
             [
              0.3333333333333333,
              "#9c179e"
             ],
             [
              0.4444444444444444,
              "#bd3786"
             ],
             [
              0.5555555555555556,
              "#d8576b"
             ],
             [
              0.6666666666666666,
              "#ed7953"
             ],
             [
              0.7777777777777778,
              "#fb9f3a"
             ],
             [
              0.8888888888888888,
              "#fdca26"
             ],
             [
              1,
              "#f0f921"
             ]
            ],
            "type": "surface"
           }
          ],
          "table": [
           {
            "cells": {
             "fill": {
              "color": "#EBF0F8"
             },
             "line": {
              "color": "white"
             }
            },
            "header": {
             "fill": {
              "color": "#C8D4E3"
             },
             "line": {
              "color": "white"
             }
            },
            "type": "table"
           }
          ]
         },
         "layout": {
          "annotationdefaults": {
           "arrowcolor": "#2a3f5f",
           "arrowhead": 0,
           "arrowwidth": 1
          },
          "autotypenumbers": "strict",
          "coloraxis": {
           "colorbar": {
            "outlinewidth": 0,
            "ticks": ""
           }
          },
          "colorscale": {
           "diverging": [
            [
             0,
             "#8e0152"
            ],
            [
             0.1,
             "#c51b7d"
            ],
            [
             0.2,
             "#de77ae"
            ],
            [
             0.3,
             "#f1b6da"
            ],
            [
             0.4,
             "#fde0ef"
            ],
            [
             0.5,
             "#f7f7f7"
            ],
            [
             0.6,
             "#e6f5d0"
            ],
            [
             0.7,
             "#b8e186"
            ],
            [
             0.8,
             "#7fbc41"
            ],
            [
             0.9,
             "#4d9221"
            ],
            [
             1,
             "#276419"
            ]
           ],
           "sequential": [
            [
             0,
             "#0d0887"
            ],
            [
             0.1111111111111111,
             "#46039f"
            ],
            [
             0.2222222222222222,
             "#7201a8"
            ],
            [
             0.3333333333333333,
             "#9c179e"
            ],
            [
             0.4444444444444444,
             "#bd3786"
            ],
            [
             0.5555555555555556,
             "#d8576b"
            ],
            [
             0.6666666666666666,
             "#ed7953"
            ],
            [
             0.7777777777777778,
             "#fb9f3a"
            ],
            [
             0.8888888888888888,
             "#fdca26"
            ],
            [
             1,
             "#f0f921"
            ]
           ],
           "sequentialminus": [
            [
             0,
             "#0d0887"
            ],
            [
             0.1111111111111111,
             "#46039f"
            ],
            [
             0.2222222222222222,
             "#7201a8"
            ],
            [
             0.3333333333333333,
             "#9c179e"
            ],
            [
             0.4444444444444444,
             "#bd3786"
            ],
            [
             0.5555555555555556,
             "#d8576b"
            ],
            [
             0.6666666666666666,
             "#ed7953"
            ],
            [
             0.7777777777777778,
             "#fb9f3a"
            ],
            [
             0.8888888888888888,
             "#fdca26"
            ],
            [
             1,
             "#f0f921"
            ]
           ]
          },
          "colorway": [
           "#636efa",
           "#EF553B",
           "#00cc96",
           "#ab63fa",
           "#FFA15A",
           "#19d3f3",
           "#FF6692",
           "#B6E880",
           "#FF97FF",
           "#FECB52"
          ],
          "font": {
           "color": "#2a3f5f"
          },
          "geo": {
           "bgcolor": "white",
           "lakecolor": "white",
           "landcolor": "#E5ECF6",
           "showlakes": true,
           "showland": true,
           "subunitcolor": "white"
          },
          "hoverlabel": {
           "align": "left"
          },
          "hovermode": "closest",
          "mapbox": {
           "style": "light"
          },
          "paper_bgcolor": "white",
          "plot_bgcolor": "#E5ECF6",
          "polar": {
           "angularaxis": {
            "gridcolor": "white",
            "linecolor": "white",
            "ticks": ""
           },
           "bgcolor": "#E5ECF6",
           "radialaxis": {
            "gridcolor": "white",
            "linecolor": "white",
            "ticks": ""
           }
          },
          "scene": {
           "xaxis": {
            "backgroundcolor": "#E5ECF6",
            "gridcolor": "white",
            "gridwidth": 2,
            "linecolor": "white",
            "showbackground": true,
            "ticks": "",
            "zerolinecolor": "white"
           },
           "yaxis": {
            "backgroundcolor": "#E5ECF6",
            "gridcolor": "white",
            "gridwidth": 2,
            "linecolor": "white",
            "showbackground": true,
            "ticks": "",
            "zerolinecolor": "white"
           },
           "zaxis": {
            "backgroundcolor": "#E5ECF6",
            "gridcolor": "white",
            "gridwidth": 2,
            "linecolor": "white",
            "showbackground": true,
            "ticks": "",
            "zerolinecolor": "white"
           }
          },
          "shapedefaults": {
           "line": {
            "color": "#2a3f5f"
           }
          },
          "ternary": {
           "aaxis": {
            "gridcolor": "white",
            "linecolor": "white",
            "ticks": ""
           },
           "baxis": {
            "gridcolor": "white",
            "linecolor": "white",
            "ticks": ""
           },
           "bgcolor": "#E5ECF6",
           "caxis": {
            "gridcolor": "white",
            "linecolor": "white",
            "ticks": ""
           }
          },
          "title": {
           "x": 0.05
          },
          "xaxis": {
           "automargin": true,
           "gridcolor": "white",
           "linecolor": "white",
           "ticks": "",
           "title": {
            "standoff": 15
           },
           "zerolinecolor": "white",
           "zerolinewidth": 2
          },
          "yaxis": {
           "automargin": true,
           "gridcolor": "white",
           "linecolor": "white",
           "ticks": "",
           "title": {
            "standoff": 15
           },
           "zerolinecolor": "white",
           "zerolinewidth": 2
          }
         }
        },
        "title": {
         "text": "Optimization History Plot"
        },
        "xaxis": {
         "title": {
          "text": "Trial"
         }
        },
        "yaxis": {
         "title": {
          "text": "Objective Value"
         }
        }
       }
      }
     },
     "metadata": {},
     "output_type": "display_data"
    }
   ],
   "source": [
    "# Visualizing optimization\n",
    "optuna.visualization.plot_optimization_history(study)"
   ]
  },
  {
   "cell_type": "code",
   "execution_count": 16,
   "metadata": {},
   "outputs": [
    {
     "data": {
      "application/vnd.plotly.v1+json": {
       "config": {
        "plotlyServerURL": "https://plot.ly"
       },
       "data": [
        {
         "marker": {
          "color": [
           0,
           1,
           2,
           3,
           4,
           5,
           6,
           7,
           8,
           9,
           10,
           11,
           12,
           13,
           14,
           15,
           16,
           17,
           18,
           19,
           20,
           21,
           22,
           23,
           24,
           25,
           26,
           27,
           28,
           29,
           30,
           31,
           32,
           33,
           34,
           35,
           36,
           37,
           38,
           39,
           40,
           41,
           42,
           43,
           44,
           45,
           46,
           47,
           48,
           49,
           50,
           51,
           52,
           53,
           54,
           55,
           56,
           57,
           58,
           59,
           60,
           61,
           62,
           63,
           64,
           65,
           66,
           67,
           68,
           69,
           70,
           71,
           72,
           73,
           74,
           75,
           76,
           77,
           78,
           79,
           80,
           81,
           82,
           83,
           84,
           85,
           86,
           87,
           88,
           89,
           90,
           91,
           92,
           93,
           94,
           95,
           96,
           97,
           98,
           99
          ],
          "colorbar": {
           "title": {
            "text": "Trial"
           },
           "x": 1,
           "xpad": 40
          },
          "colorscale": [
           [
            0,
            "rgb(247,251,255)"
           ],
           [
            0.125,
            "rgb(222,235,247)"
           ],
           [
            0.25,
            "rgb(198,219,239)"
           ],
           [
            0.375,
            "rgb(158,202,225)"
           ],
           [
            0.5,
            "rgb(107,174,214)"
           ],
           [
            0.625,
            "rgb(66,146,198)"
           ],
           [
            0.75,
            "rgb(33,113,181)"
           ],
           [
            0.875,
            "rgb(8,81,156)"
           ],
           [
            1,
            "rgb(8,48,107)"
           ]
          ],
          "line": {
           "color": "Grey",
           "width": 0.5
          },
          "showscale": true
         },
         "mode": "markers",
         "name": "Feasible Trial",
         "showlegend": false,
         "type": "scatter",
         "x": [
          "entropy",
          "gini",
          "entropy",
          "gini",
          "gini",
          "entropy",
          "entropy",
          "gini",
          "entropy",
          "gini",
          "entropy",
          "gini",
          "entropy",
          "gini",
          "gini",
          "gini",
          "gini",
          "gini",
          "gini",
          "gini",
          "gini",
          "entropy",
          "gini",
          "gini",
          "gini",
          "gini",
          "gini",
          "gini",
          "gini",
          "gini",
          "gini",
          "gini",
          "gini",
          "gini",
          "entropy",
          "entropy",
          "gini",
          "gini",
          "entropy",
          "gini",
          "entropy",
          "entropy",
          "gini",
          "entropy",
          "gini",
          "entropy",
          "entropy",
          "gini",
          "gini",
          "gini",
          "gini",
          "gini",
          "gini",
          "gini",
          "gini",
          "gini",
          "gini",
          "gini",
          "gini",
          "gini",
          "gini",
          "gini",
          "gini",
          "gini",
          "gini",
          "entropy",
          "gini",
          "gini",
          "gini",
          "gini",
          "gini",
          "gini",
          "gini",
          "gini",
          "gini",
          "gini",
          "gini",
          "entropy",
          "entropy",
          "entropy",
          "gini",
          "gini",
          "gini",
          "gini",
          "entropy",
          "entropy",
          "entropy",
          "entropy",
          "gini",
          "entropy",
          "entropy",
          "entropy",
          "gini",
          "gini",
          "gini",
          "entropy",
          "gini",
          "gini",
          "gini",
          "entropy"
         ],
         "xaxis": "x",
         "y": [
          0.8184237637362637,
          0.8322287087912088,
          0.8328296703296703,
          0.8333104395604396,
          0.8325721153846153,
          0.7949004120879122,
          0.7950549450549451,
          0.8374313186813186,
          0.8012706043956044,
          0.8375515109890109,
          0.7235576923076923,
          0.8268372252747254,
          0.8284340659340659,
          0.8355940934065934,
          0.8176854395604396,
          0.749896978021978,
          0.8365556318681318,
          0.8412946428571427,
          0.7638392857142857,
          0.806713598901099,
          0.8422046703296703,
          0.8277300824175825,
          0.8153674450549451,
          0.837963598901099,
          0.749896978021978,
          0.821875,
          0.8508585164835164,
          0.8486950549450549,
          0.8396978021978022,
          0.8457589285714284,
          0.8193853021978021,
          0.8419642857142857,
          0.8337912087912089,
          0.8429086538461539,
          0.8325206043956044,
          0.8241929945054945,
          0.8363495879120879,
          0.841981456043956,
          0.828743131868132,
          0.8257211538461539,
          0.7235576923076923,
          0.7235576923076923,
          0.8534512362637363,
          0.8253090659340658,
          0.8194539835164834,
          0.7327609890109891,
          0.8228537087912088,
          0.749896978021978,
          0.8365899725274725,
          0.8300480769230768,
          0.8193853021978021,
          0.8370707417582418,
          0.8215831043956043,
          0.8225789835164834,
          0.8440934065934066,
          0.8414835164835166,
          0.8093921703296705,
          0.8435267857142857,
          0.8371737637362637,
          0.8401098901098901,
          0.8223557692307691,
          0.8400240384615385,
          0.8450377747252749,
          0.8401957417582417,
          0.8375,
          0.8232142857142858,
          0.8392513736263737,
          0.8090487637362636,
          0.8412603021978022,
          0.8421875,
          0.8400755494505494,
          0.8413118131868131,
          0.8527644230769231,
          0.847287087912088,
          0.8527815934065934,
          0.855460164835165,
          0.8267342032967033,
          0.7985061813186812,
          0.8282108516483516,
          0.8293269230769231,
          0.837603021978022,
          0.8390281593406593,
          0.8572973901098901,
          0.8408482142857142,
          0.8303571428571429,
          0.8364354395604396,
          0.8238667582417583,
          0.8311813186813186,
          0.8243646978021978,
          0.8323660714285713,
          0.8280734890109889,
          0.8314903846153845,
          0.8175652472527473,
          0.8452438186813188,
          0.8435782967032968,
          0.8277300824175825,
          0.749896978021978,
          0.8400755494505494,
          0.8392513736263737,
          0.8291723901098902
         ],
         "yaxis": "y"
        },
        {
         "marker": {
          "color": [
           0,
           1,
           2,
           3,
           4,
           5,
           6,
           7,
           8,
           9,
           10,
           11,
           12,
           13,
           14,
           15,
           16,
           17,
           18,
           19,
           20,
           21,
           22,
           23,
           24,
           25,
           26,
           27,
           28,
           29,
           30,
           31,
           32,
           33,
           34,
           35,
           36,
           37,
           38,
           39,
           40,
           41,
           42,
           43,
           44,
           45,
           46,
           47,
           48,
           49,
           50,
           51,
           52,
           53,
           54,
           55,
           56,
           57,
           58,
           59,
           60,
           61,
           62,
           63,
           64,
           65,
           66,
           67,
           68,
           69,
           70,
           71,
           72,
           73,
           74,
           75,
           76,
           77,
           78,
           79,
           80,
           81,
           82,
           83,
           84,
           85,
           86,
           87,
           88,
           89,
           90,
           91,
           92,
           93,
           94,
           95,
           96,
           97,
           98,
           99
          ],
          "colorbar": {
           "title": {
            "text": "Trial"
           },
           "x": 1,
           "xpad": 40
          },
          "colorscale": [
           [
            0,
            "rgb(247,251,255)"
           ],
           [
            0.125,
            "rgb(222,235,247)"
           ],
           [
            0.25,
            "rgb(198,219,239)"
           ],
           [
            0.375,
            "rgb(158,202,225)"
           ],
           [
            0.5,
            "rgb(107,174,214)"
           ],
           [
            0.625,
            "rgb(66,146,198)"
           ],
           [
            0.75,
            "rgb(33,113,181)"
           ],
           [
            0.875,
            "rgb(8,81,156)"
           ],
           [
            1,
            "rgb(8,48,107)"
           ]
          ],
          "line": {
           "color": "Grey",
           "width": 0.5
          },
          "showscale": false
         },
         "mode": "markers",
         "name": "Feasible Trial",
         "showlegend": false,
         "type": "scatter",
         "x": [
          9,
          12,
          16,
          13,
          14,
          6,
          14,
          4,
          32,
          16,
          1,
          10,
          21,
          25,
          26,
          1,
          18,
          8,
          21,
          16,
          19,
          32,
          18,
          32,
          1,
          5,
          15,
          27,
          32,
          32,
          32,
          27,
          26,
          32,
          32,
          20,
          32,
          24,
          32,
          27,
          1,
          1,
          24,
          32,
          32,
          32,
          32,
          1,
          19,
          13,
          14,
          19,
          23,
          8,
          23,
          26,
          12,
          32,
          14,
          13,
          22,
          13,
          22,
          7,
          32,
          21,
          17,
          2,
          29,
          18,
          32,
          22,
          21,
          18,
          22,
          23,
          10,
          24,
          12,
          14,
          21,
          28,
          23,
          9,
          13,
          28,
          32,
          27,
          27,
          14,
          21,
          25,
          32,
          23,
          4,
          16,
          1,
          6,
          5,
          27
         ],
         "xaxis": "x2",
         "y": [
          0.8184237637362637,
          0.8322287087912088,
          0.8328296703296703,
          0.8333104395604396,
          0.8325721153846153,
          0.7949004120879122,
          0.7950549450549451,
          0.8374313186813186,
          0.8012706043956044,
          0.8375515109890109,
          0.7235576923076923,
          0.8268372252747254,
          0.8284340659340659,
          0.8355940934065934,
          0.8176854395604396,
          0.749896978021978,
          0.8365556318681318,
          0.8412946428571427,
          0.7638392857142857,
          0.806713598901099,
          0.8422046703296703,
          0.8277300824175825,
          0.8153674450549451,
          0.837963598901099,
          0.749896978021978,
          0.821875,
          0.8508585164835164,
          0.8486950549450549,
          0.8396978021978022,
          0.8457589285714284,
          0.8193853021978021,
          0.8419642857142857,
          0.8337912087912089,
          0.8429086538461539,
          0.8325206043956044,
          0.8241929945054945,
          0.8363495879120879,
          0.841981456043956,
          0.828743131868132,
          0.8257211538461539,
          0.7235576923076923,
          0.7235576923076923,
          0.8534512362637363,
          0.8253090659340658,
          0.8194539835164834,
          0.7327609890109891,
          0.8228537087912088,
          0.749896978021978,
          0.8365899725274725,
          0.8300480769230768,
          0.8193853021978021,
          0.8370707417582418,
          0.8215831043956043,
          0.8225789835164834,
          0.8440934065934066,
          0.8414835164835166,
          0.8093921703296705,
          0.8435267857142857,
          0.8371737637362637,
          0.8401098901098901,
          0.8223557692307691,
          0.8400240384615385,
          0.8450377747252749,
          0.8401957417582417,
          0.8375,
          0.8232142857142858,
          0.8392513736263737,
          0.8090487637362636,
          0.8412603021978022,
          0.8421875,
          0.8400755494505494,
          0.8413118131868131,
          0.8527644230769231,
          0.847287087912088,
          0.8527815934065934,
          0.855460164835165,
          0.8267342032967033,
          0.7985061813186812,
          0.8282108516483516,
          0.8293269230769231,
          0.837603021978022,
          0.8390281593406593,
          0.8572973901098901,
          0.8408482142857142,
          0.8303571428571429,
          0.8364354395604396,
          0.8238667582417583,
          0.8311813186813186,
          0.8243646978021978,
          0.8323660714285713,
          0.8280734890109889,
          0.8314903846153845,
          0.8175652472527473,
          0.8452438186813188,
          0.8435782967032968,
          0.8277300824175825,
          0.749896978021978,
          0.8400755494505494,
          0.8392513736263737,
          0.8291723901098902
         ],
         "yaxis": "y2"
        },
        {
         "marker": {
          "color": [
           0,
           1,
           2,
           3,
           4,
           5,
           6,
           7,
           8,
           9,
           10,
           11,
           12,
           13,
           14,
           15,
           16,
           17,
           18,
           19,
           20,
           21,
           22,
           23,
           24,
           25,
           26,
           27,
           28,
           29,
           30,
           31,
           32,
           33,
           34,
           35,
           36,
           37,
           38,
           39,
           40,
           41,
           42,
           43,
           44,
           45,
           46,
           47,
           48,
           49,
           50,
           51,
           52,
           53,
           54,
           55,
           56,
           57,
           58,
           59,
           60,
           61,
           62,
           63,
           64,
           65,
           66,
           67,
           68,
           69,
           70,
           71,
           72,
           73,
           74,
           75,
           76,
           77,
           78,
           79,
           80,
           81,
           82,
           83,
           84,
           85,
           86,
           87,
           88,
           89,
           90,
           91,
           92,
           93,
           94,
           95,
           96,
           97,
           98,
           99
          ],
          "colorbar": {
           "title": {
            "text": "Trial"
           },
           "x": 1,
           "xpad": 40
          },
          "colorscale": [
           [
            0,
            "rgb(247,251,255)"
           ],
           [
            0.125,
            "rgb(222,235,247)"
           ],
           [
            0.25,
            "rgb(198,219,239)"
           ],
           [
            0.375,
            "rgb(158,202,225)"
           ],
           [
            0.5,
            "rgb(107,174,214)"
           ],
           [
            0.625,
            "rgb(66,146,198)"
           ],
           [
            0.75,
            "rgb(33,113,181)"
           ],
           [
            0.875,
            "rgb(8,81,156)"
           ],
           [
            1,
            "rgb(8,48,107)"
           ]
          ],
          "line": {
           "color": "Grey",
           "width": 0.5
          },
          "showscale": false
         },
         "mode": "markers",
         "name": "Feasible Trial",
         "showlegend": false,
         "type": "scatter",
         "x": [
          7,
          2,
          16,
          19,
          19,
          9,
          7,
          17,
          12,
          4,
          20,
          11,
          20,
          1,
          11,
          1,
          3,
          20,
          1,
          10,
          5,
          18,
          16,
          1,
          8,
          15,
          4,
          5,
          20,
          20,
          13,
          20,
          2,
          5,
          20,
          20,
          20,
          20,
          1,
          6,
          14,
          3,
          4,
          20,
          16,
          1,
          7,
          14,
          19,
          17,
          13,
          3,
          9,
          17,
          20,
          20,
          1,
          4,
          6,
          20,
          17,
          5,
          4,
          20,
          6,
          1,
          20,
          20,
          20,
          20,
          20,
          20,
          4,
          5,
          4,
          4,
          7,
          5,
          20,
          20,
          1,
          20,
          4,
          20,
          1,
          16,
          15,
          20,
          17,
          15,
          15,
          16,
          8,
          4,
          20,
          18,
          20,
          20,
          20,
          20
         ],
         "xaxis": "x3",
         "y": [
          0.8184237637362637,
          0.8322287087912088,
          0.8328296703296703,
          0.8333104395604396,
          0.8325721153846153,
          0.7949004120879122,
          0.7950549450549451,
          0.8374313186813186,
          0.8012706043956044,
          0.8375515109890109,
          0.7235576923076923,
          0.8268372252747254,
          0.8284340659340659,
          0.8355940934065934,
          0.8176854395604396,
          0.749896978021978,
          0.8365556318681318,
          0.8412946428571427,
          0.7638392857142857,
          0.806713598901099,
          0.8422046703296703,
          0.8277300824175825,
          0.8153674450549451,
          0.837963598901099,
          0.749896978021978,
          0.821875,
          0.8508585164835164,
          0.8486950549450549,
          0.8396978021978022,
          0.8457589285714284,
          0.8193853021978021,
          0.8419642857142857,
          0.8337912087912089,
          0.8429086538461539,
          0.8325206043956044,
          0.8241929945054945,
          0.8363495879120879,
          0.841981456043956,
          0.828743131868132,
          0.8257211538461539,
          0.7235576923076923,
          0.7235576923076923,
          0.8534512362637363,
          0.8253090659340658,
          0.8194539835164834,
          0.7327609890109891,
          0.8228537087912088,
          0.749896978021978,
          0.8365899725274725,
          0.8300480769230768,
          0.8193853021978021,
          0.8370707417582418,
          0.8215831043956043,
          0.8225789835164834,
          0.8440934065934066,
          0.8414835164835166,
          0.8093921703296705,
          0.8435267857142857,
          0.8371737637362637,
          0.8401098901098901,
          0.8223557692307691,
          0.8400240384615385,
          0.8450377747252749,
          0.8401957417582417,
          0.8375,
          0.8232142857142858,
          0.8392513736263737,
          0.8090487637362636,
          0.8412603021978022,
          0.8421875,
          0.8400755494505494,
          0.8413118131868131,
          0.8527644230769231,
          0.847287087912088,
          0.8527815934065934,
          0.855460164835165,
          0.8267342032967033,
          0.7985061813186812,
          0.8282108516483516,
          0.8293269230769231,
          0.837603021978022,
          0.8390281593406593,
          0.8572973901098901,
          0.8408482142857142,
          0.8303571428571429,
          0.8364354395604396,
          0.8238667582417583,
          0.8311813186813186,
          0.8243646978021978,
          0.8323660714285713,
          0.8280734890109889,
          0.8314903846153845,
          0.8175652472527473,
          0.8452438186813188,
          0.8435782967032968,
          0.8277300824175825,
          0.749896978021978,
          0.8400755494505494,
          0.8392513736263737,
          0.8291723901098902
         ],
         "yaxis": "y3"
        },
        {
         "marker": {
          "color": [
           0,
           1,
           2,
           3,
           4,
           5,
           6,
           7,
           8,
           9,
           10,
           11,
           12,
           13,
           14,
           15,
           16,
           17,
           18,
           19,
           20,
           21,
           22,
           23,
           24,
           25,
           26,
           27,
           28,
           29,
           30,
           31,
           32,
           33,
           34,
           35,
           36,
           37,
           38,
           39,
           40,
           41,
           42,
           43,
           44,
           45,
           46,
           47,
           48,
           49,
           50,
           51,
           52,
           53,
           54,
           55,
           56,
           57,
           58,
           59,
           60,
           61,
           62,
           63,
           64,
           65,
           66,
           67,
           68,
           69,
           70,
           71,
           72,
           73,
           74,
           75,
           76,
           77,
           78,
           79,
           80,
           81,
           82,
           83,
           84,
           85,
           86,
           87,
           88,
           89,
           90,
           91,
           92,
           93,
           94,
           95,
           96,
           97,
           98,
           99
          ],
          "colorbar": {
           "title": {
            "text": "Trial"
           },
           "x": 1,
           "xpad": 40
          },
          "colorscale": [
           [
            0,
            "rgb(247,251,255)"
           ],
           [
            0.125,
            "rgb(222,235,247)"
           ],
           [
            0.25,
            "rgb(198,219,239)"
           ],
           [
            0.375,
            "rgb(158,202,225)"
           ],
           [
            0.5,
            "rgb(107,174,214)"
           ],
           [
            0.625,
            "rgb(66,146,198)"
           ],
           [
            0.75,
            "rgb(33,113,181)"
           ],
           [
            0.875,
            "rgb(8,81,156)"
           ],
           [
            1,
            "rgb(8,48,107)"
           ]
          ],
          "line": {
           "color": "Grey",
           "width": 0.5
          },
          "showscale": false
         },
         "mode": "markers",
         "name": "Feasible Trial",
         "showlegend": false,
         "type": "scatter",
         "x": [
          18,
          19,
          2,
          5,
          7,
          5,
          12,
          17,
          7,
          5,
          2,
          13,
          2,
          14,
          2,
          2,
          20,
          20,
          2,
          6,
          11,
          2,
          20,
          20,
          20,
          7,
          12,
          20,
          2,
          20,
          20,
          12,
          20,
          14,
          20,
          20,
          12,
          2,
          20,
          15,
          20,
          20,
          14,
          5,
          2,
          2,
          20,
          20,
          20,
          2,
          2,
          13,
          19,
          15,
          10,
          20,
          10,
          20,
          18,
          20,
          2,
          12,
          20,
          14,
          20,
          20,
          14,
          20,
          20,
          2,
          20,
          20,
          17,
          16,
          17,
          17,
          2,
          20,
          20,
          2,
          20,
          2,
          16,
          2,
          20,
          20,
          20,
          20,
          20,
          20,
          20,
          2,
          2,
          20,
          2,
          11,
          2,
          2,
          20,
          2
         ],
         "xaxis": "x4",
         "y": [
          0.8184237637362637,
          0.8322287087912088,
          0.8328296703296703,
          0.8333104395604396,
          0.8325721153846153,
          0.7949004120879122,
          0.7950549450549451,
          0.8374313186813186,
          0.8012706043956044,
          0.8375515109890109,
          0.7235576923076923,
          0.8268372252747254,
          0.8284340659340659,
          0.8355940934065934,
          0.8176854395604396,
          0.749896978021978,
          0.8365556318681318,
          0.8412946428571427,
          0.7638392857142857,
          0.806713598901099,
          0.8422046703296703,
          0.8277300824175825,
          0.8153674450549451,
          0.837963598901099,
          0.749896978021978,
          0.821875,
          0.8508585164835164,
          0.8486950549450549,
          0.8396978021978022,
          0.8457589285714284,
          0.8193853021978021,
          0.8419642857142857,
          0.8337912087912089,
          0.8429086538461539,
          0.8325206043956044,
          0.8241929945054945,
          0.8363495879120879,
          0.841981456043956,
          0.828743131868132,
          0.8257211538461539,
          0.7235576923076923,
          0.7235576923076923,
          0.8534512362637363,
          0.8253090659340658,
          0.8194539835164834,
          0.7327609890109891,
          0.8228537087912088,
          0.749896978021978,
          0.8365899725274725,
          0.8300480769230768,
          0.8193853021978021,
          0.8370707417582418,
          0.8215831043956043,
          0.8225789835164834,
          0.8440934065934066,
          0.8414835164835166,
          0.8093921703296705,
          0.8435267857142857,
          0.8371737637362637,
          0.8401098901098901,
          0.8223557692307691,
          0.8400240384615385,
          0.8450377747252749,
          0.8401957417582417,
          0.8375,
          0.8232142857142858,
          0.8392513736263737,
          0.8090487637362636,
          0.8412603021978022,
          0.8421875,
          0.8400755494505494,
          0.8413118131868131,
          0.8527644230769231,
          0.847287087912088,
          0.8527815934065934,
          0.855460164835165,
          0.8267342032967033,
          0.7985061813186812,
          0.8282108516483516,
          0.8293269230769231,
          0.837603021978022,
          0.8390281593406593,
          0.8572973901098901,
          0.8408482142857142,
          0.8303571428571429,
          0.8364354395604396,
          0.8238667582417583,
          0.8311813186813186,
          0.8243646978021978,
          0.8323660714285713,
          0.8280734890109889,
          0.8314903846153845,
          0.8175652472527473,
          0.8452438186813188,
          0.8435782967032968,
          0.8277300824175825,
          0.749896978021978,
          0.8400755494505494,
          0.8392513736263737,
          0.8291723901098902
         ],
         "yaxis": "y4"
        }
       ],
       "layout": {
        "template": {
         "data": {
          "bar": [
           {
            "error_x": {
             "color": "#2a3f5f"
            },
            "error_y": {
             "color": "#2a3f5f"
            },
            "marker": {
             "line": {
              "color": "#E5ECF6",
              "width": 0.5
             },
             "pattern": {
              "fillmode": "overlay",
              "size": 10,
              "solidity": 0.2
             }
            },
            "type": "bar"
           }
          ],
          "barpolar": [
           {
            "marker": {
             "line": {
              "color": "#E5ECF6",
              "width": 0.5
             },
             "pattern": {
              "fillmode": "overlay",
              "size": 10,
              "solidity": 0.2
             }
            },
            "type": "barpolar"
           }
          ],
          "carpet": [
           {
            "aaxis": {
             "endlinecolor": "#2a3f5f",
             "gridcolor": "white",
             "linecolor": "white",
             "minorgridcolor": "white",
             "startlinecolor": "#2a3f5f"
            },
            "baxis": {
             "endlinecolor": "#2a3f5f",
             "gridcolor": "white",
             "linecolor": "white",
             "minorgridcolor": "white",
             "startlinecolor": "#2a3f5f"
            },
            "type": "carpet"
           }
          ],
          "choropleth": [
           {
            "colorbar": {
             "outlinewidth": 0,
             "ticks": ""
            },
            "type": "choropleth"
           }
          ],
          "contour": [
           {
            "colorbar": {
             "outlinewidth": 0,
             "ticks": ""
            },
            "colorscale": [
             [
              0,
              "#0d0887"
             ],
             [
              0.1111111111111111,
              "#46039f"
             ],
             [
              0.2222222222222222,
              "#7201a8"
             ],
             [
              0.3333333333333333,
              "#9c179e"
             ],
             [
              0.4444444444444444,
              "#bd3786"
             ],
             [
              0.5555555555555556,
              "#d8576b"
             ],
             [
              0.6666666666666666,
              "#ed7953"
             ],
             [
              0.7777777777777778,
              "#fb9f3a"
             ],
             [
              0.8888888888888888,
              "#fdca26"
             ],
             [
              1,
              "#f0f921"
             ]
            ],
            "type": "contour"
           }
          ],
          "contourcarpet": [
           {
            "colorbar": {
             "outlinewidth": 0,
             "ticks": ""
            },
            "type": "contourcarpet"
           }
          ],
          "heatmap": [
           {
            "colorbar": {
             "outlinewidth": 0,
             "ticks": ""
            },
            "colorscale": [
             [
              0,
              "#0d0887"
             ],
             [
              0.1111111111111111,
              "#46039f"
             ],
             [
              0.2222222222222222,
              "#7201a8"
             ],
             [
              0.3333333333333333,
              "#9c179e"
             ],
             [
              0.4444444444444444,
              "#bd3786"
             ],
             [
              0.5555555555555556,
              "#d8576b"
             ],
             [
              0.6666666666666666,
              "#ed7953"
             ],
             [
              0.7777777777777778,
              "#fb9f3a"
             ],
             [
              0.8888888888888888,
              "#fdca26"
             ],
             [
              1,
              "#f0f921"
             ]
            ],
            "type": "heatmap"
           }
          ],
          "heatmapgl": [
           {
            "colorbar": {
             "outlinewidth": 0,
             "ticks": ""
            },
            "colorscale": [
             [
              0,
              "#0d0887"
             ],
             [
              0.1111111111111111,
              "#46039f"
             ],
             [
              0.2222222222222222,
              "#7201a8"
             ],
             [
              0.3333333333333333,
              "#9c179e"
             ],
             [
              0.4444444444444444,
              "#bd3786"
             ],
             [
              0.5555555555555556,
              "#d8576b"
             ],
             [
              0.6666666666666666,
              "#ed7953"
             ],
             [
              0.7777777777777778,
              "#fb9f3a"
             ],
             [
              0.8888888888888888,
              "#fdca26"
             ],
             [
              1,
              "#f0f921"
             ]
            ],
            "type": "heatmapgl"
           }
          ],
          "histogram": [
           {
            "marker": {
             "pattern": {
              "fillmode": "overlay",
              "size": 10,
              "solidity": 0.2
             }
            },
            "type": "histogram"
           }
          ],
          "histogram2d": [
           {
            "colorbar": {
             "outlinewidth": 0,
             "ticks": ""
            },
            "colorscale": [
             [
              0,
              "#0d0887"
             ],
             [
              0.1111111111111111,
              "#46039f"
             ],
             [
              0.2222222222222222,
              "#7201a8"
             ],
             [
              0.3333333333333333,
              "#9c179e"
             ],
             [
              0.4444444444444444,
              "#bd3786"
             ],
             [
              0.5555555555555556,
              "#d8576b"
             ],
             [
              0.6666666666666666,
              "#ed7953"
             ],
             [
              0.7777777777777778,
              "#fb9f3a"
             ],
             [
              0.8888888888888888,
              "#fdca26"
             ],
             [
              1,
              "#f0f921"
             ]
            ],
            "type": "histogram2d"
           }
          ],
          "histogram2dcontour": [
           {
            "colorbar": {
             "outlinewidth": 0,
             "ticks": ""
            },
            "colorscale": [
             [
              0,
              "#0d0887"
             ],
             [
              0.1111111111111111,
              "#46039f"
             ],
             [
              0.2222222222222222,
              "#7201a8"
             ],
             [
              0.3333333333333333,
              "#9c179e"
             ],
             [
              0.4444444444444444,
              "#bd3786"
             ],
             [
              0.5555555555555556,
              "#d8576b"
             ],
             [
              0.6666666666666666,
              "#ed7953"
             ],
             [
              0.7777777777777778,
              "#fb9f3a"
             ],
             [
              0.8888888888888888,
              "#fdca26"
             ],
             [
              1,
              "#f0f921"
             ]
            ],
            "type": "histogram2dcontour"
           }
          ],
          "mesh3d": [
           {
            "colorbar": {
             "outlinewidth": 0,
             "ticks": ""
            },
            "type": "mesh3d"
           }
          ],
          "parcoords": [
           {
            "line": {
             "colorbar": {
              "outlinewidth": 0,
              "ticks": ""
             }
            },
            "type": "parcoords"
           }
          ],
          "pie": [
           {
            "automargin": true,
            "type": "pie"
           }
          ],
          "scatter": [
           {
            "fillpattern": {
             "fillmode": "overlay",
             "size": 10,
             "solidity": 0.2
            },
            "type": "scatter"
           }
          ],
          "scatter3d": [
           {
            "line": {
             "colorbar": {
              "outlinewidth": 0,
              "ticks": ""
             }
            },
            "marker": {
             "colorbar": {
              "outlinewidth": 0,
              "ticks": ""
             }
            },
            "type": "scatter3d"
           }
          ],
          "scattercarpet": [
           {
            "marker": {
             "colorbar": {
              "outlinewidth": 0,
              "ticks": ""
             }
            },
            "type": "scattercarpet"
           }
          ],
          "scattergeo": [
           {
            "marker": {
             "colorbar": {
              "outlinewidth": 0,
              "ticks": ""
             }
            },
            "type": "scattergeo"
           }
          ],
          "scattergl": [
           {
            "marker": {
             "colorbar": {
              "outlinewidth": 0,
              "ticks": ""
             }
            },
            "type": "scattergl"
           }
          ],
          "scattermapbox": [
           {
            "marker": {
             "colorbar": {
              "outlinewidth": 0,
              "ticks": ""
             }
            },
            "type": "scattermapbox"
           }
          ],
          "scatterpolar": [
           {
            "marker": {
             "colorbar": {
              "outlinewidth": 0,
              "ticks": ""
             }
            },
            "type": "scatterpolar"
           }
          ],
          "scatterpolargl": [
           {
            "marker": {
             "colorbar": {
              "outlinewidth": 0,
              "ticks": ""
             }
            },
            "type": "scatterpolargl"
           }
          ],
          "scatterternary": [
           {
            "marker": {
             "colorbar": {
              "outlinewidth": 0,
              "ticks": ""
             }
            },
            "type": "scatterternary"
           }
          ],
          "surface": [
           {
            "colorbar": {
             "outlinewidth": 0,
             "ticks": ""
            },
            "colorscale": [
             [
              0,
              "#0d0887"
             ],
             [
              0.1111111111111111,
              "#46039f"
             ],
             [
              0.2222222222222222,
              "#7201a8"
             ],
             [
              0.3333333333333333,
              "#9c179e"
             ],
             [
              0.4444444444444444,
              "#bd3786"
             ],
             [
              0.5555555555555556,
              "#d8576b"
             ],
             [
              0.6666666666666666,
              "#ed7953"
             ],
             [
              0.7777777777777778,
              "#fb9f3a"
             ],
             [
              0.8888888888888888,
              "#fdca26"
             ],
             [
              1,
              "#f0f921"
             ]
            ],
            "type": "surface"
           }
          ],
          "table": [
           {
            "cells": {
             "fill": {
              "color": "#EBF0F8"
             },
             "line": {
              "color": "white"
             }
            },
            "header": {
             "fill": {
              "color": "#C8D4E3"
             },
             "line": {
              "color": "white"
             }
            },
            "type": "table"
           }
          ]
         },
         "layout": {
          "annotationdefaults": {
           "arrowcolor": "#2a3f5f",
           "arrowhead": 0,
           "arrowwidth": 1
          },
          "autotypenumbers": "strict",
          "coloraxis": {
           "colorbar": {
            "outlinewidth": 0,
            "ticks": ""
           }
          },
          "colorscale": {
           "diverging": [
            [
             0,
             "#8e0152"
            ],
            [
             0.1,
             "#c51b7d"
            ],
            [
             0.2,
             "#de77ae"
            ],
            [
             0.3,
             "#f1b6da"
            ],
            [
             0.4,
             "#fde0ef"
            ],
            [
             0.5,
             "#f7f7f7"
            ],
            [
             0.6,
             "#e6f5d0"
            ],
            [
             0.7,
             "#b8e186"
            ],
            [
             0.8,
             "#7fbc41"
            ],
            [
             0.9,
             "#4d9221"
            ],
            [
             1,
             "#276419"
            ]
           ],
           "sequential": [
            [
             0,
             "#0d0887"
            ],
            [
             0.1111111111111111,
             "#46039f"
            ],
            [
             0.2222222222222222,
             "#7201a8"
            ],
            [
             0.3333333333333333,
             "#9c179e"
            ],
            [
             0.4444444444444444,
             "#bd3786"
            ],
            [
             0.5555555555555556,
             "#d8576b"
            ],
            [
             0.6666666666666666,
             "#ed7953"
            ],
            [
             0.7777777777777778,
             "#fb9f3a"
            ],
            [
             0.8888888888888888,
             "#fdca26"
            ],
            [
             1,
             "#f0f921"
            ]
           ],
           "sequentialminus": [
            [
             0,
             "#0d0887"
            ],
            [
             0.1111111111111111,
             "#46039f"
            ],
            [
             0.2222222222222222,
             "#7201a8"
            ],
            [
             0.3333333333333333,
             "#9c179e"
            ],
            [
             0.4444444444444444,
             "#bd3786"
            ],
            [
             0.5555555555555556,
             "#d8576b"
            ],
            [
             0.6666666666666666,
             "#ed7953"
            ],
            [
             0.7777777777777778,
             "#fb9f3a"
            ],
            [
             0.8888888888888888,
             "#fdca26"
            ],
            [
             1,
             "#f0f921"
            ]
           ]
          },
          "colorway": [
           "#636efa",
           "#EF553B",
           "#00cc96",
           "#ab63fa",
           "#FFA15A",
           "#19d3f3",
           "#FF6692",
           "#B6E880",
           "#FF97FF",
           "#FECB52"
          ],
          "font": {
           "color": "#2a3f5f"
          },
          "geo": {
           "bgcolor": "white",
           "lakecolor": "white",
           "landcolor": "#E5ECF6",
           "showlakes": true,
           "showland": true,
           "subunitcolor": "white"
          },
          "hoverlabel": {
           "align": "left"
          },
          "hovermode": "closest",
          "mapbox": {
           "style": "light"
          },
          "paper_bgcolor": "white",
          "plot_bgcolor": "#E5ECF6",
          "polar": {
           "angularaxis": {
            "gridcolor": "white",
            "linecolor": "white",
            "ticks": ""
           },
           "bgcolor": "#E5ECF6",
           "radialaxis": {
            "gridcolor": "white",
            "linecolor": "white",
            "ticks": ""
           }
          },
          "scene": {
           "xaxis": {
            "backgroundcolor": "#E5ECF6",
            "gridcolor": "white",
            "gridwidth": 2,
            "linecolor": "white",
            "showbackground": true,
            "ticks": "",
            "zerolinecolor": "white"
           },
           "yaxis": {
            "backgroundcolor": "#E5ECF6",
            "gridcolor": "white",
            "gridwidth": 2,
            "linecolor": "white",
            "showbackground": true,
            "ticks": "",
            "zerolinecolor": "white"
           },
           "zaxis": {
            "backgroundcolor": "#E5ECF6",
            "gridcolor": "white",
            "gridwidth": 2,
            "linecolor": "white",
            "showbackground": true,
            "ticks": "",
            "zerolinecolor": "white"
           }
          },
          "shapedefaults": {
           "line": {
            "color": "#2a3f5f"
           }
          },
          "ternary": {
           "aaxis": {
            "gridcolor": "white",
            "linecolor": "white",
            "ticks": ""
           },
           "baxis": {
            "gridcolor": "white",
            "linecolor": "white",
            "ticks": ""
           },
           "bgcolor": "#E5ECF6",
           "caxis": {
            "gridcolor": "white",
            "linecolor": "white",
            "ticks": ""
           }
          },
          "title": {
           "x": 0.05
          },
          "xaxis": {
           "automargin": true,
           "gridcolor": "white",
           "linecolor": "white",
           "ticks": "",
           "title": {
            "standoff": 15
           },
           "zerolinecolor": "white",
           "zerolinewidth": 2
          },
          "yaxis": {
           "automargin": true,
           "gridcolor": "white",
           "linecolor": "white",
           "ticks": "",
           "title": {
            "standoff": 15
           },
           "zerolinecolor": "white",
           "zerolinewidth": 2
          }
         }
        },
        "title": {
         "text": "Slice Plot"
        },
        "width": 1200,
        "xaxis": {
         "anchor": "y",
         "categoryarray": [
          "gini",
          "entropy"
         ],
         "categoryorder": "array",
         "domain": [
          0,
          0.2125
         ],
         "title": {
          "text": "criterion"
         },
         "type": "category"
        },
        "xaxis2": {
         "anchor": "y2",
         "domain": [
          0.2625,
          0.475
         ],
         "title": {
          "text": "max_depth"
         }
        },
        "xaxis3": {
         "anchor": "y3",
         "domain": [
          0.525,
          0.7375
         ],
         "title": {
          "text": "min_samples_leaf"
         }
        },
        "xaxis4": {
         "anchor": "y4",
         "domain": [
          0.7875,
          1
         ],
         "title": {
          "text": "min_samples_split"
         }
        },
        "yaxis": {
         "anchor": "x",
         "domain": [
          0,
          1
         ],
         "title": {
          "text": "Objective Value"
         }
        },
        "yaxis2": {
         "anchor": "x2",
         "domain": [
          0,
          1
         ],
         "matches": "y",
         "showticklabels": false
        },
        "yaxis3": {
         "anchor": "x3",
         "domain": [
          0,
          1
         ],
         "matches": "y",
         "showticklabels": false
        },
        "yaxis4": {
         "anchor": "x4",
         "domain": [
          0,
          1
         ],
         "matches": "y",
         "showticklabels": false
        }
       }
      }
     },
     "metadata": {},
     "output_type": "display_data"
    }
   ],
   "source": [
    "optuna.visualization.plot_slice(study)"
   ]
  },
  {
   "cell_type": "code",
   "execution_count": 17,
   "metadata": {},
   "outputs": [
    {
     "name": "stdout",
     "output_type": "stream",
     "text": [
      "Accuracy: 0.8044 ± 0.0670\n",
      "AUC-ROC: 0.8508 ± 0.0634\n"
     ]
    },
    {
     "data": {
      "image/png": "[encoded data removed]",
      "text/plain": [
       "<Figure size 640x480 with 1 Axes>"
      ]
     },
     "metadata": {},
     "output_type": "display_data"
    }
   ],
   "source": [
    "# Create optimized model\n",
    "best_params = trial.params\n",
    "model = tree.DecisionTreeClassifier(random_state=Random_Seed, **best_params)\n",
    "\n",
    "# Define pipeline depending on whether PCA is requested or not\n",
    "if PC_Features:\n",
    "    steps = [\n",
    "        ('preprocessor', preprocessor),\n",
    "        ('pca', PCA(n_components=12)),\n",
    "        ('DT-classifier', model)\n",
    "    ]\n",
    "else:\n",
    "    steps = [\n",
    "        ('preprocessor', preprocessor),\n",
    "        ('DT-classifier', model)\n",
    "    ]\n",
    "    \n",
    "pipeline = Pipeline(steps)\n",
    "\n",
    "# Perform cross-validation\n",
    "cv_results = cross_validate(pipeline, X, y, scoring=['accuracy', 'roc_auc'], cv=K_Folds)\n",
    "\n",
    "# Calculate and display results\n",
    "acc = np.mean(cv_results['test_accuracy'])\n",
    "acc_std = np.std(cv_results['test_accuracy'])\n",
    "roc_auc = np.mean(cv_results['test_roc_auc'])\n",
    "roc_auc_std = np.std(cv_results['test_roc_auc'])\n",
    "\n",
    "print(f\"Accuracy: {acc:.4f} ± {acc_std:.4f}\")\n",
    "print(f\"AUC-ROC: {roc_auc:.4f} ± {roc_auc_std:.4f}\")\n",
    "\n",
    "# Plot decision tree\n",
    "preprocessor.fit_transform(X)\n",
    "PCA(n_components=12).fit_transform(X)\n",
    "model.fit(X, y)\n",
    "plot = tree.plot_tree(model)\n",
    "\n",
    "# Stop emission tracking\n",
    "_ = tracker.stop()\n"
   ]
  },
  {
   "cell_type": "code",
   "execution_count": 18,
   "metadata": {},
   "outputs": [],
   "source": [
    "# Save evaluation to an external file\n",
    "file = 'scores.csv'\n",
    "\n",
    "results = pd.DataFrame({\n",
    "    'DT-optimization': [acc, acc_std, roc_auc, roc_auc_std]\n",
    "}, index = ['Accuracy', 'Accuracy STD', 'AUC-ROC', 'AUC-ROC STD'])\n",
    "\n",
    "# Check if file exists\n",
    "if os.path.exists(file):\n",
    "    temp = pd.read_csv(file, index_col=0)\n",
    "    results = pd.concat([temp, results], axis=1)\n",
    "\n",
    "# Export\n",
    "results.to_csv(file)"
   ]
  },
  {
   "attachments": {},
   "cell_type": "markdown",
   "metadata": {},
   "source": [
    "### References:\n",
    "* https://scikit-learn.org/stable/modules/generated/sklearn.linear_model.LogisticRegression.html\n",
    "* https://scikit-learn.org/stable/modules/tree.html"
   ]
  }
 ],
 "metadata": {
  "kernelspec": {
   "display_name": "base",
   "language": "python",
   "name": "python3"
  },
  "language_info": {
   "codemirror_mode": {
    "name": "ipython",
    "version": 3
   },
   "file_extension": ".py",
   "mimetype": "text/x-python",
   "name": "python",
   "nbconvert_exporter": "python",
   "pygments_lexer": "ipython3",
   "version": "3.10.12"
  },
  "orig_nbformat": 4
 },
 "nbformat": 4,
 "nbformat_minor": 2
}

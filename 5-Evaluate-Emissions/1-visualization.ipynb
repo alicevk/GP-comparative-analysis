{
 "cells": [
  {
   "cell_type": "markdown",
   "metadata": {},
   "source": [
    "# Carbon emission visualization\n",
    "\n",
    "<hr>\n",
    "\n",
    "This notebook provides a clear and impactful visualization of carbon emissions for each of the algorithms analyzed. Understanding these emissions is crucial both for awareness and for making informed comparisons between models.\n",
    "\n",
    "<hr>\n"
   ]
  },
  {
   "cell_type": "code",
   "execution_count": 1,
   "metadata": {},
   "outputs": [],
   "source": [
    "import pandas as pd"
   ]
  },
  {
   "cell_type": "code",
   "execution_count": 2,
   "metadata": {},
   "outputs": [],
   "source": [
    "df = pd.concat([\n",
    "    pd.read_csv('../2-GP-Implementation/emissions.csv'),\n",
    "    pd.read_csv('../3-Hyperparameter-Optimization/emissions.csv'),\n",
    "    pd.read_csv('../4-Alternative-Models/emissions.csv')\n",
    "])\n",
    "\n",
    "model_df = df[df['project_name'].str.contains('model')]\n",
    "optim_df = df[df['project_name'].str.contains('optimization')]"
   ]
  }
 ],
 "metadata": {
  "kernelspec": {
   "display_name": "Python 3",
   "language": "python",
   "name": "python3"
  },
  "language_info": {
   "codemirror_mode": {
    "name": "ipython",
    "version": 3
   },
   "file_extension": ".py",
   "mimetype": "text/x-python",
   "name": "python",
   "nbconvert_exporter": "python",
   "pygments_lexer": "ipython3",
   "version": "3.10.12"
  },
  "orig_nbformat": 4
 },
 "nbformat": 4,
 "nbformat_minor": 2
}
